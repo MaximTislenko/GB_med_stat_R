{
  "nbformat": 4,
  "nbformat_minor": 0,
  "metadata": {
    "colab": {
      "provenance": [],
      "include_colab_link": true
    },
    "kernelspec": {
      "name": "ir",
      "display_name": "R"
    },
    "language_info": {
      "name": "R"
    }
  },
  "cells": [
    {
      "cell_type": "markdown",
      "metadata": {
        "id": "view-in-github",
        "colab_type": "text"
      },
      "source": [
        "<a href=\"https://colab.research.google.com/github/MaximTislenko/GB_med_stat_R/blob/main/%D0%94%D0%BE%D0%BF_%D1%83%D0%BF%D1%80%D0%B0%D0%B2%D0%BB%D0%B5%D0%BD%D0%B8%D0%B5_04.ipynb\" target=\"_parent\"><img src=\"https://colab.research.google.com/assets/colab-badge.svg\" alt=\"Open In Colab\"/></a>"
      ]
    },
    {
      "cell_type": "markdown",
      "source": [
        "# Дополнительные приемы управления данными\n",
        "В главе 3 мы рассмотрели основные способы управления наборами данных в R. В этой главе мы сосредоточимся на более сложных подходах. Глава делится на три основные части. В первой части мы кратко познакомимся с многочисленными функциями, выполняющими математические и статистические вычисления, а также преобразование текстовых значений. Для придания этой части большей актуальности мы начнем с описания задачи по преобразованию данных, которую можно решить с использованием этих функций. После знакомства с функциями мы рассмотрим одно из возможных решений данной задачи.\n",
        "\n",
        "Затем мы поговорим о том, как писать свои собственные функции для управления данными и их анализа. Сначала мы исследуем способы управления потоком выполнения инструкций с использованием циклов и условных операторов. Потом познакомимся со структурой пользовательских функций и узнаем, как их применять.\n",
        "\n",
        "Наконец, мы рассмотрим способы агрегирования, обобщения и преобразования наборов данных. При агрегировании данных можно использовать любые встроенные или написанные пользователем функции, поэтому знания, полученные в первых двух разделах этой главы, вам действительно пригодятся."
      ],
      "metadata": {
        "id": "yaZVoNFFoC1F"
      }
    },
    {
      "cell_type": "code",
      "execution_count": 1,
      "metadata": {
        "id": "AdrY4BSy4w1z",
        "outputId": "f6afa412-ff45-45a2-f553-ceafde7845bd",
        "colab": {
          "base_uri": "https://localhost:8080/"
        }
      },
      "outputs": [
        {
          "output_type": "stream",
          "name": "stderr",
          "text": [
            "── \u001b[1mAttaching core tidyverse packages\u001b[22m ──────────────────────── tidyverse 2.0.0 ──\n",
            "\u001b[32m✔\u001b[39m \u001b[34mdplyr    \u001b[39m 1.1.4     \u001b[32m✔\u001b[39m \u001b[34mreadr    \u001b[39m 2.1.5\n",
            "\u001b[32m✔\u001b[39m \u001b[34mforcats  \u001b[39m 1.0.0     \u001b[32m✔\u001b[39m \u001b[34mstringr  \u001b[39m 1.5.1\n",
            "\u001b[32m✔\u001b[39m \u001b[34mggplot2  \u001b[39m 3.4.4     \u001b[32m✔\u001b[39m \u001b[34mtibble   \u001b[39m 3.2.1\n",
            "\u001b[32m✔\u001b[39m \u001b[34mlubridate\u001b[39m 1.9.3     \u001b[32m✔\u001b[39m \u001b[34mtidyr    \u001b[39m 1.3.1\n",
            "\u001b[32m✔\u001b[39m \u001b[34mpurrr    \u001b[39m 1.0.2     \n",
            "── \u001b[1mConflicts\u001b[22m ────────────────────────────────────────── tidyverse_conflicts() ──\n",
            "\u001b[31m✖\u001b[39m \u001b[34mpurrr\u001b[39m::\u001b[32m%||%()\u001b[39m   masks \u001b[34mbase\u001b[39m::%||%()\n",
            "\u001b[31m✖\u001b[39m \u001b[34mdplyr\u001b[39m::\u001b[32mfilter()\u001b[39m masks \u001b[34mstats\u001b[39m::filter()\n",
            "\u001b[31m✖\u001b[39m \u001b[34mdplyr\u001b[39m::\u001b[32mlag()\u001b[39m    masks \u001b[34mstats\u001b[39m::lag()\n",
            "\u001b[36mℹ\u001b[39m Use the conflicted package (\u001b[3m\u001b[34m<http://conflicted.r-lib.org/>\u001b[39m\u001b[23m) to force all conflicts to become errors\n"
          ]
        }
      ],
      "source": [
        "library(tidyverse)\n",
        "library(readxl)"
      ]
    },
    {
      "cell_type": "markdown",
      "source": [
        "## Задача по управлению данными\n",
        "Прежде чем начинать обсуждение числовых и текстовых функций, определим задачу, которую затем будем решать. Группа студентов сдавала экзамены по математике, естественным наукам и английскому языку. Полученные ими баллы по трем предметам нужно объединить и получить единый показатель успеваемости для каждого студента. Кроме того, необходимо поставить оценку A первым по успеваемости 20 % студентов, оценку B – следующим по успеваемости 20 % и т. д. Наконец, список студентов нужно\n",
        "отсортировать в алфавитном порядке.\n",
        "\n",
        "\\begin{array}{l|c|c|c}\n",
        "Студент&Математика&Естественные~науки&Английский~язык\\\\\\hline\n",
        "John~Davis&502&95&25\\\\\n",
        "Angela~Williams&600&99&22\\\\\n",
        "Bullwinkie~Moose&412&80&18\\\\\n",
        "David~Jones&358&82&15\\\\\n",
        "Janice~Markhammer&495&75&20\\\\\n",
        "Cheryl~Cushing&512&85&28\\\\\n",
        "Reuven~Ytzrhak&410&80&15\\\\\n",
        "Greg~Knox&625&95&30\\\\\n",
        "Joel~England&573&89&27\\\\\n",
        "Mary~Rayburn&522&86&18\n",
        "\\end{array}\n",
        "\n",
        "При взгляде на эти данные сразу можно заметить несколько проблем. Во-первых, баллы, полученные на экзаменах по разным предметам, несопоставимы между собой. Их средние значения и стандартные отклонения сильно различаются, поэтому усреднять их не имеет смысла. Для вычисления единого показателя успеваемости необходимо преобразовать эти баллы так, чтобы их можно было сопоставлять между собой. Во-вторых, нам понадобится метод для определения мест студентов в общем рейтинге успеваемости, чтобы поставить им итоговую оценку. В-третьих, для нормальной сортировки студентов в алфавитном порядке нужно разбить первый столбец на два – с именем и фамилией.\n",
        "\n",
        "Все перечисленные проблемы можно устранить с помощью числовых и текстовых функций в R. После знакомства с функциями в следующем разделе мы сможем найти подходящее решение для нашей задачи по управлению данными.\n"
      ],
      "metadata": {
        "id": "rFYdUlL23LZO"
      }
    },
    {
      "cell_type": "markdown",
      "source": [
        "## Числовые и текстовые функции\n",
        "В этом разделе перечисляются функции R, которые можно использовать для управления данными. Их можно разделить на числовые (математические, статистические, вероятностные) и текстовые. После знакомства с функциями обоих типов я покажу вам, как применять их к столбцам (переменным) и строкам (наблюдениям) таблиц данных"
      ],
      "metadata": {
        "id": "O6G6NOZa2BJS"
      }
    },
    {
      "cell_type": "markdown",
      "source": [
        "### Математические функции\n",
        "\\begin{array}{r|l}\n",
        "Функция&Описание\\\\\\hline\n",
        "abs(x)&Абсолютное~значение\\\\\n",
        "~&abs(-4)~вернет~4\\\\\\hline\n",
        "sqrt(x)&Квадратный~корень\\\\\n",
        "~&sqrt(25)~вернет~5\\\\\n",
        "~&То~же~самое, что~и~25**(0.5)\\\\\\hline\n",
        "ceiling(x)&Ближайшее~целое~число, не~меньшее, чем~x\\\\\n",
        "~&ceiling(3.457)~вернет~4\\\\\\hline\n",
        "floor(x)&Ближайшее~целое~число, не~большее, чем~x\\\\\n",
        "~&floor(3.457)~вернет~3\\\\\\hline\n",
        "trunk(x)&Целое~число, полученное~округлением~x~в~сторону~нуля\\\\\n",
        "~&trunk(5.99)~вернет~5\\\\\\hline\n",
        "round(x,~ digits=n)&Округляет~x~до~заданного~числа~знаков~n~после~запятой\\\\\n",
        "~&round(3.475,~digits=2)~вернет~3.48\\\\\\hline\n",
        "signif(x,~digits=n)&Округляет~x~до~заданного~числа~n~значащих~цифр\\\\\n",
        "~&signif(3.475,~digits=2)~вернет~3.5\\\\\\hline\n",
        "cos(x), sin(x), tan(x)&Косинус, синус~и~тангенс\\\\\n",
        "~&cos(2) вернет –0.416\\\\\\hline\n",
        "acos(x), asin(x),atan(x)&Арккосинус, арксинус~и~арктангенс\\\\\n",
        "~&acos(-0.416)~вернет~2\\\\\\hline\n",
        "cosh(x), sinh(x), tanh(x)&Гиперболические~косинус, синус~и~тангенс\\\\\n",
        "~&sinh(2)~вернет~3.627\\\\\\hline\n",
        "acosh(x), asinh(x), atanh(x)&Гиперболические~арккосинус, арксинус~и~арктангенс\\\\\n",
        "~&asinh(3.627)~вернет~2\\\\\\hline\n",
        "log(x,~base=n)&Логарифм~x~по~основанию~n\\\\\n",
        "log(x)&Для~удобства:\\\\\n",
        "log10(x)&log(x) – натуральный~логарифм\\\\\n",
        "~&log10(x) – десятичный логарифм\\\\\n",
        "~&log(10)~вернет~2.3026\\\\\n",
        "~&log10(10)~вернет~1\\\\\\hline\n",
        "exp(x)&Экспоненциальная~функция\\\\\n",
        "~&exp(2.3026)~вернет~10\\\\\\hline\n",
        "\\end{array}\n",
        "\n",
        "В основном эти функции применяются для преобразования данных. К примеру, данные с положительно асимметричным распределением перед дальнейшей обработкой обычно логарифмируют. Математические функции также используют при реализации вычислений по формулам, создании графиков (например, кривая зависимости `x` от `sin(x)`) и форматировании числовых значений перед выводом на экран.\n",
        "\n",
        "В таблице показаны примеры применения математических функций к скалярам (отдельным числам). Когда эти функции применяются к числовым векторам, матрицам или таблицам данных, они преобразуют каждое число отдельно. Например, `sqrt(c(4, 16, 25))` вернет вектор `c(2, 4, 5)`."
      ],
      "metadata": {
        "id": "ZRHf4Cxz3Fkr"
      }
    },
    {
      "cell_type": "markdown",
      "source": [
        "### Статистические функции\n",
        "\n",
        "Самые распространенные статистические функции перечислены\n",
        "в таблице ниже. Многие из них принимают дополнительные параметры, влияющие на результат. Например,\n",
        "```\n",
        "y <- mean(x)\n",
        "```\n",
        "вычислит среднее арифметическое по всем элементам объекта x, а\n",
        "```\n",
        "z <- mean(x, trim = 0.05, na.rm=TRUE)\n",
        "```\n",
        "вычислит усеченное среднее, исключив 5 % наибольших и 5 % наименьших значений в выборке, а также пропущенные значения. Используйте `help()`, чтобы узнать больше о каждой функции и ее аргументах.\n",
        "\n",
        "\\begin{array}{r|l}\n",
        "Функция&Описание\\\\\\hline\n",
        "mean(x)&Среднее~арифметическое\\\\\n",
        "~&mean(c(1,2,3,4))~вернет~2.5\\\\\\hline\n",
        "median(x)&Медиана\\\\\n",
        "~&median(c(1,2,3,4))~вернет~2.5\\\\\\hline\n",
        "sd(x)&Стандартное~отклонение\\\\\n",
        "~&sd(c(1,2,3,4))~вернет~1.29\\\\\\hline\n",
        "var(x)&Дисперсия\\\\\n",
        "~&var(c(1,2,3,4))~вернет~1.67\\\\\\hline\n",
        "mad(x)&Абсолютное~отклонение~медианы\\\\\n",
        "~&mad(c(1,2,3,4))~вернет~1.48\\\\\\hline\n",
        "quantile(x,~probs)&Квантили, где~x~–~числовой~вектор, для~которого~вычисляются~квантили,\\\\\n",
        "~&а~probs~–~числовой~вектор~с~вероятностями~в~диапазоне~[0; 1]\\\\\n",
        "~&\\# 30^й~и~84^й~процентили~x\\\\\n",
        "~&y <- quantile(x, c(.3,.84))\\\\\\hline\n",
        "range(x)&Размах~значений\\\\\n",
        "~&x <- c(1,2,3,4)\\\\\n",
        "~&range(x)~ вернет~ c(1,4).\\\\\n",
        "~&diff(range(x))~ вернет~3\\\\\\hline\n",
        "sum(x)&Сумма\\\\\n",
        "~&sum(c(1,2,3,4))~ вернет~ 10\\\\\\hline\n",
        "diff(x,~ lag=n)&Разности~между~значениями~в~выборке, взятыми~с~заданным~интервалом\\\\\n",
        "~&lag.~По~умолчанию~интервал~равен~1.\\\\\n",
        "~&x <- c(1,5,23,29)\\\\\n",
        "~&diff(x)~вернет~c(4, 18, 6)\\\\\\hline\n",
        "min(x)&Минимум\\\\\n",
        "~&min(c(1,2,3,4))~вернет~1\\\\\\hline\n",
        "max(x)&Максимум\\\\\n",
        "~&max(c(1,2,3,4))~вернет~4\\\\\\hline\n",
        "scale(x,&Значения~объекта~x,~центрированные~(center=TRUE)~или~стандартизиро-\\\\\n",
        "center=TRUE,&ванные~(center=TRUE,~scale=TRUE)~по~столбцам.~Пример~использования\\\\\n",
        "scale=TRUE)&приводится~в~листинге~ниже.\\\\\\hline\n",
        "\\end{array}\n",
        "\n"
      ],
      "metadata": {
        "id": "HfKq8XjVcUem"
      }
    },
    {
      "cell_type": "code",
      "source": [],
      "metadata": {
        "id": "T0RdkI5HLPsH"
      },
      "execution_count": 2,
      "outputs": []
    },
    {
      "cell_type": "code",
      "source": [
        "x <- c(1,2,3,4,5,6,7,8)"
      ],
      "metadata": {
        "id": "A5CZ-kYVtyGB"
      },
      "execution_count": 3,
      "outputs": []
    },
    {
      "cell_type": "code",
      "source": [
        "# Стеднее арифметическое\n",
        "mean(x)"
      ],
      "metadata": {
        "id": "iQ2iJZnmt1JK",
        "outputId": "a2057c53-d746-435a-800d-442477a99ef8",
        "colab": {
          "base_uri": "https://localhost:8080/",
          "height": 34
        }
      },
      "execution_count": 4,
      "outputs": [
        {
          "output_type": "display_data",
          "data": {
            "text/html": [
              "4.5"
            ],
            "text/markdown": "4.5",
            "text/latex": "4.5",
            "text/plain": [
              "[1] 4.5"
            ]
          },
          "metadata": {}
        }
      ]
    },
    {
      "cell_type": "code",
      "source": [
        "# Стандартное отклонение\n",
        "sd(x)"
      ],
      "metadata": {
        "id": "YGLnfvCSuHFh",
        "outputId": "85e5b76e-be29-4664-d45e-3736ecd6d53c",
        "colab": {
          "base_uri": "https://localhost:8080/",
          "height": 34
        }
      },
      "execution_count": 5,
      "outputs": [
        {
          "output_type": "display_data",
          "data": {
            "text/html": [
              "2.44948974278318"
            ],
            "text/markdown": "2.44948974278318",
            "text/latex": "2.44948974278318",
            "text/plain": [
              "[1] 2.44949"
            ]
          },
          "metadata": {}
        }
      ]
    },
    {
      "cell_type": "code",
      "source": [
        "# Долгий способ\n",
        "n <- length(x)\n",
        "meanx <- sum(x)/n\n",
        "css <- sum((x - meanx)^2)\n",
        "sdx <- sqrt(css / (n-1))\n",
        "meanx\n",
        "sdx"
      ],
      "metadata": {
        "id": "5iykUU87ueGR",
        "outputId": "a95accca-bc09-4bb7-ed39-e0cfe60cb8a1",
        "colab": {
          "base_uri": "https://localhost:8080/",
          "height": 52
        }
      },
      "execution_count": 6,
      "outputs": [
        {
          "output_type": "display_data",
          "data": {
            "text/html": [
              "4.5"
            ],
            "text/markdown": "4.5",
            "text/latex": "4.5",
            "text/plain": [
              "[1] 4.5"
            ]
          },
          "metadata": {}
        },
        {
          "output_type": "display_data",
          "data": {
            "text/html": [
              "2.44948974278318"
            ],
            "text/markdown": "2.44948974278318",
            "text/latex": "2.44948974278318",
            "text/plain": [
              "[1] 2.44949"
            ]
          },
          "metadata": {}
        }
      ]
    },
    {
      "cell_type": "markdown",
      "source": [
        "#### Стандартизация данных\n",
        "По умолчанию функция `scale()` стандартизирует заданный столбец матрицы или таблицы данных так, чтобы его среднее арифметическое стало равно нулю, а стандартное отклонение – единице 1:\n",
        "```\n",
        "newdata <- scale(mydata)\n",
        "```\n",
        "Для стандартизации каждого столбца так, чтобы его среднее арифметическое и стандартное отклонение приобрели заданные значения, можно использовать примерно такой программный код:\n",
        "```\n",
        "newdata <- scale(mydata)*SD + M\n",
        "```\n",
        "где M – желаемое значение среднего арифметического, а SD – стандартного отклонения.\n",
        "\n",
        "Применение функции `scale()` к столбцам с нечисловыми данными вызывает сообщение об ошибке. Чтобы стандартизировать определенный столбец, а не всю матрицу или таблицу данных целиком, можно использовать такой программный код:\n",
        "```\n",
        "newdata <- transform(mydata, myvar = scale(myvar)*10+50)\n",
        "```\n",
        "Этот код преобразует вектор myvar так, что его среднее арифметическое становится равным 50, а стандартное отклонение – 10. Мы будем использовать функцию scale() для решения описанной выше задачи\n"
      ],
      "metadata": {
        "id": "bZeQ2nY9xU15"
      }
    },
    {
      "cell_type": "markdown",
      "source": [
        "### Функции распределения вероятности\n",
        "Вы можете задаться вопросом: почему функции распределения вероятности не были рассмотрены вместе со статистическими (это действительно странно, не правда ли?). Хотя функции распределения вероятности являются статистическими, они настолько своеобразны, что заслуживают отдельного обсуждения. Эти функции обычно используются для создания искусственных данных с известными параметрами и для вычисления вероятностей в пользовательских статистических функциях.\n",
        "В программе R функции распределения вероятности имеют вид:\n",
        "```\n",
        "[dpqr]distribution_abbreviation()\n",
        "```\n",
        "где первая буква в имени обозначает параметр распределения данных:\n",
        "\n",
        "d = плотность;\n",
        "\n",
        "p = функция распределения;\n",
        "\n",
        "q = функция, определяющая квантили;\n",
        "\n",
        "r = генератор случайных отклонений.\n",
        "\n",
        "Наиболее распространенные функции распределения вероятности перечислены в таблице ниже\n",
        "\\begin{array}{r|l|r|l}\n",
        "Распределение&Краткое~название&Распределение&Краткое~название\\\\\\hline\n",
        "Бета&beta&Логистическое&logis\\\\\\hline\n",
        "Биноминальное&binom&Мультиноминальное&multinom\\\\\\hline\n",
        "Коши&cauchy&Отрицательное~биноминальное&nbinom\\\\\\hline\n",
        "Хи-квадрат~(ассиметричное)&chisq&Нормальное&nirm\\\\\\hline\n",
        "Экспонециальное&exp&Пуассоновское&pois\\\\\\hline\n",
        "F&f&Знаковых~рангов~Вилкоксона&signrank\\\\\\hline\n",
        "Гамма&gamma&Т&t\\\\\\hline\n",
        "Геометрическое&geom&Равномерное&unif\\\\\\hline\n",
        "Гипергеометрическое&hyper&Вейбулла&weibull\\\\\\hline\n",
        "Логнормальное&lnom&Суммы~рангов~Вилкоксона&wilcox\\\\\\hline\n",
        "\\end{array}\n",
        "\n",
        "Чтобы понять, как они работают, рассмотрим функцию нормального распределения. Если значения среднего арифметического и стандартного отклонения не указаны явно, то по умолчанию будет воспроизводиться стандартное нормальное распределение (среднее арифметическое равно 0, стандартное отклонение равно 1). Примеры функций плотности (`dnorm`), распределения (`pnorm`), квантилей (`qnorm`) и генератора случайных отклонений (`rnorm`) приведены ниже.\n",
        "\n"
      ],
      "metadata": {
        "id": "uk6okEUpgMCZ"
      }
    },
    {
      "cell_type": "markdown",
      "source": [
        "#### Как нарисовать кривую стандартного нормального распределения в диапазоне значений [–3, 3]"
      ],
      "metadata": {
        "id": "EGNq980W42D-"
      }
    },
    {
      "cell_type": "code",
      "source": [
        "x <- seq(from = -3, to = 3, by = 0.1)\n",
        "y <- dnorm(x)\n",
        "data <- data.frame(x = x, y = y)\n",
        "ggplot(data, aes(x, y))+\n",
        "  geom_line() +\n",
        "  labs(x = \"Нормальное распределение\", y = \"Плотность\") +\n",
        "  scale_x_continuous(breaks = seq(-3, 3, 1))"
      ],
      "metadata": {
        "id": "4K-qDiRt3Ddz",
        "outputId": "7054b9a6-ef7e-46eb-8699-26d938ae1295",
        "colab": {
          "base_uri": "https://localhost:8080/",
          "height": 437
        }
      },
      "execution_count": 15,
      "outputs": [
        {
          "output_type": "display_data",
          "data": {
            "text/plain": [
              "plot without title"
            ],
            "image/png": "[encoded data removed]"
          },
          "metadata": {
            "image/png": {
              "width": 420,
              "height": 420
            }
          }
        }
      ]
    },
    {
      "cell_type": "markdown",
      "source": [
        "#### Как определить площадь под кривой стандартного нормального распределения слева от z=1.96?"
      ],
      "metadata": {
        "id": "2WLfZoly7n0C"
      }
    },
    {
      "cell_type": "code",
      "source": [
        "pnorm(1.96)"
      ],
      "metadata": {
        "id": "Fbj6Wpgk7umD",
        "outputId": "b743377f-e27a-4885-dc08-23dc0b28dd21",
        "colab": {
          "base_uri": "https://localhost:8080/",
          "height": 34
        }
      },
      "execution_count": 10,
      "outputs": [
        {
          "output_type": "display_data",
          "data": {
            "text/html": [
              "0.97500210485178"
            ],
            "text/markdown": "0.97500210485178",
            "text/latex": "0.97500210485178",
            "text/plain": [
              "[1] 0.9750021"
            ]
          },
          "metadata": {}
        }
      ]
    },
    {
      "cell_type": "markdown",
      "source": [
        "#### Как определить значение 90-го процентиля нормального распределения со средним значением 500 и стандартным отклонением 100?"
      ],
      "metadata": {
        "id": "zonzPx4A76-i"
      }
    },
    {
      "cell_type": "code",
      "source": [
        "qnorm(.9, mean=500, sd=100)"
      ],
      "metadata": {
        "id": "M6ywcU2O8L_b",
        "outputId": "ee7f38b3-0308-4893-fff6-2db897247f60",
        "colab": {
          "base_uri": "https://localhost:8080/",
          "height": 34
        }
      },
      "execution_count": 11,
      "outputs": [
        {
          "output_type": "display_data",
          "data": {
            "text/html": [
              "628.15515655446"
            ],
            "text/markdown": "628.15515655446",
            "text/latex": "628.15515655446",
            "text/plain": [
              "[1] 628.1552"
            ]
          },
          "metadata": {}
        }
      ]
    },
    {
      "cell_type": "markdown",
      "source": [
        "#### Как создать 50 случайных чисел, принадлежащих нормальному распределению со средним значением 50 и стандартным отклонением 10?"
      ],
      "metadata": {
        "id": "NjMoJotd8hmv"
      }
    },
    {
      "cell_type": "code",
      "source": [
        "rnorm(50, mean=50, sd=10)"
      ],
      "metadata": {
        "id": "U7eRKtSy8lTM",
        "outputId": "63f0de32-f126-49c8-88b0-4c27a489e7b7",
        "colab": {
          "base_uri": "https://localhost:8080/",
          "height": 138
        }
      },
      "execution_count": 12,
      "outputs": [
        {
          "output_type": "display_data",
          "data": {
            "text/html": [
              "<style>\n",
              ".list-inline {list-style: none; margin:0; padding: 0}\n",
              ".list-inline>li {display: inline-block}\n",
              ".list-inline>li:not(:last-child)::after {content: \"\\00b7\"; padding: 0 .5ex}\n",
              "</style>\n",
              "<ol class=list-inline><li>44.9799649841128</li><li>38.7413269667969</li><li>68.0827947778878</li><li>57.303921083462</li><li>47.8403298702821</li><li>65.8476286848853</li><li>42.0920736578088</li><li>35.3002744168041</li><li>40.2869492222478</li><li>51.1532309827942</li><li>56.1695208039809</li><li>35.4610758431903</li><li>44.8291646430832</li><li>52.7618021572088</li><li>67.2821772779661</li><li>55.6957113123667</li><li>60.0681392923875</li><li>38.892649636151</li><li>58.3644508754163</li><li>33.9436089154595</li><li>58.2408843639604</li><li>60.4619954314336</li><li>54.4384811785992</li><li>61.1063669156303</li><li>47.6938473600789</li><li>42.4518507441414</li><li>39.2186179512391</li><li>38.770126995806</li><li>51.1520012586302</li><li>67.8635050710874</li><li>48.2526702295166</li><li>59.1003220748262</li><li>47.905651246161</li><li>48.4295853256305</li><li>52.7649147796025</li><li>36.7437961276478</li><li>51.8644957118344</li><li>45.6093399178964</li><li>45.1812936149385</li><li>51.831450228008</li><li>36.3786945673396</li><li>42.8617828124605</li><li>42.0996511369397</li><li>31.3837257125504</li><li>47.7405374774481</li><li>40.6094932278362</li><li>63.140465137503</li><li>22.0346157977857</li><li>44.829006979037</li><li>58.3351031373733</li></ol>\n"
            ],
            "text/markdown": "1. 44.9799649841128\n2. 38.7413269667969\n3. 68.0827947778878\n4. 57.303921083462\n5. 47.8403298702821\n6. 65.8476286848853\n7. 42.0920736578088\n8. 35.3002744168041\n9. 40.2869492222478\n10. 51.1532309827942\n11. 56.1695208039809\n12. 35.4610758431903\n13. 44.8291646430832\n14. 52.7618021572088\n15. 67.2821772779661\n16. 55.6957113123667\n17. 60.0681392923875\n18. 38.892649636151\n19. 58.3644508754163\n20. 33.9436089154595\n21. 58.2408843639604\n22. 60.4619954314336\n23. 54.4384811785992\n24. 61.1063669156303\n25. 47.6938473600789\n26. 42.4518507441414\n27. 39.2186179512391\n28. 38.770126995806\n29. 51.1520012586302\n30. 67.8635050710874\n31. 48.2526702295166\n32. 59.1003220748262\n33. 47.905651246161\n34. 48.4295853256305\n35. 52.7649147796025\n36. 36.7437961276478\n37. 51.8644957118344\n38. 45.6093399178964\n39. 45.1812936149385\n40. 51.831450228008\n41. 36.3786945673396\n42. 42.8617828124605\n43. 42.0996511369397\n44. 31.3837257125504\n45. 47.7405374774481\n46. 40.6094932278362\n47. 63.140465137503\n48. 22.0346157977857\n49. 44.829006979037\n50. 58.3351031373733\n\n\n",
            "text/latex": "\\begin{enumerate*}\n\\item 44.9799649841128\n\\item 38.7413269667969\n\\item 68.0827947778878\n\\item 57.303921083462\n\\item 47.8403298702821\n\\item 65.8476286848853\n\\item 42.0920736578088\n\\item 35.3002744168041\n\\item 40.2869492222478\n\\item 51.1532309827942\n\\item 56.1695208039809\n\\item 35.4610758431903\n\\item 44.8291646430832\n\\item 52.7618021572088\n\\item 67.2821772779661\n\\item 55.6957113123667\n\\item 60.0681392923875\n\\item 38.892649636151\n\\item 58.3644508754163\n\\item 33.9436089154595\n\\item 58.2408843639604\n\\item 60.4619954314336\n\\item 54.4384811785992\n\\item 61.1063669156303\n\\item 47.6938473600789\n\\item 42.4518507441414\n\\item 39.2186179512391\n\\item 38.770126995806\n\\item 51.1520012586302\n\\item 67.8635050710874\n\\item 48.2526702295166\n\\item 59.1003220748262\n\\item 47.905651246161\n\\item 48.4295853256305\n\\item 52.7649147796025\n\\item 36.7437961276478\n\\item 51.8644957118344\n\\item 45.6093399178964\n\\item 45.1812936149385\n\\item 51.831450228008\n\\item 36.3786945673396\n\\item 42.8617828124605\n\\item 42.0996511369397\n\\item 31.3837257125504\n\\item 47.7405374774481\n\\item 40.6094932278362\n\\item 63.140465137503\n\\item 22.0346157977857\n\\item 44.829006979037\n\\item 58.3351031373733\n\\end{enumerate*}\n",
            "text/plain": [
              " [1] 44.97996 38.74133 68.08279 57.30392 47.84033 65.84763 42.09207 35.30027\n",
              " [9] 40.28695 51.15323 56.16952 35.46108 44.82916 52.76180 67.28218 55.69571\n",
              "[17] 60.06814 38.89265 58.36445 33.94361 58.24088 60.46200 54.43848 61.10637\n",
              "[25] 47.69385 42.45185 39.21862 38.77013 51.15200 67.86351 48.25267 59.10032\n",
              "[33] 47.90565 48.42959 52.76491 36.74380 51.86450 45.60934 45.18129 51.83145\n",
              "[41] 36.37869 42.86178 42.09965 31.38373 47.74054 40.60949 63.14047 22.03462\n",
              "[49] 44.82901 58.33510"
            ]
          },
          "metadata": {}
        }
      ]
    },
    {
      "cell_type": "markdown",
      "source": [
        "#### Выбор начального значения для генератора случайных чисел\n",
        "Каждый раз, когда генерируется новая последовательность псевдослучайных чисел, используется новое начальное число, чтобы на выходе получались разные результаты. Однако, чтобы сделать результаты воспроизводимыми, можно это начальное число задать явно при помощи функции `set.seed()`, как показано ниже. Здесь используется функция `runif()`, генерирующая псевдослучайные числа, принадлежащие однородному распределению в интервале от 0 до 1."
      ],
      "metadata": {
        "id": "ncGkb2gpODVe"
      }
    },
    {
      "cell_type": "code",
      "source": [
        "runif(5)"
      ],
      "metadata": {
        "id": "mP6hZ01iOcOw",
        "outputId": "10b04a54-0f4a-40b7-c63e-6dfcc324604b",
        "colab": {
          "base_uri": "https://localhost:8080/",
          "height": 34
        }
      },
      "execution_count": 16,
      "outputs": [
        {
          "output_type": "display_data",
          "data": {
            "text/html": [
              "<style>\n",
              ".list-inline {list-style: none; margin:0; padding: 0}\n",
              ".list-inline>li {display: inline-block}\n",
              ".list-inline>li:not(:last-child)::after {content: \"\\00b7\"; padding: 0 .5ex}\n",
              "</style>\n",
              "<ol class=list-inline><li>0.0352660629432648</li><li>0.0659387386403978</li><li>0.189082525204867</li><li>0.809260158566758</li><li>0.992924590362236</li></ol>\n"
            ],
            "text/markdown": "1. 0.0352660629432648\n2. 0.0659387386403978\n3. 0.189082525204867\n4. 0.809260158566758\n5. 0.992924590362236\n\n\n",
            "text/latex": "\\begin{enumerate*}\n\\item 0.0352660629432648\n\\item 0.0659387386403978\n\\item 0.189082525204867\n\\item 0.809260158566758\n\\item 0.992924590362236\n\\end{enumerate*}\n",
            "text/plain": [
              "[1] 0.03526606 0.06593874 0.18908253 0.80926016 0.99292459"
            ]
          },
          "metadata": {}
        }
      ]
    },
    {
      "cell_type": "code",
      "source": [
        "runif(5)"
      ],
      "metadata": {
        "id": "hTB0CSyTOgZd",
        "outputId": "d933d83d-57c0-431c-8f72-5c85bf587cb2",
        "colab": {
          "base_uri": "https://localhost:8080/",
          "height": 34
        }
      },
      "execution_count": 17,
      "outputs": [
        {
          "output_type": "display_data",
          "data": {
            "text/html": [
              "<style>\n",
              ".list-inline {list-style: none; margin:0; padding: 0}\n",
              ".list-inline>li {display: inline-block}\n",
              ".list-inline>li:not(:last-child)::after {content: \"\\00b7\"; padding: 0 .5ex}\n",
              "</style>\n",
              "<ol class=list-inline><li>0.0645767108071595</li><li>0.34540192829445</li><li>0.590480698505417</li><li>0.592389091383666</li><li>0.518043056130409</li></ol>\n"
            ],
            "text/markdown": "1. 0.0645767108071595\n2. 0.34540192829445\n3. 0.590480698505417\n4. 0.592389091383666\n5. 0.518043056130409\n\n\n",
            "text/latex": "\\begin{enumerate*}\n\\item 0.0645767108071595\n\\item 0.34540192829445\n\\item 0.590480698505417\n\\item 0.592389091383666\n\\item 0.518043056130409\n\\end{enumerate*}\n",
            "text/plain": [
              "[1] 0.06457671 0.34540193 0.59048070 0.59238909 0.51804306"
            ]
          },
          "metadata": {}
        }
      ]
    },
    {
      "cell_type": "code",
      "source": [
        "set.seed(1234)\n",
        "runif(5)"
      ],
      "metadata": {
        "id": "UmnEWzsXOp69",
        "outputId": "dabecf51-e457-401c-f995-b7198feb086e",
        "colab": {
          "base_uri": "https://localhost:8080/",
          "height": 34
        }
      },
      "execution_count": 18,
      "outputs": [
        {
          "output_type": "display_data",
          "data": {
            "text/html": [
              "<style>\n",
              ".list-inline {list-style: none; margin:0; padding: 0}\n",
              ".list-inline>li {display: inline-block}\n",
              ".list-inline>li:not(:last-child)::after {content: \"\\00b7\"; padding: 0 .5ex}\n",
              "</style>\n",
              "<ol class=list-inline><li>0.113703411305323</li><li>0.622299404814839</li><li>0.609274732880294</li><li>0.623379441676661</li><li>0.860915383556858</li></ol>\n"
            ],
            "text/markdown": "1. 0.113703411305323\n2. 0.622299404814839\n3. 0.609274732880294\n4. 0.623379441676661\n5. 0.860915383556858\n\n\n",
            "text/latex": "\\begin{enumerate*}\n\\item 0.113703411305323\n\\item 0.622299404814839\n\\item 0.609274732880294\n\\item 0.623379441676661\n\\item 0.860915383556858\n\\end{enumerate*}\n",
            "text/plain": [
              "[1] 0.1137034 0.6222994 0.6092747 0.6233794 0.8609154"
            ]
          },
          "metadata": {}
        }
      ]
    },
    {
      "cell_type": "code",
      "source": [
        "set.seed(1234)\n",
        "runif(5)"
      ],
      "metadata": {
        "id": "RwVVmy4kOvqt",
        "outputId": "fbc1fbc5-aa3b-4ccd-c2f5-167390c10126",
        "colab": {
          "base_uri": "https://localhost:8080/",
          "height": 34
        }
      },
      "execution_count": 19,
      "outputs": [
        {
          "output_type": "display_data",
          "data": {
            "text/html": [
              "<style>\n",
              ".list-inline {list-style: none; margin:0; padding: 0}\n",
              ".list-inline>li {display: inline-block}\n",
              ".list-inline>li:not(:last-child)::after {content: \"\\00b7\"; padding: 0 .5ex}\n",
              "</style>\n",
              "<ol class=list-inline><li>0.113703411305323</li><li>0.622299404814839</li><li>0.609274732880294</li><li>0.623379441676661</li><li>0.860915383556858</li></ol>\n"
            ],
            "text/markdown": "1. 0.113703411305323\n2. 0.622299404814839\n3. 0.609274732880294\n4. 0.623379441676661\n5. 0.860915383556858\n\n\n",
            "text/latex": "\\begin{enumerate*}\n\\item 0.113703411305323\n\\item 0.622299404814839\n\\item 0.609274732880294\n\\item 0.623379441676661\n\\item 0.860915383556858\n\\end{enumerate*}\n",
            "text/plain": [
              "[1] 0.1137034 0.6222994 0.6092747 0.6233794 0.8609154"
            ]
          },
          "metadata": {}
        }
      ]
    },
    {
      "cell_type": "markdown",
      "source": [
        "#### Генерирование многомерных данных с нормальным распределением\n",
        "\n",
        "В исследованиях с использованием искусственных данных и методов Монте-Карло часто бывает необходимо генерировать многомерные данные с нормальным распределением, соответствующие заданным вектору средних значений и ковариационной матрице. Функция `draw.d.variate.normal()` из пакета MultiRNG позволяет легко справиться с этой задачей. Эта функция имеет следующий синтаксис:\n",
        "```\n",
        "draw.d.variate.normal(n, nvar, mean, sigma)\n",
        "```\n",
        "где `n` – требуемый объем выборки, `nvar` – количество переменных, `mean` – вектор средних значений, а `sigma` – ковариационная (или корреляционная) матрица. Код ниже создаст выборку из 500 наблюдений с многомерным нормальным распределением трех переменных со следующими параметрами:\n",
        "\\begin{array}{l|r|r|r}\n",
        "\\hline\n",
        "Вектор~средних~значений&230.7&146.7&3.6\\\\\\hline\n",
        "Ковариационная~матрица&15360.8&6721.2&-47.1\\\\\n",
        "~&6721.2&4700.9&-16.5\\\\\n",
        "~&-47.1&-16.5&0.3\\\\\\hline\n",
        "\\end{array}\n"
      ],
      "metadata": {
        "id": "UMEmkP_-O3pX"
      }
    },
    {
      "cell_type": "code",
      "source": [
        "install.packages(\"MultiRNG\")\n",
        "library(MultiRNG)\n",
        "options(digits=3)\n",
        "# Задается случайное начальное число\n",
        "set.seed(1234)\n",
        "# Задаются вектор средних значений и ковариационная матрица\n",
        "mean <- c(230.7, 146.7, 3.6)\n",
        "sigma <- matrix(c(15360.8, 6721.2, -47.1, 6721.2, 4700.9, -16.5, -47.1, -16.5, 0.3), nrow=3, ncol=3)\n",
        "# Генерирование данных\n",
        "mydata <- draw.d.variate.normal(500, 3, mean, sigma)\n",
        "mydata <- as.data.frame(mydata)\n",
        "names(mydata) <- c(\"y\",\"x1\",\"x2\")\n",
        "# Вывод результатов\n",
        "dim(mydata)\n",
        "head(mydata, n=10)"
      ],
      "metadata": {
        "id": "ARaapSVvVm7c",
        "outputId": "066ea37e-3464-44d6-fab8-2fc71d1c0e40",
        "colab": {
          "base_uri": "https://localhost:8080/",
          "height": 481
        }
      },
      "execution_count": 27,
      "outputs": [
        {
          "output_type": "stream",
          "name": "stderr",
          "text": [
            "Installing package into ‘/usr/local/lib/R/site-library’\n",
            "(as ‘lib’ is unspecified)\n",
            "\n"
          ]
        },
        {
          "output_type": "display_data",
          "data": {
            "text/html": [
              "<style>\n",
              ".list-inline {list-style: none; margin:0; padding: 0}\n",
              ".list-inline>li {display: inline-block}\n",
              ".list-inline>li:not(:last-child)::after {content: \"\\00b7\"; padding: 0 .5ex}\n",
              "</style>\n",
              "<ol class=list-inline><li>500</li><li>3</li></ol>\n"
            ],
            "text/markdown": "1. 500\n2. 3\n\n\n",
            "text/latex": "\\begin{enumerate*}\n\\item 500\n\\item 3\n\\end{enumerate*}\n",
            "text/plain": [
              "[1] 500   3"
            ]
          },
          "metadata": {}
        },
        {
          "output_type": "display_data",
          "data": {
            "text/html": [
              "<table class=\"dataframe\">\n",
              "<caption>A data.frame: 10 × 3</caption>\n",
              "<thead>\n",
              "\t<tr><th></th><th scope=col>y</th><th scope=col>x1</th><th scope=col>x2</th></tr>\n",
              "\t<tr><th></th><th scope=col>&lt;dbl&gt;</th><th scope=col>&lt;dbl&gt;</th><th scope=col>&lt;dbl&gt;</th></tr>\n",
              "</thead>\n",
              "<tbody>\n",
              "\t<tr><th scope=row>1</th><td> 81.1</td><td>122.6</td><td>3.69</td></tr>\n",
              "\t<tr><th scope=row>2</th><td>265.1</td><td>110.4</td><td>3.49</td></tr>\n",
              "\t<tr><th scope=row>3</th><td>365.1</td><td>235.3</td><td>2.67</td></tr>\n",
              "\t<tr><th scope=row>4</th><td>-60.0</td><td> 14.9</td><td>4.72</td></tr>\n",
              "\t<tr><th scope=row>5</th><td>283.9</td><td>244.8</td><td>3.88</td></tr>\n",
              "\t<tr><th scope=row>6</th><td>293.4</td><td>163.9</td><td>2.66</td></tr>\n",
              "\t<tr><th scope=row>7</th><td>159.5</td><td> 51.5</td><td>4.03</td></tr>\n",
              "\t<tr><th scope=row>8</th><td>163.0</td><td>137.7</td><td>3.77</td></tr>\n",
              "\t<tr><th scope=row>9</th><td>160.7</td><td>131.0</td><td>3.59</td></tr>\n",
              "\t<tr><th scope=row>10</th><td>120.4</td><td> 97.7</td><td>4.11</td></tr>\n",
              "</tbody>\n",
              "</table>\n"
            ],
            "text/markdown": "\nA data.frame: 10 × 3\n\n| <!--/--> | y &lt;dbl&gt; | x1 &lt;dbl&gt; | x2 &lt;dbl&gt; |\n|---|---|---|---|\n| 1 |  81.1 | 122.6 | 3.69 |\n| 2 | 265.1 | 110.4 | 3.49 |\n| 3 | 365.1 | 235.3 | 2.67 |\n| 4 | -60.0 |  14.9 | 4.72 |\n| 5 | 283.9 | 244.8 | 3.88 |\n| 6 | 293.4 | 163.9 | 2.66 |\n| 7 | 159.5 |  51.5 | 4.03 |\n| 8 | 163.0 | 137.7 | 3.77 |\n| 9 | 160.7 | 131.0 | 3.59 |\n| 10 | 120.4 |  97.7 | 4.11 |\n\n",
            "text/latex": "A data.frame: 10 × 3\n\\begin{tabular}{r|lll}\n  & y & x1 & x2\\\\\n  & <dbl> & <dbl> & <dbl>\\\\\n\\hline\n\t1 &  81.1 & 122.6 & 3.69\\\\\n\t2 & 265.1 & 110.4 & 3.49\\\\\n\t3 & 365.1 & 235.3 & 2.67\\\\\n\t4 & -60.0 &  14.9 & 4.72\\\\\n\t5 & 283.9 & 244.8 & 3.88\\\\\n\t6 & 293.4 & 163.9 & 2.66\\\\\n\t7 & 159.5 &  51.5 & 4.03\\\\\n\t8 & 163.0 & 137.7 & 3.77\\\\\n\t9 & 160.7 & 131.0 & 3.59\\\\\n\t10 & 120.4 &  97.7 & 4.11\\\\\n\\end{tabular}\n",
            "text/plain": [
              "   y     x1    x2  \n",
              "1   81.1 122.6 3.69\n",
              "2  265.1 110.4 3.49\n",
              "3  365.1 235.3 2.67\n",
              "4  -60.0  14.9 4.72\n",
              "5  283.9 244.8 3.88\n",
              "6  293.4 163.9 2.66\n",
              "7  159.5  51.5 4.03\n",
              "8  163.0 137.7 3.77\n",
              "9  160.7 131.0 3.59\n",
              "10 120.4  97.7 4.11"
            ]
          },
          "metadata": {}
        }
      ]
    },
    {
      "cell_type": "code",
      "source": [
        "sigma"
      ],
      "metadata": {
        "id": "WgAb1489XLmf",
        "outputId": "9695e041-f103-4e7e-c891-f37b5bf6717b",
        "colab": {
          "base_uri": "https://localhost:8080/",
          "height": 128
        }
      },
      "execution_count": 22,
      "outputs": [
        {
          "output_type": "display_data",
          "data": {
            "text/html": [
              "<table class=\"dataframe\">\n",
              "<caption>A matrix: 3 × 3 of type dbl</caption>\n",
              "<tbody>\n",
              "\t<tr><td>15360.8</td><td>6721.2</td><td>-47.1</td></tr>\n",
              "\t<tr><td> 6721.2</td><td>4700.9</td><td>-16.5</td></tr>\n",
              "\t<tr><td>  -47.1</td><td> -16.5</td><td>  0.3</td></tr>\n",
              "</tbody>\n",
              "</table>\n"
            ],
            "text/markdown": "\nA matrix: 3 × 3 of type dbl\n\n| 15360.8 | 6721.2 | -47.1 |\n|  6721.2 | 4700.9 | -16.5 |\n|   -47.1 |  -16.5 |   0.3 |\n\n",
            "text/latex": "A matrix: 3 × 3 of type dbl\n\\begin{tabular}{lll}\n\t 15360.8 & 6721.2 & -47.1\\\\\n\t  6721.2 & 4700.9 & -16.5\\\\\n\t   -47.1 &  -16.5 &   0.3\\\\\n\\end{tabular}\n",
            "text/plain": [
              "     [,1]    [,2]   [,3] \n",
              "[1,] 15360.8 6721.2 -47.1\n",
              "[2,]  6721.2 4700.9 -16.5\n",
              "[3,]   -47.1  -16.5   0.3"
            ]
          },
          "metadata": {}
        }
      ]
    },
    {
      "cell_type": "markdown",
      "source": [
        "Код в листинге 5.3 задает начальное число для генератора случайных чисел, чтобы потом можно было воспроизвести полученный результат. Определяет вектор средних значений и ковариационную матрицу и генерирует 500 псевдослучайных чисел. Для удобства результаты преобразованы из матрицы в таблицу данных,а переменным присвоены имена. В заключение код проверяет, действительно ли было сгенерировано 500 наблюдений по трем переменным, и выводит первые 10 наблюдений. Учтите, что поскольку корреляционная матрица также является ковариационной матрицей, вы можете напрямую задать структуру взаимосвязей (корреляций).\n",
        "\n",
        "Пакет `MultiRNG` позволяет генерировать случайные данные из 10 многомерных распределений, включая многомерные версии распределений T, равномерного, Бернулли, гипергеометрического, мультиномиального, Лапласа, Уишарта. С помощью функций распределения вероятности можно генерировать синтетические (искусственные) данные, подчиняющиеся распределениям с известными параметрами. Число статистических методов, которые используют искусственные данные, в настоящее время лавинообразно растет, и вы увидите несколько примеров их применения в следующих главах."
      ],
      "metadata": {
        "id": "7oBRf5shZdD0"
      }
    },
    {
      "cell_type": "markdown",
      "source": [
        "### Текстовые функции\n",
        "В то время как математические и статистические функции оперируют числовыми данными, текстовые функции извлекают информацию из текстовых данных или изменяют формат текстовых данных для вывода на экран и составления отчетов. Например, вам может понадобиться объединить имя и фамилию человека в одной ячейке таблицы и гарантировать, что они начинаются с прописных букв. Некоторые из наиболее часто используемых текстовых функций перечислены в таблице ниже.\n",
        "\n",
        "\\begin{array}{l|l}\n",
        "\\hline\n",
        "nchar(x)&Подсчитывает~число~элементов~в~x.\\\\\n",
        "~&x <- c(\"ab\", \"cde\", \"fghij\")\\\\\n",
        "~&nchar(x[3]) вернет 5\\\\\\hline\n",
        "substr(x, start, stop)&Извлекает~или~замещает~часть~текстового~вектора.\\\\\n",
        "~&x <- \"abcdef\"\\\\\n",
        "~&substr(x, 2, 4)~вернет~\"bcd\".\\\\\n",
        "~&substr(x, 2, 4) <- \"22222\"\\\\\n",
        "~&(x~теперь~содержит~текст~\"a222ef\")\\\\\\hline\n",
        "grep(pattern, x,&Ищет~совпадения~с~шаблоном~pattern~в~x.~ Если~fixed=FALSE,~то\\\\\n",
        "ignore.case=FALSE, fixed=FALSE)&pattern~интерпретируется~ как~регулярное~выражение.~Если\\\\\n",
        "~&fixed=TRUE,~то~pattern~интерпретируется~как~простая~текст-\\\\\n",
        "~&овая~строка.~Возвращает~индексы~найденных совпадений.\\\\\n",
        "~&grep(\"A\",~c(\"b\",\"A\",\"c\"),~fixed=TRUE)~вернет~2\\\\\\hline\n",
        "sub(pattern, replacement, x,&Ище~совпадения~с~шаблоном~pattern~в~x~и~замещает~най-\\\\\n",
        "ignore.case=FALSE, fixed=FALSE)&\n",
        "денное~совпадение~текстом~replacement.~Если~fixed=FALSE,~то\\\\\n",
        "~&pattern~интерпретируется~как~регулярное выражение.~Если\\\\\n",
        "~&fixed=TRUE,~то~pattern~интерпретируется~как~простая~тексто-\\\\\n",
        "~&вая~строка.\\\\\n",
        "~&sub(\"\\~\\s\",\".\",\"Hello There\")~вернет~Hello.There.~Обратите\\\\\n",
        "~&внимание,~что \"\\s\"~–~это~регулярное~выражение,~совпада-\\\\\n",
        "~&ющее~с~пробелами;~здесь~используется~\"\\~\\s\",~потому~что\\\\\n",
        "~&обратный~слеш~\"\\\"~в~R~–~это~экранирующий~символ\\\\\\hline\n",
        "~&~\\\\\\hline\n",
        "~&~\\\\\\hline\n",
        "~&~\\\\\\hline\n",
        "~&~\\\\\\hline\n",
        "~&~\\\\\\hline\n",
        "~&~\\\\\\hline\n",
        "~&~\\\\\\hline\n",
        "~&~\\\\\\hline\n",
        "~&~\\\\\\hline\n",
        "~&~\\\\\\hline\n",
        "~&~\\\\\\hline\n",
        "\\end{array}\n",
        "\n",
        "#P.n. 147"
      ],
      "metadata": {
        "id": "r8mhEBsVdooL"
      }
    },
    {
      "cell_type": "code",
      "source": [],
      "metadata": {
        "id": "TKmuxBREngLv"
      },
      "execution_count": null,
      "outputs": []
    },
    {
      "cell_type": "code",
      "source": [],
      "metadata": {
        "id": "EyvNkQW_mHCY"
      },
      "execution_count": null,
      "outputs": []
    }
  ]
}