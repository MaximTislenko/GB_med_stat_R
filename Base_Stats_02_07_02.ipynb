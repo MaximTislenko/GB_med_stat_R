{
  "nbformat": 4,
  "nbformat_minor": 0,
  "metadata": {
    "colab": {
      "provenance": [],
      "include_colab_link": true
    },
    "kernelspec": {
      "name": "ir",
      "display_name": "R"
    },
    "language_info": {
      "name": "R"
    }
  },
  "cells": [
    {
      "cell_type": "markdown",
      "metadata": {
        "id": "view-in-github",
        "colab_type": "text"
      },
      "source": [
        "<a href=\"https://colab.research.google.com/github/MaximTislenko/GB_med_stat_R/blob/main/Base_Stats_02_07_02.ipynb\" target=\"_parent\"><img src=\"https://colab.research.google.com/assets/colab-badge.svg\" alt=\"Open In Colab\"/></a>"
      ]
    },
    {
      "cell_type": "code",
      "execution_count": 1,
      "metadata": {
        "id": "AdrY4BSy4w1z",
        "outputId": "5f89f43a-26ad-4acb-a6e3-5db74df55bb5",
        "colab": {
          "base_uri": "https://localhost:8080/"
        }
      },
      "outputs": [
        {
          "output_type": "stream",
          "name": "stderr",
          "text": [
            "── \u001b[1mAttaching core tidyverse packages\u001b[22m ──────────────────────── tidyverse 2.0.0 ──\n",
            "\u001b[32m✔\u001b[39m \u001b[34mdplyr    \u001b[39m 1.1.4     \u001b[32m✔\u001b[39m \u001b[34mreadr    \u001b[39m 2.1.5\n",
            "\u001b[32m✔\u001b[39m \u001b[34mforcats  \u001b[39m 1.0.0     \u001b[32m✔\u001b[39m \u001b[34mstringr  \u001b[39m 1.5.1\n",
            "\u001b[32m✔\u001b[39m \u001b[34mggplot2  \u001b[39m 3.4.4     \u001b[32m✔\u001b[39m \u001b[34mtibble   \u001b[39m 3.2.1\n",
            "\u001b[32m✔\u001b[39m \u001b[34mlubridate\u001b[39m 1.9.3     \u001b[32m✔\u001b[39m \u001b[34mtidyr    \u001b[39m 1.3.1\n",
            "\u001b[32m✔\u001b[39m \u001b[34mpurrr    \u001b[39m 1.0.2     \n",
            "── \u001b[1mConflicts\u001b[22m ────────────────────────────────────────── tidyverse_conflicts() ──\n",
            "\u001b[31m✖\u001b[39m \u001b[34mpurrr\u001b[39m::\u001b[32m%||%()\u001b[39m   masks \u001b[34mbase\u001b[39m::%||%()\n",
            "\u001b[31m✖\u001b[39m \u001b[34mdplyr\u001b[39m::\u001b[32mfilter()\u001b[39m masks \u001b[34mstats\u001b[39m::filter()\n",
            "\u001b[31m✖\u001b[39m \u001b[34mdplyr\u001b[39m::\u001b[32mlag()\u001b[39m    masks \u001b[34mstats\u001b[39m::lag()\n",
            "\u001b[36mℹ\u001b[39m Use the conflicted package (\u001b[3m\u001b[34m<http://conflicted.r-lib.org/>\u001b[39m\u001b[23m) to force all conflicts to become errors\n"
          ]
        }
      ],
      "source": [
        "library(tidyverse)\n",
        "library(readxl)"
      ]
    },
    {
      "cell_type": "markdown",
      "source": [
        "# Часть II\n",
        "# Базовые методы\n"
      ],
      "metadata": {
        "id": "tdk3MfdPr1lW"
      }
    },
    {
      "cell_type": "markdown",
      "source": [
        "# Глава 7\n",
        "# Основные методы статистической обработки данных\n",
        "В предыдущих главах вы узнали, как импортировать данные в R и как использовать разнообразные функции для упорядочения и преобразования данных в нужный формат. Затем мы рассмотрели базовые методы визуализации данных.\n",
        "\n",
        "Обычно следующий шаг после упорядочения данных и их визуального исследования – описание распределения значений каждой переменной при помощи числовых показателей. Затем, как правило, исследуют взаимосвязи между парами переменных. Цель этих процедур – ответить на следующие вопросы:\n",
        "* Каков расход топлива у современных автомобилей? А именно как распределены значения расхода топлива (среднее, стандартное отклонение, медиана, размах и т. д.) в имеющихся данных по разным маркам машин?\n",
        "* Отличается ли действие нового лекарства (нет улучшения, некоторое улучшение, заметное улучшение) по сравнению с плацебо? Зависит ли результат испытаний от пола пациентов?\n",
        "* Как взаимосвязаны доход и средняя продолжительность жизни? Можно ли утверждать, что коэффициент корреляции значимо отличается от нуля?\n",
        "* Правда ли, что вероятность сесть в тюрьму за преступление неодинакова в разных штатах США? Значимы ли различия между штатами?\n",
        "\n",
        "В этой главе мы рассмотрим функции R, позволяющие вычислять описательные и предсказательные статистики. Для начала познакомимся с методами оценки центральной тенденции и разброса значений количественных переменных. Затем узнаем, как создавать таблицы частот и сопряженности (и как проверить соответствие критерию хи-квадрат) для категориальных переменных. Потом исследуем разные формы коэффициентов корреляции, применимые к непрерывным и порядковым переменным. Наконец,\n",
        "обратимся к исследованию различий между группами при помощи параметрических (критерий Стьюдента) и непараметрических (критерии Манна–Уитни и Краскела–Уоллиса) методов. Основное наше внимание будет сосредоточено на числовых показателях, тем не менее постоянно будут упоминаться графические методы, которые можно использовать для визуализации этих показателей.\n",
        "\n",
        "С обсуждаемыми в этой главе статистическими методами люди обычно знакомятся на первых курсах вузов. Если эти методы незнакомы вам, я рекомендую два замечательных пособия: MacCall (2000) и Kirk (2008)1.\n",
        "\n",
        "\n",
        "> На русском языке основные статистические методы кратко описаны в пособии П. А. Волковой и А. Б. Шипунова «Статистическая обработка данных в учебно-исследовательских работах» (Форум, 2012).\n",
        "\n",
        "\n",
        "По каждой теме существует также множество источников в интернете (таких как Википедия).\n"
      ],
      "metadata": {
        "id": "yaZVoNFFoC1F"
      }
    },
    {
      "cell_type": "markdown",
      "source": [
        "## Описательные статистики\n",
        "В этом разделе мы обсудим числовые характеристики центральной тенденции, разброса и типа распределения значений непрерывных переменных на примере нескольких переменных из набора данных `mtcars` с характеристиками разных марок автомобилей, с которыми вы познакомились еще в первой главе. Мы сосредоточимся на расходе топлива (в милях на галлон – `miles per gallon, mpg`), мощности (лошадиных сил – `horsepower, hp`) и весе (`weight, wt`):"
      ],
      "metadata": {
        "id": "7XdDlzjVvEW7"
      }
    },
    {
      "cell_type": "code",
      "source": [
        "myvars <- c(\"mpg\", \"hp\", \"wt\")\n",
        "head(mtcars[myvars])\n",
        "mtcars[myvars]"
      ],
      "metadata": {
        "id": "92x4-BuiGAFL",
        "outputId": "701debc7-3a65-4e82-c2cb-ec896ddc3e12",
        "colab": {
          "base_uri": "https://localhost:8080/",
          "height": 1000
        }
      },
      "execution_count": 2,
      "outputs": [
        {
          "output_type": "display_data",
          "data": {
            "text/html": [
              "<table class=\"dataframe\">\n",
              "<caption>A data.frame: 6 × 3</caption>\n",
              "<thead>\n",
              "\t<tr><th></th><th scope=col>mpg</th><th scope=col>hp</th><th scope=col>wt</th></tr>\n",
              "\t<tr><th></th><th scope=col>&lt;dbl&gt;</th><th scope=col>&lt;dbl&gt;</th><th scope=col>&lt;dbl&gt;</th></tr>\n",
              "</thead>\n",
              "<tbody>\n",
              "\t<tr><th scope=row>Mazda RX4</th><td>21.0</td><td>110</td><td>2.620</td></tr>\n",
              "\t<tr><th scope=row>Mazda RX4 Wag</th><td>21.0</td><td>110</td><td>2.875</td></tr>\n",
              "\t<tr><th scope=row>Datsun 710</th><td>22.8</td><td> 93</td><td>2.320</td></tr>\n",
              "\t<tr><th scope=row>Hornet 4 Drive</th><td>21.4</td><td>110</td><td>3.215</td></tr>\n",
              "\t<tr><th scope=row>Hornet Sportabout</th><td>18.7</td><td>175</td><td>3.440</td></tr>\n",
              "\t<tr><th scope=row>Valiant</th><td>18.1</td><td>105</td><td>3.460</td></tr>\n",
              "</tbody>\n",
              "</table>\n"
            ],
            "text/markdown": "\nA data.frame: 6 × 3\n\n| <!--/--> | mpg &lt;dbl&gt; | hp &lt;dbl&gt; | wt &lt;dbl&gt; |\n|---|---|---|---|\n| Mazda RX4 | 21.0 | 110 | 2.620 |\n| Mazda RX4 Wag | 21.0 | 110 | 2.875 |\n| Datsun 710 | 22.8 |  93 | 2.320 |\n| Hornet 4 Drive | 21.4 | 110 | 3.215 |\n| Hornet Sportabout | 18.7 | 175 | 3.440 |\n| Valiant | 18.1 | 105 | 3.460 |\n\n",
            "text/latex": "A data.frame: 6 × 3\n\\begin{tabular}{r|lll}\n  & mpg & hp & wt\\\\\n  & <dbl> & <dbl> & <dbl>\\\\\n\\hline\n\tMazda RX4 & 21.0 & 110 & 2.620\\\\\n\tMazda RX4 Wag & 21.0 & 110 & 2.875\\\\\n\tDatsun 710 & 22.8 &  93 & 2.320\\\\\n\tHornet 4 Drive & 21.4 & 110 & 3.215\\\\\n\tHornet Sportabout & 18.7 & 175 & 3.440\\\\\n\tValiant & 18.1 & 105 & 3.460\\\\\n\\end{tabular}\n",
            "text/plain": [
              "                  mpg  hp  wt   \n",
              "Mazda RX4         21.0 110 2.620\n",
              "Mazda RX4 Wag     21.0 110 2.875\n",
              "Datsun 710        22.8  93 2.320\n",
              "Hornet 4 Drive    21.4 110 3.215\n",
              "Hornet Sportabout 18.7 175 3.440\n",
              "Valiant           18.1 105 3.460"
            ]
          },
          "metadata": {}
        },
        {
          "output_type": "display_data",
          "data": {
            "text/html": [
              "<table class=\"dataframe\">\n",
              "<caption>A data.frame: 32 × 3</caption>\n",
              "<thead>\n",
              "\t<tr><th></th><th scope=col>mpg</th><th scope=col>hp</th><th scope=col>wt</th></tr>\n",
              "\t<tr><th></th><th scope=col>&lt;dbl&gt;</th><th scope=col>&lt;dbl&gt;</th><th scope=col>&lt;dbl&gt;</th></tr>\n",
              "</thead>\n",
              "<tbody>\n",
              "\t<tr><th scope=row>Mazda RX4</th><td>21.0</td><td>110</td><td>2.620</td></tr>\n",
              "\t<tr><th scope=row>Mazda RX4 Wag</th><td>21.0</td><td>110</td><td>2.875</td></tr>\n",
              "\t<tr><th scope=row>Datsun 710</th><td>22.8</td><td> 93</td><td>2.320</td></tr>\n",
              "\t<tr><th scope=row>Hornet 4 Drive</th><td>21.4</td><td>110</td><td>3.215</td></tr>\n",
              "\t<tr><th scope=row>Hornet Sportabout</th><td>18.7</td><td>175</td><td>3.440</td></tr>\n",
              "\t<tr><th scope=row>Valiant</th><td>18.1</td><td>105</td><td>3.460</td></tr>\n",
              "\t<tr><th scope=row>Duster 360</th><td>14.3</td><td>245</td><td>3.570</td></tr>\n",
              "\t<tr><th scope=row>Merc 240D</th><td>24.4</td><td> 62</td><td>3.190</td></tr>\n",
              "\t<tr><th scope=row>Merc 230</th><td>22.8</td><td> 95</td><td>3.150</td></tr>\n",
              "\t<tr><th scope=row>Merc 280</th><td>19.2</td><td>123</td><td>3.440</td></tr>\n",
              "\t<tr><th scope=row>Merc 280C</th><td>17.8</td><td>123</td><td>3.440</td></tr>\n",
              "\t<tr><th scope=row>Merc 450SE</th><td>16.4</td><td>180</td><td>4.070</td></tr>\n",
              "\t<tr><th scope=row>Merc 450SL</th><td>17.3</td><td>180</td><td>3.730</td></tr>\n",
              "\t<tr><th scope=row>Merc 450SLC</th><td>15.2</td><td>180</td><td>3.780</td></tr>\n",
              "\t<tr><th scope=row>Cadillac Fleetwood</th><td>10.4</td><td>205</td><td>5.250</td></tr>\n",
              "\t<tr><th scope=row>Lincoln Continental</th><td>10.4</td><td>215</td><td>5.424</td></tr>\n",
              "\t<tr><th scope=row>Chrysler Imperial</th><td>14.7</td><td>230</td><td>5.345</td></tr>\n",
              "\t<tr><th scope=row>Fiat 128</th><td>32.4</td><td> 66</td><td>2.200</td></tr>\n",
              "\t<tr><th scope=row>Honda Civic</th><td>30.4</td><td> 52</td><td>1.615</td></tr>\n",
              "\t<tr><th scope=row>Toyota Corolla</th><td>33.9</td><td> 65</td><td>1.835</td></tr>\n",
              "\t<tr><th scope=row>Toyota Corona</th><td>21.5</td><td> 97</td><td>2.465</td></tr>\n",
              "\t<tr><th scope=row>Dodge Challenger</th><td>15.5</td><td>150</td><td>3.520</td></tr>\n",
              "\t<tr><th scope=row>AMC Javelin</th><td>15.2</td><td>150</td><td>3.435</td></tr>\n",
              "\t<tr><th scope=row>Camaro Z28</th><td>13.3</td><td>245</td><td>3.840</td></tr>\n",
              "\t<tr><th scope=row>Pontiac Firebird</th><td>19.2</td><td>175</td><td>3.845</td></tr>\n",
              "\t<tr><th scope=row>Fiat X1-9</th><td>27.3</td><td> 66</td><td>1.935</td></tr>\n",
              "\t<tr><th scope=row>Porsche 914-2</th><td>26.0</td><td> 91</td><td>2.140</td></tr>\n",
              "\t<tr><th scope=row>Lotus Europa</th><td>30.4</td><td>113</td><td>1.513</td></tr>\n",
              "\t<tr><th scope=row>Ford Pantera L</th><td>15.8</td><td>264</td><td>3.170</td></tr>\n",
              "\t<tr><th scope=row>Ferrari Dino</th><td>19.7</td><td>175</td><td>2.770</td></tr>\n",
              "\t<tr><th scope=row>Maserati Bora</th><td>15.0</td><td>335</td><td>3.570</td></tr>\n",
              "\t<tr><th scope=row>Volvo 142E</th><td>21.4</td><td>109</td><td>2.780</td></tr>\n",
              "</tbody>\n",
              "</table>\n"
            ],
            "text/markdown": "\nA data.frame: 32 × 3\n\n| <!--/--> | mpg &lt;dbl&gt; | hp &lt;dbl&gt; | wt &lt;dbl&gt; |\n|---|---|---|---|\n| Mazda RX4 | 21.0 | 110 | 2.620 |\n| Mazda RX4 Wag | 21.0 | 110 | 2.875 |\n| Datsun 710 | 22.8 |  93 | 2.320 |\n| Hornet 4 Drive | 21.4 | 110 | 3.215 |\n| Hornet Sportabout | 18.7 | 175 | 3.440 |\n| Valiant | 18.1 | 105 | 3.460 |\n| Duster 360 | 14.3 | 245 | 3.570 |\n| Merc 240D | 24.4 |  62 | 3.190 |\n| Merc 230 | 22.8 |  95 | 3.150 |\n| Merc 280 | 19.2 | 123 | 3.440 |\n| Merc 280C | 17.8 | 123 | 3.440 |\n| Merc 450SE | 16.4 | 180 | 4.070 |\n| Merc 450SL | 17.3 | 180 | 3.730 |\n| Merc 450SLC | 15.2 | 180 | 3.780 |\n| Cadillac Fleetwood | 10.4 | 205 | 5.250 |\n| Lincoln Continental | 10.4 | 215 | 5.424 |\n| Chrysler Imperial | 14.7 | 230 | 5.345 |\n| Fiat 128 | 32.4 |  66 | 2.200 |\n| Honda Civic | 30.4 |  52 | 1.615 |\n| Toyota Corolla | 33.9 |  65 | 1.835 |\n| Toyota Corona | 21.5 |  97 | 2.465 |\n| Dodge Challenger | 15.5 | 150 | 3.520 |\n| AMC Javelin | 15.2 | 150 | 3.435 |\n| Camaro Z28 | 13.3 | 245 | 3.840 |\n| Pontiac Firebird | 19.2 | 175 | 3.845 |\n| Fiat X1-9 | 27.3 |  66 | 1.935 |\n| Porsche 914-2 | 26.0 |  91 | 2.140 |\n| Lotus Europa | 30.4 | 113 | 1.513 |\n| Ford Pantera L | 15.8 | 264 | 3.170 |\n| Ferrari Dino | 19.7 | 175 | 2.770 |\n| Maserati Bora | 15.0 | 335 | 3.570 |\n| Volvo 142E | 21.4 | 109 | 2.780 |\n\n",
            "text/latex": "A data.frame: 32 × 3\n\\begin{tabular}{r|lll}\n  & mpg & hp & wt\\\\\n  & <dbl> & <dbl> & <dbl>\\\\\n\\hline\n\tMazda RX4 & 21.0 & 110 & 2.620\\\\\n\tMazda RX4 Wag & 21.0 & 110 & 2.875\\\\\n\tDatsun 710 & 22.8 &  93 & 2.320\\\\\n\tHornet 4 Drive & 21.4 & 110 & 3.215\\\\\n\tHornet Sportabout & 18.7 & 175 & 3.440\\\\\n\tValiant & 18.1 & 105 & 3.460\\\\\n\tDuster 360 & 14.3 & 245 & 3.570\\\\\n\tMerc 240D & 24.4 &  62 & 3.190\\\\\n\tMerc 230 & 22.8 &  95 & 3.150\\\\\n\tMerc 280 & 19.2 & 123 & 3.440\\\\\n\tMerc 280C & 17.8 & 123 & 3.440\\\\\n\tMerc 450SE & 16.4 & 180 & 4.070\\\\\n\tMerc 450SL & 17.3 & 180 & 3.730\\\\\n\tMerc 450SLC & 15.2 & 180 & 3.780\\\\\n\tCadillac Fleetwood & 10.4 & 205 & 5.250\\\\\n\tLincoln Continental & 10.4 & 215 & 5.424\\\\\n\tChrysler Imperial & 14.7 & 230 & 5.345\\\\\n\tFiat 128 & 32.4 &  66 & 2.200\\\\\n\tHonda Civic & 30.4 &  52 & 1.615\\\\\n\tToyota Corolla & 33.9 &  65 & 1.835\\\\\n\tToyota Corona & 21.5 &  97 & 2.465\\\\\n\tDodge Challenger & 15.5 & 150 & 3.520\\\\\n\tAMC Javelin & 15.2 & 150 & 3.435\\\\\n\tCamaro Z28 & 13.3 & 245 & 3.840\\\\\n\tPontiac Firebird & 19.2 & 175 & 3.845\\\\\n\tFiat X1-9 & 27.3 &  66 & 1.935\\\\\n\tPorsche 914-2 & 26.0 &  91 & 2.140\\\\\n\tLotus Europa & 30.4 & 113 & 1.513\\\\\n\tFord Pantera L & 15.8 & 264 & 3.170\\\\\n\tFerrari Dino & 19.7 & 175 & 2.770\\\\\n\tMaserati Bora & 15.0 & 335 & 3.570\\\\\n\tVolvo 142E & 21.4 & 109 & 2.780\\\\\n\\end{tabular}\n",
            "text/plain": [
              "                    mpg  hp  wt   \n",
              "Mazda RX4           21.0 110 2.620\n",
              "Mazda RX4 Wag       21.0 110 2.875\n",
              "Datsun 710          22.8  93 2.320\n",
              "Hornet 4 Drive      21.4 110 3.215\n",
              "Hornet Sportabout   18.7 175 3.440\n",
              "Valiant             18.1 105 3.460\n",
              "Duster 360          14.3 245 3.570\n",
              "Merc 240D           24.4  62 3.190\n",
              "Merc 230            22.8  95 3.150\n",
              "Merc 280            19.2 123 3.440\n",
              "Merc 280C           17.8 123 3.440\n",
              "Merc 450SE          16.4 180 4.070\n",
              "Merc 450SL          17.3 180 3.730\n",
              "Merc 450SLC         15.2 180 3.780\n",
              "Cadillac Fleetwood  10.4 205 5.250\n",
              "Lincoln Continental 10.4 215 5.424\n",
              "Chrysler Imperial   14.7 230 5.345\n",
              "Fiat 128            32.4  66 2.200\n",
              "Honda Civic         30.4  52 1.615\n",
              "Toyota Corolla      33.9  65 1.835\n",
              "Toyota Corona       21.5  97 2.465\n",
              "Dodge Challenger    15.5 150 3.520\n",
              "AMC Javelin         15.2 150 3.435\n",
              "Camaro Z28          13.3 245 3.840\n",
              "Pontiac Firebird    19.2 175 3.845\n",
              "Fiat X1-9           27.3  66 1.935\n",
              "Porsche 914-2       26.0  91 2.140\n",
              "Lotus Europa        30.4 113 1.513\n",
              "Ford Pantera L      15.8 264 3.170\n",
              "Ferrari Dino        19.7 175 2.770\n",
              "Maserati Bora       15.0 335 3.570\n",
              "Volvo 142E          21.4 109 2.780"
            ]
          },
          "metadata": {}
        }
      ]
    },
    {
      "cell_type": "markdown",
      "source": [
        "Для начала рассмотрим описательные статистики для всех 32 марок автомобилей в целом. Затем вычислим описательные статистики отдельно для каждого типа трансмиссии (am) и вида двигателя по расположению цилиндров (vs). Переменная, описывающая тип трансмиссии, имеет два возможных значения: 0 (автоматическая коробка) и 1 (механическая коробка). Переменная, описывающая расположение цилиндров, тоже имеет два значения: 0 (V-образное) и 1 (рядное)."
      ],
      "metadata": {
        "id": "NowoIcGLGYqj"
      }
    },
    {
      "cell_type": "markdown",
      "source": [
        "### Калейдоскоп методов\n",
        "Возможности R в отношении вычисления описательных статистик потрясают воображение. Начнем с функций, которые включены в базовую версию. Затем познакомимся с расширенными возможностями, которые становятся доступными после установки дополнительных пакетов. В базовой версии имеется функция summary(), вычисляющая описательные статистики."
      ],
      "metadata": {
        "id": "p6BxVqTqGyPU"
      }
    },
    {
      "cell_type": "code",
      "source": [
        "summary(mtcars[myvars])"
      ],
      "metadata": {
        "id": "xWHVvoPiHAi7",
        "outputId": "d713adf1-a65a-489c-d21b-2dc360ac6d46",
        "colab": {
          "base_uri": "https://localhost:8080/",
          "height": 138
        }
      },
      "execution_count": 3,
      "outputs": [
        {
          "output_type": "display_data",
          "data": {
            "text/plain": [
              "      mpg              hp              wt       \n",
              " Min.   :10.40   Min.   : 52.0   Min.   :1.513  \n",
              " 1st Qu.:15.43   1st Qu.: 96.5   1st Qu.:2.581  \n",
              " Median :19.20   Median :123.0   Median :3.325  \n",
              " Mean   :20.09   Mean   :146.7   Mean   :3.217  \n",
              " 3rd Qu.:22.80   3rd Qu.:180.0   3rd Qu.:3.610  \n",
              " Max.   :33.90   Max.   :335.0   Max.   :5.424  "
            ]
          },
          "metadata": {}
        }
      ]
    },
    {
      "cell_type": "markdown",
      "source": [
        "Функция `summary()` вычисляет минимум, максимум, квартили и среднее для числовых переменных и частоты значений для факторов и логических векторов. Можно также использовать функции `apply()` или `sapply()`, описанные в главе 5, и вычислять любые описательные статистики с их помощью. Функция `sapply()` имеет следующий синтаксис:\n",
        "```\n",
        "sapply(x, FUN, options)\n",
        "```\n",
        "где x – это таблица данных, а FUN – произвольная функция. Если заданы дополнительные параметры options, то они передаются функции FUN. Обычно в роли такой функции используются mean, sd, var, min, max, median, length, range и quantile. Функция fivenum() вычисляет пять описательных статистик Тьюки (Tukey) (минимум, нижний квартиль, медиана, верхний квартиль, максимум).\n",
        "\n",
        "Удивительно, но в базовой версии R нет функций для вычисления таких характеристик, как асимметрия и эксцесс распределения значений, однако вы можете написать их самостоятельно. Смотри ниже."
      ],
      "metadata": {
        "id": "8F5oWpX-NB28"
      }
    },
    {
      "cell_type": "code",
      "source": [
        "mystats <- function(x, na.omit=FALSE){\n",
        "  if (na.omit)\n",
        "  x <- x[!is.na(x)]\n",
        "  m <- mean(x)\n",
        "  n <- length(x)\n",
        "  s <- sd(x)\n",
        "  skew <- sum((x-m)^3/s^3)/n\n",
        "  kurt <- sum((x-m)^4/s^4)/n - 3\n",
        "  return(c(n=n, mean=m, stdev=s, skew=skew, kurtosis=kurt))\n",
        "  }"
      ],
      "metadata": {
        "id": "0cLsb9NpOcyk"
      },
      "execution_count": 4,
      "outputs": []
    },
    {
      "cell_type": "code",
      "source": [
        "sapply(mtcars[myvars], mystats)"
      ],
      "metadata": {
        "id": "7IF-sDY4O1WU",
        "outputId": "fb545d4d-0e77-4358-f898-5740afc63c7b",
        "colab": {
          "base_uri": "https://localhost:8080/",
          "height": 223
        }
      },
      "execution_count": 5,
      "outputs": [
        {
          "output_type": "display_data",
          "data": {
            "text/html": [
              "<table class=\"dataframe\">\n",
              "<caption>A matrix: 5 × 3 of type dbl</caption>\n",
              "<thead>\n",
              "\t<tr><th></th><th scope=col>mpg</th><th scope=col>hp</th><th scope=col>wt</th></tr>\n",
              "</thead>\n",
              "<tbody>\n",
              "\t<tr><th scope=row>n</th><td>32.000000</td><td> 32.0000000</td><td>32.00000000</td></tr>\n",
              "\t<tr><th scope=row>mean</th><td>20.090625</td><td>146.6875000</td><td> 3.21725000</td></tr>\n",
              "\t<tr><th scope=row>stdev</th><td> 6.026948</td><td> 68.5628685</td><td> 0.97845744</td></tr>\n",
              "\t<tr><th scope=row>skew</th><td> 0.610655</td><td>  0.7260237</td><td> 0.42314646</td></tr>\n",
              "\t<tr><th scope=row>kurtosis</th><td>-0.372766</td><td> -0.1355511</td><td>-0.02271075</td></tr>\n",
              "</tbody>\n",
              "</table>\n"
            ],
            "text/markdown": "\nA matrix: 5 × 3 of type dbl\n\n| <!--/--> | mpg | hp | wt |\n|---|---|---|---|\n| n | 32.000000 |  32.0000000 | 32.00000000 |\n| mean | 20.090625 | 146.6875000 |  3.21725000 |\n| stdev |  6.026948 |  68.5628685 |  0.97845744 |\n| skew |  0.610655 |   0.7260237 |  0.42314646 |\n| kurtosis | -0.372766 |  -0.1355511 | -0.02271075 |\n\n",
            "text/latex": "A matrix: 5 × 3 of type dbl\n\\begin{tabular}{r|lll}\n  & mpg & hp & wt\\\\\n\\hline\n\tn & 32.000000 &  32.0000000 & 32.00000000\\\\\n\tmean & 20.090625 & 146.6875000 &  3.21725000\\\\\n\tstdev &  6.026948 &  68.5628685 &  0.97845744\\\\\n\tskew &  0.610655 &   0.7260237 &  0.42314646\\\\\n\tkurtosis & -0.372766 &  -0.1355511 & -0.02271075\\\\\n\\end{tabular}\n",
            "text/plain": [
              "         mpg       hp          wt         \n",
              "n        32.000000  32.0000000 32.00000000\n",
              "mean     20.090625 146.6875000  3.21725000\n",
              "stdev     6.026948  68.5628685  0.97845744\n",
              "skew      0.610655   0.7260237  0.42314646\n",
              "kurtosis -0.372766  -0.1355511 -0.02271075"
            ]
          },
          "metadata": {}
        }
      ]
    },
    {
      "cell_type": "markdown",
      "source": [
        "Согласно полученным результатам, средний пробег в милях на галлон по всем маркам автомобилей составляет 20.1 мили со стандартным отклонением 6.0. Максимум кривой распределения значений смещен вправо (+0.61) и находится немного ниже максимума кривой нормального распределения (–0.37). Это будет хорошо заметно на графике. Отметьте также, что если понадобится удалить строки с пропущенными значениями, то вызов функции следует записать так:\n",
        "```\n",
        "sapply(mtcars[vars], mystats, na.omit=TRUE).\n",
        "```"
      ],
      "metadata": {
        "id": "giIRfH-4PSSq"
      }
    },
    {
      "cell_type": "markdown",
      "source": [
        "### Дополнительные возможности\n",
        "Функции для вычисления описательных статистик имеются также в некоторых дополнительных пакетах, таких как `Hmisc`, `pastecs`, `psych`, `skimr` и `summytools`. Из-за ограниченного пространства в книге я продемонстрирую только первые три, но вы в своей работе с успехом можете использовать все пять. Не забудьте установить эти пакеты перед первым использованием, потому что они не входят в состав дистрибутива R.\n",
        "\n",
        "\n",
        ">install.packages(\"survival\")\n",
        "\n",
        ">install.packages(\"lattice\")\n",
        "\n",
        ">install.packages(\"ggplot2\")\n",
        "\n",
        ">install.packages(\"Hmisc\")\n",
        "\n",
        "\n",
        "\n",
        "Функция `describe()` из пакета `Hmisc` выводит число переменных и наблюдений, число пропущенных и неповторяющихся значений, среднее, квартили, а также пять наименьших и пять наибольших значений. Пример представлен ниже."
      ],
      "metadata": {
        "id": "bZz3q4NOZoJO"
      }
    },
    {
      "cell_type": "code",
      "source": [
        "install.packages(\"Hmisc\")\n",
        "library(Hmisc)\n",
        "myvars <- c(\"mpg\", \"hp\", \"wt\")\n",
        "describe(mtcars[myvars])"
      ],
      "metadata": {
        "id": "hlwgF8rIaAL9",
        "outputId": "7b2c9e67-85b5-4da6-c6e1-d26dda5ada31",
        "colab": {
          "base_uri": "https://localhost:8080/",
          "height": 850
        }
      },
      "execution_count": 6,
      "outputs": [
        {
          "output_type": "stream",
          "name": "stderr",
          "text": [
            "Installing package into ‘/usr/local/lib/R/site-library’\n",
            "(as ‘lib’ is unspecified)\n",
            "\n",
            "also installing the dependencies ‘checkmate’, ‘htmlwidgets’, ‘gridExtra’, ‘htmlTable’, ‘viridis’, ‘Formula’\n",
            "\n",
            "\n",
            "\n",
            "Attaching package: ‘Hmisc’\n",
            "\n",
            "\n",
            "The following objects are masked from ‘package:dplyr’:\n",
            "\n",
            "    src, summarize\n",
            "\n",
            "\n",
            "The following objects are masked from ‘package:base’:\n",
            "\n",
            "    format.pval, units\n",
            "\n",
            "\n"
          ]
        },
        {
          "output_type": "display_data",
          "data": {
            "text/plain": [
              "mtcars[myvars] \n",
              "\n",
              " 3  Variables      32  Observations\n",
              "--------------------------------------------------------------------------------\n",
              "mpg \n",
              "       n  missing distinct     Info     Mean      Gmd      .05      .10 \n",
              "      32        0       25    0.999    20.09    6.796    12.00    14.34 \n",
              "     .25      .50      .75      .90      .95 \n",
              "   15.43    19.20    22.80    30.09    31.30 \n",
              "\n",
              "lowest : 10.4 13.3 14.3 14.7 15  , highest: 26   27.3 30.4 32.4 33.9\n",
              "--------------------------------------------------------------------------------\n",
              "hp \n",
              "       n  missing distinct     Info     Mean      Gmd      .05      .10 \n",
              "      32        0       22    0.997    146.7    77.04    63.65    66.00 \n",
              "     .25      .50      .75      .90      .95 \n",
              "   96.50   123.00   180.00   243.50   253.55 \n",
              "\n",
              "lowest :  52  62  65  66  91, highest: 215 230 245 264 335\n",
              "--------------------------------------------------------------------------------\n",
              "wt \n",
              "       n  missing distinct     Info     Mean      Gmd      .05      .10 \n",
              "      32        0       29    0.999    3.217    1.089    1.736    1.956 \n",
              "     .25      .50      .75      .90      .95 \n",
              "   2.581    3.325    3.610    4.048    5.293 \n",
              "\n",
              "lowest : 1.513 1.615 1.835 1.935 2.14 , highest: 3.845 4.07  5.25  5.345 5.424\n",
              "--------------------------------------------------------------------------------"
            ]
          },
          "metadata": {}
        }
      ]
    },
    {
      "cell_type": "markdown",
      "source": [
        "В пакете `pastecs` есть функция `stat.desc()`, вычисляющая множество описательных статистик. Она имеет следующий синтаксис:\n",
        "```\n",
        "stat.desc(x, basic=TRUE, desc=TRUE, norm=FALSE, p=0.95)\n",
        "```\n",
        "где x – это таблица данных или временной ряд. Если basic=TRUE (по умолчанию), то вычисляется число действительных, пустых (null) и пропущенных значений, минимум, максимум, размах и сумма. Если desc=TRUE (тоже по умолчанию), то вычисляются медиана, среднее арифметическое, стандартная ошибка среднего, 95%-ный доверительный интервал для среднего, дисперсия, стандартное отклонение и коэффициент вариации. Наконец, если norm=TRUE (не по умолчанию), вычисляются статистики нормального распределения, включая асимметрию и эксцесс (и их достоверность), и критерий Шапиро–Уилка (Shapiro-Wilk) соответствия нормальному распределению. Параметр p используется при вычислении доверительного интервала для среднего арифметического (по умолчанию он получает значение 0.95). Пример ниже:"
      ],
      "metadata": {
        "id": "XmCNbEErbAtV"
      }
    },
    {
      "cell_type": "code",
      "source": [
        "install.packages(\"pastecs\")\n",
        "library(pastecs)\n",
        "myvars <- c(\"mpg\", \"hp\", \"wt\")\n",
        "stat.desc(mtcars[myvars])"
      ],
      "metadata": {
        "id": "WAAiFIFubmVi",
        "outputId": "2433dd7d-d10e-4b28-ec35-fd856fc22c1e",
        "colab": {
          "base_uri": "https://localhost:8080/",
          "height": 832
        }
      },
      "execution_count": 7,
      "outputs": [
        {
          "output_type": "stream",
          "name": "stderr",
          "text": [
            "Installing package into ‘/usr/local/lib/R/site-library’\n",
            "(as ‘lib’ is unspecified)\n",
            "\n",
            "\n",
            "Attaching package: ‘pastecs’\n",
            "\n",
            "\n",
            "The following objects are masked from ‘package:dplyr’:\n",
            "\n",
            "    first, last\n",
            "\n",
            "\n",
            "The following object is masked from ‘package:tidyr’:\n",
            "\n",
            "    extract\n",
            "\n",
            "\n"
          ]
        },
        {
          "output_type": "display_data",
          "data": {
            "text/html": [
              "<table class=\"dataframe\">\n",
              "<caption>A data.frame: 14 × 3</caption>\n",
              "<thead>\n",
              "\t<tr><th></th><th scope=col>mpg</th><th scope=col>hp</th><th scope=col>wt</th></tr>\n",
              "\t<tr><th></th><th scope=col>&lt;dbl&gt;</th><th scope=col>&lt;dbl&gt;</th><th scope=col>&lt;dbl&gt;</th></tr>\n",
              "</thead>\n",
              "<tbody>\n",
              "\t<tr><th scope=row>nbr.val</th><td> 32.0000000</td><td>  32.0000000</td><td> 32.0000000</td></tr>\n",
              "\t<tr><th scope=row>nbr.null</th><td>  0.0000000</td><td>   0.0000000</td><td>  0.0000000</td></tr>\n",
              "\t<tr><th scope=row>nbr.na</th><td>  0.0000000</td><td>   0.0000000</td><td>  0.0000000</td></tr>\n",
              "\t<tr><th scope=row>min</th><td> 10.4000000</td><td>  52.0000000</td><td>  1.5130000</td></tr>\n",
              "\t<tr><th scope=row>max</th><td> 33.9000000</td><td> 335.0000000</td><td>  5.4240000</td></tr>\n",
              "\t<tr><th scope=row>range</th><td> 23.5000000</td><td> 283.0000000</td><td>  3.9110000</td></tr>\n",
              "\t<tr><th scope=row>sum</th><td>642.9000000</td><td>4694.0000000</td><td>102.9520000</td></tr>\n",
              "\t<tr><th scope=row>median</th><td> 19.2000000</td><td> 123.0000000</td><td>  3.3250000</td></tr>\n",
              "\t<tr><th scope=row>mean</th><td> 20.0906250</td><td> 146.6875000</td><td>  3.2172500</td></tr>\n",
              "\t<tr><th scope=row>SE.mean</th><td>  1.0654240</td><td>  12.1203173</td><td>  0.1729685</td></tr>\n",
              "\t<tr><th scope=row>CI.mean.0.95</th><td>  2.1729465</td><td>  24.7195501</td><td>  0.3527715</td></tr>\n",
              "\t<tr><th scope=row>var</th><td> 36.3241028</td><td>4700.8669355</td><td>  0.9573790</td></tr>\n",
              "\t<tr><th scope=row>std.dev</th><td>  6.0269481</td><td>  68.5628685</td><td>  0.9784574</td></tr>\n",
              "\t<tr><th scope=row>coef.var</th><td>  0.2999881</td><td>   0.4674077</td><td>  0.3041285</td></tr>\n",
              "</tbody>\n",
              "</table>\n"
            ],
            "text/markdown": "\nA data.frame: 14 × 3\n\n| <!--/--> | mpg &lt;dbl&gt; | hp &lt;dbl&gt; | wt &lt;dbl&gt; |\n|---|---|---|---|\n| nbr.val |  32.0000000 |   32.0000000 |  32.0000000 |\n| nbr.null |   0.0000000 |    0.0000000 |   0.0000000 |\n| nbr.na |   0.0000000 |    0.0000000 |   0.0000000 |\n| min |  10.4000000 |   52.0000000 |   1.5130000 |\n| max |  33.9000000 |  335.0000000 |   5.4240000 |\n| range |  23.5000000 |  283.0000000 |   3.9110000 |\n| sum | 642.9000000 | 4694.0000000 | 102.9520000 |\n| median |  19.2000000 |  123.0000000 |   3.3250000 |\n| mean |  20.0906250 |  146.6875000 |   3.2172500 |\n| SE.mean |   1.0654240 |   12.1203173 |   0.1729685 |\n| CI.mean.0.95 |   2.1729465 |   24.7195501 |   0.3527715 |\n| var |  36.3241028 | 4700.8669355 |   0.9573790 |\n| std.dev |   6.0269481 |   68.5628685 |   0.9784574 |\n| coef.var |   0.2999881 |    0.4674077 |   0.3041285 |\n\n",
            "text/latex": "A data.frame: 14 × 3\n\\begin{tabular}{r|lll}\n  & mpg & hp & wt\\\\\n  & <dbl> & <dbl> & <dbl>\\\\\n\\hline\n\tnbr.val &  32.0000000 &   32.0000000 &  32.0000000\\\\\n\tnbr.null &   0.0000000 &    0.0000000 &   0.0000000\\\\\n\tnbr.na &   0.0000000 &    0.0000000 &   0.0000000\\\\\n\tmin &  10.4000000 &   52.0000000 &   1.5130000\\\\\n\tmax &  33.9000000 &  335.0000000 &   5.4240000\\\\\n\trange &  23.5000000 &  283.0000000 &   3.9110000\\\\\n\tsum & 642.9000000 & 4694.0000000 & 102.9520000\\\\\n\tmedian &  19.2000000 &  123.0000000 &   3.3250000\\\\\n\tmean &  20.0906250 &  146.6875000 &   3.2172500\\\\\n\tSE.mean &   1.0654240 &   12.1203173 &   0.1729685\\\\\n\tCI.mean.0.95 &   2.1729465 &   24.7195501 &   0.3527715\\\\\n\tvar &  36.3241028 & 4700.8669355 &   0.9573790\\\\\n\tstd.dev &   6.0269481 &   68.5628685 &   0.9784574\\\\\n\tcoef.var &   0.2999881 &    0.4674077 &   0.3041285\\\\\n\\end{tabular}\n",
            "text/plain": [
              "             mpg         hp           wt         \n",
              "nbr.val       32.0000000   32.0000000  32.0000000\n",
              "nbr.null       0.0000000    0.0000000   0.0000000\n",
              "nbr.na         0.0000000    0.0000000   0.0000000\n",
              "min           10.4000000   52.0000000   1.5130000\n",
              "max           33.9000000  335.0000000   5.4240000\n",
              "range         23.5000000  283.0000000   3.9110000\n",
              "sum          642.9000000 4694.0000000 102.9520000\n",
              "median        19.2000000  123.0000000   3.3250000\n",
              "mean          20.0906250  146.6875000   3.2172500\n",
              "SE.mean        1.0654240   12.1203173   0.1729685\n",
              "CI.mean.0.95   2.1729465   24.7195501   0.3527715\n",
              "var           36.3241028 4700.8669355   0.9573790\n",
              "std.dev        6.0269481   68.5628685   0.9784574\n",
              "coef.var       0.2999881    0.4674077   0.3041285"
            ]
          },
          "metadata": {}
        }
      ]
    },
    {
      "cell_type": "markdown",
      "source": [
        "Как будто этого недостаточно, в пакете psych тоже есть функция с именем describe(), которая выводит на экран число действительных значений, среднее арифметическое, стандартное отклонение, усеченное среднее, минимум, максимум, размах, асимметрию, эксцесс и стандартную ошибку среднего."
      ],
      "metadata": {
        "id": "ika3pByLeMG1"
      }
    },
    {
      "cell_type": "code",
      "source": [
        "install.packages(\"psych\")\n",
        "library(psych)\n",
        "myvars <- c(\"mpg\", \"hp\", \"wt\")\n",
        "describe(mtcars[myvars])"
      ],
      "metadata": {
        "id": "Q1I0GyGseRl5",
        "outputId": "8d605c8e-d950-4d7b-f558-43fa52015fda",
        "colab": {
          "base_uri": "https://localhost:8080/",
          "height": 539
        }
      },
      "execution_count": 8,
      "outputs": [
        {
          "output_type": "stream",
          "name": "stderr",
          "text": [
            "Installing package into ‘/usr/local/lib/R/site-library’\n",
            "(as ‘lib’ is unspecified)\n",
            "\n",
            "also installing the dependencies ‘mnormt’, ‘GPArotation’\n",
            "\n",
            "\n",
            "\n",
            "Attaching package: ‘psych’\n",
            "\n",
            "\n",
            "The following object is masked from ‘package:Hmisc’:\n",
            "\n",
            "    describe\n",
            "\n",
            "\n",
            "The following objects are masked from ‘package:ggplot2’:\n",
            "\n",
            "    %+%, alpha\n",
            "\n",
            "\n"
          ]
        },
        {
          "output_type": "display_data",
          "data": {
            "text/html": [
              "<table class=\"dataframe\">\n",
              "<caption>A psych: 3 × 13</caption>\n",
              "<thead>\n",
              "\t<tr><th></th><th scope=col>vars</th><th scope=col>n</th><th scope=col>mean</th><th scope=col>sd</th><th scope=col>median</th><th scope=col>trimmed</th><th scope=col>mad</th><th scope=col>min</th><th scope=col>max</th><th scope=col>range</th><th scope=col>skew</th><th scope=col>kurtosis</th><th scope=col>se</th></tr>\n",
              "\t<tr><th></th><th scope=col>&lt;int&gt;</th><th scope=col>&lt;dbl&gt;</th><th scope=col>&lt;dbl&gt;</th><th scope=col>&lt;dbl&gt;</th><th scope=col>&lt;dbl&gt;</th><th scope=col>&lt;dbl&gt;</th><th scope=col>&lt;dbl&gt;</th><th scope=col>&lt;dbl&gt;</th><th scope=col>&lt;dbl&gt;</th><th scope=col>&lt;dbl&gt;</th><th scope=col>&lt;dbl&gt;</th><th scope=col>&lt;dbl&gt;</th><th scope=col>&lt;dbl&gt;</th></tr>\n",
              "</thead>\n",
              "<tbody>\n",
              "\t<tr><th scope=row>mpg</th><td>1</td><td>32</td><td> 20.09062</td><td> 6.0269481</td><td> 19.200</td><td> 19.696154</td><td> 5.4114900</td><td>10.400</td><td> 33.900</td><td> 23.500</td><td>0.6106550</td><td>-0.37276603</td><td> 1.0654240</td></tr>\n",
              "\t<tr><th scope=row>hp</th><td>2</td><td>32</td><td>146.68750</td><td>68.5628685</td><td>123.000</td><td>141.192308</td><td>77.0952000</td><td>52.000</td><td>335.000</td><td>283.000</td><td>0.7260237</td><td>-0.13555112</td><td>12.1203173</td></tr>\n",
              "\t<tr><th scope=row>wt</th><td>3</td><td>32</td><td>  3.21725</td><td> 0.9784574</td><td>  3.325</td><td>  3.152692</td><td> 0.7672455</td><td> 1.513</td><td>  5.424</td><td>  3.911</td><td>0.4231465</td><td>-0.02271075</td><td> 0.1729685</td></tr>\n",
              "</tbody>\n",
              "</table>\n"
            ],
            "text/markdown": "\nA psych: 3 × 13\n\n| <!--/--> | vars &lt;int&gt; | n &lt;dbl&gt; | mean &lt;dbl&gt; | sd &lt;dbl&gt; | median &lt;dbl&gt; | trimmed &lt;dbl&gt; | mad &lt;dbl&gt; | min &lt;dbl&gt; | max &lt;dbl&gt; | range &lt;dbl&gt; | skew &lt;dbl&gt; | kurtosis &lt;dbl&gt; | se &lt;dbl&gt; |\n|---|---|---|---|---|---|---|---|---|---|---|---|---|---|\n| mpg | 1 | 32 |  20.09062 |  6.0269481 |  19.200 |  19.696154 |  5.4114900 | 10.400 |  33.900 |  23.500 | 0.6106550 | -0.37276603 |  1.0654240 |\n| hp | 2 | 32 | 146.68750 | 68.5628685 | 123.000 | 141.192308 | 77.0952000 | 52.000 | 335.000 | 283.000 | 0.7260237 | -0.13555112 | 12.1203173 |\n| wt | 3 | 32 |   3.21725 |  0.9784574 |   3.325 |   3.152692 |  0.7672455 |  1.513 |   5.424 |   3.911 | 0.4231465 | -0.02271075 |  0.1729685 |\n\n",
            "text/latex": "A psych: 3 × 13\n\\begin{tabular}{r|lllllllllllll}\n  & vars & n & mean & sd & median & trimmed & mad & min & max & range & skew & kurtosis & se\\\\\n  & <int> & <dbl> & <dbl> & <dbl> & <dbl> & <dbl> & <dbl> & <dbl> & <dbl> & <dbl> & <dbl> & <dbl> & <dbl>\\\\\n\\hline\n\tmpg & 1 & 32 &  20.09062 &  6.0269481 &  19.200 &  19.696154 &  5.4114900 & 10.400 &  33.900 &  23.500 & 0.6106550 & -0.37276603 &  1.0654240\\\\\n\thp & 2 & 32 & 146.68750 & 68.5628685 & 123.000 & 141.192308 & 77.0952000 & 52.000 & 335.000 & 283.000 & 0.7260237 & -0.13555112 & 12.1203173\\\\\n\twt & 3 & 32 &   3.21725 &  0.9784574 &   3.325 &   3.152692 &  0.7672455 &  1.513 &   5.424 &   3.911 & 0.4231465 & -0.02271075 &  0.1729685\\\\\n\\end{tabular}\n",
            "text/plain": [
              "    vars n  mean      sd         median  trimmed    mad        min    max    \n",
              "mpg 1    32  20.09062  6.0269481  19.200  19.696154  5.4114900 10.400  33.900\n",
              "hp  2    32 146.68750 68.5628685 123.000 141.192308 77.0952000 52.000 335.000\n",
              "wt  3    32   3.21725  0.9784574   3.325   3.152692  0.7672455  1.513   5.424\n",
              "    range   skew      kurtosis    se        \n",
              "mpg  23.500 0.6106550 -0.37276603  1.0654240\n",
              "hp  283.000 0.7260237 -0.13555112 12.1203173\n",
              "wt    3.911 0.4231465 -0.02271075  0.1729685"
            ]
          },
          "metadata": {}
        }
      ]
    },
    {
      "cell_type": "markdown",
      "source": [
        "####Я же говорил вам, что возможности потрясают воображение!\n",
        "\n",
        "\n",
        ">ПРИМЕЧАНИЕ. Как показывают предыдущие примеры, функция с именем describe() определена и в пакете psych, и в пакете Hmisc. Как R узнает, какую из них выбрать? Очень просто: преимущество имеет пакет, загруженный последним, как это видно в листинге выше. В данном случае пакет psych загружается после Hmisc, и на экран выводится сообщение о том, что функция describe() из пакета Hmisc «замаскирована» функцией с таким же именем из пакета psych. Встретив вызов функции, R начинает поиск с пакета psych, обнаруживает ее там и вызывает. Чтобы воспользоваться функцией из пакета Hmisc, ее можно вызвать так: Hmisc::describe(mt). Сама функция никуда не делась, просто нужно подсказать R, где ее следует искать.\n",
        "\n",
        "Теперь, познакомившись со способами вычисления описательных статистик для набора данных в целом, посмотрим, как получить их для отдельных групп."
      ],
      "metadata": {
        "id": "B_5tsFgPjt_h"
      }
    },
    {
      "cell_type": "markdown",
      "source": [
        "### Вычисление описательных статистик для групп данных\n",
        "При сравнении групп объектов или наблюдений обычно обращают внимание на значения описательных статистик, характеризующих эти группы, а не на всю выборку в целом. Описательные статистики для групп можно получить с помощью функции by(), имеющей следующий синтаксис:\n",
        "```\n",
        "by(data, INDICES, FUN)\n",
        "```\n",
        "где data – это таблица данных или матрица, INDICES – фактор или список факторов, определяющих группы, и FUN – произвольная функция, оперирующая всеми столбцами в таблице данных. Пример использования этой функции приводится ниже."
      ],
      "metadata": {
        "id": "fAQyRklVkOEQ"
      }
    },
    {
      "cell_type": "code",
      "source": [
        "dstats <- function(x)sapply(x, mystats)\n",
        "myvars <- c(\"mpg\", \"hp\", \"wt\")\n",
        "by(mtcars[myvars], mtcars$am, dstats)"
      ],
      "metadata": {
        "id": "h_TNmdGgkNYp",
        "outputId": "e6dc1403-b392-4bb9-c575-104825656403",
        "colab": {
          "base_uri": "https://localhost:8080/",
          "height": 277
        }
      },
      "execution_count": 9,
      "outputs": [
        {
          "output_type": "display_data",
          "data": {
            "text/plain": [
              "mtcars$am: 0\n",
              "                 mpg           hp         wt\n",
              "n        19.00000000  19.00000000 19.0000000\n",
              "mean     17.14736842 160.26315789  3.7688947\n",
              "stdev     3.83396639  53.90819573  0.7774001\n",
              "skew      0.01395038  -0.01422519  0.9759294\n",
              "kurtosis -0.80317826  -1.20969733  0.1415676\n",
              "------------------------------------------------------------ \n",
              "mtcars$am: 1\n",
              "                 mpg          hp         wt\n",
              "n        13.00000000  13.0000000 13.0000000\n",
              "mean     24.39230769 126.8461538  2.4110000\n",
              "stdev     6.16650381  84.0623243  0.6169816\n",
              "skew      0.05256118   1.3598859  0.2103128\n",
              "kurtosis -1.45535200   0.5634635 -1.1737358"
            ]
          },
          "metadata": {}
        }
      ]
    },
    {
      "cell_type": "markdown",
      "source": [
        "В этом примере `dstats()` применяет функцию `mystats()` из листинга к каждому столбцу в таблице данных. Поместив ее в вызов функции `by()`, мы получаем описательные статистики для автомобилей с разными типами трансмиссии (am).\n",
        "\n",
        "Следующий пример демонстрирует получение описательных статистик для двух переменных (am и vs – тип трансмиссии и расположение цилиндров) и выводит результаты для каждой группы под заданными нами подписями (mpg, hp и wt – пробег в милях на галлон, мощность в лошадиных силах и вес соответственно). Кроме того, перед вычислением статистик он удаляет\n",
        "пропущенные значения."
      ],
      "metadata": {
        "id": "TzjUq4hbk1HR"
      }
    },
    {
      "cell_type": "code",
      "source": [
        "dstats <- function(x)sapply(x, mystats, na.omit=TRUE)\n",
        "myvars <- c(\"mpg\", \"hp\", \"wt\")\n",
        "by(mtcars[myvars], list(Transmission=mtcars$am, Engine=mtcars$vs), FUN=dstats)"
      ],
      "metadata": {
        "id": "KNXNP99SlRgC",
        "outputId": "faa460e3-b52a-4fba-eee2-81431bf3c857",
        "colab": {
          "base_uri": "https://localhost:8080/",
          "height": 624
        }
      },
      "execution_count": 10,
      "outputs": [
        {
          "output_type": "display_data",
          "data": {
            "text/plain": [
              "Transmission: 0\n",
              "Engine: 0\n",
              "                mpg          hp         wt\n",
              "n        12.0000000  12.0000000 12.0000000\n",
              "mean     15.0500000 194.1666667  4.1040833\n",
              "stdev     2.7743959  33.3598379  0.7683069\n",
              "skew     -0.2843325   0.2785849  0.8542070\n",
              "kurtosis -0.9635443  -1.4385375 -1.1433587\n",
              "------------------------------------------------------------ \n",
              "Transmission: 1\n",
              "Engine: 0\n",
              "                mpg          hp          wt\n",
              "n         6.0000000   6.0000000  6.00000000\n",
              "mean     19.7500000 180.8333333  2.85750000\n",
              "stdev     4.0088652  98.8158219  0.48672117\n",
              "skew      0.2050011   0.4842372  0.01270294\n",
              "kurtosis -1.5266040  -1.7270981 -1.40961807\n",
              "------------------------------------------------------------ \n",
              "Transmission: 0\n",
              "Engine: 1\n",
              "                mpg          hp         wt\n",
              "n         7.0000000   7.0000000  7.0000000\n",
              "mean     20.7428571 102.1428571  3.1942857\n",
              "stdev     2.4710707  20.9318622  0.3477598\n",
              "skew      0.1014749  -0.7248459 -1.1532766\n",
              "kurtosis -1.7480372  -0.7805708 -0.1170979\n",
              "------------------------------------------------------------ \n",
              "Transmission: 1\n",
              "Engine: 1\n",
              "                mpg         hp         wt\n",
              "n         7.0000000  7.0000000  7.0000000\n",
              "mean     28.3714286 80.5714286  2.0282857\n",
              "stdev     4.7577005 24.1444068  0.4400840\n",
              "skew     -0.3474537  0.2609545  0.4009511\n",
              "kurtosis -1.7290639 -1.9077611 -1.3677833"
            ]
          },
          "metadata": {}
        }
      ]
    },
    {
      "cell_type": "markdown",
      "source": [
        "В предыдущих примерах использовалась функция `mystats()`, но точно так же можно было бы использовать функцию `description()` из пакетов `Hmisc` и `psych` или `stat.desc()` из пакета `pastecs`. Фактически функция` by()` обеспечивает лишь общий механизм выполнения любого анализа по подгруппам."
      ],
      "metadata": {
        "id": "Tg0zcjztlsVu"
      }
    },
    {
      "cell_type": "markdown",
      "source": [
        "### Получение описательных статистик в интерактивном режиме с помощью dplyr\n",
        "До сих пор мы рассматривали методы, генерирующие полный набор описательных статистик для заданной таблицы данных. Однако в ходе интерактивных исследований часто стоит цель – получить ответы на конкретные вопросы. В таких случаях желательно получить ограниченное количество статистик по конкретным группам наблюдений.\n",
        "\n",
        "Пакет dplyr содержит инструменты для быстрого и гибкого решения этой задачи. Функции summarize() и summarize_all() можно использовать для вы\n",
        "числения любых статистик, а функцию group_by() – для описания групп, по которым следует вычислять статистики.\n",
        "\n",
        "В качестве примера зададим и ответим на ряд вопросов, используя таблицу данных Salaries из пакета carData. Этот набор данных содержит информацию о размере заработной платы за девять месяцев в долларах США (salary) в 2008–2009 годах для 397 преподавателей университета в США. Данные были собраны в рамках мониторинга разницы в заработной плате между преподавателями мужского и женского полов.\n",
        "\n",
        "Прежде чем продолжить, установите пакеты carData и dplyr\n",
        "(install.packages(c(\"carData\", \"dplyr\")) и затем загрузите их:"
      ],
      "metadata": {
        "id": "E2xUtUmQmXqK"
      }
    },
    {
      "cell_type": "code",
      "source": [
        "install.packages(\"carData\")\n",
        "library(dplyr)\n",
        "library(carData)"
      ],
      "metadata": {
        "id": "pu1N1QigxCkn",
        "outputId": "576cf07d-c235-4aaf-9156-4d068cb0610a",
        "colab": {
          "base_uri": "https://localhost:8080/"
        }
      },
      "execution_count": 11,
      "outputs": [
        {
          "output_type": "stream",
          "name": "stderr",
          "text": [
            "Installing package into ‘/usr/local/lib/R/site-library’\n",
            "(as ‘lib’ is unspecified)\n",
            "\n"
          ]
        }
      ]
    },
    {
      "cell_type": "code",
      "source": [
        "Salaries"
      ],
      "metadata": {
        "id": "fOIUGvOgxW3H",
        "outputId": "7bf5527f-340f-4b31-816f-ea56d5e97cb2",
        "colab": {
          "base_uri": "https://localhost:8080/",
          "height": 1000
        }
      },
      "execution_count": 12,
      "outputs": [
        {
          "output_type": "display_data",
          "data": {
            "text/html": [
              "<table class=\"dataframe\">\n",
              "<caption>A data.frame: 397 × 6</caption>\n",
              "<thead>\n",
              "\t<tr><th scope=col>rank</th><th scope=col>discipline</th><th scope=col>yrs.since.phd</th><th scope=col>yrs.service</th><th scope=col>sex</th><th scope=col>salary</th></tr>\n",
              "\t<tr><th scope=col>&lt;fct&gt;</th><th scope=col>&lt;fct&gt;</th><th scope=col>&lt;int&gt;</th><th scope=col>&lt;int&gt;</th><th scope=col>&lt;fct&gt;</th><th scope=col>&lt;int&gt;</th></tr>\n",
              "</thead>\n",
              "<tbody>\n",
              "\t<tr><td>Prof     </td><td>B</td><td>19</td><td>18</td><td>Male  </td><td>139750</td></tr>\n",
              "\t<tr><td>Prof     </td><td>B</td><td>20</td><td>16</td><td>Male  </td><td>173200</td></tr>\n",
              "\t<tr><td>AsstProf </td><td>B</td><td> 4</td><td> 3</td><td>Male  </td><td> 79750</td></tr>\n",
              "\t<tr><td>Prof     </td><td>B</td><td>45</td><td>39</td><td>Male  </td><td>115000</td></tr>\n",
              "\t<tr><td>Prof     </td><td>B</td><td>40</td><td>41</td><td>Male  </td><td>141500</td></tr>\n",
              "\t<tr><td>AssocProf</td><td>B</td><td> 6</td><td> 6</td><td>Male  </td><td> 97000</td></tr>\n",
              "\t<tr><td>Prof     </td><td>B</td><td>30</td><td>23</td><td>Male  </td><td>175000</td></tr>\n",
              "\t<tr><td>Prof     </td><td>B</td><td>45</td><td>45</td><td>Male  </td><td>147765</td></tr>\n",
              "\t<tr><td>Prof     </td><td>B</td><td>21</td><td>20</td><td>Male  </td><td>119250</td></tr>\n",
              "\t<tr><td>Prof     </td><td>B</td><td>18</td><td>18</td><td>Female</td><td>129000</td></tr>\n",
              "\t<tr><td>AssocProf</td><td>B</td><td>12</td><td> 8</td><td>Male  </td><td>119800</td></tr>\n",
              "\t<tr><td>AsstProf </td><td>B</td><td> 7</td><td> 2</td><td>Male  </td><td> 79800</td></tr>\n",
              "\t<tr><td>AsstProf </td><td>B</td><td> 1</td><td> 1</td><td>Male  </td><td> 77700</td></tr>\n",
              "\t<tr><td>AsstProf </td><td>B</td><td> 2</td><td> 0</td><td>Male  </td><td> 78000</td></tr>\n",
              "\t<tr><td>Prof     </td><td>B</td><td>20</td><td>18</td><td>Male  </td><td>104800</td></tr>\n",
              "\t<tr><td>Prof     </td><td>B</td><td>12</td><td> 3</td><td>Male  </td><td>117150</td></tr>\n",
              "\t<tr><td>Prof     </td><td>B</td><td>19</td><td>20</td><td>Male  </td><td>101000</td></tr>\n",
              "\t<tr><td>Prof     </td><td>A</td><td>38</td><td>34</td><td>Male  </td><td>103450</td></tr>\n",
              "\t<tr><td>Prof     </td><td>A</td><td>37</td><td>23</td><td>Male  </td><td>124750</td></tr>\n",
              "\t<tr><td>Prof     </td><td>A</td><td>39</td><td>36</td><td>Female</td><td>137000</td></tr>\n",
              "\t<tr><td>Prof     </td><td>A</td><td>31</td><td>26</td><td>Male  </td><td> 89565</td></tr>\n",
              "\t<tr><td>Prof     </td><td>A</td><td>36</td><td>31</td><td>Male  </td><td>102580</td></tr>\n",
              "\t<tr><td>Prof     </td><td>A</td><td>34</td><td>30</td><td>Male  </td><td> 93904</td></tr>\n",
              "\t<tr><td>Prof     </td><td>A</td><td>24</td><td>19</td><td>Male  </td><td>113068</td></tr>\n",
              "\t<tr><td>AssocProf</td><td>A</td><td>13</td><td> 8</td><td>Female</td><td> 74830</td></tr>\n",
              "\t<tr><td>Prof     </td><td>A</td><td>21</td><td> 8</td><td>Male  </td><td>106294</td></tr>\n",
              "\t<tr><td>Prof     </td><td>A</td><td>35</td><td>23</td><td>Male  </td><td>134885</td></tr>\n",
              "\t<tr><td>AsstProf </td><td>B</td><td> 5</td><td> 3</td><td>Male  </td><td> 82379</td></tr>\n",
              "\t<tr><td>AsstProf </td><td>B</td><td>11</td><td> 0</td><td>Male  </td><td> 77000</td></tr>\n",
              "\t<tr><td>Prof     </td><td>B</td><td>12</td><td> 8</td><td>Male  </td><td>118223</td></tr>\n",
              "\t<tr><td>⋮</td><td>⋮</td><td>⋮</td><td>⋮</td><td>⋮</td><td>⋮</td></tr>\n",
              "\t<tr><td>AssocProf</td><td>A</td><td>10</td><td> 1</td><td>Male</td><td>108413</td></tr>\n",
              "\t<tr><td>Prof     </td><td>A</td><td>35</td><td>30</td><td>Male</td><td>131950</td></tr>\n",
              "\t<tr><td>Prof     </td><td>A</td><td>33</td><td>31</td><td>Male</td><td>134690</td></tr>\n",
              "\t<tr><td>AssocProf</td><td>A</td><td>13</td><td> 8</td><td>Male</td><td> 78182</td></tr>\n",
              "\t<tr><td>Prof     </td><td>A</td><td>23</td><td>20</td><td>Male</td><td>110515</td></tr>\n",
              "\t<tr><td>Prof     </td><td>A</td><td>12</td><td> 7</td><td>Male</td><td>109707</td></tr>\n",
              "\t<tr><td>Prof     </td><td>A</td><td>30</td><td>26</td><td>Male</td><td>136660</td></tr>\n",
              "\t<tr><td>Prof     </td><td>A</td><td>27</td><td>19</td><td>Male</td><td>103275</td></tr>\n",
              "\t<tr><td>Prof     </td><td>A</td><td>28</td><td>26</td><td>Male</td><td>103649</td></tr>\n",
              "\t<tr><td>AsstProf </td><td>A</td><td> 4</td><td> 1</td><td>Male</td><td> 74856</td></tr>\n",
              "\t<tr><td>AsstProf </td><td>A</td><td> 6</td><td> 3</td><td>Male</td><td> 77081</td></tr>\n",
              "\t<tr><td>Prof     </td><td>A</td><td>38</td><td>38</td><td>Male</td><td>150680</td></tr>\n",
              "\t<tr><td>AssocProf</td><td>A</td><td>11</td><td> 8</td><td>Male</td><td>104121</td></tr>\n",
              "\t<tr><td>AsstProf </td><td>A</td><td> 8</td><td> 3</td><td>Male</td><td> 75996</td></tr>\n",
              "\t<tr><td>Prof     </td><td>A</td><td>27</td><td>23</td><td>Male</td><td>172505</td></tr>\n",
              "\t<tr><td>AssocProf</td><td>A</td><td> 8</td><td> 5</td><td>Male</td><td> 86895</td></tr>\n",
              "\t<tr><td>Prof     </td><td>A</td><td>44</td><td>44</td><td>Male</td><td>105000</td></tr>\n",
              "\t<tr><td>Prof     </td><td>A</td><td>27</td><td>21</td><td>Male</td><td>125192</td></tr>\n",
              "\t<tr><td>Prof     </td><td>A</td><td>15</td><td> 9</td><td>Male</td><td>114330</td></tr>\n",
              "\t<tr><td>Prof     </td><td>A</td><td>29</td><td>27</td><td>Male</td><td>139219</td></tr>\n",
              "\t<tr><td>Prof     </td><td>A</td><td>29</td><td>15</td><td>Male</td><td>109305</td></tr>\n",
              "\t<tr><td>Prof     </td><td>A</td><td>38</td><td>36</td><td>Male</td><td>119450</td></tr>\n",
              "\t<tr><td>Prof     </td><td>A</td><td>33</td><td>18</td><td>Male</td><td>186023</td></tr>\n",
              "\t<tr><td>Prof     </td><td>A</td><td>40</td><td>19</td><td>Male</td><td>166605</td></tr>\n",
              "\t<tr><td>Prof     </td><td>A</td><td>30</td><td>19</td><td>Male</td><td>151292</td></tr>\n",
              "\t<tr><td>Prof     </td><td>A</td><td>33</td><td>30</td><td>Male</td><td>103106</td></tr>\n",
              "\t<tr><td>Prof     </td><td>A</td><td>31</td><td>19</td><td>Male</td><td>150564</td></tr>\n",
              "\t<tr><td>Prof     </td><td>A</td><td>42</td><td>25</td><td>Male</td><td>101738</td></tr>\n",
              "\t<tr><td>Prof     </td><td>A</td><td>25</td><td>15</td><td>Male</td><td> 95329</td></tr>\n",
              "\t<tr><td>AsstProf </td><td>A</td><td> 8</td><td> 4</td><td>Male</td><td> 81035</td></tr>\n",
              "</tbody>\n",
              "</table>\n"
            ],
            "text/markdown": "\nA data.frame: 397 × 6\n\n| rank &lt;fct&gt; | discipline &lt;fct&gt; | yrs.since.phd &lt;int&gt; | yrs.service &lt;int&gt; | sex &lt;fct&gt; | salary &lt;int&gt; |\n|---|---|---|---|---|---|\n| Prof      | B | 19 | 18 | Male   | 139750 |\n| Prof      | B | 20 | 16 | Male   | 173200 |\n| AsstProf  | B |  4 |  3 | Male   |  79750 |\n| Prof      | B | 45 | 39 | Male   | 115000 |\n| Prof      | B | 40 | 41 | Male   | 141500 |\n| AssocProf | B |  6 |  6 | Male   |  97000 |\n| Prof      | B | 30 | 23 | Male   | 175000 |\n| Prof      | B | 45 | 45 | Male   | 147765 |\n| Prof      | B | 21 | 20 | Male   | 119250 |\n| Prof      | B | 18 | 18 | Female | 129000 |\n| AssocProf | B | 12 |  8 | Male   | 119800 |\n| AsstProf  | B |  7 |  2 | Male   |  79800 |\n| AsstProf  | B |  1 |  1 | Male   |  77700 |\n| AsstProf  | B |  2 |  0 | Male   |  78000 |\n| Prof      | B | 20 | 18 | Male   | 104800 |\n| Prof      | B | 12 |  3 | Male   | 117150 |\n| Prof      | B | 19 | 20 | Male   | 101000 |\n| Prof      | A | 38 | 34 | Male   | 103450 |\n| Prof      | A | 37 | 23 | Male   | 124750 |\n| Prof      | A | 39 | 36 | Female | 137000 |\n| Prof      | A | 31 | 26 | Male   |  89565 |\n| Prof      | A | 36 | 31 | Male   | 102580 |\n| Prof      | A | 34 | 30 | Male   |  93904 |\n| Prof      | A | 24 | 19 | Male   | 113068 |\n| AssocProf | A | 13 |  8 | Female |  74830 |\n| Prof      | A | 21 |  8 | Male   | 106294 |\n| Prof      | A | 35 | 23 | Male   | 134885 |\n| AsstProf  | B |  5 |  3 | Male   |  82379 |\n| AsstProf  | B | 11 |  0 | Male   |  77000 |\n| Prof      | B | 12 |  8 | Male   | 118223 |\n| ⋮ | ⋮ | ⋮ | ⋮ | ⋮ | ⋮ |\n| AssocProf | A | 10 |  1 | Male | 108413 |\n| Prof      | A | 35 | 30 | Male | 131950 |\n| Prof      | A | 33 | 31 | Male | 134690 |\n| AssocProf | A | 13 |  8 | Male |  78182 |\n| Prof      | A | 23 | 20 | Male | 110515 |\n| Prof      | A | 12 |  7 | Male | 109707 |\n| Prof      | A | 30 | 26 | Male | 136660 |\n| Prof      | A | 27 | 19 | Male | 103275 |\n| Prof      | A | 28 | 26 | Male | 103649 |\n| AsstProf  | A |  4 |  1 | Male |  74856 |\n| AsstProf  | A |  6 |  3 | Male |  77081 |\n| Prof      | A | 38 | 38 | Male | 150680 |\n| AssocProf | A | 11 |  8 | Male | 104121 |\n| AsstProf  | A |  8 |  3 | Male |  75996 |\n| Prof      | A | 27 | 23 | Male | 172505 |\n| AssocProf | A |  8 |  5 | Male |  86895 |\n| Prof      | A | 44 | 44 | Male | 105000 |\n| Prof      | A | 27 | 21 | Male | 125192 |\n| Prof      | A | 15 |  9 | Male | 114330 |\n| Prof      | A | 29 | 27 | Male | 139219 |\n| Prof      | A | 29 | 15 | Male | 109305 |\n| Prof      | A | 38 | 36 | Male | 119450 |\n| Prof      | A | 33 | 18 | Male | 186023 |\n| Prof      | A | 40 | 19 | Male | 166605 |\n| Prof      | A | 30 | 19 | Male | 151292 |\n| Prof      | A | 33 | 30 | Male | 103106 |\n| Prof      | A | 31 | 19 | Male | 150564 |\n| Prof      | A | 42 | 25 | Male | 101738 |\n| Prof      | A | 25 | 15 | Male |  95329 |\n| AsstProf  | A |  8 |  4 | Male |  81035 |\n\n",
            "text/latex": "A data.frame: 397 × 6\n\\begin{tabular}{llllll}\n rank & discipline & yrs.since.phd & yrs.service & sex & salary\\\\\n <fct> & <fct> & <int> & <int> & <fct> & <int>\\\\\n\\hline\n\t Prof      & B & 19 & 18 & Male   & 139750\\\\\n\t Prof      & B & 20 & 16 & Male   & 173200\\\\\n\t AsstProf  & B &  4 &  3 & Male   &  79750\\\\\n\t Prof      & B & 45 & 39 & Male   & 115000\\\\\n\t Prof      & B & 40 & 41 & Male   & 141500\\\\\n\t AssocProf & B &  6 &  6 & Male   &  97000\\\\\n\t Prof      & B & 30 & 23 & Male   & 175000\\\\\n\t Prof      & B & 45 & 45 & Male   & 147765\\\\\n\t Prof      & B & 21 & 20 & Male   & 119250\\\\\n\t Prof      & B & 18 & 18 & Female & 129000\\\\\n\t AssocProf & B & 12 &  8 & Male   & 119800\\\\\n\t AsstProf  & B &  7 &  2 & Male   &  79800\\\\\n\t AsstProf  & B &  1 &  1 & Male   &  77700\\\\\n\t AsstProf  & B &  2 &  0 & Male   &  78000\\\\\n\t Prof      & B & 20 & 18 & Male   & 104800\\\\\n\t Prof      & B & 12 &  3 & Male   & 117150\\\\\n\t Prof      & B & 19 & 20 & Male   & 101000\\\\\n\t Prof      & A & 38 & 34 & Male   & 103450\\\\\n\t Prof      & A & 37 & 23 & Male   & 124750\\\\\n\t Prof      & A & 39 & 36 & Female & 137000\\\\\n\t Prof      & A & 31 & 26 & Male   &  89565\\\\\n\t Prof      & A & 36 & 31 & Male   & 102580\\\\\n\t Prof      & A & 34 & 30 & Male   &  93904\\\\\n\t Prof      & A & 24 & 19 & Male   & 113068\\\\\n\t AssocProf & A & 13 &  8 & Female &  74830\\\\\n\t Prof      & A & 21 &  8 & Male   & 106294\\\\\n\t Prof      & A & 35 & 23 & Male   & 134885\\\\\n\t AsstProf  & B &  5 &  3 & Male   &  82379\\\\\n\t AsstProf  & B & 11 &  0 & Male   &  77000\\\\\n\t Prof      & B & 12 &  8 & Male   & 118223\\\\\n\t ⋮ & ⋮ & ⋮ & ⋮ & ⋮ & ⋮\\\\\n\t AssocProf & A & 10 &  1 & Male & 108413\\\\\n\t Prof      & A & 35 & 30 & Male & 131950\\\\\n\t Prof      & A & 33 & 31 & Male & 134690\\\\\n\t AssocProf & A & 13 &  8 & Male &  78182\\\\\n\t Prof      & A & 23 & 20 & Male & 110515\\\\\n\t Prof      & A & 12 &  7 & Male & 109707\\\\\n\t Prof      & A & 30 & 26 & Male & 136660\\\\\n\t Prof      & A & 27 & 19 & Male & 103275\\\\\n\t Prof      & A & 28 & 26 & Male & 103649\\\\\n\t AsstProf  & A &  4 &  1 & Male &  74856\\\\\n\t AsstProf  & A &  6 &  3 & Male &  77081\\\\\n\t Prof      & A & 38 & 38 & Male & 150680\\\\\n\t AssocProf & A & 11 &  8 & Male & 104121\\\\\n\t AsstProf  & A &  8 &  3 & Male &  75996\\\\\n\t Prof      & A & 27 & 23 & Male & 172505\\\\\n\t AssocProf & A &  8 &  5 & Male &  86895\\\\\n\t Prof      & A & 44 & 44 & Male & 105000\\\\\n\t Prof      & A & 27 & 21 & Male & 125192\\\\\n\t Prof      & A & 15 &  9 & Male & 114330\\\\\n\t Prof      & A & 29 & 27 & Male & 139219\\\\\n\t Prof      & A & 29 & 15 & Male & 109305\\\\\n\t Prof      & A & 38 & 36 & Male & 119450\\\\\n\t Prof      & A & 33 & 18 & Male & 186023\\\\\n\t Prof      & A & 40 & 19 & Male & 166605\\\\\n\t Prof      & A & 30 & 19 & Male & 151292\\\\\n\t Prof      & A & 33 & 30 & Male & 103106\\\\\n\t Prof      & A & 31 & 19 & Male & 150564\\\\\n\t Prof      & A & 42 & 25 & Male & 101738\\\\\n\t Prof      & A & 25 & 15 & Male &  95329\\\\\n\t AsstProf  & A &  8 &  4 & Male &  81035\\\\\n\\end{tabular}\n",
            "text/plain": [
              "    rank      discipline yrs.since.phd yrs.service sex    salary\n",
              "1   Prof      B          19            18          Male   139750\n",
              "2   Prof      B          20            16          Male   173200\n",
              "3   AsstProf  B           4             3          Male    79750\n",
              "4   Prof      B          45            39          Male   115000\n",
              "5   Prof      B          40            41          Male   141500\n",
              "6   AssocProf B           6             6          Male    97000\n",
              "7   Prof      B          30            23          Male   175000\n",
              "8   Prof      B          45            45          Male   147765\n",
              "9   Prof      B          21            20          Male   119250\n",
              "10  Prof      B          18            18          Female 129000\n",
              "11  AssocProf B          12             8          Male   119800\n",
              "12  AsstProf  B           7             2          Male    79800\n",
              "13  AsstProf  B           1             1          Male    77700\n",
              "14  AsstProf  B           2             0          Male    78000\n",
              "15  Prof      B          20            18          Male   104800\n",
              "16  Prof      B          12             3          Male   117150\n",
              "17  Prof      B          19            20          Male   101000\n",
              "18  Prof      A          38            34          Male   103450\n",
              "19  Prof      A          37            23          Male   124750\n",
              "20  Prof      A          39            36          Female 137000\n",
              "21  Prof      A          31            26          Male    89565\n",
              "22  Prof      A          36            31          Male   102580\n",
              "23  Prof      A          34            30          Male    93904\n",
              "24  Prof      A          24            19          Male   113068\n",
              "25  AssocProf A          13             8          Female  74830\n",
              "26  Prof      A          21             8          Male   106294\n",
              "27  Prof      A          35            23          Male   134885\n",
              "28  AsstProf  B           5             3          Male    82379\n",
              "29  AsstProf  B          11             0          Male    77000\n",
              "30  Prof      B          12             8          Male   118223\n",
              "⋮   ⋮         ⋮          ⋮             ⋮           ⋮      ⋮     \n",
              "368 AssocProf A          10             1          Male   108413\n",
              "369 Prof      A          35            30          Male   131950\n",
              "370 Prof      A          33            31          Male   134690\n",
              "371 AssocProf A          13             8          Male    78182\n",
              "372 Prof      A          23            20          Male   110515\n",
              "373 Prof      A          12             7          Male   109707\n",
              "374 Prof      A          30            26          Male   136660\n",
              "375 Prof      A          27            19          Male   103275\n",
              "376 Prof      A          28            26          Male   103649\n",
              "377 AsstProf  A           4             1          Male    74856\n",
              "378 AsstProf  A           6             3          Male    77081\n",
              "379 Prof      A          38            38          Male   150680\n",
              "380 AssocProf A          11             8          Male   104121\n",
              "381 AsstProf  A           8             3          Male    75996\n",
              "382 Prof      A          27            23          Male   172505\n",
              "383 AssocProf A           8             5          Male    86895\n",
              "384 Prof      A          44            44          Male   105000\n",
              "385 Prof      A          27            21          Male   125192\n",
              "386 Prof      A          15             9          Male   114330\n",
              "387 Prof      A          29            27          Male   139219\n",
              "388 Prof      A          29            15          Male   109305\n",
              "389 Prof      A          38            36          Male   119450\n",
              "390 Prof      A          33            18          Male   186023\n",
              "391 Prof      A          40            19          Male   166605\n",
              "392 Prof      A          30            19          Male   151292\n",
              "393 Prof      A          33            30          Male   103106\n",
              "394 Prof      A          31            19          Male   150564\n",
              "395 Prof      A          42            25          Male   101738\n",
              "396 Prof      A          25            15          Male    95329\n",
              "397 AsstProf  A           8             4          Male    81035"
            ]
          },
          "metadata": {}
        }
      ]
    },
    {
      "cell_type": "code",
      "source": [
        "Salaries %>%\n",
        "  summarise(med = median(salary), min = min(salary), max = max(salary))"
      ],
      "metadata": {
        "id": "00YHZy-Fyisa",
        "outputId": "bd8dc830-3846-4784-9b1a-c256dbb5638d",
        "colab": {
          "base_uri": "https://localhost:8080/",
          "height": 129
        }
      },
      "execution_count": 13,
      "outputs": [
        {
          "output_type": "display_data",
          "data": {
            "text/html": [
              "<table class=\"dataframe\">\n",
              "<caption>A data.frame: 1 × 3</caption>\n",
              "<thead>\n",
              "\t<tr><th scope=col>med</th><th scope=col>min</th><th scope=col>max</th></tr>\n",
              "\t<tr><th scope=col>&lt;int&gt;</th><th scope=col>&lt;int&gt;</th><th scope=col>&lt;int&gt;</th></tr>\n",
              "</thead>\n",
              "<tbody>\n",
              "\t<tr><td>107300</td><td>57800</td><td>231545</td></tr>\n",
              "</tbody>\n",
              "</table>\n"
            ],
            "text/markdown": "\nA data.frame: 1 × 3\n\n| med &lt;int&gt; | min &lt;int&gt; | max &lt;int&gt; |\n|---|---|---|\n| 107300 | 57800 | 231545 |\n\n",
            "text/latex": "A data.frame: 1 × 3\n\\begin{tabular}{lll}\n med & min & max\\\\\n <int> & <int> & <int>\\\\\n\\hline\n\t 107300 & 57800 & 231545\\\\\n\\end{tabular}\n",
            "text/plain": [
              "  med    min   max   \n",
              "1 107300 57800 231545"
            ]
          },
          "metadata": {}
        }
      ]
    },
    {
      "cell_type": "markdown",
      "source": [
        "Набор данных Salaries передается функции summarise(), которая вычисляет медиану, минимальное и максимальное значения зарплаты и возвращает результат в виде однострочной таблицы данных.\n",
        "\n",
        "Средняя зарплата за девять месяцев составляет 107 300 долларов, и по крайней мере один человек заработал более 230 000 долларов. Очевидно, что я имею полное право просить о повышении.\n",
        "\n",
        "Каково количество преподавателей, средняя заработная плата\n",
        "и размах в зависимости от пола и должности?"
      ],
      "metadata": {
        "id": "-4QNagpm6mPa"
      }
    },
    {
      "cell_type": "code",
      "source": [
        "Salaries %>%\n",
        "  group_by(rank, sex)%>%\n",
        "  summarise(n = length(salary), med = median(salary), min = min(salary), max = max(salary))"
      ],
      "metadata": {
        "id": "C43XNYxr66Ul",
        "outputId": "72e9bdaa-c10e-455b-c124-5554c8482503",
        "colab": {
          "base_uri": "https://localhost:8080/",
          "height": 321
        }
      },
      "execution_count": 14,
      "outputs": [
        {
          "output_type": "stream",
          "name": "stderr",
          "text": [
            "\u001b[1m\u001b[22m`summarise()` has grouped output by 'rank'. You can override using the\n",
            "`.groups` argument.\n"
          ]
        },
        {
          "output_type": "display_data",
          "data": {
            "text/html": [
              "<table class=\"dataframe\">\n",
              "<caption>A grouped_df: 6 × 6</caption>\n",
              "<thead>\n",
              "\t<tr><th scope=col>rank</th><th scope=col>sex</th><th scope=col>n</th><th scope=col>med</th><th scope=col>min</th><th scope=col>max</th></tr>\n",
              "\t<tr><th scope=col>&lt;fct&gt;</th><th scope=col>&lt;fct&gt;</th><th scope=col>&lt;int&gt;</th><th scope=col>&lt;dbl&gt;</th><th scope=col>&lt;int&gt;</th><th scope=col>&lt;int&gt;</th></tr>\n",
              "</thead>\n",
              "<tbody>\n",
              "\t<tr><td>AsstProf </td><td>Female</td><td> 11</td><td> 77000.0</td><td>63100</td><td> 97032</td></tr>\n",
              "\t<tr><td>AsstProf </td><td>Male  </td><td> 56</td><td> 80182.0</td><td>63900</td><td> 95079</td></tr>\n",
              "\t<tr><td>AssocProf</td><td>Female</td><td> 10</td><td> 90556.5</td><td>62884</td><td>109650</td></tr>\n",
              "\t<tr><td>AssocProf</td><td>Male  </td><td> 54</td><td> 95626.5</td><td>70000</td><td>126431</td></tr>\n",
              "\t<tr><td>Prof     </td><td>Female</td><td> 18</td><td>120257.5</td><td>90450</td><td>161101</td></tr>\n",
              "\t<tr><td>Prof     </td><td>Male  </td><td>248</td><td>123996.0</td><td>57800</td><td>231545</td></tr>\n",
              "</tbody>\n",
              "</table>\n"
            ],
            "text/markdown": "\nA grouped_df: 6 × 6\n\n| rank &lt;fct&gt; | sex &lt;fct&gt; | n &lt;int&gt; | med &lt;dbl&gt; | min &lt;int&gt; | max &lt;int&gt; |\n|---|---|---|---|---|---|\n| AsstProf  | Female |  11 |  77000.0 | 63100 |  97032 |\n| AsstProf  | Male   |  56 |  80182.0 | 63900 |  95079 |\n| AssocProf | Female |  10 |  90556.5 | 62884 | 109650 |\n| AssocProf | Male   |  54 |  95626.5 | 70000 | 126431 |\n| Prof      | Female |  18 | 120257.5 | 90450 | 161101 |\n| Prof      | Male   | 248 | 123996.0 | 57800 | 231545 |\n\n",
            "text/latex": "A grouped\\_df: 6 × 6\n\\begin{tabular}{llllll}\n rank & sex & n & med & min & max\\\\\n <fct> & <fct> & <int> & <dbl> & <int> & <int>\\\\\n\\hline\n\t AsstProf  & Female &  11 &  77000.0 & 63100 &  97032\\\\\n\t AsstProf  & Male   &  56 &  80182.0 & 63900 &  95079\\\\\n\t AssocProf & Female &  10 &  90556.5 & 62884 & 109650\\\\\n\t AssocProf & Male   &  54 &  95626.5 & 70000 & 126431\\\\\n\t Prof      & Female &  18 & 120257.5 & 90450 & 161101\\\\\n\t Prof      & Male   & 248 & 123996.0 & 57800 & 231545\\\\\n\\end{tabular}\n",
            "text/plain": [
              "  rank      sex    n   med      min   max   \n",
              "1 AsstProf  Female  11  77000.0 63100  97032\n",
              "2 AsstProf  Male    56  80182.0 63900  95079\n",
              "3 AssocProf Female  10  90556.5 62884 109650\n",
              "4 AssocProf Male    54  95626.5 70000 126431\n",
              "5 Prof      Female  18 120257.5 90450 161101\n",
              "6 Prof      Male   248 123996.0 57800 231545"
            ]
          },
          "metadata": {}
        }
      ]
    },
    {
      "cell_type": "markdown",
      "source": [
        "Когда функции `by_group()` передаются категориальные переменные, функция `summary()` генерирует статистики для каждой комбинации их значений. На всех факультетах у женщин медианная заработная плата ниже, чем у мужчин. Кроме того, в этом университете очень много профессоров-мужчин.\n",
        "\n",
        "Каков средний стаж работы и как давно получена докторская степень для преподавателей в разбивке по полу и должности?"
      ],
      "metadata": {
        "id": "px1ShlFm79yp"
      }
    },
    {
      "cell_type": "code",
      "source": [
        "Salaries %>%\n",
        "  group_by(rank, sex) %>%\n",
        "  select(yrs.service, yrs.since.phd) %>%\n",
        "  summarize_all(mean)"
      ],
      "metadata": {
        "id": "H1WxW8BE79Zk",
        "outputId": "701e53a3-60aa-499e-818a-7ec1adc3094e",
        "colab": {
          "base_uri": "https://localhost:8080/",
          "height": 303
        }
      },
      "execution_count": 15,
      "outputs": [
        {
          "output_type": "stream",
          "name": "stderr",
          "text": [
            "\u001b[1m\u001b[22mAdding missing grouping variables: `rank`, `sex`\n"
          ]
        },
        {
          "output_type": "display_data",
          "data": {
            "text/html": [
              "<table class=\"dataframe\">\n",
              "<caption>A grouped_df: 6 × 4</caption>\n",
              "<thead>\n",
              "\t<tr><th scope=col>rank</th><th scope=col>sex</th><th scope=col>yrs.service</th><th scope=col>yrs.since.phd</th></tr>\n",
              "\t<tr><th scope=col>&lt;fct&gt;</th><th scope=col>&lt;fct&gt;</th><th scope=col>&lt;dbl&gt;</th><th scope=col>&lt;dbl&gt;</th></tr>\n",
              "</thead>\n",
              "<tbody>\n",
              "\t<tr><td>AsstProf </td><td>Female</td><td> 2.545455</td><td> 5.636364</td></tr>\n",
              "\t<tr><td>AsstProf </td><td>Male  </td><td> 2.339286</td><td> 5.000000</td></tr>\n",
              "\t<tr><td>AssocProf</td><td>Female</td><td>11.500000</td><td>15.500000</td></tr>\n",
              "\t<tr><td>AssocProf</td><td>Male  </td><td>12.037037</td><td>15.444444</td></tr>\n",
              "\t<tr><td>Prof     </td><td>Female</td><td>17.111111</td><td>23.722222</td></tr>\n",
              "\t<tr><td>Prof     </td><td>Male  </td><td>23.229839</td><td>28.633065</td></tr>\n",
              "</tbody>\n",
              "</table>\n"
            ],
            "text/markdown": "\nA grouped_df: 6 × 4\n\n| rank &lt;fct&gt; | sex &lt;fct&gt; | yrs.service &lt;dbl&gt; | yrs.since.phd &lt;dbl&gt; |\n|---|---|---|---|\n| AsstProf  | Female |  2.545455 |  5.636364 |\n| AsstProf  | Male   |  2.339286 |  5.000000 |\n| AssocProf | Female | 11.500000 | 15.500000 |\n| AssocProf | Male   | 12.037037 | 15.444444 |\n| Prof      | Female | 17.111111 | 23.722222 |\n| Prof      | Male   | 23.229839 | 28.633065 |\n\n",
            "text/latex": "A grouped\\_df: 6 × 4\n\\begin{tabular}{llll}\n rank & sex & yrs.service & yrs.since.phd\\\\\n <fct> & <fct> & <dbl> & <dbl>\\\\\n\\hline\n\t AsstProf  & Female &  2.545455 &  5.636364\\\\\n\t AsstProf  & Male   &  2.339286 &  5.000000\\\\\n\t AssocProf & Female & 11.500000 & 15.500000\\\\\n\t AssocProf & Male   & 12.037037 & 15.444444\\\\\n\t Prof      & Female & 17.111111 & 23.722222\\\\\n\t Prof      & Male   & 23.229839 & 28.633065\\\\\n\\end{tabular}\n",
            "text/plain": [
              "  rank      sex    yrs.service yrs.since.phd\n",
              "1 AsstProf  Female  2.545455    5.636364    \n",
              "2 AsstProf  Male    2.339286    5.000000    \n",
              "3 AssocProf Female 11.500000   15.500000    \n",
              "4 AssocProf Male   12.037037   15.444444    \n",
              "5 Prof      Female 17.111111   23.722222    \n",
              "6 Prof      Male   23.229839   28.633065    "
            ]
          },
          "metadata": {}
        }
      ]
    },
    {
      "cell_type": "markdown",
      "source": [
        "Функция `summarize_all()` вычисляет сводные статистики для каждой негрупповой переменной (yrs.service и yrs.since.phd). Чтобы получить более одной статистики для каждой переменной, их нужно представить в виде списка. Например, `summarize_all(list (mean=mean, std=sd))` вычислит среднее значение и стандартное отклонение для каждой переменной. Мужчины и женщины имеют сопоставимый стаж работы на должности ассистента и доцента. Однако женщины-профессора имеют меньший стаж, чем их коллеги-мужчины.\n",
        "\n",
        "Одно из преимуществ пакета `dplyr` – результаты возвращаются в виде усовершенствованных таблиц данных (tibbles). Это позволяет применять дополнительные виды анализа к сводным результатам, отображать их в графическом виде и выводить на печать. Он также предоставляет простой механизм агрегирования данных.\n",
        "\n",
        "Как правило, у аналитиков есть свои предпочтения в отношении описательных статистик и формата их отображения. Вероятно, поэтому существует множество вариантов. Выберите тот, который лучше подходит для вас, или создайте свой!"
      ],
      "metadata": {
        "id": "3Ubg0zts8us6"
      }
    },
    {
      "cell_type": "markdown",
      "source": [
        "### Визуализация результатов\n",
        "Представление характеристик распределения данных в числовом виде полезно, но не заменяет графического изображения. Для отображения количественных данных можно использовать гистограммы (раздел 6.4), диаграммы плотности рассеяния (раздел 6.5), коробчатые диаграммы (раздел 6.6) и точечные диаграммы (раздел 6.7). Они помогают заметить вещи, которые легко упустить, если полагаться на небольшой набор описательных статистик.\n",
        "\n",
        "Функции, которые мы рассматривали до сих пор, позволяют охарактеризовать количественные данные. Функции, описанные в следующем разделе, предназначены для анализа распределения категориальных переменных."
      ],
      "metadata": {
        "id": "owTiRza89V66"
      }
    },
    {
      "cell_type": "markdown",
      "source": [
        "## Таблицы частот и таблицы сопряженности\n",
        "В этом разделе мы рассмотрим таблицы частот и таблицы сопряженности для категориальных переменных, а также познакомимся с критериями независимости, мерами связи и способами графического представления результатов. Мы будем использовать функции, имеющиеся в базовой версии R, а также функции из пакетов vcd и gmodels. В примерах, представленных ниже, буквами A, B и C будут обозначаться категориальные переменные.\n",
        "\n",
        "В примерах в этом разделе использован набор данных Arthritis из пакета vcd. Эти данные опубликованы в Kock & Edward (1988) и представляют результаты клинического исследования нового способа лечения ревматоидного артрита двойным слепым методом. Вот первые несколько наблюдений:"
      ],
      "metadata": {
        "id": "9sOC3rzW9olc"
      }
    },
    {
      "cell_type": "code",
      "source": [
        "install.packages(\"vcd\")\n",
        "library(vcd)"
      ],
      "metadata": {
        "id": "-UQirbtC-DrM",
        "outputId": "6d5533f5-103e-4ec9-91c5-4c520516cf1a",
        "colab": {
          "base_uri": "https://localhost:8080/"
        }
      },
      "execution_count": 16,
      "outputs": [
        {
          "output_type": "stream",
          "name": "stderr",
          "text": [
            "Installing package into ‘/usr/local/lib/R/site-library’\n",
            "(as ‘lib’ is unspecified)\n",
            "\n",
            "also installing the dependencies ‘zoo’, ‘lmtest’\n",
            "\n",
            "\n",
            "Loading required package: grid\n",
            "\n"
          ]
        }
      ]
    },
    {
      "cell_type": "code",
      "source": [
        "Arthritis"
      ],
      "metadata": {
        "id": "BbaLDx-a-V9E",
        "outputId": "ca2c6de4-802f-4502-bbdb-c386ce776df9",
        "colab": {
          "base_uri": "https://localhost:8080/",
          "height": 1000
        }
      },
      "execution_count": 17,
      "outputs": [
        {
          "output_type": "display_data",
          "data": {
            "text/html": [
              "<table class=\"dataframe\">\n",
              "<caption>A data.frame: 84 × 5</caption>\n",
              "<thead>\n",
              "\t<tr><th></th><th scope=col>ID</th><th scope=col>Treatment</th><th scope=col>Sex</th><th scope=col>Age</th><th scope=col>Improved</th></tr>\n",
              "\t<tr><th></th><th scope=col>&lt;int&gt;</th><th scope=col>&lt;fct&gt;</th><th scope=col>&lt;fct&gt;</th><th scope=col>&lt;int&gt;</th><th scope=col>&lt;ord&gt;</th></tr>\n",
              "</thead>\n",
              "<tbody>\n",
              "\t<tr><th scope=row>1</th><td>57</td><td>Treated</td><td>Male  </td><td>27</td><td>Some  </td></tr>\n",
              "\t<tr><th scope=row>2</th><td>46</td><td>Treated</td><td>Male  </td><td>29</td><td>None  </td></tr>\n",
              "\t<tr><th scope=row>3</th><td>77</td><td>Treated</td><td>Male  </td><td>30</td><td>None  </td></tr>\n",
              "\t<tr><th scope=row>4</th><td>17</td><td>Treated</td><td>Male  </td><td>32</td><td>Marked</td></tr>\n",
              "\t<tr><th scope=row>5</th><td>36</td><td>Treated</td><td>Male  </td><td>46</td><td>Marked</td></tr>\n",
              "\t<tr><th scope=row>6</th><td>23</td><td>Treated</td><td>Male  </td><td>58</td><td>Marked</td></tr>\n",
              "\t<tr><th scope=row>7</th><td>75</td><td>Treated</td><td>Male  </td><td>59</td><td>None  </td></tr>\n",
              "\t<tr><th scope=row>8</th><td>39</td><td>Treated</td><td>Male  </td><td>59</td><td>Marked</td></tr>\n",
              "\t<tr><th scope=row>9</th><td>33</td><td>Treated</td><td>Male  </td><td>63</td><td>None  </td></tr>\n",
              "\t<tr><th scope=row>10</th><td>55</td><td>Treated</td><td>Male  </td><td>63</td><td>None  </td></tr>\n",
              "\t<tr><th scope=row>11</th><td>30</td><td>Treated</td><td>Male  </td><td>64</td><td>None  </td></tr>\n",
              "\t<tr><th scope=row>12</th><td> 5</td><td>Treated</td><td>Male  </td><td>64</td><td>Some  </td></tr>\n",
              "\t<tr><th scope=row>13</th><td>63</td><td>Treated</td><td>Male  </td><td>69</td><td>None  </td></tr>\n",
              "\t<tr><th scope=row>14</th><td>83</td><td>Treated</td><td>Male  </td><td>70</td><td>Marked</td></tr>\n",
              "\t<tr><th scope=row>15</th><td>66</td><td>Treated</td><td>Female</td><td>23</td><td>None  </td></tr>\n",
              "\t<tr><th scope=row>16</th><td>40</td><td>Treated</td><td>Female</td><td>32</td><td>None  </td></tr>\n",
              "\t<tr><th scope=row>17</th><td> 6</td><td>Treated</td><td>Female</td><td>37</td><td>Some  </td></tr>\n",
              "\t<tr><th scope=row>18</th><td> 7</td><td>Treated</td><td>Female</td><td>41</td><td>None  </td></tr>\n",
              "\t<tr><th scope=row>19</th><td>72</td><td>Treated</td><td>Female</td><td>41</td><td>Marked</td></tr>\n",
              "\t<tr><th scope=row>20</th><td>37</td><td>Treated</td><td>Female</td><td>48</td><td>None  </td></tr>\n",
              "\t<tr><th scope=row>21</th><td>82</td><td>Treated</td><td>Female</td><td>48</td><td>Marked</td></tr>\n",
              "\t<tr><th scope=row>22</th><td>53</td><td>Treated</td><td>Female</td><td>55</td><td>Marked</td></tr>\n",
              "\t<tr><th scope=row>23</th><td>79</td><td>Treated</td><td>Female</td><td>55</td><td>Marked</td></tr>\n",
              "\t<tr><th scope=row>24</th><td>26</td><td>Treated</td><td>Female</td><td>56</td><td>Marked</td></tr>\n",
              "\t<tr><th scope=row>25</th><td>28</td><td>Treated</td><td>Female</td><td>57</td><td>Marked</td></tr>\n",
              "\t<tr><th scope=row>26</th><td>60</td><td>Treated</td><td>Female</td><td>57</td><td>Marked</td></tr>\n",
              "\t<tr><th scope=row>27</th><td>22</td><td>Treated</td><td>Female</td><td>57</td><td>Marked</td></tr>\n",
              "\t<tr><th scope=row>28</th><td>27</td><td>Treated</td><td>Female</td><td>58</td><td>None  </td></tr>\n",
              "\t<tr><th scope=row>29</th><td> 2</td><td>Treated</td><td>Female</td><td>59</td><td>Marked</td></tr>\n",
              "\t<tr><th scope=row>30</th><td>59</td><td>Treated</td><td>Female</td><td>59</td><td>Marked</td></tr>\n",
              "\t<tr><th scope=row>⋮</th><td>⋮</td><td>⋮</td><td>⋮</td><td>⋮</td><td>⋮</td></tr>\n",
              "\t<tr><th scope=row>55</th><td>29</td><td>Placebo</td><td>Female</td><td>30</td><td>None  </td></tr>\n",
              "\t<tr><th scope=row>56</th><td>50</td><td>Placebo</td><td>Female</td><td>31</td><td>Some  </td></tr>\n",
              "\t<tr><th scope=row>57</th><td>38</td><td>Placebo</td><td>Female</td><td>32</td><td>None  </td></tr>\n",
              "\t<tr><th scope=row>58</th><td>35</td><td>Placebo</td><td>Female</td><td>33</td><td>Marked</td></tr>\n",
              "\t<tr><th scope=row>59</th><td>51</td><td>Placebo</td><td>Female</td><td>37</td><td>None  </td></tr>\n",
              "\t<tr><th scope=row>60</th><td>54</td><td>Placebo</td><td>Female</td><td>44</td><td>None  </td></tr>\n",
              "\t<tr><th scope=row>61</th><td>76</td><td>Placebo</td><td>Female</td><td>45</td><td>None  </td></tr>\n",
              "\t<tr><th scope=row>62</th><td>16</td><td>Placebo</td><td>Female</td><td>46</td><td>None  </td></tr>\n",
              "\t<tr><th scope=row>63</th><td>69</td><td>Placebo</td><td>Female</td><td>48</td><td>None  </td></tr>\n",
              "\t<tr><th scope=row>64</th><td>31</td><td>Placebo</td><td>Female</td><td>49</td><td>None  </td></tr>\n",
              "\t<tr><th scope=row>65</th><td>20</td><td>Placebo</td><td>Female</td><td>51</td><td>None  </td></tr>\n",
              "\t<tr><th scope=row>66</th><td>68</td><td>Placebo</td><td>Female</td><td>53</td><td>None  </td></tr>\n",
              "\t<tr><th scope=row>67</th><td>81</td><td>Placebo</td><td>Female</td><td>54</td><td>None  </td></tr>\n",
              "\t<tr><th scope=row>68</th><td> 4</td><td>Placebo</td><td>Female</td><td>54</td><td>None  </td></tr>\n",
              "\t<tr><th scope=row>69</th><td>78</td><td>Placebo</td><td>Female</td><td>54</td><td>Marked</td></tr>\n",
              "\t<tr><th scope=row>70</th><td>70</td><td>Placebo</td><td>Female</td><td>55</td><td>Marked</td></tr>\n",
              "\t<tr><th scope=row>71</th><td>49</td><td>Placebo</td><td>Female</td><td>57</td><td>None  </td></tr>\n",
              "\t<tr><th scope=row>72</th><td>10</td><td>Placebo</td><td>Female</td><td>57</td><td>Some  </td></tr>\n",
              "\t<tr><th scope=row>73</th><td>47</td><td>Placebo</td><td>Female</td><td>58</td><td>Some  </td></tr>\n",
              "\t<tr><th scope=row>74</th><td>44</td><td>Placebo</td><td>Female</td><td>59</td><td>Some  </td></tr>\n",
              "\t<tr><th scope=row>75</th><td>24</td><td>Placebo</td><td>Female</td><td>59</td><td>Marked</td></tr>\n",
              "\t<tr><th scope=row>76</th><td>48</td><td>Placebo</td><td>Female</td><td>61</td><td>None  </td></tr>\n",
              "\t<tr><th scope=row>77</th><td>19</td><td>Placebo</td><td>Female</td><td>63</td><td>Some  </td></tr>\n",
              "\t<tr><th scope=row>78</th><td> 3</td><td>Placebo</td><td>Female</td><td>64</td><td>None  </td></tr>\n",
              "\t<tr><th scope=row>79</th><td>67</td><td>Placebo</td><td>Female</td><td>65</td><td>Marked</td></tr>\n",
              "\t<tr><th scope=row>80</th><td>32</td><td>Placebo</td><td>Female</td><td>66</td><td>None  </td></tr>\n",
              "\t<tr><th scope=row>81</th><td>42</td><td>Placebo</td><td>Female</td><td>66</td><td>None  </td></tr>\n",
              "\t<tr><th scope=row>82</th><td>15</td><td>Placebo</td><td>Female</td><td>66</td><td>Some  </td></tr>\n",
              "\t<tr><th scope=row>83</th><td>71</td><td>Placebo</td><td>Female</td><td>68</td><td>Some  </td></tr>\n",
              "\t<tr><th scope=row>84</th><td> 1</td><td>Placebo</td><td>Female</td><td>74</td><td>Marked</td></tr>\n",
              "</tbody>\n",
              "</table>\n"
            ],
            "text/markdown": "\nA data.frame: 84 × 5\n\n| <!--/--> | ID &lt;int&gt; | Treatment &lt;fct&gt; | Sex &lt;fct&gt; | Age &lt;int&gt; | Improved &lt;ord&gt; |\n|---|---|---|---|---|---|\n| 1 | 57 | Treated | Male   | 27 | Some   |\n| 2 | 46 | Treated | Male   | 29 | None   |\n| 3 | 77 | Treated | Male   | 30 | None   |\n| 4 | 17 | Treated | Male   | 32 | Marked |\n| 5 | 36 | Treated | Male   | 46 | Marked |\n| 6 | 23 | Treated | Male   | 58 | Marked |\n| 7 | 75 | Treated | Male   | 59 | None   |\n| 8 | 39 | Treated | Male   | 59 | Marked |\n| 9 | 33 | Treated | Male   | 63 | None   |\n| 10 | 55 | Treated | Male   | 63 | None   |\n| 11 | 30 | Treated | Male   | 64 | None   |\n| 12 |  5 | Treated | Male   | 64 | Some   |\n| 13 | 63 | Treated | Male   | 69 | None   |\n| 14 | 83 | Treated | Male   | 70 | Marked |\n| 15 | 66 | Treated | Female | 23 | None   |\n| 16 | 40 | Treated | Female | 32 | None   |\n| 17 |  6 | Treated | Female | 37 | Some   |\n| 18 |  7 | Treated | Female | 41 | None   |\n| 19 | 72 | Treated | Female | 41 | Marked |\n| 20 | 37 | Treated | Female | 48 | None   |\n| 21 | 82 | Treated | Female | 48 | Marked |\n| 22 | 53 | Treated | Female | 55 | Marked |\n| 23 | 79 | Treated | Female | 55 | Marked |\n| 24 | 26 | Treated | Female | 56 | Marked |\n| 25 | 28 | Treated | Female | 57 | Marked |\n| 26 | 60 | Treated | Female | 57 | Marked |\n| 27 | 22 | Treated | Female | 57 | Marked |\n| 28 | 27 | Treated | Female | 58 | None   |\n| 29 |  2 | Treated | Female | 59 | Marked |\n| 30 | 59 | Treated | Female | 59 | Marked |\n| ⋮ | ⋮ | ⋮ | ⋮ | ⋮ | ⋮ |\n| 55 | 29 | Placebo | Female | 30 | None   |\n| 56 | 50 | Placebo | Female | 31 | Some   |\n| 57 | 38 | Placebo | Female | 32 | None   |\n| 58 | 35 | Placebo | Female | 33 | Marked |\n| 59 | 51 | Placebo | Female | 37 | None   |\n| 60 | 54 | Placebo | Female | 44 | None   |\n| 61 | 76 | Placebo | Female | 45 | None   |\n| 62 | 16 | Placebo | Female | 46 | None   |\n| 63 | 69 | Placebo | Female | 48 | None   |\n| 64 | 31 | Placebo | Female | 49 | None   |\n| 65 | 20 | Placebo | Female | 51 | None   |\n| 66 | 68 | Placebo | Female | 53 | None   |\n| 67 | 81 | Placebo | Female | 54 | None   |\n| 68 |  4 | Placebo | Female | 54 | None   |\n| 69 | 78 | Placebo | Female | 54 | Marked |\n| 70 | 70 | Placebo | Female | 55 | Marked |\n| 71 | 49 | Placebo | Female | 57 | None   |\n| 72 | 10 | Placebo | Female | 57 | Some   |\n| 73 | 47 | Placebo | Female | 58 | Some   |\n| 74 | 44 | Placebo | Female | 59 | Some   |\n| 75 | 24 | Placebo | Female | 59 | Marked |\n| 76 | 48 | Placebo | Female | 61 | None   |\n| 77 | 19 | Placebo | Female | 63 | Some   |\n| 78 |  3 | Placebo | Female | 64 | None   |\n| 79 | 67 | Placebo | Female | 65 | Marked |\n| 80 | 32 | Placebo | Female | 66 | None   |\n| 81 | 42 | Placebo | Female | 66 | None   |\n| 82 | 15 | Placebo | Female | 66 | Some   |\n| 83 | 71 | Placebo | Female | 68 | Some   |\n| 84 |  1 | Placebo | Female | 74 | Marked |\n\n",
            "text/latex": "A data.frame: 84 × 5\n\\begin{tabular}{r|lllll}\n  & ID & Treatment & Sex & Age & Improved\\\\\n  & <int> & <fct> & <fct> & <int> & <ord>\\\\\n\\hline\n\t1 & 57 & Treated & Male   & 27 & Some  \\\\\n\t2 & 46 & Treated & Male   & 29 & None  \\\\\n\t3 & 77 & Treated & Male   & 30 & None  \\\\\n\t4 & 17 & Treated & Male   & 32 & Marked\\\\\n\t5 & 36 & Treated & Male   & 46 & Marked\\\\\n\t6 & 23 & Treated & Male   & 58 & Marked\\\\\n\t7 & 75 & Treated & Male   & 59 & None  \\\\\n\t8 & 39 & Treated & Male   & 59 & Marked\\\\\n\t9 & 33 & Treated & Male   & 63 & None  \\\\\n\t10 & 55 & Treated & Male   & 63 & None  \\\\\n\t11 & 30 & Treated & Male   & 64 & None  \\\\\n\t12 &  5 & Treated & Male   & 64 & Some  \\\\\n\t13 & 63 & Treated & Male   & 69 & None  \\\\\n\t14 & 83 & Treated & Male   & 70 & Marked\\\\\n\t15 & 66 & Treated & Female & 23 & None  \\\\\n\t16 & 40 & Treated & Female & 32 & None  \\\\\n\t17 &  6 & Treated & Female & 37 & Some  \\\\\n\t18 &  7 & Treated & Female & 41 & None  \\\\\n\t19 & 72 & Treated & Female & 41 & Marked\\\\\n\t20 & 37 & Treated & Female & 48 & None  \\\\\n\t21 & 82 & Treated & Female & 48 & Marked\\\\\n\t22 & 53 & Treated & Female & 55 & Marked\\\\\n\t23 & 79 & Treated & Female & 55 & Marked\\\\\n\t24 & 26 & Treated & Female & 56 & Marked\\\\\n\t25 & 28 & Treated & Female & 57 & Marked\\\\\n\t26 & 60 & Treated & Female & 57 & Marked\\\\\n\t27 & 22 & Treated & Female & 57 & Marked\\\\\n\t28 & 27 & Treated & Female & 58 & None  \\\\\n\t29 &  2 & Treated & Female & 59 & Marked\\\\\n\t30 & 59 & Treated & Female & 59 & Marked\\\\\n\t⋮ & ⋮ & ⋮ & ⋮ & ⋮ & ⋮\\\\\n\t55 & 29 & Placebo & Female & 30 & None  \\\\\n\t56 & 50 & Placebo & Female & 31 & Some  \\\\\n\t57 & 38 & Placebo & Female & 32 & None  \\\\\n\t58 & 35 & Placebo & Female & 33 & Marked\\\\\n\t59 & 51 & Placebo & Female & 37 & None  \\\\\n\t60 & 54 & Placebo & Female & 44 & None  \\\\\n\t61 & 76 & Placebo & Female & 45 & None  \\\\\n\t62 & 16 & Placebo & Female & 46 & None  \\\\\n\t63 & 69 & Placebo & Female & 48 & None  \\\\\n\t64 & 31 & Placebo & Female & 49 & None  \\\\\n\t65 & 20 & Placebo & Female & 51 & None  \\\\\n\t66 & 68 & Placebo & Female & 53 & None  \\\\\n\t67 & 81 & Placebo & Female & 54 & None  \\\\\n\t68 &  4 & Placebo & Female & 54 & None  \\\\\n\t69 & 78 & Placebo & Female & 54 & Marked\\\\\n\t70 & 70 & Placebo & Female & 55 & Marked\\\\\n\t71 & 49 & Placebo & Female & 57 & None  \\\\\n\t72 & 10 & Placebo & Female & 57 & Some  \\\\\n\t73 & 47 & Placebo & Female & 58 & Some  \\\\\n\t74 & 44 & Placebo & Female & 59 & Some  \\\\\n\t75 & 24 & Placebo & Female & 59 & Marked\\\\\n\t76 & 48 & Placebo & Female & 61 & None  \\\\\n\t77 & 19 & Placebo & Female & 63 & Some  \\\\\n\t78 &  3 & Placebo & Female & 64 & None  \\\\\n\t79 & 67 & Placebo & Female & 65 & Marked\\\\\n\t80 & 32 & Placebo & Female & 66 & None  \\\\\n\t81 & 42 & Placebo & Female & 66 & None  \\\\\n\t82 & 15 & Placebo & Female & 66 & Some  \\\\\n\t83 & 71 & Placebo & Female & 68 & Some  \\\\\n\t84 &  1 & Placebo & Female & 74 & Marked\\\\\n\\end{tabular}\n",
            "text/plain": [
              "   ID Treatment Sex    Age Improved\n",
              "1  57 Treated   Male   27  Some    \n",
              "2  46 Treated   Male   29  None    \n",
              "3  77 Treated   Male   30  None    \n",
              "4  17 Treated   Male   32  Marked  \n",
              "5  36 Treated   Male   46  Marked  \n",
              "6  23 Treated   Male   58  Marked  \n",
              "7  75 Treated   Male   59  None    \n",
              "8  39 Treated   Male   59  Marked  \n",
              "9  33 Treated   Male   63  None    \n",
              "10 55 Treated   Male   63  None    \n",
              "11 30 Treated   Male   64  None    \n",
              "12  5 Treated   Male   64  Some    \n",
              "13 63 Treated   Male   69  None    \n",
              "14 83 Treated   Male   70  Marked  \n",
              "15 66 Treated   Female 23  None    \n",
              "16 40 Treated   Female 32  None    \n",
              "17  6 Treated   Female 37  Some    \n",
              "18  7 Treated   Female 41  None    \n",
              "19 72 Treated   Female 41  Marked  \n",
              "20 37 Treated   Female 48  None    \n",
              "21 82 Treated   Female 48  Marked  \n",
              "22 53 Treated   Female 55  Marked  \n",
              "23 79 Treated   Female 55  Marked  \n",
              "24 26 Treated   Female 56  Marked  \n",
              "25 28 Treated   Female 57  Marked  \n",
              "26 60 Treated   Female 57  Marked  \n",
              "27 22 Treated   Female 57  Marked  \n",
              "28 27 Treated   Female 58  None    \n",
              "29  2 Treated   Female 59  Marked  \n",
              "30 59 Treated   Female 59  Marked  \n",
              "⋮  ⋮  ⋮         ⋮      ⋮   ⋮       \n",
              "55 29 Placebo   Female 30  None    \n",
              "56 50 Placebo   Female 31  Some    \n",
              "57 38 Placebo   Female 32  None    \n",
              "58 35 Placebo   Female 33  Marked  \n",
              "59 51 Placebo   Female 37  None    \n",
              "60 54 Placebo   Female 44  None    \n",
              "61 76 Placebo   Female 45  None    \n",
              "62 16 Placebo   Female 46  None    \n",
              "63 69 Placebo   Female 48  None    \n",
              "64 31 Placebo   Female 49  None    \n",
              "65 20 Placebo   Female 51  None    \n",
              "66 68 Placebo   Female 53  None    \n",
              "67 81 Placebo   Female 54  None    \n",
              "68  4 Placebo   Female 54  None    \n",
              "69 78 Placebo   Female 54  Marked  \n",
              "70 70 Placebo   Female 55  Marked  \n",
              "71 49 Placebo   Female 57  None    \n",
              "72 10 Placebo   Female 57  Some    \n",
              "73 47 Placebo   Female 58  Some    \n",
              "74 44 Placebo   Female 59  Some    \n",
              "75 24 Placebo   Female 59  Marked  \n",
              "76 48 Placebo   Female 61  None    \n",
              "77 19 Placebo   Female 63  Some    \n",
              "78  3 Placebo   Female 64  None    \n",
              "79 67 Placebo   Female 65  Marked  \n",
              "80 32 Placebo   Female 66  None    \n",
              "81 42 Placebo   Female 66  None    \n",
              "82 15 Placebo   Female 66  Some    \n",
              "83 71 Placebo   Female 68  Some    \n",
              "84  1 Placebo   Female 74  Marked  "
            ]
          },
          "metadata": {}
        }
      ]
    },
    {
      "cell_type": "markdown",
      "source": [
        "Способ лечения (Treatment: плацебо – Placebo и лекарство – Treated), пол (Sex: мужской – Male и женский – Female) и степень улучшения состояния больных (Improved: нет – None, некоторое – Some, заметное – Marked) – это категориальные факторы. В следующем подразделе мы создадим таблицы частот и сопряженности для этих данных."
      ],
      "metadata": {
        "id": "1U4BisVC-eTs"
      }
    },
    {
      "cell_type": "markdown",
      "source": [
        "### Создание таблиц частот\n",
        "R предлагает несколько методов создания таблиц частот и сопряженности. Самые важные функции перечислены в таблице.\n",
        "\\begin{array}{|l|l|}\n",
        "\\hline\n",
        "Функция&Описание\\\\\\hline\n",
        "table(var1,~var2,~...,&Создает~N-мерную~таблицу~сопряженности~для~N~категориальных\\\\\n",
        "varN)&переменных~(факторов)\\\\\\hline\n",
        "xtabs(formula, data)&Создает~N-мерную~таблицу~сопряженности~на~основе~формулы\\\\\n",
        "~&и~матрицы~или~таблицы~данных\\\\\\hline\n",
        "prop.table(table,~margins)&Представляет~значения~таблицы~в~виде~долей~от~суммы~всех\\\\\n",
        "~&значений~в~строке~таблицы,~заданной~параметром~margins\\\\\\hline\n",
        "margin.table(table,~margins)&Суммирует~значения~таблицы~по~строкам~или~столбцам~(опреде-\\\\\n",
        "~&ляется~параметром~margins)\\\\\\hline\n",
        "addmargins(table,~margins)&Вычисляет~описательные~статистики~margins~(суммы~по~умолча-\\\\\n",
        "~&нию)~для~заданной~таблицы\\\\\\hline\n",
        "ftable(table)&Создает~компактную~«плоскую»~таблицу~сопряженности\\\\\\hline\n",
        "\\end{array}\n",
        "\n",
        "В следующих подразделах мы используем все эти функции для исследования категориальных переменных. Для начала вычислим простые частоты, потом построим таблицы сопряженности для двух переменных и закончим созданием таблиц сопряженности для нескольких переменных. В качестве первого шага создадим таблицу при помощи функций table() и xtabs(), а затем будем исследовать ее при помощи других функций.\n",
        "\n"
      ],
      "metadata": {
        "id": "Fi03Oj_JBXUI"
      }
    },
    {
      "cell_type": "markdown",
      "source": [
        "#### Таблицы для одной переменной\n",
        "Частоты значений одной переменной можно рассчитать при помощи функции `table()`. Например:"
      ],
      "metadata": {
        "id": "PoQcW3xOeLFf"
      }
    },
    {
      "cell_type": "markdown",
      "source": [
        "Эти частоты можно преобразовать в доли от общей суммы при помощи функции `prop.table()`:"
      ],
      "metadata": {
        "id": "f_uBaDZYgErS"
      }
    },
    {
      "cell_type": "markdown",
      "source": [
        "Или в проценты, используя инструкцию `prop.table()*100`:"
      ],
      "metadata": {
        "id": "lJesjUPvgcI5"
      }
    },
    {
      "cell_type": "code",
      "source": [
        "mytable <- with(Arthritis, table(Improved), table(Treatment))\n",
        "mytable\n",
        "prop.table(mytable)\n",
        "prop.table(mytable)*100"
      ],
      "metadata": {
        "id": "RulXwkCv-d5r",
        "outputId": "8922cba6-87f3-42bd-ef3f-ea671d96a388",
        "colab": {
          "base_uri": "https://localhost:8080/",
          "height": 173
        }
      },
      "execution_count": 25,
      "outputs": [
        {
          "output_type": "display_data",
          "data": {
            "text/plain": [
              "Improved\n",
              "  None   Some Marked \n",
              "    42     14     28 "
            ]
          },
          "metadata": {}
        },
        {
          "output_type": "display_data",
          "data": {
            "text/plain": [
              "Improved\n",
              "     None      Some    Marked \n",
              "0.5000000 0.1666667 0.3333333 "
            ]
          },
          "metadata": {}
        },
        {
          "output_type": "display_data",
          "data": {
            "text/plain": [
              "Improved\n",
              "    None     Some   Marked \n",
              "50.00000 16.66667 33.33333 "
            ]
          },
          "metadata": {}
        }
      ]
    },
    {
      "cell_type": "code",
      "source": [
        "mytable <- with(Arthritis, table(Treatment))\n",
        "mytable\n",
        "prop.table(mytable)\n",
        "prop.table(mytable)*100"
      ],
      "metadata": {
        "id": "hO1pBTePfsbR",
        "outputId": "a1f0ac3e-3a4d-4be6-fe67-a0e6ff50e69c",
        "colab": {
          "base_uri": "https://localhost:8080/",
          "height": 173
        }
      },
      "execution_count": 26,
      "outputs": [
        {
          "output_type": "display_data",
          "data": {
            "text/plain": [
              "Treatment\n",
              "Placebo Treated \n",
              "     43      41 "
            ]
          },
          "metadata": {}
        },
        {
          "output_type": "display_data",
          "data": {
            "text/plain": [
              "Treatment\n",
              "  Placebo   Treated \n",
              "0.5119048 0.4880952 "
            ]
          },
          "metadata": {}
        },
        {
          "output_type": "display_data",
          "data": {
            "text/plain": [
              "Treatment\n",
              " Placebo  Treated \n",
              "51.19048 48.80952 "
            ]
          },
          "metadata": {}
        }
      ]
    },
    {
      "cell_type": "code",
      "source": [
        "mytable <- with(Arthritis, table(Sex))\n",
        "mytable\n",
        "prop.table(mytable)\n",
        "prop.table(mytable)*100"
      ],
      "metadata": {
        "id": "5J7WZOpbfxew",
        "outputId": "bbf5e989-e40a-45b0-cba9-b4ba5463481b",
        "colab": {
          "base_uri": "https://localhost:8080/",
          "height": 173
        }
      },
      "execution_count": 27,
      "outputs": [
        {
          "output_type": "display_data",
          "data": {
            "text/plain": [
              "Sex\n",
              "Female   Male \n",
              "    59     25 "
            ]
          },
          "metadata": {}
        },
        {
          "output_type": "display_data",
          "data": {
            "text/plain": [
              "Sex\n",
              "  Female     Male \n",
              "0.702381 0.297619 "
            ]
          },
          "metadata": {}
        },
        {
          "output_type": "display_data",
          "data": {
            "text/plain": [
              "Sex\n",
              " Female    Male \n",
              "70.2381 29.7619 "
            ]
          },
          "metadata": {}
        }
      ]
    },
    {
      "cell_type": "markdown",
      "source": [
        "Судя по результатам, у половины пациентов после лечения имело место некоторое или заметное улучшение состояния (16.7 + 33.3)."
      ],
      "metadata": {
        "id": "Uaw3NxgHgvnS"
      }
    },
    {
      "cell_type": "markdown",
      "source": [
        "#### Таблицы для двух переменных\n",
        "В случае двух переменных синтаксис применения функции `table()` имеет следующий вид:\n",
        "```\n",
        "mytable <- table(A, B)\n",
        "```\n",
        "где A – это переменная, определяющая строки таблицы сопряженности, а B – столбцы.\n",
        "\n",
        "Как вариант можно воспользоваться функцией `xtabs()`, которая позволяет при создании таблицы сопряженности вводить данные в виде формулы:\n",
        "```\n",
        "mytable <- xtabs(~ A + B, data=mydata)\n",
        "```\n",
        "где mydata – это матрицы или таблица данных. В общем случае переменные, для которых строится таблица сопряженности, находятся\n",
        "в правой части формулы (то есть справа от знака ~) и разделяются знаками +. Если переменная находится в левой части формулы, предполагается, что это вектор с частотами значений (удобно, если вы их уже вычислили).\n",
        "\n",
        "Для набора данных Arthritis у нас получится такая таблица:"
      ],
      "metadata": {
        "id": "5HRJgmgPg_ir"
      }
    },
    {
      "cell_type": "code",
      "source": [
        "mytable <- xtabs(~ Treatment + Improved, data=Arthritis)\n",
        "mytable"
      ],
      "metadata": {
        "id": "4tRMMaHgol1x",
        "outputId": "07bb6f17-37b6-447f-e1f8-06cfb9f03939",
        "colab": {
          "base_uri": "https://localhost:8080/",
          "height": 86
        }
      },
      "execution_count": 28,
      "outputs": [
        {
          "output_type": "display_data",
          "data": {
            "text/plain": [
              "         Improved\n",
              "Treatment None Some Marked\n",
              "  Placebo   29    7      7\n",
              "  Treated   13    7     21"
            ]
          },
          "metadata": {}
        }
      ]
    },
    {
      "cell_type": "markdown",
      "source": [
        "С помощью функций `margin.table()` и `prop.table()` можно рассчитать соответственно частоты и доли от сумм по столбцам или строкам. При суммировании и вычислении долей по **строкам** получаем:"
      ],
      "metadata": {
        "id": "Brfh8Z4hpFkG"
      }
    },
    {
      "cell_type": "code",
      "source": [
        "margin.table(mytable, 1)"
      ],
      "metadata": {
        "id": "fQpJPqpapEZc",
        "outputId": "e5935760-913f-43a3-bd8c-933b40bc8130",
        "colab": {
          "base_uri": "https://localhost:8080/",
          "height": 69
        }
      },
      "execution_count": 29,
      "outputs": [
        {
          "output_type": "display_data",
          "data": {
            "text/plain": [
              "Treatment\n",
              "Placebo Treated \n",
              "     43      41 "
            ]
          },
          "metadata": {}
        }
      ]
    },
    {
      "cell_type": "code",
      "source": [
        "prop.table(mytable, 1)"
      ],
      "metadata": {
        "id": "0pjyp5Qipenj",
        "outputId": "03afac14-3e2c-42d1-cc60-0a3c5448396a",
        "colab": {
          "base_uri": "https://localhost:8080/",
          "height": 86
        }
      },
      "execution_count": 32,
      "outputs": [
        {
          "output_type": "display_data",
          "data": {
            "text/plain": [
              "         Improved\n",
              "Treatment      None      Some    Marked\n",
              "  Placebo 0.6744186 0.1627907 0.1627907\n",
              "  Treated 0.3170732 0.1707317 0.5121951"
            ]
          },
          "metadata": {}
        }
      ]
    },
    {
      "cell_type": "markdown",
      "source": [
        "\\begin{array}{|c|c|c|c|c|}\n",
        "\\hline\n",
        "Improved/Treatment&None&Some&Marked&Summ\\\\\\hline\n",
        "Placebo&29/43&7/43&7/43&1\\\\\\hline\n",
        "Treatment&13/41&7/41&21/41&1\\\\\\hline\n",
        "~&~&~&~\\\\\\hline\n",
        "~&~&~&~\\\\\\hline\n",
        "\\end{array}"
      ],
      "metadata": {
        "id": "xZvc50JPw-zN"
      }
    },
    {
      "cell_type": "code",
      "source": [
        "prop.table(mytable, 1)*100"
      ],
      "metadata": {
        "id": "keWJoVNDpRsb",
        "outputId": "f717e92d-472b-4c67-d8e1-9887d8b05a3c",
        "colab": {
          "base_uri": "https://localhost:8080/",
          "height": 86
        }
      },
      "execution_count": 31,
      "outputs": [
        {
          "output_type": "display_data",
          "data": {
            "text/plain": [
              "         Improved\n",
              "Treatment     None     Some   Marked\n",
              "  Placebo 67.44186 16.27907 16.27907\n",
              "  Treated 31.70732 17.07317 51.21951"
            ]
          },
          "metadata": {}
        }
      ]
    },
    {
      "cell_type": "markdown",
      "source": [
        "Индекс 1 в вызове `table()` относится к первой переменной. Рассматривая полученную таблицу, можно заметить, что у 51 % пациентов, получавших настоящее лекарство, наступило заметное улучшение. Для сравнения: такой эффект наступил только у 16 % пациентов, получавших плацебо.\n",
        "\n",
        "При суммировании и вычислении долей по **столбцам** получаем:"
      ],
      "metadata": {
        "id": "4v6f0XnIpwiv"
      }
    },
    {
      "cell_type": "code",
      "source": [
        "margin.table(mytable, 2)"
      ],
      "metadata": {
        "id": "m83Q6p8xp6Bk",
        "outputId": "f747287c-d058-4353-b4d1-5d744bdd1aa8",
        "colab": {
          "base_uri": "https://localhost:8080/",
          "height": 69
        }
      },
      "execution_count": 33,
      "outputs": [
        {
          "output_type": "display_data",
          "data": {
            "text/plain": [
              "Improved\n",
              "  None   Some Marked \n",
              "    42     14     28 "
            ]
          },
          "metadata": {}
        }
      ]
    },
    {
      "cell_type": "code",
      "source": [
        "prop.table(mytable, 2)"
      ],
      "metadata": {
        "id": "7nX9DxC8qB0d",
        "outputId": "88cf6c5c-f7bc-4129-b6f1-867494c48d04",
        "colab": {
          "base_uri": "https://localhost:8080/",
          "height": 86
        }
      },
      "execution_count": 34,
      "outputs": [
        {
          "output_type": "display_data",
          "data": {
            "text/plain": [
              "         Improved\n",
              "Treatment      None      Some    Marked\n",
              "  Placebo 0.6904762 0.5000000 0.2500000\n",
              "  Treated 0.3095238 0.5000000 0.7500000"
            ]
          },
          "metadata": {}
        }
      ]
    },
    {
      "cell_type": "markdown",
      "source": [
        "\\begin{array}{|c|c|c|c|c|}\n",
        "\\hline\n",
        "Improved/Treatment&None&Some&Marked&Summ\\\\\\hline\n",
        "Placebo&29/43&7/43&7/43&1\\\\\\hline\n",
        "Treatment&13/41&7/41&21/41&1\\\\\\hline\n",
        "\\end{array}"
      ],
      "metadata": {
        "id": "gXHxnEgNzVI1"
      }
    },
    {
      "cell_type": "code",
      "source": [
        "prop.table(mytable, 2)*100"
      ],
      "metadata": {
        "id": "AIWwxyCxqEXe",
        "outputId": "08e8cfab-ac76-447f-a801-0cd7c15f1809",
        "colab": {
          "base_uri": "https://localhost:8080/",
          "height": 86
        }
      },
      "execution_count": 35,
      "outputs": [
        {
          "output_type": "display_data",
          "data": {
            "text/plain": [
              "         Improved\n",
              "Treatment     None     Some   Marked\n",
              "  Placebo 69.04762 50.00000 25.00000\n",
              "  Treated 30.95238 50.00000 75.00000"
            ]
          },
          "metadata": {}
        }
      ]
    },
    {
      "cell_type": "markdown",
      "source": [
        "\\begin{array}{|c|c|c|c|c|}\n",
        "\\hline\n",
        "Improved/Treatment&None&Some&Marked&Summ\\\\\\hline\n",
        "Placebo&29/42&7/14&7/28&~\\\\\\hline\n",
        "Treatment&13/42&7/14&21/28&~\\\\\\hline\n",
        "Summ&1&1&1\\\\\\hline\n",
        "\\end{array}"
      ],
      "metadata": {
        "id": "V_cbWKuo0Zwf"
      }
    },
    {
      "cell_type": "markdown",
      "source": [
        "В этом случае индекс 2 в вызове `table()` относится к первой переменной.\n",
        "\n",
        "При суммировании и вычислении долей по всем ячейкам таблицы получаем:"
      ],
      "metadata": {
        "id": "nNp1lPtLqXiA"
      }
    },
    {
      "cell_type": "code",
      "source": [
        "prop.table(mytable)"
      ],
      "metadata": {
        "id": "cibhP4dGqfDd",
        "outputId": "eac6d95e-e842-4a05-8df2-1ab16c2cab71",
        "colab": {
          "base_uri": "https://localhost:8080/",
          "height": 86
        }
      },
      "execution_count": 36,
      "outputs": [
        {
          "output_type": "display_data",
          "data": {
            "text/plain": [
              "         Improved\n",
              "Treatment       None       Some     Marked\n",
              "  Placebo 0.34523810 0.08333333 0.08333333\n",
              "  Treated 0.15476190 0.08333333 0.25000000"
            ]
          },
          "metadata": {}
        }
      ]
    },
    {
      "cell_type": "markdown",
      "source": [
        "\\begin{array}{|c|c|c|c|c|}\n",
        "\\hline\n",
        "Improved/Treatment&None&Some&Marked&Summ\\\\\\hline\n",
        "Placebo&29/84&7/84&7/84&0.512\\\\\\hline\n",
        "Treatment&13/84&7/84&21/84&0.488\\\\\\hline\n",
        "Summ&0.5&0.167&0.333&1\\\\\\hline\n",
        "\\end{array}\n",
        "\n",
        "Сумма всех долей равна 1.\n",
        "\n",
        "Для вычисления сумм по столбцам или строкам можно использовать функцию `addmargins()`:"
      ],
      "metadata": {
        "id": "Ji7yX1AgzXQu"
      }
    },
    {
      "cell_type": "code",
      "source": [
        "addmargins(mytable)"
      ],
      "metadata": {
        "id": "eOXgIlRO1uoh",
        "outputId": "6210a662-c6e6-4403-c46c-fadc59ed85b3",
        "colab": {
          "base_uri": "https://localhost:8080/",
          "height": 161
        }
      },
      "execution_count": 37,
      "outputs": [
        {
          "output_type": "display_data",
          "data": {
            "text/html": [
              "<table class=\"dataframe\">\n",
              "<caption>A table: 3 × 4 of type dbl</caption>\n",
              "<thead>\n",
              "\t<tr><th></th><th scope=col>None</th><th scope=col>Some</th><th scope=col>Marked</th><th scope=col>Sum</th></tr>\n",
              "</thead>\n",
              "<tbody>\n",
              "\t<tr><th scope=row>Placebo</th><td>29</td><td> 7</td><td> 7</td><td>43</td></tr>\n",
              "\t<tr><th scope=row>Treated</th><td>13</td><td> 7</td><td>21</td><td>41</td></tr>\n",
              "\t<tr><th scope=row>Sum</th><td>42</td><td>14</td><td>28</td><td>84</td></tr>\n",
              "</tbody>\n",
              "</table>\n"
            ],
            "text/markdown": "\nA table: 3 × 4 of type dbl\n\n| <!--/--> | None | Some | Marked | Sum |\n|---|---|---|---|---|\n| Placebo | 29 |  7 |  7 | 43 |\n| Treated | 13 |  7 | 21 | 41 |\n| Sum | 42 | 14 | 28 | 84 |\n\n",
            "text/latex": "A table: 3 × 4 of type dbl\n\\begin{tabular}{r|llll}\n  & None & Some & Marked & Sum\\\\\n\\hline\n\tPlacebo & 29 &  7 &  7 & 43\\\\\n\tTreated & 13 &  7 & 21 & 41\\\\\n\tSum & 42 & 14 & 28 & 84\\\\\n\\end{tabular}\n",
            "text/plain": [
              "         Improved\n",
              "Treatment None Some Marked Sum\n",
              "  Placebo 29    7    7     43 \n",
              "  Treated 13    7   21     41 \n",
              "  Sum     42   14   28     84 "
            ]
          },
          "metadata": {}
        }
      ]
    },
    {
      "cell_type": "code",
      "source": [
        "addmargins(prop.table(mytable))"
      ],
      "metadata": {
        "id": "Bcn_RaCK2cx6",
        "outputId": "11e7c303-2f15-4ffa-9876-d42f45561834",
        "colab": {
          "base_uri": "https://localhost:8080/",
          "height": 161
        }
      },
      "execution_count": 38,
      "outputs": [
        {
          "output_type": "display_data",
          "data": {
            "text/html": [
              "<table class=\"dataframe\">\n",
              "<caption>A table: 3 × 4 of type dbl</caption>\n",
              "<thead>\n",
              "\t<tr><th></th><th scope=col>None</th><th scope=col>Some</th><th scope=col>Marked</th><th scope=col>Sum</th></tr>\n",
              "</thead>\n",
              "<tbody>\n",
              "\t<tr><th scope=row>Placebo</th><td>0.3452381</td><td>0.08333333</td><td>0.08333333</td><td>0.5119048</td></tr>\n",
              "\t<tr><th scope=row>Treated</th><td>0.1547619</td><td>0.08333333</td><td>0.25000000</td><td>0.4880952</td></tr>\n",
              "\t<tr><th scope=row>Sum</th><td>0.5000000</td><td>0.16666667</td><td>0.33333333</td><td>1.0000000</td></tr>\n",
              "</tbody>\n",
              "</table>\n"
            ],
            "text/markdown": "\nA table: 3 × 4 of type dbl\n\n| <!--/--> | None | Some | Marked | Sum |\n|---|---|---|---|---|\n| Placebo | 0.3452381 | 0.08333333 | 0.08333333 | 0.5119048 |\n| Treated | 0.1547619 | 0.08333333 | 0.25000000 | 0.4880952 |\n| Sum | 0.5000000 | 0.16666667 | 0.33333333 | 1.0000000 |\n\n",
            "text/latex": "A table: 3 × 4 of type dbl\n\\begin{tabular}{r|llll}\n  & None & Some & Marked & Sum\\\\\n\\hline\n\tPlacebo & 0.3452381 & 0.08333333 & 0.08333333 & 0.5119048\\\\\n\tTreated & 0.1547619 & 0.08333333 & 0.25000000 & 0.4880952\\\\\n\tSum & 0.5000000 & 0.16666667 & 0.33333333 & 1.0000000\\\\\n\\end{tabular}\n",
            "text/plain": [
              "         Improved\n",
              "Treatment None      Some       Marked     Sum      \n",
              "  Placebo 0.3452381 0.08333333 0.08333333 0.5119048\n",
              "  Treated 0.1547619 0.08333333 0.25000000 0.4880952\n",
              "  Sum     0.5000000 0.16666667 0.33333333 1.0000000"
            ]
          },
          "metadata": {}
        }
      ]
    },
    {
      "cell_type": "markdown",
      "source": [
        "По умолчанию функция `addmargins()` вычисляет суммы и по столбцам, и по строкам таблицы. Также можно вычислить суммы только по строкам:"
      ],
      "metadata": {
        "id": "RM0Rkbtc3iDs"
      }
    },
    {
      "cell_type": "code",
      "source": [
        "addmargins(prop.table(mytable, 1), 2)"
      ],
      "metadata": {
        "id": "Xxkk6TnD3k4g",
        "outputId": "f1b40c0f-82c0-4de5-e859-87df3d818b03",
        "colab": {
          "base_uri": "https://localhost:8080/",
          "height": 129
        }
      },
      "execution_count": 39,
      "outputs": [
        {
          "output_type": "display_data",
          "data": {
            "text/html": [
              "<table class=\"dataframe\">\n",
              "<caption>A table: 2 × 4 of type dbl</caption>\n",
              "<thead>\n",
              "\t<tr><th></th><th scope=col>None</th><th scope=col>Some</th><th scope=col>Marked</th><th scope=col>Sum</th></tr>\n",
              "</thead>\n",
              "<tbody>\n",
              "\t<tr><th scope=row>Placebo</th><td>0.6744186</td><td>0.1627907</td><td>0.1627907</td><td>1</td></tr>\n",
              "\t<tr><th scope=row>Treated</th><td>0.3170732</td><td>0.1707317</td><td>0.5121951</td><td>1</td></tr>\n",
              "</tbody>\n",
              "</table>\n"
            ],
            "text/markdown": "\nA table: 2 × 4 of type dbl\n\n| <!--/--> | None | Some | Marked | Sum |\n|---|---|---|---|---|\n| Placebo | 0.6744186 | 0.1627907 | 0.1627907 | 1 |\n| Treated | 0.3170732 | 0.1707317 | 0.5121951 | 1 |\n\n",
            "text/latex": "A table: 2 × 4 of type dbl\n\\begin{tabular}{r|llll}\n  & None & Some & Marked & Sum\\\\\n\\hline\n\tPlacebo & 0.6744186 & 0.1627907 & 0.1627907 & 1\\\\\n\tTreated & 0.3170732 & 0.1707317 & 0.5121951 & 1\\\\\n\\end{tabular}\n",
            "text/plain": [
              "         Improved\n",
              "Treatment None      Some      Marked    Sum\n",
              "  Placebo 0.6744186 0.1627907 0.1627907 1  \n",
              "  Treated 0.3170732 0.1707317 0.5121951 1  "
            ]
          },
          "metadata": {}
        }
      ]
    },
    {
      "cell_type": "markdown",
      "source": [
        "или только по столбцам:"
      ],
      "metadata": {
        "id": "LyvMa_3m3rmF"
      }
    },
    {
      "cell_type": "code",
      "source": [
        "addmargins(prop.table(mytable, 2), 1)"
      ],
      "metadata": {
        "id": "Ok0Pp8Nm3uak",
        "outputId": "de2ba036-591c-47be-ff45-af924540901e",
        "colab": {
          "base_uri": "https://localhost:8080/",
          "height": 161
        }
      },
      "execution_count": 40,
      "outputs": [
        {
          "output_type": "display_data",
          "data": {
            "text/html": [
              "<table class=\"dataframe\">\n",
              "<caption>A table: 3 × 3 of type dbl</caption>\n",
              "<thead>\n",
              "\t<tr><th></th><th scope=col>None</th><th scope=col>Some</th><th scope=col>Marked</th></tr>\n",
              "</thead>\n",
              "<tbody>\n",
              "\t<tr><th scope=row>Placebo</th><td>0.6904762</td><td>0.5</td><td>0.25</td></tr>\n",
              "\t<tr><th scope=row>Treated</th><td>0.3095238</td><td>0.5</td><td>0.75</td></tr>\n",
              "\t<tr><th scope=row>Sum</th><td>1.0000000</td><td>1.0</td><td>1.00</td></tr>\n",
              "</tbody>\n",
              "</table>\n"
            ],
            "text/markdown": "\nA table: 3 × 3 of type dbl\n\n| <!--/--> | None | Some | Marked |\n|---|---|---|---|\n| Placebo | 0.6904762 | 0.5 | 0.25 |\n| Treated | 0.3095238 | 0.5 | 0.75 |\n| Sum | 1.0000000 | 1.0 | 1.00 |\n\n",
            "text/latex": "A table: 3 × 3 of type dbl\n\\begin{tabular}{r|lll}\n  & None & Some & Marked\\\\\n\\hline\n\tPlacebo & 0.6904762 & 0.5 & 0.25\\\\\n\tTreated & 0.3095238 & 0.5 & 0.75\\\\\n\tSum & 1.0000000 & 1.0 & 1.00\\\\\n\\end{tabular}\n",
            "text/plain": [
              "         Improved\n",
              "Treatment None      Some Marked\n",
              "  Placebo 0.6904762 0.5  0.25  \n",
              "  Treated 0.3095238 0.5  0.75  \n",
              "  Sum     1.0000000 1.0  1.00  "
            ]
          },
          "metadata": {}
        }
      ]
    },
    {
      "cell_type": "markdown",
      "source": [
        "Судя по полученным результатам, 25 % пациентов, чье состояние заметно улучшилось после лечения, получали плацебо.\n",
        "\n",
        "\n",
        "> ПРИМЕЧАНИЕ. Функция `table()` по умолчанию игнорирует пропущенные значения `(NA)`. Чтобы добавить их в таблицу сопряженности как одно из возможных значений, используйте параметр `useNA=\"ifany\"`.\n",
        "\n",
        "Третий способ создания таблиц сопряженности для двух переменных – использовать функцию `CrossTable()` из пакета gmodels. Эта функция создает такую же таблицу, как функции `PROC FREQ` в `SAS` или `CROSSTABS` в `SPSS`.\n",
        "\n"
      ],
      "metadata": {
        "id": "1SjOZR823-Qb"
      }
    },
    {
      "cell_type": "code",
      "source": [
        "install.packages(\"gmodels\")\n",
        "library(gmodels)\n",
        "CrossTable(Arthritis$Treatment, Arthritis$Improved)"
      ],
      "metadata": {
        "id": "hPUWGeew4oZf",
        "outputId": "b0e29504-a988-45b6-8260-6905acdaf9c4",
        "colab": {
          "base_uri": "https://localhost:8080/"
        }
      },
      "execution_count": 41,
      "outputs": [
        {
          "output_type": "stream",
          "name": "stderr",
          "text": [
            "Installing package into ‘/usr/local/lib/R/site-library’\n",
            "(as ‘lib’ is unspecified)\n",
            "\n",
            "also installing the dependencies ‘gtools’, ‘gdata’\n",
            "\n",
            "\n"
          ]
        },
        {
          "output_type": "stream",
          "name": "stdout",
          "text": [
            "\n",
            " \n",
            "   Cell Contents\n",
            "|-------------------------|\n",
            "|                       N |\n",
            "| Chi-square contribution |\n",
            "|           N / Row Total |\n",
            "|           N / Col Total |\n",
            "|         N / Table Total |\n",
            "|-------------------------|\n",
            "\n",
            " \n",
            "Total Observations in Table:  84 \n",
            "\n",
            " \n",
            "                    | Arthritis$Improved \n",
            "Arthritis$Treatment |      None |      Some |    Marked | Row Total | \n",
            "--------------------|-----------|-----------|-----------|-----------|\n",
            "            Placebo |        29 |         7 |         7 |        43 | \n",
            "                    |     2.616 |     0.004 |     3.752 |           | \n",
            "                    |     0.674 |     0.163 |     0.163 |     0.512 | \n",
            "                    |     0.690 |     0.500 |     0.250 |           | \n",
            "                    |     0.345 |     0.083 |     0.083 |           | \n",
            "--------------------|-----------|-----------|-----------|-----------|\n",
            "            Treated |        13 |         7 |        21 |        41 | \n",
            "                    |     2.744 |     0.004 |     3.935 |           | \n",
            "                    |     0.317 |     0.171 |     0.512 |     0.488 | \n",
            "                    |     0.310 |     0.500 |     0.750 |           | \n",
            "                    |     0.155 |     0.083 |     0.250 |           | \n",
            "--------------------|-----------|-----------|-----------|-----------|\n",
            "       Column Total |        42 |        14 |        28 |        84 | \n",
            "                    |     0.500 |     0.167 |     0.333 |           | \n",
            "--------------------|-----------|-----------|-----------|-----------|\n",
            "\n",
            " \n"
          ]
        }
      ]
    },
    {
      "cell_type": "markdown",
      "source": [
        "Функция `CrossTable()` принимает дополнительные параметры, управляющие вычислением процентов (по строкам, столбцам и ячейкам); округлением результатов до заданного числа знаков после запятой; вычислением критериев хи-квадрат, Фишера и Мак-Немара; вычислением ожидаемых значений и остатков (по Пирсону, стандартизованные, скорректированные стандартизованные); учетом пропущенных значений; добавлением подписей в виде имен строк и столбцов; форматированием результатов в стиле SAS\n",
        "и SPSS. Более подробную информацию можно получить, вызвав `help(CrossTable)`.\n",
        "\n",
        "Если в наборе данных имеется больше двух категориальных переменных, то есть возможность строить многомерные таблицы сопряженности. Давайте рассмотрим их."
      ],
      "metadata": {
        "id": "nDk3J5Tf5AY-"
      }
    },
    {
      "cell_type": "markdown",
      "source": [
        "#### Многомерные таблицы\n",
        "Функции `table()` и `xtabs()` можно использовать для создания многомерных таблиц сопряженности для трех и более категориальных переменных. Функции `margin.table()`, `prop.table()` и `addmargins()`\n",
        "тоже можно применять к многомерным таблицам. Кроме того, функция `ftable()` позволяет выводить многомерные таблицы в компактном и удобном виде. Примеры использования этих функций показаны ниже."
      ],
      "metadata": {
        "id": "s8_R0sm45WVV"
      }
    },
    {
      "cell_type": "code",
      "source": [
        "# Формирование трехмерной таблицы\n",
        "mytable <- xtabs(~ Treatment+Sex+Improved, data=Arthritis)\n",
        "mytable"
      ],
      "metadata": {
        "id": "k9lZwKLJBNbX",
        "outputId": "aa461ebb-e615-4ec1-e5c7-7075292b0ddf",
        "colab": {
          "base_uri": "https://localhost:8080/",
          "height": 364
        }
      },
      "execution_count": 42,
      "outputs": [
        {
          "output_type": "display_data",
          "data": {
            "text/plain": [
              ", , Improved = None\n",
              "\n",
              "         Sex\n",
              "Treatment Female Male\n",
              "  Placebo     19   10\n",
              "  Treated      6    7\n",
              "\n",
              ", , Improved = Some\n",
              "\n",
              "         Sex\n",
              "Treatment Female Male\n",
              "  Placebo      7    0\n",
              "  Treated      5    2\n",
              "\n",
              ", , Improved = Marked\n",
              "\n",
              "         Sex\n",
              "Treatment Female Male\n",
              "  Placebo      6    1\n",
              "  Treated     16    5\n"
            ]
          },
          "metadata": {}
        }
      ]
    },
    {
      "cell_type": "code",
      "source": [
        "# Доли от общей суммы по всем ячейкам\n",
        "ftable(mytable)"
      ],
      "metadata": {
        "id": "QP0gpmD9CZUb",
        "outputId": "4c5b5a1e-7bf0-4819-9060-aeb4a2f46cb9",
        "colab": {
          "base_uri": "https://localhost:8080/",
          "height": 121
        }
      },
      "execution_count": 43,
      "outputs": [
        {
          "output_type": "display_data",
          "data": {
            "text/plain": [
              "                 Improved None Some Marked\n",
              "Treatment Sex                             \n",
              "Placebo   Female            19    7      6\n",
              "          Male              10    0      1\n",
              "Treated   Female             6    5     16\n",
              "          Male               7    2      5"
            ]
          },
          "metadata": {}
        }
      ]
    },
    {
      "cell_type": "markdown",
      "source": [
        "Инструкция ❶ вычисляет частоты для сочетаний всех трех факторов. Эта инструкция также демонстрирует, как можно использовать функцию `ftable()` для представления результатов в более удобном и компактном виде."
      ],
      "metadata": {
        "id": "sqTrgHLQEDvt"
      }
    },
    {
      "cell_type": "code",
      "source": [
        "# Доли от суммы по строкам и столбцам\n",
        "margin.table(mytable, 1)\n",
        "margin.table(mytable, 2)\n",
        "margin.table(mytable, 3)"
      ],
      "metadata": {
        "id": "j_wpV4YwCqxE",
        "outputId": "6dea9119-9d2b-42b1-aaad-794d2d634b31",
        "colab": {
          "base_uri": "https://localhost:8080/",
          "height": 173
        }
      },
      "execution_count": 45,
      "outputs": [
        {
          "output_type": "display_data",
          "data": {
            "text/plain": [
              "Treatment\n",
              "Placebo Treated \n",
              "     43      41 "
            ]
          },
          "metadata": {}
        },
        {
          "output_type": "display_data",
          "data": {
            "text/plain": [
              "Sex\n",
              "Female   Male \n",
              "    59     25 "
            ]
          },
          "metadata": {}
        },
        {
          "output_type": "display_data",
          "data": {
            "text/plain": [
              "Improved\n",
              "  None   Some Marked \n",
              "    42     14     28 "
            ]
          },
          "metadata": {}
        }
      ]
    },
    {
      "cell_type": "markdown",
      "source": [
        "Инструкция ❷ вычисляет частоты для отдельных факторов Treatment, Sex и Improved. Поскольку исходная таблица была создана при помощи формулы ~ Treatment+Sex+Improved, индекс 1 соответствует переменной Treatment, индекс 2 – переменной Sex, а индекс 3 – переменной Improved."
      ],
      "metadata": {
        "id": "sGZwStJwEN-P"
      }
    },
    {
      "cell_type": "code",
      "source": [
        "# Доли от сумм по столбцам Treatment и Improved\n",
        "margin.table(mytable, c(1, 3))"
      ],
      "metadata": {
        "id": "eowWIBNgDCob",
        "outputId": "ddd8fc5a-3e09-4ceb-aa11-358ad30483cd",
        "colab": {
          "base_uri": "https://localhost:8080/",
          "height": 86
        }
      },
      "execution_count": 46,
      "outputs": [
        {
          "output_type": "display_data",
          "data": {
            "text/plain": [
              "         Improved\n",
              "Treatment None Some Marked\n",
              "  Placebo   29    7      7\n",
              "  Treated   13    7     21"
            ]
          },
          "metadata": {}
        }
      ]
    },
    {
      "cell_type": "markdown",
      "source": [
        "Инструкция ❸ вычисляет частоты по всем сочетаниям значений Treatment и Improved, объединяя данные для мужчин и женщин."
      ],
      "metadata": {
        "id": "HHHv9rPGEVKs"
      }
    },
    {
      "cell_type": "code",
      "source": [
        "# Доли от сумм по столбцам Treatment и Sex\n",
        "ftable(prop.table(mytable, c(1, 2)))"
      ],
      "metadata": {
        "id": "bd-ARvECDSaz",
        "outputId": "de37ca31-61c3-4bd5-a73d-f677a591938e",
        "colab": {
          "base_uri": "https://localhost:8080/",
          "height": 121
        }
      },
      "execution_count": 47,
      "outputs": [
        {
          "output_type": "display_data",
          "data": {
            "text/plain": [
              "                 Improved       None       Some     Marked\n",
              "Treatment Sex                                             \n",
              "Placebo   Female          0.59375000 0.21875000 0.18750000\n",
              "          Male            0.90909091 0.00000000 0.09090909\n",
              "Treated   Female          0.22222222 0.18518519 0.59259259\n",
              "          Male            0.50000000 0.14285714 0.35714286"
            ]
          },
          "metadata": {}
        }
      ]
    },
    {
      "cell_type": "code",
      "source": [
        "ftable(addmargins(prop.table(mytable, c(1, 2)), 3))"
      ],
      "metadata": {
        "id": "w880nMDxDm88",
        "outputId": "f185211d-ab56-4fb6-aafb-9c5e7baf9f10",
        "colab": {
          "base_uri": "https://localhost:8080/",
          "height": 121
        }
      },
      "execution_count": 48,
      "outputs": [
        {
          "output_type": "display_data",
          "data": {
            "text/plain": [
              "                 Improved       None       Some     Marked        Sum\n",
              "Treatment Sex                                                        \n",
              "Placebo   Female          0.59375000 0.21875000 0.18750000 1.00000000\n",
              "          Male            0.90909091 0.00000000 0.09090909 1.00000000\n",
              "Treated   Female          0.22222222 0.18518519 0.59259259 1.00000000\n",
              "          Male            0.50000000 0.14285714 0.35714286 1.00000000"
            ]
          },
          "metadata": {}
        }
      ]
    },
    {
      "cell_type": "markdown",
      "source": [
        "Инструкция ❹ вычисляет долю пациентов с разной степенью улучшения для каждого сочетания типа лечения и пола (Treatment и Sex). Здесь можно заметить, что заметное улучшение наступило у 36 % мужчин и 59 % женщин, получавших настоящее лекарство. В общем случае частоты вычисляются так, чтобы их сумма для всех значений фактора (в данном случае Improved), не указанного в вызове prop.table(), была равна единице. Это видно в последнем примере, где частоты суммируются по строкам.\n",
        "\n",
        "Чтобы представить результаты в процентах, а не в долях от еди-\n",
        "ницы, можно умножить все значения на 100. Например, следую-\n",
        "щая инструкция:"
      ],
      "metadata": {
        "id": "zak8iJLrDygf"
      }
    },
    {
      "cell_type": "code",
      "source": [
        "ftable(addmargins(prop.table(mytable, c(1, 2)), 3)) * 100"
      ],
      "metadata": {
        "id": "Eqrgxy0pEocA",
        "outputId": "b7413d97-c28e-4ce5-b31f-cce99c8fa101",
        "colab": {
          "base_uri": "https://localhost:8080/",
          "height": 121
        }
      },
      "execution_count": 49,
      "outputs": [
        {
          "output_type": "display_data",
          "data": {
            "text/plain": [
              "                 Improved       None       Some     Marked        Sum\n",
              "Treatment Sex                                                        \n",
              "Placebo   Female           59.375000  21.875000  18.750000 100.000000\n",
              "          Male             90.909091   0.000000   9.090909 100.000000\n",
              "Treated   Female           22.222222  18.518519  59.259259 100.000000\n",
              "          Male             50.000000  14.285714  35.714286 100.000000"
            ]
          },
          "metadata": {}
        }
      ]
    },
    {
      "cell_type": "markdown",
      "source": [
        "Таблицы сопряженности содержат информацию о частотах всех сочетаний значений факторов, но нередко желательно также знать, связаны ли эти факторы между собой или они независимы. Критерии независимости обсуждаются в следующем разделе."
      ],
      "metadata": {
        "id": "Ky0kFoqeE22I"
      }
    },
    {
      "cell_type": "markdown",
      "source": [
        "### Критерии независимости\n",
        "Проверить независимость категориальных данных в R можно несколькими способами. В этом разделе описаны три критерия: хиквадрат, Фишера и Кохрана–Мантеля–Хензеля."
      ],
      "metadata": {
        "id": "tLjPqWFDE8tG"
      }
    },
    {
      "cell_type": "markdown",
      "source": [
        "#### Хи-квадрат\n",
        "К двумерной таблице можно применить функцию chisq.test(), чтобы проверить значение критерия хи-квадрат для переменных, представляющих строки и столбцы."
      ],
      "metadata": {
        "id": "pI280BQKQQiR"
      }
    },
    {
      "cell_type": "code",
      "source": [
        "install.packages(\"vcd\")\n",
        "library(vcd)\n",
        "mytable <- xtabs(~Treatment+Improved, data=Arthritis)\n",
        "chisq.test(mytable)"
      ],
      "metadata": {
        "id": "kZZF8bQjQfzC",
        "outputId": "f6b2b267-e073-4f60-b56f-1505f44a42ac",
        "colab": {
          "base_uri": "https://localhost:8080/",
          "height": 156
        }
      },
      "execution_count": 50,
      "outputs": [
        {
          "output_type": "stream",
          "name": "stderr",
          "text": [
            "Installing package into ‘/usr/local/lib/R/site-library’\n",
            "(as ‘lib’ is unspecified)\n",
            "\n"
          ]
        },
        {
          "output_type": "display_data",
          "data": {
            "text/plain": [
              "\n",
              "\tPearson's Chi-squared test\n",
              "\n",
              "data:  mytable\n",
              "X-squared = 13.055, df = 2, p-value = 0.001463\n"
            ]
          },
          "metadata": {}
        }
      ]
    },
    {
      "cell_type": "markdown",
      "source": [
        "Переменные Treatment и Improved не являются независимыми.\n",
        "\n",
        "Как показывают результаты вычисления критерия хи-квадрат ❶,\n",
        "между типом лечения (Treatment) и степенью улучшения (Improved)\n",
        "состояния пациентов существует связь (p < 0.01). А вот между по-\n",
        "лом пациентов и степенью улучшения их состояния связи нет"
      ],
      "metadata": {
        "id": "US9TPrToREqJ"
      }
    },
    {
      "cell_type": "code",
      "source": [
        "mytable <- xtabs(~Improved+Sex, data=Arthritis)\n",
        "chisq.test(mytable)"
      ],
      "metadata": {
        "id": "iA61xaAARJwM",
        "outputId": "d2922913-2308-481f-9e12-8215402598f3",
        "colab": {
          "base_uri": "https://localhost:8080/",
          "height": 138
        }
      },
      "execution_count": 51,
      "outputs": [
        {
          "output_type": "stream",
          "name": "stderr",
          "text": [
            "Warning message in chisq.test(mytable):\n",
            "“Chi-squared approximation may be incorrect”\n"
          ]
        },
        {
          "output_type": "display_data",
          "data": {
            "text/plain": [
              "\n",
              "\tPearson's Chi-squared test\n",
              "\n",
              "data:  mytable\n",
              "X-squared = 4.8407, df = 2, p-value = 0.08889\n"
            ]
          },
          "metadata": {}
        }
      ]
    },
    {
      "cell_type": "markdown",
      "source": [
        "Переменные Sex и Improved не зависят друг от друга."
      ],
      "metadata": {
        "id": "eLuGouo6RQAi"
      }
    },
    {
      "cell_type": "markdown",
      "source": [
        "Как показывают результаты вычисления критерия хи-квадрат ❶, между типом лечения (Treatment) и степенью улучшения (Improved) состояния пациентов существует связь (p < 0.01). А вот между полом пациентов и степенью улучшения их состояния связи нет (p > 0.05) ❷. Значение статистической ошибки первого рода (p-value) – это вероятность отсутствия зависимости между данными переменными в генеральной совокупности. Поскольку эта вероятность достаточно мала в случае ❶, можно отвергнуть гипотезу о независимости результата лечения от его типа. Однако в случае ❷ недостаточно мала, поэтому есть основание полагать, что способ лечения и пол пациентов не зависят друг от друга. Предупреждение (warning message) в результатах в листинге появляется потому, что в одной из шести ячеек таблицы сопряженности (некоторое\n",
        "улучшение состояния у мужчин) ожидаемое значение меньше 5, что может сделать недействительным критерий хи-квадрат."
      ],
      "metadata": {
        "id": "M9XC8bBNRbkQ"
      }
    },
    {
      "cell_type": "markdown",
      "source": [
        "#### Точный критерий Фишера\n",
        "Точный критерий Фишера (Fisher’s exact test) можно вычислить с помощью функции fisher.test(). Этот критерий проверяет нулевую гипотезу о независимости столбцов и строк в таблице сопряженности. Эта функция имеет следующий синтаксис:\n",
        "```\n",
        "fisher.test(mytable)\n",
        "где mytable – это двухмерная таблица.\n",
        "```\n",
        "Вот пример:"
      ],
      "metadata": {
        "id": "W6nj945qSDh5"
      }
    },
    {
      "cell_type": "code",
      "source": [
        "mytable <- xtabs(~Treatment+Improved, data=Arthritis)\n",
        "fisher.test(mytable)"
      ],
      "metadata": {
        "id": "CqPlcJRlSdLU",
        "outputId": "2791da11-7cb4-4a85-83bb-6d1f2f803ae1",
        "colab": {
          "base_uri": "https://localhost:8080/",
          "height": 121
        }
      },
      "execution_count": 52,
      "outputs": [
        {
          "output_type": "display_data",
          "data": {
            "text/plain": [
              "\n",
              "\tFisher's Exact Test for Count Data\n",
              "\n",
              "data:  mytable\n",
              "p-value = 0.001393\n",
              "alternative hypothesis: two.sided\n"
            ]
          },
          "metadata": {}
        }
      ]
    },
    {
      "cell_type": "markdown",
      "source": [
        "В отличие от многих статистических программ, функцию `fisher.test()` в R можно применять к любой таблице сопряженности (с двумя и более столбцами и строками), а не только к таблице размерности 2×2."
      ],
      "metadata": {
        "id": "0lZpqtg1UQBJ"
      }
    },
    {
      "cell_type": "markdown",
      "source": [
        "#### Критерий Кохрана–Мантеля–Хензеля\n",
        "Функция mantelhaen.test() позволяет вычислить критерий хиквадрат Кохрана–Мантеля–Хензеля (Cochran-Mantel-Haenszel), проверяющий нулевую гипотезу о независимости двух номинальных переменных для каждого значения третьей переменной. Приведенный ниже код проверяет гипотезу о независимости переменных Treatment и Improved для каждого значения переменной Sex. При этом предполагается отсутствие трехсторонней взаимозависимости (Treatment × Improved × Sex)."
      ],
      "metadata": {
        "id": "QNbjp5r1UqTK"
      }
    },
    {
      "cell_type": "code",
      "source": [
        "mytable <- xtabs(~Treatment+Improved+Sex, data=Arthritis)\n",
        "mantelhaen.test(mytable)"
      ],
      "metadata": {
        "id": "l_q6a60kU5oV",
        "outputId": "e7cb3b4c-0862-4ed8-8d1d-4f657b2240be",
        "colab": {
          "base_uri": "https://localhost:8080/",
          "height": 104
        }
      },
      "execution_count": 53,
      "outputs": [
        {
          "output_type": "display_data",
          "data": {
            "text/plain": [
              "\n",
              "\tCochran-Mantel-Haenszel test\n",
              "\n",
              "data:  mytable\n",
              "Cochran-Mantel-Haenszel M^2 = 14.632, df = 2, p-value = 0.0006647\n"
            ]
          },
          "metadata": {}
        }
      ]
    },
    {
      "cell_type": "markdown",
      "source": [
        "Полученный результат позволяет считать, что вне зависимости от пола пациентов между способом лечения и его результатом имеется выраженная связь."
      ],
      "metadata": {
        "id": "I2zYA67zV2GA"
      }
    },
    {
      "cell_type": "markdown",
      "source": [
        "### Меры тесноты связи\n",
        "Статистические критерии значимости, описанные в предыдущем разделе, оценивали достаточность оснований для отклонения нулевой гипотезы о независимости двух переменных. Если нулевую гипотезу можно отвергнуть, то возникает следующий естественный вопрос: насколько сильна обнаруженная взаимосвязь. Функция `assocstats()` из пакета `vcd` вычисляет фи-коэффициент (phi coefficient), коэффициент сопряженности и V-коэффициент Крамера (Cramer’s V) для двумерной таблицы."
      ],
      "metadata": {
        "id": "FAo5ZUQxWCbA"
      }
    },
    {
      "cell_type": "code",
      "source": [
        "mytable <- xtabs(~Treatment+Improved, data=Arthritis)\n",
        "assocstats(mytable)"
      ],
      "metadata": {
        "id": "RJ-iZmDRWSwj",
        "outputId": "9e3b14c5-8d13-4dc0-9fcc-e291a8618b62",
        "colab": {
          "base_uri": "https://localhost:8080/",
          "height": 138
        }
      },
      "execution_count": 54,
      "outputs": [
        {
          "output_type": "display_data",
          "data": {
            "text/plain": [
              "                    X^2 df  P(> X^2)\n",
              "Likelihood Ratio 13.530  2 0.0011536\n",
              "Pearson          13.055  2 0.0014626\n",
              "\n",
              "Phi-Coefficient   : NA \n",
              "Contingency Coeff.: 0.367 \n",
              "Cramer's V        : 0.394 "
            ]
          },
          "metadata": {}
        }
      ]
    },
    {
      "cell_type": "markdown",
      "source": [
        "В общем случае чем больше значения коэффициентов, тем теснее связь. В пакете vcd также имеется функция `kappa()`, которая вычисляет каппу Коэна (Cohen’s kappa) и взвешенную каппу для матрицы соответствий (например, степень согласованности между двумя суждениями, классифицирующими набор объектов по категориям)."
      ],
      "metadata": {
        "id": "oIsNxrLcWfJN"
      }
    },
    {
      "cell_type": "code",
      "source": [
        "kappa(mytable)"
      ],
      "metadata": {
        "id": "BC35hUu_WoJZ",
        "outputId": "658c2ae3-0972-4f2b-82d2-6eb6bbaf5cf8",
        "colab": {
          "base_uri": "https://localhost:8080/",
          "height": 34
        }
      },
      "execution_count": 55,
      "outputs": [
        {
          "output_type": "display_data",
          "data": {
            "text/html": [
              "2.76034247564564"
            ],
            "text/markdown": "2.76034247564564",
            "text/latex": "2.76034247564564",
            "text/plain": [
              "[1] 2.760342"
            ]
          },
          "metadata": {}
        }
      ]
    },
    {
      "cell_type": "markdown",
      "source": [
        "### Визуализация результатов\n",
        "В R реализованы способы визуализации взаимосвязей между категориальными переменными, которые выходят далеко за пределы возможностей большинства других статистических программ. Обычно для визуализации частот значений одной переменной используются столбиковые диаграммы (раздел 6.1). В пакете `vcd` имеются замечательные функции визуализации взаимосвязей между категориальными переменными в многомерных наборах данных с использованием мозаичных диаграмм и диаграмм связей (раздел 11.4). Наконец, функции анализа соответствий в пакете `ca` позволяют визуально исследовать связи между строками и столбцами таблиц сопряженности при помощи различных геометрических\n",
        "образов (Nenadic, Greenacre, 2007).\n",
        "\n",
        "На этом мы приостанавливаем обсуждение таблиц сопряженности и возобновим его после знакомства с более сложными темами в главах 11 и 19. Теперь давайте познакомимся с разными типами коэффициентов корреляции."
      ],
      "metadata": {
        "id": "TswaCTvSW3H8"
      }
    },
    {
      "cell_type": "markdown",
      "source": [
        "## Корреляция\n",
        "Коэффициенты корреляции используются для описания тесноты связей между количественными переменными. Знак коэффициента (+ или –) свидетельствует о направлении связи (положительная или отрицательная), а величина коэффициента показывает силу связи (от 0 – нет связи до 1 – абсолютно предсказуемая взаимосвязь).\n",
        "\n",
        "\n",
        "В этом разделе мы рассмотрим разные коэффициенты корреляции наряду с критериями оценки их значимости. В наших примерах мы используем набор данных state.x77, входящий в состав базового дистрибутива R. В нем содержатся сведения о численности, доходе, проценте неграмотного населения, средней продолжительности жизни, уровне преступности и доле людей со средним образованием по 50 штатам США в 1977 году. Там также есть данные о температурном режиме и о площади штатов, но мы опустим\n",
        "их, чтобы сэкономить место. Выполните вызов help(state.x77), чтобы узнать больше об этих данных. В дополнение к базовой версии R нам понадобятся пакеты psych и ggm."
      ],
      "metadata": {
        "id": "bRJsgtTkXQMh"
      }
    },
    {
      "cell_type": "markdown",
      "source": [
        "### Типы корреляций\n",
        "В R можно вычислять разные коэффициенты корреляции, включая коэффициенты Пирсона, Спирмена, Кенделла, частные, полихорические и многорядные. Рассмотрим их по порядку."
      ],
      "metadata": {
        "id": "hwAMrrukZkhC"
      }
    },
    {
      "cell_type": "markdown",
      "source": [
        "#### Коэффициенты Пирсона, Спирмена и Кенделла\n",
        "Коэффициент линейной корреляции Пирсона (Pearson product moment correlation) отражает тесноту линейной связи между двумя количественными переменными. Коэффициент ранговой корреляции Спирмана (Spearman’s Rank Order correlation) отражает тесноту связи между двумя ранжированными переменными. Тау Кенделла (Kendall’s Tau) – еще один непараметрический показатель ранговой корреляции.\n",
        "\n",
        "Функция cor() вычисляет все три коэффициента, а функция cov() вычисляет ковариации. У этих функций есть много дополнительных параметров, но в общем случае синтаксис вычисления корреляций выглядит так:\n",
        "```\n",
        "cor(x, use= , method= )\n",
        "```\n",
        "\n",
        "# P.N. 227\n",
        "\n",
        "Параметр Описание\n",
        "x Матрица или таблица данных\n",
        "use Определяет необходимость обработки пропущенных данных. Может принимать сле-\n",
        "дующие значения: all.obs (предполагается, что в наборе данных нет пропущенных\n",
        "значений и их появление вызовет сообщение об ошибке), everything (коэффициен-\n",
        "ты корреляции для строк с отсутствующими значениями будут пропускаться и обо-\n",
        "значаться как missing), complete.obs (учитывать только строки без пропущенных\n",
        "значений) и pairwise.complete.obs (учитывать все полные наблюдения для каждой\n",
        "пары переменных в отдельности)\n",
        "method Определяет тип коэффициента корреляции. Возможные значения: pearson, spearman\n",
        "и kendall\n",
        "По умолчанию параметры принимают следующие значения:\n",
        "use=\"everything\" и method=\"pearson\"."
      ],
      "metadata": {
        "id": "n907pOYoZvM7"
      }
    }
  ]
}