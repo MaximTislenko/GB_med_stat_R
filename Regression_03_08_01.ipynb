{
  "nbformat": 4,
  "nbformat_minor": 0,
  "metadata": {
    "colab": {
      "provenance": [],
      "include_colab_link": true
    },
    "kernelspec": {
      "name": "ir",
      "display_name": "R"
    },
    "language_info": {
      "name": "R"
    }
  },
  "cells": [
    {
      "cell_type": "markdown",
      "metadata": {
        "id": "view-in-github",
        "colab_type": "text"
      },
      "source": [
        "<a href=\"https://colab.research.google.com/github/MaximTislenko/GB_med_stat_R/blob/main/Regression_03_08_01.ipynb\" target=\"_parent\"><img src=\"https://colab.research.google.com/assets/colab-badge.svg\" alt=\"Open In Colab\"/></a>"
      ]
    },
    {
      "cell_type": "code",
      "execution_count": null,
      "metadata": {
        "id": "AdrY4BSy4w1z",
        "outputId": "9ec8f1a9-d068-4576-c0dd-4624eb17c0bf",
        "colab": {
          "base_uri": "https://localhost:8080/"
        }
      },
      "outputs": [
        {
          "output_type": "stream",
          "name": "stderr",
          "text": [
            "── \u001b[1mAttaching core tidyverse packages\u001b[22m ──────────────────────── tidyverse 2.0.0 ──\n",
            "\u001b[32m✔\u001b[39m \u001b[34mdplyr    \u001b[39m 1.1.4     \u001b[32m✔\u001b[39m \u001b[34mreadr    \u001b[39m 2.1.5\n",
            "\u001b[32m✔\u001b[39m \u001b[34mforcats  \u001b[39m 1.0.0     \u001b[32m✔\u001b[39m \u001b[34mstringr  \u001b[39m 1.5.1\n",
            "\u001b[32m✔\u001b[39m \u001b[34mggplot2  \u001b[39m 3.4.4     \u001b[32m✔\u001b[39m \u001b[34mtibble   \u001b[39m 3.2.1\n",
            "\u001b[32m✔\u001b[39m \u001b[34mlubridate\u001b[39m 1.9.3     \u001b[32m✔\u001b[39m \u001b[34mtidyr    \u001b[39m 1.3.1\n",
            "\u001b[32m✔\u001b[39m \u001b[34mpurrr    \u001b[39m 1.0.2     \n",
            "── \u001b[1mConflicts\u001b[22m ────────────────────────────────────────── tidyverse_conflicts() ──\n",
            "\u001b[31m✖\u001b[39m \u001b[34mpurrr\u001b[39m::\u001b[32m%||%()\u001b[39m   masks \u001b[34mbase\u001b[39m::%||%()\n",
            "\u001b[31m✖\u001b[39m \u001b[34mdplyr\u001b[39m::\u001b[32mfilter()\u001b[39m masks \u001b[34mstats\u001b[39m::filter()\n",
            "\u001b[31m✖\u001b[39m \u001b[34mdplyr\u001b[39m::\u001b[32mlag()\u001b[39m    masks \u001b[34mstats\u001b[39m::lag()\n",
            "\u001b[36mℹ\u001b[39m Use the conflicted package (\u001b[3m\u001b[34m<http://conflicted.r-lib.org/>\u001b[39m\u001b[23m) to force all conflicts to become errors\n"
          ]
        }
      ],
      "source": [
        "library(tidyverse)\n",
        "library(readxl)"
      ]
    },
    {
      "cell_type": "markdown",
      "source": [
        "# Часть II\n",
        "# Базовые методы\n"
      ],
      "metadata": {
        "id": "tdk3MfdPr1lW"
      }
    },
    {
      "cell_type": "markdown",
      "source": [
        "# Глава 7\n",
        "# Основные методы статистической обработки данных\n",
        "В предыдущих главах вы узнали, как импортировать данные в R и как использовать разнообразные функции для упорядочения и преобразования данных в нужный формат. Затем мы рассмотрели базовые методы визуализации данных.\n",
        "\n",
        "Обычно следующий шаг после упорядочения данных и их визуального исследования – описание распределения значений каждой переменной при помощи числовых показателей. Затем, как правило, исследуют взаимосвязи между парами переменных. Цель этих процедур – ответить на следующие вопросы:\n",
        "* Каков расход топлива у современных автомобилей? А именно как распределены значения расхода топлива (среднее, стандартное отклонение, медиана, размах и т. д.) в имеющихся данных по разным маркам машин?\n",
        "* Отличается ли действие нового лекарства (нет улучшения, некоторое улучшение, заметное улучшение) по сравнению с плацебо? Зависит ли результат испытаний от пола пациентов?\n",
        "* Как взаимосвязаны доход и средняя продолжительность жизни? Можно ли утверждать, что коэффициент корреляции значимо отличается от нуля?\n",
        "* Правда ли, что вероятность сесть в тюрьму за преступление неодинакова в разных штатах США? Значимы ли различия между штатами?\n",
        "\n",
        "В этой главе мы рассмотрим функции R, позволяющие вычислять описательные и предсказательные статистики. Для начала познакомимся с методами оценки центральной тенденции и разброса значений количественных переменных. Затем узнаем, как создавать таблицы частот и сопряженности (и как проверить соответствие критерию хи-квадрат) для категориальных переменных. Потом исследуем разные формы коэффициентов корреляции, применимые к непрерывным и порядковым переменным. Наконец,\n",
        "обратимся к исследованию различий между группами при помощи параметрических (критерий Стьюдента) и непараметрических (критерии Манна–Уитни и Краскела–Уоллиса) методов. Основное наше внимание будет сосредоточено на числовых показателях, тем не менее постоянно будут упоминаться графические методы, которые можно использовать для визуализации этих показателей.\n",
        "\n",
        "С обсуждаемыми в этой главе статистическими методами люди обычно знакомятся на первых курсах вузов. Если эти методы незнакомы вам, я рекомендую два замечательных пособия: MacCall (2000) и Kirk (2008)1.\n",
        "\n",
        "\n",
        "> На русском языке основные статистические методы кратко описаны в пособии П. А. Волковой и А. Б. Шипунова «Статистическая обработка данных в учебно-исследовательских работах» (Форум, 2012).\n",
        "\n",
        "\n",
        "По каждой теме существует также множество источников в интернете (таких как Википедия).\n"
      ],
      "metadata": {
        "id": "yaZVoNFFoC1F"
      }
    },
    {
      "cell_type": "code",
      "source": [
        "sapply(mtcars[myvars], mystats)"
      ],
      "metadata": {
        "id": "7IF-sDY4O1WU",
        "outputId": "cd50158b-d85a-45b6-abe6-03e31087fdb8",
        "colab": {
          "base_uri": "https://localhost:8080/",
          "height": 223
        }
      },
      "execution_count": null,
      "outputs": [
        {
          "output_type": "display_data",
          "data": {
            "text/html": [
              "<table class=\"dataframe\">\n",
              "<caption>A matrix: 5 × 3 of type dbl</caption>\n",
              "<thead>\n",
              "\t<tr><th></th><th scope=col>mpg</th><th scope=col>hp</th><th scope=col>wt</th></tr>\n",
              "</thead>\n",
              "<tbody>\n",
              "\t<tr><th scope=row>n</th><td>32.000000</td><td> 32.0000000</td><td>32.00000000</td></tr>\n",
              "\t<tr><th scope=row>mean</th><td>20.090625</td><td>146.6875000</td><td> 3.21725000</td></tr>\n",
              "\t<tr><th scope=row>stdev</th><td> 6.026948</td><td> 68.5628685</td><td> 0.97845744</td></tr>\n",
              "\t<tr><th scope=row>skew</th><td> 0.610655</td><td>  0.7260237</td><td> 0.42314646</td></tr>\n",
              "\t<tr><th scope=row>kurtosis</th><td>-0.372766</td><td> -0.1355511</td><td>-0.02271075</td></tr>\n",
              "</tbody>\n",
              "</table>\n"
            ],
            "text/markdown": "\nA matrix: 5 × 3 of type dbl\n\n| <!--/--> | mpg | hp | wt |\n|---|---|---|---|\n| n | 32.000000 |  32.0000000 | 32.00000000 |\n| mean | 20.090625 | 146.6875000 |  3.21725000 |\n| stdev |  6.026948 |  68.5628685 |  0.97845744 |\n| skew |  0.610655 |   0.7260237 |  0.42314646 |\n| kurtosis | -0.372766 |  -0.1355511 | -0.02271075 |\n\n",
            "text/latex": "A matrix: 5 × 3 of type dbl\n\\begin{tabular}{r|lll}\n  & mpg & hp & wt\\\\\n\\hline\n\tn & 32.000000 &  32.0000000 & 32.00000000\\\\\n\tmean & 20.090625 & 146.6875000 &  3.21725000\\\\\n\tstdev &  6.026948 &  68.5628685 &  0.97845744\\\\\n\tskew &  0.610655 &   0.7260237 &  0.42314646\\\\\n\tkurtosis & -0.372766 &  -0.1355511 & -0.02271075\\\\\n\\end{tabular}\n",
            "text/plain": [
              "         mpg       hp          wt         \n",
              "n        32.000000  32.0000000 32.00000000\n",
              "mean     20.090625 146.6875000  3.21725000\n",
              "stdev     6.026948  68.5628685  0.97845744\n",
              "skew      0.610655   0.7260237  0.42314646\n",
              "kurtosis -0.372766  -0.1355511 -0.02271075"
            ]
          },
          "metadata": {}
        }
      ]
    },
    {
      "cell_type": "markdown",
      "source": [
        "Согласно полученным результатам, средний пробег в милях на галлон по всем маркам автомобилей составляет 20.1 мили со стандартным отклонением 6.0. Максимум кривой распределения значений смещен вправо (+0.61) и находится немного ниже максимума кривой нормального распределения (–0.37). Это будет хорошо заметно на графике. Отметьте также, что если понадобится удалить строки с пропущенными значениями, то вызов функции следует записать так:\n",
        "```\n",
        "sapply(mtcars[vars], mystats, na.omit=TRUE).\n",
        "```"
      ],
      "metadata": {
        "id": "giIRfH-4PSSq"
      }
    },
    {
      "cell_type": "markdown",
      "source": [
        "### Дополнительные возможности\n",
        "Функции для вычисления описательных статистик имеются также в некоторых дополнительных пакетах, таких как `Hmisc`, `pastecs`, `psych`, `skimr` и `summytools`. Из-за ограниченного пространства в книге я продемонстрирую только первые три, но вы в своей работе с успехом можете использовать все пять. Не забудьте установить эти пакеты перед первым использованием, потому что они не входят в состав дистрибутива R.\n",
        "\n",
        "\n",
        ">install.packages(\"survival\")\n",
        "\n",
        ">install.packages(\"lattice\")\n",
        "\n",
        ">install.packages(\"ggplot2\")\n",
        "\n",
        ">install.packages(\"Hmisc\")\n",
        "\n",
        "\n",
        "\n",
        "Функция `describe()` из пакета `Hmisc` выводит число переменных и наблюдений, число пропущенных и неповторяющихся значений, среднее, квартили, а также пять наименьших и пять наибольших значений. Пример представлен ниже."
      ],
      "metadata": {
        "id": "bZz3q4NOZoJO"
      }
    },
    {
      "cell_type": "code",
      "source": [
        "install.packages(\"Hmisc\")\n",
        "library(Hmisc)\n",
        "myvars <- c(\"mpg\", \"hp\", \"wt\")\n",
        "describe(mtcars[myvars])"
      ],
      "metadata": {
        "id": "hlwgF8rIaAL9",
        "outputId": "cb66cc79-ccf3-4135-ffcf-787462b8ebc3",
        "colab": {
          "base_uri": "https://localhost:8080/",
          "height": 850
        }
      },
      "execution_count": null,
      "outputs": [
        {
          "output_type": "stream",
          "name": "stderr",
          "text": [
            "Installing package into ‘/usr/local/lib/R/site-library’\n",
            "(as ‘lib’ is unspecified)\n",
            "\n",
            "also installing the dependencies ‘checkmate’, ‘htmlwidgets’, ‘gridExtra’, ‘htmlTable’, ‘viridis’, ‘Formula’\n",
            "\n",
            "\n",
            "\n",
            "Attaching package: ‘Hmisc’\n",
            "\n",
            "\n",
            "The following objects are masked from ‘package:dplyr’:\n",
            "\n",
            "    src, summarize\n",
            "\n",
            "\n",
            "The following objects are masked from ‘package:base’:\n",
            "\n",
            "    format.pval, units\n",
            "\n",
            "\n"
          ]
        },
        {
          "output_type": "display_data",
          "data": {
            "text/plain": [
              "mtcars[myvars] \n",
              "\n",
              " 3  Variables      32  Observations\n",
              "--------------------------------------------------------------------------------\n",
              "mpg \n",
              "       n  missing distinct     Info     Mean      Gmd      .05      .10 \n",
              "      32        0       25    0.999    20.09    6.796    12.00    14.34 \n",
              "     .25      .50      .75      .90      .95 \n",
              "   15.43    19.20    22.80    30.09    31.30 \n",
              "\n",
              "lowest : 10.4 13.3 14.3 14.7 15  , highest: 26   27.3 30.4 32.4 33.9\n",
              "--------------------------------------------------------------------------------\n",
              "hp \n",
              "       n  missing distinct     Info     Mean      Gmd      .05      .10 \n",
              "      32        0       22    0.997    146.7    77.04    63.65    66.00 \n",
              "     .25      .50      .75      .90      .95 \n",
              "   96.50   123.00   180.00   243.50   253.55 \n",
              "\n",
              "lowest :  52  62  65  66  91, highest: 215 230 245 264 335\n",
              "--------------------------------------------------------------------------------\n",
              "wt \n",
              "       n  missing distinct     Info     Mean      Gmd      .05      .10 \n",
              "      32        0       29    0.999    3.217    1.089    1.736    1.956 \n",
              "     .25      .50      .75      .90      .95 \n",
              "   2.581    3.325    3.610    4.048    5.293 \n",
              "\n",
              "lowest : 1.513 1.615 1.835 1.935 2.14 , highest: 3.845 4.07  5.25  5.345 5.424\n",
              "--------------------------------------------------------------------------------"
            ]
          },
          "metadata": {}
        }
      ]
    },
    {
      "cell_type": "markdown",
      "source": [
        "В пакете `pastecs` есть функция `stat.desc()`, вычисляющая множество описательных статистик. Она имеет следующий синтаксис:\n",
        "```\n",
        "stat.desc(x, basic=TRUE, desc=TRUE, norm=FALSE, p=0.95)\n",
        "```\n",
        "где x – это таблица данных или временной ряд. Если basic=TRUE (по умолчанию), то вычисляется число действительных, пустых (null) и пропущенных значений, минимум, максимум, размах и сумма. Если desc=TRUE (тоже по умолчанию), то вычисляются медиана, среднее арифметическое, стандартная ошибка среднего, 95%-ный доверительный интервал для среднего, дисперсия, стандартное отклонение и коэффициент вариации. Наконец, если norm=TRUE (не по умолчанию), вычисляются статистики нормального распределения, включая асимметрию и эксцесс (и их достоверность), и критерий Шапиро–Уилка (Shapiro-Wilk) соответствия нормальному распределению. Параметр p используется при вычислении доверительного интервала для среднего арифметического (по умолчанию он получает значение 0.95). Пример ниже:"
      ],
      "metadata": {
        "id": "XmCNbEErbAtV"
      }
    },
    {
      "cell_type": "code",
      "source": [
        "install.packages(\"pastecs\")\n",
        "library(pastecs)\n",
        "myvars <- c(\"mpg\", \"hp\", \"wt\")\n",
        "stat.desc(mtcars[myvars])"
      ],
      "metadata": {
        "id": "WAAiFIFubmVi",
        "outputId": "1dea8862-7219-433b-cc13-7c2c8c9869d9",
        "colab": {
          "base_uri": "https://localhost:8080/",
          "height": 832
        }
      },
      "execution_count": null,
      "outputs": [
        {
          "output_type": "stream",
          "name": "stderr",
          "text": [
            "Installing package into ‘/usr/local/lib/R/site-library’\n",
            "(as ‘lib’ is unspecified)\n",
            "\n",
            "\n",
            "Attaching package: ‘pastecs’\n",
            "\n",
            "\n",
            "The following objects are masked from ‘package:dplyr’:\n",
            "\n",
            "    first, last\n",
            "\n",
            "\n",
            "The following object is masked from ‘package:tidyr’:\n",
            "\n",
            "    extract\n",
            "\n",
            "\n"
          ]
        },
        {
          "output_type": "display_data",
          "data": {
            "text/html": [
              "<table class=\"dataframe\">\n",
              "<caption>A data.frame: 14 × 3</caption>\n",
              "<thead>\n",
              "\t<tr><th></th><th scope=col>mpg</th><th scope=col>hp</th><th scope=col>wt</th></tr>\n",
              "\t<tr><th></th><th scope=col>&lt;dbl&gt;</th><th scope=col>&lt;dbl&gt;</th><th scope=col>&lt;dbl&gt;</th></tr>\n",
              "</thead>\n",
              "<tbody>\n",
              "\t<tr><th scope=row>nbr.val</th><td> 32.0000000</td><td>  32.0000000</td><td> 32.0000000</td></tr>\n",
              "\t<tr><th scope=row>nbr.null</th><td>  0.0000000</td><td>   0.0000000</td><td>  0.0000000</td></tr>\n",
              "\t<tr><th scope=row>nbr.na</th><td>  0.0000000</td><td>   0.0000000</td><td>  0.0000000</td></tr>\n",
              "\t<tr><th scope=row>min</th><td> 10.4000000</td><td>  52.0000000</td><td>  1.5130000</td></tr>\n",
              "\t<tr><th scope=row>max</th><td> 33.9000000</td><td> 335.0000000</td><td>  5.4240000</td></tr>\n",
              "\t<tr><th scope=row>range</th><td> 23.5000000</td><td> 283.0000000</td><td>  3.9110000</td></tr>\n",
              "\t<tr><th scope=row>sum</th><td>642.9000000</td><td>4694.0000000</td><td>102.9520000</td></tr>\n",
              "\t<tr><th scope=row>median</th><td> 19.2000000</td><td> 123.0000000</td><td>  3.3250000</td></tr>\n",
              "\t<tr><th scope=row>mean</th><td> 20.0906250</td><td> 146.6875000</td><td>  3.2172500</td></tr>\n",
              "\t<tr><th scope=row>SE.mean</th><td>  1.0654240</td><td>  12.1203173</td><td>  0.1729685</td></tr>\n",
              "\t<tr><th scope=row>CI.mean.0.95</th><td>  2.1729465</td><td>  24.7195501</td><td>  0.3527715</td></tr>\n",
              "\t<tr><th scope=row>var</th><td> 36.3241028</td><td>4700.8669355</td><td>  0.9573790</td></tr>\n",
              "\t<tr><th scope=row>std.dev</th><td>  6.0269481</td><td>  68.5628685</td><td>  0.9784574</td></tr>\n",
              "\t<tr><th scope=row>coef.var</th><td>  0.2999881</td><td>   0.4674077</td><td>  0.3041285</td></tr>\n",
              "</tbody>\n",
              "</table>\n"
            ],
            "text/markdown": "\nA data.frame: 14 × 3\n\n| <!--/--> | mpg &lt;dbl&gt; | hp &lt;dbl&gt; | wt &lt;dbl&gt; |\n|---|---|---|---|\n| nbr.val |  32.0000000 |   32.0000000 |  32.0000000 |\n| nbr.null |   0.0000000 |    0.0000000 |   0.0000000 |\n| nbr.na |   0.0000000 |    0.0000000 |   0.0000000 |\n| min |  10.4000000 |   52.0000000 |   1.5130000 |\n| max |  33.9000000 |  335.0000000 |   5.4240000 |\n| range |  23.5000000 |  283.0000000 |   3.9110000 |\n| sum | 642.9000000 | 4694.0000000 | 102.9520000 |\n| median |  19.2000000 |  123.0000000 |   3.3250000 |\n| mean |  20.0906250 |  146.6875000 |   3.2172500 |\n| SE.mean |   1.0654240 |   12.1203173 |   0.1729685 |\n| CI.mean.0.95 |   2.1729465 |   24.7195501 |   0.3527715 |\n| var |  36.3241028 | 4700.8669355 |   0.9573790 |\n| std.dev |   6.0269481 |   68.5628685 |   0.9784574 |\n| coef.var |   0.2999881 |    0.4674077 |   0.3041285 |\n\n",
            "text/latex": "A data.frame: 14 × 3\n\\begin{tabular}{r|lll}\n  & mpg & hp & wt\\\\\n  & <dbl> & <dbl> & <dbl>\\\\\n\\hline\n\tnbr.val &  32.0000000 &   32.0000000 &  32.0000000\\\\\n\tnbr.null &   0.0000000 &    0.0000000 &   0.0000000\\\\\n\tnbr.na &   0.0000000 &    0.0000000 &   0.0000000\\\\\n\tmin &  10.4000000 &   52.0000000 &   1.5130000\\\\\n\tmax &  33.9000000 &  335.0000000 &   5.4240000\\\\\n\trange &  23.5000000 &  283.0000000 &   3.9110000\\\\\n\tsum & 642.9000000 & 4694.0000000 & 102.9520000\\\\\n\tmedian &  19.2000000 &  123.0000000 &   3.3250000\\\\\n\tmean &  20.0906250 &  146.6875000 &   3.2172500\\\\\n\tSE.mean &   1.0654240 &   12.1203173 &   0.1729685\\\\\n\tCI.mean.0.95 &   2.1729465 &   24.7195501 &   0.3527715\\\\\n\tvar &  36.3241028 & 4700.8669355 &   0.9573790\\\\\n\tstd.dev &   6.0269481 &   68.5628685 &   0.9784574\\\\\n\tcoef.var &   0.2999881 &    0.4674077 &   0.3041285\\\\\n\\end{tabular}\n",
            "text/plain": [
              "             mpg         hp           wt         \n",
              "nbr.val       32.0000000   32.0000000  32.0000000\n",
              "nbr.null       0.0000000    0.0000000   0.0000000\n",
              "nbr.na         0.0000000    0.0000000   0.0000000\n",
              "min           10.4000000   52.0000000   1.5130000\n",
              "max           33.9000000  335.0000000   5.4240000\n",
              "range         23.5000000  283.0000000   3.9110000\n",
              "sum          642.9000000 4694.0000000 102.9520000\n",
              "median        19.2000000  123.0000000   3.3250000\n",
              "mean          20.0906250  146.6875000   3.2172500\n",
              "SE.mean        1.0654240   12.1203173   0.1729685\n",
              "CI.mean.0.95   2.1729465   24.7195501   0.3527715\n",
              "var           36.3241028 4700.8669355   0.9573790\n",
              "std.dev        6.0269481   68.5628685   0.9784574\n",
              "coef.var       0.2999881    0.4674077   0.3041285"
            ]
          },
          "metadata": {}
        }
      ]
    },
    {
      "cell_type": "markdown",
      "source": [
        "Как будто этого недостаточно, в пакете psych тоже есть функция с именем describe(), которая выводит на экран число действительных значений, среднее арифметическое, стандартное отклонение, усеченное среднее, минимум, максимум, размах, асимметрию, эксцесс и стандартную ошибку среднего."
      ],
      "metadata": {
        "id": "ika3pByLeMG1"
      }
    },
    {
      "cell_type": "code",
      "source": [
        "install.packages(\"psych\")\n",
        "library(psych)\n",
        "myvars <- c(\"mpg\", \"hp\", \"wt\")\n",
        "describe(mtcars[myvars])"
      ],
      "metadata": {
        "id": "Q1I0GyGseRl5",
        "outputId": "68d4bee9-35d6-41a3-83b4-a3c6290243f7",
        "colab": {
          "base_uri": "https://localhost:8080/",
          "height": 539
        }
      },
      "execution_count": null,
      "outputs": [
        {
          "output_type": "stream",
          "name": "stderr",
          "text": [
            "Installing package into ‘/usr/local/lib/R/site-library’\n",
            "(as ‘lib’ is unspecified)\n",
            "\n",
            "also installing the dependencies ‘mnormt’, ‘GPArotation’\n",
            "\n",
            "\n",
            "\n",
            "Attaching package: ‘psych’\n",
            "\n",
            "\n",
            "The following object is masked from ‘package:Hmisc’:\n",
            "\n",
            "    describe\n",
            "\n",
            "\n",
            "The following objects are masked from ‘package:ggplot2’:\n",
            "\n",
            "    %+%, alpha\n",
            "\n",
            "\n"
          ]
        },
        {
          "output_type": "display_data",
          "data": {
            "text/html": [
              "<table class=\"dataframe\">\n",
              "<caption>A psych: 3 × 13</caption>\n",
              "<thead>\n",
              "\t<tr><th></th><th scope=col>vars</th><th scope=col>n</th><th scope=col>mean</th><th scope=col>sd</th><th scope=col>median</th><th scope=col>trimmed</th><th scope=col>mad</th><th scope=col>min</th><th scope=col>max</th><th scope=col>range</th><th scope=col>skew</th><th scope=col>kurtosis</th><th scope=col>se</th></tr>\n",
              "\t<tr><th></th><th scope=col>&lt;int&gt;</th><th scope=col>&lt;dbl&gt;</th><th scope=col>&lt;dbl&gt;</th><th scope=col>&lt;dbl&gt;</th><th scope=col>&lt;dbl&gt;</th><th scope=col>&lt;dbl&gt;</th><th scope=col>&lt;dbl&gt;</th><th scope=col>&lt;dbl&gt;</th><th scope=col>&lt;dbl&gt;</th><th scope=col>&lt;dbl&gt;</th><th scope=col>&lt;dbl&gt;</th><th scope=col>&lt;dbl&gt;</th><th scope=col>&lt;dbl&gt;</th></tr>\n",
              "</thead>\n",
              "<tbody>\n",
              "\t<tr><th scope=row>mpg</th><td>1</td><td>32</td><td> 20.09062</td><td> 6.0269481</td><td> 19.200</td><td> 19.696154</td><td> 5.4114900</td><td>10.400</td><td> 33.900</td><td> 23.500</td><td>0.6106550</td><td>-0.37276603</td><td> 1.0654240</td></tr>\n",
              "\t<tr><th scope=row>hp</th><td>2</td><td>32</td><td>146.68750</td><td>68.5628685</td><td>123.000</td><td>141.192308</td><td>77.0952000</td><td>52.000</td><td>335.000</td><td>283.000</td><td>0.7260237</td><td>-0.13555112</td><td>12.1203173</td></tr>\n",
              "\t<tr><th scope=row>wt</th><td>3</td><td>32</td><td>  3.21725</td><td> 0.9784574</td><td>  3.325</td><td>  3.152692</td><td> 0.7672455</td><td> 1.513</td><td>  5.424</td><td>  3.911</td><td>0.4231465</td><td>-0.02271075</td><td> 0.1729685</td></tr>\n",
              "</tbody>\n",
              "</table>\n"
            ],
            "text/markdown": "\nA psych: 3 × 13\n\n| <!--/--> | vars &lt;int&gt; | n &lt;dbl&gt; | mean &lt;dbl&gt; | sd &lt;dbl&gt; | median &lt;dbl&gt; | trimmed &lt;dbl&gt; | mad &lt;dbl&gt; | min &lt;dbl&gt; | max &lt;dbl&gt; | range &lt;dbl&gt; | skew &lt;dbl&gt; | kurtosis &lt;dbl&gt; | se &lt;dbl&gt; |\n|---|---|---|---|---|---|---|---|---|---|---|---|---|---|\n| mpg | 1 | 32 |  20.09062 |  6.0269481 |  19.200 |  19.696154 |  5.4114900 | 10.400 |  33.900 |  23.500 | 0.6106550 | -0.37276603 |  1.0654240 |\n| hp | 2 | 32 | 146.68750 | 68.5628685 | 123.000 | 141.192308 | 77.0952000 | 52.000 | 335.000 | 283.000 | 0.7260237 | -0.13555112 | 12.1203173 |\n| wt | 3 | 32 |   3.21725 |  0.9784574 |   3.325 |   3.152692 |  0.7672455 |  1.513 |   5.424 |   3.911 | 0.4231465 | -0.02271075 |  0.1729685 |\n\n",
            "text/latex": "A psych: 3 × 13\n\\begin{tabular}{r|lllllllllllll}\n  & vars & n & mean & sd & median & trimmed & mad & min & max & range & skew & kurtosis & se\\\\\n  & <int> & <dbl> & <dbl> & <dbl> & <dbl> & <dbl> & <dbl> & <dbl> & <dbl> & <dbl> & <dbl> & <dbl> & <dbl>\\\\\n\\hline\n\tmpg & 1 & 32 &  20.09062 &  6.0269481 &  19.200 &  19.696154 &  5.4114900 & 10.400 &  33.900 &  23.500 & 0.6106550 & -0.37276603 &  1.0654240\\\\\n\thp & 2 & 32 & 146.68750 & 68.5628685 & 123.000 & 141.192308 & 77.0952000 & 52.000 & 335.000 & 283.000 & 0.7260237 & -0.13555112 & 12.1203173\\\\\n\twt & 3 & 32 &   3.21725 &  0.9784574 &   3.325 &   3.152692 &  0.7672455 &  1.513 &   5.424 &   3.911 & 0.4231465 & -0.02271075 &  0.1729685\\\\\n\\end{tabular}\n",
            "text/plain": [
              "    vars n  mean      sd         median  trimmed    mad        min    max    \n",
              "mpg 1    32  20.09062  6.0269481  19.200  19.696154  5.4114900 10.400  33.900\n",
              "hp  2    32 146.68750 68.5628685 123.000 141.192308 77.0952000 52.000 335.000\n",
              "wt  3    32   3.21725  0.9784574   3.325   3.152692  0.7672455  1.513   5.424\n",
              "    range   skew      kurtosis    se        \n",
              "mpg  23.500 0.6106550 -0.37276603  1.0654240\n",
              "hp  283.000 0.7260237 -0.13555112 12.1203173\n",
              "wt    3.911 0.4231465 -0.02271075  0.1729685"
            ]
          },
          "metadata": {}
        }
      ]
    },
    {
      "cell_type": "markdown",
      "source": [
        "####Я же говорил вам, что возможности потрясают воображение!\n",
        "\n",
        "\n",
        ">ПРИМЕЧАНИЕ. Как показывают предыдущие примеры, функция с именем describe() определена и в пакете psych, и в пакете Hmisc. Как R узнает, какую из них выбрать? Очень просто: преимущество имеет пакет, загруженный последним, как это видно в листинге выше. В данном случае пакет psych загружается после Hmisc, и на экран выводится сообщение о том, что функция describe() из пакета Hmisc «замаскирована» функцией с таким же именем из пакета psych. Встретив вызов функции, R начинает поиск с пакета psych, обнаруживает ее там и вызывает. Чтобы воспользоваться функцией из пакета Hmisc, ее можно вызвать так: Hmisc::describe(mt). Сама функция никуда не делась, просто нужно подсказать R, где ее следует искать.\n",
        "\n",
        "Теперь, познакомившись со способами вычисления описательных статистик для набора данных в целом, посмотрим, как получить их для отдельных групп."
      ],
      "metadata": {
        "id": "B_5tsFgPjt_h"
      }
    },
    {
      "cell_type": "markdown",
      "source": [
        "### Вычисление описательных статистик для групп данных\n",
        "При сравнении групп объектов или наблюдений обычно обращают внимание на значения описательных статистик, характеризующих эти группы, а не на всю выборку в целом. Описательные статистики для групп можно получить с помощью функции by(), имеющей следующий синтаксис:\n",
        "```\n",
        "by(data, INDICES, FUN)\n",
        "```\n",
        "где data – это таблица данных или матрица, INDICES – фактор или список факторов, определяющих группы, и FUN – произвольная функция, оперирующая всеми столбцами в таблице данных. Пример использования этой функции приводится ниже."
      ],
      "metadata": {
        "id": "fAQyRklVkOEQ"
      }
    },
    {
      "cell_type": "code",
      "source": [
        "dstats <- function(x)sapply(x, mystats)\n",
        "myvars <- c(\"mpg\", \"hp\", \"wt\")\n",
        "by(mtcars[myvars], mtcars$am, dstats)"
      ],
      "metadata": {
        "id": "h_TNmdGgkNYp",
        "outputId": "a6bae75e-2103-4b3d-98d7-f992f2ad7e47",
        "colab": {
          "base_uri": "https://localhost:8080/",
          "height": 277
        }
      },
      "execution_count": null,
      "outputs": [
        {
          "output_type": "display_data",
          "data": {
            "text/plain": [
              "mtcars$am: 0\n",
              "                 mpg           hp         wt\n",
              "n        19.00000000  19.00000000 19.0000000\n",
              "mean     17.14736842 160.26315789  3.7688947\n",
              "stdev     3.83396639  53.90819573  0.7774001\n",
              "skew      0.01395038  -0.01422519  0.9759294\n",
              "kurtosis -0.80317826  -1.20969733  0.1415676\n",
              "------------------------------------------------------------ \n",
              "mtcars$am: 1\n",
              "                 mpg          hp         wt\n",
              "n        13.00000000  13.0000000 13.0000000\n",
              "mean     24.39230769 126.8461538  2.4110000\n",
              "stdev     6.16650381  84.0623243  0.6169816\n",
              "skew      0.05256118   1.3598859  0.2103128\n",
              "kurtosis -1.45535200   0.5634635 -1.1737358"
            ]
          },
          "metadata": {}
        }
      ]
    },
    {
      "cell_type": "markdown",
      "source": [
        "В этом примере `dstats()` применяет функцию `mystats()` из листинга к каждому столбцу в таблице данных. Поместив ее в вызов функции `by()`, мы получаем описательные статистики для автомобилей с разными типами трансмиссии (am).\n",
        "\n",
        "Следующий пример демонстрирует получение описательных статистик для двух переменных (am и vs – тип трансмиссии и расположение цилиндров) и выводит результаты для каждой группы под заданными нами подписями (mpg, hp и wt – пробег в милях на галлон, мощность в лошадиных силах и вес соответственно). Кроме того, перед вычислением статистик он удаляет\n",
        "пропущенные значения."
      ],
      "metadata": {
        "id": "TzjUq4hbk1HR"
      }
    },
    {
      "cell_type": "code",
      "source": [
        "dstats <- function(x)sapply(x, mystats, na.omit=TRUE)\n",
        "myvars <- c(\"mpg\", \"hp\", \"wt\")\n",
        "by(mtcars[myvars], list(Transmission=mtcars$am, Engine=mtcars$vs), FUN=dstats)"
      ],
      "metadata": {
        "id": "KNXNP99SlRgC",
        "outputId": "62ff6368-4d74-4ab2-b511-b8b5e31774bc",
        "colab": {
          "base_uri": "https://localhost:8080/",
          "height": 624
        }
      },
      "execution_count": null,
      "outputs": [
        {
          "output_type": "display_data",
          "data": {
            "text/plain": [
              "Transmission: 0\n",
              "Engine: 0\n",
              "                mpg          hp         wt\n",
              "n        12.0000000  12.0000000 12.0000000\n",
              "mean     15.0500000 194.1666667  4.1040833\n",
              "stdev     2.7743959  33.3598379  0.7683069\n",
              "skew     -0.2843325   0.2785849  0.8542070\n",
              "kurtosis -0.9635443  -1.4385375 -1.1433587\n",
              "------------------------------------------------------------ \n",
              "Transmission: 1\n",
              "Engine: 0\n",
              "                mpg          hp          wt\n",
              "n         6.0000000   6.0000000  6.00000000\n",
              "mean     19.7500000 180.8333333  2.85750000\n",
              "stdev     4.0088652  98.8158219  0.48672117\n",
              "skew      0.2050011   0.4842372  0.01270294\n",
              "kurtosis -1.5266040  -1.7270981 -1.40961807\n",
              "------------------------------------------------------------ \n",
              "Transmission: 0\n",
              "Engine: 1\n",
              "                mpg          hp         wt\n",
              "n         7.0000000   7.0000000  7.0000000\n",
              "mean     20.7428571 102.1428571  3.1942857\n",
              "stdev     2.4710707  20.9318622  0.3477598\n",
              "skew      0.1014749  -0.7248459 -1.1532766\n",
              "kurtosis -1.7480372  -0.7805708 -0.1170979\n",
              "------------------------------------------------------------ \n",
              "Transmission: 1\n",
              "Engine: 1\n",
              "                mpg         hp         wt\n",
              "n         7.0000000  7.0000000  7.0000000\n",
              "mean     28.3714286 80.5714286  2.0282857\n",
              "stdev     4.7577005 24.1444068  0.4400840\n",
              "skew     -0.3474537  0.2609545  0.4009511\n",
              "kurtosis -1.7290639 -1.9077611 -1.3677833"
            ]
          },
          "metadata": {}
        }
      ]
    },
    {
      "cell_type": "markdown",
      "source": [
        "В предыдущих примерах использовалась функция `mystats()`, но точно так же можно было бы использовать функцию `description()` из пакетов `Hmisc` и `psych` или `stat.desc()` из пакета `pastecs`. Фактически функция` by()` обеспечивает лишь общий механизм выполнения любого анализа по подгруппам."
      ],
      "metadata": {
        "id": "Tg0zcjztlsVu"
      }
    },
    {
      "cell_type": "markdown",
      "source": [
        "### Получение описательных статистик в интерактивном режиме с помощью dplyr\n",
        "До сих пор мы рассматривали методы, генерирующие полный набор описательных статистик для заданной таблицы данных. Однако в ходе интерактивных исследований часто стоит цель – получить ответы на конкретные вопросы. В таких случаях желательно получить ограниченное количество статистик по конкретным группам наблюдений.\n",
        "\n",
        "Пакет dplyr содержит инструменты для быстрого и гибкого решения этой задачи. Функции summarize() и summarize_all() можно использовать для вы\n",
        "числения любых статистик, а функцию group_by() – для описания групп, по которым следует вычислять статистики.\n",
        "\n",
        "В качестве примера зададим и ответим на ряд вопросов, используя таблицу данных Salaries из пакета carData. Этот набор данных содержит информацию о размере заработной платы за девять месяцев в долларах США (salary) в 2008–2009 годах для 397 преподавателей университета в США. Данные были собраны в рамках мониторинга разницы в заработной плате между преподавателями мужского и женского полов.\n",
        "\n",
        "Прежде чем продолжить, установите пакеты carData и dplyr\n",
        "(install.packages(c(\"carData\", \"dplyr\")) и затем загрузите их:"
      ],
      "metadata": {
        "id": "E2xUtUmQmXqK"
      }
    },
    {
      "cell_type": "code",
      "source": [
        "install.packages(\"carData\")\n",
        "library(dplyr)\n",
        "library(carData)"
      ],
      "metadata": {
        "id": "pu1N1QigxCkn",
        "outputId": "8f21a395-fbf3-4871-e0a1-cf688b36fc02",
        "colab": {
          "base_uri": "https://localhost:8080/"
        }
      },
      "execution_count": null,
      "outputs": [
        {
          "output_type": "stream",
          "name": "stderr",
          "text": [
            "Installing package into ‘/usr/local/lib/R/site-library’\n",
            "(as ‘lib’ is unspecified)\n",
            "\n"
          ]
        }
      ]
    },
    {
      "cell_type": "code",
      "source": [
        "Salaries"
      ],
      "metadata": {
        "id": "fOIUGvOgxW3H",
        "outputId": "8042a61c-1191-48b2-9eb3-acfad34c9c81",
        "colab": {
          "base_uri": "https://localhost:8080/",
          "height": 1000
        }
      },
      "execution_count": null,
      "outputs": [
        {
          "output_type": "display_data",
          "data": {
            "text/html": [
              "<table class=\"dataframe\">\n",
              "<caption>A data.frame: 397 × 6</caption>\n",
              "<thead>\n",
              "\t<tr><th scope=col>rank</th><th scope=col>discipline</th><th scope=col>yrs.since.phd</th><th scope=col>yrs.service</th><th scope=col>sex</th><th scope=col>salary</th></tr>\n",
              "\t<tr><th scope=col>&lt;fct&gt;</th><th scope=col>&lt;fct&gt;</th><th scope=col>&lt;int&gt;</th><th scope=col>&lt;int&gt;</th><th scope=col>&lt;fct&gt;</th><th scope=col>&lt;int&gt;</th></tr>\n",
              "</thead>\n",
              "<tbody>\n",
              "\t<tr><td>Prof     </td><td>B</td><td>19</td><td>18</td><td>Male  </td><td>139750</td></tr>\n",
              "\t<tr><td>Prof     </td><td>B</td><td>20</td><td>16</td><td>Male  </td><td>173200</td></tr>\n",
              "\t<tr><td>AsstProf </td><td>B</td><td> 4</td><td> 3</td><td>Male  </td><td> 79750</td></tr>\n",
              "\t<tr><td>Prof     </td><td>B</td><td>45</td><td>39</td><td>Male  </td><td>115000</td></tr>\n",
              "\t<tr><td>Prof     </td><td>B</td><td>40</td><td>41</td><td>Male  </td><td>141500</td></tr>\n",
              "\t<tr><td>AssocProf</td><td>B</td><td> 6</td><td> 6</td><td>Male  </td><td> 97000</td></tr>\n",
              "\t<tr><td>Prof     </td><td>B</td><td>30</td><td>23</td><td>Male  </td><td>175000</td></tr>\n",
              "\t<tr><td>Prof     </td><td>B</td><td>45</td><td>45</td><td>Male  </td><td>147765</td></tr>\n",
              "\t<tr><td>Prof     </td><td>B</td><td>21</td><td>20</td><td>Male  </td><td>119250</td></tr>\n",
              "\t<tr><td>Prof     </td><td>B</td><td>18</td><td>18</td><td>Female</td><td>129000</td></tr>\n",
              "\t<tr><td>AssocProf</td><td>B</td><td>12</td><td> 8</td><td>Male  </td><td>119800</td></tr>\n",
              "\t<tr><td>AsstProf </td><td>B</td><td> 7</td><td> 2</td><td>Male  </td><td> 79800</td></tr>\n",
              "\t<tr><td>AsstProf </td><td>B</td><td> 1</td><td> 1</td><td>Male  </td><td> 77700</td></tr>\n",
              "\t<tr><td>AsstProf </td><td>B</td><td> 2</td><td> 0</td><td>Male  </td><td> 78000</td></tr>\n",
              "\t<tr><td>Prof     </td><td>B</td><td>20</td><td>18</td><td>Male  </td><td>104800</td></tr>\n",
              "\t<tr><td>Prof     </td><td>B</td><td>12</td><td> 3</td><td>Male  </td><td>117150</td></tr>\n",
              "\t<tr><td>Prof     </td><td>B</td><td>19</td><td>20</td><td>Male  </td><td>101000</td></tr>\n",
              "\t<tr><td>Prof     </td><td>A</td><td>38</td><td>34</td><td>Male  </td><td>103450</td></tr>\n",
              "\t<tr><td>Prof     </td><td>A</td><td>37</td><td>23</td><td>Male  </td><td>124750</td></tr>\n",
              "\t<tr><td>Prof     </td><td>A</td><td>39</td><td>36</td><td>Female</td><td>137000</td></tr>\n",
              "\t<tr><td>Prof     </td><td>A</td><td>31</td><td>26</td><td>Male  </td><td> 89565</td></tr>\n",
              "\t<tr><td>Prof     </td><td>A</td><td>36</td><td>31</td><td>Male  </td><td>102580</td></tr>\n",
              "\t<tr><td>Prof     </td><td>A</td><td>34</td><td>30</td><td>Male  </td><td> 93904</td></tr>\n",
              "\t<tr><td>Prof     </td><td>A</td><td>24</td><td>19</td><td>Male  </td><td>113068</td></tr>\n",
              "\t<tr><td>AssocProf</td><td>A</td><td>13</td><td> 8</td><td>Female</td><td> 74830</td></tr>\n",
              "\t<tr><td>Prof     </td><td>A</td><td>21</td><td> 8</td><td>Male  </td><td>106294</td></tr>\n",
              "\t<tr><td>Prof     </td><td>A</td><td>35</td><td>23</td><td>Male  </td><td>134885</td></tr>\n",
              "\t<tr><td>AsstProf </td><td>B</td><td> 5</td><td> 3</td><td>Male  </td><td> 82379</td></tr>\n",
              "\t<tr><td>AsstProf </td><td>B</td><td>11</td><td> 0</td><td>Male  </td><td> 77000</td></tr>\n",
              "\t<tr><td>Prof     </td><td>B</td><td>12</td><td> 8</td><td>Male  </td><td>118223</td></tr>\n",
              "\t<tr><td>⋮</td><td>⋮</td><td>⋮</td><td>⋮</td><td>⋮</td><td>⋮</td></tr>\n",
              "\t<tr><td>AssocProf</td><td>A</td><td>10</td><td> 1</td><td>Male</td><td>108413</td></tr>\n",
              "\t<tr><td>Prof     </td><td>A</td><td>35</td><td>30</td><td>Male</td><td>131950</td></tr>\n",
              "\t<tr><td>Prof     </td><td>A</td><td>33</td><td>31</td><td>Male</td><td>134690</td></tr>\n",
              "\t<tr><td>AssocProf</td><td>A</td><td>13</td><td> 8</td><td>Male</td><td> 78182</td></tr>\n",
              "\t<tr><td>Prof     </td><td>A</td><td>23</td><td>20</td><td>Male</td><td>110515</td></tr>\n",
              "\t<tr><td>Prof     </td><td>A</td><td>12</td><td> 7</td><td>Male</td><td>109707</td></tr>\n",
              "\t<tr><td>Prof     </td><td>A</td><td>30</td><td>26</td><td>Male</td><td>136660</td></tr>\n",
              "\t<tr><td>Prof     </td><td>A</td><td>27</td><td>19</td><td>Male</td><td>103275</td></tr>\n",
              "\t<tr><td>Prof     </td><td>A</td><td>28</td><td>26</td><td>Male</td><td>103649</td></tr>\n",
              "\t<tr><td>AsstProf </td><td>A</td><td> 4</td><td> 1</td><td>Male</td><td> 74856</td></tr>\n",
              "\t<tr><td>AsstProf </td><td>A</td><td> 6</td><td> 3</td><td>Male</td><td> 77081</td></tr>\n",
              "\t<tr><td>Prof     </td><td>A</td><td>38</td><td>38</td><td>Male</td><td>150680</td></tr>\n",
              "\t<tr><td>AssocProf</td><td>A</td><td>11</td><td> 8</td><td>Male</td><td>104121</td></tr>\n",
              "\t<tr><td>AsstProf </td><td>A</td><td> 8</td><td> 3</td><td>Male</td><td> 75996</td></tr>\n",
              "\t<tr><td>Prof     </td><td>A</td><td>27</td><td>23</td><td>Male</td><td>172505</td></tr>\n",
              "\t<tr><td>AssocProf</td><td>A</td><td> 8</td><td> 5</td><td>Male</td><td> 86895</td></tr>\n",
              "\t<tr><td>Prof     </td><td>A</td><td>44</td><td>44</td><td>Male</td><td>105000</td></tr>\n",
              "\t<tr><td>Prof     </td><td>A</td><td>27</td><td>21</td><td>Male</td><td>125192</td></tr>\n",
              "\t<tr><td>Prof     </td><td>A</td><td>15</td><td> 9</td><td>Male</td><td>114330</td></tr>\n",
              "\t<tr><td>Prof     </td><td>A</td><td>29</td><td>27</td><td>Male</td><td>139219</td></tr>\n",
              "\t<tr><td>Prof     </td><td>A</td><td>29</td><td>15</td><td>Male</td><td>109305</td></tr>\n",
              "\t<tr><td>Prof     </td><td>A</td><td>38</td><td>36</td><td>Male</td><td>119450</td></tr>\n",
              "\t<tr><td>Prof     </td><td>A</td><td>33</td><td>18</td><td>Male</td><td>186023</td></tr>\n",
              "\t<tr><td>Prof     </td><td>A</td><td>40</td><td>19</td><td>Male</td><td>166605</td></tr>\n",
              "\t<tr><td>Prof     </td><td>A</td><td>30</td><td>19</td><td>Male</td><td>151292</td></tr>\n",
              "\t<tr><td>Prof     </td><td>A</td><td>33</td><td>30</td><td>Male</td><td>103106</td></tr>\n",
              "\t<tr><td>Prof     </td><td>A</td><td>31</td><td>19</td><td>Male</td><td>150564</td></tr>\n",
              "\t<tr><td>Prof     </td><td>A</td><td>42</td><td>25</td><td>Male</td><td>101738</td></tr>\n",
              "\t<tr><td>Prof     </td><td>A</td><td>25</td><td>15</td><td>Male</td><td> 95329</td></tr>\n",
              "\t<tr><td>AsstProf </td><td>A</td><td> 8</td><td> 4</td><td>Male</td><td> 81035</td></tr>\n",
              "</tbody>\n",
              "</table>\n"
            ],
            "text/markdown": "\nA data.frame: 397 × 6\n\n| rank &lt;fct&gt; | discipline &lt;fct&gt; | yrs.since.phd &lt;int&gt; | yrs.service &lt;int&gt; | sex &lt;fct&gt; | salary &lt;int&gt; |\n|---|---|---|---|---|---|\n| Prof      | B | 19 | 18 | Male   | 139750 |\n| Prof      | B | 20 | 16 | Male   | 173200 |\n| AsstProf  | B |  4 |  3 | Male   |  79750 |\n| Prof      | B | 45 | 39 | Male   | 115000 |\n| Prof      | B | 40 | 41 | Male   | 141500 |\n| AssocProf | B |  6 |  6 | Male   |  97000 |\n| Prof      | B | 30 | 23 | Male   | 175000 |\n| Prof      | B | 45 | 45 | Male   | 147765 |\n| Prof      | B | 21 | 20 | Male   | 119250 |\n| Prof      | B | 18 | 18 | Female | 129000 |\n| AssocProf | B | 12 |  8 | Male   | 119800 |\n| AsstProf  | B |  7 |  2 | Male   |  79800 |\n| AsstProf  | B |  1 |  1 | Male   |  77700 |\n| AsstProf  | B |  2 |  0 | Male   |  78000 |\n| Prof      | B | 20 | 18 | Male   | 104800 |\n| Prof      | B | 12 |  3 | Male   | 117150 |\n| Prof      | B | 19 | 20 | Male   | 101000 |\n| Prof      | A | 38 | 34 | Male   | 103450 |\n| Prof      | A | 37 | 23 | Male   | 124750 |\n| Prof      | A | 39 | 36 | Female | 137000 |\n| Prof      | A | 31 | 26 | Male   |  89565 |\n| Prof      | A | 36 | 31 | Male   | 102580 |\n| Prof      | A | 34 | 30 | Male   |  93904 |\n| Prof      | A | 24 | 19 | Male   | 113068 |\n| AssocProf | A | 13 |  8 | Female |  74830 |\n| Prof      | A | 21 |  8 | Male   | 106294 |\n| Prof      | A | 35 | 23 | Male   | 134885 |\n| AsstProf  | B |  5 |  3 | Male   |  82379 |\n| AsstProf  | B | 11 |  0 | Male   |  77000 |\n| Prof      | B | 12 |  8 | Male   | 118223 |\n| ⋮ | ⋮ | ⋮ | ⋮ | ⋮ | ⋮ |\n| AssocProf | A | 10 |  1 | Male | 108413 |\n| Prof      | A | 35 | 30 | Male | 131950 |\n| Prof      | A | 33 | 31 | Male | 134690 |\n| AssocProf | A | 13 |  8 | Male |  78182 |\n| Prof      | A | 23 | 20 | Male | 110515 |\n| Prof      | A | 12 |  7 | Male | 109707 |\n| Prof      | A | 30 | 26 | Male | 136660 |\n| Prof      | A | 27 | 19 | Male | 103275 |\n| Prof      | A | 28 | 26 | Male | 103649 |\n| AsstProf  | A |  4 |  1 | Male |  74856 |\n| AsstProf  | A |  6 |  3 | Male |  77081 |\n| Prof      | A | 38 | 38 | Male | 150680 |\n| AssocProf | A | 11 |  8 | Male | 104121 |\n| AsstProf  | A |  8 |  3 | Male |  75996 |\n| Prof      | A | 27 | 23 | Male | 172505 |\n| AssocProf | A |  8 |  5 | Male |  86895 |\n| Prof      | A | 44 | 44 | Male | 105000 |\n| Prof      | A | 27 | 21 | Male | 125192 |\n| Prof      | A | 15 |  9 | Male | 114330 |\n| Prof      | A | 29 | 27 | Male | 139219 |\n| Prof      | A | 29 | 15 | Male | 109305 |\n| Prof      | A | 38 | 36 | Male | 119450 |\n| Prof      | A | 33 | 18 | Male | 186023 |\n| Prof      | A | 40 | 19 | Male | 166605 |\n| Prof      | A | 30 | 19 | Male | 151292 |\n| Prof      | A | 33 | 30 | Male | 103106 |\n| Prof      | A | 31 | 19 | Male | 150564 |\n| Prof      | A | 42 | 25 | Male | 101738 |\n| Prof      | A | 25 | 15 | Male |  95329 |\n| AsstProf  | A |  8 |  4 | Male |  81035 |\n\n",
            "text/latex": "A data.frame: 397 × 6\n\\begin{tabular}{llllll}\n rank & discipline & yrs.since.phd & yrs.service & sex & salary\\\\\n <fct> & <fct> & <int> & <int> & <fct> & <int>\\\\\n\\hline\n\t Prof      & B & 19 & 18 & Male   & 139750\\\\\n\t Prof      & B & 20 & 16 & Male   & 173200\\\\\n\t AsstProf  & B &  4 &  3 & Male   &  79750\\\\\n\t Prof      & B & 45 & 39 & Male   & 115000\\\\\n\t Prof      & B & 40 & 41 & Male   & 141500\\\\\n\t AssocProf & B &  6 &  6 & Male   &  97000\\\\\n\t Prof      & B & 30 & 23 & Male   & 175000\\\\\n\t Prof      & B & 45 & 45 & Male   & 147765\\\\\n\t Prof      & B & 21 & 20 & Male   & 119250\\\\\n\t Prof      & B & 18 & 18 & Female & 129000\\\\\n\t AssocProf & B & 12 &  8 & Male   & 119800\\\\\n\t AsstProf  & B &  7 &  2 & Male   &  79800\\\\\n\t AsstProf  & B &  1 &  1 & Male   &  77700\\\\\n\t AsstProf  & B &  2 &  0 & Male   &  78000\\\\\n\t Prof      & B & 20 & 18 & Male   & 104800\\\\\n\t Prof      & B & 12 &  3 & Male   & 117150\\\\\n\t Prof      & B & 19 & 20 & Male   & 101000\\\\\n\t Prof      & A & 38 & 34 & Male   & 103450\\\\\n\t Prof      & A & 37 & 23 & Male   & 124750\\\\\n\t Prof      & A & 39 & 36 & Female & 137000\\\\\n\t Prof      & A & 31 & 26 & Male   &  89565\\\\\n\t Prof      & A & 36 & 31 & Male   & 102580\\\\\n\t Prof      & A & 34 & 30 & Male   &  93904\\\\\n\t Prof      & A & 24 & 19 & Male   & 113068\\\\\n\t AssocProf & A & 13 &  8 & Female &  74830\\\\\n\t Prof      & A & 21 &  8 & Male   & 106294\\\\\n\t Prof      & A & 35 & 23 & Male   & 134885\\\\\n\t AsstProf  & B &  5 &  3 & Male   &  82379\\\\\n\t AsstProf  & B & 11 &  0 & Male   &  77000\\\\\n\t Prof      & B & 12 &  8 & Male   & 118223\\\\\n\t ⋮ & ⋮ & ⋮ & ⋮ & ⋮ & ⋮\\\\\n\t AssocProf & A & 10 &  1 & Male & 108413\\\\\n\t Prof      & A & 35 & 30 & Male & 131950\\\\\n\t Prof      & A & 33 & 31 & Male & 134690\\\\\n\t AssocProf & A & 13 &  8 & Male &  78182\\\\\n\t Prof      & A & 23 & 20 & Male & 110515\\\\\n\t Prof      & A & 12 &  7 & Male & 109707\\\\\n\t Prof      & A & 30 & 26 & Male & 136660\\\\\n\t Prof      & A & 27 & 19 & Male & 103275\\\\\n\t Prof      & A & 28 & 26 & Male & 103649\\\\\n\t AsstProf  & A &  4 &  1 & Male &  74856\\\\\n\t AsstProf  & A &  6 &  3 & Male &  77081\\\\\n\t Prof      & A & 38 & 38 & Male & 150680\\\\\n\t AssocProf & A & 11 &  8 & Male & 104121\\\\\n\t AsstProf  & A &  8 &  3 & Male &  75996\\\\\n\t Prof      & A & 27 & 23 & Male & 172505\\\\\n\t AssocProf & A &  8 &  5 & Male &  86895\\\\\n\t Prof      & A & 44 & 44 & Male & 105000\\\\\n\t Prof      & A & 27 & 21 & Male & 125192\\\\\n\t Prof      & A & 15 &  9 & Male & 114330\\\\\n\t Prof      & A & 29 & 27 & Male & 139219\\\\\n\t Prof      & A & 29 & 15 & Male & 109305\\\\\n\t Prof      & A & 38 & 36 & Male & 119450\\\\\n\t Prof      & A & 33 & 18 & Male & 186023\\\\\n\t Prof      & A & 40 & 19 & Male & 166605\\\\\n\t Prof      & A & 30 & 19 & Male & 151292\\\\\n\t Prof      & A & 33 & 30 & Male & 103106\\\\\n\t Prof      & A & 31 & 19 & Male & 150564\\\\\n\t Prof      & A & 42 & 25 & Male & 101738\\\\\n\t Prof      & A & 25 & 15 & Male &  95329\\\\\n\t AsstProf  & A &  8 &  4 & Male &  81035\\\\\n\\end{tabular}\n",
            "text/plain": [
              "    rank      discipline yrs.since.phd yrs.service sex    salary\n",
              "1   Prof      B          19            18          Male   139750\n",
              "2   Prof      B          20            16          Male   173200\n",
              "3   AsstProf  B           4             3          Male    79750\n",
              "4   Prof      B          45            39          Male   115000\n",
              "5   Prof      B          40            41          Male   141500\n",
              "6   AssocProf B           6             6          Male    97000\n",
              "7   Prof      B          30            23          Male   175000\n",
              "8   Prof      B          45            45          Male   147765\n",
              "9   Prof      B          21            20          Male   119250\n",
              "10  Prof      B          18            18          Female 129000\n",
              "11  AssocProf B          12             8          Male   119800\n",
              "12  AsstProf  B           7             2          Male    79800\n",
              "13  AsstProf  B           1             1          Male    77700\n",
              "14  AsstProf  B           2             0          Male    78000\n",
              "15  Prof      B          20            18          Male   104800\n",
              "16  Prof      B          12             3          Male   117150\n",
              "17  Prof      B          19            20          Male   101000\n",
              "18  Prof      A          38            34          Male   103450\n",
              "19  Prof      A          37            23          Male   124750\n",
              "20  Prof      A          39            36          Female 137000\n",
              "21  Prof      A          31            26          Male    89565\n",
              "22  Prof      A          36            31          Male   102580\n",
              "23  Prof      A          34            30          Male    93904\n",
              "24  Prof      A          24            19          Male   113068\n",
              "25  AssocProf A          13             8          Female  74830\n",
              "26  Prof      A          21             8          Male   106294\n",
              "27  Prof      A          35            23          Male   134885\n",
              "28  AsstProf  B           5             3          Male    82379\n",
              "29  AsstProf  B          11             0          Male    77000\n",
              "30  Prof      B          12             8          Male   118223\n",
              "⋮   ⋮         ⋮          ⋮             ⋮           ⋮      ⋮     \n",
              "368 AssocProf A          10             1          Male   108413\n",
              "369 Prof      A          35            30          Male   131950\n",
              "370 Prof      A          33            31          Male   134690\n",
              "371 AssocProf A          13             8          Male    78182\n",
              "372 Prof      A          23            20          Male   110515\n",
              "373 Prof      A          12             7          Male   109707\n",
              "374 Prof      A          30            26          Male   136660\n",
              "375 Prof      A          27            19          Male   103275\n",
              "376 Prof      A          28            26          Male   103649\n",
              "377 AsstProf  A           4             1          Male    74856\n",
              "378 AsstProf  A           6             3          Male    77081\n",
              "379 Prof      A          38            38          Male   150680\n",
              "380 AssocProf A          11             8          Male   104121\n",
              "381 AsstProf  A           8             3          Male    75996\n",
              "382 Prof      A          27            23          Male   172505\n",
              "383 AssocProf A           8             5          Male    86895\n",
              "384 Prof      A          44            44          Male   105000\n",
              "385 Prof      A          27            21          Male   125192\n",
              "386 Prof      A          15             9          Male   114330\n",
              "387 Prof      A          29            27          Male   139219\n",
              "388 Prof      A          29            15          Male   109305\n",
              "389 Prof      A          38            36          Male   119450\n",
              "390 Prof      A          33            18          Male   186023\n",
              "391 Prof      A          40            19          Male   166605\n",
              "392 Prof      A          30            19          Male   151292\n",
              "393 Prof      A          33            30          Male   103106\n",
              "394 Prof      A          31            19          Male   150564\n",
              "395 Prof      A          42            25          Male   101738\n",
              "396 Prof      A          25            15          Male    95329\n",
              "397 AsstProf  A           8             4          Male    81035"
            ]
          },
          "metadata": {}
        }
      ]
    },
    {
      "cell_type": "code",
      "source": [
        "Salaries %>%\n",
        "  summarise(med = median(salary), min = min(salary), max = max(salary))"
      ],
      "metadata": {
        "id": "00YHZy-Fyisa",
        "outputId": "cb60f394-1bf3-4042-8309-639c3636cf1a",
        "colab": {
          "base_uri": "https://localhost:8080/",
          "height": 129
        }
      },
      "execution_count": null,
      "outputs": [
        {
          "output_type": "display_data",
          "data": {
            "text/html": [
              "<table class=\"dataframe\">\n",
              "<caption>A data.frame: 1 × 3</caption>\n",
              "<thead>\n",
              "\t<tr><th scope=col>med</th><th scope=col>min</th><th scope=col>max</th></tr>\n",
              "\t<tr><th scope=col>&lt;int&gt;</th><th scope=col>&lt;int&gt;</th><th scope=col>&lt;int&gt;</th></tr>\n",
              "</thead>\n",
              "<tbody>\n",
              "\t<tr><td>107300</td><td>57800</td><td>231545</td></tr>\n",
              "</tbody>\n",
              "</table>\n"
            ],
            "text/markdown": "\nA data.frame: 1 × 3\n\n| med &lt;int&gt; | min &lt;int&gt; | max &lt;int&gt; |\n|---|---|---|\n| 107300 | 57800 | 231545 |\n\n",
            "text/latex": "A data.frame: 1 × 3\n\\begin{tabular}{lll}\n med & min & max\\\\\n <int> & <int> & <int>\\\\\n\\hline\n\t 107300 & 57800 & 231545\\\\\n\\end{tabular}\n",
            "text/plain": [
              "  med    min   max   \n",
              "1 107300 57800 231545"
            ]
          },
          "metadata": {}
        }
      ]
    },
    {
      "cell_type": "markdown",
      "source": [
        "Набор данных Salaries передается функции summarise(), которая вычисляет медиану, минимальное и максимальное значения зарплаты и возвращает результат в виде однострочной таблицы данных.\n",
        "\n",
        "Средняя зарплата за девять месяцев составляет 107 300 долларов, и по крайней мере один человек заработал более 230 000 долларов. Очевидно, что я имею полное право просить о повышении.\n",
        "\n",
        "Каково количество преподавателей, средняя заработная плата\n",
        "и размах в зависимости от пола и должности?"
      ],
      "metadata": {
        "id": "-4QNagpm6mPa"
      }
    },
    {
      "cell_type": "code",
      "source": [
        "Salaries %>%\n",
        "  group_by(rank, sex)%>%\n",
        "  summarise(n = length(salary), med = median(salary), min = min(salary), max = max(salary))"
      ],
      "metadata": {
        "id": "C43XNYxr66Ul",
        "outputId": "2f779d2d-446a-4ef4-c4a7-d885f309ad36",
        "colab": {
          "base_uri": "https://localhost:8080/",
          "height": 321
        }
      },
      "execution_count": null,
      "outputs": [
        {
          "output_type": "stream",
          "name": "stderr",
          "text": [
            "\u001b[1m\u001b[22m`summarise()` has grouped output by 'rank'. You can override using the\n",
            "`.groups` argument.\n"
          ]
        },
        {
          "output_type": "display_data",
          "data": {
            "text/html": [
              "<table class=\"dataframe\">\n",
              "<caption>A grouped_df: 6 × 6</caption>\n",
              "<thead>\n",
              "\t<tr><th scope=col>rank</th><th scope=col>sex</th><th scope=col>n</th><th scope=col>med</th><th scope=col>min</th><th scope=col>max</th></tr>\n",
              "\t<tr><th scope=col>&lt;fct&gt;</th><th scope=col>&lt;fct&gt;</th><th scope=col>&lt;int&gt;</th><th scope=col>&lt;dbl&gt;</th><th scope=col>&lt;int&gt;</th><th scope=col>&lt;int&gt;</th></tr>\n",
              "</thead>\n",
              "<tbody>\n",
              "\t<tr><td>AsstProf </td><td>Female</td><td> 11</td><td> 77000.0</td><td>63100</td><td> 97032</td></tr>\n",
              "\t<tr><td>AsstProf </td><td>Male  </td><td> 56</td><td> 80182.0</td><td>63900</td><td> 95079</td></tr>\n",
              "\t<tr><td>AssocProf</td><td>Female</td><td> 10</td><td> 90556.5</td><td>62884</td><td>109650</td></tr>\n",
              "\t<tr><td>AssocProf</td><td>Male  </td><td> 54</td><td> 95626.5</td><td>70000</td><td>126431</td></tr>\n",
              "\t<tr><td>Prof     </td><td>Female</td><td> 18</td><td>120257.5</td><td>90450</td><td>161101</td></tr>\n",
              "\t<tr><td>Prof     </td><td>Male  </td><td>248</td><td>123996.0</td><td>57800</td><td>231545</td></tr>\n",
              "</tbody>\n",
              "</table>\n"
            ],
            "text/markdown": "\nA grouped_df: 6 × 6\n\n| rank &lt;fct&gt; | sex &lt;fct&gt; | n &lt;int&gt; | med &lt;dbl&gt; | min &lt;int&gt; | max &lt;int&gt; |\n|---|---|---|---|---|---|\n| AsstProf  | Female |  11 |  77000.0 | 63100 |  97032 |\n| AsstProf  | Male   |  56 |  80182.0 | 63900 |  95079 |\n| AssocProf | Female |  10 |  90556.5 | 62884 | 109650 |\n| AssocProf | Male   |  54 |  95626.5 | 70000 | 126431 |\n| Prof      | Female |  18 | 120257.5 | 90450 | 161101 |\n| Prof      | Male   | 248 | 123996.0 | 57800 | 231545 |\n\n",
            "text/latex": "A grouped\\_df: 6 × 6\n\\begin{tabular}{llllll}\n rank & sex & n & med & min & max\\\\\n <fct> & <fct> & <int> & <dbl> & <int> & <int>\\\\\n\\hline\n\t AsstProf  & Female &  11 &  77000.0 & 63100 &  97032\\\\\n\t AsstProf  & Male   &  56 &  80182.0 & 63900 &  95079\\\\\n\t AssocProf & Female &  10 &  90556.5 & 62884 & 109650\\\\\n\t AssocProf & Male   &  54 &  95626.5 & 70000 & 126431\\\\\n\t Prof      & Female &  18 & 120257.5 & 90450 & 161101\\\\\n\t Prof      & Male   & 248 & 123996.0 & 57800 & 231545\\\\\n\\end{tabular}\n",
            "text/plain": [
              "  rank      sex    n   med      min   max   \n",
              "1 AsstProf  Female  11  77000.0 63100  97032\n",
              "2 AsstProf  Male    56  80182.0 63900  95079\n",
              "3 AssocProf Female  10  90556.5 62884 109650\n",
              "4 AssocProf Male    54  95626.5 70000 126431\n",
              "5 Prof      Female  18 120257.5 90450 161101\n",
              "6 Prof      Male   248 123996.0 57800 231545"
            ]
          },
          "metadata": {}
        }
      ]
    },
    {
      "cell_type": "markdown",
      "source": [
        "Когда функции `by_group()` передаются категориальные переменные, функция `summary()` генерирует статистики для каждой комбинации их значений. На всех факультетах у женщин медианная заработная плата ниже, чем у мужчин. Кроме того, в этом университете очень много профессоров-мужчин.\n",
        "\n",
        "Каков средний стаж работы и как давно получена докторская степень для преподавателей в разбивке по полу и должности?"
      ],
      "metadata": {
        "id": "px1ShlFm79yp"
      }
    },
    {
      "cell_type": "code",
      "source": [
        "Salaries %>%\n",
        "  group_by(rank, sex) %>%\n",
        "  select(yrs.service, yrs.since.phd) %>%\n",
        "  summarize_all(mean)"
      ],
      "metadata": {
        "id": "H1WxW8BE79Zk",
        "outputId": "bc83bf78-cb7b-41ed-b094-44352190e55d",
        "colab": {
          "base_uri": "https://localhost:8080/",
          "height": 303
        }
      },
      "execution_count": null,
      "outputs": [
        {
          "output_type": "stream",
          "name": "stderr",
          "text": [
            "\u001b[1m\u001b[22mAdding missing grouping variables: `rank`, `sex`\n"
          ]
        },
        {
          "output_type": "display_data",
          "data": {
            "text/html": [
              "<table class=\"dataframe\">\n",
              "<caption>A grouped_df: 6 × 4</caption>\n",
              "<thead>\n",
              "\t<tr><th scope=col>rank</th><th scope=col>sex</th><th scope=col>yrs.service</th><th scope=col>yrs.since.phd</th></tr>\n",
              "\t<tr><th scope=col>&lt;fct&gt;</th><th scope=col>&lt;fct&gt;</th><th scope=col>&lt;dbl&gt;</th><th scope=col>&lt;dbl&gt;</th></tr>\n",
              "</thead>\n",
              "<tbody>\n",
              "\t<tr><td>AsstProf </td><td>Female</td><td> 2.545455</td><td> 5.636364</td></tr>\n",
              "\t<tr><td>AsstProf </td><td>Male  </td><td> 2.339286</td><td> 5.000000</td></tr>\n",
              "\t<tr><td>AssocProf</td><td>Female</td><td>11.500000</td><td>15.500000</td></tr>\n",
              "\t<tr><td>AssocProf</td><td>Male  </td><td>12.037037</td><td>15.444444</td></tr>\n",
              "\t<tr><td>Prof     </td><td>Female</td><td>17.111111</td><td>23.722222</td></tr>\n",
              "\t<tr><td>Prof     </td><td>Male  </td><td>23.229839</td><td>28.633065</td></tr>\n",
              "</tbody>\n",
              "</table>\n"
            ],
            "text/markdown": "\nA grouped_df: 6 × 4\n\n| rank &lt;fct&gt; | sex &lt;fct&gt; | yrs.service &lt;dbl&gt; | yrs.since.phd &lt;dbl&gt; |\n|---|---|---|---|\n| AsstProf  | Female |  2.545455 |  5.636364 |\n| AsstProf  | Male   |  2.339286 |  5.000000 |\n| AssocProf | Female | 11.500000 | 15.500000 |\n| AssocProf | Male   | 12.037037 | 15.444444 |\n| Prof      | Female | 17.111111 | 23.722222 |\n| Prof      | Male   | 23.229839 | 28.633065 |\n\n",
            "text/latex": "A grouped\\_df: 6 × 4\n\\begin{tabular}{llll}\n rank & sex & yrs.service & yrs.since.phd\\\\\n <fct> & <fct> & <dbl> & <dbl>\\\\\n\\hline\n\t AsstProf  & Female &  2.545455 &  5.636364\\\\\n\t AsstProf  & Male   &  2.339286 &  5.000000\\\\\n\t AssocProf & Female & 11.500000 & 15.500000\\\\\n\t AssocProf & Male   & 12.037037 & 15.444444\\\\\n\t Prof      & Female & 17.111111 & 23.722222\\\\\n\t Prof      & Male   & 23.229839 & 28.633065\\\\\n\\end{tabular}\n",
            "text/plain": [
              "  rank      sex    yrs.service yrs.since.phd\n",
              "1 AsstProf  Female  2.545455    5.636364    \n",
              "2 AsstProf  Male    2.339286    5.000000    \n",
              "3 AssocProf Female 11.500000   15.500000    \n",
              "4 AssocProf Male   12.037037   15.444444    \n",
              "5 Prof      Female 17.111111   23.722222    \n",
              "6 Prof      Male   23.229839   28.633065    "
            ]
          },
          "metadata": {}
        }
      ]
    },
    {
      "cell_type": "markdown",
      "source": [
        "Функция `summarize_all()` вычисляет сводные статистики для каждой негрупповой переменной (yrs.service и yrs.since.phd). Чтобы получить более одной статистики для каждой переменной, их нужно представить в виде списка. Например, `summarize_all(list (mean=mean, std=sd))` вычислит среднее значение и стандартное отклонение для каждой переменной. Мужчины и женщины имеют сопоставимый стаж работы на должности ассистента и доцента. Однако женщины-профессора имеют меньший стаж, чем их коллеги-мужчины.\n",
        "\n",
        "Одно из преимуществ пакета `dplyr` – результаты возвращаются в виде усовершенствованных таблиц данных (tibbles). Это позволяет применять дополнительные виды анализа к сводным результатам, отображать их в графическом виде и выводить на печать. Он также предоставляет простой механизм агрегирования данных.\n",
        "\n",
        "Как правило, у аналитиков есть свои предпочтения в отношении описательных статистик и формата их отображения. Вероятно, поэтому существует множество вариантов. Выберите тот, который лучше подходит для вас, или создайте свой!"
      ],
      "metadata": {
        "id": "3Ubg0zts8us6"
      }
    },
    {
      "cell_type": "markdown",
      "source": [
        "### Визуализация результатов\n",
        "Представление характеристик распределения данных в числовом виде полезно, но не заменяет графического изображения. Для отображения количественных данных можно использовать гистограммы (раздел 6.4), диаграммы плотности рассеяния (раздел 6.5), коробчатые диаграммы (раздел 6.6) и точечные диаграммы (раздел 6.7). Они помогают заметить вещи, которые легко упустить, если полагаться на небольшой набор описательных статистик.\n",
        "\n",
        "Функции, которые мы рассматривали до сих пор, позволяют охарактеризовать количественные данные. Функции, описанные в следующем разделе, предназначены для анализа распределения категориальных переменных."
      ],
      "metadata": {
        "id": "owTiRza89V66"
      }
    },
    {
      "cell_type": "markdown",
      "source": [
        "## Таблицы частот и таблицы сопряженности\n",
        "В этом разделе мы рассмотрим таблицы частот и таблицы сопряженности для категориальных переменных, а также познакомимся с критериями независимости, мерами связи и способами графического представления результатов. Мы будем использовать функции, имеющиеся в базовой версии R, а также функции из пакетов vcd и gmodels. В примерах, представленных ниже, буквами A, B и C будут обозначаться категориальные переменные.\n",
        "\n",
        "В примерах в этом разделе использован набор данных Arthritis из пакета vcd. Эти данные опубликованы в Kock & Edward (1988) и представляют результаты клинического исследования нового способа лечения ревматоидного артрита двойным слепым методом. Вот первые несколько наблюдений:"
      ],
      "metadata": {
        "id": "9sOC3rzW9olc"
      }
    },
    {
      "cell_type": "code",
      "source": [
        "install.packages(\"vcd\")\n",
        "library(vcd)"
      ],
      "metadata": {
        "id": "-UQirbtC-DrM",
        "outputId": "c021540f-456e-49fb-b140-7b3f42ef9ea3",
        "colab": {
          "base_uri": "https://localhost:8080/"
        }
      },
      "execution_count": null,
      "outputs": [
        {
          "output_type": "stream",
          "name": "stderr",
          "text": [
            "Installing package into ‘/usr/local/lib/R/site-library’\n",
            "(as ‘lib’ is unspecified)\n",
            "\n",
            "also installing the dependencies ‘zoo’, ‘lmtest’\n",
            "\n",
            "\n",
            "Loading required package: grid\n",
            "\n"
          ]
        }
      ]
    },
    {
      "cell_type": "code",
      "source": [
        "Arthritis"
      ],
      "metadata": {
        "id": "BbaLDx-a-V9E",
        "outputId": "3e3a2ab8-e570-49d1-82b2-ace2076bcf26",
        "colab": {
          "base_uri": "https://localhost:8080/",
          "height": 1000
        }
      },
      "execution_count": null,
      "outputs": [
        {
          "output_type": "display_data",
          "data": {
            "text/html": [
              "<table class=\"dataframe\">\n",
              "<caption>A data.frame: 84 × 5</caption>\n",
              "<thead>\n",
              "\t<tr><th></th><th scope=col>ID</th><th scope=col>Treatment</th><th scope=col>Sex</th><th scope=col>Age</th><th scope=col>Improved</th></tr>\n",
              "\t<tr><th></th><th scope=col>&lt;int&gt;</th><th scope=col>&lt;fct&gt;</th><th scope=col>&lt;fct&gt;</th><th scope=col>&lt;int&gt;</th><th scope=col>&lt;ord&gt;</th></tr>\n",
              "</thead>\n",
              "<tbody>\n",
              "\t<tr><th scope=row>1</th><td>57</td><td>Treated</td><td>Male  </td><td>27</td><td>Some  </td></tr>\n",
              "\t<tr><th scope=row>2</th><td>46</td><td>Treated</td><td>Male  </td><td>29</td><td>None  </td></tr>\n",
              "\t<tr><th scope=row>3</th><td>77</td><td>Treated</td><td>Male  </td><td>30</td><td>None  </td></tr>\n",
              "\t<tr><th scope=row>4</th><td>17</td><td>Treated</td><td>Male  </td><td>32</td><td>Marked</td></tr>\n",
              "\t<tr><th scope=row>5</th><td>36</td><td>Treated</td><td>Male  </td><td>46</td><td>Marked</td></tr>\n",
              "\t<tr><th scope=row>6</th><td>23</td><td>Treated</td><td>Male  </td><td>58</td><td>Marked</td></tr>\n",
              "\t<tr><th scope=row>7</th><td>75</td><td>Treated</td><td>Male  </td><td>59</td><td>None  </td></tr>\n",
              "\t<tr><th scope=row>8</th><td>39</td><td>Treated</td><td>Male  </td><td>59</td><td>Marked</td></tr>\n",
              "\t<tr><th scope=row>9</th><td>33</td><td>Treated</td><td>Male  </td><td>63</td><td>None  </td></tr>\n",
              "\t<tr><th scope=row>10</th><td>55</td><td>Treated</td><td>Male  </td><td>63</td><td>None  </td></tr>\n",
              "\t<tr><th scope=row>11</th><td>30</td><td>Treated</td><td>Male  </td><td>64</td><td>None  </td></tr>\n",
              "\t<tr><th scope=row>12</th><td> 5</td><td>Treated</td><td>Male  </td><td>64</td><td>Some  </td></tr>\n",
              "\t<tr><th scope=row>13</th><td>63</td><td>Treated</td><td>Male  </td><td>69</td><td>None  </td></tr>\n",
              "\t<tr><th scope=row>14</th><td>83</td><td>Treated</td><td>Male  </td><td>70</td><td>Marked</td></tr>\n",
              "\t<tr><th scope=row>15</th><td>66</td><td>Treated</td><td>Female</td><td>23</td><td>None  </td></tr>\n",
              "\t<tr><th scope=row>16</th><td>40</td><td>Treated</td><td>Female</td><td>32</td><td>None  </td></tr>\n",
              "\t<tr><th scope=row>17</th><td> 6</td><td>Treated</td><td>Female</td><td>37</td><td>Some  </td></tr>\n",
              "\t<tr><th scope=row>18</th><td> 7</td><td>Treated</td><td>Female</td><td>41</td><td>None  </td></tr>\n",
              "\t<tr><th scope=row>19</th><td>72</td><td>Treated</td><td>Female</td><td>41</td><td>Marked</td></tr>\n",
              "\t<tr><th scope=row>20</th><td>37</td><td>Treated</td><td>Female</td><td>48</td><td>None  </td></tr>\n",
              "\t<tr><th scope=row>21</th><td>82</td><td>Treated</td><td>Female</td><td>48</td><td>Marked</td></tr>\n",
              "\t<tr><th scope=row>22</th><td>53</td><td>Treated</td><td>Female</td><td>55</td><td>Marked</td></tr>\n",
              "\t<tr><th scope=row>23</th><td>79</td><td>Treated</td><td>Female</td><td>55</td><td>Marked</td></tr>\n",
              "\t<tr><th scope=row>24</th><td>26</td><td>Treated</td><td>Female</td><td>56</td><td>Marked</td></tr>\n",
              "\t<tr><th scope=row>25</th><td>28</td><td>Treated</td><td>Female</td><td>57</td><td>Marked</td></tr>\n",
              "\t<tr><th scope=row>26</th><td>60</td><td>Treated</td><td>Female</td><td>57</td><td>Marked</td></tr>\n",
              "\t<tr><th scope=row>27</th><td>22</td><td>Treated</td><td>Female</td><td>57</td><td>Marked</td></tr>\n",
              "\t<tr><th scope=row>28</th><td>27</td><td>Treated</td><td>Female</td><td>58</td><td>None  </td></tr>\n",
              "\t<tr><th scope=row>29</th><td> 2</td><td>Treated</td><td>Female</td><td>59</td><td>Marked</td></tr>\n",
              "\t<tr><th scope=row>30</th><td>59</td><td>Treated</td><td>Female</td><td>59</td><td>Marked</td></tr>\n",
              "\t<tr><th scope=row>⋮</th><td>⋮</td><td>⋮</td><td>⋮</td><td>⋮</td><td>⋮</td></tr>\n",
              "\t<tr><th scope=row>55</th><td>29</td><td>Placebo</td><td>Female</td><td>30</td><td>None  </td></tr>\n",
              "\t<tr><th scope=row>56</th><td>50</td><td>Placebo</td><td>Female</td><td>31</td><td>Some  </td></tr>\n",
              "\t<tr><th scope=row>57</th><td>38</td><td>Placebo</td><td>Female</td><td>32</td><td>None  </td></tr>\n",
              "\t<tr><th scope=row>58</th><td>35</td><td>Placebo</td><td>Female</td><td>33</td><td>Marked</td></tr>\n",
              "\t<tr><th scope=row>59</th><td>51</td><td>Placebo</td><td>Female</td><td>37</td><td>None  </td></tr>\n",
              "\t<tr><th scope=row>60</th><td>54</td><td>Placebo</td><td>Female</td><td>44</td><td>None  </td></tr>\n",
              "\t<tr><th scope=row>61</th><td>76</td><td>Placebo</td><td>Female</td><td>45</td><td>None  </td></tr>\n",
              "\t<tr><th scope=row>62</th><td>16</td><td>Placebo</td><td>Female</td><td>46</td><td>None  </td></tr>\n",
              "\t<tr><th scope=row>63</th><td>69</td><td>Placebo</td><td>Female</td><td>48</td><td>None  </td></tr>\n",
              "\t<tr><th scope=row>64</th><td>31</td><td>Placebo</td><td>Female</td><td>49</td><td>None  </td></tr>\n",
              "\t<tr><th scope=row>65</th><td>20</td><td>Placebo</td><td>Female</td><td>51</td><td>None  </td></tr>\n",
              "\t<tr><th scope=row>66</th><td>68</td><td>Placebo</td><td>Female</td><td>53</td><td>None  </td></tr>\n",
              "\t<tr><th scope=row>67</th><td>81</td><td>Placebo</td><td>Female</td><td>54</td><td>None  </td></tr>\n",
              "\t<tr><th scope=row>68</th><td> 4</td><td>Placebo</td><td>Female</td><td>54</td><td>None  </td></tr>\n",
              "\t<tr><th scope=row>69</th><td>78</td><td>Placebo</td><td>Female</td><td>54</td><td>Marked</td></tr>\n",
              "\t<tr><th scope=row>70</th><td>70</td><td>Placebo</td><td>Female</td><td>55</td><td>Marked</td></tr>\n",
              "\t<tr><th scope=row>71</th><td>49</td><td>Placebo</td><td>Female</td><td>57</td><td>None  </td></tr>\n",
              "\t<tr><th scope=row>72</th><td>10</td><td>Placebo</td><td>Female</td><td>57</td><td>Some  </td></tr>\n",
              "\t<tr><th scope=row>73</th><td>47</td><td>Placebo</td><td>Female</td><td>58</td><td>Some  </td></tr>\n",
              "\t<tr><th scope=row>74</th><td>44</td><td>Placebo</td><td>Female</td><td>59</td><td>Some  </td></tr>\n",
              "\t<tr><th scope=row>75</th><td>24</td><td>Placebo</td><td>Female</td><td>59</td><td>Marked</td></tr>\n",
              "\t<tr><th scope=row>76</th><td>48</td><td>Placebo</td><td>Female</td><td>61</td><td>None  </td></tr>\n",
              "\t<tr><th scope=row>77</th><td>19</td><td>Placebo</td><td>Female</td><td>63</td><td>Some  </td></tr>\n",
              "\t<tr><th scope=row>78</th><td> 3</td><td>Placebo</td><td>Female</td><td>64</td><td>None  </td></tr>\n",
              "\t<tr><th scope=row>79</th><td>67</td><td>Placebo</td><td>Female</td><td>65</td><td>Marked</td></tr>\n",
              "\t<tr><th scope=row>80</th><td>32</td><td>Placebo</td><td>Female</td><td>66</td><td>None  </td></tr>\n",
              "\t<tr><th scope=row>81</th><td>42</td><td>Placebo</td><td>Female</td><td>66</td><td>None  </td></tr>\n",
              "\t<tr><th scope=row>82</th><td>15</td><td>Placebo</td><td>Female</td><td>66</td><td>Some  </td></tr>\n",
              "\t<tr><th scope=row>83</th><td>71</td><td>Placebo</td><td>Female</td><td>68</td><td>Some  </td></tr>\n",
              "\t<tr><th scope=row>84</th><td> 1</td><td>Placebo</td><td>Female</td><td>74</td><td>Marked</td></tr>\n",
              "</tbody>\n",
              "</table>\n"
            ],
            "text/markdown": "\nA data.frame: 84 × 5\n\n| <!--/--> | ID &lt;int&gt; | Treatment &lt;fct&gt; | Sex &lt;fct&gt; | Age &lt;int&gt; | Improved &lt;ord&gt; |\n|---|---|---|---|---|---|\n| 1 | 57 | Treated | Male   | 27 | Some   |\n| 2 | 46 | Treated | Male   | 29 | None   |\n| 3 | 77 | Treated | Male   | 30 | None   |\n| 4 | 17 | Treated | Male   | 32 | Marked |\n| 5 | 36 | Treated | Male   | 46 | Marked |\n| 6 | 23 | Treated | Male   | 58 | Marked |\n| 7 | 75 | Treated | Male   | 59 | None   |\n| 8 | 39 | Treated | Male   | 59 | Marked |\n| 9 | 33 | Treated | Male   | 63 | None   |\n| 10 | 55 | Treated | Male   | 63 | None   |\n| 11 | 30 | Treated | Male   | 64 | None   |\n| 12 |  5 | Treated | Male   | 64 | Some   |\n| 13 | 63 | Treated | Male   | 69 | None   |\n| 14 | 83 | Treated | Male   | 70 | Marked |\n| 15 | 66 | Treated | Female | 23 | None   |\n| 16 | 40 | Treated | Female | 32 | None   |\n| 17 |  6 | Treated | Female | 37 | Some   |\n| 18 |  7 | Treated | Female | 41 | None   |\n| 19 | 72 | Treated | Female | 41 | Marked |\n| 20 | 37 | Treated | Female | 48 | None   |\n| 21 | 82 | Treated | Female | 48 | Marked |\n| 22 | 53 | Treated | Female | 55 | Marked |\n| 23 | 79 | Treated | Female | 55 | Marked |\n| 24 | 26 | Treated | Female | 56 | Marked |\n| 25 | 28 | Treated | Female | 57 | Marked |\n| 26 | 60 | Treated | Female | 57 | Marked |\n| 27 | 22 | Treated | Female | 57 | Marked |\n| 28 | 27 | Treated | Female | 58 | None   |\n| 29 |  2 | Treated | Female | 59 | Marked |\n| 30 | 59 | Treated | Female | 59 | Marked |\n| ⋮ | ⋮ | ⋮ | ⋮ | ⋮ | ⋮ |\n| 55 | 29 | Placebo | Female | 30 | None   |\n| 56 | 50 | Placebo | Female | 31 | Some   |\n| 57 | 38 | Placebo | Female | 32 | None   |\n| 58 | 35 | Placebo | Female | 33 | Marked |\n| 59 | 51 | Placebo | Female | 37 | None   |\n| 60 | 54 | Placebo | Female | 44 | None   |\n| 61 | 76 | Placebo | Female | 45 | None   |\n| 62 | 16 | Placebo | Female | 46 | None   |\n| 63 | 69 | Placebo | Female | 48 | None   |\n| 64 | 31 | Placebo | Female | 49 | None   |\n| 65 | 20 | Placebo | Female | 51 | None   |\n| 66 | 68 | Placebo | Female | 53 | None   |\n| 67 | 81 | Placebo | Female | 54 | None   |\n| 68 |  4 | Placebo | Female | 54 | None   |\n| 69 | 78 | Placebo | Female | 54 | Marked |\n| 70 | 70 | Placebo | Female | 55 | Marked |\n| 71 | 49 | Placebo | Female | 57 | None   |\n| 72 | 10 | Placebo | Female | 57 | Some   |\n| 73 | 47 | Placebo | Female | 58 | Some   |\n| 74 | 44 | Placebo | Female | 59 | Some   |\n| 75 | 24 | Placebo | Female | 59 | Marked |\n| 76 | 48 | Placebo | Female | 61 | None   |\n| 77 | 19 | Placebo | Female | 63 | Some   |\n| 78 |  3 | Placebo | Female | 64 | None   |\n| 79 | 67 | Placebo | Female | 65 | Marked |\n| 80 | 32 | Placebo | Female | 66 | None   |\n| 81 | 42 | Placebo | Female | 66 | None   |\n| 82 | 15 | Placebo | Female | 66 | Some   |\n| 83 | 71 | Placebo | Female | 68 | Some   |\n| 84 |  1 | Placebo | Female | 74 | Marked |\n\n",
            "text/latex": "A data.frame: 84 × 5\n\\begin{tabular}{r|lllll}\n  & ID & Treatment & Sex & Age & Improved\\\\\n  & <int> & <fct> & <fct> & <int> & <ord>\\\\\n\\hline\n\t1 & 57 & Treated & Male   & 27 & Some  \\\\\n\t2 & 46 & Treated & Male   & 29 & None  \\\\\n\t3 & 77 & Treated & Male   & 30 & None  \\\\\n\t4 & 17 & Treated & Male   & 32 & Marked\\\\\n\t5 & 36 & Treated & Male   & 46 & Marked\\\\\n\t6 & 23 & Treated & Male   & 58 & Marked\\\\\n\t7 & 75 & Treated & Male   & 59 & None  \\\\\n\t8 & 39 & Treated & Male   & 59 & Marked\\\\\n\t9 & 33 & Treated & Male   & 63 & None  \\\\\n\t10 & 55 & Treated & Male   & 63 & None  \\\\\n\t11 & 30 & Treated & Male   & 64 & None  \\\\\n\t12 &  5 & Treated & Male   & 64 & Some  \\\\\n\t13 & 63 & Treated & Male   & 69 & None  \\\\\n\t14 & 83 & Treated & Male   & 70 & Marked\\\\\n\t15 & 66 & Treated & Female & 23 & None  \\\\\n\t16 & 40 & Treated & Female & 32 & None  \\\\\n\t17 &  6 & Treated & Female & 37 & Some  \\\\\n\t18 &  7 & Treated & Female & 41 & None  \\\\\n\t19 & 72 & Treated & Female & 41 & Marked\\\\\n\t20 & 37 & Treated & Female & 48 & None  \\\\\n\t21 & 82 & Treated & Female & 48 & Marked\\\\\n\t22 & 53 & Treated & Female & 55 & Marked\\\\\n\t23 & 79 & Treated & Female & 55 & Marked\\\\\n\t24 & 26 & Treated & Female & 56 & Marked\\\\\n\t25 & 28 & Treated & Female & 57 & Marked\\\\\n\t26 & 60 & Treated & Female & 57 & Marked\\\\\n\t27 & 22 & Treated & Female & 57 & Marked\\\\\n\t28 & 27 & Treated & Female & 58 & None  \\\\\n\t29 &  2 & Treated & Female & 59 & Marked\\\\\n\t30 & 59 & Treated & Female & 59 & Marked\\\\\n\t⋮ & ⋮ & ⋮ & ⋮ & ⋮ & ⋮\\\\\n\t55 & 29 & Placebo & Female & 30 & None  \\\\\n\t56 & 50 & Placebo & Female & 31 & Some  \\\\\n\t57 & 38 & Placebo & Female & 32 & None  \\\\\n\t58 & 35 & Placebo & Female & 33 & Marked\\\\\n\t59 & 51 & Placebo & Female & 37 & None  \\\\\n\t60 & 54 & Placebo & Female & 44 & None  \\\\\n\t61 & 76 & Placebo & Female & 45 & None  \\\\\n\t62 & 16 & Placebo & Female & 46 & None  \\\\\n\t63 & 69 & Placebo & Female & 48 & None  \\\\\n\t64 & 31 & Placebo & Female & 49 & None  \\\\\n\t65 & 20 & Placebo & Female & 51 & None  \\\\\n\t66 & 68 & Placebo & Female & 53 & None  \\\\\n\t67 & 81 & Placebo & Female & 54 & None  \\\\\n\t68 &  4 & Placebo & Female & 54 & None  \\\\\n\t69 & 78 & Placebo & Female & 54 & Marked\\\\\n\t70 & 70 & Placebo & Female & 55 & Marked\\\\\n\t71 & 49 & Placebo & Female & 57 & None  \\\\\n\t72 & 10 & Placebo & Female & 57 & Some  \\\\\n\t73 & 47 & Placebo & Female & 58 & Some  \\\\\n\t74 & 44 & Placebo & Female & 59 & Some  \\\\\n\t75 & 24 & Placebo & Female & 59 & Marked\\\\\n\t76 & 48 & Placebo & Female & 61 & None  \\\\\n\t77 & 19 & Placebo & Female & 63 & Some  \\\\\n\t78 &  3 & Placebo & Female & 64 & None  \\\\\n\t79 & 67 & Placebo & Female & 65 & Marked\\\\\n\t80 & 32 & Placebo & Female & 66 & None  \\\\\n\t81 & 42 & Placebo & Female & 66 & None  \\\\\n\t82 & 15 & Placebo & Female & 66 & Some  \\\\\n\t83 & 71 & Placebo & Female & 68 & Some  \\\\\n\t84 &  1 & Placebo & Female & 74 & Marked\\\\\n\\end{tabular}\n",
            "text/plain": [
              "   ID Treatment Sex    Age Improved\n",
              "1  57 Treated   Male   27  Some    \n",
              "2  46 Treated   Male   29  None    \n",
              "3  77 Treated   Male   30  None    \n",
              "4  17 Treated   Male   32  Marked  \n",
              "5  36 Treated   Male   46  Marked  \n",
              "6  23 Treated   Male   58  Marked  \n",
              "7  75 Treated   Male   59  None    \n",
              "8  39 Treated   Male   59  Marked  \n",
              "9  33 Treated   Male   63  None    \n",
              "10 55 Treated   Male   63  None    \n",
              "11 30 Treated   Male   64  None    \n",
              "12  5 Treated   Male   64  Some    \n",
              "13 63 Treated   Male   69  None    \n",
              "14 83 Treated   Male   70  Marked  \n",
              "15 66 Treated   Female 23  None    \n",
              "16 40 Treated   Female 32  None    \n",
              "17  6 Treated   Female 37  Some    \n",
              "18  7 Treated   Female 41  None    \n",
              "19 72 Treated   Female 41  Marked  \n",
              "20 37 Treated   Female 48  None    \n",
              "21 82 Treated   Female 48  Marked  \n",
              "22 53 Treated   Female 55  Marked  \n",
              "23 79 Treated   Female 55  Marked  \n",
              "24 26 Treated   Female 56  Marked  \n",
              "25 28 Treated   Female 57  Marked  \n",
              "26 60 Treated   Female 57  Marked  \n",
              "27 22 Treated   Female 57  Marked  \n",
              "28 27 Treated   Female 58  None    \n",
              "29  2 Treated   Female 59  Marked  \n",
              "30 59 Treated   Female 59  Marked  \n",
              "⋮  ⋮  ⋮         ⋮      ⋮   ⋮       \n",
              "55 29 Placebo   Female 30  None    \n",
              "56 50 Placebo   Female 31  Some    \n",
              "57 38 Placebo   Female 32  None    \n",
              "58 35 Placebo   Female 33  Marked  \n",
              "59 51 Placebo   Female 37  None    \n",
              "60 54 Placebo   Female 44  None    \n",
              "61 76 Placebo   Female 45  None    \n",
              "62 16 Placebo   Female 46  None    \n",
              "63 69 Placebo   Female 48  None    \n",
              "64 31 Placebo   Female 49  None    \n",
              "65 20 Placebo   Female 51  None    \n",
              "66 68 Placebo   Female 53  None    \n",
              "67 81 Placebo   Female 54  None    \n",
              "68  4 Placebo   Female 54  None    \n",
              "69 78 Placebo   Female 54  Marked  \n",
              "70 70 Placebo   Female 55  Marked  \n",
              "71 49 Placebo   Female 57  None    \n",
              "72 10 Placebo   Female 57  Some    \n",
              "73 47 Placebo   Female 58  Some    \n",
              "74 44 Placebo   Female 59  Some    \n",
              "75 24 Placebo   Female 59  Marked  \n",
              "76 48 Placebo   Female 61  None    \n",
              "77 19 Placebo   Female 63  Some    \n",
              "78  3 Placebo   Female 64  None    \n",
              "79 67 Placebo   Female 65  Marked  \n",
              "80 32 Placebo   Female 66  None    \n",
              "81 42 Placebo   Female 66  None    \n",
              "82 15 Placebo   Female 66  Some    \n",
              "83 71 Placebo   Female 68  Some    \n",
              "84  1 Placebo   Female 74  Marked  "
            ]
          },
          "metadata": {}
        }
      ]
    },
    {
      "cell_type": "markdown",
      "source": [
        "Способ лечения (Treatment: плацебо – Placebo и лекарство – Treated), пол (Sex: мужской – Male и женский – Female) и степень улучшения состояния больных (Improved: нет – None, некоторое – Some, заметное – Marked) – это категориальные факторы. В следующем подразделе мы создадим таблицы частот и сопряженности для этих данных."
      ],
      "metadata": {
        "id": "1U4BisVC-eTs"
      }
    },
    {
      "cell_type": "markdown",
      "source": [
        "### Создание таблиц частот\n",
        "R предлагает несколько методов создания таблиц частот и сопряженности. Самые важные функции перечислены в таблице.\n",
        "\\begin{array}{|l|l|}\n",
        "\\hline\n",
        "Функция&Описание\\\\\\hline\n",
        "table(var1,~var2,~...,&Создает~N-мерную~таблицу~сопряженности~для~N~категориальных\\\\\n",
        "varN)&переменных~(факторов)\\\\\\hline\n",
        "xtabs(formula, data)&Создает~N-мерную~таблицу~сопряженности~на~основе~формулы\\\\\n",
        "~&и~матрицы~или~таблицы~данных\\\\\\hline\n",
        "prop.table(table,~margins)&Представляет~значения~таблицы~в~виде~долей~от~суммы~всех\\\\\n",
        "~&значений~в~строке~таблицы,~заданной~параметром~margins\\\\\\hline\n",
        "margin.table(table,~margins)&Суммирует~значения~таблицы~по~строкам~или~столбцам~(опреде-\\\\\n",
        "~&ляется~параметром~margins)\\\\\\hline\n",
        "addmargins(table,~margins)&Вычисляет~описательные~статистики~margins~(суммы~по~умолча-\\\\\n",
        "~&нию)~для~заданной~таблицы\\\\\\hline\n",
        "ftable(table)&Создает~компактную~«плоскую»~таблицу~сопряженности\\\\\\hline\n",
        "\\end{array}\n",
        "\n",
        "В следующих подразделах мы используем все эти функции для исследования категориальных переменных. Для начала вычислим простые частоты, потом построим таблицы сопряженности для двух переменных и закончим созданием таблиц сопряженности для нескольких переменных. В качестве первого шага создадим таблицу при помощи функций table() и xtabs(), а затем будем исследовать ее при помощи других функций.\n",
        "\n"
      ],
      "metadata": {
        "id": "Fi03Oj_JBXUI"
      }
    },
    {
      "cell_type": "markdown",
      "source": [
        "#### Таблицы для одной переменной\n",
        "Частоты значений одной переменной можно рассчитать при помощи функции `table()`. Например:"
      ],
      "metadata": {
        "id": "PoQcW3xOeLFf"
      }
    },
    {
      "cell_type": "markdown",
      "source": [
        "Эти частоты можно преобразовать в доли от общей суммы при помощи функции `prop.table()`:"
      ],
      "metadata": {
        "id": "f_uBaDZYgErS"
      }
    },
    {
      "cell_type": "markdown",
      "source": [
        "Или в проценты, используя инструкцию `prop.table()*100`:"
      ],
      "metadata": {
        "id": "lJesjUPvgcI5"
      }
    },
    {
      "cell_type": "code",
      "source": [
        "mytable <- with(Arthritis, table(Improved), table(Treatment))\n",
        "mytable\n",
        "prop.table(mytable)\n",
        "prop.table(mytable)*100"
      ],
      "metadata": {
        "id": "RulXwkCv-d5r",
        "outputId": "e65d05d7-8557-49bf-f4be-f997cd75fe59",
        "colab": {
          "base_uri": "https://localhost:8080/",
          "height": 173
        }
      },
      "execution_count": null,
      "outputs": [
        {
          "output_type": "display_data",
          "data": {
            "text/plain": [
              "Improved\n",
              "  None   Some Marked \n",
              "    42     14     28 "
            ]
          },
          "metadata": {}
        },
        {
          "output_type": "display_data",
          "data": {
            "text/plain": [
              "Improved\n",
              "     None      Some    Marked \n",
              "0.5000000 0.1666667 0.3333333 "
            ]
          },
          "metadata": {}
        },
        {
          "output_type": "display_data",
          "data": {
            "text/plain": [
              "Improved\n",
              "    None     Some   Marked \n",
              "50.00000 16.66667 33.33333 "
            ]
          },
          "metadata": {}
        }
      ]
    },
    {
      "cell_type": "code",
      "source": [
        "mytable <- with(Arthritis, table(Treatment))\n",
        "mytable\n",
        "prop.table(mytable)\n",
        "prop.table(mytable)*100"
      ],
      "metadata": {
        "id": "hO1pBTePfsbR",
        "outputId": "90becb27-156a-4856-b692-de36d83df975",
        "colab": {
          "base_uri": "https://localhost:8080/",
          "height": 173
        }
      },
      "execution_count": null,
      "outputs": [
        {
          "output_type": "display_data",
          "data": {
            "text/plain": [
              "Treatment\n",
              "Placebo Treated \n",
              "     43      41 "
            ]
          },
          "metadata": {}
        },
        {
          "output_type": "display_data",
          "data": {
            "text/plain": [
              "Treatment\n",
              "  Placebo   Treated \n",
              "0.5119048 0.4880952 "
            ]
          },
          "metadata": {}
        },
        {
          "output_type": "display_data",
          "data": {
            "text/plain": [
              "Treatment\n",
              " Placebo  Treated \n",
              "51.19048 48.80952 "
            ]
          },
          "metadata": {}
        }
      ]
    },
    {
      "cell_type": "code",
      "source": [
        "mytable <- with(Arthritis, table(Sex))\n",
        "mytable\n",
        "prop.table(mytable)\n",
        "prop.table(mytable)*100"
      ],
      "metadata": {
        "id": "5J7WZOpbfxew",
        "outputId": "d9f4a429-2db8-4378-e4c5-5f231f877f99",
        "colab": {
          "base_uri": "https://localhost:8080/",
          "height": 173
        }
      },
      "execution_count": null,
      "outputs": [
        {
          "output_type": "display_data",
          "data": {
            "text/plain": [
              "Sex\n",
              "Female   Male \n",
              "    59     25 "
            ]
          },
          "metadata": {}
        },
        {
          "output_type": "display_data",
          "data": {
            "text/plain": [
              "Sex\n",
              "  Female     Male \n",
              "0.702381 0.297619 "
            ]
          },
          "metadata": {}
        },
        {
          "output_type": "display_data",
          "data": {
            "text/plain": [
              "Sex\n",
              " Female    Male \n",
              "70.2381 29.7619 "
            ]
          },
          "metadata": {}
        }
      ]
    },
    {
      "cell_type": "markdown",
      "source": [
        "Судя по результатам, у половины пациентов после лечения имело место некоторое или заметное улучшение состояния (16.7 + 33.3)."
      ],
      "metadata": {
        "id": "Uaw3NxgHgvnS"
      }
    },
    {
      "cell_type": "markdown",
      "source": [
        "#### Таблицы для двух переменных\n",
        "В случае двух переменных синтаксис применения функции `table()` имеет следующий вид:\n",
        "```\n",
        "mytable <- table(A, B)\n",
        "```\n",
        "где A – это переменная, определяющая строки таблицы сопряженности, а B – столбцы.\n",
        "\n",
        "Как вариант можно воспользоваться функцией `xtabs()`, которая позволяет при создании таблицы сопряженности вводить данные в виде формулы:\n",
        "```\n",
        "mytable <- xtabs(~ A + B, data=mydata)\n",
        "```\n",
        "где mydata – это матрицы или таблица данных. В общем случае переменные, для которых строится таблица сопряженности, находятся\n",
        "в правой части формулы (то есть справа от знака ~) и разделяются знаками +. Если переменная находится в левой части формулы, предполагается, что это вектор с частотами значений (удобно, если вы их уже вычислили).\n",
        "\n",
        "Для набора данных Arthritis у нас получится такая таблица:"
      ],
      "metadata": {
        "id": "5HRJgmgPg_ir"
      }
    },
    {
      "cell_type": "code",
      "source": [
        "mytable <- xtabs(~ Treatment + Improved, data=Arthritis)\n",
        "mytable"
      ],
      "metadata": {
        "id": "4tRMMaHgol1x",
        "outputId": "92ad7af5-b8dc-4720-af0b-0c33362ce8f3",
        "colab": {
          "base_uri": "https://localhost:8080/",
          "height": 86
        }
      },
      "execution_count": null,
      "outputs": [
        {
          "output_type": "display_data",
          "data": {
            "text/plain": [
              "         Improved\n",
              "Treatment None Some Marked\n",
              "  Placebo   29    7      7\n",
              "  Treated   13    7     21"
            ]
          },
          "metadata": {}
        }
      ]
    },
    {
      "cell_type": "markdown",
      "source": [
        "С помощью функций `margin.table()` и `prop.table()` можно рассчитать соответственно частоты и доли от сумм по столбцам или строкам. При суммировании и вычислении долей по **строкам** получаем:"
      ],
      "metadata": {
        "id": "Brfh8Z4hpFkG"
      }
    },
    {
      "cell_type": "code",
      "source": [
        "margin.table(mytable, 1)"
      ],
      "metadata": {
        "id": "fQpJPqpapEZc",
        "outputId": "a4c6bdc3-969d-42df-8fee-e863cd6739e4",
        "colab": {
          "base_uri": "https://localhost:8080/",
          "height": 69
        }
      },
      "execution_count": null,
      "outputs": [
        {
          "output_type": "display_data",
          "data": {
            "text/plain": [
              "Treatment\n",
              "Placebo Treated \n",
              "     43      41 "
            ]
          },
          "metadata": {}
        }
      ]
    },
    {
      "cell_type": "code",
      "source": [
        "prop.table(mytable, 1)"
      ],
      "metadata": {
        "id": "0pjyp5Qipenj",
        "outputId": "b517f63b-2b6c-4ddc-84b4-e5dbf975f9ff",
        "colab": {
          "base_uri": "https://localhost:8080/",
          "height": 86
        }
      },
      "execution_count": null,
      "outputs": [
        {
          "output_type": "display_data",
          "data": {
            "text/plain": [
              "         Improved\n",
              "Treatment      None      Some    Marked\n",
              "  Placebo 0.6744186 0.1627907 0.1627907\n",
              "  Treated 0.3170732 0.1707317 0.5121951"
            ]
          },
          "metadata": {}
        }
      ]
    },
    {
      "cell_type": "markdown",
      "source": [
        "\\begin{array}{|c|c|c|c|c|}\n",
        "\\hline\n",
        "Improved/Treatment&None&Some&Marked&Summ\\\\\\hline\n",
        "Placebo&29/43&7/43&7/43&1\\\\\\hline\n",
        "Treatment&13/41&7/41&21/41&1\\\\\\hline\n",
        "~&~&~&~\\\\\\hline\n",
        "~&~&~&~\\\\\\hline\n",
        "\\end{array}"
      ],
      "metadata": {
        "id": "xZvc50JPw-zN"
      }
    },
    {
      "cell_type": "code",
      "source": [
        "prop.table(mytable, 1)*100"
      ],
      "metadata": {
        "id": "keWJoVNDpRsb",
        "outputId": "f2af081b-57f7-46eb-cac8-09d45445fe89",
        "colab": {
          "base_uri": "https://localhost:8080/",
          "height": 86
        }
      },
      "execution_count": null,
      "outputs": [
        {
          "output_type": "display_data",
          "data": {
            "text/plain": [
              "         Improved\n",
              "Treatment     None     Some   Marked\n",
              "  Placebo 67.44186 16.27907 16.27907\n",
              "  Treated 31.70732 17.07317 51.21951"
            ]
          },
          "metadata": {}
        }
      ]
    },
    {
      "cell_type": "markdown",
      "source": [
        "Индекс 1 в вызове `table()` относится к первой переменной. Рассматривая полученную таблицу, можно заметить, что у 51 % пациентов, получавших настоящее лекарство, наступило заметное улучшение. Для сравнения: такой эффект наступил только у 16 % пациентов, получавших плацебо.\n",
        "\n",
        "При суммировании и вычислении долей по **столбцам** получаем:"
      ],
      "metadata": {
        "id": "4v6f0XnIpwiv"
      }
    },
    {
      "cell_type": "code",
      "source": [
        "margin.table(mytable, 2)"
      ],
      "metadata": {
        "id": "m83Q6p8xp6Bk",
        "outputId": "a9120c7f-cbc9-4625-dfc7-03944203c3a7",
        "colab": {
          "base_uri": "https://localhost:8080/",
          "height": 69
        }
      },
      "execution_count": null,
      "outputs": [
        {
          "output_type": "display_data",
          "data": {
            "text/plain": [
              "Improved\n",
              "  None   Some Marked \n",
              "    42     14     28 "
            ]
          },
          "metadata": {}
        }
      ]
    },
    {
      "cell_type": "code",
      "source": [
        "prop.table(mytable, 2)"
      ],
      "metadata": {
        "id": "7nX9DxC8qB0d",
        "outputId": "e6c5a63f-217e-406e-ca55-1a17cc351ca4",
        "colab": {
          "base_uri": "https://localhost:8080/",
          "height": 86
        }
      },
      "execution_count": null,
      "outputs": [
        {
          "output_type": "display_data",
          "data": {
            "text/plain": [
              "         Improved\n",
              "Treatment      None      Some    Marked\n",
              "  Placebo 0.6904762 0.5000000 0.2500000\n",
              "  Treated 0.3095238 0.5000000 0.7500000"
            ]
          },
          "metadata": {}
        }
      ]
    },
    {
      "cell_type": "markdown",
      "source": [
        "\\begin{array}{|c|c|c|c|c|}\n",
        "\\hline\n",
        "Improved/Treatment&None&Some&Marked&Summ\\\\\\hline\n",
        "Placebo&29/43&7/43&7/43&1\\\\\\hline\n",
        "Treatment&13/41&7/41&21/41&1\\\\\\hline\n",
        "\\end{array}"
      ],
      "metadata": {
        "id": "gXHxnEgNzVI1"
      }
    },
    {
      "cell_type": "code",
      "source": [
        "prop.table(mytable, 2)*100"
      ],
      "metadata": {
        "id": "AIWwxyCxqEXe",
        "outputId": "98e363af-86b7-45a8-f864-ebce35c523ce",
        "colab": {
          "base_uri": "https://localhost:8080/",
          "height": 86
        }
      },
      "execution_count": null,
      "outputs": [
        {
          "output_type": "display_data",
          "data": {
            "text/plain": [
              "         Improved\n",
              "Treatment     None     Some   Marked\n",
              "  Placebo 69.04762 50.00000 25.00000\n",
              "  Treated 30.95238 50.00000 75.00000"
            ]
          },
          "metadata": {}
        }
      ]
    },
    {
      "cell_type": "markdown",
      "source": [
        "\\begin{array}{|c|c|c|c|c|}\n",
        "\\hline\n",
        "Improved/Treatment&None&Some&Marked&Summ\\\\\\hline\n",
        "Placebo&29/42&7/14&7/28&~\\\\\\hline\n",
        "Treatment&13/42&7/14&21/28&~\\\\\\hline\n",
        "Summ&1&1&1\\\\\\hline\n",
        "\\end{array}"
      ],
      "metadata": {
        "id": "V_cbWKuo0Zwf"
      }
    },
    {
      "cell_type": "markdown",
      "source": [
        "В этом случае индекс 2 в вызове `table()` относится к первой переменной.\n",
        "\n",
        "При суммировании и вычислении долей по всем ячейкам таблицы получаем:"
      ],
      "metadata": {
        "id": "nNp1lPtLqXiA"
      }
    },
    {
      "cell_type": "code",
      "source": [
        "prop.table(mytable)"
      ],
      "metadata": {
        "id": "cibhP4dGqfDd",
        "outputId": "f3fe1586-b986-4034-cdba-9adc509db0bc",
        "colab": {
          "base_uri": "https://localhost:8080/",
          "height": 86
        }
      },
      "execution_count": null,
      "outputs": [
        {
          "output_type": "display_data",
          "data": {
            "text/plain": [
              "         Improved\n",
              "Treatment       None       Some     Marked\n",
              "  Placebo 0.34523810 0.08333333 0.08333333\n",
              "  Treated 0.15476190 0.08333333 0.25000000"
            ]
          },
          "metadata": {}
        }
      ]
    },
    {
      "cell_type": "markdown",
      "source": [
        "\\begin{array}{|c|c|c|c|c|}\n",
        "\\hline\n",
        "Improved/Treatment&None&Some&Marked&Summ\\\\\\hline\n",
        "Placebo&29/84&7/84&7/84&0.512\\\\\\hline\n",
        "Treatment&13/84&7/84&21/84&0.488\\\\\\hline\n",
        "Summ&0.5&0.167&0.333&1\\\\\\hline\n",
        "\\end{array}\n",
        "\n",
        "Сумма всех долей равна 1.\n",
        "\n",
        "Для вычисления сумм по столбцам или строкам можно использовать функцию `addmargins()`:"
      ],
      "metadata": {
        "id": "Ji7yX1AgzXQu"
      }
    },
    {
      "cell_type": "code",
      "source": [
        "addmargins(mytable)"
      ],
      "metadata": {
        "id": "eOXgIlRO1uoh",
        "outputId": "f4edde20-486c-4cbd-8a4b-03443ca64e5c",
        "colab": {
          "base_uri": "https://localhost:8080/",
          "height": 161
        }
      },
      "execution_count": null,
      "outputs": [
        {
          "output_type": "display_data",
          "data": {
            "text/html": [
              "<table class=\"dataframe\">\n",
              "<caption>A table: 3 × 4 of type dbl</caption>\n",
              "<thead>\n",
              "\t<tr><th></th><th scope=col>None</th><th scope=col>Some</th><th scope=col>Marked</th><th scope=col>Sum</th></tr>\n",
              "</thead>\n",
              "<tbody>\n",
              "\t<tr><th scope=row>Placebo</th><td>29</td><td> 7</td><td> 7</td><td>43</td></tr>\n",
              "\t<tr><th scope=row>Treated</th><td>13</td><td> 7</td><td>21</td><td>41</td></tr>\n",
              "\t<tr><th scope=row>Sum</th><td>42</td><td>14</td><td>28</td><td>84</td></tr>\n",
              "</tbody>\n",
              "</table>\n"
            ],
            "text/markdown": "\nA table: 3 × 4 of type dbl\n\n| <!--/--> | None | Some | Marked | Sum |\n|---|---|---|---|---|\n| Placebo | 29 |  7 |  7 | 43 |\n| Treated | 13 |  7 | 21 | 41 |\n| Sum | 42 | 14 | 28 | 84 |\n\n",
            "text/latex": "A table: 3 × 4 of type dbl\n\\begin{tabular}{r|llll}\n  & None & Some & Marked & Sum\\\\\n\\hline\n\tPlacebo & 29 &  7 &  7 & 43\\\\\n\tTreated & 13 &  7 & 21 & 41\\\\\n\tSum & 42 & 14 & 28 & 84\\\\\n\\end{tabular}\n",
            "text/plain": [
              "         Improved\n",
              "Treatment None Some Marked Sum\n",
              "  Placebo 29    7    7     43 \n",
              "  Treated 13    7   21     41 \n",
              "  Sum     42   14   28     84 "
            ]
          },
          "metadata": {}
        }
      ]
    },
    {
      "cell_type": "code",
      "source": [
        "addmargins(prop.table(mytable))"
      ],
      "metadata": {
        "id": "Bcn_RaCK2cx6",
        "outputId": "0010f84d-e5f1-4a54-91d8-07feaba9161a",
        "colab": {
          "base_uri": "https://localhost:8080/",
          "height": 161
        }
      },
      "execution_count": null,
      "outputs": [
        {
          "output_type": "display_data",
          "data": {
            "text/html": [
              "<table class=\"dataframe\">\n",
              "<caption>A table: 3 × 4 of type dbl</caption>\n",
              "<thead>\n",
              "\t<tr><th></th><th scope=col>None</th><th scope=col>Some</th><th scope=col>Marked</th><th scope=col>Sum</th></tr>\n",
              "</thead>\n",
              "<tbody>\n",
              "\t<tr><th scope=row>Placebo</th><td>0.3452381</td><td>0.08333333</td><td>0.08333333</td><td>0.5119048</td></tr>\n",
              "\t<tr><th scope=row>Treated</th><td>0.1547619</td><td>0.08333333</td><td>0.25000000</td><td>0.4880952</td></tr>\n",
              "\t<tr><th scope=row>Sum</th><td>0.5000000</td><td>0.16666667</td><td>0.33333333</td><td>1.0000000</td></tr>\n",
              "</tbody>\n",
              "</table>\n"
            ],
            "text/markdown": "\nA table: 3 × 4 of type dbl\n\n| <!--/--> | None | Some | Marked | Sum |\n|---|---|---|---|---|\n| Placebo | 0.3452381 | 0.08333333 | 0.08333333 | 0.5119048 |\n| Treated | 0.1547619 | 0.08333333 | 0.25000000 | 0.4880952 |\n| Sum | 0.5000000 | 0.16666667 | 0.33333333 | 1.0000000 |\n\n",
            "text/latex": "A table: 3 × 4 of type dbl\n\\begin{tabular}{r|llll}\n  & None & Some & Marked & Sum\\\\\n\\hline\n\tPlacebo & 0.3452381 & 0.08333333 & 0.08333333 & 0.5119048\\\\\n\tTreated & 0.1547619 & 0.08333333 & 0.25000000 & 0.4880952\\\\\n\tSum & 0.5000000 & 0.16666667 & 0.33333333 & 1.0000000\\\\\n\\end{tabular}\n",
            "text/plain": [
              "         Improved\n",
              "Treatment None      Some       Marked     Sum      \n",
              "  Placebo 0.3452381 0.08333333 0.08333333 0.5119048\n",
              "  Treated 0.1547619 0.08333333 0.25000000 0.4880952\n",
              "  Sum     0.5000000 0.16666667 0.33333333 1.0000000"
            ]
          },
          "metadata": {}
        }
      ]
    },
    {
      "cell_type": "markdown",
      "source": [
        "По умолчанию функция `addmargins()` вычисляет суммы и по столбцам, и по строкам таблицы. Также можно вычислить суммы только по строкам:"
      ],
      "metadata": {
        "id": "RM0Rkbtc3iDs"
      }
    },
    {
      "cell_type": "code",
      "source": [
        "addmargins(prop.table(mytable, 1), 2)"
      ],
      "metadata": {
        "id": "Xxkk6TnD3k4g",
        "outputId": "9d967de6-81ae-4881-8eba-4e25d8a254d1",
        "colab": {
          "base_uri": "https://localhost:8080/",
          "height": 129
        }
      },
      "execution_count": null,
      "outputs": [
        {
          "output_type": "display_data",
          "data": {
            "text/html": [
              "<table class=\"dataframe\">\n",
              "<caption>A table: 2 × 4 of type dbl</caption>\n",
              "<thead>\n",
              "\t<tr><th></th><th scope=col>None</th><th scope=col>Some</th><th scope=col>Marked</th><th scope=col>Sum</th></tr>\n",
              "</thead>\n",
              "<tbody>\n",
              "\t<tr><th scope=row>Placebo</th><td>0.6744186</td><td>0.1627907</td><td>0.1627907</td><td>1</td></tr>\n",
              "\t<tr><th scope=row>Treated</th><td>0.3170732</td><td>0.1707317</td><td>0.5121951</td><td>1</td></tr>\n",
              "</tbody>\n",
              "</table>\n"
            ],
            "text/markdown": "\nA table: 2 × 4 of type dbl\n\n| <!--/--> | None | Some | Marked | Sum |\n|---|---|---|---|---|\n| Placebo | 0.6744186 | 0.1627907 | 0.1627907 | 1 |\n| Treated | 0.3170732 | 0.1707317 | 0.5121951 | 1 |\n\n",
            "text/latex": "A table: 2 × 4 of type dbl\n\\begin{tabular}{r|llll}\n  & None & Some & Marked & Sum\\\\\n\\hline\n\tPlacebo & 0.6744186 & 0.1627907 & 0.1627907 & 1\\\\\n\tTreated & 0.3170732 & 0.1707317 & 0.5121951 & 1\\\\\n\\end{tabular}\n",
            "text/plain": [
              "         Improved\n",
              "Treatment None      Some      Marked    Sum\n",
              "  Placebo 0.6744186 0.1627907 0.1627907 1  \n",
              "  Treated 0.3170732 0.1707317 0.5121951 1  "
            ]
          },
          "metadata": {}
        }
      ]
    },
    {
      "cell_type": "markdown",
      "source": [
        "или только по столбцам:"
      ],
      "metadata": {
        "id": "LyvMa_3m3rmF"
      }
    },
    {
      "cell_type": "code",
      "source": [
        "addmargins(prop.table(mytable, 2), 1)"
      ],
      "metadata": {
        "id": "Ok0Pp8Nm3uak",
        "outputId": "06041b52-ebc7-467e-a077-a88e3d07dea7",
        "colab": {
          "base_uri": "https://localhost:8080/",
          "height": 161
        }
      },
      "execution_count": null,
      "outputs": [
        {
          "output_type": "display_data",
          "data": {
            "text/html": [
              "<table class=\"dataframe\">\n",
              "<caption>A table: 3 × 3 of type dbl</caption>\n",
              "<thead>\n",
              "\t<tr><th></th><th scope=col>None</th><th scope=col>Some</th><th scope=col>Marked</th></tr>\n",
              "</thead>\n",
              "<tbody>\n",
              "\t<tr><th scope=row>Placebo</th><td>0.6904762</td><td>0.5</td><td>0.25</td></tr>\n",
              "\t<tr><th scope=row>Treated</th><td>0.3095238</td><td>0.5</td><td>0.75</td></tr>\n",
              "\t<tr><th scope=row>Sum</th><td>1.0000000</td><td>1.0</td><td>1.00</td></tr>\n",
              "</tbody>\n",
              "</table>\n"
            ],
            "text/markdown": "\nA table: 3 × 3 of type dbl\n\n| <!--/--> | None | Some | Marked |\n|---|---|---|---|\n| Placebo | 0.6904762 | 0.5 | 0.25 |\n| Treated | 0.3095238 | 0.5 | 0.75 |\n| Sum | 1.0000000 | 1.0 | 1.00 |\n\n",
            "text/latex": "A table: 3 × 3 of type dbl\n\\begin{tabular}{r|lll}\n  & None & Some & Marked\\\\\n\\hline\n\tPlacebo & 0.6904762 & 0.5 & 0.25\\\\\n\tTreated & 0.3095238 & 0.5 & 0.75\\\\\n\tSum & 1.0000000 & 1.0 & 1.00\\\\\n\\end{tabular}\n",
            "text/plain": [
              "         Improved\n",
              "Treatment None      Some Marked\n",
              "  Placebo 0.6904762 0.5  0.25  \n",
              "  Treated 0.3095238 0.5  0.75  \n",
              "  Sum     1.0000000 1.0  1.00  "
            ]
          },
          "metadata": {}
        }
      ]
    },
    {
      "cell_type": "markdown",
      "source": [
        "Судя по полученным результатам, 25 % пациентов, чье состояние заметно улучшилось после лечения, получали плацебо.\n",
        "\n",
        "\n",
        "> ПРИМЕЧАНИЕ. Функция `table()` по умолчанию игнорирует пропущенные значения `(NA)`. Чтобы добавить их в таблицу сопряженности как одно из возможных значений, используйте параметр `useNA=\"ifany\"`.\n",
        "\n",
        "Третий способ создания таблиц сопряженности для двух переменных – использовать функцию `CrossTable()` из пакета gmodels. Эта функция создает такую же таблицу, как функции `PROC FREQ` в `SAS` или `CROSSTABS` в `SPSS`.\n",
        "\n"
      ],
      "metadata": {
        "id": "1SjOZR823-Qb"
      }
    },
    {
      "cell_type": "code",
      "source": [
        "install.packages(\"gmodels\")\n",
        "library(gmodels)\n",
        "CrossTable(Arthritis$Treatment, Arthritis$Improved)"
      ],
      "metadata": {
        "id": "hPUWGeew4oZf",
        "outputId": "4460d3ff-f6b4-4a61-f572-3b607cf9a64d",
        "colab": {
          "base_uri": "https://localhost:8080/"
        }
      },
      "execution_count": null,
      "outputs": [
        {
          "output_type": "stream",
          "name": "stderr",
          "text": [
            "Installing package into ‘/usr/local/lib/R/site-library’\n",
            "(as ‘lib’ is unspecified)\n",
            "\n",
            "also installing the dependencies ‘gtools’, ‘gdata’\n",
            "\n",
            "\n"
          ]
        },
        {
          "output_type": "stream",
          "name": "stdout",
          "text": [
            "\n",
            " \n",
            "   Cell Contents\n",
            "|-------------------------|\n",
            "|                       N |\n",
            "| Chi-square contribution |\n",
            "|           N / Row Total |\n",
            "|           N / Col Total |\n",
            "|         N / Table Total |\n",
            "|-------------------------|\n",
            "\n",
            " \n",
            "Total Observations in Table:  84 \n",
            "\n",
            " \n",
            "                    | Arthritis$Improved \n",
            "Arthritis$Treatment |      None |      Some |    Marked | Row Total | \n",
            "--------------------|-----------|-----------|-----------|-----------|\n",
            "            Placebo |        29 |         7 |         7 |        43 | \n",
            "                    |     2.616 |     0.004 |     3.752 |           | \n",
            "                    |     0.674 |     0.163 |     0.163 |     0.512 | \n",
            "                    |     0.690 |     0.500 |     0.250 |           | \n",
            "                    |     0.345 |     0.083 |     0.083 |           | \n",
            "--------------------|-----------|-----------|-----------|-----------|\n",
            "            Treated |        13 |         7 |        21 |        41 | \n",
            "                    |     2.744 |     0.004 |     3.935 |           | \n",
            "                    |     0.317 |     0.171 |     0.512 |     0.488 | \n",
            "                    |     0.310 |     0.500 |     0.750 |           | \n",
            "                    |     0.155 |     0.083 |     0.250 |           | \n",
            "--------------------|-----------|-----------|-----------|-----------|\n",
            "       Column Total |        42 |        14 |        28 |        84 | \n",
            "                    |     0.500 |     0.167 |     0.333 |           | \n",
            "--------------------|-----------|-----------|-----------|-----------|\n",
            "\n",
            " \n"
          ]
        }
      ]
    },
    {
      "cell_type": "markdown",
      "source": [
        "Функция `CrossTable()` принимает дополнительные параметры, управляющие вычислением процентов (по строкам, столбцам и ячейкам); округлением результатов до заданного числа знаков после запятой; вычислением критериев хи-квадрат, Фишера и Мак-Немара; вычислением ожидаемых значений и остатков (по Пирсону, стандартизованные, скорректированные стандартизованные); учетом пропущенных значений; добавлением подписей в виде имен строк и столбцов; форматированием результатов в стиле SAS\n",
        "и SPSS. Более подробную информацию можно получить, вызвав `help(CrossTable)`.\n",
        "\n",
        "Если в наборе данных имеется больше двух категориальных переменных, то есть возможность строить многомерные таблицы сопряженности. Давайте рассмотрим их."
      ],
      "metadata": {
        "id": "nDk3J5Tf5AY-"
      }
    },
    {
      "cell_type": "markdown",
      "source": [
        "#### Многомерные таблицы\n",
        "Функции `table()` и `xtabs()` можно использовать для создания многомерных таблиц сопряженности для трех и более категориальных переменных. Функции `margin.table()`, `prop.table()` и `addmargins()`\n",
        "тоже можно применять к многомерным таблицам. Кроме того, функция `ftable()` позволяет выводить многомерные таблицы в компактном и удобном виде. Примеры использования этих функций показаны ниже."
      ],
      "metadata": {
        "id": "s8_R0sm45WVV"
      }
    },
    {
      "cell_type": "code",
      "source": [
        "# Формирование трехмерной таблицы\n",
        "mytable <- xtabs(~ Treatment+Sex+Improved, data=Arthritis)\n",
        "mytable"
      ],
      "metadata": {
        "id": "k9lZwKLJBNbX",
        "outputId": "7874df5e-584a-4816-87a2-ecfb3cde01c5",
        "colab": {
          "base_uri": "https://localhost:8080/",
          "height": 364
        }
      },
      "execution_count": null,
      "outputs": [
        {
          "output_type": "display_data",
          "data": {
            "text/plain": [
              ", , Improved = None\n",
              "\n",
              "         Sex\n",
              "Treatment Female Male\n",
              "  Placebo     19   10\n",
              "  Treated      6    7\n",
              "\n",
              ", , Improved = Some\n",
              "\n",
              "         Sex\n",
              "Treatment Female Male\n",
              "  Placebo      7    0\n",
              "  Treated      5    2\n",
              "\n",
              ", , Improved = Marked\n",
              "\n",
              "         Sex\n",
              "Treatment Female Male\n",
              "  Placebo      6    1\n",
              "  Treated     16    5\n"
            ]
          },
          "metadata": {}
        }
      ]
    },
    {
      "cell_type": "code",
      "source": [
        "# Доли от общей суммы по всем ячейкам\n",
        "ftable(mytable)"
      ],
      "metadata": {
        "id": "QP0gpmD9CZUb",
        "outputId": "1fb86621-befc-405d-d6dd-91e1b6ca2516",
        "colab": {
          "base_uri": "https://localhost:8080/",
          "height": 121
        }
      },
      "execution_count": null,
      "outputs": [
        {
          "output_type": "display_data",
          "data": {
            "text/plain": [
              "                 Improved None Some Marked\n",
              "Treatment Sex                             \n",
              "Placebo   Female            19    7      6\n",
              "          Male              10    0      1\n",
              "Treated   Female             6    5     16\n",
              "          Male               7    2      5"
            ]
          },
          "metadata": {}
        }
      ]
    },
    {
      "cell_type": "markdown",
      "source": [
        "Инструкция ❶ вычисляет частоты для сочетаний всех трех факторов. Эта инструкция также демонстрирует, как можно использовать функцию `ftable()` для представления результатов в более удобном и компактном виде."
      ],
      "metadata": {
        "id": "sqTrgHLQEDvt"
      }
    },
    {
      "cell_type": "code",
      "source": [
        "# Доли от суммы по строкам и столбцам\n",
        "margin.table(mytable, 1)\n",
        "margin.table(mytable, 2)\n",
        "margin.table(mytable, 3)"
      ],
      "metadata": {
        "id": "j_wpV4YwCqxE",
        "outputId": "243835ad-fa6e-402c-ea4e-377fc6fd81c2",
        "colab": {
          "base_uri": "https://localhost:8080/",
          "height": 173
        }
      },
      "execution_count": null,
      "outputs": [
        {
          "output_type": "display_data",
          "data": {
            "text/plain": [
              "Treatment\n",
              "Placebo Treated \n",
              "     43      41 "
            ]
          },
          "metadata": {}
        },
        {
          "output_type": "display_data",
          "data": {
            "text/plain": [
              "Sex\n",
              "Female   Male \n",
              "    59     25 "
            ]
          },
          "metadata": {}
        },
        {
          "output_type": "display_data",
          "data": {
            "text/plain": [
              "Improved\n",
              "  None   Some Marked \n",
              "    42     14     28 "
            ]
          },
          "metadata": {}
        }
      ]
    },
    {
      "cell_type": "markdown",
      "source": [
        "Инструкция ❷ вычисляет частоты для отдельных факторов Treatment, Sex и Improved. Поскольку исходная таблица была создана при помощи формулы ~ Treatment+Sex+Improved, индекс 1 соответствует переменной Treatment, индекс 2 – переменной Sex, а индекс 3 – переменной Improved."
      ],
      "metadata": {
        "id": "sGZwStJwEN-P"
      }
    },
    {
      "cell_type": "code",
      "source": [
        "# Доли от сумм по столбцам Treatment и Improved\n",
        "margin.table(mytable, c(1, 3))"
      ],
      "metadata": {
        "id": "eowWIBNgDCob",
        "outputId": "720c1f15-deb8-4a5c-c39b-5ea081c90fa7",
        "colab": {
          "base_uri": "https://localhost:8080/",
          "height": 86
        }
      },
      "execution_count": null,
      "outputs": [
        {
          "output_type": "display_data",
          "data": {
            "text/plain": [
              "         Improved\n",
              "Treatment None Some Marked\n",
              "  Placebo   29    7      7\n",
              "  Treated   13    7     21"
            ]
          },
          "metadata": {}
        }
      ]
    },
    {
      "cell_type": "markdown",
      "source": [
        "Инструкция ❸ вычисляет частоты по всем сочетаниям значений Treatment и Improved, объединяя данные для мужчин и женщин."
      ],
      "metadata": {
        "id": "HHHv9rPGEVKs"
      }
    },
    {
      "cell_type": "code",
      "source": [
        "# Доли от сумм по столбцам Treatment и Sex\n",
        "ftable(prop.table(mytable, c(1, 2)))"
      ],
      "metadata": {
        "id": "bd-ARvECDSaz",
        "outputId": "3eb03d23-f0ef-417c-f08a-df0bb23a237e",
        "colab": {
          "base_uri": "https://localhost:8080/",
          "height": 121
        }
      },
      "execution_count": null,
      "outputs": [
        {
          "output_type": "display_data",
          "data": {
            "text/plain": [
              "                 Improved       None       Some     Marked\n",
              "Treatment Sex                                             \n",
              "Placebo   Female          0.59375000 0.21875000 0.18750000\n",
              "          Male            0.90909091 0.00000000 0.09090909\n",
              "Treated   Female          0.22222222 0.18518519 0.59259259\n",
              "          Male            0.50000000 0.14285714 0.35714286"
            ]
          },
          "metadata": {}
        }
      ]
    },
    {
      "cell_type": "code",
      "source": [
        "ftable(addmargins(prop.table(mytable, c(1, 2)), 3))"
      ],
      "metadata": {
        "id": "w880nMDxDm88",
        "outputId": "5afc6269-9587-4226-bbd1-3e973e92387c",
        "colab": {
          "base_uri": "https://localhost:8080/",
          "height": 121
        }
      },
      "execution_count": null,
      "outputs": [
        {
          "output_type": "display_data",
          "data": {
            "text/plain": [
              "                 Improved       None       Some     Marked        Sum\n",
              "Treatment Sex                                                        \n",
              "Placebo   Female          0.59375000 0.21875000 0.18750000 1.00000000\n",
              "          Male            0.90909091 0.00000000 0.09090909 1.00000000\n",
              "Treated   Female          0.22222222 0.18518519 0.59259259 1.00000000\n",
              "          Male            0.50000000 0.14285714 0.35714286 1.00000000"
            ]
          },
          "metadata": {}
        }
      ]
    },
    {
      "cell_type": "markdown",
      "source": [
        "Инструкция ❹ вычисляет долю пациентов с разной степенью улучшения для каждого сочетания типа лечения и пола (Treatment и Sex). Здесь можно заметить, что заметное улучшение наступило у 36 % мужчин и 59 % женщин, получавших настоящее лекарство. В общем случае частоты вычисляются так, чтобы их сумма для всех значений фактора (в данном случае Improved), не указанного в вызове prop.table(), была равна единице. Это видно в последнем примере, где частоты суммируются по строкам.\n",
        "\n",
        "Чтобы представить результаты в процентах, а не в долях от еди-\n",
        "ницы, можно умножить все значения на 100. Например, следую-\n",
        "щая инструкция:"
      ],
      "metadata": {
        "id": "zak8iJLrDygf"
      }
    },
    {
      "cell_type": "code",
      "source": [
        "ftable(addmargins(prop.table(mytable, c(1, 2)), 3)) * 100"
      ],
      "metadata": {
        "id": "Eqrgxy0pEocA",
        "outputId": "1934d47e-fedd-495a-b3d8-77ef174c62da",
        "colab": {
          "base_uri": "https://localhost:8080/",
          "height": 121
        }
      },
      "execution_count": null,
      "outputs": [
        {
          "output_type": "display_data",
          "data": {
            "text/plain": [
              "                 Improved       None       Some     Marked        Sum\n",
              "Treatment Sex                                                        \n",
              "Placebo   Female           59.375000  21.875000  18.750000 100.000000\n",
              "          Male             90.909091   0.000000   9.090909 100.000000\n",
              "Treated   Female           22.222222  18.518519  59.259259 100.000000\n",
              "          Male             50.000000  14.285714  35.714286 100.000000"
            ]
          },
          "metadata": {}
        }
      ]
    },
    {
      "cell_type": "markdown",
      "source": [
        "Таблицы сопряженности содержат информацию о частотах всех сочетаний значений факторов, но нередко желательно также знать, связаны ли эти факторы между собой или они независимы. Критерии независимости обсуждаются в следующем разделе."
      ],
      "metadata": {
        "id": "Ky0kFoqeE22I"
      }
    },
    {
      "cell_type": "markdown",
      "source": [
        "### Критерии независимости\n",
        "Проверить независимость категориальных данных в R можно несколькими способами. В этом разделе описаны три критерия: хиквадрат, Фишера и Кохрана–Мантеля–Хензеля."
      ],
      "metadata": {
        "id": "tLjPqWFDE8tG"
      }
    },
    {
      "cell_type": "markdown",
      "source": [
        "#### Хи-квадрат\n",
        "К двумерной таблице можно применить функцию chisq.test(), чтобы проверить значение критерия хи-квадрат для переменных, представляющих строки и столбцы."
      ],
      "metadata": {
        "id": "pI280BQKQQiR"
      }
    },
    {
      "cell_type": "code",
      "source": [
        "install.packages(\"vcd\")\n",
        "library(vcd)\n",
        "mytable <- xtabs(~Treatment+Improved, data=Arthritis)\n",
        "chisq.test(mytable)"
      ],
      "metadata": {
        "id": "kZZF8bQjQfzC",
        "outputId": "4b8a5fc6-1b08-4eac-8551-9d9ff4520f23",
        "colab": {
          "base_uri": "https://localhost:8080/",
          "height": 156
        }
      },
      "execution_count": null,
      "outputs": [
        {
          "output_type": "stream",
          "name": "stderr",
          "text": [
            "Installing package into ‘/usr/local/lib/R/site-library’\n",
            "(as ‘lib’ is unspecified)\n",
            "\n"
          ]
        },
        {
          "output_type": "display_data",
          "data": {
            "text/plain": [
              "\n",
              "\tPearson's Chi-squared test\n",
              "\n",
              "data:  mytable\n",
              "X-squared = 13.055, df = 2, p-value = 0.001463\n"
            ]
          },
          "metadata": {}
        }
      ]
    },
    {
      "cell_type": "markdown",
      "source": [
        "Переменные Treatment и Improved не являются независимыми.\n",
        "\n",
        "Как показывают результаты вычисления критерия хи-квадрат ❶,\n",
        "между типом лечения (Treatment) и степенью улучшения (Improved)\n",
        "состояния пациентов существует связь (p < 0.01). А вот между по-\n",
        "лом пациентов и степенью улучшения их состояния связи нет"
      ],
      "metadata": {
        "id": "US9TPrToREqJ"
      }
    },
    {
      "cell_type": "code",
      "source": [
        "mytable <- xtabs(~Improved+Sex, data=Arthritis)\n",
        "chisq.test(mytable)"
      ],
      "metadata": {
        "id": "iA61xaAARJwM",
        "outputId": "fffcf2f4-c0ad-4d1f-fa58-2e88b170a08c",
        "colab": {
          "base_uri": "https://localhost:8080/",
          "height": 138
        }
      },
      "execution_count": null,
      "outputs": [
        {
          "output_type": "stream",
          "name": "stderr",
          "text": [
            "Warning message in chisq.test(mytable):\n",
            "“Chi-squared approximation may be incorrect”\n"
          ]
        },
        {
          "output_type": "display_data",
          "data": {
            "text/plain": [
              "\n",
              "\tPearson's Chi-squared test\n",
              "\n",
              "data:  mytable\n",
              "X-squared = 4.8407, df = 2, p-value = 0.08889\n"
            ]
          },
          "metadata": {}
        }
      ]
    },
    {
      "cell_type": "markdown",
      "source": [
        "Переменные Sex и Improved не зависят друг от друга."
      ],
      "metadata": {
        "id": "eLuGouo6RQAi"
      }
    },
    {
      "cell_type": "markdown",
      "source": [
        "Как показывают результаты вычисления критерия хи-квадрат ❶, между типом лечения (Treatment) и степенью улучшения (Improved) состояния пациентов существует связь (p < 0.01). А вот между полом пациентов и степенью улучшения их состояния связи нет (p > 0.05) ❷. Значение статистической ошибки первого рода (p-value) – это вероятность отсутствия зависимости между данными переменными в генеральной совокупности. Поскольку эта вероятность достаточно мала в случае ❶, можно отвергнуть гипотезу о независимости результата лечения от его типа. Однако в случае ❷ недостаточно мала, поэтому есть основание полагать, что способ лечения и пол пациентов не зависят друг от друга. Предупреждение (warning message) в результатах в листинге появляется потому, что в одной из шести ячеек таблицы сопряженности (некоторое\n",
        "улучшение состояния у мужчин) ожидаемое значение меньше 5, что может сделать недействительным критерий хи-квадрат."
      ],
      "metadata": {
        "id": "M9XC8bBNRbkQ"
      }
    },
    {
      "cell_type": "markdown",
      "source": [
        "#### Точный критерий Фишера\n",
        "Точный критерий Фишера (Fisher’s exact test) можно вычислить с помощью функции fisher.test(). Этот критерий проверяет нулевую гипотезу о независимости столбцов и строк в таблице сопряженности. Эта функция имеет следующий синтаксис:\n",
        "```\n",
        "fisher.test(mytable)\n",
        "где mytable – это двухмерная таблица.\n",
        "```\n",
        "Вот пример:"
      ],
      "metadata": {
        "id": "W6nj945qSDh5"
      }
    },
    {
      "cell_type": "code",
      "source": [
        "mytable <- xtabs(~Treatment+Improved, data=Arthritis)\n",
        "fisher.test(mytable)"
      ],
      "metadata": {
        "id": "CqPlcJRlSdLU",
        "outputId": "855dec33-6073-43e1-9726-43329e5581c0",
        "colab": {
          "base_uri": "https://localhost:8080/",
          "height": 121
        }
      },
      "execution_count": null,
      "outputs": [
        {
          "output_type": "display_data",
          "data": {
            "text/plain": [
              "\n",
              "\tFisher's Exact Test for Count Data\n",
              "\n",
              "data:  mytable\n",
              "p-value = 0.001393\n",
              "alternative hypothesis: two.sided\n"
            ]
          },
          "metadata": {}
        }
      ]
    },
    {
      "cell_type": "markdown",
      "source": [
        "В отличие от многих статистических программ, функцию `fisher.test()` в R можно применять к любой таблице сопряженности (с двумя и более столбцами и строками), а не только к таблице размерности 2×2."
      ],
      "metadata": {
        "id": "0lZpqtg1UQBJ"
      }
    },
    {
      "cell_type": "markdown",
      "source": [
        "#### Критерий Кохрана–Мантеля–Хензеля\n",
        "Функция mantelhaen.test() позволяет вычислить критерий хиквадрат Кохрана–Мантеля–Хензеля (Cochran-Mantel-Haenszel), проверяющий нулевую гипотезу о независимости двух номинальных переменных для каждого значения третьей переменной. Приведенный ниже код проверяет гипотезу о независимости переменных Treatment и Improved для каждого значения переменной Sex. При этом предполагается отсутствие трехсторонней взаимозависимости (Treatment × Improved × Sex)."
      ],
      "metadata": {
        "id": "QNbjp5r1UqTK"
      }
    },
    {
      "cell_type": "code",
      "source": [
        "mytable <- xtabs(~Treatment+Improved+Sex, data=Arthritis)\n",
        "mantelhaen.test(mytable)"
      ],
      "metadata": {
        "id": "l_q6a60kU5oV",
        "outputId": "922cc01d-ad90-4eee-b596-d8f175fcb39b",
        "colab": {
          "base_uri": "https://localhost:8080/",
          "height": 104
        }
      },
      "execution_count": null,
      "outputs": [
        {
          "output_type": "display_data",
          "data": {
            "text/plain": [
              "\n",
              "\tCochran-Mantel-Haenszel test\n",
              "\n",
              "data:  mytable\n",
              "Cochran-Mantel-Haenszel M^2 = 14.632, df = 2, p-value = 0.0006647\n"
            ]
          },
          "metadata": {}
        }
      ]
    },
    {
      "cell_type": "markdown",
      "source": [
        "Полученный результат позволяет считать, что вне зависимости от пола пациентов между способом лечения и его результатом имеется выраженная связь."
      ],
      "metadata": {
        "id": "I2zYA67zV2GA"
      }
    },
    {
      "cell_type": "markdown",
      "source": [
        "### Меры тесноты связи\n",
        "Статистические критерии значимости, описанные в предыдущем разделе, оценивали достаточность оснований для отклонения нулевой гипотезы о независимости двух переменных. Если нулевую гипотезу можно отвергнуть, то возникает следующий естественный вопрос: насколько сильна обнаруженная взаимосвязь. Функция `assocstats()` из пакета `vcd` вычисляет фи-коэффициент (phi coefficient), коэффициент сопряженности и V-коэффициент Крамера (Cramer’s V) для двумерной таблицы."
      ],
      "metadata": {
        "id": "FAo5ZUQxWCbA"
      }
    },
    {
      "cell_type": "code",
      "source": [
        "mytable <- xtabs(~Treatment+Improved, data=Arthritis)\n",
        "assocstats(mytable)"
      ],
      "metadata": {
        "id": "RJ-iZmDRWSwj",
        "outputId": "a3013d70-8845-460d-98b6-c40cbf151ae5",
        "colab": {
          "base_uri": "https://localhost:8080/",
          "height": 138
        }
      },
      "execution_count": null,
      "outputs": [
        {
          "output_type": "display_data",
          "data": {
            "text/plain": [
              "                    X^2 df  P(> X^2)\n",
              "Likelihood Ratio 13.530  2 0.0011536\n",
              "Pearson          13.055  2 0.0014626\n",
              "\n",
              "Phi-Coefficient   : NA \n",
              "Contingency Coeff.: 0.367 \n",
              "Cramer's V        : 0.394 "
            ]
          },
          "metadata": {}
        }
      ]
    },
    {
      "cell_type": "markdown",
      "source": [
        "В общем случае чем больше значения коэффициентов, тем теснее связь. В пакете vcd также имеется функция `kappa()`, которая вычисляет каппу Коэна (Cohen’s kappa) и взвешенную каппу для матрицы соответствий (например, степень согласованности между двумя суждениями, классифицирующими набор объектов по категориям)."
      ],
      "metadata": {
        "id": "oIsNxrLcWfJN"
      }
    },
    {
      "cell_type": "code",
      "source": [
        "kappa(mytable)"
      ],
      "metadata": {
        "id": "BC35hUu_WoJZ",
        "outputId": "c9ff0640-782d-4ad7-8a67-05d5647d6844",
        "colab": {
          "base_uri": "https://localhost:8080/",
          "height": 34
        }
      },
      "execution_count": null,
      "outputs": [
        {
          "output_type": "display_data",
          "data": {
            "text/html": [
              "2.76034247564564"
            ],
            "text/markdown": "2.76034247564564",
            "text/latex": "2.76034247564564",
            "text/plain": [
              "[1] 2.760342"
            ]
          },
          "metadata": {}
        }
      ]
    },
    {
      "cell_type": "markdown",
      "source": [
        "### Визуализация результатов\n",
        "В R реализованы способы визуализации взаимосвязей между категориальными переменными, которые выходят далеко за пределы возможностей большинства других статистических программ. Обычно для визуализации частот значений одной переменной используются столбиковые диаграммы (раздел 6.1). В пакете `vcd` имеются замечательные функции визуализации взаимосвязей между категориальными переменными в многомерных наборах данных с использованием мозаичных диаграмм и диаграмм связей (раздел 11.4). Наконец, функции анализа соответствий в пакете `ca` позволяют визуально исследовать связи между строками и столбцами таблиц сопряженности при помощи различных геометрических\n",
        "образов (Nenadic, Greenacre, 2007).\n",
        "\n",
        "На этом мы приостанавливаем обсуждение таблиц сопряженности и возобновим его после знакомства с более сложными темами в главах 11 и 19. Теперь давайте познакомимся с разными типами коэффициентов корреляции."
      ],
      "metadata": {
        "id": "TswaCTvSW3H8"
      }
    },
    {
      "cell_type": "markdown",
      "source": [
        "## Корреляция\n",
        "Коэффициенты корреляции используются для описания тесноты связей между количественными переменными. Знак коэффициента (+ или –) свидетельствует о направлении связи (положительная или отрицательная), а величина коэффициента показывает силу связи (от 0 – нет связи до 1 – абсолютно предсказуемая взаимосвязь).\n",
        "\n",
        "\n",
        "В этом разделе мы рассмотрим разные коэффициенты корреляции наряду с критериями оценки их значимости. В наших примерах мы используем набор данных state.x77, входящий в состав базового дистрибутива R. В нем содержатся сведения о численности, доходе, проценте неграмотного населения, средней продолжительности жизни, уровне преступности и доле людей со средним образованием по 50 штатам США в 1977 году. Там также есть данные о температурном режиме и о площади штатов, но мы опустим\n",
        "их, чтобы сэкономить место. Выполните вызов help(state.x77), чтобы узнать больше об этих данных. В дополнение к базовой версии R нам понадобятся пакеты psych и ggm."
      ],
      "metadata": {
        "id": "bRJsgtTkXQMh"
      }
    },
    {
      "cell_type": "markdown",
      "source": [
        "### Типы корреляций\n",
        "В R можно вычислять разные коэффициенты корреляции, включая коэффициенты Пирсона, Спирмена, Кенделла, частные, полихорические и многорядные. Рассмотрим их по порядку."
      ],
      "metadata": {
        "id": "hwAMrrukZkhC"
      }
    },
    {
      "cell_type": "markdown",
      "source": [
        "#### Коэффициенты Пирсона, Спирмена и Кенделла\n",
        "Коэффициент линейной корреляции Пирсона (Pearson product moment correlation) отражает тесноту линейной связи между двумя количественными переменными. Коэффициент ранговой корреляции Спирмана (Spearman’s Rank Order correlation) отражает тесноту связи между двумя ранжированными переменными. Тау Кенделла (Kendall’s Tau) – еще один непараметрический показатель ранговой корреляции.\n",
        "\n",
        "Функция `cor()` вычисляет все три коэффициента, а функция `cov()` вычисляет ковариации. У этих функций есть много дополнительных параметров, но в общем случае синтаксис вычисления корреляций выглядит так:\n",
        "```\n",
        "cor(x, use= , method= )\n",
        "```\n",
        "\n",
        "\\begin{array}{|c|l|}\\hline\n",
        "Параметр&Описание\\\\\\hline\n",
        "x&Матрица~или~таблица~данных\\\\\\hline\n",
        "use&Определяет~необходимость~обработки~пропущенных~данных.~Может~ принимать~сле-\\\\\n",
        "~&дующие~значения:~all.obs~(предполагается,~что~в~наборе~данных~нет~пропущенных\\\\\n",
        "~&значений~и~их~появление~вызовет~сообщение~об~ошибке),~everything~(коэффициен-\\\\\n",
        "~&ты~корреляции~для~строк~с~отсутствующими~значениями~будут~пропускаться~и~обо-\\\\\n",
        "~&значаться~как missing),~complete.obs~(учитывать~только~строки~без~пропущенных\\\\\n",
        "~&значений)~и~pairwise.complete.obs~(учитывать~все~полные~наблюдения~для~каждой\\\\\n",
        "~&пары~переменных~в~отдельности)\\\\\n",
        "method&Определяет~тип~коэффициента~корреляции.~Возможные~значения:~pearson,~spearman\\\\\n",
        "~&и~kendall\\\\\\hline\n",
        "\\end{array}\n",
        "По умолчанию параметры принимают следующие значения:\n",
        "use=\"everything\" и method=\"pearson\"."
      ],
      "metadata": {
        "id": "n907pOYoZvM7"
      }
    },
    {
      "cell_type": "code",
      "source": [
        "states<- state.x77[,1:6]\n",
        "states"
      ],
      "metadata": {
        "id": "bqoSNHB10TUY",
        "outputId": "45b12620-9a74-4b55-f908-6a6136185e51",
        "colab": {
          "base_uri": "https://localhost:8080/",
          "height": 1000
        }
      },
      "execution_count": null,
      "outputs": [
        {
          "output_type": "display_data",
          "data": {
            "text/html": [
              "<table class=\"dataframe\">\n",
              "<caption>A matrix: 50 × 6 of type dbl</caption>\n",
              "<thead>\n",
              "\t<tr><th></th><th scope=col>Population</th><th scope=col>Income</th><th scope=col>Illiteracy</th><th scope=col>Life Exp</th><th scope=col>Murder</th><th scope=col>HS Grad</th></tr>\n",
              "</thead>\n",
              "<tbody>\n",
              "\t<tr><th scope=row>Alabama</th><td> 3615</td><td>3624</td><td>2.1</td><td>69.05</td><td>15.1</td><td>41.3</td></tr>\n",
              "\t<tr><th scope=row>Alaska</th><td>  365</td><td>6315</td><td>1.5</td><td>69.31</td><td>11.3</td><td>66.7</td></tr>\n",
              "\t<tr><th scope=row>Arizona</th><td> 2212</td><td>4530</td><td>1.8</td><td>70.55</td><td> 7.8</td><td>58.1</td></tr>\n",
              "\t<tr><th scope=row>Arkansas</th><td> 2110</td><td>3378</td><td>1.9</td><td>70.66</td><td>10.1</td><td>39.9</td></tr>\n",
              "\t<tr><th scope=row>California</th><td>21198</td><td>5114</td><td>1.1</td><td>71.71</td><td>10.3</td><td>62.6</td></tr>\n",
              "\t<tr><th scope=row>Colorado</th><td> 2541</td><td>4884</td><td>0.7</td><td>72.06</td><td> 6.8</td><td>63.9</td></tr>\n",
              "\t<tr><th scope=row>Connecticut</th><td> 3100</td><td>5348</td><td>1.1</td><td>72.48</td><td> 3.1</td><td>56.0</td></tr>\n",
              "\t<tr><th scope=row>Delaware</th><td>  579</td><td>4809</td><td>0.9</td><td>70.06</td><td> 6.2</td><td>54.6</td></tr>\n",
              "\t<tr><th scope=row>Florida</th><td> 8277</td><td>4815</td><td>1.3</td><td>70.66</td><td>10.7</td><td>52.6</td></tr>\n",
              "\t<tr><th scope=row>Georgia</th><td> 4931</td><td>4091</td><td>2.0</td><td>68.54</td><td>13.9</td><td>40.6</td></tr>\n",
              "\t<tr><th scope=row>Hawaii</th><td>  868</td><td>4963</td><td>1.9</td><td>73.60</td><td> 6.2</td><td>61.9</td></tr>\n",
              "\t<tr><th scope=row>Idaho</th><td>  813</td><td>4119</td><td>0.6</td><td>71.87</td><td> 5.3</td><td>59.5</td></tr>\n",
              "\t<tr><th scope=row>Illinois</th><td>11197</td><td>5107</td><td>0.9</td><td>70.14</td><td>10.3</td><td>52.6</td></tr>\n",
              "\t<tr><th scope=row>Indiana</th><td> 5313</td><td>4458</td><td>0.7</td><td>70.88</td><td> 7.1</td><td>52.9</td></tr>\n",
              "\t<tr><th scope=row>Iowa</th><td> 2861</td><td>4628</td><td>0.5</td><td>72.56</td><td> 2.3</td><td>59.0</td></tr>\n",
              "\t<tr><th scope=row>Kansas</th><td> 2280</td><td>4669</td><td>0.6</td><td>72.58</td><td> 4.5</td><td>59.9</td></tr>\n",
              "\t<tr><th scope=row>Kentucky</th><td> 3387</td><td>3712</td><td>1.6</td><td>70.10</td><td>10.6</td><td>38.5</td></tr>\n",
              "\t<tr><th scope=row>Louisiana</th><td> 3806</td><td>3545</td><td>2.8</td><td>68.76</td><td>13.2</td><td>42.2</td></tr>\n",
              "\t<tr><th scope=row>Maine</th><td> 1058</td><td>3694</td><td>0.7</td><td>70.39</td><td> 2.7</td><td>54.7</td></tr>\n",
              "\t<tr><th scope=row>Maryland</th><td> 4122</td><td>5299</td><td>0.9</td><td>70.22</td><td> 8.5</td><td>52.3</td></tr>\n",
              "\t<tr><th scope=row>Massachusetts</th><td> 5814</td><td>4755</td><td>1.1</td><td>71.83</td><td> 3.3</td><td>58.5</td></tr>\n",
              "\t<tr><th scope=row>Michigan</th><td> 9111</td><td>4751</td><td>0.9</td><td>70.63</td><td>11.1</td><td>52.8</td></tr>\n",
              "\t<tr><th scope=row>Minnesota</th><td> 3921</td><td>4675</td><td>0.6</td><td>72.96</td><td> 2.3</td><td>57.6</td></tr>\n",
              "\t<tr><th scope=row>Mississippi</th><td> 2341</td><td>3098</td><td>2.4</td><td>68.09</td><td>12.5</td><td>41.0</td></tr>\n",
              "\t<tr><th scope=row>Missouri</th><td> 4767</td><td>4254</td><td>0.8</td><td>70.69</td><td> 9.3</td><td>48.8</td></tr>\n",
              "\t<tr><th scope=row>Montana</th><td>  746</td><td>4347</td><td>0.6</td><td>70.56</td><td> 5.0</td><td>59.2</td></tr>\n",
              "\t<tr><th scope=row>Nebraska</th><td> 1544</td><td>4508</td><td>0.6</td><td>72.60</td><td> 2.9</td><td>59.3</td></tr>\n",
              "\t<tr><th scope=row>Nevada</th><td>  590</td><td>5149</td><td>0.5</td><td>69.03</td><td>11.5</td><td>65.2</td></tr>\n",
              "\t<tr><th scope=row>New Hampshire</th><td>  812</td><td>4281</td><td>0.7</td><td>71.23</td><td> 3.3</td><td>57.6</td></tr>\n",
              "\t<tr><th scope=row>New Jersey</th><td> 7333</td><td>5237</td><td>1.1</td><td>70.93</td><td> 5.2</td><td>52.5</td></tr>\n",
              "\t<tr><th scope=row>New Mexico</th><td> 1144</td><td>3601</td><td>2.2</td><td>70.32</td><td> 9.7</td><td>55.2</td></tr>\n",
              "\t<tr><th scope=row>New York</th><td>18076</td><td>4903</td><td>1.4</td><td>70.55</td><td>10.9</td><td>52.7</td></tr>\n",
              "\t<tr><th scope=row>North Carolina</th><td> 5441</td><td>3875</td><td>1.8</td><td>69.21</td><td>11.1</td><td>38.5</td></tr>\n",
              "\t<tr><th scope=row>North Dakota</th><td>  637</td><td>5087</td><td>0.8</td><td>72.78</td><td> 1.4</td><td>50.3</td></tr>\n",
              "\t<tr><th scope=row>Ohio</th><td>10735</td><td>4561</td><td>0.8</td><td>70.82</td><td> 7.4</td><td>53.2</td></tr>\n",
              "\t<tr><th scope=row>Oklahoma</th><td> 2715</td><td>3983</td><td>1.1</td><td>71.42</td><td> 6.4</td><td>51.6</td></tr>\n",
              "\t<tr><th scope=row>Oregon</th><td> 2284</td><td>4660</td><td>0.6</td><td>72.13</td><td> 4.2</td><td>60.0</td></tr>\n",
              "\t<tr><th scope=row>Pennsylvania</th><td>11860</td><td>4449</td><td>1.0</td><td>70.43</td><td> 6.1</td><td>50.2</td></tr>\n",
              "\t<tr><th scope=row>Rhode Island</th><td>  931</td><td>4558</td><td>1.3</td><td>71.90</td><td> 2.4</td><td>46.4</td></tr>\n",
              "\t<tr><th scope=row>South Carolina</th><td> 2816</td><td>3635</td><td>2.3</td><td>67.96</td><td>11.6</td><td>37.8</td></tr>\n",
              "\t<tr><th scope=row>South Dakota</th><td>  681</td><td>4167</td><td>0.5</td><td>72.08</td><td> 1.7</td><td>53.3</td></tr>\n",
              "\t<tr><th scope=row>Tennessee</th><td> 4173</td><td>3821</td><td>1.7</td><td>70.11</td><td>11.0</td><td>41.8</td></tr>\n",
              "\t<tr><th scope=row>Texas</th><td>12237</td><td>4188</td><td>2.2</td><td>70.90</td><td>12.2</td><td>47.4</td></tr>\n",
              "\t<tr><th scope=row>Utah</th><td> 1203</td><td>4022</td><td>0.6</td><td>72.90</td><td> 4.5</td><td>67.3</td></tr>\n",
              "\t<tr><th scope=row>Vermont</th><td>  472</td><td>3907</td><td>0.6</td><td>71.64</td><td> 5.5</td><td>57.1</td></tr>\n",
              "\t<tr><th scope=row>Virginia</th><td> 4981</td><td>4701</td><td>1.4</td><td>70.08</td><td> 9.5</td><td>47.8</td></tr>\n",
              "\t<tr><th scope=row>Washington</th><td> 3559</td><td>4864</td><td>0.6</td><td>71.72</td><td> 4.3</td><td>63.5</td></tr>\n",
              "\t<tr><th scope=row>West Virginia</th><td> 1799</td><td>3617</td><td>1.4</td><td>69.48</td><td> 6.7</td><td>41.6</td></tr>\n",
              "\t<tr><th scope=row>Wisconsin</th><td> 4589</td><td>4468</td><td>0.7</td><td>72.48</td><td> 3.0</td><td>54.5</td></tr>\n",
              "\t<tr><th scope=row>Wyoming</th><td>  376</td><td>4566</td><td>0.6</td><td>70.29</td><td> 6.9</td><td>62.9</td></tr>\n",
              "</tbody>\n",
              "</table>\n"
            ],
            "text/markdown": "\nA matrix: 50 × 6 of type dbl\n\n| <!--/--> | Population | Income | Illiteracy | Life Exp | Murder | HS Grad |\n|---|---|---|---|---|---|---|\n| Alabama |  3615 | 3624 | 2.1 | 69.05 | 15.1 | 41.3 |\n| Alaska |   365 | 6315 | 1.5 | 69.31 | 11.3 | 66.7 |\n| Arizona |  2212 | 4530 | 1.8 | 70.55 |  7.8 | 58.1 |\n| Arkansas |  2110 | 3378 | 1.9 | 70.66 | 10.1 | 39.9 |\n| California | 21198 | 5114 | 1.1 | 71.71 | 10.3 | 62.6 |\n| Colorado |  2541 | 4884 | 0.7 | 72.06 |  6.8 | 63.9 |\n| Connecticut |  3100 | 5348 | 1.1 | 72.48 |  3.1 | 56.0 |\n| Delaware |   579 | 4809 | 0.9 | 70.06 |  6.2 | 54.6 |\n| Florida |  8277 | 4815 | 1.3 | 70.66 | 10.7 | 52.6 |\n| Georgia |  4931 | 4091 | 2.0 | 68.54 | 13.9 | 40.6 |\n| Hawaii |   868 | 4963 | 1.9 | 73.60 |  6.2 | 61.9 |\n| Idaho |   813 | 4119 | 0.6 | 71.87 |  5.3 | 59.5 |\n| Illinois | 11197 | 5107 | 0.9 | 70.14 | 10.3 | 52.6 |\n| Indiana |  5313 | 4458 | 0.7 | 70.88 |  7.1 | 52.9 |\n| Iowa |  2861 | 4628 | 0.5 | 72.56 |  2.3 | 59.0 |\n| Kansas |  2280 | 4669 | 0.6 | 72.58 |  4.5 | 59.9 |\n| Kentucky |  3387 | 3712 | 1.6 | 70.10 | 10.6 | 38.5 |\n| Louisiana |  3806 | 3545 | 2.8 | 68.76 | 13.2 | 42.2 |\n| Maine |  1058 | 3694 | 0.7 | 70.39 |  2.7 | 54.7 |\n| Maryland |  4122 | 5299 | 0.9 | 70.22 |  8.5 | 52.3 |\n| Massachusetts |  5814 | 4755 | 1.1 | 71.83 |  3.3 | 58.5 |\n| Michigan |  9111 | 4751 | 0.9 | 70.63 | 11.1 | 52.8 |\n| Minnesota |  3921 | 4675 | 0.6 | 72.96 |  2.3 | 57.6 |\n| Mississippi |  2341 | 3098 | 2.4 | 68.09 | 12.5 | 41.0 |\n| Missouri |  4767 | 4254 | 0.8 | 70.69 |  9.3 | 48.8 |\n| Montana |   746 | 4347 | 0.6 | 70.56 |  5.0 | 59.2 |\n| Nebraska |  1544 | 4508 | 0.6 | 72.60 |  2.9 | 59.3 |\n| Nevada |   590 | 5149 | 0.5 | 69.03 | 11.5 | 65.2 |\n| New Hampshire |   812 | 4281 | 0.7 | 71.23 |  3.3 | 57.6 |\n| New Jersey |  7333 | 5237 | 1.1 | 70.93 |  5.2 | 52.5 |\n| New Mexico |  1144 | 3601 | 2.2 | 70.32 |  9.7 | 55.2 |\n| New York | 18076 | 4903 | 1.4 | 70.55 | 10.9 | 52.7 |\n| North Carolina |  5441 | 3875 | 1.8 | 69.21 | 11.1 | 38.5 |\n| North Dakota |   637 | 5087 | 0.8 | 72.78 |  1.4 | 50.3 |\n| Ohio | 10735 | 4561 | 0.8 | 70.82 |  7.4 | 53.2 |\n| Oklahoma |  2715 | 3983 | 1.1 | 71.42 |  6.4 | 51.6 |\n| Oregon |  2284 | 4660 | 0.6 | 72.13 |  4.2 | 60.0 |\n| Pennsylvania | 11860 | 4449 | 1.0 | 70.43 |  6.1 | 50.2 |\n| Rhode Island |   931 | 4558 | 1.3 | 71.90 |  2.4 | 46.4 |\n| South Carolina |  2816 | 3635 | 2.3 | 67.96 | 11.6 | 37.8 |\n| South Dakota |   681 | 4167 | 0.5 | 72.08 |  1.7 | 53.3 |\n| Tennessee |  4173 | 3821 | 1.7 | 70.11 | 11.0 | 41.8 |\n| Texas | 12237 | 4188 | 2.2 | 70.90 | 12.2 | 47.4 |\n| Utah |  1203 | 4022 | 0.6 | 72.90 |  4.5 | 67.3 |\n| Vermont |   472 | 3907 | 0.6 | 71.64 |  5.5 | 57.1 |\n| Virginia |  4981 | 4701 | 1.4 | 70.08 |  9.5 | 47.8 |\n| Washington |  3559 | 4864 | 0.6 | 71.72 |  4.3 | 63.5 |\n| West Virginia |  1799 | 3617 | 1.4 | 69.48 |  6.7 | 41.6 |\n| Wisconsin |  4589 | 4468 | 0.7 | 72.48 |  3.0 | 54.5 |\n| Wyoming |   376 | 4566 | 0.6 | 70.29 |  6.9 | 62.9 |\n\n",
            "text/latex": "A matrix: 50 × 6 of type dbl\n\\begin{tabular}{r|llllll}\n  & Population & Income & Illiteracy & Life Exp & Murder & HS Grad\\\\\n\\hline\n\tAlabama &  3615 & 3624 & 2.1 & 69.05 & 15.1 & 41.3\\\\\n\tAlaska &   365 & 6315 & 1.5 & 69.31 & 11.3 & 66.7\\\\\n\tArizona &  2212 & 4530 & 1.8 & 70.55 &  7.8 & 58.1\\\\\n\tArkansas &  2110 & 3378 & 1.9 & 70.66 & 10.1 & 39.9\\\\\n\tCalifornia & 21198 & 5114 & 1.1 & 71.71 & 10.3 & 62.6\\\\\n\tColorado &  2541 & 4884 & 0.7 & 72.06 &  6.8 & 63.9\\\\\n\tConnecticut &  3100 & 5348 & 1.1 & 72.48 &  3.1 & 56.0\\\\\n\tDelaware &   579 & 4809 & 0.9 & 70.06 &  6.2 & 54.6\\\\\n\tFlorida &  8277 & 4815 & 1.3 & 70.66 & 10.7 & 52.6\\\\\n\tGeorgia &  4931 & 4091 & 2.0 & 68.54 & 13.9 & 40.6\\\\\n\tHawaii &   868 & 4963 & 1.9 & 73.60 &  6.2 & 61.9\\\\\n\tIdaho &   813 & 4119 & 0.6 & 71.87 &  5.3 & 59.5\\\\\n\tIllinois & 11197 & 5107 & 0.9 & 70.14 & 10.3 & 52.6\\\\\n\tIndiana &  5313 & 4458 & 0.7 & 70.88 &  7.1 & 52.9\\\\\n\tIowa &  2861 & 4628 & 0.5 & 72.56 &  2.3 & 59.0\\\\\n\tKansas &  2280 & 4669 & 0.6 & 72.58 &  4.5 & 59.9\\\\\n\tKentucky &  3387 & 3712 & 1.6 & 70.10 & 10.6 & 38.5\\\\\n\tLouisiana &  3806 & 3545 & 2.8 & 68.76 & 13.2 & 42.2\\\\\n\tMaine &  1058 & 3694 & 0.7 & 70.39 &  2.7 & 54.7\\\\\n\tMaryland &  4122 & 5299 & 0.9 & 70.22 &  8.5 & 52.3\\\\\n\tMassachusetts &  5814 & 4755 & 1.1 & 71.83 &  3.3 & 58.5\\\\\n\tMichigan &  9111 & 4751 & 0.9 & 70.63 & 11.1 & 52.8\\\\\n\tMinnesota &  3921 & 4675 & 0.6 & 72.96 &  2.3 & 57.6\\\\\n\tMississippi &  2341 & 3098 & 2.4 & 68.09 & 12.5 & 41.0\\\\\n\tMissouri &  4767 & 4254 & 0.8 & 70.69 &  9.3 & 48.8\\\\\n\tMontana &   746 & 4347 & 0.6 & 70.56 &  5.0 & 59.2\\\\\n\tNebraska &  1544 & 4508 & 0.6 & 72.60 &  2.9 & 59.3\\\\\n\tNevada &   590 & 5149 & 0.5 & 69.03 & 11.5 & 65.2\\\\\n\tNew Hampshire &   812 & 4281 & 0.7 & 71.23 &  3.3 & 57.6\\\\\n\tNew Jersey &  7333 & 5237 & 1.1 & 70.93 &  5.2 & 52.5\\\\\n\tNew Mexico &  1144 & 3601 & 2.2 & 70.32 &  9.7 & 55.2\\\\\n\tNew York & 18076 & 4903 & 1.4 & 70.55 & 10.9 & 52.7\\\\\n\tNorth Carolina &  5441 & 3875 & 1.8 & 69.21 & 11.1 & 38.5\\\\\n\tNorth Dakota &   637 & 5087 & 0.8 & 72.78 &  1.4 & 50.3\\\\\n\tOhio & 10735 & 4561 & 0.8 & 70.82 &  7.4 & 53.2\\\\\n\tOklahoma &  2715 & 3983 & 1.1 & 71.42 &  6.4 & 51.6\\\\\n\tOregon &  2284 & 4660 & 0.6 & 72.13 &  4.2 & 60.0\\\\\n\tPennsylvania & 11860 & 4449 & 1.0 & 70.43 &  6.1 & 50.2\\\\\n\tRhode Island &   931 & 4558 & 1.3 & 71.90 &  2.4 & 46.4\\\\\n\tSouth Carolina &  2816 & 3635 & 2.3 & 67.96 & 11.6 & 37.8\\\\\n\tSouth Dakota &   681 & 4167 & 0.5 & 72.08 &  1.7 & 53.3\\\\\n\tTennessee &  4173 & 3821 & 1.7 & 70.11 & 11.0 & 41.8\\\\\n\tTexas & 12237 & 4188 & 2.2 & 70.90 & 12.2 & 47.4\\\\\n\tUtah &  1203 & 4022 & 0.6 & 72.90 &  4.5 & 67.3\\\\\n\tVermont &   472 & 3907 & 0.6 & 71.64 &  5.5 & 57.1\\\\\n\tVirginia &  4981 & 4701 & 1.4 & 70.08 &  9.5 & 47.8\\\\\n\tWashington &  3559 & 4864 & 0.6 & 71.72 &  4.3 & 63.5\\\\\n\tWest Virginia &  1799 & 3617 & 1.4 & 69.48 &  6.7 & 41.6\\\\\n\tWisconsin &  4589 & 4468 & 0.7 & 72.48 &  3.0 & 54.5\\\\\n\tWyoming &   376 & 4566 & 0.6 & 70.29 &  6.9 & 62.9\\\\\n\\end{tabular}\n",
            "text/plain": [
              "               Population Income Illiteracy Life Exp Murder HS Grad\n",
              "Alabama         3615      3624   2.1        69.05    15.1   41.3   \n",
              "Alaska           365      6315   1.5        69.31    11.3   66.7   \n",
              "Arizona         2212      4530   1.8        70.55     7.8   58.1   \n",
              "Arkansas        2110      3378   1.9        70.66    10.1   39.9   \n",
              "California     21198      5114   1.1        71.71    10.3   62.6   \n",
              "Colorado        2541      4884   0.7        72.06     6.8   63.9   \n",
              "Connecticut     3100      5348   1.1        72.48     3.1   56.0   \n",
              "Delaware         579      4809   0.9        70.06     6.2   54.6   \n",
              "Florida         8277      4815   1.3        70.66    10.7   52.6   \n",
              "Georgia         4931      4091   2.0        68.54    13.9   40.6   \n",
              "Hawaii           868      4963   1.9        73.60     6.2   61.9   \n",
              "Idaho            813      4119   0.6        71.87     5.3   59.5   \n",
              "Illinois       11197      5107   0.9        70.14    10.3   52.6   \n",
              "Indiana         5313      4458   0.7        70.88     7.1   52.9   \n",
              "Iowa            2861      4628   0.5        72.56     2.3   59.0   \n",
              "Kansas          2280      4669   0.6        72.58     4.5   59.9   \n",
              "Kentucky        3387      3712   1.6        70.10    10.6   38.5   \n",
              "Louisiana       3806      3545   2.8        68.76    13.2   42.2   \n",
              "Maine           1058      3694   0.7        70.39     2.7   54.7   \n",
              "Maryland        4122      5299   0.9        70.22     8.5   52.3   \n",
              "Massachusetts   5814      4755   1.1        71.83     3.3   58.5   \n",
              "Michigan        9111      4751   0.9        70.63    11.1   52.8   \n",
              "Minnesota       3921      4675   0.6        72.96     2.3   57.6   \n",
              "Mississippi     2341      3098   2.4        68.09    12.5   41.0   \n",
              "Missouri        4767      4254   0.8        70.69     9.3   48.8   \n",
              "Montana          746      4347   0.6        70.56     5.0   59.2   \n",
              "Nebraska        1544      4508   0.6        72.60     2.9   59.3   \n",
              "Nevada           590      5149   0.5        69.03    11.5   65.2   \n",
              "New Hampshire    812      4281   0.7        71.23     3.3   57.6   \n",
              "New Jersey      7333      5237   1.1        70.93     5.2   52.5   \n",
              "New Mexico      1144      3601   2.2        70.32     9.7   55.2   \n",
              "New York       18076      4903   1.4        70.55    10.9   52.7   \n",
              "North Carolina  5441      3875   1.8        69.21    11.1   38.5   \n",
              "North Dakota     637      5087   0.8        72.78     1.4   50.3   \n",
              "Ohio           10735      4561   0.8        70.82     7.4   53.2   \n",
              "Oklahoma        2715      3983   1.1        71.42     6.4   51.6   \n",
              "Oregon          2284      4660   0.6        72.13     4.2   60.0   \n",
              "Pennsylvania   11860      4449   1.0        70.43     6.1   50.2   \n",
              "Rhode Island     931      4558   1.3        71.90     2.4   46.4   \n",
              "South Carolina  2816      3635   2.3        67.96    11.6   37.8   \n",
              "South Dakota     681      4167   0.5        72.08     1.7   53.3   \n",
              "Tennessee       4173      3821   1.7        70.11    11.0   41.8   \n",
              "Texas          12237      4188   2.2        70.90    12.2   47.4   \n",
              "Utah            1203      4022   0.6        72.90     4.5   67.3   \n",
              "Vermont          472      3907   0.6        71.64     5.5   57.1   \n",
              "Virginia        4981      4701   1.4        70.08     9.5   47.8   \n",
              "Washington      3559      4864   0.6        71.72     4.3   63.5   \n",
              "West Virginia   1799      3617   1.4        69.48     6.7   41.6   \n",
              "Wisconsin       4589      4468   0.7        72.48     3.0   54.5   \n",
              "Wyoming          376      4566   0.6        70.29     6.9   62.9   "
            ]
          },
          "metadata": {}
        }
      ]
    },
    {
      "cell_type": "code",
      "source": [
        "cov(states) # выводит таблицу дисперсий и ковариаций"
      ],
      "metadata": {
        "id": "ypEt-yUM5-uz",
        "outputId": "c86159c4-7093-4a09-8103-8cac9d17414c",
        "colab": {
          "base_uri": "https://localhost:8080/",
          "height": 255
        }
      },
      "execution_count": null,
      "outputs": [
        {
          "output_type": "display_data",
          "data": {
            "text/html": [
              "<table class=\"dataframe\">\n",
              "<caption>A matrix: 6 × 6 of type dbl</caption>\n",
              "<thead>\n",
              "\t<tr><th></th><th scope=col>Population</th><th scope=col>Income</th><th scope=col>Illiteracy</th><th scope=col>Life Exp</th><th scope=col>Murder</th><th scope=col>HS Grad</th></tr>\n",
              "</thead>\n",
              "<tbody>\n",
              "\t<tr><th scope=row>Population</th><td>19931683.7588</td><td>571229.7796</td><td> 292.8679592</td><td>-407.8424612</td><td>5663.523714</td><td>-3551.509551</td></tr>\n",
              "\t<tr><th scope=row>Income</th><td>  571229.7796</td><td>377573.3061</td><td>-163.7020408</td><td> 280.6631837</td><td>-521.894286</td><td> 3076.768980</td></tr>\n",
              "\t<tr><th scope=row>Illiteracy</th><td>     292.8680</td><td>  -163.7020</td><td>   0.3715306</td><td>  -0.4815122</td><td>   1.581776</td><td>   -3.235469</td></tr>\n",
              "\t<tr><th scope=row>Life Exp</th><td>    -407.8425</td><td>   280.6632</td><td>  -0.4815122</td><td>   1.8020204</td><td>  -3.869480</td><td>    6.312685</td></tr>\n",
              "\t<tr><th scope=row>Murder</th><td>    5663.5237</td><td>  -521.8943</td><td>   1.5817755</td><td>  -3.8694804</td><td>  13.627465</td><td>  -14.549616</td></tr>\n",
              "\t<tr><th scope=row>HS Grad</th><td>   -3551.5096</td><td>  3076.7690</td><td>  -3.2354694</td><td>   6.3126849</td><td> -14.549616</td><td>   65.237894</td></tr>\n",
              "</tbody>\n",
              "</table>\n"
            ],
            "text/markdown": "\nA matrix: 6 × 6 of type dbl\n\n| <!--/--> | Population | Income | Illiteracy | Life Exp | Murder | HS Grad |\n|---|---|---|---|---|---|---|\n| Population | 19931683.7588 | 571229.7796 |  292.8679592 | -407.8424612 | 5663.523714 | -3551.509551 |\n| Income |   571229.7796 | 377573.3061 | -163.7020408 |  280.6631837 | -521.894286 |  3076.768980 |\n| Illiteracy |      292.8680 |   -163.7020 |    0.3715306 |   -0.4815122 |    1.581776 |    -3.235469 |\n| Life Exp |     -407.8425 |    280.6632 |   -0.4815122 |    1.8020204 |   -3.869480 |     6.312685 |\n| Murder |     5663.5237 |   -521.8943 |    1.5817755 |   -3.8694804 |   13.627465 |   -14.549616 |\n| HS Grad |    -3551.5096 |   3076.7690 |   -3.2354694 |    6.3126849 |  -14.549616 |    65.237894 |\n\n",
            "text/latex": "A matrix: 6 × 6 of type dbl\n\\begin{tabular}{r|llllll}\n  & Population & Income & Illiteracy & Life Exp & Murder & HS Grad\\\\\n\\hline\n\tPopulation & 19931683.7588 & 571229.7796 &  292.8679592 & -407.8424612 & 5663.523714 & -3551.509551\\\\\n\tIncome &   571229.7796 & 377573.3061 & -163.7020408 &  280.6631837 & -521.894286 &  3076.768980\\\\\n\tIlliteracy &      292.8680 &   -163.7020 &    0.3715306 &   -0.4815122 &    1.581776 &    -3.235469\\\\\n\tLife Exp &     -407.8425 &    280.6632 &   -0.4815122 &    1.8020204 &   -3.869480 &     6.312685\\\\\n\tMurder &     5663.5237 &   -521.8943 &    1.5817755 &   -3.8694804 &   13.627465 &   -14.549616\\\\\n\tHS Grad &    -3551.5096 &   3076.7690 &   -3.2354694 &    6.3126849 &  -14.549616 &    65.237894\\\\\n\\end{tabular}\n",
            "text/plain": [
              "           Population    Income      Illiteracy   Life Exp     Murder     \n",
              "Population 19931683.7588 571229.7796  292.8679592 -407.8424612 5663.523714\n",
              "Income       571229.7796 377573.3061 -163.7020408  280.6631837 -521.894286\n",
              "Illiteracy      292.8680   -163.7020    0.3715306   -0.4815122    1.581776\n",
              "Life Exp       -407.8425    280.6632   -0.4815122    1.8020204   -3.869480\n",
              "Murder         5663.5237   -521.8943    1.5817755   -3.8694804   13.627465\n",
              "HS Grad       -3551.5096   3076.7690   -3.2354694    6.3126849  -14.549616\n",
              "           HS Grad     \n",
              "Population -3551.509551\n",
              "Income      3076.768980\n",
              "Illiteracy    -3.235469\n",
              "Life Exp       6.312685\n",
              "Murder       -14.549616\n",
              "HS Grad       65.237894"
            ]
          },
          "metadata": {}
        }
      ]
    },
    {
      "cell_type": "code",
      "source": [
        "cor(states) # таблица коэффициентов корреляции Пирсона"
      ],
      "metadata": {
        "id": "urEThisc6Fq6",
        "outputId": "8449c233-4aaa-4f7f-ac4e-e7bca6bd485d",
        "colab": {
          "base_uri": "https://localhost:8080/",
          "height": 255
        }
      },
      "execution_count": null,
      "outputs": [
        {
          "output_type": "display_data",
          "data": {
            "text/html": [
              "<table class=\"dataframe\">\n",
              "<caption>A matrix: 6 × 6 of type dbl</caption>\n",
              "<thead>\n",
              "\t<tr><th></th><th scope=col>Population</th><th scope=col>Income</th><th scope=col>Illiteracy</th><th scope=col>Life Exp</th><th scope=col>Murder</th><th scope=col>HS Grad</th></tr>\n",
              "</thead>\n",
              "<tbody>\n",
              "\t<tr><th scope=row>Population</th><td> 1.00000000</td><td> 0.2082276</td><td> 0.1076224</td><td>-0.06805195</td><td> 0.3436428</td><td>-0.09848975</td></tr>\n",
              "\t<tr><th scope=row>Income</th><td> 0.20822756</td><td> 1.0000000</td><td>-0.4370752</td><td> 0.34025534</td><td>-0.2300776</td><td> 0.61993232</td></tr>\n",
              "\t<tr><th scope=row>Illiteracy</th><td> 0.10762237</td><td>-0.4370752</td><td> 1.0000000</td><td>-0.58847793</td><td> 0.7029752</td><td>-0.65718861</td></tr>\n",
              "\t<tr><th scope=row>Life Exp</th><td>-0.06805195</td><td> 0.3402553</td><td>-0.5884779</td><td> 1.00000000</td><td>-0.7808458</td><td> 0.58221620</td></tr>\n",
              "\t<tr><th scope=row>Murder</th><td> 0.34364275</td><td>-0.2300776</td><td> 0.7029752</td><td>-0.78084575</td><td> 1.0000000</td><td>-0.48797102</td></tr>\n",
              "\t<tr><th scope=row>HS Grad</th><td>-0.09848975</td><td> 0.6199323</td><td>-0.6571886</td><td> 0.58221620</td><td>-0.4879710</td><td> 1.00000000</td></tr>\n",
              "</tbody>\n",
              "</table>\n"
            ],
            "text/markdown": "\nA matrix: 6 × 6 of type dbl\n\n| <!--/--> | Population | Income | Illiteracy | Life Exp | Murder | HS Grad |\n|---|---|---|---|---|---|---|\n| Population |  1.00000000 |  0.2082276 |  0.1076224 | -0.06805195 |  0.3436428 | -0.09848975 |\n| Income |  0.20822756 |  1.0000000 | -0.4370752 |  0.34025534 | -0.2300776 |  0.61993232 |\n| Illiteracy |  0.10762237 | -0.4370752 |  1.0000000 | -0.58847793 |  0.7029752 | -0.65718861 |\n| Life Exp | -0.06805195 |  0.3402553 | -0.5884779 |  1.00000000 | -0.7808458 |  0.58221620 |\n| Murder |  0.34364275 | -0.2300776 |  0.7029752 | -0.78084575 |  1.0000000 | -0.48797102 |\n| HS Grad | -0.09848975 |  0.6199323 | -0.6571886 |  0.58221620 | -0.4879710 |  1.00000000 |\n\n",
            "text/latex": "A matrix: 6 × 6 of type dbl\n\\begin{tabular}{r|llllll}\n  & Population & Income & Illiteracy & Life Exp & Murder & HS Grad\\\\\n\\hline\n\tPopulation &  1.00000000 &  0.2082276 &  0.1076224 & -0.06805195 &  0.3436428 & -0.09848975\\\\\n\tIncome &  0.20822756 &  1.0000000 & -0.4370752 &  0.34025534 & -0.2300776 &  0.61993232\\\\\n\tIlliteracy &  0.10762237 & -0.4370752 &  1.0000000 & -0.58847793 &  0.7029752 & -0.65718861\\\\\n\tLife Exp & -0.06805195 &  0.3402553 & -0.5884779 &  1.00000000 & -0.7808458 &  0.58221620\\\\\n\tMurder &  0.34364275 & -0.2300776 &  0.7029752 & -0.78084575 &  1.0000000 & -0.48797102\\\\\n\tHS Grad & -0.09848975 &  0.6199323 & -0.6571886 &  0.58221620 & -0.4879710 &  1.00000000\\\\\n\\end{tabular}\n",
            "text/plain": [
              "           Population  Income     Illiteracy Life Exp    Murder     HS Grad    \n",
              "Population  1.00000000  0.2082276  0.1076224 -0.06805195  0.3436428 -0.09848975\n",
              "Income      0.20822756  1.0000000 -0.4370752  0.34025534 -0.2300776  0.61993232\n",
              "Illiteracy  0.10762237 -0.4370752  1.0000000 -0.58847793  0.7029752 -0.65718861\n",
              "Life Exp   -0.06805195  0.3402553 -0.5884779  1.00000000 -0.7808458  0.58221620\n",
              "Murder      0.34364275 -0.2300776  0.7029752 -0.78084575  1.0000000 -0.48797102\n",
              "HS Grad    -0.09848975  0.6199323 -0.6571886  0.58221620 -0.4879710  1.00000000"
            ]
          },
          "metadata": {}
        }
      ]
    },
    {
      "cell_type": "code",
      "source": [
        "cor(states, method=\"spearman\") # коэффициенты ранговой корреляции Спирмена"
      ],
      "metadata": {
        "id": "BTrDp5hs6KrK",
        "outputId": "708032ee-a8c1-4df2-a9f2-3ce28ca81caf",
        "colab": {
          "base_uri": "https://localhost:8080/",
          "height": 255
        }
      },
      "execution_count": null,
      "outputs": [
        {
          "output_type": "display_data",
          "data": {
            "text/html": [
              "<table class=\"dataframe\">\n",
              "<caption>A matrix: 6 × 6 of type dbl</caption>\n",
              "<thead>\n",
              "\t<tr><th></th><th scope=col>Population</th><th scope=col>Income</th><th scope=col>Illiteracy</th><th scope=col>Life Exp</th><th scope=col>Murder</th><th scope=col>HS Grad</th></tr>\n",
              "</thead>\n",
              "<tbody>\n",
              "\t<tr><th scope=row>Population</th><td> 1.0000000</td><td> 0.1246098</td><td> 0.3130496</td><td>-0.1040171</td><td> 0.3457401</td><td>-0.3833649</td></tr>\n",
              "\t<tr><th scope=row>Income</th><td> 0.1246098</td><td> 1.0000000</td><td>-0.3145948</td><td> 0.3241050</td><td>-0.2174623</td><td> 0.5104809</td></tr>\n",
              "\t<tr><th scope=row>Illiteracy</th><td> 0.3130496</td><td>-0.3145948</td><td> 1.0000000</td><td>-0.5553735</td><td> 0.6723592</td><td>-0.6545396</td></tr>\n",
              "\t<tr><th scope=row>Life Exp</th><td>-0.1040171</td><td> 0.3241050</td><td>-0.5553735</td><td> 1.0000000</td><td>-0.7802406</td><td> 0.5239410</td></tr>\n",
              "\t<tr><th scope=row>Murder</th><td> 0.3457401</td><td>-0.2174623</td><td> 0.6723592</td><td>-0.7802406</td><td> 1.0000000</td><td>-0.4367330</td></tr>\n",
              "\t<tr><th scope=row>HS Grad</th><td>-0.3833649</td><td> 0.5104809</td><td>-0.6545396</td><td> 0.5239410</td><td>-0.4367330</td><td> 1.0000000</td></tr>\n",
              "</tbody>\n",
              "</table>\n"
            ],
            "text/markdown": "\nA matrix: 6 × 6 of type dbl\n\n| <!--/--> | Population | Income | Illiteracy | Life Exp | Murder | HS Grad |\n|---|---|---|---|---|---|---|\n| Population |  1.0000000 |  0.1246098 |  0.3130496 | -0.1040171 |  0.3457401 | -0.3833649 |\n| Income |  0.1246098 |  1.0000000 | -0.3145948 |  0.3241050 | -0.2174623 |  0.5104809 |\n| Illiteracy |  0.3130496 | -0.3145948 |  1.0000000 | -0.5553735 |  0.6723592 | -0.6545396 |\n| Life Exp | -0.1040171 |  0.3241050 | -0.5553735 |  1.0000000 | -0.7802406 |  0.5239410 |\n| Murder |  0.3457401 | -0.2174623 |  0.6723592 | -0.7802406 |  1.0000000 | -0.4367330 |\n| HS Grad | -0.3833649 |  0.5104809 | -0.6545396 |  0.5239410 | -0.4367330 |  1.0000000 |\n\n",
            "text/latex": "A matrix: 6 × 6 of type dbl\n\\begin{tabular}{r|llllll}\n  & Population & Income & Illiteracy & Life Exp & Murder & HS Grad\\\\\n\\hline\n\tPopulation &  1.0000000 &  0.1246098 &  0.3130496 & -0.1040171 &  0.3457401 & -0.3833649\\\\\n\tIncome &  0.1246098 &  1.0000000 & -0.3145948 &  0.3241050 & -0.2174623 &  0.5104809\\\\\n\tIlliteracy &  0.3130496 & -0.3145948 &  1.0000000 & -0.5553735 &  0.6723592 & -0.6545396\\\\\n\tLife Exp & -0.1040171 &  0.3241050 & -0.5553735 &  1.0000000 & -0.7802406 &  0.5239410\\\\\n\tMurder &  0.3457401 & -0.2174623 &  0.6723592 & -0.7802406 &  1.0000000 & -0.4367330\\\\\n\tHS Grad & -0.3833649 &  0.5104809 & -0.6545396 &  0.5239410 & -0.4367330 &  1.0000000\\\\\n\\end{tabular}\n",
            "text/plain": [
              "           Population Income     Illiteracy Life Exp   Murder     HS Grad   \n",
              "Population  1.0000000  0.1246098  0.3130496 -0.1040171  0.3457401 -0.3833649\n",
              "Income      0.1246098  1.0000000 -0.3145948  0.3241050 -0.2174623  0.5104809\n",
              "Illiteracy  0.3130496 -0.3145948  1.0000000 -0.5553735  0.6723592 -0.6545396\n",
              "Life Exp   -0.1040171  0.3241050 -0.5553735  1.0000000 -0.7802406  0.5239410\n",
              "Murder      0.3457401 -0.2174623  0.6723592 -0.7802406  1.0000000 -0.4367330\n",
              "HS Grad    -0.3833649  0.5104809 -0.6545396  0.5239410 -0.4367330  1.0000000"
            ]
          },
          "metadata": {}
        }
      ]
    },
    {
      "cell_type": "markdown",
      "source": [
        "Судя по полученным результатам, например, между средним доходом и долей людей со средним образованием существует сильная положительная\n",
        "корреляция, а между средней продолжительностью жизни и долей неграмотного населения – сильная отрицательная корреляция.\n",
        "\n",
        "Обратите внимание на то, что по умолчанию получается квадратная таблица (выводятся все комбинации всех переменных со\n",
        "всеми). Но при желании можно вывести прямоугольную таблицу,\n",
        "как показано в следующем примере:"
      ],
      "metadata": {
        "id": "CLI9ScF27Pqk"
      }
    },
    {
      "cell_type": "code",
      "source": [
        "x <- states[,c(\"Population\", \"Income\", \"Illiteracy\", \"HS Grad\")]\n",
        "y <- states[,c(\"Life Exp\", \"Murder\")]\n",
        "cor(x,y)"
      ],
      "metadata": {
        "id": "SQmpzvUOOFKR",
        "outputId": "8e379bb2-e47e-40ef-fca0-d44b599da89a",
        "colab": {
          "base_uri": "https://localhost:8080/",
          "height": 192
        }
      },
      "execution_count": null,
      "outputs": [
        {
          "output_type": "display_data",
          "data": {
            "text/html": [
              "<table class=\"dataframe\">\n",
              "<caption>A matrix: 4 × 2 of type dbl</caption>\n",
              "<thead>\n",
              "\t<tr><th></th><th scope=col>Life Exp</th><th scope=col>Murder</th></tr>\n",
              "</thead>\n",
              "<tbody>\n",
              "\t<tr><th scope=row>Population</th><td>-0.06805195</td><td> 0.3436428</td></tr>\n",
              "\t<tr><th scope=row>Income</th><td> 0.34025534</td><td>-0.2300776</td></tr>\n",
              "\t<tr><th scope=row>Illiteracy</th><td>-0.58847793</td><td> 0.7029752</td></tr>\n",
              "\t<tr><th scope=row>HS Grad</th><td> 0.58221620</td><td>-0.4879710</td></tr>\n",
              "</tbody>\n",
              "</table>\n"
            ],
            "text/markdown": "\nA matrix: 4 × 2 of type dbl\n\n| <!--/--> | Life Exp | Murder |\n|---|---|---|\n| Population | -0.06805195 |  0.3436428 |\n| Income |  0.34025534 | -0.2300776 |\n| Illiteracy | -0.58847793 |  0.7029752 |\n| HS Grad |  0.58221620 | -0.4879710 |\n\n",
            "text/latex": "A matrix: 4 × 2 of type dbl\n\\begin{tabular}{r|ll}\n  & Life Exp & Murder\\\\\n\\hline\n\tPopulation & -0.06805195 &  0.3436428\\\\\n\tIncome &  0.34025534 & -0.2300776\\\\\n\tIlliteracy & -0.58847793 &  0.7029752\\\\\n\tHS Grad &  0.58221620 & -0.4879710\\\\\n\\end{tabular}\n",
            "text/plain": [
              "           Life Exp    Murder    \n",
              "Population -0.06805195  0.3436428\n",
              "Income      0.34025534 -0.2300776\n",
              "Illiteracy -0.58847793  0.7029752\n",
              "HS Grad     0.58221620 -0.4879710"
            ]
          },
          "metadata": {}
        }
      ]
    },
    {
      "cell_type": "markdown",
      "source": [
        "Этот способ применения функции `cor()` может пригодиться в случаях, когда требуется определить наличие связи между двумя наборами переменных. Учтите, что эти результаты не позволяют узнать, отличаются ли достоверно коэффициенты корреляции от нуля (иными словами, можно ли на основании имеющейся выборки уверенно утверждать, что коэффициент корреляции для генеральной совокупности отличается от нуля). Для этого нужно использовать критерии, описанные в разделе 7.3.2.(Проверка статистической значимости корреляций).\n"
      ],
      "metadata": {
        "id": "AICvt1A6pv46"
      }
    },
    {
      "cell_type": "markdown",
      "source": [
        "#### Частные корреляции\n",
        "Частная корреляция – это корреляция между двумя количественными переменными, зависящими, в свою очередь, от одной или более других количественных переменных. Для вычисления коэффициентов частной корреляции можно использовать функцию `pcor()` из пакета `ggm`. Этот пакет не входит в состав дистрибутива R, и его следует устанавливать отдельно. Функция `pcor()` имеет следующий синтаксис:\n",
        "```\n",
        "pcor(u, S)\n",
        "```\n",
        "где u – числовой вектор, где первые два числа определяют номера переменных, для которых нужно вычислить коэффициент корреляции, а остальные числа – номера «влияющих» переменных (воздействие которых должно быть отделено). S – это ковариационная матрица для всех этих переменных. Проиллюстрируем применение этой функции на примере:"
      ],
      "metadata": {
        "id": "IipVQ7bc1TjF"
      }
    },
    {
      "cell_type": "code",
      "source": [
        "install.packages(\"BiocManager\")\n",
        "BiocManager::install(\"graph\")\n",
        "\n",
        "install.packages(\"ggm\")\n",
        "library(ggm)"
      ],
      "metadata": {
        "id": "_4IBUIEjMW8Z",
        "outputId": "9f7c65d4-6de8-47f6-ea26-13d1e3aa5ef2",
        "colab": {
          "base_uri": "https://localhost:8080/"
        }
      },
      "execution_count": null,
      "outputs": [
        {
          "output_type": "stream",
          "name": "stderr",
          "text": [
            "Installing package into ‘/usr/local/lib/R/site-library’\n",
            "(as ‘lib’ is unspecified)\n",
            "\n",
            "'getOption(\"repos\")' replaces Bioconductor standard repositories, see\n",
            "'help(\"repositories\", package = \"BiocManager\")' for details.\n",
            "Replacement repositories:\n",
            "    CRAN: https://cran.rstudio.com\n",
            "\n",
            "Bioconductor version 3.19 (BiocManager 1.30.23), R 4.4.1 (2024-06-14)\n",
            "\n",
            "Installing package(s) 'BiocVersion', 'graph'\n",
            "\n",
            "also installing the dependency ‘BiocGenerics’\n",
            "\n",
            "\n",
            "Old packages: 'backports', 'bit', 'brio', 'broom', 'bslib', 'cachem', 'callr',\n",
            "  'cli', 'crayon', 'curl', 'data.table', 'DBI', 'dbplyr', 'devtools', 'digest',\n",
            "  'evaluate', 'farver', 'fastmap', 'fs', 'gargle', 'ggplot2', 'gh', 'gtable',\n",
            "  'highr', 'htmltools', 'httr2', 'isoband', 'knitr', 'munsell', 'openssl',\n",
            "  'pkgbuild', 'pkgload', 'processx', 'ragg', 'remotes', 'rlang', 'rmarkdown',\n",
            "  'roxygen2', 'rstudioapi', 'rvest', 'sass', 'stringi', 'systemfonts',\n",
            "  'testthat', 'textshaping', 'tidyselect', 'tinytex', 'usethis', 'whisker',\n",
            "  'xfun', 'xopen', 'zip', 'codetools', 'foreign', 'lattice', 'MASS', 'Matrix'\n",
            "\n",
            "Installing package into ‘/usr/local/lib/R/site-library’\n",
            "(as ‘lib’ is unspecified)\n",
            "\n",
            "also installing the dependency ‘igraph’\n",
            "\n",
            "\n",
            "\n",
            "Attaching package: ‘ggm’\n",
            "\n",
            "\n",
            "The following object is masked from ‘package:Hmisc’:\n",
            "\n",
            "    rcorr\n",
            "\n",
            "\n"
          ]
        }
      ]
    },
    {
      "cell_type": "code",
      "source": [
        "pcor(c(1,5,2,3,6), cov(states))"
      ],
      "metadata": {
        "id": "cy5ztjgw13oQ",
        "outputId": "65b567e7-9511-44a2-91d9-bd502714d3e2",
        "colab": {
          "base_uri": "https://localhost:8080/",
          "height": 34
        }
      },
      "execution_count": null,
      "outputs": [
        {
          "output_type": "display_data",
          "data": {
            "text/html": [
              "0.346272371372947"
            ],
            "text/markdown": "0.346272371372947",
            "text/latex": "0.346272371372947",
            "text/plain": [
              "[1] 0.3462724"
            ]
          },
          "metadata": {}
        }
      ]
    },
    {
      "cell_type": "markdown",
      "source": [
        "В данном случае 0.346272371372947 – это коэффициент корреляции между численностью населения и уровнем преступности после исключения влияния величины дохода и долей неграмотного населения и людей со средним образованием (переменные 2, 3 и 6 соответственно). Частные корреляции обычно используются в социологии."
      ],
      "metadata": {
        "id": "pNmc4Ir1MtdB"
      }
    },
    {
      "cell_type": "markdown",
      "source": [
        "#### Другие виды корреляций\n",
        "Функция `hetcor()` из пакета `polycor` позволяет вычислить комбинированную корреляционную матрицу, содержащую коэффициенты\n",
        "корреляции Пирсона для числовых переменных, многорядные корреляции между числовыми и порядковыми переменными, полихорические корреляции между порядковыми переменными и тетрахорические корреляции между двумя дихотомическими переменными. Многорядные, полихорические и тетрахорические корреляции могут вычисляться для порядковых и дихотомических переменных, подчиняющихся нормальному распределению.\n",
        "Дополнительную информацию об этих видах корреляций можно найти в справке пакета."
      ],
      "metadata": {
        "id": "bks_FVg2NNX6"
      }
    },
    {
      "cell_type": "markdown",
      "source": [
        "### Проверка статистической значимости корреляций\n",
        "Как проверить статистическую значимость вычисленных коэффициентов корреляции? Стандартная нулевая гипотеза – отсутствие связи (то есть коэффициент корреляции для генеральной совокупности равен нулю). Для проверки значимости отдельных коэффициентов корреляции Пирсона, Спирмена и Кенделла можно использовать функцию cor.test(). Она имеет следующий синтаксис:\n",
        "```\n",
        "cor.test(x, y, alternative = , method = )\n",
        "```\n",
        "где x и y – это переменные, корреляция между которыми исследуется, параметр alternative определяет тип проверки критерия (\"two.side\", \"less\" или \"greater\"), параметр method определяет тип критерия (\"pearson\", \"kendall\" или \"spearman\"). Параметр alternative=\"less\" проверяет гипотезу о том, что в генеральной совокупности коэффициент корреляции меньше нуля, а параметр alternative=\"greater\" – что он больше нуля. По умолчанию используется тип проверки alternative=\"two.side\" (проверяется гипотеза о том, что коэффициент корреляции в генеральной совокупности не равен нулю). Пример использования cor.test() ниже:"
      ],
      "metadata": {
        "id": "BpHu3ADSNoJy"
      }
    },
    {
      "cell_type": "code",
      "source": [
        "cor.test(states[,3], states[,5])"
      ],
      "metadata": {
        "id": "iFr9fbP1ONqB",
        "outputId": "1bc5e8d6-662f-4b77-e91a-2ce3de3e1273",
        "colab": {
          "base_uri": "https://localhost:8080/",
          "height": 208
        }
      },
      "execution_count": null,
      "outputs": [
        {
          "output_type": "display_data",
          "data": {
            "text/plain": [
              "\n",
              "\tPearson's product-moment correlation\n",
              "\n",
              "data:  states[, 3] and states[, 5]\n",
              "t = 6.8479, df = 48, p-value = 1.258e-08\n",
              "alternative hypothesis: true correlation is not equal to 0\n",
              "95 percent confidence interval:\n",
              " 0.5279280 0.8207295\n",
              "sample estimates:\n",
              "      cor \n",
              "0.7029752 \n"
            ]
          },
          "metadata": {}
        }
      ]
    },
    {
      "cell_type": "markdown",
      "source": [
        "Здесь проверяется нулевая гипотеза о том, что коэффициент корреляции Пирсона между средней продолжительностью жизни и уровнем преступности равен нулю. Если в генеральной совокупности этот коэффициент равен нулю, то его значение для случайной выборки будет превышать 0,703 реже, чем в одном случае из 10 млн (это и означает p-value = 1.258e–08). Учитывая, насколько мала вероятность, можно отвергнуть нулевую гипотезу и принять альтернативную – о том, что значение этого коэффициента для генеральной совокупности не равно нулю.\n",
        "\n",
        "К сожалению, при помощи функции `cor.test()` одновременно можно проверить значимость только одного коэффициента корреляции. Зато в пакете `psych` есть функция `corr.test()`, которая позволяет сделать больше. С ее помощью можно вычислить коэффициенты корреляции Пирсона, Спирмена и Кенделла между несколькими переменными и оценить их значимость, как показано в листинге:"
      ],
      "metadata": {
        "id": "-3l3uKBhQFib"
      }
    },
    {
      "cell_type": "code",
      "source": [
        "library(psych)\n",
        "corr.test(states, use=\"complete\")"
      ],
      "metadata": {
        "id": "SieHHIstQiDa",
        "outputId": "86572775-bb68-451e-f81c-851bcefa0cfb",
        "colab": {
          "base_uri": "https://localhost:8080/",
          "height": 381
        }
      },
      "execution_count": null,
      "outputs": [
        {
          "output_type": "display_data",
          "data": {
            "text/plain": [
              "Call:corr.test(x = states, use = \"complete\")\n",
              "Correlation matrix \n",
              "           Population Income Illiteracy Life Exp Murder HS Grad\n",
              "Population       1.00   0.21       0.11    -0.07   0.34   -0.10\n",
              "Income           0.21   1.00      -0.44     0.34  -0.23    0.62\n",
              "Illiteracy       0.11  -0.44       1.00    -0.59   0.70   -0.66\n",
              "Life Exp        -0.07   0.34      -0.59     1.00  -0.78    0.58\n",
              "Murder           0.34  -0.23       0.70    -0.78   1.00   -0.49\n",
              "HS Grad         -0.10   0.62      -0.66     0.58  -0.49    1.00\n",
              "Sample Size \n",
              "[1] 50\n",
              "Probability values (Entries above the diagonal are adjusted for multiple tests.) \n",
              "           Population Income Illiteracy Life Exp Murder HS Grad\n",
              "Population       0.00   0.59       1.00      1.0   0.10       1\n",
              "Income           0.15   0.00       0.01      0.1   0.54       0\n",
              "Illiteracy       0.46   0.00       0.00      0.0   0.00       0\n",
              "Life Exp         0.64   0.02       0.00      0.0   0.00       0\n",
              "Murder           0.01   0.11       0.00      0.0   0.00       0\n",
              "HS Grad          0.50   0.00       0.00      0.0   0.00       0\n",
              "\n",
              " To see confidence intervals of the correlations, print with the short=FALSE option"
            ]
          },
          "metadata": {}
        }
      ]
    },
    {
      "cell_type": "markdown",
      "source": [
        "Параметр `use=` может принимать значения \"pairwise\" и \"complete\" (для попарного или построчного удаления пропущенных значений соответственно). Параметр `method=` может принимать значения \"pearson\" (по умолчанию), \"spearman\" и \"kendall\". Из приведенного примера видно, что коэффициент корреляции между неграмотностью и ожидаемой продолжительностью жизни (–0.59) значимо отличается от нуля (p = 0.00), откуда можно сделать вывод, что с ростом неграмотности снижается продолжительность жизни. Однако коэффициент корреляции между численно-\n",
        "стью населения и долей людей со средним образованием (–0.10) не отличается значимо от нуля (p = 0.5)."
      ],
      "metadata": {
        "id": "QzMh6ML1Q2qQ"
      }
    },
    {
      "cell_type": "markdown",
      "source": [
        "#### Другие критерии статистической значимости\n",
        "В разделе выше мы обсуждали частные корреляции. Отсутствие зависимости между двумя переменными при исключении влияния других переменных можно проверить при помощи функции `pcor.test()` из пакета `psych`, при условии что значения всех этих переменных распределены нормально. Эта функция имеет следующий синтаксис:\n",
        "```\n",
        "pcor.test(r, q, n)\n",
        "```\n",
        "где r – частная корреляция, вычисленная при помощи функции pcor(), q – число переменных, влияние которых исключается, n – объем выборки.\n",
        "\n",
        "Прежде чем закончить обсуждение этой темы, я должен упомянуть функцию r.test() из пакета psych, которая позволяет вычислить несколько критериев статистической значимости. Эту функцию можно использовать для проверки значимости:\n",
        "* коэффициента корреляции;\n",
        "* различий между двумя независимыми корреляциями;\n",
        "* различий между двумя зависимыми корреляциями, имеющими одну общую переменную;\n",
        "* различий между двумя зависимыми корреляциями разных пар переменных.\n",
        "\n",
        "Подробности ищите в справке help(r.test)."
      ],
      "metadata": {
        "id": "l39Z1U1CRNKI"
      }
    },
    {
      "cell_type": "markdown",
      "source": [
        "### Визуализация корреляций\n",
        "Корреляции между парами переменных можно визуализировать при помощи диаграмм рассеяния и составленных из них матриц. Коррелограммы – это непревзойденный и действенный метод сравнения большого числа коэффициентов корреляции в легко интерпретируемой форме. Оба этих подхода мы рассмотрим в главе 11."
      ],
      "metadata": {
        "id": "XYd0rub2SPFt"
      }
    },
    {
      "cell_type": "markdown",
      "source": [
        "## Критерий Стьюдента\n",
        "Очень часто исследователям приходится сравнивать две группы объектов. И отвечать на такие вопросы: верно ли, что больные, получающие новое лекарство, показывают лучшую динамику выздоровления, чем пациенты, которых лечат старым способом? Верно ли, что одна технология производства характеризуется меньшим процентом брака, чем другая? Какой из методов преподавания эффективнее по отношению цена/качество? Если результат выражен в виде категориальной переменной, можно использовать методы, описанные в разделе 7.3. Здесь мы сосредоточимся на сравнении групп по значениям непрерывной переменной, распределенным нормально.\n",
        "\n",
        "Для иллюстрации используем набор данных UScrime, входящий в пакет MASS. Эти данные содержат информацию о влиянии карательного законодательства на уровень преступности в 47 штатах США в 1960 году. Мы исследуем переменные Prob (вероятность угодить в тюрьму), U1 (уровень безработицы для городских жителей мужского пола в возрасте от 14 до 24 лет) и U2 (этот же показатель для мужчин в возрасте 35–39 лет). Категориальная переменная So (признак принадлежности штата к группе южных штатов) будет использована в качестве группирующей. Данные были масштабированы авторами исследования. (Приступая к работе над этим разделом, я хотел назвать его «Преступление и наказание на Далеком Юге», но благоразумие взяло верх).\n",
        "\n",
        "\n",
        "\n",
        "> Далекий Юг (Deep South) – традиционное название южных штатов, связанное с особым укладом жизни и традициями населения.\n",
        "\n"
      ],
      "metadata": {
        "id": "DPYyffxISlL8"
      }
    },
    {
      "cell_type": "markdown",
      "source": [
        "### Критерий Стьюдента для независимых выборок\n",
        "Верно ли, что вероятность оказаться в тюрьме после совершения преступления выше в южных штатах? Чтобы ответить на этот вопрос, нужно сравнить вероятность лишения свободы в южных штатах и в остальных. Для проверки гипотезы о равенстве двух средних значений можно использовать критерий Стьюдента для независимых выборок. В данном случае подразумевается, что эти две группы не зависят друг от друга и данные происходят из нормальных распределений. Функция `t.test()` поддерживает\n",
        "два синтаксиса:\n",
        "```\n",
        "t.test(y ~ x, data)\n",
        "```\n",
        "где y – числовая переменная, а x – дихотомическая, или:\n",
        "```\n",
        "t.test(y1, y2)\n",
        "```\n",
        "где y1 и y2 – это числовые векторы (анализируемые значения для каждой из групп). Необязательный аргумент data – это матрица или таблица данных, в которой содержатся данные. В отличие от большинства статистических программ, в R по умолчанию не подразумевается равенство дисперсий и используется трансформация степеней свободы Уэлча (Welch degrees of freedom modification). Указать на равенство дисперсий можно, добавив параметр var.equal=TRUE. По умолчанию используется двухсторонняя альтернативная гипотеза (о том, что средние значения различаются, но не важно, в какую сторону). Также можно использовать\n",
        "параметр alternative=\"less\" или alternative=\"greater\", чтобы проверить значимость различий в определенном направлении.\n",
        "\n",
        "Следующий код сравнивает вероятность попасть в тюрьму в южных (группа 1) и остальных (группа 0) штатах при помощи двухстороннего критерия, не предполагая равенства дисперсий:"
      ],
      "metadata": {
        "id": "s5yrPsxfTONI"
      }
    },
    {
      "cell_type": "code",
      "source": [
        "install.packages(\"BiocManager\")\n",
        "library(MASS)\n",
        "t.test(Prob ~ So, data=UScrime)"
      ],
      "metadata": {
        "id": "2SlUkchWUPYA",
        "outputId": "7b714022-53fa-4198-e6d2-be3e7aa660bf",
        "colab": {
          "base_uri": "https://localhost:8080/",
          "height": 416
        }
      },
      "execution_count": null,
      "outputs": [
        {
          "output_type": "stream",
          "name": "stderr",
          "text": [
            "Installing package into ‘/usr/local/lib/R/site-library’\n",
            "(as ‘lib’ is unspecified)\n",
            "\n",
            "\n",
            "Attaching package: ‘MASS’\n",
            "\n",
            "\n",
            "The following object is masked from ‘package:dplyr’:\n",
            "\n",
            "    select\n",
            "\n",
            "\n"
          ]
        },
        {
          "output_type": "display_data",
          "data": {
            "text/plain": [
              "\n",
              "\tWelch Two Sample t-test\n",
              "\n",
              "data:  Prob by So\n",
              "t = -3.8954, df = 24.925, p-value = 0.0006506\n",
              "alternative hypothesis: true difference in means between group 0 and group 1 is not equal to 0\n",
              "95 percent confidence interval:\n",
              " -0.03852569 -0.01187439\n",
              "sample estimates:\n",
              "mean in group 0 mean in group 1 \n",
              "     0.03851265      0.06371269 \n"
            ]
          },
          "metadata": {}
        }
      ]
    },
    {
      "cell_type": "markdown",
      "source": [
        "Согласно этому критерию (p < 0.001), можно отвергнуть гипотезу о равенстве шансов попасть в тюрьму в южных и остальных штатах.\n",
        "\n",
        ">ПРИМЕЧАНИЕ. Поскольку исследуемая переменная выражена в долях единицы, перед вычислением критерия Стьюдента можно попробовать привести ее к нормальному распределению. В данном случае все разумные преобразования этой переменной (Y/1-Y, log(Y/1-Y), arcsin(Y) и arcsin(sqrt(Y))) приведут к одному и тому же результату. Преобразования переменных подробно обсуждаются в главе 8."
      ],
      "metadata": {
        "id": "hUTO6VNXUoGO"
      }
    },
    {
      "cell_type": "markdown",
      "source": [
        "### Критерий Стьюдента для зависимых выборок\n",
        "В качестве второго примера можно узнать, верно ли, что уровень безработицы у юношей (14–24 года) выше, чем у мужчин (35–39 лет). В данном случае эти две группы не независимы. Вы ведь не станете ожидать, что уровень безработицы у юношей и у мужчин в Алабаме – независимые величины? Когда данные для двух групп связаны между собой, следует вычислять критерий в предположении зависимости переменных. Это же относится и к результатам повторных измерений или к измерениям одного и того же объекта, проведенным до и после какого-либо воздействия. Подразумевается, что разность значений для двух групп имеет нормальное распределение. В данном случае синтаксис вызова\n",
        "функции `t.test()` имеет следующий вид:\n",
        "```\n",
        "t.test(y1, y2, paired=TRUE)\n",
        "```\n",
        "где y1 и y2 – это числовые векторы, представляющие две зависимые группы. Результаты вычисления критерия выглядят следующим образом:"
      ],
      "metadata": {
        "id": "d8X-Yamnn-8G"
      }
    },
    {
      "cell_type": "code",
      "source": [
        "sapply(UScrime[c(\"U1\",\"U2\")], function(x)(c(mean=mean(x),sd=sd(x))))"
      ],
      "metadata": {
        "id": "cXnM0yxN1ZWQ",
        "outputId": "6fde6d4f-d8ad-459c-908f-66558e22b97a",
        "colab": {
          "base_uri": "https://localhost:8080/",
          "height": 129
        }
      },
      "execution_count": null,
      "outputs": [
        {
          "output_type": "display_data",
          "data": {
            "text/html": [
              "<table class=\"dataframe\">\n",
              "<caption>A matrix: 2 × 2 of type dbl</caption>\n",
              "<thead>\n",
              "\t<tr><th></th><th scope=col>U1</th><th scope=col>U2</th></tr>\n",
              "</thead>\n",
              "<tbody>\n",
              "\t<tr><th scope=row>mean</th><td>95.46809</td><td>33.97872</td></tr>\n",
              "\t<tr><th scope=row>sd</th><td>18.02878</td><td> 8.44545</td></tr>\n",
              "</tbody>\n",
              "</table>\n"
            ],
            "text/markdown": "\nA matrix: 2 × 2 of type dbl\n\n| <!--/--> | U1 | U2 |\n|---|---|---|\n| mean | 95.46809 | 33.97872 |\n| sd | 18.02878 |  8.44545 |\n\n",
            "text/latex": "A matrix: 2 × 2 of type dbl\n\\begin{tabular}{r|ll}\n  & U1 & U2\\\\\n\\hline\n\tmean & 95.46809 & 33.97872\\\\\n\tsd & 18.02878 &  8.44545\\\\\n\\end{tabular}\n",
            "text/plain": [
              "     U1       U2      \n",
              "mean 95.46809 33.97872\n",
              "sd   18.02878  8.44545"
            ]
          },
          "metadata": {}
        }
      ]
    },
    {
      "cell_type": "code",
      "source": [
        "with(UScrime, t.test(U1, U2, paired=TRUE))"
      ],
      "metadata": {
        "id": "WrYRXXq11mM0",
        "outputId": "981196cc-e286-47b3-8cd7-24d13e52ecbd",
        "colab": {
          "base_uri": "https://localhost:8080/",
          "height": 208
        }
      },
      "execution_count": null,
      "outputs": [
        {
          "output_type": "display_data",
          "data": {
            "text/plain": [
              "\n",
              "\tPaired t-test\n",
              "\n",
              "data:  U1 and U2\n",
              "t = 32.407, df = 46, p-value < 2.2e-16\n",
              "alternative hypothesis: true mean difference is not equal to 0\n",
              "95 percent confidence interval:\n",
              " 57.67003 65.30870\n",
              "sample estimates:\n",
              "mean difference \n",
              "       61.48936 \n"
            ]
          },
          "metadata": {}
        }
      ]
    },
    {
      "cell_type": "markdown",
      "source": [
        "Разность средних (61.5) достаточно велика, чтобы отклонить гипотезу о равенстве уровня безработицы для юношей и мужчин (у юношей она выше). В самом деле, вероятность получить такое значение разности средних для выборок, в то время как они будут равны в генеральных совокупностях, меньше 0.00000000000000022 (т. е. 2.2e–16)."
      ],
      "metadata": {
        "id": "cmQ8uK3v101I"
      }
    },
    {
      "cell_type": "markdown",
      "source": [
        "### Когда имеется больше двух групп\n",
        "Что делать, если понадобится одновременно сравнить больше двух групп? Если предположить, что эти группы независимы и подчиняются закону нормального распределения, то можно использовать дисперсионный анализ (ANOVA). Это сложный подход, который можно применять для анализа разных типов экспериментов и квазиэкспериментов, поэтому он заслуживает отдельной главы. Вы можете спокойно прервать чтение данного раздела в любом месте и перейти к главе 9."
      ],
      "metadata": {
        "id": "yCcoC7cL18cC"
      }
    },
    {
      "cell_type": "markdown",
      "source": [
        "## Непараметрические критерии межгрупповых различий\n",
        "Если ваши данные не удовлетворяют условиям применения таких параметрических методов, как критерий Стьюдента или ANOVA, можно обратиться к непараметрическим методам. Описанные в этом разделе методы можно использовать, например, если исследуемые переменные порядковые или их распределение сильно отличается от нормального."
      ],
      "metadata": {
        "id": "W_aEJkZU8bnP"
      }
    },
    {
      "cell_type": "markdown",
      "source": [
        "### Сравнение двух групп\n",
        "Если две группы независимы, можно использовать критерий Вилкоксона ранговых сумм, более известный как критерий МаннаУитни (Mann-Whitney U test), чтобы узнать, принадлежат ли наблюдения одному и тому же распределению вероятностей (иными словами, действительно ли вероятность получить более высокие значения выше в одной выборке, чем в другой). Эта функция имеет следующий синтаксис:\n",
        "```\n",
        "wilcox.test(y ~ x, data)\n",
        "```\n",
        "где y – числовая переменная, а x – дихотомическая, или такой:\n",
        "```\n",
        "wilcox.test(y1, y2)\n",
        "```\n",
        "где y1 и y2 – исследуемые переменные, представляющие группы.\n",
        "\n",
        "Необязательный аргумент data определяет матрицу или таблицу данных, содержащую исследуемые переменные. По умолчанию вычисляется двухсторонний критерий, однако можно добавить параметр exact, чтобы вычислить точный критерий (exact test), и параметр alternative=\"less\" или alternative=\"greater\", чтобы проверить соответствующую одностороннюю гипотезу. Если применить критерий Манна–Уитни для ответа на вопрос о вероятности попадания в тюрьму, обсуждаемый в предыдущем\n",
        "разделе, получится следующий результат:\n"
      ],
      "metadata": {
        "id": "pTyHogZQ8_Y3"
      }
    },
    {
      "cell_type": "code",
      "source": [
        "with(UScrime, by(Prob, So, median))"
      ],
      "metadata": {
        "id": "I6fS2MO49mYO",
        "outputId": "0315c1dd-e26e-40fa-8d13-eb9df4c20b7b",
        "colab": {
          "base_uri": "https://localhost:8080/",
          "height": 104
        }
      },
      "execution_count": null,
      "outputs": [
        {
          "output_type": "display_data",
          "data": {
            "text/plain": [
              "So: 0\n",
              "[1] 0.038201\n",
              "------------------------------------------------------------ \n",
              "So: 1\n",
              "[1] 0.055552"
            ]
          },
          "metadata": {}
        }
      ]
    },
    {
      "cell_type": "code",
      "source": [
        "wilcox.test(Prob ~ So, data=UScrime)"
      ],
      "metadata": {
        "id": "TYa746_C93EK",
        "outputId": "aa1ed940-15f5-458b-f5c6-6b62fa25b93b",
        "colab": {
          "base_uri": "https://localhost:8080/",
          "height": 121
        }
      },
      "execution_count": null,
      "outputs": [
        {
          "output_type": "display_data",
          "data": {
            "text/plain": [
              "\n",
              "\tWilcoxon rank sum exact test\n",
              "\n",
              "data:  Prob by So\n",
              "W = 81, p-value = 8.488e-05\n",
              "alternative hypothesis: true location shift is not equal to 0\n"
            ]
          },
          "metadata": {}
        }
      ]
    },
    {
      "cell_type": "markdown",
      "source": [
        "И снова есть все основания отвергнуть гипотезу о равенстве вероятностей оказаться в тюрьме в южных и в других штатах (p < 0.01). Критерий Вилкоксона (Для зависимых выборок) – это непараметрическая альтернатива критерию Стьюдента для зависимых выборок. Его следует применять в случаях, когда имеет место зависимость между группами, распределение которых отличается от нормального. Синтаксис применения функции такой же, как и в предыдущем примере, нужно лишь добавить параметр `paired=TRUE`. Давайте применим этот критерий, чтобы ответить на вопрос о безработице из предыдущего раздела."
      ],
      "metadata": {
        "id": "zz035YwmkzDA"
      }
    },
    {
      "cell_type": "code",
      "source": [
        "sapply(UScrime[c(\"U1\",\"U2\")], median)"
      ],
      "metadata": {
        "id": "x4ohWb8dlETM",
        "outputId": "f06ea1a4-28dc-439e-ba68-33fb64c44942",
        "colab": {
          "base_uri": "https://localhost:8080/",
          "height": 34
        }
      },
      "execution_count": null,
      "outputs": [
        {
          "output_type": "display_data",
          "data": {
            "text/html": [
              "<style>\n",
              ".dl-inline {width: auto; margin:0; padding: 0}\n",
              ".dl-inline>dt, .dl-inline>dd {float: none; width: auto; display: inline-block}\n",
              ".dl-inline>dt::after {content: \":\\0020\"; padding-right: .5ex}\n",
              ".dl-inline>dt:not(:first-of-type) {padding-left: .5ex}\n",
              "</style><dl class=dl-inline><dt>U1</dt><dd>92</dd><dt>U2</dt><dd>34</dd></dl>\n"
            ],
            "text/markdown": "U1\n:   92U2\n:   34\n\n",
            "text/latex": "\\begin{description*}\n\\item[U1] 92\n\\item[U2] 34\n\\end{description*}\n",
            "text/plain": [
              "U1 U2 \n",
              "92 34 "
            ]
          },
          "metadata": {}
        }
      ]
    },
    {
      "cell_type": "code",
      "source": [
        "with(UScrime, wilcox.test(U1, U2, paired=TRUE))"
      ],
      "metadata": {
        "id": "MoouJfRNn6cg",
        "outputId": "1d4f0bb5-967a-45dd-aa23-533ee191b6da",
        "colab": {
          "base_uri": "https://localhost:8080/",
          "height": 156
        }
      },
      "execution_count": null,
      "outputs": [
        {
          "output_type": "stream",
          "name": "stderr",
          "text": [
            "Warning message in wilcox.test.default(U1, U2, paired = TRUE):\n",
            "“cannot compute exact p-value with ties”\n"
          ]
        },
        {
          "output_type": "display_data",
          "data": {
            "text/plain": [
              "\n",
              "\tWilcoxon signed rank test with continuity correction\n",
              "\n",
              "data:  U1 and U2\n",
              "V = 1128, p-value = 2.464e-09\n",
              "alternative hypothesis: true location shift is not equal to 0\n"
            ]
          },
          "metadata": {}
        }
      ]
    },
    {
      "cell_type": "markdown",
      "source": [
        "И снова мы приходим к тому же выводу, что и при использовании критерия Стьюдента для зависимых переменных. В данном случае параметрический критерий Стьюдента и его непараметрические аналоги дали одинаковые результаты. Когда условия применения критерия Стьюдента выполняются, параметрические критерии имеют большую мощность (большую вероятность обнаружить существующие различия) по сравнению с непараметрическими. Непараметрические критерии разумно применять, когда условия применения параметрических критериев существенно нарушаются (например, для порядковых переменных)."
      ],
      "metadata": {
        "id": "kTTEfI9Cn-PX"
      }
    },
    {
      "cell_type": "markdown",
      "source": [
        "### Сравнение более двух групп\n",
        "Когда нужно сравнить больше двух групп, приходится использовать другие методы. Вернемся к набору данных state.x77, представленному в разделе выше. Он содержит данные о численности населения, доходе, уровне неграмотности, средней продолжительности жизни, уровне преступности и доле людей со средним образованием в разных штатах Америки. Представьте, что вам понадобилось сравнить уровень неграмотности в четырех регионах страны (северо-восток – Northeast, юг – South, север – North Central и запад – West). Это называется **однофакторный дизайн** эксперимента, и для ответа на поставленный вопрос можно использовать как параметрические, так и непараметрические методы. Если данные не удовлетворяют требованиям ANOVA для оценки межгрупповых различий средних значений, то можно использовать непараметрические методы. Если группы независимы, лучше всего подойдет критерий Краскела–Уоллиса (Kruskal-Wallis test). Если группы зависимы (например, это результаты повторных измерений или данные эксперимента с блочным дизайном), то следует использовать критерий Фридмана (Friedman test). Синтаксис применения критерия Краскела–Уоллиса имеет следующий вид:\n",
        "```\n",
        "kruskal.test(y ~ A, data)\n",
        "```\n",
        "где y – это числовая переменная, A – группирующая переменная, принимающая два значения и более (в случае с двумя значениями этот критерий идентичен критерию Вилкоксона). Синтаксис применения критерия Фридмана имеет следующий вид:\n",
        "```\n",
        "friedman.test(y ~ A | B, data)\n",
        "```\n",
        "где y – числовая переменная, A – группирующая переменная, B –\n",
        "блочная переменная, идентифицирующая парные наблюдения. В обоих случаях data – это необязательный аргумент, матрица или таблица данных, содержащая исследуемые переменные.\n",
        "\n",
        "Давайте используем критерий Краскела–Уоллиса для ответа на вопрос об уровне неграмотности. Сначала добавим в набор данных информацию о региональной принадлежности штатов. Эта информация имеется в наборе данных state.region, входящем в дистрибутив R."
      ],
      "metadata": {
        "id": "eMYs2bxSoHlG"
      }
    },
    {
      "cell_type": "code",
      "source": [
        "states <- data.frame(state.region, state.x77)\n",
        "states"
      ],
      "metadata": {
        "id": "PtHFSgPcpTD1",
        "outputId": "d628a994-3a6b-420e-8a32-3296051c8236",
        "colab": {
          "base_uri": "https://localhost:8080/",
          "height": 1000
        }
      },
      "execution_count": null,
      "outputs": [
        {
          "output_type": "display_data",
          "data": {
            "text/html": [
              "<table class=\"dataframe\">\n",
              "<caption>A data.frame: 50 × 9</caption>\n",
              "<thead>\n",
              "\t<tr><th></th><th scope=col>state.region</th><th scope=col>Population</th><th scope=col>Income</th><th scope=col>Illiteracy</th><th scope=col>Life.Exp</th><th scope=col>Murder</th><th scope=col>HS.Grad</th><th scope=col>Frost</th><th scope=col>Area</th></tr>\n",
              "\t<tr><th></th><th scope=col>&lt;fct&gt;</th><th scope=col>&lt;dbl&gt;</th><th scope=col>&lt;dbl&gt;</th><th scope=col>&lt;dbl&gt;</th><th scope=col>&lt;dbl&gt;</th><th scope=col>&lt;dbl&gt;</th><th scope=col>&lt;dbl&gt;</th><th scope=col>&lt;dbl&gt;</th><th scope=col>&lt;dbl&gt;</th></tr>\n",
              "</thead>\n",
              "<tbody>\n",
              "\t<tr><th scope=row>Alabama</th><td>South        </td><td> 3615</td><td>3624</td><td>2.1</td><td>69.05</td><td>15.1</td><td>41.3</td><td> 20</td><td> 50708</td></tr>\n",
              "\t<tr><th scope=row>Alaska</th><td>West         </td><td>  365</td><td>6315</td><td>1.5</td><td>69.31</td><td>11.3</td><td>66.7</td><td>152</td><td>566432</td></tr>\n",
              "\t<tr><th scope=row>Arizona</th><td>West         </td><td> 2212</td><td>4530</td><td>1.8</td><td>70.55</td><td> 7.8</td><td>58.1</td><td> 15</td><td>113417</td></tr>\n",
              "\t<tr><th scope=row>Arkansas</th><td>South        </td><td> 2110</td><td>3378</td><td>1.9</td><td>70.66</td><td>10.1</td><td>39.9</td><td> 65</td><td> 51945</td></tr>\n",
              "\t<tr><th scope=row>California</th><td>West         </td><td>21198</td><td>5114</td><td>1.1</td><td>71.71</td><td>10.3</td><td>62.6</td><td> 20</td><td>156361</td></tr>\n",
              "\t<tr><th scope=row>Colorado</th><td>West         </td><td> 2541</td><td>4884</td><td>0.7</td><td>72.06</td><td> 6.8</td><td>63.9</td><td>166</td><td>103766</td></tr>\n",
              "\t<tr><th scope=row>Connecticut</th><td>Northeast    </td><td> 3100</td><td>5348</td><td>1.1</td><td>72.48</td><td> 3.1</td><td>56.0</td><td>139</td><td>  4862</td></tr>\n",
              "\t<tr><th scope=row>Delaware</th><td>South        </td><td>  579</td><td>4809</td><td>0.9</td><td>70.06</td><td> 6.2</td><td>54.6</td><td>103</td><td>  1982</td></tr>\n",
              "\t<tr><th scope=row>Florida</th><td>South        </td><td> 8277</td><td>4815</td><td>1.3</td><td>70.66</td><td>10.7</td><td>52.6</td><td> 11</td><td> 54090</td></tr>\n",
              "\t<tr><th scope=row>Georgia</th><td>South        </td><td> 4931</td><td>4091</td><td>2.0</td><td>68.54</td><td>13.9</td><td>40.6</td><td> 60</td><td> 58073</td></tr>\n",
              "\t<tr><th scope=row>Hawaii</th><td>West         </td><td>  868</td><td>4963</td><td>1.9</td><td>73.60</td><td> 6.2</td><td>61.9</td><td>  0</td><td>  6425</td></tr>\n",
              "\t<tr><th scope=row>Idaho</th><td>West         </td><td>  813</td><td>4119</td><td>0.6</td><td>71.87</td><td> 5.3</td><td>59.5</td><td>126</td><td> 82677</td></tr>\n",
              "\t<tr><th scope=row>Illinois</th><td>North Central</td><td>11197</td><td>5107</td><td>0.9</td><td>70.14</td><td>10.3</td><td>52.6</td><td>127</td><td> 55748</td></tr>\n",
              "\t<tr><th scope=row>Indiana</th><td>North Central</td><td> 5313</td><td>4458</td><td>0.7</td><td>70.88</td><td> 7.1</td><td>52.9</td><td>122</td><td> 36097</td></tr>\n",
              "\t<tr><th scope=row>Iowa</th><td>North Central</td><td> 2861</td><td>4628</td><td>0.5</td><td>72.56</td><td> 2.3</td><td>59.0</td><td>140</td><td> 55941</td></tr>\n",
              "\t<tr><th scope=row>Kansas</th><td>North Central</td><td> 2280</td><td>4669</td><td>0.6</td><td>72.58</td><td> 4.5</td><td>59.9</td><td>114</td><td> 81787</td></tr>\n",
              "\t<tr><th scope=row>Kentucky</th><td>South        </td><td> 3387</td><td>3712</td><td>1.6</td><td>70.10</td><td>10.6</td><td>38.5</td><td> 95</td><td> 39650</td></tr>\n",
              "\t<tr><th scope=row>Louisiana</th><td>South        </td><td> 3806</td><td>3545</td><td>2.8</td><td>68.76</td><td>13.2</td><td>42.2</td><td> 12</td><td> 44930</td></tr>\n",
              "\t<tr><th scope=row>Maine</th><td>Northeast    </td><td> 1058</td><td>3694</td><td>0.7</td><td>70.39</td><td> 2.7</td><td>54.7</td><td>161</td><td> 30920</td></tr>\n",
              "\t<tr><th scope=row>Maryland</th><td>South        </td><td> 4122</td><td>5299</td><td>0.9</td><td>70.22</td><td> 8.5</td><td>52.3</td><td>101</td><td>  9891</td></tr>\n",
              "\t<tr><th scope=row>Massachusetts</th><td>Northeast    </td><td> 5814</td><td>4755</td><td>1.1</td><td>71.83</td><td> 3.3</td><td>58.5</td><td>103</td><td>  7826</td></tr>\n",
              "\t<tr><th scope=row>Michigan</th><td>North Central</td><td> 9111</td><td>4751</td><td>0.9</td><td>70.63</td><td>11.1</td><td>52.8</td><td>125</td><td> 56817</td></tr>\n",
              "\t<tr><th scope=row>Minnesota</th><td>North Central</td><td> 3921</td><td>4675</td><td>0.6</td><td>72.96</td><td> 2.3</td><td>57.6</td><td>160</td><td> 79289</td></tr>\n",
              "\t<tr><th scope=row>Mississippi</th><td>South        </td><td> 2341</td><td>3098</td><td>2.4</td><td>68.09</td><td>12.5</td><td>41.0</td><td> 50</td><td> 47296</td></tr>\n",
              "\t<tr><th scope=row>Missouri</th><td>North Central</td><td> 4767</td><td>4254</td><td>0.8</td><td>70.69</td><td> 9.3</td><td>48.8</td><td>108</td><td> 68995</td></tr>\n",
              "\t<tr><th scope=row>Montana</th><td>West         </td><td>  746</td><td>4347</td><td>0.6</td><td>70.56</td><td> 5.0</td><td>59.2</td><td>155</td><td>145587</td></tr>\n",
              "\t<tr><th scope=row>Nebraska</th><td>North Central</td><td> 1544</td><td>4508</td><td>0.6</td><td>72.60</td><td> 2.9</td><td>59.3</td><td>139</td><td> 76483</td></tr>\n",
              "\t<tr><th scope=row>Nevada</th><td>West         </td><td>  590</td><td>5149</td><td>0.5</td><td>69.03</td><td>11.5</td><td>65.2</td><td>188</td><td>109889</td></tr>\n",
              "\t<tr><th scope=row>New Hampshire</th><td>Northeast    </td><td>  812</td><td>4281</td><td>0.7</td><td>71.23</td><td> 3.3</td><td>57.6</td><td>174</td><td>  9027</td></tr>\n",
              "\t<tr><th scope=row>New Jersey</th><td>Northeast    </td><td> 7333</td><td>5237</td><td>1.1</td><td>70.93</td><td> 5.2</td><td>52.5</td><td>115</td><td>  7521</td></tr>\n",
              "\t<tr><th scope=row>New Mexico</th><td>West         </td><td> 1144</td><td>3601</td><td>2.2</td><td>70.32</td><td> 9.7</td><td>55.2</td><td>120</td><td>121412</td></tr>\n",
              "\t<tr><th scope=row>New York</th><td>Northeast    </td><td>18076</td><td>4903</td><td>1.4</td><td>70.55</td><td>10.9</td><td>52.7</td><td> 82</td><td> 47831</td></tr>\n",
              "\t<tr><th scope=row>North Carolina</th><td>South        </td><td> 5441</td><td>3875</td><td>1.8</td><td>69.21</td><td>11.1</td><td>38.5</td><td> 80</td><td> 48798</td></tr>\n",
              "\t<tr><th scope=row>North Dakota</th><td>North Central</td><td>  637</td><td>5087</td><td>0.8</td><td>72.78</td><td> 1.4</td><td>50.3</td><td>186</td><td> 69273</td></tr>\n",
              "\t<tr><th scope=row>Ohio</th><td>North Central</td><td>10735</td><td>4561</td><td>0.8</td><td>70.82</td><td> 7.4</td><td>53.2</td><td>124</td><td> 40975</td></tr>\n",
              "\t<tr><th scope=row>Oklahoma</th><td>South        </td><td> 2715</td><td>3983</td><td>1.1</td><td>71.42</td><td> 6.4</td><td>51.6</td><td> 82</td><td> 68782</td></tr>\n",
              "\t<tr><th scope=row>Oregon</th><td>West         </td><td> 2284</td><td>4660</td><td>0.6</td><td>72.13</td><td> 4.2</td><td>60.0</td><td> 44</td><td> 96184</td></tr>\n",
              "\t<tr><th scope=row>Pennsylvania</th><td>Northeast    </td><td>11860</td><td>4449</td><td>1.0</td><td>70.43</td><td> 6.1</td><td>50.2</td><td>126</td><td> 44966</td></tr>\n",
              "\t<tr><th scope=row>Rhode Island</th><td>Northeast    </td><td>  931</td><td>4558</td><td>1.3</td><td>71.90</td><td> 2.4</td><td>46.4</td><td>127</td><td>  1049</td></tr>\n",
              "\t<tr><th scope=row>South Carolina</th><td>South        </td><td> 2816</td><td>3635</td><td>2.3</td><td>67.96</td><td>11.6</td><td>37.8</td><td> 65</td><td> 30225</td></tr>\n",
              "\t<tr><th scope=row>South Dakota</th><td>North Central</td><td>  681</td><td>4167</td><td>0.5</td><td>72.08</td><td> 1.7</td><td>53.3</td><td>172</td><td> 75955</td></tr>\n",
              "\t<tr><th scope=row>Tennessee</th><td>South        </td><td> 4173</td><td>3821</td><td>1.7</td><td>70.11</td><td>11.0</td><td>41.8</td><td> 70</td><td> 41328</td></tr>\n",
              "\t<tr><th scope=row>Texas</th><td>South        </td><td>12237</td><td>4188</td><td>2.2</td><td>70.90</td><td>12.2</td><td>47.4</td><td> 35</td><td>262134</td></tr>\n",
              "\t<tr><th scope=row>Utah</th><td>West         </td><td> 1203</td><td>4022</td><td>0.6</td><td>72.90</td><td> 4.5</td><td>67.3</td><td>137</td><td> 82096</td></tr>\n",
              "\t<tr><th scope=row>Vermont</th><td>Northeast    </td><td>  472</td><td>3907</td><td>0.6</td><td>71.64</td><td> 5.5</td><td>57.1</td><td>168</td><td>  9267</td></tr>\n",
              "\t<tr><th scope=row>Virginia</th><td>South        </td><td> 4981</td><td>4701</td><td>1.4</td><td>70.08</td><td> 9.5</td><td>47.8</td><td> 85</td><td> 39780</td></tr>\n",
              "\t<tr><th scope=row>Washington</th><td>West         </td><td> 3559</td><td>4864</td><td>0.6</td><td>71.72</td><td> 4.3</td><td>63.5</td><td> 32</td><td> 66570</td></tr>\n",
              "\t<tr><th scope=row>West Virginia</th><td>South        </td><td> 1799</td><td>3617</td><td>1.4</td><td>69.48</td><td> 6.7</td><td>41.6</td><td>100</td><td> 24070</td></tr>\n",
              "\t<tr><th scope=row>Wisconsin</th><td>North Central</td><td> 4589</td><td>4468</td><td>0.7</td><td>72.48</td><td> 3.0</td><td>54.5</td><td>149</td><td> 54464</td></tr>\n",
              "\t<tr><th scope=row>Wyoming</th><td>West         </td><td>  376</td><td>4566</td><td>0.6</td><td>70.29</td><td> 6.9</td><td>62.9</td><td>173</td><td> 97203</td></tr>\n",
              "</tbody>\n",
              "</table>\n"
            ],
            "text/markdown": "\nA data.frame: 50 × 9\n\n| <!--/--> | state.region &lt;fct&gt; | Population &lt;dbl&gt; | Income &lt;dbl&gt; | Illiteracy &lt;dbl&gt; | Life.Exp &lt;dbl&gt; | Murder &lt;dbl&gt; | HS.Grad &lt;dbl&gt; | Frost &lt;dbl&gt; | Area &lt;dbl&gt; |\n|---|---|---|---|---|---|---|---|---|---|\n| Alabama | South         |  3615 | 3624 | 2.1 | 69.05 | 15.1 | 41.3 |  20 |  50708 |\n| Alaska | West          |   365 | 6315 | 1.5 | 69.31 | 11.3 | 66.7 | 152 | 566432 |\n| Arizona | West          |  2212 | 4530 | 1.8 | 70.55 |  7.8 | 58.1 |  15 | 113417 |\n| Arkansas | South         |  2110 | 3378 | 1.9 | 70.66 | 10.1 | 39.9 |  65 |  51945 |\n| California | West          | 21198 | 5114 | 1.1 | 71.71 | 10.3 | 62.6 |  20 | 156361 |\n| Colorado | West          |  2541 | 4884 | 0.7 | 72.06 |  6.8 | 63.9 | 166 | 103766 |\n| Connecticut | Northeast     |  3100 | 5348 | 1.1 | 72.48 |  3.1 | 56.0 | 139 |   4862 |\n| Delaware | South         |   579 | 4809 | 0.9 | 70.06 |  6.2 | 54.6 | 103 |   1982 |\n| Florida | South         |  8277 | 4815 | 1.3 | 70.66 | 10.7 | 52.6 |  11 |  54090 |\n| Georgia | South         |  4931 | 4091 | 2.0 | 68.54 | 13.9 | 40.6 |  60 |  58073 |\n| Hawaii | West          |   868 | 4963 | 1.9 | 73.60 |  6.2 | 61.9 |   0 |   6425 |\n| Idaho | West          |   813 | 4119 | 0.6 | 71.87 |  5.3 | 59.5 | 126 |  82677 |\n| Illinois | North Central | 11197 | 5107 | 0.9 | 70.14 | 10.3 | 52.6 | 127 |  55748 |\n| Indiana | North Central |  5313 | 4458 | 0.7 | 70.88 |  7.1 | 52.9 | 122 |  36097 |\n| Iowa | North Central |  2861 | 4628 | 0.5 | 72.56 |  2.3 | 59.0 | 140 |  55941 |\n| Kansas | North Central |  2280 | 4669 | 0.6 | 72.58 |  4.5 | 59.9 | 114 |  81787 |\n| Kentucky | South         |  3387 | 3712 | 1.6 | 70.10 | 10.6 | 38.5 |  95 |  39650 |\n| Louisiana | South         |  3806 | 3545 | 2.8 | 68.76 | 13.2 | 42.2 |  12 |  44930 |\n| Maine | Northeast     |  1058 | 3694 | 0.7 | 70.39 |  2.7 | 54.7 | 161 |  30920 |\n| Maryland | South         |  4122 | 5299 | 0.9 | 70.22 |  8.5 | 52.3 | 101 |   9891 |\n| Massachusetts | Northeast     |  5814 | 4755 | 1.1 | 71.83 |  3.3 | 58.5 | 103 |   7826 |\n| Michigan | North Central |  9111 | 4751 | 0.9 | 70.63 | 11.1 | 52.8 | 125 |  56817 |\n| Minnesota | North Central |  3921 | 4675 | 0.6 | 72.96 |  2.3 | 57.6 | 160 |  79289 |\n| Mississippi | South         |  2341 | 3098 | 2.4 | 68.09 | 12.5 | 41.0 |  50 |  47296 |\n| Missouri | North Central |  4767 | 4254 | 0.8 | 70.69 |  9.3 | 48.8 | 108 |  68995 |\n| Montana | West          |   746 | 4347 | 0.6 | 70.56 |  5.0 | 59.2 | 155 | 145587 |\n| Nebraska | North Central |  1544 | 4508 | 0.6 | 72.60 |  2.9 | 59.3 | 139 |  76483 |\n| Nevada | West          |   590 | 5149 | 0.5 | 69.03 | 11.5 | 65.2 | 188 | 109889 |\n| New Hampshire | Northeast     |   812 | 4281 | 0.7 | 71.23 |  3.3 | 57.6 | 174 |   9027 |\n| New Jersey | Northeast     |  7333 | 5237 | 1.1 | 70.93 |  5.2 | 52.5 | 115 |   7521 |\n| New Mexico | West          |  1144 | 3601 | 2.2 | 70.32 |  9.7 | 55.2 | 120 | 121412 |\n| New York | Northeast     | 18076 | 4903 | 1.4 | 70.55 | 10.9 | 52.7 |  82 |  47831 |\n| North Carolina | South         |  5441 | 3875 | 1.8 | 69.21 | 11.1 | 38.5 |  80 |  48798 |\n| North Dakota | North Central |   637 | 5087 | 0.8 | 72.78 |  1.4 | 50.3 | 186 |  69273 |\n| Ohio | North Central | 10735 | 4561 | 0.8 | 70.82 |  7.4 | 53.2 | 124 |  40975 |\n| Oklahoma | South         |  2715 | 3983 | 1.1 | 71.42 |  6.4 | 51.6 |  82 |  68782 |\n| Oregon | West          |  2284 | 4660 | 0.6 | 72.13 |  4.2 | 60.0 |  44 |  96184 |\n| Pennsylvania | Northeast     | 11860 | 4449 | 1.0 | 70.43 |  6.1 | 50.2 | 126 |  44966 |\n| Rhode Island | Northeast     |   931 | 4558 | 1.3 | 71.90 |  2.4 | 46.4 | 127 |   1049 |\n| South Carolina | South         |  2816 | 3635 | 2.3 | 67.96 | 11.6 | 37.8 |  65 |  30225 |\n| South Dakota | North Central |   681 | 4167 | 0.5 | 72.08 |  1.7 | 53.3 | 172 |  75955 |\n| Tennessee | South         |  4173 | 3821 | 1.7 | 70.11 | 11.0 | 41.8 |  70 |  41328 |\n| Texas | South         | 12237 | 4188 | 2.2 | 70.90 | 12.2 | 47.4 |  35 | 262134 |\n| Utah | West          |  1203 | 4022 | 0.6 | 72.90 |  4.5 | 67.3 | 137 |  82096 |\n| Vermont | Northeast     |   472 | 3907 | 0.6 | 71.64 |  5.5 | 57.1 | 168 |   9267 |\n| Virginia | South         |  4981 | 4701 | 1.4 | 70.08 |  9.5 | 47.8 |  85 |  39780 |\n| Washington | West          |  3559 | 4864 | 0.6 | 71.72 |  4.3 | 63.5 |  32 |  66570 |\n| West Virginia | South         |  1799 | 3617 | 1.4 | 69.48 |  6.7 | 41.6 | 100 |  24070 |\n| Wisconsin | North Central |  4589 | 4468 | 0.7 | 72.48 |  3.0 | 54.5 | 149 |  54464 |\n| Wyoming | West          |   376 | 4566 | 0.6 | 70.29 |  6.9 | 62.9 | 173 |  97203 |\n\n",
            "text/latex": "A data.frame: 50 × 9\n\\begin{tabular}{r|lllllllll}\n  & state.region & Population & Income & Illiteracy & Life.Exp & Murder & HS.Grad & Frost & Area\\\\\n  & <fct> & <dbl> & <dbl> & <dbl> & <dbl> & <dbl> & <dbl> & <dbl> & <dbl>\\\\\n\\hline\n\tAlabama & South         &  3615 & 3624 & 2.1 & 69.05 & 15.1 & 41.3 &  20 &  50708\\\\\n\tAlaska & West          &   365 & 6315 & 1.5 & 69.31 & 11.3 & 66.7 & 152 & 566432\\\\\n\tArizona & West          &  2212 & 4530 & 1.8 & 70.55 &  7.8 & 58.1 &  15 & 113417\\\\\n\tArkansas & South         &  2110 & 3378 & 1.9 & 70.66 & 10.1 & 39.9 &  65 &  51945\\\\\n\tCalifornia & West          & 21198 & 5114 & 1.1 & 71.71 & 10.3 & 62.6 &  20 & 156361\\\\\n\tColorado & West          &  2541 & 4884 & 0.7 & 72.06 &  6.8 & 63.9 & 166 & 103766\\\\\n\tConnecticut & Northeast     &  3100 & 5348 & 1.1 & 72.48 &  3.1 & 56.0 & 139 &   4862\\\\\n\tDelaware & South         &   579 & 4809 & 0.9 & 70.06 &  6.2 & 54.6 & 103 &   1982\\\\\n\tFlorida & South         &  8277 & 4815 & 1.3 & 70.66 & 10.7 & 52.6 &  11 &  54090\\\\\n\tGeorgia & South         &  4931 & 4091 & 2.0 & 68.54 & 13.9 & 40.6 &  60 &  58073\\\\\n\tHawaii & West          &   868 & 4963 & 1.9 & 73.60 &  6.2 & 61.9 &   0 &   6425\\\\\n\tIdaho & West          &   813 & 4119 & 0.6 & 71.87 &  5.3 & 59.5 & 126 &  82677\\\\\n\tIllinois & North Central & 11197 & 5107 & 0.9 & 70.14 & 10.3 & 52.6 & 127 &  55748\\\\\n\tIndiana & North Central &  5313 & 4458 & 0.7 & 70.88 &  7.1 & 52.9 & 122 &  36097\\\\\n\tIowa & North Central &  2861 & 4628 & 0.5 & 72.56 &  2.3 & 59.0 & 140 &  55941\\\\\n\tKansas & North Central &  2280 & 4669 & 0.6 & 72.58 &  4.5 & 59.9 & 114 &  81787\\\\\n\tKentucky & South         &  3387 & 3712 & 1.6 & 70.10 & 10.6 & 38.5 &  95 &  39650\\\\\n\tLouisiana & South         &  3806 & 3545 & 2.8 & 68.76 & 13.2 & 42.2 &  12 &  44930\\\\\n\tMaine & Northeast     &  1058 & 3694 & 0.7 & 70.39 &  2.7 & 54.7 & 161 &  30920\\\\\n\tMaryland & South         &  4122 & 5299 & 0.9 & 70.22 &  8.5 & 52.3 & 101 &   9891\\\\\n\tMassachusetts & Northeast     &  5814 & 4755 & 1.1 & 71.83 &  3.3 & 58.5 & 103 &   7826\\\\\n\tMichigan & North Central &  9111 & 4751 & 0.9 & 70.63 & 11.1 & 52.8 & 125 &  56817\\\\\n\tMinnesota & North Central &  3921 & 4675 & 0.6 & 72.96 &  2.3 & 57.6 & 160 &  79289\\\\\n\tMississippi & South         &  2341 & 3098 & 2.4 & 68.09 & 12.5 & 41.0 &  50 &  47296\\\\\n\tMissouri & North Central &  4767 & 4254 & 0.8 & 70.69 &  9.3 & 48.8 & 108 &  68995\\\\\n\tMontana & West          &   746 & 4347 & 0.6 & 70.56 &  5.0 & 59.2 & 155 & 145587\\\\\n\tNebraska & North Central &  1544 & 4508 & 0.6 & 72.60 &  2.9 & 59.3 & 139 &  76483\\\\\n\tNevada & West          &   590 & 5149 & 0.5 & 69.03 & 11.5 & 65.2 & 188 & 109889\\\\\n\tNew Hampshire & Northeast     &   812 & 4281 & 0.7 & 71.23 &  3.3 & 57.6 & 174 &   9027\\\\\n\tNew Jersey & Northeast     &  7333 & 5237 & 1.1 & 70.93 &  5.2 & 52.5 & 115 &   7521\\\\\n\tNew Mexico & West          &  1144 & 3601 & 2.2 & 70.32 &  9.7 & 55.2 & 120 & 121412\\\\\n\tNew York & Northeast     & 18076 & 4903 & 1.4 & 70.55 & 10.9 & 52.7 &  82 &  47831\\\\\n\tNorth Carolina & South         &  5441 & 3875 & 1.8 & 69.21 & 11.1 & 38.5 &  80 &  48798\\\\\n\tNorth Dakota & North Central &   637 & 5087 & 0.8 & 72.78 &  1.4 & 50.3 & 186 &  69273\\\\\n\tOhio & North Central & 10735 & 4561 & 0.8 & 70.82 &  7.4 & 53.2 & 124 &  40975\\\\\n\tOklahoma & South         &  2715 & 3983 & 1.1 & 71.42 &  6.4 & 51.6 &  82 &  68782\\\\\n\tOregon & West          &  2284 & 4660 & 0.6 & 72.13 &  4.2 & 60.0 &  44 &  96184\\\\\n\tPennsylvania & Northeast     & 11860 & 4449 & 1.0 & 70.43 &  6.1 & 50.2 & 126 &  44966\\\\\n\tRhode Island & Northeast     &   931 & 4558 & 1.3 & 71.90 &  2.4 & 46.4 & 127 &   1049\\\\\n\tSouth Carolina & South         &  2816 & 3635 & 2.3 & 67.96 & 11.6 & 37.8 &  65 &  30225\\\\\n\tSouth Dakota & North Central &   681 & 4167 & 0.5 & 72.08 &  1.7 & 53.3 & 172 &  75955\\\\\n\tTennessee & South         &  4173 & 3821 & 1.7 & 70.11 & 11.0 & 41.8 &  70 &  41328\\\\\n\tTexas & South         & 12237 & 4188 & 2.2 & 70.90 & 12.2 & 47.4 &  35 & 262134\\\\\n\tUtah & West          &  1203 & 4022 & 0.6 & 72.90 &  4.5 & 67.3 & 137 &  82096\\\\\n\tVermont & Northeast     &   472 & 3907 & 0.6 & 71.64 &  5.5 & 57.1 & 168 &   9267\\\\\n\tVirginia & South         &  4981 & 4701 & 1.4 & 70.08 &  9.5 & 47.8 &  85 &  39780\\\\\n\tWashington & West          &  3559 & 4864 & 0.6 & 71.72 &  4.3 & 63.5 &  32 &  66570\\\\\n\tWest Virginia & South         &  1799 & 3617 & 1.4 & 69.48 &  6.7 & 41.6 & 100 &  24070\\\\\n\tWisconsin & North Central &  4589 & 4468 & 0.7 & 72.48 &  3.0 & 54.5 & 149 &  54464\\\\\n\tWyoming & West          &   376 & 4566 & 0.6 & 70.29 &  6.9 & 62.9 & 173 &  97203\\\\\n\\end{tabular}\n",
            "text/plain": [
              "               state.region  Population Income Illiteracy Life.Exp Murder\n",
              "Alabama        South          3615      3624   2.1        69.05    15.1  \n",
              "Alaska         West            365      6315   1.5        69.31    11.3  \n",
              "Arizona        West           2212      4530   1.8        70.55     7.8  \n",
              "Arkansas       South          2110      3378   1.9        70.66    10.1  \n",
              "California     West          21198      5114   1.1        71.71    10.3  \n",
              "Colorado       West           2541      4884   0.7        72.06     6.8  \n",
              "Connecticut    Northeast      3100      5348   1.1        72.48     3.1  \n",
              "Delaware       South           579      4809   0.9        70.06     6.2  \n",
              "Florida        South          8277      4815   1.3        70.66    10.7  \n",
              "Georgia        South          4931      4091   2.0        68.54    13.9  \n",
              "Hawaii         West            868      4963   1.9        73.60     6.2  \n",
              "Idaho          West            813      4119   0.6        71.87     5.3  \n",
              "Illinois       North Central 11197      5107   0.9        70.14    10.3  \n",
              "Indiana        North Central  5313      4458   0.7        70.88     7.1  \n",
              "Iowa           North Central  2861      4628   0.5        72.56     2.3  \n",
              "Kansas         North Central  2280      4669   0.6        72.58     4.5  \n",
              "Kentucky       South          3387      3712   1.6        70.10    10.6  \n",
              "Louisiana      South          3806      3545   2.8        68.76    13.2  \n",
              "Maine          Northeast      1058      3694   0.7        70.39     2.7  \n",
              "Maryland       South          4122      5299   0.9        70.22     8.5  \n",
              "Massachusetts  Northeast      5814      4755   1.1        71.83     3.3  \n",
              "Michigan       North Central  9111      4751   0.9        70.63    11.1  \n",
              "Minnesota      North Central  3921      4675   0.6        72.96     2.3  \n",
              "Mississippi    South          2341      3098   2.4        68.09    12.5  \n",
              "Missouri       North Central  4767      4254   0.8        70.69     9.3  \n",
              "Montana        West            746      4347   0.6        70.56     5.0  \n",
              "Nebraska       North Central  1544      4508   0.6        72.60     2.9  \n",
              "Nevada         West            590      5149   0.5        69.03    11.5  \n",
              "New Hampshire  Northeast       812      4281   0.7        71.23     3.3  \n",
              "New Jersey     Northeast      7333      5237   1.1        70.93     5.2  \n",
              "New Mexico     West           1144      3601   2.2        70.32     9.7  \n",
              "New York       Northeast     18076      4903   1.4        70.55    10.9  \n",
              "North Carolina South          5441      3875   1.8        69.21    11.1  \n",
              "North Dakota   North Central   637      5087   0.8        72.78     1.4  \n",
              "Ohio           North Central 10735      4561   0.8        70.82     7.4  \n",
              "Oklahoma       South          2715      3983   1.1        71.42     6.4  \n",
              "Oregon         West           2284      4660   0.6        72.13     4.2  \n",
              "Pennsylvania   Northeast     11860      4449   1.0        70.43     6.1  \n",
              "Rhode Island   Northeast       931      4558   1.3        71.90     2.4  \n",
              "South Carolina South          2816      3635   2.3        67.96    11.6  \n",
              "South Dakota   North Central   681      4167   0.5        72.08     1.7  \n",
              "Tennessee      South          4173      3821   1.7        70.11    11.0  \n",
              "Texas          South         12237      4188   2.2        70.90    12.2  \n",
              "Utah           West           1203      4022   0.6        72.90     4.5  \n",
              "Vermont        Northeast       472      3907   0.6        71.64     5.5  \n",
              "Virginia       South          4981      4701   1.4        70.08     9.5  \n",
              "Washington     West           3559      4864   0.6        71.72     4.3  \n",
              "West Virginia  South          1799      3617   1.4        69.48     6.7  \n",
              "Wisconsin      North Central  4589      4468   0.7        72.48     3.0  \n",
              "Wyoming        West            376      4566   0.6        70.29     6.9  \n",
              "               HS.Grad Frost Area  \n",
              "Alabama        41.3     20    50708\n",
              "Alaska         66.7    152   566432\n",
              "Arizona        58.1     15   113417\n",
              "Arkansas       39.9     65    51945\n",
              "California     62.6     20   156361\n",
              "Colorado       63.9    166   103766\n",
              "Connecticut    56.0    139     4862\n",
              "Delaware       54.6    103     1982\n",
              "Florida        52.6     11    54090\n",
              "Georgia        40.6     60    58073\n",
              "Hawaii         61.9      0     6425\n",
              "Idaho          59.5    126    82677\n",
              "Illinois       52.6    127    55748\n",
              "Indiana        52.9    122    36097\n",
              "Iowa           59.0    140    55941\n",
              "Kansas         59.9    114    81787\n",
              "Kentucky       38.5     95    39650\n",
              "Louisiana      42.2     12    44930\n",
              "Maine          54.7    161    30920\n",
              "Maryland       52.3    101     9891\n",
              "Massachusetts  58.5    103     7826\n",
              "Michigan       52.8    125    56817\n",
              "Minnesota      57.6    160    79289\n",
              "Mississippi    41.0     50    47296\n",
              "Missouri       48.8    108    68995\n",
              "Montana        59.2    155   145587\n",
              "Nebraska       59.3    139    76483\n",
              "Nevada         65.2    188   109889\n",
              "New Hampshire  57.6    174     9027\n",
              "New Jersey     52.5    115     7521\n",
              "New Mexico     55.2    120   121412\n",
              "New York       52.7     82    47831\n",
              "North Carolina 38.5     80    48798\n",
              "North Dakota   50.3    186    69273\n",
              "Ohio           53.2    124    40975\n",
              "Oklahoma       51.6     82    68782\n",
              "Oregon         60.0     44    96184\n",
              "Pennsylvania   50.2    126    44966\n",
              "Rhode Island   46.4    127     1049\n",
              "South Carolina 37.8     65    30225\n",
              "South Dakota   53.3    172    75955\n",
              "Tennessee      41.8     70    41328\n",
              "Texas          47.4     35   262134\n",
              "Utah           67.3    137    82096\n",
              "Vermont        57.1    168     9267\n",
              "Virginia       47.8     85    39780\n",
              "Washington     63.5     32    66570\n",
              "West Virginia  41.6    100    24070\n",
              "Wisconsin      54.5    149    54464\n",
              "Wyoming        62.9    173    97203"
            ]
          },
          "metadata": {}
        }
      ]
    },
    {
      "cell_type": "markdown",
      "source": [
        "Теперь можно вычислить критерий:"
      ],
      "metadata": {
        "id": "BxtDMJ7apae_"
      }
    },
    {
      "cell_type": "code",
      "source": [
        "kruskal.test(Illiteracy ~ state.region, data=states)"
      ],
      "metadata": {
        "id": "kob4Dnyopd0w",
        "outputId": "67abff5d-47ac-47bc-cc9b-39774fa51bf6",
        "colab": {
          "base_uri": "https://localhost:8080/",
          "height": 104
        }
      },
      "execution_count": null,
      "outputs": [
        {
          "output_type": "display_data",
          "data": {
            "text/plain": [
              "\n",
              "\tKruskal-Wallis rank sum test\n",
              "\n",
              "data:  Illiteracy by state.region\n",
              "Kruskal-Wallis chi-squared = 22.672, df = 3, p-value = 4.726e-05\n"
            ]
          },
          "metadata": {}
        }
      ]
    },
    {
      "cell_type": "markdown",
      "source": [
        "Значимость критерия свидетельствует о том, что уровень неграмотности неодинаков во всех четырех регионах (p < 0.001).\n",
        "\n",
        "Мы отвергли нулевую гипотезу об отсутствии различий, но из полученных результатов не ясно, какие регионы значимо отличаются от других. Чтобы ответить на этот вопрос, можно сравнить попарно все группы, используя критерий Вилкоксона. Более изящное решение состоит в одновременном множественном сравнении всех пар регионов с контролем значений статистической ошибки первого рода (вероятность посчитать значимыми незначимые различия). Этот подход реализован в функции `wmc()`. Она сравнивает группы попарно, используя критерий Вилкоксона, и корректирует значения вероятности, используя функцию `p.adj()`.\n",
        "\n",
        "Честно говоря, здесь я немного вышел за пределы основных методов, заявленных в названии этой главы, но поскольку рассмотрение данного подхода здесь вполне уместно, я надеюсь, что вы меня простите. Для начала загрузите текстовый файл с исходным кодом функции `wmc()`, доступный по адресу: https://rkabacoff.com/RiA/wmc.R. Листинг ниже демонстрирует применение этой функции для сравнения уровней неграмотности в четырех регионах США."
      ],
      "metadata": {
        "id": "WcwydxYjpoI3"
      }
    },
    {
      "cell_type": "code",
      "source": [
        "source(\"/content/wmc_02.R\")\n",
        "states <- data.frame(state.region, state.x77)\n",
        "wmc(Illiteracy ~ state.region, data=states, method=\"holm\")"
      ],
      "metadata": {
        "id": "-XeQ8h8jHIR3",
        "outputId": "377460ca-f876-45fc-c19a-607978b4894a",
        "colab": {
          "base_uri": "https://localhost:8080/"
        }
      },
      "execution_count": null,
      "outputs": [
        {
          "output_type": "stream",
          "name": "stdout",
          "text": [
            "Descriptive Statistics\n",
            "\n",
            "           West North Central Northeast    South\n",
            "n      13.00000      12.00000   9.00000 16.00000\n",
            "median  0.60000       0.70000   1.10000  1.75000\n",
            "mad     0.14826       0.14826   0.29652  0.59304\n",
            "\n",
            "Multiple Comparisons (Wilcoxon Rank Sum Tests)\n",
            "Probability Adjustment = holm\n",
            "\n",
            "        Group.1       Group.2    W            p    \n",
            "1          West North Central 88.0 8.665618e-01    \n",
            "2          West     Northeast 46.5 8.665618e-01    \n",
            "3          West         South 39.0 1.788186e-02   *\n",
            "4 North Central     Northeast 20.5 5.359707e-02   .\n",
            "5 North Central         South  2.0 8.051509e-05 ***\n",
            "6     Northeast         South 18.0 1.187644e-02   *\n",
            "---\n",
            "Signif. codes:  0 '***' 0.001 '**' 0.01 '*' 0.05 '.' 0.1 ' ' 1\n"
          ]
        }
      ]
    },
    {
      "cell_type": "markdown",
      "source": [
        "Функция `source()` загружает и запускает сценарий R, определяющий функцию `wmc()`. Эта функция имеет следующий синтаксис:\n",
        "```\n",
        "wmc(y ~ A, data, method), где y – числовая переменная, A – группи-\n",
        "рующая переменная, data – таблица данных, содержащая эти пере-\n",
        "менные, а method – метод ограничения ошибок первого рода.\n",
        "```\n",
        "Код в листинге использует метод корректировки, разработанный Холмом (Holm, 1979), который обеспечивает строгий контроль над коэффициентом ошибок по семействам (вероятность совершения одной или нескольких ошибок первого рода в наборе сравнений). Описание других доступных методов ищите в справке help(p.adjust).\n",
        "\n",
        "Функция `wmc(`) сначала определяет размеры выборки, медианы и абсолютные отклонения медиан для каждой группы. На западе самый низкий уровень неграмотности, а на юге – самый высокий. Затем функция генерирует шесть статистических сравнений (запад и север, запад и северо-восток, запад и юг, север и северо-восток, север и юг и северо-восток и юг). Из двусторонних значений p можно заключить, что юг значительно отличается от трех других регионов и что остальные три региона не отличаются друг от друга на уровне p < 0.05."
      ],
      "metadata": {
        "id": "CK1sOLxhJKYJ"
      }
    },
    {
      "cell_type": "markdown",
      "source": [
        "## Визуализация групповых различий\n",
        "В разделах выше мы рассмотрели статистические методы сравнения групп. Визуальный анализ межгрупповых различий – это тоже очень важный этап комплексного подхода к анализу данных. Он позволяет получить информацию о величине различий, выявить особенности распределения значений (асимметрию, бимодальность, выбросы), которые влияют на результаты сравнения, и оценить, насколько данные удовлетворяют статистическим критериям. В R реализовано множество графических методов для сравнения групп, включая коробчатые диаграммы (простые, с насечками и скрипичные), которые описаны в разделе 6.6; наложенные друг на друга диаграммы ядерной плотности, рассмотренные в разделе 6.5, и графические методы оценки соответствия данных статистическим критериям, которые обсуждаются в главе 9."
      ],
      "metadata": {
        "id": "BOXmFaEBIulq"
      }
    },
    {
      "cell_type": "markdown",
      "source": [
        "# Итоги\n",
        "* Описательные статистики позволяют численно описать распределение количественной переменной. В R есть множество пакетов, вычисляющих описательные статистики для таблиц данных. Выбор пакета зависит прежде всего от личных предпочтений.\n",
        "* Таблицы частот и сопряженности обобщают распределение категориальных переменных.\n",
        "* Для сравнения двух групп по количественным переменным можно использовать критерии Стьюдента и Манна–Уитни.\n",
        "* Для оценки тесноты связи между двумя категориальными переменными можно использовать критерий хи-квадрат, а для оценки тесноты связи между двумя количественными переменными – коэффициент корреляции.\n",
        "* Числовые сводки и результаты проверки статистических критериев должны сопровождаться визуализацией данных, иначе можно упустить из виду важные особенности данных."
      ],
      "metadata": {
        "id": "Vb5kGcZ9KVpc"
      }
    },
    {
      "cell_type": "markdown",
      "source": [
        "# Загрузка функции\n",
        "Чтение кода R из файла, соединения или выражений\n",
        "## Описание\n",
        "`source` заставляет R принимать входные данные напрямую из именованного файла, URL-адреса, соединения или выражения. Ввод считывается и анализируется из этого файла до тех пор, пока не будет достигнут конец файла, затем анализируемые выражения последовательно оцениваются в выбранной среде.\n",
        "\n",
        "`withAutoprint(exprs)` — это оболочка для `source(exprs = exprs, ..)` с разными значениями по умолчанию. Его основная цель — вычислить и автоматически распечатать выражения, как если бы они находились в контексте верхнего уровня, например, как в консоли R.\n",
        "\n",
        "Применение\n",
        "```\n",
        "source(file,\n",
        " local = FALSE,\n",
        " echo = verbose,\n",
        " print.eval = echo,\n",
        " exprs,\n",
        " spaced = use_file,\n",
        " verbose = getOption(\"verbose\"),\n",
        " prompt.echo = getOption(\"prompt\"),\n",
        " max.deparse.length = 150,\n",
        " width.cutoff = 60L,\n",
        " deparseCtrl = \"showAttributes\",\n",
        " chdir = FALSE,\n",
        " encoding = getOption(\"encoding\"),\n",
        " continue.echo = getOption(\"continue\"),\n",
        " skip.echo = 0, keep.source = getOption(\"keep.source\"))\n",
        "\n",
        "withAutoprint(exprs,\n",
        "             evaluated = FALSE,\n",
        "             local = parent.frame(),\n",
        "             print. = TRUE,\n",
        "             echo = TRUE,\n",
        "             max.deparse.length = Inf,\n",
        "             width.cutoff = max(20, getOption(\"width\")),\n",
        "             deparseCtrl = c(\"keepInteger\", \"showAttributes\",\"keepNA\"),\n",
        "              ...)\n",
        "```\n",
        "\\begin{array}{|l|l|}\n",
        "\\hline\n",
        "Аргумент&Описание\\\\\\hline\n",
        "file&соединение~или~строка~символов,~указывающая~путь~к~файлу~или~URL-адрес~для~чтения.\\\\~&~\"\"~указывает~на~соединение~со~стандартным~вводом(stdin()).\\\\\\hline\n",
        "local&TRUE,~FALSE~или~среда,~определяющая,~где оцениваются~анализируемые~выражения.~FALSE~(по умолчанию)~соответствует~рабочей~области~пользователя~(глобальной~среде),~а~TRUE~—~среде,~из~которой~вызывается источник.\n",
        "\\end{array}\n",
        "\n",
        "\n",
        "\n",
        "Аргументы\n",
        "*\n",
        "\n",
        "\n",
        "\n",
        "*\n",
        "\n",
        "\n",
        "* echo\n",
        "логичный; если TRUE, каждое выражение выводится после синтаксического анализа перед оценкой.\n",
        "\n",
        "print.eval, print.\n",
        "логичный; если TRUE, результат eval(i) выводится для каждого выражения i; по умолчанию используется значение echo.\n",
        "\n",
        "exprs\n",
        "для source() и withAutoprint(*, Assessment=TRUE): вместо указания файла, выражения, вызова или списка вызовов, но не неоцененного «выражения».\n",
        "for withAutoprint() (with default evaluated=FALSE): одно или несколько неоцененных «выражений».\n",
        "\n",
        "evaluated\n",
        "logical indicating that exprs is passed to source(exprs= *) and hence must be evaluated, i.e., a formal expression, call or list of calls.\n",
        "\n",
        "spaced\n",
        "logical indicating if newline (hence empty line) should be printed before each expression (when echo = TRUE).\n",
        "\n",
        "verbose\n",
        "if TRUE, more diagnostics (than just echo = TRUE) are printed during parsing and evaluation of input, including extra info for each expression.\n",
        "\n",
        "prompt.echo\n",
        "character; gives the prompt to be used if echo = TRUE.\n",
        "\n",
        "max.deparse.length\n",
        "integer; is used only if echo is TRUE and gives the maximal number of characters output for the deparse of a single expression.\n",
        "\n",
        "width.cutoff\n",
        "integer, passed to deparse() which is used (only) when there are no source references.\n",
        "\n",
        "deparseCtrl\n",
        "character vector, passed as control to deparse(), see also .deparseOpts. In R version <= 3.3.x, this was hardcoded to \"showAttributes\", which is the default currently; deparseCtrl = \"all\" may be preferable, when strict back compatibility is not of importance.\n",
        "\n",
        "chdir\n",
        "logical; if TRUE and file is a pathname, the R working directory is temporarily changed to the directory containing file for evaluating.\n",
        "\n",
        "encoding\n",
        "character vector. The encoding(s) to be assumed when file is a character string: see file. A possible value is \"unknown\" when the encoding is guessed: see the ‘Encodings’ section.\n",
        "\n",
        "continue.echo\n",
        "character; gives the prompt to use on continuation lines if echo = TRUE.\n",
        "\n",
        "skip.echo\n",
        "integer; how many comment lines at the start of the file to skip if echo = TRUE.\n",
        "\n",
        "keep.source\n",
        "logical: should the source formatting be retained when echoing expressions, if possible?\n",
        "\n",
        "...\n",
        "(for withAutoprint():) further (non-file related) arguments to be passed to source(.).\n",
        "\n",
        "Details\n",
        "Note that running code via source differs in a few respects from entering it at the R command line. Since expressions are not executed at the top level, auto-printing is not done. So you will need to include explicit print calls for things you want to be printed (and remember that this includes plotting by lattice, FAQ Q7.22). Since the complete file is parsed before any of it is run, syntax errors result in none of the code being run. If an error occurs in running a syntactically correct script, anything assigned into the workspace by code that has been run will be kept (just as from the command line), but diagnostic information such as traceback() will contain additional calls to withVisible.\n",
        "\n",
        "All versions of R accept input from a connection with end of line marked by LF (as used on Unix), CRLF (as used on DOS/Windows) or CR (as used on classic Mac OS) and map this to newline. The final line can be incomplete, that is missing the final end-of-line marker.\n",
        "\n",
        "If keep.source is true (the default in interactive use), the source of functions is kept so they can be listed exactly as input.\n",
        "\n",
        "Unlike input from a console, lines in the file or on a connection can contain an unlimited number of characters.\n",
        "\n",
        "When skip.echo > 0, that many comment lines at the start of the file will not be echoed. This does not affect the execution of the code at all. If there are executable lines within the first skip.echo lines, echoing will start with the first of them.\n",
        "\n",
        "If echo is true and a deparsed expression exceeds max.deparse.length, that many characters are output followed by .... [TRUNCATED] .\n",
        "\n",
        "Encodings\n",
        "By default the input is read and parsed in the current encoding of the R session. This is usually what is required, but occasionally re-encoding is needed, e.g. if a file from a UTF-8-using system is to be read on Windows (or vice versa).\n",
        "\n",
        "The rest of this paragraph applies if file is an actual filename or URL (and not \"\" nor a connection). If encoding = \"unknown\", an attempt is made to guess the encoding: the result of localeToCharset() is used as a guide. If encoding has two or more elements, they are tried in turn until the file/URL can be read without error in the trial encoding. If an actual encoding is specified (rather than the default or \"unknown\") in a Latin-1 or UTF-8 locale then character strings in the result will be translated to the current encoding and marked as such (see Encoding).\n",
        "\n",
        "If file is a connection (including one specified by \"\"), it is not possible to re-encode the input inside source, and so the encoding argument is just used to mark character strings in the parsed input in Latin-1 and UTF-8 locales: see parse.\n",
        "\n",
        "References\n",
        "Becker, R. A., Chambers, J. M. and Wilks, A. R. (1988) The New S Language. Wadsworth & Brooks/Cole.\n",
        "\n",
        "See Also\n",
        "demo which uses source; eval, parse and scan; options(\"keep.source\").\n",
        "\n",
        "sys.source which is a streamlined version to source a file into an environment.\n",
        "\n",
        "‘The R Language Definition’ for a discussion of source directives.\n",
        "\n",
        "Examples\n",
        "someCond <- 7 > 6\n",
        "## want an if-clause to behave \"as top level\" wrt auto-printing :\n",
        "## (all should look \"as if on top level\", e.g. non-assignments should print:)\n",
        "if(someCond) withAutoprint({\n",
        "   x <- 1:12\n",
        "   x-1\n",
        "   (y <- (x-5)^2)\n",
        "   z <- y\n",
        "   z - 10\n",
        "})\n",
        "\n",
        "## If you want to source() a bunch of files, something like\n",
        "## the following may be useful:\n",
        " sourceDir <- function(path, trace = TRUE, ...) {\n",
        "    op <- options(); on.exit(options(op)) # to reset after each\n",
        "    for (nm in list.files(path, pattern = \"[.][RrSsQq]$\")) {\n",
        "       if(trace) cat(nm,\":\")\n",
        "       source(file.path(path, nm), ...)\n",
        "       if(trace) cat(\"\\n\")\n",
        "       options(op)\n",
        "    }\n",
        " }\n",
        "\n",
        "suppressWarnings( rm(x,y) ) # remove 'x' or 'y' from global env\n",
        "withAutoprint({ x <- 1:2; cat(\"x=\",x,\"\\n\"); y <- x^2 })\n",
        "## x and y now exist:\n",
        "stopifnot(identical(x, 1:2), identical(y, x^2))\n",
        "\n",
        "withAutoprint({ formals(sourceDir); body(sourceDir) },\n",
        "              max.deparse.length = 20, verbose = TRUE)\n",
        "\n"
      ],
      "metadata": {
        "id": "4TZCoC1D0him"
      }
    },
    {
      "cell_type": "markdown",
      "source": [
        "\\begin{array}{|l|l|}\n",
        "\\hline\n",
        "Аргумент&Описание\\\\\\hline\n",
        "file&соединение~или~строка~символов,~указывающая~путь~к~файлу~или~URL-адрес~для~чтения.\\\\~&~\"\"~указывает~на~соединение~со~стандартным~вводом(stdin()).\\\\\\hline\n",
        "local&TRUE,~FALSE~или~среда,~определяющая,~где оцениваются~анализируемые~выражения.\\\\\n",
        "~&FALSE~(по умолчанию)~соответствует~рабочей~области~пользователя~(глобальной~среде),\\\\\n",
        "~&а~TRUE~—~среде,~из~которой~вызывается~источник.\n",
        "\\end{array}\n",
        "\n",
        "\n",
        "\n",
        "Аргументы\n",
        "*\n",
        "\n",
        "\n",
        "\n",
        "*\n",
        "\n",
        "\n",
        "* echo\n",
        "логичный; если TRUE, каждое выражение выводится после синтаксического анализа перед оценкой.\n",
        "\n",
        "print.eval, print.\n",
        "логичный; если TRUE, результат eval(i) выводится для каждого выражения i; по умолчанию используется значение echo.\n",
        "\n",
        "exprs\n",
        "для source() и withAutoprint(*, Assessment=TRUE): вместо указания файла, выражения, вызова или списка вызовов, но не неоцененного «выражения».\n",
        "for withAutoprint() (with default evaluated=FALSE): одно или несколько неоцененных «выражений».\n",
        "\n",
        "evaluated\n",
        "logical indicating that exprs is passed to source(exprs= *) and hence must be evaluated, i.e., a formal expression, call or list of calls.\n",
        "\n",
        "spaced\n",
        "logical indicating if newline (hence empty line) should be printed before each expression (when echo = TRUE).\n",
        "\n",
        "verbose\n",
        "if TRUE, more diagnostics (than just echo = TRUE) are printed during parsing and evaluation of input, including extra info for each expression.\n",
        "\n",
        "prompt.echo\n",
        "character; gives the prompt to be used if echo = TRUE.\n",
        "\n",
        "max.deparse.length\n",
        "integer; is used only if echo is TRUE and gives the maximal number of characters output for the deparse of a single expression.\n",
        "\n",
        "width.cutoff\n",
        "integer, passed to deparse() which is used (only) when there are no source references.\n",
        "\n",
        "deparseCtrl\n",
        "character vector, passed as control to deparse(), see also .deparseOpts. In R version <= 3.3.x, this was hardcoded to \"showAttributes\", which is the default currently; deparseCtrl = \"all\" may be preferable, when strict back compatibility is not of importance.\n",
        "\n",
        "chdir\n",
        "logical; if TRUE and file is a pathname, the R working directory is temporarily changed to the directory containing file for evaluating.\n",
        "\n",
        "encoding\n",
        "character vector. The encoding(s) to be assumed when file is a character string: see file. A possible value is \"unknown\" when the encoding is guessed: see the ‘Encodings’ section.\n",
        "\n",
        "continue.echo\n",
        "character; gives the prompt to use on continuation lines if echo = TRUE.\n",
        "\n",
        "skip.echo\n",
        "integer; how many comment lines at the start of the file to skip if echo = TRUE.\n",
        "\n",
        "keep.source\n",
        "logical: should the source formatting be retained when echoing expressions, if possible?\n",
        "\n",
        "...\n",
        "(for withAutoprint():) further (non-file related) arguments to be passed to source(.).\n"
      ],
      "metadata": {
        "id": "_mS9sYG288y6"
      }
    },
    {
      "cell_type": "markdown",
      "source": [],
      "metadata": {
        "id": "EHRTBWIbI0OS"
      }
    }
  ]
}