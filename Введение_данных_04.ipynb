{
  "nbformat": 4,
  "nbformat_minor": 0,
  "metadata": {
    "colab": {
      "provenance": [],
      "include_colab_link": true
    },
    "kernelspec": {
      "name": "ir",
      "display_name": "R"
    },
    "language_info": {
      "name": "R"
    }
  },
  "cells": [
    {
      "cell_type": "markdown",
      "metadata": {
        "id": "view-in-github",
        "colab_type": "text"
      },
      "source": [
        "<a href=\"https://colab.research.google.com/github/MaximTislenko/GB_med_stat_R/blob/main/%D0%92%D0%B2%D0%B5%D0%B4%D0%B5%D0%BD%D0%B8%D0%B5_%D0%B4%D0%B0%D0%BD%D0%BD%D1%8B%D1%85_04.ipynb\" target=\"_parent\"><img src=\"https://colab.research.google.com/assets/colab-badge.svg\" alt=\"Open In Colab\"/></a>"
      ]
    },
    {
      "cell_type": "markdown",
      "source": [
        "# Создание набора данных"
      ],
      "metadata": {
        "id": "yaZVoNFFoC1F"
      }
    },
    {
      "cell_type": "code",
      "execution_count": 2,
      "metadata": {
        "id": "AdrY4BSy4w1z",
        "colab": {
          "base_uri": "https://localhost:8080/"
        },
        "outputId": "0de427f9-ca52-4484-ee10-29dc2b29d6a9"
      },
      "outputs": [
        {
          "output_type": "stream",
          "name": "stderr",
          "text": [
            "── \u001b[1mAttaching core tidyverse packages\u001b[22m ──────────────────────── tidyverse 2.0.0 ──\n",
            "\u001b[32m✔\u001b[39m \u001b[34mdplyr    \u001b[39m 1.1.4     \u001b[32m✔\u001b[39m \u001b[34mreadr    \u001b[39m 2.1.5\n",
            "\u001b[32m✔\u001b[39m \u001b[34mforcats  \u001b[39m 1.0.0     \u001b[32m✔\u001b[39m \u001b[34mstringr  \u001b[39m 1.5.1\n",
            "\u001b[32m✔\u001b[39m \u001b[34mggplot2  \u001b[39m 3.4.4     \u001b[32m✔\u001b[39m \u001b[34mtibble   \u001b[39m 3.2.1\n",
            "\u001b[32m✔\u001b[39m \u001b[34mlubridate\u001b[39m 1.9.3     \u001b[32m✔\u001b[39m \u001b[34mtidyr    \u001b[39m 1.3.1\n",
            "\u001b[32m✔\u001b[39m \u001b[34mpurrr    \u001b[39m 1.0.2     \n",
            "── \u001b[1mConflicts\u001b[22m ────────────────────────────────────────── tidyverse_conflicts() ──\n",
            "\u001b[31m✖\u001b[39m \u001b[34mpurrr\u001b[39m::\u001b[32m%||%()\u001b[39m   masks \u001b[34mbase\u001b[39m::%||%()\n",
            "\u001b[31m✖\u001b[39m \u001b[34mdplyr\u001b[39m::\u001b[32mfilter()\u001b[39m masks \u001b[34mstats\u001b[39m::filter()\n",
            "\u001b[31m✖\u001b[39m \u001b[34mdplyr\u001b[39m::\u001b[32mlag()\u001b[39m    masks \u001b[34mstats\u001b[39m::lag()\n",
            "\u001b[36mℹ\u001b[39m Use the conflicted package (\u001b[3m\u001b[34m<http://conflicted.r-lib.org/>\u001b[39m\u001b[23m) to force all conflicts to become errors\n"
          ]
        }
      ],
      "source": [
        "library(tidyverse)\n",
        "library(readxl)"
      ]
    },
    {
      "cell_type": "markdown",
      "source": [
        "# Ввод данных с клавиатуры\n",
        "1.Создается пустая таблица или матрица\n",
        "2.Открывается текстовый редактор (функция $edit()$)"
      ],
      "metadata": {
        "id": "O7h8Vel7oKVU"
      }
    },
    {
      "cell_type": "code",
      "source": [
        "mydata <- data.frame(age=numeric(0), gender=character(0), weight=numeric())\n",
        "mydata\n",
        "# mydata <- edit(mydata)"
      ],
      "metadata": {
        "id": "u1x81iKxo0Hu",
        "outputId": "a1b0b087-6b5b-43b6-e83e-b87c7eb949a0",
        "colab": {
          "base_uri": "https://localhost:8080/",
          "height": 98
        }
      },
      "execution_count": 3,
      "outputs": [
        {
          "output_type": "display_data",
          "data": {
            "text/html": [
              "<table class=\"dataframe\">\n",
              "<caption>A data.frame: 0 × 3</caption>\n",
              "<thead>\n",
              "\t<tr><th scope=col>age</th><th scope=col>gender</th><th scope=col>weight</th></tr>\n",
              "\t<tr><th scope=col>&lt;dbl&gt;</th><th scope=col>&lt;chr&gt;</th><th scope=col>&lt;dbl&gt;</th></tr>\n",
              "</thead>\n",
              "<tbody>\n",
              "</tbody>\n",
              "</table>\n"
            ],
            "text/markdown": "\nA data.frame: 0 × 3\n\n| age &lt;dbl&gt; | gender &lt;chr&gt; | weight &lt;dbl&gt; |\n|---|---|---|\n\n",
            "text/latex": "A data.frame: 0 × 3\n\\begin{tabular}{lll}\n age & gender & weight\\\\\n <dbl> & <chr> & <dbl>\\\\\n\\hline\n\\end{tabular}\n",
            "text/plain": [
              "     age gender weight"
            ]
          },
          "metadata": {}
        }
      ]
    },
    {
      "cell_type": "code",
      "source": [
        "# fix(mydata)"
      ],
      "metadata": {
        "id": "CAacsOJeptH1"
      },
      "execution_count": null,
      "outputs": []
    },
    {
      "cell_type": "code",
      "source": [
        "mydatatxt <- \"\n",
        "age gender weight\n",
        "25 m 166\n",
        "30 f 115\n",
        "18 f 120\n",
        "\"\n",
        "mydata <- read.table(header = TRUE, text = mydatatxt)\n",
        "mydata"
      ],
      "metadata": {
        "id": "vOPtJTensVYI",
        "outputId": "3cdae700-ac08-447a-8b49-f59bf18e20d8",
        "colab": {
          "base_uri": "https://localhost:8080/",
          "height": 192
        }
      },
      "execution_count": 4,
      "outputs": [
        {
          "output_type": "display_data",
          "data": {
            "text/html": [
              "<table class=\"dataframe\">\n",
              "<caption>A data.frame: 3 × 3</caption>\n",
              "<thead>\n",
              "\t<tr><th scope=col>age</th><th scope=col>gender</th><th scope=col>weight</th></tr>\n",
              "\t<tr><th scope=col>&lt;int&gt;</th><th scope=col>&lt;chr&gt;</th><th scope=col>&lt;int&gt;</th></tr>\n",
              "</thead>\n",
              "<tbody>\n",
              "\t<tr><td>25</td><td>m</td><td>166</td></tr>\n",
              "\t<tr><td>30</td><td>f</td><td>115</td></tr>\n",
              "\t<tr><td>18</td><td>f</td><td>120</td></tr>\n",
              "</tbody>\n",
              "</table>\n"
            ],
            "text/markdown": "\nA data.frame: 3 × 3\n\n| age &lt;int&gt; | gender &lt;chr&gt; | weight &lt;int&gt; |\n|---|---|---|\n| 25 | m | 166 |\n| 30 | f | 115 |\n| 18 | f | 120 |\n\n",
            "text/latex": "A data.frame: 3 × 3\n\\begin{tabular}{lll}\n age & gender & weight\\\\\n <int> & <chr> & <int>\\\\\n\\hline\n\t 25 & m & 166\\\\\n\t 30 & f & 115\\\\\n\t 18 & f & 120\\\\\n\\end{tabular}\n",
            "text/plain": [
              "  age gender weight\n",
              "1 25  m      166   \n",
              "2 30  f      115   \n",
              "3 18  f      120   "
            ]
          },
          "metadata": {}
        }
      ]
    },
    {
      "cell_type": "markdown",
      "source": [
        "# Импорт данных из текстового файла с разделителями\n",
        "\n",
        "$mydataframe <- read.table(file, options)$\n",
        "\n",
        ", где $file$ - текстовый файл ASCII, с разделителями,\n",
        "\n",
        "$options$ - список параметров:\n",
        "\n",
        "* $header$ - Логическое значение, указывающее содержит ли файл имена переменных в первой строке;\n",
        "* $sep$ - Определяет разделитель между ячейками.\n",
        "\n",
        " По умолчанию: $sep=\"пробел\"$.\n",
        "\n",
        " Для импорта из CSV -> $sep=\"пробел\"$\n",
        "\n",
        " Для импорта из TSV -> $sep=\"\\t\"$\n",
        "* $row.names$ - Необязательный параметр, определяющий одну или несколько переменных, представляющих идентефикаторы строк.\n",
        "* $col.names$ - Если первая строка в файле не содержит имен переменных ($header=FALSE$), то можно передать параметр $col.names$ определяющий текстовый вектор с именами переменных. Есл $header=FALSE$ и параметр $col.names$ не задан, то переменные получат имена V1, V2 и т.д.\n",
        "* $na.strings$ - Необязательный текстовый вектор, определяющий значения, которые должны интерпретироваться как отсутствующие значения. Например, $na.strings=c(\"9\", \"?\")$ преобразует все значения 9 и ? в $NA$.\n",
        "* $colClasses$ - Необязательный вектор классов, назначаемых столбцам. Например, передать параметр $colClasses = C(\"numeric\", \"numeric\", \"character\", \"NULL\", \"numeric\")$ то функция $read.table()$ прочитает первые два столбца как числовые, третий столбец как текстовый, пропустит четвертый столбец и прочитает пятый столбец как числовой. Если данных больше пяти столбцов, то параметр $colClasses$ будет использован повторно\n",
        "* $quote$ - Символ(ы), используемый(е) для ограничения строк, содержащих специальные символы. Обычно в этом параметре передается двойная (\") или одинарная (') кавычка\n",
        "* $skip$ - Количество строк в файле, которые нужно пропустить перед началом чтения (коментарии к файлу)\n",
        "* $stringAsFactors$ - Логическое значение, указывающее на необходимость преобразования текстовых переменных в факторы. При импорте больших текстовых файлов $stringAsFactors = FALSE$ может значительно ускорить обработку.\n",
        "* $text$ - Текстовая строка для импорта. Если передан парамер $text$, то параметр $file$ можно опустить\n"
      ],
      "metadata": {
        "id": "keDnDgR_WpHE"
      }
    },
    {
      "cell_type": "code",
      "source": [
        "grades <- read.table(\"/content/studentgrades.csv\", header=TRUE, row.names = \"StudentID\", sep = \",\")\n",
        "grades\n",
        "str(grades)"
      ],
      "metadata": {
        "id": "KiLeKkA2Q7in",
        "outputId": "a9dfb4b5-b672-46b0-d9dc-bd25d0ab4481",
        "colab": {
          "base_uri": "https://localhost:8080/",
          "height": 362
        }
      },
      "execution_count": 6,
      "outputs": [
        {
          "output_type": "stream",
          "name": "stderr",
          "text": [
            "Warning message in read.table(\"/content/studentgrades.csv\", header = TRUE, row.names = \"StudentID\", :\n",
            "“incomplete final line found by readTableHeader on '/content/studentgrades.csv'”\n"
          ]
        },
        {
          "output_type": "display_data",
          "data": {
            "text/html": [
              "<table class=\"dataframe\">\n",
              "<caption>A data.frame: 4 × 5</caption>\n",
              "<thead>\n",
              "\t<tr><th></th><th scope=col>First</th><th scope=col>Last</th><th scope=col>Math</th><th scope=col>Science</th><th scope=col>Social.Studies</th></tr>\n",
              "\t<tr><th></th><th scope=col>&lt;chr&gt;</th><th scope=col>&lt;chr&gt;</th><th scope=col>&lt;int&gt;</th><th scope=col>&lt;int&gt;</th><th scope=col>&lt;int&gt;</th></tr>\n",
              "</thead>\n",
              "<tbody>\n",
              "\t<tr><th scope=row>11</th><td>Bob </td><td>Smith        </td><td>90</td><td>80</td><td>67</td></tr>\n",
              "\t<tr><th scope=row>12</th><td>Jane</td><td>Weary        </td><td>75</td><td>NA</td><td>80</td></tr>\n",
              "\t<tr><th scope=row>10</th><td>Dan </td><td>Thornton, III</td><td>65</td><td>75</td><td>70</td></tr>\n",
              "\t<tr><th scope=row>40</th><td>Mary</td><td>O'Leary      </td><td>90</td><td>95</td><td>92</td></tr>\n",
              "</tbody>\n",
              "</table>\n"
            ],
            "text/markdown": "\nA data.frame: 4 × 5\n\n| <!--/--> | First &lt;chr&gt; | Last &lt;chr&gt; | Math &lt;int&gt; | Science &lt;int&gt; | Social.Studies &lt;int&gt; |\n|---|---|---|---|---|---|\n| 11 | Bob  | Smith         | 90 | 80 | 67 |\n| 12 | Jane | Weary         | 75 | NA | 80 |\n| 10 | Dan  | Thornton, III | 65 | 75 | 70 |\n| 40 | Mary | O'Leary       | 90 | 95 | 92 |\n\n",
            "text/latex": "A data.frame: 4 × 5\n\\begin{tabular}{r|lllll}\n  & First & Last & Math & Science & Social.Studies\\\\\n  & <chr> & <chr> & <int> & <int> & <int>\\\\\n\\hline\n\t11 & Bob  & Smith         & 90 & 80 & 67\\\\\n\t12 & Jane & Weary         & 75 & NA & 80\\\\\n\t10 & Dan  & Thornton, III & 65 & 75 & 70\\\\\n\t40 & Mary & O'Leary       & 90 & 95 & 92\\\\\n\\end{tabular}\n",
            "text/plain": [
              "   First Last          Math Science Social.Studies\n",
              "11 Bob   Smith         90   80      67            \n",
              "12 Jane  Weary         75   NA      80            \n",
              "10 Dan   Thornton, III 65   75      70            \n",
              "40 Mary  O'Leary       90   95      92            "
            ]
          },
          "metadata": {}
        },
        {
          "output_type": "stream",
          "name": "stdout",
          "text": [
            "'data.frame':\t4 obs. of  5 variables:\n",
            " $ First         : chr  \"Bob\" \"Jane\" \"Dan\" \"Mary\"\n",
            " $ Last          : chr  \"Smith\" \"Weary\" \"Thornton, III\" \"O'Leary\"\n",
            " $ Math          : int  90 75 65 90\n",
            " $ Science       : int  80 NA 75 95\n",
            " $ Social.Studies: int  67 80 70 92\n"
          ]
        }
      ]
    },
    {
      "cell_type": "code",
      "source": [
        "# Импортируем те же данные, указав класс для каждой переменной\n",
        "gades <- read.table(\"/content/studentgrades.csv\",\n",
        " header = TRUE, row.names = \"StudentID\", sep = \",\",\n",
        " colClasses = c(\"character\", \"character\", \"character\", \"numeric\", \"numeric\", \"numeric\") )\n",
        "gades\n",
        "str(gades)"
      ],
      "metadata": {
        "id": "Q_EyEAIBSTTZ",
        "outputId": "cebdaa5c-b4f7-4e44-8195-aa2390a93846",
        "colab": {
          "base_uri": "https://localhost:8080/",
          "height": 362
        }
      },
      "execution_count": 8,
      "outputs": [
        {
          "output_type": "stream",
          "name": "stderr",
          "text": [
            "Warning message in read.table(\"/content/studentgrades.csv\", header = TRUE, row.names = \"StudentID\", :\n",
            "“incomplete final line found by readTableHeader on '/content/studentgrades.csv'”\n"
          ]
        },
        {
          "output_type": "display_data",
          "data": {
            "text/html": [
              "<table class=\"dataframe\">\n",
              "<caption>A data.frame: 4 × 5</caption>\n",
              "<thead>\n",
              "\t<tr><th></th><th scope=col>First</th><th scope=col>Last</th><th scope=col>Math</th><th scope=col>Science</th><th scope=col>Social.Studies</th></tr>\n",
              "\t<tr><th></th><th scope=col>&lt;chr&gt;</th><th scope=col>&lt;chr&gt;</th><th scope=col>&lt;dbl&gt;</th><th scope=col>&lt;dbl&gt;</th><th scope=col>&lt;dbl&gt;</th></tr>\n",
              "</thead>\n",
              "<tbody>\n",
              "\t<tr><th scope=row>011</th><td>Bob </td><td>Smith        </td><td>90</td><td>80</td><td>67</td></tr>\n",
              "\t<tr><th scope=row>012</th><td>Jane</td><td>Weary        </td><td>75</td><td>NA</td><td>80</td></tr>\n",
              "\t<tr><th scope=row>010</th><td>Dan </td><td>Thornton, III</td><td>65</td><td>75</td><td>70</td></tr>\n",
              "\t<tr><th scope=row>040</th><td>Mary</td><td>O'Leary      </td><td>90</td><td>95</td><td>92</td></tr>\n",
              "</tbody>\n",
              "</table>\n"
            ],
            "text/markdown": "\nA data.frame: 4 × 5\n\n| <!--/--> | First &lt;chr&gt; | Last &lt;chr&gt; | Math &lt;dbl&gt; | Science &lt;dbl&gt; | Social.Studies &lt;dbl&gt; |\n|---|---|---|---|---|---|\n| 011 | Bob  | Smith         | 90 | 80 | 67 |\n| 012 | Jane | Weary         | 75 | NA | 80 |\n| 010 | Dan  | Thornton, III | 65 | 75 | 70 |\n| 040 | Mary | O'Leary       | 90 | 95 | 92 |\n\n",
            "text/latex": "A data.frame: 4 × 5\n\\begin{tabular}{r|lllll}\n  & First & Last & Math & Science & Social.Studies\\\\\n  & <chr> & <chr> & <dbl> & <dbl> & <dbl>\\\\\n\\hline\n\t011 & Bob  & Smith         & 90 & 80 & 67\\\\\n\t012 & Jane & Weary         & 75 & NA & 80\\\\\n\t010 & Dan  & Thornton, III & 65 & 75 & 70\\\\\n\t040 & Mary & O'Leary       & 90 & 95 & 92\\\\\n\\end{tabular}\n",
            "text/plain": [
              "    First Last          Math Science Social.Studies\n",
              "011 Bob   Smith         90   80      67            \n",
              "012 Jane  Weary         75   NA      80            \n",
              "010 Dan   Thornton, III 65   75      70            \n",
              "040 Mary  O'Leary       90   95      92            "
            ]
          },
          "metadata": {}
        },
        {
          "output_type": "stream",
          "name": "stdout",
          "text": [
            "'data.frame':\t4 obs. of  5 variables:\n",
            " $ First         : chr  \"Bob\" \"Jane\" \"Dan\" \"Mary\"\n",
            " $ Last          : chr  \"Smith\" \"Weary\" \"Thornton, III\" \"O'Leary\"\n",
            " $ Math          : num  90 75 65 90\n",
            " $ Science       : num  80 NA 75 95\n",
            " $ Social.Studies: num  67 80 70 92\n"
          ]
        }
      ]
    },
    {
      "cell_type": "markdown",
      "source": [
        "# Импорт данных через соединения\n",
        "\n",
        "Вместо имени файла можно использовать функции:\n",
        "* $file()$\n",
        "* $gzfile()$\n",
        "* $bzfile()$\n",
        "* $xzfile()$\n",
        "* $unz()$\n",
        "* $url()$\n",
        "\n",
        "Подробности $help(file)$"
      ],
      "metadata": {
        "id": "cbogHDFoy7z7"
      }
    },
    {
      "cell_type": "markdown",
      "source": [
        "# Дополнительные функции чтения данных\n",
        "\n",
        "Это функции \"обертки\", которые вызывают $read.table()$ со своими параметрами\n",
        "\n",
        "* $read.csv()$ - $header = TRUE$ и $sep = \",\"$\n",
        "* $read.delim()$ - $header = TRUE$ и $sep = \"\\t\"$"
      ],
      "metadata": {
        "id": "DuutKQt40WAB"
      }
    },
    {
      "cell_type": "code",
      "source": [
        "grades <- read.csv(\"/content/studentgrades.csv\")\n",
        "grades"
      ],
      "metadata": {
        "id": "PeNdgFB21vBS",
        "outputId": "218c7de9-1a23-465e-d656-3772d7675504",
        "colab": {
          "base_uri": "https://localhost:8080/",
          "height": 258
        }
      },
      "execution_count": 10,
      "outputs": [
        {
          "output_type": "stream",
          "name": "stderr",
          "text": [
            "Warning message in read.table(file = file, header = header, sep = sep, quote = quote, :\n",
            "“incomplete final line found by readTableHeader on '/content/studentgrades.csv'”\n"
          ]
        },
        {
          "output_type": "display_data",
          "data": {
            "text/html": [
              "<table class=\"dataframe\">\n",
              "<caption>A data.frame: 4 × 6</caption>\n",
              "<thead>\n",
              "\t<tr><th scope=col>StudentID</th><th scope=col>First</th><th scope=col>Last</th><th scope=col>Math</th><th scope=col>Science</th><th scope=col>Social.Studies</th></tr>\n",
              "\t<tr><th scope=col>&lt;int&gt;</th><th scope=col>&lt;chr&gt;</th><th scope=col>&lt;chr&gt;</th><th scope=col>&lt;int&gt;</th><th scope=col>&lt;int&gt;</th><th scope=col>&lt;int&gt;</th></tr>\n",
              "</thead>\n",
              "<tbody>\n",
              "\t<tr><td>11</td><td>Bob </td><td>Smith        </td><td>90</td><td>80</td><td>67</td></tr>\n",
              "\t<tr><td>12</td><td>Jane</td><td>Weary        </td><td>75</td><td>NA</td><td>80</td></tr>\n",
              "\t<tr><td>10</td><td>Dan </td><td>Thornton, III</td><td>65</td><td>75</td><td>70</td></tr>\n",
              "\t<tr><td>40</td><td>Mary</td><td>O'Leary      </td><td>90</td><td>95</td><td>92</td></tr>\n",
              "</tbody>\n",
              "</table>\n"
            ],
            "text/markdown": "\nA data.frame: 4 × 6\n\n| StudentID &lt;int&gt; | First &lt;chr&gt; | Last &lt;chr&gt; | Math &lt;int&gt; | Science &lt;int&gt; | Social.Studies &lt;int&gt; |\n|---|---|---|---|---|---|\n| 11 | Bob  | Smith         | 90 | 80 | 67 |\n| 12 | Jane | Weary         | 75 | NA | 80 |\n| 10 | Dan  | Thornton, III | 65 | 75 | 70 |\n| 40 | Mary | O'Leary       | 90 | 95 | 92 |\n\n",
            "text/latex": "A data.frame: 4 × 6\n\\begin{tabular}{llllll}\n StudentID & First & Last & Math & Science & Social.Studies\\\\\n <int> & <chr> & <chr> & <int> & <int> & <int>\\\\\n\\hline\n\t 11 & Bob  & Smith         & 90 & 80 & 67\\\\\n\t 12 & Jane & Weary         & 75 & NA & 80\\\\\n\t 10 & Dan  & Thornton, III & 65 & 75 & 70\\\\\n\t 40 & Mary & O'Leary       & 90 & 95 & 92\\\\\n\\end{tabular}\n",
            "text/plain": [
              "  StudentID First Last          Math Science Social.Studies\n",
              "1 11        Bob   Smith         90   80      67            \n",
              "2 12        Jane  Weary         75   NA      80            \n",
              "3 10        Dan   Thornton, III 65   75      70            \n",
              "4 40        Mary  O'Leary       90   95      92            "
            ]
          },
          "metadata": {}
        }
      ]
    },
    {
      "cell_type": "markdown",
      "source": [
        "# Импорт данных из Excel\n",
        "\n",
        "Лучший способ импортировать файл в формате Excel – предварительно сохранить его в формате текстового файла с разделителями\n",
        "и только потом импортировать, как описано выше. Также файлы\n",
        "Excel можно импортировать с помощью пакета $readxl$.\n",
        "\n",
        "Пакет $readxl$ можно использовать для чтения файлов Excel\n",
        "в форматах $.xls$ и $.xlsx$. Функция $read\\_excel()$ импортирует рабо-\n",
        "чий лист в таблицу данных в виде усовершенствованной таблицы\n",
        "tibble. Самый простой вариант вызова – $read\\_excel(file, n)$, где $file$ определяет путь к книге Excel, а $n$ – номер импортируемой таблицы, в которой первая строка содержит имена переменных. Например:\n",
        "$$library(readxl)$$\n",
        "$$workbook <- \"c:/myworkbook.xlsx\"$$\n",
        "$$mydataframe <- read\\_xlsx(workbook, 1)$$\n",
        "импортирует первый лист из книги $myworkbook.xlsx$, хранящейся на\n",
        "диске C:, и сохранит его в виде таблицы данных mydataframe.\n",
        "Функция $read\\_excel()$ принимает параметры, позволяющие задать определенный диапазон ячеек (например, $range = \"Mysheet!B2:G14\"$) вместе с классом каждого столбца ($col\\_types$).\n",
        "Подробности ищите в $help(read\\_excel)$.\n",
        "В числе других пакетов, которые могут помочь в работе с фай-\n",
        "лами Excel, можно назвать: $xlsx$, $XLConnect$ и $openxlsx$. Пакеты $xlsx$ и $XLConnect$ требуют наличия установленной среды выполнения\n",
        "Java на компьютере, а $openxlsx$ – нет. В отличие от $readxl$, эти па-\n",
        "кеты могут не только импортировать листы, но также создавать\n",
        "файлы Excel и управлять ими. Программистам, разрабатывающим\n",
        "интерфейс между R и Excel, следует внимательно изучить один или\n",
        "несколько из этих пакетов."
      ],
      "metadata": {
        "id": "JWsWBQKX2IbE"
      }
    },
    {
      "cell_type": "code",
      "source": [
        "library(readxl)\n",
        "workbook <- \"c:/myworkbook.xlsx\"\n",
        "mydataframe <- read_xlsx(workbook,1)"
      ],
      "metadata": {
        "id": "mnBz1-jeL0M0"
      },
      "execution_count": null,
      "outputs": []
    },
    {
      "cell_type": "markdown",
      "source": [
        "# Импорт данных из JSON-файлов\n",
        "\n",
        "В последнее время все чаще данные распространяются в виде файлов в формате JSON (JavaScript Object Notation – форма записи\n",
        "объектов JavaScript). В R есть несколько пакетов для работы с такими файлами. Например, пакет jsonlite позволяет читать, писать\n",
        "и преобразовывать объекты JSON. Данные в формате JSON можно\n",
        "импортировать непосредственно в таблицы данных R. Обсуждение этого формата выходит за рамки нашей книги. Заинтересованным в работе с JSON-файлами я рекомендую обратиться к прекрасной справочной документации с описанием пакета jsonlite на сайте https://cran.r-project.org/web/packages/jsonlite/."
      ],
      "metadata": {
        "id": "lR9X1-uBMHKx"
      }
    },
    {
      "cell_type": "markdown",
      "source": [
        "# Извлечение данных из веб страниц\n",
        "\n",
        "Данные из интернета можно получить методом веб-скраппинга (web-scrapping) или с использованием прикладных программных интерфейсов (Application Programming Interfaces, API). Вебскраппинг обычно используется для извлечения информации, находящейся внутри веб-страниц, тогда как API позволяют взаимодействовать с веб-службами и удаленными хранилищами данных.\n",
        "\n",
        "При извлечении данных из интернета методом веб-скраппинга пользователи обычно сохраняют их в виде объектов R для дальнейшего анализа. Например, при помощи функции readLines() можно извлечь текст из веб-страницы и дальше работать с ним, используя функции $grep()$ и $gsub()$.\n",
        "\n",
        "Пакет rvest предлагает функции, упрощающие извлечение данных из веб-страниц. Он был создан по образу и подобию библиотеки Beautiful Soup для Python. Для извлечения информации из сложно устроенных веб-страниц можно также использовать пакеты RCurl и XML. Более полную информацию, включая примеры, можно найти в руководстве «Examples of Web Scraping with R» на сайте ProgrammingR (http://www.programmingr.com/).\n",
        "\n",
        "Прикладные интерфейсы API определяют порядок взаимодействий программных компонентов друг с другом. В R имеется несколько пакетов, использующих такой подход для извлечения данных из веб-ресурсов, служащих источниками данных по биологии, медицине, науках о Земле, физических науках, экономике, финансах, литературе, маркетингу и т. д.\n",
        "\n",
        "Например, интересующиеся социальными сетями могут получить доступ к данным в Twitter через twitteR, в Facebook через Rfacebook и в Flickr через Rflickr. Также есть пакеты для доступа к популярным веб-службам Google, Amazon, Dropbox, Salesforce и др. Полный список пакетов для доступа к веб-ресурсам вы найдете в статье «CRAN Task View: Web Technologies and Services» (http://mng.bz/370r)."
      ],
      "metadata": {
        "id": "Gz3DXH39Nuuv"
      }
    },
    {
      "cell_type": "markdown",
      "source": [
        "# Импорт данных из SPSS\n",
        "\n",
        "Наборы данных в формате IBM SPSS можно импортировать в R при помощи функции $read_spss()$ из пакета haven. Сначала нужно скачать и установить пакет:\n",
        "\n",
        "$install.packages(\"haven\")$\n",
        "\n",
        "\n",
        "и затем выполнить следующий код:\n",
        "\n",
        "$library(haven)$\n",
        "\n",
        "$mydataframe <- read\\_spss(\"mydata.sav\")$\n",
        "\n",
        "Набор данных будет импортирован в усовершенствованную таблицу данных (tibble), а переменным, содержащим метки импортированных значений SPSS, будет назначен класс labelled. Эти переменные класса labelled можно преобразовать в факторы, используя следующий код:\n",
        "\n",
        "$labelled_vars <- names(mydataframe)[sapply(mydataframe, is.labelled)]$\n",
        "\n",
        "$for (vars in labelled\\_vars)${\n",
        "\n",
        "$mydataframe[[vars]] = as\\_factor(mydataframe[[vars]])$\n",
        "\n",
        "}\n",
        "\n",
        "Пакет haven имеет ряд дополнительных функций для чтения\n",
        "файлов SPSS в сжатом ($.zsav$) или транспортном ($.por$) формате."
      ],
      "metadata": {
        "id": "JSu6mpuPRyZd"
      }
    },
    {
      "cell_type": "markdown",
      "source": [
        "# Импорт данных из SAS\n",
        "\n",
        "Наборы данных SAS можно импортировать с помощью функции $read_sas()$ из пакета haven. После установки пакета данные можно импортировать, как показано ниже:\n",
        "\n",
        "$library(haven)$\n",
        "\n",
        "$mydataframe <- read\\_sas(\"mydata.sas7bdat\")$\n",
        "\n",
        "Если у вас есть и каталог форматов переменных, их также можно импортировать и применять к данным, например:\n",
        "\n",
        "$mydataframe <- read\\_sas(\"mydata.sas7bdat\",$\n",
        "\n",
        "$catalog\\_file = \"mydata.sas7bcat\")$\n",
        "\n",
        "В любом случае результатом будет усовершенствованная таблица\n",
        "данных tibble.\n",
        "Имеется также коммерческий продукт Stat/Transfer (описанный в разделе 2.3.10), отлично справляющийся с импортом наборов данных из SAS (включая любые существующие форматы переменных) в виде таблиц данных R."
      ],
      "metadata": {
        "id": "Askz4lvFTV_Y"
      }
    },
    {
      "cell_type": "markdown",
      "source": [
        "# Импорт данных из Stata\n",
        "\n",
        "Импортировать данные из Stata в R очень просто:\n",
        "\n",
        "$library(haven)$\n",
        "\n",
        "$mydataframe <- read\\_dta(\"mydata.dta\")$\n",
        "\n",
        "Здесь $mydata.dta$ – это набор данных Stata, а mydataframe – это итоговая таблица данных R в формате усовершенствованной таблицы\n",
        "tibble."
      ],
      "metadata": {
        "id": "mgdzo1YXT8v4"
      }
    },
    {
      "cell_type": "markdown",
      "source": [
        "# Импорт из баз данных\n",
        "\n",
        "R может взаимодействовать с самыми разными базами данных,включая Microsoft SQL Server, Microsoft Access, MySQL, Oracle, PostgreSQL,\n",
        "DB2, Sybase, Teradata и SQLite. Некоторые пакеты предоставляют доступ через оригинальные драйверы баз данных, тогда как другие обеспечивают доступ к данным через ODBC (Open Database Connectivity interface – открытый интерфейс взаимодействия с базами данных) или JDBC (Java Database Connectivity interface – Java-интерфейс взаимодействия с базами данных). Поддержка в R доступа к данным, хранящимся во внешних базах данных, позволяет эффективно обрабатывать большие наборы данных (см. приложение F), используя мощные возможности обоих языков, SQL и R.\n"
      ],
      "metadata": {
        "id": "06HJiEt8rtKV"
      }
    },
    {
      "cell_type": "markdown",
      "source": [
        "## Интерфейс ODBC\n",
        "\n",
        "Самый, пожалуй, популярный способ доступа к базам данных в R – с использованием пакета RODBC, позволяющий подключиться к любой базе данных, для которой имеется драйвер ODBC. К таким базам данных относятся все перечисленные выше.\n",
        "\n",
        "Первый шаг – установка и настройка драйвера ODBC для конкретной операционной системы и базы данных, поскольку они не являются частью R. Если нужные драйверы у вас еще не установлены, их можно найти в интернете (хорошей отправной точкой может стать статья «Setting up ODBC Drivers», доступная по адресу: https://db.rstudio.com/best-practices/drivers/).\n",
        "\n",
        "После установки и настройки драйверов установите пакет RODBC, выполнив инструкцию install.packages(\"RODBC\").\n",
        "\n",
        "Основные функции, предлагаемые этим пакетом, перечислены ниже:\n",
        "* $odbcConnect(dsn, uid=\"\", pwd=\"\")$ - Открывает соединение с базой данных ODBC.\n",
        "* $sqlFetch(channel, sqltable)$ - Читает таблицу из базы данных ODBC в таблицу данных в R.\n",
        "* $sqlQuery(channel,query)$ - Посылает запрос в базу данных ODBC и возвращает результаты.\n",
        "* $sqlSave(channel, mydf, tablename = sqltable, append=FALSE)$ - Сохраняет или обновляет (append=TRUE) таблицу данных в виде таблицы в базе данных ODBC.\n",
        "* $sqlDrop(channel, sqltable)$ - Удаляет таблицу из базы данных ODBC.\n",
        "* $close(channel)$ - Закрывает соединение.\n",
        "\n",
        "Пакет RODBC устанавливает двустороннее соединение между R и базой данных SQL, что позволяет не только загружать данные в R, но и изменять содержимое базы данных из программы на R. Представьте, что вам нужно импортировать две таблицы (Crime – преступление и Punishment – наказание) из БД в таблицы данных R с именами $crimedat$ и $pundat$ соответственно. Это можно сделать так:\n",
        "\n",
        "$library(RODBC)$\n",
        "\n",
        "$myconn <-odbcConnect(\"mydsn\", uid=\"Rob\", pwd=\"aardvark\")$\n",
        "\n",
        "$crimedat <- sqlFetch(myconn, Crime)$\n",
        "\n",
        "$pundat <- sqlQuery(myconn, \"select * from Punishment\")$\n",
        "\n",
        "&close(myconn)$\n",
        "\n",
        "Этот код загружает пакет RODBC и открывает соединение с базой данных ODBC через зарегистрированное имя источника данных (mydsn) с дентификатором пользователя UID (rob) и паролем (aardvark). Объект соединения передается в функцию sqlFetch, которая импортирует содержимое таблицы Crime в таблицу данных crimedat. Затем выполняется SQL-запрос select, извлекающий данные из таблицы Punishment, и эти данные сохраняются в таблице данных pundat. В заключение соединение закрывается.\n",
        "\n",
        "Функция $sqlQuery()$ открывает массу возможностей, позволяя выполнить любой действительный SQL-запрос. Эта гибкость дает возможность извлекать отдельные переменные и подмножества данных, создавать новые переменные, а также перекодировать и переименовывать существующие переменные.\n"
      ],
      "metadata": {
        "id": "m_SAS9r4uUev"
      }
    },
    {
      "cell_type": "markdown",
      "source": [
        "## Пакеты, связанные с DBI\n",
        "\n",
        "Пакет DBI – универсальный и последовательный пользовательский интерфейс для доступа к базам данных. Созданный на его основе фреймворк RJDBC позволяет получить доступ к БД через драйвер JDBC. Не забудьте перед его использованием установить драйверы JDBC для соответствующей операционной системы и базы данных. В числе других полезных пакетов, основанных на DBI, можно назвать: RMySQL, ROracle, RPostgreSQL и RSQLite. Эти пакеты содержат также оригинальные драйверы для конкретных баз данных, однако они могут работать не во всех операционных системах. Ознакомьтесь с документацией на CRAN (http://cran.r-project.org), чтобы узнать подробности."
      ],
      "metadata": {
        "id": "lgFbVmXpzpYj"
      }
    },
    {
      "cell_type": "markdown",
      "source": [
        "# Импорт данных при помощи Stat/Transfer\n",
        "\n",
        "Прежде чем закончить обсуждение импорта данных, стоит упомянуть коммерческий продукт, способный значительно упростить импорт данных.Stat/Transfer (https://www.stattransfer.com/) – это самостоятельная программа, которая может преобразовывать данные в любой из 34 форматов, включая R."
      ],
      "metadata": {
        "id": "8HR-jesm0Gfa"
      }
    },
    {
      "cell_type": "markdown",
      "source": [
        "# Аннотирование наборов данных\n",
        "\n",
        "Исследователи обычно аннотируют свои наборы данных, чтобы упростить интерпретацию результатов. Аннотирование, как правило, заключается в добавлении поясняющих подписей (меток) к именам переменных и кодам данных, используемым в категориальных переменных. Например, переменную age можно снабдить пояснительной подписью \"Age at hospitalization (in years)\" («Возраст в момент госпитализации (в годах)»). А коды значений 1 и 2 для переменной gender – подписями \"male\" (мужской) и \"female\"\n",
        "(женский)."
      ],
      "metadata": {
        "id": "rOrsH4cq0s9B"
      }
    },
    {
      "cell_type": "markdown",
      "source": [
        "## Подписи для переменных\n",
        "\n",
        "К сожалению, R имеет довольно ограниченные возможности для работы с подписями для переменных. Один из подходов: оформить подпись в виде имени переменной, а в операциях ссылаться на нее по ее индексу. Вернемся к предыдущему примеру с данными о пациентах. Во втором столбце, age, хранится возраст пациентов, в котором они попали в больницу. Инструкция\n",
        "\n",
        "$names(patientdata)[2] <- \"Age at hospitalization (in years)\"$\n",
        "\n",
        "переименует age в \"Age at hospitalization (in years)\". Конечно, это новое название слишком длинное, чтобы писать его в программах по многу раз. Вместо этого на переменную можно ссылаться как patientdata[2], при этом в выводе будет отображаться ее полное имя \"Age at hospitalization (in years)\". Конечно, это не идеальное решение, и, возможно, разумнее остановиться на более простом имени (например, admissionAge)."
      ],
      "metadata": {
        "id": "NEafiQSP1UZ9"
      }
    },
    {
      "cell_type": "markdown",
      "source": [
        "## Подписи для значений переменных\n",
        "\n",
        "Функция $factor()$ позволяет добавлять подписи к значениям категориальных переменных. Продолжим наш пример и предположим, что у нас есть переменная gender, в которой значение «мужской пол» закодировано как 1, а «женский пол» – как 2. Подписи к значениям этой переменной можно создать так:\n",
        "\n",
        "$patientdata$gender <- factor(patientdata$gender,$\n",
        "\n",
        "$levels = c(1,2),$\n",
        "\n",
        "$labels = c(\"male\", \"female\"))$\n",
        "\n",
        "Здесь параметр $levels$ определяет фактические значения перемен-\n",
        "ной, а $labels$ – текстовый вектор с соответствующими подписями."
      ],
      "metadata": {
        "id": "oUVoA1RW19zU"
      }
    }
  ]
}