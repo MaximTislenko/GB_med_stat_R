{
  "nbformat": 4,
  "nbformat_minor": 0,
  "metadata": {
    "colab": {
      "provenance": [],
      "include_colab_link": true
    },
    "kernelspec": {
      "name": "ir",
      "display_name": "R"
    },
    "language_info": {
      "name": "R"
    }
  },
  "cells": [
    {
      "cell_type": "markdown",
      "metadata": {
        "id": "view-in-github",
        "colab_type": "text"
      },
      "source": [
        "<a href=\"https://colab.research.google.com/github/MaximTislenko/GB_med_stat_R/blob/main/%D0%A1%D0%BE%D0%B7%D0%B4_%D0%BD%D0%B0%D0%B1%D0%BE%D1%80%D0%B0_05.ipynb\" target=\"_parent\"><img src=\"https://colab.research.google.com/assets/colab-badge.svg\" alt=\"Open In Colab\"/></a>"
      ]
    },
    {
      "cell_type": "markdown",
      "source": [
        "# Создание набора данных"
      ],
      "metadata": {
        "id": "yaZVoNFFoC1F"
      }
    },
    {
      "cell_type": "code",
      "execution_count": 1,
      "metadata": {
        "id": "AdrY4BSy4w1z",
        "outputId": "18a4a43b-634e-4fdf-f347-85a3339bbe32",
        "colab": {
          "base_uri": "https://localhost:8080/"
        }
      },
      "outputs": [
        {
          "output_type": "stream",
          "name": "stderr",
          "text": [
            "── \u001b[1mAttaching core tidyverse packages\u001b[22m ──────────────────────── tidyverse 2.0.0 ──\n",
            "\u001b[32m✔\u001b[39m \u001b[34mdplyr    \u001b[39m 1.1.4     \u001b[32m✔\u001b[39m \u001b[34mreadr    \u001b[39m 2.1.5\n",
            "\u001b[32m✔\u001b[39m \u001b[34mforcats  \u001b[39m 1.0.0     \u001b[32m✔\u001b[39m \u001b[34mstringr  \u001b[39m 1.5.1\n",
            "\u001b[32m✔\u001b[39m \u001b[34mggplot2  \u001b[39m 3.4.4     \u001b[32m✔\u001b[39m \u001b[34mtibble   \u001b[39m 3.2.1\n",
            "\u001b[32m✔\u001b[39m \u001b[34mlubridate\u001b[39m 1.9.3     \u001b[32m✔\u001b[39m \u001b[34mtidyr    \u001b[39m 1.3.1\n",
            "\u001b[32m✔\u001b[39m \u001b[34mpurrr    \u001b[39m 1.0.2     \n",
            "── \u001b[1mConflicts\u001b[22m ────────────────────────────────────────── tidyverse_conflicts() ──\n",
            "\u001b[31m✖\u001b[39m \u001b[34mpurrr\u001b[39m::\u001b[32m%||%()\u001b[39m   masks \u001b[34mbase\u001b[39m::%||%()\n",
            "\u001b[31m✖\u001b[39m \u001b[34mdplyr\u001b[39m::\u001b[32mfilter()\u001b[39m masks \u001b[34mstats\u001b[39m::filter()\n",
            "\u001b[31m✖\u001b[39m \u001b[34mdplyr\u001b[39m::\u001b[32mlag()\u001b[39m    masks \u001b[34mstats\u001b[39m::lag()\n",
            "\u001b[36mℹ\u001b[39m Use the conflicted package (\u001b[3m\u001b[34m<http://conflicted.r-lib.org/>\u001b[39m\u001b[23m) to force all conflicts to become errors\n"
          ]
        }
      ],
      "source": [
        "library(tidyverse)\n",
        "library(readxl)"
      ]
    },
    {
      "cell_type": "markdown",
      "source": [
        "# Основы управления данными"
      ],
      "metadata": {
        "id": "MZJyHFv-whvR"
      }
    },
    {
      "cell_type": "code",
      "source": [
        "leadership <- data.frame(\n",
        "  manager = c(1, 2, 3, 4, 5),\n",
        "  date = c(\"10/24/08\", \"10/28/08\", \"10/1/08\", \"10/12/08\", \"5/1/09\"),\n",
        "  country = c(\"US\", \"US\", \"UK\", \"UK\", \"UK\"),\n",
        "  gender = c(\"M\", \"F\", \"F\", \"M\", \"F\"),\n",
        "  age = c(32, 45, 25, 39, 99),\n",
        "  q1 = c(5, 3, 3, 3, 2),\n",
        "  q2 = c(4, 5, 5, 3, 2),\n",
        "  q3 = c(5, 2, 5, 4, 1),\n",
        "  q4 = c(5, 5, 5, NA, 2),\n",
        "  q5 = c(5, 5, 2, NA, 1)\n",
        "  )\n",
        "\n",
        "leadership"
      ],
      "metadata": {
        "id": "yVZvv71cwtnD",
        "outputId": "cb0c704b-d21a-494f-9a0a-55be105124ff",
        "colab": {
          "base_uri": "https://localhost:8080/",
          "height": 255
        }
      },
      "execution_count": 2,
      "outputs": [
        {
          "output_type": "display_data",
          "data": {
            "text/html": [
              "<table class=\"dataframe\">\n",
              "<caption>A data.frame: 5 × 10</caption>\n",
              "<thead>\n",
              "\t<tr><th scope=col>manager</th><th scope=col>date</th><th scope=col>country</th><th scope=col>gender</th><th scope=col>age</th><th scope=col>q1</th><th scope=col>q2</th><th scope=col>q3</th><th scope=col>q4</th><th scope=col>q5</th></tr>\n",
              "\t<tr><th scope=col>&lt;dbl&gt;</th><th scope=col>&lt;chr&gt;</th><th scope=col>&lt;chr&gt;</th><th scope=col>&lt;chr&gt;</th><th scope=col>&lt;dbl&gt;</th><th scope=col>&lt;dbl&gt;</th><th scope=col>&lt;dbl&gt;</th><th scope=col>&lt;dbl&gt;</th><th scope=col>&lt;dbl&gt;</th><th scope=col>&lt;dbl&gt;</th></tr>\n",
              "</thead>\n",
              "<tbody>\n",
              "\t<tr><td>1</td><td>10/24/08</td><td>US</td><td>M</td><td>32</td><td>5</td><td>4</td><td>5</td><td> 5</td><td> 5</td></tr>\n",
              "\t<tr><td>2</td><td>10/28/08</td><td>US</td><td>F</td><td>45</td><td>3</td><td>5</td><td>2</td><td> 5</td><td> 5</td></tr>\n",
              "\t<tr><td>3</td><td>10/1/08 </td><td>UK</td><td>F</td><td>25</td><td>3</td><td>5</td><td>5</td><td> 5</td><td> 2</td></tr>\n",
              "\t<tr><td>4</td><td>10/12/08</td><td>UK</td><td>M</td><td>39</td><td>3</td><td>3</td><td>4</td><td>NA</td><td>NA</td></tr>\n",
              "\t<tr><td>5</td><td>5/1/09  </td><td>UK</td><td>F</td><td>99</td><td>2</td><td>2</td><td>1</td><td> 2</td><td> 1</td></tr>\n",
              "</tbody>\n",
              "</table>\n"
            ],
            "text/markdown": "\nA data.frame: 5 × 10\n\n| manager &lt;dbl&gt; | date &lt;chr&gt; | country &lt;chr&gt; | gender &lt;chr&gt; | age &lt;dbl&gt; | q1 &lt;dbl&gt; | q2 &lt;dbl&gt; | q3 &lt;dbl&gt; | q4 &lt;dbl&gt; | q5 &lt;dbl&gt; |\n|---|---|---|---|---|---|---|---|---|---|\n| 1 | 10/24/08 | US | M | 32 | 5 | 4 | 5 |  5 |  5 |\n| 2 | 10/28/08 | US | F | 45 | 3 | 5 | 2 |  5 |  5 |\n| 3 | 10/1/08  | UK | F | 25 | 3 | 5 | 5 |  5 |  2 |\n| 4 | 10/12/08 | UK | M | 39 | 3 | 3 | 4 | NA | NA |\n| 5 | 5/1/09   | UK | F | 99 | 2 | 2 | 1 |  2 |  1 |\n\n",
            "text/latex": "A data.frame: 5 × 10\n\\begin{tabular}{llllllllll}\n manager & date & country & gender & age & q1 & q2 & q3 & q4 & q5\\\\\n <dbl> & <chr> & <chr> & <chr> & <dbl> & <dbl> & <dbl> & <dbl> & <dbl> & <dbl>\\\\\n\\hline\n\t 1 & 10/24/08 & US & M & 32 & 5 & 4 & 5 &  5 &  5\\\\\n\t 2 & 10/28/08 & US & F & 45 & 3 & 5 & 2 &  5 &  5\\\\\n\t 3 & 10/1/08  & UK & F & 25 & 3 & 5 & 5 &  5 &  2\\\\\n\t 4 & 10/12/08 & UK & M & 39 & 3 & 3 & 4 & NA & NA\\\\\n\t 5 & 5/1/09   & UK & F & 99 & 2 & 2 & 1 &  2 &  1\\\\\n\\end{tabular}\n",
            "text/plain": [
              "  manager date     country gender age q1 q2 q3 q4 q5\n",
              "1 1       10/24/08 US      M      32  5  4  5   5  5\n",
              "2 2       10/28/08 US      F      45  3  5  2   5  5\n",
              "3 3       10/1/08  UK      F      25  3  5  5   5  2\n",
              "4 4       10/12/08 UK      M      39  3  3  4  NA NA\n",
              "5 5       5/1/09   UK      F      99  2  2  1   2  1"
            ]
          },
          "metadata": {}
        }
      ]
    },
    {
      "cell_type": "markdown",
      "source": [
        "## Создание новых переменных\n",
        "\n",
        "Чаще всего используется операция присваивания:\n",
        "\n",
        "переменная <- выражение\n",
        "\n",
        "* $+$ -  Сложение\n",
        "* $-$ - Вычитание\n",
        "* $*$ - Умножение\n",
        "* $/$ - Деление\n",
        "* ^ или $**$ - Возведение в степень\n",
        "* x%%y -  Деление по модулю (остаток от деления) x на y: 5%%2=1\n",
        "* x%/%y -  Деление нацело x на y: 5%/%2=2"
      ],
      "metadata": {
        "id": "QH1v4n3R_ldz"
      }
    },
    {
      "cell_type": "code",
      "source": [
        "# первый способ\n",
        "leadership$total_score <- leadership$q1 + leadership$q2 + leadership$q3 + leadership$q4 + leadership$q5\n",
        "leadership$mean_score <- (leadership$q1 + leadership$q2 + leadership$q3 + leadership$q4 + leadership$q5)/5\n",
        "leadership"
      ],
      "metadata": {
        "id": "Co15kfh6_lBz",
        "outputId": "85d82e76-a085-4112-8ea5-d093f35b6c65",
        "colab": {
          "base_uri": "https://localhost:8080/",
          "height": 255
        }
      },
      "execution_count": 3,
      "outputs": [
        {
          "output_type": "display_data",
          "data": {
            "text/html": [
              "<table class=\"dataframe\">\n",
              "<caption>A data.frame: 5 × 12</caption>\n",
              "<thead>\n",
              "\t<tr><th scope=col>manager</th><th scope=col>date</th><th scope=col>country</th><th scope=col>gender</th><th scope=col>age</th><th scope=col>q1</th><th scope=col>q2</th><th scope=col>q3</th><th scope=col>q4</th><th scope=col>q5</th><th scope=col>total_score</th><th scope=col>mean_score</th></tr>\n",
              "\t<tr><th scope=col>&lt;dbl&gt;</th><th scope=col>&lt;chr&gt;</th><th scope=col>&lt;chr&gt;</th><th scope=col>&lt;chr&gt;</th><th scope=col>&lt;dbl&gt;</th><th scope=col>&lt;dbl&gt;</th><th scope=col>&lt;dbl&gt;</th><th scope=col>&lt;dbl&gt;</th><th scope=col>&lt;dbl&gt;</th><th scope=col>&lt;dbl&gt;</th><th scope=col>&lt;dbl&gt;</th><th scope=col>&lt;dbl&gt;</th></tr>\n",
              "</thead>\n",
              "<tbody>\n",
              "\t<tr><td>1</td><td>10/24/08</td><td>US</td><td>M</td><td>32</td><td>5</td><td>4</td><td>5</td><td> 5</td><td> 5</td><td>24</td><td>4.8</td></tr>\n",
              "\t<tr><td>2</td><td>10/28/08</td><td>US</td><td>F</td><td>45</td><td>3</td><td>5</td><td>2</td><td> 5</td><td> 5</td><td>20</td><td>4.0</td></tr>\n",
              "\t<tr><td>3</td><td>10/1/08 </td><td>UK</td><td>F</td><td>25</td><td>3</td><td>5</td><td>5</td><td> 5</td><td> 2</td><td>20</td><td>4.0</td></tr>\n",
              "\t<tr><td>4</td><td>10/12/08</td><td>UK</td><td>M</td><td>39</td><td>3</td><td>3</td><td>4</td><td>NA</td><td>NA</td><td>NA</td><td> NA</td></tr>\n",
              "\t<tr><td>5</td><td>5/1/09  </td><td>UK</td><td>F</td><td>99</td><td>2</td><td>2</td><td>1</td><td> 2</td><td> 1</td><td> 8</td><td>1.6</td></tr>\n",
              "</tbody>\n",
              "</table>\n"
            ],
            "text/markdown": "\nA data.frame: 5 × 12\n\n| manager &lt;dbl&gt; | date &lt;chr&gt; | country &lt;chr&gt; | gender &lt;chr&gt; | age &lt;dbl&gt; | q1 &lt;dbl&gt; | q2 &lt;dbl&gt; | q3 &lt;dbl&gt; | q4 &lt;dbl&gt; | q5 &lt;dbl&gt; | total_score &lt;dbl&gt; | mean_score &lt;dbl&gt; |\n|---|---|---|---|---|---|---|---|---|---|---|---|\n| 1 | 10/24/08 | US | M | 32 | 5 | 4 | 5 |  5 |  5 | 24 | 4.8 |\n| 2 | 10/28/08 | US | F | 45 | 3 | 5 | 2 |  5 |  5 | 20 | 4.0 |\n| 3 | 10/1/08  | UK | F | 25 | 3 | 5 | 5 |  5 |  2 | 20 | 4.0 |\n| 4 | 10/12/08 | UK | M | 39 | 3 | 3 | 4 | NA | NA | NA |  NA |\n| 5 | 5/1/09   | UK | F | 99 | 2 | 2 | 1 |  2 |  1 |  8 | 1.6 |\n\n",
            "text/latex": "A data.frame: 5 × 12\n\\begin{tabular}{llllllllllll}\n manager & date & country & gender & age & q1 & q2 & q3 & q4 & q5 & total\\_score & mean\\_score\\\\\n <dbl> & <chr> & <chr> & <chr> & <dbl> & <dbl> & <dbl> & <dbl> & <dbl> & <dbl> & <dbl> & <dbl>\\\\\n\\hline\n\t 1 & 10/24/08 & US & M & 32 & 5 & 4 & 5 &  5 &  5 & 24 & 4.8\\\\\n\t 2 & 10/28/08 & US & F & 45 & 3 & 5 & 2 &  5 &  5 & 20 & 4.0\\\\\n\t 3 & 10/1/08  & UK & F & 25 & 3 & 5 & 5 &  5 &  2 & 20 & 4.0\\\\\n\t 4 & 10/12/08 & UK & M & 39 & 3 & 3 & 4 & NA & NA & NA &  NA\\\\\n\t 5 & 5/1/09   & UK & F & 99 & 2 & 2 & 1 &  2 &  1 &  8 & 1.6\\\\\n\\end{tabular}\n",
            "text/plain": [
              "  manager date     country gender age q1 q2 q3 q4 q5 total_score mean_score\n",
              "1 1       10/24/08 US      M      32  5  4  5   5  5 24          4.8       \n",
              "2 2       10/28/08 US      F      45  3  5  2   5  5 20          4.0       \n",
              "3 3       10/1/08  UK      F      25  3  5  5   5  2 20          4.0       \n",
              "4 4       10/12/08 UK      M      39  3  3  4  NA NA NA           NA       \n",
              "5 5       5/1/09   UK      F      99  2  2  1   2  1  8          1.6       "
            ]
          },
          "metadata": {}
        }
      ]
    },
    {
      "cell_type": "code",
      "source": [
        "# второй способ\n",
        "leadership <- transform(leadership,\n",
        "total_score = q1 + q2 + q3 + q4 + q5,\n",
        "mean_score = (q1 + q2 + q3 + q4 + q5)/5)\n",
        "leadership"
      ],
      "metadata": {
        "id": "3BnErCgLBOtc",
        "outputId": "bdb5da4b-73bd-40c7-bad3-8e09050b9c29",
        "colab": {
          "base_uri": "https://localhost:8080/",
          "height": 255
        }
      },
      "execution_count": 4,
      "outputs": [
        {
          "output_type": "display_data",
          "data": {
            "text/html": [
              "<table class=\"dataframe\">\n",
              "<caption>A data.frame: 5 × 12</caption>\n",
              "<thead>\n",
              "\t<tr><th scope=col>manager</th><th scope=col>date</th><th scope=col>country</th><th scope=col>gender</th><th scope=col>age</th><th scope=col>q1</th><th scope=col>q2</th><th scope=col>q3</th><th scope=col>q4</th><th scope=col>q5</th><th scope=col>total_score</th><th scope=col>mean_score</th></tr>\n",
              "\t<tr><th scope=col>&lt;dbl&gt;</th><th scope=col>&lt;chr&gt;</th><th scope=col>&lt;chr&gt;</th><th scope=col>&lt;chr&gt;</th><th scope=col>&lt;dbl&gt;</th><th scope=col>&lt;dbl&gt;</th><th scope=col>&lt;dbl&gt;</th><th scope=col>&lt;dbl&gt;</th><th scope=col>&lt;dbl&gt;</th><th scope=col>&lt;dbl&gt;</th><th scope=col>&lt;dbl&gt;</th><th scope=col>&lt;dbl&gt;</th></tr>\n",
              "</thead>\n",
              "<tbody>\n",
              "\t<tr><td>1</td><td>10/24/08</td><td>US</td><td>M</td><td>32</td><td>5</td><td>4</td><td>5</td><td> 5</td><td> 5</td><td>24</td><td>4.8</td></tr>\n",
              "\t<tr><td>2</td><td>10/28/08</td><td>US</td><td>F</td><td>45</td><td>3</td><td>5</td><td>2</td><td> 5</td><td> 5</td><td>20</td><td>4.0</td></tr>\n",
              "\t<tr><td>3</td><td>10/1/08 </td><td>UK</td><td>F</td><td>25</td><td>3</td><td>5</td><td>5</td><td> 5</td><td> 2</td><td>20</td><td>4.0</td></tr>\n",
              "\t<tr><td>4</td><td>10/12/08</td><td>UK</td><td>M</td><td>39</td><td>3</td><td>3</td><td>4</td><td>NA</td><td>NA</td><td>NA</td><td> NA</td></tr>\n",
              "\t<tr><td>5</td><td>5/1/09  </td><td>UK</td><td>F</td><td>99</td><td>2</td><td>2</td><td>1</td><td> 2</td><td> 1</td><td> 8</td><td>1.6</td></tr>\n",
              "</tbody>\n",
              "</table>\n"
            ],
            "text/markdown": "\nA data.frame: 5 × 12\n\n| manager &lt;dbl&gt; | date &lt;chr&gt; | country &lt;chr&gt; | gender &lt;chr&gt; | age &lt;dbl&gt; | q1 &lt;dbl&gt; | q2 &lt;dbl&gt; | q3 &lt;dbl&gt; | q4 &lt;dbl&gt; | q5 &lt;dbl&gt; | total_score &lt;dbl&gt; | mean_score &lt;dbl&gt; |\n|---|---|---|---|---|---|---|---|---|---|---|---|\n| 1 | 10/24/08 | US | M | 32 | 5 | 4 | 5 |  5 |  5 | 24 | 4.8 |\n| 2 | 10/28/08 | US | F | 45 | 3 | 5 | 2 |  5 |  5 | 20 | 4.0 |\n| 3 | 10/1/08  | UK | F | 25 | 3 | 5 | 5 |  5 |  2 | 20 | 4.0 |\n| 4 | 10/12/08 | UK | M | 39 | 3 | 3 | 4 | NA | NA | NA |  NA |\n| 5 | 5/1/09   | UK | F | 99 | 2 | 2 | 1 |  2 |  1 |  8 | 1.6 |\n\n",
            "text/latex": "A data.frame: 5 × 12\n\\begin{tabular}{llllllllllll}\n manager & date & country & gender & age & q1 & q2 & q3 & q4 & q5 & total\\_score & mean\\_score\\\\\n <dbl> & <chr> & <chr> & <chr> & <dbl> & <dbl> & <dbl> & <dbl> & <dbl> & <dbl> & <dbl> & <dbl>\\\\\n\\hline\n\t 1 & 10/24/08 & US & M & 32 & 5 & 4 & 5 &  5 &  5 & 24 & 4.8\\\\\n\t 2 & 10/28/08 & US & F & 45 & 3 & 5 & 2 &  5 &  5 & 20 & 4.0\\\\\n\t 3 & 10/1/08  & UK & F & 25 & 3 & 5 & 5 &  5 &  2 & 20 & 4.0\\\\\n\t 4 & 10/12/08 & UK & M & 39 & 3 & 3 & 4 & NA & NA & NA &  NA\\\\\n\t 5 & 5/1/09   & UK & F & 99 & 2 & 2 & 1 &  2 &  1 &  8 & 1.6\\\\\n\\end{tabular}\n",
            "text/plain": [
              "  manager date     country gender age q1 q2 q3 q4 q5 total_score mean_score\n",
              "1 1       10/24/08 US      M      32  5  4  5   5  5 24          4.8       \n",
              "2 2       10/28/08 US      F      45  3  5  2   5  5 20          4.0       \n",
              "3 3       10/1/08  UK      F      25  3  5  5   5  2 20          4.0       \n",
              "4 4       10/12/08 UK      M      39  3  3  4  NA NA NA           NA       \n",
              "5 5       5/1/09   UK      F      99  2  2  1   2  1  8          1.6       "
            ]
          },
          "metadata": {}
        }
      ]
    },
    {
      "cell_type": "markdown",
      "source": [
        "## Перекодирование переменных\n",
        "Логические переменные:\n",
        "* $<$ - Меньше, чем\n",
        "* $<=$ - Меньше или равно\n",
        "* $>$ - Больше, чем\n",
        "* $>=$ - Больше или равно\n",
        "* $==$ - Точно равно\n",
        "* $!=$ - Не равно\n",
        "* $!x$ - Инверсия x (НЕ x)\n",
        "* $x | y$ - x ИЛИ y\n",
        "* x&y - x И y\n",
        "* $isTRUE(x)$ -Проверяет истинность значения x\n",
        "\n",
        "Задачи:\n",
        "* преобразовать непрерывные данные в категориальные;\n",
        "* заменить ошибочные данные правильными значениями;\n",
        "* создать переменную типа «сдал / не сдал» на основе экзаменационных баллов."
      ],
      "metadata": {
        "id": "pL-QcPE1RjXa"
      }
    },
    {
      "cell_type": "code",
      "source": [
        "leadership$age[leadership$age == 99] <- NA\n",
        "leadership"
      ],
      "metadata": {
        "id": "cXy_KkcKSyvi",
        "outputId": "20ae2955-68f2-4359-a91f-a7343473f751",
        "colab": {
          "base_uri": "https://localhost:8080/",
          "height": 255
        }
      },
      "execution_count": 5,
      "outputs": [
        {
          "output_type": "display_data",
          "data": {
            "text/html": [
              "<table class=\"dataframe\">\n",
              "<caption>A data.frame: 5 × 12</caption>\n",
              "<thead>\n",
              "\t<tr><th scope=col>manager</th><th scope=col>date</th><th scope=col>country</th><th scope=col>gender</th><th scope=col>age</th><th scope=col>q1</th><th scope=col>q2</th><th scope=col>q3</th><th scope=col>q4</th><th scope=col>q5</th><th scope=col>total_score</th><th scope=col>mean_score</th></tr>\n",
              "\t<tr><th scope=col>&lt;dbl&gt;</th><th scope=col>&lt;chr&gt;</th><th scope=col>&lt;chr&gt;</th><th scope=col>&lt;chr&gt;</th><th scope=col>&lt;dbl&gt;</th><th scope=col>&lt;dbl&gt;</th><th scope=col>&lt;dbl&gt;</th><th scope=col>&lt;dbl&gt;</th><th scope=col>&lt;dbl&gt;</th><th scope=col>&lt;dbl&gt;</th><th scope=col>&lt;dbl&gt;</th><th scope=col>&lt;dbl&gt;</th></tr>\n",
              "</thead>\n",
              "<tbody>\n",
              "\t<tr><td>1</td><td>10/24/08</td><td>US</td><td>M</td><td>32</td><td>5</td><td>4</td><td>5</td><td> 5</td><td> 5</td><td>24</td><td>4.8</td></tr>\n",
              "\t<tr><td>2</td><td>10/28/08</td><td>US</td><td>F</td><td>45</td><td>3</td><td>5</td><td>2</td><td> 5</td><td> 5</td><td>20</td><td>4.0</td></tr>\n",
              "\t<tr><td>3</td><td>10/1/08 </td><td>UK</td><td>F</td><td>25</td><td>3</td><td>5</td><td>5</td><td> 5</td><td> 2</td><td>20</td><td>4.0</td></tr>\n",
              "\t<tr><td>4</td><td>10/12/08</td><td>UK</td><td>M</td><td>39</td><td>3</td><td>3</td><td>4</td><td>NA</td><td>NA</td><td>NA</td><td> NA</td></tr>\n",
              "\t<tr><td>5</td><td>5/1/09  </td><td>UK</td><td>F</td><td>NA</td><td>2</td><td>2</td><td>1</td><td> 2</td><td> 1</td><td> 8</td><td>1.6</td></tr>\n",
              "</tbody>\n",
              "</table>\n"
            ],
            "text/markdown": "\nA data.frame: 5 × 12\n\n| manager &lt;dbl&gt; | date &lt;chr&gt; | country &lt;chr&gt; | gender &lt;chr&gt; | age &lt;dbl&gt; | q1 &lt;dbl&gt; | q2 &lt;dbl&gt; | q3 &lt;dbl&gt; | q4 &lt;dbl&gt; | q5 &lt;dbl&gt; | total_score &lt;dbl&gt; | mean_score &lt;dbl&gt; |\n|---|---|---|---|---|---|---|---|---|---|---|---|\n| 1 | 10/24/08 | US | M | 32 | 5 | 4 | 5 |  5 |  5 | 24 | 4.8 |\n| 2 | 10/28/08 | US | F | 45 | 3 | 5 | 2 |  5 |  5 | 20 | 4.0 |\n| 3 | 10/1/08  | UK | F | 25 | 3 | 5 | 5 |  5 |  2 | 20 | 4.0 |\n| 4 | 10/12/08 | UK | M | 39 | 3 | 3 | 4 | NA | NA | NA |  NA |\n| 5 | 5/1/09   | UK | F | NA | 2 | 2 | 1 |  2 |  1 |  8 | 1.6 |\n\n",
            "text/latex": "A data.frame: 5 × 12\n\\begin{tabular}{llllllllllll}\n manager & date & country & gender & age & q1 & q2 & q3 & q4 & q5 & total\\_score & mean\\_score\\\\\n <dbl> & <chr> & <chr> & <chr> & <dbl> & <dbl> & <dbl> & <dbl> & <dbl> & <dbl> & <dbl> & <dbl>\\\\\n\\hline\n\t 1 & 10/24/08 & US & M & 32 & 5 & 4 & 5 &  5 &  5 & 24 & 4.8\\\\\n\t 2 & 10/28/08 & US & F & 45 & 3 & 5 & 2 &  5 &  5 & 20 & 4.0\\\\\n\t 3 & 10/1/08  & UK & F & 25 & 3 & 5 & 5 &  5 &  2 & 20 & 4.0\\\\\n\t 4 & 10/12/08 & UK & M & 39 & 3 & 3 & 4 & NA & NA & NA &  NA\\\\\n\t 5 & 5/1/09   & UK & F & NA & 2 & 2 & 1 &  2 &  1 &  8 & 1.6\\\\\n\\end{tabular}\n",
            "text/plain": [
              "  manager date     country gender age q1 q2 q3 q4 q5 total_score mean_score\n",
              "1 1       10/24/08 US      M      32  5  4  5   5  5 24          4.8       \n",
              "2 2       10/28/08 US      F      45  3  5  2   5  5 20          4.0       \n",
              "3 3       10/1/08  UK      F      25  3  5  5   5  2 20          4.0       \n",
              "4 4       10/12/08 UK      M      39  3  3  4  NA NA NA           NA       \n",
              "5 5       5/1/09   UK      F      NA  2  2  1   2  1  8          1.6       "
            ]
          },
          "metadata": {}
        }
      ]
    },
    {
      "cell_type": "code",
      "source": [
        "#  используется функция within, она похожа на with, но позволяет модифицировать таблицу\n",
        "leadership <- within(leadership,{\n",
        "  agecat <- NA\n",
        "  agecat[age > 75] <- \"Elder\"\n",
        "  agecat[age >= 55 & age <= 75] <- \"Middle Aged\"\n",
        "  agecat[age < 55] <- \"Young\"\n",
        "  })\n",
        "leadership\n",
        "# дополнительные функции перекодирования recode() - в пакете car, recodeVar() - в пакете doBy, cut() - R"
      ],
      "metadata": {
        "id": "7IfBnrltUQqV",
        "outputId": "e5dc5af3-d64d-4865-f54d-b455a6aaddd0",
        "colab": {
          "base_uri": "https://localhost:8080/",
          "height": 255
        }
      },
      "execution_count": 6,
      "outputs": [
        {
          "output_type": "display_data",
          "data": {
            "text/html": [
              "<table class=\"dataframe\">\n",
              "<caption>A data.frame: 5 × 13</caption>\n",
              "<thead>\n",
              "\t<tr><th scope=col>manager</th><th scope=col>date</th><th scope=col>country</th><th scope=col>gender</th><th scope=col>age</th><th scope=col>q1</th><th scope=col>q2</th><th scope=col>q3</th><th scope=col>q4</th><th scope=col>q5</th><th scope=col>total_score</th><th scope=col>mean_score</th><th scope=col>agecat</th></tr>\n",
              "\t<tr><th scope=col>&lt;dbl&gt;</th><th scope=col>&lt;chr&gt;</th><th scope=col>&lt;chr&gt;</th><th scope=col>&lt;chr&gt;</th><th scope=col>&lt;dbl&gt;</th><th scope=col>&lt;dbl&gt;</th><th scope=col>&lt;dbl&gt;</th><th scope=col>&lt;dbl&gt;</th><th scope=col>&lt;dbl&gt;</th><th scope=col>&lt;dbl&gt;</th><th scope=col>&lt;dbl&gt;</th><th scope=col>&lt;dbl&gt;</th><th scope=col>&lt;chr&gt;</th></tr>\n",
              "</thead>\n",
              "<tbody>\n",
              "\t<tr><td>1</td><td>10/24/08</td><td>US</td><td>M</td><td>32</td><td>5</td><td>4</td><td>5</td><td> 5</td><td> 5</td><td>24</td><td>4.8</td><td>Young</td></tr>\n",
              "\t<tr><td>2</td><td>10/28/08</td><td>US</td><td>F</td><td>45</td><td>3</td><td>5</td><td>2</td><td> 5</td><td> 5</td><td>20</td><td>4.0</td><td>Young</td></tr>\n",
              "\t<tr><td>3</td><td>10/1/08 </td><td>UK</td><td>F</td><td>25</td><td>3</td><td>5</td><td>5</td><td> 5</td><td> 2</td><td>20</td><td>4.0</td><td>Young</td></tr>\n",
              "\t<tr><td>4</td><td>10/12/08</td><td>UK</td><td>M</td><td>39</td><td>3</td><td>3</td><td>4</td><td>NA</td><td>NA</td><td>NA</td><td> NA</td><td>Young</td></tr>\n",
              "\t<tr><td>5</td><td>5/1/09  </td><td>UK</td><td>F</td><td>NA</td><td>2</td><td>2</td><td>1</td><td> 2</td><td> 1</td><td> 8</td><td>1.6</td><td>NA   </td></tr>\n",
              "</tbody>\n",
              "</table>\n"
            ],
            "text/markdown": "\nA data.frame: 5 × 13\n\n| manager &lt;dbl&gt; | date &lt;chr&gt; | country &lt;chr&gt; | gender &lt;chr&gt; | age &lt;dbl&gt; | q1 &lt;dbl&gt; | q2 &lt;dbl&gt; | q3 &lt;dbl&gt; | q4 &lt;dbl&gt; | q5 &lt;dbl&gt; | total_score &lt;dbl&gt; | mean_score &lt;dbl&gt; | agecat &lt;chr&gt; |\n|---|---|---|---|---|---|---|---|---|---|---|---|---|\n| 1 | 10/24/08 | US | M | 32 | 5 | 4 | 5 |  5 |  5 | 24 | 4.8 | Young |\n| 2 | 10/28/08 | US | F | 45 | 3 | 5 | 2 |  5 |  5 | 20 | 4.0 | Young |\n| 3 | 10/1/08  | UK | F | 25 | 3 | 5 | 5 |  5 |  2 | 20 | 4.0 | Young |\n| 4 | 10/12/08 | UK | M | 39 | 3 | 3 | 4 | NA | NA | NA |  NA | Young |\n| 5 | 5/1/09   | UK | F | NA | 2 | 2 | 1 |  2 |  1 |  8 | 1.6 | NA    |\n\n",
            "text/latex": "A data.frame: 5 × 13\n\\begin{tabular}{lllllllllllll}\n manager & date & country & gender & age & q1 & q2 & q3 & q4 & q5 & total\\_score & mean\\_score & agecat\\\\\n <dbl> & <chr> & <chr> & <chr> & <dbl> & <dbl> & <dbl> & <dbl> & <dbl> & <dbl> & <dbl> & <dbl> & <chr>\\\\\n\\hline\n\t 1 & 10/24/08 & US & M & 32 & 5 & 4 & 5 &  5 &  5 & 24 & 4.8 & Young\\\\\n\t 2 & 10/28/08 & US & F & 45 & 3 & 5 & 2 &  5 &  5 & 20 & 4.0 & Young\\\\\n\t 3 & 10/1/08  & UK & F & 25 & 3 & 5 & 5 &  5 &  2 & 20 & 4.0 & Young\\\\\n\t 4 & 10/12/08 & UK & M & 39 & 3 & 3 & 4 & NA & NA & NA &  NA & Young\\\\\n\t 5 & 5/1/09   & UK & F & NA & 2 & 2 & 1 &  2 &  1 &  8 & 1.6 & NA   \\\\\n\\end{tabular}\n",
            "text/plain": [
              "  manager date     country gender age q1 q2 q3 q4 q5 total_score mean_score\n",
              "1 1       10/24/08 US      M      32  5  4  5   5  5 24          4.8       \n",
              "2 2       10/28/08 US      F      45  3  5  2   5  5 20          4.0       \n",
              "3 3       10/1/08  UK      F      25  3  5  5   5  2 20          4.0       \n",
              "4 4       10/12/08 UK      M      39  3  3  4  NA NA NA           NA       \n",
              "5 5       5/1/09   UK      F      NA  2  2  1   2  1  8          1.6       \n",
              "  agecat\n",
              "1 Young \n",
              "2 Young \n",
              "3 Young \n",
              "4 Young \n",
              "5 NA    "
            ]
          },
          "metadata": {}
        }
      ]
    },
    {
      "cell_type": "markdown",
      "source": [
        "## Переименование переменных (столбцов)\n",
        "\n",
        "$fix(leadership)$ - откроет интерактивный редактор\n",
        "\n",
        "или\n",
        "\n",
        "$names(leadership)[2] <- \"testDate\"$"
      ],
      "metadata": {
        "id": "DX6yd3vYxoxu"
      }
    },
    {
      "cell_type": "code",
      "source": [
        "names(leadership)\n",
        "names(leadership)[2] <- \"testDate\"\n",
        "leadership"
      ],
      "metadata": {
        "id": "F8hZ4eOLxX_j",
        "outputId": "5afad03b-d33f-4f49-e033-81f486ca832d",
        "colab": {
          "base_uri": "https://localhost:8080/",
          "height": 272
        }
      },
      "execution_count": 7,
      "outputs": [
        {
          "output_type": "display_data",
          "data": {
            "text/html": [
              "<style>\n",
              ".list-inline {list-style: none; margin:0; padding: 0}\n",
              ".list-inline>li {display: inline-block}\n",
              ".list-inline>li:not(:last-child)::after {content: \"\\00b7\"; padding: 0 .5ex}\n",
              "</style>\n",
              "<ol class=list-inline><li>'manager'</li><li>'date'</li><li>'country'</li><li>'gender'</li><li>'age'</li><li>'q1'</li><li>'q2'</li><li>'q3'</li><li>'q4'</li><li>'q5'</li><li>'total_score'</li><li>'mean_score'</li><li>'agecat'</li></ol>\n"
            ],
            "text/markdown": "1. 'manager'\n2. 'date'\n3. 'country'\n4. 'gender'\n5. 'age'\n6. 'q1'\n7. 'q2'\n8. 'q3'\n9. 'q4'\n10. 'q5'\n11. 'total_score'\n12. 'mean_score'\n13. 'agecat'\n\n\n",
            "text/latex": "\\begin{enumerate*}\n\\item 'manager'\n\\item 'date'\n\\item 'country'\n\\item 'gender'\n\\item 'age'\n\\item 'q1'\n\\item 'q2'\n\\item 'q3'\n\\item 'q4'\n\\item 'q5'\n\\item 'total\\_score'\n\\item 'mean\\_score'\n\\item 'agecat'\n\\end{enumerate*}\n",
            "text/plain": [
              " [1] \"manager\"     \"date\"        \"country\"     \"gender\"      \"age\"        \n",
              " [6] \"q1\"          \"q2\"          \"q3\"          \"q4\"          \"q5\"         \n",
              "[11] \"total_score\" \"mean_score\"  \"agecat\"     "
            ]
          },
          "metadata": {}
        },
        {
          "output_type": "display_data",
          "data": {
            "text/html": [
              "<table class=\"dataframe\">\n",
              "<caption>A data.frame: 5 × 13</caption>\n",
              "<thead>\n",
              "\t<tr><th scope=col>manager</th><th scope=col>testDate</th><th scope=col>country</th><th scope=col>gender</th><th scope=col>age</th><th scope=col>q1</th><th scope=col>q2</th><th scope=col>q3</th><th scope=col>q4</th><th scope=col>q5</th><th scope=col>total_score</th><th scope=col>mean_score</th><th scope=col>agecat</th></tr>\n",
              "\t<tr><th scope=col>&lt;dbl&gt;</th><th scope=col>&lt;chr&gt;</th><th scope=col>&lt;chr&gt;</th><th scope=col>&lt;chr&gt;</th><th scope=col>&lt;dbl&gt;</th><th scope=col>&lt;dbl&gt;</th><th scope=col>&lt;dbl&gt;</th><th scope=col>&lt;dbl&gt;</th><th scope=col>&lt;dbl&gt;</th><th scope=col>&lt;dbl&gt;</th><th scope=col>&lt;dbl&gt;</th><th scope=col>&lt;dbl&gt;</th><th scope=col>&lt;chr&gt;</th></tr>\n",
              "</thead>\n",
              "<tbody>\n",
              "\t<tr><td>1</td><td>10/24/08</td><td>US</td><td>M</td><td>32</td><td>5</td><td>4</td><td>5</td><td> 5</td><td> 5</td><td>24</td><td>4.8</td><td>Young</td></tr>\n",
              "\t<tr><td>2</td><td>10/28/08</td><td>US</td><td>F</td><td>45</td><td>3</td><td>5</td><td>2</td><td> 5</td><td> 5</td><td>20</td><td>4.0</td><td>Young</td></tr>\n",
              "\t<tr><td>3</td><td>10/1/08 </td><td>UK</td><td>F</td><td>25</td><td>3</td><td>5</td><td>5</td><td> 5</td><td> 2</td><td>20</td><td>4.0</td><td>Young</td></tr>\n",
              "\t<tr><td>4</td><td>10/12/08</td><td>UK</td><td>M</td><td>39</td><td>3</td><td>3</td><td>4</td><td>NA</td><td>NA</td><td>NA</td><td> NA</td><td>Young</td></tr>\n",
              "\t<tr><td>5</td><td>5/1/09  </td><td>UK</td><td>F</td><td>NA</td><td>2</td><td>2</td><td>1</td><td> 2</td><td> 1</td><td> 8</td><td>1.6</td><td>NA   </td></tr>\n",
              "</tbody>\n",
              "</table>\n"
            ],
            "text/markdown": "\nA data.frame: 5 × 13\n\n| manager &lt;dbl&gt; | testDate &lt;chr&gt; | country &lt;chr&gt; | gender &lt;chr&gt; | age &lt;dbl&gt; | q1 &lt;dbl&gt; | q2 &lt;dbl&gt; | q3 &lt;dbl&gt; | q4 &lt;dbl&gt; | q5 &lt;dbl&gt; | total_score &lt;dbl&gt; | mean_score &lt;dbl&gt; | agecat &lt;chr&gt; |\n|---|---|---|---|---|---|---|---|---|---|---|---|---|\n| 1 | 10/24/08 | US | M | 32 | 5 | 4 | 5 |  5 |  5 | 24 | 4.8 | Young |\n| 2 | 10/28/08 | US | F | 45 | 3 | 5 | 2 |  5 |  5 | 20 | 4.0 | Young |\n| 3 | 10/1/08  | UK | F | 25 | 3 | 5 | 5 |  5 |  2 | 20 | 4.0 | Young |\n| 4 | 10/12/08 | UK | M | 39 | 3 | 3 | 4 | NA | NA | NA |  NA | Young |\n| 5 | 5/1/09   | UK | F | NA | 2 | 2 | 1 |  2 |  1 |  8 | 1.6 | NA    |\n\n",
            "text/latex": "A data.frame: 5 × 13\n\\begin{tabular}{lllllllllllll}\n manager & testDate & country & gender & age & q1 & q2 & q3 & q4 & q5 & total\\_score & mean\\_score & agecat\\\\\n <dbl> & <chr> & <chr> & <chr> & <dbl> & <dbl> & <dbl> & <dbl> & <dbl> & <dbl> & <dbl> & <dbl> & <chr>\\\\\n\\hline\n\t 1 & 10/24/08 & US & M & 32 & 5 & 4 & 5 &  5 &  5 & 24 & 4.8 & Young\\\\\n\t 2 & 10/28/08 & US & F & 45 & 3 & 5 & 2 &  5 &  5 & 20 & 4.0 & Young\\\\\n\t 3 & 10/1/08  & UK & F & 25 & 3 & 5 & 5 &  5 &  2 & 20 & 4.0 & Young\\\\\n\t 4 & 10/12/08 & UK & M & 39 & 3 & 3 & 4 & NA & NA & NA &  NA & Young\\\\\n\t 5 & 5/1/09   & UK & F & NA & 2 & 2 & 1 &  2 &  1 &  8 & 1.6 & NA   \\\\\n\\end{tabular}\n",
            "text/plain": [
              "  manager testDate country gender age q1 q2 q3 q4 q5 total_score mean_score\n",
              "1 1       10/24/08 US      M      32  5  4  5   5  5 24          4.8       \n",
              "2 2       10/28/08 US      F      45  3  5  2   5  5 20          4.0       \n",
              "3 3       10/1/08  UK      F      25  3  5  5   5  2 20          4.0       \n",
              "4 4       10/12/08 UK      M      39  3  3  4  NA NA NA           NA       \n",
              "5 5       5/1/09   UK      F      NA  2  2  1   2  1  8          1.6       \n",
              "  agecat\n",
              "1 Young \n",
              "2 Young \n",
              "3 Young \n",
              "4 Young \n",
              "5 NA    "
            ]
          },
          "metadata": {}
        }
      ]
    },
    {
      "cell_type": "code",
      "source": [
        "names(leadership)[6:10] <- c(\"item1\", \"item2\", \"item3\", \"item4\", \"item5\")\n",
        "leadership"
      ],
      "metadata": {
        "id": "DExZIlhXycSE",
        "outputId": "63b26d30-e0ab-4b77-bfb2-a7d1d899e10d",
        "colab": {
          "base_uri": "https://localhost:8080/",
          "height": 255
        }
      },
      "execution_count": 8,
      "outputs": [
        {
          "output_type": "display_data",
          "data": {
            "text/html": [
              "<table class=\"dataframe\">\n",
              "<caption>A data.frame: 5 × 13</caption>\n",
              "<thead>\n",
              "\t<tr><th scope=col>manager</th><th scope=col>testDate</th><th scope=col>country</th><th scope=col>gender</th><th scope=col>age</th><th scope=col>item1</th><th scope=col>item2</th><th scope=col>item3</th><th scope=col>item4</th><th scope=col>item5</th><th scope=col>total_score</th><th scope=col>mean_score</th><th scope=col>agecat</th></tr>\n",
              "\t<tr><th scope=col>&lt;dbl&gt;</th><th scope=col>&lt;chr&gt;</th><th scope=col>&lt;chr&gt;</th><th scope=col>&lt;chr&gt;</th><th scope=col>&lt;dbl&gt;</th><th scope=col>&lt;dbl&gt;</th><th scope=col>&lt;dbl&gt;</th><th scope=col>&lt;dbl&gt;</th><th scope=col>&lt;dbl&gt;</th><th scope=col>&lt;dbl&gt;</th><th scope=col>&lt;dbl&gt;</th><th scope=col>&lt;dbl&gt;</th><th scope=col>&lt;chr&gt;</th></tr>\n",
              "</thead>\n",
              "<tbody>\n",
              "\t<tr><td>1</td><td>10/24/08</td><td>US</td><td>M</td><td>32</td><td>5</td><td>4</td><td>5</td><td> 5</td><td> 5</td><td>24</td><td>4.8</td><td>Young</td></tr>\n",
              "\t<tr><td>2</td><td>10/28/08</td><td>US</td><td>F</td><td>45</td><td>3</td><td>5</td><td>2</td><td> 5</td><td> 5</td><td>20</td><td>4.0</td><td>Young</td></tr>\n",
              "\t<tr><td>3</td><td>10/1/08 </td><td>UK</td><td>F</td><td>25</td><td>3</td><td>5</td><td>5</td><td> 5</td><td> 2</td><td>20</td><td>4.0</td><td>Young</td></tr>\n",
              "\t<tr><td>4</td><td>10/12/08</td><td>UK</td><td>M</td><td>39</td><td>3</td><td>3</td><td>4</td><td>NA</td><td>NA</td><td>NA</td><td> NA</td><td>Young</td></tr>\n",
              "\t<tr><td>5</td><td>5/1/09  </td><td>UK</td><td>F</td><td>NA</td><td>2</td><td>2</td><td>1</td><td> 2</td><td> 1</td><td> 8</td><td>1.6</td><td>NA   </td></tr>\n",
              "</tbody>\n",
              "</table>\n"
            ],
            "text/markdown": "\nA data.frame: 5 × 13\n\n| manager &lt;dbl&gt; | testDate &lt;chr&gt; | country &lt;chr&gt; | gender &lt;chr&gt; | age &lt;dbl&gt; | item1 &lt;dbl&gt; | item2 &lt;dbl&gt; | item3 &lt;dbl&gt; | item4 &lt;dbl&gt; | item5 &lt;dbl&gt; | total_score &lt;dbl&gt; | mean_score &lt;dbl&gt; | agecat &lt;chr&gt; |\n|---|---|---|---|---|---|---|---|---|---|---|---|---|\n| 1 | 10/24/08 | US | M | 32 | 5 | 4 | 5 |  5 |  5 | 24 | 4.8 | Young |\n| 2 | 10/28/08 | US | F | 45 | 3 | 5 | 2 |  5 |  5 | 20 | 4.0 | Young |\n| 3 | 10/1/08  | UK | F | 25 | 3 | 5 | 5 |  5 |  2 | 20 | 4.0 | Young |\n| 4 | 10/12/08 | UK | M | 39 | 3 | 3 | 4 | NA | NA | NA |  NA | Young |\n| 5 | 5/1/09   | UK | F | NA | 2 | 2 | 1 |  2 |  1 |  8 | 1.6 | NA    |\n\n",
            "text/latex": "A data.frame: 5 × 13\n\\begin{tabular}{lllllllllllll}\n manager & testDate & country & gender & age & item1 & item2 & item3 & item4 & item5 & total\\_score & mean\\_score & agecat\\\\\n <dbl> & <chr> & <chr> & <chr> & <dbl> & <dbl> & <dbl> & <dbl> & <dbl> & <dbl> & <dbl> & <dbl> & <chr>\\\\\n\\hline\n\t 1 & 10/24/08 & US & M & 32 & 5 & 4 & 5 &  5 &  5 & 24 & 4.8 & Young\\\\\n\t 2 & 10/28/08 & US & F & 45 & 3 & 5 & 2 &  5 &  5 & 20 & 4.0 & Young\\\\\n\t 3 & 10/1/08  & UK & F & 25 & 3 & 5 & 5 &  5 &  2 & 20 & 4.0 & Young\\\\\n\t 4 & 10/12/08 & UK & M & 39 & 3 & 3 & 4 & NA & NA & NA &  NA & Young\\\\\n\t 5 & 5/1/09   & UK & F & NA & 2 & 2 & 1 &  2 &  1 &  8 & 1.6 & NA   \\\\\n\\end{tabular}\n",
            "text/plain": [
              "  manager testDate country gender age item1 item2 item3 item4 item5 total_score\n",
              "1 1       10/24/08 US      M      32  5     4     5      5     5    24         \n",
              "2 2       10/28/08 US      F      45  3     5     2      5     5    20         \n",
              "3 3       10/1/08  UK      F      25  3     5     5      5     2    20         \n",
              "4 4       10/12/08 UK      M      39  3     3     4     NA    NA    NA         \n",
              "5 5       5/1/09   UK      F      NA  2     2     1      2     1     8         \n",
              "  mean_score agecat\n",
              "1 4.8        Young \n",
              "2 4.0        Young \n",
              "3 4.0        Young \n",
              "4  NA        Young \n",
              "5 1.6        NA    "
            ]
          },
          "metadata": {}
        }
      ]
    },
    {
      "cell_type": "markdown",
      "source": [
        "## Пропущенные значения\n",
        "\n",
        "Функция $is.na()$:\n",
        "\n",
        "\\>y <- c(1, 2, 3, NA)\n",
        "\n",
        "\\>is.na(y)\n",
        "\n",
        "Результат:\n",
        "\n",
        "c(FALSE, FALSE, FALSE, TRUE)\n",
        "\n",
        "Функция $is.infinite()$ - положительная и отрицательная бесконечности\n",
        "\n"
      ],
      "metadata": {
        "id": "vIn79DrEyNVi"
      }
    },
    {
      "cell_type": "code",
      "source": [
        "is.na(leadership[,6:10])"
      ],
      "metadata": {
        "id": "Ngp4JStFHBTO",
        "outputId": "e4212983-7d21-4e0d-c9d1-11113274b545",
        "colab": {
          "base_uri": "https://localhost:8080/",
          "height": 223
        }
      },
      "execution_count": 9,
      "outputs": [
        {
          "output_type": "display_data",
          "data": {
            "text/html": [
              "<table class=\"dataframe\">\n",
              "<caption>A matrix: 5 × 5 of type lgl</caption>\n",
              "<thead>\n",
              "\t<tr><th scope=col>item1</th><th scope=col>item2</th><th scope=col>item3</th><th scope=col>item4</th><th scope=col>item5</th></tr>\n",
              "</thead>\n",
              "<tbody>\n",
              "\t<tr><td>FALSE</td><td>FALSE</td><td>FALSE</td><td>FALSE</td><td>FALSE</td></tr>\n",
              "\t<tr><td>FALSE</td><td>FALSE</td><td>FALSE</td><td>FALSE</td><td>FALSE</td></tr>\n",
              "\t<tr><td>FALSE</td><td>FALSE</td><td>FALSE</td><td>FALSE</td><td>FALSE</td></tr>\n",
              "\t<tr><td>FALSE</td><td>FALSE</td><td>FALSE</td><td> TRUE</td><td> TRUE</td></tr>\n",
              "\t<tr><td>FALSE</td><td>FALSE</td><td>FALSE</td><td>FALSE</td><td>FALSE</td></tr>\n",
              "</tbody>\n",
              "</table>\n"
            ],
            "text/markdown": "\nA matrix: 5 × 5 of type lgl\n\n| item1 | item2 | item3 | item4 | item5 |\n|---|---|---|---|---|\n| FALSE | FALSE | FALSE | FALSE | FALSE |\n| FALSE | FALSE | FALSE | FALSE | FALSE |\n| FALSE | FALSE | FALSE | FALSE | FALSE |\n| FALSE | FALSE | FALSE |  TRUE |  TRUE |\n| FALSE | FALSE | FALSE | FALSE | FALSE |\n\n",
            "text/latex": "A matrix: 5 × 5 of type lgl\n\\begin{tabular}{lllll}\n item1 & item2 & item3 & item4 & item5\\\\\n\\hline\n\t FALSE & FALSE & FALSE & FALSE & FALSE\\\\\n\t FALSE & FALSE & FALSE & FALSE & FALSE\\\\\n\t FALSE & FALSE & FALSE & FALSE & FALSE\\\\\n\t FALSE & FALSE & FALSE &  TRUE &  TRUE\\\\\n\t FALSE & FALSE & FALSE & FALSE & FALSE\\\\\n\\end{tabular}\n",
            "text/plain": [
              "     item1 item2 item3 item4 item5\n",
              "[1,] FALSE FALSE FALSE FALSE FALSE\n",
              "[2,] FALSE FALSE FALSE FALSE FALSE\n",
              "[3,] FALSE FALSE FALSE FALSE FALSE\n",
              "[4,] FALSE FALSE FALSE  TRUE  TRUE\n",
              "[5,] FALSE FALSE FALSE FALSE FALSE"
            ]
          },
          "metadata": {}
        }
      ]
    },
    {
      "cell_type": "code",
      "source": [
        "is.na(leadership[,])"
      ],
      "metadata": {
        "id": "nlNYPD1lHViF",
        "outputId": "6ced5c7a-f65a-4378-abcb-5d270f791266",
        "colab": {
          "base_uri": "https://localhost:8080/",
          "height": 223
        }
      },
      "execution_count": 10,
      "outputs": [
        {
          "output_type": "display_data",
          "data": {
            "text/html": [
              "<table class=\"dataframe\">\n",
              "<caption>A matrix: 5 × 13 of type lgl</caption>\n",
              "<thead>\n",
              "\t<tr><th scope=col>manager</th><th scope=col>testDate</th><th scope=col>country</th><th scope=col>gender</th><th scope=col>age</th><th scope=col>item1</th><th scope=col>item2</th><th scope=col>item3</th><th scope=col>item4</th><th scope=col>item5</th><th scope=col>total_score</th><th scope=col>mean_score</th><th scope=col>agecat</th></tr>\n",
              "</thead>\n",
              "<tbody>\n",
              "\t<tr><td>FALSE</td><td>FALSE</td><td>FALSE</td><td>FALSE</td><td>FALSE</td><td>FALSE</td><td>FALSE</td><td>FALSE</td><td>FALSE</td><td>FALSE</td><td>FALSE</td><td>FALSE</td><td>FALSE</td></tr>\n",
              "\t<tr><td>FALSE</td><td>FALSE</td><td>FALSE</td><td>FALSE</td><td>FALSE</td><td>FALSE</td><td>FALSE</td><td>FALSE</td><td>FALSE</td><td>FALSE</td><td>FALSE</td><td>FALSE</td><td>FALSE</td></tr>\n",
              "\t<tr><td>FALSE</td><td>FALSE</td><td>FALSE</td><td>FALSE</td><td>FALSE</td><td>FALSE</td><td>FALSE</td><td>FALSE</td><td>FALSE</td><td>FALSE</td><td>FALSE</td><td>FALSE</td><td>FALSE</td></tr>\n",
              "\t<tr><td>FALSE</td><td>FALSE</td><td>FALSE</td><td>FALSE</td><td>FALSE</td><td>FALSE</td><td>FALSE</td><td>FALSE</td><td> TRUE</td><td> TRUE</td><td> TRUE</td><td> TRUE</td><td>FALSE</td></tr>\n",
              "\t<tr><td>FALSE</td><td>FALSE</td><td>FALSE</td><td>FALSE</td><td> TRUE</td><td>FALSE</td><td>FALSE</td><td>FALSE</td><td>FALSE</td><td>FALSE</td><td>FALSE</td><td>FALSE</td><td> TRUE</td></tr>\n",
              "</tbody>\n",
              "</table>\n"
            ],
            "text/markdown": "\nA matrix: 5 × 13 of type lgl\n\n| manager | testDate | country | gender | age | item1 | item2 | item3 | item4 | item5 | total_score | mean_score | agecat |\n|---|---|---|---|---|---|---|---|---|---|---|---|---|\n| FALSE | FALSE | FALSE | FALSE | FALSE | FALSE | FALSE | FALSE | FALSE | FALSE | FALSE | FALSE | FALSE |\n| FALSE | FALSE | FALSE | FALSE | FALSE | FALSE | FALSE | FALSE | FALSE | FALSE | FALSE | FALSE | FALSE |\n| FALSE | FALSE | FALSE | FALSE | FALSE | FALSE | FALSE | FALSE | FALSE | FALSE | FALSE | FALSE | FALSE |\n| FALSE | FALSE | FALSE | FALSE | FALSE | FALSE | FALSE | FALSE |  TRUE |  TRUE |  TRUE |  TRUE | FALSE |\n| FALSE | FALSE | FALSE | FALSE |  TRUE | FALSE | FALSE | FALSE | FALSE | FALSE | FALSE | FALSE |  TRUE |\n\n",
            "text/latex": "A matrix: 5 × 13 of type lgl\n\\begin{tabular}{lllllllllllll}\n manager & testDate & country & gender & age & item1 & item2 & item3 & item4 & item5 & total\\_score & mean\\_score & agecat\\\\\n\\hline\n\t FALSE & FALSE & FALSE & FALSE & FALSE & FALSE & FALSE & FALSE & FALSE & FALSE & FALSE & FALSE & FALSE\\\\\n\t FALSE & FALSE & FALSE & FALSE & FALSE & FALSE & FALSE & FALSE & FALSE & FALSE & FALSE & FALSE & FALSE\\\\\n\t FALSE & FALSE & FALSE & FALSE & FALSE & FALSE & FALSE & FALSE & FALSE & FALSE & FALSE & FALSE & FALSE\\\\\n\t FALSE & FALSE & FALSE & FALSE & FALSE & FALSE & FALSE & FALSE &  TRUE &  TRUE &  TRUE &  TRUE & FALSE\\\\\n\t FALSE & FALSE & FALSE & FALSE &  TRUE & FALSE & FALSE & FALSE & FALSE & FALSE & FALSE & FALSE &  TRUE\\\\\n\\end{tabular}\n",
            "text/plain": [
              "     manager testDate country gender age   item1 item2 item3 item4 item5\n",
              "[1,] FALSE   FALSE    FALSE   FALSE  FALSE FALSE FALSE FALSE FALSE FALSE\n",
              "[2,] FALSE   FALSE    FALSE   FALSE  FALSE FALSE FALSE FALSE FALSE FALSE\n",
              "[3,] FALSE   FALSE    FALSE   FALSE  FALSE FALSE FALSE FALSE FALSE FALSE\n",
              "[4,] FALSE   FALSE    FALSE   FALSE  FALSE FALSE FALSE FALSE  TRUE  TRUE\n",
              "[5,] FALSE   FALSE    FALSE   FALSE   TRUE FALSE FALSE FALSE FALSE FALSE\n",
              "     total_score mean_score agecat\n",
              "[1,] FALSE       FALSE      FALSE \n",
              "[2,] FALSE       FALSE      FALSE \n",
              "[3,] FALSE       FALSE      FALSE \n",
              "[4,]  TRUE        TRUE      FALSE \n",
              "[5,] FALSE       FALSE       TRUE "
            ]
          },
          "metadata": {}
        }
      ]
    },
    {
      "cell_type": "markdown",
      "source": [
        "### Перекодирование значений в отсутствующие\n",
        "\n",
        "```\n",
        "leadership\\$age[leadership\\$age == 99] <- NA\n",
        "```\n"
      ],
      "metadata": {
        "id": "fSp0Ga-BIIa-"
      }
    },
    {
      "cell_type": "markdown",
      "source": [
        "### Исключение пропущенных значений из анализа\n",
        "\n",
        "```\n",
        "x <- c(1, 2, NA, 3)\n",
        "y <- x[1] + x[2] + x[3] + x[4]\n",
        "z <- sum(x)\n",
        "```\n",
        "Функция `na.omit()` - построчное удаление если есть пропущенные значения.\n"
      ],
      "metadata": {
        "id": "mZiByzUPfRB9"
      }
    },
    {
      "cell_type": "code",
      "source": [
        "x <- c(1, 2, NA, 3)\n",
        "y <- x[1] + x[2] + x[3] + x[4]\n",
        "z <- sum(x)\n",
        "z\n",
        "y\n",
        "x"
      ],
      "metadata": {
        "id": "FRnk6xkQokpk",
        "outputId": "d15aa3ae-d01d-4ece-d643-4404342d2fa6",
        "colab": {
          "base_uri": "https://localhost:8080/",
          "height": 69
        }
      },
      "execution_count": 11,
      "outputs": [
        {
          "output_type": "display_data",
          "data": {
            "text/html": [
              "&lt;NA&gt;"
            ],
            "text/markdown": "&lt;NA&gt;",
            "text/latex": "<NA>",
            "text/plain": [
              "[1] NA"
            ]
          },
          "metadata": {}
        },
        {
          "output_type": "display_data",
          "data": {
            "text/html": [
              "&lt;NA&gt;"
            ],
            "text/markdown": "&lt;NA&gt;",
            "text/latex": "<NA>",
            "text/plain": [
              "[1] NA"
            ]
          },
          "metadata": {}
        },
        {
          "output_type": "display_data",
          "data": {
            "text/html": [
              "<style>\n",
              ".list-inline {list-style: none; margin:0; padding: 0}\n",
              ".list-inline>li {display: inline-block}\n",
              ".list-inline>li:not(:last-child)::after {content: \"\\00b7\"; padding: 0 .5ex}\n",
              "</style>\n",
              "<ol class=list-inline><li>1</li><li>2</li><li>&lt;NA&gt;</li><li>3</li></ol>\n"
            ],
            "text/markdown": "1. 1\n2. 2\n3. &lt;NA&gt;\n4. 3\n\n\n",
            "text/latex": "\\begin{enumerate*}\n\\item 1\n\\item 2\n\\item <NA>\n\\item 3\n\\end{enumerate*}\n",
            "text/plain": [
              "[1]  1  2 NA  3"
            ]
          },
          "metadata": {}
        }
      ]
    },
    {
      "cell_type": "code",
      "source": [
        "y <- sum (x, na.rm = TRUE)\n",
        "y"
      ],
      "metadata": {
        "id": "U-ioHpPSo2d0",
        "outputId": "4c05ab56-5888-4f17-a5ca-f5358d7201f5",
        "colab": {
          "base_uri": "https://localhost:8080/",
          "height": 34
        }
      },
      "execution_count": 12,
      "outputs": [
        {
          "output_type": "display_data",
          "data": {
            "text/html": [
              "6"
            ],
            "text/markdown": "6",
            "text/latex": "6",
            "text/plain": [
              "[1] 6"
            ]
          },
          "metadata": {}
        }
      ]
    },
    {
      "cell_type": "code",
      "source": [
        "leadership\n",
        "newdata <- na.omit (leadership)\n",
        "newdata"
      ],
      "metadata": {
        "id": "rpLuI9j_3x-k",
        "outputId": "16ea7b44-6daa-4014-822a-dc1cc2911684",
        "colab": {
          "base_uri": "https://localhost:8080/",
          "height": 430
        }
      },
      "execution_count": 13,
      "outputs": [
        {
          "output_type": "display_data",
          "data": {
            "text/html": [
              "<table class=\"dataframe\">\n",
              "<caption>A data.frame: 5 × 13</caption>\n",
              "<thead>\n",
              "\t<tr><th scope=col>manager</th><th scope=col>testDate</th><th scope=col>country</th><th scope=col>gender</th><th scope=col>age</th><th scope=col>item1</th><th scope=col>item2</th><th scope=col>item3</th><th scope=col>item4</th><th scope=col>item5</th><th scope=col>total_score</th><th scope=col>mean_score</th><th scope=col>agecat</th></tr>\n",
              "\t<tr><th scope=col>&lt;dbl&gt;</th><th scope=col>&lt;chr&gt;</th><th scope=col>&lt;chr&gt;</th><th scope=col>&lt;chr&gt;</th><th scope=col>&lt;dbl&gt;</th><th scope=col>&lt;dbl&gt;</th><th scope=col>&lt;dbl&gt;</th><th scope=col>&lt;dbl&gt;</th><th scope=col>&lt;dbl&gt;</th><th scope=col>&lt;dbl&gt;</th><th scope=col>&lt;dbl&gt;</th><th scope=col>&lt;dbl&gt;</th><th scope=col>&lt;chr&gt;</th></tr>\n",
              "</thead>\n",
              "<tbody>\n",
              "\t<tr><td>1</td><td>10/24/08</td><td>US</td><td>M</td><td>32</td><td>5</td><td>4</td><td>5</td><td> 5</td><td> 5</td><td>24</td><td>4.8</td><td>Young</td></tr>\n",
              "\t<tr><td>2</td><td>10/28/08</td><td>US</td><td>F</td><td>45</td><td>3</td><td>5</td><td>2</td><td> 5</td><td> 5</td><td>20</td><td>4.0</td><td>Young</td></tr>\n",
              "\t<tr><td>3</td><td>10/1/08 </td><td>UK</td><td>F</td><td>25</td><td>3</td><td>5</td><td>5</td><td> 5</td><td> 2</td><td>20</td><td>4.0</td><td>Young</td></tr>\n",
              "\t<tr><td>4</td><td>10/12/08</td><td>UK</td><td>M</td><td>39</td><td>3</td><td>3</td><td>4</td><td>NA</td><td>NA</td><td>NA</td><td> NA</td><td>Young</td></tr>\n",
              "\t<tr><td>5</td><td>5/1/09  </td><td>UK</td><td>F</td><td>NA</td><td>2</td><td>2</td><td>1</td><td> 2</td><td> 1</td><td> 8</td><td>1.6</td><td>NA   </td></tr>\n",
              "</tbody>\n",
              "</table>\n"
            ],
            "text/markdown": "\nA data.frame: 5 × 13\n\n| manager &lt;dbl&gt; | testDate &lt;chr&gt; | country &lt;chr&gt; | gender &lt;chr&gt; | age &lt;dbl&gt; | item1 &lt;dbl&gt; | item2 &lt;dbl&gt; | item3 &lt;dbl&gt; | item4 &lt;dbl&gt; | item5 &lt;dbl&gt; | total_score &lt;dbl&gt; | mean_score &lt;dbl&gt; | agecat &lt;chr&gt; |\n|---|---|---|---|---|---|---|---|---|---|---|---|---|\n| 1 | 10/24/08 | US | M | 32 | 5 | 4 | 5 |  5 |  5 | 24 | 4.8 | Young |\n| 2 | 10/28/08 | US | F | 45 | 3 | 5 | 2 |  5 |  5 | 20 | 4.0 | Young |\n| 3 | 10/1/08  | UK | F | 25 | 3 | 5 | 5 |  5 |  2 | 20 | 4.0 | Young |\n| 4 | 10/12/08 | UK | M | 39 | 3 | 3 | 4 | NA | NA | NA |  NA | Young |\n| 5 | 5/1/09   | UK | F | NA | 2 | 2 | 1 |  2 |  1 |  8 | 1.6 | NA    |\n\n",
            "text/latex": "A data.frame: 5 × 13\n\\begin{tabular}{lllllllllllll}\n manager & testDate & country & gender & age & item1 & item2 & item3 & item4 & item5 & total\\_score & mean\\_score & agecat\\\\\n <dbl> & <chr> & <chr> & <chr> & <dbl> & <dbl> & <dbl> & <dbl> & <dbl> & <dbl> & <dbl> & <dbl> & <chr>\\\\\n\\hline\n\t 1 & 10/24/08 & US & M & 32 & 5 & 4 & 5 &  5 &  5 & 24 & 4.8 & Young\\\\\n\t 2 & 10/28/08 & US & F & 45 & 3 & 5 & 2 &  5 &  5 & 20 & 4.0 & Young\\\\\n\t 3 & 10/1/08  & UK & F & 25 & 3 & 5 & 5 &  5 &  2 & 20 & 4.0 & Young\\\\\n\t 4 & 10/12/08 & UK & M & 39 & 3 & 3 & 4 & NA & NA & NA &  NA & Young\\\\\n\t 5 & 5/1/09   & UK & F & NA & 2 & 2 & 1 &  2 &  1 &  8 & 1.6 & NA   \\\\\n\\end{tabular}\n",
            "text/plain": [
              "  manager testDate country gender age item1 item2 item3 item4 item5 total_score\n",
              "1 1       10/24/08 US      M      32  5     4     5      5     5    24         \n",
              "2 2       10/28/08 US      F      45  3     5     2      5     5    20         \n",
              "3 3       10/1/08  UK      F      25  3     5     5      5     2    20         \n",
              "4 4       10/12/08 UK      M      39  3     3     4     NA    NA    NA         \n",
              "5 5       5/1/09   UK      F      NA  2     2     1      2     1     8         \n",
              "  mean_score agecat\n",
              "1 4.8        Young \n",
              "2 4.0        Young \n",
              "3 4.0        Young \n",
              "4  NA        Young \n",
              "5 1.6        NA    "
            ]
          },
          "metadata": {}
        },
        {
          "output_type": "display_data",
          "data": {
            "text/html": [
              "<table class=\"dataframe\">\n",
              "<caption>A data.frame: 3 × 13</caption>\n",
              "<thead>\n",
              "\t<tr><th></th><th scope=col>manager</th><th scope=col>testDate</th><th scope=col>country</th><th scope=col>gender</th><th scope=col>age</th><th scope=col>item1</th><th scope=col>item2</th><th scope=col>item3</th><th scope=col>item4</th><th scope=col>item5</th><th scope=col>total_score</th><th scope=col>mean_score</th><th scope=col>agecat</th></tr>\n",
              "\t<tr><th></th><th scope=col>&lt;dbl&gt;</th><th scope=col>&lt;chr&gt;</th><th scope=col>&lt;chr&gt;</th><th scope=col>&lt;chr&gt;</th><th scope=col>&lt;dbl&gt;</th><th scope=col>&lt;dbl&gt;</th><th scope=col>&lt;dbl&gt;</th><th scope=col>&lt;dbl&gt;</th><th scope=col>&lt;dbl&gt;</th><th scope=col>&lt;dbl&gt;</th><th scope=col>&lt;dbl&gt;</th><th scope=col>&lt;dbl&gt;</th><th scope=col>&lt;chr&gt;</th></tr>\n",
              "</thead>\n",
              "<tbody>\n",
              "\t<tr><th scope=row>1</th><td>1</td><td>10/24/08</td><td>US</td><td>M</td><td>32</td><td>5</td><td>4</td><td>5</td><td>5</td><td>5</td><td>24</td><td>4.8</td><td>Young</td></tr>\n",
              "\t<tr><th scope=row>2</th><td>2</td><td>10/28/08</td><td>US</td><td>F</td><td>45</td><td>3</td><td>5</td><td>2</td><td>5</td><td>5</td><td>20</td><td>4.0</td><td>Young</td></tr>\n",
              "\t<tr><th scope=row>3</th><td>3</td><td>10/1/08 </td><td>UK</td><td>F</td><td>25</td><td>3</td><td>5</td><td>5</td><td>5</td><td>2</td><td>20</td><td>4.0</td><td>Young</td></tr>\n",
              "</tbody>\n",
              "</table>\n"
            ],
            "text/markdown": "\nA data.frame: 3 × 13\n\n| <!--/--> | manager &lt;dbl&gt; | testDate &lt;chr&gt; | country &lt;chr&gt; | gender &lt;chr&gt; | age &lt;dbl&gt; | item1 &lt;dbl&gt; | item2 &lt;dbl&gt; | item3 &lt;dbl&gt; | item4 &lt;dbl&gt; | item5 &lt;dbl&gt; | total_score &lt;dbl&gt; | mean_score &lt;dbl&gt; | agecat &lt;chr&gt; |\n|---|---|---|---|---|---|---|---|---|---|---|---|---|---|\n| 1 | 1 | 10/24/08 | US | M | 32 | 5 | 4 | 5 | 5 | 5 | 24 | 4.8 | Young |\n| 2 | 2 | 10/28/08 | US | F | 45 | 3 | 5 | 2 | 5 | 5 | 20 | 4.0 | Young |\n| 3 | 3 | 10/1/08  | UK | F | 25 | 3 | 5 | 5 | 5 | 2 | 20 | 4.0 | Young |\n\n",
            "text/latex": "A data.frame: 3 × 13\n\\begin{tabular}{r|lllllllllllll}\n  & manager & testDate & country & gender & age & item1 & item2 & item3 & item4 & item5 & total\\_score & mean\\_score & agecat\\\\\n  & <dbl> & <chr> & <chr> & <chr> & <dbl> & <dbl> & <dbl> & <dbl> & <dbl> & <dbl> & <dbl> & <dbl> & <chr>\\\\\n\\hline\n\t1 & 1 & 10/24/08 & US & M & 32 & 5 & 4 & 5 & 5 & 5 & 24 & 4.8 & Young\\\\\n\t2 & 2 & 10/28/08 & US & F & 45 & 3 & 5 & 2 & 5 & 5 & 20 & 4.0 & Young\\\\\n\t3 & 3 & 10/1/08  & UK & F & 25 & 3 & 5 & 5 & 5 & 2 & 20 & 4.0 & Young\\\\\n\\end{tabular}\n",
            "text/plain": [
              "  manager testDate country gender age item1 item2 item3 item4 item5 total_score\n",
              "1 1       10/24/08 US      M      32  5     4     5     5     5     24         \n",
              "2 2       10/28/08 US      F      45  3     5     2     5     5     20         \n",
              "3 3       10/1/08  UK      F      25  3     5     5     5     2     20         \n",
              "  mean_score agecat\n",
              "1 4.8        Young \n",
              "2 4.0        Young \n",
              "3 4.0        Young "
            ]
          },
          "metadata": {}
        }
      ]
    },
    {
      "cell_type": "markdown",
      "source": [
        "## Календарные даты\n",
        "\n",
        "В R даты обычно вводятся в виде текстовых строк, а затем преобразуются в формат даты и хранятся в числовом виде. Для этого преобразования используется функция `as.Date()`, имеющая следующий синтаксис:\n",
        "\n",
        "`as.Date(x, \"input_format\")`\n",
        "\n",
        "где x – это дата в текстовом формате, а input_format определяет\n",
        "формат представления даты:\n",
        "* %d - День месяца в виде числа (01–31)\n",
        "* %a - Сокращенное название дня недели\n",
        "* %A - Полное название дня недели\n",
        "* %m - Порядковый номер месяца (01–12)\n",
        "* %b - Сокращенное название месяца\n",
        "* %B - Полное название месяца\n",
        "* %y - Две последние цифры года\n",
        "* %Y - Все четыре цифры года\n",
        "\n",
        "Функция `Sys.Date()` возвращает текущую дату, а функция `date()` – текущие дату и время.\n",
        "\n",
        "Для вывода дат в заданном формате и извлечения отдельных компонентов можно использовать функцию `format(x, format=\"output_ format\")`\n",
        "\n",
        "\n"
      ],
      "metadata": {
        "id": "DLuo0gmk4eZ7"
      }
    },
    {
      "cell_type": "code",
      "source": [
        "# По умолчанию даты вводятся в формате yyyy-mm-dd («год-месяц-день»)\n",
        "mydates <- as.Date(c(\"2007-06-22\", \"2004-02-13\")) # преобразует текстовые данные в даты, используя этот формат по умолчанию.\n",
        "mydates"
      ],
      "metadata": {
        "id": "rR0otE_tYFYy",
        "outputId": "eba9969a-1d12-40ab-d6a9-2c49afe365dd",
        "colab": {
          "base_uri": "https://localhost:8080/",
          "height": 34
        }
      },
      "execution_count": 14,
      "outputs": [
        {
          "output_type": "display_data",
          "data": {
            "text/html": [
              "<style>\n",
              ".list-inline {list-style: none; margin:0; padding: 0}\n",
              ".list-inline>li {display: inline-block}\n",
              ".list-inline>li:not(:last-child)::after {content: \"\\00b7\"; padding: 0 .5ex}\n",
              "</style>\n",
              "<ol class=list-inline><li><time datetime=\"2007-06-22\">2007-06-22</time></li><li><time datetime=\"2004-02-13\">2004-02-13</time></li></ol>\n"
            ],
            "text/markdown": "1. 2007-06-22\n2. 2004-02-13\n\n\n",
            "text/latex": "\\begin{enumerate*}\n\\item 2007-06-22\n\\item 2004-02-13\n\\end{enumerate*}\n",
            "text/plain": [
              "[1] \"2007-06-22\" \"2004-02-13\""
            ]
          },
          "metadata": {}
        }
      ]
    },
    {
      "cell_type": "code",
      "source": [
        "# В отличие от нее, следующая инструкция:\n",
        "strDates <- c(\"01/05/1965\", \"08/16/1975\")\n",
        "dates <- as.Date(strDates, \"%m/%d/%Y\") # читает даты в формате mm/dd/yyyy («месяц/день/год»).\n",
        "dates"
      ],
      "metadata": {
        "id": "pULjk-7Ujawh",
        "outputId": "e6a71cb7-83bc-47b2-8ba5-99b9e7d17ae6",
        "colab": {
          "base_uri": "https://localhost:8080/",
          "height": 34
        }
      },
      "execution_count": 15,
      "outputs": [
        {
          "output_type": "display_data",
          "data": {
            "text/html": [
              "<style>\n",
              ".list-inline {list-style: none; margin:0; padding: 0}\n",
              ".list-inline>li {display: inline-block}\n",
              ".list-inline>li:not(:last-child)::after {content: \"\\00b7\"; padding: 0 .5ex}\n",
              "</style>\n",
              "<ol class=list-inline><li><time datetime=\"1965-01-05\">1965-01-05</time></li><li><time datetime=\"1975-08-16\">1975-08-16</time></li></ol>\n"
            ],
            "text/markdown": "1. 1965-01-05\n2. 1975-08-16\n\n\n",
            "text/latex": "\\begin{enumerate*}\n\\item 1965-01-05\n\\item 1975-08-16\n\\end{enumerate*}\n",
            "text/plain": [
              "[1] \"1965-01-05\" \"1975-08-16\""
            ]
          },
          "metadata": {}
        }
      ]
    },
    {
      "cell_type": "code",
      "source": [
        "leadership"
      ],
      "metadata": {
        "id": "cHPsyBu0k28a",
        "outputId": "36a62857-789f-472b-8e3f-e3e1d2770dee",
        "colab": {
          "base_uri": "https://localhost:8080/",
          "height": 255
        }
      },
      "execution_count": 16,
      "outputs": [
        {
          "output_type": "display_data",
          "data": {
            "text/html": [
              "<table class=\"dataframe\">\n",
              "<caption>A data.frame: 5 × 13</caption>\n",
              "<thead>\n",
              "\t<tr><th scope=col>manager</th><th scope=col>testDate</th><th scope=col>country</th><th scope=col>gender</th><th scope=col>age</th><th scope=col>item1</th><th scope=col>item2</th><th scope=col>item3</th><th scope=col>item4</th><th scope=col>item5</th><th scope=col>total_score</th><th scope=col>mean_score</th><th scope=col>agecat</th></tr>\n",
              "\t<tr><th scope=col>&lt;dbl&gt;</th><th scope=col>&lt;chr&gt;</th><th scope=col>&lt;chr&gt;</th><th scope=col>&lt;chr&gt;</th><th scope=col>&lt;dbl&gt;</th><th scope=col>&lt;dbl&gt;</th><th scope=col>&lt;dbl&gt;</th><th scope=col>&lt;dbl&gt;</th><th scope=col>&lt;dbl&gt;</th><th scope=col>&lt;dbl&gt;</th><th scope=col>&lt;dbl&gt;</th><th scope=col>&lt;dbl&gt;</th><th scope=col>&lt;chr&gt;</th></tr>\n",
              "</thead>\n",
              "<tbody>\n",
              "\t<tr><td>1</td><td>10/24/08</td><td>US</td><td>M</td><td>32</td><td>5</td><td>4</td><td>5</td><td> 5</td><td> 5</td><td>24</td><td>4.8</td><td>Young</td></tr>\n",
              "\t<tr><td>2</td><td>10/28/08</td><td>US</td><td>F</td><td>45</td><td>3</td><td>5</td><td>2</td><td> 5</td><td> 5</td><td>20</td><td>4.0</td><td>Young</td></tr>\n",
              "\t<tr><td>3</td><td>10/1/08 </td><td>UK</td><td>F</td><td>25</td><td>3</td><td>5</td><td>5</td><td> 5</td><td> 2</td><td>20</td><td>4.0</td><td>Young</td></tr>\n",
              "\t<tr><td>4</td><td>10/12/08</td><td>UK</td><td>M</td><td>39</td><td>3</td><td>3</td><td>4</td><td>NA</td><td>NA</td><td>NA</td><td> NA</td><td>Young</td></tr>\n",
              "\t<tr><td>5</td><td>5/1/09  </td><td>UK</td><td>F</td><td>NA</td><td>2</td><td>2</td><td>1</td><td> 2</td><td> 1</td><td> 8</td><td>1.6</td><td>NA   </td></tr>\n",
              "</tbody>\n",
              "</table>\n"
            ],
            "text/markdown": "\nA data.frame: 5 × 13\n\n| manager &lt;dbl&gt; | testDate &lt;chr&gt; | country &lt;chr&gt; | gender &lt;chr&gt; | age &lt;dbl&gt; | item1 &lt;dbl&gt; | item2 &lt;dbl&gt; | item3 &lt;dbl&gt; | item4 &lt;dbl&gt; | item5 &lt;dbl&gt; | total_score &lt;dbl&gt; | mean_score &lt;dbl&gt; | agecat &lt;chr&gt; |\n|---|---|---|---|---|---|---|---|---|---|---|---|---|\n| 1 | 10/24/08 | US | M | 32 | 5 | 4 | 5 |  5 |  5 | 24 | 4.8 | Young |\n| 2 | 10/28/08 | US | F | 45 | 3 | 5 | 2 |  5 |  5 | 20 | 4.0 | Young |\n| 3 | 10/1/08  | UK | F | 25 | 3 | 5 | 5 |  5 |  2 | 20 | 4.0 | Young |\n| 4 | 10/12/08 | UK | M | 39 | 3 | 3 | 4 | NA | NA | NA |  NA | Young |\n| 5 | 5/1/09   | UK | F | NA | 2 | 2 | 1 |  2 |  1 |  8 | 1.6 | NA    |\n\n",
            "text/latex": "A data.frame: 5 × 13\n\\begin{tabular}{lllllllllllll}\n manager & testDate & country & gender & age & item1 & item2 & item3 & item4 & item5 & total\\_score & mean\\_score & agecat\\\\\n <dbl> & <chr> & <chr> & <chr> & <dbl> & <dbl> & <dbl> & <dbl> & <dbl> & <dbl> & <dbl> & <dbl> & <chr>\\\\\n\\hline\n\t 1 & 10/24/08 & US & M & 32 & 5 & 4 & 5 &  5 &  5 & 24 & 4.8 & Young\\\\\n\t 2 & 10/28/08 & US & F & 45 & 3 & 5 & 2 &  5 &  5 & 20 & 4.0 & Young\\\\\n\t 3 & 10/1/08  & UK & F & 25 & 3 & 5 & 5 &  5 &  2 & 20 & 4.0 & Young\\\\\n\t 4 & 10/12/08 & UK & M & 39 & 3 & 3 & 4 & NA & NA & NA &  NA & Young\\\\\n\t 5 & 5/1/09   & UK & F & NA & 2 & 2 & 1 &  2 &  1 &  8 & 1.6 & NA   \\\\\n\\end{tabular}\n",
            "text/plain": [
              "  manager testDate country gender age item1 item2 item3 item4 item5 total_score\n",
              "1 1       10/24/08 US      M      32  5     4     5      5     5    24         \n",
              "2 2       10/28/08 US      F      45  3     5     2      5     5    20         \n",
              "3 3       10/1/08  UK      F      25  3     5     5      5     2    20         \n",
              "4 4       10/12/08 UK      M      39  3     3     4     NA    NA    NA         \n",
              "5 5       5/1/09   UK      F      NA  2     2     1      2     1     8         \n",
              "  mean_score agecat\n",
              "1 4.8        Young \n",
              "2 4.0        Young \n",
              "3 4.0        Young \n",
              "4  NA        Young \n",
              "5 1.6        NA    "
            ]
          },
          "metadata": {}
        }
      ]
    },
    {
      "cell_type": "code",
      "source": [
        "# В нашем наборе данных leadership даты представлены в формате mm/dd/yy. Поэтому в инструкциях\n",
        "myformat <- \"%m/%d/%y\"\n",
        "leadership$testDate <- as.Date(leadership$testDate, myformat) # используется нестандартный формат, позволяющий прочитать текстовую\n",
        "                                                      # переменную и преобразовать ее в столбец, содержащий календарные даты.\n",
        "leadership"
      ],
      "metadata": {
        "id": "8PzzAu8fkRSn",
        "outputId": "7d4d4703-2ea1-4988-f63e-3e9d69d741a8",
        "colab": {
          "base_uri": "https://localhost:8080/",
          "height": 255
        }
      },
      "execution_count": 17,
      "outputs": [
        {
          "output_type": "display_data",
          "data": {
            "text/html": [
              "<table class=\"dataframe\">\n",
              "<caption>A data.frame: 5 × 13</caption>\n",
              "<thead>\n",
              "\t<tr><th scope=col>manager</th><th scope=col>testDate</th><th scope=col>country</th><th scope=col>gender</th><th scope=col>age</th><th scope=col>item1</th><th scope=col>item2</th><th scope=col>item3</th><th scope=col>item4</th><th scope=col>item5</th><th scope=col>total_score</th><th scope=col>mean_score</th><th scope=col>agecat</th></tr>\n",
              "\t<tr><th scope=col>&lt;dbl&gt;</th><th scope=col>&lt;date&gt;</th><th scope=col>&lt;chr&gt;</th><th scope=col>&lt;chr&gt;</th><th scope=col>&lt;dbl&gt;</th><th scope=col>&lt;dbl&gt;</th><th scope=col>&lt;dbl&gt;</th><th scope=col>&lt;dbl&gt;</th><th scope=col>&lt;dbl&gt;</th><th scope=col>&lt;dbl&gt;</th><th scope=col>&lt;dbl&gt;</th><th scope=col>&lt;dbl&gt;</th><th scope=col>&lt;chr&gt;</th></tr>\n",
              "</thead>\n",
              "<tbody>\n",
              "\t<tr><td>1</td><td>2008-10-24</td><td>US</td><td>M</td><td>32</td><td>5</td><td>4</td><td>5</td><td> 5</td><td> 5</td><td>24</td><td>4.8</td><td>Young</td></tr>\n",
              "\t<tr><td>2</td><td>2008-10-28</td><td>US</td><td>F</td><td>45</td><td>3</td><td>5</td><td>2</td><td> 5</td><td> 5</td><td>20</td><td>4.0</td><td>Young</td></tr>\n",
              "\t<tr><td>3</td><td>2008-10-01</td><td>UK</td><td>F</td><td>25</td><td>3</td><td>5</td><td>5</td><td> 5</td><td> 2</td><td>20</td><td>4.0</td><td>Young</td></tr>\n",
              "\t<tr><td>4</td><td>2008-10-12</td><td>UK</td><td>M</td><td>39</td><td>3</td><td>3</td><td>4</td><td>NA</td><td>NA</td><td>NA</td><td> NA</td><td>Young</td></tr>\n",
              "\t<tr><td>5</td><td>2009-05-01</td><td>UK</td><td>F</td><td>NA</td><td>2</td><td>2</td><td>1</td><td> 2</td><td> 1</td><td> 8</td><td>1.6</td><td>NA   </td></tr>\n",
              "</tbody>\n",
              "</table>\n"
            ],
            "text/markdown": "\nA data.frame: 5 × 13\n\n| manager &lt;dbl&gt; | testDate &lt;date&gt; | country &lt;chr&gt; | gender &lt;chr&gt; | age &lt;dbl&gt; | item1 &lt;dbl&gt; | item2 &lt;dbl&gt; | item3 &lt;dbl&gt; | item4 &lt;dbl&gt; | item5 &lt;dbl&gt; | total_score &lt;dbl&gt; | mean_score &lt;dbl&gt; | agecat &lt;chr&gt; |\n|---|---|---|---|---|---|---|---|---|---|---|---|---|\n| 1 | 2008-10-24 | US | M | 32 | 5 | 4 | 5 |  5 |  5 | 24 | 4.8 | Young |\n| 2 | 2008-10-28 | US | F | 45 | 3 | 5 | 2 |  5 |  5 | 20 | 4.0 | Young |\n| 3 | 2008-10-01 | UK | F | 25 | 3 | 5 | 5 |  5 |  2 | 20 | 4.0 | Young |\n| 4 | 2008-10-12 | UK | M | 39 | 3 | 3 | 4 | NA | NA | NA |  NA | Young |\n| 5 | 2009-05-01 | UK | F | NA | 2 | 2 | 1 |  2 |  1 |  8 | 1.6 | NA    |\n\n",
            "text/latex": "A data.frame: 5 × 13\n\\begin{tabular}{lllllllllllll}\n manager & testDate & country & gender & age & item1 & item2 & item3 & item4 & item5 & total\\_score & mean\\_score & agecat\\\\\n <dbl> & <date> & <chr> & <chr> & <dbl> & <dbl> & <dbl> & <dbl> & <dbl> & <dbl> & <dbl> & <dbl> & <chr>\\\\\n\\hline\n\t 1 & 2008-10-24 & US & M & 32 & 5 & 4 & 5 &  5 &  5 & 24 & 4.8 & Young\\\\\n\t 2 & 2008-10-28 & US & F & 45 & 3 & 5 & 2 &  5 &  5 & 20 & 4.0 & Young\\\\\n\t 3 & 2008-10-01 & UK & F & 25 & 3 & 5 & 5 &  5 &  2 & 20 & 4.0 & Young\\\\\n\t 4 & 2008-10-12 & UK & M & 39 & 3 & 3 & 4 & NA & NA & NA &  NA & Young\\\\\n\t 5 & 2009-05-01 & UK & F & NA & 2 & 2 & 1 &  2 &  1 &  8 & 1.6 & NA   \\\\\n\\end{tabular}\n",
            "text/plain": [
              "  manager testDate   country gender age item1 item2 item3 item4 item5\n",
              "1 1       2008-10-24 US      M      32  5     4     5      5     5   \n",
              "2 2       2008-10-28 US      F      45  3     5     2      5     5   \n",
              "3 3       2008-10-01 UK      F      25  3     5     5      5     2   \n",
              "4 4       2008-10-12 UK      M      39  3     3     4     NA    NA   \n",
              "5 5       2009-05-01 UK      F      NA  2     2     1      2     1   \n",
              "  total_score mean_score agecat\n",
              "1 24          4.8        Young \n",
              "2 20          4.0        Young \n",
              "3 20          4.0        Young \n",
              "4 NA           NA        Young \n",
              "5  8          1.6        NA    "
            ]
          },
          "metadata": {}
        }
      ]
    },
    {
      "cell_type": "code",
      "source": [
        "Sys.Date()\n",
        "date()"
      ],
      "metadata": {
        "id": "87_IndNslarZ",
        "outputId": "a9b948c6-1a98-4bf8-fa54-0fd74ce94cf7",
        "colab": {
          "base_uri": "https://localhost:8080/",
          "height": 52
        }
      },
      "execution_count": 18,
      "outputs": [
        {
          "output_type": "display_data",
          "data": {
            "text/html": [
              "<time datetime=\"2024-06-09\">2024-06-09</time>"
            ],
            "text/markdown": "2024-06-09",
            "text/latex": "2024-06-09",
            "text/plain": [
              "[1] \"2024-06-09\""
            ]
          },
          "metadata": {}
        },
        {
          "output_type": "display_data",
          "data": {
            "text/html": [
              "<span style=white-space:pre-wrap>'Sun Jun  9 08:31:26 2024'</span>"
            ],
            "text/markdown": "<span style=white-space:pre-wrap>'Sun Jun  9 08:31:26 2024'</span>",
            "text/latex": "'Sun Jun  9 08:31:26 2024'",
            "text/plain": [
              "[1] \"Sun Jun  9 08:31:26 2024\""
            ]
          },
          "metadata": {}
        }
      ]
    },
    {
      "cell_type": "code",
      "source": [
        "today <- Sys.Date()\n",
        "format(today, format=\"%B %d %Y\")\n",
        "format(today, format=\"%A\")"
      ],
      "metadata": {
        "id": "pOxWxp8AQ7Wc",
        "outputId": "6296bc02-cd37-4d70-9ac0-e36697042f6c",
        "colab": {
          "base_uri": "https://localhost:8080/",
          "height": 52
        }
      },
      "execution_count": 19,
      "outputs": [
        {
          "output_type": "display_data",
          "data": {
            "text/html": [
              "'June 09 2024'"
            ],
            "text/markdown": "'June 09 2024'",
            "text/latex": "'June 09 2024'",
            "text/plain": [
              "[1] \"June 09 2024\""
            ]
          },
          "metadata": {}
        },
        {
          "output_type": "display_data",
          "data": {
            "text/html": [
              "'Sunday'"
            ],
            "text/markdown": "'Sunday'",
            "text/latex": "'Sunday'",
            "text/plain": [
              "[1] \"Sunday\""
            ]
          },
          "metadata": {}
        }
      ]
    },
    {
      "cell_type": "code",
      "source": [
        "# С датами можно производить арефметические действия\n",
        "startdate <- as.Date(\"2020-02-13\")\n",
        "enddate <- as.Date(\"2021-01-22\")\n",
        "days <- enddate - startdate\n",
        "days"
      ],
      "metadata": {
        "id": "TRZdnaiXheH3",
        "outputId": "487b91a0-2574-4ac6-ab33-ca4a878db119",
        "colab": {
          "base_uri": "https://localhost:8080/",
          "height": 34
        }
      },
      "execution_count": 20,
      "outputs": [
        {
          "output_type": "display_data",
          "data": {
            "text/plain": [
              "Time difference of 344 days"
            ]
          },
          "metadata": {}
        }
      ]
    },
    {
      "cell_type": "code",
      "source": [
        "today <- Sys.Date()\n",
        "dob <- as.Date(\"1956-10-12\")\n",
        "difftime(today, dob, units=\"weeks\")"
      ],
      "metadata": {
        "id": "736Dut-6h3TG",
        "outputId": "5299be32-f858-4397-fa92-b88cd861ba9c",
        "colab": {
          "base_uri": "https://localhost:8080/",
          "height": 34
        }
      },
      "execution_count": 21,
      "outputs": [
        {
          "output_type": "display_data",
          "data": {
            "text/plain": [
              "Time difference of 3530.286 weeks"
            ]
          },
          "metadata": {}
        }
      ]
    },
    {
      "cell_type": "markdown",
      "source": [
        "# Преобразование дат в текстовые переменные\n",
        "Также есть возможность преобразовать данные в формате даты и времени в текстовые значения, хотя это бывает нужно не так часто. Это можно сделать при помощи функции `as.character()`:\n",
        "\n",
        "`strDates <- as.character(dates)`\n",
        "\n",
        "Это позволяет применять к датам многие текстовые функции (разделение на подгруппы, замена, конкатенация и т. д.)."
      ],
      "metadata": {
        "id": "4Y6-TFH-pTWP"
      }
    },
    {
      "cell_type": "markdown",
      "source": [
        "### Дополнительно\n",
        "Чтобы узнать больше о преобразовании текстовых переменных в даты, загляните в справку `help(as.Date)` и `help(strftime)`. Также дополнительную информацию о форматах даты и времени можно найти в `help(ISOdatetime)`. Пакет lubridate содержит множество функций, упрощающих работу с датами, в том числе функции, обнаруживающие данные в формате даты и времени и извлекающие отдельные составляющие таких данных (например, годы, месяцы, дни и т. д.), а также выполняющие арифметические операции с ними. Если вам нужно произвести сложные вычисления с датами, воспользуйтесь пакетом fCalendar. В нем содержится несметное число функций для работы с датами. Эти функции позволяют одновременно работать с несколькими часовыми поясами и совершать сложные операции с календарем, распознавая рабочие, выходные и праздничные дни."
      ],
      "metadata": {
        "id": "9vwq1svsriR5"
      }
    },
    {
      "cell_type": "markdown",
      "source": [
        "## Преобразование данных из одного типа в другой\n",
        "Функции:\n",
        "* `is.тип_данных()` - возвращают TRUE или FALSE,\n",
        "* `as.тип_данных()` - преобразуют данные в соответствующий формат.\n",
        "\n",
        "\n",
        "---\n",
        "* is.numeric() ----------- as.numeric()\n",
        "* is.character() --------- as.character()\n",
        "* is.vector() -------------- as.vector()\n",
        "* is.matrix() -------------- as.matrix()\n",
        "* is.data.frame() ------- as.data.frame()\n",
        "* is.factor() --------------- as.factor()\n",
        "* is.logical() -------------- as.logical()\n",
        "\n"
      ],
      "metadata": {
        "id": "JJRU9-2GwiVQ"
      }
    },
    {
      "cell_type": "markdown",
      "source": [
        "## Сортировка данных\n",
        "\n",
        "Используется функция `order()`. По умолчанию данные сортируются в порядке возрастания. Можно использовать знак минус перед показателем, тогда будет обратная сортировка по убыванию."
      ],
      "metadata": {
        "id": "DwDHUDVQF4wv"
      }
    },
    {
      "cell_type": "code",
      "source": [
        "# по возрасту в порядке возрастания\n",
        "newdata <- leadership[order(leadership$age),]\n",
        "newdata"
      ],
      "metadata": {
        "id": "9xhKAEjzGj-P",
        "outputId": "04b24c40-0a95-4694-ed03-ab4dfa6d060a",
        "colab": {
          "base_uri": "https://localhost:8080/",
          "height": 255
        }
      },
      "execution_count": 22,
      "outputs": [
        {
          "output_type": "display_data",
          "data": {
            "text/html": [
              "<table class=\"dataframe\">\n",
              "<caption>A data.frame: 5 × 13</caption>\n",
              "<thead>\n",
              "\t<tr><th></th><th scope=col>manager</th><th scope=col>testDate</th><th scope=col>country</th><th scope=col>gender</th><th scope=col>age</th><th scope=col>item1</th><th scope=col>item2</th><th scope=col>item3</th><th scope=col>item4</th><th scope=col>item5</th><th scope=col>total_score</th><th scope=col>mean_score</th><th scope=col>agecat</th></tr>\n",
              "\t<tr><th></th><th scope=col>&lt;dbl&gt;</th><th scope=col>&lt;date&gt;</th><th scope=col>&lt;chr&gt;</th><th scope=col>&lt;chr&gt;</th><th scope=col>&lt;dbl&gt;</th><th scope=col>&lt;dbl&gt;</th><th scope=col>&lt;dbl&gt;</th><th scope=col>&lt;dbl&gt;</th><th scope=col>&lt;dbl&gt;</th><th scope=col>&lt;dbl&gt;</th><th scope=col>&lt;dbl&gt;</th><th scope=col>&lt;dbl&gt;</th><th scope=col>&lt;chr&gt;</th></tr>\n",
              "</thead>\n",
              "<tbody>\n",
              "\t<tr><th scope=row>3</th><td>3</td><td>2008-10-01</td><td>UK</td><td>F</td><td>25</td><td>3</td><td>5</td><td>5</td><td> 5</td><td> 2</td><td>20</td><td>4.0</td><td>Young</td></tr>\n",
              "\t<tr><th scope=row>1</th><td>1</td><td>2008-10-24</td><td>US</td><td>M</td><td>32</td><td>5</td><td>4</td><td>5</td><td> 5</td><td> 5</td><td>24</td><td>4.8</td><td>Young</td></tr>\n",
              "\t<tr><th scope=row>4</th><td>4</td><td>2008-10-12</td><td>UK</td><td>M</td><td>39</td><td>3</td><td>3</td><td>4</td><td>NA</td><td>NA</td><td>NA</td><td> NA</td><td>Young</td></tr>\n",
              "\t<tr><th scope=row>2</th><td>2</td><td>2008-10-28</td><td>US</td><td>F</td><td>45</td><td>3</td><td>5</td><td>2</td><td> 5</td><td> 5</td><td>20</td><td>4.0</td><td>Young</td></tr>\n",
              "\t<tr><th scope=row>5</th><td>5</td><td>2009-05-01</td><td>UK</td><td>F</td><td>NA</td><td>2</td><td>2</td><td>1</td><td> 2</td><td> 1</td><td> 8</td><td>1.6</td><td>NA   </td></tr>\n",
              "</tbody>\n",
              "</table>\n"
            ],
            "text/markdown": "\nA data.frame: 5 × 13\n\n| <!--/--> | manager &lt;dbl&gt; | testDate &lt;date&gt; | country &lt;chr&gt; | gender &lt;chr&gt; | age &lt;dbl&gt; | item1 &lt;dbl&gt; | item2 &lt;dbl&gt; | item3 &lt;dbl&gt; | item4 &lt;dbl&gt; | item5 &lt;dbl&gt; | total_score &lt;dbl&gt; | mean_score &lt;dbl&gt; | agecat &lt;chr&gt; |\n|---|---|---|---|---|---|---|---|---|---|---|---|---|---|\n| 3 | 3 | 2008-10-01 | UK | F | 25 | 3 | 5 | 5 |  5 |  2 | 20 | 4.0 | Young |\n| 1 | 1 | 2008-10-24 | US | M | 32 | 5 | 4 | 5 |  5 |  5 | 24 | 4.8 | Young |\n| 4 | 4 | 2008-10-12 | UK | M | 39 | 3 | 3 | 4 | NA | NA | NA |  NA | Young |\n| 2 | 2 | 2008-10-28 | US | F | 45 | 3 | 5 | 2 |  5 |  5 | 20 | 4.0 | Young |\n| 5 | 5 | 2009-05-01 | UK | F | NA | 2 | 2 | 1 |  2 |  1 |  8 | 1.6 | NA    |\n\n",
            "text/latex": "A data.frame: 5 × 13\n\\begin{tabular}{r|lllllllllllll}\n  & manager & testDate & country & gender & age & item1 & item2 & item3 & item4 & item5 & total\\_score & mean\\_score & agecat\\\\\n  & <dbl> & <date> & <chr> & <chr> & <dbl> & <dbl> & <dbl> & <dbl> & <dbl> & <dbl> & <dbl> & <dbl> & <chr>\\\\\n\\hline\n\t3 & 3 & 2008-10-01 & UK & F & 25 & 3 & 5 & 5 &  5 &  2 & 20 & 4.0 & Young\\\\\n\t1 & 1 & 2008-10-24 & US & M & 32 & 5 & 4 & 5 &  5 &  5 & 24 & 4.8 & Young\\\\\n\t4 & 4 & 2008-10-12 & UK & M & 39 & 3 & 3 & 4 & NA & NA & NA &  NA & Young\\\\\n\t2 & 2 & 2008-10-28 & US & F & 45 & 3 & 5 & 2 &  5 &  5 & 20 & 4.0 & Young\\\\\n\t5 & 5 & 2009-05-01 & UK & F & NA & 2 & 2 & 1 &  2 &  1 &  8 & 1.6 & NA   \\\\\n\\end{tabular}\n",
            "text/plain": [
              "  manager testDate   country gender age item1 item2 item3 item4 item5\n",
              "3 3       2008-10-01 UK      F      25  3     5     5      5     2   \n",
              "1 1       2008-10-24 US      M      32  5     4     5      5     5   \n",
              "4 4       2008-10-12 UK      M      39  3     3     4     NA    NA   \n",
              "2 2       2008-10-28 US      F      45  3     5     2      5     5   \n",
              "5 5       2009-05-01 UK      F      NA  2     2     1      2     1   \n",
              "  total_score mean_score agecat\n",
              "3 20          4.0        Young \n",
              "1 24          4.8        Young \n",
              "4 NA           NA        Young \n",
              "2 20          4.0        Young \n",
              "5  8          1.6        NA    "
            ]
          },
          "metadata": {}
        }
      ]
    },
    {
      "cell_type": "code",
      "source": [
        "# по возрасту в порядке убывания\n",
        "newdata <- leadership[order(-leadership$age),]\n",
        "newdata"
      ],
      "metadata": {
        "id": "PHXR6t8NHZ3w",
        "outputId": "cea6dda2-c76a-4e80-fa6e-004a51c29888",
        "colab": {
          "base_uri": "https://localhost:8080/",
          "height": 255
        }
      },
      "execution_count": 23,
      "outputs": [
        {
          "output_type": "display_data",
          "data": {
            "text/html": [
              "<table class=\"dataframe\">\n",
              "<caption>A data.frame: 5 × 13</caption>\n",
              "<thead>\n",
              "\t<tr><th></th><th scope=col>manager</th><th scope=col>testDate</th><th scope=col>country</th><th scope=col>gender</th><th scope=col>age</th><th scope=col>item1</th><th scope=col>item2</th><th scope=col>item3</th><th scope=col>item4</th><th scope=col>item5</th><th scope=col>total_score</th><th scope=col>mean_score</th><th scope=col>agecat</th></tr>\n",
              "\t<tr><th></th><th scope=col>&lt;dbl&gt;</th><th scope=col>&lt;date&gt;</th><th scope=col>&lt;chr&gt;</th><th scope=col>&lt;chr&gt;</th><th scope=col>&lt;dbl&gt;</th><th scope=col>&lt;dbl&gt;</th><th scope=col>&lt;dbl&gt;</th><th scope=col>&lt;dbl&gt;</th><th scope=col>&lt;dbl&gt;</th><th scope=col>&lt;dbl&gt;</th><th scope=col>&lt;dbl&gt;</th><th scope=col>&lt;dbl&gt;</th><th scope=col>&lt;chr&gt;</th></tr>\n",
              "</thead>\n",
              "<tbody>\n",
              "\t<tr><th scope=row>2</th><td>2</td><td>2008-10-28</td><td>US</td><td>F</td><td>45</td><td>3</td><td>5</td><td>2</td><td> 5</td><td> 5</td><td>20</td><td>4.0</td><td>Young</td></tr>\n",
              "\t<tr><th scope=row>4</th><td>4</td><td>2008-10-12</td><td>UK</td><td>M</td><td>39</td><td>3</td><td>3</td><td>4</td><td>NA</td><td>NA</td><td>NA</td><td> NA</td><td>Young</td></tr>\n",
              "\t<tr><th scope=row>1</th><td>1</td><td>2008-10-24</td><td>US</td><td>M</td><td>32</td><td>5</td><td>4</td><td>5</td><td> 5</td><td> 5</td><td>24</td><td>4.8</td><td>Young</td></tr>\n",
              "\t<tr><th scope=row>3</th><td>3</td><td>2008-10-01</td><td>UK</td><td>F</td><td>25</td><td>3</td><td>5</td><td>5</td><td> 5</td><td> 2</td><td>20</td><td>4.0</td><td>Young</td></tr>\n",
              "\t<tr><th scope=row>5</th><td>5</td><td>2009-05-01</td><td>UK</td><td>F</td><td>NA</td><td>2</td><td>2</td><td>1</td><td> 2</td><td> 1</td><td> 8</td><td>1.6</td><td>NA   </td></tr>\n",
              "</tbody>\n",
              "</table>\n"
            ],
            "text/markdown": "\nA data.frame: 5 × 13\n\n| <!--/--> | manager &lt;dbl&gt; | testDate &lt;date&gt; | country &lt;chr&gt; | gender &lt;chr&gt; | age &lt;dbl&gt; | item1 &lt;dbl&gt; | item2 &lt;dbl&gt; | item3 &lt;dbl&gt; | item4 &lt;dbl&gt; | item5 &lt;dbl&gt; | total_score &lt;dbl&gt; | mean_score &lt;dbl&gt; | agecat &lt;chr&gt; |\n|---|---|---|---|---|---|---|---|---|---|---|---|---|---|\n| 2 | 2 | 2008-10-28 | US | F | 45 | 3 | 5 | 2 |  5 |  5 | 20 | 4.0 | Young |\n| 4 | 4 | 2008-10-12 | UK | M | 39 | 3 | 3 | 4 | NA | NA | NA |  NA | Young |\n| 1 | 1 | 2008-10-24 | US | M | 32 | 5 | 4 | 5 |  5 |  5 | 24 | 4.8 | Young |\n| 3 | 3 | 2008-10-01 | UK | F | 25 | 3 | 5 | 5 |  5 |  2 | 20 | 4.0 | Young |\n| 5 | 5 | 2009-05-01 | UK | F | NA | 2 | 2 | 1 |  2 |  1 |  8 | 1.6 | NA    |\n\n",
            "text/latex": "A data.frame: 5 × 13\n\\begin{tabular}{r|lllllllllllll}\n  & manager & testDate & country & gender & age & item1 & item2 & item3 & item4 & item5 & total\\_score & mean\\_score & agecat\\\\\n  & <dbl> & <date> & <chr> & <chr> & <dbl> & <dbl> & <dbl> & <dbl> & <dbl> & <dbl> & <dbl> & <dbl> & <chr>\\\\\n\\hline\n\t2 & 2 & 2008-10-28 & US & F & 45 & 3 & 5 & 2 &  5 &  5 & 20 & 4.0 & Young\\\\\n\t4 & 4 & 2008-10-12 & UK & M & 39 & 3 & 3 & 4 & NA & NA & NA &  NA & Young\\\\\n\t1 & 1 & 2008-10-24 & US & M & 32 & 5 & 4 & 5 &  5 &  5 & 24 & 4.8 & Young\\\\\n\t3 & 3 & 2008-10-01 & UK & F & 25 & 3 & 5 & 5 &  5 &  2 & 20 & 4.0 & Young\\\\\n\t5 & 5 & 2009-05-01 & UK & F & NA & 2 & 2 & 1 &  2 &  1 &  8 & 1.6 & NA   \\\\\n\\end{tabular}\n",
            "text/plain": [
              "  manager testDate   country gender age item1 item2 item3 item4 item5\n",
              "2 2       2008-10-28 US      F      45  3     5     2      5     5   \n",
              "4 4       2008-10-12 UK      M      39  3     3     4     NA    NA   \n",
              "1 1       2008-10-24 US      M      32  5     4     5      5     5   \n",
              "3 3       2008-10-01 UK      F      25  3     5     5      5     2   \n",
              "5 5       2009-05-01 UK      F      NA  2     2     1      2     1   \n",
              "  total_score mean_score agecat\n",
              "2 20          4.0        Young \n",
              "4 NA           NA        Young \n",
              "1 24          4.8        Young \n",
              "3 20          4.0        Young \n",
              "5  8          1.6        NA    "
            ]
          },
          "metadata": {}
        }
      ]
    },
    {
      "cell_type": "code",
      "source": [
        "# по полу а затем по возрасту в пределах каждого пола\n",
        "newdata <- leadership[order(leadership$gender, leadership$age),]\n",
        "newdata"
      ],
      "metadata": {
        "id": "ntP4U4NFHjhX",
        "outputId": "fcec3025-a702-495f-bc74-8624ff6045b2",
        "colab": {
          "base_uri": "https://localhost:8080/",
          "height": 255
        }
      },
      "execution_count": 24,
      "outputs": [
        {
          "output_type": "display_data",
          "data": {
            "text/html": [
              "<table class=\"dataframe\">\n",
              "<caption>A data.frame: 5 × 13</caption>\n",
              "<thead>\n",
              "\t<tr><th></th><th scope=col>manager</th><th scope=col>testDate</th><th scope=col>country</th><th scope=col>gender</th><th scope=col>age</th><th scope=col>item1</th><th scope=col>item2</th><th scope=col>item3</th><th scope=col>item4</th><th scope=col>item5</th><th scope=col>total_score</th><th scope=col>mean_score</th><th scope=col>agecat</th></tr>\n",
              "\t<tr><th></th><th scope=col>&lt;dbl&gt;</th><th scope=col>&lt;date&gt;</th><th scope=col>&lt;chr&gt;</th><th scope=col>&lt;chr&gt;</th><th scope=col>&lt;dbl&gt;</th><th scope=col>&lt;dbl&gt;</th><th scope=col>&lt;dbl&gt;</th><th scope=col>&lt;dbl&gt;</th><th scope=col>&lt;dbl&gt;</th><th scope=col>&lt;dbl&gt;</th><th scope=col>&lt;dbl&gt;</th><th scope=col>&lt;dbl&gt;</th><th scope=col>&lt;chr&gt;</th></tr>\n",
              "</thead>\n",
              "<tbody>\n",
              "\t<tr><th scope=row>3</th><td>3</td><td>2008-10-01</td><td>UK</td><td>F</td><td>25</td><td>3</td><td>5</td><td>5</td><td> 5</td><td> 2</td><td>20</td><td>4.0</td><td>Young</td></tr>\n",
              "\t<tr><th scope=row>2</th><td>2</td><td>2008-10-28</td><td>US</td><td>F</td><td>45</td><td>3</td><td>5</td><td>2</td><td> 5</td><td> 5</td><td>20</td><td>4.0</td><td>Young</td></tr>\n",
              "\t<tr><th scope=row>5</th><td>5</td><td>2009-05-01</td><td>UK</td><td>F</td><td>NA</td><td>2</td><td>2</td><td>1</td><td> 2</td><td> 1</td><td> 8</td><td>1.6</td><td>NA   </td></tr>\n",
              "\t<tr><th scope=row>1</th><td>1</td><td>2008-10-24</td><td>US</td><td>M</td><td>32</td><td>5</td><td>4</td><td>5</td><td> 5</td><td> 5</td><td>24</td><td>4.8</td><td>Young</td></tr>\n",
              "\t<tr><th scope=row>4</th><td>4</td><td>2008-10-12</td><td>UK</td><td>M</td><td>39</td><td>3</td><td>3</td><td>4</td><td>NA</td><td>NA</td><td>NA</td><td> NA</td><td>Young</td></tr>\n",
              "</tbody>\n",
              "</table>\n"
            ],
            "text/markdown": "\nA data.frame: 5 × 13\n\n| <!--/--> | manager &lt;dbl&gt; | testDate &lt;date&gt; | country &lt;chr&gt; | gender &lt;chr&gt; | age &lt;dbl&gt; | item1 &lt;dbl&gt; | item2 &lt;dbl&gt; | item3 &lt;dbl&gt; | item4 &lt;dbl&gt; | item5 &lt;dbl&gt; | total_score &lt;dbl&gt; | mean_score &lt;dbl&gt; | agecat &lt;chr&gt; |\n|---|---|---|---|---|---|---|---|---|---|---|---|---|---|\n| 3 | 3 | 2008-10-01 | UK | F | 25 | 3 | 5 | 5 |  5 |  2 | 20 | 4.0 | Young |\n| 2 | 2 | 2008-10-28 | US | F | 45 | 3 | 5 | 2 |  5 |  5 | 20 | 4.0 | Young |\n| 5 | 5 | 2009-05-01 | UK | F | NA | 2 | 2 | 1 |  2 |  1 |  8 | 1.6 | NA    |\n| 1 | 1 | 2008-10-24 | US | M | 32 | 5 | 4 | 5 |  5 |  5 | 24 | 4.8 | Young |\n| 4 | 4 | 2008-10-12 | UK | M | 39 | 3 | 3 | 4 | NA | NA | NA |  NA | Young |\n\n",
            "text/latex": "A data.frame: 5 × 13\n\\begin{tabular}{r|lllllllllllll}\n  & manager & testDate & country & gender & age & item1 & item2 & item3 & item4 & item5 & total\\_score & mean\\_score & agecat\\\\\n  & <dbl> & <date> & <chr> & <chr> & <dbl> & <dbl> & <dbl> & <dbl> & <dbl> & <dbl> & <dbl> & <dbl> & <chr>\\\\\n\\hline\n\t3 & 3 & 2008-10-01 & UK & F & 25 & 3 & 5 & 5 &  5 &  2 & 20 & 4.0 & Young\\\\\n\t2 & 2 & 2008-10-28 & US & F & 45 & 3 & 5 & 2 &  5 &  5 & 20 & 4.0 & Young\\\\\n\t5 & 5 & 2009-05-01 & UK & F & NA & 2 & 2 & 1 &  2 &  1 &  8 & 1.6 & NA   \\\\\n\t1 & 1 & 2008-10-24 & US & M & 32 & 5 & 4 & 5 &  5 &  5 & 24 & 4.8 & Young\\\\\n\t4 & 4 & 2008-10-12 & UK & M & 39 & 3 & 3 & 4 & NA & NA & NA &  NA & Young\\\\\n\\end{tabular}\n",
            "text/plain": [
              "  manager testDate   country gender age item1 item2 item3 item4 item5\n",
              "3 3       2008-10-01 UK      F      25  3     5     5      5     2   \n",
              "2 2       2008-10-28 US      F      45  3     5     2      5     5   \n",
              "5 5       2009-05-01 UK      F      NA  2     2     1      2     1   \n",
              "1 1       2008-10-24 US      M      32  5     4     5      5     5   \n",
              "4 4       2008-10-12 UK      M      39  3     3     4     NA    NA   \n",
              "  total_score mean_score agecat\n",
              "3 20          4.0        Young \n",
              "2 20          4.0        Young \n",
              "5  8          1.6        NA    \n",
              "1 24          4.8        Young \n",
              "4 NA           NA        Young "
            ]
          },
          "metadata": {}
        }
      ]
    },
    {
      "cell_type": "code",
      "source": [
        "# по полу а затем по возрасту (на убывание) в пределах каждого пола\n",
        "newdata <- leadership[order(leadership$gender, -leadership$age),]\n",
        "newdata"
      ],
      "metadata": {
        "id": "BQ1am6iGIPkw",
        "outputId": "824585f1-851c-406c-ce1c-1d1fdccf2516",
        "colab": {
          "base_uri": "https://localhost:8080/",
          "height": 255
        }
      },
      "execution_count": 25,
      "outputs": [
        {
          "output_type": "display_data",
          "data": {
            "text/html": [
              "<table class=\"dataframe\">\n",
              "<caption>A data.frame: 5 × 13</caption>\n",
              "<thead>\n",
              "\t<tr><th></th><th scope=col>manager</th><th scope=col>testDate</th><th scope=col>country</th><th scope=col>gender</th><th scope=col>age</th><th scope=col>item1</th><th scope=col>item2</th><th scope=col>item3</th><th scope=col>item4</th><th scope=col>item5</th><th scope=col>total_score</th><th scope=col>mean_score</th><th scope=col>agecat</th></tr>\n",
              "\t<tr><th></th><th scope=col>&lt;dbl&gt;</th><th scope=col>&lt;date&gt;</th><th scope=col>&lt;chr&gt;</th><th scope=col>&lt;chr&gt;</th><th scope=col>&lt;dbl&gt;</th><th scope=col>&lt;dbl&gt;</th><th scope=col>&lt;dbl&gt;</th><th scope=col>&lt;dbl&gt;</th><th scope=col>&lt;dbl&gt;</th><th scope=col>&lt;dbl&gt;</th><th scope=col>&lt;dbl&gt;</th><th scope=col>&lt;dbl&gt;</th><th scope=col>&lt;chr&gt;</th></tr>\n",
              "</thead>\n",
              "<tbody>\n",
              "\t<tr><th scope=row>2</th><td>2</td><td>2008-10-28</td><td>US</td><td>F</td><td>45</td><td>3</td><td>5</td><td>2</td><td> 5</td><td> 5</td><td>20</td><td>4.0</td><td>Young</td></tr>\n",
              "\t<tr><th scope=row>3</th><td>3</td><td>2008-10-01</td><td>UK</td><td>F</td><td>25</td><td>3</td><td>5</td><td>5</td><td> 5</td><td> 2</td><td>20</td><td>4.0</td><td>Young</td></tr>\n",
              "\t<tr><th scope=row>5</th><td>5</td><td>2009-05-01</td><td>UK</td><td>F</td><td>NA</td><td>2</td><td>2</td><td>1</td><td> 2</td><td> 1</td><td> 8</td><td>1.6</td><td>NA   </td></tr>\n",
              "\t<tr><th scope=row>4</th><td>4</td><td>2008-10-12</td><td>UK</td><td>M</td><td>39</td><td>3</td><td>3</td><td>4</td><td>NA</td><td>NA</td><td>NA</td><td> NA</td><td>Young</td></tr>\n",
              "\t<tr><th scope=row>1</th><td>1</td><td>2008-10-24</td><td>US</td><td>M</td><td>32</td><td>5</td><td>4</td><td>5</td><td> 5</td><td> 5</td><td>24</td><td>4.8</td><td>Young</td></tr>\n",
              "</tbody>\n",
              "</table>\n"
            ],
            "text/markdown": "\nA data.frame: 5 × 13\n\n| <!--/--> | manager &lt;dbl&gt; | testDate &lt;date&gt; | country &lt;chr&gt; | gender &lt;chr&gt; | age &lt;dbl&gt; | item1 &lt;dbl&gt; | item2 &lt;dbl&gt; | item3 &lt;dbl&gt; | item4 &lt;dbl&gt; | item5 &lt;dbl&gt; | total_score &lt;dbl&gt; | mean_score &lt;dbl&gt; | agecat &lt;chr&gt; |\n|---|---|---|---|---|---|---|---|---|---|---|---|---|---|\n| 2 | 2 | 2008-10-28 | US | F | 45 | 3 | 5 | 2 |  5 |  5 | 20 | 4.0 | Young |\n| 3 | 3 | 2008-10-01 | UK | F | 25 | 3 | 5 | 5 |  5 |  2 | 20 | 4.0 | Young |\n| 5 | 5 | 2009-05-01 | UK | F | NA | 2 | 2 | 1 |  2 |  1 |  8 | 1.6 | NA    |\n| 4 | 4 | 2008-10-12 | UK | M | 39 | 3 | 3 | 4 | NA | NA | NA |  NA | Young |\n| 1 | 1 | 2008-10-24 | US | M | 32 | 5 | 4 | 5 |  5 |  5 | 24 | 4.8 | Young |\n\n",
            "text/latex": "A data.frame: 5 × 13\n\\begin{tabular}{r|lllllllllllll}\n  & manager & testDate & country & gender & age & item1 & item2 & item3 & item4 & item5 & total\\_score & mean\\_score & agecat\\\\\n  & <dbl> & <date> & <chr> & <chr> & <dbl> & <dbl> & <dbl> & <dbl> & <dbl> & <dbl> & <dbl> & <dbl> & <chr>\\\\\n\\hline\n\t2 & 2 & 2008-10-28 & US & F & 45 & 3 & 5 & 2 &  5 &  5 & 20 & 4.0 & Young\\\\\n\t3 & 3 & 2008-10-01 & UK & F & 25 & 3 & 5 & 5 &  5 &  2 & 20 & 4.0 & Young\\\\\n\t5 & 5 & 2009-05-01 & UK & F & NA & 2 & 2 & 1 &  2 &  1 &  8 & 1.6 & NA   \\\\\n\t4 & 4 & 2008-10-12 & UK & M & 39 & 3 & 3 & 4 & NA & NA & NA &  NA & Young\\\\\n\t1 & 1 & 2008-10-24 & US & M & 32 & 5 & 4 & 5 &  5 &  5 & 24 & 4.8 & Young\\\\\n\\end{tabular}\n",
            "text/plain": [
              "  manager testDate   country gender age item1 item2 item3 item4 item5\n",
              "2 2       2008-10-28 US      F      45  3     5     2      5     5   \n",
              "3 3       2008-10-01 UK      F      25  3     5     5      5     2   \n",
              "5 5       2009-05-01 UK      F      NA  2     2     1      2     1   \n",
              "4 4       2008-10-12 UK      M      39  3     3     4     NA    NA   \n",
              "1 1       2008-10-24 US      M      32  5     4     5      5     5   \n",
              "  total_score mean_score agecat\n",
              "2 20          4.0        Young \n",
              "3 20          4.0        Young \n",
              "5  8          1.6        NA    \n",
              "4 NA           NA        Young \n",
              "1 24          4.8        Young "
            ]
          },
          "metadata": {}
        }
      ]
    },
    {
      "cell_type": "markdown",
      "source": [
        "## Объединение наборов данных\n",
        "\n",
        "Если данные существуют в виде разрозненных фрагментов, их нужно объединить, прежде чем двигаться дальше. В этом разделе я расскажу, как добавлять столбцы (переменные) и строки (наблюдения) в таблицы данных."
      ],
      "metadata": {
        "id": "P4mSvfpdIcWf"
      }
    },
    {
      "cell_type": "markdown",
      "source": [
        "### Добавление столбцов\n",
        "\n",
        "Для объединения двух таблиц можно использовать функцию merge(). В большинстве случаев две таблицы объединяются по значениям одной или нескольких ключевых переменных. К примеру, инструкция:\n",
        "```\n",
        "total <- merge(dataframeA, dataframeB, by=\"ID\")\n",
        "```\n",
        "объединит таблицы данных dataframeA и dataframeB по значениям переменной ID. Аналогично инструкция:\n",
        "\n",
        "```\n",
        "total <- merge(dataframeA, dataframeB, by=c(\"ID\",\"Country\"))\n",
        "```\n",
        "объединит две таблицы данных по значениям переменных ID\n",
        "и Country. Подобное соединение таблиц данных по горизонта-\n",
        "ли часто используется для добавления переменных в таблицы\n",
        "данных.\n",
        "\n",
        "### Объединение по горизонтали с помощью cbind()\n",
        "Если нужно просто объединить две матрицы или таблицы данных по горизонтали без указания общего ключа, по которому должно выполняться объединение, можно использовать функцию `cbind()`:\n",
        "```\n",
        "total <- cbind(A, B)\n",
        "```\n",
        "Эта функция объединяет объекты A и B по горизонтали. Чтобы функция работала правильно, каждый объект должен иметь одинаковое число строк, расположенных в одинаковом порядке.\n",
        "\n"
      ],
      "metadata": {
        "id": "w7MlZVjFJLPP"
      }
    },
    {
      "cell_type": "markdown",
      "source": [
        "### Добавление строк\n",
        "\n",
        "Для объединения двух таблиц данных по вертикали можно использовать функцию `rbind()`:\n",
        "```\n",
        "total <- rbind(dataframeA, dataframeB)\n",
        "```\n",
        "Объединяемые таблицы должны содержать одинаковые наборы переменных, но не обязательно в одной и той же последовательности. Если в таблице dataframeA есть переменные, отсутствующие в dataframeB, то перед объединением нужно сделать одно из двух:\n",
        "* удалить лишние переменные из таблицы dataframeA;\n",
        "* создать дополнительные переменные в таблице dataframeB и присвоить им значения NA (пропущенные).\n",
        "\n",
        "Объединение по вертикали обычно используется для добавления наблюдений из одной таблицы данных в другую."
      ],
      "metadata": {
        "id": "kDYKhu2oPFeb"
      }
    },
    {
      "cell_type": "markdown",
      "source": [
        "## Разделение наборов данных на составлющие\n",
        "\n",
        "В R имеются обширные возможности для извлечения отдельных элементов из объектов. Их можно использовать для выбора определенных переменных и/или наблюдений. В следующих разделах обсуждается несколько способов выбора переменных и наблюдений."
      ],
      "metadata": {
        "id": "gnyBLjIsQMEI"
      }
    },
    {
      "cell_type": "markdown",
      "source": [
        "### Выбор переменных\n",
        "Часто бывает так, что новый набор данных создается из небольшого числа переменных, выбранных из большего набора данных. В главе 2 вы узнали, как выбирать элементы таблицы данных при помощи инструкции вида -  `таблица_данных[номера_строк, номера_столбцов]`. Этот прием можно использовать также для выбора отдельных переменных. Например, инструкция:\n",
        "```\n",
        "newdata <- leadership[,c(6:10)]\n",
        "```\n",
        "выберет переменные q1, q2, q3, q4 и q5 из таблицы данных leadership\n",
        "и сохранит их в таблице данных newdata. Если номера строк не ука-\n",
        "заны (,), то по умолчанию выбираются все строки.\n",
        "\n",
        "Инструкции:\n",
        "```\n",
        "vars <- c(\"item1\", \"item2\", \"item3\", \"item4\", \"item5\")\n",
        "newdata <-leadership[, vars]\n",
        "```\n",
        "выберут те же самые переменные. В этом случае имена перемен-\n",
        "ных (в кавычках) обозначают извлекаемые переменные.\n",
        "\n",
        "Наконец, тот же результат можно получить с помощью инструкций:\n",
        "```\n",
        "myvars <- paste(\"item\", 1:5, sep=\"\")\n",
        "newdata <- leadership[myvars]\n",
        "```\n",
        "Этот пример создаст тот же вектор, что и предыдущий, но на этот раз с использованием функции `paste()`. Эту функцию мы подробно рассмотрим позже.\n",
        "\n"
      ],
      "metadata": {
        "id": "DQ7aFd_SpXWh"
      }
    },
    {
      "cell_type": "code",
      "source": [
        "newdata <- leadership[,c(6:10)]\n",
        "newdata"
      ],
      "metadata": {
        "id": "9ovVXNjNqKYh",
        "outputId": "91015edf-159d-41eb-b9a8-539285a8835d",
        "colab": {
          "base_uri": "https://localhost:8080/",
          "height": 255
        }
      },
      "execution_count": 26,
      "outputs": [
        {
          "output_type": "display_data",
          "data": {
            "text/html": [
              "<table class=\"dataframe\">\n",
              "<caption>A data.frame: 5 × 5</caption>\n",
              "<thead>\n",
              "\t<tr><th scope=col>item1</th><th scope=col>item2</th><th scope=col>item3</th><th scope=col>item4</th><th scope=col>item5</th></tr>\n",
              "\t<tr><th scope=col>&lt;dbl&gt;</th><th scope=col>&lt;dbl&gt;</th><th scope=col>&lt;dbl&gt;</th><th scope=col>&lt;dbl&gt;</th><th scope=col>&lt;dbl&gt;</th></tr>\n",
              "</thead>\n",
              "<tbody>\n",
              "\t<tr><td>5</td><td>4</td><td>5</td><td> 5</td><td> 5</td></tr>\n",
              "\t<tr><td>3</td><td>5</td><td>2</td><td> 5</td><td> 5</td></tr>\n",
              "\t<tr><td>3</td><td>5</td><td>5</td><td> 5</td><td> 2</td></tr>\n",
              "\t<tr><td>3</td><td>3</td><td>4</td><td>NA</td><td>NA</td></tr>\n",
              "\t<tr><td>2</td><td>2</td><td>1</td><td> 2</td><td> 1</td></tr>\n",
              "</tbody>\n",
              "</table>\n"
            ],
            "text/markdown": "\nA data.frame: 5 × 5\n\n| item1 &lt;dbl&gt; | item2 &lt;dbl&gt; | item3 &lt;dbl&gt; | item4 &lt;dbl&gt; | item5 &lt;dbl&gt; |\n|---|---|---|---|---|\n| 5 | 4 | 5 |  5 |  5 |\n| 3 | 5 | 2 |  5 |  5 |\n| 3 | 5 | 5 |  5 |  2 |\n| 3 | 3 | 4 | NA | NA |\n| 2 | 2 | 1 |  2 |  1 |\n\n",
            "text/latex": "A data.frame: 5 × 5\n\\begin{tabular}{lllll}\n item1 & item2 & item3 & item4 & item5\\\\\n <dbl> & <dbl> & <dbl> & <dbl> & <dbl>\\\\\n\\hline\n\t 5 & 4 & 5 &  5 &  5\\\\\n\t 3 & 5 & 2 &  5 &  5\\\\\n\t 3 & 5 & 5 &  5 &  2\\\\\n\t 3 & 3 & 4 & NA & NA\\\\\n\t 2 & 2 & 1 &  2 &  1\\\\\n\\end{tabular}\n",
            "text/plain": [
              "  item1 item2 item3 item4 item5\n",
              "1 5     4     5      5     5   \n",
              "2 3     5     2      5     5   \n",
              "3 3     5     5      5     2   \n",
              "4 3     3     4     NA    NA   \n",
              "5 2     2     1      2     1   "
            ]
          },
          "metadata": {}
        }
      ]
    },
    {
      "cell_type": "code",
      "source": [
        "vars <- c(\"item1\", \"item2\", \"item3\", \"item4\", \"item5\")\n",
        "newdata <- leadership[, vars]\n",
        "newdata"
      ],
      "metadata": {
        "id": "ZJUGsrszqrdJ",
        "outputId": "d5548831-e226-42f5-f456-368b2075816d",
        "colab": {
          "base_uri": "https://localhost:8080/",
          "height": 255
        }
      },
      "execution_count": 27,
      "outputs": [
        {
          "output_type": "display_data",
          "data": {
            "text/html": [
              "<table class=\"dataframe\">\n",
              "<caption>A data.frame: 5 × 5</caption>\n",
              "<thead>\n",
              "\t<tr><th scope=col>item1</th><th scope=col>item2</th><th scope=col>item3</th><th scope=col>item4</th><th scope=col>item5</th></tr>\n",
              "\t<tr><th scope=col>&lt;dbl&gt;</th><th scope=col>&lt;dbl&gt;</th><th scope=col>&lt;dbl&gt;</th><th scope=col>&lt;dbl&gt;</th><th scope=col>&lt;dbl&gt;</th></tr>\n",
              "</thead>\n",
              "<tbody>\n",
              "\t<tr><td>5</td><td>4</td><td>5</td><td> 5</td><td> 5</td></tr>\n",
              "\t<tr><td>3</td><td>5</td><td>2</td><td> 5</td><td> 5</td></tr>\n",
              "\t<tr><td>3</td><td>5</td><td>5</td><td> 5</td><td> 2</td></tr>\n",
              "\t<tr><td>3</td><td>3</td><td>4</td><td>NA</td><td>NA</td></tr>\n",
              "\t<tr><td>2</td><td>2</td><td>1</td><td> 2</td><td> 1</td></tr>\n",
              "</tbody>\n",
              "</table>\n"
            ],
            "text/markdown": "\nA data.frame: 5 × 5\n\n| item1 &lt;dbl&gt; | item2 &lt;dbl&gt; | item3 &lt;dbl&gt; | item4 &lt;dbl&gt; | item5 &lt;dbl&gt; |\n|---|---|---|---|---|\n| 5 | 4 | 5 |  5 |  5 |\n| 3 | 5 | 2 |  5 |  5 |\n| 3 | 5 | 5 |  5 |  2 |\n| 3 | 3 | 4 | NA | NA |\n| 2 | 2 | 1 |  2 |  1 |\n\n",
            "text/latex": "A data.frame: 5 × 5\n\\begin{tabular}{lllll}\n item1 & item2 & item3 & item4 & item5\\\\\n <dbl> & <dbl> & <dbl> & <dbl> & <dbl>\\\\\n\\hline\n\t 5 & 4 & 5 &  5 &  5\\\\\n\t 3 & 5 & 2 &  5 &  5\\\\\n\t 3 & 5 & 5 &  5 &  2\\\\\n\t 3 & 3 & 4 & NA & NA\\\\\n\t 2 & 2 & 1 &  2 &  1\\\\\n\\end{tabular}\n",
            "text/plain": [
              "  item1 item2 item3 item4 item5\n",
              "1 5     4     5      5     5   \n",
              "2 3     5     2      5     5   \n",
              "3 3     5     5      5     2   \n",
              "4 3     3     4     NA    NA   \n",
              "5 2     2     1      2     1   "
            ]
          },
          "metadata": {}
        }
      ]
    },
    {
      "cell_type": "code",
      "source": [
        "# можно и так ,запятая перед vars подрозумевается\n",
        "vars <- c(\"item1\", \"item2\", \"item3\", \"item4\", \"item5\")\n",
        "newdata <- leadership[vars]\n",
        "newdata"
      ],
      "metadata": {
        "id": "hrgxY0PNrbBn",
        "outputId": "442acc38-a5ad-4fe0-9808-ecfe3504b85b",
        "colab": {
          "base_uri": "https://localhost:8080/",
          "height": 255
        }
      },
      "execution_count": 28,
      "outputs": [
        {
          "output_type": "display_data",
          "data": {
            "text/html": [
              "<table class=\"dataframe\">\n",
              "<caption>A data.frame: 5 × 5</caption>\n",
              "<thead>\n",
              "\t<tr><th scope=col>item1</th><th scope=col>item2</th><th scope=col>item3</th><th scope=col>item4</th><th scope=col>item5</th></tr>\n",
              "\t<tr><th scope=col>&lt;dbl&gt;</th><th scope=col>&lt;dbl&gt;</th><th scope=col>&lt;dbl&gt;</th><th scope=col>&lt;dbl&gt;</th><th scope=col>&lt;dbl&gt;</th></tr>\n",
              "</thead>\n",
              "<tbody>\n",
              "\t<tr><td>5</td><td>4</td><td>5</td><td> 5</td><td> 5</td></tr>\n",
              "\t<tr><td>3</td><td>5</td><td>2</td><td> 5</td><td> 5</td></tr>\n",
              "\t<tr><td>3</td><td>5</td><td>5</td><td> 5</td><td> 2</td></tr>\n",
              "\t<tr><td>3</td><td>3</td><td>4</td><td>NA</td><td>NA</td></tr>\n",
              "\t<tr><td>2</td><td>2</td><td>1</td><td> 2</td><td> 1</td></tr>\n",
              "</tbody>\n",
              "</table>\n"
            ],
            "text/markdown": "\nA data.frame: 5 × 5\n\n| item1 &lt;dbl&gt; | item2 &lt;dbl&gt; | item3 &lt;dbl&gt; | item4 &lt;dbl&gt; | item5 &lt;dbl&gt; |\n|---|---|---|---|---|\n| 5 | 4 | 5 |  5 |  5 |\n| 3 | 5 | 2 |  5 |  5 |\n| 3 | 5 | 5 |  5 |  2 |\n| 3 | 3 | 4 | NA | NA |\n| 2 | 2 | 1 |  2 |  1 |\n\n",
            "text/latex": "A data.frame: 5 × 5\n\\begin{tabular}{lllll}\n item1 & item2 & item3 & item4 & item5\\\\\n <dbl> & <dbl> & <dbl> & <dbl> & <dbl>\\\\\n\\hline\n\t 5 & 4 & 5 &  5 &  5\\\\\n\t 3 & 5 & 2 &  5 &  5\\\\\n\t 3 & 5 & 5 &  5 &  2\\\\\n\t 3 & 3 & 4 & NA & NA\\\\\n\t 2 & 2 & 1 &  2 &  1\\\\\n\\end{tabular}\n",
            "text/plain": [
              "  item1 item2 item3 item4 item5\n",
              "1 5     4     5      5     5   \n",
              "2 3     5     2      5     5   \n",
              "3 3     5     5      5     2   \n",
              "4 3     3     4     NA    NA   \n",
              "5 2     2     1      2     1   "
            ]
          },
          "metadata": {}
        }
      ]
    },
    {
      "cell_type": "code",
      "source": [
        "myvars <- paste(\"item\", 1:5, sep=\"\")\n",
        "newdata <- leadership[myvars]\n",
        "newdata"
      ],
      "metadata": {
        "id": "7sltf9yisedK",
        "outputId": "1d3f8caf-bb7d-493f-f715-6d949d3181ef",
        "colab": {
          "base_uri": "https://localhost:8080/",
          "height": 255
        }
      },
      "execution_count": 29,
      "outputs": [
        {
          "output_type": "display_data",
          "data": {
            "text/html": [
              "<table class=\"dataframe\">\n",
              "<caption>A data.frame: 5 × 5</caption>\n",
              "<thead>\n",
              "\t<tr><th scope=col>item1</th><th scope=col>item2</th><th scope=col>item3</th><th scope=col>item4</th><th scope=col>item5</th></tr>\n",
              "\t<tr><th scope=col>&lt;dbl&gt;</th><th scope=col>&lt;dbl&gt;</th><th scope=col>&lt;dbl&gt;</th><th scope=col>&lt;dbl&gt;</th><th scope=col>&lt;dbl&gt;</th></tr>\n",
              "</thead>\n",
              "<tbody>\n",
              "\t<tr><td>5</td><td>4</td><td>5</td><td> 5</td><td> 5</td></tr>\n",
              "\t<tr><td>3</td><td>5</td><td>2</td><td> 5</td><td> 5</td></tr>\n",
              "\t<tr><td>3</td><td>5</td><td>5</td><td> 5</td><td> 2</td></tr>\n",
              "\t<tr><td>3</td><td>3</td><td>4</td><td>NA</td><td>NA</td></tr>\n",
              "\t<tr><td>2</td><td>2</td><td>1</td><td> 2</td><td> 1</td></tr>\n",
              "</tbody>\n",
              "</table>\n"
            ],
            "text/markdown": "\nA data.frame: 5 × 5\n\n| item1 &lt;dbl&gt; | item2 &lt;dbl&gt; | item3 &lt;dbl&gt; | item4 &lt;dbl&gt; | item5 &lt;dbl&gt; |\n|---|---|---|---|---|\n| 5 | 4 | 5 |  5 |  5 |\n| 3 | 5 | 2 |  5 |  5 |\n| 3 | 5 | 5 |  5 |  2 |\n| 3 | 3 | 4 | NA | NA |\n| 2 | 2 | 1 |  2 |  1 |\n\n",
            "text/latex": "A data.frame: 5 × 5\n\\begin{tabular}{lllll}\n item1 & item2 & item3 & item4 & item5\\\\\n <dbl> & <dbl> & <dbl> & <dbl> & <dbl>\\\\\n\\hline\n\t 5 & 4 & 5 &  5 &  5\\\\\n\t 3 & 5 & 2 &  5 &  5\\\\\n\t 3 & 5 & 5 &  5 &  2\\\\\n\t 3 & 3 & 4 & NA & NA\\\\\n\t 2 & 2 & 1 &  2 &  1\\\\\n\\end{tabular}\n",
            "text/plain": [
              "  item1 item2 item3 item4 item5\n",
              "1 5     4     5      5     5   \n",
              "2 3     5     2      5     5   \n",
              "3 3     5     5      5     2   \n",
              "4 3     3     4     NA    NA   \n",
              "5 2     2     1      2     1   "
            ]
          },
          "metadata": {}
        }
      ]
    },
    {
      "cell_type": "markdown",
      "source": [
        "### Исключение переменных из выборки\n",
        "\n",
        "Существует много причин, когда желательно исключить переменные из выборки. Например, если переменная содержит несколько пропущенных значений, то может понадобиться удалить ее до начала анализа. Рассмотрим несколько способов исключения переменных.\n",
        "\n",
        "Переменные item4 и item5 можно исключить с помощью следующих инструкций:\n",
        "```\n",
        "myvars <- names(leadership) %in% c(\"item4\", \"item5\")\n",
        "newdata <- leadership[!myvars]\n",
        "```\n",
        "Зная, что item4 и item5 – это девятая и десятая переменные, можно ис-\n",
        "ключить их так:\n",
        "\n",
        "\n",
        "```\n",
        "newdata <- leadership[c(-9,-10)]\n",
        "или\n",
        "newdata <- leadership[-c(9,10)]\n",
        "```\n",
        "\n",
        "\n",
        "\n",
        "Минус (-) перед номером столбца означает, что этот столбец\n",
        "следует исключить.\n",
        "\n",
        "Наконец, эти же два столбца можно исключить инструкцией\n",
        "\n",
        "\n",
        "```\n",
        "leadership$item4 <- leadership$item5 <- NULL\n",
        "```\n",
        "\n",
        "Здесь переменным item4 и item5 присваивается неопределенное значение (NULL). Обратите внимание, что NULL – это не то же самое, что NA (отсутствующие значения).\n",
        "\n",
        "Исключение переменных – действие, противоположное выборке. Выбор между этими действиями зависит от того, какое из них проще записать. Если нужно исключить много переменных, то часто проще выбрать все остальные, и наоборот.\n"
      ],
      "metadata": {
        "id": "1H73YFcXtHrE"
      }
    },
    {
      "cell_type": "code",
      "source": [
        "myvars <- names(leadership) %in% c(\"item4\", \"item5\")\n",
        "newdata <- leadership[!myvars]\n",
        "newdata"
      ],
      "metadata": {
        "id": "oJyjM0-kuBuV",
        "outputId": "e51abc7b-efa5-4acb-ee27-ce0a3363d1cb",
        "colab": {
          "base_uri": "https://localhost:8080/",
          "height": 255
        }
      },
      "execution_count": 30,
      "outputs": [
        {
          "output_type": "display_data",
          "data": {
            "text/html": [
              "<table class=\"dataframe\">\n",
              "<caption>A data.frame: 5 × 11</caption>\n",
              "<thead>\n",
              "\t<tr><th scope=col>manager</th><th scope=col>testDate</th><th scope=col>country</th><th scope=col>gender</th><th scope=col>age</th><th scope=col>item1</th><th scope=col>item2</th><th scope=col>item3</th><th scope=col>total_score</th><th scope=col>mean_score</th><th scope=col>agecat</th></tr>\n",
              "\t<tr><th scope=col>&lt;dbl&gt;</th><th scope=col>&lt;date&gt;</th><th scope=col>&lt;chr&gt;</th><th scope=col>&lt;chr&gt;</th><th scope=col>&lt;dbl&gt;</th><th scope=col>&lt;dbl&gt;</th><th scope=col>&lt;dbl&gt;</th><th scope=col>&lt;dbl&gt;</th><th scope=col>&lt;dbl&gt;</th><th scope=col>&lt;dbl&gt;</th><th scope=col>&lt;chr&gt;</th></tr>\n",
              "</thead>\n",
              "<tbody>\n",
              "\t<tr><td>1</td><td>2008-10-24</td><td>US</td><td>M</td><td>32</td><td>5</td><td>4</td><td>5</td><td>24</td><td>4.8</td><td>Young</td></tr>\n",
              "\t<tr><td>2</td><td>2008-10-28</td><td>US</td><td>F</td><td>45</td><td>3</td><td>5</td><td>2</td><td>20</td><td>4.0</td><td>Young</td></tr>\n",
              "\t<tr><td>3</td><td>2008-10-01</td><td>UK</td><td>F</td><td>25</td><td>3</td><td>5</td><td>5</td><td>20</td><td>4.0</td><td>Young</td></tr>\n",
              "\t<tr><td>4</td><td>2008-10-12</td><td>UK</td><td>M</td><td>39</td><td>3</td><td>3</td><td>4</td><td>NA</td><td> NA</td><td>Young</td></tr>\n",
              "\t<tr><td>5</td><td>2009-05-01</td><td>UK</td><td>F</td><td>NA</td><td>2</td><td>2</td><td>1</td><td> 8</td><td>1.6</td><td>NA   </td></tr>\n",
              "</tbody>\n",
              "</table>\n"
            ],
            "text/markdown": "\nA data.frame: 5 × 11\n\n| manager &lt;dbl&gt; | testDate &lt;date&gt; | country &lt;chr&gt; | gender &lt;chr&gt; | age &lt;dbl&gt; | item1 &lt;dbl&gt; | item2 &lt;dbl&gt; | item3 &lt;dbl&gt; | total_score &lt;dbl&gt; | mean_score &lt;dbl&gt; | agecat &lt;chr&gt; |\n|---|---|---|---|---|---|---|---|---|---|---|\n| 1 | 2008-10-24 | US | M | 32 | 5 | 4 | 5 | 24 | 4.8 | Young |\n| 2 | 2008-10-28 | US | F | 45 | 3 | 5 | 2 | 20 | 4.0 | Young |\n| 3 | 2008-10-01 | UK | F | 25 | 3 | 5 | 5 | 20 | 4.0 | Young |\n| 4 | 2008-10-12 | UK | M | 39 | 3 | 3 | 4 | NA |  NA | Young |\n| 5 | 2009-05-01 | UK | F | NA | 2 | 2 | 1 |  8 | 1.6 | NA    |\n\n",
            "text/latex": "A data.frame: 5 × 11\n\\begin{tabular}{lllllllllll}\n manager & testDate & country & gender & age & item1 & item2 & item3 & total\\_score & mean\\_score & agecat\\\\\n <dbl> & <date> & <chr> & <chr> & <dbl> & <dbl> & <dbl> & <dbl> & <dbl> & <dbl> & <chr>\\\\\n\\hline\n\t 1 & 2008-10-24 & US & M & 32 & 5 & 4 & 5 & 24 & 4.8 & Young\\\\\n\t 2 & 2008-10-28 & US & F & 45 & 3 & 5 & 2 & 20 & 4.0 & Young\\\\\n\t 3 & 2008-10-01 & UK & F & 25 & 3 & 5 & 5 & 20 & 4.0 & Young\\\\\n\t 4 & 2008-10-12 & UK & M & 39 & 3 & 3 & 4 & NA &  NA & Young\\\\\n\t 5 & 2009-05-01 & UK & F & NA & 2 & 2 & 1 &  8 & 1.6 & NA   \\\\\n\\end{tabular}\n",
            "text/plain": [
              "  manager testDate   country gender age item1 item2 item3 total_score\n",
              "1 1       2008-10-24 US      M      32  5     4     5     24         \n",
              "2 2       2008-10-28 US      F      45  3     5     2     20         \n",
              "3 3       2008-10-01 UK      F      25  3     5     5     20         \n",
              "4 4       2008-10-12 UK      M      39  3     3     4     NA         \n",
              "5 5       2009-05-01 UK      F      NA  2     2     1      8         \n",
              "  mean_score agecat\n",
              "1 4.8        Young \n",
              "2 4.0        Young \n",
              "3 4.0        Young \n",
              "4  NA        Young \n",
              "5 1.6        NA    "
            ]
          },
          "metadata": {}
        }
      ]
    },
    {
      "cell_type": "code",
      "source": [
        "newdata <- leadership[c(-9,-10)]\n",
        "newdata"
      ],
      "metadata": {
        "id": "daWmNslJvt_t",
        "outputId": "5be5c8ef-3b88-4088-d7ac-44e6210f5583",
        "colab": {
          "base_uri": "https://localhost:8080/",
          "height": 255
        }
      },
      "execution_count": 31,
      "outputs": [
        {
          "output_type": "display_data",
          "data": {
            "text/html": [
              "<table class=\"dataframe\">\n",
              "<caption>A data.frame: 5 × 11</caption>\n",
              "<thead>\n",
              "\t<tr><th scope=col>manager</th><th scope=col>testDate</th><th scope=col>country</th><th scope=col>gender</th><th scope=col>age</th><th scope=col>item1</th><th scope=col>item2</th><th scope=col>item3</th><th scope=col>total_score</th><th scope=col>mean_score</th><th scope=col>agecat</th></tr>\n",
              "\t<tr><th scope=col>&lt;dbl&gt;</th><th scope=col>&lt;date&gt;</th><th scope=col>&lt;chr&gt;</th><th scope=col>&lt;chr&gt;</th><th scope=col>&lt;dbl&gt;</th><th scope=col>&lt;dbl&gt;</th><th scope=col>&lt;dbl&gt;</th><th scope=col>&lt;dbl&gt;</th><th scope=col>&lt;dbl&gt;</th><th scope=col>&lt;dbl&gt;</th><th scope=col>&lt;chr&gt;</th></tr>\n",
              "</thead>\n",
              "<tbody>\n",
              "\t<tr><td>1</td><td>2008-10-24</td><td>US</td><td>M</td><td>32</td><td>5</td><td>4</td><td>5</td><td>24</td><td>4.8</td><td>Young</td></tr>\n",
              "\t<tr><td>2</td><td>2008-10-28</td><td>US</td><td>F</td><td>45</td><td>3</td><td>5</td><td>2</td><td>20</td><td>4.0</td><td>Young</td></tr>\n",
              "\t<tr><td>3</td><td>2008-10-01</td><td>UK</td><td>F</td><td>25</td><td>3</td><td>5</td><td>5</td><td>20</td><td>4.0</td><td>Young</td></tr>\n",
              "\t<tr><td>4</td><td>2008-10-12</td><td>UK</td><td>M</td><td>39</td><td>3</td><td>3</td><td>4</td><td>NA</td><td> NA</td><td>Young</td></tr>\n",
              "\t<tr><td>5</td><td>2009-05-01</td><td>UK</td><td>F</td><td>NA</td><td>2</td><td>2</td><td>1</td><td> 8</td><td>1.6</td><td>NA   </td></tr>\n",
              "</tbody>\n",
              "</table>\n"
            ],
            "text/markdown": "\nA data.frame: 5 × 11\n\n| manager &lt;dbl&gt; | testDate &lt;date&gt; | country &lt;chr&gt; | gender &lt;chr&gt; | age &lt;dbl&gt; | item1 &lt;dbl&gt; | item2 &lt;dbl&gt; | item3 &lt;dbl&gt; | total_score &lt;dbl&gt; | mean_score &lt;dbl&gt; | agecat &lt;chr&gt; |\n|---|---|---|---|---|---|---|---|---|---|---|\n| 1 | 2008-10-24 | US | M | 32 | 5 | 4 | 5 | 24 | 4.8 | Young |\n| 2 | 2008-10-28 | US | F | 45 | 3 | 5 | 2 | 20 | 4.0 | Young |\n| 3 | 2008-10-01 | UK | F | 25 | 3 | 5 | 5 | 20 | 4.0 | Young |\n| 4 | 2008-10-12 | UK | M | 39 | 3 | 3 | 4 | NA |  NA | Young |\n| 5 | 2009-05-01 | UK | F | NA | 2 | 2 | 1 |  8 | 1.6 | NA    |\n\n",
            "text/latex": "A data.frame: 5 × 11\n\\begin{tabular}{lllllllllll}\n manager & testDate & country & gender & age & item1 & item2 & item3 & total\\_score & mean\\_score & agecat\\\\\n <dbl> & <date> & <chr> & <chr> & <dbl> & <dbl> & <dbl> & <dbl> & <dbl> & <dbl> & <chr>\\\\\n\\hline\n\t 1 & 2008-10-24 & US & M & 32 & 5 & 4 & 5 & 24 & 4.8 & Young\\\\\n\t 2 & 2008-10-28 & US & F & 45 & 3 & 5 & 2 & 20 & 4.0 & Young\\\\\n\t 3 & 2008-10-01 & UK & F & 25 & 3 & 5 & 5 & 20 & 4.0 & Young\\\\\n\t 4 & 2008-10-12 & UK & M & 39 & 3 & 3 & 4 & NA &  NA & Young\\\\\n\t 5 & 2009-05-01 & UK & F & NA & 2 & 2 & 1 &  8 & 1.6 & NA   \\\\\n\\end{tabular}\n",
            "text/plain": [
              "  manager testDate   country gender age item1 item2 item3 total_score\n",
              "1 1       2008-10-24 US      M      32  5     4     5     24         \n",
              "2 2       2008-10-28 US      F      45  3     5     2     20         \n",
              "3 3       2008-10-01 UK      F      25  3     5     5     20         \n",
              "4 4       2008-10-12 UK      M      39  3     3     4     NA         \n",
              "5 5       2009-05-01 UK      F      NA  2     2     1      8         \n",
              "  mean_score agecat\n",
              "1 4.8        Young \n",
              "2 4.0        Young \n",
              "3 4.0        Young \n",
              "4  NA        Young \n",
              "5 1.6        NA    "
            ]
          },
          "metadata": {}
        }
      ]
    },
    {
      "cell_type": "code",
      "source": [
        "newdata <- leadership[-c(9,10)]\n",
        "newdata"
      ],
      "metadata": {
        "id": "QRofevj0v1Jz",
        "outputId": "0962ede4-f7b1-4e81-da1f-e71f1dfa206a",
        "colab": {
          "base_uri": "https://localhost:8080/",
          "height": 255
        }
      },
      "execution_count": 32,
      "outputs": [
        {
          "output_type": "display_data",
          "data": {
            "text/html": [
              "<table class=\"dataframe\">\n",
              "<caption>A data.frame: 5 × 11</caption>\n",
              "<thead>\n",
              "\t<tr><th scope=col>manager</th><th scope=col>testDate</th><th scope=col>country</th><th scope=col>gender</th><th scope=col>age</th><th scope=col>item1</th><th scope=col>item2</th><th scope=col>item3</th><th scope=col>total_score</th><th scope=col>mean_score</th><th scope=col>agecat</th></tr>\n",
              "\t<tr><th scope=col>&lt;dbl&gt;</th><th scope=col>&lt;date&gt;</th><th scope=col>&lt;chr&gt;</th><th scope=col>&lt;chr&gt;</th><th scope=col>&lt;dbl&gt;</th><th scope=col>&lt;dbl&gt;</th><th scope=col>&lt;dbl&gt;</th><th scope=col>&lt;dbl&gt;</th><th scope=col>&lt;dbl&gt;</th><th scope=col>&lt;dbl&gt;</th><th scope=col>&lt;chr&gt;</th></tr>\n",
              "</thead>\n",
              "<tbody>\n",
              "\t<tr><td>1</td><td>2008-10-24</td><td>US</td><td>M</td><td>32</td><td>5</td><td>4</td><td>5</td><td>24</td><td>4.8</td><td>Young</td></tr>\n",
              "\t<tr><td>2</td><td>2008-10-28</td><td>US</td><td>F</td><td>45</td><td>3</td><td>5</td><td>2</td><td>20</td><td>4.0</td><td>Young</td></tr>\n",
              "\t<tr><td>3</td><td>2008-10-01</td><td>UK</td><td>F</td><td>25</td><td>3</td><td>5</td><td>5</td><td>20</td><td>4.0</td><td>Young</td></tr>\n",
              "\t<tr><td>4</td><td>2008-10-12</td><td>UK</td><td>M</td><td>39</td><td>3</td><td>3</td><td>4</td><td>NA</td><td> NA</td><td>Young</td></tr>\n",
              "\t<tr><td>5</td><td>2009-05-01</td><td>UK</td><td>F</td><td>NA</td><td>2</td><td>2</td><td>1</td><td> 8</td><td>1.6</td><td>NA   </td></tr>\n",
              "</tbody>\n",
              "</table>\n"
            ],
            "text/markdown": "\nA data.frame: 5 × 11\n\n| manager &lt;dbl&gt; | testDate &lt;date&gt; | country &lt;chr&gt; | gender &lt;chr&gt; | age &lt;dbl&gt; | item1 &lt;dbl&gt; | item2 &lt;dbl&gt; | item3 &lt;dbl&gt; | total_score &lt;dbl&gt; | mean_score &lt;dbl&gt; | agecat &lt;chr&gt; |\n|---|---|---|---|---|---|---|---|---|---|---|\n| 1 | 2008-10-24 | US | M | 32 | 5 | 4 | 5 | 24 | 4.8 | Young |\n| 2 | 2008-10-28 | US | F | 45 | 3 | 5 | 2 | 20 | 4.0 | Young |\n| 3 | 2008-10-01 | UK | F | 25 | 3 | 5 | 5 | 20 | 4.0 | Young |\n| 4 | 2008-10-12 | UK | M | 39 | 3 | 3 | 4 | NA |  NA | Young |\n| 5 | 2009-05-01 | UK | F | NA | 2 | 2 | 1 |  8 | 1.6 | NA    |\n\n",
            "text/latex": "A data.frame: 5 × 11\n\\begin{tabular}{lllllllllll}\n manager & testDate & country & gender & age & item1 & item2 & item3 & total\\_score & mean\\_score & agecat\\\\\n <dbl> & <date> & <chr> & <chr> & <dbl> & <dbl> & <dbl> & <dbl> & <dbl> & <dbl> & <chr>\\\\\n\\hline\n\t 1 & 2008-10-24 & US & M & 32 & 5 & 4 & 5 & 24 & 4.8 & Young\\\\\n\t 2 & 2008-10-28 & US & F & 45 & 3 & 5 & 2 & 20 & 4.0 & Young\\\\\n\t 3 & 2008-10-01 & UK & F & 25 & 3 & 5 & 5 & 20 & 4.0 & Young\\\\\n\t 4 & 2008-10-12 & UK & M & 39 & 3 & 3 & 4 & NA &  NA & Young\\\\\n\t 5 & 2009-05-01 & UK & F & NA & 2 & 2 & 1 &  8 & 1.6 & NA   \\\\\n\\end{tabular}\n",
            "text/plain": [
              "  manager testDate   country gender age item1 item2 item3 total_score\n",
              "1 1       2008-10-24 US      M      32  5     4     5     24         \n",
              "2 2       2008-10-28 US      F      45  3     5     2     20         \n",
              "3 3       2008-10-01 UK      F      25  3     5     5     20         \n",
              "4 4       2008-10-12 UK      M      39  3     3     4     NA         \n",
              "5 5       2009-05-01 UK      F      NA  2     2     1      8         \n",
              "  mean_score agecat\n",
              "1 4.8        Young \n",
              "2 4.0        Young \n",
              "3 4.0        Young \n",
              "4  NA        Young \n",
              "5 1.6        NA    "
            ]
          },
          "metadata": {}
        }
      ]
    },
    {
      "cell_type": "code",
      "source": [
        "leadership$item4 <- leadership$item5 <- NULL\n",
        "leadership"
      ],
      "metadata": {
        "id": "402bGd5dwla8",
        "outputId": "e607c598-dcc8-4867-db41-14792d5eb95b",
        "colab": {
          "base_uri": "https://localhost:8080/",
          "height": 255
        }
      },
      "execution_count": 33,
      "outputs": [
        {
          "output_type": "display_data",
          "data": {
            "text/html": [
              "<table class=\"dataframe\">\n",
              "<caption>A data.frame: 5 × 11</caption>\n",
              "<thead>\n",
              "\t<tr><th scope=col>manager</th><th scope=col>testDate</th><th scope=col>country</th><th scope=col>gender</th><th scope=col>age</th><th scope=col>item1</th><th scope=col>item2</th><th scope=col>item3</th><th scope=col>total_score</th><th scope=col>mean_score</th><th scope=col>agecat</th></tr>\n",
              "\t<tr><th scope=col>&lt;dbl&gt;</th><th scope=col>&lt;date&gt;</th><th scope=col>&lt;chr&gt;</th><th scope=col>&lt;chr&gt;</th><th scope=col>&lt;dbl&gt;</th><th scope=col>&lt;dbl&gt;</th><th scope=col>&lt;dbl&gt;</th><th scope=col>&lt;dbl&gt;</th><th scope=col>&lt;dbl&gt;</th><th scope=col>&lt;dbl&gt;</th><th scope=col>&lt;chr&gt;</th></tr>\n",
              "</thead>\n",
              "<tbody>\n",
              "\t<tr><td>1</td><td>2008-10-24</td><td>US</td><td>M</td><td>32</td><td>5</td><td>4</td><td>5</td><td>24</td><td>4.8</td><td>Young</td></tr>\n",
              "\t<tr><td>2</td><td>2008-10-28</td><td>US</td><td>F</td><td>45</td><td>3</td><td>5</td><td>2</td><td>20</td><td>4.0</td><td>Young</td></tr>\n",
              "\t<tr><td>3</td><td>2008-10-01</td><td>UK</td><td>F</td><td>25</td><td>3</td><td>5</td><td>5</td><td>20</td><td>4.0</td><td>Young</td></tr>\n",
              "\t<tr><td>4</td><td>2008-10-12</td><td>UK</td><td>M</td><td>39</td><td>3</td><td>3</td><td>4</td><td>NA</td><td> NA</td><td>Young</td></tr>\n",
              "\t<tr><td>5</td><td>2009-05-01</td><td>UK</td><td>F</td><td>NA</td><td>2</td><td>2</td><td>1</td><td> 8</td><td>1.6</td><td>NA   </td></tr>\n",
              "</tbody>\n",
              "</table>\n"
            ],
            "text/markdown": "\nA data.frame: 5 × 11\n\n| manager &lt;dbl&gt; | testDate &lt;date&gt; | country &lt;chr&gt; | gender &lt;chr&gt; | age &lt;dbl&gt; | item1 &lt;dbl&gt; | item2 &lt;dbl&gt; | item3 &lt;dbl&gt; | total_score &lt;dbl&gt; | mean_score &lt;dbl&gt; | agecat &lt;chr&gt; |\n|---|---|---|---|---|---|---|---|---|---|---|\n| 1 | 2008-10-24 | US | M | 32 | 5 | 4 | 5 | 24 | 4.8 | Young |\n| 2 | 2008-10-28 | US | F | 45 | 3 | 5 | 2 | 20 | 4.0 | Young |\n| 3 | 2008-10-01 | UK | F | 25 | 3 | 5 | 5 | 20 | 4.0 | Young |\n| 4 | 2008-10-12 | UK | M | 39 | 3 | 3 | 4 | NA |  NA | Young |\n| 5 | 2009-05-01 | UK | F | NA | 2 | 2 | 1 |  8 | 1.6 | NA    |\n\n",
            "text/latex": "A data.frame: 5 × 11\n\\begin{tabular}{lllllllllll}\n manager & testDate & country & gender & age & item1 & item2 & item3 & total\\_score & mean\\_score & agecat\\\\\n <dbl> & <date> & <chr> & <chr> & <dbl> & <dbl> & <dbl> & <dbl> & <dbl> & <dbl> & <chr>\\\\\n\\hline\n\t 1 & 2008-10-24 & US & M & 32 & 5 & 4 & 5 & 24 & 4.8 & Young\\\\\n\t 2 & 2008-10-28 & US & F & 45 & 3 & 5 & 2 & 20 & 4.0 & Young\\\\\n\t 3 & 2008-10-01 & UK & F & 25 & 3 & 5 & 5 & 20 & 4.0 & Young\\\\\n\t 4 & 2008-10-12 & UK & M & 39 & 3 & 3 & 4 & NA &  NA & Young\\\\\n\t 5 & 2009-05-01 & UK & F & NA & 2 & 2 & 1 &  8 & 1.6 & NA   \\\\\n\\end{tabular}\n",
            "text/plain": [
              "  manager testDate   country gender age item1 item2 item3 total_score\n",
              "1 1       2008-10-24 US      M      32  5     4     5     24         \n",
              "2 2       2008-10-28 US      F      45  3     5     2     20         \n",
              "3 3       2008-10-01 UK      F      25  3     5     5     20         \n",
              "4 4       2008-10-12 UK      M      39  3     3     4     NA         \n",
              "5 5       2009-05-01 UK      F      NA  2     2     1      8         \n",
              "  mean_score agecat\n",
              "1 4.8        Young \n",
              "2 4.0        Young \n",
              "3 4.0        Young \n",
              "4  NA        Young \n",
              "5 1.6        NA    "
            ]
          },
          "metadata": {}
        }
      ]
    },
    {
      "cell_type": "markdown",
      "source": [
        "### Выборка наблюдений\n",
        "Выбор или удаление наблюдений (строк) – это в большинстве случаев залог успешной подготовки данных и их анализа. В листинге 3.6 показано несколько примеров."
      ],
      "metadata": {
        "id": "49Ar61CXxSfU"
      }
    },
    {
      "cell_type": "code",
      "source": [
        "# Выбрать строки с 1 по 3 (первые три наблюдения)\n",
        "newdata <- leadership[1:3,]\n",
        "newdata"
      ],
      "metadata": {
        "id": "cUS1IvlezMpD",
        "outputId": "ffb8a72a-82f8-4aa4-cac4-cff7e6ac4f24",
        "colab": {
          "base_uri": "https://localhost:8080/",
          "height": 192
        }
      },
      "execution_count": 34,
      "outputs": [
        {
          "output_type": "display_data",
          "data": {
            "text/html": [
              "<table class=\"dataframe\">\n",
              "<caption>A data.frame: 3 × 11</caption>\n",
              "<thead>\n",
              "\t<tr><th></th><th scope=col>manager</th><th scope=col>testDate</th><th scope=col>country</th><th scope=col>gender</th><th scope=col>age</th><th scope=col>item1</th><th scope=col>item2</th><th scope=col>item3</th><th scope=col>total_score</th><th scope=col>mean_score</th><th scope=col>agecat</th></tr>\n",
              "\t<tr><th></th><th scope=col>&lt;dbl&gt;</th><th scope=col>&lt;date&gt;</th><th scope=col>&lt;chr&gt;</th><th scope=col>&lt;chr&gt;</th><th scope=col>&lt;dbl&gt;</th><th scope=col>&lt;dbl&gt;</th><th scope=col>&lt;dbl&gt;</th><th scope=col>&lt;dbl&gt;</th><th scope=col>&lt;dbl&gt;</th><th scope=col>&lt;dbl&gt;</th><th scope=col>&lt;chr&gt;</th></tr>\n",
              "</thead>\n",
              "<tbody>\n",
              "\t<tr><th scope=row>1</th><td>1</td><td>2008-10-24</td><td>US</td><td>M</td><td>32</td><td>5</td><td>4</td><td>5</td><td>24</td><td>4.8</td><td>Young</td></tr>\n",
              "\t<tr><th scope=row>2</th><td>2</td><td>2008-10-28</td><td>US</td><td>F</td><td>45</td><td>3</td><td>5</td><td>2</td><td>20</td><td>4.0</td><td>Young</td></tr>\n",
              "\t<tr><th scope=row>3</th><td>3</td><td>2008-10-01</td><td>UK</td><td>F</td><td>25</td><td>3</td><td>5</td><td>5</td><td>20</td><td>4.0</td><td>Young</td></tr>\n",
              "</tbody>\n",
              "</table>\n"
            ],
            "text/markdown": "\nA data.frame: 3 × 11\n\n| <!--/--> | manager &lt;dbl&gt; | testDate &lt;date&gt; | country &lt;chr&gt; | gender &lt;chr&gt; | age &lt;dbl&gt; | item1 &lt;dbl&gt; | item2 &lt;dbl&gt; | item3 &lt;dbl&gt; | total_score &lt;dbl&gt; | mean_score &lt;dbl&gt; | agecat &lt;chr&gt; |\n|---|---|---|---|---|---|---|---|---|---|---|---|\n| 1 | 1 | 2008-10-24 | US | M | 32 | 5 | 4 | 5 | 24 | 4.8 | Young |\n| 2 | 2 | 2008-10-28 | US | F | 45 | 3 | 5 | 2 | 20 | 4.0 | Young |\n| 3 | 3 | 2008-10-01 | UK | F | 25 | 3 | 5 | 5 | 20 | 4.0 | Young |\n\n",
            "text/latex": "A data.frame: 3 × 11\n\\begin{tabular}{r|lllllllllll}\n  & manager & testDate & country & gender & age & item1 & item2 & item3 & total\\_score & mean\\_score & agecat\\\\\n  & <dbl> & <date> & <chr> & <chr> & <dbl> & <dbl> & <dbl> & <dbl> & <dbl> & <dbl> & <chr>\\\\\n\\hline\n\t1 & 1 & 2008-10-24 & US & M & 32 & 5 & 4 & 5 & 24 & 4.8 & Young\\\\\n\t2 & 2 & 2008-10-28 & US & F & 45 & 3 & 5 & 2 & 20 & 4.0 & Young\\\\\n\t3 & 3 & 2008-10-01 & UK & F & 25 & 3 & 5 & 5 & 20 & 4.0 & Young\\\\\n\\end{tabular}\n",
            "text/plain": [
              "  manager testDate   country gender age item1 item2 item3 total_score\n",
              "1 1       2008-10-24 US      M      32  5     4     5     24         \n",
              "2 2       2008-10-28 US      F      45  3     5     2     20         \n",
              "3 3       2008-10-01 UK      F      25  3     5     5     20         \n",
              "  mean_score agecat\n",
              "1 4.8        Young \n",
              "2 4.0        Young \n",
              "3 4.0        Young "
            ]
          },
          "metadata": {}
        }
      ]
    },
    {
      "cell_type": "code",
      "source": [
        "# Выбрать всех мужчин старше 30 лет\n",
        "newdata <- leadership[leadership$gender==\"M\" & leadership$age > 30,]\n",
        "newdata"
      ],
      "metadata": {
        "id": "RvJ2R0PizO54",
        "outputId": "6a777bef-2920-4fa5-e8db-8ee009dd8ba4",
        "colab": {
          "base_uri": "https://localhost:8080/",
          "height": 161
        }
      },
      "execution_count": 35,
      "outputs": [
        {
          "output_type": "display_data",
          "data": {
            "text/html": [
              "<table class=\"dataframe\">\n",
              "<caption>A data.frame: 2 × 11</caption>\n",
              "<thead>\n",
              "\t<tr><th></th><th scope=col>manager</th><th scope=col>testDate</th><th scope=col>country</th><th scope=col>gender</th><th scope=col>age</th><th scope=col>item1</th><th scope=col>item2</th><th scope=col>item3</th><th scope=col>total_score</th><th scope=col>mean_score</th><th scope=col>agecat</th></tr>\n",
              "\t<tr><th></th><th scope=col>&lt;dbl&gt;</th><th scope=col>&lt;date&gt;</th><th scope=col>&lt;chr&gt;</th><th scope=col>&lt;chr&gt;</th><th scope=col>&lt;dbl&gt;</th><th scope=col>&lt;dbl&gt;</th><th scope=col>&lt;dbl&gt;</th><th scope=col>&lt;dbl&gt;</th><th scope=col>&lt;dbl&gt;</th><th scope=col>&lt;dbl&gt;</th><th scope=col>&lt;chr&gt;</th></tr>\n",
              "</thead>\n",
              "<tbody>\n",
              "\t<tr><th scope=row>1</th><td>1</td><td>2008-10-24</td><td>US</td><td>M</td><td>32</td><td>5</td><td>4</td><td>5</td><td>24</td><td>4.8</td><td>Young</td></tr>\n",
              "\t<tr><th scope=row>4</th><td>4</td><td>2008-10-12</td><td>UK</td><td>M</td><td>39</td><td>3</td><td>3</td><td>4</td><td>NA</td><td> NA</td><td>Young</td></tr>\n",
              "</tbody>\n",
              "</table>\n"
            ],
            "text/markdown": "\nA data.frame: 2 × 11\n\n| <!--/--> | manager &lt;dbl&gt; | testDate &lt;date&gt; | country &lt;chr&gt; | gender &lt;chr&gt; | age &lt;dbl&gt; | item1 &lt;dbl&gt; | item2 &lt;dbl&gt; | item3 &lt;dbl&gt; | total_score &lt;dbl&gt; | mean_score &lt;dbl&gt; | agecat &lt;chr&gt; |\n|---|---|---|---|---|---|---|---|---|---|---|---|\n| 1 | 1 | 2008-10-24 | US | M | 32 | 5 | 4 | 5 | 24 | 4.8 | Young |\n| 4 | 4 | 2008-10-12 | UK | M | 39 | 3 | 3 | 4 | NA |  NA | Young |\n\n",
            "text/latex": "A data.frame: 2 × 11\n\\begin{tabular}{r|lllllllllll}\n  & manager & testDate & country & gender & age & item1 & item2 & item3 & total\\_score & mean\\_score & agecat\\\\\n  & <dbl> & <date> & <chr> & <chr> & <dbl> & <dbl> & <dbl> & <dbl> & <dbl> & <dbl> & <chr>\\\\\n\\hline\n\t1 & 1 & 2008-10-24 & US & M & 32 & 5 & 4 & 5 & 24 & 4.8 & Young\\\\\n\t4 & 4 & 2008-10-12 & UK & M & 39 & 3 & 3 & 4 & NA &  NA & Young\\\\\n\\end{tabular}\n",
            "text/plain": [
              "  manager testDate   country gender age item1 item2 item3 total_score\n",
              "1 1       2008-10-24 US      M      32  5     4     5     24         \n",
              "4 4       2008-10-12 UK      M      39  3     3     4     NA         \n",
              "  mean_score agecat\n",
              "1 4.8        Young \n",
              "4  NA        Young "
            ]
          },
          "metadata": {}
        }
      ]
    },
    {
      "cell_type": "code",
      "source": [
        "leadership$testDate <- as.Date(leadership$testDate, \"%m/%d/%y\") # Преобразовать даты из текстового формата в формат дат (мм/дд/гг).\n",
        "startdate <- as.Date(\"2009-01-01\") # Задать начальную дату.\n",
        "enddate <- as.Date(\"2009-12-31\") # Задать конечную дату.\n",
        "# Выбрать наблюдения, удовлетворяющие заданному критерию, как мы уже делали это в предыдущем примере.\n",
        "newdata <- leadership[which(leadership$testDate >= startdate & leadership$testDate <= enddate),]\n",
        "newdata"
      ],
      "metadata": {
        "id": "PIJpX9Dt6PwC",
        "outputId": "f5e976c2-c85e-440d-af71-1fdded851a5a",
        "colab": {
          "base_uri": "https://localhost:8080/",
          "height": 129
        }
      },
      "execution_count": 36,
      "outputs": [
        {
          "output_type": "display_data",
          "data": {
            "text/html": [
              "<table class=\"dataframe\">\n",
              "<caption>A data.frame: 1 × 11</caption>\n",
              "<thead>\n",
              "\t<tr><th></th><th scope=col>manager</th><th scope=col>testDate</th><th scope=col>country</th><th scope=col>gender</th><th scope=col>age</th><th scope=col>item1</th><th scope=col>item2</th><th scope=col>item3</th><th scope=col>total_score</th><th scope=col>mean_score</th><th scope=col>agecat</th></tr>\n",
              "\t<tr><th></th><th scope=col>&lt;dbl&gt;</th><th scope=col>&lt;date&gt;</th><th scope=col>&lt;chr&gt;</th><th scope=col>&lt;chr&gt;</th><th scope=col>&lt;dbl&gt;</th><th scope=col>&lt;dbl&gt;</th><th scope=col>&lt;dbl&gt;</th><th scope=col>&lt;dbl&gt;</th><th scope=col>&lt;dbl&gt;</th><th scope=col>&lt;dbl&gt;</th><th scope=col>&lt;chr&gt;</th></tr>\n",
              "</thead>\n",
              "<tbody>\n",
              "\t<tr><th scope=row>5</th><td>5</td><td>2009-05-01</td><td>UK</td><td>F</td><td>NA</td><td>2</td><td>2</td><td>1</td><td>8</td><td>1.6</td><td>NA</td></tr>\n",
              "</tbody>\n",
              "</table>\n"
            ],
            "text/markdown": "\nA data.frame: 1 × 11\n\n| <!--/--> | manager &lt;dbl&gt; | testDate &lt;date&gt; | country &lt;chr&gt; | gender &lt;chr&gt; | age &lt;dbl&gt; | item1 &lt;dbl&gt; | item2 &lt;dbl&gt; | item3 &lt;dbl&gt; | total_score &lt;dbl&gt; | mean_score &lt;dbl&gt; | agecat &lt;chr&gt; |\n|---|---|---|---|---|---|---|---|---|---|---|---|\n| 5 | 5 | 2009-05-01 | UK | F | NA | 2 | 2 | 1 | 8 | 1.6 | NA |\n\n",
            "text/latex": "A data.frame: 1 × 11\n\\begin{tabular}{r|lllllllllll}\n  & manager & testDate & country & gender & age & item1 & item2 & item3 & total\\_score & mean\\_score & agecat\\\\\n  & <dbl> & <date> & <chr> & <chr> & <dbl> & <dbl> & <dbl> & <dbl> & <dbl> & <dbl> & <chr>\\\\\n\\hline\n\t5 & 5 & 2009-05-01 & UK & F & NA & 2 & 2 & 1 & 8 & 1.6 & NA\\\\\n\\end{tabular}\n",
            "text/plain": [
              "  manager testDate   country gender age item1 item2 item3 total_score\n",
              "5 5       2009-05-01 UK      F      NA  2     2     1     8          \n",
              "  mean_score agecat\n",
              "5 1.6        NA    "
            ]
          },
          "metadata": {}
        }
      ]
    },
    {
      "cell_type": "markdown",
      "source": [
        "### Функция subset()\n",
        "\n",
        "Функция `subset()` – самый простой, пожалуй, способ выбора пе-\n",
        "ременных и наблюдений. Вот два примера:\n"
      ],
      "metadata": {
        "id": "94rh0WOl7Lwr"
      }
    },
    {
      "cell_type": "code",
      "source": [
        "leadership"
      ],
      "metadata": {
        "id": "l0MvIFTFIM1I",
        "outputId": "6cb15278-bf4b-4d30-9cc6-d707ea64b9de",
        "colab": {
          "base_uri": "https://localhost:8080/",
          "height": 255
        }
      },
      "execution_count": 38,
      "outputs": [
        {
          "output_type": "display_data",
          "data": {
            "text/html": [
              "<table class=\"dataframe\">\n",
              "<caption>A data.frame: 5 × 11</caption>\n",
              "<thead>\n",
              "\t<tr><th scope=col>manager</th><th scope=col>testDate</th><th scope=col>country</th><th scope=col>gender</th><th scope=col>age</th><th scope=col>item1</th><th scope=col>item2</th><th scope=col>item3</th><th scope=col>total_score</th><th scope=col>mean_score</th><th scope=col>agecat</th></tr>\n",
              "\t<tr><th scope=col>&lt;dbl&gt;</th><th scope=col>&lt;date&gt;</th><th scope=col>&lt;chr&gt;</th><th scope=col>&lt;chr&gt;</th><th scope=col>&lt;dbl&gt;</th><th scope=col>&lt;dbl&gt;</th><th scope=col>&lt;dbl&gt;</th><th scope=col>&lt;dbl&gt;</th><th scope=col>&lt;dbl&gt;</th><th scope=col>&lt;dbl&gt;</th><th scope=col>&lt;chr&gt;</th></tr>\n",
              "</thead>\n",
              "<tbody>\n",
              "\t<tr><td>1</td><td>2008-10-24</td><td>US</td><td>M</td><td>32</td><td>5</td><td>4</td><td>5</td><td>24</td><td>4.8</td><td>Young</td></tr>\n",
              "\t<tr><td>2</td><td>2008-10-28</td><td>US</td><td>F</td><td>45</td><td>3</td><td>5</td><td>2</td><td>20</td><td>4.0</td><td>Young</td></tr>\n",
              "\t<tr><td>3</td><td>2008-10-01</td><td>UK</td><td>F</td><td>25</td><td>3</td><td>5</td><td>5</td><td>20</td><td>4.0</td><td>Young</td></tr>\n",
              "\t<tr><td>4</td><td>2008-10-12</td><td>UK</td><td>M</td><td>39</td><td>3</td><td>3</td><td>4</td><td>NA</td><td> NA</td><td>Young</td></tr>\n",
              "\t<tr><td>5</td><td>2009-05-01</td><td>UK</td><td>F</td><td>NA</td><td>2</td><td>2</td><td>1</td><td> 8</td><td>1.6</td><td>NA   </td></tr>\n",
              "</tbody>\n",
              "</table>\n"
            ],
            "text/markdown": "\nA data.frame: 5 × 11\n\n| manager &lt;dbl&gt; | testDate &lt;date&gt; | country &lt;chr&gt; | gender &lt;chr&gt; | age &lt;dbl&gt; | item1 &lt;dbl&gt; | item2 &lt;dbl&gt; | item3 &lt;dbl&gt; | total_score &lt;dbl&gt; | mean_score &lt;dbl&gt; | agecat &lt;chr&gt; |\n|---|---|---|---|---|---|---|---|---|---|---|\n| 1 | 2008-10-24 | US | M | 32 | 5 | 4 | 5 | 24 | 4.8 | Young |\n| 2 | 2008-10-28 | US | F | 45 | 3 | 5 | 2 | 20 | 4.0 | Young |\n| 3 | 2008-10-01 | UK | F | 25 | 3 | 5 | 5 | 20 | 4.0 | Young |\n| 4 | 2008-10-12 | UK | M | 39 | 3 | 3 | 4 | NA |  NA | Young |\n| 5 | 2009-05-01 | UK | F | NA | 2 | 2 | 1 |  8 | 1.6 | NA    |\n\n",
            "text/latex": "A data.frame: 5 × 11\n\\begin{tabular}{lllllllllll}\n manager & testDate & country & gender & age & item1 & item2 & item3 & total\\_score & mean\\_score & agecat\\\\\n <dbl> & <date> & <chr> & <chr> & <dbl> & <dbl> & <dbl> & <dbl> & <dbl> & <dbl> & <chr>\\\\\n\\hline\n\t 1 & 2008-10-24 & US & M & 32 & 5 & 4 & 5 & 24 & 4.8 & Young\\\\\n\t 2 & 2008-10-28 & US & F & 45 & 3 & 5 & 2 & 20 & 4.0 & Young\\\\\n\t 3 & 2008-10-01 & UK & F & 25 & 3 & 5 & 5 & 20 & 4.0 & Young\\\\\n\t 4 & 2008-10-12 & UK & M & 39 & 3 & 3 & 4 & NA &  NA & Young\\\\\n\t 5 & 2009-05-01 & UK & F & NA & 2 & 2 & 1 &  8 & 1.6 & NA   \\\\\n\\end{tabular}\n",
            "text/plain": [
              "  manager testDate   country gender age item1 item2 item3 total_score\n",
              "1 1       2008-10-24 US      M      32  5     4     5     24         \n",
              "2 2       2008-10-28 US      F      45  3     5     2     20         \n",
              "3 3       2008-10-01 UK      F      25  3     5     5     20         \n",
              "4 4       2008-10-12 UK      M      39  3     3     4     NA         \n",
              "5 5       2009-05-01 UK      F      NA  2     2     1      8         \n",
              "  mean_score agecat\n",
              "1 4.8        Young \n",
              "2 4.0        Young \n",
              "3 4.0        Young \n",
              "4  NA        Young \n",
              "5 1.6        NA    "
            ]
          },
          "metadata": {}
        }
      ]
    },
    {
      "cell_type": "code",
      "source": [
        "# Выберет все строки, где значение переменной age больше или равно 35 или меньше 24,\n",
        "# оставляя в них только переменные с item1 по item3.\n",
        "newdata <- subset(leadership, age >= 35 | age < 23,\n",
        "select=c(item1, item2, item3))\n",
        "newdata"
      ],
      "metadata": {
        "id": "NMD9CGQsHQdL",
        "outputId": "de083720-0e39-4c80-e1b8-d4b734b4a638",
        "colab": {
          "base_uri": "https://localhost:8080/",
          "height": 161
        }
      },
      "execution_count": 40,
      "outputs": [
        {
          "output_type": "display_data",
          "data": {
            "text/html": [
              "<table class=\"dataframe\">\n",
              "<caption>A data.frame: 2 × 3</caption>\n",
              "<thead>\n",
              "\t<tr><th></th><th scope=col>item1</th><th scope=col>item2</th><th scope=col>item3</th></tr>\n",
              "\t<tr><th></th><th scope=col>&lt;dbl&gt;</th><th scope=col>&lt;dbl&gt;</th><th scope=col>&lt;dbl&gt;</th></tr>\n",
              "</thead>\n",
              "<tbody>\n",
              "\t<tr><th scope=row>2</th><td>3</td><td>5</td><td>2</td></tr>\n",
              "\t<tr><th scope=row>4</th><td>3</td><td>3</td><td>4</td></tr>\n",
              "</tbody>\n",
              "</table>\n"
            ],
            "text/markdown": "\nA data.frame: 2 × 3\n\n| <!--/--> | item1 &lt;dbl&gt; | item2 &lt;dbl&gt; | item3 &lt;dbl&gt; |\n|---|---|---|---|\n| 2 | 3 | 5 | 2 |\n| 4 | 3 | 3 | 4 |\n\n",
            "text/latex": "A data.frame: 2 × 3\n\\begin{tabular}{r|lll}\n  & item1 & item2 & item3\\\\\n  & <dbl> & <dbl> & <dbl>\\\\\n\\hline\n\t2 & 3 & 5 & 2\\\\\n\t4 & 3 & 3 & 4\\\\\n\\end{tabular}\n",
            "text/plain": [
              "  item1 item2 item3\n",
              "2 3     5     2    \n",
              "4 3     3     4    "
            ]
          },
          "metadata": {}
        }
      ]
    },
    {
      "cell_type": "code",
      "source": [
        "# Выберет всех мужчин старше 25 лет, оставляя в выбранных строках\n",
        "# переменные с gender по item3 (gender, item3 и все столбцы между ними).\n",
        "newdata <- subset(leadership, gender==\"M\" & age > 25, select=gender:item3)\n",
        "newdata"
      ],
      "metadata": {
        "id": "972NyV6xIvrj",
        "outputId": "29c1d219-6746-49dc-bfec-ae43aae40dc7",
        "colab": {
          "base_uri": "https://localhost:8080/",
          "height": 161
        }
      },
      "execution_count": 41,
      "outputs": [
        {
          "output_type": "display_data",
          "data": {
            "text/html": [
              "<table class=\"dataframe\">\n",
              "<caption>A data.frame: 2 × 5</caption>\n",
              "<thead>\n",
              "\t<tr><th></th><th scope=col>gender</th><th scope=col>age</th><th scope=col>item1</th><th scope=col>item2</th><th scope=col>item3</th></tr>\n",
              "\t<tr><th></th><th scope=col>&lt;chr&gt;</th><th scope=col>&lt;dbl&gt;</th><th scope=col>&lt;dbl&gt;</th><th scope=col>&lt;dbl&gt;</th><th scope=col>&lt;dbl&gt;</th></tr>\n",
              "</thead>\n",
              "<tbody>\n",
              "\t<tr><th scope=row>1</th><td>M</td><td>32</td><td>5</td><td>4</td><td>5</td></tr>\n",
              "\t<tr><th scope=row>4</th><td>M</td><td>39</td><td>3</td><td>3</td><td>4</td></tr>\n",
              "</tbody>\n",
              "</table>\n"
            ],
            "text/markdown": "\nA data.frame: 2 × 5\n\n| <!--/--> | gender &lt;chr&gt; | age &lt;dbl&gt; | item1 &lt;dbl&gt; | item2 &lt;dbl&gt; | item3 &lt;dbl&gt; |\n|---|---|---|---|---|---|\n| 1 | M | 32 | 5 | 4 | 5 |\n| 4 | M | 39 | 3 | 3 | 4 |\n\n",
            "text/latex": "A data.frame: 2 × 5\n\\begin{tabular}{r|lllll}\n  & gender & age & item1 & item2 & item3\\\\\n  & <chr> & <dbl> & <dbl> & <dbl> & <dbl>\\\\\n\\hline\n\t1 & M & 32 & 5 & 4 & 5\\\\\n\t4 & M & 39 & 3 & 3 & 4\\\\\n\\end{tabular}\n",
            "text/plain": [
              "  gender age item1 item2 item3\n",
              "1 M      32  5     4     5    \n",
              "4 M      39  3     3     4    "
            ]
          },
          "metadata": {}
        }
      ]
    },
    {
      "cell_type": "markdown",
      "source": [
        "### Выборка случайных наблюдений\n",
        "```\n",
        "mysample <- leadership[sample(1:nrow(leadership), 3, replace=FALSE),]\n",
        "```\n",
        "Первый аргумент функции `sample()` – это вектор с номерами наблюдений, из числа которых будет получена выборка. Здесь вектор состоит из чисел от единицы до числа наблюдений в таблице данных. Второй аргумент – это число элементов в выборке, а третий аргумент указывает, что выборка должна быть создана без замещения. Функция `sample()` возвращает случайно выбранные элементы из вектора в первом аргументе, которые затем используются для выбора строк из таблицы данных.\n",
        "\n",
        "Существует более специализированная функция `sample.int()`.\n",
        "\n",
        "R обладает обширными возможностями создания выборок, включая извлечение и проверку пробных выборок (пакет `sampling`) и анализ сложных выборочных данных (пакет `survey`)."
      ],
      "metadata": {
        "id": "8hZwlTiVKCfd"
      }
    },
    {
      "cell_type": "code",
      "source": [
        "mysample <- leadership[sample(1:nrow(leadership), 3, replace=FALSE),]\n",
        "mysample"
      ],
      "metadata": {
        "id": "bondq7QgVgzC",
        "outputId": "3d9e4471-a629-4b10-d862-98b2f27b09b6",
        "colab": {
          "base_uri": "https://localhost:8080/",
          "height": 192
        }
      },
      "execution_count": 46,
      "outputs": [
        {
          "output_type": "display_data",
          "data": {
            "text/html": [
              "<table class=\"dataframe\">\n",
              "<caption>A data.frame: 3 × 11</caption>\n",
              "<thead>\n",
              "\t<tr><th></th><th scope=col>manager</th><th scope=col>testDate</th><th scope=col>country</th><th scope=col>gender</th><th scope=col>age</th><th scope=col>item1</th><th scope=col>item2</th><th scope=col>item3</th><th scope=col>total_score</th><th scope=col>mean_score</th><th scope=col>agecat</th></tr>\n",
              "\t<tr><th></th><th scope=col>&lt;dbl&gt;</th><th scope=col>&lt;date&gt;</th><th scope=col>&lt;chr&gt;</th><th scope=col>&lt;chr&gt;</th><th scope=col>&lt;dbl&gt;</th><th scope=col>&lt;dbl&gt;</th><th scope=col>&lt;dbl&gt;</th><th scope=col>&lt;dbl&gt;</th><th scope=col>&lt;dbl&gt;</th><th scope=col>&lt;dbl&gt;</th><th scope=col>&lt;chr&gt;</th></tr>\n",
              "</thead>\n",
              "<tbody>\n",
              "\t<tr><th scope=row>4</th><td>4</td><td>2008-10-12</td><td>UK</td><td>M</td><td>39</td><td>3</td><td>3</td><td>4</td><td>NA</td><td> NA</td><td>Young</td></tr>\n",
              "\t<tr><th scope=row>3</th><td>3</td><td>2008-10-01</td><td>UK</td><td>F</td><td>25</td><td>3</td><td>5</td><td>5</td><td>20</td><td>4.0</td><td>Young</td></tr>\n",
              "\t<tr><th scope=row>1</th><td>1</td><td>2008-10-24</td><td>US</td><td>M</td><td>32</td><td>5</td><td>4</td><td>5</td><td>24</td><td>4.8</td><td>Young</td></tr>\n",
              "</tbody>\n",
              "</table>\n"
            ],
            "text/markdown": "\nA data.frame: 3 × 11\n\n| <!--/--> | manager &lt;dbl&gt; | testDate &lt;date&gt; | country &lt;chr&gt; | gender &lt;chr&gt; | age &lt;dbl&gt; | item1 &lt;dbl&gt; | item2 &lt;dbl&gt; | item3 &lt;dbl&gt; | total_score &lt;dbl&gt; | mean_score &lt;dbl&gt; | agecat &lt;chr&gt; |\n|---|---|---|---|---|---|---|---|---|---|---|---|\n| 4 | 4 | 2008-10-12 | UK | M | 39 | 3 | 3 | 4 | NA |  NA | Young |\n| 3 | 3 | 2008-10-01 | UK | F | 25 | 3 | 5 | 5 | 20 | 4.0 | Young |\n| 1 | 1 | 2008-10-24 | US | M | 32 | 5 | 4 | 5 | 24 | 4.8 | Young |\n\n",
            "text/latex": "A data.frame: 3 × 11\n\\begin{tabular}{r|lllllllllll}\n  & manager & testDate & country & gender & age & item1 & item2 & item3 & total\\_score & mean\\_score & agecat\\\\\n  & <dbl> & <date> & <chr> & <chr> & <dbl> & <dbl> & <dbl> & <dbl> & <dbl> & <dbl> & <chr>\\\\\n\\hline\n\t4 & 4 & 2008-10-12 & UK & M & 39 & 3 & 3 & 4 & NA &  NA & Young\\\\\n\t3 & 3 & 2008-10-01 & UK & F & 25 & 3 & 5 & 5 & 20 & 4.0 & Young\\\\\n\t1 & 1 & 2008-10-24 & US & M & 32 & 5 & 4 & 5 & 24 & 4.8 & Young\\\\\n\\end{tabular}\n",
            "text/plain": [
              "  manager testDate   country gender age item1 item2 item3 total_score\n",
              "4 4       2008-10-12 UK      M      39  3     3     4     NA         \n",
              "3 3       2008-10-01 UK      F      25  3     5     5     20         \n",
              "1 1       2008-10-24 US      M      32  5     4     5     24         \n",
              "  mean_score agecat\n",
              "4  NA        Young \n",
              "3 4.0        Young \n",
              "1 4.8        Young "
            ]
          },
          "metadata": {}
        }
      ]
    },
    {
      "cell_type": "markdown",
      "source": [
        "## Использование `dplyr` для работы с таблицами данных\n",
        "\n",
        "До этого момента для работы с таблицами данных мы использовали базовые функции R. Однако существует также пакет `dplyr`, включающий функции, которые позволяют решать те же задачи более простым способом. Он быстро превратился в один из самых популярных пакетов R для управления данными."
      ],
      "metadata": {
        "id": "pJJlz6MkYIt0"
      }
    },
    {
      "cell_type": "markdown",
      "source": [
        "### Основные функции из пакета `dplyr`\n",
        "\n",
        "* `select()` - Выбирает переменные/столбцы\n",
        "* `filter()` - Выбирает наблюдения/строки\n",
        "* `mutate()` - Преобразует переменные\n",
        "* `rename()` - Переименовывает переменные/столбцы\n",
        "* `recode()` - Перекодирует значения переменных\n",
        "* `arrange()` - Упорядочивает строки по значениям переменных"
      ],
      "metadata": {
        "id": "82q_Bj3YaJRF"
      }
    },
    {
      "cell_type": "code",
      "source": [
        "leadership <- data.frame(\n",
        "manager = c(1, 2, 3, 4, 5),\n",
        "date = c(\"10/24/08\", \"10/28/08\", \"10/1/08\", \"10/12/08\", \"5/1/09\"),\n",
        "country = c(\"US\", \"US\", \"UK\", \"UK\", \"UK\"),\n",
        "gender = c(\"M\", \"F\", \"F\", \"M\", \"F\"),\n",
        "age = c(32, 45, 25, 39, 99),\n",
        "q1 = c(5, 3, 3, 3, 2),\n",
        "q2 = c(4, 5, 5, 3, 2),\n",
        "q3 = c(5, 2, 5, 4, 1),\n",
        "q4 = c(5, 5, 5, NA, 2),\n",
        "q5 = c(5, 5, 2, NA, 1)\n",
        ")\n",
        "leadership"
      ],
      "metadata": {
        "id": "v24vZaSDcY32",
        "outputId": "8f9d25e5-294a-43dc-f04d-5beb2240ef44",
        "colab": {
          "base_uri": "https://localhost:8080/",
          "height": 255
        }
      },
      "execution_count": 47,
      "outputs": [
        {
          "output_type": "display_data",
          "data": {
            "text/html": [
              "<table class=\"dataframe\">\n",
              "<caption>A data.frame: 5 × 10</caption>\n",
              "<thead>\n",
              "\t<tr><th scope=col>manager</th><th scope=col>date</th><th scope=col>country</th><th scope=col>gender</th><th scope=col>age</th><th scope=col>q1</th><th scope=col>q2</th><th scope=col>q3</th><th scope=col>q4</th><th scope=col>q5</th></tr>\n",
              "\t<tr><th scope=col>&lt;dbl&gt;</th><th scope=col>&lt;chr&gt;</th><th scope=col>&lt;chr&gt;</th><th scope=col>&lt;chr&gt;</th><th scope=col>&lt;dbl&gt;</th><th scope=col>&lt;dbl&gt;</th><th scope=col>&lt;dbl&gt;</th><th scope=col>&lt;dbl&gt;</th><th scope=col>&lt;dbl&gt;</th><th scope=col>&lt;dbl&gt;</th></tr>\n",
              "</thead>\n",
              "<tbody>\n",
              "\t<tr><td>1</td><td>10/24/08</td><td>US</td><td>M</td><td>32</td><td>5</td><td>4</td><td>5</td><td> 5</td><td> 5</td></tr>\n",
              "\t<tr><td>2</td><td>10/28/08</td><td>US</td><td>F</td><td>45</td><td>3</td><td>5</td><td>2</td><td> 5</td><td> 5</td></tr>\n",
              "\t<tr><td>3</td><td>10/1/08 </td><td>UK</td><td>F</td><td>25</td><td>3</td><td>5</td><td>5</td><td> 5</td><td> 2</td></tr>\n",
              "\t<tr><td>4</td><td>10/12/08</td><td>UK</td><td>M</td><td>39</td><td>3</td><td>3</td><td>4</td><td>NA</td><td>NA</td></tr>\n",
              "\t<tr><td>5</td><td>5/1/09  </td><td>UK</td><td>F</td><td>99</td><td>2</td><td>2</td><td>1</td><td> 2</td><td> 1</td></tr>\n",
              "</tbody>\n",
              "</table>\n"
            ],
            "text/markdown": "\nA data.frame: 5 × 10\n\n| manager &lt;dbl&gt; | date &lt;chr&gt; | country &lt;chr&gt; | gender &lt;chr&gt; | age &lt;dbl&gt; | q1 &lt;dbl&gt; | q2 &lt;dbl&gt; | q3 &lt;dbl&gt; | q4 &lt;dbl&gt; | q5 &lt;dbl&gt; |\n|---|---|---|---|---|---|---|---|---|---|\n| 1 | 10/24/08 | US | M | 32 | 5 | 4 | 5 |  5 |  5 |\n| 2 | 10/28/08 | US | F | 45 | 3 | 5 | 2 |  5 |  5 |\n| 3 | 10/1/08  | UK | F | 25 | 3 | 5 | 5 |  5 |  2 |\n| 4 | 10/12/08 | UK | M | 39 | 3 | 3 | 4 | NA | NA |\n| 5 | 5/1/09   | UK | F | 99 | 2 | 2 | 1 |  2 |  1 |\n\n",
            "text/latex": "A data.frame: 5 × 10\n\\begin{tabular}{llllllllll}\n manager & date & country & gender & age & q1 & q2 & q3 & q4 & q5\\\\\n <dbl> & <chr> & <chr> & <chr> & <dbl> & <dbl> & <dbl> & <dbl> & <dbl> & <dbl>\\\\\n\\hline\n\t 1 & 10/24/08 & US & M & 32 & 5 & 4 & 5 &  5 &  5\\\\\n\t 2 & 10/28/08 & US & F & 45 & 3 & 5 & 2 &  5 &  5\\\\\n\t 3 & 10/1/08  & UK & F & 25 & 3 & 5 & 5 &  5 &  2\\\\\n\t 4 & 10/12/08 & UK & M & 39 & 3 & 3 & 4 & NA & NA\\\\\n\t 5 & 5/1/09   & UK & F & 99 & 2 & 2 & 1 &  2 &  1\\\\\n\\end{tabular}\n",
            "text/plain": [
              "  manager date     country gender age q1 q2 q3 q4 q5\n",
              "1 1       10/24/08 US      M      32  5  4  5   5  5\n",
              "2 2       10/28/08 US      F      45  3  5  2   5  5\n",
              "3 3       10/1/08  UK      F      25  3  5  5   5  2\n",
              "4 4       10/12/08 UK      M      39  3  3  4  NA NA\n",
              "5 5       5/1/09   UK      F      99  2  2  1   2  1"
            ]
          },
          "metadata": {}
        }
      ]
    },
    {
      "cell_type": "code",
      "source": [
        "# Создать две сводные переменные.\n",
        "leadership <- mutate(leadership,total_score = q1 + q2 + q3 + q4 + q5, mean_score = total_score / 5)\n",
        "leadership"
      ],
      "metadata": {
        "id": "B2Hd5liYc1OF",
        "outputId": "f9970c10-0c1f-4028-af08-87b48ba7060c",
        "colab": {
          "base_uri": "https://localhost:8080/",
          "height": 255
        }
      },
      "execution_count": 48,
      "outputs": [
        {
          "output_type": "display_data",
          "data": {
            "text/html": [
              "<table class=\"dataframe\">\n",
              "<caption>A data.frame: 5 × 12</caption>\n",
              "<thead>\n",
              "\t<tr><th scope=col>manager</th><th scope=col>date</th><th scope=col>country</th><th scope=col>gender</th><th scope=col>age</th><th scope=col>q1</th><th scope=col>q2</th><th scope=col>q3</th><th scope=col>q4</th><th scope=col>q5</th><th scope=col>total_score</th><th scope=col>mean_score</th></tr>\n",
              "\t<tr><th scope=col>&lt;dbl&gt;</th><th scope=col>&lt;chr&gt;</th><th scope=col>&lt;chr&gt;</th><th scope=col>&lt;chr&gt;</th><th scope=col>&lt;dbl&gt;</th><th scope=col>&lt;dbl&gt;</th><th scope=col>&lt;dbl&gt;</th><th scope=col>&lt;dbl&gt;</th><th scope=col>&lt;dbl&gt;</th><th scope=col>&lt;dbl&gt;</th><th scope=col>&lt;dbl&gt;</th><th scope=col>&lt;dbl&gt;</th></tr>\n",
              "</thead>\n",
              "<tbody>\n",
              "\t<tr><td>1</td><td>10/24/08</td><td>US</td><td>M</td><td>32</td><td>5</td><td>4</td><td>5</td><td> 5</td><td> 5</td><td>24</td><td>4.8</td></tr>\n",
              "\t<tr><td>2</td><td>10/28/08</td><td>US</td><td>F</td><td>45</td><td>3</td><td>5</td><td>2</td><td> 5</td><td> 5</td><td>20</td><td>4.0</td></tr>\n",
              "\t<tr><td>3</td><td>10/1/08 </td><td>UK</td><td>F</td><td>25</td><td>3</td><td>5</td><td>5</td><td> 5</td><td> 2</td><td>20</td><td>4.0</td></tr>\n",
              "\t<tr><td>4</td><td>10/12/08</td><td>UK</td><td>M</td><td>39</td><td>3</td><td>3</td><td>4</td><td>NA</td><td>NA</td><td>NA</td><td> NA</td></tr>\n",
              "\t<tr><td>5</td><td>5/1/09  </td><td>UK</td><td>F</td><td>99</td><td>2</td><td>2</td><td>1</td><td> 2</td><td> 1</td><td> 8</td><td>1.6</td></tr>\n",
              "</tbody>\n",
              "</table>\n"
            ],
            "text/markdown": "\nA data.frame: 5 × 12\n\n| manager &lt;dbl&gt; | date &lt;chr&gt; | country &lt;chr&gt; | gender &lt;chr&gt; | age &lt;dbl&gt; | q1 &lt;dbl&gt; | q2 &lt;dbl&gt; | q3 &lt;dbl&gt; | q4 &lt;dbl&gt; | q5 &lt;dbl&gt; | total_score &lt;dbl&gt; | mean_score &lt;dbl&gt; |\n|---|---|---|---|---|---|---|---|---|---|---|---|\n| 1 | 10/24/08 | US | M | 32 | 5 | 4 | 5 |  5 |  5 | 24 | 4.8 |\n| 2 | 10/28/08 | US | F | 45 | 3 | 5 | 2 |  5 |  5 | 20 | 4.0 |\n| 3 | 10/1/08  | UK | F | 25 | 3 | 5 | 5 |  5 |  2 | 20 | 4.0 |\n| 4 | 10/12/08 | UK | M | 39 | 3 | 3 | 4 | NA | NA | NA |  NA |\n| 5 | 5/1/09   | UK | F | 99 | 2 | 2 | 1 |  2 |  1 |  8 | 1.6 |\n\n",
            "text/latex": "A data.frame: 5 × 12\n\\begin{tabular}{llllllllllll}\n manager & date & country & gender & age & q1 & q2 & q3 & q4 & q5 & total\\_score & mean\\_score\\\\\n <dbl> & <chr> & <chr> & <chr> & <dbl> & <dbl> & <dbl> & <dbl> & <dbl> & <dbl> & <dbl> & <dbl>\\\\\n\\hline\n\t 1 & 10/24/08 & US & M & 32 & 5 & 4 & 5 &  5 &  5 & 24 & 4.8\\\\\n\t 2 & 10/28/08 & US & F & 45 & 3 & 5 & 2 &  5 &  5 & 20 & 4.0\\\\\n\t 3 & 10/1/08  & UK & F & 25 & 3 & 5 & 5 &  5 &  2 & 20 & 4.0\\\\\n\t 4 & 10/12/08 & UK & M & 39 & 3 & 3 & 4 & NA & NA & NA &  NA\\\\\n\t 5 & 5/1/09   & UK & F & 99 & 2 & 2 & 1 &  2 &  1 &  8 & 1.6\\\\\n\\end{tabular}\n",
            "text/plain": [
              "  manager date     country gender age q1 q2 q3 q4 q5 total_score mean_score\n",
              "1 1       10/24/08 US      M      32  5  4  5   5  5 24          4.8       \n",
              "2 2       10/28/08 US      F      45  3  5  2   5  5 20          4.0       \n",
              "3 3       10/1/08  UK      F      25  3  5  5   5  2 20          4.0       \n",
              "4 4       10/12/08 UK      M      39  3  3  4  NA NA NA           NA       \n",
              "5 5       5/1/09   UK      F      99  2  2  1   2  1  8          1.6       "
            ]
          },
          "metadata": {}
        }
      ]
    },
    {
      "cell_type": "code",
      "source": [
        "# Перекодировать значения \"M\" и \"F\" в значения \"male\" и \"female\".\n",
        "leadership$gender <- recode(leadership$gender,\"M\" = \"male\", \"F\" = \"female\")\n",
        "leadership"
      ],
      "metadata": {
        "id": "a51KDSNydMoO",
        "outputId": "cc27a636-76ac-4745-9ca0-df1b1163e3d0",
        "colab": {
          "base_uri": "https://localhost:8080/",
          "height": 255
        }
      },
      "execution_count": 49,
      "outputs": [
        {
          "output_type": "display_data",
          "data": {
            "text/html": [
              "<table class=\"dataframe\">\n",
              "<caption>A data.frame: 5 × 12</caption>\n",
              "<thead>\n",
              "\t<tr><th scope=col>manager</th><th scope=col>date</th><th scope=col>country</th><th scope=col>gender</th><th scope=col>age</th><th scope=col>q1</th><th scope=col>q2</th><th scope=col>q3</th><th scope=col>q4</th><th scope=col>q5</th><th scope=col>total_score</th><th scope=col>mean_score</th></tr>\n",
              "\t<tr><th scope=col>&lt;dbl&gt;</th><th scope=col>&lt;chr&gt;</th><th scope=col>&lt;chr&gt;</th><th scope=col>&lt;chr&gt;</th><th scope=col>&lt;dbl&gt;</th><th scope=col>&lt;dbl&gt;</th><th scope=col>&lt;dbl&gt;</th><th scope=col>&lt;dbl&gt;</th><th scope=col>&lt;dbl&gt;</th><th scope=col>&lt;dbl&gt;</th><th scope=col>&lt;dbl&gt;</th><th scope=col>&lt;dbl&gt;</th></tr>\n",
              "</thead>\n",
              "<tbody>\n",
              "\t<tr><td>1</td><td>10/24/08</td><td>US</td><td>male  </td><td>32</td><td>5</td><td>4</td><td>5</td><td> 5</td><td> 5</td><td>24</td><td>4.8</td></tr>\n",
              "\t<tr><td>2</td><td>10/28/08</td><td>US</td><td>female</td><td>45</td><td>3</td><td>5</td><td>2</td><td> 5</td><td> 5</td><td>20</td><td>4.0</td></tr>\n",
              "\t<tr><td>3</td><td>10/1/08 </td><td>UK</td><td>female</td><td>25</td><td>3</td><td>5</td><td>5</td><td> 5</td><td> 2</td><td>20</td><td>4.0</td></tr>\n",
              "\t<tr><td>4</td><td>10/12/08</td><td>UK</td><td>male  </td><td>39</td><td>3</td><td>3</td><td>4</td><td>NA</td><td>NA</td><td>NA</td><td> NA</td></tr>\n",
              "\t<tr><td>5</td><td>5/1/09  </td><td>UK</td><td>female</td><td>99</td><td>2</td><td>2</td><td>1</td><td> 2</td><td> 1</td><td> 8</td><td>1.6</td></tr>\n",
              "</tbody>\n",
              "</table>\n"
            ],
            "text/markdown": "\nA data.frame: 5 × 12\n\n| manager &lt;dbl&gt; | date &lt;chr&gt; | country &lt;chr&gt; | gender &lt;chr&gt; | age &lt;dbl&gt; | q1 &lt;dbl&gt; | q2 &lt;dbl&gt; | q3 &lt;dbl&gt; | q4 &lt;dbl&gt; | q5 &lt;dbl&gt; | total_score &lt;dbl&gt; | mean_score &lt;dbl&gt; |\n|---|---|---|---|---|---|---|---|---|---|---|---|\n| 1 | 10/24/08 | US | male   | 32 | 5 | 4 | 5 |  5 |  5 | 24 | 4.8 |\n| 2 | 10/28/08 | US | female | 45 | 3 | 5 | 2 |  5 |  5 | 20 | 4.0 |\n| 3 | 10/1/08  | UK | female | 25 | 3 | 5 | 5 |  5 |  2 | 20 | 4.0 |\n| 4 | 10/12/08 | UK | male   | 39 | 3 | 3 | 4 | NA | NA | NA |  NA |\n| 5 | 5/1/09   | UK | female | 99 | 2 | 2 | 1 |  2 |  1 |  8 | 1.6 |\n\n",
            "text/latex": "A data.frame: 5 × 12\n\\begin{tabular}{llllllllllll}\n manager & date & country & gender & age & q1 & q2 & q3 & q4 & q5 & total\\_score & mean\\_score\\\\\n <dbl> & <chr> & <chr> & <chr> & <dbl> & <dbl> & <dbl> & <dbl> & <dbl> & <dbl> & <dbl> & <dbl>\\\\\n\\hline\n\t 1 & 10/24/08 & US & male   & 32 & 5 & 4 & 5 &  5 &  5 & 24 & 4.8\\\\\n\t 2 & 10/28/08 & US & female & 45 & 3 & 5 & 2 &  5 &  5 & 20 & 4.0\\\\\n\t 3 & 10/1/08  & UK & female & 25 & 3 & 5 & 5 &  5 &  2 & 20 & 4.0\\\\\n\t 4 & 10/12/08 & UK & male   & 39 & 3 & 3 & 4 & NA & NA & NA &  NA\\\\\n\t 5 & 5/1/09   & UK & female & 99 & 2 & 2 & 1 &  2 &  1 &  8 & 1.6\\\\\n\\end{tabular}\n",
            "text/plain": [
              "  manager date     country gender age q1 q2 q3 q4 q5 total_score mean_score\n",
              "1 1       10/24/08 US      male   32  5  4  5   5  5 24          4.8       \n",
              "2 2       10/28/08 US      female 45  3  5  2   5  5 20          4.0       \n",
              "3 3       10/1/08  UK      female 25  3  5  5   5  2 20          4.0       \n",
              "4 4       10/12/08 UK      male   39  3  3  4  NA NA NA           NA       \n",
              "5 5       5/1/09   UK      female 99  2  2  1   2  1  8          1.6       "
            ]
          },
          "metadata": {}
        }
      ]
    },
    {
      "cell_type": "code",
      "source": [
        "# Переименовать переменные manager и gender.\n",
        "leadership <- rename(leadership, ID = \"manager\", sex = \"gender\")\n",
        "leadership"
      ],
      "metadata": {
        "id": "lZTPqGPUdjlW",
        "outputId": "8004b74d-631b-4f29-b1e8-fcda8315a33e",
        "colab": {
          "base_uri": "https://localhost:8080/",
          "height": 255
        }
      },
      "execution_count": 50,
      "outputs": [
        {
          "output_type": "display_data",
          "data": {
            "text/html": [
              "<table class=\"dataframe\">\n",
              "<caption>A data.frame: 5 × 12</caption>\n",
              "<thead>\n",
              "\t<tr><th scope=col>ID</th><th scope=col>date</th><th scope=col>country</th><th scope=col>sex</th><th scope=col>age</th><th scope=col>q1</th><th scope=col>q2</th><th scope=col>q3</th><th scope=col>q4</th><th scope=col>q5</th><th scope=col>total_score</th><th scope=col>mean_score</th></tr>\n",
              "\t<tr><th scope=col>&lt;dbl&gt;</th><th scope=col>&lt;chr&gt;</th><th scope=col>&lt;chr&gt;</th><th scope=col>&lt;chr&gt;</th><th scope=col>&lt;dbl&gt;</th><th scope=col>&lt;dbl&gt;</th><th scope=col>&lt;dbl&gt;</th><th scope=col>&lt;dbl&gt;</th><th scope=col>&lt;dbl&gt;</th><th scope=col>&lt;dbl&gt;</th><th scope=col>&lt;dbl&gt;</th><th scope=col>&lt;dbl&gt;</th></tr>\n",
              "</thead>\n",
              "<tbody>\n",
              "\t<tr><td>1</td><td>10/24/08</td><td>US</td><td>male  </td><td>32</td><td>5</td><td>4</td><td>5</td><td> 5</td><td> 5</td><td>24</td><td>4.8</td></tr>\n",
              "\t<tr><td>2</td><td>10/28/08</td><td>US</td><td>female</td><td>45</td><td>3</td><td>5</td><td>2</td><td> 5</td><td> 5</td><td>20</td><td>4.0</td></tr>\n",
              "\t<tr><td>3</td><td>10/1/08 </td><td>UK</td><td>female</td><td>25</td><td>3</td><td>5</td><td>5</td><td> 5</td><td> 2</td><td>20</td><td>4.0</td></tr>\n",
              "\t<tr><td>4</td><td>10/12/08</td><td>UK</td><td>male  </td><td>39</td><td>3</td><td>3</td><td>4</td><td>NA</td><td>NA</td><td>NA</td><td> NA</td></tr>\n",
              "\t<tr><td>5</td><td>5/1/09  </td><td>UK</td><td>female</td><td>99</td><td>2</td><td>2</td><td>1</td><td> 2</td><td> 1</td><td> 8</td><td>1.6</td></tr>\n",
              "</tbody>\n",
              "</table>\n"
            ],
            "text/markdown": "\nA data.frame: 5 × 12\n\n| ID &lt;dbl&gt; | date &lt;chr&gt; | country &lt;chr&gt; | sex &lt;chr&gt; | age &lt;dbl&gt; | q1 &lt;dbl&gt; | q2 &lt;dbl&gt; | q3 &lt;dbl&gt; | q4 &lt;dbl&gt; | q5 &lt;dbl&gt; | total_score &lt;dbl&gt; | mean_score &lt;dbl&gt; |\n|---|---|---|---|---|---|---|---|---|---|---|---|\n| 1 | 10/24/08 | US | male   | 32 | 5 | 4 | 5 |  5 |  5 | 24 | 4.8 |\n| 2 | 10/28/08 | US | female | 45 | 3 | 5 | 2 |  5 |  5 | 20 | 4.0 |\n| 3 | 10/1/08  | UK | female | 25 | 3 | 5 | 5 |  5 |  2 | 20 | 4.0 |\n| 4 | 10/12/08 | UK | male   | 39 | 3 | 3 | 4 | NA | NA | NA |  NA |\n| 5 | 5/1/09   | UK | female | 99 | 2 | 2 | 1 |  2 |  1 |  8 | 1.6 |\n\n",
            "text/latex": "A data.frame: 5 × 12\n\\begin{tabular}{llllllllllll}\n ID & date & country & sex & age & q1 & q2 & q3 & q4 & q5 & total\\_score & mean\\_score\\\\\n <dbl> & <chr> & <chr> & <chr> & <dbl> & <dbl> & <dbl> & <dbl> & <dbl> & <dbl> & <dbl> & <dbl>\\\\\n\\hline\n\t 1 & 10/24/08 & US & male   & 32 & 5 & 4 & 5 &  5 &  5 & 24 & 4.8\\\\\n\t 2 & 10/28/08 & US & female & 45 & 3 & 5 & 2 &  5 &  5 & 20 & 4.0\\\\\n\t 3 & 10/1/08  & UK & female & 25 & 3 & 5 & 5 &  5 &  2 & 20 & 4.0\\\\\n\t 4 & 10/12/08 & UK & male   & 39 & 3 & 3 & 4 & NA & NA & NA &  NA\\\\\n\t 5 & 5/1/09   & UK & female & 99 & 2 & 2 & 1 &  2 &  1 &  8 & 1.6\\\\\n\\end{tabular}\n",
            "text/plain": [
              "  ID date     country sex    age q1 q2 q3 q4 q5 total_score mean_score\n",
              "1 1  10/24/08 US      male   32  5  4  5   5  5 24          4.8       \n",
              "2 2  10/28/08 US      female 45  3  5  2   5  5 20          4.0       \n",
              "3 3  10/1/08  UK      female 25  3  5  5   5  2 20          4.0       \n",
              "4 4  10/12/08 UK      male   39  3  3  4  NA NA NA           NA       \n",
              "5 5  5/1/09   UK      female 99  2  2  1   2  1  8          1.6       "
            ]
          },
          "metadata": {}
        }
      ]
    },
    {
      "cell_type": "code",
      "source": [
        "# Отсортировать данные по переменной sex и затем каждый пол по сумме баллов."
      ],
      "metadata": {
        "id": "rl-cv88_dw5g"
      },
      "execution_count": null,
      "outputs": []
    },
    {
      "cell_type": "markdown",
      "source": [],
      "metadata": {
        "id": "cldIgVTxdjOQ"
      }
    }
  ]
}