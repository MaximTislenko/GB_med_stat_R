{
  "nbformat": 4,
  "nbformat_minor": 0,
  "metadata": {
    "colab": {
      "provenance": [],
      "include_colab_link": true
    },
    "kernelspec": {
      "name": "ir",
      "display_name": "R"
    },
    "language_info": {
      "name": "R"
    }
  },
  "cells": [
    {
      "cell_type": "markdown",
      "metadata": {
        "id": "view-in-github",
        "colab_type": "text"
      },
      "source": [
        "<a href=\"https://colab.research.google.com/github/MaximTislenko/GB_med_stat_R/blob/main/%D0%92%D0%B2%D0%B5%D0%B4%D0%B5%D0%BD%D0%B8%D0%B5_%D0%B4%D0%B0%D0%BD%D0%BD%D1%8B%D1%85.ipynb\" target=\"_parent\"><img src=\"https://colab.research.google.com/assets/colab-badge.svg\" alt=\"Open In Colab\"/></a>"
      ]
    },
    {
      "cell_type": "markdown",
      "source": [
        "# Создание набора данных"
      ],
      "metadata": {
        "id": "yaZVoNFFoC1F"
      }
    },
    {
      "cell_type": "code",
      "execution_count": null,
      "metadata": {
        "id": "AdrY4BSy4w1z",
        "colab": {
          "base_uri": "https://localhost:8080/"
        },
        "outputId": "bff02f02-e5fd-41c5-c4d2-5f34d7270273"
      },
      "outputs": [
        {
          "output_type": "stream",
          "name": "stderr",
          "text": [
            "── \u001b[1mAttaching core tidyverse packages\u001b[22m ──────────────────────── tidyverse 2.0.0 ──\n",
            "\u001b[32m✔\u001b[39m \u001b[34mdplyr    \u001b[39m 1.1.4     \u001b[32m✔\u001b[39m \u001b[34mreadr    \u001b[39m 2.1.5\n",
            "\u001b[32m✔\u001b[39m \u001b[34mforcats  \u001b[39m 1.0.0     \u001b[32m✔\u001b[39m \u001b[34mstringr  \u001b[39m 1.5.1\n",
            "\u001b[32m✔\u001b[39m \u001b[34mggplot2  \u001b[39m 3.4.4     \u001b[32m✔\u001b[39m \u001b[34mtibble   \u001b[39m 3.2.1\n",
            "\u001b[32m✔\u001b[39m \u001b[34mlubridate\u001b[39m 1.9.3     \u001b[32m✔\u001b[39m \u001b[34mtidyr    \u001b[39m 1.3.1\n",
            "\u001b[32m✔\u001b[39m \u001b[34mpurrr    \u001b[39m 1.0.2     \n",
            "── \u001b[1mConflicts\u001b[22m ────────────────────────────────────────── tidyverse_conflicts() ──\n",
            "\u001b[31m✖\u001b[39m \u001b[34mpurrr\u001b[39m::\u001b[32m%||%()\u001b[39m   masks \u001b[34mbase\u001b[39m::%||%()\n",
            "\u001b[31m✖\u001b[39m \u001b[34mdplyr\u001b[39m::\u001b[32mfilter()\u001b[39m masks \u001b[34mstats\u001b[39m::filter()\n",
            "\u001b[31m✖\u001b[39m \u001b[34mdplyr\u001b[39m::\u001b[32mlag()\u001b[39m    masks \u001b[34mstats\u001b[39m::lag()\n",
            "\u001b[36mℹ\u001b[39m Use the conflicted package (\u001b[3m\u001b[34m<http://conflicted.r-lib.org/>\u001b[39m\u001b[23m) to force all conflicts to become errors\n"
          ]
        }
      ],
      "source": [
        "library(tidyverse)\n",
        "library(readxl)"
      ]
    },
    {
      "cell_type": "markdown",
      "source": [
        "# Ввод данных с клавиатуры\n",
        "1.Создается пустая таблица или матрица\n",
        "2.Открывается текстовый редактор (функция $edit()$)"
      ],
      "metadata": {
        "id": "O7h8Vel7oKVU"
      }
    },
    {
      "cell_type": "code",
      "source": [
        "mydata <- data.frame(age=numeric(0), gender=character(0), weight=numeric())\n",
        "mydata\n",
        "# mydata <- edit(mydata)"
      ],
      "metadata": {
        "id": "u1x81iKxo0Hu",
        "outputId": "c3b43c35-38aa-45d6-a9cf-a2fe819ef5b1",
        "colab": {
          "base_uri": "https://localhost:8080/",
          "height": 205
        }
      },
      "execution_count": null,
      "outputs": [
        {
          "output_type": "display_data",
          "data": {
            "text/html": [
              "<table class=\"dataframe\">\n",
              "<caption>A data.frame: 0 × 3</caption>\n",
              "<thead>\n",
              "\t<tr><th scope=col>age</th><th scope=col>gender</th><th scope=col>weight</th></tr>\n",
              "\t<tr><th scope=col>&lt;dbl&gt;</th><th scope=col>&lt;chr&gt;</th><th scope=col>&lt;dbl&gt;</th></tr>\n",
              "</thead>\n",
              "<tbody>\n",
              "</tbody>\n",
              "</table>\n"
            ],
            "text/markdown": "\nA data.frame: 0 × 3\n\n| age &lt;dbl&gt; | gender &lt;chr&gt; | weight &lt;dbl&gt; |\n|---|---|---|\n\n",
            "text/latex": "A data.frame: 0 × 3\n\\begin{tabular}{lll}\n age & gender & weight\\\\\n <dbl> & <chr> & <dbl>\\\\\n\\hline\n\\end{tabular}\n",
            "text/plain": [
              "     age gender weight"
            ]
          },
          "metadata": {}
        },
        {
          "output_type": "error",
          "ename": "ERROR",
          "evalue": "Error in edit(mydata): ‘edit()’ not yet supported in the Jupyter R kernel\n",
          "traceback": [
            "Error in edit(mydata): ‘edit()’ not yet supported in the Jupyter R kernel\nTraceback:\n",
            "1. edit(mydata)",
            "2. stop(sQuote(\"edit()\"), \" not yet supported in the Jupyter R kernel\")"
          ]
        }
      ]
    },
    {
      "cell_type": "code",
      "source": [
        "# fix(mydata)"
      ],
      "metadata": {
        "id": "CAacsOJeptH1"
      },
      "execution_count": null,
      "outputs": []
    },
    {
      "cell_type": "code",
      "source": [
        "mydatatxt <- \"\n",
        "age gender weight\n",
        "25 m 166\n",
        "30 f 115\n",
        "18 f 120\n",
        "\"\n",
        "mydata <- read.table(header = TRUE, text = mydatatxt)\n",
        "mydata"
      ],
      "metadata": {
        "id": "vOPtJTensVYI",
        "outputId": "a1b84d18-e5c9-44f7-a80b-92f6263695c7",
        "colab": {
          "base_uri": "https://localhost:8080/",
          "height": 192
        }
      },
      "execution_count": null,
      "outputs": [
        {
          "output_type": "display_data",
          "data": {
            "text/html": [
              "<table class=\"dataframe\">\n",
              "<caption>A data.frame: 3 × 3</caption>\n",
              "<thead>\n",
              "\t<tr><th scope=col>age</th><th scope=col>gender</th><th scope=col>weight</th></tr>\n",
              "\t<tr><th scope=col>&lt;int&gt;</th><th scope=col>&lt;chr&gt;</th><th scope=col>&lt;int&gt;</th></tr>\n",
              "</thead>\n",
              "<tbody>\n",
              "\t<tr><td>25</td><td>m</td><td>166</td></tr>\n",
              "\t<tr><td>30</td><td>f</td><td>115</td></tr>\n",
              "\t<tr><td>18</td><td>f</td><td>120</td></tr>\n",
              "</tbody>\n",
              "</table>\n"
            ],
            "text/markdown": "\nA data.frame: 3 × 3\n\n| age &lt;int&gt; | gender &lt;chr&gt; | weight &lt;int&gt; |\n|---|---|---|\n| 25 | m | 166 |\n| 30 | f | 115 |\n| 18 | f | 120 |\n\n",
            "text/latex": "A data.frame: 3 × 3\n\\begin{tabular}{lll}\n age & gender & weight\\\\\n <int> & <chr> & <int>\\\\\n\\hline\n\t 25 & m & 166\\\\\n\t 30 & f & 115\\\\\n\t 18 & f & 120\\\\\n\\end{tabular}\n",
            "text/plain": [
              "  age gender weight\n",
              "1 25  m      166   \n",
              "2 30  f      115   \n",
              "3 18  f      120   "
            ]
          },
          "metadata": {}
        }
      ]
    },
    {
      "cell_type": "markdown",
      "source": [
        "# Векторы"
      ],
      "metadata": {
        "id": "mrSY8BMfvY1r"
      }
    },
    {
      "cell_type": "code",
      "source": [
        "# числовой вектор\n",
        "a <- c(1, 2, 3, 4, 5, 6, -2, 4)\n",
        "a"
      ],
      "metadata": {
        "id": "ANzABip_eCkT",
        "outputId": "21fde3dc-ee0c-4017-b45c-b11ea53225f3",
        "colab": {
          "base_uri": "https://localhost:8080/",
          "height": 34
        }
      },
      "execution_count": null,
      "outputs": [
        {
          "output_type": "display_data",
          "data": {
            "text/html": [
              "<style>\n",
              ".list-inline {list-style: none; margin:0; padding: 0}\n",
              ".list-inline>li {display: inline-block}\n",
              ".list-inline>li:not(:last-child)::after {content: \"\\00b7\"; padding: 0 .5ex}\n",
              "</style>\n",
              "<ol class=list-inline><li>1</li><li>2</li><li>3</li><li>4</li><li>5</li><li>6</li><li>-2</li><li>4</li></ol>\n"
            ],
            "text/markdown": "1. 1\n2. 2\n3. 3\n4. 4\n5. 5\n6. 6\n7. -2\n8. 4\n\n\n",
            "text/latex": "\\begin{enumerate*}\n\\item 1\n\\item 2\n\\item 3\n\\item 4\n\\item 5\n\\item 6\n\\item -2\n\\item 4\n\\end{enumerate*}\n",
            "text/plain": [
              "[1]  1  2  3  4  5  6 -2  4"
            ]
          },
          "metadata": {}
        }
      ]
    },
    {
      "cell_type": "code",
      "source": [
        "a[c(2, 4)]"
      ],
      "metadata": {
        "id": "hwIpkfLJfsET",
        "outputId": "4397f0ef-592b-4537-a8e8-82e209dc2b87",
        "colab": {
          "base_uri": "https://localhost:8080/",
          "height": 34
        }
      },
      "execution_count": null,
      "outputs": [
        {
          "output_type": "display_data",
          "data": {
            "text/html": [
              "<style>\n",
              ".list-inline {list-style: none; margin:0; padding: 0}\n",
              ".list-inline>li {display: inline-block}\n",
              ".list-inline>li:not(:last-child)::after {content: \"\\00b7\"; padding: 0 .5ex}\n",
              "</style>\n",
              "<ol class=list-inline><li>2</li><li>4</li></ol>\n"
            ],
            "text/markdown": "1. 2\n2. 4\n\n\n",
            "text/latex": "\\begin{enumerate*}\n\\item 2\n\\item 4\n\\end{enumerate*}\n",
            "text/plain": [
              "[1] 2 4"
            ]
          },
          "metadata": {}
        }
      ]
    },
    {
      "cell_type": "code",
      "source": [
        "a"
      ],
      "metadata": {
        "id": "-RR9L4Bpf2BL",
        "outputId": "4afd7752-2c47-4377-c8ec-609b8bad2c29",
        "colab": {
          "base_uri": "https://localhost:8080/",
          "height": 34
        }
      },
      "execution_count": null,
      "outputs": [
        {
          "output_type": "display_data",
          "data": {
            "text/html": [
              "<style>\n",
              ".list-inline {list-style: none; margin:0; padding: 0}\n",
              ".list-inline>li {display: inline-block}\n",
              ".list-inline>li:not(:last-child)::after {content: \"\\00b7\"; padding: 0 .5ex}\n",
              "</style>\n",
              "<ol class=list-inline><li>1</li><li>2</li><li>3</li><li>4</li><li>5</li><li>6</li><li>-2</li><li>4</li></ol>\n"
            ],
            "text/markdown": "1. 1\n2. 2\n3. 3\n4. 4\n5. 5\n6. 6\n7. -2\n8. 4\n\n\n",
            "text/latex": "\\begin{enumerate*}\n\\item 1\n\\item 2\n\\item 3\n\\item 4\n\\item 5\n\\item 6\n\\item -2\n\\item 4\n\\end{enumerate*}\n",
            "text/plain": [
              "[1]  1  2  3  4  5  6 -2  4"
            ]
          },
          "metadata": {}
        }
      ]
    },
    {
      "cell_type": "code",
      "source": [
        "# текстовый вектор\n",
        "b <- c(\"one\", \"two\", \"three\")\n",
        "b"
      ],
      "metadata": {
        "id": "zPjJBa9BesTT",
        "outputId": "ab6d17c0-fc83-4ece-eeb1-6607cc9c5d6f",
        "colab": {
          "base_uri": "https://localhost:8080/",
          "height": 34
        }
      },
      "execution_count": null,
      "outputs": [
        {
          "output_type": "display_data",
          "data": {
            "text/html": [
              "<style>\n",
              ".list-inline {list-style: none; margin:0; padding: 0}\n",
              ".list-inline>li {display: inline-block}\n",
              ".list-inline>li:not(:last-child)::after {content: \"\\00b7\"; padding: 0 .5ex}\n",
              "</style>\n",
              "<ol class=list-inline><li>'one'</li><li>'two'</li><li>'three'</li></ol>\n"
            ],
            "text/markdown": "1. 'one'\n2. 'two'\n3. 'three'\n\n\n",
            "text/latex": "\\begin{enumerate*}\n\\item 'one'\n\\item 'two'\n\\item 'three'\n\\end{enumerate*}\n",
            "text/plain": [
              "[1] \"one\"   \"two\"   \"three\""
            ]
          },
          "metadata": {}
        }
      ]
    },
    {
      "cell_type": "code",
      "source": [
        "# логический вектор\n",
        "с <- c(TRUE, TRUE, TRUE, FALSE, TRUE, FALSE)\n",
        "c"
      ],
      "metadata": {
        "id": "xoZCVmQ3fHgb",
        "outputId": "c4d0bc02-dbf0-4275-d865-1b3c4d6f643b",
        "colab": {
          "base_uri": "https://localhost:8080/",
          "height": 34
        }
      },
      "execution_count": null,
      "outputs": [
        {
          "output_type": "display_data",
          "data": {
            "text/html": [
              "<pre class=language-r><code>.Primitive(\"c\")</code></pre>"
            ],
            "text/markdown": "```r\n.Primitive(\"c\")\n```",
            "text/latex": "\\begin{minted}{r}\n.Primitive(\"c\")\n\\end{minted}",
            "text/plain": [
              "function (...)  .Primitive(\"c\")"
            ]
          },
          "metadata": {}
        }
      ]
    },
    {
      "cell_type": "code",
      "source": [
        "a <- c(\"k\", \"j\", \"h\", \"a\", \"c\", \"m\")\n",
        "a\n",
        "a[3]\n",
        "a[c(1,3,5)]\n",
        "a[2:6]"
      ],
      "metadata": {
        "id": "Lez1FRCVe800",
        "outputId": "85814a69-6c49-483f-f3be-061ce4fdb228",
        "colab": {
          "base_uri": "https://localhost:8080/",
          "height": 86
        }
      },
      "execution_count": null,
      "outputs": [
        {
          "output_type": "display_data",
          "data": {
            "text/html": [
              "<style>\n",
              ".list-inline {list-style: none; margin:0; padding: 0}\n",
              ".list-inline>li {display: inline-block}\n",
              ".list-inline>li:not(:last-child)::after {content: \"\\00b7\"; padding: 0 .5ex}\n",
              "</style>\n",
              "<ol class=list-inline><li>'k'</li><li>'j'</li><li>'h'</li><li>'a'</li><li>'c'</li><li>'m'</li></ol>\n"
            ],
            "text/markdown": "1. 'k'\n2. 'j'\n3. 'h'\n4. 'a'\n5. 'c'\n6. 'm'\n\n\n",
            "text/latex": "\\begin{enumerate*}\n\\item 'k'\n\\item 'j'\n\\item 'h'\n\\item 'a'\n\\item 'c'\n\\item 'm'\n\\end{enumerate*}\n",
            "text/plain": [
              "[1] \"k\" \"j\" \"h\" \"a\" \"c\" \"m\""
            ]
          },
          "metadata": {}
        },
        {
          "output_type": "display_data",
          "data": {
            "text/html": [
              "'h'"
            ],
            "text/markdown": "'h'",
            "text/latex": "'h'",
            "text/plain": [
              "[1] \"h\""
            ]
          },
          "metadata": {}
        },
        {
          "output_type": "display_data",
          "data": {
            "text/html": [
              "<style>\n",
              ".list-inline {list-style: none; margin:0; padding: 0}\n",
              ".list-inline>li {display: inline-block}\n",
              ".list-inline>li:not(:last-child)::after {content: \"\\00b7\"; padding: 0 .5ex}\n",
              "</style>\n",
              "<ol class=list-inline><li>'k'</li><li>'h'</li><li>'c'</li></ol>\n"
            ],
            "text/markdown": "1. 'k'\n2. 'h'\n3. 'c'\n\n\n",
            "text/latex": "\\begin{enumerate*}\n\\item 'k'\n\\item 'h'\n\\item 'c'\n\\end{enumerate*}\n",
            "text/plain": [
              "[1] \"k\" \"h\" \"c\""
            ]
          },
          "metadata": {}
        },
        {
          "output_type": "display_data",
          "data": {
            "text/html": [
              "<style>\n",
              ".list-inline {list-style: none; margin:0; padding: 0}\n",
              ".list-inline>li {display: inline-block}\n",
              ".list-inline>li:not(:last-child)::after {content: \"\\00b7\"; padding: 0 .5ex}\n",
              "</style>\n",
              "<ol class=list-inline><li>'j'</li><li>'h'</li><li>'a'</li><li>'c'</li><li>'m'</li></ol>\n"
            ],
            "text/markdown": "1. 'j'\n2. 'h'\n3. 'a'\n4. 'c'\n5. 'm'\n\n\n",
            "text/latex": "\\begin{enumerate*}\n\\item 'j'\n\\item 'h'\n\\item 'a'\n\\item 'c'\n\\item 'm'\n\\end{enumerate*}\n",
            "text/plain": [
              "[1] \"j\" \"h\" \"a\" \"c\" \"m\""
            ]
          },
          "metadata": {}
        }
      ]
    },
    {
      "cell_type": "markdown",
      "source": [
        "# Матрицы\n",
        "\n",
        "$mymatrix <- matrix(вектор, nrow=число_строк, ncol=число_столбцов,\n",
        "byrow=логическое_значение, dimnames=list\n",
        "(текстовый_вектор_с_названиями_строк,\n",
        "текстовый_вектор_с_названиями_столбцов))$\n",
        "\n",
        ",где $вектор$ – это вектор, содержащий элементы матрицы, $nrow$ и $ncol$ определяют число строк и столбцов в матрице, а список $dimnames$\n",
        "определяет названия строк и столбцов (их указывать не обяза-\n",
        "тельно) в виде текстовых векторов. Параметр $byrow$ определяет,\n",
        "как должна заполняться матрица – по строкам ($byrow=TRUE$) или по\n",
        "столбцам ($byrow=FALSE$). По умолчанию матрица заполняется по\n",
        "столбцам.\n"
      ],
      "metadata": {
        "id": "EM3Dj8BkvcPj"
      }
    },
    {
      "cell_type": "code",
      "source": [
        "# матрица 5*4\n",
        "y <- matrix(1:20, nrow = 5, ncol = 4)\n",
        "y"
      ],
      "metadata": {
        "id": "RyZEWf5Cve97",
        "outputId": "4803d9b4-daff-4e81-f4c2-8edf991c6473",
        "colab": {
          "base_uri": "https://localhost:8080/",
          "height": 208
        }
      },
      "execution_count": null,
      "outputs": [
        {
          "output_type": "display_data",
          "data": {
            "text/html": [
              "<table class=\"dataframe\">\n",
              "<caption>A matrix: 5 × 4 of type int</caption>\n",
              "<tbody>\n",
              "\t<tr><td>1</td><td> 6</td><td>11</td><td>16</td></tr>\n",
              "\t<tr><td>2</td><td> 7</td><td>12</td><td>17</td></tr>\n",
              "\t<tr><td>3</td><td> 8</td><td>13</td><td>18</td></tr>\n",
              "\t<tr><td>4</td><td> 9</td><td>14</td><td>19</td></tr>\n",
              "\t<tr><td>5</td><td>10</td><td>15</td><td>20</td></tr>\n",
              "</tbody>\n",
              "</table>\n"
            ],
            "text/markdown": "\nA matrix: 5 × 4 of type int\n\n| 1 |  6 | 11 | 16 |\n| 2 |  7 | 12 | 17 |\n| 3 |  8 | 13 | 18 |\n| 4 |  9 | 14 | 19 |\n| 5 | 10 | 15 | 20 |\n\n",
            "text/latex": "A matrix: 5 × 4 of type int\n\\begin{tabular}{llll}\n\t 1 &  6 & 11 & 16\\\\\n\t 2 &  7 & 12 & 17\\\\\n\t 3 &  8 & 13 & 18\\\\\n\t 4 &  9 & 14 & 19\\\\\n\t 5 & 10 & 15 & 20\\\\\n\\end{tabular}\n",
            "text/plain": [
              "     [,1] [,2] [,3] [,4]\n",
              "[1,] 1     6   11   16  \n",
              "[2,] 2     7   12   17  \n",
              "[3,] 3     8   13   18  \n",
              "[4,] 4     9   14   19  \n",
              "[5,] 5    10   15   20  "
            ]
          },
          "metadata": {}
        }
      ]
    },
    {
      "cell_type": "code",
      "source": [
        "# матрица 2*2 заполняется по строкам\n",
        "cells <- c(1, 26, 24, 68)\n",
        "rnames <- c(\"R1\", \"R2\")\n",
        "cnames <- c(\"C1\", \"C2\")\n",
        "mymatrix_01 <- matrix(cells, nrow = 2, ncol = 2, byrow = TRUE, dimnames = list(rnames, cnames))\n",
        "mymatrix_01"
      ],
      "metadata": {
        "id": "0Arxlha9PdZW",
        "outputId": "3eddada3-87ce-4e9f-f404-e255d4e66357",
        "colab": {
          "base_uri": "https://localhost:8080/",
          "height": 147
        }
      },
      "execution_count": null,
      "outputs": [
        {
          "output_type": "display_data",
          "data": {
            "text/html": [
              "<table class=\"dataframe\">\n",
              "<caption>A matrix: 2 × 2 of type dbl</caption>\n",
              "<thead>\n",
              "\t<tr><th></th><th scope=col>C1</th><th scope=col>C2</th></tr>\n",
              "</thead>\n",
              "<tbody>\n",
              "\t<tr><th scope=row>R1</th><td> 1</td><td>26</td></tr>\n",
              "\t<tr><th scope=row>R2</th><td>24</td><td>68</td></tr>\n",
              "</tbody>\n",
              "</table>\n"
            ],
            "text/markdown": "\nA matrix: 2 × 2 of type dbl\n\n| <!--/--> | C1 | C2 |\n|---|---|---|\n| R1 |  1 | 26 |\n| R2 | 24 | 68 |\n\n",
            "text/latex": "A matrix: 2 × 2 of type dbl\n\\begin{tabular}{r|ll}\n  & C1 & C2\\\\\n\\hline\n\tR1 &  1 & 26\\\\\n\tR2 & 24 & 68\\\\\n\\end{tabular}\n",
            "text/plain": [
              "   C1 C2\n",
              "R1  1 26\n",
              "R2 24 68"
            ]
          },
          "metadata": {}
        }
      ]
    },
    {
      "cell_type": "code",
      "source": [
        "# матрица 2*2 заполняется по столбцам\n",
        "mymatrix_02 <- matrix(cells, nrow = 2, ncol = 2, byrow = FALSE, dimnames = list(cnames, rnames))\n",
        "mymatrix_02"
      ],
      "metadata": {
        "id": "VKQ40BxsUlOo",
        "outputId": "1e804e50-7a63-47d9-e284-24fcea340fa1",
        "colab": {
          "base_uri": "https://localhost:8080/",
          "height": 147
        }
      },
      "execution_count": null,
      "outputs": [
        {
          "output_type": "display_data",
          "data": {
            "text/html": [
              "<table class=\"dataframe\">\n",
              "<caption>A matrix: 2 × 2 of type dbl</caption>\n",
              "<thead>\n",
              "\t<tr><th></th><th scope=col>R1</th><th scope=col>R2</th></tr>\n",
              "</thead>\n",
              "<tbody>\n",
              "\t<tr><th scope=row>C1</th><td> 1</td><td>24</td></tr>\n",
              "\t<tr><th scope=row>C2</th><td>26</td><td>68</td></tr>\n",
              "</tbody>\n",
              "</table>\n"
            ],
            "text/markdown": "\nA matrix: 2 × 2 of type dbl\n\n| <!--/--> | R1 | R2 |\n|---|---|---|\n| C1 |  1 | 24 |\n| C2 | 26 | 68 |\n\n",
            "text/latex": "A matrix: 2 × 2 of type dbl\n\\begin{tabular}{r|ll}\n  & R1 & R2\\\\\n\\hline\n\tC1 &  1 & 24\\\\\n\tC2 & 26 & 68\\\\\n\\end{tabular}\n",
            "text/plain": [
              "   R1 R2\n",
              "C1  1 24\n",
              "C2 26 68"
            ]
          },
          "metadata": {}
        }
      ]
    },
    {
      "cell_type": "code",
      "source": [
        "# Доступ к строкам, столбцам и к ячейке\n",
        "x <- matrix(1:10, nrow = 2)\n",
        "x\n",
        "x[2,]\n",
        "x[, 2]\n",
        "x[1, 4]"
      ],
      "metadata": {
        "id": "9olVAEoITQxw",
        "outputId": "ef2252bc-f9e7-4ac9-8b04-9a55be6ebd1a",
        "colab": {
          "base_uri": "https://localhost:8080/",
          "height": 166
        }
      },
      "execution_count": null,
      "outputs": [
        {
          "output_type": "display_data",
          "data": {
            "text/html": [
              "<table class=\"dataframe\">\n",
              "<caption>A matrix: 2 × 5 of type int</caption>\n",
              "<tbody>\n",
              "\t<tr><td>1</td><td>3</td><td>5</td><td>7</td><td> 9</td></tr>\n",
              "\t<tr><td>2</td><td>4</td><td>6</td><td>8</td><td>10</td></tr>\n",
              "</tbody>\n",
              "</table>\n"
            ],
            "text/markdown": "\nA matrix: 2 × 5 of type int\n\n| 1 | 3 | 5 | 7 |  9 |\n| 2 | 4 | 6 | 8 | 10 |\n\n",
            "text/latex": "A matrix: 2 × 5 of type int\n\\begin{tabular}{lllll}\n\t 1 & 3 & 5 & 7 &  9\\\\\n\t 2 & 4 & 6 & 8 & 10\\\\\n\\end{tabular}\n",
            "text/plain": [
              "     [,1] [,2] [,3] [,4] [,5]\n",
              "[1,] 1    3    5    7     9  \n",
              "[2,] 2    4    6    8    10  "
            ]
          },
          "metadata": {}
        },
        {
          "output_type": "display_data",
          "data": {
            "text/html": [
              "<style>\n",
              ".list-inline {list-style: none; margin:0; padding: 0}\n",
              ".list-inline>li {display: inline-block}\n",
              ".list-inline>li:not(:last-child)::after {content: \"\\00b7\"; padding: 0 .5ex}\n",
              "</style>\n",
              "<ol class=list-inline><li>2</li><li>4</li><li>6</li><li>8</li><li>10</li></ol>\n"
            ],
            "text/markdown": "1. 2\n2. 4\n3. 6\n4. 8\n5. 10\n\n\n",
            "text/latex": "\\begin{enumerate*}\n\\item 2\n\\item 4\n\\item 6\n\\item 8\n\\item 10\n\\end{enumerate*}\n",
            "text/plain": [
              "[1]  2  4  6  8 10"
            ]
          },
          "metadata": {}
        },
        {
          "output_type": "display_data",
          "data": {
            "text/html": [
              "<style>\n",
              ".list-inline {list-style: none; margin:0; padding: 0}\n",
              ".list-inline>li {display: inline-block}\n",
              ".list-inline>li:not(:last-child)::after {content: \"\\00b7\"; padding: 0 .5ex}\n",
              "</style>\n",
              "<ol class=list-inline><li>3</li><li>4</li></ol>\n"
            ],
            "text/markdown": "1. 3\n2. 4\n\n\n",
            "text/latex": "\\begin{enumerate*}\n\\item 3\n\\item 4\n\\end{enumerate*}\n",
            "text/plain": [
              "[1] 3 4"
            ]
          },
          "metadata": {}
        },
        {
          "output_type": "display_data",
          "data": {
            "text/html": [
              "7"
            ],
            "text/markdown": "7",
            "text/latex": "7",
            "text/plain": [
              "[1] 7"
            ]
          },
          "metadata": {}
        }
      ]
    },
    {
      "cell_type": "markdown",
      "source": [
        "# Массивы\n",
        "\n",
        "$myarray <- array(vector, dimensions, dimnames)$\n",
        "\n",
        ",где $vector$ – это вектор с данными, $dimensions$ – числовой вектор,\n",
        "определяющий размеры измерений, а $dimnames$ – необязательный\n",
        "список названий измерений."
      ],
      "metadata": {
        "id": "WNs37WesWeJS"
      }
    },
    {
      "cell_type": "code",
      "source": [
        "# пример создания трехмерного (2*3*4) числового массива\n",
        "dim1 <- c(\"A1\", \"A2\")\n",
        "dim2 <- c(\"B1\", \"B2\", \"B3\")\n",
        "dim3 <- c(\"C1\", \"C2\", \"C3\", \"C4\")\n",
        "z <- array(1:24, c(2, 3, 4), dimnames = list(dim1, dim2, dim3))\n",
        "z[1,2,3]\n",
        "z[1, , ]\n",
        "z[ ,1, ]\n",
        "z[, , 1]"
      ],
      "metadata": {
        "id": "2c2Di6JxXIBj",
        "outputId": "8e1cb15b-7c3c-4ddc-eece-c04b1b56619c",
        "colab": {
          "base_uri": "https://localhost:8080/",
          "height": 454
        }
      },
      "execution_count": null,
      "outputs": [
        {
          "output_type": "display_data",
          "data": {
            "text/html": [
              "15"
            ],
            "text/markdown": "15",
            "text/latex": "15",
            "text/plain": [
              "[1] 15"
            ]
          },
          "metadata": {}
        },
        {
          "output_type": "display_data",
          "data": {
            "text/html": [
              "<table class=\"dataframe\">\n",
              "<caption>A matrix: 3 × 4 of type int</caption>\n",
              "<thead>\n",
              "\t<tr><th></th><th scope=col>C1</th><th scope=col>C2</th><th scope=col>C3</th><th scope=col>C4</th></tr>\n",
              "</thead>\n",
              "<tbody>\n",
              "\t<tr><th scope=row>B1</th><td>1</td><td> 7</td><td>13</td><td>19</td></tr>\n",
              "\t<tr><th scope=row>B2</th><td>3</td><td> 9</td><td>15</td><td>21</td></tr>\n",
              "\t<tr><th scope=row>B3</th><td>5</td><td>11</td><td>17</td><td>23</td></tr>\n",
              "</tbody>\n",
              "</table>\n"
            ],
            "text/markdown": "\nA matrix: 3 × 4 of type int\n\n| <!--/--> | C1 | C2 | C3 | C4 |\n|---|---|---|---|---|\n| B1 | 1 |  7 | 13 | 19 |\n| B2 | 3 |  9 | 15 | 21 |\n| B3 | 5 | 11 | 17 | 23 |\n\n",
            "text/latex": "A matrix: 3 × 4 of type int\n\\begin{tabular}{r|llll}\n  & C1 & C2 & C3 & C4\\\\\n\\hline\n\tB1 & 1 &  7 & 13 & 19\\\\\n\tB2 & 3 &  9 & 15 & 21\\\\\n\tB3 & 5 & 11 & 17 & 23\\\\\n\\end{tabular}\n",
            "text/plain": [
              "   C1 C2 C3 C4\n",
              "B1 1   7 13 19\n",
              "B2 3   9 15 21\n",
              "B3 5  11 17 23"
            ]
          },
          "metadata": {}
        },
        {
          "output_type": "display_data",
          "data": {
            "text/html": [
              "<table class=\"dataframe\">\n",
              "<caption>A matrix: 2 × 4 of type int</caption>\n",
              "<thead>\n",
              "\t<tr><th></th><th scope=col>C1</th><th scope=col>C2</th><th scope=col>C3</th><th scope=col>C4</th></tr>\n",
              "</thead>\n",
              "<tbody>\n",
              "\t<tr><th scope=row>A1</th><td>1</td><td>7</td><td>13</td><td>19</td></tr>\n",
              "\t<tr><th scope=row>A2</th><td>2</td><td>8</td><td>14</td><td>20</td></tr>\n",
              "</tbody>\n",
              "</table>\n"
            ],
            "text/markdown": "\nA matrix: 2 × 4 of type int\n\n| <!--/--> | C1 | C2 | C3 | C4 |\n|---|---|---|---|---|\n| A1 | 1 | 7 | 13 | 19 |\n| A2 | 2 | 8 | 14 | 20 |\n\n",
            "text/latex": "A matrix: 2 × 4 of type int\n\\begin{tabular}{r|llll}\n  & C1 & C2 & C3 & C4\\\\\n\\hline\n\tA1 & 1 & 7 & 13 & 19\\\\\n\tA2 & 2 & 8 & 14 & 20\\\\\n\\end{tabular}\n",
            "text/plain": [
              "   C1 C2 C3 C4\n",
              "A1 1  7  13 19\n",
              "A2 2  8  14 20"
            ]
          },
          "metadata": {}
        },
        {
          "output_type": "display_data",
          "data": {
            "text/html": [
              "<table class=\"dataframe\">\n",
              "<caption>A matrix: 2 × 3 of type int</caption>\n",
              "<thead>\n",
              "\t<tr><th></th><th scope=col>B1</th><th scope=col>B2</th><th scope=col>B3</th></tr>\n",
              "</thead>\n",
              "<tbody>\n",
              "\t<tr><th scope=row>A1</th><td>1</td><td>3</td><td>5</td></tr>\n",
              "\t<tr><th scope=row>A2</th><td>2</td><td>4</td><td>6</td></tr>\n",
              "</tbody>\n",
              "</table>\n"
            ],
            "text/markdown": "\nA matrix: 2 × 3 of type int\n\n| <!--/--> | B1 | B2 | B3 |\n|---|---|---|---|\n| A1 | 1 | 3 | 5 |\n| A2 | 2 | 4 | 6 |\n\n",
            "text/latex": "A matrix: 2 × 3 of type int\n\\begin{tabular}{r|lll}\n  & B1 & B2 & B3\\\\\n\\hline\n\tA1 & 1 & 3 & 5\\\\\n\tA2 & 2 & 4 & 6\\\\\n\\end{tabular}\n",
            "text/plain": [
              "   B1 B2 B3\n",
              "A1 1  3  5 \n",
              "A2 2  4  6 "
            ]
          },
          "metadata": {}
        }
      ]
    },
    {
      "cell_type": "markdown",
      "source": [
        "# Таблицы данных\n",
        "\n",
        "$mydata <- data.frame(col1, col2, col3, ...),$\n",
        "\n",
        ",где – $col1, col2, col3, ...$ это векторы любого типа (текстового, чис\n",
        "лового или логического), которые станут столбцами таблицы. Названия каждому столбцу можно присвоить при помощи функции\n",
        "$names()$.\n",
        "\n"
      ],
      "metadata": {
        "id": "-IJguwJPZKCp"
      }
    },
    {
      "cell_type": "code",
      "source": [
        "patientID <- c(1, 2, 3, 4)\n",
        "age <- c(25, 34, 28, 52)\n",
        "diabetes <- c(\"Type1\", \"Type2\", \"Type1\", \"Type1\")\n",
        "status <- c(\"Poor\", \"Improved\", \"Excellent\", \"Poor\")\n",
        "patientdata <- data.frame(patientID, age, diabetes, status)\n",
        "patientdata"
      ],
      "metadata": {
        "id": "t3i4vXJq2E91",
        "outputId": "493acfcc-d043-4927-85f6-cf3f4bf42e2d",
        "colab": {
          "base_uri": "https://localhost:8080/",
          "height": 223
        }
      },
      "execution_count": null,
      "outputs": [
        {
          "output_type": "display_data",
          "data": {
            "text/html": [
              "<table class=\"dataframe\">\n",
              "<caption>A data.frame: 4 × 4</caption>\n",
              "<thead>\n",
              "\t<tr><th scope=col>patientID</th><th scope=col>age</th><th scope=col>diabetes</th><th scope=col>status</th></tr>\n",
              "\t<tr><th scope=col>&lt;dbl&gt;</th><th scope=col>&lt;dbl&gt;</th><th scope=col>&lt;chr&gt;</th><th scope=col>&lt;chr&gt;</th></tr>\n",
              "</thead>\n",
              "<tbody>\n",
              "\t<tr><td>1</td><td>25</td><td>Type1</td><td>Poor     </td></tr>\n",
              "\t<tr><td>2</td><td>34</td><td>Type2</td><td>Improved </td></tr>\n",
              "\t<tr><td>3</td><td>28</td><td>Type1</td><td>Excellent</td></tr>\n",
              "\t<tr><td>4</td><td>52</td><td>Type1</td><td>Poor     </td></tr>\n",
              "</tbody>\n",
              "</table>\n"
            ],
            "text/markdown": "\nA data.frame: 4 × 4\n\n| patientID &lt;dbl&gt; | age &lt;dbl&gt; | diabetes &lt;chr&gt; | status &lt;chr&gt; |\n|---|---|---|---|\n| 1 | 25 | Type1 | Poor      |\n| 2 | 34 | Type2 | Improved  |\n| 3 | 28 | Type1 | Excellent |\n| 4 | 52 | Type1 | Poor      |\n\n",
            "text/latex": "A data.frame: 4 × 4\n\\begin{tabular}{llll}\n patientID & age & diabetes & status\\\\\n <dbl> & <dbl> & <chr> & <chr>\\\\\n\\hline\n\t 1 & 25 & Type1 & Poor     \\\\\n\t 2 & 34 & Type2 & Improved \\\\\n\t 3 & 28 & Type1 & Excellent\\\\\n\t 4 & 52 & Type1 & Poor     \\\\\n\\end{tabular}\n",
            "text/plain": [
              "  patientID age diabetes status   \n",
              "1 1         25  Type1    Poor     \n",
              "2 2         34  Type2    Improved \n",
              "3 3         28  Type1    Excellent\n",
              "4 4         52  Type1    Poor     "
            ]
          },
          "metadata": {}
        }
      ]
    },
    {
      "cell_type": "code",
      "source": [
        "# доступ к данным\n",
        "patientdata[1:2]\n",
        "patientdata[c(\"diabetes\", \"status\")]\n",
        "patientdata$age"
      ],
      "metadata": {
        "id": "4DUZEfIH9TZo",
        "outputId": "13758e90-5b4d-403a-ce3c-9ce79d1fedb5",
        "colab": {
          "base_uri": "https://localhost:8080/",
          "height": 447
        }
      },
      "execution_count": null,
      "outputs": [
        {
          "output_type": "display_data",
          "data": {
            "text/html": [
              "<table class=\"dataframe\">\n",
              "<caption>A data.frame: 4 × 2</caption>\n",
              "<thead>\n",
              "\t<tr><th scope=col>patientID</th><th scope=col>age</th></tr>\n",
              "\t<tr><th scope=col>&lt;dbl&gt;</th><th scope=col>&lt;dbl&gt;</th></tr>\n",
              "</thead>\n",
              "<tbody>\n",
              "\t<tr><td>1</td><td>25</td></tr>\n",
              "\t<tr><td>2</td><td>34</td></tr>\n",
              "\t<tr><td>3</td><td>28</td></tr>\n",
              "\t<tr><td>4</td><td>52</td></tr>\n",
              "</tbody>\n",
              "</table>\n"
            ],
            "text/markdown": "\nA data.frame: 4 × 2\n\n| patientID &lt;dbl&gt; | age &lt;dbl&gt; |\n|---|---|\n| 1 | 25 |\n| 2 | 34 |\n| 3 | 28 |\n| 4 | 52 |\n\n",
            "text/latex": "A data.frame: 4 × 2\n\\begin{tabular}{ll}\n patientID & age\\\\\n <dbl> & <dbl>\\\\\n\\hline\n\t 1 & 25\\\\\n\t 2 & 34\\\\\n\t 3 & 28\\\\\n\t 4 & 52\\\\\n\\end{tabular}\n",
            "text/plain": [
              "  patientID age\n",
              "1 1         25 \n",
              "2 2         34 \n",
              "3 3         28 \n",
              "4 4         52 "
            ]
          },
          "metadata": {}
        },
        {
          "output_type": "display_data",
          "data": {
            "text/html": [
              "<table class=\"dataframe\">\n",
              "<caption>A data.frame: 4 × 2</caption>\n",
              "<thead>\n",
              "\t<tr><th scope=col>diabetes</th><th scope=col>status</th></tr>\n",
              "\t<tr><th scope=col>&lt;chr&gt;</th><th scope=col>&lt;chr&gt;</th></tr>\n",
              "</thead>\n",
              "<tbody>\n",
              "\t<tr><td>Type1</td><td>Poor     </td></tr>\n",
              "\t<tr><td>Type2</td><td>Improved </td></tr>\n",
              "\t<tr><td>Type1</td><td>Excellent</td></tr>\n",
              "\t<tr><td>Type1</td><td>Poor     </td></tr>\n",
              "</tbody>\n",
              "</table>\n"
            ],
            "text/markdown": "\nA data.frame: 4 × 2\n\n| diabetes &lt;chr&gt; | status &lt;chr&gt; |\n|---|---|\n| Type1 | Poor      |\n| Type2 | Improved  |\n| Type1 | Excellent |\n| Type1 | Poor      |\n\n",
            "text/latex": "A data.frame: 4 × 2\n\\begin{tabular}{ll}\n diabetes & status\\\\\n <chr> & <chr>\\\\\n\\hline\n\t Type1 & Poor     \\\\\n\t Type2 & Improved \\\\\n\t Type1 & Excellent\\\\\n\t Type1 & Poor     \\\\\n\\end{tabular}\n",
            "text/plain": [
              "  diabetes status   \n",
              "1 Type1    Poor     \n",
              "2 Type2    Improved \n",
              "3 Type1    Excellent\n",
              "4 Type1    Poor     "
            ]
          },
          "metadata": {}
        },
        {
          "output_type": "display_data",
          "data": {
            "text/html": [
              "<style>\n",
              ".list-inline {list-style: none; margin:0; padding: 0}\n",
              ".list-inline>li {display: inline-block}\n",
              ".list-inline>li:not(:last-child)::after {content: \"\\00b7\"; padding: 0 .5ex}\n",
              "</style>\n",
              "<ol class=list-inline><li>25</li><li>34</li><li>28</li><li>52</li></ol>\n"
            ],
            "text/markdown": "1. 25\n2. 34\n3. 28\n4. 52\n\n\n",
            "text/latex": "\\begin{enumerate*}\n\\item 25\n\\item 34\n\\item 28\n\\item 52\n\\end{enumerate*}\n",
            "text/plain": [
              "[1] 25 34 28 52"
            ]
          },
          "metadata": {}
        }
      ]
    },
    {
      "cell_type": "code",
      "source": [
        "# перекрестный запрос\n",
        "table(patientdata$diabetes, patientdata$status)"
      ],
      "metadata": {
        "id": "vlLKE0M6-mSL",
        "outputId": "745fd9e2-2047-4823-f96f-98e1217cebcc",
        "colab": {
          "base_uri": "https://localhost:8080/",
          "height": 86
        }
      },
      "execution_count": null,
      "outputs": [
        {
          "output_type": "display_data",
          "data": {
            "text/plain": [
              "       \n",
              "        Excellent Improved Poor\n",
              "  Type1         1        0    2\n",
              "  Type2         0        1    0"
            ]
          },
          "metadata": {}
        }
      ]
    },
    {
      "cell_type": "markdown",
      "source": [
        "## Функция with\n",
        "\n",
        "Рассмотрим встроенную таблицу данных $mtcars$, содержащую данные о расходе топлива для 32 автомобилей."
      ],
      "metadata": {
        "id": "Q_Afx4SV_NGc"
      }
    },
    {
      "cell_type": "code",
      "source": [
        "mtcars"
      ],
      "metadata": {
        "id": "fs2YgPSR_UxR",
        "outputId": "576bf520-a58d-48e5-8ab1-a98b1c4fa18b",
        "colab": {
          "base_uri": "https://localhost:8080/",
          "height": 1000
        }
      },
      "execution_count": null,
      "outputs": [
        {
          "output_type": "display_data",
          "data": {
            "text/html": [
              "<table class=\"dataframe\">\n",
              "<caption>A data.frame: 32 × 11</caption>\n",
              "<thead>\n",
              "\t<tr><th></th><th scope=col>mpg</th><th scope=col>cyl</th><th scope=col>disp</th><th scope=col>hp</th><th scope=col>drat</th><th scope=col>wt</th><th scope=col>qsec</th><th scope=col>vs</th><th scope=col>am</th><th scope=col>gear</th><th scope=col>carb</th></tr>\n",
              "\t<tr><th></th><th scope=col>&lt;dbl&gt;</th><th scope=col>&lt;dbl&gt;</th><th scope=col>&lt;dbl&gt;</th><th scope=col>&lt;dbl&gt;</th><th scope=col>&lt;dbl&gt;</th><th scope=col>&lt;dbl&gt;</th><th scope=col>&lt;dbl&gt;</th><th scope=col>&lt;dbl&gt;</th><th scope=col>&lt;dbl&gt;</th><th scope=col>&lt;dbl&gt;</th><th scope=col>&lt;dbl&gt;</th></tr>\n",
              "</thead>\n",
              "<tbody>\n",
              "\t<tr><th scope=row>Mazda RX4</th><td>21.0</td><td>6</td><td>160.0</td><td>110</td><td>3.90</td><td>2.620</td><td>16.46</td><td>0</td><td>1</td><td>4</td><td>4</td></tr>\n",
              "\t<tr><th scope=row>Mazda RX4 Wag</th><td>21.0</td><td>6</td><td>160.0</td><td>110</td><td>3.90</td><td>2.875</td><td>17.02</td><td>0</td><td>1</td><td>4</td><td>4</td></tr>\n",
              "\t<tr><th scope=row>Datsun 710</th><td>22.8</td><td>4</td><td>108.0</td><td> 93</td><td>3.85</td><td>2.320</td><td>18.61</td><td>1</td><td>1</td><td>4</td><td>1</td></tr>\n",
              "\t<tr><th scope=row>Hornet 4 Drive</th><td>21.4</td><td>6</td><td>258.0</td><td>110</td><td>3.08</td><td>3.215</td><td>19.44</td><td>1</td><td>0</td><td>3</td><td>1</td></tr>\n",
              "\t<tr><th scope=row>Hornet Sportabout</th><td>18.7</td><td>8</td><td>360.0</td><td>175</td><td>3.15</td><td>3.440</td><td>17.02</td><td>0</td><td>0</td><td>3</td><td>2</td></tr>\n",
              "\t<tr><th scope=row>Valiant</th><td>18.1</td><td>6</td><td>225.0</td><td>105</td><td>2.76</td><td>3.460</td><td>20.22</td><td>1</td><td>0</td><td>3</td><td>1</td></tr>\n",
              "\t<tr><th scope=row>Duster 360</th><td>14.3</td><td>8</td><td>360.0</td><td>245</td><td>3.21</td><td>3.570</td><td>15.84</td><td>0</td><td>0</td><td>3</td><td>4</td></tr>\n",
              "\t<tr><th scope=row>Merc 240D</th><td>24.4</td><td>4</td><td>146.7</td><td> 62</td><td>3.69</td><td>3.190</td><td>20.00</td><td>1</td><td>0</td><td>4</td><td>2</td></tr>\n",
              "\t<tr><th scope=row>Merc 230</th><td>22.8</td><td>4</td><td>140.8</td><td> 95</td><td>3.92</td><td>3.150</td><td>22.90</td><td>1</td><td>0</td><td>4</td><td>2</td></tr>\n",
              "\t<tr><th scope=row>Merc 280</th><td>19.2</td><td>6</td><td>167.6</td><td>123</td><td>3.92</td><td>3.440</td><td>18.30</td><td>1</td><td>0</td><td>4</td><td>4</td></tr>\n",
              "\t<tr><th scope=row>Merc 280C</th><td>17.8</td><td>6</td><td>167.6</td><td>123</td><td>3.92</td><td>3.440</td><td>18.90</td><td>1</td><td>0</td><td>4</td><td>4</td></tr>\n",
              "\t<tr><th scope=row>Merc 450SE</th><td>16.4</td><td>8</td><td>275.8</td><td>180</td><td>3.07</td><td>4.070</td><td>17.40</td><td>0</td><td>0</td><td>3</td><td>3</td></tr>\n",
              "\t<tr><th scope=row>Merc 450SL</th><td>17.3</td><td>8</td><td>275.8</td><td>180</td><td>3.07</td><td>3.730</td><td>17.60</td><td>0</td><td>0</td><td>3</td><td>3</td></tr>\n",
              "\t<tr><th scope=row>Merc 450SLC</th><td>15.2</td><td>8</td><td>275.8</td><td>180</td><td>3.07</td><td>3.780</td><td>18.00</td><td>0</td><td>0</td><td>3</td><td>3</td></tr>\n",
              "\t<tr><th scope=row>Cadillac Fleetwood</th><td>10.4</td><td>8</td><td>472.0</td><td>205</td><td>2.93</td><td>5.250</td><td>17.98</td><td>0</td><td>0</td><td>3</td><td>4</td></tr>\n",
              "\t<tr><th scope=row>Lincoln Continental</th><td>10.4</td><td>8</td><td>460.0</td><td>215</td><td>3.00</td><td>5.424</td><td>17.82</td><td>0</td><td>0</td><td>3</td><td>4</td></tr>\n",
              "\t<tr><th scope=row>Chrysler Imperial</th><td>14.7</td><td>8</td><td>440.0</td><td>230</td><td>3.23</td><td>5.345</td><td>17.42</td><td>0</td><td>0</td><td>3</td><td>4</td></tr>\n",
              "\t<tr><th scope=row>Fiat 128</th><td>32.4</td><td>4</td><td> 78.7</td><td> 66</td><td>4.08</td><td>2.200</td><td>19.47</td><td>1</td><td>1</td><td>4</td><td>1</td></tr>\n",
              "\t<tr><th scope=row>Honda Civic</th><td>30.4</td><td>4</td><td> 75.7</td><td> 52</td><td>4.93</td><td>1.615</td><td>18.52</td><td>1</td><td>1</td><td>4</td><td>2</td></tr>\n",
              "\t<tr><th scope=row>Toyota Corolla</th><td>33.9</td><td>4</td><td> 71.1</td><td> 65</td><td>4.22</td><td>1.835</td><td>19.90</td><td>1</td><td>1</td><td>4</td><td>1</td></tr>\n",
              "\t<tr><th scope=row>Toyota Corona</th><td>21.5</td><td>4</td><td>120.1</td><td> 97</td><td>3.70</td><td>2.465</td><td>20.01</td><td>1</td><td>0</td><td>3</td><td>1</td></tr>\n",
              "\t<tr><th scope=row>Dodge Challenger</th><td>15.5</td><td>8</td><td>318.0</td><td>150</td><td>2.76</td><td>3.520</td><td>16.87</td><td>0</td><td>0</td><td>3</td><td>2</td></tr>\n",
              "\t<tr><th scope=row>AMC Javelin</th><td>15.2</td><td>8</td><td>304.0</td><td>150</td><td>3.15</td><td>3.435</td><td>17.30</td><td>0</td><td>0</td><td>3</td><td>2</td></tr>\n",
              "\t<tr><th scope=row>Camaro Z28</th><td>13.3</td><td>8</td><td>350.0</td><td>245</td><td>3.73</td><td>3.840</td><td>15.41</td><td>0</td><td>0</td><td>3</td><td>4</td></tr>\n",
              "\t<tr><th scope=row>Pontiac Firebird</th><td>19.2</td><td>8</td><td>400.0</td><td>175</td><td>3.08</td><td>3.845</td><td>17.05</td><td>0</td><td>0</td><td>3</td><td>2</td></tr>\n",
              "\t<tr><th scope=row>Fiat X1-9</th><td>27.3</td><td>4</td><td> 79.0</td><td> 66</td><td>4.08</td><td>1.935</td><td>18.90</td><td>1</td><td>1</td><td>4</td><td>1</td></tr>\n",
              "\t<tr><th scope=row>Porsche 914-2</th><td>26.0</td><td>4</td><td>120.3</td><td> 91</td><td>4.43</td><td>2.140</td><td>16.70</td><td>0</td><td>1</td><td>5</td><td>2</td></tr>\n",
              "\t<tr><th scope=row>Lotus Europa</th><td>30.4</td><td>4</td><td> 95.1</td><td>113</td><td>3.77</td><td>1.513</td><td>16.90</td><td>1</td><td>1</td><td>5</td><td>2</td></tr>\n",
              "\t<tr><th scope=row>Ford Pantera L</th><td>15.8</td><td>8</td><td>351.0</td><td>264</td><td>4.22</td><td>3.170</td><td>14.50</td><td>0</td><td>1</td><td>5</td><td>4</td></tr>\n",
              "\t<tr><th scope=row>Ferrari Dino</th><td>19.7</td><td>6</td><td>145.0</td><td>175</td><td>3.62</td><td>2.770</td><td>15.50</td><td>0</td><td>1</td><td>5</td><td>6</td></tr>\n",
              "\t<tr><th scope=row>Maserati Bora</th><td>15.0</td><td>8</td><td>301.0</td><td>335</td><td>3.54</td><td>3.570</td><td>14.60</td><td>0</td><td>1</td><td>5</td><td>8</td></tr>\n",
              "\t<tr><th scope=row>Volvo 142E</th><td>21.4</td><td>4</td><td>121.0</td><td>109</td><td>4.11</td><td>2.780</td><td>18.60</td><td>1</td><td>1</td><td>4</td><td>2</td></tr>\n",
              "</tbody>\n",
              "</table>\n"
            ],
            "text/markdown": "\nA data.frame: 32 × 11\n\n| <!--/--> | mpg &lt;dbl&gt; | cyl &lt;dbl&gt; | disp &lt;dbl&gt; | hp &lt;dbl&gt; | drat &lt;dbl&gt; | wt &lt;dbl&gt; | qsec &lt;dbl&gt; | vs &lt;dbl&gt; | am &lt;dbl&gt; | gear &lt;dbl&gt; | carb &lt;dbl&gt; |\n|---|---|---|---|---|---|---|---|---|---|---|---|\n| Mazda RX4 | 21.0 | 6 | 160.0 | 110 | 3.90 | 2.620 | 16.46 | 0 | 1 | 4 | 4 |\n| Mazda RX4 Wag | 21.0 | 6 | 160.0 | 110 | 3.90 | 2.875 | 17.02 | 0 | 1 | 4 | 4 |\n| Datsun 710 | 22.8 | 4 | 108.0 |  93 | 3.85 | 2.320 | 18.61 | 1 | 1 | 4 | 1 |\n| Hornet 4 Drive | 21.4 | 6 | 258.0 | 110 | 3.08 | 3.215 | 19.44 | 1 | 0 | 3 | 1 |\n| Hornet Sportabout | 18.7 | 8 | 360.0 | 175 | 3.15 | 3.440 | 17.02 | 0 | 0 | 3 | 2 |\n| Valiant | 18.1 | 6 | 225.0 | 105 | 2.76 | 3.460 | 20.22 | 1 | 0 | 3 | 1 |\n| Duster 360 | 14.3 | 8 | 360.0 | 245 | 3.21 | 3.570 | 15.84 | 0 | 0 | 3 | 4 |\n| Merc 240D | 24.4 | 4 | 146.7 |  62 | 3.69 | 3.190 | 20.00 | 1 | 0 | 4 | 2 |\n| Merc 230 | 22.8 | 4 | 140.8 |  95 | 3.92 | 3.150 | 22.90 | 1 | 0 | 4 | 2 |\n| Merc 280 | 19.2 | 6 | 167.6 | 123 | 3.92 | 3.440 | 18.30 | 1 | 0 | 4 | 4 |\n| Merc 280C | 17.8 | 6 | 167.6 | 123 | 3.92 | 3.440 | 18.90 | 1 | 0 | 4 | 4 |\n| Merc 450SE | 16.4 | 8 | 275.8 | 180 | 3.07 | 4.070 | 17.40 | 0 | 0 | 3 | 3 |\n| Merc 450SL | 17.3 | 8 | 275.8 | 180 | 3.07 | 3.730 | 17.60 | 0 | 0 | 3 | 3 |\n| Merc 450SLC | 15.2 | 8 | 275.8 | 180 | 3.07 | 3.780 | 18.00 | 0 | 0 | 3 | 3 |\n| Cadillac Fleetwood | 10.4 | 8 | 472.0 | 205 | 2.93 | 5.250 | 17.98 | 0 | 0 | 3 | 4 |\n| Lincoln Continental | 10.4 | 8 | 460.0 | 215 | 3.00 | 5.424 | 17.82 | 0 | 0 | 3 | 4 |\n| Chrysler Imperial | 14.7 | 8 | 440.0 | 230 | 3.23 | 5.345 | 17.42 | 0 | 0 | 3 | 4 |\n| Fiat 128 | 32.4 | 4 |  78.7 |  66 | 4.08 | 2.200 | 19.47 | 1 | 1 | 4 | 1 |\n| Honda Civic | 30.4 | 4 |  75.7 |  52 | 4.93 | 1.615 | 18.52 | 1 | 1 | 4 | 2 |\n| Toyota Corolla | 33.9 | 4 |  71.1 |  65 | 4.22 | 1.835 | 19.90 | 1 | 1 | 4 | 1 |\n| Toyota Corona | 21.5 | 4 | 120.1 |  97 | 3.70 | 2.465 | 20.01 | 1 | 0 | 3 | 1 |\n| Dodge Challenger | 15.5 | 8 | 318.0 | 150 | 2.76 | 3.520 | 16.87 | 0 | 0 | 3 | 2 |\n| AMC Javelin | 15.2 | 8 | 304.0 | 150 | 3.15 | 3.435 | 17.30 | 0 | 0 | 3 | 2 |\n| Camaro Z28 | 13.3 | 8 | 350.0 | 245 | 3.73 | 3.840 | 15.41 | 0 | 0 | 3 | 4 |\n| Pontiac Firebird | 19.2 | 8 | 400.0 | 175 | 3.08 | 3.845 | 17.05 | 0 | 0 | 3 | 2 |\n| Fiat X1-9 | 27.3 | 4 |  79.0 |  66 | 4.08 | 1.935 | 18.90 | 1 | 1 | 4 | 1 |\n| Porsche 914-2 | 26.0 | 4 | 120.3 |  91 | 4.43 | 2.140 | 16.70 | 0 | 1 | 5 | 2 |\n| Lotus Europa | 30.4 | 4 |  95.1 | 113 | 3.77 | 1.513 | 16.90 | 1 | 1 | 5 | 2 |\n| Ford Pantera L | 15.8 | 8 | 351.0 | 264 | 4.22 | 3.170 | 14.50 | 0 | 1 | 5 | 4 |\n| Ferrari Dino | 19.7 | 6 | 145.0 | 175 | 3.62 | 2.770 | 15.50 | 0 | 1 | 5 | 6 |\n| Maserati Bora | 15.0 | 8 | 301.0 | 335 | 3.54 | 3.570 | 14.60 | 0 | 1 | 5 | 8 |\n| Volvo 142E | 21.4 | 4 | 121.0 | 109 | 4.11 | 2.780 | 18.60 | 1 | 1 | 4 | 2 |\n\n",
            "text/latex": "A data.frame: 32 × 11\n\\begin{tabular}{r|lllllllllll}\n  & mpg & cyl & disp & hp & drat & wt & qsec & vs & am & gear & carb\\\\\n  & <dbl> & <dbl> & <dbl> & <dbl> & <dbl> & <dbl> & <dbl> & <dbl> & <dbl> & <dbl> & <dbl>\\\\\n\\hline\n\tMazda RX4 & 21.0 & 6 & 160.0 & 110 & 3.90 & 2.620 & 16.46 & 0 & 1 & 4 & 4\\\\\n\tMazda RX4 Wag & 21.0 & 6 & 160.0 & 110 & 3.90 & 2.875 & 17.02 & 0 & 1 & 4 & 4\\\\\n\tDatsun 710 & 22.8 & 4 & 108.0 &  93 & 3.85 & 2.320 & 18.61 & 1 & 1 & 4 & 1\\\\\n\tHornet 4 Drive & 21.4 & 6 & 258.0 & 110 & 3.08 & 3.215 & 19.44 & 1 & 0 & 3 & 1\\\\\n\tHornet Sportabout & 18.7 & 8 & 360.0 & 175 & 3.15 & 3.440 & 17.02 & 0 & 0 & 3 & 2\\\\\n\tValiant & 18.1 & 6 & 225.0 & 105 & 2.76 & 3.460 & 20.22 & 1 & 0 & 3 & 1\\\\\n\tDuster 360 & 14.3 & 8 & 360.0 & 245 & 3.21 & 3.570 & 15.84 & 0 & 0 & 3 & 4\\\\\n\tMerc 240D & 24.4 & 4 & 146.7 &  62 & 3.69 & 3.190 & 20.00 & 1 & 0 & 4 & 2\\\\\n\tMerc 230 & 22.8 & 4 & 140.8 &  95 & 3.92 & 3.150 & 22.90 & 1 & 0 & 4 & 2\\\\\n\tMerc 280 & 19.2 & 6 & 167.6 & 123 & 3.92 & 3.440 & 18.30 & 1 & 0 & 4 & 4\\\\\n\tMerc 280C & 17.8 & 6 & 167.6 & 123 & 3.92 & 3.440 & 18.90 & 1 & 0 & 4 & 4\\\\\n\tMerc 450SE & 16.4 & 8 & 275.8 & 180 & 3.07 & 4.070 & 17.40 & 0 & 0 & 3 & 3\\\\\n\tMerc 450SL & 17.3 & 8 & 275.8 & 180 & 3.07 & 3.730 & 17.60 & 0 & 0 & 3 & 3\\\\\n\tMerc 450SLC & 15.2 & 8 & 275.8 & 180 & 3.07 & 3.780 & 18.00 & 0 & 0 & 3 & 3\\\\\n\tCadillac Fleetwood & 10.4 & 8 & 472.0 & 205 & 2.93 & 5.250 & 17.98 & 0 & 0 & 3 & 4\\\\\n\tLincoln Continental & 10.4 & 8 & 460.0 & 215 & 3.00 & 5.424 & 17.82 & 0 & 0 & 3 & 4\\\\\n\tChrysler Imperial & 14.7 & 8 & 440.0 & 230 & 3.23 & 5.345 & 17.42 & 0 & 0 & 3 & 4\\\\\n\tFiat 128 & 32.4 & 4 &  78.7 &  66 & 4.08 & 2.200 & 19.47 & 1 & 1 & 4 & 1\\\\\n\tHonda Civic & 30.4 & 4 &  75.7 &  52 & 4.93 & 1.615 & 18.52 & 1 & 1 & 4 & 2\\\\\n\tToyota Corolla & 33.9 & 4 &  71.1 &  65 & 4.22 & 1.835 & 19.90 & 1 & 1 & 4 & 1\\\\\n\tToyota Corona & 21.5 & 4 & 120.1 &  97 & 3.70 & 2.465 & 20.01 & 1 & 0 & 3 & 1\\\\\n\tDodge Challenger & 15.5 & 8 & 318.0 & 150 & 2.76 & 3.520 & 16.87 & 0 & 0 & 3 & 2\\\\\n\tAMC Javelin & 15.2 & 8 & 304.0 & 150 & 3.15 & 3.435 & 17.30 & 0 & 0 & 3 & 2\\\\\n\tCamaro Z28 & 13.3 & 8 & 350.0 & 245 & 3.73 & 3.840 & 15.41 & 0 & 0 & 3 & 4\\\\\n\tPontiac Firebird & 19.2 & 8 & 400.0 & 175 & 3.08 & 3.845 & 17.05 & 0 & 0 & 3 & 2\\\\\n\tFiat X1-9 & 27.3 & 4 &  79.0 &  66 & 4.08 & 1.935 & 18.90 & 1 & 1 & 4 & 1\\\\\n\tPorsche 914-2 & 26.0 & 4 & 120.3 &  91 & 4.43 & 2.140 & 16.70 & 0 & 1 & 5 & 2\\\\\n\tLotus Europa & 30.4 & 4 &  95.1 & 113 & 3.77 & 1.513 & 16.90 & 1 & 1 & 5 & 2\\\\\n\tFord Pantera L & 15.8 & 8 & 351.0 & 264 & 4.22 & 3.170 & 14.50 & 0 & 1 & 5 & 4\\\\\n\tFerrari Dino & 19.7 & 6 & 145.0 & 175 & 3.62 & 2.770 & 15.50 & 0 & 1 & 5 & 6\\\\\n\tMaserati Bora & 15.0 & 8 & 301.0 & 335 & 3.54 & 3.570 & 14.60 & 0 & 1 & 5 & 8\\\\\n\tVolvo 142E & 21.4 & 4 & 121.0 & 109 & 4.11 & 2.780 & 18.60 & 1 & 1 & 4 & 2\\\\\n\\end{tabular}\n",
            "text/plain": [
              "                    mpg  cyl disp  hp  drat wt    qsec  vs am gear carb\n",
              "Mazda RX4           21.0 6   160.0 110 3.90 2.620 16.46 0  1  4    4   \n",
              "Mazda RX4 Wag       21.0 6   160.0 110 3.90 2.875 17.02 0  1  4    4   \n",
              "Datsun 710          22.8 4   108.0  93 3.85 2.320 18.61 1  1  4    1   \n",
              "Hornet 4 Drive      21.4 6   258.0 110 3.08 3.215 19.44 1  0  3    1   \n",
              "Hornet Sportabout   18.7 8   360.0 175 3.15 3.440 17.02 0  0  3    2   \n",
              "Valiant             18.1 6   225.0 105 2.76 3.460 20.22 1  0  3    1   \n",
              "Duster 360          14.3 8   360.0 245 3.21 3.570 15.84 0  0  3    4   \n",
              "Merc 240D           24.4 4   146.7  62 3.69 3.190 20.00 1  0  4    2   \n",
              "Merc 230            22.8 4   140.8  95 3.92 3.150 22.90 1  0  4    2   \n",
              "Merc 280            19.2 6   167.6 123 3.92 3.440 18.30 1  0  4    4   \n",
              "Merc 280C           17.8 6   167.6 123 3.92 3.440 18.90 1  0  4    4   \n",
              "Merc 450SE          16.4 8   275.8 180 3.07 4.070 17.40 0  0  3    3   \n",
              "Merc 450SL          17.3 8   275.8 180 3.07 3.730 17.60 0  0  3    3   \n",
              "Merc 450SLC         15.2 8   275.8 180 3.07 3.780 18.00 0  0  3    3   \n",
              "Cadillac Fleetwood  10.4 8   472.0 205 2.93 5.250 17.98 0  0  3    4   \n",
              "Lincoln Continental 10.4 8   460.0 215 3.00 5.424 17.82 0  0  3    4   \n",
              "Chrysler Imperial   14.7 8   440.0 230 3.23 5.345 17.42 0  0  3    4   \n",
              "Fiat 128            32.4 4    78.7  66 4.08 2.200 19.47 1  1  4    1   \n",
              "Honda Civic         30.4 4    75.7  52 4.93 1.615 18.52 1  1  4    2   \n",
              "Toyota Corolla      33.9 4    71.1  65 4.22 1.835 19.90 1  1  4    1   \n",
              "Toyota Corona       21.5 4   120.1  97 3.70 2.465 20.01 1  0  3    1   \n",
              "Dodge Challenger    15.5 8   318.0 150 2.76 3.520 16.87 0  0  3    2   \n",
              "AMC Javelin         15.2 8   304.0 150 3.15 3.435 17.30 0  0  3    2   \n",
              "Camaro Z28          13.3 8   350.0 245 3.73 3.840 15.41 0  0  3    4   \n",
              "Pontiac Firebird    19.2 8   400.0 175 3.08 3.845 17.05 0  0  3    2   \n",
              "Fiat X1-9           27.3 4    79.0  66 4.08 1.935 18.90 1  1  4    1   \n",
              "Porsche 914-2       26.0 4   120.3  91 4.43 2.140 16.70 0  1  5    2   \n",
              "Lotus Europa        30.4 4    95.1 113 3.77 1.513 16.90 1  1  5    2   \n",
              "Ford Pantera L      15.8 8   351.0 264 4.22 3.170 14.50 0  1  5    4   \n",
              "Ferrari Dino        19.7 6   145.0 175 3.62 2.770 15.50 0  1  5    6   \n",
              "Maserati Bora       15.0 8   301.0 335 3.54 3.570 14.60 0  1  5    8   \n",
              "Volvo 142E          21.4 4   121.0 109 4.11 2.780 18.60 1  1  4    2   "
            ]
          },
          "metadata": {}
        }
      ]
    },
    {
      "cell_type": "code",
      "source": [
        "summary(mtcars$mpg)\n",
        "plot(mtcars$mpg, mtcars$disp)\n",
        "plot(mtcars$mpg, mtcars$wt)"
      ],
      "metadata": {
        "id": "npInihUnAJGk",
        "outputId": "418fcd36-30fd-4b99-aee4-9b10e8e03dea",
        "colab": {
          "base_uri": "https://localhost:8080/",
          "height": 892
        }
      },
      "execution_count": null,
      "outputs": [
        {
          "output_type": "display_data",
          "data": {
            "text/plain": [
              "   Min. 1st Qu.  Median    Mean 3rd Qu.    Max. \n",
              "  10.40   15.43   19.20   20.09   22.80   33.90 "
            ]
          },
          "metadata": {}
        },
        {
          "output_type": "display_data",
          "data": {
            "text/plain": [
              "plot without title"
            ],
            "image/png": "[encoded data removed]"
          },
          "metadata": {
            "image/png": {
              "width": 420,
              "height": 420
            }
          }
        },
        {
          "output_type": "display_data",
          "data": {
            "text/plain": [
              "plot without title"
            ],
            "image/png": "[encoded data removed]"
          },
          "metadata": {
            "image/png": {
              "width": 420,
              "height": 420
            }
          }
        }
      ]
    },
    {
      "cell_type": "code",
      "source": [
        "with(mtcars, {\n",
        "  summary(mpg)\n",
        "  plot(mpg, disp)\n",
        "  plot(mpg,wt)\n",
        "  })"
      ],
      "metadata": {
        "id": "rrbnWAPkBFWE",
        "outputId": "62de869f-7156-4acc-ac58-c84a3dfa7fb2",
        "colab": {
          "base_uri": "https://localhost:8080/",
          "height": 857
        }
      },
      "execution_count": null,
      "outputs": [
        {
          "output_type": "display_data",
          "data": {
            "text/plain": [
              "plot without title"
            ],
            "image/png": "[encoded data removed]"
          },
          "metadata": {
            "image/png": {
              "width": 420,
              "height": 420
            }
          }
        },
        {
          "output_type": "display_data",
          "data": {
            "text/plain": [
              "plot without title"
            ],
            "image/png": "[encoded data removed]"
          },
          "metadata": {
            "image/png": {
              "width": 420,
              "height": 420
            }
          }
        }
      ]
    },
    {
      "cell_type": "code",
      "source": [
        "with(mtcars, {\n",
        "  stats <- summary(mpg)\n",
        "  stats\n",
        "})\n",
        "stats\n",
        "# объект stats сохраняется только внутри скобок (особенность with)"
      ],
      "metadata": {
        "id": "fRhTSW70B8mc",
        "outputId": "0ce1d963-15a7-419a-fdcd-040c5e827745",
        "colab": {
          "base_uri": "https://localhost:8080/",
          "height": 106
        }
      },
      "execution_count": null,
      "outputs": [
        {
          "output_type": "display_data",
          "data": {
            "text/plain": [
              "   Min. 1st Qu.  Median    Mean 3rd Qu.    Max. \n",
              "  10.40   15.43   19.20   20.09   22.80   33.90 "
            ]
          },
          "metadata": {}
        },
        {
          "output_type": "error",
          "ename": "ERROR",
          "evalue": "Error in eval(expr, envir, enclos): object 'stats' not found\n",
          "traceback": [
            "Error in eval(expr, envir, enclos): object 'stats' not found\nTraceback:\n"
          ]
        }
      ]
    },
    {
      "cell_type": "code",
      "source": [
        "# чтобы сохранить вне скобок нужно двойное присваивание (<<-)\n",
        "with(mtcars, {\n",
        "  nokeepstats <-summary(mpg)\n",
        "  keepstats <<-summary(mpg)\n",
        "})\n",
        "keepstats\n",
        "nokeepstats"
      ],
      "metadata": {
        "id": "64rxrbgpKhwX",
        "outputId": "ec1f77d8-d829-4fd8-cf55-9c9309c8a628",
        "colab": {
          "base_uri": "https://localhost:8080/",
          "height": 106
        }
      },
      "execution_count": null,
      "outputs": [
        {
          "output_type": "display_data",
          "data": {
            "text/plain": [
              "   Min. 1st Qu.  Median    Mean 3rd Qu.    Max. \n",
              "  10.40   15.43   19.20   20.09   22.80   33.90 "
            ]
          },
          "metadata": {}
        },
        {
          "output_type": "error",
          "ename": "ERROR",
          "evalue": "Error in eval(expr, envir, enclos): object 'nokeepstats' not found\n",
          "traceback": [
            "Error in eval(expr, envir, enclos): object 'nokeepstats' not found\nTraceback:\n"
          ]
        }
      ]
    },
    {
      "cell_type": "code",
      "source": [
        "patientdata <-data.frame(patientID, age, diabetes, status, row.names = patientID)\n",
        "patientdata"
      ],
      "metadata": {
        "id": "0vQoVhvMlaFU",
        "outputId": "c6a42598-93b1-4dbe-9d50-58ae6961e1fb",
        "colab": {
          "base_uri": "https://localhost:8080/",
          "height": 223
        }
      },
      "execution_count": null,
      "outputs": [
        {
          "output_type": "display_data",
          "data": {
            "text/html": [
              "<table class=\"dataframe\">\n",
              "<caption>A data.frame: 4 × 4</caption>\n",
              "<thead>\n",
              "\t<tr><th></th><th scope=col>patientID</th><th scope=col>age</th><th scope=col>diabetes</th><th scope=col>status</th></tr>\n",
              "\t<tr><th></th><th scope=col>&lt;dbl&gt;</th><th scope=col>&lt;dbl&gt;</th><th scope=col>&lt;chr&gt;</th><th scope=col>&lt;chr&gt;</th></tr>\n",
              "</thead>\n",
              "<tbody>\n",
              "\t<tr><th scope=row>1</th><td>1</td><td>25</td><td>Type1</td><td>Poor     </td></tr>\n",
              "\t<tr><th scope=row>2</th><td>2</td><td>34</td><td>Type2</td><td>Improved </td></tr>\n",
              "\t<tr><th scope=row>3</th><td>3</td><td>28</td><td>Type1</td><td>Excellent</td></tr>\n",
              "\t<tr><th scope=row>4</th><td>4</td><td>52</td><td>Type1</td><td>Poor     </td></tr>\n",
              "</tbody>\n",
              "</table>\n"
            ],
            "text/markdown": "\nA data.frame: 4 × 4\n\n| <!--/--> | patientID &lt;dbl&gt; | age &lt;dbl&gt; | diabetes &lt;chr&gt; | status &lt;chr&gt; |\n|---|---|---|---|---|\n| 1 | 1 | 25 | Type1 | Poor      |\n| 2 | 2 | 34 | Type2 | Improved  |\n| 3 | 3 | 28 | Type1 | Excellent |\n| 4 | 4 | 52 | Type1 | Poor      |\n\n",
            "text/latex": "A data.frame: 4 × 4\n\\begin{tabular}{r|llll}\n  & patientID & age & diabetes & status\\\\\n  & <dbl> & <dbl> & <chr> & <chr>\\\\\n\\hline\n\t1 & 1 & 25 & Type1 & Poor     \\\\\n\t2 & 2 & 34 & Type2 & Improved \\\\\n\t3 & 3 & 28 & Type1 & Excellent\\\\\n\t4 & 4 & 52 & Type1 & Poor     \\\\\n\\end{tabular}\n",
            "text/plain": [
              "  patientID age diabetes status   \n",
              "1 1         25  Type1    Poor     \n",
              "2 2         34  Type2    Improved \n",
              "3 3         28  Type1    Excellent\n",
              "4 4         52  Type1    Poor     "
            ]
          },
          "metadata": {}
        }
      ]
    },
    {
      "cell_type": "markdown",
      "source": [
        "# Факторы\n",
        "\n",
        "Переменные бывают номинальными, порядковыми  и непрерывные.\n",
        "* Номинальные - категориальные, не имеющие определенного порядка (Тип диабета ($diabetes$) их нельзя сравнивать в терминах больше меньше.\n",
        "* Порядкове данные можно упорядочить, но нельзя оценить количественно(Переменная $status$).\n",
        "* Непрерывная переменная может принимать любое значение в пределах определенного диапазона(возраст выраженный в годах $age$.\n",
        "\n",
        "Категориальные (номинальные и порядковые) данные в в языке R называются $факторами$.\n",
        "\n",
        "Функция $factor()$ категориальные данные в виде вектора целых чисел в диапазоне [1...k], (где k - число уникальных значение категориальной переменной)\n",
        "\n",
        "Пример:\n",
        "\n",
        "$diabetes <- c(\"Type1\", \"Type2\", \"Type1\", \"Type1\", )$\n",
        "\n",
        "Инструкция $diabetes <- factor(diabetes)$ преобразует этот вектор в $(1, 2, 1, 1)$\n",
        "\n",
        "При работе с векторами, содержащими порядковые данные в вызов функции $factor()$ следует добавлять параметр $ordered = TRUE$. Во время любой обработки этого вектора он будет воспринят как порядковая переменная и к нему будут применяться соответствующие статистические методы.\n",
        "\n",
        "По умолчанию порядковые значения назначаются по алфавиту, но можно прописать порядок назначения:\n",
        "\n",
        "$status <- factor(status, order = TRUE, levels = c(\"Poor\", \"Improved\", \"Excellent\")) $\n",
        "\n",
        "Числовые переменные тоже можно определить как факторы, используя параметры $levels$ и $labeles$.\n",
        "\n",
        "$sex <- factor(sex, levels=c(1,2), labels=(\"Male\", \"Female\"))$ - преобразует переменную в неупорядоченный фактор. Другие значения отобразятся, как $missing$"
      ],
      "metadata": {
        "id": "QDKbjPEqyMcc"
      }
    },
    {
      "cell_type": "code",
      "source": [
        "# Ввод данных в виде векторов\n",
        "patientID <- c(1, 2, 3, 4)\n",
        "age <- c(25, 34, 28, 52)\n",
        "diabetes <- c(\"Type1\", \"Type2\", \"Type1\", \"Type1\")\n",
        "status <- c(\"Poor\", \"Improved\", \"Excellent\", \"Poor\")\n",
        "diabetes <- factor(diabetes)\n",
        "status <- factor(status, ordered = TRUE)\n",
        "patientdata <- data.frame(patientID, age, diabetes, status)\n",
        "patientdata\n",
        "# Вывод структуры объектов\n",
        "str(patientdata)\n",
        "# Вывод сводной статистики объекта\n",
        "summary(patientdata)"
      ],
      "metadata": {
        "id": "yXC0GPEzLI7f",
        "outputId": "ca667bd3-818f-45c3-c08c-fb44a334e509",
        "colab": {
          "base_uri": "https://localhost:8080/",
          "height": 431
        }
      },
      "execution_count": null,
      "outputs": [
        {
          "output_type": "display_data",
          "data": {
            "text/html": [
              "<table class=\"dataframe\">\n",
              "<caption>A data.frame: 4 × 4</caption>\n",
              "<thead>\n",
              "\t<tr><th scope=col>patientID</th><th scope=col>age</th><th scope=col>diabetes</th><th scope=col>status</th></tr>\n",
              "\t<tr><th scope=col>&lt;dbl&gt;</th><th scope=col>&lt;dbl&gt;</th><th scope=col>&lt;fct&gt;</th><th scope=col>&lt;ord&gt;</th></tr>\n",
              "</thead>\n",
              "<tbody>\n",
              "\t<tr><td>1</td><td>25</td><td>Type1</td><td>Poor     </td></tr>\n",
              "\t<tr><td>2</td><td>34</td><td>Type2</td><td>Improved </td></tr>\n",
              "\t<tr><td>3</td><td>28</td><td>Type1</td><td>Excellent</td></tr>\n",
              "\t<tr><td>4</td><td>52</td><td>Type1</td><td>Poor     </td></tr>\n",
              "</tbody>\n",
              "</table>\n"
            ],
            "text/markdown": "\nA data.frame: 4 × 4\n\n| patientID &lt;dbl&gt; | age &lt;dbl&gt; | diabetes &lt;fct&gt; | status &lt;ord&gt; |\n|---|---|---|---|\n| 1 | 25 | Type1 | Poor      |\n| 2 | 34 | Type2 | Improved  |\n| 3 | 28 | Type1 | Excellent |\n| 4 | 52 | Type1 | Poor      |\n\n",
            "text/latex": "A data.frame: 4 × 4\n\\begin{tabular}{llll}\n patientID & age & diabetes & status\\\\\n <dbl> & <dbl> & <fct> & <ord>\\\\\n\\hline\n\t 1 & 25 & Type1 & Poor     \\\\\n\t 2 & 34 & Type2 & Improved \\\\\n\t 3 & 28 & Type1 & Excellent\\\\\n\t 4 & 52 & Type1 & Poor     \\\\\n\\end{tabular}\n",
            "text/plain": [
              "  patientID age diabetes status   \n",
              "1 1         25  Type1    Poor     \n",
              "2 2         34  Type2    Improved \n",
              "3 3         28  Type1    Excellent\n",
              "4 4         52  Type1    Poor     "
            ]
          },
          "metadata": {}
        },
        {
          "output_type": "stream",
          "name": "stdout",
          "text": [
            "'data.frame':\t4 obs. of  4 variables:\n",
            " $ patientID: num  1 2 3 4\n",
            " $ age      : num  25 34 28 52\n",
            " $ diabetes : Factor w/ 2 levels \"Type1\",\"Type2\": 1 2 1 1\n",
            " $ status   : Ord.factor w/ 3 levels \"Excellent\"<\"Improved\"<..: 3 2 1 3\n"
          ]
        },
        {
          "output_type": "display_data",
          "data": {
            "text/plain": [
              "   patientID         age         diabetes       status \n",
              " Min.   :1.00   Min.   :25.00   Type1:3   Excellent:1  \n",
              " 1st Qu.:1.75   1st Qu.:27.25   Type2:1   Improved :1  \n",
              " Median :2.50   Median :31.00             Poor     :2  \n",
              " Mean   :2.50   Mean   :34.75                          \n",
              " 3rd Qu.:3.25   3rd Qu.:38.50                          \n",
              " Max.   :4.00   Max.   :52.00                          "
            ]
          },
          "metadata": {}
        }
      ]
    },
    {
      "cell_type": "markdown",
      "source": [
        "# Списки\n",
        "Самый сложный тип данных в R. Упорядоченная коллекция объектов (компонентов).\n",
        "Создаются списки при помощи функции $list()$:\n",
        "\n",
        "$$mylist <- list(объект1, объект2, ...)$$\n",
        "\n",
        ",где объекты - это любые структуры данных, упоминавшиеся до этого. Объектам в списке можно присваивать имена:\n",
        "\n",
        "$$mylist <- list(имя1 = объект1, имя2 = объект2, ...)$$\n"
      ],
      "metadata": {
        "id": "TDnLOoXSSaUS"
      }
    },
    {
      "cell_type": "code",
      "source": [
        "g <- \"My First List\"\n",
        "h <- c(25, 26, 18, 39)\n",
        "j <- matrix(1:10, nrow = 5)\n",
        "k <- c(\"one\", \"two\", \"three\")\n",
        "mylist <-list(title = g, ages= h, j, k) # Создание списка\n",
        "mylist # Вывод содержимого списка\n",
        "mylist[[2]]# Вывод второго компонента из списка\n",
        "mylist[[\"ages\"]]# или"
      ],
      "metadata": {
        "id": "9QiT7vtUVVxj",
        "outputId": "9cb07e87-7eed-4548-b4d7-7ccdbff4f216",
        "colab": {
          "base_uri": "https://localhost:8080/",
          "height": 427
        }
      },
      "execution_count": null,
      "outputs": [
        {
          "output_type": "display_data",
          "data": {
            "text/html": [
              "<dl>\n",
              "\t<dt>$title</dt>\n",
              "\t\t<dd>'My First List'</dd>\n",
              "\t<dt>$ages</dt>\n",
              "\t\t<dd><style>\n",
              ".list-inline {list-style: none; margin:0; padding: 0}\n",
              ".list-inline>li {display: inline-block}\n",
              ".list-inline>li:not(:last-child)::after {content: \"\\00b7\"; padding: 0 .5ex}\n",
              "</style>\n",
              "<ol class=list-inline><li>25</li><li>26</li><li>18</li><li>39</li></ol>\n",
              "</dd>\n",
              "\t<dt>[[3]]</dt>\n",
              "\t\t<dd><table class=\"dataframe\">\n",
              "<caption>A matrix: 5 × 2 of type int</caption>\n",
              "<tbody>\n",
              "\t<tr><td>1</td><td> 6</td></tr>\n",
              "\t<tr><td>2</td><td> 7</td></tr>\n",
              "\t<tr><td>3</td><td> 8</td></tr>\n",
              "\t<tr><td>4</td><td> 9</td></tr>\n",
              "\t<tr><td>5</td><td>10</td></tr>\n",
              "</tbody>\n",
              "</table>\n",
              "</dd>\n",
              "\t<dt>[[4]]</dt>\n",
              "\t\t<dd><style>\n",
              ".list-inline {list-style: none; margin:0; padding: 0}\n",
              ".list-inline>li {display: inline-block}\n",
              ".list-inline>li:not(:last-child)::after {content: \"\\00b7\"; padding: 0 .5ex}\n",
              "</style>\n",
              "<ol class=list-inline><li>'one'</li><li>'two'</li><li>'three'</li></ol>\n",
              "</dd>\n",
              "</dl>\n"
            ],
            "text/markdown": "$title\n:   'My First List'\n$ages\n:   1. 25\n2. 26\n3. 18\n4. 39\n\n\n\n[[3]]\n:   \nA matrix: 5 × 2 of type int\n\n| 1 |  6 |\n| 2 |  7 |\n| 3 |  8 |\n| 4 |  9 |\n| 5 | 10 |\n\n\n[[4]]\n:   1. 'one'\n2. 'two'\n3. 'three'\n\n\n\n\n\n",
            "text/latex": "\\begin{description}\n\\item[\\$title] 'My First List'\n\\item[\\$ages] \\begin{enumerate*}\n\\item 25\n\\item 26\n\\item 18\n\\item 39\n\\end{enumerate*}\n\n\\item[{[[3]]}] A matrix: 5 × 2 of type int\n\\begin{tabular}{ll}\n\t 1 &  6\\\\\n\t 2 &  7\\\\\n\t 3 &  8\\\\\n\t 4 &  9\\\\\n\t 5 & 10\\\\\n\\end{tabular}\n\n\\item[{[[4]]}] \\begin{enumerate*}\n\\item 'one'\n\\item 'two'\n\\item 'three'\n\\end{enumerate*}\n\n\\end{description}\n",
            "text/plain": [
              "$title\n",
              "[1] \"My First List\"\n",
              "\n",
              "$ages\n",
              "[1] 25 26 18 39\n",
              "\n",
              "[[3]]\n",
              "     [,1] [,2]\n",
              "[1,]    1    6\n",
              "[2,]    2    7\n",
              "[3,]    3    8\n",
              "[4,]    4    9\n",
              "[5,]    5   10\n",
              "\n",
              "[[4]]\n",
              "[1] \"one\"   \"two\"   \"three\"\n"
            ]
          },
          "metadata": {}
        },
        {
          "output_type": "display_data",
          "data": {
            "text/html": [
              "<style>\n",
              ".list-inline {list-style: none; margin:0; padding: 0}\n",
              ".list-inline>li {display: inline-block}\n",
              ".list-inline>li:not(:last-child)::after {content: \"\\00b7\"; padding: 0 .5ex}\n",
              "</style>\n",
              "<ol class=list-inline><li>25</li><li>26</li><li>18</li><li>39</li></ol>\n"
            ],
            "text/markdown": "1. 25\n2. 26\n3. 18\n4. 39\n\n\n",
            "text/latex": "\\begin{enumerate*}\n\\item 25\n\\item 26\n\\item 18\n\\item 39\n\\end{enumerate*}\n",
            "text/plain": [
              "[1] 25 26 18 39"
            ]
          },
          "metadata": {}
        },
        {
          "output_type": "display_data",
          "data": {
            "text/html": [
              "<style>\n",
              ".list-inline {list-style: none; margin:0; padding: 0}\n",
              ".list-inline>li {display: inline-block}\n",
              ".list-inline>li:not(:last-child)::after {content: \"\\00b7\"; padding: 0 .5ex}\n",
              "</style>\n",
              "<ol class=list-inline><li>25</li><li>26</li><li>18</li><li>39</li></ol>\n"
            ],
            "text/markdown": "1. 25\n2. 26\n3. 18\n4. 39\n\n\n",
            "text/latex": "\\begin{enumerate*}\n\\item 25\n\\item 26\n\\item 18\n\\item 39\n\\end{enumerate*}\n",
            "text/plain": [
              "[1] 25 26 18 39"
            ]
          },
          "metadata": {}
        }
      ]
    },
    {
      "cell_type": "markdown",
      "source": [
        "# Усовершенствованные таблицы данных (tibble)\n",
        "\n",
        "Они создаются с помощью функций: $tibble()$ или $as\\_tibble$\n",
        "\n",
        "Усовершенствованные таблицы выводятся в более компактном формате, а метки переменных включают описание их типов."
      ],
      "metadata": {
        "id": "mitjPDBhXgxs"
      }
    }
  ]
}