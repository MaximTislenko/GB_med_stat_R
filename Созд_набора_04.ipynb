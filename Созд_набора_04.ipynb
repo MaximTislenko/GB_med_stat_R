{
  "nbformat": 4,
  "nbformat_minor": 0,
  "metadata": {
    "colab": {
      "provenance": [],
      "include_colab_link": true
    },
    "kernelspec": {
      "name": "ir",
      "display_name": "R"
    },
    "language_info": {
      "name": "R"
    }
  },
  "cells": [
    {
      "cell_type": "markdown",
      "metadata": {
        "id": "view-in-github",
        "colab_type": "text"
      },
      "source": [
        "<a href=\"https://colab.research.google.com/github/MaximTislenko/GB_med_stat_R/blob/main/%D0%A1%D0%BE%D0%B7%D0%B4_%D0%BD%D0%B0%D0%B1%D0%BE%D1%80%D0%B0_04.ipynb\" target=\"_parent\"><img src=\"https://colab.research.google.com/assets/colab-badge.svg\" alt=\"Open In Colab\"/></a>"
      ]
    },
    {
      "cell_type": "markdown",
      "source": [
        "# Создание набора данных"
      ],
      "metadata": {
        "id": "yaZVoNFFoC1F"
      }
    },
    {
      "cell_type": "code",
      "execution_count": 1,
      "metadata": {
        "id": "AdrY4BSy4w1z",
        "outputId": "c54731f2-695a-41f4-eb69-027c681b96f9",
        "colab": {
          "base_uri": "https://localhost:8080/"
        }
      },
      "outputs": [
        {
          "output_type": "stream",
          "name": "stderr",
          "text": [
            "── \u001b[1mAttaching core tidyverse packages\u001b[22m ──────────────────────── tidyverse 2.0.0 ──\n",
            "\u001b[32m✔\u001b[39m \u001b[34mdplyr    \u001b[39m 1.1.4     \u001b[32m✔\u001b[39m \u001b[34mreadr    \u001b[39m 2.1.5\n",
            "\u001b[32m✔\u001b[39m \u001b[34mforcats  \u001b[39m 1.0.0     \u001b[32m✔\u001b[39m \u001b[34mstringr  \u001b[39m 1.5.1\n",
            "\u001b[32m✔\u001b[39m \u001b[34mggplot2  \u001b[39m 3.4.4     \u001b[32m✔\u001b[39m \u001b[34mtibble   \u001b[39m 3.2.1\n",
            "\u001b[32m✔\u001b[39m \u001b[34mlubridate\u001b[39m 1.9.3     \u001b[32m✔\u001b[39m \u001b[34mtidyr    \u001b[39m 1.3.1\n",
            "\u001b[32m✔\u001b[39m \u001b[34mpurrr    \u001b[39m 1.0.2     \n",
            "── \u001b[1mConflicts\u001b[22m ────────────────────────────────────────── tidyverse_conflicts() ──\n",
            "\u001b[31m✖\u001b[39m \u001b[34mpurrr\u001b[39m::\u001b[32m%||%()\u001b[39m   masks \u001b[34mbase\u001b[39m::%||%()\n",
            "\u001b[31m✖\u001b[39m \u001b[34mdplyr\u001b[39m::\u001b[32mfilter()\u001b[39m masks \u001b[34mstats\u001b[39m::filter()\n",
            "\u001b[31m✖\u001b[39m \u001b[34mdplyr\u001b[39m::\u001b[32mlag()\u001b[39m    masks \u001b[34mstats\u001b[39m::lag()\n",
            "\u001b[36mℹ\u001b[39m Use the conflicted package (\u001b[3m\u001b[34m<http://conflicted.r-lib.org/>\u001b[39m\u001b[23m) to force all conflicts to become errors\n"
          ]
        }
      ],
      "source": [
        "library(tidyverse)\n",
        "library(readxl)"
      ]
    },
    {
      "cell_type": "markdown",
      "source": [
        "# Основы управления данными"
      ],
      "metadata": {
        "id": "MZJyHFv-whvR"
      }
    },
    {
      "cell_type": "code",
      "source": [
        "leadership <- data.frame(\n",
        "  manager = c(1, 2, 3, 4, 5),\n",
        "  date = c(\"10/24/08\", \"10/28/08\", \"10/1/08\", \"10/12/08\", \"5/1/09\"),\n",
        "  country = c(\"US\", \"US\", \"UK\", \"UK\", \"UK\"),\n",
        "  gender = c(\"M\", \"F\", \"F\", \"M\", \"F\"),\n",
        "  age = c(32, 45, 25, 39, 99),\n",
        "  q1 = c(5, 3, 3, 3, 2),\n",
        "  q2 = c(4, 5, 5, 3, 2),\n",
        "  q3 = c(5, 2, 5, 4, 1),\n",
        "  q4 = c(5, 5, 5, NA, 2),\n",
        "  q5 = c(5, 5, 2, NA, 1)\n",
        "  )\n",
        "\n",
        "leadership"
      ],
      "metadata": {
        "id": "yVZvv71cwtnD",
        "outputId": "a7114c89-bf19-4b8a-a5fe-a089302612a8",
        "colab": {
          "base_uri": "https://localhost:8080/",
          "height": 255
        }
      },
      "execution_count": 2,
      "outputs": [
        {
          "output_type": "display_data",
          "data": {
            "text/html": [
              "<table class=\"dataframe\">\n",
              "<caption>A data.frame: 5 × 10</caption>\n",
              "<thead>\n",
              "\t<tr><th scope=col>manager</th><th scope=col>date</th><th scope=col>country</th><th scope=col>gender</th><th scope=col>age</th><th scope=col>q1</th><th scope=col>q2</th><th scope=col>q3</th><th scope=col>q4</th><th scope=col>q5</th></tr>\n",
              "\t<tr><th scope=col>&lt;dbl&gt;</th><th scope=col>&lt;chr&gt;</th><th scope=col>&lt;chr&gt;</th><th scope=col>&lt;chr&gt;</th><th scope=col>&lt;dbl&gt;</th><th scope=col>&lt;dbl&gt;</th><th scope=col>&lt;dbl&gt;</th><th scope=col>&lt;dbl&gt;</th><th scope=col>&lt;dbl&gt;</th><th scope=col>&lt;dbl&gt;</th></tr>\n",
              "</thead>\n",
              "<tbody>\n",
              "\t<tr><td>1</td><td>10/24/08</td><td>US</td><td>M</td><td>32</td><td>5</td><td>4</td><td>5</td><td> 5</td><td> 5</td></tr>\n",
              "\t<tr><td>2</td><td>10/28/08</td><td>US</td><td>F</td><td>45</td><td>3</td><td>5</td><td>2</td><td> 5</td><td> 5</td></tr>\n",
              "\t<tr><td>3</td><td>10/1/08 </td><td>UK</td><td>F</td><td>25</td><td>3</td><td>5</td><td>5</td><td> 5</td><td> 2</td></tr>\n",
              "\t<tr><td>4</td><td>10/12/08</td><td>UK</td><td>M</td><td>39</td><td>3</td><td>3</td><td>4</td><td>NA</td><td>NA</td></tr>\n",
              "\t<tr><td>5</td><td>5/1/09  </td><td>UK</td><td>F</td><td>99</td><td>2</td><td>2</td><td>1</td><td> 2</td><td> 1</td></tr>\n",
              "</tbody>\n",
              "</table>\n"
            ],
            "text/markdown": "\nA data.frame: 5 × 10\n\n| manager &lt;dbl&gt; | date &lt;chr&gt; | country &lt;chr&gt; | gender &lt;chr&gt; | age &lt;dbl&gt; | q1 &lt;dbl&gt; | q2 &lt;dbl&gt; | q3 &lt;dbl&gt; | q4 &lt;dbl&gt; | q5 &lt;dbl&gt; |\n|---|---|---|---|---|---|---|---|---|---|\n| 1 | 10/24/08 | US | M | 32 | 5 | 4 | 5 |  5 |  5 |\n| 2 | 10/28/08 | US | F | 45 | 3 | 5 | 2 |  5 |  5 |\n| 3 | 10/1/08  | UK | F | 25 | 3 | 5 | 5 |  5 |  2 |\n| 4 | 10/12/08 | UK | M | 39 | 3 | 3 | 4 | NA | NA |\n| 5 | 5/1/09   | UK | F | 99 | 2 | 2 | 1 |  2 |  1 |\n\n",
            "text/latex": "A data.frame: 5 × 10\n\\begin{tabular}{llllllllll}\n manager & date & country & gender & age & q1 & q2 & q3 & q4 & q5\\\\\n <dbl> & <chr> & <chr> & <chr> & <dbl> & <dbl> & <dbl> & <dbl> & <dbl> & <dbl>\\\\\n\\hline\n\t 1 & 10/24/08 & US & M & 32 & 5 & 4 & 5 &  5 &  5\\\\\n\t 2 & 10/28/08 & US & F & 45 & 3 & 5 & 2 &  5 &  5\\\\\n\t 3 & 10/1/08  & UK & F & 25 & 3 & 5 & 5 &  5 &  2\\\\\n\t 4 & 10/12/08 & UK & M & 39 & 3 & 3 & 4 & NA & NA\\\\\n\t 5 & 5/1/09   & UK & F & 99 & 2 & 2 & 1 &  2 &  1\\\\\n\\end{tabular}\n",
            "text/plain": [
              "  manager date     country gender age q1 q2 q3 q4 q5\n",
              "1 1       10/24/08 US      M      32  5  4  5   5  5\n",
              "2 2       10/28/08 US      F      45  3  5  2   5  5\n",
              "3 3       10/1/08  UK      F      25  3  5  5   5  2\n",
              "4 4       10/12/08 UK      M      39  3  3  4  NA NA\n",
              "5 5       5/1/09   UK      F      99  2  2  1   2  1"
            ]
          },
          "metadata": {}
        }
      ]
    },
    {
      "cell_type": "markdown",
      "source": [
        "## Создание новых переменных\n",
        "\n",
        "Чаще всего используется операция присваивания:\n",
        "\n",
        "переменная <- выражение\n",
        "\n",
        "* $+$ -  Сложение\n",
        "* $-$ - Вычитание\n",
        "* $*$ - Умножение\n",
        "* $/$ - Деление\n",
        "* ^ или $**$ - Возведение в степень\n",
        "* x%%y -  Деление по модулю (остаток от деления) x на y: 5%%2=1\n",
        "* x%/%y -  Деление нацело x на y: 5%/%2=2"
      ],
      "metadata": {
        "id": "QH1v4n3R_ldz"
      }
    },
    {
      "cell_type": "code",
      "source": [
        "# первый способ\n",
        "leadership$total_score <- leadership$q1 + leadership$q2 + leadership$q3 + leadership$q4 + leadership$q5\n",
        "leadership$mean_score <- (leadership$q1 + leadership$q2 + leadership$q3 + leadership$q4 + leadership$q5)/5\n",
        "leadership"
      ],
      "metadata": {
        "id": "Co15kfh6_lBz",
        "outputId": "2311483e-e995-410a-a44c-abeb2a2cc44e",
        "colab": {
          "base_uri": "https://localhost:8080/",
          "height": 255
        }
      },
      "execution_count": 3,
      "outputs": [
        {
          "output_type": "display_data",
          "data": {
            "text/html": [
              "<table class=\"dataframe\">\n",
              "<caption>A data.frame: 5 × 12</caption>\n",
              "<thead>\n",
              "\t<tr><th scope=col>manager</th><th scope=col>date</th><th scope=col>country</th><th scope=col>gender</th><th scope=col>age</th><th scope=col>q1</th><th scope=col>q2</th><th scope=col>q3</th><th scope=col>q4</th><th scope=col>q5</th><th scope=col>total_score</th><th scope=col>mean_score</th></tr>\n",
              "\t<tr><th scope=col>&lt;dbl&gt;</th><th scope=col>&lt;chr&gt;</th><th scope=col>&lt;chr&gt;</th><th scope=col>&lt;chr&gt;</th><th scope=col>&lt;dbl&gt;</th><th scope=col>&lt;dbl&gt;</th><th scope=col>&lt;dbl&gt;</th><th scope=col>&lt;dbl&gt;</th><th scope=col>&lt;dbl&gt;</th><th scope=col>&lt;dbl&gt;</th><th scope=col>&lt;dbl&gt;</th><th scope=col>&lt;dbl&gt;</th></tr>\n",
              "</thead>\n",
              "<tbody>\n",
              "\t<tr><td>1</td><td>10/24/08</td><td>US</td><td>M</td><td>32</td><td>5</td><td>4</td><td>5</td><td> 5</td><td> 5</td><td>24</td><td>4.8</td></tr>\n",
              "\t<tr><td>2</td><td>10/28/08</td><td>US</td><td>F</td><td>45</td><td>3</td><td>5</td><td>2</td><td> 5</td><td> 5</td><td>20</td><td>4.0</td></tr>\n",
              "\t<tr><td>3</td><td>10/1/08 </td><td>UK</td><td>F</td><td>25</td><td>3</td><td>5</td><td>5</td><td> 5</td><td> 2</td><td>20</td><td>4.0</td></tr>\n",
              "\t<tr><td>4</td><td>10/12/08</td><td>UK</td><td>M</td><td>39</td><td>3</td><td>3</td><td>4</td><td>NA</td><td>NA</td><td>NA</td><td> NA</td></tr>\n",
              "\t<tr><td>5</td><td>5/1/09  </td><td>UK</td><td>F</td><td>99</td><td>2</td><td>2</td><td>1</td><td> 2</td><td> 1</td><td> 8</td><td>1.6</td></tr>\n",
              "</tbody>\n",
              "</table>\n"
            ],
            "text/markdown": "\nA data.frame: 5 × 12\n\n| manager &lt;dbl&gt; | date &lt;chr&gt; | country &lt;chr&gt; | gender &lt;chr&gt; | age &lt;dbl&gt; | q1 &lt;dbl&gt; | q2 &lt;dbl&gt; | q3 &lt;dbl&gt; | q4 &lt;dbl&gt; | q5 &lt;dbl&gt; | total_score &lt;dbl&gt; | mean_score &lt;dbl&gt; |\n|---|---|---|---|---|---|---|---|---|---|---|---|\n| 1 | 10/24/08 | US | M | 32 | 5 | 4 | 5 |  5 |  5 | 24 | 4.8 |\n| 2 | 10/28/08 | US | F | 45 | 3 | 5 | 2 |  5 |  5 | 20 | 4.0 |\n| 3 | 10/1/08  | UK | F | 25 | 3 | 5 | 5 |  5 |  2 | 20 | 4.0 |\n| 4 | 10/12/08 | UK | M | 39 | 3 | 3 | 4 | NA | NA | NA |  NA |\n| 5 | 5/1/09   | UK | F | 99 | 2 | 2 | 1 |  2 |  1 |  8 | 1.6 |\n\n",
            "text/latex": "A data.frame: 5 × 12\n\\begin{tabular}{llllllllllll}\n manager & date & country & gender & age & q1 & q2 & q3 & q4 & q5 & total\\_score & mean\\_score\\\\\n <dbl> & <chr> & <chr> & <chr> & <dbl> & <dbl> & <dbl> & <dbl> & <dbl> & <dbl> & <dbl> & <dbl>\\\\\n\\hline\n\t 1 & 10/24/08 & US & M & 32 & 5 & 4 & 5 &  5 &  5 & 24 & 4.8\\\\\n\t 2 & 10/28/08 & US & F & 45 & 3 & 5 & 2 &  5 &  5 & 20 & 4.0\\\\\n\t 3 & 10/1/08  & UK & F & 25 & 3 & 5 & 5 &  5 &  2 & 20 & 4.0\\\\\n\t 4 & 10/12/08 & UK & M & 39 & 3 & 3 & 4 & NA & NA & NA &  NA\\\\\n\t 5 & 5/1/09   & UK & F & 99 & 2 & 2 & 1 &  2 &  1 &  8 & 1.6\\\\\n\\end{tabular}\n",
            "text/plain": [
              "  manager date     country gender age q1 q2 q3 q4 q5 total_score mean_score\n",
              "1 1       10/24/08 US      M      32  5  4  5   5  5 24          4.8       \n",
              "2 2       10/28/08 US      F      45  3  5  2   5  5 20          4.0       \n",
              "3 3       10/1/08  UK      F      25  3  5  5   5  2 20          4.0       \n",
              "4 4       10/12/08 UK      M      39  3  3  4  NA NA NA           NA       \n",
              "5 5       5/1/09   UK      F      99  2  2  1   2  1  8          1.6       "
            ]
          },
          "metadata": {}
        }
      ]
    },
    {
      "cell_type": "code",
      "source": [
        "# второй способ\n",
        "leadership <- transform(leadership,\n",
        "total_score = q1 + q2 + q3 + q4 + q5,\n",
        "mean_score = (q1 + q2 + q3 + q4 + q5)/5)\n",
        "leadership"
      ],
      "metadata": {
        "id": "3BnErCgLBOtc",
        "outputId": "9499b0ea-8067-4aaf-bbe8-f2fe883a8228",
        "colab": {
          "base_uri": "https://localhost:8080/",
          "height": 255
        }
      },
      "execution_count": 4,
      "outputs": [
        {
          "output_type": "display_data",
          "data": {
            "text/html": [
              "<table class=\"dataframe\">\n",
              "<caption>A data.frame: 5 × 12</caption>\n",
              "<thead>\n",
              "\t<tr><th scope=col>manager</th><th scope=col>date</th><th scope=col>country</th><th scope=col>gender</th><th scope=col>age</th><th scope=col>q1</th><th scope=col>q2</th><th scope=col>q3</th><th scope=col>q4</th><th scope=col>q5</th><th scope=col>total_score</th><th scope=col>mean_score</th></tr>\n",
              "\t<tr><th scope=col>&lt;dbl&gt;</th><th scope=col>&lt;chr&gt;</th><th scope=col>&lt;chr&gt;</th><th scope=col>&lt;chr&gt;</th><th scope=col>&lt;dbl&gt;</th><th scope=col>&lt;dbl&gt;</th><th scope=col>&lt;dbl&gt;</th><th scope=col>&lt;dbl&gt;</th><th scope=col>&lt;dbl&gt;</th><th scope=col>&lt;dbl&gt;</th><th scope=col>&lt;dbl&gt;</th><th scope=col>&lt;dbl&gt;</th></tr>\n",
              "</thead>\n",
              "<tbody>\n",
              "\t<tr><td>1</td><td>10/24/08</td><td>US</td><td>M</td><td>32</td><td>5</td><td>4</td><td>5</td><td> 5</td><td> 5</td><td>24</td><td>4.8</td></tr>\n",
              "\t<tr><td>2</td><td>10/28/08</td><td>US</td><td>F</td><td>45</td><td>3</td><td>5</td><td>2</td><td> 5</td><td> 5</td><td>20</td><td>4.0</td></tr>\n",
              "\t<tr><td>3</td><td>10/1/08 </td><td>UK</td><td>F</td><td>25</td><td>3</td><td>5</td><td>5</td><td> 5</td><td> 2</td><td>20</td><td>4.0</td></tr>\n",
              "\t<tr><td>4</td><td>10/12/08</td><td>UK</td><td>M</td><td>39</td><td>3</td><td>3</td><td>4</td><td>NA</td><td>NA</td><td>NA</td><td> NA</td></tr>\n",
              "\t<tr><td>5</td><td>5/1/09  </td><td>UK</td><td>F</td><td>99</td><td>2</td><td>2</td><td>1</td><td> 2</td><td> 1</td><td> 8</td><td>1.6</td></tr>\n",
              "</tbody>\n",
              "</table>\n"
            ],
            "text/markdown": "\nA data.frame: 5 × 12\n\n| manager &lt;dbl&gt; | date &lt;chr&gt; | country &lt;chr&gt; | gender &lt;chr&gt; | age &lt;dbl&gt; | q1 &lt;dbl&gt; | q2 &lt;dbl&gt; | q3 &lt;dbl&gt; | q4 &lt;dbl&gt; | q5 &lt;dbl&gt; | total_score &lt;dbl&gt; | mean_score &lt;dbl&gt; |\n|---|---|---|---|---|---|---|---|---|---|---|---|\n| 1 | 10/24/08 | US | M | 32 | 5 | 4 | 5 |  5 |  5 | 24 | 4.8 |\n| 2 | 10/28/08 | US | F | 45 | 3 | 5 | 2 |  5 |  5 | 20 | 4.0 |\n| 3 | 10/1/08  | UK | F | 25 | 3 | 5 | 5 |  5 |  2 | 20 | 4.0 |\n| 4 | 10/12/08 | UK | M | 39 | 3 | 3 | 4 | NA | NA | NA |  NA |\n| 5 | 5/1/09   | UK | F | 99 | 2 | 2 | 1 |  2 |  1 |  8 | 1.6 |\n\n",
            "text/latex": "A data.frame: 5 × 12\n\\begin{tabular}{llllllllllll}\n manager & date & country & gender & age & q1 & q2 & q3 & q4 & q5 & total\\_score & mean\\_score\\\\\n <dbl> & <chr> & <chr> & <chr> & <dbl> & <dbl> & <dbl> & <dbl> & <dbl> & <dbl> & <dbl> & <dbl>\\\\\n\\hline\n\t 1 & 10/24/08 & US & M & 32 & 5 & 4 & 5 &  5 &  5 & 24 & 4.8\\\\\n\t 2 & 10/28/08 & US & F & 45 & 3 & 5 & 2 &  5 &  5 & 20 & 4.0\\\\\n\t 3 & 10/1/08  & UK & F & 25 & 3 & 5 & 5 &  5 &  2 & 20 & 4.0\\\\\n\t 4 & 10/12/08 & UK & M & 39 & 3 & 3 & 4 & NA & NA & NA &  NA\\\\\n\t 5 & 5/1/09   & UK & F & 99 & 2 & 2 & 1 &  2 &  1 &  8 & 1.6\\\\\n\\end{tabular}\n",
            "text/plain": [
              "  manager date     country gender age q1 q2 q3 q4 q5 total_score mean_score\n",
              "1 1       10/24/08 US      M      32  5  4  5   5  5 24          4.8       \n",
              "2 2       10/28/08 US      F      45  3  5  2   5  5 20          4.0       \n",
              "3 3       10/1/08  UK      F      25  3  5  5   5  2 20          4.0       \n",
              "4 4       10/12/08 UK      M      39  3  3  4  NA NA NA           NA       \n",
              "5 5       5/1/09   UK      F      99  2  2  1   2  1  8          1.6       "
            ]
          },
          "metadata": {}
        }
      ]
    },
    {
      "cell_type": "markdown",
      "source": [
        "## Перекодирование переменных\n",
        "Логические переменные:\n",
        "* $<$ - Меньше, чем\n",
        "* $<=$ - Меньше или равно\n",
        "* $>$ - Больше, чем\n",
        "* $>=$ - Больше или равно\n",
        "* $==$ - Точно равно\n",
        "* $!=$ - Не равно\n",
        "* $!x$ - Инверсия x (НЕ x)\n",
        "* $x | y$ - x ИЛИ y\n",
        "* x&y - x И y\n",
        "* $isTRUE(x)$ -Проверяет истинность значения x\n",
        "\n",
        "Задачи:\n",
        "* преобразовать непрерывные данные в категориальные;\n",
        "* заменить ошибочные данные правильными значениями;\n",
        "* создать переменную типа «сдал / не сдал» на основе экзаменационных баллов."
      ],
      "metadata": {
        "id": "pL-QcPE1RjXa"
      }
    },
    {
      "cell_type": "code",
      "source": [
        "leadership$age[leadership$age == 99] <- NA\n",
        "leadership"
      ],
      "metadata": {
        "id": "cXy_KkcKSyvi",
        "outputId": "bce69342-8af3-4e2e-8be1-e4b36037a2f3",
        "colab": {
          "base_uri": "https://localhost:8080/",
          "height": 255
        }
      },
      "execution_count": 5,
      "outputs": [
        {
          "output_type": "display_data",
          "data": {
            "text/html": [
              "<table class=\"dataframe\">\n",
              "<caption>A data.frame: 5 × 12</caption>\n",
              "<thead>\n",
              "\t<tr><th scope=col>manager</th><th scope=col>date</th><th scope=col>country</th><th scope=col>gender</th><th scope=col>age</th><th scope=col>q1</th><th scope=col>q2</th><th scope=col>q3</th><th scope=col>q4</th><th scope=col>q5</th><th scope=col>total_score</th><th scope=col>mean_score</th></tr>\n",
              "\t<tr><th scope=col>&lt;dbl&gt;</th><th scope=col>&lt;chr&gt;</th><th scope=col>&lt;chr&gt;</th><th scope=col>&lt;chr&gt;</th><th scope=col>&lt;dbl&gt;</th><th scope=col>&lt;dbl&gt;</th><th scope=col>&lt;dbl&gt;</th><th scope=col>&lt;dbl&gt;</th><th scope=col>&lt;dbl&gt;</th><th scope=col>&lt;dbl&gt;</th><th scope=col>&lt;dbl&gt;</th><th scope=col>&lt;dbl&gt;</th></tr>\n",
              "</thead>\n",
              "<tbody>\n",
              "\t<tr><td>1</td><td>10/24/08</td><td>US</td><td>M</td><td>32</td><td>5</td><td>4</td><td>5</td><td> 5</td><td> 5</td><td>24</td><td>4.8</td></tr>\n",
              "\t<tr><td>2</td><td>10/28/08</td><td>US</td><td>F</td><td>45</td><td>3</td><td>5</td><td>2</td><td> 5</td><td> 5</td><td>20</td><td>4.0</td></tr>\n",
              "\t<tr><td>3</td><td>10/1/08 </td><td>UK</td><td>F</td><td>25</td><td>3</td><td>5</td><td>5</td><td> 5</td><td> 2</td><td>20</td><td>4.0</td></tr>\n",
              "\t<tr><td>4</td><td>10/12/08</td><td>UK</td><td>M</td><td>39</td><td>3</td><td>3</td><td>4</td><td>NA</td><td>NA</td><td>NA</td><td> NA</td></tr>\n",
              "\t<tr><td>5</td><td>5/1/09  </td><td>UK</td><td>F</td><td>NA</td><td>2</td><td>2</td><td>1</td><td> 2</td><td> 1</td><td> 8</td><td>1.6</td></tr>\n",
              "</tbody>\n",
              "</table>\n"
            ],
            "text/markdown": "\nA data.frame: 5 × 12\n\n| manager &lt;dbl&gt; | date &lt;chr&gt; | country &lt;chr&gt; | gender &lt;chr&gt; | age &lt;dbl&gt; | q1 &lt;dbl&gt; | q2 &lt;dbl&gt; | q3 &lt;dbl&gt; | q4 &lt;dbl&gt; | q5 &lt;dbl&gt; | total_score &lt;dbl&gt; | mean_score &lt;dbl&gt; |\n|---|---|---|---|---|---|---|---|---|---|---|---|\n| 1 | 10/24/08 | US | M | 32 | 5 | 4 | 5 |  5 |  5 | 24 | 4.8 |\n| 2 | 10/28/08 | US | F | 45 | 3 | 5 | 2 |  5 |  5 | 20 | 4.0 |\n| 3 | 10/1/08  | UK | F | 25 | 3 | 5 | 5 |  5 |  2 | 20 | 4.0 |\n| 4 | 10/12/08 | UK | M | 39 | 3 | 3 | 4 | NA | NA | NA |  NA |\n| 5 | 5/1/09   | UK | F | NA | 2 | 2 | 1 |  2 |  1 |  8 | 1.6 |\n\n",
            "text/latex": "A data.frame: 5 × 12\n\\begin{tabular}{llllllllllll}\n manager & date & country & gender & age & q1 & q2 & q3 & q4 & q5 & total\\_score & mean\\_score\\\\\n <dbl> & <chr> & <chr> & <chr> & <dbl> & <dbl> & <dbl> & <dbl> & <dbl> & <dbl> & <dbl> & <dbl>\\\\\n\\hline\n\t 1 & 10/24/08 & US & M & 32 & 5 & 4 & 5 &  5 &  5 & 24 & 4.8\\\\\n\t 2 & 10/28/08 & US & F & 45 & 3 & 5 & 2 &  5 &  5 & 20 & 4.0\\\\\n\t 3 & 10/1/08  & UK & F & 25 & 3 & 5 & 5 &  5 &  2 & 20 & 4.0\\\\\n\t 4 & 10/12/08 & UK & M & 39 & 3 & 3 & 4 & NA & NA & NA &  NA\\\\\n\t 5 & 5/1/09   & UK & F & NA & 2 & 2 & 1 &  2 &  1 &  8 & 1.6\\\\\n\\end{tabular}\n",
            "text/plain": [
              "  manager date     country gender age q1 q2 q3 q4 q5 total_score mean_score\n",
              "1 1       10/24/08 US      M      32  5  4  5   5  5 24          4.8       \n",
              "2 2       10/28/08 US      F      45  3  5  2   5  5 20          4.0       \n",
              "3 3       10/1/08  UK      F      25  3  5  5   5  2 20          4.0       \n",
              "4 4       10/12/08 UK      M      39  3  3  4  NA NA NA           NA       \n",
              "5 5       5/1/09   UK      F      NA  2  2  1   2  1  8          1.6       "
            ]
          },
          "metadata": {}
        }
      ]
    },
    {
      "cell_type": "code",
      "source": [
        "#  используется функция within, она похожа на with, но позволяет модифицировать таблицу\n",
        "leadership <- within(leadership,{\n",
        "  agecat <- NA\n",
        "  agecat[age > 75] <- \"Elder\"\n",
        "  agecat[age >= 55 & age <= 75] <- \"Middle Aged\"\n",
        "  agecat[age < 55] <- \"Young\"\n",
        "  })\n",
        "leadership\n",
        "# дополнительные функции перекодирования recode() - в пакете car, recodeVar() - в пакете doBy, cut() - R"
      ],
      "metadata": {
        "id": "7IfBnrltUQqV",
        "outputId": "beb45dfd-6e4d-4e64-934b-75d8f02bd3fc",
        "colab": {
          "base_uri": "https://localhost:8080/",
          "height": 255
        }
      },
      "execution_count": 6,
      "outputs": [
        {
          "output_type": "display_data",
          "data": {
            "text/html": [
              "<table class=\"dataframe\">\n",
              "<caption>A data.frame: 5 × 13</caption>\n",
              "<thead>\n",
              "\t<tr><th scope=col>manager</th><th scope=col>date</th><th scope=col>country</th><th scope=col>gender</th><th scope=col>age</th><th scope=col>q1</th><th scope=col>q2</th><th scope=col>q3</th><th scope=col>q4</th><th scope=col>q5</th><th scope=col>total_score</th><th scope=col>mean_score</th><th scope=col>agecat</th></tr>\n",
              "\t<tr><th scope=col>&lt;dbl&gt;</th><th scope=col>&lt;chr&gt;</th><th scope=col>&lt;chr&gt;</th><th scope=col>&lt;chr&gt;</th><th scope=col>&lt;dbl&gt;</th><th scope=col>&lt;dbl&gt;</th><th scope=col>&lt;dbl&gt;</th><th scope=col>&lt;dbl&gt;</th><th scope=col>&lt;dbl&gt;</th><th scope=col>&lt;dbl&gt;</th><th scope=col>&lt;dbl&gt;</th><th scope=col>&lt;dbl&gt;</th><th scope=col>&lt;chr&gt;</th></tr>\n",
              "</thead>\n",
              "<tbody>\n",
              "\t<tr><td>1</td><td>10/24/08</td><td>US</td><td>M</td><td>32</td><td>5</td><td>4</td><td>5</td><td> 5</td><td> 5</td><td>24</td><td>4.8</td><td>Young</td></tr>\n",
              "\t<tr><td>2</td><td>10/28/08</td><td>US</td><td>F</td><td>45</td><td>3</td><td>5</td><td>2</td><td> 5</td><td> 5</td><td>20</td><td>4.0</td><td>Young</td></tr>\n",
              "\t<tr><td>3</td><td>10/1/08 </td><td>UK</td><td>F</td><td>25</td><td>3</td><td>5</td><td>5</td><td> 5</td><td> 2</td><td>20</td><td>4.0</td><td>Young</td></tr>\n",
              "\t<tr><td>4</td><td>10/12/08</td><td>UK</td><td>M</td><td>39</td><td>3</td><td>3</td><td>4</td><td>NA</td><td>NA</td><td>NA</td><td> NA</td><td>Young</td></tr>\n",
              "\t<tr><td>5</td><td>5/1/09  </td><td>UK</td><td>F</td><td>NA</td><td>2</td><td>2</td><td>1</td><td> 2</td><td> 1</td><td> 8</td><td>1.6</td><td>NA   </td></tr>\n",
              "</tbody>\n",
              "</table>\n"
            ],
            "text/markdown": "\nA data.frame: 5 × 13\n\n| manager &lt;dbl&gt; | date &lt;chr&gt; | country &lt;chr&gt; | gender &lt;chr&gt; | age &lt;dbl&gt; | q1 &lt;dbl&gt; | q2 &lt;dbl&gt; | q3 &lt;dbl&gt; | q4 &lt;dbl&gt; | q5 &lt;dbl&gt; | total_score &lt;dbl&gt; | mean_score &lt;dbl&gt; | agecat &lt;chr&gt; |\n|---|---|---|---|---|---|---|---|---|---|---|---|---|\n| 1 | 10/24/08 | US | M | 32 | 5 | 4 | 5 |  5 |  5 | 24 | 4.8 | Young |\n| 2 | 10/28/08 | US | F | 45 | 3 | 5 | 2 |  5 |  5 | 20 | 4.0 | Young |\n| 3 | 10/1/08  | UK | F | 25 | 3 | 5 | 5 |  5 |  2 | 20 | 4.0 | Young |\n| 4 | 10/12/08 | UK | M | 39 | 3 | 3 | 4 | NA | NA | NA |  NA | Young |\n| 5 | 5/1/09   | UK | F | NA | 2 | 2 | 1 |  2 |  1 |  8 | 1.6 | NA    |\n\n",
            "text/latex": "A data.frame: 5 × 13\n\\begin{tabular}{lllllllllllll}\n manager & date & country & gender & age & q1 & q2 & q3 & q4 & q5 & total\\_score & mean\\_score & agecat\\\\\n <dbl> & <chr> & <chr> & <chr> & <dbl> & <dbl> & <dbl> & <dbl> & <dbl> & <dbl> & <dbl> & <dbl> & <chr>\\\\\n\\hline\n\t 1 & 10/24/08 & US & M & 32 & 5 & 4 & 5 &  5 &  5 & 24 & 4.8 & Young\\\\\n\t 2 & 10/28/08 & US & F & 45 & 3 & 5 & 2 &  5 &  5 & 20 & 4.0 & Young\\\\\n\t 3 & 10/1/08  & UK & F & 25 & 3 & 5 & 5 &  5 &  2 & 20 & 4.0 & Young\\\\\n\t 4 & 10/12/08 & UK & M & 39 & 3 & 3 & 4 & NA & NA & NA &  NA & Young\\\\\n\t 5 & 5/1/09   & UK & F & NA & 2 & 2 & 1 &  2 &  1 &  8 & 1.6 & NA   \\\\\n\\end{tabular}\n",
            "text/plain": [
              "  manager date     country gender age q1 q2 q3 q4 q5 total_score mean_score\n",
              "1 1       10/24/08 US      M      32  5  4  5   5  5 24          4.8       \n",
              "2 2       10/28/08 US      F      45  3  5  2   5  5 20          4.0       \n",
              "3 3       10/1/08  UK      F      25  3  5  5   5  2 20          4.0       \n",
              "4 4       10/12/08 UK      M      39  3  3  4  NA NA NA           NA       \n",
              "5 5       5/1/09   UK      F      NA  2  2  1   2  1  8          1.6       \n",
              "  agecat\n",
              "1 Young \n",
              "2 Young \n",
              "3 Young \n",
              "4 Young \n",
              "5 NA    "
            ]
          },
          "metadata": {}
        }
      ]
    },
    {
      "cell_type": "markdown",
      "source": [
        "## Переименование переменных (столбцов)\n",
        "\n",
        "$fix(leadership)$ - откроет интерактивный редактор\n",
        "\n",
        "или\n",
        "\n",
        "$names(leadership)[2] <- \"testDate\"$"
      ],
      "metadata": {
        "id": "DX6yd3vYxoxu"
      }
    },
    {
      "cell_type": "code",
      "source": [
        "names(leadership)\n",
        "names(leadership)[2] <- \"testDate\"\n",
        "leadership"
      ],
      "metadata": {
        "id": "F8hZ4eOLxX_j",
        "outputId": "b1f4517c-10d5-4c15-e395-4b14eedb5b2d",
        "colab": {
          "base_uri": "https://localhost:8080/",
          "height": 272
        }
      },
      "execution_count": 7,
      "outputs": [
        {
          "output_type": "display_data",
          "data": {
            "text/html": [
              "<style>\n",
              ".list-inline {list-style: none; margin:0; padding: 0}\n",
              ".list-inline>li {display: inline-block}\n",
              ".list-inline>li:not(:last-child)::after {content: \"\\00b7\"; padding: 0 .5ex}\n",
              "</style>\n",
              "<ol class=list-inline><li>'manager'</li><li>'date'</li><li>'country'</li><li>'gender'</li><li>'age'</li><li>'q1'</li><li>'q2'</li><li>'q3'</li><li>'q4'</li><li>'q5'</li><li>'total_score'</li><li>'mean_score'</li><li>'agecat'</li></ol>\n"
            ],
            "text/markdown": "1. 'manager'\n2. 'date'\n3. 'country'\n4. 'gender'\n5. 'age'\n6. 'q1'\n7. 'q2'\n8. 'q3'\n9. 'q4'\n10. 'q5'\n11. 'total_score'\n12. 'mean_score'\n13. 'agecat'\n\n\n",
            "text/latex": "\\begin{enumerate*}\n\\item 'manager'\n\\item 'date'\n\\item 'country'\n\\item 'gender'\n\\item 'age'\n\\item 'q1'\n\\item 'q2'\n\\item 'q3'\n\\item 'q4'\n\\item 'q5'\n\\item 'total\\_score'\n\\item 'mean\\_score'\n\\item 'agecat'\n\\end{enumerate*}\n",
            "text/plain": [
              " [1] \"manager\"     \"date\"        \"country\"     \"gender\"      \"age\"        \n",
              " [6] \"q1\"          \"q2\"          \"q3\"          \"q4\"          \"q5\"         \n",
              "[11] \"total_score\" \"mean_score\"  \"agecat\"     "
            ]
          },
          "metadata": {}
        },
        {
          "output_type": "display_data",
          "data": {
            "text/html": [
              "<table class=\"dataframe\">\n",
              "<caption>A data.frame: 5 × 13</caption>\n",
              "<thead>\n",
              "\t<tr><th scope=col>manager</th><th scope=col>testDate</th><th scope=col>country</th><th scope=col>gender</th><th scope=col>age</th><th scope=col>q1</th><th scope=col>q2</th><th scope=col>q3</th><th scope=col>q4</th><th scope=col>q5</th><th scope=col>total_score</th><th scope=col>mean_score</th><th scope=col>agecat</th></tr>\n",
              "\t<tr><th scope=col>&lt;dbl&gt;</th><th scope=col>&lt;chr&gt;</th><th scope=col>&lt;chr&gt;</th><th scope=col>&lt;chr&gt;</th><th scope=col>&lt;dbl&gt;</th><th scope=col>&lt;dbl&gt;</th><th scope=col>&lt;dbl&gt;</th><th scope=col>&lt;dbl&gt;</th><th scope=col>&lt;dbl&gt;</th><th scope=col>&lt;dbl&gt;</th><th scope=col>&lt;dbl&gt;</th><th scope=col>&lt;dbl&gt;</th><th scope=col>&lt;chr&gt;</th></tr>\n",
              "</thead>\n",
              "<tbody>\n",
              "\t<tr><td>1</td><td>10/24/08</td><td>US</td><td>M</td><td>32</td><td>5</td><td>4</td><td>5</td><td> 5</td><td> 5</td><td>24</td><td>4.8</td><td>Young</td></tr>\n",
              "\t<tr><td>2</td><td>10/28/08</td><td>US</td><td>F</td><td>45</td><td>3</td><td>5</td><td>2</td><td> 5</td><td> 5</td><td>20</td><td>4.0</td><td>Young</td></tr>\n",
              "\t<tr><td>3</td><td>10/1/08 </td><td>UK</td><td>F</td><td>25</td><td>3</td><td>5</td><td>5</td><td> 5</td><td> 2</td><td>20</td><td>4.0</td><td>Young</td></tr>\n",
              "\t<tr><td>4</td><td>10/12/08</td><td>UK</td><td>M</td><td>39</td><td>3</td><td>3</td><td>4</td><td>NA</td><td>NA</td><td>NA</td><td> NA</td><td>Young</td></tr>\n",
              "\t<tr><td>5</td><td>5/1/09  </td><td>UK</td><td>F</td><td>NA</td><td>2</td><td>2</td><td>1</td><td> 2</td><td> 1</td><td> 8</td><td>1.6</td><td>NA   </td></tr>\n",
              "</tbody>\n",
              "</table>\n"
            ],
            "text/markdown": "\nA data.frame: 5 × 13\n\n| manager &lt;dbl&gt; | testDate &lt;chr&gt; | country &lt;chr&gt; | gender &lt;chr&gt; | age &lt;dbl&gt; | q1 &lt;dbl&gt; | q2 &lt;dbl&gt; | q3 &lt;dbl&gt; | q4 &lt;dbl&gt; | q5 &lt;dbl&gt; | total_score &lt;dbl&gt; | mean_score &lt;dbl&gt; | agecat &lt;chr&gt; |\n|---|---|---|---|---|---|---|---|---|---|---|---|---|\n| 1 | 10/24/08 | US | M | 32 | 5 | 4 | 5 |  5 |  5 | 24 | 4.8 | Young |\n| 2 | 10/28/08 | US | F | 45 | 3 | 5 | 2 |  5 |  5 | 20 | 4.0 | Young |\n| 3 | 10/1/08  | UK | F | 25 | 3 | 5 | 5 |  5 |  2 | 20 | 4.0 | Young |\n| 4 | 10/12/08 | UK | M | 39 | 3 | 3 | 4 | NA | NA | NA |  NA | Young |\n| 5 | 5/1/09   | UK | F | NA | 2 | 2 | 1 |  2 |  1 |  8 | 1.6 | NA    |\n\n",
            "text/latex": "A data.frame: 5 × 13\n\\begin{tabular}{lllllllllllll}\n manager & testDate & country & gender & age & q1 & q2 & q3 & q4 & q5 & total\\_score & mean\\_score & agecat\\\\\n <dbl> & <chr> & <chr> & <chr> & <dbl> & <dbl> & <dbl> & <dbl> & <dbl> & <dbl> & <dbl> & <dbl> & <chr>\\\\\n\\hline\n\t 1 & 10/24/08 & US & M & 32 & 5 & 4 & 5 &  5 &  5 & 24 & 4.8 & Young\\\\\n\t 2 & 10/28/08 & US & F & 45 & 3 & 5 & 2 &  5 &  5 & 20 & 4.0 & Young\\\\\n\t 3 & 10/1/08  & UK & F & 25 & 3 & 5 & 5 &  5 &  2 & 20 & 4.0 & Young\\\\\n\t 4 & 10/12/08 & UK & M & 39 & 3 & 3 & 4 & NA & NA & NA &  NA & Young\\\\\n\t 5 & 5/1/09   & UK & F & NA & 2 & 2 & 1 &  2 &  1 &  8 & 1.6 & NA   \\\\\n\\end{tabular}\n",
            "text/plain": [
              "  manager testDate country gender age q1 q2 q3 q4 q5 total_score mean_score\n",
              "1 1       10/24/08 US      M      32  5  4  5   5  5 24          4.8       \n",
              "2 2       10/28/08 US      F      45  3  5  2   5  5 20          4.0       \n",
              "3 3       10/1/08  UK      F      25  3  5  5   5  2 20          4.0       \n",
              "4 4       10/12/08 UK      M      39  3  3  4  NA NA NA           NA       \n",
              "5 5       5/1/09   UK      F      NA  2  2  1   2  1  8          1.6       \n",
              "  agecat\n",
              "1 Young \n",
              "2 Young \n",
              "3 Young \n",
              "4 Young \n",
              "5 NA    "
            ]
          },
          "metadata": {}
        }
      ]
    },
    {
      "cell_type": "code",
      "source": [
        "names(leadership)[6:10] <- c(\"item1\", \"item2\", \"item3\", \"item4\", \"item5\")\n",
        "leadership"
      ],
      "metadata": {
        "id": "DExZIlhXycSE",
        "outputId": "6fe293ba-6c0f-4d19-a598-47e56764434e",
        "colab": {
          "base_uri": "https://localhost:8080/",
          "height": 255
        }
      },
      "execution_count": 8,
      "outputs": [
        {
          "output_type": "display_data",
          "data": {
            "text/html": [
              "<table class=\"dataframe\">\n",
              "<caption>A data.frame: 5 × 13</caption>\n",
              "<thead>\n",
              "\t<tr><th scope=col>manager</th><th scope=col>testDate</th><th scope=col>country</th><th scope=col>gender</th><th scope=col>age</th><th scope=col>item1</th><th scope=col>item2</th><th scope=col>item3</th><th scope=col>item4</th><th scope=col>item5</th><th scope=col>total_score</th><th scope=col>mean_score</th><th scope=col>agecat</th></tr>\n",
              "\t<tr><th scope=col>&lt;dbl&gt;</th><th scope=col>&lt;chr&gt;</th><th scope=col>&lt;chr&gt;</th><th scope=col>&lt;chr&gt;</th><th scope=col>&lt;dbl&gt;</th><th scope=col>&lt;dbl&gt;</th><th scope=col>&lt;dbl&gt;</th><th scope=col>&lt;dbl&gt;</th><th scope=col>&lt;dbl&gt;</th><th scope=col>&lt;dbl&gt;</th><th scope=col>&lt;dbl&gt;</th><th scope=col>&lt;dbl&gt;</th><th scope=col>&lt;chr&gt;</th></tr>\n",
              "</thead>\n",
              "<tbody>\n",
              "\t<tr><td>1</td><td>10/24/08</td><td>US</td><td>M</td><td>32</td><td>5</td><td>4</td><td>5</td><td> 5</td><td> 5</td><td>24</td><td>4.8</td><td>Young</td></tr>\n",
              "\t<tr><td>2</td><td>10/28/08</td><td>US</td><td>F</td><td>45</td><td>3</td><td>5</td><td>2</td><td> 5</td><td> 5</td><td>20</td><td>4.0</td><td>Young</td></tr>\n",
              "\t<tr><td>3</td><td>10/1/08 </td><td>UK</td><td>F</td><td>25</td><td>3</td><td>5</td><td>5</td><td> 5</td><td> 2</td><td>20</td><td>4.0</td><td>Young</td></tr>\n",
              "\t<tr><td>4</td><td>10/12/08</td><td>UK</td><td>M</td><td>39</td><td>3</td><td>3</td><td>4</td><td>NA</td><td>NA</td><td>NA</td><td> NA</td><td>Young</td></tr>\n",
              "\t<tr><td>5</td><td>5/1/09  </td><td>UK</td><td>F</td><td>NA</td><td>2</td><td>2</td><td>1</td><td> 2</td><td> 1</td><td> 8</td><td>1.6</td><td>NA   </td></tr>\n",
              "</tbody>\n",
              "</table>\n"
            ],
            "text/markdown": "\nA data.frame: 5 × 13\n\n| manager &lt;dbl&gt; | testDate &lt;chr&gt; | country &lt;chr&gt; | gender &lt;chr&gt; | age &lt;dbl&gt; | item1 &lt;dbl&gt; | item2 &lt;dbl&gt; | item3 &lt;dbl&gt; | item4 &lt;dbl&gt; | item5 &lt;dbl&gt; | total_score &lt;dbl&gt; | mean_score &lt;dbl&gt; | agecat &lt;chr&gt; |\n|---|---|---|---|---|---|---|---|---|---|---|---|---|\n| 1 | 10/24/08 | US | M | 32 | 5 | 4 | 5 |  5 |  5 | 24 | 4.8 | Young |\n| 2 | 10/28/08 | US | F | 45 | 3 | 5 | 2 |  5 |  5 | 20 | 4.0 | Young |\n| 3 | 10/1/08  | UK | F | 25 | 3 | 5 | 5 |  5 |  2 | 20 | 4.0 | Young |\n| 4 | 10/12/08 | UK | M | 39 | 3 | 3 | 4 | NA | NA | NA |  NA | Young |\n| 5 | 5/1/09   | UK | F | NA | 2 | 2 | 1 |  2 |  1 |  8 | 1.6 | NA    |\n\n",
            "text/latex": "A data.frame: 5 × 13\n\\begin{tabular}{lllllllllllll}\n manager & testDate & country & gender & age & item1 & item2 & item3 & item4 & item5 & total\\_score & mean\\_score & agecat\\\\\n <dbl> & <chr> & <chr> & <chr> & <dbl> & <dbl> & <dbl> & <dbl> & <dbl> & <dbl> & <dbl> & <dbl> & <chr>\\\\\n\\hline\n\t 1 & 10/24/08 & US & M & 32 & 5 & 4 & 5 &  5 &  5 & 24 & 4.8 & Young\\\\\n\t 2 & 10/28/08 & US & F & 45 & 3 & 5 & 2 &  5 &  5 & 20 & 4.0 & Young\\\\\n\t 3 & 10/1/08  & UK & F & 25 & 3 & 5 & 5 &  5 &  2 & 20 & 4.0 & Young\\\\\n\t 4 & 10/12/08 & UK & M & 39 & 3 & 3 & 4 & NA & NA & NA &  NA & Young\\\\\n\t 5 & 5/1/09   & UK & F & NA & 2 & 2 & 1 &  2 &  1 &  8 & 1.6 & NA   \\\\\n\\end{tabular}\n",
            "text/plain": [
              "  manager testDate country gender age item1 item2 item3 item4 item5 total_score\n",
              "1 1       10/24/08 US      M      32  5     4     5      5     5    24         \n",
              "2 2       10/28/08 US      F      45  3     5     2      5     5    20         \n",
              "3 3       10/1/08  UK      F      25  3     5     5      5     2    20         \n",
              "4 4       10/12/08 UK      M      39  3     3     4     NA    NA    NA         \n",
              "5 5       5/1/09   UK      F      NA  2     2     1      2     1     8         \n",
              "  mean_score agecat\n",
              "1 4.8        Young \n",
              "2 4.0        Young \n",
              "3 4.0        Young \n",
              "4  NA        Young \n",
              "5 1.6        NA    "
            ]
          },
          "metadata": {}
        }
      ]
    },
    {
      "cell_type": "markdown",
      "source": [
        "## Пропущенные значения\n",
        "\n",
        "Функция $is.na()$:\n",
        "\n",
        "\\>y <- c(1, 2, 3, NA)\n",
        "\n",
        "\\>is.na(y)\n",
        "\n",
        "Результат:\n",
        "\n",
        "c(FALSE, FALSE, FALSE, TRUE)\n",
        "\n",
        "Функция $is.infinite()$ - положительная и отрицательная бесконечности\n",
        "\n"
      ],
      "metadata": {
        "id": "vIn79DrEyNVi"
      }
    },
    {
      "cell_type": "code",
      "source": [
        "is.na(leadership[,6:10])"
      ],
      "metadata": {
        "id": "Ngp4JStFHBTO",
        "outputId": "ab39aea4-c146-4c61-a6d6-232f76415ee5",
        "colab": {
          "base_uri": "https://localhost:8080/",
          "height": 223
        }
      },
      "execution_count": 9,
      "outputs": [
        {
          "output_type": "display_data",
          "data": {
            "text/html": [
              "<table class=\"dataframe\">\n",
              "<caption>A matrix: 5 × 5 of type lgl</caption>\n",
              "<thead>\n",
              "\t<tr><th scope=col>item1</th><th scope=col>item2</th><th scope=col>item3</th><th scope=col>item4</th><th scope=col>item5</th></tr>\n",
              "</thead>\n",
              "<tbody>\n",
              "\t<tr><td>FALSE</td><td>FALSE</td><td>FALSE</td><td>FALSE</td><td>FALSE</td></tr>\n",
              "\t<tr><td>FALSE</td><td>FALSE</td><td>FALSE</td><td>FALSE</td><td>FALSE</td></tr>\n",
              "\t<tr><td>FALSE</td><td>FALSE</td><td>FALSE</td><td>FALSE</td><td>FALSE</td></tr>\n",
              "\t<tr><td>FALSE</td><td>FALSE</td><td>FALSE</td><td> TRUE</td><td> TRUE</td></tr>\n",
              "\t<tr><td>FALSE</td><td>FALSE</td><td>FALSE</td><td>FALSE</td><td>FALSE</td></tr>\n",
              "</tbody>\n",
              "</table>\n"
            ],
            "text/markdown": "\nA matrix: 5 × 5 of type lgl\n\n| item1 | item2 | item3 | item4 | item5 |\n|---|---|---|---|---|\n| FALSE | FALSE | FALSE | FALSE | FALSE |\n| FALSE | FALSE | FALSE | FALSE | FALSE |\n| FALSE | FALSE | FALSE | FALSE | FALSE |\n| FALSE | FALSE | FALSE |  TRUE |  TRUE |\n| FALSE | FALSE | FALSE | FALSE | FALSE |\n\n",
            "text/latex": "A matrix: 5 × 5 of type lgl\n\\begin{tabular}{lllll}\n item1 & item2 & item3 & item4 & item5\\\\\n\\hline\n\t FALSE & FALSE & FALSE & FALSE & FALSE\\\\\n\t FALSE & FALSE & FALSE & FALSE & FALSE\\\\\n\t FALSE & FALSE & FALSE & FALSE & FALSE\\\\\n\t FALSE & FALSE & FALSE &  TRUE &  TRUE\\\\\n\t FALSE & FALSE & FALSE & FALSE & FALSE\\\\\n\\end{tabular}\n",
            "text/plain": [
              "     item1 item2 item3 item4 item5\n",
              "[1,] FALSE FALSE FALSE FALSE FALSE\n",
              "[2,] FALSE FALSE FALSE FALSE FALSE\n",
              "[3,] FALSE FALSE FALSE FALSE FALSE\n",
              "[4,] FALSE FALSE FALSE  TRUE  TRUE\n",
              "[5,] FALSE FALSE FALSE FALSE FALSE"
            ]
          },
          "metadata": {}
        }
      ]
    },
    {
      "cell_type": "code",
      "source": [
        "is.na(leadership[,])"
      ],
      "metadata": {
        "id": "nlNYPD1lHViF",
        "outputId": "79b1034c-43ad-48a7-a5e4-55ca816ffc2c",
        "colab": {
          "base_uri": "https://localhost:8080/",
          "height": 223
        }
      },
      "execution_count": 10,
      "outputs": [
        {
          "output_type": "display_data",
          "data": {
            "text/html": [
              "<table class=\"dataframe\">\n",
              "<caption>A matrix: 5 × 13 of type lgl</caption>\n",
              "<thead>\n",
              "\t<tr><th scope=col>manager</th><th scope=col>testDate</th><th scope=col>country</th><th scope=col>gender</th><th scope=col>age</th><th scope=col>item1</th><th scope=col>item2</th><th scope=col>item3</th><th scope=col>item4</th><th scope=col>item5</th><th scope=col>total_score</th><th scope=col>mean_score</th><th scope=col>agecat</th></tr>\n",
              "</thead>\n",
              "<tbody>\n",
              "\t<tr><td>FALSE</td><td>FALSE</td><td>FALSE</td><td>FALSE</td><td>FALSE</td><td>FALSE</td><td>FALSE</td><td>FALSE</td><td>FALSE</td><td>FALSE</td><td>FALSE</td><td>FALSE</td><td>FALSE</td></tr>\n",
              "\t<tr><td>FALSE</td><td>FALSE</td><td>FALSE</td><td>FALSE</td><td>FALSE</td><td>FALSE</td><td>FALSE</td><td>FALSE</td><td>FALSE</td><td>FALSE</td><td>FALSE</td><td>FALSE</td><td>FALSE</td></tr>\n",
              "\t<tr><td>FALSE</td><td>FALSE</td><td>FALSE</td><td>FALSE</td><td>FALSE</td><td>FALSE</td><td>FALSE</td><td>FALSE</td><td>FALSE</td><td>FALSE</td><td>FALSE</td><td>FALSE</td><td>FALSE</td></tr>\n",
              "\t<tr><td>FALSE</td><td>FALSE</td><td>FALSE</td><td>FALSE</td><td>FALSE</td><td>FALSE</td><td>FALSE</td><td>FALSE</td><td> TRUE</td><td> TRUE</td><td> TRUE</td><td> TRUE</td><td>FALSE</td></tr>\n",
              "\t<tr><td>FALSE</td><td>FALSE</td><td>FALSE</td><td>FALSE</td><td> TRUE</td><td>FALSE</td><td>FALSE</td><td>FALSE</td><td>FALSE</td><td>FALSE</td><td>FALSE</td><td>FALSE</td><td> TRUE</td></tr>\n",
              "</tbody>\n",
              "</table>\n"
            ],
            "text/markdown": "\nA matrix: 5 × 13 of type lgl\n\n| manager | testDate | country | gender | age | item1 | item2 | item3 | item4 | item5 | total_score | mean_score | agecat |\n|---|---|---|---|---|---|---|---|---|---|---|---|---|\n| FALSE | FALSE | FALSE | FALSE | FALSE | FALSE | FALSE | FALSE | FALSE | FALSE | FALSE | FALSE | FALSE |\n| FALSE | FALSE | FALSE | FALSE | FALSE | FALSE | FALSE | FALSE | FALSE | FALSE | FALSE | FALSE | FALSE |\n| FALSE | FALSE | FALSE | FALSE | FALSE | FALSE | FALSE | FALSE | FALSE | FALSE | FALSE | FALSE | FALSE |\n| FALSE | FALSE | FALSE | FALSE | FALSE | FALSE | FALSE | FALSE |  TRUE |  TRUE |  TRUE |  TRUE | FALSE |\n| FALSE | FALSE | FALSE | FALSE |  TRUE | FALSE | FALSE | FALSE | FALSE | FALSE | FALSE | FALSE |  TRUE |\n\n",
            "text/latex": "A matrix: 5 × 13 of type lgl\n\\begin{tabular}{lllllllllllll}\n manager & testDate & country & gender & age & item1 & item2 & item3 & item4 & item5 & total\\_score & mean\\_score & agecat\\\\\n\\hline\n\t FALSE & FALSE & FALSE & FALSE & FALSE & FALSE & FALSE & FALSE & FALSE & FALSE & FALSE & FALSE & FALSE\\\\\n\t FALSE & FALSE & FALSE & FALSE & FALSE & FALSE & FALSE & FALSE & FALSE & FALSE & FALSE & FALSE & FALSE\\\\\n\t FALSE & FALSE & FALSE & FALSE & FALSE & FALSE & FALSE & FALSE & FALSE & FALSE & FALSE & FALSE & FALSE\\\\\n\t FALSE & FALSE & FALSE & FALSE & FALSE & FALSE & FALSE & FALSE &  TRUE &  TRUE &  TRUE &  TRUE & FALSE\\\\\n\t FALSE & FALSE & FALSE & FALSE &  TRUE & FALSE & FALSE & FALSE & FALSE & FALSE & FALSE & FALSE &  TRUE\\\\\n\\end{tabular}\n",
            "text/plain": [
              "     manager testDate country gender age   item1 item2 item3 item4 item5\n",
              "[1,] FALSE   FALSE    FALSE   FALSE  FALSE FALSE FALSE FALSE FALSE FALSE\n",
              "[2,] FALSE   FALSE    FALSE   FALSE  FALSE FALSE FALSE FALSE FALSE FALSE\n",
              "[3,] FALSE   FALSE    FALSE   FALSE  FALSE FALSE FALSE FALSE FALSE FALSE\n",
              "[4,] FALSE   FALSE    FALSE   FALSE  FALSE FALSE FALSE FALSE  TRUE  TRUE\n",
              "[5,] FALSE   FALSE    FALSE   FALSE   TRUE FALSE FALSE FALSE FALSE FALSE\n",
              "     total_score mean_score agecat\n",
              "[1,] FALSE       FALSE      FALSE \n",
              "[2,] FALSE       FALSE      FALSE \n",
              "[3,] FALSE       FALSE      FALSE \n",
              "[4,]  TRUE        TRUE      FALSE \n",
              "[5,] FALSE       FALSE       TRUE "
            ]
          },
          "metadata": {}
        }
      ]
    },
    {
      "cell_type": "markdown",
      "source": [
        "### Перекодирование значений в отсутствующие\n",
        "\n",
        "```\n",
        "leadership\\$age[leadership\\$age == 99] <- NA\n",
        "```\n"
      ],
      "metadata": {
        "id": "fSp0Ga-BIIa-"
      }
    },
    {
      "cell_type": "markdown",
      "source": [
        "### Исключение пропущенных значений из анализа\n",
        "\n",
        "```\n",
        "x <- c(1, 2, NA, 3)\n",
        "y <- x[1] + x[2] + x[3] + x[4]\n",
        "z <- sum(x)\n",
        "```\n",
        "Функция `na.omit()` - построчное удаление если есть пропущенные значения.\n"
      ],
      "metadata": {
        "id": "mZiByzUPfRB9"
      }
    },
    {
      "cell_type": "code",
      "source": [
        "x <- c(1, 2, NA, 3)\n",
        "y <- x[1] + x[2] + x[3] + x[4]\n",
        "z <- sum(x)\n",
        "z\n",
        "y\n",
        "x"
      ],
      "metadata": {
        "id": "FRnk6xkQokpk",
        "outputId": "eaec0e4a-cec9-4e3f-b2ea-13d923a19b89",
        "colab": {
          "base_uri": "https://localhost:8080/",
          "height": 69
        }
      },
      "execution_count": 11,
      "outputs": [
        {
          "output_type": "display_data",
          "data": {
            "text/html": [
              "&lt;NA&gt;"
            ],
            "text/markdown": "&lt;NA&gt;",
            "text/latex": "<NA>",
            "text/plain": [
              "[1] NA"
            ]
          },
          "metadata": {}
        },
        {
          "output_type": "display_data",
          "data": {
            "text/html": [
              "&lt;NA&gt;"
            ],
            "text/markdown": "&lt;NA&gt;",
            "text/latex": "<NA>",
            "text/plain": [
              "[1] NA"
            ]
          },
          "metadata": {}
        },
        {
          "output_type": "display_data",
          "data": {
            "text/html": [
              "<style>\n",
              ".list-inline {list-style: none; margin:0; padding: 0}\n",
              ".list-inline>li {display: inline-block}\n",
              ".list-inline>li:not(:last-child)::after {content: \"\\00b7\"; padding: 0 .5ex}\n",
              "</style>\n",
              "<ol class=list-inline><li>1</li><li>2</li><li>&lt;NA&gt;</li><li>3</li></ol>\n"
            ],
            "text/markdown": "1. 1\n2. 2\n3. &lt;NA&gt;\n4. 3\n\n\n",
            "text/latex": "\\begin{enumerate*}\n\\item 1\n\\item 2\n\\item <NA>\n\\item 3\n\\end{enumerate*}\n",
            "text/plain": [
              "[1]  1  2 NA  3"
            ]
          },
          "metadata": {}
        }
      ]
    },
    {
      "cell_type": "code",
      "source": [
        "y <- sum (x, na.rm = TRUE)\n",
        "y"
      ],
      "metadata": {
        "id": "U-ioHpPSo2d0",
        "outputId": "58eb7d05-08d2-4439-829d-00312baee3da",
        "colab": {
          "base_uri": "https://localhost:8080/",
          "height": 34
        }
      },
      "execution_count": 12,
      "outputs": [
        {
          "output_type": "display_data",
          "data": {
            "text/html": [
              "6"
            ],
            "text/markdown": "6",
            "text/latex": "6",
            "text/plain": [
              "[1] 6"
            ]
          },
          "metadata": {}
        }
      ]
    },
    {
      "cell_type": "code",
      "source": [
        "leadership\n",
        "newdata <- na.omit (leadership)\n",
        "newdata"
      ],
      "metadata": {
        "id": "rpLuI9j_3x-k",
        "outputId": "bfe99c4d-c703-4407-8beb-a74f7bdd75bd",
        "colab": {
          "base_uri": "https://localhost:8080/",
          "height": 430
        }
      },
      "execution_count": 13,
      "outputs": [
        {
          "output_type": "display_data",
          "data": {
            "text/html": [
              "<table class=\"dataframe\">\n",
              "<caption>A data.frame: 5 × 13</caption>\n",
              "<thead>\n",
              "\t<tr><th scope=col>manager</th><th scope=col>testDate</th><th scope=col>country</th><th scope=col>gender</th><th scope=col>age</th><th scope=col>item1</th><th scope=col>item2</th><th scope=col>item3</th><th scope=col>item4</th><th scope=col>item5</th><th scope=col>total_score</th><th scope=col>mean_score</th><th scope=col>agecat</th></tr>\n",
              "\t<tr><th scope=col>&lt;dbl&gt;</th><th scope=col>&lt;chr&gt;</th><th scope=col>&lt;chr&gt;</th><th scope=col>&lt;chr&gt;</th><th scope=col>&lt;dbl&gt;</th><th scope=col>&lt;dbl&gt;</th><th scope=col>&lt;dbl&gt;</th><th scope=col>&lt;dbl&gt;</th><th scope=col>&lt;dbl&gt;</th><th scope=col>&lt;dbl&gt;</th><th scope=col>&lt;dbl&gt;</th><th scope=col>&lt;dbl&gt;</th><th scope=col>&lt;chr&gt;</th></tr>\n",
              "</thead>\n",
              "<tbody>\n",
              "\t<tr><td>1</td><td>10/24/08</td><td>US</td><td>M</td><td>32</td><td>5</td><td>4</td><td>5</td><td> 5</td><td> 5</td><td>24</td><td>4.8</td><td>Young</td></tr>\n",
              "\t<tr><td>2</td><td>10/28/08</td><td>US</td><td>F</td><td>45</td><td>3</td><td>5</td><td>2</td><td> 5</td><td> 5</td><td>20</td><td>4.0</td><td>Young</td></tr>\n",
              "\t<tr><td>3</td><td>10/1/08 </td><td>UK</td><td>F</td><td>25</td><td>3</td><td>5</td><td>5</td><td> 5</td><td> 2</td><td>20</td><td>4.0</td><td>Young</td></tr>\n",
              "\t<tr><td>4</td><td>10/12/08</td><td>UK</td><td>M</td><td>39</td><td>3</td><td>3</td><td>4</td><td>NA</td><td>NA</td><td>NA</td><td> NA</td><td>Young</td></tr>\n",
              "\t<tr><td>5</td><td>5/1/09  </td><td>UK</td><td>F</td><td>NA</td><td>2</td><td>2</td><td>1</td><td> 2</td><td> 1</td><td> 8</td><td>1.6</td><td>NA   </td></tr>\n",
              "</tbody>\n",
              "</table>\n"
            ],
            "text/markdown": "\nA data.frame: 5 × 13\n\n| manager &lt;dbl&gt; | testDate &lt;chr&gt; | country &lt;chr&gt; | gender &lt;chr&gt; | age &lt;dbl&gt; | item1 &lt;dbl&gt; | item2 &lt;dbl&gt; | item3 &lt;dbl&gt; | item4 &lt;dbl&gt; | item5 &lt;dbl&gt; | total_score &lt;dbl&gt; | mean_score &lt;dbl&gt; | agecat &lt;chr&gt; |\n|---|---|---|---|---|---|---|---|---|---|---|---|---|\n| 1 | 10/24/08 | US | M | 32 | 5 | 4 | 5 |  5 |  5 | 24 | 4.8 | Young |\n| 2 | 10/28/08 | US | F | 45 | 3 | 5 | 2 |  5 |  5 | 20 | 4.0 | Young |\n| 3 | 10/1/08  | UK | F | 25 | 3 | 5 | 5 |  5 |  2 | 20 | 4.0 | Young |\n| 4 | 10/12/08 | UK | M | 39 | 3 | 3 | 4 | NA | NA | NA |  NA | Young |\n| 5 | 5/1/09   | UK | F | NA | 2 | 2 | 1 |  2 |  1 |  8 | 1.6 | NA    |\n\n",
            "text/latex": "A data.frame: 5 × 13\n\\begin{tabular}{lllllllllllll}\n manager & testDate & country & gender & age & item1 & item2 & item3 & item4 & item5 & total\\_score & mean\\_score & agecat\\\\\n <dbl> & <chr> & <chr> & <chr> & <dbl> & <dbl> & <dbl> & <dbl> & <dbl> & <dbl> & <dbl> & <dbl> & <chr>\\\\\n\\hline\n\t 1 & 10/24/08 & US & M & 32 & 5 & 4 & 5 &  5 &  5 & 24 & 4.8 & Young\\\\\n\t 2 & 10/28/08 & US & F & 45 & 3 & 5 & 2 &  5 &  5 & 20 & 4.0 & Young\\\\\n\t 3 & 10/1/08  & UK & F & 25 & 3 & 5 & 5 &  5 &  2 & 20 & 4.0 & Young\\\\\n\t 4 & 10/12/08 & UK & M & 39 & 3 & 3 & 4 & NA & NA & NA &  NA & Young\\\\\n\t 5 & 5/1/09   & UK & F & NA & 2 & 2 & 1 &  2 &  1 &  8 & 1.6 & NA   \\\\\n\\end{tabular}\n",
            "text/plain": [
              "  manager testDate country gender age item1 item2 item3 item4 item5 total_score\n",
              "1 1       10/24/08 US      M      32  5     4     5      5     5    24         \n",
              "2 2       10/28/08 US      F      45  3     5     2      5     5    20         \n",
              "3 3       10/1/08  UK      F      25  3     5     5      5     2    20         \n",
              "4 4       10/12/08 UK      M      39  3     3     4     NA    NA    NA         \n",
              "5 5       5/1/09   UK      F      NA  2     2     1      2     1     8         \n",
              "  mean_score agecat\n",
              "1 4.8        Young \n",
              "2 4.0        Young \n",
              "3 4.0        Young \n",
              "4  NA        Young \n",
              "5 1.6        NA    "
            ]
          },
          "metadata": {}
        },
        {
          "output_type": "display_data",
          "data": {
            "text/html": [
              "<table class=\"dataframe\">\n",
              "<caption>A data.frame: 3 × 13</caption>\n",
              "<thead>\n",
              "\t<tr><th></th><th scope=col>manager</th><th scope=col>testDate</th><th scope=col>country</th><th scope=col>gender</th><th scope=col>age</th><th scope=col>item1</th><th scope=col>item2</th><th scope=col>item3</th><th scope=col>item4</th><th scope=col>item5</th><th scope=col>total_score</th><th scope=col>mean_score</th><th scope=col>agecat</th></tr>\n",
              "\t<tr><th></th><th scope=col>&lt;dbl&gt;</th><th scope=col>&lt;chr&gt;</th><th scope=col>&lt;chr&gt;</th><th scope=col>&lt;chr&gt;</th><th scope=col>&lt;dbl&gt;</th><th scope=col>&lt;dbl&gt;</th><th scope=col>&lt;dbl&gt;</th><th scope=col>&lt;dbl&gt;</th><th scope=col>&lt;dbl&gt;</th><th scope=col>&lt;dbl&gt;</th><th scope=col>&lt;dbl&gt;</th><th scope=col>&lt;dbl&gt;</th><th scope=col>&lt;chr&gt;</th></tr>\n",
              "</thead>\n",
              "<tbody>\n",
              "\t<tr><th scope=row>1</th><td>1</td><td>10/24/08</td><td>US</td><td>M</td><td>32</td><td>5</td><td>4</td><td>5</td><td>5</td><td>5</td><td>24</td><td>4.8</td><td>Young</td></tr>\n",
              "\t<tr><th scope=row>2</th><td>2</td><td>10/28/08</td><td>US</td><td>F</td><td>45</td><td>3</td><td>5</td><td>2</td><td>5</td><td>5</td><td>20</td><td>4.0</td><td>Young</td></tr>\n",
              "\t<tr><th scope=row>3</th><td>3</td><td>10/1/08 </td><td>UK</td><td>F</td><td>25</td><td>3</td><td>5</td><td>5</td><td>5</td><td>2</td><td>20</td><td>4.0</td><td>Young</td></tr>\n",
              "</tbody>\n",
              "</table>\n"
            ],
            "text/markdown": "\nA data.frame: 3 × 13\n\n| <!--/--> | manager &lt;dbl&gt; | testDate &lt;chr&gt; | country &lt;chr&gt; | gender &lt;chr&gt; | age &lt;dbl&gt; | item1 &lt;dbl&gt; | item2 &lt;dbl&gt; | item3 &lt;dbl&gt; | item4 &lt;dbl&gt; | item5 &lt;dbl&gt; | total_score &lt;dbl&gt; | mean_score &lt;dbl&gt; | agecat &lt;chr&gt; |\n|---|---|---|---|---|---|---|---|---|---|---|---|---|---|\n| 1 | 1 | 10/24/08 | US | M | 32 | 5 | 4 | 5 | 5 | 5 | 24 | 4.8 | Young |\n| 2 | 2 | 10/28/08 | US | F | 45 | 3 | 5 | 2 | 5 | 5 | 20 | 4.0 | Young |\n| 3 | 3 | 10/1/08  | UK | F | 25 | 3 | 5 | 5 | 5 | 2 | 20 | 4.0 | Young |\n\n",
            "text/latex": "A data.frame: 3 × 13\n\\begin{tabular}{r|lllllllllllll}\n  & manager & testDate & country & gender & age & item1 & item2 & item3 & item4 & item5 & total\\_score & mean\\_score & agecat\\\\\n  & <dbl> & <chr> & <chr> & <chr> & <dbl> & <dbl> & <dbl> & <dbl> & <dbl> & <dbl> & <dbl> & <dbl> & <chr>\\\\\n\\hline\n\t1 & 1 & 10/24/08 & US & M & 32 & 5 & 4 & 5 & 5 & 5 & 24 & 4.8 & Young\\\\\n\t2 & 2 & 10/28/08 & US & F & 45 & 3 & 5 & 2 & 5 & 5 & 20 & 4.0 & Young\\\\\n\t3 & 3 & 10/1/08  & UK & F & 25 & 3 & 5 & 5 & 5 & 2 & 20 & 4.0 & Young\\\\\n\\end{tabular}\n",
            "text/plain": [
              "  manager testDate country gender age item1 item2 item3 item4 item5 total_score\n",
              "1 1       10/24/08 US      M      32  5     4     5     5     5     24         \n",
              "2 2       10/28/08 US      F      45  3     5     2     5     5     20         \n",
              "3 3       10/1/08  UK      F      25  3     5     5     5     2     20         \n",
              "  mean_score agecat\n",
              "1 4.8        Young \n",
              "2 4.0        Young \n",
              "3 4.0        Young "
            ]
          },
          "metadata": {}
        }
      ]
    },
    {
      "cell_type": "markdown",
      "source": [
        "## Календарные даты\n",
        "\n",
        "В R даты обычно вводятся в виде текстовых строк, а затем преобразуются в формат даты и хранятся в числовом виде. Для этого преобразования используется функция `as.Date()`, имеющая следующий синтаксис:\n",
        "\n",
        "`as.Date(x, \"input_format\")`\n",
        "\n",
        "где x – это дата в текстовом формате, а input_format определяет\n",
        "формат представления даты:\n",
        "* %d - День месяца в виде числа (01–31)\n",
        "* %a - Сокращенное название дня недели\n",
        "* %A - Полное название дня недели\n",
        "* %m - Порядковый номер месяца (01–12)\n",
        "* %b - Сокращенное название месяца\n",
        "* %B - Полное название месяца\n",
        "* %y - Две последние цифры года\n",
        "* %Y - Все четыре цифры года\n",
        "\n",
        "Функция `Sys.Date()` возвращает текущую дату, а функция `date()` – текущие дату и время.\n",
        "\n",
        "Для вывода дат в заданном формате и извлечения отдельных компонентов можно использовать функцию `format(x, format=\"output_ format\")`\n",
        "\n",
        "\n"
      ],
      "metadata": {
        "id": "DLuo0gmk4eZ7"
      }
    },
    {
      "cell_type": "code",
      "source": [
        "# По умолчанию даты вводятся в формате yyyy-mm-dd («год-месяц-день»)\n",
        "mydates <- as.Date(c(\"2007-06-22\", \"2004-02-13\")) # преобразует текстовые данные в даты, используя этот формат по умолчанию.\n",
        "mydates"
      ],
      "metadata": {
        "id": "rR0otE_tYFYy",
        "outputId": "2b551c5f-fc36-490c-bf5d-870f832393ef",
        "colab": {
          "base_uri": "https://localhost:8080/",
          "height": 34
        }
      },
      "execution_count": 14,
      "outputs": [
        {
          "output_type": "display_data",
          "data": {
            "text/html": [
              "<style>\n",
              ".list-inline {list-style: none; margin:0; padding: 0}\n",
              ".list-inline>li {display: inline-block}\n",
              ".list-inline>li:not(:last-child)::after {content: \"\\00b7\"; padding: 0 .5ex}\n",
              "</style>\n",
              "<ol class=list-inline><li><time datetime=\"2007-06-22\">2007-06-22</time></li><li><time datetime=\"2004-02-13\">2004-02-13</time></li></ol>\n"
            ],
            "text/markdown": "1. 2007-06-22\n2. 2004-02-13\n\n\n",
            "text/latex": "\\begin{enumerate*}\n\\item 2007-06-22\n\\item 2004-02-13\n\\end{enumerate*}\n",
            "text/plain": [
              "[1] \"2007-06-22\" \"2004-02-13\""
            ]
          },
          "metadata": {}
        }
      ]
    },
    {
      "cell_type": "code",
      "source": [
        "# В отличие от нее, следующая инструкция:\n",
        "strDates <- c(\"01/05/1965\", \"08/16/1975\")\n",
        "dates <- as.Date(strDates, \"%m/%d/%Y\") # читает даты в формате mm/dd/yyyy («месяц/день/год»).\n",
        "dates"
      ],
      "metadata": {
        "id": "pULjk-7Ujawh",
        "outputId": "a0473ea3-831d-4998-944a-7b4cc8e4a299",
        "colab": {
          "base_uri": "https://localhost:8080/",
          "height": 34
        }
      },
      "execution_count": 15,
      "outputs": [
        {
          "output_type": "display_data",
          "data": {
            "text/html": [
              "<style>\n",
              ".list-inline {list-style: none; margin:0; padding: 0}\n",
              ".list-inline>li {display: inline-block}\n",
              ".list-inline>li:not(:last-child)::after {content: \"\\00b7\"; padding: 0 .5ex}\n",
              "</style>\n",
              "<ol class=list-inline><li><time datetime=\"1965-01-05\">1965-01-05</time></li><li><time datetime=\"1975-08-16\">1975-08-16</time></li></ol>\n"
            ],
            "text/markdown": "1. 1965-01-05\n2. 1975-08-16\n\n\n",
            "text/latex": "\\begin{enumerate*}\n\\item 1965-01-05\n\\item 1975-08-16\n\\end{enumerate*}\n",
            "text/plain": [
              "[1] \"1965-01-05\" \"1975-08-16\""
            ]
          },
          "metadata": {}
        }
      ]
    },
    {
      "cell_type": "code",
      "source": [
        "leadership"
      ],
      "metadata": {
        "id": "cHPsyBu0k28a",
        "outputId": "40107c33-a69b-4c21-fd0b-d37128fe2937",
        "colab": {
          "base_uri": "https://localhost:8080/",
          "height": 255
        }
      },
      "execution_count": 16,
      "outputs": [
        {
          "output_type": "display_data",
          "data": {
            "text/html": [
              "<table class=\"dataframe\">\n",
              "<caption>A data.frame: 5 × 13</caption>\n",
              "<thead>\n",
              "\t<tr><th scope=col>manager</th><th scope=col>testDate</th><th scope=col>country</th><th scope=col>gender</th><th scope=col>age</th><th scope=col>item1</th><th scope=col>item2</th><th scope=col>item3</th><th scope=col>item4</th><th scope=col>item5</th><th scope=col>total_score</th><th scope=col>mean_score</th><th scope=col>agecat</th></tr>\n",
              "\t<tr><th scope=col>&lt;dbl&gt;</th><th scope=col>&lt;chr&gt;</th><th scope=col>&lt;chr&gt;</th><th scope=col>&lt;chr&gt;</th><th scope=col>&lt;dbl&gt;</th><th scope=col>&lt;dbl&gt;</th><th scope=col>&lt;dbl&gt;</th><th scope=col>&lt;dbl&gt;</th><th scope=col>&lt;dbl&gt;</th><th scope=col>&lt;dbl&gt;</th><th scope=col>&lt;dbl&gt;</th><th scope=col>&lt;dbl&gt;</th><th scope=col>&lt;chr&gt;</th></tr>\n",
              "</thead>\n",
              "<tbody>\n",
              "\t<tr><td>1</td><td>10/24/08</td><td>US</td><td>M</td><td>32</td><td>5</td><td>4</td><td>5</td><td> 5</td><td> 5</td><td>24</td><td>4.8</td><td>Young</td></tr>\n",
              "\t<tr><td>2</td><td>10/28/08</td><td>US</td><td>F</td><td>45</td><td>3</td><td>5</td><td>2</td><td> 5</td><td> 5</td><td>20</td><td>4.0</td><td>Young</td></tr>\n",
              "\t<tr><td>3</td><td>10/1/08 </td><td>UK</td><td>F</td><td>25</td><td>3</td><td>5</td><td>5</td><td> 5</td><td> 2</td><td>20</td><td>4.0</td><td>Young</td></tr>\n",
              "\t<tr><td>4</td><td>10/12/08</td><td>UK</td><td>M</td><td>39</td><td>3</td><td>3</td><td>4</td><td>NA</td><td>NA</td><td>NA</td><td> NA</td><td>Young</td></tr>\n",
              "\t<tr><td>5</td><td>5/1/09  </td><td>UK</td><td>F</td><td>NA</td><td>2</td><td>2</td><td>1</td><td> 2</td><td> 1</td><td> 8</td><td>1.6</td><td>NA   </td></tr>\n",
              "</tbody>\n",
              "</table>\n"
            ],
            "text/markdown": "\nA data.frame: 5 × 13\n\n| manager &lt;dbl&gt; | testDate &lt;chr&gt; | country &lt;chr&gt; | gender &lt;chr&gt; | age &lt;dbl&gt; | item1 &lt;dbl&gt; | item2 &lt;dbl&gt; | item3 &lt;dbl&gt; | item4 &lt;dbl&gt; | item5 &lt;dbl&gt; | total_score &lt;dbl&gt; | mean_score &lt;dbl&gt; | agecat &lt;chr&gt; |\n|---|---|---|---|---|---|---|---|---|---|---|---|---|\n| 1 | 10/24/08 | US | M | 32 | 5 | 4 | 5 |  5 |  5 | 24 | 4.8 | Young |\n| 2 | 10/28/08 | US | F | 45 | 3 | 5 | 2 |  5 |  5 | 20 | 4.0 | Young |\n| 3 | 10/1/08  | UK | F | 25 | 3 | 5 | 5 |  5 |  2 | 20 | 4.0 | Young |\n| 4 | 10/12/08 | UK | M | 39 | 3 | 3 | 4 | NA | NA | NA |  NA | Young |\n| 5 | 5/1/09   | UK | F | NA | 2 | 2 | 1 |  2 |  1 |  8 | 1.6 | NA    |\n\n",
            "text/latex": "A data.frame: 5 × 13\n\\begin{tabular}{lllllllllllll}\n manager & testDate & country & gender & age & item1 & item2 & item3 & item4 & item5 & total\\_score & mean\\_score & agecat\\\\\n <dbl> & <chr> & <chr> & <chr> & <dbl> & <dbl> & <dbl> & <dbl> & <dbl> & <dbl> & <dbl> & <dbl> & <chr>\\\\\n\\hline\n\t 1 & 10/24/08 & US & M & 32 & 5 & 4 & 5 &  5 &  5 & 24 & 4.8 & Young\\\\\n\t 2 & 10/28/08 & US & F & 45 & 3 & 5 & 2 &  5 &  5 & 20 & 4.0 & Young\\\\\n\t 3 & 10/1/08  & UK & F & 25 & 3 & 5 & 5 &  5 &  2 & 20 & 4.0 & Young\\\\\n\t 4 & 10/12/08 & UK & M & 39 & 3 & 3 & 4 & NA & NA & NA &  NA & Young\\\\\n\t 5 & 5/1/09   & UK & F & NA & 2 & 2 & 1 &  2 &  1 &  8 & 1.6 & NA   \\\\\n\\end{tabular}\n",
            "text/plain": [
              "  manager testDate country gender age item1 item2 item3 item4 item5 total_score\n",
              "1 1       10/24/08 US      M      32  5     4     5      5     5    24         \n",
              "2 2       10/28/08 US      F      45  3     5     2      5     5    20         \n",
              "3 3       10/1/08  UK      F      25  3     5     5      5     2    20         \n",
              "4 4       10/12/08 UK      M      39  3     3     4     NA    NA    NA         \n",
              "5 5       5/1/09   UK      F      NA  2     2     1      2     1     8         \n",
              "  mean_score agecat\n",
              "1 4.8        Young \n",
              "2 4.0        Young \n",
              "3 4.0        Young \n",
              "4  NA        Young \n",
              "5 1.6        NA    "
            ]
          },
          "metadata": {}
        }
      ]
    },
    {
      "cell_type": "code",
      "source": [
        "# В нашем наборе данных leadership даты представлены в формате mm/dd/yy. Поэтому в инструкциях\n",
        "myformat <- \"%m/%d/%y\"\n",
        "leadership$testDate <- as.Date(leadership$testDate, myformat) # используется нестандартный формат, позволяющий прочитать текстовую\n",
        "                                                      # переменную и преобразовать ее в столбец, содержащий календарные даты.\n",
        "leadership"
      ],
      "metadata": {
        "id": "8PzzAu8fkRSn",
        "outputId": "d835df28-7863-466c-9633-9b9a001335df",
        "colab": {
          "base_uri": "https://localhost:8080/",
          "height": 255
        }
      },
      "execution_count": 17,
      "outputs": [
        {
          "output_type": "display_data",
          "data": {
            "text/html": [
              "<table class=\"dataframe\">\n",
              "<caption>A data.frame: 5 × 13</caption>\n",
              "<thead>\n",
              "\t<tr><th scope=col>manager</th><th scope=col>testDate</th><th scope=col>country</th><th scope=col>gender</th><th scope=col>age</th><th scope=col>item1</th><th scope=col>item2</th><th scope=col>item3</th><th scope=col>item4</th><th scope=col>item5</th><th scope=col>total_score</th><th scope=col>mean_score</th><th scope=col>agecat</th></tr>\n",
              "\t<tr><th scope=col>&lt;dbl&gt;</th><th scope=col>&lt;date&gt;</th><th scope=col>&lt;chr&gt;</th><th scope=col>&lt;chr&gt;</th><th scope=col>&lt;dbl&gt;</th><th scope=col>&lt;dbl&gt;</th><th scope=col>&lt;dbl&gt;</th><th scope=col>&lt;dbl&gt;</th><th scope=col>&lt;dbl&gt;</th><th scope=col>&lt;dbl&gt;</th><th scope=col>&lt;dbl&gt;</th><th scope=col>&lt;dbl&gt;</th><th scope=col>&lt;chr&gt;</th></tr>\n",
              "</thead>\n",
              "<tbody>\n",
              "\t<tr><td>1</td><td>2008-10-24</td><td>US</td><td>M</td><td>32</td><td>5</td><td>4</td><td>5</td><td> 5</td><td> 5</td><td>24</td><td>4.8</td><td>Young</td></tr>\n",
              "\t<tr><td>2</td><td>2008-10-28</td><td>US</td><td>F</td><td>45</td><td>3</td><td>5</td><td>2</td><td> 5</td><td> 5</td><td>20</td><td>4.0</td><td>Young</td></tr>\n",
              "\t<tr><td>3</td><td>2008-10-01</td><td>UK</td><td>F</td><td>25</td><td>3</td><td>5</td><td>5</td><td> 5</td><td> 2</td><td>20</td><td>4.0</td><td>Young</td></tr>\n",
              "\t<tr><td>4</td><td>2008-10-12</td><td>UK</td><td>M</td><td>39</td><td>3</td><td>3</td><td>4</td><td>NA</td><td>NA</td><td>NA</td><td> NA</td><td>Young</td></tr>\n",
              "\t<tr><td>5</td><td>2009-05-01</td><td>UK</td><td>F</td><td>NA</td><td>2</td><td>2</td><td>1</td><td> 2</td><td> 1</td><td> 8</td><td>1.6</td><td>NA   </td></tr>\n",
              "</tbody>\n",
              "</table>\n"
            ],
            "text/markdown": "\nA data.frame: 5 × 13\n\n| manager &lt;dbl&gt; | testDate &lt;date&gt; | country &lt;chr&gt; | gender &lt;chr&gt; | age &lt;dbl&gt; | item1 &lt;dbl&gt; | item2 &lt;dbl&gt; | item3 &lt;dbl&gt; | item4 &lt;dbl&gt; | item5 &lt;dbl&gt; | total_score &lt;dbl&gt; | mean_score &lt;dbl&gt; | agecat &lt;chr&gt; |\n|---|---|---|---|---|---|---|---|---|---|---|---|---|\n| 1 | 2008-10-24 | US | M | 32 | 5 | 4 | 5 |  5 |  5 | 24 | 4.8 | Young |\n| 2 | 2008-10-28 | US | F | 45 | 3 | 5 | 2 |  5 |  5 | 20 | 4.0 | Young |\n| 3 | 2008-10-01 | UK | F | 25 | 3 | 5 | 5 |  5 |  2 | 20 | 4.0 | Young |\n| 4 | 2008-10-12 | UK | M | 39 | 3 | 3 | 4 | NA | NA | NA |  NA | Young |\n| 5 | 2009-05-01 | UK | F | NA | 2 | 2 | 1 |  2 |  1 |  8 | 1.6 | NA    |\n\n",
            "text/latex": "A data.frame: 5 × 13\n\\begin{tabular}{lllllllllllll}\n manager & testDate & country & gender & age & item1 & item2 & item3 & item4 & item5 & total\\_score & mean\\_score & agecat\\\\\n <dbl> & <date> & <chr> & <chr> & <dbl> & <dbl> & <dbl> & <dbl> & <dbl> & <dbl> & <dbl> & <dbl> & <chr>\\\\\n\\hline\n\t 1 & 2008-10-24 & US & M & 32 & 5 & 4 & 5 &  5 &  5 & 24 & 4.8 & Young\\\\\n\t 2 & 2008-10-28 & US & F & 45 & 3 & 5 & 2 &  5 &  5 & 20 & 4.0 & Young\\\\\n\t 3 & 2008-10-01 & UK & F & 25 & 3 & 5 & 5 &  5 &  2 & 20 & 4.0 & Young\\\\\n\t 4 & 2008-10-12 & UK & M & 39 & 3 & 3 & 4 & NA & NA & NA &  NA & Young\\\\\n\t 5 & 2009-05-01 & UK & F & NA & 2 & 2 & 1 &  2 &  1 &  8 & 1.6 & NA   \\\\\n\\end{tabular}\n",
            "text/plain": [
              "  manager testDate   country gender age item1 item2 item3 item4 item5\n",
              "1 1       2008-10-24 US      M      32  5     4     5      5     5   \n",
              "2 2       2008-10-28 US      F      45  3     5     2      5     5   \n",
              "3 3       2008-10-01 UK      F      25  3     5     5      5     2   \n",
              "4 4       2008-10-12 UK      M      39  3     3     4     NA    NA   \n",
              "5 5       2009-05-01 UK      F      NA  2     2     1      2     1   \n",
              "  total_score mean_score agecat\n",
              "1 24          4.8        Young \n",
              "2 20          4.0        Young \n",
              "3 20          4.0        Young \n",
              "4 NA           NA        Young \n",
              "5  8          1.6        NA    "
            ]
          },
          "metadata": {}
        }
      ]
    },
    {
      "cell_type": "code",
      "source": [
        "Sys.Date()\n",
        "date()"
      ],
      "metadata": {
        "id": "87_IndNslarZ",
        "outputId": "dd33fbfc-f625-436d-9f62-8bb6e6ae88fb",
        "colab": {
          "base_uri": "https://localhost:8080/",
          "height": 52
        }
      },
      "execution_count": 18,
      "outputs": [
        {
          "output_type": "display_data",
          "data": {
            "text/html": [
              "<time datetime=\"2024-06-06\">2024-06-06</time>"
            ],
            "text/markdown": "2024-06-06",
            "text/latex": "2024-06-06",
            "text/plain": [
              "[1] \"2024-06-06\""
            ]
          },
          "metadata": {}
        },
        {
          "output_type": "display_data",
          "data": {
            "text/html": [
              "<span style=white-space:pre-wrap>'Thu Jun  6 13:48:01 2024'</span>"
            ],
            "text/markdown": "<span style=white-space:pre-wrap>'Thu Jun  6 13:48:01 2024'</span>",
            "text/latex": "'Thu Jun  6 13:48:01 2024'",
            "text/plain": [
              "[1] \"Thu Jun  6 13:48:01 2024\""
            ]
          },
          "metadata": {}
        }
      ]
    },
    {
      "cell_type": "code",
      "source": [
        "today <- Sys.Date()\n",
        "format(today, format=\"%B %d %Y\")\n",
        "format(today, format=\"%A\")"
      ],
      "metadata": {
        "id": "pOxWxp8AQ7Wc",
        "outputId": "88ccda22-bf01-455d-e5ea-c40b43063bfc",
        "colab": {
          "base_uri": "https://localhost:8080/",
          "height": 52
        }
      },
      "execution_count": 19,
      "outputs": [
        {
          "output_type": "display_data",
          "data": {
            "text/html": [
              "'June 06 2024'"
            ],
            "text/markdown": "'June 06 2024'",
            "text/latex": "'June 06 2024'",
            "text/plain": [
              "[1] \"June 06 2024\""
            ]
          },
          "metadata": {}
        },
        {
          "output_type": "display_data",
          "data": {
            "text/html": [
              "'Thursday'"
            ],
            "text/markdown": "'Thursday'",
            "text/latex": "'Thursday'",
            "text/plain": [
              "[1] \"Thursday\""
            ]
          },
          "metadata": {}
        }
      ]
    },
    {
      "cell_type": "code",
      "source": [
        "# С датами можно производить арефметические действия\n",
        "startdate <- as.Date(\"2020-02-13\")\n",
        "enddate <- as.Date(\"2021-01-22\")\n",
        "days <- enddate - startdate\n",
        "days"
      ],
      "metadata": {
        "id": "TRZdnaiXheH3",
        "outputId": "6ca9eb4c-b0a0-490f-c6d0-5d5432137ffb",
        "colab": {
          "base_uri": "https://localhost:8080/",
          "height": 34
        }
      },
      "execution_count": 20,
      "outputs": [
        {
          "output_type": "display_data",
          "data": {
            "text/plain": [
              "Time difference of 344 days"
            ]
          },
          "metadata": {}
        }
      ]
    },
    {
      "cell_type": "code",
      "source": [
        "today <- Sys.Date()\n",
        "dob <- as.Date(\"1956-10-12\")\n",
        "difftime(today, dob, units=\"weeks\")"
      ],
      "metadata": {
        "id": "736Dut-6h3TG",
        "outputId": "7c63b2c7-bac1-40f7-f1c9-261a7fff8927",
        "colab": {
          "base_uri": "https://localhost:8080/",
          "height": 34
        }
      },
      "execution_count": 21,
      "outputs": [
        {
          "output_type": "display_data",
          "data": {
            "text/plain": [
              "Time difference of 3529.857 weeks"
            ]
          },
          "metadata": {}
        }
      ]
    },
    {
      "cell_type": "markdown",
      "source": [
        "# Преобразование дат в текстовые переменные\n",
        "Также есть возможность преобразовать данные в формате даты и времени в текстовые значения, хотя это бывает нужно не так часто. Это можно сделать при помощи функции `as.character()`:\n",
        "\n",
        "`strDates <- as.character(dates)`\n",
        "\n",
        "Это позволяет применять к датам многие текстовые функции (разделение на подгруппы, замена, конкатенация и т. д.)."
      ],
      "metadata": {
        "id": "4Y6-TFH-pTWP"
      }
    },
    {
      "cell_type": "markdown",
      "source": [
        "### Дополнительно\n",
        "Чтобы узнать больше о преобразовании текстовых переменных в даты, загляните в справку `help(as.Date)` и `help(strftime)`. Также дополнительную информацию о форматах даты и времени можно найти в `help(ISOdatetime)`. Пакет lubridate содержит множество функций, упрощающих работу с датами, в том числе функции, обнаруживающие данные в формате даты и времени и извлекающие отдельные составляющие таких данных (например, годы, месяцы, дни и т. д.), а также выполняющие арифметические операции с ними. Если вам нужно произвести сложные вычисления с датами, воспользуйтесь пакетом fCalendar. В нем содержится несметное число функций для работы с датами. Эти функции позволяют одновременно работать с несколькими часовыми поясами и совершать сложные операции с календарем, распознавая рабочие, выходные и праздничные дни."
      ],
      "metadata": {
        "id": "9vwq1svsriR5"
      }
    },
    {
      "cell_type": "markdown",
      "source": [
        "## Преобразование данных из одного типа в другой\n",
        "Функции:\n",
        "* `is.тип_данных()` - возвращают TRUE или FALSE,\n",
        "* `as.тип_данных()` - преобразуют данные в соответствующий формат.\n",
        "\n",
        "\n",
        "---\n",
        "* is.numeric() ----------- as.numeric()\n",
        "* is.character() --------- as.character()\n",
        "* is.vector() -------------- as.vector()\n",
        "* is.matrix() -------------- as.matrix()\n",
        "* is.data.frame() ------- as.data.frame()\n",
        "* is.factor() --------------- as.factor()\n",
        "* is.logical() -------------- as.logical()\n",
        "\n"
      ],
      "metadata": {
        "id": "JJRU9-2GwiVQ"
      }
    },
    {
      "cell_type": "markdown",
      "source": [
        "## Сортировка данных\n",
        "\n",
        "Используется функция `order()`. По умолчанию данные сортируются в порядке возрастания. Можно использовать знак минус перед показателем, тогда будет обратная сортировка по убыванию."
      ],
      "metadata": {
        "id": "DwDHUDVQF4wv"
      }
    },
    {
      "cell_type": "code",
      "source": [
        "# по возрасту в порядке возрастания\n",
        "newdata <- leadership[order(leadership$age),]\n",
        "newdata"
      ],
      "metadata": {
        "id": "9xhKAEjzGj-P",
        "outputId": "b0678cc6-d35f-429e-8160-eadc66ec11d4",
        "colab": {
          "base_uri": "https://localhost:8080/",
          "height": 255
        }
      },
      "execution_count": 22,
      "outputs": [
        {
          "output_type": "display_data",
          "data": {
            "text/html": [
              "<table class=\"dataframe\">\n",
              "<caption>A data.frame: 5 × 13</caption>\n",
              "<thead>\n",
              "\t<tr><th></th><th scope=col>manager</th><th scope=col>testDate</th><th scope=col>country</th><th scope=col>gender</th><th scope=col>age</th><th scope=col>item1</th><th scope=col>item2</th><th scope=col>item3</th><th scope=col>item4</th><th scope=col>item5</th><th scope=col>total_score</th><th scope=col>mean_score</th><th scope=col>agecat</th></tr>\n",
              "\t<tr><th></th><th scope=col>&lt;dbl&gt;</th><th scope=col>&lt;date&gt;</th><th scope=col>&lt;chr&gt;</th><th scope=col>&lt;chr&gt;</th><th scope=col>&lt;dbl&gt;</th><th scope=col>&lt;dbl&gt;</th><th scope=col>&lt;dbl&gt;</th><th scope=col>&lt;dbl&gt;</th><th scope=col>&lt;dbl&gt;</th><th scope=col>&lt;dbl&gt;</th><th scope=col>&lt;dbl&gt;</th><th scope=col>&lt;dbl&gt;</th><th scope=col>&lt;chr&gt;</th></tr>\n",
              "</thead>\n",
              "<tbody>\n",
              "\t<tr><th scope=row>3</th><td>3</td><td>2008-10-01</td><td>UK</td><td>F</td><td>25</td><td>3</td><td>5</td><td>5</td><td> 5</td><td> 2</td><td>20</td><td>4.0</td><td>Young</td></tr>\n",
              "\t<tr><th scope=row>1</th><td>1</td><td>2008-10-24</td><td>US</td><td>M</td><td>32</td><td>5</td><td>4</td><td>5</td><td> 5</td><td> 5</td><td>24</td><td>4.8</td><td>Young</td></tr>\n",
              "\t<tr><th scope=row>4</th><td>4</td><td>2008-10-12</td><td>UK</td><td>M</td><td>39</td><td>3</td><td>3</td><td>4</td><td>NA</td><td>NA</td><td>NA</td><td> NA</td><td>Young</td></tr>\n",
              "\t<tr><th scope=row>2</th><td>2</td><td>2008-10-28</td><td>US</td><td>F</td><td>45</td><td>3</td><td>5</td><td>2</td><td> 5</td><td> 5</td><td>20</td><td>4.0</td><td>Young</td></tr>\n",
              "\t<tr><th scope=row>5</th><td>5</td><td>2009-05-01</td><td>UK</td><td>F</td><td>NA</td><td>2</td><td>2</td><td>1</td><td> 2</td><td> 1</td><td> 8</td><td>1.6</td><td>NA   </td></tr>\n",
              "</tbody>\n",
              "</table>\n"
            ],
            "text/markdown": "\nA data.frame: 5 × 13\n\n| <!--/--> | manager &lt;dbl&gt; | testDate &lt;date&gt; | country &lt;chr&gt; | gender &lt;chr&gt; | age &lt;dbl&gt; | item1 &lt;dbl&gt; | item2 &lt;dbl&gt; | item3 &lt;dbl&gt; | item4 &lt;dbl&gt; | item5 &lt;dbl&gt; | total_score &lt;dbl&gt; | mean_score &lt;dbl&gt; | agecat &lt;chr&gt; |\n|---|---|---|---|---|---|---|---|---|---|---|---|---|---|\n| 3 | 3 | 2008-10-01 | UK | F | 25 | 3 | 5 | 5 |  5 |  2 | 20 | 4.0 | Young |\n| 1 | 1 | 2008-10-24 | US | M | 32 | 5 | 4 | 5 |  5 |  5 | 24 | 4.8 | Young |\n| 4 | 4 | 2008-10-12 | UK | M | 39 | 3 | 3 | 4 | NA | NA | NA |  NA | Young |\n| 2 | 2 | 2008-10-28 | US | F | 45 | 3 | 5 | 2 |  5 |  5 | 20 | 4.0 | Young |\n| 5 | 5 | 2009-05-01 | UK | F | NA | 2 | 2 | 1 |  2 |  1 |  8 | 1.6 | NA    |\n\n",
            "text/latex": "A data.frame: 5 × 13\n\\begin{tabular}{r|lllllllllllll}\n  & manager & testDate & country & gender & age & item1 & item2 & item3 & item4 & item5 & total\\_score & mean\\_score & agecat\\\\\n  & <dbl> & <date> & <chr> & <chr> & <dbl> & <dbl> & <dbl> & <dbl> & <dbl> & <dbl> & <dbl> & <dbl> & <chr>\\\\\n\\hline\n\t3 & 3 & 2008-10-01 & UK & F & 25 & 3 & 5 & 5 &  5 &  2 & 20 & 4.0 & Young\\\\\n\t1 & 1 & 2008-10-24 & US & M & 32 & 5 & 4 & 5 &  5 &  5 & 24 & 4.8 & Young\\\\\n\t4 & 4 & 2008-10-12 & UK & M & 39 & 3 & 3 & 4 & NA & NA & NA &  NA & Young\\\\\n\t2 & 2 & 2008-10-28 & US & F & 45 & 3 & 5 & 2 &  5 &  5 & 20 & 4.0 & Young\\\\\n\t5 & 5 & 2009-05-01 & UK & F & NA & 2 & 2 & 1 &  2 &  1 &  8 & 1.6 & NA   \\\\\n\\end{tabular}\n",
            "text/plain": [
              "  manager testDate   country gender age item1 item2 item3 item4 item5\n",
              "3 3       2008-10-01 UK      F      25  3     5     5      5     2   \n",
              "1 1       2008-10-24 US      M      32  5     4     5      5     5   \n",
              "4 4       2008-10-12 UK      M      39  3     3     4     NA    NA   \n",
              "2 2       2008-10-28 US      F      45  3     5     2      5     5   \n",
              "5 5       2009-05-01 UK      F      NA  2     2     1      2     1   \n",
              "  total_score mean_score agecat\n",
              "3 20          4.0        Young \n",
              "1 24          4.8        Young \n",
              "4 NA           NA        Young \n",
              "2 20          4.0        Young \n",
              "5  8          1.6        NA    "
            ]
          },
          "metadata": {}
        }
      ]
    },
    {
      "cell_type": "code",
      "source": [
        "# по возрасту в порядке убывания\n",
        "newdata <- leadership[order(-leadership$age),]\n",
        "newdata"
      ],
      "metadata": {
        "id": "PHXR6t8NHZ3w",
        "outputId": "8fff1d1c-30dc-4e61-a9d0-0dc76a0982c2",
        "colab": {
          "base_uri": "https://localhost:8080/",
          "height": 255
        }
      },
      "execution_count": 23,
      "outputs": [
        {
          "output_type": "display_data",
          "data": {
            "text/html": [
              "<table class=\"dataframe\">\n",
              "<caption>A data.frame: 5 × 13</caption>\n",
              "<thead>\n",
              "\t<tr><th></th><th scope=col>manager</th><th scope=col>testDate</th><th scope=col>country</th><th scope=col>gender</th><th scope=col>age</th><th scope=col>item1</th><th scope=col>item2</th><th scope=col>item3</th><th scope=col>item4</th><th scope=col>item5</th><th scope=col>total_score</th><th scope=col>mean_score</th><th scope=col>agecat</th></tr>\n",
              "\t<tr><th></th><th scope=col>&lt;dbl&gt;</th><th scope=col>&lt;date&gt;</th><th scope=col>&lt;chr&gt;</th><th scope=col>&lt;chr&gt;</th><th scope=col>&lt;dbl&gt;</th><th scope=col>&lt;dbl&gt;</th><th scope=col>&lt;dbl&gt;</th><th scope=col>&lt;dbl&gt;</th><th scope=col>&lt;dbl&gt;</th><th scope=col>&lt;dbl&gt;</th><th scope=col>&lt;dbl&gt;</th><th scope=col>&lt;dbl&gt;</th><th scope=col>&lt;chr&gt;</th></tr>\n",
              "</thead>\n",
              "<tbody>\n",
              "\t<tr><th scope=row>2</th><td>2</td><td>2008-10-28</td><td>US</td><td>F</td><td>45</td><td>3</td><td>5</td><td>2</td><td> 5</td><td> 5</td><td>20</td><td>4.0</td><td>Young</td></tr>\n",
              "\t<tr><th scope=row>4</th><td>4</td><td>2008-10-12</td><td>UK</td><td>M</td><td>39</td><td>3</td><td>3</td><td>4</td><td>NA</td><td>NA</td><td>NA</td><td> NA</td><td>Young</td></tr>\n",
              "\t<tr><th scope=row>1</th><td>1</td><td>2008-10-24</td><td>US</td><td>M</td><td>32</td><td>5</td><td>4</td><td>5</td><td> 5</td><td> 5</td><td>24</td><td>4.8</td><td>Young</td></tr>\n",
              "\t<tr><th scope=row>3</th><td>3</td><td>2008-10-01</td><td>UK</td><td>F</td><td>25</td><td>3</td><td>5</td><td>5</td><td> 5</td><td> 2</td><td>20</td><td>4.0</td><td>Young</td></tr>\n",
              "\t<tr><th scope=row>5</th><td>5</td><td>2009-05-01</td><td>UK</td><td>F</td><td>NA</td><td>2</td><td>2</td><td>1</td><td> 2</td><td> 1</td><td> 8</td><td>1.6</td><td>NA   </td></tr>\n",
              "</tbody>\n",
              "</table>\n"
            ],
            "text/markdown": "\nA data.frame: 5 × 13\n\n| <!--/--> | manager &lt;dbl&gt; | testDate &lt;date&gt; | country &lt;chr&gt; | gender &lt;chr&gt; | age &lt;dbl&gt; | item1 &lt;dbl&gt; | item2 &lt;dbl&gt; | item3 &lt;dbl&gt; | item4 &lt;dbl&gt; | item5 &lt;dbl&gt; | total_score &lt;dbl&gt; | mean_score &lt;dbl&gt; | agecat &lt;chr&gt; |\n|---|---|---|---|---|---|---|---|---|---|---|---|---|---|\n| 2 | 2 | 2008-10-28 | US | F | 45 | 3 | 5 | 2 |  5 |  5 | 20 | 4.0 | Young |\n| 4 | 4 | 2008-10-12 | UK | M | 39 | 3 | 3 | 4 | NA | NA | NA |  NA | Young |\n| 1 | 1 | 2008-10-24 | US | M | 32 | 5 | 4 | 5 |  5 |  5 | 24 | 4.8 | Young |\n| 3 | 3 | 2008-10-01 | UK | F | 25 | 3 | 5 | 5 |  5 |  2 | 20 | 4.0 | Young |\n| 5 | 5 | 2009-05-01 | UK | F | NA | 2 | 2 | 1 |  2 |  1 |  8 | 1.6 | NA    |\n\n",
            "text/latex": "A data.frame: 5 × 13\n\\begin{tabular}{r|lllllllllllll}\n  & manager & testDate & country & gender & age & item1 & item2 & item3 & item4 & item5 & total\\_score & mean\\_score & agecat\\\\\n  & <dbl> & <date> & <chr> & <chr> & <dbl> & <dbl> & <dbl> & <dbl> & <dbl> & <dbl> & <dbl> & <dbl> & <chr>\\\\\n\\hline\n\t2 & 2 & 2008-10-28 & US & F & 45 & 3 & 5 & 2 &  5 &  5 & 20 & 4.0 & Young\\\\\n\t4 & 4 & 2008-10-12 & UK & M & 39 & 3 & 3 & 4 & NA & NA & NA &  NA & Young\\\\\n\t1 & 1 & 2008-10-24 & US & M & 32 & 5 & 4 & 5 &  5 &  5 & 24 & 4.8 & Young\\\\\n\t3 & 3 & 2008-10-01 & UK & F & 25 & 3 & 5 & 5 &  5 &  2 & 20 & 4.0 & Young\\\\\n\t5 & 5 & 2009-05-01 & UK & F & NA & 2 & 2 & 1 &  2 &  1 &  8 & 1.6 & NA   \\\\\n\\end{tabular}\n",
            "text/plain": [
              "  manager testDate   country gender age item1 item2 item3 item4 item5\n",
              "2 2       2008-10-28 US      F      45  3     5     2      5     5   \n",
              "4 4       2008-10-12 UK      M      39  3     3     4     NA    NA   \n",
              "1 1       2008-10-24 US      M      32  5     4     5      5     5   \n",
              "3 3       2008-10-01 UK      F      25  3     5     5      5     2   \n",
              "5 5       2009-05-01 UK      F      NA  2     2     1      2     1   \n",
              "  total_score mean_score agecat\n",
              "2 20          4.0        Young \n",
              "4 NA           NA        Young \n",
              "1 24          4.8        Young \n",
              "3 20          4.0        Young \n",
              "5  8          1.6        NA    "
            ]
          },
          "metadata": {}
        }
      ]
    },
    {
      "cell_type": "code",
      "source": [
        "# по полу а затем по возрасту в пределах каждого пола\n",
        "newdata <- leadership[order(leadership$gender, leadership$age),]\n",
        "newdata"
      ],
      "metadata": {
        "id": "ntP4U4NFHjhX",
        "outputId": "04df32e9-e866-4c01-dd72-04694c2364ab",
        "colab": {
          "base_uri": "https://localhost:8080/",
          "height": 255
        }
      },
      "execution_count": 24,
      "outputs": [
        {
          "output_type": "display_data",
          "data": {
            "text/html": [
              "<table class=\"dataframe\">\n",
              "<caption>A data.frame: 5 × 13</caption>\n",
              "<thead>\n",
              "\t<tr><th></th><th scope=col>manager</th><th scope=col>testDate</th><th scope=col>country</th><th scope=col>gender</th><th scope=col>age</th><th scope=col>item1</th><th scope=col>item2</th><th scope=col>item3</th><th scope=col>item4</th><th scope=col>item5</th><th scope=col>total_score</th><th scope=col>mean_score</th><th scope=col>agecat</th></tr>\n",
              "\t<tr><th></th><th scope=col>&lt;dbl&gt;</th><th scope=col>&lt;date&gt;</th><th scope=col>&lt;chr&gt;</th><th scope=col>&lt;chr&gt;</th><th scope=col>&lt;dbl&gt;</th><th scope=col>&lt;dbl&gt;</th><th scope=col>&lt;dbl&gt;</th><th scope=col>&lt;dbl&gt;</th><th scope=col>&lt;dbl&gt;</th><th scope=col>&lt;dbl&gt;</th><th scope=col>&lt;dbl&gt;</th><th scope=col>&lt;dbl&gt;</th><th scope=col>&lt;chr&gt;</th></tr>\n",
              "</thead>\n",
              "<tbody>\n",
              "\t<tr><th scope=row>3</th><td>3</td><td>2008-10-01</td><td>UK</td><td>F</td><td>25</td><td>3</td><td>5</td><td>5</td><td> 5</td><td> 2</td><td>20</td><td>4.0</td><td>Young</td></tr>\n",
              "\t<tr><th scope=row>2</th><td>2</td><td>2008-10-28</td><td>US</td><td>F</td><td>45</td><td>3</td><td>5</td><td>2</td><td> 5</td><td> 5</td><td>20</td><td>4.0</td><td>Young</td></tr>\n",
              "\t<tr><th scope=row>5</th><td>5</td><td>2009-05-01</td><td>UK</td><td>F</td><td>NA</td><td>2</td><td>2</td><td>1</td><td> 2</td><td> 1</td><td> 8</td><td>1.6</td><td>NA   </td></tr>\n",
              "\t<tr><th scope=row>1</th><td>1</td><td>2008-10-24</td><td>US</td><td>M</td><td>32</td><td>5</td><td>4</td><td>5</td><td> 5</td><td> 5</td><td>24</td><td>4.8</td><td>Young</td></tr>\n",
              "\t<tr><th scope=row>4</th><td>4</td><td>2008-10-12</td><td>UK</td><td>M</td><td>39</td><td>3</td><td>3</td><td>4</td><td>NA</td><td>NA</td><td>NA</td><td> NA</td><td>Young</td></tr>\n",
              "</tbody>\n",
              "</table>\n"
            ],
            "text/markdown": "\nA data.frame: 5 × 13\n\n| <!--/--> | manager &lt;dbl&gt; | testDate &lt;date&gt; | country &lt;chr&gt; | gender &lt;chr&gt; | age &lt;dbl&gt; | item1 &lt;dbl&gt; | item2 &lt;dbl&gt; | item3 &lt;dbl&gt; | item4 &lt;dbl&gt; | item5 &lt;dbl&gt; | total_score &lt;dbl&gt; | mean_score &lt;dbl&gt; | agecat &lt;chr&gt; |\n|---|---|---|---|---|---|---|---|---|---|---|---|---|---|\n| 3 | 3 | 2008-10-01 | UK | F | 25 | 3 | 5 | 5 |  5 |  2 | 20 | 4.0 | Young |\n| 2 | 2 | 2008-10-28 | US | F | 45 | 3 | 5 | 2 |  5 |  5 | 20 | 4.0 | Young |\n| 5 | 5 | 2009-05-01 | UK | F | NA | 2 | 2 | 1 |  2 |  1 |  8 | 1.6 | NA    |\n| 1 | 1 | 2008-10-24 | US | M | 32 | 5 | 4 | 5 |  5 |  5 | 24 | 4.8 | Young |\n| 4 | 4 | 2008-10-12 | UK | M | 39 | 3 | 3 | 4 | NA | NA | NA |  NA | Young |\n\n",
            "text/latex": "A data.frame: 5 × 13\n\\begin{tabular}{r|lllllllllllll}\n  & manager & testDate & country & gender & age & item1 & item2 & item3 & item4 & item5 & total\\_score & mean\\_score & agecat\\\\\n  & <dbl> & <date> & <chr> & <chr> & <dbl> & <dbl> & <dbl> & <dbl> & <dbl> & <dbl> & <dbl> & <dbl> & <chr>\\\\\n\\hline\n\t3 & 3 & 2008-10-01 & UK & F & 25 & 3 & 5 & 5 &  5 &  2 & 20 & 4.0 & Young\\\\\n\t2 & 2 & 2008-10-28 & US & F & 45 & 3 & 5 & 2 &  5 &  5 & 20 & 4.0 & Young\\\\\n\t5 & 5 & 2009-05-01 & UK & F & NA & 2 & 2 & 1 &  2 &  1 &  8 & 1.6 & NA   \\\\\n\t1 & 1 & 2008-10-24 & US & M & 32 & 5 & 4 & 5 &  5 &  5 & 24 & 4.8 & Young\\\\\n\t4 & 4 & 2008-10-12 & UK & M & 39 & 3 & 3 & 4 & NA & NA & NA &  NA & Young\\\\\n\\end{tabular}\n",
            "text/plain": [
              "  manager testDate   country gender age item1 item2 item3 item4 item5\n",
              "3 3       2008-10-01 UK      F      25  3     5     5      5     2   \n",
              "2 2       2008-10-28 US      F      45  3     5     2      5     5   \n",
              "5 5       2009-05-01 UK      F      NA  2     2     1      2     1   \n",
              "1 1       2008-10-24 US      M      32  5     4     5      5     5   \n",
              "4 4       2008-10-12 UK      M      39  3     3     4     NA    NA   \n",
              "  total_score mean_score agecat\n",
              "3 20          4.0        Young \n",
              "2 20          4.0        Young \n",
              "5  8          1.6        NA    \n",
              "1 24          4.8        Young \n",
              "4 NA           NA        Young "
            ]
          },
          "metadata": {}
        }
      ]
    },
    {
      "cell_type": "code",
      "source": [
        "# по полу а затем по возрасту (на убывание) в пределах каждого пола\n",
        "newdata <- leadership[order(leadership$gender, -leadership$age),]\n",
        "newdata"
      ],
      "metadata": {
        "id": "BQ1am6iGIPkw",
        "outputId": "c1d62a41-dd0e-4c8d-b24d-c427a0d1a8e8",
        "colab": {
          "base_uri": "https://localhost:8080/",
          "height": 255
        }
      },
      "execution_count": 25,
      "outputs": [
        {
          "output_type": "display_data",
          "data": {
            "text/html": [
              "<table class=\"dataframe\">\n",
              "<caption>A data.frame: 5 × 13</caption>\n",
              "<thead>\n",
              "\t<tr><th></th><th scope=col>manager</th><th scope=col>testDate</th><th scope=col>country</th><th scope=col>gender</th><th scope=col>age</th><th scope=col>item1</th><th scope=col>item2</th><th scope=col>item3</th><th scope=col>item4</th><th scope=col>item5</th><th scope=col>total_score</th><th scope=col>mean_score</th><th scope=col>agecat</th></tr>\n",
              "\t<tr><th></th><th scope=col>&lt;dbl&gt;</th><th scope=col>&lt;date&gt;</th><th scope=col>&lt;chr&gt;</th><th scope=col>&lt;chr&gt;</th><th scope=col>&lt;dbl&gt;</th><th scope=col>&lt;dbl&gt;</th><th scope=col>&lt;dbl&gt;</th><th scope=col>&lt;dbl&gt;</th><th scope=col>&lt;dbl&gt;</th><th scope=col>&lt;dbl&gt;</th><th scope=col>&lt;dbl&gt;</th><th scope=col>&lt;dbl&gt;</th><th scope=col>&lt;chr&gt;</th></tr>\n",
              "</thead>\n",
              "<tbody>\n",
              "\t<tr><th scope=row>2</th><td>2</td><td>2008-10-28</td><td>US</td><td>F</td><td>45</td><td>3</td><td>5</td><td>2</td><td> 5</td><td> 5</td><td>20</td><td>4.0</td><td>Young</td></tr>\n",
              "\t<tr><th scope=row>3</th><td>3</td><td>2008-10-01</td><td>UK</td><td>F</td><td>25</td><td>3</td><td>5</td><td>5</td><td> 5</td><td> 2</td><td>20</td><td>4.0</td><td>Young</td></tr>\n",
              "\t<tr><th scope=row>5</th><td>5</td><td>2009-05-01</td><td>UK</td><td>F</td><td>NA</td><td>2</td><td>2</td><td>1</td><td> 2</td><td> 1</td><td> 8</td><td>1.6</td><td>NA   </td></tr>\n",
              "\t<tr><th scope=row>4</th><td>4</td><td>2008-10-12</td><td>UK</td><td>M</td><td>39</td><td>3</td><td>3</td><td>4</td><td>NA</td><td>NA</td><td>NA</td><td> NA</td><td>Young</td></tr>\n",
              "\t<tr><th scope=row>1</th><td>1</td><td>2008-10-24</td><td>US</td><td>M</td><td>32</td><td>5</td><td>4</td><td>5</td><td> 5</td><td> 5</td><td>24</td><td>4.8</td><td>Young</td></tr>\n",
              "</tbody>\n",
              "</table>\n"
            ],
            "text/markdown": "\nA data.frame: 5 × 13\n\n| <!--/--> | manager &lt;dbl&gt; | testDate &lt;date&gt; | country &lt;chr&gt; | gender &lt;chr&gt; | age &lt;dbl&gt; | item1 &lt;dbl&gt; | item2 &lt;dbl&gt; | item3 &lt;dbl&gt; | item4 &lt;dbl&gt; | item5 &lt;dbl&gt; | total_score &lt;dbl&gt; | mean_score &lt;dbl&gt; | agecat &lt;chr&gt; |\n|---|---|---|---|---|---|---|---|---|---|---|---|---|---|\n| 2 | 2 | 2008-10-28 | US | F | 45 | 3 | 5 | 2 |  5 |  5 | 20 | 4.0 | Young |\n| 3 | 3 | 2008-10-01 | UK | F | 25 | 3 | 5 | 5 |  5 |  2 | 20 | 4.0 | Young |\n| 5 | 5 | 2009-05-01 | UK | F | NA | 2 | 2 | 1 |  2 |  1 |  8 | 1.6 | NA    |\n| 4 | 4 | 2008-10-12 | UK | M | 39 | 3 | 3 | 4 | NA | NA | NA |  NA | Young |\n| 1 | 1 | 2008-10-24 | US | M | 32 | 5 | 4 | 5 |  5 |  5 | 24 | 4.8 | Young |\n\n",
            "text/latex": "A data.frame: 5 × 13\n\\begin{tabular}{r|lllllllllllll}\n  & manager & testDate & country & gender & age & item1 & item2 & item3 & item4 & item5 & total\\_score & mean\\_score & agecat\\\\\n  & <dbl> & <date> & <chr> & <chr> & <dbl> & <dbl> & <dbl> & <dbl> & <dbl> & <dbl> & <dbl> & <dbl> & <chr>\\\\\n\\hline\n\t2 & 2 & 2008-10-28 & US & F & 45 & 3 & 5 & 2 &  5 &  5 & 20 & 4.0 & Young\\\\\n\t3 & 3 & 2008-10-01 & UK & F & 25 & 3 & 5 & 5 &  5 &  2 & 20 & 4.0 & Young\\\\\n\t5 & 5 & 2009-05-01 & UK & F & NA & 2 & 2 & 1 &  2 &  1 &  8 & 1.6 & NA   \\\\\n\t4 & 4 & 2008-10-12 & UK & M & 39 & 3 & 3 & 4 & NA & NA & NA &  NA & Young\\\\\n\t1 & 1 & 2008-10-24 & US & M & 32 & 5 & 4 & 5 &  5 &  5 & 24 & 4.8 & Young\\\\\n\\end{tabular}\n",
            "text/plain": [
              "  manager testDate   country gender age item1 item2 item3 item4 item5\n",
              "2 2       2008-10-28 US      F      45  3     5     2      5     5   \n",
              "3 3       2008-10-01 UK      F      25  3     5     5      5     2   \n",
              "5 5       2009-05-01 UK      F      NA  2     2     1      2     1   \n",
              "4 4       2008-10-12 UK      M      39  3     3     4     NA    NA   \n",
              "1 1       2008-10-24 US      M      32  5     4     5      5     5   \n",
              "  total_score mean_score agecat\n",
              "2 20          4.0        Young \n",
              "3 20          4.0        Young \n",
              "5  8          1.6        NA    \n",
              "4 NA           NA        Young \n",
              "1 24          4.8        Young "
            ]
          },
          "metadata": {}
        }
      ]
    },
    {
      "cell_type": "markdown",
      "source": [
        "## Объединение наборов данных\n",
        "\n",
        "Если данные существуют в виде разрозненных фрагментов, их нужно объединить, прежде чем двигаться дальше. В этом разделе я расскажу, как добавлять столбцы (переменные) и строки (наблюдения) в таблицы данных."
      ],
      "metadata": {
        "id": "P4mSvfpdIcWf"
      }
    },
    {
      "cell_type": "markdown",
      "source": [
        "### Добавление столбцов\n",
        "\n",
        "Для объединения двух таблиц можно использовать функцию merge(). В большинстве случаев две таблицы объединяются по значениям одной или нескольких ключевых переменных. К примеру, инструкция:\n",
        "```\n",
        "total <- merge(dataframeA, dataframeB, by=\"ID\")\n",
        "```\n",
        "объединит таблицы данных dataframeA и dataframeB по значениям переменной ID. Аналогично инструкция:\n",
        "\n",
        "```\n",
        "total <- merge(dataframeA, dataframeB, by=c(\"ID\",\"Country\"))\n",
        "```\n",
        "объединит две таблицы данных по значениям переменных ID\n",
        "и Country. Подобное соединение таблиц данных по горизонта-\n",
        "ли часто используется для добавления переменных в таблицы\n",
        "данных.\n",
        "\n",
        "### Объединение по горизонтали с помощью cbind()\n",
        "Если нужно просто объединить две матрицы или таблицы данных по горизонтали без указания общего ключа, по которому должно выполняться объединение, можно использовать функцию `cbind()`:\n",
        "```\n",
        "total <- cbind(A, B)\n",
        "```\n",
        "Эта функция объединяет объекты A и B по горизонтали. Чтобы функция работала правильно, каждый объект должен иметь одинаковое число строк, расположенных в одинаковом порядке.\n",
        "\n"
      ],
      "metadata": {
        "id": "w7MlZVjFJLPP"
      }
    },
    {
      "cell_type": "markdown",
      "source": [
        "### Добавление строк\n",
        "\n",
        "Для объединения двух таблиц данных по вертикали можно использовать функцию `rbind()`:\n",
        "```\n",
        "total <- rbind(dataframeA, dataframeB)\n",
        "```\n",
        "Объединяемые таблицы должны содержать одинаковые наборы переменных, но не обязательно в одной и той же последовательности. Если в таблице dataframeA есть переменные, отсутствующие в dataframeB, то перед объединением нужно сделать одно из двух:\n",
        "* удалить лишние переменные из таблицы dataframeA;\n",
        "* создать дополнительные переменные в таблице dataframeB и присвоить им значения NA (пропущенные).\n",
        "\n",
        "Объединение по вертикали обычно используется для добавления наблюдений из одной таблицы данных в другую."
      ],
      "metadata": {
        "id": "kDYKhu2oPFeb"
      }
    },
    {
      "cell_type": "markdown",
      "source": [
        "## Разделение наборов данных на составлющие\n",
        "\n",
        "В R имеются обширные возможности для извлечения отдельных элементов из объектов. Их можно использовать для выбора определенных переменных и/или наблюдений. В следующих разделах обсуждается несколько способов выбора переменных и наблюдений."
      ],
      "metadata": {
        "id": "gnyBLjIsQMEI"
      }
    },
    {
      "cell_type": "markdown",
      "source": [
        "### Выбор переменных\n",
        "Часто бывает так, что новый набор данных создается из небольшого числа переменных, выбранных из большего набора данных. В главе 2 вы узнали, как выбирать элементы таблицы данных при помощи инструкции вида -  `таблица_данных[номера_строк, номера_столбцов]`. Этот прием можно использовать также для выбора отдельных переменных. Например, инструкция:\n",
        "```\n",
        "newdata <- leadership[,c(6:10)]\n",
        "```\n",
        "выберет переменные q1, q2, q3, q4 и q5 из таблицы данных leadership\n",
        "и сохранит их в таблице данных newdata. Если номера строк не ука-\n",
        "заны (,), то по умолчанию выбираются все строки.\n",
        "\n",
        "Инструкции:\n",
        "```\n",
        "vars <- c(\"item1\", \"item2\", \"item3\", \"item4\", \"item5\")\n",
        "newdata <-leadership[, vars]\n",
        "```\n",
        "выберут те же самые переменные. В этом случае имена перемен-\n",
        "ных (в кавычках) обозначают извлекаемые переменные.\n",
        "\n",
        "Наконец, тот же результат можно получить с помощью инструкций:\n",
        "```\n",
        "myvars <- paste(\"item\", 1:5, sep=\"\")\n",
        "newdata <- leadership[myvars]\n",
        "```\n",
        "Этот пример создаст тот же вектор, что и предыдущий, но на этот раз с использованием функции `paste()`. Эту функцию мы подробно рассмотрим позже.\n",
        "\n"
      ],
      "metadata": {
        "id": "DQ7aFd_SpXWh"
      }
    },
    {
      "cell_type": "code",
      "source": [
        "newdata <- leadership[,c(6:10)]\n",
        "newdata"
      ],
      "metadata": {
        "id": "9ovVXNjNqKYh",
        "outputId": "0c663a63-3560-4540-a2ab-da754f63af59",
        "colab": {
          "base_uri": "https://localhost:8080/",
          "height": 255
        }
      },
      "execution_count": 26,
      "outputs": [
        {
          "output_type": "display_data",
          "data": {
            "text/html": [
              "<table class=\"dataframe\">\n",
              "<caption>A data.frame: 5 × 5</caption>\n",
              "<thead>\n",
              "\t<tr><th scope=col>item1</th><th scope=col>item2</th><th scope=col>item3</th><th scope=col>item4</th><th scope=col>item5</th></tr>\n",
              "\t<tr><th scope=col>&lt;dbl&gt;</th><th scope=col>&lt;dbl&gt;</th><th scope=col>&lt;dbl&gt;</th><th scope=col>&lt;dbl&gt;</th><th scope=col>&lt;dbl&gt;</th></tr>\n",
              "</thead>\n",
              "<tbody>\n",
              "\t<tr><td>5</td><td>4</td><td>5</td><td> 5</td><td> 5</td></tr>\n",
              "\t<tr><td>3</td><td>5</td><td>2</td><td> 5</td><td> 5</td></tr>\n",
              "\t<tr><td>3</td><td>5</td><td>5</td><td> 5</td><td> 2</td></tr>\n",
              "\t<tr><td>3</td><td>3</td><td>4</td><td>NA</td><td>NA</td></tr>\n",
              "\t<tr><td>2</td><td>2</td><td>1</td><td> 2</td><td> 1</td></tr>\n",
              "</tbody>\n",
              "</table>\n"
            ],
            "text/markdown": "\nA data.frame: 5 × 5\n\n| item1 &lt;dbl&gt; | item2 &lt;dbl&gt; | item3 &lt;dbl&gt; | item4 &lt;dbl&gt; | item5 &lt;dbl&gt; |\n|---|---|---|---|---|\n| 5 | 4 | 5 |  5 |  5 |\n| 3 | 5 | 2 |  5 |  5 |\n| 3 | 5 | 5 |  5 |  2 |\n| 3 | 3 | 4 | NA | NA |\n| 2 | 2 | 1 |  2 |  1 |\n\n",
            "text/latex": "A data.frame: 5 × 5\n\\begin{tabular}{lllll}\n item1 & item2 & item3 & item4 & item5\\\\\n <dbl> & <dbl> & <dbl> & <dbl> & <dbl>\\\\\n\\hline\n\t 5 & 4 & 5 &  5 &  5\\\\\n\t 3 & 5 & 2 &  5 &  5\\\\\n\t 3 & 5 & 5 &  5 &  2\\\\\n\t 3 & 3 & 4 & NA & NA\\\\\n\t 2 & 2 & 1 &  2 &  1\\\\\n\\end{tabular}\n",
            "text/plain": [
              "  item1 item2 item3 item4 item5\n",
              "1 5     4     5      5     5   \n",
              "2 3     5     2      5     5   \n",
              "3 3     5     5      5     2   \n",
              "4 3     3     4     NA    NA   \n",
              "5 2     2     1      2     1   "
            ]
          },
          "metadata": {}
        }
      ]
    },
    {
      "cell_type": "code",
      "source": [
        "vars <- c(\"item1\", \"item2\", \"item3\", \"item4\", \"item5\")\n",
        "newdata <- leadership[, vars]\n",
        "newdata"
      ],
      "metadata": {
        "id": "ZJUGsrszqrdJ",
        "outputId": "31606ede-3f24-4cb2-c7c7-a1784d10df36",
        "colab": {
          "base_uri": "https://localhost:8080/",
          "height": 255
        }
      },
      "execution_count": 27,
      "outputs": [
        {
          "output_type": "display_data",
          "data": {
            "text/html": [
              "<table class=\"dataframe\">\n",
              "<caption>A data.frame: 5 × 5</caption>\n",
              "<thead>\n",
              "\t<tr><th scope=col>item1</th><th scope=col>item2</th><th scope=col>item3</th><th scope=col>item4</th><th scope=col>item5</th></tr>\n",
              "\t<tr><th scope=col>&lt;dbl&gt;</th><th scope=col>&lt;dbl&gt;</th><th scope=col>&lt;dbl&gt;</th><th scope=col>&lt;dbl&gt;</th><th scope=col>&lt;dbl&gt;</th></tr>\n",
              "</thead>\n",
              "<tbody>\n",
              "\t<tr><td>5</td><td>4</td><td>5</td><td> 5</td><td> 5</td></tr>\n",
              "\t<tr><td>3</td><td>5</td><td>2</td><td> 5</td><td> 5</td></tr>\n",
              "\t<tr><td>3</td><td>5</td><td>5</td><td> 5</td><td> 2</td></tr>\n",
              "\t<tr><td>3</td><td>3</td><td>4</td><td>NA</td><td>NA</td></tr>\n",
              "\t<tr><td>2</td><td>2</td><td>1</td><td> 2</td><td> 1</td></tr>\n",
              "</tbody>\n",
              "</table>\n"
            ],
            "text/markdown": "\nA data.frame: 5 × 5\n\n| item1 &lt;dbl&gt; | item2 &lt;dbl&gt; | item3 &lt;dbl&gt; | item4 &lt;dbl&gt; | item5 &lt;dbl&gt; |\n|---|---|---|---|---|\n| 5 | 4 | 5 |  5 |  5 |\n| 3 | 5 | 2 |  5 |  5 |\n| 3 | 5 | 5 |  5 |  2 |\n| 3 | 3 | 4 | NA | NA |\n| 2 | 2 | 1 |  2 |  1 |\n\n",
            "text/latex": "A data.frame: 5 × 5\n\\begin{tabular}{lllll}\n item1 & item2 & item3 & item4 & item5\\\\\n <dbl> & <dbl> & <dbl> & <dbl> & <dbl>\\\\\n\\hline\n\t 5 & 4 & 5 &  5 &  5\\\\\n\t 3 & 5 & 2 &  5 &  5\\\\\n\t 3 & 5 & 5 &  5 &  2\\\\\n\t 3 & 3 & 4 & NA & NA\\\\\n\t 2 & 2 & 1 &  2 &  1\\\\\n\\end{tabular}\n",
            "text/plain": [
              "  item1 item2 item3 item4 item5\n",
              "1 5     4     5      5     5   \n",
              "2 3     5     2      5     5   \n",
              "3 3     5     5      5     2   \n",
              "4 3     3     4     NA    NA   \n",
              "5 2     2     1      2     1   "
            ]
          },
          "metadata": {}
        }
      ]
    },
    {
      "cell_type": "code",
      "source": [
        "# можно и так ,запятая перед vars подрозумевается\n",
        "vars <- c(\"item1\", \"item2\", \"item3\", \"item4\", \"item5\")\n",
        "newdata <- leadership[vars]\n",
        "newdata"
      ],
      "metadata": {
        "id": "hrgxY0PNrbBn",
        "outputId": "ec532d9b-f2a1-4536-bada-97907c3d3156",
        "colab": {
          "base_uri": "https://localhost:8080/",
          "height": 255
        }
      },
      "execution_count": 28,
      "outputs": [
        {
          "output_type": "display_data",
          "data": {
            "text/html": [
              "<table class=\"dataframe\">\n",
              "<caption>A data.frame: 5 × 5</caption>\n",
              "<thead>\n",
              "\t<tr><th scope=col>item1</th><th scope=col>item2</th><th scope=col>item3</th><th scope=col>item4</th><th scope=col>item5</th></tr>\n",
              "\t<tr><th scope=col>&lt;dbl&gt;</th><th scope=col>&lt;dbl&gt;</th><th scope=col>&lt;dbl&gt;</th><th scope=col>&lt;dbl&gt;</th><th scope=col>&lt;dbl&gt;</th></tr>\n",
              "</thead>\n",
              "<tbody>\n",
              "\t<tr><td>5</td><td>4</td><td>5</td><td> 5</td><td> 5</td></tr>\n",
              "\t<tr><td>3</td><td>5</td><td>2</td><td> 5</td><td> 5</td></tr>\n",
              "\t<tr><td>3</td><td>5</td><td>5</td><td> 5</td><td> 2</td></tr>\n",
              "\t<tr><td>3</td><td>3</td><td>4</td><td>NA</td><td>NA</td></tr>\n",
              "\t<tr><td>2</td><td>2</td><td>1</td><td> 2</td><td> 1</td></tr>\n",
              "</tbody>\n",
              "</table>\n"
            ],
            "text/markdown": "\nA data.frame: 5 × 5\n\n| item1 &lt;dbl&gt; | item2 &lt;dbl&gt; | item3 &lt;dbl&gt; | item4 &lt;dbl&gt; | item5 &lt;dbl&gt; |\n|---|---|---|---|---|\n| 5 | 4 | 5 |  5 |  5 |\n| 3 | 5 | 2 |  5 |  5 |\n| 3 | 5 | 5 |  5 |  2 |\n| 3 | 3 | 4 | NA | NA |\n| 2 | 2 | 1 |  2 |  1 |\n\n",
            "text/latex": "A data.frame: 5 × 5\n\\begin{tabular}{lllll}\n item1 & item2 & item3 & item4 & item5\\\\\n <dbl> & <dbl> & <dbl> & <dbl> & <dbl>\\\\\n\\hline\n\t 5 & 4 & 5 &  5 &  5\\\\\n\t 3 & 5 & 2 &  5 &  5\\\\\n\t 3 & 5 & 5 &  5 &  2\\\\\n\t 3 & 3 & 4 & NA & NA\\\\\n\t 2 & 2 & 1 &  2 &  1\\\\\n\\end{tabular}\n",
            "text/plain": [
              "  item1 item2 item3 item4 item5\n",
              "1 5     4     5      5     5   \n",
              "2 3     5     2      5     5   \n",
              "3 3     5     5      5     2   \n",
              "4 3     3     4     NA    NA   \n",
              "5 2     2     1      2     1   "
            ]
          },
          "metadata": {}
        }
      ]
    },
    {
      "cell_type": "code",
      "source": [
        "myvars <- paste(\"item\", 1:5, sep=\"\")\n",
        "newdata <- leadership[myvars]\n",
        "newdata"
      ],
      "metadata": {
        "id": "7sltf9yisedK",
        "outputId": "a701ec39-cbc7-4c99-833b-9081a4e403bb",
        "colab": {
          "base_uri": "https://localhost:8080/",
          "height": 255
        }
      },
      "execution_count": 29,
      "outputs": [
        {
          "output_type": "display_data",
          "data": {
            "text/html": [
              "<table class=\"dataframe\">\n",
              "<caption>A data.frame: 5 × 5</caption>\n",
              "<thead>\n",
              "\t<tr><th scope=col>item1</th><th scope=col>item2</th><th scope=col>item3</th><th scope=col>item4</th><th scope=col>item5</th></tr>\n",
              "\t<tr><th scope=col>&lt;dbl&gt;</th><th scope=col>&lt;dbl&gt;</th><th scope=col>&lt;dbl&gt;</th><th scope=col>&lt;dbl&gt;</th><th scope=col>&lt;dbl&gt;</th></tr>\n",
              "</thead>\n",
              "<tbody>\n",
              "\t<tr><td>5</td><td>4</td><td>5</td><td> 5</td><td> 5</td></tr>\n",
              "\t<tr><td>3</td><td>5</td><td>2</td><td> 5</td><td> 5</td></tr>\n",
              "\t<tr><td>3</td><td>5</td><td>5</td><td> 5</td><td> 2</td></tr>\n",
              "\t<tr><td>3</td><td>3</td><td>4</td><td>NA</td><td>NA</td></tr>\n",
              "\t<tr><td>2</td><td>2</td><td>1</td><td> 2</td><td> 1</td></tr>\n",
              "</tbody>\n",
              "</table>\n"
            ],
            "text/markdown": "\nA data.frame: 5 × 5\n\n| item1 &lt;dbl&gt; | item2 &lt;dbl&gt; | item3 &lt;dbl&gt; | item4 &lt;dbl&gt; | item5 &lt;dbl&gt; |\n|---|---|---|---|---|\n| 5 | 4 | 5 |  5 |  5 |\n| 3 | 5 | 2 |  5 |  5 |\n| 3 | 5 | 5 |  5 |  2 |\n| 3 | 3 | 4 | NA | NA |\n| 2 | 2 | 1 |  2 |  1 |\n\n",
            "text/latex": "A data.frame: 5 × 5\n\\begin{tabular}{lllll}\n item1 & item2 & item3 & item4 & item5\\\\\n <dbl> & <dbl> & <dbl> & <dbl> & <dbl>\\\\\n\\hline\n\t 5 & 4 & 5 &  5 &  5\\\\\n\t 3 & 5 & 2 &  5 &  5\\\\\n\t 3 & 5 & 5 &  5 &  2\\\\\n\t 3 & 3 & 4 & NA & NA\\\\\n\t 2 & 2 & 1 &  2 &  1\\\\\n\\end{tabular}\n",
            "text/plain": [
              "  item1 item2 item3 item4 item5\n",
              "1 5     4     5      5     5   \n",
              "2 3     5     2      5     5   \n",
              "3 3     5     5      5     2   \n",
              "4 3     3     4     NA    NA   \n",
              "5 2     2     1      2     1   "
            ]
          },
          "metadata": {}
        }
      ]
    },
    {
      "cell_type": "markdown",
      "source": [
        "### Исключение переменных из выборки\n",
        "\n",
        "Существует много причин, когда желательно исключить переменные из выборки. Например, если переменная содержит несколько пропущенных значений, то может понадобиться удалить ее до начала анализа. Рассмотрим несколько способов исключения переменных.\n",
        "\n",
        "Переменные item4 и item5 можно исключить с помощью следующих инструкций:\n",
        "```\n",
        "myvars <- names(leadership) %in% c(\"item4\", \"item5\")\n",
        "newdata <- leadership[!myvars]\n",
        "```\n",
        "Зная, что item4 и item5 – это девятая и десятая переменные, можно ис-\n",
        "ключить их так:\n",
        "\n",
        "\n",
        "```\n",
        "newdata <- leadership[c(-9,-10)]\n",
        "или\n",
        "newdata <- leadership[-c(9,10)]\n",
        "```\n",
        "\n",
        "\n",
        "\n",
        "Минус (-) перед номером столбца означает, что этот столбец\n",
        "следует исключить.\n",
        "\n",
        "Наконец, эти же два столбца можно исключить инструкцией\n",
        "\n",
        "\n",
        "```\n",
        "leadership$item4 <- leadership$item5 <- NULL\n",
        "```\n",
        "\n",
        "Здесь переменным item4 и item5 присваивается неопределенное значение (NULL). Обратите внимание, что NULL – это не то же самое, что NA (отсутствующие значения).\n",
        "\n",
        "Исключение переменных – действие, противоположное выборке. Выбор между этими действиями зависит от того, какое из них проще записать. Если нужно исключить много переменных, то часто проще выбрать все остальные, и наоборот.\n"
      ],
      "metadata": {
        "id": "1H73YFcXtHrE"
      }
    },
    {
      "cell_type": "code",
      "source": [
        "myvars <- names(leadership) %in% c(\"item4\", \"item5\")\n",
        "newdata <- leadership[!myvars]\n",
        "newdata"
      ],
      "metadata": {
        "id": "oJyjM0-kuBuV",
        "outputId": "4ed9686e-bded-4391-c8c7-b05e843905c5",
        "colab": {
          "base_uri": "https://localhost:8080/",
          "height": 255
        }
      },
      "execution_count": 30,
      "outputs": [
        {
          "output_type": "display_data",
          "data": {
            "text/html": [
              "<table class=\"dataframe\">\n",
              "<caption>A data.frame: 5 × 11</caption>\n",
              "<thead>\n",
              "\t<tr><th scope=col>manager</th><th scope=col>testDate</th><th scope=col>country</th><th scope=col>gender</th><th scope=col>age</th><th scope=col>item1</th><th scope=col>item2</th><th scope=col>item3</th><th scope=col>total_score</th><th scope=col>mean_score</th><th scope=col>agecat</th></tr>\n",
              "\t<tr><th scope=col>&lt;dbl&gt;</th><th scope=col>&lt;date&gt;</th><th scope=col>&lt;chr&gt;</th><th scope=col>&lt;chr&gt;</th><th scope=col>&lt;dbl&gt;</th><th scope=col>&lt;dbl&gt;</th><th scope=col>&lt;dbl&gt;</th><th scope=col>&lt;dbl&gt;</th><th scope=col>&lt;dbl&gt;</th><th scope=col>&lt;dbl&gt;</th><th scope=col>&lt;chr&gt;</th></tr>\n",
              "</thead>\n",
              "<tbody>\n",
              "\t<tr><td>1</td><td>2008-10-24</td><td>US</td><td>M</td><td>32</td><td>5</td><td>4</td><td>5</td><td>24</td><td>4.8</td><td>Young</td></tr>\n",
              "\t<tr><td>2</td><td>2008-10-28</td><td>US</td><td>F</td><td>45</td><td>3</td><td>5</td><td>2</td><td>20</td><td>4.0</td><td>Young</td></tr>\n",
              "\t<tr><td>3</td><td>2008-10-01</td><td>UK</td><td>F</td><td>25</td><td>3</td><td>5</td><td>5</td><td>20</td><td>4.0</td><td>Young</td></tr>\n",
              "\t<tr><td>4</td><td>2008-10-12</td><td>UK</td><td>M</td><td>39</td><td>3</td><td>3</td><td>4</td><td>NA</td><td> NA</td><td>Young</td></tr>\n",
              "\t<tr><td>5</td><td>2009-05-01</td><td>UK</td><td>F</td><td>NA</td><td>2</td><td>2</td><td>1</td><td> 8</td><td>1.6</td><td>NA   </td></tr>\n",
              "</tbody>\n",
              "</table>\n"
            ],
            "text/markdown": "\nA data.frame: 5 × 11\n\n| manager &lt;dbl&gt; | testDate &lt;date&gt; | country &lt;chr&gt; | gender &lt;chr&gt; | age &lt;dbl&gt; | item1 &lt;dbl&gt; | item2 &lt;dbl&gt; | item3 &lt;dbl&gt; | total_score &lt;dbl&gt; | mean_score &lt;dbl&gt; | agecat &lt;chr&gt; |\n|---|---|---|---|---|---|---|---|---|---|---|\n| 1 | 2008-10-24 | US | M | 32 | 5 | 4 | 5 | 24 | 4.8 | Young |\n| 2 | 2008-10-28 | US | F | 45 | 3 | 5 | 2 | 20 | 4.0 | Young |\n| 3 | 2008-10-01 | UK | F | 25 | 3 | 5 | 5 | 20 | 4.0 | Young |\n| 4 | 2008-10-12 | UK | M | 39 | 3 | 3 | 4 | NA |  NA | Young |\n| 5 | 2009-05-01 | UK | F | NA | 2 | 2 | 1 |  8 | 1.6 | NA    |\n\n",
            "text/latex": "A data.frame: 5 × 11\n\\begin{tabular}{lllllllllll}\n manager & testDate & country & gender & age & item1 & item2 & item3 & total\\_score & mean\\_score & agecat\\\\\n <dbl> & <date> & <chr> & <chr> & <dbl> & <dbl> & <dbl> & <dbl> & <dbl> & <dbl> & <chr>\\\\\n\\hline\n\t 1 & 2008-10-24 & US & M & 32 & 5 & 4 & 5 & 24 & 4.8 & Young\\\\\n\t 2 & 2008-10-28 & US & F & 45 & 3 & 5 & 2 & 20 & 4.0 & Young\\\\\n\t 3 & 2008-10-01 & UK & F & 25 & 3 & 5 & 5 & 20 & 4.0 & Young\\\\\n\t 4 & 2008-10-12 & UK & M & 39 & 3 & 3 & 4 & NA &  NA & Young\\\\\n\t 5 & 2009-05-01 & UK & F & NA & 2 & 2 & 1 &  8 & 1.6 & NA   \\\\\n\\end{tabular}\n",
            "text/plain": [
              "  manager testDate   country gender age item1 item2 item3 total_score\n",
              "1 1       2008-10-24 US      M      32  5     4     5     24         \n",
              "2 2       2008-10-28 US      F      45  3     5     2     20         \n",
              "3 3       2008-10-01 UK      F      25  3     5     5     20         \n",
              "4 4       2008-10-12 UK      M      39  3     3     4     NA         \n",
              "5 5       2009-05-01 UK      F      NA  2     2     1      8         \n",
              "  mean_score agecat\n",
              "1 4.8        Young \n",
              "2 4.0        Young \n",
              "3 4.0        Young \n",
              "4  NA        Young \n",
              "5 1.6        NA    "
            ]
          },
          "metadata": {}
        }
      ]
    },
    {
      "cell_type": "code",
      "source": [
        "newdata <- leadership[c(-9,-10)]\n",
        "newdata"
      ],
      "metadata": {
        "id": "daWmNslJvt_t",
        "outputId": "2ab60427-2fed-4970-d293-073520f26df8",
        "colab": {
          "base_uri": "https://localhost:8080/",
          "height": 255
        }
      },
      "execution_count": 31,
      "outputs": [
        {
          "output_type": "display_data",
          "data": {
            "text/html": [
              "<table class=\"dataframe\">\n",
              "<caption>A data.frame: 5 × 11</caption>\n",
              "<thead>\n",
              "\t<tr><th scope=col>manager</th><th scope=col>testDate</th><th scope=col>country</th><th scope=col>gender</th><th scope=col>age</th><th scope=col>item1</th><th scope=col>item2</th><th scope=col>item3</th><th scope=col>total_score</th><th scope=col>mean_score</th><th scope=col>agecat</th></tr>\n",
              "\t<tr><th scope=col>&lt;dbl&gt;</th><th scope=col>&lt;date&gt;</th><th scope=col>&lt;chr&gt;</th><th scope=col>&lt;chr&gt;</th><th scope=col>&lt;dbl&gt;</th><th scope=col>&lt;dbl&gt;</th><th scope=col>&lt;dbl&gt;</th><th scope=col>&lt;dbl&gt;</th><th scope=col>&lt;dbl&gt;</th><th scope=col>&lt;dbl&gt;</th><th scope=col>&lt;chr&gt;</th></tr>\n",
              "</thead>\n",
              "<tbody>\n",
              "\t<tr><td>1</td><td>2008-10-24</td><td>US</td><td>M</td><td>32</td><td>5</td><td>4</td><td>5</td><td>24</td><td>4.8</td><td>Young</td></tr>\n",
              "\t<tr><td>2</td><td>2008-10-28</td><td>US</td><td>F</td><td>45</td><td>3</td><td>5</td><td>2</td><td>20</td><td>4.0</td><td>Young</td></tr>\n",
              "\t<tr><td>3</td><td>2008-10-01</td><td>UK</td><td>F</td><td>25</td><td>3</td><td>5</td><td>5</td><td>20</td><td>4.0</td><td>Young</td></tr>\n",
              "\t<tr><td>4</td><td>2008-10-12</td><td>UK</td><td>M</td><td>39</td><td>3</td><td>3</td><td>4</td><td>NA</td><td> NA</td><td>Young</td></tr>\n",
              "\t<tr><td>5</td><td>2009-05-01</td><td>UK</td><td>F</td><td>NA</td><td>2</td><td>2</td><td>1</td><td> 8</td><td>1.6</td><td>NA   </td></tr>\n",
              "</tbody>\n",
              "</table>\n"
            ],
            "text/markdown": "\nA data.frame: 5 × 11\n\n| manager &lt;dbl&gt; | testDate &lt;date&gt; | country &lt;chr&gt; | gender &lt;chr&gt; | age &lt;dbl&gt; | item1 &lt;dbl&gt; | item2 &lt;dbl&gt; | item3 &lt;dbl&gt; | total_score &lt;dbl&gt; | mean_score &lt;dbl&gt; | agecat &lt;chr&gt; |\n|---|---|---|---|---|---|---|---|---|---|---|\n| 1 | 2008-10-24 | US | M | 32 | 5 | 4 | 5 | 24 | 4.8 | Young |\n| 2 | 2008-10-28 | US | F | 45 | 3 | 5 | 2 | 20 | 4.0 | Young |\n| 3 | 2008-10-01 | UK | F | 25 | 3 | 5 | 5 | 20 | 4.0 | Young |\n| 4 | 2008-10-12 | UK | M | 39 | 3 | 3 | 4 | NA |  NA | Young |\n| 5 | 2009-05-01 | UK | F | NA | 2 | 2 | 1 |  8 | 1.6 | NA    |\n\n",
            "text/latex": "A data.frame: 5 × 11\n\\begin{tabular}{lllllllllll}\n manager & testDate & country & gender & age & item1 & item2 & item3 & total\\_score & mean\\_score & agecat\\\\\n <dbl> & <date> & <chr> & <chr> & <dbl> & <dbl> & <dbl> & <dbl> & <dbl> & <dbl> & <chr>\\\\\n\\hline\n\t 1 & 2008-10-24 & US & M & 32 & 5 & 4 & 5 & 24 & 4.8 & Young\\\\\n\t 2 & 2008-10-28 & US & F & 45 & 3 & 5 & 2 & 20 & 4.0 & Young\\\\\n\t 3 & 2008-10-01 & UK & F & 25 & 3 & 5 & 5 & 20 & 4.0 & Young\\\\\n\t 4 & 2008-10-12 & UK & M & 39 & 3 & 3 & 4 & NA &  NA & Young\\\\\n\t 5 & 2009-05-01 & UK & F & NA & 2 & 2 & 1 &  8 & 1.6 & NA   \\\\\n\\end{tabular}\n",
            "text/plain": [
              "  manager testDate   country gender age item1 item2 item3 total_score\n",
              "1 1       2008-10-24 US      M      32  5     4     5     24         \n",
              "2 2       2008-10-28 US      F      45  3     5     2     20         \n",
              "3 3       2008-10-01 UK      F      25  3     5     5     20         \n",
              "4 4       2008-10-12 UK      M      39  3     3     4     NA         \n",
              "5 5       2009-05-01 UK      F      NA  2     2     1      8         \n",
              "  mean_score agecat\n",
              "1 4.8        Young \n",
              "2 4.0        Young \n",
              "3 4.0        Young \n",
              "4  NA        Young \n",
              "5 1.6        NA    "
            ]
          },
          "metadata": {}
        }
      ]
    },
    {
      "cell_type": "code",
      "source": [
        "newdata <- leadership[-c(9,10)]\n",
        "newdata"
      ],
      "metadata": {
        "id": "QRofevj0v1Jz",
        "outputId": "feddb77f-ec9b-4a70-9284-940fe3dc4b4a",
        "colab": {
          "base_uri": "https://localhost:8080/",
          "height": 255
        }
      },
      "execution_count": 32,
      "outputs": [
        {
          "output_type": "display_data",
          "data": {
            "text/html": [
              "<table class=\"dataframe\">\n",
              "<caption>A data.frame: 5 × 11</caption>\n",
              "<thead>\n",
              "\t<tr><th scope=col>manager</th><th scope=col>testDate</th><th scope=col>country</th><th scope=col>gender</th><th scope=col>age</th><th scope=col>item1</th><th scope=col>item2</th><th scope=col>item3</th><th scope=col>total_score</th><th scope=col>mean_score</th><th scope=col>agecat</th></tr>\n",
              "\t<tr><th scope=col>&lt;dbl&gt;</th><th scope=col>&lt;date&gt;</th><th scope=col>&lt;chr&gt;</th><th scope=col>&lt;chr&gt;</th><th scope=col>&lt;dbl&gt;</th><th scope=col>&lt;dbl&gt;</th><th scope=col>&lt;dbl&gt;</th><th scope=col>&lt;dbl&gt;</th><th scope=col>&lt;dbl&gt;</th><th scope=col>&lt;dbl&gt;</th><th scope=col>&lt;chr&gt;</th></tr>\n",
              "</thead>\n",
              "<tbody>\n",
              "\t<tr><td>1</td><td>2008-10-24</td><td>US</td><td>M</td><td>32</td><td>5</td><td>4</td><td>5</td><td>24</td><td>4.8</td><td>Young</td></tr>\n",
              "\t<tr><td>2</td><td>2008-10-28</td><td>US</td><td>F</td><td>45</td><td>3</td><td>5</td><td>2</td><td>20</td><td>4.0</td><td>Young</td></tr>\n",
              "\t<tr><td>3</td><td>2008-10-01</td><td>UK</td><td>F</td><td>25</td><td>3</td><td>5</td><td>5</td><td>20</td><td>4.0</td><td>Young</td></tr>\n",
              "\t<tr><td>4</td><td>2008-10-12</td><td>UK</td><td>M</td><td>39</td><td>3</td><td>3</td><td>4</td><td>NA</td><td> NA</td><td>Young</td></tr>\n",
              "\t<tr><td>5</td><td>2009-05-01</td><td>UK</td><td>F</td><td>NA</td><td>2</td><td>2</td><td>1</td><td> 8</td><td>1.6</td><td>NA   </td></tr>\n",
              "</tbody>\n",
              "</table>\n"
            ],
            "text/markdown": "\nA data.frame: 5 × 11\n\n| manager &lt;dbl&gt; | testDate &lt;date&gt; | country &lt;chr&gt; | gender &lt;chr&gt; | age &lt;dbl&gt; | item1 &lt;dbl&gt; | item2 &lt;dbl&gt; | item3 &lt;dbl&gt; | total_score &lt;dbl&gt; | mean_score &lt;dbl&gt; | agecat &lt;chr&gt; |\n|---|---|---|---|---|---|---|---|---|---|---|\n| 1 | 2008-10-24 | US | M | 32 | 5 | 4 | 5 | 24 | 4.8 | Young |\n| 2 | 2008-10-28 | US | F | 45 | 3 | 5 | 2 | 20 | 4.0 | Young |\n| 3 | 2008-10-01 | UK | F | 25 | 3 | 5 | 5 | 20 | 4.0 | Young |\n| 4 | 2008-10-12 | UK | M | 39 | 3 | 3 | 4 | NA |  NA | Young |\n| 5 | 2009-05-01 | UK | F | NA | 2 | 2 | 1 |  8 | 1.6 | NA    |\n\n",
            "text/latex": "A data.frame: 5 × 11\n\\begin{tabular}{lllllllllll}\n manager & testDate & country & gender & age & item1 & item2 & item3 & total\\_score & mean\\_score & agecat\\\\\n <dbl> & <date> & <chr> & <chr> & <dbl> & <dbl> & <dbl> & <dbl> & <dbl> & <dbl> & <chr>\\\\\n\\hline\n\t 1 & 2008-10-24 & US & M & 32 & 5 & 4 & 5 & 24 & 4.8 & Young\\\\\n\t 2 & 2008-10-28 & US & F & 45 & 3 & 5 & 2 & 20 & 4.0 & Young\\\\\n\t 3 & 2008-10-01 & UK & F & 25 & 3 & 5 & 5 & 20 & 4.0 & Young\\\\\n\t 4 & 2008-10-12 & UK & M & 39 & 3 & 3 & 4 & NA &  NA & Young\\\\\n\t 5 & 2009-05-01 & UK & F & NA & 2 & 2 & 1 &  8 & 1.6 & NA   \\\\\n\\end{tabular}\n",
            "text/plain": [
              "  manager testDate   country gender age item1 item2 item3 total_score\n",
              "1 1       2008-10-24 US      M      32  5     4     5     24         \n",
              "2 2       2008-10-28 US      F      45  3     5     2     20         \n",
              "3 3       2008-10-01 UK      F      25  3     5     5     20         \n",
              "4 4       2008-10-12 UK      M      39  3     3     4     NA         \n",
              "5 5       2009-05-01 UK      F      NA  2     2     1      8         \n",
              "  mean_score agecat\n",
              "1 4.8        Young \n",
              "2 4.0        Young \n",
              "3 4.0        Young \n",
              "4  NA        Young \n",
              "5 1.6        NA    "
            ]
          },
          "metadata": {}
        }
      ]
    },
    {
      "cell_type": "code",
      "source": [
        "leadership$item4 <- leadership$item5 <- NULL\n",
        "leadership"
      ],
      "metadata": {
        "id": "402bGd5dwla8",
        "outputId": "28073f75-5a35-4b2c-a08d-ab5b9583ecf7",
        "colab": {
          "base_uri": "https://localhost:8080/",
          "height": 255
        }
      },
      "execution_count": 75,
      "outputs": [
        {
          "output_type": "display_data",
          "data": {
            "text/html": [
              "<table class=\"dataframe\">\n",
              "<caption>A data.frame: 5 × 11</caption>\n",
              "<thead>\n",
              "\t<tr><th scope=col>manager</th><th scope=col>testDate</th><th scope=col>country</th><th scope=col>gender</th><th scope=col>age</th><th scope=col>item1</th><th scope=col>item2</th><th scope=col>item3</th><th scope=col>total_score</th><th scope=col>mean_score</th><th scope=col>agecat</th></tr>\n",
              "\t<tr><th scope=col>&lt;dbl&gt;</th><th scope=col>&lt;date&gt;</th><th scope=col>&lt;chr&gt;</th><th scope=col>&lt;chr&gt;</th><th scope=col>&lt;dbl&gt;</th><th scope=col>&lt;dbl&gt;</th><th scope=col>&lt;dbl&gt;</th><th scope=col>&lt;dbl&gt;</th><th scope=col>&lt;dbl&gt;</th><th scope=col>&lt;dbl&gt;</th><th scope=col>&lt;chr&gt;</th></tr>\n",
              "</thead>\n",
              "<tbody>\n",
              "\t<tr><td>1</td><td>2008-10-24</td><td>US</td><td>M</td><td>32</td><td>5</td><td>4</td><td>5</td><td>24</td><td>4.8</td><td>Young</td></tr>\n",
              "\t<tr><td>2</td><td>2008-10-28</td><td>US</td><td>F</td><td>45</td><td>3</td><td>5</td><td>2</td><td>20</td><td>4.0</td><td>Young</td></tr>\n",
              "\t<tr><td>3</td><td>2008-10-01</td><td>UK</td><td>F</td><td>25</td><td>3</td><td>5</td><td>5</td><td>20</td><td>4.0</td><td>Young</td></tr>\n",
              "\t<tr><td>4</td><td>2008-10-12</td><td>UK</td><td>M</td><td>39</td><td>3</td><td>3</td><td>4</td><td>NA</td><td> NA</td><td>Young</td></tr>\n",
              "\t<tr><td>5</td><td>2009-05-01</td><td>UK</td><td>F</td><td>NA</td><td>2</td><td>2</td><td>1</td><td> 8</td><td>1.6</td><td>NA   </td></tr>\n",
              "</tbody>\n",
              "</table>\n"
            ],
            "text/markdown": "\nA data.frame: 5 × 11\n\n| manager &lt;dbl&gt; | testDate &lt;date&gt; | country &lt;chr&gt; | gender &lt;chr&gt; | age &lt;dbl&gt; | item1 &lt;dbl&gt; | item2 &lt;dbl&gt; | item3 &lt;dbl&gt; | total_score &lt;dbl&gt; | mean_score &lt;dbl&gt; | agecat &lt;chr&gt; |\n|---|---|---|---|---|---|---|---|---|---|---|\n| 1 | 2008-10-24 | US | M | 32 | 5 | 4 | 5 | 24 | 4.8 | Young |\n| 2 | 2008-10-28 | US | F | 45 | 3 | 5 | 2 | 20 | 4.0 | Young |\n| 3 | 2008-10-01 | UK | F | 25 | 3 | 5 | 5 | 20 | 4.0 | Young |\n| 4 | 2008-10-12 | UK | M | 39 | 3 | 3 | 4 | NA |  NA | Young |\n| 5 | 2009-05-01 | UK | F | NA | 2 | 2 | 1 |  8 | 1.6 | NA    |\n\n",
            "text/latex": "A data.frame: 5 × 11\n\\begin{tabular}{lllllllllll}\n manager & testDate & country & gender & age & item1 & item2 & item3 & total\\_score & mean\\_score & agecat\\\\\n <dbl> & <date> & <chr> & <chr> & <dbl> & <dbl> & <dbl> & <dbl> & <dbl> & <dbl> & <chr>\\\\\n\\hline\n\t 1 & 2008-10-24 & US & M & 32 & 5 & 4 & 5 & 24 & 4.8 & Young\\\\\n\t 2 & 2008-10-28 & US & F & 45 & 3 & 5 & 2 & 20 & 4.0 & Young\\\\\n\t 3 & 2008-10-01 & UK & F & 25 & 3 & 5 & 5 & 20 & 4.0 & Young\\\\\n\t 4 & 2008-10-12 & UK & M & 39 & 3 & 3 & 4 & NA &  NA & Young\\\\\n\t 5 & 2009-05-01 & UK & F & NA & 2 & 2 & 1 &  8 & 1.6 & NA   \\\\\n\\end{tabular}\n",
            "text/plain": [
              "  manager testDate   country gender age item1 item2 item3 total_score\n",
              "1 1       2008-10-24 US      M      32  5     4     5     24         \n",
              "2 2       2008-10-28 US      F      45  3     5     2     20         \n",
              "3 3       2008-10-01 UK      F      25  3     5     5     20         \n",
              "4 4       2008-10-12 UK      M      39  3     3     4     NA         \n",
              "5 5       2009-05-01 UK      F      NA  2     2     1      8         \n",
              "  mean_score agecat\n",
              "1 4.8        Young \n",
              "2 4.0        Young \n",
              "3 4.0        Young \n",
              "4  NA        Young \n",
              "5 1.6        NA    "
            ]
          },
          "metadata": {}
        }
      ]
    },
    {
      "cell_type": "markdown",
      "source": [
        "### Выборка наблюдений\n",
        "Выбор или удаление наблюдений (строк) – это в большинстве случаев залог успешной подготовки данных и их анализа. В листинге 3.6 показано несколько примеров."
      ],
      "metadata": {
        "id": "49Ar61CXxSfU"
      }
    },
    {
      "cell_type": "code",
      "source": [
        "# Выбрать строки с 1 по 3 (первые три наблюдения)\n",
        "newdata <- leadership[1:3,]\n",
        "newdata"
      ],
      "metadata": {
        "id": "cUS1IvlezMpD",
        "outputId": "69f51872-2b7c-4893-e290-7aa4153c07f2",
        "colab": {
          "base_uri": "https://localhost:8080/",
          "height": 192
        }
      },
      "execution_count": 33,
      "outputs": [
        {
          "output_type": "display_data",
          "data": {
            "text/html": [
              "<table class=\"dataframe\">\n",
              "<caption>A data.frame: 3 × 13</caption>\n",
              "<thead>\n",
              "\t<tr><th></th><th scope=col>manager</th><th scope=col>testDate</th><th scope=col>country</th><th scope=col>gender</th><th scope=col>age</th><th scope=col>item1</th><th scope=col>item2</th><th scope=col>item3</th><th scope=col>item4</th><th scope=col>item5</th><th scope=col>total_score</th><th scope=col>mean_score</th><th scope=col>agecat</th></tr>\n",
              "\t<tr><th></th><th scope=col>&lt;dbl&gt;</th><th scope=col>&lt;date&gt;</th><th scope=col>&lt;chr&gt;</th><th scope=col>&lt;chr&gt;</th><th scope=col>&lt;dbl&gt;</th><th scope=col>&lt;dbl&gt;</th><th scope=col>&lt;dbl&gt;</th><th scope=col>&lt;dbl&gt;</th><th scope=col>&lt;dbl&gt;</th><th scope=col>&lt;dbl&gt;</th><th scope=col>&lt;dbl&gt;</th><th scope=col>&lt;dbl&gt;</th><th scope=col>&lt;chr&gt;</th></tr>\n",
              "</thead>\n",
              "<tbody>\n",
              "\t<tr><th scope=row>1</th><td>1</td><td>2008-10-24</td><td>US</td><td>M</td><td>32</td><td>5</td><td>4</td><td>5</td><td>5</td><td>5</td><td>24</td><td>4.8</td><td>Young</td></tr>\n",
              "\t<tr><th scope=row>2</th><td>2</td><td>2008-10-28</td><td>US</td><td>F</td><td>45</td><td>3</td><td>5</td><td>2</td><td>5</td><td>5</td><td>20</td><td>4.0</td><td>Young</td></tr>\n",
              "\t<tr><th scope=row>3</th><td>3</td><td>2008-10-01</td><td>UK</td><td>F</td><td>25</td><td>3</td><td>5</td><td>5</td><td>5</td><td>2</td><td>20</td><td>4.0</td><td>Young</td></tr>\n",
              "</tbody>\n",
              "</table>\n"
            ],
            "text/markdown": "\nA data.frame: 3 × 13\n\n| <!--/--> | manager &lt;dbl&gt; | testDate &lt;date&gt; | country &lt;chr&gt; | gender &lt;chr&gt; | age &lt;dbl&gt; | item1 &lt;dbl&gt; | item2 &lt;dbl&gt; | item3 &lt;dbl&gt; | item4 &lt;dbl&gt; | item5 &lt;dbl&gt; | total_score &lt;dbl&gt; | mean_score &lt;dbl&gt; | agecat &lt;chr&gt; |\n|---|---|---|---|---|---|---|---|---|---|---|---|---|---|\n| 1 | 1 | 2008-10-24 | US | M | 32 | 5 | 4 | 5 | 5 | 5 | 24 | 4.8 | Young |\n| 2 | 2 | 2008-10-28 | US | F | 45 | 3 | 5 | 2 | 5 | 5 | 20 | 4.0 | Young |\n| 3 | 3 | 2008-10-01 | UK | F | 25 | 3 | 5 | 5 | 5 | 2 | 20 | 4.0 | Young |\n\n",
            "text/latex": "A data.frame: 3 × 13\n\\begin{tabular}{r|lllllllllllll}\n  & manager & testDate & country & gender & age & item1 & item2 & item3 & item4 & item5 & total\\_score & mean\\_score & agecat\\\\\n  & <dbl> & <date> & <chr> & <chr> & <dbl> & <dbl> & <dbl> & <dbl> & <dbl> & <dbl> & <dbl> & <dbl> & <chr>\\\\\n\\hline\n\t1 & 1 & 2008-10-24 & US & M & 32 & 5 & 4 & 5 & 5 & 5 & 24 & 4.8 & Young\\\\\n\t2 & 2 & 2008-10-28 & US & F & 45 & 3 & 5 & 2 & 5 & 5 & 20 & 4.0 & Young\\\\\n\t3 & 3 & 2008-10-01 & UK & F & 25 & 3 & 5 & 5 & 5 & 2 & 20 & 4.0 & Young\\\\\n\\end{tabular}\n",
            "text/plain": [
              "  manager testDate   country gender age item1 item2 item3 item4 item5\n",
              "1 1       2008-10-24 US      M      32  5     4     5     5     5    \n",
              "2 2       2008-10-28 US      F      45  3     5     2     5     5    \n",
              "3 3       2008-10-01 UK      F      25  3     5     5     5     2    \n",
              "  total_score mean_score agecat\n",
              "1 24          4.8        Young \n",
              "2 20          4.0        Young \n",
              "3 20          4.0        Young "
            ]
          },
          "metadata": {}
        }
      ]
    },
    {
      "cell_type": "code",
      "source": [
        "# Выбрать всех мужчин старше 30 лет\n",
        "newdata <- leadership[leadership$gender==\"M\" & leadership$age > 30,]\n",
        "newdata"
      ],
      "metadata": {
        "id": "RvJ2R0PizO54",
        "outputId": "cc5fad22-781b-4a10-c7d4-d0fcd88027e8",
        "colab": {
          "base_uri": "https://localhost:8080/",
          "height": 161
        }
      },
      "execution_count": 34,
      "outputs": [
        {
          "output_type": "display_data",
          "data": {
            "text/html": [
              "<table class=\"dataframe\">\n",
              "<caption>A data.frame: 2 × 13</caption>\n",
              "<thead>\n",
              "\t<tr><th></th><th scope=col>manager</th><th scope=col>testDate</th><th scope=col>country</th><th scope=col>gender</th><th scope=col>age</th><th scope=col>item1</th><th scope=col>item2</th><th scope=col>item3</th><th scope=col>item4</th><th scope=col>item5</th><th scope=col>total_score</th><th scope=col>mean_score</th><th scope=col>agecat</th></tr>\n",
              "\t<tr><th></th><th scope=col>&lt;dbl&gt;</th><th scope=col>&lt;date&gt;</th><th scope=col>&lt;chr&gt;</th><th scope=col>&lt;chr&gt;</th><th scope=col>&lt;dbl&gt;</th><th scope=col>&lt;dbl&gt;</th><th scope=col>&lt;dbl&gt;</th><th scope=col>&lt;dbl&gt;</th><th scope=col>&lt;dbl&gt;</th><th scope=col>&lt;dbl&gt;</th><th scope=col>&lt;dbl&gt;</th><th scope=col>&lt;dbl&gt;</th><th scope=col>&lt;chr&gt;</th></tr>\n",
              "</thead>\n",
              "<tbody>\n",
              "\t<tr><th scope=row>1</th><td>1</td><td>2008-10-24</td><td>US</td><td>M</td><td>32</td><td>5</td><td>4</td><td>5</td><td> 5</td><td> 5</td><td>24</td><td>4.8</td><td>Young</td></tr>\n",
              "\t<tr><th scope=row>4</th><td>4</td><td>2008-10-12</td><td>UK</td><td>M</td><td>39</td><td>3</td><td>3</td><td>4</td><td>NA</td><td>NA</td><td>NA</td><td> NA</td><td>Young</td></tr>\n",
              "</tbody>\n",
              "</table>\n"
            ],
            "text/markdown": "\nA data.frame: 2 × 13\n\n| <!--/--> | manager &lt;dbl&gt; | testDate &lt;date&gt; | country &lt;chr&gt; | gender &lt;chr&gt; | age &lt;dbl&gt; | item1 &lt;dbl&gt; | item2 &lt;dbl&gt; | item3 &lt;dbl&gt; | item4 &lt;dbl&gt; | item5 &lt;dbl&gt; | total_score &lt;dbl&gt; | mean_score &lt;dbl&gt; | agecat &lt;chr&gt; |\n|---|---|---|---|---|---|---|---|---|---|---|---|---|---|\n| 1 | 1 | 2008-10-24 | US | M | 32 | 5 | 4 | 5 |  5 |  5 | 24 | 4.8 | Young |\n| 4 | 4 | 2008-10-12 | UK | M | 39 | 3 | 3 | 4 | NA | NA | NA |  NA | Young |\n\n",
            "text/latex": "A data.frame: 2 × 13\n\\begin{tabular}{r|lllllllllllll}\n  & manager & testDate & country & gender & age & item1 & item2 & item3 & item4 & item5 & total\\_score & mean\\_score & agecat\\\\\n  & <dbl> & <date> & <chr> & <chr> & <dbl> & <dbl> & <dbl> & <dbl> & <dbl> & <dbl> & <dbl> & <dbl> & <chr>\\\\\n\\hline\n\t1 & 1 & 2008-10-24 & US & M & 32 & 5 & 4 & 5 &  5 &  5 & 24 & 4.8 & Young\\\\\n\t4 & 4 & 2008-10-12 & UK & M & 39 & 3 & 3 & 4 & NA & NA & NA &  NA & Young\\\\\n\\end{tabular}\n",
            "text/plain": [
              "  manager testDate   country gender age item1 item2 item3 item4 item5\n",
              "1 1       2008-10-24 US      M      32  5     4     5      5     5   \n",
              "4 4       2008-10-12 UK      M      39  3     3     4     NA    NA   \n",
              "  total_score mean_score agecat\n",
              "1 24          4.8        Young \n",
              "4 NA           NA        Young "
            ]
          },
          "metadata": {}
        }
      ]
    },
    {
      "cell_type": "code",
      "source": [
        "leadership$testDate <- as.Date(leadership$testDate, \"%m/%d/%y\") # Преобразовать даты из текстового формата в формат дат (мм/дд/гг).\n",
        "startdate <- as.Date(\"2009-01-01\") # Задать начальную дату.\n",
        "enddate <- as.Date(\"2009-12-31\") # Задать конечную дату.\n",
        "# Выбрать наблюдения, удовлетворяющие заданному критерию, как мы уже делали это в предыдущем примере.\n",
        "newdata <- leadership[which(leadership$testDate >= startdate & leadership$testDate <= enddate),]\n",
        "newdata"
      ],
      "metadata": {
        "id": "PIJpX9Dt6PwC",
        "outputId": "88a31d28-086b-4dfd-8bcc-5a50cd9deff6",
        "colab": {
          "base_uri": "https://localhost:8080/",
          "height": 129
        }
      },
      "execution_count": 36,
      "outputs": [
        {
          "output_type": "display_data",
          "data": {
            "text/html": [
              "<table class=\"dataframe\">\n",
              "<caption>A data.frame: 1 × 13</caption>\n",
              "<thead>\n",
              "\t<tr><th></th><th scope=col>manager</th><th scope=col>testDate</th><th scope=col>country</th><th scope=col>gender</th><th scope=col>age</th><th scope=col>item1</th><th scope=col>item2</th><th scope=col>item3</th><th scope=col>item4</th><th scope=col>item5</th><th scope=col>total_score</th><th scope=col>mean_score</th><th scope=col>agecat</th></tr>\n",
              "\t<tr><th></th><th scope=col>&lt;dbl&gt;</th><th scope=col>&lt;date&gt;</th><th scope=col>&lt;chr&gt;</th><th scope=col>&lt;chr&gt;</th><th scope=col>&lt;dbl&gt;</th><th scope=col>&lt;dbl&gt;</th><th scope=col>&lt;dbl&gt;</th><th scope=col>&lt;dbl&gt;</th><th scope=col>&lt;dbl&gt;</th><th scope=col>&lt;dbl&gt;</th><th scope=col>&lt;dbl&gt;</th><th scope=col>&lt;dbl&gt;</th><th scope=col>&lt;chr&gt;</th></tr>\n",
              "</thead>\n",
              "<tbody>\n",
              "\t<tr><th scope=row>5</th><td>5</td><td>2009-05-01</td><td>UK</td><td>F</td><td>NA</td><td>2</td><td>2</td><td>1</td><td>2</td><td>1</td><td>8</td><td>1.6</td><td>NA</td></tr>\n",
              "</tbody>\n",
              "</table>\n"
            ],
            "text/markdown": "\nA data.frame: 1 × 13\n\n| <!--/--> | manager &lt;dbl&gt; | testDate &lt;date&gt; | country &lt;chr&gt; | gender &lt;chr&gt; | age &lt;dbl&gt; | item1 &lt;dbl&gt; | item2 &lt;dbl&gt; | item3 &lt;dbl&gt; | item4 &lt;dbl&gt; | item5 &lt;dbl&gt; | total_score &lt;dbl&gt; | mean_score &lt;dbl&gt; | agecat &lt;chr&gt; |\n|---|---|---|---|---|---|---|---|---|---|---|---|---|---|\n| 5 | 5 | 2009-05-01 | UK | F | NA | 2 | 2 | 1 | 2 | 1 | 8 | 1.6 | NA |\n\n",
            "text/latex": "A data.frame: 1 × 13\n\\begin{tabular}{r|lllllllllllll}\n  & manager & testDate & country & gender & age & item1 & item2 & item3 & item4 & item5 & total\\_score & mean\\_score & agecat\\\\\n  & <dbl> & <date> & <chr> & <chr> & <dbl> & <dbl> & <dbl> & <dbl> & <dbl> & <dbl> & <dbl> & <dbl> & <chr>\\\\\n\\hline\n\t5 & 5 & 2009-05-01 & UK & F & NA & 2 & 2 & 1 & 2 & 1 & 8 & 1.6 & NA\\\\\n\\end{tabular}\n",
            "text/plain": [
              "  manager testDate   country gender age item1 item2 item3 item4 item5\n",
              "5 5       2009-05-01 UK      F      NA  2     2     1     2     1    \n",
              "  total_score mean_score agecat\n",
              "5 8           1.6        NA    "
            ]
          },
          "metadata": {}
        }
      ]
    },
    {
      "cell_type": "markdown",
      "source": [
        "### Функция subset()\n"
      ],
      "metadata": {
        "id": "94rh0WOl7Lwr"
      }
    }
  ]
}