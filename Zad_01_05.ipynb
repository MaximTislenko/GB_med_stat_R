{
  "nbformat": 4,
  "nbformat_minor": 0,
  "metadata": {
    "colab": {
      "provenance": [],
      "include_colab_link": true
    },
    "kernelspec": {
      "name": "ir",
      "display_name": "R"
    },
    "language_info": {
      "name": "R"
    }
  },
  "cells": [
    {
      "cell_type": "markdown",
      "metadata": {
        "id": "view-in-github",
        "colab_type": "text"
      },
      "source": [
        "<a href=\"https://colab.research.google.com/github/MaximTislenko/GB_med_stat_R/blob/main/Zad_01_05.ipynb\" target=\"_parent\"><img src=\"https://colab.research.google.com/assets/colab-badge.svg\" alt=\"Open In Colab\"/></a>"
      ]
    },
    {
      "cell_type": "code",
      "execution_count": 1,
      "metadata": {
        "id": "AdrY4BSy4w1z",
        "colab": {
          "base_uri": "https://localhost:8080/"
        },
        "outputId": "db37f1d2-991b-4b84-82fd-67fb460e2ac0"
      },
      "outputs": [
        {
          "output_type": "stream",
          "name": "stderr",
          "text": [
            "── \u001b[1mAttaching core tidyverse packages\u001b[22m ──────────────────────── tidyverse 2.0.0 ──\n",
            "\u001b[32m✔\u001b[39m \u001b[34mdplyr    \u001b[39m 1.1.4     \u001b[32m✔\u001b[39m \u001b[34mreadr    \u001b[39m 2.1.5\n",
            "\u001b[32m✔\u001b[39m \u001b[34mforcats  \u001b[39m 1.0.0     \u001b[32m✔\u001b[39m \u001b[34mstringr  \u001b[39m 1.5.1\n",
            "\u001b[32m✔\u001b[39m \u001b[34mggplot2  \u001b[39m 3.4.4     \u001b[32m✔\u001b[39m \u001b[34mtibble   \u001b[39m 3.2.1\n",
            "\u001b[32m✔\u001b[39m \u001b[34mlubridate\u001b[39m 1.9.3     \u001b[32m✔\u001b[39m \u001b[34mtidyr    \u001b[39m 1.3.1\n",
            "\u001b[32m✔\u001b[39m \u001b[34mpurrr    \u001b[39m 1.0.2     \n",
            "── \u001b[1mConflicts\u001b[22m ────────────────────────────────────────── tidyverse_conflicts() ──\n",
            "\u001b[31m✖\u001b[39m \u001b[34mpurrr\u001b[39m::\u001b[32m%||%()\u001b[39m   masks \u001b[34mbase\u001b[39m::%||%()\n",
            "\u001b[31m✖\u001b[39m \u001b[34mdplyr\u001b[39m::\u001b[32mfilter()\u001b[39m masks \u001b[34mstats\u001b[39m::filter()\n",
            "\u001b[31m✖\u001b[39m \u001b[34mdplyr\u001b[39m::\u001b[32mlag()\u001b[39m    masks \u001b[34mstats\u001b[39m::lag()\n",
            "\u001b[36mℹ\u001b[39m Use the conflicted package (\u001b[3m\u001b[34m<http://conflicted.r-lib.org/>\u001b[39m\u001b[23m) to force all conflicts to become errors\n"
          ]
        }
      ],
      "source": [
        "library(tidyverse)\n",
        "library(readxl)"
      ]
    },
    {
      "cell_type": "markdown",
      "source": [
        "# Векторы"
      ],
      "metadata": {
        "id": "mrSY8BMfvY1r"
      }
    },
    {
      "cell_type": "code",
      "source": [
        "# числовой вектор\n",
        "a <- c(1, 2, 3, 4, 5, 6, -2, 4)\n",
        "a"
      ],
      "metadata": {
        "id": "ANzABip_eCkT",
        "outputId": "21fde3dc-ee0c-4017-b45c-b11ea53225f3",
        "colab": {
          "base_uri": "https://localhost:8080/",
          "height": 34
        }
      },
      "execution_count": 3,
      "outputs": [
        {
          "output_type": "display_data",
          "data": {
            "text/html": [
              "<style>\n",
              ".list-inline {list-style: none; margin:0; padding: 0}\n",
              ".list-inline>li {display: inline-block}\n",
              ".list-inline>li:not(:last-child)::after {content: \"\\00b7\"; padding: 0 .5ex}\n",
              "</style>\n",
              "<ol class=list-inline><li>1</li><li>2</li><li>3</li><li>4</li><li>5</li><li>6</li><li>-2</li><li>4</li></ol>\n"
            ],
            "text/markdown": "1. 1\n2. 2\n3. 3\n4. 4\n5. 5\n6. 6\n7. -2\n8. 4\n\n\n",
            "text/latex": "\\begin{enumerate*}\n\\item 1\n\\item 2\n\\item 3\n\\item 4\n\\item 5\n\\item 6\n\\item -2\n\\item 4\n\\end{enumerate*}\n",
            "text/plain": [
              "[1]  1  2  3  4  5  6 -2  4"
            ]
          },
          "metadata": {}
        }
      ]
    },
    {
      "cell_type": "code",
      "source": [
        "a[c(2, 4)]"
      ],
      "metadata": {
        "id": "hwIpkfLJfsET",
        "outputId": "4397f0ef-592b-4537-a8e8-82e209dc2b87",
        "colab": {
          "base_uri": "https://localhost:8080/",
          "height": 34
        }
      },
      "execution_count": 6,
      "outputs": [
        {
          "output_type": "display_data",
          "data": {
            "text/html": [
              "<style>\n",
              ".list-inline {list-style: none; margin:0; padding: 0}\n",
              ".list-inline>li {display: inline-block}\n",
              ".list-inline>li:not(:last-child)::after {content: \"\\00b7\"; padding: 0 .5ex}\n",
              "</style>\n",
              "<ol class=list-inline><li>2</li><li>4</li></ol>\n"
            ],
            "text/markdown": "1. 2\n2. 4\n\n\n",
            "text/latex": "\\begin{enumerate*}\n\\item 2\n\\item 4\n\\end{enumerate*}\n",
            "text/plain": [
              "[1] 2 4"
            ]
          },
          "metadata": {}
        }
      ]
    },
    {
      "cell_type": "code",
      "source": [
        "a"
      ],
      "metadata": {
        "id": "-RR9L4Bpf2BL",
        "outputId": "4afd7752-2c47-4377-c8ec-609b8bad2c29",
        "colab": {
          "base_uri": "https://localhost:8080/",
          "height": 34
        }
      },
      "execution_count": 8,
      "outputs": [
        {
          "output_type": "display_data",
          "data": {
            "text/html": [
              "<style>\n",
              ".list-inline {list-style: none; margin:0; padding: 0}\n",
              ".list-inline>li {display: inline-block}\n",
              ".list-inline>li:not(:last-child)::after {content: \"\\00b7\"; padding: 0 .5ex}\n",
              "</style>\n",
              "<ol class=list-inline><li>1</li><li>2</li><li>3</li><li>4</li><li>5</li><li>6</li><li>-2</li><li>4</li></ol>\n"
            ],
            "text/markdown": "1. 1\n2. 2\n3. 3\n4. 4\n5. 5\n6. 6\n7. -2\n8. 4\n\n\n",
            "text/latex": "\\begin{enumerate*}\n\\item 1\n\\item 2\n\\item 3\n\\item 4\n\\item 5\n\\item 6\n\\item -2\n\\item 4\n\\end{enumerate*}\n",
            "text/plain": [
              "[1]  1  2  3  4  5  6 -2  4"
            ]
          },
          "metadata": {}
        }
      ]
    },
    {
      "cell_type": "code",
      "source": [
        "# текстовый вектор\n",
        "b <- c(\"one\", \"two\", \"three\")\n",
        "b"
      ],
      "metadata": {
        "id": "zPjJBa9BesTT",
        "outputId": "ab6d17c0-fc83-4ece-eeb1-6607cc9c5d6f",
        "colab": {
          "base_uri": "https://localhost:8080/",
          "height": 34
        }
      },
      "execution_count": 4,
      "outputs": [
        {
          "output_type": "display_data",
          "data": {
            "text/html": [
              "<style>\n",
              ".list-inline {list-style: none; margin:0; padding: 0}\n",
              ".list-inline>li {display: inline-block}\n",
              ".list-inline>li:not(:last-child)::after {content: \"\\00b7\"; padding: 0 .5ex}\n",
              "</style>\n",
              "<ol class=list-inline><li>'one'</li><li>'two'</li><li>'three'</li></ol>\n"
            ],
            "text/markdown": "1. 'one'\n2. 'two'\n3. 'three'\n\n\n",
            "text/latex": "\\begin{enumerate*}\n\\item 'one'\n\\item 'two'\n\\item 'three'\n\\end{enumerate*}\n",
            "text/plain": [
              "[1] \"one\"   \"two\"   \"three\""
            ]
          },
          "metadata": {}
        }
      ]
    },
    {
      "cell_type": "code",
      "source": [
        "# логический вектор\n",
        "с <- c(TRUE, TRUE, TRUE, FALSE, TRUE, FALSE)\n",
        "c"
      ],
      "metadata": {
        "id": "xoZCVmQ3fHgb",
        "outputId": "c4d0bc02-dbf0-4275-d865-1b3c4d6f643b",
        "colab": {
          "base_uri": "https://localhost:8080/",
          "height": 34
        }
      },
      "execution_count": 5,
      "outputs": [
        {
          "output_type": "display_data",
          "data": {
            "text/html": [
              "<pre class=language-r><code>.Primitive(\"c\")</code></pre>"
            ],
            "text/markdown": "```r\n.Primitive(\"c\")\n```",
            "text/latex": "\\begin{minted}{r}\n.Primitive(\"c\")\n\\end{minted}",
            "text/plain": [
              "function (...)  .Primitive(\"c\")"
            ]
          },
          "metadata": {}
        }
      ]
    },
    {
      "cell_type": "code",
      "source": [
        "a <- c(\"k\", \"j\", \"h\", \"a\", \"c\", \"m\")\n",
        "a\n",
        "a[3]\n",
        "a[c(1,3,5)]\n",
        "a[2:6]"
      ],
      "metadata": {
        "id": "Lez1FRCVe800",
        "outputId": "85814a69-6c49-483f-f3be-061ce4fdb228",
        "colab": {
          "base_uri": "https://localhost:8080/",
          "height": 86
        }
      },
      "execution_count": 12,
      "outputs": [
        {
          "output_type": "display_data",
          "data": {
            "text/html": [
              "<style>\n",
              ".list-inline {list-style: none; margin:0; padding: 0}\n",
              ".list-inline>li {display: inline-block}\n",
              ".list-inline>li:not(:last-child)::after {content: \"\\00b7\"; padding: 0 .5ex}\n",
              "</style>\n",
              "<ol class=list-inline><li>'k'</li><li>'j'</li><li>'h'</li><li>'a'</li><li>'c'</li><li>'m'</li></ol>\n"
            ],
            "text/markdown": "1. 'k'\n2. 'j'\n3. 'h'\n4. 'a'\n5. 'c'\n6. 'm'\n\n\n",
            "text/latex": "\\begin{enumerate*}\n\\item 'k'\n\\item 'j'\n\\item 'h'\n\\item 'a'\n\\item 'c'\n\\item 'm'\n\\end{enumerate*}\n",
            "text/plain": [
              "[1] \"k\" \"j\" \"h\" \"a\" \"c\" \"m\""
            ]
          },
          "metadata": {}
        },
        {
          "output_type": "display_data",
          "data": {
            "text/html": [
              "'h'"
            ],
            "text/markdown": "'h'",
            "text/latex": "'h'",
            "text/plain": [
              "[1] \"h\""
            ]
          },
          "metadata": {}
        },
        {
          "output_type": "display_data",
          "data": {
            "text/html": [
              "<style>\n",
              ".list-inline {list-style: none; margin:0; padding: 0}\n",
              ".list-inline>li {display: inline-block}\n",
              ".list-inline>li:not(:last-child)::after {content: \"\\00b7\"; padding: 0 .5ex}\n",
              "</style>\n",
              "<ol class=list-inline><li>'k'</li><li>'h'</li><li>'c'</li></ol>\n"
            ],
            "text/markdown": "1. 'k'\n2. 'h'\n3. 'c'\n\n\n",
            "text/latex": "\\begin{enumerate*}\n\\item 'k'\n\\item 'h'\n\\item 'c'\n\\end{enumerate*}\n",
            "text/plain": [
              "[1] \"k\" \"h\" \"c\""
            ]
          },
          "metadata": {}
        },
        {
          "output_type": "display_data",
          "data": {
            "text/html": [
              "<style>\n",
              ".list-inline {list-style: none; margin:0; padding: 0}\n",
              ".list-inline>li {display: inline-block}\n",
              ".list-inline>li:not(:last-child)::after {content: \"\\00b7\"; padding: 0 .5ex}\n",
              "</style>\n",
              "<ol class=list-inline><li>'j'</li><li>'h'</li><li>'a'</li><li>'c'</li><li>'m'</li></ol>\n"
            ],
            "text/markdown": "1. 'j'\n2. 'h'\n3. 'a'\n4. 'c'\n5. 'm'\n\n\n",
            "text/latex": "\\begin{enumerate*}\n\\item 'j'\n\\item 'h'\n\\item 'a'\n\\item 'c'\n\\item 'm'\n\\end{enumerate*}\n",
            "text/plain": [
              "[1] \"j\" \"h\" \"a\" \"c\" \"m\""
            ]
          },
          "metadata": {}
        }
      ]
    },
    {
      "cell_type": "markdown",
      "source": [
        "# Матрицы\n",
        "\n",
        "$mymatrix <- matrix(вектор, nrow=число_строк, ncol=число_столбцов,\n",
        "byrow=логическое_значение, dimnames=list\n",
        "(текстовый_вектор_с_названиями_строк,\n",
        "текстовый_вектор_с_названиями_столбцов))$\n",
        "\n",
        ",где $вектор$ – это вектор, содержащий элементы матрицы, $nrow$ и $ncol$ определяют число строк и столбцов в матрице, а список $dimnames$\n",
        "определяет названия строк и столбцов (их указывать не обяза-\n",
        "тельно) в виде текстовых векторов. Параметр $byrow$ определяет,\n",
        "как должна заполняться матрица – по строкам ($byrow=TRUE$) или по\n",
        "столбцам ($byrow=FALSE$). По умолчанию матрица заполняется по\n",
        "столбцам.\n"
      ],
      "metadata": {
        "id": "EM3Dj8BkvcPj"
      }
    },
    {
      "cell_type": "code",
      "source": [
        "# матрица 5*4\n",
        "y <- matrix(1:20, nrow = 5, ncol = 4)\n",
        "y"
      ],
      "metadata": {
        "id": "RyZEWf5Cve97",
        "outputId": "4803d9b4-daff-4e81-f4c2-8edf991c6473",
        "colab": {
          "base_uri": "https://localhost:8080/",
          "height": 208
        }
      },
      "execution_count": 1,
      "outputs": [
        {
          "output_type": "display_data",
          "data": {
            "text/html": [
              "<table class=\"dataframe\">\n",
              "<caption>A matrix: 5 × 4 of type int</caption>\n",
              "<tbody>\n",
              "\t<tr><td>1</td><td> 6</td><td>11</td><td>16</td></tr>\n",
              "\t<tr><td>2</td><td> 7</td><td>12</td><td>17</td></tr>\n",
              "\t<tr><td>3</td><td> 8</td><td>13</td><td>18</td></tr>\n",
              "\t<tr><td>4</td><td> 9</td><td>14</td><td>19</td></tr>\n",
              "\t<tr><td>5</td><td>10</td><td>15</td><td>20</td></tr>\n",
              "</tbody>\n",
              "</table>\n"
            ],
            "text/markdown": "\nA matrix: 5 × 4 of type int\n\n| 1 |  6 | 11 | 16 |\n| 2 |  7 | 12 | 17 |\n| 3 |  8 | 13 | 18 |\n| 4 |  9 | 14 | 19 |\n| 5 | 10 | 15 | 20 |\n\n",
            "text/latex": "A matrix: 5 × 4 of type int\n\\begin{tabular}{llll}\n\t 1 &  6 & 11 & 16\\\\\n\t 2 &  7 & 12 & 17\\\\\n\t 3 &  8 & 13 & 18\\\\\n\t 4 &  9 & 14 & 19\\\\\n\t 5 & 10 & 15 & 20\\\\\n\\end{tabular}\n",
            "text/plain": [
              "     [,1] [,2] [,3] [,4]\n",
              "[1,] 1     6   11   16  \n",
              "[2,] 2     7   12   17  \n",
              "[3,] 3     8   13   18  \n",
              "[4,] 4     9   14   19  \n",
              "[5,] 5    10   15   20  "
            ]
          },
          "metadata": {}
        }
      ]
    },
    {
      "cell_type": "code",
      "source": [
        "# матрица 2*2 заполняется по строкам\n",
        "cells <- c(1, 26, 24, 68)\n",
        "rnames <- c(\"R1\", \"R2\")\n",
        "cnames <- c(\"C1\", \"C2\")\n",
        "mymatrix_01 <- matrix(cells, nrow = 2, ncol = 2, byrow = TRUE, dimnames = list(rnames, cnames))\n",
        "mymatrix_01"
      ],
      "metadata": {
        "id": "0Arxlha9PdZW",
        "outputId": "3eddada3-87ce-4e9f-f404-e255d4e66357",
        "colab": {
          "base_uri": "https://localhost:8080/",
          "height": 147
        }
      },
      "execution_count": 3,
      "outputs": [
        {
          "output_type": "display_data",
          "data": {
            "text/html": [
              "<table class=\"dataframe\">\n",
              "<caption>A matrix: 2 × 2 of type dbl</caption>\n",
              "<thead>\n",
              "\t<tr><th></th><th scope=col>C1</th><th scope=col>C2</th></tr>\n",
              "</thead>\n",
              "<tbody>\n",
              "\t<tr><th scope=row>R1</th><td> 1</td><td>26</td></tr>\n",
              "\t<tr><th scope=row>R2</th><td>24</td><td>68</td></tr>\n",
              "</tbody>\n",
              "</table>\n"
            ],
            "text/markdown": "\nA matrix: 2 × 2 of type dbl\n\n| <!--/--> | C1 | C2 |\n|---|---|---|\n| R1 |  1 | 26 |\n| R2 | 24 | 68 |\n\n",
            "text/latex": "A matrix: 2 × 2 of type dbl\n\\begin{tabular}{r|ll}\n  & C1 & C2\\\\\n\\hline\n\tR1 &  1 & 26\\\\\n\tR2 & 24 & 68\\\\\n\\end{tabular}\n",
            "text/plain": [
              "   C1 C2\n",
              "R1  1 26\n",
              "R2 24 68"
            ]
          },
          "metadata": {}
        }
      ]
    },
    {
      "cell_type": "code",
      "source": [
        "# матрица 2*2 заполняется по столбцам\n",
        "mymatrix_02 <- matrix(cells, nrow = 2, ncol = 2, byrow = FALSE, dimnames = list(cnames, rnames))\n",
        "mymatrix_02"
      ],
      "metadata": {
        "id": "VKQ40BxsUlOo",
        "outputId": "1e804e50-7a63-47d9-e284-24fcea340fa1",
        "colab": {
          "base_uri": "https://localhost:8080/",
          "height": 147
        }
      },
      "execution_count": 4,
      "outputs": [
        {
          "output_type": "display_data",
          "data": {
            "text/html": [
              "<table class=\"dataframe\">\n",
              "<caption>A matrix: 2 × 2 of type dbl</caption>\n",
              "<thead>\n",
              "\t<tr><th></th><th scope=col>R1</th><th scope=col>R2</th></tr>\n",
              "</thead>\n",
              "<tbody>\n",
              "\t<tr><th scope=row>C1</th><td> 1</td><td>24</td></tr>\n",
              "\t<tr><th scope=row>C2</th><td>26</td><td>68</td></tr>\n",
              "</tbody>\n",
              "</table>\n"
            ],
            "text/markdown": "\nA matrix: 2 × 2 of type dbl\n\n| <!--/--> | R1 | R2 |\n|---|---|---|\n| C1 |  1 | 24 |\n| C2 | 26 | 68 |\n\n",
            "text/latex": "A matrix: 2 × 2 of type dbl\n\\begin{tabular}{r|ll}\n  & R1 & R2\\\\\n\\hline\n\tC1 &  1 & 24\\\\\n\tC2 & 26 & 68\\\\\n\\end{tabular}\n",
            "text/plain": [
              "   R1 R2\n",
              "C1  1 24\n",
              "C2 26 68"
            ]
          },
          "metadata": {}
        }
      ]
    },
    {
      "cell_type": "code",
      "source": [
        "# Доступ к строкам, столбцам и к ячейке\n",
        "x <- matrix(1:10, nrow = 2)\n",
        "x\n",
        "x[2,]\n",
        "x[, 2]\n",
        "x[1, 4]"
      ],
      "metadata": {
        "id": "9olVAEoITQxw",
        "outputId": "ef2252bc-f9e7-4ac9-8b04-9a55be6ebd1a",
        "colab": {
          "base_uri": "https://localhost:8080/",
          "height": 166
        }
      },
      "execution_count": 8,
      "outputs": [
        {
          "output_type": "display_data",
          "data": {
            "text/html": [
              "<table class=\"dataframe\">\n",
              "<caption>A matrix: 2 × 5 of type int</caption>\n",
              "<tbody>\n",
              "\t<tr><td>1</td><td>3</td><td>5</td><td>7</td><td> 9</td></tr>\n",
              "\t<tr><td>2</td><td>4</td><td>6</td><td>8</td><td>10</td></tr>\n",
              "</tbody>\n",
              "</table>\n"
            ],
            "text/markdown": "\nA matrix: 2 × 5 of type int\n\n| 1 | 3 | 5 | 7 |  9 |\n| 2 | 4 | 6 | 8 | 10 |\n\n",
            "text/latex": "A matrix: 2 × 5 of type int\n\\begin{tabular}{lllll}\n\t 1 & 3 & 5 & 7 &  9\\\\\n\t 2 & 4 & 6 & 8 & 10\\\\\n\\end{tabular}\n",
            "text/plain": [
              "     [,1] [,2] [,3] [,4] [,5]\n",
              "[1,] 1    3    5    7     9  \n",
              "[2,] 2    4    6    8    10  "
            ]
          },
          "metadata": {}
        },
        {
          "output_type": "display_data",
          "data": {
            "text/html": [
              "<style>\n",
              ".list-inline {list-style: none; margin:0; padding: 0}\n",
              ".list-inline>li {display: inline-block}\n",
              ".list-inline>li:not(:last-child)::after {content: \"\\00b7\"; padding: 0 .5ex}\n",
              "</style>\n",
              "<ol class=list-inline><li>2</li><li>4</li><li>6</li><li>8</li><li>10</li></ol>\n"
            ],
            "text/markdown": "1. 2\n2. 4\n3. 6\n4. 8\n5. 10\n\n\n",
            "text/latex": "\\begin{enumerate*}\n\\item 2\n\\item 4\n\\item 6\n\\item 8\n\\item 10\n\\end{enumerate*}\n",
            "text/plain": [
              "[1]  2  4  6  8 10"
            ]
          },
          "metadata": {}
        },
        {
          "output_type": "display_data",
          "data": {
            "text/html": [
              "<style>\n",
              ".list-inline {list-style: none; margin:0; padding: 0}\n",
              ".list-inline>li {display: inline-block}\n",
              ".list-inline>li:not(:last-child)::after {content: \"\\00b7\"; padding: 0 .5ex}\n",
              "</style>\n",
              "<ol class=list-inline><li>3</li><li>4</li></ol>\n"
            ],
            "text/markdown": "1. 3\n2. 4\n\n\n",
            "text/latex": "\\begin{enumerate*}\n\\item 3\n\\item 4\n\\end{enumerate*}\n",
            "text/plain": [
              "[1] 3 4"
            ]
          },
          "metadata": {}
        },
        {
          "output_type": "display_data",
          "data": {
            "text/html": [
              "7"
            ],
            "text/markdown": "7",
            "text/latex": "7",
            "text/plain": [
              "[1] 7"
            ]
          },
          "metadata": {}
        }
      ]
    },
    {
      "cell_type": "markdown",
      "source": [
        "# Массивы\n",
        "\n",
        "$myarray <- array(vector, dimensions, dimnames)$\n",
        "\n",
        ",где $vector$ – это вектор с данными, $dimensions$ – числовой вектор,\n",
        "определяющий размеры измерений, а $dimnames$ – необязательный\n",
        "список названий измерений."
      ],
      "metadata": {
        "id": "WNs37WesWeJS"
      }
    },
    {
      "cell_type": "code",
      "source": [
        "# пример создания трехмерного (2*3*4) числового массива\n",
        "dim1 <- c(\"A1\", \"A2\")\n",
        "dim2 <- c(\"B1\", \"B2\", \"B3\")\n",
        "dim3 <- c(\"C1\", \"C2\", \"C3\", \"C4\")\n",
        "z <- array(1:24, c(2, 3, 4), dimnames = list(dim1, dim2, dim3))\n",
        "z[1,2,3]\n",
        "z[1, , ]\n",
        "z[ ,1, ]\n",
        "z[, , 1]"
      ],
      "metadata": {
        "id": "2c2Di6JxXIBj",
        "outputId": "8e1cb15b-7c3c-4ddc-eece-c04b1b56619c",
        "colab": {
          "base_uri": "https://localhost:8080/",
          "height": 454
        }
      },
      "execution_count": 14,
      "outputs": [
        {
          "output_type": "display_data",
          "data": {
            "text/html": [
              "15"
            ],
            "text/markdown": "15",
            "text/latex": "15",
            "text/plain": [
              "[1] 15"
            ]
          },
          "metadata": {}
        },
        {
          "output_type": "display_data",
          "data": {
            "text/html": [
              "<table class=\"dataframe\">\n",
              "<caption>A matrix: 3 × 4 of type int</caption>\n",
              "<thead>\n",
              "\t<tr><th></th><th scope=col>C1</th><th scope=col>C2</th><th scope=col>C3</th><th scope=col>C4</th></tr>\n",
              "</thead>\n",
              "<tbody>\n",
              "\t<tr><th scope=row>B1</th><td>1</td><td> 7</td><td>13</td><td>19</td></tr>\n",
              "\t<tr><th scope=row>B2</th><td>3</td><td> 9</td><td>15</td><td>21</td></tr>\n",
              "\t<tr><th scope=row>B3</th><td>5</td><td>11</td><td>17</td><td>23</td></tr>\n",
              "</tbody>\n",
              "</table>\n"
            ],
            "text/markdown": "\nA matrix: 3 × 4 of type int\n\n| <!--/--> | C1 | C2 | C3 | C4 |\n|---|---|---|---|---|\n| B1 | 1 |  7 | 13 | 19 |\n| B2 | 3 |  9 | 15 | 21 |\n| B3 | 5 | 11 | 17 | 23 |\n\n",
            "text/latex": "A matrix: 3 × 4 of type int\n\\begin{tabular}{r|llll}\n  & C1 & C2 & C3 & C4\\\\\n\\hline\n\tB1 & 1 &  7 & 13 & 19\\\\\n\tB2 & 3 &  9 & 15 & 21\\\\\n\tB3 & 5 & 11 & 17 & 23\\\\\n\\end{tabular}\n",
            "text/plain": [
              "   C1 C2 C3 C4\n",
              "B1 1   7 13 19\n",
              "B2 3   9 15 21\n",
              "B3 5  11 17 23"
            ]
          },
          "metadata": {}
        },
        {
          "output_type": "display_data",
          "data": {
            "text/html": [
              "<table class=\"dataframe\">\n",
              "<caption>A matrix: 2 × 4 of type int</caption>\n",
              "<thead>\n",
              "\t<tr><th></th><th scope=col>C1</th><th scope=col>C2</th><th scope=col>C3</th><th scope=col>C4</th></tr>\n",
              "</thead>\n",
              "<tbody>\n",
              "\t<tr><th scope=row>A1</th><td>1</td><td>7</td><td>13</td><td>19</td></tr>\n",
              "\t<tr><th scope=row>A2</th><td>2</td><td>8</td><td>14</td><td>20</td></tr>\n",
              "</tbody>\n",
              "</table>\n"
            ],
            "text/markdown": "\nA matrix: 2 × 4 of type int\n\n| <!--/--> | C1 | C2 | C3 | C4 |\n|---|---|---|---|---|\n| A1 | 1 | 7 | 13 | 19 |\n| A2 | 2 | 8 | 14 | 20 |\n\n",
            "text/latex": "A matrix: 2 × 4 of type int\n\\begin{tabular}{r|llll}\n  & C1 & C2 & C3 & C4\\\\\n\\hline\n\tA1 & 1 & 7 & 13 & 19\\\\\n\tA2 & 2 & 8 & 14 & 20\\\\\n\\end{tabular}\n",
            "text/plain": [
              "   C1 C2 C3 C4\n",
              "A1 1  7  13 19\n",
              "A2 2  8  14 20"
            ]
          },
          "metadata": {}
        },
        {
          "output_type": "display_data",
          "data": {
            "text/html": [
              "<table class=\"dataframe\">\n",
              "<caption>A matrix: 2 × 3 of type int</caption>\n",
              "<thead>\n",
              "\t<tr><th></th><th scope=col>B1</th><th scope=col>B2</th><th scope=col>B3</th></tr>\n",
              "</thead>\n",
              "<tbody>\n",
              "\t<tr><th scope=row>A1</th><td>1</td><td>3</td><td>5</td></tr>\n",
              "\t<tr><th scope=row>A2</th><td>2</td><td>4</td><td>6</td></tr>\n",
              "</tbody>\n",
              "</table>\n"
            ],
            "text/markdown": "\nA matrix: 2 × 3 of type int\n\n| <!--/--> | B1 | B2 | B3 |\n|---|---|---|---|\n| A1 | 1 | 3 | 5 |\n| A2 | 2 | 4 | 6 |\n\n",
            "text/latex": "A matrix: 2 × 3 of type int\n\\begin{tabular}{r|lll}\n  & B1 & B2 & B3\\\\\n\\hline\n\tA1 & 1 & 3 & 5\\\\\n\tA2 & 2 & 4 & 6\\\\\n\\end{tabular}\n",
            "text/plain": [
              "   B1 B2 B3\n",
              "A1 1  3  5 \n",
              "A2 2  4  6 "
            ]
          },
          "metadata": {}
        }
      ]
    },
    {
      "cell_type": "markdown",
      "source": [
        "# Таблицы данных\n",
        "\n"
      ],
      "metadata": {
        "id": "-IJguwJPZKCp"
      }
    },
    {
      "cell_type": "code",
      "source": [
        "base <- read_tsv('https://raw.githubusercontent.com/MaximTislenko/GB_med_stat_R/main/baze.tsv') %>%\n",
        "   mutate(Patient.number = as.factor(Patient.number), Vial.number = as.factor(Vial.number))\n",
        "\n",
        "base"
      ],
      "metadata": {
        "colab": {
          "base_uri": "https://localhost:8080/",
          "height": 1000
        },
        "id": "JC9nqMN05TAE",
        "outputId": "2873ac9e-cb33-4384-83c5-8c9f5a9689fd"
      },
      "execution_count": null,
      "outputs": [
        {
          "output_type": "stream",
          "name": "stderr",
          "text": [
            "\u001b[1mRows: \u001b[22m\u001b[34m38\u001b[39m \u001b[1mColumns: \u001b[22m\u001b[34m94\u001b[39m\n",
            "\u001b[36m──\u001b[39m \u001b[1mColumn specification\u001b[22m \u001b[36m────────────────────────────────────────────────────────\u001b[39m\n",
            "\u001b[1mDelimiter:\u001b[22m \"\\t\"\n",
            "\u001b[31mchr\u001b[39m   (2): Name, comorbidities\n",
            "\u001b[32mdbl\u001b[39m  (91): Vial.number, Patient.number, Group, Age, Ht, Wt, BMI, Sys, Dia, P...\n",
            "\u001b[34mdttm\u001b[39m  (1): Date\n",
            "\n",
            "\u001b[36mℹ\u001b[39m Use `spec()` to retrieve the full column specification for this data.\n",
            "\u001b[36mℹ\u001b[39m Specify the column types or set `show_col_types = FALSE` to quiet this message.\n"
          ]
        },
        {
          "output_type": "display_data",
          "data": {
            "text/html": [
              "<table class=\"dataframe\">\n",
              "<caption>A tibble: 38 × 94</caption>\n",
              "<thead>\n",
              "\t<tr><th scope=col>Vial.number</th><th scope=col>Patient.number</th><th scope=col>Name</th><th scope=col>Group</th><th scope=col>Age</th><th scope=col>Date</th><th scope=col>Ht</th><th scope=col>Wt</th><th scope=col>BMI</th><th scope=col>Sys</th><th scope=col>⋯</th><th scope=col>G1.ldl</th><th scope=col>G2.ldl</th><th scope=col>G3.ldl</th><th scope=col>S0.ldl</th><th scope=col>S1.ldl</th><th scope=col>S2.ldl</th><th scope=col>S3.ldl</th><th scope=col>B.ldl</th><th scope=col>F.ldl</th><th scope=col>HM.ldl</th></tr>\n",
              "\t<tr><th scope=col>&lt;fct&gt;</th><th scope=col>&lt;fct&gt;</th><th scope=col>&lt;chr&gt;</th><th scope=col>&lt;dbl&gt;</th><th scope=col>&lt;dbl&gt;</th><th scope=col>&lt;dttm&gt;</th><th scope=col>&lt;dbl&gt;</th><th scope=col>&lt;dbl&gt;</th><th scope=col>&lt;dbl&gt;</th><th scope=col>&lt;dbl&gt;</th><th scope=col>⋯</th><th scope=col>&lt;dbl&gt;</th><th scope=col>&lt;dbl&gt;</th><th scope=col>&lt;dbl&gt;</th><th scope=col>&lt;dbl&gt;</th><th scope=col>&lt;dbl&gt;</th><th scope=col>&lt;dbl&gt;</th><th scope=col>&lt;dbl&gt;</th><th scope=col>&lt;dbl&gt;</th><th scope=col>&lt;dbl&gt;</th><th scope=col>&lt;dbl&gt;</th></tr>\n",
              "</thead>\n",
              "<tbody>\n",
              "\t<tr><td>1 </td><td>50</td><td>Woodard, Dillon        </td><td>0</td><td>63</td><td>2022-03-26</td><td>163</td><td> 84.0</td><td>31.61579</td><td>125</td><td>⋯</td><td>4.090</td><td>68.910</td><td>3.570</td><td>3.980</td><td>28.180</td><td>42.460</td><td>1.950</td><td>0.020</td><td>1.67</td><td>13.02</td></tr>\n",
              "\t<tr><td>2 </td><td>51</td><td>Kuck, Breanna          </td><td>0</td><td>47</td><td>2023-12-23</td><td>179</td><td>111.0</td><td>34.64311</td><td>125</td><td>⋯</td><td>   NA</td><td>    NA</td><td>   NA</td><td>   NA</td><td>    NA</td><td>    NA</td><td>   NA</td><td>   NA</td><td>  NA</td><td>   NA</td></tr>\n",
              "\t<tr><td>3 </td><td>52</td><td>Thomas, Terrance       </td><td>1</td><td>57</td><td>2022-10-10</td><td>164</td><td> 80.0</td><td>29.74420</td><td>132</td><td>⋯</td><td>5.160</td><td>68.220</td><td>3.110</td><td>4.640</td><td>30.430</td><td>39.860</td><td>1.560</td><td>0.020</td><td>1.69</td><td>14.16</td></tr>\n",
              "\t<tr><td>4 </td><td>53</td><td>Moua, Kensue           </td><td>1</td><td>72</td><td>2022-12-21</td><td>160</td><td> 58.8</td><td>22.96875</td><td>130</td><td>⋯</td><td>3.950</td><td>68.030</td><td>4.500</td><td>3.780</td><td>29.370</td><td>41.130</td><td>2.200</td><td>0.020</td><td>1.89</td><td>13.89</td></tr>\n",
              "\t<tr><td>5 </td><td>54</td><td>Soriano, Ryan          </td><td>1</td><td>57</td><td>2023-03-16</td><td>180</td><td> 71.0</td><td>21.91358</td><td>135</td><td>⋯</td><td>4.630</td><td>66.910</td><td>4.030</td><td>4.440</td><td>28.540</td><td>40.640</td><td>1.950</td><td>0.020</td><td>2.03</td><td>14.25</td></tr>\n",
              "\t<tr><td>6 </td><td>55</td><td>Munoz-Lujan, Evangelina</td><td>1</td><td>79</td><td>2023-03-25</td><td>160</td><td> 64.0</td><td>25.00000</td><td>110</td><td>⋯</td><td>4.050</td><td>64.010</td><td>5.270</td><td>3.720</td><td>26.710</td><td>40.390</td><td>2.510</td><td>0.020</td><td>2.70</td><td>16.06</td></tr>\n",
              "\t<tr><td>7 </td><td>56</td><td>Silas, Gurinder        </td><td>1</td><td>61</td><td>2022-01-06</td><td>164</td><td> 67.0</td><td>24.91077</td><td>124</td><td>⋯</td><td>4.100</td><td>65.990</td><td>4.700</td><td>4.030</td><td>28.440</td><td>39.990</td><td>2.330</td><td>0.020</td><td>1.61</td><td>13.82</td></tr>\n",
              "\t<tr><td>8 </td><td>57</td><td>Matt, Gage             </td><td>1</td><td>70</td><td>2022-01-27</td><td>162</td><td> 61.0</td><td>23.24341</td><td>135</td><td>⋯</td><td>5.270</td><td>67.260</td><td>3.240</td><td>4.690</td><td>32.270</td><td>37.290</td><td>1.520</td><td>0.030</td><td>1.61</td><td>14.59</td></tr>\n",
              "\t<tr><td>9 </td><td>58</td><td>Lords, Aaran           </td><td>0</td><td>50</td><td>2023-10-20</td><td>150</td><td> 79.0</td><td>35.11111</td><td>142</td><td>⋯</td><td>3.970</td><td>67.590</td><td>4.220</td><td>4.420</td><td>27.990</td><td>41.190</td><td>2.180</td><td>0.050</td><td>1.55</td><td>13.26</td></tr>\n",
              "\t<tr><td>10</td><td>59</td><td>Mummert, Skye          </td><td>1</td><td>53</td><td>2022-07-21</td><td>172</td><td> 88.2</td><td>29.81341</td><td>120</td><td>⋯</td><td>4.480</td><td>68.880</td><td>4.040</td><td>3.860</td><td>28.110</td><td>43.200</td><td>2.230</td><td>0.020</td><td>2.30</td><td>13.11</td></tr>\n",
              "\t<tr><td>11</td><td>60</td><td>Warero Jr, Alexis      </td><td>1</td><td>83</td><td>2023-02-13</td><td>168</td><td> 59.0</td><td>20.90420</td><td>134</td><td>⋯</td><td>4.620</td><td>66.510</td><td>4.250</td><td>4.780</td><td>28.500</td><td>40.140</td><td>1.960</td><td>0.030</td><td>1.72</td><td>14.21</td></tr>\n",
              "\t<tr><td>12</td><td>61</td><td>Bancroft, Kaldurion    </td><td>1</td><td>59</td><td>2023-08-28</td><td>157</td><td> 70.0</td><td>28.39872</td><td>120</td><td>⋯</td><td>3.470</td><td>66.740</td><td>5.030</td><td>3.450</td><td>26.590</td><td>42.620</td><td>2.580</td><td>0.020</td><td>2.02</td><td>13.52</td></tr>\n",
              "\t<tr><td>13</td><td>62</td><td>Bowen, Nakayla         </td><td>1</td><td>79</td><td>2022-08-28</td><td>161</td><td> 73.0</td><td>28.16249</td><td>120</td><td>⋯</td><td>4.780</td><td>67.400</td><td>3.720</td><td>4.760</td><td>29.470</td><td>39.760</td><td>1.910</td><td>0.060</td><td>1.93</td><td>14.28</td></tr>\n",
              "\t<tr><td>14</td><td>63</td><td>Scott, Alexandria      </td><td>1</td><td>61</td><td>2022-07-02</td><td>172</td><td> 82.0</td><td>27.71769</td><td>137</td><td>⋯</td><td>4.550</td><td>67.880</td><td>4.640</td><td>4.060</td><td>28.160</td><td>42.470</td><td>2.380</td><td>0.030</td><td>1.93</td><td>13.42</td></tr>\n",
              "\t<tr><td>15</td><td>37</td><td>Siefers, Rachel        </td><td>1</td><td>79</td><td>2023-04-28</td><td>167</td><td> 63.0</td><td>22.58955</td><td>188</td><td>⋯</td><td>4.700</td><td>67.590</td><td>3.430</td><td>5.280</td><td>33.520</td><td>35.450</td><td>1.470</td><td>0.020</td><td>1.24</td><td>14.35</td></tr>\n",
              "\t<tr><td>16</td><td>38</td><td>Timm, Carlton          </td><td>1</td><td>75</td><td>2022-03-19</td><td>165</td><td> 57.0</td><td>20.93664</td><td>120</td><td>⋯</td><td>5.200</td><td>66.370</td><td>4.220</td><td>4.470</td><td>29.360</td><td>39.770</td><td>2.190</td><td>0.030</td><td>2.99</td><td>14.47</td></tr>\n",
              "\t<tr><td>17</td><td>39</td><td>Bryant, Saarah         </td><td>1</td><td>58</td><td>2022-06-26</td><td>162</td><td>102.0</td><td>38.86603</td><td>132</td><td>⋯</td><td>4.010</td><td>67.880</td><td>4.340</td><td>4.340</td><td>29.100</td><td>40.840</td><td>1.950</td><td>0.030</td><td>1.99</td><td>13.02</td></tr>\n",
              "\t<tr><td>18</td><td>40</td><td>Fox, Cameron           </td><td>1</td><td>65</td><td>2022-12-20</td><td>171</td><td>102.6</td><td>35.08772</td><td>136</td><td>⋯</td><td>3.935</td><td>66.575</td><td>4.445</td><td>4.435</td><td>28.225</td><td>39.670</td><td>2.625</td><td>0.035</td><td>2.11</td><td>14.64</td></tr>\n",
              "\t<tr><td>19</td><td>41</td><td>Mason, Dylan           </td><td>0</td><td>64</td><td>2022-05-13</td><td>167</td><td> 62.0</td><td>22.23099</td><td>112</td><td>⋯</td><td>3.860</td><td>68.260</td><td>4.280</td><td>3.680</td><td>28.570</td><td>42.040</td><td>2.110</td><td>0.020</td><td>2.34</td><td>13.59</td></tr>\n",
              "\t<tr><td>20</td><td>42</td><td>Sandoval, Frank        </td><td>0</td><td>66</td><td>2022-07-08</td><td>165</td><td> 73.0</td><td>26.81359</td><td>135</td><td>⋯</td><td>4.710</td><td>65.305</td><td>4.735</td><td>4.335</td><td>29.245</td><td>38.985</td><td>2.185</td><td>0.030</td><td>2.19</td><td>15.15</td></tr>\n",
              "\t<tr><td>21</td><td>43</td><td>Greene, Bryce          </td><td>1</td><td>70</td><td>2023-03-08</td><td>170</td><td>101.2</td><td>35.01730</td><td>135</td><td>⋯</td><td>4.040</td><td>67.120</td><td>4.740</td><td>4.560</td><td>28.570</td><td>40.240</td><td>2.530</td><td>0.040</td><td>2.38</td><td>13.10</td></tr>\n",
              "\t<tr><td>22</td><td>30</td><td>el-Saah, Amaani        </td><td>0</td><td>65</td><td>2022-07-12</td><td>158</td><td> 69.0</td><td>27.63980</td><td>129</td><td>⋯</td><td>4.930</td><td>66.620</td><td>4.270</td><td>4.590</td><td>29.240</td><td>39.910</td><td>2.080</td><td>0.030</td><td>1.69</td><td>14.11</td></tr>\n",
              "\t<tr><td>23</td><td>31</td><td>Martinez, Alex         </td><td>1</td><td>62</td><td>2022-01-22</td><td>169</td><td> 66.0</td><td>23.10843</td><td>150</td><td>⋯</td><td>   NA</td><td>    NA</td><td>   NA</td><td>   NA</td><td>    NA</td><td>    NA</td><td>   NA</td><td>   NA</td><td>  NA</td><td>   NA</td></tr>\n",
              "\t<tr><td>24</td><td>32</td><td>Vasquez, Edgar         </td><td>0</td><td>76</td><td>2022-01-01</td><td>165</td><td> 56.5</td><td>20.75298</td><td>130</td><td>⋯</td><td>4.390</td><td>67.560</td><td>3.590</td><td>4.550</td><td>28.810</td><td>40.410</td><td>1.770</td><td>0.040</td><td>1.38</td><td>14.83</td></tr>\n",
              "\t<tr><td>25</td><td>33</td><td>el-Salam, Thamra       </td><td>1</td><td>68</td><td>2022-05-27</td><td>170</td><td> 88.0</td><td>30.44983</td><td>150</td><td>⋯</td><td>   NA</td><td>    NA</td><td>   NA</td><td>   NA</td><td>    NA</td><td>    NA</td><td>   NA</td><td>   NA</td><td>  NA</td><td>   NA</td></tr>\n",
              "\t<tr><td>26</td><td>34</td><td>Mandeville, Audreon    </td><td>0</td><td>55</td><td>2023-10-19</td><td>162</td><td> 57.0</td><td>21.71925</td><td>103</td><td>⋯</td><td>5.280</td><td>67.780</td><td>4.210</td><td>4.710</td><td>29.210</td><td>41.010</td><td>2.340</td><td>0.020</td><td>2.03</td><td>13.33</td></tr>\n",
              "\t<tr><td>27</td><td>35</td><td>Kim, Lily              </td><td>0</td><td>79</td><td>2023-12-10</td><td>172</td><td> 60.0</td><td>20.28123</td><td>100</td><td>⋯</td><td>   NA</td><td>    NA</td><td>   NA</td><td>   NA</td><td>    NA</td><td>    NA</td><td>   NA</td><td>   NA</td><td>  NA</td><td>   NA</td></tr>\n",
              "\t<tr><td>28</td><td>36</td><td>el-Ahmad, Aaisha       </td><td>0</td><td>69</td><td>2023-06-10</td><td>160</td><td> 60.0</td><td>23.43750</td><td>133</td><td>⋯</td><td>4.620</td><td>67.430</td><td>4.360</td><td>4.160</td><td>29.580</td><td>40.480</td><td>2.190</td><td>0.020</td><td>2.27</td><td>13.54</td></tr>\n",
              "\t<tr><td>29</td><td>37</td><td>Jarko, Taylor          </td><td>1</td><td>75</td><td>2022-12-08</td><td>162</td><td> 75.0</td><td>28.57796</td><td>118</td><td>⋯</td><td>   NA</td><td>    NA</td><td>   NA</td><td>   NA</td><td>    NA</td><td>    NA</td><td>   NA</td><td>   NA</td><td>  NA</td><td>   NA</td></tr>\n",
              "\t<tr><td>30</td><td>38</td><td>Mccarthy, Cheyenne     </td><td>1</td><td>68</td><td>2022-07-01</td><td>165</td><td> 77.8</td><td>28.57668</td><td>134</td><td>⋯</td><td>4.290</td><td>66.840</td><td>4.380</td><td>3.910</td><td>28.190</td><td>41.210</td><td>2.200</td><td>0.020</td><td>2.36</td><td>14.45</td></tr>\n",
              "\t<tr><td>31</td><td>39</td><td>Voyles, Donald         </td><td>0</td><td>64</td><td>2022-02-05</td><td>176</td><td> 68.8</td><td>22.21074</td><td>128</td><td>⋯</td><td>5.220</td><td>66.870</td><td>3.580</td><td>4.280</td><td>29.690</td><td>40.060</td><td>1.640</td><td>0.020</td><td>1.55</td><td>14.70</td></tr>\n",
              "\t<tr><td>32</td><td>40</td><td>Hofmann, Christina     </td><td>0</td><td>62</td><td>2023-01-25</td><td>161</td><td> 90.0</td><td>34.72088</td><td>140</td><td>⋯</td><td>   NA</td><td>    NA</td><td>   NA</td><td>   NA</td><td>    NA</td><td>    NA</td><td>   NA</td><td>   NA</td><td>  NA</td><td>   NA</td></tr>\n",
              "\t<tr><td>33</td><td>42</td><td>Lattimer, Ariana       </td><td>1</td><td>67</td><td>2023-10-25</td><td>165</td><td> 78.0</td><td>28.65014</td><td>165</td><td>⋯</td><td>3.890</td><td>67.440</td><td>4.290</td><td>4.210</td><td>28.160</td><td>41.210</td><td>2.040</td><td>0.030</td><td>2.26</td><td>15.06</td></tr>\n",
              "\t<tr><td>34</td><td>43</td><td>White, Dejah           </td><td>1</td><td>64</td><td>2022-06-04</td><td>161</td><td> 89.0</td><td>34.33510</td><td>140</td><td>⋯</td><td>3.270</td><td>65.600</td><td>5.290</td><td>3.380</td><td>24.700</td><td>43.560</td><td>2.520</td><td>0.060</td><td>2.73</td><td>13.89</td></tr>\n",
              "\t<tr><td>35</td><td>44</td><td>Sanders, Nhome         </td><td>0</td><td>54</td><td>2022-07-31</td><td>167</td><td> 67.0</td><td>24.02381</td><td>146</td><td>⋯</td><td>   NA</td><td>    NA</td><td>   NA</td><td>   NA</td><td>    NA</td><td>    NA</td><td>   NA</td><td>   NA</td><td>  NA</td><td>   NA</td></tr>\n",
              "\t<tr><td>36</td><td>25</td><td>Hernandez, Minnie      </td><td>1</td><td>67</td><td>2022-09-18</td><td>159</td><td> 72.0</td><td>28.47989</td><td>126</td><td>⋯</td><td>4.000</td><td>67.710</td><td>5.350</td><td>4.200</td><td>29.860</td><td>40.350</td><td>2.650</td><td>0.020</td><td>1.55</td><td>13.37</td></tr>\n",
              "\t<tr><td>37</td><td>26</td><td>Rettig, Jane           </td><td>1</td><td>69</td><td>2022-01-26</td><td>154</td><td> 87.6</td><td>36.93709</td><td>147</td><td>⋯</td><td>   NA</td><td>    NA</td><td>   NA</td><td>   NA</td><td>    NA</td><td>    NA</td><td>   NA</td><td>   NA</td><td>  NA</td><td>   NA</td></tr>\n",
              "\t<tr><td>38</td><td>27</td><td>Begay, Joshua          </td><td>0</td><td>60</td><td>2022-02-11</td><td>165</td><td> 74.0</td><td>27.18090</td><td>120</td><td>⋯</td><td>   NA</td><td>    NA</td><td>   NA</td><td>   NA</td><td>    NA</td><td>    NA</td><td>   NA</td><td>   NA</td><td>  NA</td><td>   NA</td></tr>\n",
              "</tbody>\n",
              "</table>\n"
            ],
            "text/markdown": "\nA tibble: 38 × 94\n\n| Vial.number &lt;fct&gt; | Patient.number &lt;fct&gt; | Name &lt;chr&gt; | Group &lt;dbl&gt; | Age &lt;dbl&gt; | Date &lt;dttm&gt; | Ht &lt;dbl&gt; | Wt &lt;dbl&gt; | BMI &lt;dbl&gt; | Sys &lt;dbl&gt; | ⋯ ⋯ | G1.ldl &lt;dbl&gt; | G2.ldl &lt;dbl&gt; | G3.ldl &lt;dbl&gt; | S0.ldl &lt;dbl&gt; | S1.ldl &lt;dbl&gt; | S2.ldl &lt;dbl&gt; | S3.ldl &lt;dbl&gt; | B.ldl &lt;dbl&gt; | F.ldl &lt;dbl&gt; | HM.ldl &lt;dbl&gt; |\n|---|---|---|---|---|---|---|---|---|---|---|---|---|---|---|---|---|---|---|---|---|\n| 1  | 50 | Woodard, Dillon         | 0 | 63 | 2022-03-26 | 163 |  84.0 | 31.61579 | 125 | ⋯ | 4.090 | 68.910 | 3.570 | 3.980 | 28.180 | 42.460 | 1.950 | 0.020 | 1.67 | 13.02 |\n| 2  | 51 | Kuck, Breanna           | 0 | 47 | 2023-12-23 | 179 | 111.0 | 34.64311 | 125 | ⋯ |    NA |     NA |    NA |    NA |     NA |     NA |    NA |    NA |   NA |    NA |\n| 3  | 52 | Thomas, Terrance        | 1 | 57 | 2022-10-10 | 164 |  80.0 | 29.74420 | 132 | ⋯ | 5.160 | 68.220 | 3.110 | 4.640 | 30.430 | 39.860 | 1.560 | 0.020 | 1.69 | 14.16 |\n| 4  | 53 | Moua, Kensue            | 1 | 72 | 2022-12-21 | 160 |  58.8 | 22.96875 | 130 | ⋯ | 3.950 | 68.030 | 4.500 | 3.780 | 29.370 | 41.130 | 2.200 | 0.020 | 1.89 | 13.89 |\n| 5  | 54 | Soriano, Ryan           | 1 | 57 | 2023-03-16 | 180 |  71.0 | 21.91358 | 135 | ⋯ | 4.630 | 66.910 | 4.030 | 4.440 | 28.540 | 40.640 | 1.950 | 0.020 | 2.03 | 14.25 |\n| 6  | 55 | Munoz-Lujan, Evangelina | 1 | 79 | 2023-03-25 | 160 |  64.0 | 25.00000 | 110 | ⋯ | 4.050 | 64.010 | 5.270 | 3.720 | 26.710 | 40.390 | 2.510 | 0.020 | 2.70 | 16.06 |\n| 7  | 56 | Silas, Gurinder         | 1 | 61 | 2022-01-06 | 164 |  67.0 | 24.91077 | 124 | ⋯ | 4.100 | 65.990 | 4.700 | 4.030 | 28.440 | 39.990 | 2.330 | 0.020 | 1.61 | 13.82 |\n| 8  | 57 | Matt, Gage              | 1 | 70 | 2022-01-27 | 162 |  61.0 | 23.24341 | 135 | ⋯ | 5.270 | 67.260 | 3.240 | 4.690 | 32.270 | 37.290 | 1.520 | 0.030 | 1.61 | 14.59 |\n| 9  | 58 | Lords, Aaran            | 0 | 50 | 2023-10-20 | 150 |  79.0 | 35.11111 | 142 | ⋯ | 3.970 | 67.590 | 4.220 | 4.420 | 27.990 | 41.190 | 2.180 | 0.050 | 1.55 | 13.26 |\n| 10 | 59 | Mummert, Skye           | 1 | 53 | 2022-07-21 | 172 |  88.2 | 29.81341 | 120 | ⋯ | 4.480 | 68.880 | 4.040 | 3.860 | 28.110 | 43.200 | 2.230 | 0.020 | 2.30 | 13.11 |\n| 11 | 60 | Warero Jr, Alexis       | 1 | 83 | 2023-02-13 | 168 |  59.0 | 20.90420 | 134 | ⋯ | 4.620 | 66.510 | 4.250 | 4.780 | 28.500 | 40.140 | 1.960 | 0.030 | 1.72 | 14.21 |\n| 12 | 61 | Bancroft, Kaldurion     | 1 | 59 | 2023-08-28 | 157 |  70.0 | 28.39872 | 120 | ⋯ | 3.470 | 66.740 | 5.030 | 3.450 | 26.590 | 42.620 | 2.580 | 0.020 | 2.02 | 13.52 |\n| 13 | 62 | Bowen, Nakayla          | 1 | 79 | 2022-08-28 | 161 |  73.0 | 28.16249 | 120 | ⋯ | 4.780 | 67.400 | 3.720 | 4.760 | 29.470 | 39.760 | 1.910 | 0.060 | 1.93 | 14.28 |\n| 14 | 63 | Scott, Alexandria       | 1 | 61 | 2022-07-02 | 172 |  82.0 | 27.71769 | 137 | ⋯ | 4.550 | 67.880 | 4.640 | 4.060 | 28.160 | 42.470 | 2.380 | 0.030 | 1.93 | 13.42 |\n| 15 | 37 | Siefers, Rachel         | 1 | 79 | 2023-04-28 | 167 |  63.0 | 22.58955 | 188 | ⋯ | 4.700 | 67.590 | 3.430 | 5.280 | 33.520 | 35.450 | 1.470 | 0.020 | 1.24 | 14.35 |\n| 16 | 38 | Timm, Carlton           | 1 | 75 | 2022-03-19 | 165 |  57.0 | 20.93664 | 120 | ⋯ | 5.200 | 66.370 | 4.220 | 4.470 | 29.360 | 39.770 | 2.190 | 0.030 | 2.99 | 14.47 |\n| 17 | 39 | Bryant, Saarah          | 1 | 58 | 2022-06-26 | 162 | 102.0 | 38.86603 | 132 | ⋯ | 4.010 | 67.880 | 4.340 | 4.340 | 29.100 | 40.840 | 1.950 | 0.030 | 1.99 | 13.02 |\n| 18 | 40 | Fox, Cameron            | 1 | 65 | 2022-12-20 | 171 | 102.6 | 35.08772 | 136 | ⋯ | 3.935 | 66.575 | 4.445 | 4.435 | 28.225 | 39.670 | 2.625 | 0.035 | 2.11 | 14.64 |\n| 19 | 41 | Mason, Dylan            | 0 | 64 | 2022-05-13 | 167 |  62.0 | 22.23099 | 112 | ⋯ | 3.860 | 68.260 | 4.280 | 3.680 | 28.570 | 42.040 | 2.110 | 0.020 | 2.34 | 13.59 |\n| 20 | 42 | Sandoval, Frank         | 0 | 66 | 2022-07-08 | 165 |  73.0 | 26.81359 | 135 | ⋯ | 4.710 | 65.305 | 4.735 | 4.335 | 29.245 | 38.985 | 2.185 | 0.030 | 2.19 | 15.15 |\n| 21 | 43 | Greene, Bryce           | 1 | 70 | 2023-03-08 | 170 | 101.2 | 35.01730 | 135 | ⋯ | 4.040 | 67.120 | 4.740 | 4.560 | 28.570 | 40.240 | 2.530 | 0.040 | 2.38 | 13.10 |\n| 22 | 30 | el-Saah, Amaani         | 0 | 65 | 2022-07-12 | 158 |  69.0 | 27.63980 | 129 | ⋯ | 4.930 | 66.620 | 4.270 | 4.590 | 29.240 | 39.910 | 2.080 | 0.030 | 1.69 | 14.11 |\n| 23 | 31 | Martinez, Alex          | 1 | 62 | 2022-01-22 | 169 |  66.0 | 23.10843 | 150 | ⋯ |    NA |     NA |    NA |    NA |     NA |     NA |    NA |    NA |   NA |    NA |\n| 24 | 32 | Vasquez, Edgar          | 0 | 76 | 2022-01-01 | 165 |  56.5 | 20.75298 | 130 | ⋯ | 4.390 | 67.560 | 3.590 | 4.550 | 28.810 | 40.410 | 1.770 | 0.040 | 1.38 | 14.83 |\n| 25 | 33 | el-Salam, Thamra        | 1 | 68 | 2022-05-27 | 170 |  88.0 | 30.44983 | 150 | ⋯ |    NA |     NA |    NA |    NA |     NA |     NA |    NA |    NA |   NA |    NA |\n| 26 | 34 | Mandeville, Audreon     | 0 | 55 | 2023-10-19 | 162 |  57.0 | 21.71925 | 103 | ⋯ | 5.280 | 67.780 | 4.210 | 4.710 | 29.210 | 41.010 | 2.340 | 0.020 | 2.03 | 13.33 |\n| 27 | 35 | Kim, Lily               | 0 | 79 | 2023-12-10 | 172 |  60.0 | 20.28123 | 100 | ⋯ |    NA |     NA |    NA |    NA |     NA |     NA |    NA |    NA |   NA |    NA |\n| 28 | 36 | el-Ahmad, Aaisha        | 0 | 69 | 2023-06-10 | 160 |  60.0 | 23.43750 | 133 | ⋯ | 4.620 | 67.430 | 4.360 | 4.160 | 29.580 | 40.480 | 2.190 | 0.020 | 2.27 | 13.54 |\n| 29 | 37 | Jarko, Taylor           | 1 | 75 | 2022-12-08 | 162 |  75.0 | 28.57796 | 118 | ⋯ |    NA |     NA |    NA |    NA |     NA |     NA |    NA |    NA |   NA |    NA |\n| 30 | 38 | Mccarthy, Cheyenne      | 1 | 68 | 2022-07-01 | 165 |  77.8 | 28.57668 | 134 | ⋯ | 4.290 | 66.840 | 4.380 | 3.910 | 28.190 | 41.210 | 2.200 | 0.020 | 2.36 | 14.45 |\n| 31 | 39 | Voyles, Donald          | 0 | 64 | 2022-02-05 | 176 |  68.8 | 22.21074 | 128 | ⋯ | 5.220 | 66.870 | 3.580 | 4.280 | 29.690 | 40.060 | 1.640 | 0.020 | 1.55 | 14.70 |\n| 32 | 40 | Hofmann, Christina      | 0 | 62 | 2023-01-25 | 161 |  90.0 | 34.72088 | 140 | ⋯ |    NA |     NA |    NA |    NA |     NA |     NA |    NA |    NA |   NA |    NA |\n| 33 | 42 | Lattimer, Ariana        | 1 | 67 | 2023-10-25 | 165 |  78.0 | 28.65014 | 165 | ⋯ | 3.890 | 67.440 | 4.290 | 4.210 | 28.160 | 41.210 | 2.040 | 0.030 | 2.26 | 15.06 |\n| 34 | 43 | White, Dejah            | 1 | 64 | 2022-06-04 | 161 |  89.0 | 34.33510 | 140 | ⋯ | 3.270 | 65.600 | 5.290 | 3.380 | 24.700 | 43.560 | 2.520 | 0.060 | 2.73 | 13.89 |\n| 35 | 44 | Sanders, Nhome          | 0 | 54 | 2022-07-31 | 167 |  67.0 | 24.02381 | 146 | ⋯ |    NA |     NA |    NA |    NA |     NA |     NA |    NA |    NA |   NA |    NA |\n| 36 | 25 | Hernandez, Minnie       | 1 | 67 | 2022-09-18 | 159 |  72.0 | 28.47989 | 126 | ⋯ | 4.000 | 67.710 | 5.350 | 4.200 | 29.860 | 40.350 | 2.650 | 0.020 | 1.55 | 13.37 |\n| 37 | 26 | Rettig, Jane            | 1 | 69 | 2022-01-26 | 154 |  87.6 | 36.93709 | 147 | ⋯ |    NA |     NA |    NA |    NA |     NA |     NA |    NA |    NA |   NA |    NA |\n| 38 | 27 | Begay, Joshua           | 0 | 60 | 2022-02-11 | 165 |  74.0 | 27.18090 | 120 | ⋯ |    NA |     NA |    NA |    NA |     NA |     NA |    NA |    NA |   NA |    NA |\n\n",
            "text/latex": "A tibble: 38 × 94\n\\begin{tabular}{lllllllllllllllllllll}\n Vial.number & Patient.number & Name & Group & Age & Date & Ht & Wt & BMI & Sys & ⋯ & G1.ldl & G2.ldl & G3.ldl & S0.ldl & S1.ldl & S2.ldl & S3.ldl & B.ldl & F.ldl & HM.ldl\\\\\n <fct> & <fct> & <chr> & <dbl> & <dbl> & <dttm> & <dbl> & <dbl> & <dbl> & <dbl> & ⋯ & <dbl> & <dbl> & <dbl> & <dbl> & <dbl> & <dbl> & <dbl> & <dbl> & <dbl> & <dbl>\\\\\n\\hline\n\t 1  & 50 & Woodard, Dillon         & 0 & 63 & 2022-03-26 & 163 &  84.0 & 31.61579 & 125 & ⋯ & 4.090 & 68.910 & 3.570 & 3.980 & 28.180 & 42.460 & 1.950 & 0.020 & 1.67 & 13.02\\\\\n\t 2  & 51 & Kuck, Breanna           & 0 & 47 & 2023-12-23 & 179 & 111.0 & 34.64311 & 125 & ⋯ &    NA &     NA &    NA &    NA &     NA &     NA &    NA &    NA &   NA &    NA\\\\\n\t 3  & 52 & Thomas, Terrance        & 1 & 57 & 2022-10-10 & 164 &  80.0 & 29.74420 & 132 & ⋯ & 5.160 & 68.220 & 3.110 & 4.640 & 30.430 & 39.860 & 1.560 & 0.020 & 1.69 & 14.16\\\\\n\t 4  & 53 & Moua, Kensue            & 1 & 72 & 2022-12-21 & 160 &  58.8 & 22.96875 & 130 & ⋯ & 3.950 & 68.030 & 4.500 & 3.780 & 29.370 & 41.130 & 2.200 & 0.020 & 1.89 & 13.89\\\\\n\t 5  & 54 & Soriano, Ryan           & 1 & 57 & 2023-03-16 & 180 &  71.0 & 21.91358 & 135 & ⋯ & 4.630 & 66.910 & 4.030 & 4.440 & 28.540 & 40.640 & 1.950 & 0.020 & 2.03 & 14.25\\\\\n\t 6  & 55 & Munoz-Lujan, Evangelina & 1 & 79 & 2023-03-25 & 160 &  64.0 & 25.00000 & 110 & ⋯ & 4.050 & 64.010 & 5.270 & 3.720 & 26.710 & 40.390 & 2.510 & 0.020 & 2.70 & 16.06\\\\\n\t 7  & 56 & Silas, Gurinder         & 1 & 61 & 2022-01-06 & 164 &  67.0 & 24.91077 & 124 & ⋯ & 4.100 & 65.990 & 4.700 & 4.030 & 28.440 & 39.990 & 2.330 & 0.020 & 1.61 & 13.82\\\\\n\t 8  & 57 & Matt, Gage              & 1 & 70 & 2022-01-27 & 162 &  61.0 & 23.24341 & 135 & ⋯ & 5.270 & 67.260 & 3.240 & 4.690 & 32.270 & 37.290 & 1.520 & 0.030 & 1.61 & 14.59\\\\\n\t 9  & 58 & Lords, Aaran            & 0 & 50 & 2023-10-20 & 150 &  79.0 & 35.11111 & 142 & ⋯ & 3.970 & 67.590 & 4.220 & 4.420 & 27.990 & 41.190 & 2.180 & 0.050 & 1.55 & 13.26\\\\\n\t 10 & 59 & Mummert, Skye           & 1 & 53 & 2022-07-21 & 172 &  88.2 & 29.81341 & 120 & ⋯ & 4.480 & 68.880 & 4.040 & 3.860 & 28.110 & 43.200 & 2.230 & 0.020 & 2.30 & 13.11\\\\\n\t 11 & 60 & Warero Jr, Alexis       & 1 & 83 & 2023-02-13 & 168 &  59.0 & 20.90420 & 134 & ⋯ & 4.620 & 66.510 & 4.250 & 4.780 & 28.500 & 40.140 & 1.960 & 0.030 & 1.72 & 14.21\\\\\n\t 12 & 61 & Bancroft, Kaldurion     & 1 & 59 & 2023-08-28 & 157 &  70.0 & 28.39872 & 120 & ⋯ & 3.470 & 66.740 & 5.030 & 3.450 & 26.590 & 42.620 & 2.580 & 0.020 & 2.02 & 13.52\\\\\n\t 13 & 62 & Bowen, Nakayla          & 1 & 79 & 2022-08-28 & 161 &  73.0 & 28.16249 & 120 & ⋯ & 4.780 & 67.400 & 3.720 & 4.760 & 29.470 & 39.760 & 1.910 & 0.060 & 1.93 & 14.28\\\\\n\t 14 & 63 & Scott, Alexandria       & 1 & 61 & 2022-07-02 & 172 &  82.0 & 27.71769 & 137 & ⋯ & 4.550 & 67.880 & 4.640 & 4.060 & 28.160 & 42.470 & 2.380 & 0.030 & 1.93 & 13.42\\\\\n\t 15 & 37 & Siefers, Rachel         & 1 & 79 & 2023-04-28 & 167 &  63.0 & 22.58955 & 188 & ⋯ & 4.700 & 67.590 & 3.430 & 5.280 & 33.520 & 35.450 & 1.470 & 0.020 & 1.24 & 14.35\\\\\n\t 16 & 38 & Timm, Carlton           & 1 & 75 & 2022-03-19 & 165 &  57.0 & 20.93664 & 120 & ⋯ & 5.200 & 66.370 & 4.220 & 4.470 & 29.360 & 39.770 & 2.190 & 0.030 & 2.99 & 14.47\\\\\n\t 17 & 39 & Bryant, Saarah          & 1 & 58 & 2022-06-26 & 162 & 102.0 & 38.86603 & 132 & ⋯ & 4.010 & 67.880 & 4.340 & 4.340 & 29.100 & 40.840 & 1.950 & 0.030 & 1.99 & 13.02\\\\\n\t 18 & 40 & Fox, Cameron            & 1 & 65 & 2022-12-20 & 171 & 102.6 & 35.08772 & 136 & ⋯ & 3.935 & 66.575 & 4.445 & 4.435 & 28.225 & 39.670 & 2.625 & 0.035 & 2.11 & 14.64\\\\\n\t 19 & 41 & Mason, Dylan            & 0 & 64 & 2022-05-13 & 167 &  62.0 & 22.23099 & 112 & ⋯ & 3.860 & 68.260 & 4.280 & 3.680 & 28.570 & 42.040 & 2.110 & 0.020 & 2.34 & 13.59\\\\\n\t 20 & 42 & Sandoval, Frank         & 0 & 66 & 2022-07-08 & 165 &  73.0 & 26.81359 & 135 & ⋯ & 4.710 & 65.305 & 4.735 & 4.335 & 29.245 & 38.985 & 2.185 & 0.030 & 2.19 & 15.15\\\\\n\t 21 & 43 & Greene, Bryce           & 1 & 70 & 2023-03-08 & 170 & 101.2 & 35.01730 & 135 & ⋯ & 4.040 & 67.120 & 4.740 & 4.560 & 28.570 & 40.240 & 2.530 & 0.040 & 2.38 & 13.10\\\\\n\t 22 & 30 & el-Saah, Amaani         & 0 & 65 & 2022-07-12 & 158 &  69.0 & 27.63980 & 129 & ⋯ & 4.930 & 66.620 & 4.270 & 4.590 & 29.240 & 39.910 & 2.080 & 0.030 & 1.69 & 14.11\\\\\n\t 23 & 31 & Martinez, Alex          & 1 & 62 & 2022-01-22 & 169 &  66.0 & 23.10843 & 150 & ⋯ &    NA &     NA &    NA &    NA &     NA &     NA &    NA &    NA &   NA &    NA\\\\\n\t 24 & 32 & Vasquez, Edgar          & 0 & 76 & 2022-01-01 & 165 &  56.5 & 20.75298 & 130 & ⋯ & 4.390 & 67.560 & 3.590 & 4.550 & 28.810 & 40.410 & 1.770 & 0.040 & 1.38 & 14.83\\\\\n\t 25 & 33 & el-Salam, Thamra        & 1 & 68 & 2022-05-27 & 170 &  88.0 & 30.44983 & 150 & ⋯ &    NA &     NA &    NA &    NA &     NA &     NA &    NA &    NA &   NA &    NA\\\\\n\t 26 & 34 & Mandeville, Audreon     & 0 & 55 & 2023-10-19 & 162 &  57.0 & 21.71925 & 103 & ⋯ & 5.280 & 67.780 & 4.210 & 4.710 & 29.210 & 41.010 & 2.340 & 0.020 & 2.03 & 13.33\\\\\n\t 27 & 35 & Kim, Lily               & 0 & 79 & 2023-12-10 & 172 &  60.0 & 20.28123 & 100 & ⋯ &    NA &     NA &    NA &    NA &     NA &     NA &    NA &    NA &   NA &    NA\\\\\n\t 28 & 36 & el-Ahmad, Aaisha        & 0 & 69 & 2023-06-10 & 160 &  60.0 & 23.43750 & 133 & ⋯ & 4.620 & 67.430 & 4.360 & 4.160 & 29.580 & 40.480 & 2.190 & 0.020 & 2.27 & 13.54\\\\\n\t 29 & 37 & Jarko, Taylor           & 1 & 75 & 2022-12-08 & 162 &  75.0 & 28.57796 & 118 & ⋯ &    NA &     NA &    NA &    NA &     NA &     NA &    NA &    NA &   NA &    NA\\\\\n\t 30 & 38 & Mccarthy, Cheyenne      & 1 & 68 & 2022-07-01 & 165 &  77.8 & 28.57668 & 134 & ⋯ & 4.290 & 66.840 & 4.380 & 3.910 & 28.190 & 41.210 & 2.200 & 0.020 & 2.36 & 14.45\\\\\n\t 31 & 39 & Voyles, Donald          & 0 & 64 & 2022-02-05 & 176 &  68.8 & 22.21074 & 128 & ⋯ & 5.220 & 66.870 & 3.580 & 4.280 & 29.690 & 40.060 & 1.640 & 0.020 & 1.55 & 14.70\\\\\n\t 32 & 40 & Hofmann, Christina      & 0 & 62 & 2023-01-25 & 161 &  90.0 & 34.72088 & 140 & ⋯ &    NA &     NA &    NA &    NA &     NA &     NA &    NA &    NA &   NA &    NA\\\\\n\t 33 & 42 & Lattimer, Ariana        & 1 & 67 & 2023-10-25 & 165 &  78.0 & 28.65014 & 165 & ⋯ & 3.890 & 67.440 & 4.290 & 4.210 & 28.160 & 41.210 & 2.040 & 0.030 & 2.26 & 15.06\\\\\n\t 34 & 43 & White, Dejah            & 1 & 64 & 2022-06-04 & 161 &  89.0 & 34.33510 & 140 & ⋯ & 3.270 & 65.600 & 5.290 & 3.380 & 24.700 & 43.560 & 2.520 & 0.060 & 2.73 & 13.89\\\\\n\t 35 & 44 & Sanders, Nhome          & 0 & 54 & 2022-07-31 & 167 &  67.0 & 24.02381 & 146 & ⋯ &    NA &     NA &    NA &    NA &     NA &     NA &    NA &    NA &   NA &    NA\\\\\n\t 36 & 25 & Hernandez, Minnie       & 1 & 67 & 2022-09-18 & 159 &  72.0 & 28.47989 & 126 & ⋯ & 4.000 & 67.710 & 5.350 & 4.200 & 29.860 & 40.350 & 2.650 & 0.020 & 1.55 & 13.37\\\\\n\t 37 & 26 & Rettig, Jane            & 1 & 69 & 2022-01-26 & 154 &  87.6 & 36.93709 & 147 & ⋯ &    NA &     NA &    NA &    NA &     NA &     NA &    NA &    NA &   NA &    NA\\\\\n\t 38 & 27 & Begay, Joshua           & 0 & 60 & 2022-02-11 & 165 &  74.0 & 27.18090 & 120 & ⋯ &    NA &     NA &    NA &    NA &     NA &     NA &    NA &    NA &   NA &    NA\\\\\n\\end{tabular}\n",
            "text/plain": [
              "   Vial.number Patient.number Name                    Group Age Date       Ht \n",
              "1  1           50             Woodard, Dillon         0     63  2022-03-26 163\n",
              "2  2           51             Kuck, Breanna           0     47  2023-12-23 179\n",
              "3  3           52             Thomas, Terrance        1     57  2022-10-10 164\n",
              "4  4           53             Moua, Kensue            1     72  2022-12-21 160\n",
              "5  5           54             Soriano, Ryan           1     57  2023-03-16 180\n",
              "6  6           55             Munoz-Lujan, Evangelina 1     79  2023-03-25 160\n",
              "7  7           56             Silas, Gurinder         1     61  2022-01-06 164\n",
              "8  8           57             Matt, Gage              1     70  2022-01-27 162\n",
              "9  9           58             Lords, Aaran            0     50  2023-10-20 150\n",
              "10 10          59             Mummert, Skye           1     53  2022-07-21 172\n",
              "11 11          60             Warero Jr, Alexis       1     83  2023-02-13 168\n",
              "12 12          61             Bancroft, Kaldurion     1     59  2023-08-28 157\n",
              "13 13          62             Bowen, Nakayla          1     79  2022-08-28 161\n",
              "14 14          63             Scott, Alexandria       1     61  2022-07-02 172\n",
              "15 15          37             Siefers, Rachel         1     79  2023-04-28 167\n",
              "16 16          38             Timm, Carlton           1     75  2022-03-19 165\n",
              "17 17          39             Bryant, Saarah          1     58  2022-06-26 162\n",
              "18 18          40             Fox, Cameron            1     65  2022-12-20 171\n",
              "19 19          41             Mason, Dylan            0     64  2022-05-13 167\n",
              "20 20          42             Sandoval, Frank         0     66  2022-07-08 165\n",
              "21 21          43             Greene, Bryce           1     70  2023-03-08 170\n",
              "22 22          30             el-Saah, Amaani         0     65  2022-07-12 158\n",
              "23 23          31             Martinez, Alex          1     62  2022-01-22 169\n",
              "24 24          32             Vasquez, Edgar          0     76  2022-01-01 165\n",
              "25 25          33             el-Salam, Thamra        1     68  2022-05-27 170\n",
              "26 26          34             Mandeville, Audreon     0     55  2023-10-19 162\n",
              "27 27          35             Kim, Lily               0     79  2023-12-10 172\n",
              "28 28          36             el-Ahmad, Aaisha        0     69  2023-06-10 160\n",
              "29 29          37             Jarko, Taylor           1     75  2022-12-08 162\n",
              "30 30          38             Mccarthy, Cheyenne      1     68  2022-07-01 165\n",
              "31 31          39             Voyles, Donald          0     64  2022-02-05 176\n",
              "32 32          40             Hofmann, Christina      0     62  2023-01-25 161\n",
              "33 33          42             Lattimer, Ariana        1     67  2023-10-25 165\n",
              "34 34          43             White, Dejah            1     64  2022-06-04 161\n",
              "35 35          44             Sanders, Nhome          0     54  2022-07-31 167\n",
              "36 36          25             Hernandez, Minnie       1     67  2022-09-18 159\n",
              "37 37          26             Rettig, Jane            1     69  2022-01-26 154\n",
              "38 38          27             Begay, Joshua           0     60  2022-02-11 165\n",
              "   Wt    BMI      Sys ⋯ G1.ldl G2.ldl G3.ldl S0.ldl S1.ldl S2.ldl S3.ldl B.ldl\n",
              "1   84.0 31.61579 125 ⋯ 4.090  68.910 3.570  3.980  28.180 42.460 1.950  0.020\n",
              "2  111.0 34.64311 125 ⋯    NA      NA    NA     NA      NA     NA    NA     NA\n",
              "3   80.0 29.74420 132 ⋯ 5.160  68.220 3.110  4.640  30.430 39.860 1.560  0.020\n",
              "4   58.8 22.96875 130 ⋯ 3.950  68.030 4.500  3.780  29.370 41.130 2.200  0.020\n",
              "5   71.0 21.91358 135 ⋯ 4.630  66.910 4.030  4.440  28.540 40.640 1.950  0.020\n",
              "6   64.0 25.00000 110 ⋯ 4.050  64.010 5.270  3.720  26.710 40.390 2.510  0.020\n",
              "7   67.0 24.91077 124 ⋯ 4.100  65.990 4.700  4.030  28.440 39.990 2.330  0.020\n",
              "8   61.0 23.24341 135 ⋯ 5.270  67.260 3.240  4.690  32.270 37.290 1.520  0.030\n",
              "9   79.0 35.11111 142 ⋯ 3.970  67.590 4.220  4.420  27.990 41.190 2.180  0.050\n",
              "10  88.2 29.81341 120 ⋯ 4.480  68.880 4.040  3.860  28.110 43.200 2.230  0.020\n",
              "11  59.0 20.90420 134 ⋯ 4.620  66.510 4.250  4.780  28.500 40.140 1.960  0.030\n",
              "12  70.0 28.39872 120 ⋯ 3.470  66.740 5.030  3.450  26.590 42.620 2.580  0.020\n",
              "13  73.0 28.16249 120 ⋯ 4.780  67.400 3.720  4.760  29.470 39.760 1.910  0.060\n",
              "14  82.0 27.71769 137 ⋯ 4.550  67.880 4.640  4.060  28.160 42.470 2.380  0.030\n",
              "15  63.0 22.58955 188 ⋯ 4.700  67.590 3.430  5.280  33.520 35.450 1.470  0.020\n",
              "16  57.0 20.93664 120 ⋯ 5.200  66.370 4.220  4.470  29.360 39.770 2.190  0.030\n",
              "17 102.0 38.86603 132 ⋯ 4.010  67.880 4.340  4.340  29.100 40.840 1.950  0.030\n",
              "18 102.6 35.08772 136 ⋯ 3.935  66.575 4.445  4.435  28.225 39.670 2.625  0.035\n",
              "19  62.0 22.23099 112 ⋯ 3.860  68.260 4.280  3.680  28.570 42.040 2.110  0.020\n",
              "20  73.0 26.81359 135 ⋯ 4.710  65.305 4.735  4.335  29.245 38.985 2.185  0.030\n",
              "21 101.2 35.01730 135 ⋯ 4.040  67.120 4.740  4.560  28.570 40.240 2.530  0.040\n",
              "22  69.0 27.63980 129 ⋯ 4.930  66.620 4.270  4.590  29.240 39.910 2.080  0.030\n",
              "23  66.0 23.10843 150 ⋯    NA      NA    NA     NA      NA     NA    NA     NA\n",
              "24  56.5 20.75298 130 ⋯ 4.390  67.560 3.590  4.550  28.810 40.410 1.770  0.040\n",
              "25  88.0 30.44983 150 ⋯    NA      NA    NA     NA      NA     NA    NA     NA\n",
              "26  57.0 21.71925 103 ⋯ 5.280  67.780 4.210  4.710  29.210 41.010 2.340  0.020\n",
              "27  60.0 20.28123 100 ⋯    NA      NA    NA     NA      NA     NA    NA     NA\n",
              "28  60.0 23.43750 133 ⋯ 4.620  67.430 4.360  4.160  29.580 40.480 2.190  0.020\n",
              "29  75.0 28.57796 118 ⋯    NA      NA    NA     NA      NA     NA    NA     NA\n",
              "30  77.8 28.57668 134 ⋯ 4.290  66.840 4.380  3.910  28.190 41.210 2.200  0.020\n",
              "31  68.8 22.21074 128 ⋯ 5.220  66.870 3.580  4.280  29.690 40.060 1.640  0.020\n",
              "32  90.0 34.72088 140 ⋯    NA      NA    NA     NA      NA     NA    NA     NA\n",
              "33  78.0 28.65014 165 ⋯ 3.890  67.440 4.290  4.210  28.160 41.210 2.040  0.030\n",
              "34  89.0 34.33510 140 ⋯ 3.270  65.600 5.290  3.380  24.700 43.560 2.520  0.060\n",
              "35  67.0 24.02381 146 ⋯    NA      NA    NA     NA      NA     NA    NA     NA\n",
              "36  72.0 28.47989 126 ⋯ 4.000  67.710 5.350  4.200  29.860 40.350 2.650  0.020\n",
              "37  87.6 36.93709 147 ⋯    NA      NA    NA     NA      NA     NA    NA     NA\n",
              "38  74.0 27.18090 120 ⋯    NA      NA    NA     NA      NA     NA    NA     NA\n",
              "   F.ldl HM.ldl\n",
              "1  1.67  13.02 \n",
              "2    NA     NA \n",
              "3  1.69  14.16 \n",
              "4  1.89  13.89 \n",
              "5  2.03  14.25 \n",
              "6  2.70  16.06 \n",
              "7  1.61  13.82 \n",
              "8  1.61  14.59 \n",
              "9  1.55  13.26 \n",
              "10 2.30  13.11 \n",
              "11 1.72  14.21 \n",
              "12 2.02  13.52 \n",
              "13 1.93  14.28 \n",
              "14 1.93  13.42 \n",
              "15 1.24  14.35 \n",
              "16 2.99  14.47 \n",
              "17 1.99  13.02 \n",
              "18 2.11  14.64 \n",
              "19 2.34  13.59 \n",
              "20 2.19  15.15 \n",
              "21 2.38  13.10 \n",
              "22 1.69  14.11 \n",
              "23   NA     NA \n",
              "24 1.38  14.83 \n",
              "25   NA     NA \n",
              "26 2.03  13.33 \n",
              "27   NA     NA \n",
              "28 2.27  13.54 \n",
              "29   NA     NA \n",
              "30 2.36  14.45 \n",
              "31 1.55  14.70 \n",
              "32   NA     NA \n",
              "33 2.26  15.06 \n",
              "34 2.73  13.89 \n",
              "35   NA     NA \n",
              "36 1.55  13.37 \n",
              "37   NA     NA \n",
              "38   NA     NA "
            ]
          },
          "metadata": {}
        }
      ]
    },
    {
      "cell_type": "code",
      "source": [
        "# spec(base)"
      ],
      "metadata": {
        "id": "tXE2VB5dFwcM",
        "outputId": "fc895d25-e30b-4685-c494-4ab0e3327292",
        "colab": {
          "base_uri": "https://localhost:8080/",
          "height": 34
        }
      },
      "execution_count": null,
      "outputs": [
        {
          "output_type": "display_data",
          "data": {
            "text/plain": [
              "NULL"
            ]
          },
          "metadata": {}
        }
      ]
    },
    {
      "cell_type": "code",
      "source": [
        "# base"
      ],
      "metadata": {
        "id": "KDOe0FORGir9",
        "outputId": "decbab37-959f-475f-eb64-aea9bf2cb4d2",
        "colab": {
          "base_uri": "https://localhost:8080/",
          "height": 1000
        }
      },
      "execution_count": null,
      "outputs": [
        {
          "output_type": "display_data",
          "data": {
            "text/html": [
              "<table class=\"dataframe\">\n",
              "<caption>A tibble: 38 × 94</caption>\n",
              "<thead>\n",
              "\t<tr><th scope=col>Vial.number</th><th scope=col>Patient.number</th><th scope=col>Name</th><th scope=col>Group</th><th scope=col>Age</th><th scope=col>Date</th><th scope=col>Ht</th><th scope=col>Wt</th><th scope=col>BMI</th><th scope=col>Sys</th><th scope=col>⋯</th><th scope=col>G1.ldl</th><th scope=col>G2.ldl</th><th scope=col>G3.ldl</th><th scope=col>S0.ldl</th><th scope=col>S1.ldl</th><th scope=col>S2.ldl</th><th scope=col>S3.ldl</th><th scope=col>B.ldl</th><th scope=col>F.ldl</th><th scope=col>HM.ldl</th></tr>\n",
              "\t<tr><th scope=col>&lt;fct&gt;</th><th scope=col>&lt;fct&gt;</th><th scope=col>&lt;chr&gt;</th><th scope=col>&lt;dbl&gt;</th><th scope=col>&lt;dbl&gt;</th><th scope=col>&lt;dttm&gt;</th><th scope=col>&lt;dbl&gt;</th><th scope=col>&lt;dbl&gt;</th><th scope=col>&lt;dbl&gt;</th><th scope=col>&lt;dbl&gt;</th><th scope=col>⋯</th><th scope=col>&lt;dbl&gt;</th><th scope=col>&lt;dbl&gt;</th><th scope=col>&lt;dbl&gt;</th><th scope=col>&lt;dbl&gt;</th><th scope=col>&lt;dbl&gt;</th><th scope=col>&lt;dbl&gt;</th><th scope=col>&lt;dbl&gt;</th><th scope=col>&lt;dbl&gt;</th><th scope=col>&lt;dbl&gt;</th><th scope=col>&lt;dbl&gt;</th></tr>\n",
              "</thead>\n",
              "<tbody>\n",
              "\t<tr><td>1 </td><td>50</td><td>Woodard, Dillon        </td><td>0</td><td>63</td><td>2022-03-26</td><td>163</td><td> 84.0</td><td>31.61579</td><td>125</td><td>⋯</td><td>4.090</td><td>68.910</td><td>3.570</td><td>3.980</td><td>28.180</td><td>42.460</td><td>1.950</td><td>0.020</td><td>1.67</td><td>13.02</td></tr>\n",
              "\t<tr><td>2 </td><td>51</td><td>Kuck, Breanna          </td><td>0</td><td>47</td><td>2023-12-23</td><td>179</td><td>111.0</td><td>34.64311</td><td>125</td><td>⋯</td><td>   NA</td><td>    NA</td><td>   NA</td><td>   NA</td><td>    NA</td><td>    NA</td><td>   NA</td><td>   NA</td><td>  NA</td><td>   NA</td></tr>\n",
              "\t<tr><td>3 </td><td>52</td><td>Thomas, Terrance       </td><td>1</td><td>57</td><td>2022-10-10</td><td>164</td><td> 80.0</td><td>29.74420</td><td>132</td><td>⋯</td><td>5.160</td><td>68.220</td><td>3.110</td><td>4.640</td><td>30.430</td><td>39.860</td><td>1.560</td><td>0.020</td><td>1.69</td><td>14.16</td></tr>\n",
              "\t<tr><td>4 </td><td>53</td><td>Moua, Kensue           </td><td>1</td><td>72</td><td>2022-12-21</td><td>160</td><td> 58.8</td><td>22.96875</td><td>130</td><td>⋯</td><td>3.950</td><td>68.030</td><td>4.500</td><td>3.780</td><td>29.370</td><td>41.130</td><td>2.200</td><td>0.020</td><td>1.89</td><td>13.89</td></tr>\n",
              "\t<tr><td>5 </td><td>54</td><td>Soriano, Ryan          </td><td>1</td><td>57</td><td>2023-03-16</td><td>180</td><td> 71.0</td><td>21.91358</td><td>135</td><td>⋯</td><td>4.630</td><td>66.910</td><td>4.030</td><td>4.440</td><td>28.540</td><td>40.640</td><td>1.950</td><td>0.020</td><td>2.03</td><td>14.25</td></tr>\n",
              "\t<tr><td>6 </td><td>55</td><td>Munoz-Lujan, Evangelina</td><td>1</td><td>79</td><td>2023-03-25</td><td>160</td><td> 64.0</td><td>25.00000</td><td>110</td><td>⋯</td><td>4.050</td><td>64.010</td><td>5.270</td><td>3.720</td><td>26.710</td><td>40.390</td><td>2.510</td><td>0.020</td><td>2.70</td><td>16.06</td></tr>\n",
              "\t<tr><td>7 </td><td>56</td><td>Silas, Gurinder        </td><td>1</td><td>61</td><td>2022-01-06</td><td>164</td><td> 67.0</td><td>24.91077</td><td>124</td><td>⋯</td><td>4.100</td><td>65.990</td><td>4.700</td><td>4.030</td><td>28.440</td><td>39.990</td><td>2.330</td><td>0.020</td><td>1.61</td><td>13.82</td></tr>\n",
              "\t<tr><td>8 </td><td>57</td><td>Matt, Gage             </td><td>1</td><td>70</td><td>2022-01-27</td><td>162</td><td> 61.0</td><td>23.24341</td><td>135</td><td>⋯</td><td>5.270</td><td>67.260</td><td>3.240</td><td>4.690</td><td>32.270</td><td>37.290</td><td>1.520</td><td>0.030</td><td>1.61</td><td>14.59</td></tr>\n",
              "\t<tr><td>9 </td><td>58</td><td>Lords, Aaran           </td><td>0</td><td>50</td><td>2023-10-20</td><td>150</td><td> 79.0</td><td>35.11111</td><td>142</td><td>⋯</td><td>3.970</td><td>67.590</td><td>4.220</td><td>4.420</td><td>27.990</td><td>41.190</td><td>2.180</td><td>0.050</td><td>1.55</td><td>13.26</td></tr>\n",
              "\t<tr><td>10</td><td>59</td><td>Mummert, Skye          </td><td>1</td><td>53</td><td>2022-07-21</td><td>172</td><td> 88.2</td><td>29.81341</td><td>120</td><td>⋯</td><td>4.480</td><td>68.880</td><td>4.040</td><td>3.860</td><td>28.110</td><td>43.200</td><td>2.230</td><td>0.020</td><td>2.30</td><td>13.11</td></tr>\n",
              "\t<tr><td>11</td><td>60</td><td>Warero Jr, Alexis      </td><td>1</td><td>83</td><td>2023-02-13</td><td>168</td><td> 59.0</td><td>20.90420</td><td>134</td><td>⋯</td><td>4.620</td><td>66.510</td><td>4.250</td><td>4.780</td><td>28.500</td><td>40.140</td><td>1.960</td><td>0.030</td><td>1.72</td><td>14.21</td></tr>\n",
              "\t<tr><td>12</td><td>61</td><td>Bancroft, Kaldurion    </td><td>1</td><td>59</td><td>2023-08-28</td><td>157</td><td> 70.0</td><td>28.39872</td><td>120</td><td>⋯</td><td>3.470</td><td>66.740</td><td>5.030</td><td>3.450</td><td>26.590</td><td>42.620</td><td>2.580</td><td>0.020</td><td>2.02</td><td>13.52</td></tr>\n",
              "\t<tr><td>13</td><td>62</td><td>Bowen, Nakayla         </td><td>1</td><td>79</td><td>2022-08-28</td><td>161</td><td> 73.0</td><td>28.16249</td><td>120</td><td>⋯</td><td>4.780</td><td>67.400</td><td>3.720</td><td>4.760</td><td>29.470</td><td>39.760</td><td>1.910</td><td>0.060</td><td>1.93</td><td>14.28</td></tr>\n",
              "\t<tr><td>14</td><td>63</td><td>Scott, Alexandria      </td><td>1</td><td>61</td><td>2022-07-02</td><td>172</td><td> 82.0</td><td>27.71769</td><td>137</td><td>⋯</td><td>4.550</td><td>67.880</td><td>4.640</td><td>4.060</td><td>28.160</td><td>42.470</td><td>2.380</td><td>0.030</td><td>1.93</td><td>13.42</td></tr>\n",
              "\t<tr><td>15</td><td>37</td><td>Siefers, Rachel        </td><td>1</td><td>79</td><td>2023-04-28</td><td>167</td><td> 63.0</td><td>22.58955</td><td>188</td><td>⋯</td><td>4.700</td><td>67.590</td><td>3.430</td><td>5.280</td><td>33.520</td><td>35.450</td><td>1.470</td><td>0.020</td><td>1.24</td><td>14.35</td></tr>\n",
              "\t<tr><td>16</td><td>38</td><td>Timm, Carlton          </td><td>1</td><td>75</td><td>2022-03-19</td><td>165</td><td> 57.0</td><td>20.93664</td><td>120</td><td>⋯</td><td>5.200</td><td>66.370</td><td>4.220</td><td>4.470</td><td>29.360</td><td>39.770</td><td>2.190</td><td>0.030</td><td>2.99</td><td>14.47</td></tr>\n",
              "\t<tr><td>17</td><td>39</td><td>Bryant, Saarah         </td><td>1</td><td>58</td><td>2022-06-26</td><td>162</td><td>102.0</td><td>38.86603</td><td>132</td><td>⋯</td><td>4.010</td><td>67.880</td><td>4.340</td><td>4.340</td><td>29.100</td><td>40.840</td><td>1.950</td><td>0.030</td><td>1.99</td><td>13.02</td></tr>\n",
              "\t<tr><td>18</td><td>40</td><td>Fox, Cameron           </td><td>1</td><td>65</td><td>2022-12-20</td><td>171</td><td>102.6</td><td>35.08772</td><td>136</td><td>⋯</td><td>3.935</td><td>66.575</td><td>4.445</td><td>4.435</td><td>28.225</td><td>39.670</td><td>2.625</td><td>0.035</td><td>2.11</td><td>14.64</td></tr>\n",
              "\t<tr><td>19</td><td>41</td><td>Mason, Dylan           </td><td>0</td><td>64</td><td>2022-05-13</td><td>167</td><td> 62.0</td><td>22.23099</td><td>112</td><td>⋯</td><td>3.860</td><td>68.260</td><td>4.280</td><td>3.680</td><td>28.570</td><td>42.040</td><td>2.110</td><td>0.020</td><td>2.34</td><td>13.59</td></tr>\n",
              "\t<tr><td>20</td><td>42</td><td>Sandoval, Frank        </td><td>0</td><td>66</td><td>2022-07-08</td><td>165</td><td> 73.0</td><td>26.81359</td><td>135</td><td>⋯</td><td>4.710</td><td>65.305</td><td>4.735</td><td>4.335</td><td>29.245</td><td>38.985</td><td>2.185</td><td>0.030</td><td>2.19</td><td>15.15</td></tr>\n",
              "\t<tr><td>21</td><td>43</td><td>Greene, Bryce          </td><td>1</td><td>70</td><td>2023-03-08</td><td>170</td><td>101.2</td><td>35.01730</td><td>135</td><td>⋯</td><td>4.040</td><td>67.120</td><td>4.740</td><td>4.560</td><td>28.570</td><td>40.240</td><td>2.530</td><td>0.040</td><td>2.38</td><td>13.10</td></tr>\n",
              "\t<tr><td>22</td><td>30</td><td>el-Saah, Amaani        </td><td>0</td><td>65</td><td>2022-07-12</td><td>158</td><td> 69.0</td><td>27.63980</td><td>129</td><td>⋯</td><td>4.930</td><td>66.620</td><td>4.270</td><td>4.590</td><td>29.240</td><td>39.910</td><td>2.080</td><td>0.030</td><td>1.69</td><td>14.11</td></tr>\n",
              "\t<tr><td>23</td><td>31</td><td>Martinez, Alex         </td><td>1</td><td>62</td><td>2022-01-22</td><td>169</td><td> 66.0</td><td>23.10843</td><td>150</td><td>⋯</td><td>   NA</td><td>    NA</td><td>   NA</td><td>   NA</td><td>    NA</td><td>    NA</td><td>   NA</td><td>   NA</td><td>  NA</td><td>   NA</td></tr>\n",
              "\t<tr><td>24</td><td>32</td><td>Vasquez, Edgar         </td><td>0</td><td>76</td><td>2022-01-01</td><td>165</td><td> 56.5</td><td>20.75298</td><td>130</td><td>⋯</td><td>4.390</td><td>67.560</td><td>3.590</td><td>4.550</td><td>28.810</td><td>40.410</td><td>1.770</td><td>0.040</td><td>1.38</td><td>14.83</td></tr>\n",
              "\t<tr><td>25</td><td>33</td><td>el-Salam, Thamra       </td><td>1</td><td>68</td><td>2022-05-27</td><td>170</td><td> 88.0</td><td>30.44983</td><td>150</td><td>⋯</td><td>   NA</td><td>    NA</td><td>   NA</td><td>   NA</td><td>    NA</td><td>    NA</td><td>   NA</td><td>   NA</td><td>  NA</td><td>   NA</td></tr>\n",
              "\t<tr><td>26</td><td>34</td><td>Mandeville, Audreon    </td><td>0</td><td>55</td><td>2023-10-19</td><td>162</td><td> 57.0</td><td>21.71925</td><td>103</td><td>⋯</td><td>5.280</td><td>67.780</td><td>4.210</td><td>4.710</td><td>29.210</td><td>41.010</td><td>2.340</td><td>0.020</td><td>2.03</td><td>13.33</td></tr>\n",
              "\t<tr><td>27</td><td>35</td><td>Kim, Lily              </td><td>0</td><td>79</td><td>2023-12-10</td><td>172</td><td> 60.0</td><td>20.28123</td><td>100</td><td>⋯</td><td>   NA</td><td>    NA</td><td>   NA</td><td>   NA</td><td>    NA</td><td>    NA</td><td>   NA</td><td>   NA</td><td>  NA</td><td>   NA</td></tr>\n",
              "\t<tr><td>28</td><td>36</td><td>el-Ahmad, Aaisha       </td><td>0</td><td>69</td><td>2023-06-10</td><td>160</td><td> 60.0</td><td>23.43750</td><td>133</td><td>⋯</td><td>4.620</td><td>67.430</td><td>4.360</td><td>4.160</td><td>29.580</td><td>40.480</td><td>2.190</td><td>0.020</td><td>2.27</td><td>13.54</td></tr>\n",
              "\t<tr><td>29</td><td>37</td><td>Jarko, Taylor          </td><td>1</td><td>75</td><td>2022-12-08</td><td>162</td><td> 75.0</td><td>28.57796</td><td>118</td><td>⋯</td><td>   NA</td><td>    NA</td><td>   NA</td><td>   NA</td><td>    NA</td><td>    NA</td><td>   NA</td><td>   NA</td><td>  NA</td><td>   NA</td></tr>\n",
              "\t<tr><td>30</td><td>38</td><td>Mccarthy, Cheyenne     </td><td>1</td><td>68</td><td>2022-07-01</td><td>165</td><td> 77.8</td><td>28.57668</td><td>134</td><td>⋯</td><td>4.290</td><td>66.840</td><td>4.380</td><td>3.910</td><td>28.190</td><td>41.210</td><td>2.200</td><td>0.020</td><td>2.36</td><td>14.45</td></tr>\n",
              "\t<tr><td>31</td><td>39</td><td>Voyles, Donald         </td><td>0</td><td>64</td><td>2022-02-05</td><td>176</td><td> 68.8</td><td>22.21074</td><td>128</td><td>⋯</td><td>5.220</td><td>66.870</td><td>3.580</td><td>4.280</td><td>29.690</td><td>40.060</td><td>1.640</td><td>0.020</td><td>1.55</td><td>14.70</td></tr>\n",
              "\t<tr><td>32</td><td>40</td><td>Hofmann, Christina     </td><td>0</td><td>62</td><td>2023-01-25</td><td>161</td><td> 90.0</td><td>34.72088</td><td>140</td><td>⋯</td><td>   NA</td><td>    NA</td><td>   NA</td><td>   NA</td><td>    NA</td><td>    NA</td><td>   NA</td><td>   NA</td><td>  NA</td><td>   NA</td></tr>\n",
              "\t<tr><td>33</td><td>42</td><td>Lattimer, Ariana       </td><td>1</td><td>67</td><td>2023-10-25</td><td>165</td><td> 78.0</td><td>28.65014</td><td>165</td><td>⋯</td><td>3.890</td><td>67.440</td><td>4.290</td><td>4.210</td><td>28.160</td><td>41.210</td><td>2.040</td><td>0.030</td><td>2.26</td><td>15.06</td></tr>\n",
              "\t<tr><td>34</td><td>43</td><td>White, Dejah           </td><td>1</td><td>64</td><td>2022-06-04</td><td>161</td><td> 89.0</td><td>34.33510</td><td>140</td><td>⋯</td><td>3.270</td><td>65.600</td><td>5.290</td><td>3.380</td><td>24.700</td><td>43.560</td><td>2.520</td><td>0.060</td><td>2.73</td><td>13.89</td></tr>\n",
              "\t<tr><td>35</td><td>44</td><td>Sanders, Nhome         </td><td>0</td><td>54</td><td>2022-07-31</td><td>167</td><td> 67.0</td><td>24.02381</td><td>146</td><td>⋯</td><td>   NA</td><td>    NA</td><td>   NA</td><td>   NA</td><td>    NA</td><td>    NA</td><td>   NA</td><td>   NA</td><td>  NA</td><td>   NA</td></tr>\n",
              "\t<tr><td>36</td><td>25</td><td>Hernandez, Minnie      </td><td>1</td><td>67</td><td>2022-09-18</td><td>159</td><td> 72.0</td><td>28.47989</td><td>126</td><td>⋯</td><td>4.000</td><td>67.710</td><td>5.350</td><td>4.200</td><td>29.860</td><td>40.350</td><td>2.650</td><td>0.020</td><td>1.55</td><td>13.37</td></tr>\n",
              "\t<tr><td>37</td><td>26</td><td>Rettig, Jane           </td><td>1</td><td>69</td><td>2022-01-26</td><td>154</td><td> 87.6</td><td>36.93709</td><td>147</td><td>⋯</td><td>   NA</td><td>    NA</td><td>   NA</td><td>   NA</td><td>    NA</td><td>    NA</td><td>   NA</td><td>   NA</td><td>  NA</td><td>   NA</td></tr>\n",
              "\t<tr><td>38</td><td>27</td><td>Begay, Joshua          </td><td>0</td><td>60</td><td>2022-02-11</td><td>165</td><td> 74.0</td><td>27.18090</td><td>120</td><td>⋯</td><td>   NA</td><td>    NA</td><td>   NA</td><td>   NA</td><td>    NA</td><td>    NA</td><td>   NA</td><td>   NA</td><td>  NA</td><td>   NA</td></tr>\n",
              "</tbody>\n",
              "</table>\n"
            ],
            "text/markdown": "\nA tibble: 38 × 94\n\n| Vial.number &lt;fct&gt; | Patient.number &lt;fct&gt; | Name &lt;chr&gt; | Group &lt;dbl&gt; | Age &lt;dbl&gt; | Date &lt;dttm&gt; | Ht &lt;dbl&gt; | Wt &lt;dbl&gt; | BMI &lt;dbl&gt; | Sys &lt;dbl&gt; | ⋯ ⋯ | G1.ldl &lt;dbl&gt; | G2.ldl &lt;dbl&gt; | G3.ldl &lt;dbl&gt; | S0.ldl &lt;dbl&gt; | S1.ldl &lt;dbl&gt; | S2.ldl &lt;dbl&gt; | S3.ldl &lt;dbl&gt; | B.ldl &lt;dbl&gt; | F.ldl &lt;dbl&gt; | HM.ldl &lt;dbl&gt; |\n|---|---|---|---|---|---|---|---|---|---|---|---|---|---|---|---|---|---|---|---|---|\n| 1  | 50 | Woodard, Dillon         | 0 | 63 | 2022-03-26 | 163 |  84.0 | 31.61579 | 125 | ⋯ | 4.090 | 68.910 | 3.570 | 3.980 | 28.180 | 42.460 | 1.950 | 0.020 | 1.67 | 13.02 |\n| 2  | 51 | Kuck, Breanna           | 0 | 47 | 2023-12-23 | 179 | 111.0 | 34.64311 | 125 | ⋯ |    NA |     NA |    NA |    NA |     NA |     NA |    NA |    NA |   NA |    NA |\n| 3  | 52 | Thomas, Terrance        | 1 | 57 | 2022-10-10 | 164 |  80.0 | 29.74420 | 132 | ⋯ | 5.160 | 68.220 | 3.110 | 4.640 | 30.430 | 39.860 | 1.560 | 0.020 | 1.69 | 14.16 |\n| 4  | 53 | Moua, Kensue            | 1 | 72 | 2022-12-21 | 160 |  58.8 | 22.96875 | 130 | ⋯ | 3.950 | 68.030 | 4.500 | 3.780 | 29.370 | 41.130 | 2.200 | 0.020 | 1.89 | 13.89 |\n| 5  | 54 | Soriano, Ryan           | 1 | 57 | 2023-03-16 | 180 |  71.0 | 21.91358 | 135 | ⋯ | 4.630 | 66.910 | 4.030 | 4.440 | 28.540 | 40.640 | 1.950 | 0.020 | 2.03 | 14.25 |\n| 6  | 55 | Munoz-Lujan, Evangelina | 1 | 79 | 2023-03-25 | 160 |  64.0 | 25.00000 | 110 | ⋯ | 4.050 | 64.010 | 5.270 | 3.720 | 26.710 | 40.390 | 2.510 | 0.020 | 2.70 | 16.06 |\n| 7  | 56 | Silas, Gurinder         | 1 | 61 | 2022-01-06 | 164 |  67.0 | 24.91077 | 124 | ⋯ | 4.100 | 65.990 | 4.700 | 4.030 | 28.440 | 39.990 | 2.330 | 0.020 | 1.61 | 13.82 |\n| 8  | 57 | Matt, Gage              | 1 | 70 | 2022-01-27 | 162 |  61.0 | 23.24341 | 135 | ⋯ | 5.270 | 67.260 | 3.240 | 4.690 | 32.270 | 37.290 | 1.520 | 0.030 | 1.61 | 14.59 |\n| 9  | 58 | Lords, Aaran            | 0 | 50 | 2023-10-20 | 150 |  79.0 | 35.11111 | 142 | ⋯ | 3.970 | 67.590 | 4.220 | 4.420 | 27.990 | 41.190 | 2.180 | 0.050 | 1.55 | 13.26 |\n| 10 | 59 | Mummert, Skye           | 1 | 53 | 2022-07-21 | 172 |  88.2 | 29.81341 | 120 | ⋯ | 4.480 | 68.880 | 4.040 | 3.860 | 28.110 | 43.200 | 2.230 | 0.020 | 2.30 | 13.11 |\n| 11 | 60 | Warero Jr, Alexis       | 1 | 83 | 2023-02-13 | 168 |  59.0 | 20.90420 | 134 | ⋯ | 4.620 | 66.510 | 4.250 | 4.780 | 28.500 | 40.140 | 1.960 | 0.030 | 1.72 | 14.21 |\n| 12 | 61 | Bancroft, Kaldurion     | 1 | 59 | 2023-08-28 | 157 |  70.0 | 28.39872 | 120 | ⋯ | 3.470 | 66.740 | 5.030 | 3.450 | 26.590 | 42.620 | 2.580 | 0.020 | 2.02 | 13.52 |\n| 13 | 62 | Bowen, Nakayla          | 1 | 79 | 2022-08-28 | 161 |  73.0 | 28.16249 | 120 | ⋯ | 4.780 | 67.400 | 3.720 | 4.760 | 29.470 | 39.760 | 1.910 | 0.060 | 1.93 | 14.28 |\n| 14 | 63 | Scott, Alexandria       | 1 | 61 | 2022-07-02 | 172 |  82.0 | 27.71769 | 137 | ⋯ | 4.550 | 67.880 | 4.640 | 4.060 | 28.160 | 42.470 | 2.380 | 0.030 | 1.93 | 13.42 |\n| 15 | 37 | Siefers, Rachel         | 1 | 79 | 2023-04-28 | 167 |  63.0 | 22.58955 | 188 | ⋯ | 4.700 | 67.590 | 3.430 | 5.280 | 33.520 | 35.450 | 1.470 | 0.020 | 1.24 | 14.35 |\n| 16 | 38 | Timm, Carlton           | 1 | 75 | 2022-03-19 | 165 |  57.0 | 20.93664 | 120 | ⋯ | 5.200 | 66.370 | 4.220 | 4.470 | 29.360 | 39.770 | 2.190 | 0.030 | 2.99 | 14.47 |\n| 17 | 39 | Bryant, Saarah          | 1 | 58 | 2022-06-26 | 162 | 102.0 | 38.86603 | 132 | ⋯ | 4.010 | 67.880 | 4.340 | 4.340 | 29.100 | 40.840 | 1.950 | 0.030 | 1.99 | 13.02 |\n| 18 | 40 | Fox, Cameron            | 1 | 65 | 2022-12-20 | 171 | 102.6 | 35.08772 | 136 | ⋯ | 3.935 | 66.575 | 4.445 | 4.435 | 28.225 | 39.670 | 2.625 | 0.035 | 2.11 | 14.64 |\n| 19 | 41 | Mason, Dylan            | 0 | 64 | 2022-05-13 | 167 |  62.0 | 22.23099 | 112 | ⋯ | 3.860 | 68.260 | 4.280 | 3.680 | 28.570 | 42.040 | 2.110 | 0.020 | 2.34 | 13.59 |\n| 20 | 42 | Sandoval, Frank         | 0 | 66 | 2022-07-08 | 165 |  73.0 | 26.81359 | 135 | ⋯ | 4.710 | 65.305 | 4.735 | 4.335 | 29.245 | 38.985 | 2.185 | 0.030 | 2.19 | 15.15 |\n| 21 | 43 | Greene, Bryce           | 1 | 70 | 2023-03-08 | 170 | 101.2 | 35.01730 | 135 | ⋯ | 4.040 | 67.120 | 4.740 | 4.560 | 28.570 | 40.240 | 2.530 | 0.040 | 2.38 | 13.10 |\n| 22 | 30 | el-Saah, Amaani         | 0 | 65 | 2022-07-12 | 158 |  69.0 | 27.63980 | 129 | ⋯ | 4.930 | 66.620 | 4.270 | 4.590 | 29.240 | 39.910 | 2.080 | 0.030 | 1.69 | 14.11 |\n| 23 | 31 | Martinez, Alex          | 1 | 62 | 2022-01-22 | 169 |  66.0 | 23.10843 | 150 | ⋯ |    NA |     NA |    NA |    NA |     NA |     NA |    NA |    NA |   NA |    NA |\n| 24 | 32 | Vasquez, Edgar          | 0 | 76 | 2022-01-01 | 165 |  56.5 | 20.75298 | 130 | ⋯ | 4.390 | 67.560 | 3.590 | 4.550 | 28.810 | 40.410 | 1.770 | 0.040 | 1.38 | 14.83 |\n| 25 | 33 | el-Salam, Thamra        | 1 | 68 | 2022-05-27 | 170 |  88.0 | 30.44983 | 150 | ⋯ |    NA |     NA |    NA |    NA |     NA |     NA |    NA |    NA |   NA |    NA |\n| 26 | 34 | Mandeville, Audreon     | 0 | 55 | 2023-10-19 | 162 |  57.0 | 21.71925 | 103 | ⋯ | 5.280 | 67.780 | 4.210 | 4.710 | 29.210 | 41.010 | 2.340 | 0.020 | 2.03 | 13.33 |\n| 27 | 35 | Kim, Lily               | 0 | 79 | 2023-12-10 | 172 |  60.0 | 20.28123 | 100 | ⋯ |    NA |     NA |    NA |    NA |     NA |     NA |    NA |    NA |   NA |    NA |\n| 28 | 36 | el-Ahmad, Aaisha        | 0 | 69 | 2023-06-10 | 160 |  60.0 | 23.43750 | 133 | ⋯ | 4.620 | 67.430 | 4.360 | 4.160 | 29.580 | 40.480 | 2.190 | 0.020 | 2.27 | 13.54 |\n| 29 | 37 | Jarko, Taylor           | 1 | 75 | 2022-12-08 | 162 |  75.0 | 28.57796 | 118 | ⋯ |    NA |     NA |    NA |    NA |     NA |     NA |    NA |    NA |   NA |    NA |\n| 30 | 38 | Mccarthy, Cheyenne      | 1 | 68 | 2022-07-01 | 165 |  77.8 | 28.57668 | 134 | ⋯ | 4.290 | 66.840 | 4.380 | 3.910 | 28.190 | 41.210 | 2.200 | 0.020 | 2.36 | 14.45 |\n| 31 | 39 | Voyles, Donald          | 0 | 64 | 2022-02-05 | 176 |  68.8 | 22.21074 | 128 | ⋯ | 5.220 | 66.870 | 3.580 | 4.280 | 29.690 | 40.060 | 1.640 | 0.020 | 1.55 | 14.70 |\n| 32 | 40 | Hofmann, Christina      | 0 | 62 | 2023-01-25 | 161 |  90.0 | 34.72088 | 140 | ⋯ |    NA |     NA |    NA |    NA |     NA |     NA |    NA |    NA |   NA |    NA |\n| 33 | 42 | Lattimer, Ariana        | 1 | 67 | 2023-10-25 | 165 |  78.0 | 28.65014 | 165 | ⋯ | 3.890 | 67.440 | 4.290 | 4.210 | 28.160 | 41.210 | 2.040 | 0.030 | 2.26 | 15.06 |\n| 34 | 43 | White, Dejah            | 1 | 64 | 2022-06-04 | 161 |  89.0 | 34.33510 | 140 | ⋯ | 3.270 | 65.600 | 5.290 | 3.380 | 24.700 | 43.560 | 2.520 | 0.060 | 2.73 | 13.89 |\n| 35 | 44 | Sanders, Nhome          | 0 | 54 | 2022-07-31 | 167 |  67.0 | 24.02381 | 146 | ⋯ |    NA |     NA |    NA |    NA |     NA |     NA |    NA |    NA |   NA |    NA |\n| 36 | 25 | Hernandez, Minnie       | 1 | 67 | 2022-09-18 | 159 |  72.0 | 28.47989 | 126 | ⋯ | 4.000 | 67.710 | 5.350 | 4.200 | 29.860 | 40.350 | 2.650 | 0.020 | 1.55 | 13.37 |\n| 37 | 26 | Rettig, Jane            | 1 | 69 | 2022-01-26 | 154 |  87.6 | 36.93709 | 147 | ⋯ |    NA |     NA |    NA |    NA |     NA |     NA |    NA |    NA |   NA |    NA |\n| 38 | 27 | Begay, Joshua           | 0 | 60 | 2022-02-11 | 165 |  74.0 | 27.18090 | 120 | ⋯ |    NA |     NA |    NA |    NA |     NA |     NA |    NA |    NA |   NA |    NA |\n\n",
            "text/latex": "A tibble: 38 × 94\n\\begin{tabular}{lllllllllllllllllllll}\n Vial.number & Patient.number & Name & Group & Age & Date & Ht & Wt & BMI & Sys & ⋯ & G1.ldl & G2.ldl & G3.ldl & S0.ldl & S1.ldl & S2.ldl & S3.ldl & B.ldl & F.ldl & HM.ldl\\\\\n <fct> & <fct> & <chr> & <dbl> & <dbl> & <dttm> & <dbl> & <dbl> & <dbl> & <dbl> & ⋯ & <dbl> & <dbl> & <dbl> & <dbl> & <dbl> & <dbl> & <dbl> & <dbl> & <dbl> & <dbl>\\\\\n\\hline\n\t 1  & 50 & Woodard, Dillon         & 0 & 63 & 2022-03-26 & 163 &  84.0 & 31.61579 & 125 & ⋯ & 4.090 & 68.910 & 3.570 & 3.980 & 28.180 & 42.460 & 1.950 & 0.020 & 1.67 & 13.02\\\\\n\t 2  & 51 & Kuck, Breanna           & 0 & 47 & 2023-12-23 & 179 & 111.0 & 34.64311 & 125 & ⋯ &    NA &     NA &    NA &    NA &     NA &     NA &    NA &    NA &   NA &    NA\\\\\n\t 3  & 52 & Thomas, Terrance        & 1 & 57 & 2022-10-10 & 164 &  80.0 & 29.74420 & 132 & ⋯ & 5.160 & 68.220 & 3.110 & 4.640 & 30.430 & 39.860 & 1.560 & 0.020 & 1.69 & 14.16\\\\\n\t 4  & 53 & Moua, Kensue            & 1 & 72 & 2022-12-21 & 160 &  58.8 & 22.96875 & 130 & ⋯ & 3.950 & 68.030 & 4.500 & 3.780 & 29.370 & 41.130 & 2.200 & 0.020 & 1.89 & 13.89\\\\\n\t 5  & 54 & Soriano, Ryan           & 1 & 57 & 2023-03-16 & 180 &  71.0 & 21.91358 & 135 & ⋯ & 4.630 & 66.910 & 4.030 & 4.440 & 28.540 & 40.640 & 1.950 & 0.020 & 2.03 & 14.25\\\\\n\t 6  & 55 & Munoz-Lujan, Evangelina & 1 & 79 & 2023-03-25 & 160 &  64.0 & 25.00000 & 110 & ⋯ & 4.050 & 64.010 & 5.270 & 3.720 & 26.710 & 40.390 & 2.510 & 0.020 & 2.70 & 16.06\\\\\n\t 7  & 56 & Silas, Gurinder         & 1 & 61 & 2022-01-06 & 164 &  67.0 & 24.91077 & 124 & ⋯ & 4.100 & 65.990 & 4.700 & 4.030 & 28.440 & 39.990 & 2.330 & 0.020 & 1.61 & 13.82\\\\\n\t 8  & 57 & Matt, Gage              & 1 & 70 & 2022-01-27 & 162 &  61.0 & 23.24341 & 135 & ⋯ & 5.270 & 67.260 & 3.240 & 4.690 & 32.270 & 37.290 & 1.520 & 0.030 & 1.61 & 14.59\\\\\n\t 9  & 58 & Lords, Aaran            & 0 & 50 & 2023-10-20 & 150 &  79.0 & 35.11111 & 142 & ⋯ & 3.970 & 67.590 & 4.220 & 4.420 & 27.990 & 41.190 & 2.180 & 0.050 & 1.55 & 13.26\\\\\n\t 10 & 59 & Mummert, Skye           & 1 & 53 & 2022-07-21 & 172 &  88.2 & 29.81341 & 120 & ⋯ & 4.480 & 68.880 & 4.040 & 3.860 & 28.110 & 43.200 & 2.230 & 0.020 & 2.30 & 13.11\\\\\n\t 11 & 60 & Warero Jr, Alexis       & 1 & 83 & 2023-02-13 & 168 &  59.0 & 20.90420 & 134 & ⋯ & 4.620 & 66.510 & 4.250 & 4.780 & 28.500 & 40.140 & 1.960 & 0.030 & 1.72 & 14.21\\\\\n\t 12 & 61 & Bancroft, Kaldurion     & 1 & 59 & 2023-08-28 & 157 &  70.0 & 28.39872 & 120 & ⋯ & 3.470 & 66.740 & 5.030 & 3.450 & 26.590 & 42.620 & 2.580 & 0.020 & 2.02 & 13.52\\\\\n\t 13 & 62 & Bowen, Nakayla          & 1 & 79 & 2022-08-28 & 161 &  73.0 & 28.16249 & 120 & ⋯ & 4.780 & 67.400 & 3.720 & 4.760 & 29.470 & 39.760 & 1.910 & 0.060 & 1.93 & 14.28\\\\\n\t 14 & 63 & Scott, Alexandria       & 1 & 61 & 2022-07-02 & 172 &  82.0 & 27.71769 & 137 & ⋯ & 4.550 & 67.880 & 4.640 & 4.060 & 28.160 & 42.470 & 2.380 & 0.030 & 1.93 & 13.42\\\\\n\t 15 & 37 & Siefers, Rachel         & 1 & 79 & 2023-04-28 & 167 &  63.0 & 22.58955 & 188 & ⋯ & 4.700 & 67.590 & 3.430 & 5.280 & 33.520 & 35.450 & 1.470 & 0.020 & 1.24 & 14.35\\\\\n\t 16 & 38 & Timm, Carlton           & 1 & 75 & 2022-03-19 & 165 &  57.0 & 20.93664 & 120 & ⋯ & 5.200 & 66.370 & 4.220 & 4.470 & 29.360 & 39.770 & 2.190 & 0.030 & 2.99 & 14.47\\\\\n\t 17 & 39 & Bryant, Saarah          & 1 & 58 & 2022-06-26 & 162 & 102.0 & 38.86603 & 132 & ⋯ & 4.010 & 67.880 & 4.340 & 4.340 & 29.100 & 40.840 & 1.950 & 0.030 & 1.99 & 13.02\\\\\n\t 18 & 40 & Fox, Cameron            & 1 & 65 & 2022-12-20 & 171 & 102.6 & 35.08772 & 136 & ⋯ & 3.935 & 66.575 & 4.445 & 4.435 & 28.225 & 39.670 & 2.625 & 0.035 & 2.11 & 14.64\\\\\n\t 19 & 41 & Mason, Dylan            & 0 & 64 & 2022-05-13 & 167 &  62.0 & 22.23099 & 112 & ⋯ & 3.860 & 68.260 & 4.280 & 3.680 & 28.570 & 42.040 & 2.110 & 0.020 & 2.34 & 13.59\\\\\n\t 20 & 42 & Sandoval, Frank         & 0 & 66 & 2022-07-08 & 165 &  73.0 & 26.81359 & 135 & ⋯ & 4.710 & 65.305 & 4.735 & 4.335 & 29.245 & 38.985 & 2.185 & 0.030 & 2.19 & 15.15\\\\\n\t 21 & 43 & Greene, Bryce           & 1 & 70 & 2023-03-08 & 170 & 101.2 & 35.01730 & 135 & ⋯ & 4.040 & 67.120 & 4.740 & 4.560 & 28.570 & 40.240 & 2.530 & 0.040 & 2.38 & 13.10\\\\\n\t 22 & 30 & el-Saah, Amaani         & 0 & 65 & 2022-07-12 & 158 &  69.0 & 27.63980 & 129 & ⋯ & 4.930 & 66.620 & 4.270 & 4.590 & 29.240 & 39.910 & 2.080 & 0.030 & 1.69 & 14.11\\\\\n\t 23 & 31 & Martinez, Alex          & 1 & 62 & 2022-01-22 & 169 &  66.0 & 23.10843 & 150 & ⋯ &    NA &     NA &    NA &    NA &     NA &     NA &    NA &    NA &   NA &    NA\\\\\n\t 24 & 32 & Vasquez, Edgar          & 0 & 76 & 2022-01-01 & 165 &  56.5 & 20.75298 & 130 & ⋯ & 4.390 & 67.560 & 3.590 & 4.550 & 28.810 & 40.410 & 1.770 & 0.040 & 1.38 & 14.83\\\\\n\t 25 & 33 & el-Salam, Thamra        & 1 & 68 & 2022-05-27 & 170 &  88.0 & 30.44983 & 150 & ⋯ &    NA &     NA &    NA &    NA &     NA &     NA &    NA &    NA &   NA &    NA\\\\\n\t 26 & 34 & Mandeville, Audreon     & 0 & 55 & 2023-10-19 & 162 &  57.0 & 21.71925 & 103 & ⋯ & 5.280 & 67.780 & 4.210 & 4.710 & 29.210 & 41.010 & 2.340 & 0.020 & 2.03 & 13.33\\\\\n\t 27 & 35 & Kim, Lily               & 0 & 79 & 2023-12-10 & 172 &  60.0 & 20.28123 & 100 & ⋯ &    NA &     NA &    NA &    NA &     NA &     NA &    NA &    NA &   NA &    NA\\\\\n\t 28 & 36 & el-Ahmad, Aaisha        & 0 & 69 & 2023-06-10 & 160 &  60.0 & 23.43750 & 133 & ⋯ & 4.620 & 67.430 & 4.360 & 4.160 & 29.580 & 40.480 & 2.190 & 0.020 & 2.27 & 13.54\\\\\n\t 29 & 37 & Jarko, Taylor           & 1 & 75 & 2022-12-08 & 162 &  75.0 & 28.57796 & 118 & ⋯ &    NA &     NA &    NA &    NA &     NA &     NA &    NA &    NA &   NA &    NA\\\\\n\t 30 & 38 & Mccarthy, Cheyenne      & 1 & 68 & 2022-07-01 & 165 &  77.8 & 28.57668 & 134 & ⋯ & 4.290 & 66.840 & 4.380 & 3.910 & 28.190 & 41.210 & 2.200 & 0.020 & 2.36 & 14.45\\\\\n\t 31 & 39 & Voyles, Donald          & 0 & 64 & 2022-02-05 & 176 &  68.8 & 22.21074 & 128 & ⋯ & 5.220 & 66.870 & 3.580 & 4.280 & 29.690 & 40.060 & 1.640 & 0.020 & 1.55 & 14.70\\\\\n\t 32 & 40 & Hofmann, Christina      & 0 & 62 & 2023-01-25 & 161 &  90.0 & 34.72088 & 140 & ⋯ &    NA &     NA &    NA &    NA &     NA &     NA &    NA &    NA &   NA &    NA\\\\\n\t 33 & 42 & Lattimer, Ariana        & 1 & 67 & 2023-10-25 & 165 &  78.0 & 28.65014 & 165 & ⋯ & 3.890 & 67.440 & 4.290 & 4.210 & 28.160 & 41.210 & 2.040 & 0.030 & 2.26 & 15.06\\\\\n\t 34 & 43 & White, Dejah            & 1 & 64 & 2022-06-04 & 161 &  89.0 & 34.33510 & 140 & ⋯ & 3.270 & 65.600 & 5.290 & 3.380 & 24.700 & 43.560 & 2.520 & 0.060 & 2.73 & 13.89\\\\\n\t 35 & 44 & Sanders, Nhome          & 0 & 54 & 2022-07-31 & 167 &  67.0 & 24.02381 & 146 & ⋯ &    NA &     NA &    NA &    NA &     NA &     NA &    NA &    NA &   NA &    NA\\\\\n\t 36 & 25 & Hernandez, Minnie       & 1 & 67 & 2022-09-18 & 159 &  72.0 & 28.47989 & 126 & ⋯ & 4.000 & 67.710 & 5.350 & 4.200 & 29.860 & 40.350 & 2.650 & 0.020 & 1.55 & 13.37\\\\\n\t 37 & 26 & Rettig, Jane            & 1 & 69 & 2022-01-26 & 154 &  87.6 & 36.93709 & 147 & ⋯ &    NA &     NA &    NA &    NA &     NA &     NA &    NA &    NA &   NA &    NA\\\\\n\t 38 & 27 & Begay, Joshua           & 0 & 60 & 2022-02-11 & 165 &  74.0 & 27.18090 & 120 & ⋯ &    NA &     NA &    NA &    NA &     NA &     NA &    NA &    NA &   NA &    NA\\\\\n\\end{tabular}\n",
            "text/plain": [
              "   Vial.number Patient.number Name                    Group Age Date       Ht \n",
              "1  1           50             Woodard, Dillon         0     63  2022-03-26 163\n",
              "2  2           51             Kuck, Breanna           0     47  2023-12-23 179\n",
              "3  3           52             Thomas, Terrance        1     57  2022-10-10 164\n",
              "4  4           53             Moua, Kensue            1     72  2022-12-21 160\n",
              "5  5           54             Soriano, Ryan           1     57  2023-03-16 180\n",
              "6  6           55             Munoz-Lujan, Evangelina 1     79  2023-03-25 160\n",
              "7  7           56             Silas, Gurinder         1     61  2022-01-06 164\n",
              "8  8           57             Matt, Gage              1     70  2022-01-27 162\n",
              "9  9           58             Lords, Aaran            0     50  2023-10-20 150\n",
              "10 10          59             Mummert, Skye           1     53  2022-07-21 172\n",
              "11 11          60             Warero Jr, Alexis       1     83  2023-02-13 168\n",
              "12 12          61             Bancroft, Kaldurion     1     59  2023-08-28 157\n",
              "13 13          62             Bowen, Nakayla          1     79  2022-08-28 161\n",
              "14 14          63             Scott, Alexandria       1     61  2022-07-02 172\n",
              "15 15          37             Siefers, Rachel         1     79  2023-04-28 167\n",
              "16 16          38             Timm, Carlton           1     75  2022-03-19 165\n",
              "17 17          39             Bryant, Saarah          1     58  2022-06-26 162\n",
              "18 18          40             Fox, Cameron            1     65  2022-12-20 171\n",
              "19 19          41             Mason, Dylan            0     64  2022-05-13 167\n",
              "20 20          42             Sandoval, Frank         0     66  2022-07-08 165\n",
              "21 21          43             Greene, Bryce           1     70  2023-03-08 170\n",
              "22 22          30             el-Saah, Amaani         0     65  2022-07-12 158\n",
              "23 23          31             Martinez, Alex          1     62  2022-01-22 169\n",
              "24 24          32             Vasquez, Edgar          0     76  2022-01-01 165\n",
              "25 25          33             el-Salam, Thamra        1     68  2022-05-27 170\n",
              "26 26          34             Mandeville, Audreon     0     55  2023-10-19 162\n",
              "27 27          35             Kim, Lily               0     79  2023-12-10 172\n",
              "28 28          36             el-Ahmad, Aaisha        0     69  2023-06-10 160\n",
              "29 29          37             Jarko, Taylor           1     75  2022-12-08 162\n",
              "30 30          38             Mccarthy, Cheyenne      1     68  2022-07-01 165\n",
              "31 31          39             Voyles, Donald          0     64  2022-02-05 176\n",
              "32 32          40             Hofmann, Christina      0     62  2023-01-25 161\n",
              "33 33          42             Lattimer, Ariana        1     67  2023-10-25 165\n",
              "34 34          43             White, Dejah            1     64  2022-06-04 161\n",
              "35 35          44             Sanders, Nhome          0     54  2022-07-31 167\n",
              "36 36          25             Hernandez, Minnie       1     67  2022-09-18 159\n",
              "37 37          26             Rettig, Jane            1     69  2022-01-26 154\n",
              "38 38          27             Begay, Joshua           0     60  2022-02-11 165\n",
              "   Wt    BMI      Sys ⋯ G1.ldl G2.ldl G3.ldl S0.ldl S1.ldl S2.ldl S3.ldl B.ldl\n",
              "1   84.0 31.61579 125 ⋯ 4.090  68.910 3.570  3.980  28.180 42.460 1.950  0.020\n",
              "2  111.0 34.64311 125 ⋯    NA      NA    NA     NA      NA     NA    NA     NA\n",
              "3   80.0 29.74420 132 ⋯ 5.160  68.220 3.110  4.640  30.430 39.860 1.560  0.020\n",
              "4   58.8 22.96875 130 ⋯ 3.950  68.030 4.500  3.780  29.370 41.130 2.200  0.020\n",
              "5   71.0 21.91358 135 ⋯ 4.630  66.910 4.030  4.440  28.540 40.640 1.950  0.020\n",
              "6   64.0 25.00000 110 ⋯ 4.050  64.010 5.270  3.720  26.710 40.390 2.510  0.020\n",
              "7   67.0 24.91077 124 ⋯ 4.100  65.990 4.700  4.030  28.440 39.990 2.330  0.020\n",
              "8   61.0 23.24341 135 ⋯ 5.270  67.260 3.240  4.690  32.270 37.290 1.520  0.030\n",
              "9   79.0 35.11111 142 ⋯ 3.970  67.590 4.220  4.420  27.990 41.190 2.180  0.050\n",
              "10  88.2 29.81341 120 ⋯ 4.480  68.880 4.040  3.860  28.110 43.200 2.230  0.020\n",
              "11  59.0 20.90420 134 ⋯ 4.620  66.510 4.250  4.780  28.500 40.140 1.960  0.030\n",
              "12  70.0 28.39872 120 ⋯ 3.470  66.740 5.030  3.450  26.590 42.620 2.580  0.020\n",
              "13  73.0 28.16249 120 ⋯ 4.780  67.400 3.720  4.760  29.470 39.760 1.910  0.060\n",
              "14  82.0 27.71769 137 ⋯ 4.550  67.880 4.640  4.060  28.160 42.470 2.380  0.030\n",
              "15  63.0 22.58955 188 ⋯ 4.700  67.590 3.430  5.280  33.520 35.450 1.470  0.020\n",
              "16  57.0 20.93664 120 ⋯ 5.200  66.370 4.220  4.470  29.360 39.770 2.190  0.030\n",
              "17 102.0 38.86603 132 ⋯ 4.010  67.880 4.340  4.340  29.100 40.840 1.950  0.030\n",
              "18 102.6 35.08772 136 ⋯ 3.935  66.575 4.445  4.435  28.225 39.670 2.625  0.035\n",
              "19  62.0 22.23099 112 ⋯ 3.860  68.260 4.280  3.680  28.570 42.040 2.110  0.020\n",
              "20  73.0 26.81359 135 ⋯ 4.710  65.305 4.735  4.335  29.245 38.985 2.185  0.030\n",
              "21 101.2 35.01730 135 ⋯ 4.040  67.120 4.740  4.560  28.570 40.240 2.530  0.040\n",
              "22  69.0 27.63980 129 ⋯ 4.930  66.620 4.270  4.590  29.240 39.910 2.080  0.030\n",
              "23  66.0 23.10843 150 ⋯    NA      NA    NA     NA      NA     NA    NA     NA\n",
              "24  56.5 20.75298 130 ⋯ 4.390  67.560 3.590  4.550  28.810 40.410 1.770  0.040\n",
              "25  88.0 30.44983 150 ⋯    NA      NA    NA     NA      NA     NA    NA     NA\n",
              "26  57.0 21.71925 103 ⋯ 5.280  67.780 4.210  4.710  29.210 41.010 2.340  0.020\n",
              "27  60.0 20.28123 100 ⋯    NA      NA    NA     NA      NA     NA    NA     NA\n",
              "28  60.0 23.43750 133 ⋯ 4.620  67.430 4.360  4.160  29.580 40.480 2.190  0.020\n",
              "29  75.0 28.57796 118 ⋯    NA      NA    NA     NA      NA     NA    NA     NA\n",
              "30  77.8 28.57668 134 ⋯ 4.290  66.840 4.380  3.910  28.190 41.210 2.200  0.020\n",
              "31  68.8 22.21074 128 ⋯ 5.220  66.870 3.580  4.280  29.690 40.060 1.640  0.020\n",
              "32  90.0 34.72088 140 ⋯    NA      NA    NA     NA      NA     NA    NA     NA\n",
              "33  78.0 28.65014 165 ⋯ 3.890  67.440 4.290  4.210  28.160 41.210 2.040  0.030\n",
              "34  89.0 34.33510 140 ⋯ 3.270  65.600 5.290  3.380  24.700 43.560 2.520  0.060\n",
              "35  67.0 24.02381 146 ⋯    NA      NA    NA     NA      NA     NA    NA     NA\n",
              "36  72.0 28.47989 126 ⋯ 4.000  67.710 5.350  4.200  29.860 40.350 2.650  0.020\n",
              "37  87.6 36.93709 147 ⋯    NA      NA    NA     NA      NA     NA    NA     NA\n",
              "38  74.0 27.18090 120 ⋯    NA      NA    NA     NA      NA     NA    NA     NA\n",
              "   F.ldl HM.ldl\n",
              "1  1.67  13.02 \n",
              "2    NA     NA \n",
              "3  1.69  14.16 \n",
              "4  1.89  13.89 \n",
              "5  2.03  14.25 \n",
              "6  2.70  16.06 \n",
              "7  1.61  13.82 \n",
              "8  1.61  14.59 \n",
              "9  1.55  13.26 \n",
              "10 2.30  13.11 \n",
              "11 1.72  14.21 \n",
              "12 2.02  13.52 \n",
              "13 1.93  14.28 \n",
              "14 1.93  13.42 \n",
              "15 1.24  14.35 \n",
              "16 2.99  14.47 \n",
              "17 1.99  13.02 \n",
              "18 2.11  14.64 \n",
              "19 2.34  13.59 \n",
              "20 2.19  15.15 \n",
              "21 2.38  13.10 \n",
              "22 1.69  14.11 \n",
              "23   NA     NA \n",
              "24 1.38  14.83 \n",
              "25   NA     NA \n",
              "26 2.03  13.33 \n",
              "27   NA     NA \n",
              "28 2.27  13.54 \n",
              "29   NA     NA \n",
              "30 2.36  14.45 \n",
              "31 1.55  14.70 \n",
              "32   NA     NA \n",
              "33 2.26  15.06 \n",
              "34 2.73  13.89 \n",
              "35   NA     NA \n",
              "36 1.55  13.37 \n",
              "37   NA     NA \n",
              "38   NA     NA "
            ]
          },
          "metadata": {}
        }
      ]
    }
  ]
}