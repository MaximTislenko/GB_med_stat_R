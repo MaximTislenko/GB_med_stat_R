{
  "nbformat": 4,
  "nbformat_minor": 0,
  "metadata": {
    "colab": {
      "provenance": [],
      "include_colab_link": true
    },
    "kernelspec": {
      "name": "ir",
      "display_name": "R"
    },
    "language_info": {
      "name": "R"
    }
  },
  "cells": [
    {
      "cell_type": "markdown",
      "metadata": {
        "id": "view-in-github",
        "colab_type": "text"
      },
      "source": [
        "<a href=\"https://colab.research.google.com/github/MaximTislenko/GB_med_stat_R/blob/main/%D0%94%D0%BE%D0%BF_%D1%83%D0%BF%D1%80%D0%B0%D0%B2%D0%BB%D0%B5%D0%BD%D0%B8%D0%B5_Fin.ipynb\" target=\"_parent\"><img src=\"https://colab.research.google.com/assets/colab-badge.svg\" alt=\"Open In Colab\"/></a>"
      ]
    },
    {
      "cell_type": "markdown",
      "source": [
        "# Дополнительные приемы управления данными\n",
        "В главе 3 мы рассмотрели основные способы управления наборами данных в R. В этой главе мы сосредоточимся на более сложных подходах. Глава делится на три основные части. В первой части мы кратко познакомимся с многочисленными функциями, выполняющими математические и статистические вычисления, а также преобразование текстовых значений. Для придания этой части большей актуальности мы начнем с описания задачи по преобразованию данных, которую можно решить с использованием этих функций. После знакомства с функциями мы рассмотрим одно из возможных решений данной задачи.\n",
        "\n",
        "Затем мы поговорим о том, как писать свои собственные функции для управления данными и их анализа. Сначала мы исследуем способы управления потоком выполнения инструкций с использованием циклов и условных операторов. Потом познакомимся со структурой пользовательских функций и узнаем, как их применять.\n",
        "\n",
        "Наконец, мы рассмотрим способы агрегирования, обобщения и преобразования наборов данных. При агрегировании данных можно использовать любые встроенные или написанные пользователем функции, поэтому знания, полученные в первых двух разделах этой главы, вам действительно пригодятся."
      ],
      "metadata": {
        "id": "yaZVoNFFoC1F"
      }
    },
    {
      "cell_type": "code",
      "execution_count": 103,
      "metadata": {
        "id": "AdrY4BSy4w1z"
      },
      "outputs": [],
      "source": [
        "library(tidyverse)\n",
        "library(readxl)"
      ]
    },
    {
      "cell_type": "markdown",
      "source": [
        "## Задача по управлению данными\n",
        "Прежде чем начинать обсуждение числовых и текстовых функций, определим задачу, которую затем будем решать. Группа студентов сдавала экзамены по математике, естественным наукам и английскому языку. Полученные ими баллы по трем предметам нужно объединить и получить единый показатель успеваемости для каждого студента. Кроме того, необходимо поставить оценку A первым по успеваемости 20 % студентов, оценку B – следующим по успеваемости 20 % и т. д. Наконец, список студентов нужно\n",
        "отсортировать в алфавитном порядке.\n",
        "\n",
        "\\begin{array}{l|c|c|c}\n",
        "Студент&Математика&Естественные~науки&Английский~язык\\\\\\hline\n",
        "John~Davis&502&95&25\\\\\n",
        "Angela~Williams&600&99&22\\\\\n",
        "Bullwinkie~Moose&412&80&18\\\\\n",
        "David~Jones&358&82&15\\\\\n",
        "Janice~Markhammer&495&75&20\\\\\n",
        "Cheryl~Cushing&512&85&28\\\\\n",
        "Reuven~Ytzrhak&410&80&15\\\\\n",
        "Greg~Knox&625&95&30\\\\\n",
        "Joel~England&573&89&27\\\\\n",
        "Mary~Rayburn&522&86&18\n",
        "\\end{array}\n",
        "\n",
        "При взгляде на эти данные сразу можно заметить несколько проблем. Во-первых, баллы, полученные на экзаменах по разным предметам, несопоставимы между собой. Их средние значения и стандартные отклонения сильно различаются, поэтому усреднять их не имеет смысла. Для вычисления единого показателя успеваемости необходимо преобразовать эти баллы так, чтобы их можно было сопоставлять между собой. Во-вторых, нам понадобится метод для определения мест студентов в общем рейтинге успеваемости, чтобы поставить им итоговую оценку. В-третьих, для нормальной сортировки студентов в алфавитном порядке нужно разбить первый столбец на два – с именем и фамилией.\n",
        "\n",
        "Все перечисленные проблемы можно устранить с помощью числовых и текстовых функций в R. После знакомства с функциями в следующем разделе мы сможем найти подходящее решение для нашей задачи по управлению данными.\n"
      ],
      "metadata": {
        "id": "rFYdUlL23LZO"
      }
    },
    {
      "cell_type": "markdown",
      "source": [
        "## Числовые и текстовые функции\n",
        "В этом разделе перечисляются функции R, которые можно использовать для управления данными. Их можно разделить на числовые (математические, статистические, вероятностные) и текстовые. После знакомства с функциями обоих типов я покажу вам, как применять их к столбцам (переменным) и строкам (наблюдениям) таблиц данных"
      ],
      "metadata": {
        "id": "O6G6NOZa2BJS"
      }
    },
    {
      "cell_type": "markdown",
      "source": [
        "### Математические функции\n",
        "\\begin{array}{r|l}\n",
        "Функция&Описание\\\\\\hline\n",
        "abs(x)&Абсолютное~значение\\\\\n",
        "~&abs(-4)~вернет~4\\\\\\hline\n",
        "sqrt(x)&Квадратный~корень\\\\\n",
        "~&sqrt(25)~вернет~5\\\\\n",
        "~&То~же~самое, что~и~25**(0.5)\\\\\\hline\n",
        "ceiling(x)&Ближайшее~целое~число, не~меньшее, чем~x\\\\\n",
        "~&ceiling(3.457)~вернет~4\\\\\\hline\n",
        "floor(x)&Ближайшее~целое~число, не~большее, чем~x\\\\\n",
        "~&floor(3.457)~вернет~3\\\\\\hline\n",
        "trunk(x)&Целое~число, полученное~округлением~x~в~сторону~нуля\\\\\n",
        "~&trunk(5.99)~вернет~5\\\\\\hline\n",
        "round(x,~ digits=n)&Округляет~x~до~заданного~числа~знаков~n~после~запятой\\\\\n",
        "~&round(3.475,~digits=2)~вернет~3.48\\\\\\hline\n",
        "signif(x,~digits=n)&Округляет~x~до~заданного~числа~n~значащих~цифр\\\\\n",
        "~&signif(3.475,~digits=2)~вернет~3.5\\\\\\hline\n",
        "cos(x), sin(x), tan(x)&Косинус, синус~и~тангенс\\\\\n",
        "~&cos(2) вернет –0.416\\\\\\hline\n",
        "acos(x), asin(x),atan(x)&Арккосинус, арксинус~и~арктангенс\\\\\n",
        "~&acos(-0.416)~вернет~2\\\\\\hline\n",
        "cosh(x), sinh(x), tanh(x)&Гиперболические~косинус, синус~и~тангенс\\\\\n",
        "~&sinh(2)~вернет~3.627\\\\\\hline\n",
        "acosh(x), asinh(x), atanh(x)&Гиперболические~арккосинус, арксинус~и~арктангенс\\\\\n",
        "~&asinh(3.627)~вернет~2\\\\\\hline\n",
        "log(x,~base=n)&Логарифм~x~по~основанию~n\\\\\n",
        "log(x)&Для~удобства:\\\\\n",
        "log10(x)&log(x) – натуральный~логарифм\\\\\n",
        "~&log10(x) – десятичный логарифм\\\\\n",
        "~&log(10)~вернет~2.3026\\\\\n",
        "~&log10(10)~вернет~1\\\\\\hline\n",
        "exp(x)&Экспоненциальная~функция\\\\\n",
        "~&exp(2.3026)~вернет~10\\\\\\hline\n",
        "\\end{array}\n",
        "\n",
        "В основном эти функции применяются для преобразования данных. К примеру, данные с положительно асимметричным распределением перед дальнейшей обработкой обычно логарифмируют. Математические функции также используют при реализации вычислений по формулам, создании графиков (например, кривая зависимости `x` от `sin(x)`) и форматировании числовых значений перед выводом на экран.\n",
        "\n",
        "В таблице показаны примеры применения математических функций к скалярам (отдельным числам). Когда эти функции применяются к числовым векторам, матрицам или таблицам данных, они преобразуют каждое число отдельно. Например, `sqrt(c(4, 16, 25))` вернет вектор `c(2, 4, 5)`."
      ],
      "metadata": {
        "id": "ZRHf4Cxz3Fkr"
      }
    },
    {
      "cell_type": "markdown",
      "source": [
        "### Статистические функции\n",
        "\n",
        "Самые распространенные статистические функции перечислены\n",
        "в таблице ниже. Многие из них принимают дополнительные параметры, влияющие на результат. Например,\n",
        "```\n",
        "y <- mean(x)\n",
        "```\n",
        "вычислит среднее арифметическое по всем элементам объекта x, а\n",
        "```\n",
        "z <- mean(x, trim = 0.05, na.rm=TRUE)\n",
        "```\n",
        "вычислит усеченное среднее, исключив 5 % наибольших и 5 % наименьших значений в выборке, а также пропущенные значения. Используйте `help()`, чтобы узнать больше о каждой функции и ее аргументах.\n",
        "\n",
        "\\begin{array}{r|l}\n",
        "Функция&Описание\\\\\\hline\n",
        "mean(x)&Среднее~арифметическое\\\\\n",
        "~&mean(c(1,2,3,4))~вернет~2.5\\\\\\hline\n",
        "median(x)&Медиана\\\\\n",
        "~&median(c(1,2,3,4))~вернет~2.5\\\\\\hline\n",
        "sd(x)&Стандартное~отклонение\\\\\n",
        "~&sd(c(1,2,3,4))~вернет~1.29\\\\\\hline\n",
        "var(x)&Дисперсия\\\\\n",
        "~&var(c(1,2,3,4))~вернет~1.67\\\\\\hline\n",
        "mad(x)&Абсолютное~отклонение~медианы\\\\\n",
        "~&mad(c(1,2,3,4))~вернет~1.48\\\\\\hline\n",
        "quantile(x,~probs)&Квантили, где~x~–~числовой~вектор, для~которого~вычисляются~квантили,\\\\\n",
        "~&а~probs~–~числовой~вектор~с~вероятностями~в~диапазоне~[0; 1]\\\\\n",
        "~&\\# 30^й~и~84^й~процентили~x\\\\\n",
        "~&y <- quantile(x, c(.3,.84))\\\\\\hline\n",
        "range(x)&Размах~значений\\\\\n",
        "~&x <- c(1,2,3,4)\\\\\n",
        "~&range(x)~ вернет~ c(1,4).\\\\\n",
        "~&diff(range(x))~ вернет~3\\\\\\hline\n",
        "sum(x)&Сумма\\\\\n",
        "~&sum(c(1,2,3,4))~ вернет~ 10\\\\\\hline\n",
        "diff(x,~ lag=n)&Разности~между~значениями~в~выборке, взятыми~с~заданным~интервалом\\\\\n",
        "~&lag.~По~умолчанию~интервал~равен~1.\\\\\n",
        "~&x <- c(1,5,23,29)\\\\\n",
        "~&diff(x)~вернет~c(4, 18, 6)\\\\\\hline\n",
        "min(x)&Минимум\\\\\n",
        "~&min(c(1,2,3,4))~вернет~1\\\\\\hline\n",
        "max(x)&Максимум\\\\\n",
        "~&max(c(1,2,3,4))~вернет~4\\\\\\hline\n",
        "scale(x,&Значения~объекта~x,~центрированные~(center=TRUE)~или~стандартизиро-\\\\\n",
        "center=TRUE,&ванные~(center=TRUE,~scale=TRUE)~по~столбцам.~Пример~использования\\\\\n",
        "scale=TRUE)&приводится~в~листинге~ниже.\\\\\\hline\n",
        "\\end{array}\n",
        "\n"
      ],
      "metadata": {
        "id": "HfKq8XjVcUem"
      }
    },
    {
      "cell_type": "code",
      "source": [],
      "metadata": {
        "id": "T0RdkI5HLPsH"
      },
      "execution_count": 49,
      "outputs": []
    },
    {
      "cell_type": "code",
      "source": [
        "x <- c(1,2,3,4,5,6,7,8)"
      ],
      "metadata": {
        "id": "A5CZ-kYVtyGB"
      },
      "execution_count": 50,
      "outputs": []
    },
    {
      "cell_type": "code",
      "source": [
        "# Стеднее арифметическое\n",
        "mean(x)"
      ],
      "metadata": {
        "id": "iQ2iJZnmt1JK",
        "outputId": "688a851d-e9db-437e-bb38-9ef32167e63f",
        "colab": {
          "base_uri": "https://localhost:8080/",
          "height": 34
        }
      },
      "execution_count": 51,
      "outputs": [
        {
          "output_type": "display_data",
          "data": {
            "text/html": [
              "4.5"
            ],
            "text/markdown": "4.5",
            "text/latex": "4.5",
            "text/plain": [
              "[1] 4.5"
            ]
          },
          "metadata": {}
        }
      ]
    },
    {
      "cell_type": "code",
      "source": [
        "# Стандартное отклонение\n",
        "sd(x)"
      ],
      "metadata": {
        "id": "YGLnfvCSuHFh",
        "outputId": "bc15f81c-8281-46c0-df6b-4f11d67b967d",
        "colab": {
          "base_uri": "https://localhost:8080/",
          "height": 34
        }
      },
      "execution_count": 52,
      "outputs": [
        {
          "output_type": "display_data",
          "data": {
            "text/html": [
              "2.44948974278318"
            ],
            "text/markdown": "2.44948974278318",
            "text/latex": "2.44948974278318",
            "text/plain": [
              "[1] 2.4"
            ]
          },
          "metadata": {}
        }
      ]
    },
    {
      "cell_type": "code",
      "source": [
        "# Долгий способ\n",
        "n <- length(x)\n",
        "meanx <- sum(x)/n\n",
        "css <- sum((x - meanx)^2)\n",
        "sdx <- sqrt(css / (n-1))\n",
        "meanx\n",
        "sdx"
      ],
      "metadata": {
        "id": "5iykUU87ueGR",
        "outputId": "49b193c9-6edf-485f-bde8-2f38d2a7f164",
        "colab": {
          "base_uri": "https://localhost:8080/",
          "height": 52
        }
      },
      "execution_count": 53,
      "outputs": [
        {
          "output_type": "display_data",
          "data": {
            "text/html": [
              "4.5"
            ],
            "text/markdown": "4.5",
            "text/latex": "4.5",
            "text/plain": [
              "[1] 4.5"
            ]
          },
          "metadata": {}
        },
        {
          "output_type": "display_data",
          "data": {
            "text/html": [
              "2.44948974278318"
            ],
            "text/markdown": "2.44948974278318",
            "text/latex": "2.44948974278318",
            "text/plain": [
              "[1] 2.4"
            ]
          },
          "metadata": {}
        }
      ]
    },
    {
      "cell_type": "markdown",
      "source": [
        "#### Стандартизация данных\n",
        "По умолчанию функция `scale()` стандартизирует заданный столбец матрицы или таблицы данных так, чтобы его среднее арифметическое стало равно нулю, а стандартное отклонение – единице 1:\n",
        "```\n",
        "newdata <- scale(mydata)\n",
        "```\n",
        "Для стандартизации каждого столбца так, чтобы его среднее арифметическое и стандартное отклонение приобрели заданные значения, можно использовать примерно такой программный код:\n",
        "```\n",
        "newdata <- scale(mydata)*SD + M\n",
        "```\n",
        "где M – желаемое значение среднего арифметического, а SD – стандартного отклонения.\n",
        "\n",
        "Применение функции `scale()` к столбцам с нечисловыми данными вызывает сообщение об ошибке. Чтобы стандартизировать определенный столбец, а не всю матрицу или таблицу данных целиком, можно использовать такой программный код:\n",
        "```\n",
        "newdata <- transform(mydata, myvar = scale(myvar)*10+50)\n",
        "```\n",
        "Этот код преобразует вектор myvar так, что его среднее арифметическое становится равным 50, а стандартное отклонение – 10. Мы будем использовать функцию scale() для решения описанной выше задачи\n"
      ],
      "metadata": {
        "id": "bZeQ2nY9xU15"
      }
    },
    {
      "cell_type": "markdown",
      "source": [
        "### Функции распределения вероятности\n",
        "Вы можете задаться вопросом: почему функции распределения вероятности не были рассмотрены вместе со статистическими (это действительно странно, не правда ли?). Хотя функции распределения вероятности являются статистическими, они настолько своеобразны, что заслуживают отдельного обсуждения. Эти функции обычно используются для создания искусственных данных с известными параметрами и для вычисления вероятностей в пользовательских статистических функциях.\n",
        "В программе R функции распределения вероятности имеют вид:\n",
        "```\n",
        "[dpqr]distribution_abbreviation()\n",
        "```\n",
        "где первая буква в имени обозначает параметр распределения данных:\n",
        "\n",
        "d = плотность;\n",
        "\n",
        "p = функция распределения;\n",
        "\n",
        "q = функция, определяющая квантили;\n",
        "\n",
        "r = генератор случайных отклонений.\n",
        "\n",
        "Наиболее распространенные функции распределения вероятности перечислены в таблице ниже\n",
        "\\begin{array}{r|l|r|l}\n",
        "Распределение&Краткое~название&Распределение&Краткое~название\\\\\\hline\n",
        "Бета&beta&Логистическое&logis\\\\\\hline\n",
        "Биноминальное&binom&Мультиноминальное&multinom\\\\\\hline\n",
        "Коши&cauchy&Отрицательное~биноминальное&nbinom\\\\\\hline\n",
        "Хи-квадрат~(ассиметричное)&chisq&Нормальное&nirm\\\\\\hline\n",
        "Экспонециальное&exp&Пуассоновское&pois\\\\\\hline\n",
        "F&f&Знаковых~рангов~Вилкоксона&signrank\\\\\\hline\n",
        "Гамма&gamma&Т&t\\\\\\hline\n",
        "Геометрическое&geom&Равномерное&unif\\\\\\hline\n",
        "Гипергеометрическое&hyper&Вейбулла&weibull\\\\\\hline\n",
        "Логнормальное&lnom&Суммы~рангов~Вилкоксона&wilcox\\\\\\hline\n",
        "\\end{array}\n",
        "\n",
        "Чтобы понять, как они работают, рассмотрим функцию нормального распределения. Если значения среднего арифметического и стандартного отклонения не указаны явно, то по умолчанию будет воспроизводиться стандартное нормальное распределение (среднее арифметическое равно 0, стандартное отклонение равно 1). Примеры функций плотности (`dnorm`), распределения (`pnorm`), квантилей (`qnorm`) и генератора случайных отклонений (`rnorm`) приведены ниже.\n",
        "\n"
      ],
      "metadata": {
        "id": "uk6okEUpgMCZ"
      }
    },
    {
      "cell_type": "markdown",
      "source": [
        "#### Как нарисовать кривую стандартного нормального распределения в диапазоне значений [–3, 3]"
      ],
      "metadata": {
        "id": "EGNq980W42D-"
      }
    },
    {
      "cell_type": "code",
      "source": [
        "x <- seq(from = -3, to = 3, by = 0.1)\n",
        "y <- dnorm(x)\n",
        "data <- data.frame(x = x, y = y)\n",
        "ggplot(data, aes(x, y))+\n",
        "  geom_line() +\n",
        "  labs(x = \"Нормальное распределение\", y = \"Плотность\") +\n",
        "  scale_x_continuous(breaks = seq(-3, 3, 1))"
      ],
      "metadata": {
        "id": "4K-qDiRt3Ddz",
        "outputId": "4b86c1db-78cc-43d7-b464-49f7558a33b6",
        "colab": {
          "base_uri": "https://localhost:8080/",
          "height": 437
        }
      },
      "execution_count": 54,
      "outputs": [
        {
          "output_type": "display_data",
          "data": {
            "text/plain": [
              "plot without title"
            ],
            "image/png": "[encoded data removed]"
          },
          "metadata": {
            "image/png": {
              "width": 420,
              "height": 420
            }
          }
        }
      ]
    },
    {
      "cell_type": "markdown",
      "source": [
        "#### Как определить площадь под кривой стандартного нормального распределения слева от z=1.96?"
      ],
      "metadata": {
        "id": "2WLfZoly7n0C"
      }
    },
    {
      "cell_type": "code",
      "source": [
        "pnorm(1.96)"
      ],
      "metadata": {
        "id": "Fbj6Wpgk7umD",
        "outputId": "9b921b77-4097-4f31-ef24-042460ee356c",
        "colab": {
          "base_uri": "https://localhost:8080/",
          "height": 34
        }
      },
      "execution_count": 55,
      "outputs": [
        {
          "output_type": "display_data",
          "data": {
            "text/html": [
              "0.97500210485178"
            ],
            "text/markdown": "0.97500210485178",
            "text/latex": "0.97500210485178",
            "text/plain": [
              "[1] 0.98"
            ]
          },
          "metadata": {}
        }
      ]
    },
    {
      "cell_type": "markdown",
      "source": [
        "#### Как определить значение 90-го процентиля нормального распределения со средним значением 500 и стандартным отклонением 100?"
      ],
      "metadata": {
        "id": "zonzPx4A76-i"
      }
    },
    {
      "cell_type": "code",
      "source": [
        "qnorm(.9, mean=500, sd=100)"
      ],
      "metadata": {
        "id": "M6ywcU2O8L_b",
        "outputId": "83cd2151-1936-4b9c-f6bc-a249e72d8e48",
        "colab": {
          "base_uri": "https://localhost:8080/",
          "height": 34
        }
      },
      "execution_count": 56,
      "outputs": [
        {
          "output_type": "display_data",
          "data": {
            "text/html": [
              "628.15515655446"
            ],
            "text/markdown": "628.15515655446",
            "text/latex": "628.15515655446",
            "text/plain": [
              "[1] 628"
            ]
          },
          "metadata": {}
        }
      ]
    },
    {
      "cell_type": "markdown",
      "source": [
        "#### Как создать 50 случайных чисел, принадлежащих нормальному распределению со средним значением 50 и стандартным отклонением 10?"
      ],
      "metadata": {
        "id": "NjMoJotd8hmv"
      }
    },
    {
      "cell_type": "code",
      "source": [
        "rnorm(50, mean=50, sd=10)"
      ],
      "metadata": {
        "id": "U7eRKtSy8lTM",
        "outputId": "de871f14-f1fc-4d05-a3c7-5083354fdc67",
        "colab": {
          "base_uri": "https://localhost:8080/",
          "height": 104
        }
      },
      "execution_count": 57,
      "outputs": [
        {
          "output_type": "display_data",
          "data": {
            "text/html": [
              "<style>\n",
              ".list-inline {list-style: none; margin:0; padding: 0}\n",
              ".list-inline>li {display: inline-block}\n",
              ".list-inline>li:not(:last-child)::after {content: \"\\00b7\"; padding: 0 .5ex}\n",
              "</style>\n",
              "<ol class=list-inline><li>59.8477996831456</li><li>37.7526212403573</li><li>57.0972621806583</li><li>48.9078000742194</li><li>67.8260789538833</li><li>47.5655532039702</li><li>34.7289297774539</li><li>54.9183437146662</li><li>53.5450366092699</li><li>49.8237365236962</li><li>39.4344967788278</li><li>41.6108533392173</li><li>49.8737428350957</li><li>60.3811014600433</li><li>46.3554228609494</li><li>41.2855052781461</li><li>22.957969745533</li><li>54.9424983654065</li><li>54.2734032499911</li><li>63.0919086010968</li><li>64.667226423107</li><li>48.5694393370538</li><li>62.9851372621074</li><li>50.0131354755592</li><li>43.2358992431442</li><li>41.5180340311453</li><li>46.5305889959256</li><li>52.2747944302707</li><li>49.7259859638889</li><li>52.0087779058503</li><li>51.989426718228</li><li>57.1459935608369</li><li>47.2681822511015</li><li>66.3534745793173</li><li>54.3769388647964</li><li>38.0646414925092</li><li>47.2335019580082</li><li>55.1588305053512</li><li>45.8894466791366</li><li>53.4499504947257</li><li>54.3439586083114</li><li>63.0347768300503</li><li>43.4830408926692</li><li>49.8311913767201</li><li>44.3230754470641</li><li>38.7286713023672</li><li>31.5102968882097</li><li>51.9552905518189</li><li>56.0156522519559</li><li>56.3915815978993</li></ol>\n"
            ],
            "text/markdown": "1. 59.8477996831456\n2. 37.7526212403573\n3. 57.0972621806583\n4. 48.9078000742194\n5. 67.8260789538833\n6. 47.5655532039702\n7. 34.7289297774539\n8. 54.9183437146662\n9. 53.5450366092699\n10. 49.8237365236962\n11. 39.4344967788278\n12. 41.6108533392173\n13. 49.8737428350957\n14. 60.3811014600433\n15. 46.3554228609494\n16. 41.2855052781461\n17. 22.957969745533\n18. 54.9424983654065\n19. 54.2734032499911\n20. 63.0919086010968\n21. 64.667226423107\n22. 48.5694393370538\n23. 62.9851372621074\n24. 50.0131354755592\n25. 43.2358992431442\n26. 41.5180340311453\n27. 46.5305889959256\n28. 52.2747944302707\n29. 49.7259859638889\n30. 52.0087779058503\n31. 51.989426718228\n32. 57.1459935608369\n33. 47.2681822511015\n34. 66.3534745793173\n35. 54.3769388647964\n36. 38.0646414925092\n37. 47.2335019580082\n38. 55.1588305053512\n39. 45.8894466791366\n40. 53.4499504947257\n41. 54.3439586083114\n42. 63.0347768300503\n43. 43.4830408926692\n44. 49.8311913767201\n45. 44.3230754470641\n46. 38.7286713023672\n47. 31.5102968882097\n48. 51.9552905518189\n49. 56.0156522519559\n50. 56.3915815978993\n\n\n",
            "text/latex": "\\begin{enumerate*}\n\\item 59.8477996831456\n\\item 37.7526212403573\n\\item 57.0972621806583\n\\item 48.9078000742194\n\\item 67.8260789538833\n\\item 47.5655532039702\n\\item 34.7289297774539\n\\item 54.9183437146662\n\\item 53.5450366092699\n\\item 49.8237365236962\n\\item 39.4344967788278\n\\item 41.6108533392173\n\\item 49.8737428350957\n\\item 60.3811014600433\n\\item 46.3554228609494\n\\item 41.2855052781461\n\\item 22.957969745533\n\\item 54.9424983654065\n\\item 54.2734032499911\n\\item 63.0919086010968\n\\item 64.667226423107\n\\item 48.5694393370538\n\\item 62.9851372621074\n\\item 50.0131354755592\n\\item 43.2358992431442\n\\item 41.5180340311453\n\\item 46.5305889959256\n\\item 52.2747944302707\n\\item 49.7259859638889\n\\item 52.0087779058503\n\\item 51.989426718228\n\\item 57.1459935608369\n\\item 47.2681822511015\n\\item 66.3534745793173\n\\item 54.3769388647964\n\\item 38.0646414925092\n\\item 47.2335019580082\n\\item 55.1588305053512\n\\item 45.8894466791366\n\\item 53.4499504947257\n\\item 54.3439586083114\n\\item 63.0347768300503\n\\item 43.4830408926692\n\\item 49.8311913767201\n\\item 44.3230754470641\n\\item 38.7286713023672\n\\item 31.5102968882097\n\\item 51.9552905518189\n\\item 56.0156522519559\n\\item 56.3915815978993\n\\end{enumerate*}\n",
            "text/plain": [
              " [1] 60 38 57 49 68 48 35 55 54 50 39 42 50 60 46 41 23 55 54 63 65 49 63 50 43\n",
              "[26] 42 47 52 50 52 52 57 47 66 54 38 47 55 46 53 54 63 43 50 44 39 32 52 56 56"
            ]
          },
          "metadata": {}
        }
      ]
    },
    {
      "cell_type": "markdown",
      "source": [
        "#### Выбор начального значения для генератора случайных чисел\n",
        "Каждый раз, когда генерируется новая последовательность псевдослучайных чисел, используется новое начальное число, чтобы на выходе получались разные результаты. Однако, чтобы сделать результаты воспроизводимыми, можно это начальное число задать явно при помощи функции `set.seed()`, как показано ниже. Здесь используется функция `runif()`, генерирующая псевдослучайные числа, принадлежащие однородному распределению в интервале от 0 до 1."
      ],
      "metadata": {
        "id": "ncGkb2gpODVe"
      }
    },
    {
      "cell_type": "code",
      "source": [
        "runif(5)"
      ],
      "metadata": {
        "id": "mP6hZ01iOcOw",
        "outputId": "f068af89-f39c-47d7-d4b2-f3a9ab258151",
        "colab": {
          "base_uri": "https://localhost:8080/",
          "height": 34
        }
      },
      "execution_count": 58,
      "outputs": [
        {
          "output_type": "display_data",
          "data": {
            "text/html": [
              "<style>\n",
              ".list-inline {list-style: none; margin:0; padding: 0}\n",
              ".list-inline>li {display: inline-block}\n",
              ".list-inline>li:not(:last-child)::after {content: \"\\00b7\"; padding: 0 .5ex}\n",
              "</style>\n",
              "<ol class=list-inline><li>0.082265533041209</li><li>0.423766233725473</li><li>0.129306000424549</li><li>0.0305686246138066</li><li>0.126902880612761</li></ol>\n"
            ],
            "text/markdown": "1. 0.082265533041209\n2. 0.423766233725473\n3. 0.129306000424549\n4. 0.0305686246138066\n5. 0.126902880612761\n\n\n",
            "text/latex": "\\begin{enumerate*}\n\\item 0.082265533041209\n\\item 0.423766233725473\n\\item 0.129306000424549\n\\item 0.0305686246138066\n\\item 0.126902880612761\n\\end{enumerate*}\n",
            "text/plain": [
              "[1] 0.082 0.424 0.129 0.031 0.127"
            ]
          },
          "metadata": {}
        }
      ]
    },
    {
      "cell_type": "code",
      "source": [
        "runif(5)"
      ],
      "metadata": {
        "id": "hTB0CSyTOgZd",
        "outputId": "9461030a-1891-47d9-c3df-f5d87ddd53b1",
        "colab": {
          "base_uri": "https://localhost:8080/",
          "height": 34
        }
      },
      "execution_count": 59,
      "outputs": [
        {
          "output_type": "display_data",
          "data": {
            "text/html": [
              "<style>\n",
              ".list-inline {list-style: none; margin:0; padding: 0}\n",
              ".list-inline>li {display: inline-block}\n",
              ".list-inline>li:not(:last-child)::after {content: \"\\00b7\"; padding: 0 .5ex}\n",
              "</style>\n",
              "<ol class=list-inline><li>0.357248281361535</li><li>0.245515004731715</li><li>0.516365171410143</li><li>0.567572716856375</li><li>0.446571097010747</li></ol>\n"
            ],
            "text/markdown": "1. 0.357248281361535\n2. 0.245515004731715\n3. 0.516365171410143\n4. 0.567572716856375\n5. 0.446571097010747\n\n\n",
            "text/latex": "\\begin{enumerate*}\n\\item 0.357248281361535\n\\item 0.245515004731715\n\\item 0.516365171410143\n\\item 0.567572716856375\n\\item 0.446571097010747\n\\end{enumerate*}\n",
            "text/plain": [
              "[1] 0.36 0.25 0.52 0.57 0.45"
            ]
          },
          "metadata": {}
        }
      ]
    },
    {
      "cell_type": "code",
      "source": [
        "set.seed(1234)\n",
        "runif(5)"
      ],
      "metadata": {
        "id": "UmnEWzsXOp69",
        "outputId": "f736e55d-3a10-4d53-8aef-c80690c578ac",
        "colab": {
          "base_uri": "https://localhost:8080/",
          "height": 34
        }
      },
      "execution_count": 60,
      "outputs": [
        {
          "output_type": "display_data",
          "data": {
            "text/html": [
              "<style>\n",
              ".list-inline {list-style: none; margin:0; padding: 0}\n",
              ".list-inline>li {display: inline-block}\n",
              ".list-inline>li:not(:last-child)::after {content: \"\\00b7\"; padding: 0 .5ex}\n",
              "</style>\n",
              "<ol class=list-inline><li>0.113703411305323</li><li>0.622299404814839</li><li>0.609274732880294</li><li>0.623379441676661</li><li>0.860915383556858</li></ol>\n"
            ],
            "text/markdown": "1. 0.113703411305323\n2. 0.622299404814839\n3. 0.609274732880294\n4. 0.623379441676661\n5. 0.860915383556858\n\n\n",
            "text/latex": "\\begin{enumerate*}\n\\item 0.113703411305323\n\\item 0.622299404814839\n\\item 0.609274732880294\n\\item 0.623379441676661\n\\item 0.860915383556858\n\\end{enumerate*}\n",
            "text/plain": [
              "[1] 0.11 0.62 0.61 0.62 0.86"
            ]
          },
          "metadata": {}
        }
      ]
    },
    {
      "cell_type": "code",
      "source": [
        "set.seed(1234)\n",
        "runif(5)"
      ],
      "metadata": {
        "id": "RwVVmy4kOvqt",
        "outputId": "3ce2aeed-9088-417e-f59b-6c44ab0bf286",
        "colab": {
          "base_uri": "https://localhost:8080/",
          "height": 34
        }
      },
      "execution_count": 61,
      "outputs": [
        {
          "output_type": "display_data",
          "data": {
            "text/html": [
              "<style>\n",
              ".list-inline {list-style: none; margin:0; padding: 0}\n",
              ".list-inline>li {display: inline-block}\n",
              ".list-inline>li:not(:last-child)::after {content: \"\\00b7\"; padding: 0 .5ex}\n",
              "</style>\n",
              "<ol class=list-inline><li>0.113703411305323</li><li>0.622299404814839</li><li>0.609274732880294</li><li>0.623379441676661</li><li>0.860915383556858</li></ol>\n"
            ],
            "text/markdown": "1. 0.113703411305323\n2. 0.622299404814839\n3. 0.609274732880294\n4. 0.623379441676661\n5. 0.860915383556858\n\n\n",
            "text/latex": "\\begin{enumerate*}\n\\item 0.113703411305323\n\\item 0.622299404814839\n\\item 0.609274732880294\n\\item 0.623379441676661\n\\item 0.860915383556858\n\\end{enumerate*}\n",
            "text/plain": [
              "[1] 0.11 0.62 0.61 0.62 0.86"
            ]
          },
          "metadata": {}
        }
      ]
    },
    {
      "cell_type": "markdown",
      "source": [
        "#### Генерирование многомерных данных с нормальным распределением\n",
        "\n",
        "В исследованиях с использованием искусственных данных и методов Монте-Карло часто бывает необходимо генерировать многомерные данные с нормальным распределением, соответствующие заданным вектору средних значений и ковариационной матрице. Функция `draw.d.variate.normal()` из пакета MultiRNG позволяет легко справиться с этой задачей. Эта функция имеет следующий синтаксис:\n",
        "```\n",
        "draw.d.variate.normal(n, nvar, mean, sigma)\n",
        "```\n",
        "где `n` – требуемый объем выборки, `nvar` – количество переменных, `mean` – вектор средних значений, а `sigma` – ковариационная (или корреляционная) матрица. Код ниже создаст выборку из 500 наблюдений с многомерным нормальным распределением трех переменных со следующими параметрами:\n",
        "\\begin{array}{l|r|r|r}\n",
        "\\hline\n",
        "Вектор~средних~значений&230.7&146.7&3.6\\\\\\hline\n",
        "Ковариационная~матрица&15360.8&6721.2&-47.1\\\\\n",
        "~&6721.2&4700.9&-16.5\\\\\n",
        "~&-47.1&-16.5&0.3\\\\\\hline\n",
        "\\end{array}\n"
      ],
      "metadata": {
        "id": "UMEmkP_-O3pX"
      }
    },
    {
      "cell_type": "code",
      "source": [
        "install.packages(\"MultiRNG\")\n",
        "library(MultiRNG)\n",
        "options(digits=3)\n",
        "# Задается случайное начальное число\n",
        "set.seed(1234)\n",
        "# Задаются вектор средних значений и ковариационная матрица\n",
        "mean <- c(230.7, 146.7, 3.6)\n",
        "sigma <- matrix(c(15360.8, 6721.2, -47.1, 6721.2, 4700.9, -16.5, -47.1, -16.5, 0.3), nrow=3, ncol=3)\n",
        "# Генерирование данных\n",
        "mydata <- draw.d.variate.normal(500, 3, mean, sigma)\n",
        "mydata <- as.data.frame(mydata)\n",
        "names(mydata) <- c(\"y\",\"x1\",\"x2\")\n",
        "# Вывод результатов\n",
        "dim(mydata)\n",
        "head(mydata, n=10)"
      ],
      "metadata": {
        "id": "ARaapSVvVm7c",
        "outputId": "d45a1821-efb4-4253-c1c6-822f12196a83",
        "colab": {
          "base_uri": "https://localhost:8080/",
          "height": 481
        }
      },
      "execution_count": 62,
      "outputs": [
        {
          "output_type": "stream",
          "name": "stderr",
          "text": [
            "Installing package into ‘/usr/local/lib/R/site-library’\n",
            "(as ‘lib’ is unspecified)\n",
            "\n"
          ]
        },
        {
          "output_type": "display_data",
          "data": {
            "text/html": [
              "<style>\n",
              ".list-inline {list-style: none; margin:0; padding: 0}\n",
              ".list-inline>li {display: inline-block}\n",
              ".list-inline>li:not(:last-child)::after {content: \"\\00b7\"; padding: 0 .5ex}\n",
              "</style>\n",
              "<ol class=list-inline><li>500</li><li>3</li></ol>\n"
            ],
            "text/markdown": "1. 500\n2. 3\n\n\n",
            "text/latex": "\\begin{enumerate*}\n\\item 500\n\\item 3\n\\end{enumerate*}\n",
            "text/plain": [
              "[1] 500   3"
            ]
          },
          "metadata": {}
        },
        {
          "output_type": "display_data",
          "data": {
            "text/html": [
              "<table class=\"dataframe\">\n",
              "<caption>A data.frame: 10 × 3</caption>\n",
              "<thead>\n",
              "\t<tr><th></th><th scope=col>y</th><th scope=col>x1</th><th scope=col>x2</th></tr>\n",
              "\t<tr><th></th><th scope=col>&lt;dbl&gt;</th><th scope=col>&lt;dbl&gt;</th><th scope=col>&lt;dbl&gt;</th></tr>\n",
              "</thead>\n",
              "<tbody>\n",
              "\t<tr><th scope=row>1</th><td> 81.1</td><td>122.6</td><td>3.69</td></tr>\n",
              "\t<tr><th scope=row>2</th><td>265.1</td><td>110.4</td><td>3.49</td></tr>\n",
              "\t<tr><th scope=row>3</th><td>365.1</td><td>235.3</td><td>2.67</td></tr>\n",
              "\t<tr><th scope=row>4</th><td>-60.0</td><td> 14.9</td><td>4.72</td></tr>\n",
              "\t<tr><th scope=row>5</th><td>283.9</td><td>244.8</td><td>3.88</td></tr>\n",
              "\t<tr><th scope=row>6</th><td>293.4</td><td>163.9</td><td>2.66</td></tr>\n",
              "\t<tr><th scope=row>7</th><td>159.5</td><td> 51.5</td><td>4.03</td></tr>\n",
              "\t<tr><th scope=row>8</th><td>163.0</td><td>137.7</td><td>3.77</td></tr>\n",
              "\t<tr><th scope=row>9</th><td>160.7</td><td>131.0</td><td>3.59</td></tr>\n",
              "\t<tr><th scope=row>10</th><td>120.4</td><td> 97.7</td><td>4.11</td></tr>\n",
              "</tbody>\n",
              "</table>\n"
            ],
            "text/markdown": "\nA data.frame: 10 × 3\n\n| <!--/--> | y &lt;dbl&gt; | x1 &lt;dbl&gt; | x2 &lt;dbl&gt; |\n|---|---|---|---|\n| 1 |  81.1 | 122.6 | 3.69 |\n| 2 | 265.1 | 110.4 | 3.49 |\n| 3 | 365.1 | 235.3 | 2.67 |\n| 4 | -60.0 |  14.9 | 4.72 |\n| 5 | 283.9 | 244.8 | 3.88 |\n| 6 | 293.4 | 163.9 | 2.66 |\n| 7 | 159.5 |  51.5 | 4.03 |\n| 8 | 163.0 | 137.7 | 3.77 |\n| 9 | 160.7 | 131.0 | 3.59 |\n| 10 | 120.4 |  97.7 | 4.11 |\n\n",
            "text/latex": "A data.frame: 10 × 3\n\\begin{tabular}{r|lll}\n  & y & x1 & x2\\\\\n  & <dbl> & <dbl> & <dbl>\\\\\n\\hline\n\t1 &  81.1 & 122.6 & 3.69\\\\\n\t2 & 265.1 & 110.4 & 3.49\\\\\n\t3 & 365.1 & 235.3 & 2.67\\\\\n\t4 & -60.0 &  14.9 & 4.72\\\\\n\t5 & 283.9 & 244.8 & 3.88\\\\\n\t6 & 293.4 & 163.9 & 2.66\\\\\n\t7 & 159.5 &  51.5 & 4.03\\\\\n\t8 & 163.0 & 137.7 & 3.77\\\\\n\t9 & 160.7 & 131.0 & 3.59\\\\\n\t10 & 120.4 &  97.7 & 4.11\\\\\n\\end{tabular}\n",
            "text/plain": [
              "   y     x1    x2  \n",
              "1   81.1 122.6 3.69\n",
              "2  265.1 110.4 3.49\n",
              "3  365.1 235.3 2.67\n",
              "4  -60.0  14.9 4.72\n",
              "5  283.9 244.8 3.88\n",
              "6  293.4 163.9 2.66\n",
              "7  159.5  51.5 4.03\n",
              "8  163.0 137.7 3.77\n",
              "9  160.7 131.0 3.59\n",
              "10 120.4  97.7 4.11"
            ]
          },
          "metadata": {}
        }
      ]
    },
    {
      "cell_type": "code",
      "source": [
        "sigma"
      ],
      "metadata": {
        "id": "WgAb1489XLmf",
        "outputId": "88f552c7-8cfe-43cc-a235-014a9bcc9f71",
        "colab": {
          "base_uri": "https://localhost:8080/",
          "height": 128
        }
      },
      "execution_count": 63,
      "outputs": [
        {
          "output_type": "display_data",
          "data": {
            "text/html": [
              "<table class=\"dataframe\">\n",
              "<caption>A matrix: 3 × 3 of type dbl</caption>\n",
              "<tbody>\n",
              "\t<tr><td>15360.8</td><td>6721.2</td><td>-47.1</td></tr>\n",
              "\t<tr><td> 6721.2</td><td>4700.9</td><td>-16.5</td></tr>\n",
              "\t<tr><td>  -47.1</td><td> -16.5</td><td>  0.3</td></tr>\n",
              "</tbody>\n",
              "</table>\n"
            ],
            "text/markdown": "\nA matrix: 3 × 3 of type dbl\n\n| 15360.8 | 6721.2 | -47.1 |\n|  6721.2 | 4700.9 | -16.5 |\n|   -47.1 |  -16.5 |   0.3 |\n\n",
            "text/latex": "A matrix: 3 × 3 of type dbl\n\\begin{tabular}{lll}\n\t 15360.8 & 6721.2 & -47.1\\\\\n\t  6721.2 & 4700.9 & -16.5\\\\\n\t   -47.1 &  -16.5 &   0.3\\\\\n\\end{tabular}\n",
            "text/plain": [
              "     [,1]    [,2]   [,3] \n",
              "[1,] 15360.8 6721.2 -47.1\n",
              "[2,]  6721.2 4700.9 -16.5\n",
              "[3,]   -47.1  -16.5   0.3"
            ]
          },
          "metadata": {}
        }
      ]
    },
    {
      "cell_type": "markdown",
      "source": [
        "Код в листинге 5.3 задает начальное число для генератора случайных чисел, чтобы потом можно было воспроизвести полученный результат. Определяет вектор средних значений и ковариационную матрицу и генерирует 500 псевдослучайных чисел. Для удобства результаты преобразованы из матрицы в таблицу данных,а переменным присвоены имена. В заключение код проверяет, действительно ли было сгенерировано 500 наблюдений по трем переменным, и выводит первые 10 наблюдений. Учтите, что поскольку корреляционная матрица также является ковариационной матрицей, вы можете напрямую задать структуру взаимосвязей (корреляций).\n",
        "\n",
        "Пакет `MultiRNG` позволяет генерировать случайные данные из 10 многомерных распределений, включая многомерные версии распределений T, равномерного, Бернулли, гипергеометрического, мультиномиального, Лапласа, Уишарта. С помощью функций распределения вероятности можно генерировать синтетические (искусственные) данные, подчиняющиеся распределениям с известными параметрами. Число статистических методов, которые используют искусственные данные, в настоящее время лавинообразно растет, и вы увидите несколько примеров их применения в следующих главах."
      ],
      "metadata": {
        "id": "7oBRf5shZdD0"
      }
    },
    {
      "cell_type": "markdown",
      "source": [
        "### Текстовые функции\n",
        "В то время как математические и статистические функции оперируют числовыми данными, текстовые функции извлекают информацию из текстовых данных или изменяют формат текстовых данных для вывода на экран и составления отчетов. Например, вам может понадобиться объединить имя и фамилию человека в одной ячейке таблицы и гарантировать, что они начинаются с прописных букв. Некоторые из наиболее часто используемых текстовых функций перечислены в таблице ниже.\n",
        "\n",
        "\\begin{array}{l|l}\n",
        "\\hline\n",
        "nchar(x)&Подсчитывает~число~элементов~в~x.\\\\\n",
        "~&x <- c(\"ab\", \"cde\", \"fghij\")\\\\\n",
        "~&nchar(x[3]) вернет 5\\\\\\hline\n",
        "substr(x, start, stop)&Извлекает~или~замещает~часть~текстового~вектора.\\\\\n",
        "~&x <- \"abcdef\"\\\\\n",
        "~&substr(x, 2, 4)~вернет~\"bcd\".\\\\\n",
        "~&substr(x, 2, 4) <- \"22222\"\\\\\n",
        "~&(x~теперь~содержит~текст~\"a222ef\")\\\\\\hline\n",
        "grep(pattern, x,&Ищет~совпадения~с~шаблоном~pattern~в~x.~ Если~fixed=FALSE,~то\\\\\n",
        "ignore.case=FALSE, fixed=FALSE)&pattern~интерпретируется~ как~регулярное~выражение.~Если\\\\\n",
        "~&fixed=TRUE,~то~pattern~интерпретируется~как~простая~текст-\\\\\n",
        "~&овая~строка.~Возвращает~индексы~найденных совпадений.\\\\\n",
        "~&grep(\"A\",~c(\"b\",\"A\",\"c\"),~fixed=TRUE)~вернет~2\\\\\\hline\n",
        "sub(pattern, replacement, x,&Ищет~совпадения~с~шаблоном~pattern~в~x~и~замещает~най-\\\\\n",
        "ignore.case=FALSE, fixed=FALSE)&\n",
        "денное~совпадение~текстом~replacement.~Если~fixed=FALSE,~то\\\\\n",
        "~&pattern~интерпретируется~как~регулярное выражение.~Если\\\\\n",
        "~&fixed=TRUE,~то~pattern~интерпретируется~как~простая~тексто-\\\\\n",
        "~&вая~строка.\\\\\n",
        "~&sub(\"\\~\\s\",\".\",\"Hello There\")~вернет~Hello.There.~Обратите\\\\\n",
        "~&внимание,~что \"\\s\"~–~это~регулярное~выражение,~совпада-\\\\\n",
        "~&ющее~с~пробелами;~здесь~используется~\"\\~\\s\",~потому~что\\\\\n",
        "~&обратный~слеш~\"\\\"~в~R~–~это~экранирующий~символ\\\\\\hline\n",
        "strsplit(x, split, fixed=FALSE)&Разбивает~текстовый~вектор~x~на~элементы~по~значению~split.\\\\\n",
        "~&Если~fixed=FALSE,~то~split~интерпретируется~как~регулярное\\\\\n",
        "~&выражение.~Если~fixed=TRUE,~то~split~интерпретируется~как\\\\\n",
        "~&простая~текстовая~строка.\\\\\n",
        "~&y~<-~strsplit(\"abc\", \"\")~вернет~один~компонент~–~список\\\\\n",
        "~&c~тремя~элементами:~\"a\"~\"b\"~\"c\".\\\\\n",
        "~&unlist(y)[2]~и~sapply(y,~\"[\", 2)~вернут~\"b\"\\\\\\hline\n",
        "paste(..., sep=\"\")&Объединяет~строки,~разделяя~их~заданной~строкой~sep.\\\\\n",
        "~&paste(\"x\",~1:3,~sep=\"\")~вернет~c(\"x1\",~\"x2\",~\"x3\").\\\\\n",
        "~&paste(\"x\",~1:3,~sep=\"M\")~вернет~c(\"xM1\",~\"xM2\",~\"xM3\").\\\\\n",
        "~&paste(\"Today~is\",~date())~вернет~Today~is~Thu~Jul~22~10:36:14~2021\\\\\\hline\n",
        "toupper(x)&Преобразует~строку~x~в~верхний~регистр.\\\\\n",
        "~&toupper(\"abc\")~вернет~\"ABC\"\\\\\\hline\n",
        "tolower(x)&Преобразует~строку~x~в~нижний~регистр.\\\\\n",
        "~&tolower(\"ABC\")~вернет~\"abc\"\\\\\\hline\n",
        "\\end{array}\n",
        "\n",
        "Обратите внимание, что функции `grep()`, `sub()` и `strsplit()` способны осуществлять поиск текстовых строк `(fixed=TRUE)` или регулярных выражений (`fixed=FALSE, по умолчанию`). Регулярные выражения имеют простой и последовательный синтаксис описания искомой комбинации символов. Например, регулярное выражение\n",
        "```\n",
        "^[hc]?at\n",
        "```\n",
        "соответствует всем строкам, которые начинаются с 0 или с одной буквы h или c, за которой следует at. Таким образом, это выражение позволит отыскать такие слова, как hat, cat и at, но не bat. Чтобы узнать больше, поищите в Википедии статьи по теме «регулярные выражения». Также можно порекомендовать статью «Regular Expression Tutorial» (https://ryanstutorials.net/regularexpressions-tutorial/) и интерактивное руководство «RegexOne» (https://regexone.com/).\n",
        "\n"
      ],
      "metadata": {
        "id": "r8mhEBsVdooL"
      }
    },
    {
      "cell_type": "markdown",
      "source": [
        "### Другие полезные функции\n",
        "Функции, перечисленные в таблице ниже, тоже могут пригодиться для управления данными и их преобразования, однако их нельзя уверенно отнести ни к одной из названных выше категорий.\n",
        "\\begin{array}{l|l}\n",
        "\\hline\n",
        "Функция&Описание\\\\\\hline\n",
        "length(x)&Число~элементов~в~объекте~x.\\\\\n",
        "~&x~<-~c(2,~5,~6,~9)\\\\\n",
        "~&length(x)~вернет~4\\\\\\hline\n",
        "seq(from,~to,~by)&Создает~последовательность~элементов.\\\\\n",
        "~&indices~<-~seq(1,~10,~2)\\\\\n",
        "~&в~indices~будет~помещен~вектор~c(1,~3,~5,~7,~9)\\\\\\hline\n",
        "rep(x,~n)&Повторяет~x~n~раз.\\\\\n",
        "~&y~<-~rep(1:3,~2)\\\\\n",
        "~&в~y~будет~помещен~вектор~c(1,~2,~3,~1,~2,~3)\\\\\\hline\n",
        "cut(x,~n)&Преобразует~непрерывную~переменную~x~в~фактор~с~n~уровнями.~Для~создания\\\\\n",
        "~&упорядоченного~фактора~можно~добавить~параметр~ordered\\_result~=~TRUE\\\\\\hline\n",
        "cat(...~,~file~=~&Объединяет~и~выводит~объекты~в~...~на~экран~или~в~файл~(если~указано~его~имя).\\\\\n",
        "\"myfile\",~&name~<-~c(\"Jane\")\\\\\n",
        "append~=~FALSE)&cat(\"Hello\"~,~name,~\"\\n\")\\\\\\hline\n",
        "\\end{array}\n",
        "\n",
        "Последний пример в таблице показывает, как используется символ экранирования при выводе результатов на экран: \\n добавляет перевод строки, \\t – символ табуляции, \\b – забой (возврат к предыдущему символу) и т. д. (введите `?Quotes` для получения дополнительной информации). Например, следующий код:"
      ],
      "metadata": {
        "id": "-gvhvHYRLYOb"
      }
    },
    {
      "cell_type": "code",
      "source": [
        "name <- \"Максим\"\n",
        "cat( \"Привет,\", name, \"\\b.\\n\", \"Разве это не\", \"\\t\", \"ЗДОРОВО?\\n\")"
      ],
      "metadata": {
        "id": "_-DRBvMJplIc",
        "outputId": "bd8db81c-0c45-4bae-a212-f4c16ddcd68c",
        "colab": {
          "base_uri": "https://localhost:8080/"
        }
      },
      "execution_count": 64,
      "outputs": [
        {
          "output_type": "stream",
          "name": "stdout",
          "text": [
            "Привет, Максим \b.\n",
            " Разве это не \t ЗДОРОВО?\n"
          ]
        }
      ]
    },
    {
      "cell_type": "markdown",
      "source": [
        "Обратите внимание, что вторая строка смещена на один символ вправо. Когда функция `cat()` объединяет объекты для вывода, она разделяет их пробелами. Вот почему был добавлен символ забоя (\\b) перед точкой. Иначе получилось бы \"Hello Bob\".\n",
        "\n",
        "Способы применения изученных на данный момент функций к числам, строкам и векторам интуитивно понятны и просты, но как применять их к матрицам и таблицам данных? Это и станет темой следующего раздела."
      ],
      "metadata": {
        "id": "3gP8iGfNvchS"
      }
    },
    {
      "cell_type": "markdown",
      "source": [
        "### Применение функций к матрицам и таблицам данных\n",
        "Одно из интересных свойств функций R – возможность применять их к объектам разных типов (скалярам, векторам, матрицам, массивам и таблицам данных). Смотри следующий код."
      ],
      "metadata": {
        "id": "Icr5XXLKv5MK"
      }
    },
    {
      "cell_type": "code",
      "source": [
        "a <- 5\n",
        "sqrt(a)\n"
      ],
      "metadata": {
        "id": "CwDU7AZbwNOe",
        "outputId": "798e18da-91af-4a9f-8d42-90b834f3cfcb",
        "colab": {
          "base_uri": "https://localhost:8080/",
          "height": 34
        }
      },
      "execution_count": 65,
      "outputs": [
        {
          "output_type": "display_data",
          "data": {
            "text/html": [
              "2.23606797749979"
            ],
            "text/markdown": "2.23606797749979",
            "text/latex": "2.23606797749979",
            "text/plain": [
              "[1] 2.24"
            ]
          },
          "metadata": {}
        }
      ]
    },
    {
      "cell_type": "code",
      "source": [
        "b <- c(1.243, 5.654, 2.99)\n",
        "round(b)"
      ],
      "metadata": {
        "id": "SWMLVx6iw8xU",
        "outputId": "309a0fa6-51da-4cc3-844f-c00cecbed2ff",
        "colab": {
          "base_uri": "https://localhost:8080/",
          "height": 34
        }
      },
      "execution_count": 66,
      "outputs": [
        {
          "output_type": "display_data",
          "data": {
            "text/html": [
              "<style>\n",
              ".list-inline {list-style: none; margin:0; padding: 0}\n",
              ".list-inline>li {display: inline-block}\n",
              ".list-inline>li:not(:last-child)::after {content: \"\\00b7\"; padding: 0 .5ex}\n",
              "</style>\n",
              "<ol class=list-inline><li>1</li><li>6</li><li>3</li></ol>\n"
            ],
            "text/markdown": "1. 1\n2. 6\n3. 3\n\n\n",
            "text/latex": "\\begin{enumerate*}\n\\item 1\n\\item 6\n\\item 3\n\\end{enumerate*}\n",
            "text/plain": [
              "[1] 1 6 3"
            ]
          },
          "metadata": {}
        }
      ]
    },
    {
      "cell_type": "code",
      "source": [
        "c <- matrix(runif(12), nrow=3)\n",
        "c"
      ],
      "metadata": {
        "id": "b2kTO_7BxVB0",
        "outputId": "a998b527-e45b-4b36-cb42-e29411453cc0",
        "colab": {
          "base_uri": "https://localhost:8080/",
          "height": 128
        }
      },
      "execution_count": 67,
      "outputs": [
        {
          "output_type": "display_data",
          "data": {
            "text/html": [
              "<table class=\"dataframe\">\n",
              "<caption>A matrix: 3 × 4 of type dbl</caption>\n",
              "<tbody>\n",
              "\t<tr><td>0.9636</td><td>0.216</td><td>0.289</td><td>0.913</td></tr>\n",
              "\t<tr><td>0.2068</td><td>0.240</td><td>0.804</td><td>0.353</td></tr>\n",
              "\t<tr><td>0.0862</td><td>0.197</td><td>0.378</td><td>0.931</td></tr>\n",
              "</tbody>\n",
              "</table>\n"
            ],
            "text/markdown": "\nA matrix: 3 × 4 of type dbl\n\n| 0.9636 | 0.216 | 0.289 | 0.913 |\n| 0.2068 | 0.240 | 0.804 | 0.353 |\n| 0.0862 | 0.197 | 0.378 | 0.931 |\n\n",
            "text/latex": "A matrix: 3 × 4 of type dbl\n\\begin{tabular}{llll}\n\t 0.9636 & 0.216 & 0.289 & 0.913\\\\\n\t 0.2068 & 0.240 & 0.804 & 0.353\\\\\n\t 0.0862 & 0.197 & 0.378 & 0.931\\\\\n\\end{tabular}\n",
            "text/plain": [
              "     [,1]   [,2]  [,3]  [,4] \n",
              "[1,] 0.9636 0.216 0.289 0.913\n",
              "[2,] 0.2068 0.240 0.804 0.353\n",
              "[3,] 0.0862 0.197 0.378 0.931"
            ]
          },
          "metadata": {}
        }
      ]
    },
    {
      "cell_type": "code",
      "source": [
        "log(c)"
      ],
      "metadata": {
        "id": "zavxQWmcxdeL",
        "outputId": "8559df75-637e-45e4-8c70-bca04340bf76",
        "colab": {
          "base_uri": "https://localhost:8080/",
          "height": 128
        }
      },
      "execution_count": 68,
      "outputs": [
        {
          "output_type": "display_data",
          "data": {
            "text/html": [
              "<table class=\"dataframe\">\n",
              "<caption>A matrix: 3 × 4 of type dbl</caption>\n",
              "<tbody>\n",
              "\t<tr><td>-0.0371</td><td>-1.53</td><td>-1.241</td><td>-0.0912</td></tr>\n",
              "\t<tr><td>-1.5762</td><td>-1.43</td><td>-0.218</td><td>-1.0402</td></tr>\n",
              "\t<tr><td>-2.4511</td><td>-1.62</td><td>-0.972</td><td>-0.0710</td></tr>\n",
              "</tbody>\n",
              "</table>\n"
            ],
            "text/markdown": "\nA matrix: 3 × 4 of type dbl\n\n| -0.0371 | -1.53 | -1.241 | -0.0912 |\n| -1.5762 | -1.43 | -0.218 | -1.0402 |\n| -2.4511 | -1.62 | -0.972 | -0.0710 |\n\n",
            "text/latex": "A matrix: 3 × 4 of type dbl\n\\begin{tabular}{llll}\n\t -0.0371 & -1.53 & -1.241 & -0.0912\\\\\n\t -1.5762 & -1.43 & -0.218 & -1.0402\\\\\n\t -2.4511 & -1.62 & -0.972 & -0.0710\\\\\n\\end{tabular}\n",
            "text/plain": [
              "     [,1]    [,2]  [,3]   [,4]   \n",
              "[1,] -0.0371 -1.53 -1.241 -0.0912\n",
              "[2,] -1.5762 -1.43 -0.218 -1.0402\n",
              "[3,] -2.4511 -1.62 -0.972 -0.0710"
            ]
          },
          "metadata": {}
        }
      ]
    },
    {
      "cell_type": "markdown",
      "source": [
        "Обратите внимание, что в примерах выше среднее значение для матрицы c равно скаляру (0.444). Функция `mean()` вычисляет среднее арифметическое для всех 12 элементов матрицы. А что, если понадобится вычислить средние значения для каждой из трех строк или каждого из четырех столбцов?\n",
        "\n",
        "В R есть функция `apply()`, которая позволяет применить любую функцию к любой части матрицы, массива или таблицы данных. Она имеет следующий синтаксис:\n",
        "```\n",
        "apply(x, MARGIN, FUN, ...)\n",
        "```\n",
        "где x – это объект, MARGIN – индекс измерения, к которому применяется функция (столбцы или строки), FUN – функция и ... – другие параметры. Для матрицы или таблицы данных MARGIN=1 обозначает строки, а MARGIN=2 – столбцы. Взгляните на примеры:"
      ],
      "metadata": {
        "id": "205kE6azNjT9"
      }
    },
    {
      "cell_type": "code",
      "source": [
        "# Генерирует данные\n",
        "mydata <- matrix(rnorm(30), nrow=6)\n",
        "mydata\n",
        "# Вычисляются средние значения по строкам\n",
        "apply(mydata, 1, mean)\n",
        "# Вычисляются средние значения по столбцам\n",
        "apply(mydata, 2, mean)\n",
        "# Вычисляются усеченные средние значения по столбцам\n",
        "apply(mydata, 2, mean, trim=0.2)"
      ],
      "metadata": {
        "id": "V6BISiSmOJld",
        "outputId": "0794d6f9-9d8b-475e-c266-623148e3faa2",
        "colab": {
          "base_uri": "https://localhost:8080/",
          "height": 275
        }
      },
      "execution_count": 69,
      "outputs": [
        {
          "output_type": "display_data",
          "data": {
            "text/html": [
              "<table class=\"dataframe\">\n",
              "<caption>A matrix: 6 × 5 of type dbl</caption>\n",
              "<tbody>\n",
              "\t<tr><td> 0.459</td><td> 1.203</td><td> 1.234</td><td> 0.591</td><td>-0.281</td></tr>\n",
              "\t<tr><td>-1.261</td><td> 0.769</td><td>-1.891</td><td>-0.435</td><td> 0.812</td></tr>\n",
              "\t<tr><td>-0.527</td><td> 0.238</td><td>-0.223</td><td>-0.251</td><td>-0.208</td></tr>\n",
              "\t<tr><td>-0.557</td><td>-1.415</td><td> 0.768</td><td>-0.926</td><td> 1.451</td></tr>\n",
              "\t<tr><td>-0.374</td><td> 2.934</td><td> 0.388</td><td> 1.087</td><td> 0.841</td></tr>\n",
              "\t<tr><td>-0.604</td><td> 0.935</td><td> 0.609</td><td>-1.944</td><td>-0.866</td></tr>\n",
              "</tbody>\n",
              "</table>\n"
            ],
            "text/markdown": "\nA matrix: 6 × 5 of type dbl\n\n|  0.459 |  1.203 |  1.234 |  0.591 | -0.281 |\n| -1.261 |  0.769 | -1.891 | -0.435 |  0.812 |\n| -0.527 |  0.238 | -0.223 | -0.251 | -0.208 |\n| -0.557 | -1.415 |  0.768 | -0.926 |  1.451 |\n| -0.374 |  2.934 |  0.388 |  1.087 |  0.841 |\n| -0.604 |  0.935 |  0.609 | -1.944 | -0.866 |\n\n",
            "text/latex": "A matrix: 6 × 5 of type dbl\n\\begin{tabular}{lllll}\n\t  0.459 &  1.203 &  1.234 &  0.591 & -0.281\\\\\n\t -1.261 &  0.769 & -1.891 & -0.435 &  0.812\\\\\n\t -0.527 &  0.238 & -0.223 & -0.251 & -0.208\\\\\n\t -0.557 & -1.415 &  0.768 & -0.926 &  1.451\\\\\n\t -0.374 &  2.934 &  0.388 &  1.087 &  0.841\\\\\n\t -0.604 &  0.935 &  0.609 & -1.944 & -0.866\\\\\n\\end{tabular}\n",
            "text/plain": [
              "     [,1]   [,2]   [,3]   [,4]   [,5]  \n",
              "[1,]  0.459  1.203  1.234  0.591 -0.281\n",
              "[2,] -1.261  0.769 -1.891 -0.435  0.812\n",
              "[3,] -0.527  0.238 -0.223 -0.251 -0.208\n",
              "[4,] -0.557 -1.415  0.768 -0.926  1.451\n",
              "[5,] -0.374  2.934  0.388  1.087  0.841\n",
              "[6,] -0.604  0.935  0.609 -1.944 -0.866"
            ]
          },
          "metadata": {}
        },
        {
          "output_type": "display_data",
          "data": {
            "text/html": [
              "<style>\n",
              ".list-inline {list-style: none; margin:0; padding: 0}\n",
              ".list-inline>li {display: inline-block}\n",
              ".list-inline>li:not(:last-child)::after {content: \"\\00b7\"; padding: 0 .5ex}\n",
              "</style>\n",
              "<ol class=list-inline><li>0.641087154125071</li><li>-0.401344766887558</li><li>-0.194047803717953</li><li>-0.135845379716559</li><li>0.975243660012329</li><li>-0.3739876460196</li></ol>\n"
            ],
            "text/markdown": "1. 0.641087154125071\n2. -0.401344766887558\n3. -0.194047803717953\n4. -0.135845379716559\n5. 0.975243660012329\n6. -0.3739876460196\n\n\n",
            "text/latex": "\\begin{enumerate*}\n\\item 0.641087154125071\n\\item -0.401344766887558\n\\item -0.194047803717953\n\\item -0.135845379716559\n\\item 0.975243660012329\n\\item -0.3739876460196\n\\end{enumerate*}\n",
            "text/plain": [
              "[1]  0.641 -0.401 -0.194 -0.136  0.975 -0.374"
            ]
          },
          "metadata": {}
        },
        {
          "output_type": "display_data",
          "data": {
            "text/html": [
              "<style>\n",
              ".list-inline {list-style: none; margin:0; padding: 0}\n",
              ".list-inline>li {display: inline-block}\n",
              ".list-inline>li:not(:last-child)::after {content: \"\\00b7\"; padding: 0 .5ex}\n",
              "</style>\n",
              "<ol class=list-inline><li>-0.477623538867673</li><li>0.777353888292525</li><li>0.147510454165328</li><li>-0.313030806647038</li><li>0.291711017886633</li></ol>\n"
            ],
            "text/markdown": "1. -0.477623538867673\n2. 0.777353888292525\n3. 0.147510454165328\n4. -0.313030806647038\n5. 0.291711017886633\n\n\n",
            "text/latex": "\\begin{enumerate*}\n\\item -0.477623538867673\n\\item 0.777353888292525\n\\item 0.147510454165328\n\\item -0.313030806647038\n\\item 0.291711017886633\n\\end{enumerate*}\n",
            "text/plain": [
              "[1] -0.478  0.777  0.148 -0.313  0.292"
            ]
          },
          "metadata": {}
        },
        {
          "output_type": "display_data",
          "data": {
            "text/html": [
              "<style>\n",
              ".list-inline {list-style: none; margin:0; padding: 0}\n",
              ".list-inline>li {display: inline-block}\n",
              ".list-inline>li:not(:last-child)::after {content: \"\\00b7\"; padding: 0 .5ex}\n",
              "</style>\n",
              "<ol class=list-inline><li>-0.515779523050443</li><li>0.786344271134455</li><li>0.38564073126604</li><li>-0.255415356807863</li><li>0.291311652370587</li></ol>\n"
            ],
            "text/markdown": "1. -0.515779523050443\n2. 0.786344271134455\n3. 0.38564073126604\n4. -0.255415356807863\n5. 0.291311652370587\n\n\n",
            "text/latex": "\\begin{enumerate*}\n\\item -0.515779523050443\n\\item 0.786344271134455\n\\item 0.38564073126604\n\\item -0.255415356807863\n\\item 0.291311652370587\n\\end{enumerate*}\n",
            "text/plain": [
              "[1] -0.516  0.786  0.386 -0.255  0.291"
            ]
          },
          "metadata": {}
        }
      ]
    },
    {
      "cell_type": "markdown",
      "source": [
        "Здесь сначала генерируется матрица 6×5, содержащая случайные числа, подчиняющиеся нормальному распределению ❶.\n",
        "\n",
        "Затем вычисляются средние значения для каждой из шести строк ❷\n",
        "и каждого из пяти столбцов ❸.\n",
        "\n",
        "Наконец, вычисляются усеченные средние значения для каждого столбца (в данном случае усреднены «центральные» 60 % данных, без учета 20 % наибольших и 20 %\n",
        "наименьших значений)❹.\n",
        "\n",
        "Поскольку в параметре FUN можно передать любую функцию, в том числе и написанную вами, функция `apply()` действительно оказывается мощным средством. Функция `apply()` применяется к строкам или столбцам массива данных, а ее аналоги, `lapply()` и `sapply()`, применяют заданную функцию к целому списку. Вы увидите пример применения функции `sapply()` (более удобной версии функции lapply()) в следующем разделе. Теперь у вас есть все необходимые инструменты для управления\n",
        "данными, представленными в разделе выше, так что давайте попро-\n",
        "буем сделать это."
      ],
      "metadata": {
        "id": "NKbHTLRCQq4M"
      }
    },
    {
      "cell_type": "markdown",
      "source": [
        "### Решение задачи по управлению данными\n",
        "В задаче из раздела выше требовалось объединить результаты экзаменов по каждому предмету в единый балл успеваемости для каждого студента, каждому поставить оценку от A до F в зависимости от позиции в общем рейтинге (верхние 20 %, следующие 20 % и т. д.), отсортировать строки в списке по фамилии студентов, а затем и по имени. Решение этой задачи представлено ниже."
      ],
      "metadata": {
        "id": "LgJuuQAQRNUU"
      }
    },
    {
      "cell_type": "code",
      "source": [
        "# options(digits=2) # Cокращает число знаков после запятой до двух у всех выводимых на экран чисел, это упрощает их восприятие\n",
        "# Формирование таблицы\n",
        "Student <- c(\"John Davis\", \"Angela Williams\", \"Bullwinkle Moose\", \"David Jones\", \"Janice Markhammer\",\n",
        " \"Cheryl Cushing\", \"Reuven Ytzrhak\", \"Greg Knox\", \"Joel England\", \"Mary Rayburn\")\n",
        " Math <- c(502, 600, 412, 358, 495, 512, 410, 625, 573, 522)\n",
        " Science <- c(95, 99, 80, 82, 75, 85, 80, 95, 89, 86)\n",
        " English <- c(25, 22, 18, 15, 20, 28, 15, 30, 27, 18)\n",
        " roster <- data.frame(Student, Math, Science, English, stringsAsFactors=FALSE)\n",
        " roster"
      ],
      "metadata": {
        "id": "xaBJxSD_SKdE",
        "outputId": "19bf40b2-2f34-417b-b9f2-8586244f5bc9",
        "colab": {
          "base_uri": "https://localhost:8080/",
          "height": 411
        }
      },
      "execution_count": 70,
      "outputs": [
        {
          "output_type": "display_data",
          "data": {
            "text/html": [
              "<table class=\"dataframe\">\n",
              "<caption>A data.frame: 10 × 4</caption>\n",
              "<thead>\n",
              "\t<tr><th scope=col>Student</th><th scope=col>Math</th><th scope=col>Science</th><th scope=col>English</th></tr>\n",
              "\t<tr><th scope=col>&lt;chr&gt;</th><th scope=col>&lt;dbl&gt;</th><th scope=col>&lt;dbl&gt;</th><th scope=col>&lt;dbl&gt;</th></tr>\n",
              "</thead>\n",
              "<tbody>\n",
              "\t<tr><td>John Davis       </td><td>502</td><td>95</td><td>25</td></tr>\n",
              "\t<tr><td>Angela Williams  </td><td>600</td><td>99</td><td>22</td></tr>\n",
              "\t<tr><td>Bullwinkle Moose </td><td>412</td><td>80</td><td>18</td></tr>\n",
              "\t<tr><td>David Jones      </td><td>358</td><td>82</td><td>15</td></tr>\n",
              "\t<tr><td>Janice Markhammer</td><td>495</td><td>75</td><td>20</td></tr>\n",
              "\t<tr><td>Cheryl Cushing   </td><td>512</td><td>85</td><td>28</td></tr>\n",
              "\t<tr><td>Reuven Ytzrhak   </td><td>410</td><td>80</td><td>15</td></tr>\n",
              "\t<tr><td>Greg Knox        </td><td>625</td><td>95</td><td>30</td></tr>\n",
              "\t<tr><td>Joel England     </td><td>573</td><td>89</td><td>27</td></tr>\n",
              "\t<tr><td>Mary Rayburn     </td><td>522</td><td>86</td><td>18</td></tr>\n",
              "</tbody>\n",
              "</table>\n"
            ],
            "text/markdown": "\nA data.frame: 10 × 4\n\n| Student &lt;chr&gt; | Math &lt;dbl&gt; | Science &lt;dbl&gt; | English &lt;dbl&gt; |\n|---|---|---|---|\n| John Davis        | 502 | 95 | 25 |\n| Angela Williams   | 600 | 99 | 22 |\n| Bullwinkle Moose  | 412 | 80 | 18 |\n| David Jones       | 358 | 82 | 15 |\n| Janice Markhammer | 495 | 75 | 20 |\n| Cheryl Cushing    | 512 | 85 | 28 |\n| Reuven Ytzrhak    | 410 | 80 | 15 |\n| Greg Knox         | 625 | 95 | 30 |\n| Joel England      | 573 | 89 | 27 |\n| Mary Rayburn      | 522 | 86 | 18 |\n\n",
            "text/latex": "A data.frame: 10 × 4\n\\begin{tabular}{llll}\n Student & Math & Science & English\\\\\n <chr> & <dbl> & <dbl> & <dbl>\\\\\n\\hline\n\t John Davis        & 502 & 95 & 25\\\\\n\t Angela Williams   & 600 & 99 & 22\\\\\n\t Bullwinkle Moose  & 412 & 80 & 18\\\\\n\t David Jones       & 358 & 82 & 15\\\\\n\t Janice Markhammer & 495 & 75 & 20\\\\\n\t Cheryl Cushing    & 512 & 85 & 28\\\\\n\t Reuven Ytzrhak    & 410 & 80 & 15\\\\\n\t Greg Knox         & 625 & 95 & 30\\\\\n\t Joel England      & 573 & 89 & 27\\\\\n\t Mary Rayburn      & 522 & 86 & 18\\\\\n\\end{tabular}\n",
            "text/plain": [
              "   Student           Math Science English\n",
              "1  John Davis        502  95      25     \n",
              "2  Angela Williams   600  99      22     \n",
              "3  Bullwinkle Moose  412  80      18     \n",
              "4  David Jones       358  82      15     \n",
              "5  Janice Markhammer 495  75      20     \n",
              "6  Cheryl Cushing    512  85      28     \n",
              "7  Reuven Ytzrhak    410  80      15     \n",
              "8  Greg Knox         625  95      30     \n",
              "9  Joel England      573  89      27     \n",
              "10 Mary Rayburn      522  86      18     "
            ]
          },
          "metadata": {}
        }
      ]
    },
    {
      "cell_type": "markdown",
      "source": [
        "Поскольку оценки по математике, естественным наукам и английскому\n",
        "языку выставлены по разным шкалам (их средние и стандартные отклонения заметно различаются), их необходимо сделать сопоставимыми перед объединением. Один из подходов – стандартизировать переменные так, чтобы каждая оценка выражалась в стандартных отклонениях, а не в абсолютных баллах. Это можно сделать при помощи функции `scale()`:"
      ],
      "metadata": {
        "id": "5LyppIS6f1q2"
      }
    },
    {
      "cell_type": "code",
      "source": [
        "z <- scale(roster[,2:4])\n",
        "z"
      ],
      "metadata": {
        "id": "tdYW6SAbfW6w",
        "outputId": "e0fd3614-8657-4993-f0e1-3ca6ad265432",
        "colab": {
          "base_uri": "https://localhost:8080/",
          "height": 380
        }
      },
      "execution_count": 71,
      "outputs": [
        {
          "output_type": "display_data",
          "data": {
            "text/html": [
              "<table class=\"dataframe\">\n",
              "<caption>A matrix: 10 × 3 of type dbl</caption>\n",
              "<thead>\n",
              "\t<tr><th scope=col>Math</th><th scope=col>Science</th><th scope=col>English</th></tr>\n",
              "</thead>\n",
              "<tbody>\n",
              "\t<tr><td> 0.0127</td><td> 1.078</td><td> 0.5869</td></tr>\n",
              "\t<tr><td> 1.1434</td><td> 1.591</td><td> 0.0367</td></tr>\n",
              "\t<tr><td>-1.0257</td><td>-0.847</td><td>-0.6969</td></tr>\n",
              "\t<tr><td>-1.6487</td><td>-0.590</td><td>-1.2471</td></tr>\n",
              "\t<tr><td>-0.0681</td><td>-1.489</td><td>-0.3301</td></tr>\n",
              "\t<tr><td> 0.1281</td><td>-0.205</td><td> 1.1370</td></tr>\n",
              "\t<tr><td>-1.0488</td><td>-0.847</td><td>-1.2471</td></tr>\n",
              "\t<tr><td> 1.4318</td><td> 1.078</td><td> 1.5038</td></tr>\n",
              "\t<tr><td> 0.8319</td><td> 0.308</td><td> 0.9536</td></tr>\n",
              "\t<tr><td> 0.2434</td><td>-0.077</td><td>-0.6969</td></tr>\n",
              "</tbody>\n",
              "</table>\n"
            ],
            "text/markdown": "\nA matrix: 10 × 3 of type dbl\n\n| Math | Science | English |\n|---|---|---|\n|  0.0127 |  1.078 |  0.5869 |\n|  1.1434 |  1.591 |  0.0367 |\n| -1.0257 | -0.847 | -0.6969 |\n| -1.6487 | -0.590 | -1.2471 |\n| -0.0681 | -1.489 | -0.3301 |\n|  0.1281 | -0.205 |  1.1370 |\n| -1.0488 | -0.847 | -1.2471 |\n|  1.4318 |  1.078 |  1.5038 |\n|  0.8319 |  0.308 |  0.9536 |\n|  0.2434 | -0.077 | -0.6969 |\n\n",
            "text/latex": "A matrix: 10 × 3 of type dbl\n\\begin{tabular}{lll}\n Math & Science & English\\\\\n\\hline\n\t  0.0127 &  1.078 &  0.5869\\\\\n\t  1.1434 &  1.591 &  0.0367\\\\\n\t -1.0257 & -0.847 & -0.6969\\\\\n\t -1.6487 & -0.590 & -1.2471\\\\\n\t -0.0681 & -1.489 & -0.3301\\\\\n\t  0.1281 & -0.205 &  1.1370\\\\\n\t -1.0488 & -0.847 & -1.2471\\\\\n\t  1.4318 &  1.078 &  1.5038\\\\\n\t  0.8319 &  0.308 &  0.9536\\\\\n\t  0.2434 & -0.077 & -0.6969\\\\\n\\end{tabular}\n",
            "text/plain": [
              "      Math    Science English\n",
              " [1,]  0.0127  1.078   0.5869\n",
              " [2,]  1.1434  1.591   0.0367\n",
              " [3,] -1.0257 -0.847  -0.6969\n",
              " [4,] -1.6487 -0.590  -1.2471\n",
              " [5,] -0.0681 -1.489  -0.3301\n",
              " [6,]  0.1281 -0.205   1.1370\n",
              " [7,] -1.0488 -0.847  -1.2471\n",
              " [8,]  1.4318  1.078   1.5038\n",
              " [9,]  0.8319  0.308   0.9536\n",
              "[10,]  0.2434 -0.077  -0.6969"
            ]
          },
          "metadata": {}
        }
      ]
    },
    {
      "cell_type": "markdown",
      "source": [
        "Рассчитать показатель успеваемости студентов можно, усреднив значения стандартизированных баллов для каждой строки с помощью функции `mean()` и добавив их в список при помощи функции `cbind()`:"
      ],
      "metadata": {
        "id": "A9V-ICdIiy4w"
      }
    },
    {
      "cell_type": "code",
      "source": [
        "score <- apply(z, 1, mean)\n",
        "roster <- cbind(roster, score)\n",
        "roster"
      ],
      "metadata": {
        "id": "6UU9b4U4jAIr",
        "outputId": "6475517e-f592-4304-891a-ac39a77e213a",
        "colab": {
          "base_uri": "https://localhost:8080/",
          "height": 411
        }
      },
      "execution_count": 72,
      "outputs": [
        {
          "output_type": "display_data",
          "data": {
            "text/html": [
              "<table class=\"dataframe\">\n",
              "<caption>A data.frame: 10 × 5</caption>\n",
              "<thead>\n",
              "\t<tr><th scope=col>Student</th><th scope=col>Math</th><th scope=col>Science</th><th scope=col>English</th><th scope=col>score</th></tr>\n",
              "\t<tr><th scope=col>&lt;chr&gt;</th><th scope=col>&lt;dbl&gt;</th><th scope=col>&lt;dbl&gt;</th><th scope=col>&lt;dbl&gt;</th><th scope=col>&lt;dbl&gt;</th></tr>\n",
              "</thead>\n",
              "<tbody>\n",
              "\t<tr><td>John Davis       </td><td>502</td><td>95</td><td>25</td><td> 0.559</td></tr>\n",
              "\t<tr><td>Angela Williams  </td><td>600</td><td>99</td><td>22</td><td> 0.924</td></tr>\n",
              "\t<tr><td>Bullwinkle Moose </td><td>412</td><td>80</td><td>18</td><td>-0.857</td></tr>\n",
              "\t<tr><td>David Jones      </td><td>358</td><td>82</td><td>15</td><td>-1.162</td></tr>\n",
              "\t<tr><td>Janice Markhammer</td><td>495</td><td>75</td><td>20</td><td>-0.629</td></tr>\n",
              "\t<tr><td>Cheryl Cushing   </td><td>512</td><td>85</td><td>28</td><td> 0.353</td></tr>\n",
              "\t<tr><td>Reuven Ytzrhak   </td><td>410</td><td>80</td><td>15</td><td>-1.048</td></tr>\n",
              "\t<tr><td>Greg Knox        </td><td>625</td><td>95</td><td>30</td><td> 1.338</td></tr>\n",
              "\t<tr><td>Joel England     </td><td>573</td><td>89</td><td>27</td><td> 0.698</td></tr>\n",
              "\t<tr><td>Mary Rayburn     </td><td>522</td><td>86</td><td>18</td><td>-0.177</td></tr>\n",
              "</tbody>\n",
              "</table>\n"
            ],
            "text/markdown": "\nA data.frame: 10 × 5\n\n| Student &lt;chr&gt; | Math &lt;dbl&gt; | Science &lt;dbl&gt; | English &lt;dbl&gt; | score &lt;dbl&gt; |\n|---|---|---|---|---|\n| John Davis        | 502 | 95 | 25 |  0.559 |\n| Angela Williams   | 600 | 99 | 22 |  0.924 |\n| Bullwinkle Moose  | 412 | 80 | 18 | -0.857 |\n| David Jones       | 358 | 82 | 15 | -1.162 |\n| Janice Markhammer | 495 | 75 | 20 | -0.629 |\n| Cheryl Cushing    | 512 | 85 | 28 |  0.353 |\n| Reuven Ytzrhak    | 410 | 80 | 15 | -1.048 |\n| Greg Knox         | 625 | 95 | 30 |  1.338 |\n| Joel England      | 573 | 89 | 27 |  0.698 |\n| Mary Rayburn      | 522 | 86 | 18 | -0.177 |\n\n",
            "text/latex": "A data.frame: 10 × 5\n\\begin{tabular}{lllll}\n Student & Math & Science & English & score\\\\\n <chr> & <dbl> & <dbl> & <dbl> & <dbl>\\\\\n\\hline\n\t John Davis        & 502 & 95 & 25 &  0.559\\\\\n\t Angela Williams   & 600 & 99 & 22 &  0.924\\\\\n\t Bullwinkle Moose  & 412 & 80 & 18 & -0.857\\\\\n\t David Jones       & 358 & 82 & 15 & -1.162\\\\\n\t Janice Markhammer & 495 & 75 & 20 & -0.629\\\\\n\t Cheryl Cushing    & 512 & 85 & 28 &  0.353\\\\\n\t Reuven Ytzrhak    & 410 & 80 & 15 & -1.048\\\\\n\t Greg Knox         & 625 & 95 & 30 &  1.338\\\\\n\t Joel England      & 573 & 89 & 27 &  0.698\\\\\n\t Mary Rayburn      & 522 & 86 & 18 & -0.177\\\\\n\\end{tabular}\n",
            "text/plain": [
              "   Student           Math Science English score \n",
              "1  John Davis        502  95      25       0.559\n",
              "2  Angela Williams   600  99      22       0.924\n",
              "3  Bullwinkle Moose  412  80      18      -0.857\n",
              "4  David Jones       358  82      15      -1.162\n",
              "5  Janice Markhammer 495  75      20      -0.629\n",
              "6  Cheryl Cushing    512  85      28       0.353\n",
              "7  Reuven Ytzrhak    410  80      15      -1.048\n",
              "8  Greg Knox         625  95      30       1.338\n",
              "9  Joel England      573  89      27       0.698\n",
              "10 Mary Rayburn      522  86      18      -0.177"
            ]
          },
          "metadata": {}
        }
      ]
    },
    {
      "cell_type": "markdown",
      "source": [
        "Функция `quantile()` позволяет вычислить границы 20%-ных интервалов (процентилей) показателя успеваемости. Как видите, нижняя граница для оценки A равна 0.74, для оценки B – 0.44 и т. д.:"
      ],
      "metadata": {
        "id": "1-hLqa-BjMth"
      }
    },
    {
      "cell_type": "code",
      "source": [
        "# options(digits=2)\n",
        "y <- quantile(roster$score, c(.8,.6,.4,.2))\n",
        "y"
      ],
      "metadata": {
        "id": "sNOblKOljblI",
        "outputId": "e8cfc983-ef61-4fab-8c9e-330c87e8c0a3",
        "colab": {
          "base_uri": "https://localhost:8080/",
          "height": 34
        }
      },
      "execution_count": 73,
      "outputs": [
        {
          "output_type": "display_data",
          "data": {
            "text/html": [
              "<style>\n",
              ".dl-inline {width: auto; margin:0; padding: 0}\n",
              ".dl-inline>dt, .dl-inline>dd {float: none; width: auto; display: inline-block}\n",
              ".dl-inline>dt::after {content: \":\\0020\"; padding-right: .5ex}\n",
              ".dl-inline>dt:not(:first-of-type) {padding-left: .5ex}\n",
              "</style><dl class=dl-inline><dt>80%</dt><dd>0.74303408120841</dd><dt>60%</dt><dd>0.435630201373395</dd><dt>40%</dt><dd>-0.357680793747236</dd><dt>20%</dt><dd>-0.894757949476833</dd></dl>\n"
            ],
            "text/markdown": "80%\n:   0.7430340812084160%\n:   0.43563020137339540%\n:   -0.35768079374723620%\n:   -0.894757949476833\n\n",
            "text/latex": "\\begin{description*}\n\\item[80\\textbackslash{}\\%] 0.74303408120841\n\\item[60\\textbackslash{}\\%] 0.435630201373395\n\\item[40\\textbackslash{}\\%] -0.357680793747236\n\\item[20\\textbackslash{}\\%] -0.894757949476833\n\\end{description*}\n",
            "text/plain": [
              "   80%    60%    40%    20% \n",
              " 0.743  0.436 -0.358 -0.895 "
            ]
          },
          "metadata": {}
        }
      ]
    },
    {
      "cell_type": "markdown",
      "source": [
        "Используя логические операторы, можно перекодировать значения показателя успеваемости в новую категориальную переменную итоговой оценки. Для этого в таблице данных roster создается переменная grade:"
      ],
      "metadata": {
        "id": "LAqAcvCLjzTq"
      }
    },
    {
      "cell_type": "code",
      "source": [
        "roster$grade <- NA\n",
        "roster$grade[score >= y[1]] <- \"A\"\n",
        "roster$grade[score < y[1] & score >= y[2]] <- \"B\"\n",
        "roster$grade[score < y[2] & score >= y[3]] <- \"C\"\n",
        "roster$grade[score < y[3] & score >= y[4]] <- \"D\"\n",
        "roster$grade[score < y[4]] <- \"F\"\n",
        "roster"
      ],
      "metadata": {
        "id": "zrKQQ606j8gq",
        "outputId": "e3fca402-71ef-451d-fcce-9ad04ac6017d",
        "colab": {
          "base_uri": "https://localhost:8080/",
          "height": 411
        }
      },
      "execution_count": 74,
      "outputs": [
        {
          "output_type": "display_data",
          "data": {
            "text/html": [
              "<table class=\"dataframe\">\n",
              "<caption>A data.frame: 10 × 6</caption>\n",
              "<thead>\n",
              "\t<tr><th scope=col>Student</th><th scope=col>Math</th><th scope=col>Science</th><th scope=col>English</th><th scope=col>score</th><th scope=col>grade</th></tr>\n",
              "\t<tr><th scope=col>&lt;chr&gt;</th><th scope=col>&lt;dbl&gt;</th><th scope=col>&lt;dbl&gt;</th><th scope=col>&lt;dbl&gt;</th><th scope=col>&lt;dbl&gt;</th><th scope=col>&lt;chr&gt;</th></tr>\n",
              "</thead>\n",
              "<tbody>\n",
              "\t<tr><td>John Davis       </td><td>502</td><td>95</td><td>25</td><td> 0.559</td><td>B</td></tr>\n",
              "\t<tr><td>Angela Williams  </td><td>600</td><td>99</td><td>22</td><td> 0.924</td><td>A</td></tr>\n",
              "\t<tr><td>Bullwinkle Moose </td><td>412</td><td>80</td><td>18</td><td>-0.857</td><td>D</td></tr>\n",
              "\t<tr><td>David Jones      </td><td>358</td><td>82</td><td>15</td><td>-1.162</td><td>F</td></tr>\n",
              "\t<tr><td>Janice Markhammer</td><td>495</td><td>75</td><td>20</td><td>-0.629</td><td>D</td></tr>\n",
              "\t<tr><td>Cheryl Cushing   </td><td>512</td><td>85</td><td>28</td><td> 0.353</td><td>C</td></tr>\n",
              "\t<tr><td>Reuven Ytzrhak   </td><td>410</td><td>80</td><td>15</td><td>-1.048</td><td>F</td></tr>\n",
              "\t<tr><td>Greg Knox        </td><td>625</td><td>95</td><td>30</td><td> 1.338</td><td>A</td></tr>\n",
              "\t<tr><td>Joel England     </td><td>573</td><td>89</td><td>27</td><td> 0.698</td><td>B</td></tr>\n",
              "\t<tr><td>Mary Rayburn     </td><td>522</td><td>86</td><td>18</td><td>-0.177</td><td>C</td></tr>\n",
              "</tbody>\n",
              "</table>\n"
            ],
            "text/markdown": "\nA data.frame: 10 × 6\n\n| Student &lt;chr&gt; | Math &lt;dbl&gt; | Science &lt;dbl&gt; | English &lt;dbl&gt; | score &lt;dbl&gt; | grade &lt;chr&gt; |\n|---|---|---|---|---|---|\n| John Davis        | 502 | 95 | 25 |  0.559 | B |\n| Angela Williams   | 600 | 99 | 22 |  0.924 | A |\n| Bullwinkle Moose  | 412 | 80 | 18 | -0.857 | D |\n| David Jones       | 358 | 82 | 15 | -1.162 | F |\n| Janice Markhammer | 495 | 75 | 20 | -0.629 | D |\n| Cheryl Cushing    | 512 | 85 | 28 |  0.353 | C |\n| Reuven Ytzrhak    | 410 | 80 | 15 | -1.048 | F |\n| Greg Knox         | 625 | 95 | 30 |  1.338 | A |\n| Joel England      | 573 | 89 | 27 |  0.698 | B |\n| Mary Rayburn      | 522 | 86 | 18 | -0.177 | C |\n\n",
            "text/latex": "A data.frame: 10 × 6\n\\begin{tabular}{llllll}\n Student & Math & Science & English & score & grade\\\\\n <chr> & <dbl> & <dbl> & <dbl> & <dbl> & <chr>\\\\\n\\hline\n\t John Davis        & 502 & 95 & 25 &  0.559 & B\\\\\n\t Angela Williams   & 600 & 99 & 22 &  0.924 & A\\\\\n\t Bullwinkle Moose  & 412 & 80 & 18 & -0.857 & D\\\\\n\t David Jones       & 358 & 82 & 15 & -1.162 & F\\\\\n\t Janice Markhammer & 495 & 75 & 20 & -0.629 & D\\\\\n\t Cheryl Cushing    & 512 & 85 & 28 &  0.353 & C\\\\\n\t Reuven Ytzrhak    & 410 & 80 & 15 & -1.048 & F\\\\\n\t Greg Knox         & 625 & 95 & 30 &  1.338 & A\\\\\n\t Joel England      & 573 & 89 & 27 &  0.698 & B\\\\\n\t Mary Rayburn      & 522 & 86 & 18 & -0.177 & C\\\\\n\\end{tabular}\n",
            "text/plain": [
              "   Student           Math Science English score  grade\n",
              "1  John Davis        502  95      25       0.559 B    \n",
              "2  Angela Williams   600  99      22       0.924 A    \n",
              "3  Bullwinkle Moose  412  80      18      -0.857 D    \n",
              "4  David Jones       358  82      15      -1.162 F    \n",
              "5  Janice Markhammer 495  75      20      -0.629 D    \n",
              "6  Cheryl Cushing    512  85      28       0.353 C    \n",
              "7  Reuven Ytzrhak    410  80      15      -1.048 F    \n",
              "8  Greg Knox         625  95      30       1.338 A    \n",
              "9  Joel England      573  89      27       0.698 B    \n",
              "10 Mary Rayburn      522  86      18      -0.177 C    "
            ]
          },
          "metadata": {}
        }
      ]
    },
    {
      "cell_type": "markdown",
      "source": [
        "Отделить друг от друга имена и фамилии студентов, разделенные пробелом, можно с помощью функции `strsplit()`. Применение этой функции к вектору из строк приводит к созданию списка:"
      ],
      "metadata": {
        "id": "726dO_QE7-4e"
      }
    },
    {
      "cell_type": "code",
      "source": [
        "name <- strsplit((roster$Student), \" \")\n",
        "name"
      ],
      "metadata": {
        "id": "Txp5iOOR8Gwf",
        "outputId": "91cd496d-bf69-4124-d97f-9626a7722d45",
        "colab": {
          "base_uri": "https://localhost:8080/",
          "height": 219
        }
      },
      "execution_count": 75,
      "outputs": [
        {
          "output_type": "display_data",
          "data": {
            "text/html": [
              "<ol>\n",
              "\t<li><style>\n",
              ".list-inline {list-style: none; margin:0; padding: 0}\n",
              ".list-inline>li {display: inline-block}\n",
              ".list-inline>li:not(:last-child)::after {content: \"\\00b7\"; padding: 0 .5ex}\n",
              "</style>\n",
              "<ol class=list-inline><li>'John'</li><li>'Davis'</li></ol>\n",
              "</li>\n",
              "\t<li><style>\n",
              ".list-inline {list-style: none; margin:0; padding: 0}\n",
              ".list-inline>li {display: inline-block}\n",
              ".list-inline>li:not(:last-child)::after {content: \"\\00b7\"; padding: 0 .5ex}\n",
              "</style>\n",
              "<ol class=list-inline><li>'Angela'</li><li>'Williams'</li></ol>\n",
              "</li>\n",
              "\t<li><style>\n",
              ".list-inline {list-style: none; margin:0; padding: 0}\n",
              ".list-inline>li {display: inline-block}\n",
              ".list-inline>li:not(:last-child)::after {content: \"\\00b7\"; padding: 0 .5ex}\n",
              "</style>\n",
              "<ol class=list-inline><li>'Bullwinkle'</li><li>'Moose'</li></ol>\n",
              "</li>\n",
              "\t<li><style>\n",
              ".list-inline {list-style: none; margin:0; padding: 0}\n",
              ".list-inline>li {display: inline-block}\n",
              ".list-inline>li:not(:last-child)::after {content: \"\\00b7\"; padding: 0 .5ex}\n",
              "</style>\n",
              "<ol class=list-inline><li>'David'</li><li>'Jones'</li></ol>\n",
              "</li>\n",
              "\t<li><style>\n",
              ".list-inline {list-style: none; margin:0; padding: 0}\n",
              ".list-inline>li {display: inline-block}\n",
              ".list-inline>li:not(:last-child)::after {content: \"\\00b7\"; padding: 0 .5ex}\n",
              "</style>\n",
              "<ol class=list-inline><li>'Janice'</li><li>'Markhammer'</li></ol>\n",
              "</li>\n",
              "\t<li><style>\n",
              ".list-inline {list-style: none; margin:0; padding: 0}\n",
              ".list-inline>li {display: inline-block}\n",
              ".list-inline>li:not(:last-child)::after {content: \"\\00b7\"; padding: 0 .5ex}\n",
              "</style>\n",
              "<ol class=list-inline><li>'Cheryl'</li><li>'Cushing'</li></ol>\n",
              "</li>\n",
              "\t<li><style>\n",
              ".list-inline {list-style: none; margin:0; padding: 0}\n",
              ".list-inline>li {display: inline-block}\n",
              ".list-inline>li:not(:last-child)::after {content: \"\\00b7\"; padding: 0 .5ex}\n",
              "</style>\n",
              "<ol class=list-inline><li>'Reuven'</li><li>'Ytzrhak'</li></ol>\n",
              "</li>\n",
              "\t<li><style>\n",
              ".list-inline {list-style: none; margin:0; padding: 0}\n",
              ".list-inline>li {display: inline-block}\n",
              ".list-inline>li:not(:last-child)::after {content: \"\\00b7\"; padding: 0 .5ex}\n",
              "</style>\n",
              "<ol class=list-inline><li>'Greg'</li><li>'Knox'</li></ol>\n",
              "</li>\n",
              "\t<li><style>\n",
              ".list-inline {list-style: none; margin:0; padding: 0}\n",
              ".list-inline>li {display: inline-block}\n",
              ".list-inline>li:not(:last-child)::after {content: \"\\00b7\"; padding: 0 .5ex}\n",
              "</style>\n",
              "<ol class=list-inline><li>'Joel'</li><li>'England'</li></ol>\n",
              "</li>\n",
              "\t<li><style>\n",
              ".list-inline {list-style: none; margin:0; padding: 0}\n",
              ".list-inline>li {display: inline-block}\n",
              ".list-inline>li:not(:last-child)::after {content: \"\\00b7\"; padding: 0 .5ex}\n",
              "</style>\n",
              "<ol class=list-inline><li>'Mary'</li><li>'Rayburn'</li></ol>\n",
              "</li>\n",
              "</ol>\n"
            ],
            "text/markdown": "1. 1. 'John'\n2. 'Davis'\n\n\n\n2. 1. 'Angela'\n2. 'Williams'\n\n\n\n3. 1. 'Bullwinkle'\n2. 'Moose'\n\n\n\n4. 1. 'David'\n2. 'Jones'\n\n\n\n5. 1. 'Janice'\n2. 'Markhammer'\n\n\n\n6. 1. 'Cheryl'\n2. 'Cushing'\n\n\n\n7. 1. 'Reuven'\n2. 'Ytzrhak'\n\n\n\n8. 1. 'Greg'\n2. 'Knox'\n\n\n\n9. 1. 'Joel'\n2. 'England'\n\n\n\n10. 1. 'Mary'\n2. 'Rayburn'\n\n\n\n\n\n",
            "text/latex": "\\begin{enumerate}\n\\item \\begin{enumerate*}\n\\item 'John'\n\\item 'Davis'\n\\end{enumerate*}\n\n\\item \\begin{enumerate*}\n\\item 'Angela'\n\\item 'Williams'\n\\end{enumerate*}\n\n\\item \\begin{enumerate*}\n\\item 'Bullwinkle'\n\\item 'Moose'\n\\end{enumerate*}\n\n\\item \\begin{enumerate*}\n\\item 'David'\n\\item 'Jones'\n\\end{enumerate*}\n\n\\item \\begin{enumerate*}\n\\item 'Janice'\n\\item 'Markhammer'\n\\end{enumerate*}\n\n\\item \\begin{enumerate*}\n\\item 'Cheryl'\n\\item 'Cushing'\n\\end{enumerate*}\n\n\\item \\begin{enumerate*}\n\\item 'Reuven'\n\\item 'Ytzrhak'\n\\end{enumerate*}\n\n\\item \\begin{enumerate*}\n\\item 'Greg'\n\\item 'Knox'\n\\end{enumerate*}\n\n\\item \\begin{enumerate*}\n\\item 'Joel'\n\\item 'England'\n\\end{enumerate*}\n\n\\item \\begin{enumerate*}\n\\item 'Mary'\n\\item 'Rayburn'\n\\end{enumerate*}\n\n\\end{enumerate}\n",
            "text/plain": [
              "[[1]]\n",
              "[1] \"John\"  \"Davis\"\n",
              "\n",
              "[[2]]\n",
              "[1] \"Angela\"   \"Williams\"\n",
              "\n",
              "[[3]]\n",
              "[1] \"Bullwinkle\" \"Moose\"     \n",
              "\n",
              "[[4]]\n",
              "[1] \"David\" \"Jones\"\n",
              "\n",
              "[[5]]\n",
              "[1] \"Janice\"     \"Markhammer\"\n",
              "\n",
              "[[6]]\n",
              "[1] \"Cheryl\"  \"Cushing\"\n",
              "\n",
              "[[7]]\n",
              "[1] \"Reuven\"  \"Ytzrhak\"\n",
              "\n",
              "[[8]]\n",
              "[1] \"Greg\" \"Knox\"\n",
              "\n",
              "[[9]]\n",
              "[1] \"Joel\"    \"England\"\n",
              "\n",
              "[[10]]\n",
              "[1] \"Mary\"    \"Rayburn\"\n"
            ]
          },
          "metadata": {}
        }
      ]
    },
    {
      "cell_type": "markdown",
      "source": [
        "Применение функции `sapply()`, чтобы поместить первый элемент каждого компонента в вектор с именами Firstname, а второй – в вектор с фамилиями Lastname. \"[\" – это функция, извлекающая часть объекта – в данном случае первый или второй элемент списка name. Добавить эти элементы в набор данных roster можно с помощью функции `cbind()`. Поскольку переменная student с именем и фамилией каждого студента больше не нужна, от нее можно избавиться (указав индекс -1 в обращении к таблице данных roster):"
      ],
      "metadata": {
        "id": "wWKtzppX8WG_"
      }
    },
    {
      "cell_type": "code",
      "source": [
        "Firstname <- sapply(name, \"[\", 1) # Первый элемент из строки\n",
        "Lastname <- sapply(name, \"[\", 2) # Второй элемент из строки\n",
        "roster <- cbind(Firstname, Lastname, roster[,-1]) # Удаление столбца Student\n",
        "roster"
      ],
      "metadata": {
        "id": "4eDizeI68lJR",
        "outputId": "a63eb8be-7728-4908-a19a-7393bf5386ea",
        "colab": {
          "base_uri": "https://localhost:8080/",
          "height": 411
        }
      },
      "execution_count": 76,
      "outputs": [
        {
          "output_type": "display_data",
          "data": {
            "text/html": [
              "<table class=\"dataframe\">\n",
              "<caption>A data.frame: 10 × 7</caption>\n",
              "<thead>\n",
              "\t<tr><th scope=col>Firstname</th><th scope=col>Lastname</th><th scope=col>Math</th><th scope=col>Science</th><th scope=col>English</th><th scope=col>score</th><th scope=col>grade</th></tr>\n",
              "\t<tr><th scope=col>&lt;chr&gt;</th><th scope=col>&lt;chr&gt;</th><th scope=col>&lt;dbl&gt;</th><th scope=col>&lt;dbl&gt;</th><th scope=col>&lt;dbl&gt;</th><th scope=col>&lt;dbl&gt;</th><th scope=col>&lt;chr&gt;</th></tr>\n",
              "</thead>\n",
              "<tbody>\n",
              "\t<tr><td>John      </td><td>Davis     </td><td>502</td><td>95</td><td>25</td><td> 0.559</td><td>B</td></tr>\n",
              "\t<tr><td>Angela    </td><td>Williams  </td><td>600</td><td>99</td><td>22</td><td> 0.924</td><td>A</td></tr>\n",
              "\t<tr><td>Bullwinkle</td><td>Moose     </td><td>412</td><td>80</td><td>18</td><td>-0.857</td><td>D</td></tr>\n",
              "\t<tr><td>David     </td><td>Jones     </td><td>358</td><td>82</td><td>15</td><td>-1.162</td><td>F</td></tr>\n",
              "\t<tr><td>Janice    </td><td>Markhammer</td><td>495</td><td>75</td><td>20</td><td>-0.629</td><td>D</td></tr>\n",
              "\t<tr><td>Cheryl    </td><td>Cushing   </td><td>512</td><td>85</td><td>28</td><td> 0.353</td><td>C</td></tr>\n",
              "\t<tr><td>Reuven    </td><td>Ytzrhak   </td><td>410</td><td>80</td><td>15</td><td>-1.048</td><td>F</td></tr>\n",
              "\t<tr><td>Greg      </td><td>Knox      </td><td>625</td><td>95</td><td>30</td><td> 1.338</td><td>A</td></tr>\n",
              "\t<tr><td>Joel      </td><td>England   </td><td>573</td><td>89</td><td>27</td><td> 0.698</td><td>B</td></tr>\n",
              "\t<tr><td>Mary      </td><td>Rayburn   </td><td>522</td><td>86</td><td>18</td><td>-0.177</td><td>C</td></tr>\n",
              "</tbody>\n",
              "</table>\n"
            ],
            "text/markdown": "\nA data.frame: 10 × 7\n\n| Firstname &lt;chr&gt; | Lastname &lt;chr&gt; | Math &lt;dbl&gt; | Science &lt;dbl&gt; | English &lt;dbl&gt; | score &lt;dbl&gt; | grade &lt;chr&gt; |\n|---|---|---|---|---|---|---|\n| John       | Davis      | 502 | 95 | 25 |  0.559 | B |\n| Angela     | Williams   | 600 | 99 | 22 |  0.924 | A |\n| Bullwinkle | Moose      | 412 | 80 | 18 | -0.857 | D |\n| David      | Jones      | 358 | 82 | 15 | -1.162 | F |\n| Janice     | Markhammer | 495 | 75 | 20 | -0.629 | D |\n| Cheryl     | Cushing    | 512 | 85 | 28 |  0.353 | C |\n| Reuven     | Ytzrhak    | 410 | 80 | 15 | -1.048 | F |\n| Greg       | Knox       | 625 | 95 | 30 |  1.338 | A |\n| Joel       | England    | 573 | 89 | 27 |  0.698 | B |\n| Mary       | Rayburn    | 522 | 86 | 18 | -0.177 | C |\n\n",
            "text/latex": "A data.frame: 10 × 7\n\\begin{tabular}{lllllll}\n Firstname & Lastname & Math & Science & English & score & grade\\\\\n <chr> & <chr> & <dbl> & <dbl> & <dbl> & <dbl> & <chr>\\\\\n\\hline\n\t John       & Davis      & 502 & 95 & 25 &  0.559 & B\\\\\n\t Angela     & Williams   & 600 & 99 & 22 &  0.924 & A\\\\\n\t Bullwinkle & Moose      & 412 & 80 & 18 & -0.857 & D\\\\\n\t David      & Jones      & 358 & 82 & 15 & -1.162 & F\\\\\n\t Janice     & Markhammer & 495 & 75 & 20 & -0.629 & D\\\\\n\t Cheryl     & Cushing    & 512 & 85 & 28 &  0.353 & C\\\\\n\t Reuven     & Ytzrhak    & 410 & 80 & 15 & -1.048 & F\\\\\n\t Greg       & Knox       & 625 & 95 & 30 &  1.338 & A\\\\\n\t Joel       & England    & 573 & 89 & 27 &  0.698 & B\\\\\n\t Mary       & Rayburn    & 522 & 86 & 18 & -0.177 & C\\\\\n\\end{tabular}\n",
            "text/plain": [
              "   Firstname  Lastname   Math Science English score  grade\n",
              "1  John       Davis      502  95      25       0.559 B    \n",
              "2  Angela     Williams   600  99      22       0.924 A    \n",
              "3  Bullwinkle Moose      412  80      18      -0.857 D    \n",
              "4  David      Jones      358  82      15      -1.162 F    \n",
              "5  Janice     Markhammer 495  75      20      -0.629 D    \n",
              "6  Cheryl     Cushing    512  85      28       0.353 C    \n",
              "7  Reuven     Ytzrhak    410  80      15      -1.048 F    \n",
              "8  Greg       Knox       625  95      30       1.338 A    \n",
              "9  Joel       England    573  89      27       0.698 B    \n",
              "10 Mary       Rayburn    522  86      18      -0.177 C    "
            ]
          },
          "metadata": {}
        }
      ]
    },
    {
      "cell_type": "markdown",
      "source": [
        "Наконец, можно отсортировать список по именам и фамилиям студентов при помощи функции `order()`:"
      ],
      "metadata": {
        "id": "0JaV_rs-CinJ"
      }
    },
    {
      "cell_type": "code",
      "source": [
        "roster[order(Firstname, Lastname),]"
      ],
      "metadata": {
        "id": "mOVP1gcxCp98",
        "outputId": "330829cf-ab03-4db7-dbe1-376338120247",
        "colab": {
          "base_uri": "https://localhost:8080/",
          "height": 411
        }
      },
      "execution_count": 77,
      "outputs": [
        {
          "output_type": "display_data",
          "data": {
            "text/html": [
              "<table class=\"dataframe\">\n",
              "<caption>A data.frame: 10 × 7</caption>\n",
              "<thead>\n",
              "\t<tr><th></th><th scope=col>Firstname</th><th scope=col>Lastname</th><th scope=col>Math</th><th scope=col>Science</th><th scope=col>English</th><th scope=col>score</th><th scope=col>grade</th></tr>\n",
              "\t<tr><th></th><th scope=col>&lt;chr&gt;</th><th scope=col>&lt;chr&gt;</th><th scope=col>&lt;dbl&gt;</th><th scope=col>&lt;dbl&gt;</th><th scope=col>&lt;dbl&gt;</th><th scope=col>&lt;dbl&gt;</th><th scope=col>&lt;chr&gt;</th></tr>\n",
              "</thead>\n",
              "<tbody>\n",
              "\t<tr><th scope=row>2</th><td>Angela    </td><td>Williams  </td><td>600</td><td>99</td><td>22</td><td> 0.924</td><td>A</td></tr>\n",
              "\t<tr><th scope=row>3</th><td>Bullwinkle</td><td>Moose     </td><td>412</td><td>80</td><td>18</td><td>-0.857</td><td>D</td></tr>\n",
              "\t<tr><th scope=row>6</th><td>Cheryl    </td><td>Cushing   </td><td>512</td><td>85</td><td>28</td><td> 0.353</td><td>C</td></tr>\n",
              "\t<tr><th scope=row>4</th><td>David     </td><td>Jones     </td><td>358</td><td>82</td><td>15</td><td>-1.162</td><td>F</td></tr>\n",
              "\t<tr><th scope=row>8</th><td>Greg      </td><td>Knox      </td><td>625</td><td>95</td><td>30</td><td> 1.338</td><td>A</td></tr>\n",
              "\t<tr><th scope=row>5</th><td>Janice    </td><td>Markhammer</td><td>495</td><td>75</td><td>20</td><td>-0.629</td><td>D</td></tr>\n",
              "\t<tr><th scope=row>9</th><td>Joel      </td><td>England   </td><td>573</td><td>89</td><td>27</td><td> 0.698</td><td>B</td></tr>\n",
              "\t<tr><th scope=row>1</th><td>John      </td><td>Davis     </td><td>502</td><td>95</td><td>25</td><td> 0.559</td><td>B</td></tr>\n",
              "\t<tr><th scope=row>10</th><td>Mary      </td><td>Rayburn   </td><td>522</td><td>86</td><td>18</td><td>-0.177</td><td>C</td></tr>\n",
              "\t<tr><th scope=row>7</th><td>Reuven    </td><td>Ytzrhak   </td><td>410</td><td>80</td><td>15</td><td>-1.048</td><td>F</td></tr>\n",
              "</tbody>\n",
              "</table>\n"
            ],
            "text/markdown": "\nA data.frame: 10 × 7\n\n| <!--/--> | Firstname &lt;chr&gt; | Lastname &lt;chr&gt; | Math &lt;dbl&gt; | Science &lt;dbl&gt; | English &lt;dbl&gt; | score &lt;dbl&gt; | grade &lt;chr&gt; |\n|---|---|---|---|---|---|---|---|\n| 2 | Angela     | Williams   | 600 | 99 | 22 |  0.924 | A |\n| 3 | Bullwinkle | Moose      | 412 | 80 | 18 | -0.857 | D |\n| 6 | Cheryl     | Cushing    | 512 | 85 | 28 |  0.353 | C |\n| 4 | David      | Jones      | 358 | 82 | 15 | -1.162 | F |\n| 8 | Greg       | Knox       | 625 | 95 | 30 |  1.338 | A |\n| 5 | Janice     | Markhammer | 495 | 75 | 20 | -0.629 | D |\n| 9 | Joel       | England    | 573 | 89 | 27 |  0.698 | B |\n| 1 | John       | Davis      | 502 | 95 | 25 |  0.559 | B |\n| 10 | Mary       | Rayburn    | 522 | 86 | 18 | -0.177 | C |\n| 7 | Reuven     | Ytzrhak    | 410 | 80 | 15 | -1.048 | F |\n\n",
            "text/latex": "A data.frame: 10 × 7\n\\begin{tabular}{r|lllllll}\n  & Firstname & Lastname & Math & Science & English & score & grade\\\\\n  & <chr> & <chr> & <dbl> & <dbl> & <dbl> & <dbl> & <chr>\\\\\n\\hline\n\t2 & Angela     & Williams   & 600 & 99 & 22 &  0.924 & A\\\\\n\t3 & Bullwinkle & Moose      & 412 & 80 & 18 & -0.857 & D\\\\\n\t6 & Cheryl     & Cushing    & 512 & 85 & 28 &  0.353 & C\\\\\n\t4 & David      & Jones      & 358 & 82 & 15 & -1.162 & F\\\\\n\t8 & Greg       & Knox       & 625 & 95 & 30 &  1.338 & A\\\\\n\t5 & Janice     & Markhammer & 495 & 75 & 20 & -0.629 & D\\\\\n\t9 & Joel       & England    & 573 & 89 & 27 &  0.698 & B\\\\\n\t1 & John       & Davis      & 502 & 95 & 25 &  0.559 & B\\\\\n\t10 & Mary       & Rayburn    & 522 & 86 & 18 & -0.177 & C\\\\\n\t7 & Reuven     & Ytzrhak    & 410 & 80 & 15 & -1.048 & F\\\\\n\\end{tabular}\n",
            "text/plain": [
              "   Firstname  Lastname   Math Science English score  grade\n",
              "2  Angela     Williams   600  99      22       0.924 A    \n",
              "3  Bullwinkle Moose      412  80      18      -0.857 D    \n",
              "6  Cheryl     Cushing    512  85      28       0.353 C    \n",
              "4  David      Jones      358  82      15      -1.162 F    \n",
              "8  Greg       Knox       625  95      30       1.338 A    \n",
              "5  Janice     Markhammer 495  75      20      -0.629 D    \n",
              "9  Joel       England    573  89      27       0.698 B    \n",
              "1  John       Davis      502  95      25       0.559 B    \n",
              "10 Mary       Rayburn    522  86      18      -0.177 C    \n",
              "7  Reuven     Ytzrhak    410  80      15      -1.048 F    "
            ]
          },
          "metadata": {}
        }
      ]
    },
    {
      "cell_type": "markdown",
      "source": [
        "Вот и все! Пара пустяков!\n",
        "\n",
        "Существует много других способов решить эту же задачу, но приведенный пример позволяет понять идею применения этих функций. Теперь настала пора обратиться к условным операторам и функциям, которые пишутся самими пользователями."
      ],
      "metadata": {
        "id": "9KDUxgpRC5TC"
      }
    },
    {
      "cell_type": "markdown",
      "source": [
        "## Управление потоком выполнения\n",
        "Обычно инструкции в R выполняются последовательно, от начала программы до конца. Однако иногда некоторые инструкции нужно выполнить несколько раз, а другие – только при определенных условиях. В таких ситуациях следует использовать специальные конструкции управления потоком выполнения.\n",
        "\n",
        "В R реализованы многие стандартные конструкции такого типа, которые можно встретить в любом другом современном языке программирования. Сначала мы рассмотрим условные конструкции, а затем – конструкции, используемые для циклического выполнения.\n",
        "\n",
        "Во всех примерах этого раздела будут использоваться следующие сокращения:\n",
        "* statement – простая или составная инструкция (группа инструкций, заключенных в фигурные скобки {} и разделенных точкой с запятой);\n",
        "* cond – условное выражение, которое может возвращать TRUE или FALSE;\n",
        "* expr – выражение, возвращающее число или текстовую строку;\n",
        "* seq – последовательность чисел или текстовых строк.\n",
        "\n",
        "После обсуждения конструкций управления потоком выполнения мы перейдем к созданию своих собственных функций."
      ],
      "metadata": {
        "id": "QhFAZWedC_Q4"
      }
    },
    {
      "cell_type": "markdown",
      "source": [
        "### Циклы\n",
        "Конструкции циклов многократно выполняют одну и ту же инструкцию или их набор, пока не выполнится заданное условие. К таким конструкциям относятся циклы `for` и `while`.\n",
        "#### `for`\n",
        "Конструкция цикла `for` выполняет инструкцию statement для каждого значения в последовательности seq. Она имеет следующий синтаксис:\n",
        "```\n",
        "for (var in seq) statement\n",
        "```\n",
        "Следующий код:\n",
        "```\n",
        "for (i in 1:10) print(\"Hello\")\n",
        "```\n",
        "выведет слово Hello 10 раз.\n",
        "\n",
        "#### `while`\n",
        "Конструкция цикла while повторно выполняет инструкцию, пока заданное условие остается истинным. Она имеет следующий синтаксис:\n",
        "```\n",
        "while (cond) statement\n",
        "```\n",
        "Следующий код:\n",
        "```\n",
        "i <- 10\n",
        "while (i > 0) {print(\"Hello\"); i <- i - 1}\n",
        "```\n",
        "тоже выведет слово Hello 10 раз. Убедитесь, что инструкции внутри фигурных скобок изменяют переменную, проверяемую в условном выражении cond так, что рано или поздно оно перестанет быть истинным, иначе цикл никогда не завершится! В предыдущем примере инструкция\n",
        "```\n",
        "i <- i – 1\n",
        "```\n",
        "вычитает 1 из объекта i в каждом цикле, поэтому после десятого цикла значение i не будет больше 0. Если после каждого цикла, наоборот, прибавлять по единице, то программа никогда не перестала бы выводить Hello. Вот почему `while` может быть опаснее других циклических конструкций.\n",
        "\n",
        "Циклы в R могут быть неэффективными и занимать много времени, особенно при обработке больших объемов данных. При любой возможности лучше вместо циклов использовать встроенные числовые и текстовые функции в сочетании с функциями из семейства apply."
      ],
      "metadata": {
        "id": "oQ4nuqFFrwIM"
      }
    },
    {
      "cell_type": "markdown",
      "source": [
        "### Выполнение по условию\n",
        "Выполнение по условию означает, что инструкции выполняются,\n",
        "только если соблюдается определенное условие. К таким конструк-\n",
        "циям относятся `if-else`, `ifelse` и `switch`.\n",
        "#### `if-else`\n",
        "Условный оператор `if-else` выполняет инструкцию, если заданное условие верно. Также есть возможность выполнить другую инструкцию, если условие не верно. Он имеет следующий синтаксис:\n",
        "```\n",
        "if (cond) statement\n",
        "if (cond) statement1 else statement2\n",
        "```\n",
        "Например:\n",
        "```\n",
        "if (is.character(grade)) grade <- as.factor(grade)\n",
        "if (!is.factor(grade)) grade <- as.factor(grade) else print(\"Grade already is a factor\")\n",
        "```\n",
        "В первом случае, если переменная grade – текстовый вектор, она преобразуется в фактор. Во втором случае выполняется одна из двух инструкций. Если переменная grade – не фактор (обратите внимание на символ !), то она преобразуется в него. Если эта переменная – уже фактор, то выводится сообщение об этом.\n",
        "\n",
        "#### `ifelse`\n",
        "Условный оператор `ifelse` – компактная и векторизованная версия оператора `if-els`e. Он имеет следующий синтаксис:\n",
        "```\n",
        "ifelse(cond, statement1, statement2)\n",
        "```\n",
        "Инструкция statement1 выполняется, если условие cond истинно. Если условие ложно – выполняется вторая инструкция statement2.\n",
        "\n",
        "Например:\n",
        "```\n",
        "ifelse(score > 0.5, print(\"Passed\"), print(\"Failed\"))\n",
        "outcome <- ifelse (score > 0.5, \"Passed\", \"Failed\")\n",
        "```\n",
        "Эту конструкцию можно использовать для выполнения одного из двух действий или для ввода/вывода векторов.\n",
        "\n",
        "#### `switch`\n",
        "Оператор выбора `switch` выбирает инструкцию для выполнения в зависимости от значения выражения `expr`. Он имеет следующий синтаксис:\n",
        "```\n",
        "switch(expr, ...)\n",
        "```\n",
        "где многоточие (...) означает инструкции, соответствующие возможным значениям expr. Проще всего понять принцип работы оператора выбора на примере ниже:\n"
      ],
      "metadata": {
        "id": "ItW7JKnRuIbQ"
      }
    },
    {
      "cell_type": "code",
      "source": [
        "feelings <- c(\"sad\", \"afraid\")\n",
        "for (i in feelings)\n",
        "print(\n",
        "switch(i,\n",
        "happy = \"Я рад, что ты счастлив\",\n",
        "afraid = \"Нечего бояться\",\n",
        "sad = \"Не унывать\",\n",
        "angry = \"Успокойся сейчас\"\n",
        ")\n",
        ")"
      ],
      "metadata": {
        "id": "jxBgcaX-wZUM",
        "outputId": "a2ba5517-2c33-4358-e021-1330deca3e86",
        "colab": {
          "base_uri": "https://localhost:8080/"
        }
      },
      "execution_count": 78,
      "outputs": [
        {
          "output_type": "stream",
          "name": "stdout",
          "text": [
            "[1] \"Не унывать\"\n",
            "[1] \"Нечего бояться\"\n"
          ]
        }
      ]
    },
    {
      "cell_type": "markdown",
      "source": [
        "Это надуманный пример, зато он демонстрирует основные принципы применения оператора выбора. Как можно его использовать в собственных функциях, вы узнаете в следующем разделе."
      ],
      "metadata": {
        "id": "c8rEApPfxLdG"
      }
    },
    {
      "cell_type": "markdown",
      "source": [
        "## Пользовательские функции\n",
        "Одно из существенных преимуществ R – возможность создавать свои функции. Структура таких функций выглядит примерно так:\n",
        "```\n",
        "myfunction <- function(arg1, arg2, ... ){\n",
        "statements\n",
        "return(object)\n",
        "}\n",
        "```\n",
        "Объекты, объявленные внутри функции, недоступны снаружи. Объект, который возвращается из функции, может быть любого типа – от скаляра до списка. Рассмотрим пример.\n",
        "\n",
        "Допустим, нам понадобилась функция, вычисляющая основную тенденцию и разброс данных. Эта функция должна предоставлять выбор между параметрическими (среднее арифметическое и стандартное отклонение) и непараметрическими (медиана и ее абсолютное отклонение) статистиками. Результат должен быть представлен в виде списка с именами. Кроме того,\n",
        "пользователь должен иметь возможность выбора – выводить ли результаты автоматически или нет. По умолчанию функция должна вычислять параметрические статистики и не выводить результаты на экран. Одно из возможных решений представлено ниже:"
      ],
      "metadata": {
        "id": "QWDgK44SxR6s"
      }
    },
    {
      "cell_type": "markdown",
      "source": [
        "Чтобы увидеть эту функцию в действии, создадим некоторый набор данных (случайная выборка из 500 чисел, подчиняющихся нормальному распределению):"
      ],
      "metadata": {
        "id": "yO23w3Nc3zqQ"
      }
    },
    {
      "cell_type": "code",
      "source": [
        "set.seed(1234)\n",
        "x <- rnorm(500)\n",
        "# x"
      ],
      "metadata": {
        "id": "RImDOtfR32hd"
      },
      "execution_count": 79,
      "outputs": []
    },
    {
      "cell_type": "code",
      "source": [
        "mystats <- function(x, parametric=TRUE, print=FALSE) {\n",
        "  if (parametric) {\n",
        "    center <- mean(x); spread <- sd(x)\n",
        "    } else {\n",
        "      center <- median(x); spread <- mad(x)\n",
        "      }\n",
        "  if (print & parametric) {\n",
        "    cat(\"Среднее =\", center, \"\\n\", \"Стандартное отклонение =\", spread, \"\\n\")\n",
        "    } else if (print & !parametric) {\n",
        "          cat(\"Медиана =\", center, \"\\n\", \"Абсолютное отклонение (MAD) =\", spread, \"\\n\")\n",
        "          }\n",
        "          result <- list(center=center, spread=spread)\n",
        "          return(result)\n",
        "          }\n",
        "y <- mystats(x)"
      ],
      "metadata": {
        "id": "50MWgqaJ3kZV"
      },
      "execution_count": 80,
      "outputs": []
    },
    {
      "cell_type": "code",
      "source": [
        "y"
      ],
      "metadata": {
        "id": "qyi991YUKwV2",
        "outputId": "070b0116-2c1b-4918-b385-89b638287f48",
        "colab": {
          "base_uri": "https://localhost:8080/",
          "height": 114
        }
      },
      "execution_count": 81,
      "outputs": [
        {
          "output_type": "display_data",
          "data": {
            "text/html": [
              "<dl>\n",
              "\t<dt>$center</dt>\n",
              "\t\t<dd>0.00183882061433999</dd>\n",
              "\t<dt>$spread</dt>\n",
              "\t\t<dd>1.03481394576807</dd>\n",
              "</dl>\n"
            ],
            "text/markdown": "$center\n:   0.00183882061433999\n$spread\n:   1.03481394576807\n\n\n",
            "text/latex": "\\begin{description}\n\\item[\\$center] 0.00183882061433999\n\\item[\\$spread] 1.03481394576807\n\\end{description}\n",
            "text/plain": [
              "$center\n",
              "[1] 0.00184\n",
              "\n",
              "$spread\n",
              "[1] 1.03\n"
            ]
          },
          "metadata": {}
        }
      ]
    },
    {
      "cell_type": "code",
      "source": [
        "y <- mystats(x, parametric = FALSE, print = TRUE)"
      ],
      "metadata": {
        "id": "hUrYx5h-K5nd",
        "outputId": "ee866f91-8129-430a-f92e-267da9d34cc8",
        "colab": {
          "base_uri": "https://localhost:8080/"
        }
      },
      "execution_count": 82,
      "outputs": [
        {
          "output_type": "stream",
          "name": "stdout",
          "text": [
            "Медиана = -0.0207 \n",
            " Абсолютное отклонение (MAD) = 1 \n"
          ]
        }
      ]
    },
    {
      "cell_type": "code",
      "source": [
        "y <- mystats(x, parametric = TRUE, print = TRUE)"
      ],
      "metadata": {
        "id": "X7X65pMLLwEh",
        "outputId": "925195eb-32a1-4e79-bb06-18a7eb8cea8c",
        "colab": {
          "base_uri": "https://localhost:8080/"
        }
      },
      "execution_count": 83,
      "outputs": [
        {
          "output_type": "stream",
          "name": "stdout",
          "text": [
            "Среднее = 0.00184 \n",
            " Стандартное отклонение = 1.03 \n"
          ]
        }
      ]
    },
    {
      "cell_type": "markdown",
      "source": [
        "В качестве следующего шага рассмотрим пользовательскую функцию, использующую оператор `switch`. Эта функция позволяет выбрать формат представления сегодняшней даты. Значения, присвоенные параметрам функции в ее объявлении, используются как значения по умолчанию. Функция `mydate()` использует значение \"`long`\" параметра `type` как формат даты по умолчанию, если в вызове функции не указано другое значение:"
      ],
      "metadata": {
        "id": "wDQqglLGLVpl"
      }
    },
    {
      "cell_type": "code",
      "source": [
        "mydate <- function(type=\"long\") {\n",
        "switch(type,\n",
        "long = format(Sys.time(), \"%A %d %B  %Y\"),\n",
        "short = format(Sys.time(), \"%d-%m-%y\"),\n",
        "cat(type, \" - тип не распознан!!!\\n\")\n",
        ")\n",
        "}"
      ],
      "metadata": {
        "id": "iZ9cQ_l8TOqv"
      },
      "execution_count": 84,
      "outputs": []
    },
    {
      "cell_type": "code",
      "source": [
        "mydate(\"long\")"
      ],
      "metadata": {
        "id": "V9Ghjm0YTZ11",
        "outputId": "6c78ed04-9c6a-4909-a700-ec887317c382",
        "colab": {
          "base_uri": "https://localhost:8080/",
          "height": 34
        }
      },
      "execution_count": 85,
      "outputs": [
        {
          "output_type": "display_data",
          "data": {
            "text/html": [
              "<span style=white-space:pre-wrap>'Friday 21 June  2024'</span>"
            ],
            "text/markdown": "<span style=white-space:pre-wrap>'Friday 21 June  2024'</span>",
            "text/latex": "'Friday 21 June  2024'",
            "text/plain": [
              "[1] \"Friday 21 June  2024\""
            ]
          },
          "metadata": {}
        }
      ]
    },
    {
      "cell_type": "code",
      "source": [
        "mydate(\"short\")"
      ],
      "metadata": {
        "id": "04aTHyC9TduU",
        "outputId": "6e6c8cd1-22c1-4829-e8d8-20a624c1ee74",
        "colab": {
          "base_uri": "https://localhost:8080/",
          "height": 34
        }
      },
      "execution_count": 86,
      "outputs": [
        {
          "output_type": "display_data",
          "data": {
            "text/html": [
              "'21-06-24'"
            ],
            "text/markdown": "'21-06-24'",
            "text/latex": "'21-06-24'",
            "text/plain": [
              "[1] \"21-06-24\""
            ]
          },
          "metadata": {}
        }
      ]
    },
    {
      "cell_type": "code",
      "source": [
        "mydate()"
      ],
      "metadata": {
        "id": "CGh0ZLf-T23G",
        "outputId": "2bff3586-5526-4ae2-a2f1-93e9f3f4e590",
        "colab": {
          "base_uri": "https://localhost:8080/",
          "height": 34
        }
      },
      "execution_count": 87,
      "outputs": [
        {
          "output_type": "display_data",
          "data": {
            "text/html": [
              "<span style=white-space:pre-wrap>'Friday 21 June  2024'</span>"
            ],
            "text/markdown": "<span style=white-space:pre-wrap>'Friday 21 June  2024'</span>",
            "text/latex": "'Friday 21 June  2024'",
            "text/plain": [
              "[1] \"Friday 21 June  2024\""
            ]
          },
          "metadata": {}
        }
      ]
    },
    {
      "cell_type": "code",
      "source": [
        "mydate(\"medium\")"
      ],
      "metadata": {
        "id": "pAtKvQdLT6uP",
        "outputId": "dc9947a3-3547-45e2-a5ec-475474b8fd45",
        "colab": {
          "base_uri": "https://localhost:8080/"
        }
      },
      "execution_count": 88,
      "outputs": [
        {
          "output_type": "stream",
          "name": "stdout",
          "text": [
            "medium  - тип не распознан!!!\n"
          ]
        }
      ]
    },
    {
      "cell_type": "markdown",
      "source": [
        "Обратите внимание, что функция cat() выполняется, только если в параметре type передано значение, отличное от \"long\" и \"short\". Часто бывает полезно включить в функцию выражение, «отлавливающее» ошибочные аргументы.\n",
        "\n",
        "Существует несколько функций, помогающих отлавливать и исправлять ошибки в пользовательских функциях. Для вывода сообщений об ошибке можно использовать функцию `warning()`. Функция `message()` выводит диагностические сообщения, а функция `stop()` останавливает выполнение текущей функции и выводит сообщение об ошибке. За дополнительной информацией по этим функциям обращайтесь к встроенной справке.\n",
        "\n",
        "Вы уже можете сделать очень многое, используя знания, полученные в этой главе. Управление потоком выполнения и другие вопросы программирования более подробно рассматриваются в главе 20. Создание пакетов обсуждается в главе 22. Если же вам понадобится изучить разработку функций во всех деталях или писать программный код на профессиональном уровне, чтобы распространять его среди других людей, то я советую прочитать две прекрасные книги, ссылки на которые вы найдете в списке литературы в конце этой книги: Venabley & Ripley (2000) и Chambers (2008). Вместе они помогут вам детально разобраться в вопросе на большом количестве разнообразных примеров.\n",
        "Теперь, рассмотрев создание пользовательских функций, закончим эту главу описанием способов агрегирования и реструктуризации данных."
      ],
      "metadata": {
        "id": "S924Jqv3UChK"
      }
    },
    {
      "cell_type": "markdown",
      "source": [
        "## Агрегирование и реструктуризация данных\n",
        "Под *реструктуризацией* данных понимается изменение структуры (строк и столбцов), определяющей организацию данных.\n",
        "\n",
        "В этом разделе описаны три основных метода реструктуризации:\n",
        "* транспонирование набора данных,\n",
        "* преобразование широкого набора данных в длинный и\n",
        "* преобразование длинного набора данных в широкий.\n",
        "\n",
        "Все они описываются в следующих далее разделах."
      ],
      "metadata": {
        "id": "CS_dwhyxeq6s"
      }
    },
    {
      "cell_type": "markdown",
      "source": [
        "### Транспонирование\n",
        "*Транспонирование* (переворот таблицы на 90° так, что строки и столбцы меняются местами) – самый простой, пожалуй, способ реструктуризации данных. Выполнить транспонирование матрицы или таблицы данных можно с помощью функции `t()`. В последнем случае названия строк становятся именами переменных (столбцов).\n",
        "\n",
        "Проиллюстрируем транспонирование с использованием набора данных mtcars, входящего в дистрибутив R. Эти данные, взятые из журнала «Motor Trend» за 1974 год, содержат информацию о технических характеристиках (число цилиндров, объем и мощность двигателя, расход топлива и т. д.) 34 марок автомобилей. Чтобы узнать больше об этом наборе данных, наберите `help(mtcars)`.\n",
        "\n",
        "Ниже показан пример применения операции транспонирования. Для экономии места используется лишь ограниченное подмножество данных из этого набора."
      ],
      "metadata": {
        "id": "nF8R59EUfOtl"
      }
    },
    {
      "cell_type": "code",
      "source": [
        "help(mtcars)"
      ],
      "metadata": {
        "id": "38BXQsewfwve"
      },
      "execution_count": 89,
      "outputs": []
    },
    {
      "cell_type": "code",
      "source": [
        "cars <- mtcars[1:10, 1:5]\n",
        "cars"
      ],
      "metadata": {
        "id": "VdOPBm93f3HI",
        "outputId": "d97068d3-007a-426f-80bd-2ecbe401d157",
        "colab": {
          "base_uri": "https://localhost:8080/",
          "height": 411
        }
      },
      "execution_count": 90,
      "outputs": [
        {
          "output_type": "display_data",
          "data": {
            "text/html": [
              "<table class=\"dataframe\">\n",
              "<caption>A data.frame: 10 × 5</caption>\n",
              "<thead>\n",
              "\t<tr><th></th><th scope=col>mpg</th><th scope=col>cyl</th><th scope=col>disp</th><th scope=col>hp</th><th scope=col>drat</th></tr>\n",
              "\t<tr><th></th><th scope=col>&lt;dbl&gt;</th><th scope=col>&lt;dbl&gt;</th><th scope=col>&lt;dbl&gt;</th><th scope=col>&lt;dbl&gt;</th><th scope=col>&lt;dbl&gt;</th></tr>\n",
              "</thead>\n",
              "<tbody>\n",
              "\t<tr><th scope=row>Mazda RX4</th><td>21.0</td><td>6</td><td>160</td><td>110</td><td>3.90</td></tr>\n",
              "\t<tr><th scope=row>Mazda RX4 Wag</th><td>21.0</td><td>6</td><td>160</td><td>110</td><td>3.90</td></tr>\n",
              "\t<tr><th scope=row>Datsun 710</th><td>22.8</td><td>4</td><td>108</td><td> 93</td><td>3.85</td></tr>\n",
              "\t<tr><th scope=row>Hornet 4 Drive</th><td>21.4</td><td>6</td><td>258</td><td>110</td><td>3.08</td></tr>\n",
              "\t<tr><th scope=row>Hornet Sportabout</th><td>18.7</td><td>8</td><td>360</td><td>175</td><td>3.15</td></tr>\n",
              "\t<tr><th scope=row>Valiant</th><td>18.1</td><td>6</td><td>225</td><td>105</td><td>2.76</td></tr>\n",
              "\t<tr><th scope=row>Duster 360</th><td>14.3</td><td>8</td><td>360</td><td>245</td><td>3.21</td></tr>\n",
              "\t<tr><th scope=row>Merc 240D</th><td>24.4</td><td>4</td><td>147</td><td> 62</td><td>3.69</td></tr>\n",
              "\t<tr><th scope=row>Merc 230</th><td>22.8</td><td>4</td><td>141</td><td> 95</td><td>3.92</td></tr>\n",
              "\t<tr><th scope=row>Merc 280</th><td>19.2</td><td>6</td><td>168</td><td>123</td><td>3.92</td></tr>\n",
              "</tbody>\n",
              "</table>\n"
            ],
            "text/markdown": "\nA data.frame: 10 × 5\n\n| <!--/--> | mpg &lt;dbl&gt; | cyl &lt;dbl&gt; | disp &lt;dbl&gt; | hp &lt;dbl&gt; | drat &lt;dbl&gt; |\n|---|---|---|---|---|---|\n| Mazda RX4 | 21.0 | 6 | 160 | 110 | 3.90 |\n| Mazda RX4 Wag | 21.0 | 6 | 160 | 110 | 3.90 |\n| Datsun 710 | 22.8 | 4 | 108 |  93 | 3.85 |\n| Hornet 4 Drive | 21.4 | 6 | 258 | 110 | 3.08 |\n| Hornet Sportabout | 18.7 | 8 | 360 | 175 | 3.15 |\n| Valiant | 18.1 | 6 | 225 | 105 | 2.76 |\n| Duster 360 | 14.3 | 8 | 360 | 245 | 3.21 |\n| Merc 240D | 24.4 | 4 | 147 |  62 | 3.69 |\n| Merc 230 | 22.8 | 4 | 141 |  95 | 3.92 |\n| Merc 280 | 19.2 | 6 | 168 | 123 | 3.92 |\n\n",
            "text/latex": "A data.frame: 10 × 5\n\\begin{tabular}{r|lllll}\n  & mpg & cyl & disp & hp & drat\\\\\n  & <dbl> & <dbl> & <dbl> & <dbl> & <dbl>\\\\\n\\hline\n\tMazda RX4 & 21.0 & 6 & 160 & 110 & 3.90\\\\\n\tMazda RX4 Wag & 21.0 & 6 & 160 & 110 & 3.90\\\\\n\tDatsun 710 & 22.8 & 4 & 108 &  93 & 3.85\\\\\n\tHornet 4 Drive & 21.4 & 6 & 258 & 110 & 3.08\\\\\n\tHornet Sportabout & 18.7 & 8 & 360 & 175 & 3.15\\\\\n\tValiant & 18.1 & 6 & 225 & 105 & 2.76\\\\\n\tDuster 360 & 14.3 & 8 & 360 & 245 & 3.21\\\\\n\tMerc 240D & 24.4 & 4 & 147 &  62 & 3.69\\\\\n\tMerc 230 & 22.8 & 4 & 141 &  95 & 3.92\\\\\n\tMerc 280 & 19.2 & 6 & 168 & 123 & 3.92\\\\\n\\end{tabular}\n",
            "text/plain": [
              "                  mpg  cyl disp hp  drat\n",
              "Mazda RX4         21.0 6   160  110 3.90\n",
              "Mazda RX4 Wag     21.0 6   160  110 3.90\n",
              "Datsun 710        22.8 4   108   93 3.85\n",
              "Hornet 4 Drive    21.4 6   258  110 3.08\n",
              "Hornet Sportabout 18.7 8   360  175 3.15\n",
              "Valiant           18.1 6   225  105 2.76\n",
              "Duster 360        14.3 8   360  245 3.21\n",
              "Merc 240D         24.4 4   147   62 3.69\n",
              "Merc 230          22.8 4   141   95 3.92\n",
              "Merc 280          19.2 6   168  123 3.92"
            ]
          },
          "metadata": {}
        }
      ]
    },
    {
      "cell_type": "code",
      "source": [
        "t(cars)"
      ],
      "metadata": {
        "id": "ptDUKtaDgL1s",
        "outputId": "a514b780-3d10-4d27-cb34-361e583349e0",
        "colab": {
          "base_uri": "https://localhost:8080/",
          "height": 223
        }
      },
      "execution_count": 91,
      "outputs": [
        {
          "output_type": "display_data",
          "data": {
            "text/html": [
              "<table class=\"dataframe\">\n",
              "<caption>A matrix: 5 × 10 of type dbl</caption>\n",
              "<thead>\n",
              "\t<tr><th></th><th scope=col>Mazda RX4</th><th scope=col>Mazda RX4 Wag</th><th scope=col>Datsun 710</th><th scope=col>Hornet 4 Drive</th><th scope=col>Hornet Sportabout</th><th scope=col>Valiant</th><th scope=col>Duster 360</th><th scope=col>Merc 240D</th><th scope=col>Merc 230</th><th scope=col>Merc 280</th></tr>\n",
              "</thead>\n",
              "<tbody>\n",
              "\t<tr><th scope=row>mpg</th><td> 21.0</td><td> 21.0</td><td> 22.80</td><td> 21.40</td><td> 18.70</td><td> 18.10</td><td> 14.30</td><td> 24.40</td><td> 22.80</td><td> 19.20</td></tr>\n",
              "\t<tr><th scope=row>cyl</th><td>  6.0</td><td>  6.0</td><td>  4.00</td><td>  6.00</td><td>  8.00</td><td>  6.00</td><td>  8.00</td><td>  4.00</td><td>  4.00</td><td>  6.00</td></tr>\n",
              "\t<tr><th scope=row>disp</th><td>160.0</td><td>160.0</td><td>108.00</td><td>258.00</td><td>360.00</td><td>225.00</td><td>360.00</td><td>146.70</td><td>140.80</td><td>167.60</td></tr>\n",
              "\t<tr><th scope=row>hp</th><td>110.0</td><td>110.0</td><td> 93.00</td><td>110.00</td><td>175.00</td><td>105.00</td><td>245.00</td><td> 62.00</td><td> 95.00</td><td>123.00</td></tr>\n",
              "\t<tr><th scope=row>drat</th><td>  3.9</td><td>  3.9</td><td>  3.85</td><td>  3.08</td><td>  3.15</td><td>  2.76</td><td>  3.21</td><td>  3.69</td><td>  3.92</td><td>  3.92</td></tr>\n",
              "</tbody>\n",
              "</table>\n"
            ],
            "text/markdown": "\nA matrix: 5 × 10 of type dbl\n\n| <!--/--> | Mazda RX4 | Mazda RX4 Wag | Datsun 710 | Hornet 4 Drive | Hornet Sportabout | Valiant | Duster 360 | Merc 240D | Merc 230 | Merc 280 |\n|---|---|---|---|---|---|---|---|---|---|---|\n| mpg |  21.0 |  21.0 |  22.80 |  21.40 |  18.70 |  18.10 |  14.30 |  24.40 |  22.80 |  19.20 |\n| cyl |   6.0 |   6.0 |   4.00 |   6.00 |   8.00 |   6.00 |   8.00 |   4.00 |   4.00 |   6.00 |\n| disp | 160.0 | 160.0 | 108.00 | 258.00 | 360.00 | 225.00 | 360.00 | 146.70 | 140.80 | 167.60 |\n| hp | 110.0 | 110.0 |  93.00 | 110.00 | 175.00 | 105.00 | 245.00 |  62.00 |  95.00 | 123.00 |\n| drat |   3.9 |   3.9 |   3.85 |   3.08 |   3.15 |   2.76 |   3.21 |   3.69 |   3.92 |   3.92 |\n\n",
            "text/latex": "A matrix: 5 × 10 of type dbl\n\\begin{tabular}{r|llllllllll}\n  & Mazda RX4 & Mazda RX4 Wag & Datsun 710 & Hornet 4 Drive & Hornet Sportabout & Valiant & Duster 360 & Merc 240D & Merc 230 & Merc 280\\\\\n\\hline\n\tmpg &  21.0 &  21.0 &  22.80 &  21.40 &  18.70 &  18.10 &  14.30 &  24.40 &  22.80 &  19.20\\\\\n\tcyl &   6.0 &   6.0 &   4.00 &   6.00 &   8.00 &   6.00 &   8.00 &   4.00 &   4.00 &   6.00\\\\\n\tdisp & 160.0 & 160.0 & 108.00 & 258.00 & 360.00 & 225.00 & 360.00 & 146.70 & 140.80 & 167.60\\\\\n\thp & 110.0 & 110.0 &  93.00 & 110.00 & 175.00 & 105.00 & 245.00 &  62.00 &  95.00 & 123.00\\\\\n\tdrat &   3.9 &   3.9 &   3.85 &   3.08 &   3.15 &   2.76 &   3.21 &   3.69 &   3.92 &   3.92\\\\\n\\end{tabular}\n",
            "text/plain": [
              "     Mazda RX4 Mazda RX4 Wag Datsun 710 Hornet 4 Drive Hornet Sportabout\n",
              "mpg   21.0      21.0          22.80      21.40          18.70           \n",
              "cyl    6.0       6.0           4.00       6.00           8.00           \n",
              "disp 160.0     160.0         108.00     258.00         360.00           \n",
              "hp   110.0     110.0          93.00     110.00         175.00           \n",
              "drat   3.9       3.9           3.85       3.08           3.15           \n",
              "     Valiant Duster 360 Merc 240D Merc 230 Merc 280\n",
              "mpg   18.10   14.30      24.40     22.80    19.20  \n",
              "cyl    6.00    8.00       4.00      4.00     6.00  \n",
              "disp 225.00  360.00     146.70    140.80   167.60  \n",
              "hp   105.00  245.00      62.00     95.00   123.00  \n",
              "drat   2.76    3.21       3.69      3.92     3.92  "
            ]
          },
          "metadata": {}
        }
      ]
    },
    {
      "cell_type": "markdown",
      "source": [
        "Функция t() всегда возвращает матрицу. Поскольку матрица может хранить данные только одного типа (числовые, текстовые или логические), операция транспонирования работает эффективнее, когда все переменные в исходном наборе данных являются числовыми или логическими. Если в наборе данных есть какие-либо текстовые переменные, то в процессе транспонирования все данные в наборе будут преобразованы в текстовые значения."
      ],
      "metadata": {
        "id": "_AnfCFLzgW5R"
      }
    },
    {
      "cell_type": "markdown",
      "source": [
        "### Преобразование широкого набора данных в длинный и обратно\n",
        "Нередко набор данных имеет широкий или длинный формат.\n",
        "В ***широком*** формате каждая строка представляет уникальное наблюдение. В ниже показан пример такого набора данных. Он содержит оценки ожидаемой продолжительности жизни для четырех стран в 1990, 2000 и 2010 годах и является частью огромного набора данных, доступного на сайте Our World in Data (https://ourworldindata.org/life-expectancy). Обратите внимание, что каждая строка представляет данные для одной страны.\n",
        "\n",
        "\\begin{array}{|l|l|c|c|c|}\n",
        "\\hline\n",
        "ID&Country&LExp1990&LExp2000&LExp2010\\\\\\hline\n",
        "AU&Australia&76.9&79.6&82.0\\\\\\hline\n",
        "CN&China&69.3&72.0&75.2\\\\\\hline\n",
        "PRK&North Korea&69.9&65.3&69.6\\\\\\hline\n",
        "\\end{array}\n",
        "\n",
        "В ***длинном*** формате каждая строка представляет уникальное измерение. В таблице ниже показан пример с теми же данными в длинном\n",
        "формате.\n",
        "\n",
        "\\begin{array}{|l|l|l|c|}\n",
        "\\hline\n",
        "ID&Country&Variable&LifeExp\\\\\\hline\n",
        "AU&Australia&LExp1990&76.9\\\\\\hline\n",
        "CN&China&LExp1990&69.3\\\\\\hline\n",
        "PRK&North Korea&LExp1990&69.9\\\\\\hline\n",
        "AU&Australia&LExp2000&79.6\\\\\\hline\n",
        "CN&China&LExp2000&72.0\\\\\\hline\n",
        "PRK&North Korea&LExp2000&65.3\\\\\\hline\n",
        "AU&Australia&LExp2010&82.0\\\\\\hline\n",
        "CN&China&LExp2010&75.2\\\\\\hline\n",
        "PRK&North Korea&LExp2010&69.6\\\\\\hline\n",
        "\\end{array}\n",
        "\n",
        "Для разных видов анализа могут потребоваться данные в разных форматах. Например, чтобы определить страны, в которых наблюдаются схожие тенденции изменения ожидаемой продолжительности жизни с течением времени, можно использовать кластерный анализ (глава 16). Для кластерного анализа желательно, чтобы данные были представлены в ***широком*** формате.С другой стороны, для предсказания ожидаемой продолжительности жизни по стране и году можно использовать множественную регрессию (глава 8). В этом случае желательно, чтобы данные были представлены в ***длинном*** формате."
      ],
      "metadata": {
        "id": "3FwnqwA3g2Oq"
      }
    },
    {
      "cell_type": "markdown",
      "source": [
        "Большинство функций в R принимают таблицы данных в ***широком*** формате, но некоторые требуют, чтобы данные находились в ***длинном*** формате. К счастью, пакет `tidyr` предоставляет функции для преобразования таблиц данных из одного формата в другой. Прежде чем продолжить, не забудьте установить пакет инструкцией `install.packages(\"tidyr\")`.\n",
        "\n",
        "Функция `gather()` из пакета `tidyr` преобразует таблицу данных с широким форматом в таблицу данных с длинным форматом. Она имеет следующий синтаксис:\n",
        "```\n",
        "longdata <- gather(widedata, key, value, variable_list)\n",
        "```\n",
        "где:\n",
        "* widedata – исходная таблица данных, подлежащая преобразованию;\n",
        "* key – имя для столбца с переменной (в данном примере Variable);\n",
        "* value – имя для столбца со значением (в данном примере Life-Exp);\n",
        "* variable_list – список переменных для реорганизации в один столбец (в данном примере LExp1990, LExp2000, LExp2010).\n",
        "\n",
        "Пример ниже:"
      ],
      "metadata": {
        "id": "IkRnzmrG7Tvn"
      }
    },
    {
      "cell_type": "code",
      "source": [
        "data_wide <- data.frame(ID = c(\"AU\", \"CN\", \"PRK\"),\n",
        "Country = c(\"Australia\", \"China\", \"North Korea\"),\n",
        "LExp1990 = c(76.9, 69.3, 69.9),\n",
        "LExp2000 = c(79.6, 72.0, 65.3),\n",
        "LExp2010 = c(82.0, 75.2, 69.6))\n",
        "data_wide"
      ],
      "metadata": {
        "id": "kX2Q035X8Ie_",
        "outputId": "7262ad2b-d636-44df-9f52-870fd71fc4ca",
        "colab": {
          "base_uri": "https://localhost:8080/",
          "height": 192
        }
      },
      "execution_count": 92,
      "outputs": [
        {
          "output_type": "display_data",
          "data": {
            "text/html": [
              "<table class=\"dataframe\">\n",
              "<caption>A data.frame: 3 × 5</caption>\n",
              "<thead>\n",
              "\t<tr><th scope=col>ID</th><th scope=col>Country</th><th scope=col>LExp1990</th><th scope=col>LExp2000</th><th scope=col>LExp2010</th></tr>\n",
              "\t<tr><th scope=col>&lt;chr&gt;</th><th scope=col>&lt;chr&gt;</th><th scope=col>&lt;dbl&gt;</th><th scope=col>&lt;dbl&gt;</th><th scope=col>&lt;dbl&gt;</th></tr>\n",
              "</thead>\n",
              "<tbody>\n",
              "\t<tr><td>AU </td><td>Australia  </td><td>76.9</td><td>79.6</td><td>82.0</td></tr>\n",
              "\t<tr><td>CN </td><td>China      </td><td>69.3</td><td>72.0</td><td>75.2</td></tr>\n",
              "\t<tr><td>PRK</td><td>North Korea</td><td>69.9</td><td>65.3</td><td>69.6</td></tr>\n",
              "</tbody>\n",
              "</table>\n"
            ],
            "text/markdown": "\nA data.frame: 3 × 5\n\n| ID &lt;chr&gt; | Country &lt;chr&gt; | LExp1990 &lt;dbl&gt; | LExp2000 &lt;dbl&gt; | LExp2010 &lt;dbl&gt; |\n|---|---|---|---|---|\n| AU  | Australia   | 76.9 | 79.6 | 82.0 |\n| CN  | China       | 69.3 | 72.0 | 75.2 |\n| PRK | North Korea | 69.9 | 65.3 | 69.6 |\n\n",
            "text/latex": "A data.frame: 3 × 5\n\\begin{tabular}{lllll}\n ID & Country & LExp1990 & LExp2000 & LExp2010\\\\\n <chr> & <chr> & <dbl> & <dbl> & <dbl>\\\\\n\\hline\n\t AU  & Australia   & 76.9 & 79.6 & 82.0\\\\\n\t CN  & China       & 69.3 & 72.0 & 75.2\\\\\n\t PRK & North Korea & 69.9 & 65.3 & 69.6\\\\\n\\end{tabular}\n",
            "text/plain": [
              "  ID  Country     LExp1990 LExp2000 LExp2010\n",
              "1 AU  Australia   76.9     79.6     82.0    \n",
              "2 CN  China       69.3     72.0     75.2    \n",
              "3 PRK North Korea 69.9     65.3     69.6    "
            ]
          },
          "metadata": {}
        }
      ]
    },
    {
      "cell_type": "code",
      "source": [
        "data_long <- gather(data_wide, key=\"Variable\", value=\"Life_Exp\", c(LExp1990, LExp2000, LExp2010))\n",
        "data_long"
      ],
      "metadata": {
        "id": "n1TxfSNl8Zp5",
        "outputId": "6f25bb79-4a14-49b4-abda-95ad634c8a4a",
        "colab": {
          "base_uri": "https://localhost:8080/",
          "height": 380
        }
      },
      "execution_count": 93,
      "outputs": [
        {
          "output_type": "display_data",
          "data": {
            "text/html": [
              "<table class=\"dataframe\">\n",
              "<caption>A data.frame: 9 × 4</caption>\n",
              "<thead>\n",
              "\t<tr><th scope=col>ID</th><th scope=col>Country</th><th scope=col>Variable</th><th scope=col>Life_Exp</th></tr>\n",
              "\t<tr><th scope=col>&lt;chr&gt;</th><th scope=col>&lt;chr&gt;</th><th scope=col>&lt;chr&gt;</th><th scope=col>&lt;dbl&gt;</th></tr>\n",
              "</thead>\n",
              "<tbody>\n",
              "\t<tr><td>AU </td><td>Australia  </td><td>LExp1990</td><td>76.9</td></tr>\n",
              "\t<tr><td>CN </td><td>China      </td><td>LExp1990</td><td>69.3</td></tr>\n",
              "\t<tr><td>PRK</td><td>North Korea</td><td>LExp1990</td><td>69.9</td></tr>\n",
              "\t<tr><td>AU </td><td>Australia  </td><td>LExp2000</td><td>79.6</td></tr>\n",
              "\t<tr><td>CN </td><td>China      </td><td>LExp2000</td><td>72.0</td></tr>\n",
              "\t<tr><td>PRK</td><td>North Korea</td><td>LExp2000</td><td>65.3</td></tr>\n",
              "\t<tr><td>AU </td><td>Australia  </td><td>LExp2010</td><td>82.0</td></tr>\n",
              "\t<tr><td>CN </td><td>China      </td><td>LExp2010</td><td>75.2</td></tr>\n",
              "\t<tr><td>PRK</td><td>North Korea</td><td>LExp2010</td><td>69.6</td></tr>\n",
              "</tbody>\n",
              "</table>\n"
            ],
            "text/markdown": "\nA data.frame: 9 × 4\n\n| ID &lt;chr&gt; | Country &lt;chr&gt; | Variable &lt;chr&gt; | Life_Exp &lt;dbl&gt; |\n|---|---|---|---|\n| AU  | Australia   | LExp1990 | 76.9 |\n| CN  | China       | LExp1990 | 69.3 |\n| PRK | North Korea | LExp1990 | 69.9 |\n| AU  | Australia   | LExp2000 | 79.6 |\n| CN  | China       | LExp2000 | 72.0 |\n| PRK | North Korea | LExp2000 | 65.3 |\n| AU  | Australia   | LExp2010 | 82.0 |\n| CN  | China       | LExp2010 | 75.2 |\n| PRK | North Korea | LExp2010 | 69.6 |\n\n",
            "text/latex": "A data.frame: 9 × 4\n\\begin{tabular}{llll}\n ID & Country & Variable & Life\\_Exp\\\\\n <chr> & <chr> & <chr> & <dbl>\\\\\n\\hline\n\t AU  & Australia   & LExp1990 & 76.9\\\\\n\t CN  & China       & LExp1990 & 69.3\\\\\n\t PRK & North Korea & LExp1990 & 69.9\\\\\n\t AU  & Australia   & LExp2000 & 79.6\\\\\n\t CN  & China       & LExp2000 & 72.0\\\\\n\t PRK & North Korea & LExp2000 & 65.3\\\\\n\t AU  & Australia   & LExp2010 & 82.0\\\\\n\t CN  & China       & LExp2010 & 75.2\\\\\n\t PRK & North Korea & LExp2010 & 69.6\\\\\n\\end{tabular}\n",
            "text/plain": [
              "  ID  Country     Variable Life_Exp\n",
              "1 AU  Australia   LExp1990 76.9    \n",
              "2 CN  China       LExp1990 69.3    \n",
              "3 PRK North Korea LExp1990 69.9    \n",
              "4 AU  Australia   LExp2000 79.6    \n",
              "5 CN  China       LExp2000 72.0    \n",
              "6 PRK North Korea LExp2000 65.3    \n",
              "7 AU  Australia   LExp2010 82.0    \n",
              "8 CN  China       LExp2010 75.2    \n",
              "9 PRK North Korea LExp2010 69.6    "
            ]
          },
          "metadata": {}
        }
      ]
    },
    {
      "cell_type": "markdown",
      "source": [
        "Функция `spread()` из пакета `tidyr` преобразует таблицу данных из длинного формата в широкий. Она имеет следующий синтаксис:\n",
        "```\n",
        "widedata <- spread(longdata, key, value)\n",
        "```\n",
        "где:\n",
        "* longdata – исходная таблица данных, подлежащая преобразованию;\n",
        "* key – имя для столбца с именами переменных;\n",
        "* value – имя для столбца со значениями переменных.\n",
        "В продолжение примера код ниже преобразует таблицу данных в длинном формате в таблицу данных в широком формате."
      ],
      "metadata": {
        "id": "ra5xorl-9DLN"
      }
    },
    {
      "cell_type": "code",
      "source": [
        "data_wide <- spread(data_long, key=Variable, value=Life_Exp)\n",
        "data_wide"
      ],
      "metadata": {
        "id": "eG7p0x7W9jmA",
        "outputId": "4c12b60c-fd50-4e5d-e3a2-78cf57187a70",
        "colab": {
          "base_uri": "https://localhost:8080/",
          "height": 192
        }
      },
      "execution_count": 94,
      "outputs": [
        {
          "output_type": "display_data",
          "data": {
            "text/html": [
              "<table class=\"dataframe\">\n",
              "<caption>A data.frame: 3 × 5</caption>\n",
              "<thead>\n",
              "\t<tr><th scope=col>ID</th><th scope=col>Country</th><th scope=col>LExp1990</th><th scope=col>LExp2000</th><th scope=col>LExp2010</th></tr>\n",
              "\t<tr><th scope=col>&lt;chr&gt;</th><th scope=col>&lt;chr&gt;</th><th scope=col>&lt;dbl&gt;</th><th scope=col>&lt;dbl&gt;</th><th scope=col>&lt;dbl&gt;</th></tr>\n",
              "</thead>\n",
              "<tbody>\n",
              "\t<tr><td>AU </td><td>Australia  </td><td>76.9</td><td>79.6</td><td>82.0</td></tr>\n",
              "\t<tr><td>CN </td><td>China      </td><td>69.3</td><td>72.0</td><td>75.2</td></tr>\n",
              "\t<tr><td>PRK</td><td>North Korea</td><td>69.9</td><td>65.3</td><td>69.6</td></tr>\n",
              "</tbody>\n",
              "</table>\n"
            ],
            "text/markdown": "\nA data.frame: 3 × 5\n\n| ID &lt;chr&gt; | Country &lt;chr&gt; | LExp1990 &lt;dbl&gt; | LExp2000 &lt;dbl&gt; | LExp2010 &lt;dbl&gt; |\n|---|---|---|---|---|\n| AU  | Australia   | 76.9 | 79.6 | 82.0 |\n| CN  | China       | 69.3 | 72.0 | 75.2 |\n| PRK | North Korea | 69.9 | 65.3 | 69.6 |\n\n",
            "text/latex": "A data.frame: 3 × 5\n\\begin{tabular}{lllll}\n ID & Country & LExp1990 & LExp2000 & LExp2010\\\\\n <chr> & <chr> & <dbl> & <dbl> & <dbl>\\\\\n\\hline\n\t AU  & Australia   & 76.9 & 79.6 & 82.0\\\\\n\t CN  & China       & 69.3 & 72.0 & 75.2\\\\\n\t PRK & North Korea & 69.9 & 65.3 & 69.6\\\\\n\\end{tabular}\n",
            "text/plain": [
              "  ID  Country     LExp1990 LExp2000 LExp2010\n",
              "1 AU  Australia   76.9     79.6     82.0    \n",
              "2 CN  China       69.3     72.0     75.2    \n",
              "3 PRK North Korea 69.9     65.3     69.6    "
            ]
          },
          "metadata": {}
        }
      ]
    },
    {
      "cell_type": "markdown",
      "source": [
        "Узнать больше о длинных и широких форматах данных можно в замечательном руководстве Симона Эджемира (Simon Ejdemyr), доступном по адресу: https://sejdemyr.github.io/r-tutorials/basics/wide-and-long/."
      ],
      "metadata": {
        "id": "-TWIu78j9rt6"
      }
    },
    {
      "cell_type": "markdown",
      "source": [
        "## Агрегирование данных\n",
        "Агрегирование данных заключается в замене групп наблюдений сводной статистикой, основанной на этих наблюдениях. Агрегирование данных может предшествовать статистическому анализу или обобщению данных для представления в виде таблиц или диаграмм. В R данные агрегируются с помощью функции `aggregate()`, принимающей список переменных для агрегирования и функцию, собственно выполняющую агрегирование. Она имеет следующий синтаксис:\n",
        "```\n",
        "aggregate(x, by, FUN)\n",
        "```\n",
        "где:\n",
        "* x – объект с исходными данными,\n",
        "* by – список переменных, на основе которых будут формироваться новые наблюдения,\n",
        "* FUN – функция для вычисления обобщенных статистик, которые послужат значениями в новых наблюдениях.\n",
        "\n",
        "Для примера давайте агрегируем данные `mtcars` по числу цилиндров и передач, вычислив средние арифметические всех числовых переменных:"
      ],
      "metadata": {
        "id": "DoaiQdoC92wg"
      }
    },
    {
      "cell_type": "code",
      "source": [
        "aggdata <-aggregate(mtcars, by=list(mtcars$cyl,mtcars$gear), FUN=mean, na.rm=TRUE)\n",
        "aggdata"
      ],
      "metadata": {
        "id": "vuNM7E-n_IHJ",
        "outputId": "832868cb-f689-4e5c-a843-f8d375e04b87",
        "colab": {
          "base_uri": "https://localhost:8080/",
          "height": 349
        }
      },
      "execution_count": 95,
      "outputs": [
        {
          "output_type": "display_data",
          "data": {
            "text/html": [
              "<table class=\"dataframe\">\n",
              "<caption>A data.frame: 8 × 13</caption>\n",
              "<thead>\n",
              "\t<tr><th scope=col>Group.1</th><th scope=col>Group.2</th><th scope=col>mpg</th><th scope=col>cyl</th><th scope=col>disp</th><th scope=col>hp</th><th scope=col>drat</th><th scope=col>wt</th><th scope=col>qsec</th><th scope=col>vs</th><th scope=col>am</th><th scope=col>gear</th><th scope=col>carb</th></tr>\n",
              "\t<tr><th scope=col>&lt;dbl&gt;</th><th scope=col>&lt;dbl&gt;</th><th scope=col>&lt;dbl&gt;</th><th scope=col>&lt;dbl&gt;</th><th scope=col>&lt;dbl&gt;</th><th scope=col>&lt;dbl&gt;</th><th scope=col>&lt;dbl&gt;</th><th scope=col>&lt;dbl&gt;</th><th scope=col>&lt;dbl&gt;</th><th scope=col>&lt;dbl&gt;</th><th scope=col>&lt;dbl&gt;</th><th scope=col>&lt;dbl&gt;</th><th scope=col>&lt;dbl&gt;</th></tr>\n",
              "</thead>\n",
              "<tbody>\n",
              "\t<tr><td>4</td><td>3</td><td>21.5</td><td>4</td><td>120</td><td> 97</td><td>3.70</td><td>2.46</td><td>20.0</td><td>1.0</td><td>0.00</td><td>3</td><td>1.00</td></tr>\n",
              "\t<tr><td>6</td><td>3</td><td>19.8</td><td>6</td><td>242</td><td>108</td><td>2.92</td><td>3.34</td><td>19.8</td><td>1.0</td><td>0.00</td><td>3</td><td>1.00</td></tr>\n",
              "\t<tr><td>8</td><td>3</td><td>15.1</td><td>8</td><td>358</td><td>194</td><td>3.12</td><td>4.10</td><td>17.1</td><td>0.0</td><td>0.00</td><td>3</td><td>3.08</td></tr>\n",
              "\t<tr><td>4</td><td>4</td><td>26.9</td><td>4</td><td>103</td><td> 76</td><td>4.11</td><td>2.38</td><td>19.6</td><td>1.0</td><td>0.75</td><td>4</td><td>1.50</td></tr>\n",
              "\t<tr><td>6</td><td>4</td><td>19.8</td><td>6</td><td>164</td><td>116</td><td>3.91</td><td>3.09</td><td>17.7</td><td>0.5</td><td>0.50</td><td>4</td><td>4.00</td></tr>\n",
              "\t<tr><td>4</td><td>5</td><td>28.2</td><td>4</td><td>108</td><td>102</td><td>4.10</td><td>1.83</td><td>16.8</td><td>0.5</td><td>1.00</td><td>5</td><td>2.00</td></tr>\n",
              "\t<tr><td>6</td><td>5</td><td>19.7</td><td>6</td><td>145</td><td>175</td><td>3.62</td><td>2.77</td><td>15.5</td><td>0.0</td><td>1.00</td><td>5</td><td>6.00</td></tr>\n",
              "\t<tr><td>8</td><td>5</td><td>15.4</td><td>8</td><td>326</td><td>300</td><td>3.88</td><td>3.37</td><td>14.6</td><td>0.0</td><td>1.00</td><td>5</td><td>6.00</td></tr>\n",
              "</tbody>\n",
              "</table>\n"
            ],
            "text/markdown": "\nA data.frame: 8 × 13\n\n| Group.1 &lt;dbl&gt; | Group.2 &lt;dbl&gt; | mpg &lt;dbl&gt; | cyl &lt;dbl&gt; | disp &lt;dbl&gt; | hp &lt;dbl&gt; | drat &lt;dbl&gt; | wt &lt;dbl&gt; | qsec &lt;dbl&gt; | vs &lt;dbl&gt; | am &lt;dbl&gt; | gear &lt;dbl&gt; | carb &lt;dbl&gt; |\n|---|---|---|---|---|---|---|---|---|---|---|---|---|\n| 4 | 3 | 21.5 | 4 | 120 |  97 | 3.70 | 2.46 | 20.0 | 1.0 | 0.00 | 3 | 1.00 |\n| 6 | 3 | 19.8 | 6 | 242 | 108 | 2.92 | 3.34 | 19.8 | 1.0 | 0.00 | 3 | 1.00 |\n| 8 | 3 | 15.1 | 8 | 358 | 194 | 3.12 | 4.10 | 17.1 | 0.0 | 0.00 | 3 | 3.08 |\n| 4 | 4 | 26.9 | 4 | 103 |  76 | 4.11 | 2.38 | 19.6 | 1.0 | 0.75 | 4 | 1.50 |\n| 6 | 4 | 19.8 | 6 | 164 | 116 | 3.91 | 3.09 | 17.7 | 0.5 | 0.50 | 4 | 4.00 |\n| 4 | 5 | 28.2 | 4 | 108 | 102 | 4.10 | 1.83 | 16.8 | 0.5 | 1.00 | 5 | 2.00 |\n| 6 | 5 | 19.7 | 6 | 145 | 175 | 3.62 | 2.77 | 15.5 | 0.0 | 1.00 | 5 | 6.00 |\n| 8 | 5 | 15.4 | 8 | 326 | 300 | 3.88 | 3.37 | 14.6 | 0.0 | 1.00 | 5 | 6.00 |\n\n",
            "text/latex": "A data.frame: 8 × 13\n\\begin{tabular}{lllllllllllll}\n Group.1 & Group.2 & mpg & cyl & disp & hp & drat & wt & qsec & vs & am & gear & carb\\\\\n <dbl> & <dbl> & <dbl> & <dbl> & <dbl> & <dbl> & <dbl> & <dbl> & <dbl> & <dbl> & <dbl> & <dbl> & <dbl>\\\\\n\\hline\n\t 4 & 3 & 21.5 & 4 & 120 &  97 & 3.70 & 2.46 & 20.0 & 1.0 & 0.00 & 3 & 1.00\\\\\n\t 6 & 3 & 19.8 & 6 & 242 & 108 & 2.92 & 3.34 & 19.8 & 1.0 & 0.00 & 3 & 1.00\\\\\n\t 8 & 3 & 15.1 & 8 & 358 & 194 & 3.12 & 4.10 & 17.1 & 0.0 & 0.00 & 3 & 3.08\\\\\n\t 4 & 4 & 26.9 & 4 & 103 &  76 & 4.11 & 2.38 & 19.6 & 1.0 & 0.75 & 4 & 1.50\\\\\n\t 6 & 4 & 19.8 & 6 & 164 & 116 & 3.91 & 3.09 & 17.7 & 0.5 & 0.50 & 4 & 4.00\\\\\n\t 4 & 5 & 28.2 & 4 & 108 & 102 & 4.10 & 1.83 & 16.8 & 0.5 & 1.00 & 5 & 2.00\\\\\n\t 6 & 5 & 19.7 & 6 & 145 & 175 & 3.62 & 2.77 & 15.5 & 0.0 & 1.00 & 5 & 6.00\\\\\n\t 8 & 5 & 15.4 & 8 & 326 & 300 & 3.88 & 3.37 & 14.6 & 0.0 & 1.00 & 5 & 6.00\\\\\n\\end{tabular}\n",
            "text/plain": [
              "  Group.1 Group.2 mpg  cyl disp hp  drat wt   qsec vs  am   gear carb\n",
              "1 4       3       21.5 4   120   97 3.70 2.46 20.0 1.0 0.00 3    1.00\n",
              "2 6       3       19.8 6   242  108 2.92 3.34 19.8 1.0 0.00 3    1.00\n",
              "3 8       3       15.1 8   358  194 3.12 4.10 17.1 0.0 0.00 3    3.08\n",
              "4 4       4       26.9 4   103   76 4.11 2.38 19.6 1.0 0.75 4    1.50\n",
              "5 6       4       19.8 6   164  116 3.91 3.09 17.7 0.5 0.50 4    4.00\n",
              "6 4       5       28.2 4   108  102 4.10 1.83 16.8 0.5 1.00 5    2.00\n",
              "7 6       5       19.7 6   145  175 3.62 2.77 15.5 0.0 1.00 5    6.00\n",
              "8 8       5       15.4 8   326  300 3.88 3.37 14.6 0.0 1.00 5    6.00"
            ]
          },
          "metadata": {}
        }
      ]
    },
    {
      "cell_type": "markdown",
      "source": [
        "В представленных результатах `Group.1` – это число цилиндров (4, 6 или 8), а `Group.2` – это число передач (3, 4 или 5). Например, машинам с четырьмя цилиндрами и тремя передачами хватает одного галлона топлива, чтобы проехать в среднем 21.5 мили. Здесь использована функция mean(), но вообще можно использовать любую функцию, стандартную или написанную пользователем, вычисляющую сводную статистику.\n",
        "\n",
        "В этом примере есть два недостатка. Во-первых, имена переменных `Group.1` и `Group.2` ужасно неинформативны.\n",
        "\n",
        "Во-вторых, исходные переменные `cyl` и `gear` включаются в агрегированную таблицу данных, в чем нет необходимости.\n",
        "\n",
        "R предлагает возможность преодолеть эти недостатки. Во-первых, определяя список переменных для агрегирования, им можно присвоить свои имена. Например, `by=list(Cylinders=cyl, Gears=gear)` заменит `Group.1` и `Group.2` на `Cylinders` и `Gears`. Во- вторых, лишние столбцы можно удалить, используя скобочную нотацию (mtcars[-c(2, 10])."
      ],
      "metadata": {
        "id": "tc95W7Kn_dDE"
      }
    },
    {
      "cell_type": "code",
      "source": [
        "aggdata <- aggregate(mtcars[-c(2, 10)], by=list(Cylinders=mtcars$cyl, Gears=mtcars$gear), FUN=mean, na.rm=TRUE)\n",
        "aggdata"
      ],
      "metadata": {
        "id": "0bRlfcrlAPXi",
        "outputId": "e864005e-3af6-4b91-a138-fc20982428ea",
        "colab": {
          "base_uri": "https://localhost:8080/",
          "height": 349
        }
      },
      "execution_count": 97,
      "outputs": [
        {
          "output_type": "display_data",
          "data": {
            "text/html": [
              "<table class=\"dataframe\">\n",
              "<caption>A data.frame: 8 × 11</caption>\n",
              "<thead>\n",
              "\t<tr><th scope=col>Cylinders</th><th scope=col>Gears</th><th scope=col>mpg</th><th scope=col>disp</th><th scope=col>hp</th><th scope=col>drat</th><th scope=col>wt</th><th scope=col>qsec</th><th scope=col>vs</th><th scope=col>am</th><th scope=col>carb</th></tr>\n",
              "\t<tr><th scope=col>&lt;dbl&gt;</th><th scope=col>&lt;dbl&gt;</th><th scope=col>&lt;dbl&gt;</th><th scope=col>&lt;dbl&gt;</th><th scope=col>&lt;dbl&gt;</th><th scope=col>&lt;dbl&gt;</th><th scope=col>&lt;dbl&gt;</th><th scope=col>&lt;dbl&gt;</th><th scope=col>&lt;dbl&gt;</th><th scope=col>&lt;dbl&gt;</th><th scope=col>&lt;dbl&gt;</th></tr>\n",
              "</thead>\n",
              "<tbody>\n",
              "\t<tr><td>4</td><td>3</td><td>21.5</td><td>120</td><td> 97</td><td>3.70</td><td>2.46</td><td>20.0</td><td>1.0</td><td>0.00</td><td>1.00</td></tr>\n",
              "\t<tr><td>6</td><td>3</td><td>19.8</td><td>242</td><td>108</td><td>2.92</td><td>3.34</td><td>19.8</td><td>1.0</td><td>0.00</td><td>1.00</td></tr>\n",
              "\t<tr><td>8</td><td>3</td><td>15.1</td><td>358</td><td>194</td><td>3.12</td><td>4.10</td><td>17.1</td><td>0.0</td><td>0.00</td><td>3.08</td></tr>\n",
              "\t<tr><td>4</td><td>4</td><td>26.9</td><td>103</td><td> 76</td><td>4.11</td><td>2.38</td><td>19.6</td><td>1.0</td><td>0.75</td><td>1.50</td></tr>\n",
              "\t<tr><td>6</td><td>4</td><td>19.8</td><td>164</td><td>116</td><td>3.91</td><td>3.09</td><td>17.7</td><td>0.5</td><td>0.50</td><td>4.00</td></tr>\n",
              "\t<tr><td>4</td><td>5</td><td>28.2</td><td>108</td><td>102</td><td>4.10</td><td>1.83</td><td>16.8</td><td>0.5</td><td>1.00</td><td>2.00</td></tr>\n",
              "\t<tr><td>6</td><td>5</td><td>19.7</td><td>145</td><td>175</td><td>3.62</td><td>2.77</td><td>15.5</td><td>0.0</td><td>1.00</td><td>6.00</td></tr>\n",
              "\t<tr><td>8</td><td>5</td><td>15.4</td><td>326</td><td>300</td><td>3.88</td><td>3.37</td><td>14.6</td><td>0.0</td><td>1.00</td><td>6.00</td></tr>\n",
              "</tbody>\n",
              "</table>\n"
            ],
            "text/markdown": "\nA data.frame: 8 × 11\n\n| Cylinders &lt;dbl&gt; | Gears &lt;dbl&gt; | mpg &lt;dbl&gt; | disp &lt;dbl&gt; | hp &lt;dbl&gt; | drat &lt;dbl&gt; | wt &lt;dbl&gt; | qsec &lt;dbl&gt; | vs &lt;dbl&gt; | am &lt;dbl&gt; | carb &lt;dbl&gt; |\n|---|---|---|---|---|---|---|---|---|---|---|\n| 4 | 3 | 21.5 | 120 |  97 | 3.70 | 2.46 | 20.0 | 1.0 | 0.00 | 1.00 |\n| 6 | 3 | 19.8 | 242 | 108 | 2.92 | 3.34 | 19.8 | 1.0 | 0.00 | 1.00 |\n| 8 | 3 | 15.1 | 358 | 194 | 3.12 | 4.10 | 17.1 | 0.0 | 0.00 | 3.08 |\n| 4 | 4 | 26.9 | 103 |  76 | 4.11 | 2.38 | 19.6 | 1.0 | 0.75 | 1.50 |\n| 6 | 4 | 19.8 | 164 | 116 | 3.91 | 3.09 | 17.7 | 0.5 | 0.50 | 4.00 |\n| 4 | 5 | 28.2 | 108 | 102 | 4.10 | 1.83 | 16.8 | 0.5 | 1.00 | 2.00 |\n| 6 | 5 | 19.7 | 145 | 175 | 3.62 | 2.77 | 15.5 | 0.0 | 1.00 | 6.00 |\n| 8 | 5 | 15.4 | 326 | 300 | 3.88 | 3.37 | 14.6 | 0.0 | 1.00 | 6.00 |\n\n",
            "text/latex": "A data.frame: 8 × 11\n\\begin{tabular}{lllllllllll}\n Cylinders & Gears & mpg & disp & hp & drat & wt & qsec & vs & am & carb\\\\\n <dbl> & <dbl> & <dbl> & <dbl> & <dbl> & <dbl> & <dbl> & <dbl> & <dbl> & <dbl> & <dbl>\\\\\n\\hline\n\t 4 & 3 & 21.5 & 120 &  97 & 3.70 & 2.46 & 20.0 & 1.0 & 0.00 & 1.00\\\\\n\t 6 & 3 & 19.8 & 242 & 108 & 2.92 & 3.34 & 19.8 & 1.0 & 0.00 & 1.00\\\\\n\t 8 & 3 & 15.1 & 358 & 194 & 3.12 & 4.10 & 17.1 & 0.0 & 0.00 & 3.08\\\\\n\t 4 & 4 & 26.9 & 103 &  76 & 4.11 & 2.38 & 19.6 & 1.0 & 0.75 & 1.50\\\\\n\t 6 & 4 & 19.8 & 164 & 116 & 3.91 & 3.09 & 17.7 & 0.5 & 0.50 & 4.00\\\\\n\t 4 & 5 & 28.2 & 108 & 102 & 4.10 & 1.83 & 16.8 & 0.5 & 1.00 & 2.00\\\\\n\t 6 & 5 & 19.7 & 145 & 175 & 3.62 & 2.77 & 15.5 & 0.0 & 1.00 & 6.00\\\\\n\t 8 & 5 & 15.4 & 326 & 300 & 3.88 & 3.37 & 14.6 & 0.0 & 1.00 & 6.00\\\\\n\\end{tabular}\n",
            "text/plain": [
              "  Cylinders Gears mpg  disp hp  drat wt   qsec vs  am   carb\n",
              "1 4         3     21.5 120   97 3.70 2.46 20.0 1.0 0.00 1.00\n",
              "2 6         3     19.8 242  108 2.92 3.34 19.8 1.0 0.00 1.00\n",
              "3 8         3     15.1 358  194 3.12 4.10 17.1 0.0 0.00 3.08\n",
              "4 4         4     26.9 103   76 4.11 2.38 19.6 1.0 0.75 1.50\n",
              "5 6         4     19.8 164  116 3.91 3.09 17.7 0.5 0.50 4.00\n",
              "6 4         5     28.2 108  102 4.10 1.83 16.8 0.5 1.00 2.00\n",
              "7 6         5     19.7 145  175 3.62 2.77 15.5 0.0 1.00 6.00\n",
              "8 8         5     15.4 326  300 3.88 3.37 14.6 0.0 1.00 6.00"
            ]
          },
          "metadata": {}
        }
      ]
    },
    {
      "cell_type": "markdown",
      "source": [
        "Пакет dplyr предлагает более естественный метод агрегирования данных."
      ],
      "metadata": {
        "id": "FqS_fRXNAjJU"
      }
    },
    {
      "cell_type": "code",
      "source": [
        "mtcars"
      ],
      "metadata": {
        "id": "y4Ol1ANNBENC",
        "outputId": "84ce9724-81fe-4feb-f1c2-8c65e30da1f8",
        "colab": {
          "base_uri": "https://localhost:8080/",
          "height": 1000
        }
      },
      "execution_count": 101,
      "outputs": [
        {
          "output_type": "display_data",
          "data": {
            "text/html": [
              "<table class=\"dataframe\">\n",
              "<caption>A data.frame: 32 × 11</caption>\n",
              "<thead>\n",
              "\t<tr><th></th><th scope=col>mpg</th><th scope=col>cyl</th><th scope=col>disp</th><th scope=col>hp</th><th scope=col>drat</th><th scope=col>wt</th><th scope=col>qsec</th><th scope=col>vs</th><th scope=col>am</th><th scope=col>gear</th><th scope=col>carb</th></tr>\n",
              "\t<tr><th></th><th scope=col>&lt;dbl&gt;</th><th scope=col>&lt;dbl&gt;</th><th scope=col>&lt;dbl&gt;</th><th scope=col>&lt;dbl&gt;</th><th scope=col>&lt;dbl&gt;</th><th scope=col>&lt;dbl&gt;</th><th scope=col>&lt;dbl&gt;</th><th scope=col>&lt;dbl&gt;</th><th scope=col>&lt;dbl&gt;</th><th scope=col>&lt;dbl&gt;</th><th scope=col>&lt;dbl&gt;</th></tr>\n",
              "</thead>\n",
              "<tbody>\n",
              "\t<tr><th scope=row>Mazda RX4</th><td>21.0</td><td>6</td><td>160.0</td><td>110</td><td>3.90</td><td>2.62</td><td>16.5</td><td>0</td><td>1</td><td>4</td><td>4</td></tr>\n",
              "\t<tr><th scope=row>Mazda RX4 Wag</th><td>21.0</td><td>6</td><td>160.0</td><td>110</td><td>3.90</td><td>2.88</td><td>17.0</td><td>0</td><td>1</td><td>4</td><td>4</td></tr>\n",
              "\t<tr><th scope=row>Datsun 710</th><td>22.8</td><td>4</td><td>108.0</td><td> 93</td><td>3.85</td><td>2.32</td><td>18.6</td><td>1</td><td>1</td><td>4</td><td>1</td></tr>\n",
              "\t<tr><th scope=row>Hornet 4 Drive</th><td>21.4</td><td>6</td><td>258.0</td><td>110</td><td>3.08</td><td>3.21</td><td>19.4</td><td>1</td><td>0</td><td>3</td><td>1</td></tr>\n",
              "\t<tr><th scope=row>Hornet Sportabout</th><td>18.7</td><td>8</td><td>360.0</td><td>175</td><td>3.15</td><td>3.44</td><td>17.0</td><td>0</td><td>0</td><td>3</td><td>2</td></tr>\n",
              "\t<tr><th scope=row>Valiant</th><td>18.1</td><td>6</td><td>225.0</td><td>105</td><td>2.76</td><td>3.46</td><td>20.2</td><td>1</td><td>0</td><td>3</td><td>1</td></tr>\n",
              "\t<tr><th scope=row>Duster 360</th><td>14.3</td><td>8</td><td>360.0</td><td>245</td><td>3.21</td><td>3.57</td><td>15.8</td><td>0</td><td>0</td><td>3</td><td>4</td></tr>\n",
              "\t<tr><th scope=row>Merc 240D</th><td>24.4</td><td>4</td><td>146.7</td><td> 62</td><td>3.69</td><td>3.19</td><td>20.0</td><td>1</td><td>0</td><td>4</td><td>2</td></tr>\n",
              "\t<tr><th scope=row>Merc 230</th><td>22.8</td><td>4</td><td>140.8</td><td> 95</td><td>3.92</td><td>3.15</td><td>22.9</td><td>1</td><td>0</td><td>4</td><td>2</td></tr>\n",
              "\t<tr><th scope=row>Merc 280</th><td>19.2</td><td>6</td><td>167.6</td><td>123</td><td>3.92</td><td>3.44</td><td>18.3</td><td>1</td><td>0</td><td>4</td><td>4</td></tr>\n",
              "\t<tr><th scope=row>Merc 280C</th><td>17.8</td><td>6</td><td>167.6</td><td>123</td><td>3.92</td><td>3.44</td><td>18.9</td><td>1</td><td>0</td><td>4</td><td>4</td></tr>\n",
              "\t<tr><th scope=row>Merc 450SE</th><td>16.4</td><td>8</td><td>275.8</td><td>180</td><td>3.07</td><td>4.07</td><td>17.4</td><td>0</td><td>0</td><td>3</td><td>3</td></tr>\n",
              "\t<tr><th scope=row>Merc 450SL</th><td>17.3</td><td>8</td><td>275.8</td><td>180</td><td>3.07</td><td>3.73</td><td>17.6</td><td>0</td><td>0</td><td>3</td><td>3</td></tr>\n",
              "\t<tr><th scope=row>Merc 450SLC</th><td>15.2</td><td>8</td><td>275.8</td><td>180</td><td>3.07</td><td>3.78</td><td>18.0</td><td>0</td><td>0</td><td>3</td><td>3</td></tr>\n",
              "\t<tr><th scope=row>Cadillac Fleetwood</th><td>10.4</td><td>8</td><td>472.0</td><td>205</td><td>2.93</td><td>5.25</td><td>18.0</td><td>0</td><td>0</td><td>3</td><td>4</td></tr>\n",
              "\t<tr><th scope=row>Lincoln Continental</th><td>10.4</td><td>8</td><td>460.0</td><td>215</td><td>3.00</td><td>5.42</td><td>17.8</td><td>0</td><td>0</td><td>3</td><td>4</td></tr>\n",
              "\t<tr><th scope=row>Chrysler Imperial</th><td>14.7</td><td>8</td><td>440.0</td><td>230</td><td>3.23</td><td>5.34</td><td>17.4</td><td>0</td><td>0</td><td>3</td><td>4</td></tr>\n",
              "\t<tr><th scope=row>Fiat 128</th><td>32.4</td><td>4</td><td> 78.7</td><td> 66</td><td>4.08</td><td>2.20</td><td>19.5</td><td>1</td><td>1</td><td>4</td><td>1</td></tr>\n",
              "\t<tr><th scope=row>Honda Civic</th><td>30.4</td><td>4</td><td> 75.7</td><td> 52</td><td>4.93</td><td>1.61</td><td>18.5</td><td>1</td><td>1</td><td>4</td><td>2</td></tr>\n",
              "\t<tr><th scope=row>Toyota Corolla</th><td>33.9</td><td>4</td><td> 71.1</td><td> 65</td><td>4.22</td><td>1.83</td><td>19.9</td><td>1</td><td>1</td><td>4</td><td>1</td></tr>\n",
              "\t<tr><th scope=row>Toyota Corona</th><td>21.5</td><td>4</td><td>120.1</td><td> 97</td><td>3.70</td><td>2.46</td><td>20.0</td><td>1</td><td>0</td><td>3</td><td>1</td></tr>\n",
              "\t<tr><th scope=row>Dodge Challenger</th><td>15.5</td><td>8</td><td>318.0</td><td>150</td><td>2.76</td><td>3.52</td><td>16.9</td><td>0</td><td>0</td><td>3</td><td>2</td></tr>\n",
              "\t<tr><th scope=row>AMC Javelin</th><td>15.2</td><td>8</td><td>304.0</td><td>150</td><td>3.15</td><td>3.44</td><td>17.3</td><td>0</td><td>0</td><td>3</td><td>2</td></tr>\n",
              "\t<tr><th scope=row>Camaro Z28</th><td>13.3</td><td>8</td><td>350.0</td><td>245</td><td>3.73</td><td>3.84</td><td>15.4</td><td>0</td><td>0</td><td>3</td><td>4</td></tr>\n",
              "\t<tr><th scope=row>Pontiac Firebird</th><td>19.2</td><td>8</td><td>400.0</td><td>175</td><td>3.08</td><td>3.85</td><td>17.1</td><td>0</td><td>0</td><td>3</td><td>2</td></tr>\n",
              "\t<tr><th scope=row>Fiat X1-9</th><td>27.3</td><td>4</td><td> 79.0</td><td> 66</td><td>4.08</td><td>1.94</td><td>18.9</td><td>1</td><td>1</td><td>4</td><td>1</td></tr>\n",
              "\t<tr><th scope=row>Porsche 914-2</th><td>26.0</td><td>4</td><td>120.3</td><td> 91</td><td>4.43</td><td>2.14</td><td>16.7</td><td>0</td><td>1</td><td>5</td><td>2</td></tr>\n",
              "\t<tr><th scope=row>Lotus Europa</th><td>30.4</td><td>4</td><td> 95.1</td><td>113</td><td>3.77</td><td>1.51</td><td>16.9</td><td>1</td><td>1</td><td>5</td><td>2</td></tr>\n",
              "\t<tr><th scope=row>Ford Pantera L</th><td>15.8</td><td>8</td><td>351.0</td><td>264</td><td>4.22</td><td>3.17</td><td>14.5</td><td>0</td><td>1</td><td>5</td><td>4</td></tr>\n",
              "\t<tr><th scope=row>Ferrari Dino</th><td>19.7</td><td>6</td><td>145.0</td><td>175</td><td>3.62</td><td>2.77</td><td>15.5</td><td>0</td><td>1</td><td>5</td><td>6</td></tr>\n",
              "\t<tr><th scope=row>Maserati Bora</th><td>15.0</td><td>8</td><td>301.0</td><td>335</td><td>3.54</td><td>3.57</td><td>14.6</td><td>0</td><td>1</td><td>5</td><td>8</td></tr>\n",
              "\t<tr><th scope=row>Volvo 142E</th><td>21.4</td><td>4</td><td>121.0</td><td>109</td><td>4.11</td><td>2.78</td><td>18.6</td><td>1</td><td>1</td><td>4</td><td>2</td></tr>\n",
              "</tbody>\n",
              "</table>\n"
            ],
            "text/markdown": "\nA data.frame: 32 × 11\n\n| <!--/--> | mpg &lt;dbl&gt; | cyl &lt;dbl&gt; | disp &lt;dbl&gt; | hp &lt;dbl&gt; | drat &lt;dbl&gt; | wt &lt;dbl&gt; | qsec &lt;dbl&gt; | vs &lt;dbl&gt; | am &lt;dbl&gt; | gear &lt;dbl&gt; | carb &lt;dbl&gt; |\n|---|---|---|---|---|---|---|---|---|---|---|---|\n| Mazda RX4 | 21.0 | 6 | 160.0 | 110 | 3.90 | 2.62 | 16.5 | 0 | 1 | 4 | 4 |\n| Mazda RX4 Wag | 21.0 | 6 | 160.0 | 110 | 3.90 | 2.88 | 17.0 | 0 | 1 | 4 | 4 |\n| Datsun 710 | 22.8 | 4 | 108.0 |  93 | 3.85 | 2.32 | 18.6 | 1 | 1 | 4 | 1 |\n| Hornet 4 Drive | 21.4 | 6 | 258.0 | 110 | 3.08 | 3.21 | 19.4 | 1 | 0 | 3 | 1 |\n| Hornet Sportabout | 18.7 | 8 | 360.0 | 175 | 3.15 | 3.44 | 17.0 | 0 | 0 | 3 | 2 |\n| Valiant | 18.1 | 6 | 225.0 | 105 | 2.76 | 3.46 | 20.2 | 1 | 0 | 3 | 1 |\n| Duster 360 | 14.3 | 8 | 360.0 | 245 | 3.21 | 3.57 | 15.8 | 0 | 0 | 3 | 4 |\n| Merc 240D | 24.4 | 4 | 146.7 |  62 | 3.69 | 3.19 | 20.0 | 1 | 0 | 4 | 2 |\n| Merc 230 | 22.8 | 4 | 140.8 |  95 | 3.92 | 3.15 | 22.9 | 1 | 0 | 4 | 2 |\n| Merc 280 | 19.2 | 6 | 167.6 | 123 | 3.92 | 3.44 | 18.3 | 1 | 0 | 4 | 4 |\n| Merc 280C | 17.8 | 6 | 167.6 | 123 | 3.92 | 3.44 | 18.9 | 1 | 0 | 4 | 4 |\n| Merc 450SE | 16.4 | 8 | 275.8 | 180 | 3.07 | 4.07 | 17.4 | 0 | 0 | 3 | 3 |\n| Merc 450SL | 17.3 | 8 | 275.8 | 180 | 3.07 | 3.73 | 17.6 | 0 | 0 | 3 | 3 |\n| Merc 450SLC | 15.2 | 8 | 275.8 | 180 | 3.07 | 3.78 | 18.0 | 0 | 0 | 3 | 3 |\n| Cadillac Fleetwood | 10.4 | 8 | 472.0 | 205 | 2.93 | 5.25 | 18.0 | 0 | 0 | 3 | 4 |\n| Lincoln Continental | 10.4 | 8 | 460.0 | 215 | 3.00 | 5.42 | 17.8 | 0 | 0 | 3 | 4 |\n| Chrysler Imperial | 14.7 | 8 | 440.0 | 230 | 3.23 | 5.34 | 17.4 | 0 | 0 | 3 | 4 |\n| Fiat 128 | 32.4 | 4 |  78.7 |  66 | 4.08 | 2.20 | 19.5 | 1 | 1 | 4 | 1 |\n| Honda Civic | 30.4 | 4 |  75.7 |  52 | 4.93 | 1.61 | 18.5 | 1 | 1 | 4 | 2 |\n| Toyota Corolla | 33.9 | 4 |  71.1 |  65 | 4.22 | 1.83 | 19.9 | 1 | 1 | 4 | 1 |\n| Toyota Corona | 21.5 | 4 | 120.1 |  97 | 3.70 | 2.46 | 20.0 | 1 | 0 | 3 | 1 |\n| Dodge Challenger | 15.5 | 8 | 318.0 | 150 | 2.76 | 3.52 | 16.9 | 0 | 0 | 3 | 2 |\n| AMC Javelin | 15.2 | 8 | 304.0 | 150 | 3.15 | 3.44 | 17.3 | 0 | 0 | 3 | 2 |\n| Camaro Z28 | 13.3 | 8 | 350.0 | 245 | 3.73 | 3.84 | 15.4 | 0 | 0 | 3 | 4 |\n| Pontiac Firebird | 19.2 | 8 | 400.0 | 175 | 3.08 | 3.85 | 17.1 | 0 | 0 | 3 | 2 |\n| Fiat X1-9 | 27.3 | 4 |  79.0 |  66 | 4.08 | 1.94 | 18.9 | 1 | 1 | 4 | 1 |\n| Porsche 914-2 | 26.0 | 4 | 120.3 |  91 | 4.43 | 2.14 | 16.7 | 0 | 1 | 5 | 2 |\n| Lotus Europa | 30.4 | 4 |  95.1 | 113 | 3.77 | 1.51 | 16.9 | 1 | 1 | 5 | 2 |\n| Ford Pantera L | 15.8 | 8 | 351.0 | 264 | 4.22 | 3.17 | 14.5 | 0 | 1 | 5 | 4 |\n| Ferrari Dino | 19.7 | 6 | 145.0 | 175 | 3.62 | 2.77 | 15.5 | 0 | 1 | 5 | 6 |\n| Maserati Bora | 15.0 | 8 | 301.0 | 335 | 3.54 | 3.57 | 14.6 | 0 | 1 | 5 | 8 |\n| Volvo 142E | 21.4 | 4 | 121.0 | 109 | 4.11 | 2.78 | 18.6 | 1 | 1 | 4 | 2 |\n\n",
            "text/latex": "A data.frame: 32 × 11\n\\begin{tabular}{r|lllllllllll}\n  & mpg & cyl & disp & hp & drat & wt & qsec & vs & am & gear & carb\\\\\n  & <dbl> & <dbl> & <dbl> & <dbl> & <dbl> & <dbl> & <dbl> & <dbl> & <dbl> & <dbl> & <dbl>\\\\\n\\hline\n\tMazda RX4 & 21.0 & 6 & 160.0 & 110 & 3.90 & 2.62 & 16.5 & 0 & 1 & 4 & 4\\\\\n\tMazda RX4 Wag & 21.0 & 6 & 160.0 & 110 & 3.90 & 2.88 & 17.0 & 0 & 1 & 4 & 4\\\\\n\tDatsun 710 & 22.8 & 4 & 108.0 &  93 & 3.85 & 2.32 & 18.6 & 1 & 1 & 4 & 1\\\\\n\tHornet 4 Drive & 21.4 & 6 & 258.0 & 110 & 3.08 & 3.21 & 19.4 & 1 & 0 & 3 & 1\\\\\n\tHornet Sportabout & 18.7 & 8 & 360.0 & 175 & 3.15 & 3.44 & 17.0 & 0 & 0 & 3 & 2\\\\\n\tValiant & 18.1 & 6 & 225.0 & 105 & 2.76 & 3.46 & 20.2 & 1 & 0 & 3 & 1\\\\\n\tDuster 360 & 14.3 & 8 & 360.0 & 245 & 3.21 & 3.57 & 15.8 & 0 & 0 & 3 & 4\\\\\n\tMerc 240D & 24.4 & 4 & 146.7 &  62 & 3.69 & 3.19 & 20.0 & 1 & 0 & 4 & 2\\\\\n\tMerc 230 & 22.8 & 4 & 140.8 &  95 & 3.92 & 3.15 & 22.9 & 1 & 0 & 4 & 2\\\\\n\tMerc 280 & 19.2 & 6 & 167.6 & 123 & 3.92 & 3.44 & 18.3 & 1 & 0 & 4 & 4\\\\\n\tMerc 280C & 17.8 & 6 & 167.6 & 123 & 3.92 & 3.44 & 18.9 & 1 & 0 & 4 & 4\\\\\n\tMerc 450SE & 16.4 & 8 & 275.8 & 180 & 3.07 & 4.07 & 17.4 & 0 & 0 & 3 & 3\\\\\n\tMerc 450SL & 17.3 & 8 & 275.8 & 180 & 3.07 & 3.73 & 17.6 & 0 & 0 & 3 & 3\\\\\n\tMerc 450SLC & 15.2 & 8 & 275.8 & 180 & 3.07 & 3.78 & 18.0 & 0 & 0 & 3 & 3\\\\\n\tCadillac Fleetwood & 10.4 & 8 & 472.0 & 205 & 2.93 & 5.25 & 18.0 & 0 & 0 & 3 & 4\\\\\n\tLincoln Continental & 10.4 & 8 & 460.0 & 215 & 3.00 & 5.42 & 17.8 & 0 & 0 & 3 & 4\\\\\n\tChrysler Imperial & 14.7 & 8 & 440.0 & 230 & 3.23 & 5.34 & 17.4 & 0 & 0 & 3 & 4\\\\\n\tFiat 128 & 32.4 & 4 &  78.7 &  66 & 4.08 & 2.20 & 19.5 & 1 & 1 & 4 & 1\\\\\n\tHonda Civic & 30.4 & 4 &  75.7 &  52 & 4.93 & 1.61 & 18.5 & 1 & 1 & 4 & 2\\\\\n\tToyota Corolla & 33.9 & 4 &  71.1 &  65 & 4.22 & 1.83 & 19.9 & 1 & 1 & 4 & 1\\\\\n\tToyota Corona & 21.5 & 4 & 120.1 &  97 & 3.70 & 2.46 & 20.0 & 1 & 0 & 3 & 1\\\\\n\tDodge Challenger & 15.5 & 8 & 318.0 & 150 & 2.76 & 3.52 & 16.9 & 0 & 0 & 3 & 2\\\\\n\tAMC Javelin & 15.2 & 8 & 304.0 & 150 & 3.15 & 3.44 & 17.3 & 0 & 0 & 3 & 2\\\\\n\tCamaro Z28 & 13.3 & 8 & 350.0 & 245 & 3.73 & 3.84 & 15.4 & 0 & 0 & 3 & 4\\\\\n\tPontiac Firebird & 19.2 & 8 & 400.0 & 175 & 3.08 & 3.85 & 17.1 & 0 & 0 & 3 & 2\\\\\n\tFiat X1-9 & 27.3 & 4 &  79.0 &  66 & 4.08 & 1.94 & 18.9 & 1 & 1 & 4 & 1\\\\\n\tPorsche 914-2 & 26.0 & 4 & 120.3 &  91 & 4.43 & 2.14 & 16.7 & 0 & 1 & 5 & 2\\\\\n\tLotus Europa & 30.4 & 4 &  95.1 & 113 & 3.77 & 1.51 & 16.9 & 1 & 1 & 5 & 2\\\\\n\tFord Pantera L & 15.8 & 8 & 351.0 & 264 & 4.22 & 3.17 & 14.5 & 0 & 1 & 5 & 4\\\\\n\tFerrari Dino & 19.7 & 6 & 145.0 & 175 & 3.62 & 2.77 & 15.5 & 0 & 1 & 5 & 6\\\\\n\tMaserati Bora & 15.0 & 8 & 301.0 & 335 & 3.54 & 3.57 & 14.6 & 0 & 1 & 5 & 8\\\\\n\tVolvo 142E & 21.4 & 4 & 121.0 & 109 & 4.11 & 2.78 & 18.6 & 1 & 1 & 4 & 2\\\\\n\\end{tabular}\n",
            "text/plain": [
              "                    mpg  cyl disp  hp  drat wt   qsec vs am gear carb\n",
              "Mazda RX4           21.0 6   160.0 110 3.90 2.62 16.5 0  1  4    4   \n",
              "Mazda RX4 Wag       21.0 6   160.0 110 3.90 2.88 17.0 0  1  4    4   \n",
              "Datsun 710          22.8 4   108.0  93 3.85 2.32 18.6 1  1  4    1   \n",
              "Hornet 4 Drive      21.4 6   258.0 110 3.08 3.21 19.4 1  0  3    1   \n",
              "Hornet Sportabout   18.7 8   360.0 175 3.15 3.44 17.0 0  0  3    2   \n",
              "Valiant             18.1 6   225.0 105 2.76 3.46 20.2 1  0  3    1   \n",
              "Duster 360          14.3 8   360.0 245 3.21 3.57 15.8 0  0  3    4   \n",
              "Merc 240D           24.4 4   146.7  62 3.69 3.19 20.0 1  0  4    2   \n",
              "Merc 230            22.8 4   140.8  95 3.92 3.15 22.9 1  0  4    2   \n",
              "Merc 280            19.2 6   167.6 123 3.92 3.44 18.3 1  0  4    4   \n",
              "Merc 280C           17.8 6   167.6 123 3.92 3.44 18.9 1  0  4    4   \n",
              "Merc 450SE          16.4 8   275.8 180 3.07 4.07 17.4 0  0  3    3   \n",
              "Merc 450SL          17.3 8   275.8 180 3.07 3.73 17.6 0  0  3    3   \n",
              "Merc 450SLC         15.2 8   275.8 180 3.07 3.78 18.0 0  0  3    3   \n",
              "Cadillac Fleetwood  10.4 8   472.0 205 2.93 5.25 18.0 0  0  3    4   \n",
              "Lincoln Continental 10.4 8   460.0 215 3.00 5.42 17.8 0  0  3    4   \n",
              "Chrysler Imperial   14.7 8   440.0 230 3.23 5.34 17.4 0  0  3    4   \n",
              "Fiat 128            32.4 4    78.7  66 4.08 2.20 19.5 1  1  4    1   \n",
              "Honda Civic         30.4 4    75.7  52 4.93 1.61 18.5 1  1  4    2   \n",
              "Toyota Corolla      33.9 4    71.1  65 4.22 1.83 19.9 1  1  4    1   \n",
              "Toyota Corona       21.5 4   120.1  97 3.70 2.46 20.0 1  0  3    1   \n",
              "Dodge Challenger    15.5 8   318.0 150 2.76 3.52 16.9 0  0  3    2   \n",
              "AMC Javelin         15.2 8   304.0 150 3.15 3.44 17.3 0  0  3    2   \n",
              "Camaro Z28          13.3 8   350.0 245 3.73 3.84 15.4 0  0  3    4   \n",
              "Pontiac Firebird    19.2 8   400.0 175 3.08 3.85 17.1 0  0  3    2   \n",
              "Fiat X1-9           27.3 4    79.0  66 4.08 1.94 18.9 1  1  4    1   \n",
              "Porsche 914-2       26.0 4   120.3  91 4.43 2.14 16.7 0  1  5    2   \n",
              "Lotus Europa        30.4 4    95.1 113 3.77 1.51 16.9 1  1  5    2   \n",
              "Ford Pantera L      15.8 8   351.0 264 4.22 3.17 14.5 0  1  5    4   \n",
              "Ferrari Dino        19.7 6   145.0 175 3.62 2.77 15.5 0  1  5    6   \n",
              "Maserati Bora       15.0 8   301.0 335 3.54 3.57 14.6 0  1  5    8   \n",
              "Volvo 142E          21.4 4   121.0 109 4.11 2.78 18.6 1  1  4    2   "
            ]
          },
          "metadata": {}
        }
      ]
    },
    {
      "cell_type": "code",
      "source": [
        "mtcars %>%\n",
        "  group_by(cyl, gear) %>%\n",
        "  summarise_all(list(mean), na.rm=TRUE)"
      ],
      "metadata": {
        "id": "J0XHwo8fAnYa",
        "outputId": "289ded84-fae8-4c6b-842c-c0fd721f5cdc",
        "colab": {
          "base_uri": "https://localhost:8080/",
          "height": 714
        }
      },
      "execution_count": 104,
      "outputs": [
        {
          "output_type": "error",
          "ename": "ERROR",
          "evalue": "\u001b[1m\u001b[33mError\u001b[39m in `summarise_all()`:\u001b[22m\n\u001b[1m\u001b[22m\u001b[33m!\u001b[39m `.funs` must be a one sided formula, a function, or a function name.\n",
          "traceback": [
            "\u001b[1m\u001b[33mError\u001b[39m in `summarise_all()`:\u001b[22m\n\u001b[1m\u001b[22m\u001b[33m!\u001b[39m `.funs` must be a one sided formula, a function, or a function name.\nTraceback:\n",
            "1. mtcars %>% group_by(cyl, gear) %>% summarise_all(list(mean), \n .     na.rm = TRUE)",
            "2. summarise_all(., list(mean), na.rm = TRUE)",
            "3. manip_all(.tbl, .funs, enquo(.funs), caller_env(), ..., .caller = \"summarise_all\")",
            "4. as_fun_list(.funs, .env, ..., .caller = .caller, error_call = error_call, \n .     .user_env = caller_env(2))",
            "5. map(.funs, function(.x) {\n .     if (is_formula(.x)) {\n .         if (is_quosure(.x)) {\n .             what <- paste0(\"dplyr::\", .caller, \"(\", .caller_arg, \n .                 \" = \", \"'can\\\\'t contain quosures')\")\n .             lifecycle::deprecate_warn(\"0.8.3\", what, details = \"Please use a one-sided formula, a function, or a function name.\", \n .                 always = TRUE, env = .env, user_env = .user_env)\n .             .x <- new_formula(NULL, quo_squash(.x), quo_get_env(.x))\n .         }\n .         .x <- as_inlined_function(.x, env = .env)\n .     }\n .     else {\n .         if (is_character(.x)) {\n .             .x <- get(.x, .env, mode = \"function\")\n .         }\n .         else if (!is_function(.x)) {\n .             msg <- \"`.funs` must be a one sided formula, a function, or a function name.\"\n .             abort(msg, call = error_call)\n .         }\n .         if (length(args)) {\n .             .x <- new_quosure(call2(.x, quote(.), !!!args), env = .env)\n .         }\n .     }\n .     .x\n . })",
            "6. lapply(.x, .f, ...)",
            "7. FUN(X[[i]], ...)",
            "8. abort(msg, call = error_call)",
            "9. signal_abort(cnd, .file)"
          ]
        }
      ]
    },
    {
      "cell_type": "markdown",
      "source": [
        "Агрегированные переменные сохраняют свои имена и не дублируются в выходных данных. Мы еще вернемся к пакету dplyr и подробнее остановимся на его возможностях обобщения при обсуждении приемов обобщения и получения описательных статистик в главе 7.\n",
        "\n",
        "Теперь у вас есть все инструменты, необходимые для преобразования данных в нужный вид. Мы готовы распрощаться с первой частью книги и перейти в волнующий мир анализа данных! В следующих главах мы начнем исследовать разнообразные статистические и графические методы извлечения информации из данных."
      ],
      "metadata": {
        "id": "eZ7d8aa6Bvji"
      }
    },
    {
      "cell_type": "markdown",
      "source": [
        "# Итоги\n",
        "* Язык R содержит сотни математических, статистических и вероятностных функций, которые с успехом можно использовать для обработки данных и применять к широкому спектру объектов данных, включая векторы, матрицы и таблицы данных.\n",
        "* Условные операторы и циклы позволяют выполнять инструкции только при определенных условиях или многократно.\n",
        "* R позволяет пользователям писать свои функции и тем самым расширять возможности их программ.\n",
        "* Часто перед проведением дальнейшего анализа данные необходимо агрегировать и/или реструктурировать."
      ],
      "metadata": {
        "id": "P0WPlS6OB_DK"
      }
    }
  ]
}