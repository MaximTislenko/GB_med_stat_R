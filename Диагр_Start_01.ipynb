{
  "nbformat": 4,
  "nbformat_minor": 0,
  "metadata": {
    "colab": {
      "provenance": [],
      "include_colab_link": true
    },
    "kernelspec": {
      "name": "ir",
      "display_name": "R"
    },
    "language_info": {
      "name": "R"
    }
  },
  "cells": [
    {
      "cell_type": "markdown",
      "metadata": {
        "id": "view-in-github",
        "colab_type": "text"
      },
      "source": [
        "<a href=\"https://colab.research.google.com/github/MaximTislenko/GB_med_stat_R/blob/main/%D0%94%D0%B8%D0%B0%D0%B3%D1%80_Start_01.ipynb\" target=\"_parent\"><img src=\"https://colab.research.google.com/assets/colab-badge.svg\" alt=\"Open In Colab\"/></a>"
      ]
    },
    {
      "cell_type": "markdown",
      "source": [
        "# Создание набора данных"
      ],
      "metadata": {
        "id": "yaZVoNFFoC1F"
      }
    },
    {
      "cell_type": "code",
      "execution_count": 1,
      "metadata": {
        "id": "AdrY4BSy4w1z",
        "outputId": "5697f65d-7e39-4e66-cf59-f0377c48557d",
        "colab": {
          "base_uri": "https://localhost:8080/"
        }
      },
      "outputs": [
        {
          "output_type": "stream",
          "name": "stderr",
          "text": [
            "── \u001b[1mAttaching core tidyverse packages\u001b[22m ──────────────────────── tidyverse 2.0.0 ──\n",
            "\u001b[32m✔\u001b[39m \u001b[34mdplyr    \u001b[39m 1.1.4     \u001b[32m✔\u001b[39m \u001b[34mreadr    \u001b[39m 2.1.5\n",
            "\u001b[32m✔\u001b[39m \u001b[34mforcats  \u001b[39m 1.0.0     \u001b[32m✔\u001b[39m \u001b[34mstringr  \u001b[39m 1.5.1\n",
            "\u001b[32m✔\u001b[39m \u001b[34mggplot2  \u001b[39m 3.4.4     \u001b[32m✔\u001b[39m \u001b[34mtibble   \u001b[39m 3.2.1\n",
            "\u001b[32m✔\u001b[39m \u001b[34mlubridate\u001b[39m 1.9.3     \u001b[32m✔\u001b[39m \u001b[34mtidyr    \u001b[39m 1.3.1\n",
            "\u001b[32m✔\u001b[39m \u001b[34mpurrr    \u001b[39m 1.0.2     \n",
            "── \u001b[1mConflicts\u001b[22m ────────────────────────────────────────── tidyverse_conflicts() ──\n",
            "\u001b[31m✖\u001b[39m \u001b[34mpurrr\u001b[39m::\u001b[32m%||%()\u001b[39m   masks \u001b[34mbase\u001b[39m::%||%()\n",
            "\u001b[31m✖\u001b[39m \u001b[34mdplyr\u001b[39m::\u001b[32mfilter()\u001b[39m masks \u001b[34mstats\u001b[39m::filter()\n",
            "\u001b[31m✖\u001b[39m \u001b[34mdplyr\u001b[39m::\u001b[32mlag()\u001b[39m    masks \u001b[34mstats\u001b[39m::lag()\n",
            "\u001b[36mℹ\u001b[39m Use the conflicted package (\u001b[3m\u001b[34m<http://conflicted.r-lib.org/>\u001b[39m\u001b[23m) to force all conflicts to become errors\n"
          ]
        }
      ],
      "source": [
        "library(tidyverse)\n",
        "library(readxl)"
      ]
    },
    {
      "cell_type": "markdown",
      "source": [
        "# Основы управления данными"
      ],
      "metadata": {
        "id": "MZJyHFv-whvR"
      }
    },
    {
      "cell_type": "code",
      "source": [
        "leadership <- data.frame(\n",
        "  manager = c(1, 2, 3, 4, 5),\n",
        "  date = c(\"10/24/08\", \"10/28/08\", \"10/1/08\", \"10/12/08\", \"5/1/09\"),\n",
        "  country = c(\"US\", \"US\", \"UK\", \"UK\", \"UK\"),\n",
        "  gender = c(\"M\", \"F\", \"F\", \"M\", \"F\"),\n",
        "  age = c(32, 45, 25, 39, 99),\n",
        "  q1 = c(5, 3, 3, 3, 2),\n",
        "  q2 = c(4, 5, 5, 3, 2),\n",
        "  q3 = c(5, 2, 5, 4, 1),\n",
        "  q4 = c(5, 5, 5, NA, 2),\n",
        "  q5 = c(5, 5, 2, NA, 1)\n",
        "  )\n",
        "\n",
        "leadership"
      ],
      "metadata": {
        "id": "yVZvv71cwtnD",
        "outputId": "c955a9bb-b349-4233-c9e7-c95aa5d64a8c",
        "colab": {
          "base_uri": "https://localhost:8080/",
          "height": 255
        }
      },
      "execution_count": null,
      "outputs": [
        {
          "output_type": "display_data",
          "data": {
            "text/html": [
              "<table class=\"dataframe\">\n",
              "<caption>A data.frame: 5 × 10</caption>\n",
              "<thead>\n",
              "\t<tr><th scope=col>manager</th><th scope=col>date</th><th scope=col>country</th><th scope=col>gender</th><th scope=col>age</th><th scope=col>q1</th><th scope=col>q2</th><th scope=col>q3</th><th scope=col>q4</th><th scope=col>q5</th></tr>\n",
              "\t<tr><th scope=col>&lt;dbl&gt;</th><th scope=col>&lt;chr&gt;</th><th scope=col>&lt;chr&gt;</th><th scope=col>&lt;chr&gt;</th><th scope=col>&lt;dbl&gt;</th><th scope=col>&lt;dbl&gt;</th><th scope=col>&lt;dbl&gt;</th><th scope=col>&lt;dbl&gt;</th><th scope=col>&lt;dbl&gt;</th><th scope=col>&lt;dbl&gt;</th></tr>\n",
              "</thead>\n",
              "<tbody>\n",
              "\t<tr><td>1</td><td>10/24/08</td><td>US</td><td>M</td><td>32</td><td>5</td><td>4</td><td>5</td><td> 5</td><td> 5</td></tr>\n",
              "\t<tr><td>2</td><td>10/28/08</td><td>US</td><td>F</td><td>45</td><td>3</td><td>5</td><td>2</td><td> 5</td><td> 5</td></tr>\n",
              "\t<tr><td>3</td><td>10/1/08 </td><td>UK</td><td>F</td><td>25</td><td>3</td><td>5</td><td>5</td><td> 5</td><td> 2</td></tr>\n",
              "\t<tr><td>4</td><td>10/12/08</td><td>UK</td><td>M</td><td>39</td><td>3</td><td>3</td><td>4</td><td>NA</td><td>NA</td></tr>\n",
              "\t<tr><td>5</td><td>5/1/09  </td><td>UK</td><td>F</td><td>99</td><td>2</td><td>2</td><td>1</td><td> 2</td><td> 1</td></tr>\n",
              "</tbody>\n",
              "</table>\n"
            ],
            "text/markdown": "\nA data.frame: 5 × 10\n\n| manager &lt;dbl&gt; | date &lt;chr&gt; | country &lt;chr&gt; | gender &lt;chr&gt; | age &lt;dbl&gt; | q1 &lt;dbl&gt; | q2 &lt;dbl&gt; | q3 &lt;dbl&gt; | q4 &lt;dbl&gt; | q5 &lt;dbl&gt; |\n|---|---|---|---|---|---|---|---|---|---|\n| 1 | 10/24/08 | US | M | 32 | 5 | 4 | 5 |  5 |  5 |\n| 2 | 10/28/08 | US | F | 45 | 3 | 5 | 2 |  5 |  5 |\n| 3 | 10/1/08  | UK | F | 25 | 3 | 5 | 5 |  5 |  2 |\n| 4 | 10/12/08 | UK | M | 39 | 3 | 3 | 4 | NA | NA |\n| 5 | 5/1/09   | UK | F | 99 | 2 | 2 | 1 |  2 |  1 |\n\n",
            "text/latex": "A data.frame: 5 × 10\n\\begin{tabular}{llllllllll}\n manager & date & country & gender & age & q1 & q2 & q3 & q4 & q5\\\\\n <dbl> & <chr> & <chr> & <chr> & <dbl> & <dbl> & <dbl> & <dbl> & <dbl> & <dbl>\\\\\n\\hline\n\t 1 & 10/24/08 & US & M & 32 & 5 & 4 & 5 &  5 &  5\\\\\n\t 2 & 10/28/08 & US & F & 45 & 3 & 5 & 2 &  5 &  5\\\\\n\t 3 & 10/1/08  & UK & F & 25 & 3 & 5 & 5 &  5 &  2\\\\\n\t 4 & 10/12/08 & UK & M & 39 & 3 & 3 & 4 & NA & NA\\\\\n\t 5 & 5/1/09   & UK & F & 99 & 2 & 2 & 1 &  2 &  1\\\\\n\\end{tabular}\n",
            "text/plain": [
              "  manager date     country gender age q1 q2 q3 q4 q5\n",
              "1 1       10/24/08 US      M      32  5  4  5   5  5\n",
              "2 2       10/28/08 US      F      45  3  5  2   5  5\n",
              "3 3       10/1/08  UK      F      25  3  5  5   5  2\n",
              "4 4       10/12/08 UK      M      39  3  3  4  NA NA\n",
              "5 5       5/1/09   UK      F      99  2  2  1   2  1"
            ]
          },
          "metadata": {}
        }
      ]
    },
    {
      "cell_type": "markdown",
      "source": [
        "## Создание новых переменных\n",
        "\n",
        "Чаще всего используется операция присваивания:\n",
        "\n",
        "переменная <- выражение\n",
        "\n",
        "* $+$ -  Сложение\n",
        "* $-$ - Вычитание\n",
        "* $*$ - Умножение\n",
        "* $/$ - Деление\n",
        "* ^ или $**$ - Возведение в степень\n",
        "* x%%y -  Деление по модулю (остаток от деления) x на y: 5%%2=1\n",
        "* x%/%y -  Деление нацело x на y: 5%/%2=2"
      ],
      "metadata": {
        "id": "QH1v4n3R_ldz"
      }
    },
    {
      "cell_type": "code",
      "source": [
        "# первый способ\n",
        "leadership$total_score <- leadership$q1 + leadership$q2 + leadership$q3 + leadership$q4 + leadership$q5\n",
        "leadership$mean_score <- (leadership$q1 + leadership$q2 + leadership$q3 + leadership$q4 + leadership$q5)/5\n",
        "leadership"
      ],
      "metadata": {
        "id": "Co15kfh6_lBz",
        "outputId": "f79d71f8-56b8-4c3b-da4a-779c921fbae9",
        "colab": {
          "base_uri": "https://localhost:8080/",
          "height": 255
        }
      },
      "execution_count": null,
      "outputs": [
        {
          "output_type": "display_data",
          "data": {
            "text/html": [
              "<table class=\"dataframe\">\n",
              "<caption>A data.frame: 5 × 12</caption>\n",
              "<thead>\n",
              "\t<tr><th scope=col>manager</th><th scope=col>date</th><th scope=col>country</th><th scope=col>gender</th><th scope=col>age</th><th scope=col>q1</th><th scope=col>q2</th><th scope=col>q3</th><th scope=col>q4</th><th scope=col>q5</th><th scope=col>total_score</th><th scope=col>mean_score</th></tr>\n",
              "\t<tr><th scope=col>&lt;dbl&gt;</th><th scope=col>&lt;chr&gt;</th><th scope=col>&lt;chr&gt;</th><th scope=col>&lt;chr&gt;</th><th scope=col>&lt;dbl&gt;</th><th scope=col>&lt;dbl&gt;</th><th scope=col>&lt;dbl&gt;</th><th scope=col>&lt;dbl&gt;</th><th scope=col>&lt;dbl&gt;</th><th scope=col>&lt;dbl&gt;</th><th scope=col>&lt;dbl&gt;</th><th scope=col>&lt;dbl&gt;</th></tr>\n",
              "</thead>\n",
              "<tbody>\n",
              "\t<tr><td>1</td><td>10/24/08</td><td>US</td><td>M</td><td>32</td><td>5</td><td>4</td><td>5</td><td> 5</td><td> 5</td><td>24</td><td>4.8</td></tr>\n",
              "\t<tr><td>2</td><td>10/28/08</td><td>US</td><td>F</td><td>45</td><td>3</td><td>5</td><td>2</td><td> 5</td><td> 5</td><td>20</td><td>4.0</td></tr>\n",
              "\t<tr><td>3</td><td>10/1/08 </td><td>UK</td><td>F</td><td>25</td><td>3</td><td>5</td><td>5</td><td> 5</td><td> 2</td><td>20</td><td>4.0</td></tr>\n",
              "\t<tr><td>4</td><td>10/12/08</td><td>UK</td><td>M</td><td>39</td><td>3</td><td>3</td><td>4</td><td>NA</td><td>NA</td><td>NA</td><td> NA</td></tr>\n",
              "\t<tr><td>5</td><td>5/1/09  </td><td>UK</td><td>F</td><td>99</td><td>2</td><td>2</td><td>1</td><td> 2</td><td> 1</td><td> 8</td><td>1.6</td></tr>\n",
              "</tbody>\n",
              "</table>\n"
            ],
            "text/markdown": "\nA data.frame: 5 × 12\n\n| manager &lt;dbl&gt; | date &lt;chr&gt; | country &lt;chr&gt; | gender &lt;chr&gt; | age &lt;dbl&gt; | q1 &lt;dbl&gt; | q2 &lt;dbl&gt; | q3 &lt;dbl&gt; | q4 &lt;dbl&gt; | q5 &lt;dbl&gt; | total_score &lt;dbl&gt; | mean_score &lt;dbl&gt; |\n|---|---|---|---|---|---|---|---|---|---|---|---|\n| 1 | 10/24/08 | US | M | 32 | 5 | 4 | 5 |  5 |  5 | 24 | 4.8 |\n| 2 | 10/28/08 | US | F | 45 | 3 | 5 | 2 |  5 |  5 | 20 | 4.0 |\n| 3 | 10/1/08  | UK | F | 25 | 3 | 5 | 5 |  5 |  2 | 20 | 4.0 |\n| 4 | 10/12/08 | UK | M | 39 | 3 | 3 | 4 | NA | NA | NA |  NA |\n| 5 | 5/1/09   | UK | F | 99 | 2 | 2 | 1 |  2 |  1 |  8 | 1.6 |\n\n",
            "text/latex": "A data.frame: 5 × 12\n\\begin{tabular}{llllllllllll}\n manager & date & country & gender & age & q1 & q2 & q3 & q4 & q5 & total\\_score & mean\\_score\\\\\n <dbl> & <chr> & <chr> & <chr> & <dbl> & <dbl> & <dbl> & <dbl> & <dbl> & <dbl> & <dbl> & <dbl>\\\\\n\\hline\n\t 1 & 10/24/08 & US & M & 32 & 5 & 4 & 5 &  5 &  5 & 24 & 4.8\\\\\n\t 2 & 10/28/08 & US & F & 45 & 3 & 5 & 2 &  5 &  5 & 20 & 4.0\\\\\n\t 3 & 10/1/08  & UK & F & 25 & 3 & 5 & 5 &  5 &  2 & 20 & 4.0\\\\\n\t 4 & 10/12/08 & UK & M & 39 & 3 & 3 & 4 & NA & NA & NA &  NA\\\\\n\t 5 & 5/1/09   & UK & F & 99 & 2 & 2 & 1 &  2 &  1 &  8 & 1.6\\\\\n\\end{tabular}\n",
            "text/plain": [
              "  manager date     country gender age q1 q2 q3 q4 q5 total_score mean_score\n",
              "1 1       10/24/08 US      M      32  5  4  5   5  5 24          4.8       \n",
              "2 2       10/28/08 US      F      45  3  5  2   5  5 20          4.0       \n",
              "3 3       10/1/08  UK      F      25  3  5  5   5  2 20          4.0       \n",
              "4 4       10/12/08 UK      M      39  3  3  4  NA NA NA           NA       \n",
              "5 5       5/1/09   UK      F      99  2  2  1   2  1  8          1.6       "
            ]
          },
          "metadata": {}
        }
      ]
    },
    {
      "cell_type": "code",
      "source": [
        "# второй способ\n",
        "leadership <- transform(leadership,\n",
        "total_score = q1 + q2 + q3 + q4 + q5,\n",
        "mean_score = (q1 + q2 + q3 + q4 + q5)/5)\n",
        "leadership"
      ],
      "metadata": {
        "id": "3BnErCgLBOtc",
        "outputId": "79ec8f26-9f9f-4782-c52e-a4e331d5a880",
        "colab": {
          "base_uri": "https://localhost:8080/",
          "height": 255
        }
      },
      "execution_count": null,
      "outputs": [
        {
          "output_type": "display_data",
          "data": {
            "text/html": [
              "<table class=\"dataframe\">\n",
              "<caption>A data.frame: 5 × 12</caption>\n",
              "<thead>\n",
              "\t<tr><th scope=col>manager</th><th scope=col>date</th><th scope=col>country</th><th scope=col>gender</th><th scope=col>age</th><th scope=col>q1</th><th scope=col>q2</th><th scope=col>q3</th><th scope=col>q4</th><th scope=col>q5</th><th scope=col>total_score</th><th scope=col>mean_score</th></tr>\n",
              "\t<tr><th scope=col>&lt;dbl&gt;</th><th scope=col>&lt;chr&gt;</th><th scope=col>&lt;chr&gt;</th><th scope=col>&lt;chr&gt;</th><th scope=col>&lt;dbl&gt;</th><th scope=col>&lt;dbl&gt;</th><th scope=col>&lt;dbl&gt;</th><th scope=col>&lt;dbl&gt;</th><th scope=col>&lt;dbl&gt;</th><th scope=col>&lt;dbl&gt;</th><th scope=col>&lt;dbl&gt;</th><th scope=col>&lt;dbl&gt;</th></tr>\n",
              "</thead>\n",
              "<tbody>\n",
              "\t<tr><td>1</td><td>10/24/08</td><td>US</td><td>M</td><td>32</td><td>5</td><td>4</td><td>5</td><td> 5</td><td> 5</td><td>24</td><td>4.8</td></tr>\n",
              "\t<tr><td>2</td><td>10/28/08</td><td>US</td><td>F</td><td>45</td><td>3</td><td>5</td><td>2</td><td> 5</td><td> 5</td><td>20</td><td>4.0</td></tr>\n",
              "\t<tr><td>3</td><td>10/1/08 </td><td>UK</td><td>F</td><td>25</td><td>3</td><td>5</td><td>5</td><td> 5</td><td> 2</td><td>20</td><td>4.0</td></tr>\n",
              "\t<tr><td>4</td><td>10/12/08</td><td>UK</td><td>M</td><td>39</td><td>3</td><td>3</td><td>4</td><td>NA</td><td>NA</td><td>NA</td><td> NA</td></tr>\n",
              "\t<tr><td>5</td><td>5/1/09  </td><td>UK</td><td>F</td><td>99</td><td>2</td><td>2</td><td>1</td><td> 2</td><td> 1</td><td> 8</td><td>1.6</td></tr>\n",
              "</tbody>\n",
              "</table>\n"
            ],
            "text/markdown": "\nA data.frame: 5 × 12\n\n| manager &lt;dbl&gt; | date &lt;chr&gt; | country &lt;chr&gt; | gender &lt;chr&gt; | age &lt;dbl&gt; | q1 &lt;dbl&gt; | q2 &lt;dbl&gt; | q3 &lt;dbl&gt; | q4 &lt;dbl&gt; | q5 &lt;dbl&gt; | total_score &lt;dbl&gt; | mean_score &lt;dbl&gt; |\n|---|---|---|---|---|---|---|---|---|---|---|---|\n| 1 | 10/24/08 | US | M | 32 | 5 | 4 | 5 |  5 |  5 | 24 | 4.8 |\n| 2 | 10/28/08 | US | F | 45 | 3 | 5 | 2 |  5 |  5 | 20 | 4.0 |\n| 3 | 10/1/08  | UK | F | 25 | 3 | 5 | 5 |  5 |  2 | 20 | 4.0 |\n| 4 | 10/12/08 | UK | M | 39 | 3 | 3 | 4 | NA | NA | NA |  NA |\n| 5 | 5/1/09   | UK | F | 99 | 2 | 2 | 1 |  2 |  1 |  8 | 1.6 |\n\n",
            "text/latex": "A data.frame: 5 × 12\n\\begin{tabular}{llllllllllll}\n manager & date & country & gender & age & q1 & q2 & q3 & q4 & q5 & total\\_score & mean\\_score\\\\\n <dbl> & <chr> & <chr> & <chr> & <dbl> & <dbl> & <dbl> & <dbl> & <dbl> & <dbl> & <dbl> & <dbl>\\\\\n\\hline\n\t 1 & 10/24/08 & US & M & 32 & 5 & 4 & 5 &  5 &  5 & 24 & 4.8\\\\\n\t 2 & 10/28/08 & US & F & 45 & 3 & 5 & 2 &  5 &  5 & 20 & 4.0\\\\\n\t 3 & 10/1/08  & UK & F & 25 & 3 & 5 & 5 &  5 &  2 & 20 & 4.0\\\\\n\t 4 & 10/12/08 & UK & M & 39 & 3 & 3 & 4 & NA & NA & NA &  NA\\\\\n\t 5 & 5/1/09   & UK & F & 99 & 2 & 2 & 1 &  2 &  1 &  8 & 1.6\\\\\n\\end{tabular}\n",
            "text/plain": [
              "  manager date     country gender age q1 q2 q3 q4 q5 total_score mean_score\n",
              "1 1       10/24/08 US      M      32  5  4  5   5  5 24          4.8       \n",
              "2 2       10/28/08 US      F      45  3  5  2   5  5 20          4.0       \n",
              "3 3       10/1/08  UK      F      25  3  5  5   5  2 20          4.0       \n",
              "4 4       10/12/08 UK      M      39  3  3  4  NA NA NA           NA       \n",
              "5 5       5/1/09   UK      F      99  2  2  1   2  1  8          1.6       "
            ]
          },
          "metadata": {}
        }
      ]
    },
    {
      "cell_type": "markdown",
      "source": [
        "## Перекодирование переменных\n",
        "Логические переменные:\n",
        "* $<$ - Меньше, чем\n",
        "* $<=$ - Меньше или равно\n",
        "* $>$ - Больше, чем\n",
        "* $>=$ - Больше или равно\n",
        "* $==$ - Точно равно\n",
        "* $!=$ - Не равно\n",
        "* $!x$ - Инверсия x (НЕ x)\n",
        "* $x | y$ - x ИЛИ y\n",
        "* x&y - x И y\n",
        "* $isTRUE(x)$ -Проверяет истинность значения x\n",
        "\n",
        "Задачи:\n",
        "* преобразовать непрерывные данные в категориальные;\n",
        "* заменить ошибочные данные правильными значениями;\n",
        "* создать переменную типа «сдал / не сдал» на основе экзаменационных баллов."
      ],
      "metadata": {
        "id": "pL-QcPE1RjXa"
      }
    },
    {
      "cell_type": "code",
      "source": [
        "leadership$age[leadership$age == 99] <- NA\n",
        "leadership"
      ],
      "metadata": {
        "id": "cXy_KkcKSyvi",
        "outputId": "168d6294-a2f1-49c3-a554-d93259f912bd",
        "colab": {
          "base_uri": "https://localhost:8080/",
          "height": 255
        }
      },
      "execution_count": null,
      "outputs": [
        {
          "output_type": "display_data",
          "data": {
            "text/html": [
              "<table class=\"dataframe\">\n",
              "<caption>A data.frame: 5 × 12</caption>\n",
              "<thead>\n",
              "\t<tr><th scope=col>manager</th><th scope=col>date</th><th scope=col>country</th><th scope=col>gender</th><th scope=col>age</th><th scope=col>q1</th><th scope=col>q2</th><th scope=col>q3</th><th scope=col>q4</th><th scope=col>q5</th><th scope=col>total_score</th><th scope=col>mean_score</th></tr>\n",
              "\t<tr><th scope=col>&lt;dbl&gt;</th><th scope=col>&lt;chr&gt;</th><th scope=col>&lt;chr&gt;</th><th scope=col>&lt;chr&gt;</th><th scope=col>&lt;dbl&gt;</th><th scope=col>&lt;dbl&gt;</th><th scope=col>&lt;dbl&gt;</th><th scope=col>&lt;dbl&gt;</th><th scope=col>&lt;dbl&gt;</th><th scope=col>&lt;dbl&gt;</th><th scope=col>&lt;dbl&gt;</th><th scope=col>&lt;dbl&gt;</th></tr>\n",
              "</thead>\n",
              "<tbody>\n",
              "\t<tr><td>1</td><td>10/24/08</td><td>US</td><td>M</td><td>32</td><td>5</td><td>4</td><td>5</td><td> 5</td><td> 5</td><td>24</td><td>4.8</td></tr>\n",
              "\t<tr><td>2</td><td>10/28/08</td><td>US</td><td>F</td><td>45</td><td>3</td><td>5</td><td>2</td><td> 5</td><td> 5</td><td>20</td><td>4.0</td></tr>\n",
              "\t<tr><td>3</td><td>10/1/08 </td><td>UK</td><td>F</td><td>25</td><td>3</td><td>5</td><td>5</td><td> 5</td><td> 2</td><td>20</td><td>4.0</td></tr>\n",
              "\t<tr><td>4</td><td>10/12/08</td><td>UK</td><td>M</td><td>39</td><td>3</td><td>3</td><td>4</td><td>NA</td><td>NA</td><td>NA</td><td> NA</td></tr>\n",
              "\t<tr><td>5</td><td>5/1/09  </td><td>UK</td><td>F</td><td>NA</td><td>2</td><td>2</td><td>1</td><td> 2</td><td> 1</td><td> 8</td><td>1.6</td></tr>\n",
              "</tbody>\n",
              "</table>\n"
            ],
            "text/markdown": "\nA data.frame: 5 × 12\n\n| manager &lt;dbl&gt; | date &lt;chr&gt; | country &lt;chr&gt; | gender &lt;chr&gt; | age &lt;dbl&gt; | q1 &lt;dbl&gt; | q2 &lt;dbl&gt; | q3 &lt;dbl&gt; | q4 &lt;dbl&gt; | q5 &lt;dbl&gt; | total_score &lt;dbl&gt; | mean_score &lt;dbl&gt; |\n|---|---|---|---|---|---|---|---|---|---|---|---|\n| 1 | 10/24/08 | US | M | 32 | 5 | 4 | 5 |  5 |  5 | 24 | 4.8 |\n| 2 | 10/28/08 | US | F | 45 | 3 | 5 | 2 |  5 |  5 | 20 | 4.0 |\n| 3 | 10/1/08  | UK | F | 25 | 3 | 5 | 5 |  5 |  2 | 20 | 4.0 |\n| 4 | 10/12/08 | UK | M | 39 | 3 | 3 | 4 | NA | NA | NA |  NA |\n| 5 | 5/1/09   | UK | F | NA | 2 | 2 | 1 |  2 |  1 |  8 | 1.6 |\n\n",
            "text/latex": "A data.frame: 5 × 12\n\\begin{tabular}{llllllllllll}\n manager & date & country & gender & age & q1 & q2 & q3 & q4 & q5 & total\\_score & mean\\_score\\\\\n <dbl> & <chr> & <chr> & <chr> & <dbl> & <dbl> & <dbl> & <dbl> & <dbl> & <dbl> & <dbl> & <dbl>\\\\\n\\hline\n\t 1 & 10/24/08 & US & M & 32 & 5 & 4 & 5 &  5 &  5 & 24 & 4.8\\\\\n\t 2 & 10/28/08 & US & F & 45 & 3 & 5 & 2 &  5 &  5 & 20 & 4.0\\\\\n\t 3 & 10/1/08  & UK & F & 25 & 3 & 5 & 5 &  5 &  2 & 20 & 4.0\\\\\n\t 4 & 10/12/08 & UK & M & 39 & 3 & 3 & 4 & NA & NA & NA &  NA\\\\\n\t 5 & 5/1/09   & UK & F & NA & 2 & 2 & 1 &  2 &  1 &  8 & 1.6\\\\\n\\end{tabular}\n",
            "text/plain": [
              "  manager date     country gender age q1 q2 q3 q4 q5 total_score mean_score\n",
              "1 1       10/24/08 US      M      32  5  4  5   5  5 24          4.8       \n",
              "2 2       10/28/08 US      F      45  3  5  2   5  5 20          4.0       \n",
              "3 3       10/1/08  UK      F      25  3  5  5   5  2 20          4.0       \n",
              "4 4       10/12/08 UK      M      39  3  3  4  NA NA NA           NA       \n",
              "5 5       5/1/09   UK      F      NA  2  2  1   2  1  8          1.6       "
            ]
          },
          "metadata": {}
        }
      ]
    },
    {
      "cell_type": "code",
      "source": [
        "#  используется функция within, она похожа на with, но позволяет модифицировать таблицу\n",
        "leadership <- within(leadership,{\n",
        "  agecat <- NA\n",
        "  agecat[age > 75] <- \"Elder\"\n",
        "  agecat[age >= 55 & age <= 75] <- \"Middle Aged\"\n",
        "  agecat[age < 55] <- \"Young\"\n",
        "  })\n",
        "leadership\n",
        "# дополнительные функции перекодирования recode() - в пакете car, recodeVar() - в пакете doBy, cut() - R"
      ],
      "metadata": {
        "id": "7IfBnrltUQqV",
        "outputId": "02fc18b1-d005-4d9b-f23f-d4f172db0edd",
        "colab": {
          "base_uri": "https://localhost:8080/",
          "height": 255
        }
      },
      "execution_count": null,
      "outputs": [
        {
          "output_type": "display_data",
          "data": {
            "text/html": [
              "<table class=\"dataframe\">\n",
              "<caption>A data.frame: 5 × 13</caption>\n",
              "<thead>\n",
              "\t<tr><th scope=col>manager</th><th scope=col>date</th><th scope=col>country</th><th scope=col>gender</th><th scope=col>age</th><th scope=col>q1</th><th scope=col>q2</th><th scope=col>q3</th><th scope=col>q4</th><th scope=col>q5</th><th scope=col>total_score</th><th scope=col>mean_score</th><th scope=col>agecat</th></tr>\n",
              "\t<tr><th scope=col>&lt;dbl&gt;</th><th scope=col>&lt;chr&gt;</th><th scope=col>&lt;chr&gt;</th><th scope=col>&lt;chr&gt;</th><th scope=col>&lt;dbl&gt;</th><th scope=col>&lt;dbl&gt;</th><th scope=col>&lt;dbl&gt;</th><th scope=col>&lt;dbl&gt;</th><th scope=col>&lt;dbl&gt;</th><th scope=col>&lt;dbl&gt;</th><th scope=col>&lt;dbl&gt;</th><th scope=col>&lt;dbl&gt;</th><th scope=col>&lt;chr&gt;</th></tr>\n",
              "</thead>\n",
              "<tbody>\n",
              "\t<tr><td>1</td><td>10/24/08</td><td>US</td><td>M</td><td>32</td><td>5</td><td>4</td><td>5</td><td> 5</td><td> 5</td><td>24</td><td>4.8</td><td>Young</td></tr>\n",
              "\t<tr><td>2</td><td>10/28/08</td><td>US</td><td>F</td><td>45</td><td>3</td><td>5</td><td>2</td><td> 5</td><td> 5</td><td>20</td><td>4.0</td><td>Young</td></tr>\n",
              "\t<tr><td>3</td><td>10/1/08 </td><td>UK</td><td>F</td><td>25</td><td>3</td><td>5</td><td>5</td><td> 5</td><td> 2</td><td>20</td><td>4.0</td><td>Young</td></tr>\n",
              "\t<tr><td>4</td><td>10/12/08</td><td>UK</td><td>M</td><td>39</td><td>3</td><td>3</td><td>4</td><td>NA</td><td>NA</td><td>NA</td><td> NA</td><td>Young</td></tr>\n",
              "\t<tr><td>5</td><td>5/1/09  </td><td>UK</td><td>F</td><td>NA</td><td>2</td><td>2</td><td>1</td><td> 2</td><td> 1</td><td> 8</td><td>1.6</td><td>NA   </td></tr>\n",
              "</tbody>\n",
              "</table>\n"
            ],
            "text/markdown": "\nA data.frame: 5 × 13\n\n| manager &lt;dbl&gt; | date &lt;chr&gt; | country &lt;chr&gt; | gender &lt;chr&gt; | age &lt;dbl&gt; | q1 &lt;dbl&gt; | q2 &lt;dbl&gt; | q3 &lt;dbl&gt; | q4 &lt;dbl&gt; | q5 &lt;dbl&gt; | total_score &lt;dbl&gt; | mean_score &lt;dbl&gt; | agecat &lt;chr&gt; |\n|---|---|---|---|---|---|---|---|---|---|---|---|---|\n| 1 | 10/24/08 | US | M | 32 | 5 | 4 | 5 |  5 |  5 | 24 | 4.8 | Young |\n| 2 | 10/28/08 | US | F | 45 | 3 | 5 | 2 |  5 |  5 | 20 | 4.0 | Young |\n| 3 | 10/1/08  | UK | F | 25 | 3 | 5 | 5 |  5 |  2 | 20 | 4.0 | Young |\n| 4 | 10/12/08 | UK | M | 39 | 3 | 3 | 4 | NA | NA | NA |  NA | Young |\n| 5 | 5/1/09   | UK | F | NA | 2 | 2 | 1 |  2 |  1 |  8 | 1.6 | NA    |\n\n",
            "text/latex": "A data.frame: 5 × 13\n\\begin{tabular}{lllllllllllll}\n manager & date & country & gender & age & q1 & q2 & q3 & q4 & q5 & total\\_score & mean\\_score & agecat\\\\\n <dbl> & <chr> & <chr> & <chr> & <dbl> & <dbl> & <dbl> & <dbl> & <dbl> & <dbl> & <dbl> & <dbl> & <chr>\\\\\n\\hline\n\t 1 & 10/24/08 & US & M & 32 & 5 & 4 & 5 &  5 &  5 & 24 & 4.8 & Young\\\\\n\t 2 & 10/28/08 & US & F & 45 & 3 & 5 & 2 &  5 &  5 & 20 & 4.0 & Young\\\\\n\t 3 & 10/1/08  & UK & F & 25 & 3 & 5 & 5 &  5 &  2 & 20 & 4.0 & Young\\\\\n\t 4 & 10/12/08 & UK & M & 39 & 3 & 3 & 4 & NA & NA & NA &  NA & Young\\\\\n\t 5 & 5/1/09   & UK & F & NA & 2 & 2 & 1 &  2 &  1 &  8 & 1.6 & NA   \\\\\n\\end{tabular}\n",
            "text/plain": [
              "  manager date     country gender age q1 q2 q3 q4 q5 total_score mean_score\n",
              "1 1       10/24/08 US      M      32  5  4  5   5  5 24          4.8       \n",
              "2 2       10/28/08 US      F      45  3  5  2   5  5 20          4.0       \n",
              "3 3       10/1/08  UK      F      25  3  5  5   5  2 20          4.0       \n",
              "4 4       10/12/08 UK      M      39  3  3  4  NA NA NA           NA       \n",
              "5 5       5/1/09   UK      F      NA  2  2  1   2  1  8          1.6       \n",
              "  agecat\n",
              "1 Young \n",
              "2 Young \n",
              "3 Young \n",
              "4 Young \n",
              "5 NA    "
            ]
          },
          "metadata": {}
        }
      ]
    },
    {
      "cell_type": "markdown",
      "source": [
        "## Переименование переменных (столбцов)\n",
        "\n",
        "$fix(leadership)$ - откроет интерактивный редактор\n",
        "\n",
        "или\n",
        "\n",
        "$names(leadership)[2] <- \"testDate\"$"
      ],
      "metadata": {
        "id": "DX6yd3vYxoxu"
      }
    },
    {
      "cell_type": "code",
      "source": [
        "names(leadership)\n",
        "names(leadership)[2] <- \"testDate\"\n",
        "leadership"
      ],
      "metadata": {
        "id": "F8hZ4eOLxX_j",
        "outputId": "7d39e50a-d140-490f-82ad-9fba5298c70e",
        "colab": {
          "base_uri": "https://localhost:8080/",
          "height": 272
        }
      },
      "execution_count": null,
      "outputs": [
        {
          "output_type": "display_data",
          "data": {
            "text/html": [
              "<style>\n",
              ".list-inline {list-style: none; margin:0; padding: 0}\n",
              ".list-inline>li {display: inline-block}\n",
              ".list-inline>li:not(:last-child)::after {content: \"\\00b7\"; padding: 0 .5ex}\n",
              "</style>\n",
              "<ol class=list-inline><li>'manager'</li><li>'date'</li><li>'country'</li><li>'gender'</li><li>'age'</li><li>'q1'</li><li>'q2'</li><li>'q3'</li><li>'q4'</li><li>'q5'</li><li>'total_score'</li><li>'mean_score'</li><li>'agecat'</li></ol>\n"
            ],
            "text/markdown": "1. 'manager'\n2. 'date'\n3. 'country'\n4. 'gender'\n5. 'age'\n6. 'q1'\n7. 'q2'\n8. 'q3'\n9. 'q4'\n10. 'q5'\n11. 'total_score'\n12. 'mean_score'\n13. 'agecat'\n\n\n",
            "text/latex": "\\begin{enumerate*}\n\\item 'manager'\n\\item 'date'\n\\item 'country'\n\\item 'gender'\n\\item 'age'\n\\item 'q1'\n\\item 'q2'\n\\item 'q3'\n\\item 'q4'\n\\item 'q5'\n\\item 'total\\_score'\n\\item 'mean\\_score'\n\\item 'agecat'\n\\end{enumerate*}\n",
            "text/plain": [
              " [1] \"manager\"     \"date\"        \"country\"     \"gender\"      \"age\"        \n",
              " [6] \"q1\"          \"q2\"          \"q3\"          \"q4\"          \"q5\"         \n",
              "[11] \"total_score\" \"mean_score\"  \"agecat\"     "
            ]
          },
          "metadata": {}
        },
        {
          "output_type": "display_data",
          "data": {
            "text/html": [
              "<table class=\"dataframe\">\n",
              "<caption>A data.frame: 5 × 13</caption>\n",
              "<thead>\n",
              "\t<tr><th scope=col>manager</th><th scope=col>testDate</th><th scope=col>country</th><th scope=col>gender</th><th scope=col>age</th><th scope=col>q1</th><th scope=col>q2</th><th scope=col>q3</th><th scope=col>q4</th><th scope=col>q5</th><th scope=col>total_score</th><th scope=col>mean_score</th><th scope=col>agecat</th></tr>\n",
              "\t<tr><th scope=col>&lt;dbl&gt;</th><th scope=col>&lt;chr&gt;</th><th scope=col>&lt;chr&gt;</th><th scope=col>&lt;chr&gt;</th><th scope=col>&lt;dbl&gt;</th><th scope=col>&lt;dbl&gt;</th><th scope=col>&lt;dbl&gt;</th><th scope=col>&lt;dbl&gt;</th><th scope=col>&lt;dbl&gt;</th><th scope=col>&lt;dbl&gt;</th><th scope=col>&lt;dbl&gt;</th><th scope=col>&lt;dbl&gt;</th><th scope=col>&lt;chr&gt;</th></tr>\n",
              "</thead>\n",
              "<tbody>\n",
              "\t<tr><td>1</td><td>10/24/08</td><td>US</td><td>M</td><td>32</td><td>5</td><td>4</td><td>5</td><td> 5</td><td> 5</td><td>24</td><td>4.8</td><td>Young</td></tr>\n",
              "\t<tr><td>2</td><td>10/28/08</td><td>US</td><td>F</td><td>45</td><td>3</td><td>5</td><td>2</td><td> 5</td><td> 5</td><td>20</td><td>4.0</td><td>Young</td></tr>\n",
              "\t<tr><td>3</td><td>10/1/08 </td><td>UK</td><td>F</td><td>25</td><td>3</td><td>5</td><td>5</td><td> 5</td><td> 2</td><td>20</td><td>4.0</td><td>Young</td></tr>\n",
              "\t<tr><td>4</td><td>10/12/08</td><td>UK</td><td>M</td><td>39</td><td>3</td><td>3</td><td>4</td><td>NA</td><td>NA</td><td>NA</td><td> NA</td><td>Young</td></tr>\n",
              "\t<tr><td>5</td><td>5/1/09  </td><td>UK</td><td>F</td><td>NA</td><td>2</td><td>2</td><td>1</td><td> 2</td><td> 1</td><td> 8</td><td>1.6</td><td>NA   </td></tr>\n",
              "</tbody>\n",
              "</table>\n"
            ],
            "text/markdown": "\nA data.frame: 5 × 13\n\n| manager &lt;dbl&gt; | testDate &lt;chr&gt; | country &lt;chr&gt; | gender &lt;chr&gt; | age &lt;dbl&gt; | q1 &lt;dbl&gt; | q2 &lt;dbl&gt; | q3 &lt;dbl&gt; | q4 &lt;dbl&gt; | q5 &lt;dbl&gt; | total_score &lt;dbl&gt; | mean_score &lt;dbl&gt; | agecat &lt;chr&gt; |\n|---|---|---|---|---|---|---|---|---|---|---|---|---|\n| 1 | 10/24/08 | US | M | 32 | 5 | 4 | 5 |  5 |  5 | 24 | 4.8 | Young |\n| 2 | 10/28/08 | US | F | 45 | 3 | 5 | 2 |  5 |  5 | 20 | 4.0 | Young |\n| 3 | 10/1/08  | UK | F | 25 | 3 | 5 | 5 |  5 |  2 | 20 | 4.0 | Young |\n| 4 | 10/12/08 | UK | M | 39 | 3 | 3 | 4 | NA | NA | NA |  NA | Young |\n| 5 | 5/1/09   | UK | F | NA | 2 | 2 | 1 |  2 |  1 |  8 | 1.6 | NA    |\n\n",
            "text/latex": "A data.frame: 5 × 13\n\\begin{tabular}{lllllllllllll}\n manager & testDate & country & gender & age & q1 & q2 & q3 & q4 & q5 & total\\_score & mean\\_score & agecat\\\\\n <dbl> & <chr> & <chr> & <chr> & <dbl> & <dbl> & <dbl> & <dbl> & <dbl> & <dbl> & <dbl> & <dbl> & <chr>\\\\\n\\hline\n\t 1 & 10/24/08 & US & M & 32 & 5 & 4 & 5 &  5 &  5 & 24 & 4.8 & Young\\\\\n\t 2 & 10/28/08 & US & F & 45 & 3 & 5 & 2 &  5 &  5 & 20 & 4.0 & Young\\\\\n\t 3 & 10/1/08  & UK & F & 25 & 3 & 5 & 5 &  5 &  2 & 20 & 4.0 & Young\\\\\n\t 4 & 10/12/08 & UK & M & 39 & 3 & 3 & 4 & NA & NA & NA &  NA & Young\\\\\n\t 5 & 5/1/09   & UK & F & NA & 2 & 2 & 1 &  2 &  1 &  8 & 1.6 & NA   \\\\\n\\end{tabular}\n",
            "text/plain": [
              "  manager testDate country gender age q1 q2 q3 q4 q5 total_score mean_score\n",
              "1 1       10/24/08 US      M      32  5  4  5   5  5 24          4.8       \n",
              "2 2       10/28/08 US      F      45  3  5  2   5  5 20          4.0       \n",
              "3 3       10/1/08  UK      F      25  3  5  5   5  2 20          4.0       \n",
              "4 4       10/12/08 UK      M      39  3  3  4  NA NA NA           NA       \n",
              "5 5       5/1/09   UK      F      NA  2  2  1   2  1  8          1.6       \n",
              "  agecat\n",
              "1 Young \n",
              "2 Young \n",
              "3 Young \n",
              "4 Young \n",
              "5 NA    "
            ]
          },
          "metadata": {}
        }
      ]
    },
    {
      "cell_type": "code",
      "source": [
        "names(leadership)[6:10] <- c(\"item1\", \"item2\", \"item3\", \"item4\", \"item5\")\n",
        "leadership"
      ],
      "metadata": {
        "id": "DExZIlhXycSE",
        "outputId": "b5de7c31-e8fa-49e3-e989-8f4d2103e092",
        "colab": {
          "base_uri": "https://localhost:8080/",
          "height": 255
        }
      },
      "execution_count": null,
      "outputs": [
        {
          "output_type": "display_data",
          "data": {
            "text/html": [
              "<table class=\"dataframe\">\n",
              "<caption>A data.frame: 5 × 13</caption>\n",
              "<thead>\n",
              "\t<tr><th scope=col>manager</th><th scope=col>testDate</th><th scope=col>country</th><th scope=col>gender</th><th scope=col>age</th><th scope=col>item1</th><th scope=col>item2</th><th scope=col>item3</th><th scope=col>item4</th><th scope=col>item5</th><th scope=col>total_score</th><th scope=col>mean_score</th><th scope=col>agecat</th></tr>\n",
              "\t<tr><th scope=col>&lt;dbl&gt;</th><th scope=col>&lt;chr&gt;</th><th scope=col>&lt;chr&gt;</th><th scope=col>&lt;chr&gt;</th><th scope=col>&lt;dbl&gt;</th><th scope=col>&lt;dbl&gt;</th><th scope=col>&lt;dbl&gt;</th><th scope=col>&lt;dbl&gt;</th><th scope=col>&lt;dbl&gt;</th><th scope=col>&lt;dbl&gt;</th><th scope=col>&lt;dbl&gt;</th><th scope=col>&lt;dbl&gt;</th><th scope=col>&lt;chr&gt;</th></tr>\n",
              "</thead>\n",
              "<tbody>\n",
              "\t<tr><td>1</td><td>10/24/08</td><td>US</td><td>M</td><td>32</td><td>5</td><td>4</td><td>5</td><td> 5</td><td> 5</td><td>24</td><td>4.8</td><td>Young</td></tr>\n",
              "\t<tr><td>2</td><td>10/28/08</td><td>US</td><td>F</td><td>45</td><td>3</td><td>5</td><td>2</td><td> 5</td><td> 5</td><td>20</td><td>4.0</td><td>Young</td></tr>\n",
              "\t<tr><td>3</td><td>10/1/08 </td><td>UK</td><td>F</td><td>25</td><td>3</td><td>5</td><td>5</td><td> 5</td><td> 2</td><td>20</td><td>4.0</td><td>Young</td></tr>\n",
              "\t<tr><td>4</td><td>10/12/08</td><td>UK</td><td>M</td><td>39</td><td>3</td><td>3</td><td>4</td><td>NA</td><td>NA</td><td>NA</td><td> NA</td><td>Young</td></tr>\n",
              "\t<tr><td>5</td><td>5/1/09  </td><td>UK</td><td>F</td><td>NA</td><td>2</td><td>2</td><td>1</td><td> 2</td><td> 1</td><td> 8</td><td>1.6</td><td>NA   </td></tr>\n",
              "</tbody>\n",
              "</table>\n"
            ],
            "text/markdown": "\nA data.frame: 5 × 13\n\n| manager &lt;dbl&gt; | testDate &lt;chr&gt; | country &lt;chr&gt; | gender &lt;chr&gt; | age &lt;dbl&gt; | item1 &lt;dbl&gt; | item2 &lt;dbl&gt; | item3 &lt;dbl&gt; | item4 &lt;dbl&gt; | item5 &lt;dbl&gt; | total_score &lt;dbl&gt; | mean_score &lt;dbl&gt; | agecat &lt;chr&gt; |\n|---|---|---|---|---|---|---|---|---|---|---|---|---|\n| 1 | 10/24/08 | US | M | 32 | 5 | 4 | 5 |  5 |  5 | 24 | 4.8 | Young |\n| 2 | 10/28/08 | US | F | 45 | 3 | 5 | 2 |  5 |  5 | 20 | 4.0 | Young |\n| 3 | 10/1/08  | UK | F | 25 | 3 | 5 | 5 |  5 |  2 | 20 | 4.0 | Young |\n| 4 | 10/12/08 | UK | M | 39 | 3 | 3 | 4 | NA | NA | NA |  NA | Young |\n| 5 | 5/1/09   | UK | F | NA | 2 | 2 | 1 |  2 |  1 |  8 | 1.6 | NA    |\n\n",
            "text/latex": "A data.frame: 5 × 13\n\\begin{tabular}{lllllllllllll}\n manager & testDate & country & gender & age & item1 & item2 & item3 & item4 & item5 & total\\_score & mean\\_score & agecat\\\\\n <dbl> & <chr> & <chr> & <chr> & <dbl> & <dbl> & <dbl> & <dbl> & <dbl> & <dbl> & <dbl> & <dbl> & <chr>\\\\\n\\hline\n\t 1 & 10/24/08 & US & M & 32 & 5 & 4 & 5 &  5 &  5 & 24 & 4.8 & Young\\\\\n\t 2 & 10/28/08 & US & F & 45 & 3 & 5 & 2 &  5 &  5 & 20 & 4.0 & Young\\\\\n\t 3 & 10/1/08  & UK & F & 25 & 3 & 5 & 5 &  5 &  2 & 20 & 4.0 & Young\\\\\n\t 4 & 10/12/08 & UK & M & 39 & 3 & 3 & 4 & NA & NA & NA &  NA & Young\\\\\n\t 5 & 5/1/09   & UK & F & NA & 2 & 2 & 1 &  2 &  1 &  8 & 1.6 & NA   \\\\\n\\end{tabular}\n",
            "text/plain": [
              "  manager testDate country gender age item1 item2 item3 item4 item5 total_score\n",
              "1 1       10/24/08 US      M      32  5     4     5      5     5    24         \n",
              "2 2       10/28/08 US      F      45  3     5     2      5     5    20         \n",
              "3 3       10/1/08  UK      F      25  3     5     5      5     2    20         \n",
              "4 4       10/12/08 UK      M      39  3     3     4     NA    NA    NA         \n",
              "5 5       5/1/09   UK      F      NA  2     2     1      2     1     8         \n",
              "  mean_score agecat\n",
              "1 4.8        Young \n",
              "2 4.0        Young \n",
              "3 4.0        Young \n",
              "4  NA        Young \n",
              "5 1.6        NA    "
            ]
          },
          "metadata": {}
        }
      ]
    },
    {
      "cell_type": "markdown",
      "source": [
        "## Пропущенные значения\n",
        "\n",
        "Функция $is.na()$:\n",
        "\n",
        "\\>y <- c(1, 2, 3, NA)\n",
        "\n",
        "\\>is.na(y)\n",
        "\n",
        "Результат:\n",
        "\n",
        "c(FALSE, FALSE, FALSE, TRUE)\n",
        "\n",
        "Функция $is.infinite()$ - положительная и отрицательная бесконечности\n",
        "\n"
      ],
      "metadata": {
        "id": "vIn79DrEyNVi"
      }
    },
    {
      "cell_type": "code",
      "source": [
        "is.na(leadership[,6:10])"
      ],
      "metadata": {
        "id": "Ngp4JStFHBTO",
        "outputId": "1687ffce-2c2f-4005-b6a4-df717319b808",
        "colab": {
          "base_uri": "https://localhost:8080/",
          "height": 223
        }
      },
      "execution_count": null,
      "outputs": [
        {
          "output_type": "display_data",
          "data": {
            "text/html": [
              "<table class=\"dataframe\">\n",
              "<caption>A matrix: 5 × 5 of type lgl</caption>\n",
              "<thead>\n",
              "\t<tr><th scope=col>item1</th><th scope=col>item2</th><th scope=col>item3</th><th scope=col>item4</th><th scope=col>item5</th></tr>\n",
              "</thead>\n",
              "<tbody>\n",
              "\t<tr><td>FALSE</td><td>FALSE</td><td>FALSE</td><td>FALSE</td><td>FALSE</td></tr>\n",
              "\t<tr><td>FALSE</td><td>FALSE</td><td>FALSE</td><td>FALSE</td><td>FALSE</td></tr>\n",
              "\t<tr><td>FALSE</td><td>FALSE</td><td>FALSE</td><td>FALSE</td><td>FALSE</td></tr>\n",
              "\t<tr><td>FALSE</td><td>FALSE</td><td>FALSE</td><td> TRUE</td><td> TRUE</td></tr>\n",
              "\t<tr><td>FALSE</td><td>FALSE</td><td>FALSE</td><td>FALSE</td><td>FALSE</td></tr>\n",
              "</tbody>\n",
              "</table>\n"
            ],
            "text/markdown": "\nA matrix: 5 × 5 of type lgl\n\n| item1 | item2 | item3 | item4 | item5 |\n|---|---|---|---|---|\n| FALSE | FALSE | FALSE | FALSE | FALSE |\n| FALSE | FALSE | FALSE | FALSE | FALSE |\n| FALSE | FALSE | FALSE | FALSE | FALSE |\n| FALSE | FALSE | FALSE |  TRUE |  TRUE |\n| FALSE | FALSE | FALSE | FALSE | FALSE |\n\n",
            "text/latex": "A matrix: 5 × 5 of type lgl\n\\begin{tabular}{lllll}\n item1 & item2 & item3 & item4 & item5\\\\\n\\hline\n\t FALSE & FALSE & FALSE & FALSE & FALSE\\\\\n\t FALSE & FALSE & FALSE & FALSE & FALSE\\\\\n\t FALSE & FALSE & FALSE & FALSE & FALSE\\\\\n\t FALSE & FALSE & FALSE &  TRUE &  TRUE\\\\\n\t FALSE & FALSE & FALSE & FALSE & FALSE\\\\\n\\end{tabular}\n",
            "text/plain": [
              "     item1 item2 item3 item4 item5\n",
              "[1,] FALSE FALSE FALSE FALSE FALSE\n",
              "[2,] FALSE FALSE FALSE FALSE FALSE\n",
              "[3,] FALSE FALSE FALSE FALSE FALSE\n",
              "[4,] FALSE FALSE FALSE  TRUE  TRUE\n",
              "[5,] FALSE FALSE FALSE FALSE FALSE"
            ]
          },
          "metadata": {}
        }
      ]
    },
    {
      "cell_type": "code",
      "source": [
        "is.na(leadership[,])"
      ],
      "metadata": {
        "id": "nlNYPD1lHViF",
        "outputId": "d4d5959e-96e4-4aa2-c46b-3bd713a47d6a",
        "colab": {
          "base_uri": "https://localhost:8080/",
          "height": 223
        }
      },
      "execution_count": null,
      "outputs": [
        {
          "output_type": "display_data",
          "data": {
            "text/html": [
              "<table class=\"dataframe\">\n",
              "<caption>A matrix: 5 × 13 of type lgl</caption>\n",
              "<thead>\n",
              "\t<tr><th scope=col>manager</th><th scope=col>testDate</th><th scope=col>country</th><th scope=col>gender</th><th scope=col>age</th><th scope=col>item1</th><th scope=col>item2</th><th scope=col>item3</th><th scope=col>item4</th><th scope=col>item5</th><th scope=col>total_score</th><th scope=col>mean_score</th><th scope=col>agecat</th></tr>\n",
              "</thead>\n",
              "<tbody>\n",
              "\t<tr><td>FALSE</td><td>FALSE</td><td>FALSE</td><td>FALSE</td><td>FALSE</td><td>FALSE</td><td>FALSE</td><td>FALSE</td><td>FALSE</td><td>FALSE</td><td>FALSE</td><td>FALSE</td><td>FALSE</td></tr>\n",
              "\t<tr><td>FALSE</td><td>FALSE</td><td>FALSE</td><td>FALSE</td><td>FALSE</td><td>FALSE</td><td>FALSE</td><td>FALSE</td><td>FALSE</td><td>FALSE</td><td>FALSE</td><td>FALSE</td><td>FALSE</td></tr>\n",
              "\t<tr><td>FALSE</td><td>FALSE</td><td>FALSE</td><td>FALSE</td><td>FALSE</td><td>FALSE</td><td>FALSE</td><td>FALSE</td><td>FALSE</td><td>FALSE</td><td>FALSE</td><td>FALSE</td><td>FALSE</td></tr>\n",
              "\t<tr><td>FALSE</td><td>FALSE</td><td>FALSE</td><td>FALSE</td><td>FALSE</td><td>FALSE</td><td>FALSE</td><td>FALSE</td><td> TRUE</td><td> TRUE</td><td> TRUE</td><td> TRUE</td><td>FALSE</td></tr>\n",
              "\t<tr><td>FALSE</td><td>FALSE</td><td>FALSE</td><td>FALSE</td><td> TRUE</td><td>FALSE</td><td>FALSE</td><td>FALSE</td><td>FALSE</td><td>FALSE</td><td>FALSE</td><td>FALSE</td><td> TRUE</td></tr>\n",
              "</tbody>\n",
              "</table>\n"
            ],
            "text/markdown": "\nA matrix: 5 × 13 of type lgl\n\n| manager | testDate | country | gender | age | item1 | item2 | item3 | item4 | item5 | total_score | mean_score | agecat |\n|---|---|---|---|---|---|---|---|---|---|---|---|---|\n| FALSE | FALSE | FALSE | FALSE | FALSE | FALSE | FALSE | FALSE | FALSE | FALSE | FALSE | FALSE | FALSE |\n| FALSE | FALSE | FALSE | FALSE | FALSE | FALSE | FALSE | FALSE | FALSE | FALSE | FALSE | FALSE | FALSE |\n| FALSE | FALSE | FALSE | FALSE | FALSE | FALSE | FALSE | FALSE | FALSE | FALSE | FALSE | FALSE | FALSE |\n| FALSE | FALSE | FALSE | FALSE | FALSE | FALSE | FALSE | FALSE |  TRUE |  TRUE |  TRUE |  TRUE | FALSE |\n| FALSE | FALSE | FALSE | FALSE |  TRUE | FALSE | FALSE | FALSE | FALSE | FALSE | FALSE | FALSE |  TRUE |\n\n",
            "text/latex": "A matrix: 5 × 13 of type lgl\n\\begin{tabular}{lllllllllllll}\n manager & testDate & country & gender & age & item1 & item2 & item3 & item4 & item5 & total\\_score & mean\\_score & agecat\\\\\n\\hline\n\t FALSE & FALSE & FALSE & FALSE & FALSE & FALSE & FALSE & FALSE & FALSE & FALSE & FALSE & FALSE & FALSE\\\\\n\t FALSE & FALSE & FALSE & FALSE & FALSE & FALSE & FALSE & FALSE & FALSE & FALSE & FALSE & FALSE & FALSE\\\\\n\t FALSE & FALSE & FALSE & FALSE & FALSE & FALSE & FALSE & FALSE & FALSE & FALSE & FALSE & FALSE & FALSE\\\\\n\t FALSE & FALSE & FALSE & FALSE & FALSE & FALSE & FALSE & FALSE &  TRUE &  TRUE &  TRUE &  TRUE & FALSE\\\\\n\t FALSE & FALSE & FALSE & FALSE &  TRUE & FALSE & FALSE & FALSE & FALSE & FALSE & FALSE & FALSE &  TRUE\\\\\n\\end{tabular}\n",
            "text/plain": [
              "     manager testDate country gender age   item1 item2 item3 item4 item5\n",
              "[1,] FALSE   FALSE    FALSE   FALSE  FALSE FALSE FALSE FALSE FALSE FALSE\n",
              "[2,] FALSE   FALSE    FALSE   FALSE  FALSE FALSE FALSE FALSE FALSE FALSE\n",
              "[3,] FALSE   FALSE    FALSE   FALSE  FALSE FALSE FALSE FALSE FALSE FALSE\n",
              "[4,] FALSE   FALSE    FALSE   FALSE  FALSE FALSE FALSE FALSE  TRUE  TRUE\n",
              "[5,] FALSE   FALSE    FALSE   FALSE   TRUE FALSE FALSE FALSE FALSE FALSE\n",
              "     total_score mean_score agecat\n",
              "[1,] FALSE       FALSE      FALSE \n",
              "[2,] FALSE       FALSE      FALSE \n",
              "[3,] FALSE       FALSE      FALSE \n",
              "[4,]  TRUE        TRUE      FALSE \n",
              "[5,] FALSE       FALSE       TRUE "
            ]
          },
          "metadata": {}
        }
      ]
    },
    {
      "cell_type": "markdown",
      "source": [
        "### Перекодирование значений в отсутствующие\n",
        "\n",
        "```\n",
        "leadership\\$age[leadership\\$age == 99] <- NA\n",
        "```\n"
      ],
      "metadata": {
        "id": "fSp0Ga-BIIa-"
      }
    },
    {
      "cell_type": "markdown",
      "source": [
        "### Исключение пропущенных значений из анализа\n",
        "\n",
        "```\n",
        "x <- c(1, 2, NA, 3)\n",
        "y <- x[1] + x[2] + x[3] + x[4]\n",
        "z <- sum(x)\n",
        "```\n",
        "Функция `na.omit()` - построчное удаление если есть пропущенные значения.\n"
      ],
      "metadata": {
        "id": "mZiByzUPfRB9"
      }
    },
    {
      "cell_type": "code",
      "source": [
        "x <- c(1, 2, NA, 3)\n",
        "y <- x[1] + x[2] + x[3] + x[4]\n",
        "z <- sum(x)\n",
        "z\n",
        "y\n",
        "x"
      ],
      "metadata": {
        "id": "FRnk6xkQokpk",
        "outputId": "ff4b6a5a-b7cf-4716-93e5-324502d0f6a2",
        "colab": {
          "base_uri": "https://localhost:8080/",
          "height": 69
        }
      },
      "execution_count": null,
      "outputs": [
        {
          "output_type": "display_data",
          "data": {
            "text/html": [
              "&lt;NA&gt;"
            ],
            "text/markdown": "&lt;NA&gt;",
            "text/latex": "<NA>",
            "text/plain": [
              "[1] NA"
            ]
          },
          "metadata": {}
        },
        {
          "output_type": "display_data",
          "data": {
            "text/html": [
              "&lt;NA&gt;"
            ],
            "text/markdown": "&lt;NA&gt;",
            "text/latex": "<NA>",
            "text/plain": [
              "[1] NA"
            ]
          },
          "metadata": {}
        },
        {
          "output_type": "display_data",
          "data": {
            "text/html": [
              "<style>\n",
              ".list-inline {list-style: none; margin:0; padding: 0}\n",
              ".list-inline>li {display: inline-block}\n",
              ".list-inline>li:not(:last-child)::after {content: \"\\00b7\"; padding: 0 .5ex}\n",
              "</style>\n",
              "<ol class=list-inline><li>1</li><li>2</li><li>&lt;NA&gt;</li><li>3</li></ol>\n"
            ],
            "text/markdown": "1. 1\n2. 2\n3. &lt;NA&gt;\n4. 3\n\n\n",
            "text/latex": "\\begin{enumerate*}\n\\item 1\n\\item 2\n\\item <NA>\n\\item 3\n\\end{enumerate*}\n",
            "text/plain": [
              "[1]  1  2 NA  3"
            ]
          },
          "metadata": {}
        }
      ]
    },
    {
      "cell_type": "code",
      "source": [
        "y <- sum (x, na.rm = TRUE)\n",
        "y"
      ],
      "metadata": {
        "id": "U-ioHpPSo2d0",
        "outputId": "b4534906-7556-4553-b8b3-55cfd8f1b70a",
        "colab": {
          "base_uri": "https://localhost:8080/",
          "height": 34
        }
      },
      "execution_count": null,
      "outputs": [
        {
          "output_type": "display_data",
          "data": {
            "text/html": [
              "6"
            ],
            "text/markdown": "6",
            "text/latex": "6",
            "text/plain": [
              "[1] 6"
            ]
          },
          "metadata": {}
        }
      ]
    },
    {
      "cell_type": "code",
      "source": [
        "leadership\n",
        "newdata <- na.omit (leadership)\n",
        "newdata"
      ],
      "metadata": {
        "id": "rpLuI9j_3x-k",
        "outputId": "639cbf43-4b45-4a44-dc8d-4ec3463c5100",
        "colab": {
          "base_uri": "https://localhost:8080/",
          "height": 430
        }
      },
      "execution_count": null,
      "outputs": [
        {
          "output_type": "display_data",
          "data": {
            "text/html": [
              "<table class=\"dataframe\">\n",
              "<caption>A data.frame: 5 × 13</caption>\n",
              "<thead>\n",
              "\t<tr><th scope=col>manager</th><th scope=col>testDate</th><th scope=col>country</th><th scope=col>gender</th><th scope=col>age</th><th scope=col>item1</th><th scope=col>item2</th><th scope=col>item3</th><th scope=col>item4</th><th scope=col>item5</th><th scope=col>total_score</th><th scope=col>mean_score</th><th scope=col>agecat</th></tr>\n",
              "\t<tr><th scope=col>&lt;dbl&gt;</th><th scope=col>&lt;chr&gt;</th><th scope=col>&lt;chr&gt;</th><th scope=col>&lt;chr&gt;</th><th scope=col>&lt;dbl&gt;</th><th scope=col>&lt;dbl&gt;</th><th scope=col>&lt;dbl&gt;</th><th scope=col>&lt;dbl&gt;</th><th scope=col>&lt;dbl&gt;</th><th scope=col>&lt;dbl&gt;</th><th scope=col>&lt;dbl&gt;</th><th scope=col>&lt;dbl&gt;</th><th scope=col>&lt;chr&gt;</th></tr>\n",
              "</thead>\n",
              "<tbody>\n",
              "\t<tr><td>1</td><td>10/24/08</td><td>US</td><td>M</td><td>32</td><td>5</td><td>4</td><td>5</td><td> 5</td><td> 5</td><td>24</td><td>4.8</td><td>Young</td></tr>\n",
              "\t<tr><td>2</td><td>10/28/08</td><td>US</td><td>F</td><td>45</td><td>3</td><td>5</td><td>2</td><td> 5</td><td> 5</td><td>20</td><td>4.0</td><td>Young</td></tr>\n",
              "\t<tr><td>3</td><td>10/1/08 </td><td>UK</td><td>F</td><td>25</td><td>3</td><td>5</td><td>5</td><td> 5</td><td> 2</td><td>20</td><td>4.0</td><td>Young</td></tr>\n",
              "\t<tr><td>4</td><td>10/12/08</td><td>UK</td><td>M</td><td>39</td><td>3</td><td>3</td><td>4</td><td>NA</td><td>NA</td><td>NA</td><td> NA</td><td>Young</td></tr>\n",
              "\t<tr><td>5</td><td>5/1/09  </td><td>UK</td><td>F</td><td>NA</td><td>2</td><td>2</td><td>1</td><td> 2</td><td> 1</td><td> 8</td><td>1.6</td><td>NA   </td></tr>\n",
              "</tbody>\n",
              "</table>\n"
            ],
            "text/markdown": "\nA data.frame: 5 × 13\n\n| manager &lt;dbl&gt; | testDate &lt;chr&gt; | country &lt;chr&gt; | gender &lt;chr&gt; | age &lt;dbl&gt; | item1 &lt;dbl&gt; | item2 &lt;dbl&gt; | item3 &lt;dbl&gt; | item4 &lt;dbl&gt; | item5 &lt;dbl&gt; | total_score &lt;dbl&gt; | mean_score &lt;dbl&gt; | agecat &lt;chr&gt; |\n|---|---|---|---|---|---|---|---|---|---|---|---|---|\n| 1 | 10/24/08 | US | M | 32 | 5 | 4 | 5 |  5 |  5 | 24 | 4.8 | Young |\n| 2 | 10/28/08 | US | F | 45 | 3 | 5 | 2 |  5 |  5 | 20 | 4.0 | Young |\n| 3 | 10/1/08  | UK | F | 25 | 3 | 5 | 5 |  5 |  2 | 20 | 4.0 | Young |\n| 4 | 10/12/08 | UK | M | 39 | 3 | 3 | 4 | NA | NA | NA |  NA | Young |\n| 5 | 5/1/09   | UK | F | NA | 2 | 2 | 1 |  2 |  1 |  8 | 1.6 | NA    |\n\n",
            "text/latex": "A data.frame: 5 × 13\n\\begin{tabular}{lllllllllllll}\n manager & testDate & country & gender & age & item1 & item2 & item3 & item4 & item5 & total\\_score & mean\\_score & agecat\\\\\n <dbl> & <chr> & <chr> & <chr> & <dbl> & <dbl> & <dbl> & <dbl> & <dbl> & <dbl> & <dbl> & <dbl> & <chr>\\\\\n\\hline\n\t 1 & 10/24/08 & US & M & 32 & 5 & 4 & 5 &  5 &  5 & 24 & 4.8 & Young\\\\\n\t 2 & 10/28/08 & US & F & 45 & 3 & 5 & 2 &  5 &  5 & 20 & 4.0 & Young\\\\\n\t 3 & 10/1/08  & UK & F & 25 & 3 & 5 & 5 &  5 &  2 & 20 & 4.0 & Young\\\\\n\t 4 & 10/12/08 & UK & M & 39 & 3 & 3 & 4 & NA & NA & NA &  NA & Young\\\\\n\t 5 & 5/1/09   & UK & F & NA & 2 & 2 & 1 &  2 &  1 &  8 & 1.6 & NA   \\\\\n\\end{tabular}\n",
            "text/plain": [
              "  manager testDate country gender age item1 item2 item3 item4 item5 total_score\n",
              "1 1       10/24/08 US      M      32  5     4     5      5     5    24         \n",
              "2 2       10/28/08 US      F      45  3     5     2      5     5    20         \n",
              "3 3       10/1/08  UK      F      25  3     5     5      5     2    20         \n",
              "4 4       10/12/08 UK      M      39  3     3     4     NA    NA    NA         \n",
              "5 5       5/1/09   UK      F      NA  2     2     1      2     1     8         \n",
              "  mean_score agecat\n",
              "1 4.8        Young \n",
              "2 4.0        Young \n",
              "3 4.0        Young \n",
              "4  NA        Young \n",
              "5 1.6        NA    "
            ]
          },
          "metadata": {}
        },
        {
          "output_type": "display_data",
          "data": {
            "text/html": [
              "<table class=\"dataframe\">\n",
              "<caption>A data.frame: 3 × 13</caption>\n",
              "<thead>\n",
              "\t<tr><th></th><th scope=col>manager</th><th scope=col>testDate</th><th scope=col>country</th><th scope=col>gender</th><th scope=col>age</th><th scope=col>item1</th><th scope=col>item2</th><th scope=col>item3</th><th scope=col>item4</th><th scope=col>item5</th><th scope=col>total_score</th><th scope=col>mean_score</th><th scope=col>agecat</th></tr>\n",
              "\t<tr><th></th><th scope=col>&lt;dbl&gt;</th><th scope=col>&lt;chr&gt;</th><th scope=col>&lt;chr&gt;</th><th scope=col>&lt;chr&gt;</th><th scope=col>&lt;dbl&gt;</th><th scope=col>&lt;dbl&gt;</th><th scope=col>&lt;dbl&gt;</th><th scope=col>&lt;dbl&gt;</th><th scope=col>&lt;dbl&gt;</th><th scope=col>&lt;dbl&gt;</th><th scope=col>&lt;dbl&gt;</th><th scope=col>&lt;dbl&gt;</th><th scope=col>&lt;chr&gt;</th></tr>\n",
              "</thead>\n",
              "<tbody>\n",
              "\t<tr><th scope=row>1</th><td>1</td><td>10/24/08</td><td>US</td><td>M</td><td>32</td><td>5</td><td>4</td><td>5</td><td>5</td><td>5</td><td>24</td><td>4.8</td><td>Young</td></tr>\n",
              "\t<tr><th scope=row>2</th><td>2</td><td>10/28/08</td><td>US</td><td>F</td><td>45</td><td>3</td><td>5</td><td>2</td><td>5</td><td>5</td><td>20</td><td>4.0</td><td>Young</td></tr>\n",
              "\t<tr><th scope=row>3</th><td>3</td><td>10/1/08 </td><td>UK</td><td>F</td><td>25</td><td>3</td><td>5</td><td>5</td><td>5</td><td>2</td><td>20</td><td>4.0</td><td>Young</td></tr>\n",
              "</tbody>\n",
              "</table>\n"
            ],
            "text/markdown": "\nA data.frame: 3 × 13\n\n| <!--/--> | manager &lt;dbl&gt; | testDate &lt;chr&gt; | country &lt;chr&gt; | gender &lt;chr&gt; | age &lt;dbl&gt; | item1 &lt;dbl&gt; | item2 &lt;dbl&gt; | item3 &lt;dbl&gt; | item4 &lt;dbl&gt; | item5 &lt;dbl&gt; | total_score &lt;dbl&gt; | mean_score &lt;dbl&gt; | agecat &lt;chr&gt; |\n|---|---|---|---|---|---|---|---|---|---|---|---|---|---|\n| 1 | 1 | 10/24/08 | US | M | 32 | 5 | 4 | 5 | 5 | 5 | 24 | 4.8 | Young |\n| 2 | 2 | 10/28/08 | US | F | 45 | 3 | 5 | 2 | 5 | 5 | 20 | 4.0 | Young |\n| 3 | 3 | 10/1/08  | UK | F | 25 | 3 | 5 | 5 | 5 | 2 | 20 | 4.0 | Young |\n\n",
            "text/latex": "A data.frame: 3 × 13\n\\begin{tabular}{r|lllllllllllll}\n  & manager & testDate & country & gender & age & item1 & item2 & item3 & item4 & item5 & total\\_score & mean\\_score & agecat\\\\\n  & <dbl> & <chr> & <chr> & <chr> & <dbl> & <dbl> & <dbl> & <dbl> & <dbl> & <dbl> & <dbl> & <dbl> & <chr>\\\\\n\\hline\n\t1 & 1 & 10/24/08 & US & M & 32 & 5 & 4 & 5 & 5 & 5 & 24 & 4.8 & Young\\\\\n\t2 & 2 & 10/28/08 & US & F & 45 & 3 & 5 & 2 & 5 & 5 & 20 & 4.0 & Young\\\\\n\t3 & 3 & 10/1/08  & UK & F & 25 & 3 & 5 & 5 & 5 & 2 & 20 & 4.0 & Young\\\\\n\\end{tabular}\n",
            "text/plain": [
              "  manager testDate country gender age item1 item2 item3 item4 item5 total_score\n",
              "1 1       10/24/08 US      M      32  5     4     5     5     5     24         \n",
              "2 2       10/28/08 US      F      45  3     5     2     5     5     20         \n",
              "3 3       10/1/08  UK      F      25  3     5     5     5     2     20         \n",
              "  mean_score agecat\n",
              "1 4.8        Young \n",
              "2 4.0        Young \n",
              "3 4.0        Young "
            ]
          },
          "metadata": {}
        }
      ]
    },
    {
      "cell_type": "markdown",
      "source": [
        "## Календарные даты\n",
        "\n",
        "В R даты обычно вводятся в виде текстовых строк, а затем преобразуются в формат даты и хранятся в числовом виде. Для этого преобразования используется функция `as.Date()`, имеющая следующий синтаксис:\n",
        "\n",
        "`as.Date(x, \"input_format\")`\n",
        "\n",
        "где x – это дата в текстовом формате, а input_format определяет\n",
        "формат представления даты:\n",
        "* %d - День месяца в виде числа (01–31)\n",
        "* %a - Сокращенное название дня недели\n",
        "* %A - Полное название дня недели\n",
        "* %m - Порядковый номер месяца (01–12)\n",
        "* %b - Сокращенное название месяца\n",
        "* %B - Полное название месяца\n",
        "* %y - Две последние цифры года\n",
        "* %Y - Все четыре цифры года\n",
        "\n",
        "Функция `Sys.Date()` возвращает текущую дату, а функция `date()` – текущие дату и время.\n",
        "\n",
        "Для вывода дат в заданном формате и извлечения отдельных компонентов можно использовать функцию `format(x, format=\"output_ format\")`\n",
        "\n",
        "\n"
      ],
      "metadata": {
        "id": "DLuo0gmk4eZ7"
      }
    },
    {
      "cell_type": "code",
      "source": [
        "# По умолчанию даты вводятся в формате yyyy-mm-dd («год-месяц-день»)\n",
        "mydates <- as.Date(c(\"2007-06-22\", \"2004-02-13\")) # преобразует текстовые данные в даты, используя этот формат по умолчанию.\n",
        "mydates"
      ],
      "metadata": {
        "id": "rR0otE_tYFYy",
        "outputId": "ed1685e1-e0d8-4c05-f228-99dada183520",
        "colab": {
          "base_uri": "https://localhost:8080/",
          "height": 34
        }
      },
      "execution_count": null,
      "outputs": [
        {
          "output_type": "display_data",
          "data": {
            "text/html": [
              "<style>\n",
              ".list-inline {list-style: none; margin:0; padding: 0}\n",
              ".list-inline>li {display: inline-block}\n",
              ".list-inline>li:not(:last-child)::after {content: \"\\00b7\"; padding: 0 .5ex}\n",
              "</style>\n",
              "<ol class=list-inline><li><time datetime=\"2007-06-22\">2007-06-22</time></li><li><time datetime=\"2004-02-13\">2004-02-13</time></li></ol>\n"
            ],
            "text/markdown": "1. 2007-06-22\n2. 2004-02-13\n\n\n",
            "text/latex": "\\begin{enumerate*}\n\\item 2007-06-22\n\\item 2004-02-13\n\\end{enumerate*}\n",
            "text/plain": [
              "[1] \"2007-06-22\" \"2004-02-13\""
            ]
          },
          "metadata": {}
        }
      ]
    },
    {
      "cell_type": "code",
      "source": [
        "# В отличие от нее, следующая инструкция:\n",
        "strDates <- c(\"01/05/1965\", \"08/16/1975\")\n",
        "dates <- as.Date(strDates, \"%m/%d/%Y\") # читает даты в формате mm/dd/yyyy («месяц/день/год»).\n",
        "dates"
      ],
      "metadata": {
        "id": "pULjk-7Ujawh",
        "outputId": "92369311-8b52-4795-94e6-76fcb4aed3a9",
        "colab": {
          "base_uri": "https://localhost:8080/",
          "height": 34
        }
      },
      "execution_count": null,
      "outputs": [
        {
          "output_type": "display_data",
          "data": {
            "text/html": [
              "<style>\n",
              ".list-inline {list-style: none; margin:0; padding: 0}\n",
              ".list-inline>li {display: inline-block}\n",
              ".list-inline>li:not(:last-child)::after {content: \"\\00b7\"; padding: 0 .5ex}\n",
              "</style>\n",
              "<ol class=list-inline><li><time datetime=\"1965-01-05\">1965-01-05</time></li><li><time datetime=\"1975-08-16\">1975-08-16</time></li></ol>\n"
            ],
            "text/markdown": "1. 1965-01-05\n2. 1975-08-16\n\n\n",
            "text/latex": "\\begin{enumerate*}\n\\item 1965-01-05\n\\item 1975-08-16\n\\end{enumerate*}\n",
            "text/plain": [
              "[1] \"1965-01-05\" \"1975-08-16\""
            ]
          },
          "metadata": {}
        }
      ]
    },
    {
      "cell_type": "code",
      "source": [
        "leadership"
      ],
      "metadata": {
        "id": "cHPsyBu0k28a",
        "outputId": "38710f36-fd58-4dfa-a724-915e4c619c17",
        "colab": {
          "base_uri": "https://localhost:8080/",
          "height": 255
        }
      },
      "execution_count": null,
      "outputs": [
        {
          "output_type": "display_data",
          "data": {
            "text/html": [
              "<table class=\"dataframe\">\n",
              "<caption>A data.frame: 5 × 13</caption>\n",
              "<thead>\n",
              "\t<tr><th scope=col>manager</th><th scope=col>testDate</th><th scope=col>country</th><th scope=col>gender</th><th scope=col>age</th><th scope=col>item1</th><th scope=col>item2</th><th scope=col>item3</th><th scope=col>item4</th><th scope=col>item5</th><th scope=col>total_score</th><th scope=col>mean_score</th><th scope=col>agecat</th></tr>\n",
              "\t<tr><th scope=col>&lt;dbl&gt;</th><th scope=col>&lt;chr&gt;</th><th scope=col>&lt;chr&gt;</th><th scope=col>&lt;chr&gt;</th><th scope=col>&lt;dbl&gt;</th><th scope=col>&lt;dbl&gt;</th><th scope=col>&lt;dbl&gt;</th><th scope=col>&lt;dbl&gt;</th><th scope=col>&lt;dbl&gt;</th><th scope=col>&lt;dbl&gt;</th><th scope=col>&lt;dbl&gt;</th><th scope=col>&lt;dbl&gt;</th><th scope=col>&lt;chr&gt;</th></tr>\n",
              "</thead>\n",
              "<tbody>\n",
              "\t<tr><td>1</td><td>10/24/08</td><td>US</td><td>M</td><td>32</td><td>5</td><td>4</td><td>5</td><td> 5</td><td> 5</td><td>24</td><td>4.8</td><td>Young</td></tr>\n",
              "\t<tr><td>2</td><td>10/28/08</td><td>US</td><td>F</td><td>45</td><td>3</td><td>5</td><td>2</td><td> 5</td><td> 5</td><td>20</td><td>4.0</td><td>Young</td></tr>\n",
              "\t<tr><td>3</td><td>10/1/08 </td><td>UK</td><td>F</td><td>25</td><td>3</td><td>5</td><td>5</td><td> 5</td><td> 2</td><td>20</td><td>4.0</td><td>Young</td></tr>\n",
              "\t<tr><td>4</td><td>10/12/08</td><td>UK</td><td>M</td><td>39</td><td>3</td><td>3</td><td>4</td><td>NA</td><td>NA</td><td>NA</td><td> NA</td><td>Young</td></tr>\n",
              "\t<tr><td>5</td><td>5/1/09  </td><td>UK</td><td>F</td><td>NA</td><td>2</td><td>2</td><td>1</td><td> 2</td><td> 1</td><td> 8</td><td>1.6</td><td>NA   </td></tr>\n",
              "</tbody>\n",
              "</table>\n"
            ],
            "text/markdown": "\nA data.frame: 5 × 13\n\n| manager &lt;dbl&gt; | testDate &lt;chr&gt; | country &lt;chr&gt; | gender &lt;chr&gt; | age &lt;dbl&gt; | item1 &lt;dbl&gt; | item2 &lt;dbl&gt; | item3 &lt;dbl&gt; | item4 &lt;dbl&gt; | item5 &lt;dbl&gt; | total_score &lt;dbl&gt; | mean_score &lt;dbl&gt; | agecat &lt;chr&gt; |\n|---|---|---|---|---|---|---|---|---|---|---|---|---|\n| 1 | 10/24/08 | US | M | 32 | 5 | 4 | 5 |  5 |  5 | 24 | 4.8 | Young |\n| 2 | 10/28/08 | US | F | 45 | 3 | 5 | 2 |  5 |  5 | 20 | 4.0 | Young |\n| 3 | 10/1/08  | UK | F | 25 | 3 | 5 | 5 |  5 |  2 | 20 | 4.0 | Young |\n| 4 | 10/12/08 | UK | M | 39 | 3 | 3 | 4 | NA | NA | NA |  NA | Young |\n| 5 | 5/1/09   | UK | F | NA | 2 | 2 | 1 |  2 |  1 |  8 | 1.6 | NA    |\n\n",
            "text/latex": "A data.frame: 5 × 13\n\\begin{tabular}{lllllllllllll}\n manager & testDate & country & gender & age & item1 & item2 & item3 & item4 & item5 & total\\_score & mean\\_score & agecat\\\\\n <dbl> & <chr> & <chr> & <chr> & <dbl> & <dbl> & <dbl> & <dbl> & <dbl> & <dbl> & <dbl> & <dbl> & <chr>\\\\\n\\hline\n\t 1 & 10/24/08 & US & M & 32 & 5 & 4 & 5 &  5 &  5 & 24 & 4.8 & Young\\\\\n\t 2 & 10/28/08 & US & F & 45 & 3 & 5 & 2 &  5 &  5 & 20 & 4.0 & Young\\\\\n\t 3 & 10/1/08  & UK & F & 25 & 3 & 5 & 5 &  5 &  2 & 20 & 4.0 & Young\\\\\n\t 4 & 10/12/08 & UK & M & 39 & 3 & 3 & 4 & NA & NA & NA &  NA & Young\\\\\n\t 5 & 5/1/09   & UK & F & NA & 2 & 2 & 1 &  2 &  1 &  8 & 1.6 & NA   \\\\\n\\end{tabular}\n",
            "text/plain": [
              "  manager testDate country gender age item1 item2 item3 item4 item5 total_score\n",
              "1 1       10/24/08 US      M      32  5     4     5      5     5    24         \n",
              "2 2       10/28/08 US      F      45  3     5     2      5     5    20         \n",
              "3 3       10/1/08  UK      F      25  3     5     5      5     2    20         \n",
              "4 4       10/12/08 UK      M      39  3     3     4     NA    NA    NA         \n",
              "5 5       5/1/09   UK      F      NA  2     2     1      2     1     8         \n",
              "  mean_score agecat\n",
              "1 4.8        Young \n",
              "2 4.0        Young \n",
              "3 4.0        Young \n",
              "4  NA        Young \n",
              "5 1.6        NA    "
            ]
          },
          "metadata": {}
        }
      ]
    },
    {
      "cell_type": "code",
      "source": [
        "# В нашем наборе данных leadership даты представлены в формате mm/dd/yy. Поэтому в инструкциях\n",
        "myformat <- \"%m/%d/%y\"\n",
        "leadership$testDate <- as.Date(leadership$testDate, myformat) # используется нестандартный формат, позволяющий прочитать текстовую\n",
        "                                                      # переменную и преобразовать ее в столбец, содержащий календарные даты.\n",
        "leadership"
      ],
      "metadata": {
        "id": "8PzzAu8fkRSn",
        "outputId": "3d884c18-3467-46eb-af93-75bb6174f957",
        "colab": {
          "base_uri": "https://localhost:8080/",
          "height": 255
        }
      },
      "execution_count": null,
      "outputs": [
        {
          "output_type": "display_data",
          "data": {
            "text/html": [
              "<table class=\"dataframe\">\n",
              "<caption>A data.frame: 5 × 13</caption>\n",
              "<thead>\n",
              "\t<tr><th scope=col>manager</th><th scope=col>testDate</th><th scope=col>country</th><th scope=col>gender</th><th scope=col>age</th><th scope=col>item1</th><th scope=col>item2</th><th scope=col>item3</th><th scope=col>item4</th><th scope=col>item5</th><th scope=col>total_score</th><th scope=col>mean_score</th><th scope=col>agecat</th></tr>\n",
              "\t<tr><th scope=col>&lt;dbl&gt;</th><th scope=col>&lt;date&gt;</th><th scope=col>&lt;chr&gt;</th><th scope=col>&lt;chr&gt;</th><th scope=col>&lt;dbl&gt;</th><th scope=col>&lt;dbl&gt;</th><th scope=col>&lt;dbl&gt;</th><th scope=col>&lt;dbl&gt;</th><th scope=col>&lt;dbl&gt;</th><th scope=col>&lt;dbl&gt;</th><th scope=col>&lt;dbl&gt;</th><th scope=col>&lt;dbl&gt;</th><th scope=col>&lt;chr&gt;</th></tr>\n",
              "</thead>\n",
              "<tbody>\n",
              "\t<tr><td>1</td><td>2008-10-24</td><td>US</td><td>M</td><td>32</td><td>5</td><td>4</td><td>5</td><td> 5</td><td> 5</td><td>24</td><td>4.8</td><td>Young</td></tr>\n",
              "\t<tr><td>2</td><td>2008-10-28</td><td>US</td><td>F</td><td>45</td><td>3</td><td>5</td><td>2</td><td> 5</td><td> 5</td><td>20</td><td>4.0</td><td>Young</td></tr>\n",
              "\t<tr><td>3</td><td>2008-10-01</td><td>UK</td><td>F</td><td>25</td><td>3</td><td>5</td><td>5</td><td> 5</td><td> 2</td><td>20</td><td>4.0</td><td>Young</td></tr>\n",
              "\t<tr><td>4</td><td>2008-10-12</td><td>UK</td><td>M</td><td>39</td><td>3</td><td>3</td><td>4</td><td>NA</td><td>NA</td><td>NA</td><td> NA</td><td>Young</td></tr>\n",
              "\t<tr><td>5</td><td>2009-05-01</td><td>UK</td><td>F</td><td>NA</td><td>2</td><td>2</td><td>1</td><td> 2</td><td> 1</td><td> 8</td><td>1.6</td><td>NA   </td></tr>\n",
              "</tbody>\n",
              "</table>\n"
            ],
            "text/markdown": "\nA data.frame: 5 × 13\n\n| manager &lt;dbl&gt; | testDate &lt;date&gt; | country &lt;chr&gt; | gender &lt;chr&gt; | age &lt;dbl&gt; | item1 &lt;dbl&gt; | item2 &lt;dbl&gt; | item3 &lt;dbl&gt; | item4 &lt;dbl&gt; | item5 &lt;dbl&gt; | total_score &lt;dbl&gt; | mean_score &lt;dbl&gt; | agecat &lt;chr&gt; |\n|---|---|---|---|---|---|---|---|---|---|---|---|---|\n| 1 | 2008-10-24 | US | M | 32 | 5 | 4 | 5 |  5 |  5 | 24 | 4.8 | Young |\n| 2 | 2008-10-28 | US | F | 45 | 3 | 5 | 2 |  5 |  5 | 20 | 4.0 | Young |\n| 3 | 2008-10-01 | UK | F | 25 | 3 | 5 | 5 |  5 |  2 | 20 | 4.0 | Young |\n| 4 | 2008-10-12 | UK | M | 39 | 3 | 3 | 4 | NA | NA | NA |  NA | Young |\n| 5 | 2009-05-01 | UK | F | NA | 2 | 2 | 1 |  2 |  1 |  8 | 1.6 | NA    |\n\n",
            "text/latex": "A data.frame: 5 × 13\n\\begin{tabular}{lllllllllllll}\n manager & testDate & country & gender & age & item1 & item2 & item3 & item4 & item5 & total\\_score & mean\\_score & agecat\\\\\n <dbl> & <date> & <chr> & <chr> & <dbl> & <dbl> & <dbl> & <dbl> & <dbl> & <dbl> & <dbl> & <dbl> & <chr>\\\\\n\\hline\n\t 1 & 2008-10-24 & US & M & 32 & 5 & 4 & 5 &  5 &  5 & 24 & 4.8 & Young\\\\\n\t 2 & 2008-10-28 & US & F & 45 & 3 & 5 & 2 &  5 &  5 & 20 & 4.0 & Young\\\\\n\t 3 & 2008-10-01 & UK & F & 25 & 3 & 5 & 5 &  5 &  2 & 20 & 4.0 & Young\\\\\n\t 4 & 2008-10-12 & UK & M & 39 & 3 & 3 & 4 & NA & NA & NA &  NA & Young\\\\\n\t 5 & 2009-05-01 & UK & F & NA & 2 & 2 & 1 &  2 &  1 &  8 & 1.6 & NA   \\\\\n\\end{tabular}\n",
            "text/plain": [
              "  manager testDate   country gender age item1 item2 item3 item4 item5\n",
              "1 1       2008-10-24 US      M      32  5     4     5      5     5   \n",
              "2 2       2008-10-28 US      F      45  3     5     2      5     5   \n",
              "3 3       2008-10-01 UK      F      25  3     5     5      5     2   \n",
              "4 4       2008-10-12 UK      M      39  3     3     4     NA    NA   \n",
              "5 5       2009-05-01 UK      F      NA  2     2     1      2     1   \n",
              "  total_score mean_score agecat\n",
              "1 24          4.8        Young \n",
              "2 20          4.0        Young \n",
              "3 20          4.0        Young \n",
              "4 NA           NA        Young \n",
              "5  8          1.6        NA    "
            ]
          },
          "metadata": {}
        }
      ]
    },
    {
      "cell_type": "code",
      "source": [
        "Sys.Date()\n",
        "date()"
      ],
      "metadata": {
        "id": "87_IndNslarZ",
        "outputId": "901e2d3f-5fd8-4e5e-aa41-a7bc98f26362",
        "colab": {
          "base_uri": "https://localhost:8080/",
          "height": 52
        }
      },
      "execution_count": null,
      "outputs": [
        {
          "output_type": "display_data",
          "data": {
            "text/html": [
              "<time datetime=\"2024-06-11\">2024-06-11</time>"
            ],
            "text/markdown": "2024-06-11",
            "text/latex": "2024-06-11",
            "text/plain": [
              "[1] \"2024-06-11\""
            ]
          },
          "metadata": {}
        },
        {
          "output_type": "display_data",
          "data": {
            "text/html": [
              "'Tue Jun 11 11:13:04 2024'"
            ],
            "text/markdown": "'Tue Jun 11 11:13:04 2024'",
            "text/latex": "'Tue Jun 11 11:13:04 2024'",
            "text/plain": [
              "[1] \"Tue Jun 11 11:13:04 2024\""
            ]
          },
          "metadata": {}
        }
      ]
    },
    {
      "cell_type": "code",
      "source": [
        "today <- Sys.Date()\n",
        "format(today, format=\"%B %d %Y\")\n",
        "format(today, format=\"%A\")"
      ],
      "metadata": {
        "id": "pOxWxp8AQ7Wc",
        "outputId": "89291c7c-91db-4ef6-d3c6-ea9a5281552b",
        "colab": {
          "base_uri": "https://localhost:8080/",
          "height": 52
        }
      },
      "execution_count": null,
      "outputs": [
        {
          "output_type": "display_data",
          "data": {
            "text/html": [
              "'June 11 2024'"
            ],
            "text/markdown": "'June 11 2024'",
            "text/latex": "'June 11 2024'",
            "text/plain": [
              "[1] \"June 11 2024\""
            ]
          },
          "metadata": {}
        },
        {
          "output_type": "display_data",
          "data": {
            "text/html": [
              "'Tuesday'"
            ],
            "text/markdown": "'Tuesday'",
            "text/latex": "'Tuesday'",
            "text/plain": [
              "[1] \"Tuesday\""
            ]
          },
          "metadata": {}
        }
      ]
    },
    {
      "cell_type": "code",
      "source": [
        "# С датами можно производить арефметические действия\n",
        "startdate <- as.Date(\"2020-02-13\")\n",
        "enddate <- as.Date(\"2021-01-22\")\n",
        "days <- enddate - startdate\n",
        "days"
      ],
      "metadata": {
        "id": "TRZdnaiXheH3",
        "outputId": "6e2a44c8-cdbf-444f-cc3b-7e282cb22fb4",
        "colab": {
          "base_uri": "https://localhost:8080/",
          "height": 34
        }
      },
      "execution_count": null,
      "outputs": [
        {
          "output_type": "display_data",
          "data": {
            "text/plain": [
              "Time difference of 344 days"
            ]
          },
          "metadata": {}
        }
      ]
    },
    {
      "cell_type": "code",
      "source": [
        "today <- Sys.Date()\n",
        "dob <- as.Date(\"1956-10-12\")\n",
        "difftime(today, dob, units=\"weeks\")"
      ],
      "metadata": {
        "id": "736Dut-6h3TG",
        "outputId": "743df67a-9774-40a2-b205-353f488d0681",
        "colab": {
          "base_uri": "https://localhost:8080/",
          "height": 34
        }
      },
      "execution_count": null,
      "outputs": [
        {
          "output_type": "display_data",
          "data": {
            "text/plain": [
              "Time difference of 3530.571 weeks"
            ]
          },
          "metadata": {}
        }
      ]
    },
    {
      "cell_type": "markdown",
      "source": [
        "# Преобразование дат в текстовые переменные\n",
        "Также есть возможность преобразовать данные в формате даты и времени в текстовые значения, хотя это бывает нужно не так часто. Это можно сделать при помощи функции `as.character()`:\n",
        "\n",
        "`strDates <- as.character(dates)`\n",
        "\n",
        "Это позволяет применять к датам многие текстовые функции (разделение на подгруппы, замена, конкатенация и т. д.)."
      ],
      "metadata": {
        "id": "4Y6-TFH-pTWP"
      }
    },
    {
      "cell_type": "markdown",
      "source": [
        "### Дополнительно\n",
        "Чтобы узнать больше о преобразовании текстовых переменных в даты, загляните в справку `help(as.Date)` и `help(strftime)`. Также дополнительную информацию о форматах даты и времени можно найти в `help(ISOdatetime)`. Пакет lubridate содержит множество функций, упрощающих работу с датами, в том числе функции, обнаруживающие данные в формате даты и времени и извлекающие отдельные составляющие таких данных (например, годы, месяцы, дни и т. д.), а также выполняющие арифметические операции с ними. Если вам нужно произвести сложные вычисления с датами, воспользуйтесь пакетом fCalendar. В нем содержится несметное число функций для работы с датами. Эти функции позволяют одновременно работать с несколькими часовыми поясами и совершать сложные операции с календарем, распознавая рабочие, выходные и праздничные дни."
      ],
      "metadata": {
        "id": "9vwq1svsriR5"
      }
    },
    {
      "cell_type": "markdown",
      "source": [
        "## Преобразование данных из одного типа в другой\n",
        "Функции:\n",
        "* `is.тип_данных()` - возвращают TRUE или FALSE,\n",
        "* `as.тип_данных()` - преобразуют данные в соответствующий формат.\n",
        "\n",
        "\n",
        "---\n",
        "* is.numeric() ----------- as.numeric()\n",
        "* is.character() --------- as.character()\n",
        "* is.vector() -------------- as.vector()\n",
        "* is.matrix() -------------- as.matrix()\n",
        "* is.data.frame() ------- as.data.frame()\n",
        "* is.factor() --------------- as.factor()\n",
        "* is.logical() -------------- as.logical()\n",
        "\n"
      ],
      "metadata": {
        "id": "JJRU9-2GwiVQ"
      }
    },
    {
      "cell_type": "markdown",
      "source": [
        "## Сортировка данных\n",
        "\n",
        "Используется функция `order()`. По умолчанию данные сортируются в порядке возрастания. Можно использовать знак минус перед показателем, тогда будет обратная сортировка по убыванию."
      ],
      "metadata": {
        "id": "DwDHUDVQF4wv"
      }
    },
    {
      "cell_type": "code",
      "source": [
        "# по возрасту в порядке возрастания\n",
        "newdata <- leadership[order(leadership$age),]\n",
        "newdata"
      ],
      "metadata": {
        "id": "9xhKAEjzGj-P",
        "outputId": "6ea3af2a-e314-48f8-8487-b190e455b2b1",
        "colab": {
          "base_uri": "https://localhost:8080/",
          "height": 255
        }
      },
      "execution_count": null,
      "outputs": [
        {
          "output_type": "display_data",
          "data": {
            "text/html": [
              "<table class=\"dataframe\">\n",
              "<caption>A data.frame: 5 × 13</caption>\n",
              "<thead>\n",
              "\t<tr><th></th><th scope=col>manager</th><th scope=col>testDate</th><th scope=col>country</th><th scope=col>gender</th><th scope=col>age</th><th scope=col>item1</th><th scope=col>item2</th><th scope=col>item3</th><th scope=col>item4</th><th scope=col>item5</th><th scope=col>total_score</th><th scope=col>mean_score</th><th scope=col>agecat</th></tr>\n",
              "\t<tr><th></th><th scope=col>&lt;dbl&gt;</th><th scope=col>&lt;date&gt;</th><th scope=col>&lt;chr&gt;</th><th scope=col>&lt;chr&gt;</th><th scope=col>&lt;dbl&gt;</th><th scope=col>&lt;dbl&gt;</th><th scope=col>&lt;dbl&gt;</th><th scope=col>&lt;dbl&gt;</th><th scope=col>&lt;dbl&gt;</th><th scope=col>&lt;dbl&gt;</th><th scope=col>&lt;dbl&gt;</th><th scope=col>&lt;dbl&gt;</th><th scope=col>&lt;chr&gt;</th></tr>\n",
              "</thead>\n",
              "<tbody>\n",
              "\t<tr><th scope=row>3</th><td>3</td><td>2008-10-01</td><td>UK</td><td>F</td><td>25</td><td>3</td><td>5</td><td>5</td><td> 5</td><td> 2</td><td>20</td><td>4.0</td><td>Young</td></tr>\n",
              "\t<tr><th scope=row>1</th><td>1</td><td>2008-10-24</td><td>US</td><td>M</td><td>32</td><td>5</td><td>4</td><td>5</td><td> 5</td><td> 5</td><td>24</td><td>4.8</td><td>Young</td></tr>\n",
              "\t<tr><th scope=row>4</th><td>4</td><td>2008-10-12</td><td>UK</td><td>M</td><td>39</td><td>3</td><td>3</td><td>4</td><td>NA</td><td>NA</td><td>NA</td><td> NA</td><td>Young</td></tr>\n",
              "\t<tr><th scope=row>2</th><td>2</td><td>2008-10-28</td><td>US</td><td>F</td><td>45</td><td>3</td><td>5</td><td>2</td><td> 5</td><td> 5</td><td>20</td><td>4.0</td><td>Young</td></tr>\n",
              "\t<tr><th scope=row>5</th><td>5</td><td>2009-05-01</td><td>UK</td><td>F</td><td>NA</td><td>2</td><td>2</td><td>1</td><td> 2</td><td> 1</td><td> 8</td><td>1.6</td><td>NA   </td></tr>\n",
              "</tbody>\n",
              "</table>\n"
            ],
            "text/markdown": "\nA data.frame: 5 × 13\n\n| <!--/--> | manager &lt;dbl&gt; | testDate &lt;date&gt; | country &lt;chr&gt; | gender &lt;chr&gt; | age &lt;dbl&gt; | item1 &lt;dbl&gt; | item2 &lt;dbl&gt; | item3 &lt;dbl&gt; | item4 &lt;dbl&gt; | item5 &lt;dbl&gt; | total_score &lt;dbl&gt; | mean_score &lt;dbl&gt; | agecat &lt;chr&gt; |\n|---|---|---|---|---|---|---|---|---|---|---|---|---|---|\n| 3 | 3 | 2008-10-01 | UK | F | 25 | 3 | 5 | 5 |  5 |  2 | 20 | 4.0 | Young |\n| 1 | 1 | 2008-10-24 | US | M | 32 | 5 | 4 | 5 |  5 |  5 | 24 | 4.8 | Young |\n| 4 | 4 | 2008-10-12 | UK | M | 39 | 3 | 3 | 4 | NA | NA | NA |  NA | Young |\n| 2 | 2 | 2008-10-28 | US | F | 45 | 3 | 5 | 2 |  5 |  5 | 20 | 4.0 | Young |\n| 5 | 5 | 2009-05-01 | UK | F | NA | 2 | 2 | 1 |  2 |  1 |  8 | 1.6 | NA    |\n\n",
            "text/latex": "A data.frame: 5 × 13\n\\begin{tabular}{r|lllllllllllll}\n  & manager & testDate & country & gender & age & item1 & item2 & item3 & item4 & item5 & total\\_score & mean\\_score & agecat\\\\\n  & <dbl> & <date> & <chr> & <chr> & <dbl> & <dbl> & <dbl> & <dbl> & <dbl> & <dbl> & <dbl> & <dbl> & <chr>\\\\\n\\hline\n\t3 & 3 & 2008-10-01 & UK & F & 25 & 3 & 5 & 5 &  5 &  2 & 20 & 4.0 & Young\\\\\n\t1 & 1 & 2008-10-24 & US & M & 32 & 5 & 4 & 5 &  5 &  5 & 24 & 4.8 & Young\\\\\n\t4 & 4 & 2008-10-12 & UK & M & 39 & 3 & 3 & 4 & NA & NA & NA &  NA & Young\\\\\n\t2 & 2 & 2008-10-28 & US & F & 45 & 3 & 5 & 2 &  5 &  5 & 20 & 4.0 & Young\\\\\n\t5 & 5 & 2009-05-01 & UK & F & NA & 2 & 2 & 1 &  2 &  1 &  8 & 1.6 & NA   \\\\\n\\end{tabular}\n",
            "text/plain": [
              "  manager testDate   country gender age item1 item2 item3 item4 item5\n",
              "3 3       2008-10-01 UK      F      25  3     5     5      5     2   \n",
              "1 1       2008-10-24 US      M      32  5     4     5      5     5   \n",
              "4 4       2008-10-12 UK      M      39  3     3     4     NA    NA   \n",
              "2 2       2008-10-28 US      F      45  3     5     2      5     5   \n",
              "5 5       2009-05-01 UK      F      NA  2     2     1      2     1   \n",
              "  total_score mean_score agecat\n",
              "3 20          4.0        Young \n",
              "1 24          4.8        Young \n",
              "4 NA           NA        Young \n",
              "2 20          4.0        Young \n",
              "5  8          1.6        NA    "
            ]
          },
          "metadata": {}
        }
      ]
    },
    {
      "cell_type": "code",
      "source": [
        "# по возрасту в порядке убывания\n",
        "newdata <- leadership[order(-leadership$age),]\n",
        "newdata"
      ],
      "metadata": {
        "id": "PHXR6t8NHZ3w",
        "outputId": "b3bf0093-adaa-4355-cbcb-1a1ca5b4713e",
        "colab": {
          "base_uri": "https://localhost:8080/",
          "height": 255
        }
      },
      "execution_count": null,
      "outputs": [
        {
          "output_type": "display_data",
          "data": {
            "text/html": [
              "<table class=\"dataframe\">\n",
              "<caption>A data.frame: 5 × 13</caption>\n",
              "<thead>\n",
              "\t<tr><th></th><th scope=col>manager</th><th scope=col>testDate</th><th scope=col>country</th><th scope=col>gender</th><th scope=col>age</th><th scope=col>item1</th><th scope=col>item2</th><th scope=col>item3</th><th scope=col>item4</th><th scope=col>item5</th><th scope=col>total_score</th><th scope=col>mean_score</th><th scope=col>agecat</th></tr>\n",
              "\t<tr><th></th><th scope=col>&lt;dbl&gt;</th><th scope=col>&lt;date&gt;</th><th scope=col>&lt;chr&gt;</th><th scope=col>&lt;chr&gt;</th><th scope=col>&lt;dbl&gt;</th><th scope=col>&lt;dbl&gt;</th><th scope=col>&lt;dbl&gt;</th><th scope=col>&lt;dbl&gt;</th><th scope=col>&lt;dbl&gt;</th><th scope=col>&lt;dbl&gt;</th><th scope=col>&lt;dbl&gt;</th><th scope=col>&lt;dbl&gt;</th><th scope=col>&lt;chr&gt;</th></tr>\n",
              "</thead>\n",
              "<tbody>\n",
              "\t<tr><th scope=row>2</th><td>2</td><td>2008-10-28</td><td>US</td><td>F</td><td>45</td><td>3</td><td>5</td><td>2</td><td> 5</td><td> 5</td><td>20</td><td>4.0</td><td>Young</td></tr>\n",
              "\t<tr><th scope=row>4</th><td>4</td><td>2008-10-12</td><td>UK</td><td>M</td><td>39</td><td>3</td><td>3</td><td>4</td><td>NA</td><td>NA</td><td>NA</td><td> NA</td><td>Young</td></tr>\n",
              "\t<tr><th scope=row>1</th><td>1</td><td>2008-10-24</td><td>US</td><td>M</td><td>32</td><td>5</td><td>4</td><td>5</td><td> 5</td><td> 5</td><td>24</td><td>4.8</td><td>Young</td></tr>\n",
              "\t<tr><th scope=row>3</th><td>3</td><td>2008-10-01</td><td>UK</td><td>F</td><td>25</td><td>3</td><td>5</td><td>5</td><td> 5</td><td> 2</td><td>20</td><td>4.0</td><td>Young</td></tr>\n",
              "\t<tr><th scope=row>5</th><td>5</td><td>2009-05-01</td><td>UK</td><td>F</td><td>NA</td><td>2</td><td>2</td><td>1</td><td> 2</td><td> 1</td><td> 8</td><td>1.6</td><td>NA   </td></tr>\n",
              "</tbody>\n",
              "</table>\n"
            ],
            "text/markdown": "\nA data.frame: 5 × 13\n\n| <!--/--> | manager &lt;dbl&gt; | testDate &lt;date&gt; | country &lt;chr&gt; | gender &lt;chr&gt; | age &lt;dbl&gt; | item1 &lt;dbl&gt; | item2 &lt;dbl&gt; | item3 &lt;dbl&gt; | item4 &lt;dbl&gt; | item5 &lt;dbl&gt; | total_score &lt;dbl&gt; | mean_score &lt;dbl&gt; | agecat &lt;chr&gt; |\n|---|---|---|---|---|---|---|---|---|---|---|---|---|---|\n| 2 | 2 | 2008-10-28 | US | F | 45 | 3 | 5 | 2 |  5 |  5 | 20 | 4.0 | Young |\n| 4 | 4 | 2008-10-12 | UK | M | 39 | 3 | 3 | 4 | NA | NA | NA |  NA | Young |\n| 1 | 1 | 2008-10-24 | US | M | 32 | 5 | 4 | 5 |  5 |  5 | 24 | 4.8 | Young |\n| 3 | 3 | 2008-10-01 | UK | F | 25 | 3 | 5 | 5 |  5 |  2 | 20 | 4.0 | Young |\n| 5 | 5 | 2009-05-01 | UK | F | NA | 2 | 2 | 1 |  2 |  1 |  8 | 1.6 | NA    |\n\n",
            "text/latex": "A data.frame: 5 × 13\n\\begin{tabular}{r|lllllllllllll}\n  & manager & testDate & country & gender & age & item1 & item2 & item3 & item4 & item5 & total\\_score & mean\\_score & agecat\\\\\n  & <dbl> & <date> & <chr> & <chr> & <dbl> & <dbl> & <dbl> & <dbl> & <dbl> & <dbl> & <dbl> & <dbl> & <chr>\\\\\n\\hline\n\t2 & 2 & 2008-10-28 & US & F & 45 & 3 & 5 & 2 &  5 &  5 & 20 & 4.0 & Young\\\\\n\t4 & 4 & 2008-10-12 & UK & M & 39 & 3 & 3 & 4 & NA & NA & NA &  NA & Young\\\\\n\t1 & 1 & 2008-10-24 & US & M & 32 & 5 & 4 & 5 &  5 &  5 & 24 & 4.8 & Young\\\\\n\t3 & 3 & 2008-10-01 & UK & F & 25 & 3 & 5 & 5 &  5 &  2 & 20 & 4.0 & Young\\\\\n\t5 & 5 & 2009-05-01 & UK & F & NA & 2 & 2 & 1 &  2 &  1 &  8 & 1.6 & NA   \\\\\n\\end{tabular}\n",
            "text/plain": [
              "  manager testDate   country gender age item1 item2 item3 item4 item5\n",
              "2 2       2008-10-28 US      F      45  3     5     2      5     5   \n",
              "4 4       2008-10-12 UK      M      39  3     3     4     NA    NA   \n",
              "1 1       2008-10-24 US      M      32  5     4     5      5     5   \n",
              "3 3       2008-10-01 UK      F      25  3     5     5      5     2   \n",
              "5 5       2009-05-01 UK      F      NA  2     2     1      2     1   \n",
              "  total_score mean_score agecat\n",
              "2 20          4.0        Young \n",
              "4 NA           NA        Young \n",
              "1 24          4.8        Young \n",
              "3 20          4.0        Young \n",
              "5  8          1.6        NA    "
            ]
          },
          "metadata": {}
        }
      ]
    },
    {
      "cell_type": "code",
      "source": [
        "# по полу а затем по возрасту в пределах каждого пола\n",
        "newdata <- leadership[order(leadership$gender, leadership$age),]\n",
        "newdata"
      ],
      "metadata": {
        "id": "ntP4U4NFHjhX",
        "outputId": "85c9503c-4662-4797-b47c-251233ebcead",
        "colab": {
          "base_uri": "https://localhost:8080/",
          "height": 255
        }
      },
      "execution_count": null,
      "outputs": [
        {
          "output_type": "display_data",
          "data": {
            "text/html": [
              "<table class=\"dataframe\">\n",
              "<caption>A data.frame: 5 × 13</caption>\n",
              "<thead>\n",
              "\t<tr><th></th><th scope=col>manager</th><th scope=col>testDate</th><th scope=col>country</th><th scope=col>gender</th><th scope=col>age</th><th scope=col>item1</th><th scope=col>item2</th><th scope=col>item3</th><th scope=col>item4</th><th scope=col>item5</th><th scope=col>total_score</th><th scope=col>mean_score</th><th scope=col>agecat</th></tr>\n",
              "\t<tr><th></th><th scope=col>&lt;dbl&gt;</th><th scope=col>&lt;date&gt;</th><th scope=col>&lt;chr&gt;</th><th scope=col>&lt;chr&gt;</th><th scope=col>&lt;dbl&gt;</th><th scope=col>&lt;dbl&gt;</th><th scope=col>&lt;dbl&gt;</th><th scope=col>&lt;dbl&gt;</th><th scope=col>&lt;dbl&gt;</th><th scope=col>&lt;dbl&gt;</th><th scope=col>&lt;dbl&gt;</th><th scope=col>&lt;dbl&gt;</th><th scope=col>&lt;chr&gt;</th></tr>\n",
              "</thead>\n",
              "<tbody>\n",
              "\t<tr><th scope=row>3</th><td>3</td><td>2008-10-01</td><td>UK</td><td>F</td><td>25</td><td>3</td><td>5</td><td>5</td><td> 5</td><td> 2</td><td>20</td><td>4.0</td><td>Young</td></tr>\n",
              "\t<tr><th scope=row>2</th><td>2</td><td>2008-10-28</td><td>US</td><td>F</td><td>45</td><td>3</td><td>5</td><td>2</td><td> 5</td><td> 5</td><td>20</td><td>4.0</td><td>Young</td></tr>\n",
              "\t<tr><th scope=row>5</th><td>5</td><td>2009-05-01</td><td>UK</td><td>F</td><td>NA</td><td>2</td><td>2</td><td>1</td><td> 2</td><td> 1</td><td> 8</td><td>1.6</td><td>NA   </td></tr>\n",
              "\t<tr><th scope=row>1</th><td>1</td><td>2008-10-24</td><td>US</td><td>M</td><td>32</td><td>5</td><td>4</td><td>5</td><td> 5</td><td> 5</td><td>24</td><td>4.8</td><td>Young</td></tr>\n",
              "\t<tr><th scope=row>4</th><td>4</td><td>2008-10-12</td><td>UK</td><td>M</td><td>39</td><td>3</td><td>3</td><td>4</td><td>NA</td><td>NA</td><td>NA</td><td> NA</td><td>Young</td></tr>\n",
              "</tbody>\n",
              "</table>\n"
            ],
            "text/markdown": "\nA data.frame: 5 × 13\n\n| <!--/--> | manager &lt;dbl&gt; | testDate &lt;date&gt; | country &lt;chr&gt; | gender &lt;chr&gt; | age &lt;dbl&gt; | item1 &lt;dbl&gt; | item2 &lt;dbl&gt; | item3 &lt;dbl&gt; | item4 &lt;dbl&gt; | item5 &lt;dbl&gt; | total_score &lt;dbl&gt; | mean_score &lt;dbl&gt; | agecat &lt;chr&gt; |\n|---|---|---|---|---|---|---|---|---|---|---|---|---|---|\n| 3 | 3 | 2008-10-01 | UK | F | 25 | 3 | 5 | 5 |  5 |  2 | 20 | 4.0 | Young |\n| 2 | 2 | 2008-10-28 | US | F | 45 | 3 | 5 | 2 |  5 |  5 | 20 | 4.0 | Young |\n| 5 | 5 | 2009-05-01 | UK | F | NA | 2 | 2 | 1 |  2 |  1 |  8 | 1.6 | NA    |\n| 1 | 1 | 2008-10-24 | US | M | 32 | 5 | 4 | 5 |  5 |  5 | 24 | 4.8 | Young |\n| 4 | 4 | 2008-10-12 | UK | M | 39 | 3 | 3 | 4 | NA | NA | NA |  NA | Young |\n\n",
            "text/latex": "A data.frame: 5 × 13\n\\begin{tabular}{r|lllllllllllll}\n  & manager & testDate & country & gender & age & item1 & item2 & item3 & item4 & item5 & total\\_score & mean\\_score & agecat\\\\\n  & <dbl> & <date> & <chr> & <chr> & <dbl> & <dbl> & <dbl> & <dbl> & <dbl> & <dbl> & <dbl> & <dbl> & <chr>\\\\\n\\hline\n\t3 & 3 & 2008-10-01 & UK & F & 25 & 3 & 5 & 5 &  5 &  2 & 20 & 4.0 & Young\\\\\n\t2 & 2 & 2008-10-28 & US & F & 45 & 3 & 5 & 2 &  5 &  5 & 20 & 4.0 & Young\\\\\n\t5 & 5 & 2009-05-01 & UK & F & NA & 2 & 2 & 1 &  2 &  1 &  8 & 1.6 & NA   \\\\\n\t1 & 1 & 2008-10-24 & US & M & 32 & 5 & 4 & 5 &  5 &  5 & 24 & 4.8 & Young\\\\\n\t4 & 4 & 2008-10-12 & UK & M & 39 & 3 & 3 & 4 & NA & NA & NA &  NA & Young\\\\\n\\end{tabular}\n",
            "text/plain": [
              "  manager testDate   country gender age item1 item2 item3 item4 item5\n",
              "3 3       2008-10-01 UK      F      25  3     5     5      5     2   \n",
              "2 2       2008-10-28 US      F      45  3     5     2      5     5   \n",
              "5 5       2009-05-01 UK      F      NA  2     2     1      2     1   \n",
              "1 1       2008-10-24 US      M      32  5     4     5      5     5   \n",
              "4 4       2008-10-12 UK      M      39  3     3     4     NA    NA   \n",
              "  total_score mean_score agecat\n",
              "3 20          4.0        Young \n",
              "2 20          4.0        Young \n",
              "5  8          1.6        NA    \n",
              "1 24          4.8        Young \n",
              "4 NA           NA        Young "
            ]
          },
          "metadata": {}
        }
      ]
    },
    {
      "cell_type": "code",
      "source": [
        "# по полу а затем по возрасту (на убывание) в пределах каждого пола\n",
        "newdata <- leadership[order(leadership$gender, -leadership$age),]\n",
        "newdata"
      ],
      "metadata": {
        "id": "BQ1am6iGIPkw",
        "outputId": "707e54b1-dbf5-4ff1-ea44-e596c610ee86",
        "colab": {
          "base_uri": "https://localhost:8080/",
          "height": 255
        }
      },
      "execution_count": null,
      "outputs": [
        {
          "output_type": "display_data",
          "data": {
            "text/html": [
              "<table class=\"dataframe\">\n",
              "<caption>A data.frame: 5 × 13</caption>\n",
              "<thead>\n",
              "\t<tr><th></th><th scope=col>manager</th><th scope=col>testDate</th><th scope=col>country</th><th scope=col>gender</th><th scope=col>age</th><th scope=col>item1</th><th scope=col>item2</th><th scope=col>item3</th><th scope=col>item4</th><th scope=col>item5</th><th scope=col>total_score</th><th scope=col>mean_score</th><th scope=col>agecat</th></tr>\n",
              "\t<tr><th></th><th scope=col>&lt;dbl&gt;</th><th scope=col>&lt;date&gt;</th><th scope=col>&lt;chr&gt;</th><th scope=col>&lt;chr&gt;</th><th scope=col>&lt;dbl&gt;</th><th scope=col>&lt;dbl&gt;</th><th scope=col>&lt;dbl&gt;</th><th scope=col>&lt;dbl&gt;</th><th scope=col>&lt;dbl&gt;</th><th scope=col>&lt;dbl&gt;</th><th scope=col>&lt;dbl&gt;</th><th scope=col>&lt;dbl&gt;</th><th scope=col>&lt;chr&gt;</th></tr>\n",
              "</thead>\n",
              "<tbody>\n",
              "\t<tr><th scope=row>2</th><td>2</td><td>2008-10-28</td><td>US</td><td>F</td><td>45</td><td>3</td><td>5</td><td>2</td><td> 5</td><td> 5</td><td>20</td><td>4.0</td><td>Young</td></tr>\n",
              "\t<tr><th scope=row>3</th><td>3</td><td>2008-10-01</td><td>UK</td><td>F</td><td>25</td><td>3</td><td>5</td><td>5</td><td> 5</td><td> 2</td><td>20</td><td>4.0</td><td>Young</td></tr>\n",
              "\t<tr><th scope=row>5</th><td>5</td><td>2009-05-01</td><td>UK</td><td>F</td><td>NA</td><td>2</td><td>2</td><td>1</td><td> 2</td><td> 1</td><td> 8</td><td>1.6</td><td>NA   </td></tr>\n",
              "\t<tr><th scope=row>4</th><td>4</td><td>2008-10-12</td><td>UK</td><td>M</td><td>39</td><td>3</td><td>3</td><td>4</td><td>NA</td><td>NA</td><td>NA</td><td> NA</td><td>Young</td></tr>\n",
              "\t<tr><th scope=row>1</th><td>1</td><td>2008-10-24</td><td>US</td><td>M</td><td>32</td><td>5</td><td>4</td><td>5</td><td> 5</td><td> 5</td><td>24</td><td>4.8</td><td>Young</td></tr>\n",
              "</tbody>\n",
              "</table>\n"
            ],
            "text/markdown": "\nA data.frame: 5 × 13\n\n| <!--/--> | manager &lt;dbl&gt; | testDate &lt;date&gt; | country &lt;chr&gt; | gender &lt;chr&gt; | age &lt;dbl&gt; | item1 &lt;dbl&gt; | item2 &lt;dbl&gt; | item3 &lt;dbl&gt; | item4 &lt;dbl&gt; | item5 &lt;dbl&gt; | total_score &lt;dbl&gt; | mean_score &lt;dbl&gt; | agecat &lt;chr&gt; |\n|---|---|---|---|---|---|---|---|---|---|---|---|---|---|\n| 2 | 2 | 2008-10-28 | US | F | 45 | 3 | 5 | 2 |  5 |  5 | 20 | 4.0 | Young |\n| 3 | 3 | 2008-10-01 | UK | F | 25 | 3 | 5 | 5 |  5 |  2 | 20 | 4.0 | Young |\n| 5 | 5 | 2009-05-01 | UK | F | NA | 2 | 2 | 1 |  2 |  1 |  8 | 1.6 | NA    |\n| 4 | 4 | 2008-10-12 | UK | M | 39 | 3 | 3 | 4 | NA | NA | NA |  NA | Young |\n| 1 | 1 | 2008-10-24 | US | M | 32 | 5 | 4 | 5 |  5 |  5 | 24 | 4.8 | Young |\n\n",
            "text/latex": "A data.frame: 5 × 13\n\\begin{tabular}{r|lllllllllllll}\n  & manager & testDate & country & gender & age & item1 & item2 & item3 & item4 & item5 & total\\_score & mean\\_score & agecat\\\\\n  & <dbl> & <date> & <chr> & <chr> & <dbl> & <dbl> & <dbl> & <dbl> & <dbl> & <dbl> & <dbl> & <dbl> & <chr>\\\\\n\\hline\n\t2 & 2 & 2008-10-28 & US & F & 45 & 3 & 5 & 2 &  5 &  5 & 20 & 4.0 & Young\\\\\n\t3 & 3 & 2008-10-01 & UK & F & 25 & 3 & 5 & 5 &  5 &  2 & 20 & 4.0 & Young\\\\\n\t5 & 5 & 2009-05-01 & UK & F & NA & 2 & 2 & 1 &  2 &  1 &  8 & 1.6 & NA   \\\\\n\t4 & 4 & 2008-10-12 & UK & M & 39 & 3 & 3 & 4 & NA & NA & NA &  NA & Young\\\\\n\t1 & 1 & 2008-10-24 & US & M & 32 & 5 & 4 & 5 &  5 &  5 & 24 & 4.8 & Young\\\\\n\\end{tabular}\n",
            "text/plain": [
              "  manager testDate   country gender age item1 item2 item3 item4 item5\n",
              "2 2       2008-10-28 US      F      45  3     5     2      5     5   \n",
              "3 3       2008-10-01 UK      F      25  3     5     5      5     2   \n",
              "5 5       2009-05-01 UK      F      NA  2     2     1      2     1   \n",
              "4 4       2008-10-12 UK      M      39  3     3     4     NA    NA   \n",
              "1 1       2008-10-24 US      M      32  5     4     5      5     5   \n",
              "  total_score mean_score agecat\n",
              "2 20          4.0        Young \n",
              "3 20          4.0        Young \n",
              "5  8          1.6        NA    \n",
              "4 NA           NA        Young \n",
              "1 24          4.8        Young "
            ]
          },
          "metadata": {}
        }
      ]
    },
    {
      "cell_type": "markdown",
      "source": [
        "## Объединение наборов данных\n",
        "\n",
        "Если данные существуют в виде разрозненных фрагментов, их нужно объединить, прежде чем двигаться дальше. В этом разделе я расскажу, как добавлять столбцы (переменные) и строки (наблюдения) в таблицы данных."
      ],
      "metadata": {
        "id": "P4mSvfpdIcWf"
      }
    },
    {
      "cell_type": "markdown",
      "source": [
        "### Добавление столбцов\n",
        "\n",
        "Для объединения двух таблиц можно использовать функцию merge(). В большинстве случаев две таблицы объединяются по значениям одной или нескольких ключевых переменных. К примеру, инструкция:\n",
        "```\n",
        "total <- merge(dataframeA, dataframeB, by=\"ID\")\n",
        "```\n",
        "объединит таблицы данных dataframeA и dataframeB по значениям переменной ID. Аналогично инструкция:\n",
        "\n",
        "```\n",
        "total <- merge(dataframeA, dataframeB, by=c(\"ID\",\"Country\"))\n",
        "```\n",
        "объединит две таблицы данных по значениям переменных ID\n",
        "и Country. Подобное соединение таблиц данных по горизонта-\n",
        "ли часто используется для добавления переменных в таблицы\n",
        "данных.\n",
        "\n",
        "### Объединение по горизонтали с помощью cbind()\n",
        "Если нужно просто объединить две матрицы или таблицы данных по горизонтали без указания общего ключа, по которому должно выполняться объединение, можно использовать функцию `cbind()`:\n",
        "```\n",
        "total <- cbind(A, B)\n",
        "```\n",
        "Эта функция объединяет объекты A и B по горизонтали. Чтобы функция работала правильно, каждый объект должен иметь одинаковое число строк, расположенных в одинаковом порядке.\n",
        "\n"
      ],
      "metadata": {
        "id": "w7MlZVjFJLPP"
      }
    },
    {
      "cell_type": "markdown",
      "source": [
        "### Добавление строк\n",
        "\n",
        "Для объединения двух таблиц данных по вертикали можно использовать функцию `rbind()`:\n",
        "```\n",
        "total <- rbind(dataframeA, dataframeB)\n",
        "```\n",
        "Объединяемые таблицы должны содержать одинаковые наборы переменных, но не обязательно в одной и той же последовательности. Если в таблице dataframeA есть переменные, отсутствующие в dataframeB, то перед объединением нужно сделать одно из двух:\n",
        "* удалить лишние переменные из таблицы dataframeA;\n",
        "* создать дополнительные переменные в таблице dataframeB и присвоить им значения NA (пропущенные).\n",
        "\n",
        "Объединение по вертикали обычно используется для добавления наблюдений из одной таблицы данных в другую."
      ],
      "metadata": {
        "id": "kDYKhu2oPFeb"
      }
    },
    {
      "cell_type": "markdown",
      "source": [
        "## Разделение наборов данных на составлющие\n",
        "\n",
        "В R имеются обширные возможности для извлечения отдельных элементов из объектов. Их можно использовать для выбора определенных переменных и/или наблюдений. В следующих разделах обсуждается несколько способов выбора переменных и наблюдений."
      ],
      "metadata": {
        "id": "gnyBLjIsQMEI"
      }
    },
    {
      "cell_type": "markdown",
      "source": [
        "### Выбор переменных\n",
        "Часто бывает так, что новый набор данных создается из небольшого числа переменных, выбранных из большего набора данных. В главе 2 вы узнали, как выбирать элементы таблицы данных при помощи инструкции вида -  `таблица_данных[номера_строк, номера_столбцов]`. Этот прием можно использовать также для выбора отдельных переменных. Например, инструкция:\n",
        "```\n",
        "newdata <- leadership[,c(6:10)]\n",
        "```\n",
        "выберет переменные q1, q2, q3, q4 и q5 из таблицы данных leadership\n",
        "и сохранит их в таблице данных newdata. Если номера строк не ука-\n",
        "заны (,), то по умолчанию выбираются все строки.\n",
        "\n",
        "Инструкции:\n",
        "```\n",
        "vars <- c(\"item1\", \"item2\", \"item3\", \"item4\", \"item5\")\n",
        "newdata <-leadership[, vars]\n",
        "```\n",
        "выберут те же самые переменные. В этом случае имена перемен-\n",
        "ных (в кавычках) обозначают извлекаемые переменные.\n",
        "\n",
        "Наконец, тот же результат можно получить с помощью инструкций:\n",
        "```\n",
        "myvars <- paste(\"item\", 1:5, sep=\"\")\n",
        "newdata <- leadership[myvars]\n",
        "```\n",
        "Этот пример создаст тот же вектор, что и предыдущий, но на этот раз с использованием функции `paste()`. Эту функцию мы подробно рассмотрим позже.\n",
        "\n"
      ],
      "metadata": {
        "id": "DQ7aFd_SpXWh"
      }
    },
    {
      "cell_type": "code",
      "source": [
        "newdata <- leadership[,c(6:10)]\n",
        "newdata"
      ],
      "metadata": {
        "id": "9ovVXNjNqKYh",
        "outputId": "057621d6-1173-44a1-c2f1-27e38d7131f0",
        "colab": {
          "base_uri": "https://localhost:8080/",
          "height": 255
        }
      },
      "execution_count": null,
      "outputs": [
        {
          "output_type": "display_data",
          "data": {
            "text/html": [
              "<table class=\"dataframe\">\n",
              "<caption>A data.frame: 5 × 5</caption>\n",
              "<thead>\n",
              "\t<tr><th scope=col>item1</th><th scope=col>item2</th><th scope=col>item3</th><th scope=col>item4</th><th scope=col>item5</th></tr>\n",
              "\t<tr><th scope=col>&lt;dbl&gt;</th><th scope=col>&lt;dbl&gt;</th><th scope=col>&lt;dbl&gt;</th><th scope=col>&lt;dbl&gt;</th><th scope=col>&lt;dbl&gt;</th></tr>\n",
              "</thead>\n",
              "<tbody>\n",
              "\t<tr><td>5</td><td>4</td><td>5</td><td> 5</td><td> 5</td></tr>\n",
              "\t<tr><td>3</td><td>5</td><td>2</td><td> 5</td><td> 5</td></tr>\n",
              "\t<tr><td>3</td><td>5</td><td>5</td><td> 5</td><td> 2</td></tr>\n",
              "\t<tr><td>3</td><td>3</td><td>4</td><td>NA</td><td>NA</td></tr>\n",
              "\t<tr><td>2</td><td>2</td><td>1</td><td> 2</td><td> 1</td></tr>\n",
              "</tbody>\n",
              "</table>\n"
            ],
            "text/markdown": "\nA data.frame: 5 × 5\n\n| item1 &lt;dbl&gt; | item2 &lt;dbl&gt; | item3 &lt;dbl&gt; | item4 &lt;dbl&gt; | item5 &lt;dbl&gt; |\n|---|---|---|---|---|\n| 5 | 4 | 5 |  5 |  5 |\n| 3 | 5 | 2 |  5 |  5 |\n| 3 | 5 | 5 |  5 |  2 |\n| 3 | 3 | 4 | NA | NA |\n| 2 | 2 | 1 |  2 |  1 |\n\n",
            "text/latex": "A data.frame: 5 × 5\n\\begin{tabular}{lllll}\n item1 & item2 & item3 & item4 & item5\\\\\n <dbl> & <dbl> & <dbl> & <dbl> & <dbl>\\\\\n\\hline\n\t 5 & 4 & 5 &  5 &  5\\\\\n\t 3 & 5 & 2 &  5 &  5\\\\\n\t 3 & 5 & 5 &  5 &  2\\\\\n\t 3 & 3 & 4 & NA & NA\\\\\n\t 2 & 2 & 1 &  2 &  1\\\\\n\\end{tabular}\n",
            "text/plain": [
              "  item1 item2 item3 item4 item5\n",
              "1 5     4     5      5     5   \n",
              "2 3     5     2      5     5   \n",
              "3 3     5     5      5     2   \n",
              "4 3     3     4     NA    NA   \n",
              "5 2     2     1      2     1   "
            ]
          },
          "metadata": {}
        }
      ]
    },
    {
      "cell_type": "code",
      "source": [
        "vars <- c(\"item1\", \"item2\", \"item3\", \"item4\", \"item5\")\n",
        "newdata <- leadership[, vars]\n",
        "newdata"
      ],
      "metadata": {
        "id": "ZJUGsrszqrdJ",
        "outputId": "655a5564-bab1-4baf-ff84-d3f29891fded",
        "colab": {
          "base_uri": "https://localhost:8080/",
          "height": 255
        }
      },
      "execution_count": null,
      "outputs": [
        {
          "output_type": "display_data",
          "data": {
            "text/html": [
              "<table class=\"dataframe\">\n",
              "<caption>A data.frame: 5 × 5</caption>\n",
              "<thead>\n",
              "\t<tr><th scope=col>item1</th><th scope=col>item2</th><th scope=col>item3</th><th scope=col>item4</th><th scope=col>item5</th></tr>\n",
              "\t<tr><th scope=col>&lt;dbl&gt;</th><th scope=col>&lt;dbl&gt;</th><th scope=col>&lt;dbl&gt;</th><th scope=col>&lt;dbl&gt;</th><th scope=col>&lt;dbl&gt;</th></tr>\n",
              "</thead>\n",
              "<tbody>\n",
              "\t<tr><td>5</td><td>4</td><td>5</td><td> 5</td><td> 5</td></tr>\n",
              "\t<tr><td>3</td><td>5</td><td>2</td><td> 5</td><td> 5</td></tr>\n",
              "\t<tr><td>3</td><td>5</td><td>5</td><td> 5</td><td> 2</td></tr>\n",
              "\t<tr><td>3</td><td>3</td><td>4</td><td>NA</td><td>NA</td></tr>\n",
              "\t<tr><td>2</td><td>2</td><td>1</td><td> 2</td><td> 1</td></tr>\n",
              "</tbody>\n",
              "</table>\n"
            ],
            "text/markdown": "\nA data.frame: 5 × 5\n\n| item1 &lt;dbl&gt; | item2 &lt;dbl&gt; | item3 &lt;dbl&gt; | item4 &lt;dbl&gt; | item5 &lt;dbl&gt; |\n|---|---|---|---|---|\n| 5 | 4 | 5 |  5 |  5 |\n| 3 | 5 | 2 |  5 |  5 |\n| 3 | 5 | 5 |  5 |  2 |\n| 3 | 3 | 4 | NA | NA |\n| 2 | 2 | 1 |  2 |  1 |\n\n",
            "text/latex": "A data.frame: 5 × 5\n\\begin{tabular}{lllll}\n item1 & item2 & item3 & item4 & item5\\\\\n <dbl> & <dbl> & <dbl> & <dbl> & <dbl>\\\\\n\\hline\n\t 5 & 4 & 5 &  5 &  5\\\\\n\t 3 & 5 & 2 &  5 &  5\\\\\n\t 3 & 5 & 5 &  5 &  2\\\\\n\t 3 & 3 & 4 & NA & NA\\\\\n\t 2 & 2 & 1 &  2 &  1\\\\\n\\end{tabular}\n",
            "text/plain": [
              "  item1 item2 item3 item4 item5\n",
              "1 5     4     5      5     5   \n",
              "2 3     5     2      5     5   \n",
              "3 3     5     5      5     2   \n",
              "4 3     3     4     NA    NA   \n",
              "5 2     2     1      2     1   "
            ]
          },
          "metadata": {}
        }
      ]
    },
    {
      "cell_type": "code",
      "source": [
        "# можно и так ,запятая перед vars подрозумевается\n",
        "vars <- c(\"item1\", \"item2\", \"item3\", \"item4\", \"item5\")\n",
        "newdata <- leadership[vars]\n",
        "newdata"
      ],
      "metadata": {
        "id": "hrgxY0PNrbBn",
        "outputId": "882632ec-ea25-473f-e36e-75151185d4e5",
        "colab": {
          "base_uri": "https://localhost:8080/",
          "height": 255
        }
      },
      "execution_count": null,
      "outputs": [
        {
          "output_type": "display_data",
          "data": {
            "text/html": [
              "<table class=\"dataframe\">\n",
              "<caption>A data.frame: 5 × 5</caption>\n",
              "<thead>\n",
              "\t<tr><th scope=col>item1</th><th scope=col>item2</th><th scope=col>item3</th><th scope=col>item4</th><th scope=col>item5</th></tr>\n",
              "\t<tr><th scope=col>&lt;dbl&gt;</th><th scope=col>&lt;dbl&gt;</th><th scope=col>&lt;dbl&gt;</th><th scope=col>&lt;dbl&gt;</th><th scope=col>&lt;dbl&gt;</th></tr>\n",
              "</thead>\n",
              "<tbody>\n",
              "\t<tr><td>5</td><td>4</td><td>5</td><td> 5</td><td> 5</td></tr>\n",
              "\t<tr><td>3</td><td>5</td><td>2</td><td> 5</td><td> 5</td></tr>\n",
              "\t<tr><td>3</td><td>5</td><td>5</td><td> 5</td><td> 2</td></tr>\n",
              "\t<tr><td>3</td><td>3</td><td>4</td><td>NA</td><td>NA</td></tr>\n",
              "\t<tr><td>2</td><td>2</td><td>1</td><td> 2</td><td> 1</td></tr>\n",
              "</tbody>\n",
              "</table>\n"
            ],
            "text/markdown": "\nA data.frame: 5 × 5\n\n| item1 &lt;dbl&gt; | item2 &lt;dbl&gt; | item3 &lt;dbl&gt; | item4 &lt;dbl&gt; | item5 &lt;dbl&gt; |\n|---|---|---|---|---|\n| 5 | 4 | 5 |  5 |  5 |\n| 3 | 5 | 2 |  5 |  5 |\n| 3 | 5 | 5 |  5 |  2 |\n| 3 | 3 | 4 | NA | NA |\n| 2 | 2 | 1 |  2 |  1 |\n\n",
            "text/latex": "A data.frame: 5 × 5\n\\begin{tabular}{lllll}\n item1 & item2 & item3 & item4 & item5\\\\\n <dbl> & <dbl> & <dbl> & <dbl> & <dbl>\\\\\n\\hline\n\t 5 & 4 & 5 &  5 &  5\\\\\n\t 3 & 5 & 2 &  5 &  5\\\\\n\t 3 & 5 & 5 &  5 &  2\\\\\n\t 3 & 3 & 4 & NA & NA\\\\\n\t 2 & 2 & 1 &  2 &  1\\\\\n\\end{tabular}\n",
            "text/plain": [
              "  item1 item2 item3 item4 item5\n",
              "1 5     4     5      5     5   \n",
              "2 3     5     2      5     5   \n",
              "3 3     5     5      5     2   \n",
              "4 3     3     4     NA    NA   \n",
              "5 2     2     1      2     1   "
            ]
          },
          "metadata": {}
        }
      ]
    },
    {
      "cell_type": "code",
      "source": [
        "myvars <- paste(\"item\", 1:5, sep=\"\")\n",
        "newdata <- leadership[myvars]\n",
        "newdata"
      ],
      "metadata": {
        "id": "7sltf9yisedK",
        "outputId": "5d117863-cac6-4d13-8147-264d10ef39f8",
        "colab": {
          "base_uri": "https://localhost:8080/",
          "height": 255
        }
      },
      "execution_count": null,
      "outputs": [
        {
          "output_type": "display_data",
          "data": {
            "text/html": [
              "<table class=\"dataframe\">\n",
              "<caption>A data.frame: 5 × 5</caption>\n",
              "<thead>\n",
              "\t<tr><th scope=col>item1</th><th scope=col>item2</th><th scope=col>item3</th><th scope=col>item4</th><th scope=col>item5</th></tr>\n",
              "\t<tr><th scope=col>&lt;dbl&gt;</th><th scope=col>&lt;dbl&gt;</th><th scope=col>&lt;dbl&gt;</th><th scope=col>&lt;dbl&gt;</th><th scope=col>&lt;dbl&gt;</th></tr>\n",
              "</thead>\n",
              "<tbody>\n",
              "\t<tr><td>5</td><td>4</td><td>5</td><td> 5</td><td> 5</td></tr>\n",
              "\t<tr><td>3</td><td>5</td><td>2</td><td> 5</td><td> 5</td></tr>\n",
              "\t<tr><td>3</td><td>5</td><td>5</td><td> 5</td><td> 2</td></tr>\n",
              "\t<tr><td>3</td><td>3</td><td>4</td><td>NA</td><td>NA</td></tr>\n",
              "\t<tr><td>2</td><td>2</td><td>1</td><td> 2</td><td> 1</td></tr>\n",
              "</tbody>\n",
              "</table>\n"
            ],
            "text/markdown": "\nA data.frame: 5 × 5\n\n| item1 &lt;dbl&gt; | item2 &lt;dbl&gt; | item3 &lt;dbl&gt; | item4 &lt;dbl&gt; | item5 &lt;dbl&gt; |\n|---|---|---|---|---|\n| 5 | 4 | 5 |  5 |  5 |\n| 3 | 5 | 2 |  5 |  5 |\n| 3 | 5 | 5 |  5 |  2 |\n| 3 | 3 | 4 | NA | NA |\n| 2 | 2 | 1 |  2 |  1 |\n\n",
            "text/latex": "A data.frame: 5 × 5\n\\begin{tabular}{lllll}\n item1 & item2 & item3 & item4 & item5\\\\\n <dbl> & <dbl> & <dbl> & <dbl> & <dbl>\\\\\n\\hline\n\t 5 & 4 & 5 &  5 &  5\\\\\n\t 3 & 5 & 2 &  5 &  5\\\\\n\t 3 & 5 & 5 &  5 &  2\\\\\n\t 3 & 3 & 4 & NA & NA\\\\\n\t 2 & 2 & 1 &  2 &  1\\\\\n\\end{tabular}\n",
            "text/plain": [
              "  item1 item2 item3 item4 item5\n",
              "1 5     4     5      5     5   \n",
              "2 3     5     2      5     5   \n",
              "3 3     5     5      5     2   \n",
              "4 3     3     4     NA    NA   \n",
              "5 2     2     1      2     1   "
            ]
          },
          "metadata": {}
        }
      ]
    },
    {
      "cell_type": "markdown",
      "source": [
        "### Исключение переменных из выборки\n",
        "\n",
        "Существует много причин, когда желательно исключить переменные из выборки. Например, если переменная содержит несколько пропущенных значений, то может понадобиться удалить ее до начала анализа. Рассмотрим несколько способов исключения переменных.\n",
        "\n",
        "Переменные item4 и item5 можно исключить с помощью следующих инструкций:\n",
        "```\n",
        "myvars <- names(leadership) %in% c(\"item4\", \"item5\")\n",
        "newdata <- leadership[!myvars]\n",
        "```\n",
        "Зная, что item4 и item5 – это девятая и десятая переменные, можно ис-\n",
        "ключить их так:\n",
        "\n",
        "\n",
        "```\n",
        "newdata <- leadership[c(-9,-10)]\n",
        "или\n",
        "newdata <- leadership[-c(9,10)]\n",
        "```\n",
        "\n",
        "\n",
        "\n",
        "Минус (-) перед номером столбца означает, что этот столбец\n",
        "следует исключить.\n",
        "\n",
        "Наконец, эти же два столбца можно исключить инструкцией\n",
        "\n",
        "\n",
        "```\n",
        "leadership$item4 <- leadership$item5 <- NULL\n",
        "```\n",
        "\n",
        "Здесь переменным item4 и item5 присваивается неопределенное значение (NULL). Обратите внимание, что NULL – это не то же самое, что NA (отсутствующие значения).\n",
        "\n",
        "Исключение переменных – действие, противоположное выборке. Выбор между этими действиями зависит от того, какое из них проще записать. Если нужно исключить много переменных, то часто проще выбрать все остальные, и наоборот.\n"
      ],
      "metadata": {
        "id": "1H73YFcXtHrE"
      }
    },
    {
      "cell_type": "code",
      "source": [
        "myvars <- names(leadership) %in% c(\"item4\", \"item5\")\n",
        "newdata <- leadership[!myvars]\n",
        "newdata"
      ],
      "metadata": {
        "id": "oJyjM0-kuBuV",
        "outputId": "f91f9ddc-b77b-4720-fd53-605c6fb9256a",
        "colab": {
          "base_uri": "https://localhost:8080/",
          "height": 255
        }
      },
      "execution_count": null,
      "outputs": [
        {
          "output_type": "display_data",
          "data": {
            "text/html": [
              "<table class=\"dataframe\">\n",
              "<caption>A data.frame: 5 × 11</caption>\n",
              "<thead>\n",
              "\t<tr><th scope=col>manager</th><th scope=col>testDate</th><th scope=col>country</th><th scope=col>gender</th><th scope=col>age</th><th scope=col>item1</th><th scope=col>item2</th><th scope=col>item3</th><th scope=col>total_score</th><th scope=col>mean_score</th><th scope=col>agecat</th></tr>\n",
              "\t<tr><th scope=col>&lt;dbl&gt;</th><th scope=col>&lt;date&gt;</th><th scope=col>&lt;chr&gt;</th><th scope=col>&lt;chr&gt;</th><th scope=col>&lt;dbl&gt;</th><th scope=col>&lt;dbl&gt;</th><th scope=col>&lt;dbl&gt;</th><th scope=col>&lt;dbl&gt;</th><th scope=col>&lt;dbl&gt;</th><th scope=col>&lt;dbl&gt;</th><th scope=col>&lt;chr&gt;</th></tr>\n",
              "</thead>\n",
              "<tbody>\n",
              "\t<tr><td>1</td><td>2008-10-24</td><td>US</td><td>M</td><td>32</td><td>5</td><td>4</td><td>5</td><td>24</td><td>4.8</td><td>Young</td></tr>\n",
              "\t<tr><td>2</td><td>2008-10-28</td><td>US</td><td>F</td><td>45</td><td>3</td><td>5</td><td>2</td><td>20</td><td>4.0</td><td>Young</td></tr>\n",
              "\t<tr><td>3</td><td>2008-10-01</td><td>UK</td><td>F</td><td>25</td><td>3</td><td>5</td><td>5</td><td>20</td><td>4.0</td><td>Young</td></tr>\n",
              "\t<tr><td>4</td><td>2008-10-12</td><td>UK</td><td>M</td><td>39</td><td>3</td><td>3</td><td>4</td><td>NA</td><td> NA</td><td>Young</td></tr>\n",
              "\t<tr><td>5</td><td>2009-05-01</td><td>UK</td><td>F</td><td>NA</td><td>2</td><td>2</td><td>1</td><td> 8</td><td>1.6</td><td>NA   </td></tr>\n",
              "</tbody>\n",
              "</table>\n"
            ],
            "text/markdown": "\nA data.frame: 5 × 11\n\n| manager &lt;dbl&gt; | testDate &lt;date&gt; | country &lt;chr&gt; | gender &lt;chr&gt; | age &lt;dbl&gt; | item1 &lt;dbl&gt; | item2 &lt;dbl&gt; | item3 &lt;dbl&gt; | total_score &lt;dbl&gt; | mean_score &lt;dbl&gt; | agecat &lt;chr&gt; |\n|---|---|---|---|---|---|---|---|---|---|---|\n| 1 | 2008-10-24 | US | M | 32 | 5 | 4 | 5 | 24 | 4.8 | Young |\n| 2 | 2008-10-28 | US | F | 45 | 3 | 5 | 2 | 20 | 4.0 | Young |\n| 3 | 2008-10-01 | UK | F | 25 | 3 | 5 | 5 | 20 | 4.0 | Young |\n| 4 | 2008-10-12 | UK | M | 39 | 3 | 3 | 4 | NA |  NA | Young |\n| 5 | 2009-05-01 | UK | F | NA | 2 | 2 | 1 |  8 | 1.6 | NA    |\n\n",
            "text/latex": "A data.frame: 5 × 11\n\\begin{tabular}{lllllllllll}\n manager & testDate & country & gender & age & item1 & item2 & item3 & total\\_score & mean\\_score & agecat\\\\\n <dbl> & <date> & <chr> & <chr> & <dbl> & <dbl> & <dbl> & <dbl> & <dbl> & <dbl> & <chr>\\\\\n\\hline\n\t 1 & 2008-10-24 & US & M & 32 & 5 & 4 & 5 & 24 & 4.8 & Young\\\\\n\t 2 & 2008-10-28 & US & F & 45 & 3 & 5 & 2 & 20 & 4.0 & Young\\\\\n\t 3 & 2008-10-01 & UK & F & 25 & 3 & 5 & 5 & 20 & 4.0 & Young\\\\\n\t 4 & 2008-10-12 & UK & M & 39 & 3 & 3 & 4 & NA &  NA & Young\\\\\n\t 5 & 2009-05-01 & UK & F & NA & 2 & 2 & 1 &  8 & 1.6 & NA   \\\\\n\\end{tabular}\n",
            "text/plain": [
              "  manager testDate   country gender age item1 item2 item3 total_score\n",
              "1 1       2008-10-24 US      M      32  5     4     5     24         \n",
              "2 2       2008-10-28 US      F      45  3     5     2     20         \n",
              "3 3       2008-10-01 UK      F      25  3     5     5     20         \n",
              "4 4       2008-10-12 UK      M      39  3     3     4     NA         \n",
              "5 5       2009-05-01 UK      F      NA  2     2     1      8         \n",
              "  mean_score agecat\n",
              "1 4.8        Young \n",
              "2 4.0        Young \n",
              "3 4.0        Young \n",
              "4  NA        Young \n",
              "5 1.6        NA    "
            ]
          },
          "metadata": {}
        }
      ]
    },
    {
      "cell_type": "code",
      "source": [
        "newdata <- leadership[c(-9,-10)]\n",
        "newdata"
      ],
      "metadata": {
        "id": "daWmNslJvt_t",
        "outputId": "c78656f1-a3de-48f4-d84d-c79e4c45dd45",
        "colab": {
          "base_uri": "https://localhost:8080/",
          "height": 255
        }
      },
      "execution_count": null,
      "outputs": [
        {
          "output_type": "display_data",
          "data": {
            "text/html": [
              "<table class=\"dataframe\">\n",
              "<caption>A data.frame: 5 × 11</caption>\n",
              "<thead>\n",
              "\t<tr><th scope=col>manager</th><th scope=col>testDate</th><th scope=col>country</th><th scope=col>gender</th><th scope=col>age</th><th scope=col>item1</th><th scope=col>item2</th><th scope=col>item3</th><th scope=col>total_score</th><th scope=col>mean_score</th><th scope=col>agecat</th></tr>\n",
              "\t<tr><th scope=col>&lt;dbl&gt;</th><th scope=col>&lt;date&gt;</th><th scope=col>&lt;chr&gt;</th><th scope=col>&lt;chr&gt;</th><th scope=col>&lt;dbl&gt;</th><th scope=col>&lt;dbl&gt;</th><th scope=col>&lt;dbl&gt;</th><th scope=col>&lt;dbl&gt;</th><th scope=col>&lt;dbl&gt;</th><th scope=col>&lt;dbl&gt;</th><th scope=col>&lt;chr&gt;</th></tr>\n",
              "</thead>\n",
              "<tbody>\n",
              "\t<tr><td>1</td><td>2008-10-24</td><td>US</td><td>M</td><td>32</td><td>5</td><td>4</td><td>5</td><td>24</td><td>4.8</td><td>Young</td></tr>\n",
              "\t<tr><td>2</td><td>2008-10-28</td><td>US</td><td>F</td><td>45</td><td>3</td><td>5</td><td>2</td><td>20</td><td>4.0</td><td>Young</td></tr>\n",
              "\t<tr><td>3</td><td>2008-10-01</td><td>UK</td><td>F</td><td>25</td><td>3</td><td>5</td><td>5</td><td>20</td><td>4.0</td><td>Young</td></tr>\n",
              "\t<tr><td>4</td><td>2008-10-12</td><td>UK</td><td>M</td><td>39</td><td>3</td><td>3</td><td>4</td><td>NA</td><td> NA</td><td>Young</td></tr>\n",
              "\t<tr><td>5</td><td>2009-05-01</td><td>UK</td><td>F</td><td>NA</td><td>2</td><td>2</td><td>1</td><td> 8</td><td>1.6</td><td>NA   </td></tr>\n",
              "</tbody>\n",
              "</table>\n"
            ],
            "text/markdown": "\nA data.frame: 5 × 11\n\n| manager &lt;dbl&gt; | testDate &lt;date&gt; | country &lt;chr&gt; | gender &lt;chr&gt; | age &lt;dbl&gt; | item1 &lt;dbl&gt; | item2 &lt;dbl&gt; | item3 &lt;dbl&gt; | total_score &lt;dbl&gt; | mean_score &lt;dbl&gt; | agecat &lt;chr&gt; |\n|---|---|---|---|---|---|---|---|---|---|---|\n| 1 | 2008-10-24 | US | M | 32 | 5 | 4 | 5 | 24 | 4.8 | Young |\n| 2 | 2008-10-28 | US | F | 45 | 3 | 5 | 2 | 20 | 4.0 | Young |\n| 3 | 2008-10-01 | UK | F | 25 | 3 | 5 | 5 | 20 | 4.0 | Young |\n| 4 | 2008-10-12 | UK | M | 39 | 3 | 3 | 4 | NA |  NA | Young |\n| 5 | 2009-05-01 | UK | F | NA | 2 | 2 | 1 |  8 | 1.6 | NA    |\n\n",
            "text/latex": "A data.frame: 5 × 11\n\\begin{tabular}{lllllllllll}\n manager & testDate & country & gender & age & item1 & item2 & item3 & total\\_score & mean\\_score & agecat\\\\\n <dbl> & <date> & <chr> & <chr> & <dbl> & <dbl> & <dbl> & <dbl> & <dbl> & <dbl> & <chr>\\\\\n\\hline\n\t 1 & 2008-10-24 & US & M & 32 & 5 & 4 & 5 & 24 & 4.8 & Young\\\\\n\t 2 & 2008-10-28 & US & F & 45 & 3 & 5 & 2 & 20 & 4.0 & Young\\\\\n\t 3 & 2008-10-01 & UK & F & 25 & 3 & 5 & 5 & 20 & 4.0 & Young\\\\\n\t 4 & 2008-10-12 & UK & M & 39 & 3 & 3 & 4 & NA &  NA & Young\\\\\n\t 5 & 2009-05-01 & UK & F & NA & 2 & 2 & 1 &  8 & 1.6 & NA   \\\\\n\\end{tabular}\n",
            "text/plain": [
              "  manager testDate   country gender age item1 item2 item3 total_score\n",
              "1 1       2008-10-24 US      M      32  5     4     5     24         \n",
              "2 2       2008-10-28 US      F      45  3     5     2     20         \n",
              "3 3       2008-10-01 UK      F      25  3     5     5     20         \n",
              "4 4       2008-10-12 UK      M      39  3     3     4     NA         \n",
              "5 5       2009-05-01 UK      F      NA  2     2     1      8         \n",
              "  mean_score agecat\n",
              "1 4.8        Young \n",
              "2 4.0        Young \n",
              "3 4.0        Young \n",
              "4  NA        Young \n",
              "5 1.6        NA    "
            ]
          },
          "metadata": {}
        }
      ]
    },
    {
      "cell_type": "code",
      "source": [
        "newdata <- leadership[-c(9,10)]\n",
        "newdata"
      ],
      "metadata": {
        "id": "QRofevj0v1Jz",
        "outputId": "47031290-eb4f-4c7c-9cb3-deb51a67466a",
        "colab": {
          "base_uri": "https://localhost:8080/",
          "height": 255
        }
      },
      "execution_count": null,
      "outputs": [
        {
          "output_type": "display_data",
          "data": {
            "text/html": [
              "<table class=\"dataframe\">\n",
              "<caption>A data.frame: 5 × 11</caption>\n",
              "<thead>\n",
              "\t<tr><th scope=col>manager</th><th scope=col>testDate</th><th scope=col>country</th><th scope=col>gender</th><th scope=col>age</th><th scope=col>item1</th><th scope=col>item2</th><th scope=col>item3</th><th scope=col>total_score</th><th scope=col>mean_score</th><th scope=col>agecat</th></tr>\n",
              "\t<tr><th scope=col>&lt;dbl&gt;</th><th scope=col>&lt;date&gt;</th><th scope=col>&lt;chr&gt;</th><th scope=col>&lt;chr&gt;</th><th scope=col>&lt;dbl&gt;</th><th scope=col>&lt;dbl&gt;</th><th scope=col>&lt;dbl&gt;</th><th scope=col>&lt;dbl&gt;</th><th scope=col>&lt;dbl&gt;</th><th scope=col>&lt;dbl&gt;</th><th scope=col>&lt;chr&gt;</th></tr>\n",
              "</thead>\n",
              "<tbody>\n",
              "\t<tr><td>1</td><td>2008-10-24</td><td>US</td><td>M</td><td>32</td><td>5</td><td>4</td><td>5</td><td>24</td><td>4.8</td><td>Young</td></tr>\n",
              "\t<tr><td>2</td><td>2008-10-28</td><td>US</td><td>F</td><td>45</td><td>3</td><td>5</td><td>2</td><td>20</td><td>4.0</td><td>Young</td></tr>\n",
              "\t<tr><td>3</td><td>2008-10-01</td><td>UK</td><td>F</td><td>25</td><td>3</td><td>5</td><td>5</td><td>20</td><td>4.0</td><td>Young</td></tr>\n",
              "\t<tr><td>4</td><td>2008-10-12</td><td>UK</td><td>M</td><td>39</td><td>3</td><td>3</td><td>4</td><td>NA</td><td> NA</td><td>Young</td></tr>\n",
              "\t<tr><td>5</td><td>2009-05-01</td><td>UK</td><td>F</td><td>NA</td><td>2</td><td>2</td><td>1</td><td> 8</td><td>1.6</td><td>NA   </td></tr>\n",
              "</tbody>\n",
              "</table>\n"
            ],
            "text/markdown": "\nA data.frame: 5 × 11\n\n| manager &lt;dbl&gt; | testDate &lt;date&gt; | country &lt;chr&gt; | gender &lt;chr&gt; | age &lt;dbl&gt; | item1 &lt;dbl&gt; | item2 &lt;dbl&gt; | item3 &lt;dbl&gt; | total_score &lt;dbl&gt; | mean_score &lt;dbl&gt; | agecat &lt;chr&gt; |\n|---|---|---|---|---|---|---|---|---|---|---|\n| 1 | 2008-10-24 | US | M | 32 | 5 | 4 | 5 | 24 | 4.8 | Young |\n| 2 | 2008-10-28 | US | F | 45 | 3 | 5 | 2 | 20 | 4.0 | Young |\n| 3 | 2008-10-01 | UK | F | 25 | 3 | 5 | 5 | 20 | 4.0 | Young |\n| 4 | 2008-10-12 | UK | M | 39 | 3 | 3 | 4 | NA |  NA | Young |\n| 5 | 2009-05-01 | UK | F | NA | 2 | 2 | 1 |  8 | 1.6 | NA    |\n\n",
            "text/latex": "A data.frame: 5 × 11\n\\begin{tabular}{lllllllllll}\n manager & testDate & country & gender & age & item1 & item2 & item3 & total\\_score & mean\\_score & agecat\\\\\n <dbl> & <date> & <chr> & <chr> & <dbl> & <dbl> & <dbl> & <dbl> & <dbl> & <dbl> & <chr>\\\\\n\\hline\n\t 1 & 2008-10-24 & US & M & 32 & 5 & 4 & 5 & 24 & 4.8 & Young\\\\\n\t 2 & 2008-10-28 & US & F & 45 & 3 & 5 & 2 & 20 & 4.0 & Young\\\\\n\t 3 & 2008-10-01 & UK & F & 25 & 3 & 5 & 5 & 20 & 4.0 & Young\\\\\n\t 4 & 2008-10-12 & UK & M & 39 & 3 & 3 & 4 & NA &  NA & Young\\\\\n\t 5 & 2009-05-01 & UK & F & NA & 2 & 2 & 1 &  8 & 1.6 & NA   \\\\\n\\end{tabular}\n",
            "text/plain": [
              "  manager testDate   country gender age item1 item2 item3 total_score\n",
              "1 1       2008-10-24 US      M      32  5     4     5     24         \n",
              "2 2       2008-10-28 US      F      45  3     5     2     20         \n",
              "3 3       2008-10-01 UK      F      25  3     5     5     20         \n",
              "4 4       2008-10-12 UK      M      39  3     3     4     NA         \n",
              "5 5       2009-05-01 UK      F      NA  2     2     1      8         \n",
              "  mean_score agecat\n",
              "1 4.8        Young \n",
              "2 4.0        Young \n",
              "3 4.0        Young \n",
              "4  NA        Young \n",
              "5 1.6        NA    "
            ]
          },
          "metadata": {}
        }
      ]
    },
    {
      "cell_type": "code",
      "source": [
        "leadership$item4 <- leadership$item5 <- NULL\n",
        "leadership"
      ],
      "metadata": {
        "id": "402bGd5dwla8",
        "outputId": "b4e19aa9-3ff2-4bf8-a9f5-55518d9d8a77",
        "colab": {
          "base_uri": "https://localhost:8080/",
          "height": 255
        }
      },
      "execution_count": null,
      "outputs": [
        {
          "output_type": "display_data",
          "data": {
            "text/html": [
              "<table class=\"dataframe\">\n",
              "<caption>A data.frame: 5 × 11</caption>\n",
              "<thead>\n",
              "\t<tr><th scope=col>manager</th><th scope=col>testDate</th><th scope=col>country</th><th scope=col>gender</th><th scope=col>age</th><th scope=col>item1</th><th scope=col>item2</th><th scope=col>item3</th><th scope=col>total_score</th><th scope=col>mean_score</th><th scope=col>agecat</th></tr>\n",
              "\t<tr><th scope=col>&lt;dbl&gt;</th><th scope=col>&lt;date&gt;</th><th scope=col>&lt;chr&gt;</th><th scope=col>&lt;chr&gt;</th><th scope=col>&lt;dbl&gt;</th><th scope=col>&lt;dbl&gt;</th><th scope=col>&lt;dbl&gt;</th><th scope=col>&lt;dbl&gt;</th><th scope=col>&lt;dbl&gt;</th><th scope=col>&lt;dbl&gt;</th><th scope=col>&lt;chr&gt;</th></tr>\n",
              "</thead>\n",
              "<tbody>\n",
              "\t<tr><td>1</td><td>2008-10-24</td><td>US</td><td>M</td><td>32</td><td>5</td><td>4</td><td>5</td><td>24</td><td>4.8</td><td>Young</td></tr>\n",
              "\t<tr><td>2</td><td>2008-10-28</td><td>US</td><td>F</td><td>45</td><td>3</td><td>5</td><td>2</td><td>20</td><td>4.0</td><td>Young</td></tr>\n",
              "\t<tr><td>3</td><td>2008-10-01</td><td>UK</td><td>F</td><td>25</td><td>3</td><td>5</td><td>5</td><td>20</td><td>4.0</td><td>Young</td></tr>\n",
              "\t<tr><td>4</td><td>2008-10-12</td><td>UK</td><td>M</td><td>39</td><td>3</td><td>3</td><td>4</td><td>NA</td><td> NA</td><td>Young</td></tr>\n",
              "\t<tr><td>5</td><td>2009-05-01</td><td>UK</td><td>F</td><td>NA</td><td>2</td><td>2</td><td>1</td><td> 8</td><td>1.6</td><td>NA   </td></tr>\n",
              "</tbody>\n",
              "</table>\n"
            ],
            "text/markdown": "\nA data.frame: 5 × 11\n\n| manager &lt;dbl&gt; | testDate &lt;date&gt; | country &lt;chr&gt; | gender &lt;chr&gt; | age &lt;dbl&gt; | item1 &lt;dbl&gt; | item2 &lt;dbl&gt; | item3 &lt;dbl&gt; | total_score &lt;dbl&gt; | mean_score &lt;dbl&gt; | agecat &lt;chr&gt; |\n|---|---|---|---|---|---|---|---|---|---|---|\n| 1 | 2008-10-24 | US | M | 32 | 5 | 4 | 5 | 24 | 4.8 | Young |\n| 2 | 2008-10-28 | US | F | 45 | 3 | 5 | 2 | 20 | 4.0 | Young |\n| 3 | 2008-10-01 | UK | F | 25 | 3 | 5 | 5 | 20 | 4.0 | Young |\n| 4 | 2008-10-12 | UK | M | 39 | 3 | 3 | 4 | NA |  NA | Young |\n| 5 | 2009-05-01 | UK | F | NA | 2 | 2 | 1 |  8 | 1.6 | NA    |\n\n",
            "text/latex": "A data.frame: 5 × 11\n\\begin{tabular}{lllllllllll}\n manager & testDate & country & gender & age & item1 & item2 & item3 & total\\_score & mean\\_score & agecat\\\\\n <dbl> & <date> & <chr> & <chr> & <dbl> & <dbl> & <dbl> & <dbl> & <dbl> & <dbl> & <chr>\\\\\n\\hline\n\t 1 & 2008-10-24 & US & M & 32 & 5 & 4 & 5 & 24 & 4.8 & Young\\\\\n\t 2 & 2008-10-28 & US & F & 45 & 3 & 5 & 2 & 20 & 4.0 & Young\\\\\n\t 3 & 2008-10-01 & UK & F & 25 & 3 & 5 & 5 & 20 & 4.0 & Young\\\\\n\t 4 & 2008-10-12 & UK & M & 39 & 3 & 3 & 4 & NA &  NA & Young\\\\\n\t 5 & 2009-05-01 & UK & F & NA & 2 & 2 & 1 &  8 & 1.6 & NA   \\\\\n\\end{tabular}\n",
            "text/plain": [
              "  manager testDate   country gender age item1 item2 item3 total_score\n",
              "1 1       2008-10-24 US      M      32  5     4     5     24         \n",
              "2 2       2008-10-28 US      F      45  3     5     2     20         \n",
              "3 3       2008-10-01 UK      F      25  3     5     5     20         \n",
              "4 4       2008-10-12 UK      M      39  3     3     4     NA         \n",
              "5 5       2009-05-01 UK      F      NA  2     2     1      8         \n",
              "  mean_score agecat\n",
              "1 4.8        Young \n",
              "2 4.0        Young \n",
              "3 4.0        Young \n",
              "4  NA        Young \n",
              "5 1.6        NA    "
            ]
          },
          "metadata": {}
        }
      ]
    },
    {
      "cell_type": "markdown",
      "source": [
        "### Выборка наблюдений\n",
        "Выбор или удаление наблюдений (строк) – это в большинстве случаев залог успешной подготовки данных и их анализа. В листинге 3.6 показано несколько примеров."
      ],
      "metadata": {
        "id": "49Ar61CXxSfU"
      }
    },
    {
      "cell_type": "code",
      "source": [
        "# Выбрать строки с 1 по 3 (первые три наблюдения)\n",
        "newdata <- leadership[1:3,]\n",
        "newdata"
      ],
      "metadata": {
        "id": "cUS1IvlezMpD",
        "outputId": "c4dcee50-bb3e-4539-ce73-33b5d08b839d",
        "colab": {
          "base_uri": "https://localhost:8080/",
          "height": 192
        }
      },
      "execution_count": null,
      "outputs": [
        {
          "output_type": "display_data",
          "data": {
            "text/html": [
              "<table class=\"dataframe\">\n",
              "<caption>A data.frame: 3 × 11</caption>\n",
              "<thead>\n",
              "\t<tr><th></th><th scope=col>manager</th><th scope=col>testDate</th><th scope=col>country</th><th scope=col>gender</th><th scope=col>age</th><th scope=col>item1</th><th scope=col>item2</th><th scope=col>item3</th><th scope=col>total_score</th><th scope=col>mean_score</th><th scope=col>agecat</th></tr>\n",
              "\t<tr><th></th><th scope=col>&lt;dbl&gt;</th><th scope=col>&lt;date&gt;</th><th scope=col>&lt;chr&gt;</th><th scope=col>&lt;chr&gt;</th><th scope=col>&lt;dbl&gt;</th><th scope=col>&lt;dbl&gt;</th><th scope=col>&lt;dbl&gt;</th><th scope=col>&lt;dbl&gt;</th><th scope=col>&lt;dbl&gt;</th><th scope=col>&lt;dbl&gt;</th><th scope=col>&lt;chr&gt;</th></tr>\n",
              "</thead>\n",
              "<tbody>\n",
              "\t<tr><th scope=row>1</th><td>1</td><td>2008-10-24</td><td>US</td><td>M</td><td>32</td><td>5</td><td>4</td><td>5</td><td>24</td><td>4.8</td><td>Young</td></tr>\n",
              "\t<tr><th scope=row>2</th><td>2</td><td>2008-10-28</td><td>US</td><td>F</td><td>45</td><td>3</td><td>5</td><td>2</td><td>20</td><td>4.0</td><td>Young</td></tr>\n",
              "\t<tr><th scope=row>3</th><td>3</td><td>2008-10-01</td><td>UK</td><td>F</td><td>25</td><td>3</td><td>5</td><td>5</td><td>20</td><td>4.0</td><td>Young</td></tr>\n",
              "</tbody>\n",
              "</table>\n"
            ],
            "text/markdown": "\nA data.frame: 3 × 11\n\n| <!--/--> | manager &lt;dbl&gt; | testDate &lt;date&gt; | country &lt;chr&gt; | gender &lt;chr&gt; | age &lt;dbl&gt; | item1 &lt;dbl&gt; | item2 &lt;dbl&gt; | item3 &lt;dbl&gt; | total_score &lt;dbl&gt; | mean_score &lt;dbl&gt; | agecat &lt;chr&gt; |\n|---|---|---|---|---|---|---|---|---|---|---|---|\n| 1 | 1 | 2008-10-24 | US | M | 32 | 5 | 4 | 5 | 24 | 4.8 | Young |\n| 2 | 2 | 2008-10-28 | US | F | 45 | 3 | 5 | 2 | 20 | 4.0 | Young |\n| 3 | 3 | 2008-10-01 | UK | F | 25 | 3 | 5 | 5 | 20 | 4.0 | Young |\n\n",
            "text/latex": "A data.frame: 3 × 11\n\\begin{tabular}{r|lllllllllll}\n  & manager & testDate & country & gender & age & item1 & item2 & item3 & total\\_score & mean\\_score & agecat\\\\\n  & <dbl> & <date> & <chr> & <chr> & <dbl> & <dbl> & <dbl> & <dbl> & <dbl> & <dbl> & <chr>\\\\\n\\hline\n\t1 & 1 & 2008-10-24 & US & M & 32 & 5 & 4 & 5 & 24 & 4.8 & Young\\\\\n\t2 & 2 & 2008-10-28 & US & F & 45 & 3 & 5 & 2 & 20 & 4.0 & Young\\\\\n\t3 & 3 & 2008-10-01 & UK & F & 25 & 3 & 5 & 5 & 20 & 4.0 & Young\\\\\n\\end{tabular}\n",
            "text/plain": [
              "  manager testDate   country gender age item1 item2 item3 total_score\n",
              "1 1       2008-10-24 US      M      32  5     4     5     24         \n",
              "2 2       2008-10-28 US      F      45  3     5     2     20         \n",
              "3 3       2008-10-01 UK      F      25  3     5     5     20         \n",
              "  mean_score agecat\n",
              "1 4.8        Young \n",
              "2 4.0        Young \n",
              "3 4.0        Young "
            ]
          },
          "metadata": {}
        }
      ]
    },
    {
      "cell_type": "code",
      "source": [
        "# Выбрать всех мужчин старше 30 лет\n",
        "newdata <- leadership[leadership$gender==\"M\" & leadership$age > 30,]\n",
        "newdata"
      ],
      "metadata": {
        "id": "RvJ2R0PizO54",
        "outputId": "c46874dc-109a-4ef4-ab83-4f70c47768c0",
        "colab": {
          "base_uri": "https://localhost:8080/",
          "height": 161
        }
      },
      "execution_count": null,
      "outputs": [
        {
          "output_type": "display_data",
          "data": {
            "text/html": [
              "<table class=\"dataframe\">\n",
              "<caption>A data.frame: 2 × 11</caption>\n",
              "<thead>\n",
              "\t<tr><th></th><th scope=col>manager</th><th scope=col>testDate</th><th scope=col>country</th><th scope=col>gender</th><th scope=col>age</th><th scope=col>item1</th><th scope=col>item2</th><th scope=col>item3</th><th scope=col>total_score</th><th scope=col>mean_score</th><th scope=col>agecat</th></tr>\n",
              "\t<tr><th></th><th scope=col>&lt;dbl&gt;</th><th scope=col>&lt;date&gt;</th><th scope=col>&lt;chr&gt;</th><th scope=col>&lt;chr&gt;</th><th scope=col>&lt;dbl&gt;</th><th scope=col>&lt;dbl&gt;</th><th scope=col>&lt;dbl&gt;</th><th scope=col>&lt;dbl&gt;</th><th scope=col>&lt;dbl&gt;</th><th scope=col>&lt;dbl&gt;</th><th scope=col>&lt;chr&gt;</th></tr>\n",
              "</thead>\n",
              "<tbody>\n",
              "\t<tr><th scope=row>1</th><td>1</td><td>2008-10-24</td><td>US</td><td>M</td><td>32</td><td>5</td><td>4</td><td>5</td><td>24</td><td>4.8</td><td>Young</td></tr>\n",
              "\t<tr><th scope=row>4</th><td>4</td><td>2008-10-12</td><td>UK</td><td>M</td><td>39</td><td>3</td><td>3</td><td>4</td><td>NA</td><td> NA</td><td>Young</td></tr>\n",
              "</tbody>\n",
              "</table>\n"
            ],
            "text/markdown": "\nA data.frame: 2 × 11\n\n| <!--/--> | manager &lt;dbl&gt; | testDate &lt;date&gt; | country &lt;chr&gt; | gender &lt;chr&gt; | age &lt;dbl&gt; | item1 &lt;dbl&gt; | item2 &lt;dbl&gt; | item3 &lt;dbl&gt; | total_score &lt;dbl&gt; | mean_score &lt;dbl&gt; | agecat &lt;chr&gt; |\n|---|---|---|---|---|---|---|---|---|---|---|---|\n| 1 | 1 | 2008-10-24 | US | M | 32 | 5 | 4 | 5 | 24 | 4.8 | Young |\n| 4 | 4 | 2008-10-12 | UK | M | 39 | 3 | 3 | 4 | NA |  NA | Young |\n\n",
            "text/latex": "A data.frame: 2 × 11\n\\begin{tabular}{r|lllllllllll}\n  & manager & testDate & country & gender & age & item1 & item2 & item3 & total\\_score & mean\\_score & agecat\\\\\n  & <dbl> & <date> & <chr> & <chr> & <dbl> & <dbl> & <dbl> & <dbl> & <dbl> & <dbl> & <chr>\\\\\n\\hline\n\t1 & 1 & 2008-10-24 & US & M & 32 & 5 & 4 & 5 & 24 & 4.8 & Young\\\\\n\t4 & 4 & 2008-10-12 & UK & M & 39 & 3 & 3 & 4 & NA &  NA & Young\\\\\n\\end{tabular}\n",
            "text/plain": [
              "  manager testDate   country gender age item1 item2 item3 total_score\n",
              "1 1       2008-10-24 US      M      32  5     4     5     24         \n",
              "4 4       2008-10-12 UK      M      39  3     3     4     NA         \n",
              "  mean_score agecat\n",
              "1 4.8        Young \n",
              "4  NA        Young "
            ]
          },
          "metadata": {}
        }
      ]
    },
    {
      "cell_type": "code",
      "source": [
        "leadership$testDate <- as.Date(leadership$testDate, \"%m/%d/%y\") # Преобразовать даты из текстового формата в формат дат (мм/дд/гг).\n",
        "startdate <- as.Date(\"2009-01-01\") # Задать начальную дату.\n",
        "enddate <- as.Date(\"2009-12-31\") # Задать конечную дату.\n",
        "# Выбрать наблюдения, удовлетворяющие заданному критерию, как мы уже делали это в предыдущем примере.\n",
        "newdata <- leadership[which(leadership$testDate >= startdate & leadership$testDate <= enddate),]\n",
        "newdata"
      ],
      "metadata": {
        "id": "PIJpX9Dt6PwC",
        "outputId": "e09f1f32-35fe-4dfc-976d-51470753ec46",
        "colab": {
          "base_uri": "https://localhost:8080/",
          "height": 129
        }
      },
      "execution_count": null,
      "outputs": [
        {
          "output_type": "display_data",
          "data": {
            "text/html": [
              "<table class=\"dataframe\">\n",
              "<caption>A data.frame: 1 × 11</caption>\n",
              "<thead>\n",
              "\t<tr><th></th><th scope=col>manager</th><th scope=col>testDate</th><th scope=col>country</th><th scope=col>gender</th><th scope=col>age</th><th scope=col>item1</th><th scope=col>item2</th><th scope=col>item3</th><th scope=col>total_score</th><th scope=col>mean_score</th><th scope=col>agecat</th></tr>\n",
              "\t<tr><th></th><th scope=col>&lt;dbl&gt;</th><th scope=col>&lt;date&gt;</th><th scope=col>&lt;chr&gt;</th><th scope=col>&lt;chr&gt;</th><th scope=col>&lt;dbl&gt;</th><th scope=col>&lt;dbl&gt;</th><th scope=col>&lt;dbl&gt;</th><th scope=col>&lt;dbl&gt;</th><th scope=col>&lt;dbl&gt;</th><th scope=col>&lt;dbl&gt;</th><th scope=col>&lt;chr&gt;</th></tr>\n",
              "</thead>\n",
              "<tbody>\n",
              "\t<tr><th scope=row>5</th><td>5</td><td>2009-05-01</td><td>UK</td><td>F</td><td>NA</td><td>2</td><td>2</td><td>1</td><td>8</td><td>1.6</td><td>NA</td></tr>\n",
              "</tbody>\n",
              "</table>\n"
            ],
            "text/markdown": "\nA data.frame: 1 × 11\n\n| <!--/--> | manager &lt;dbl&gt; | testDate &lt;date&gt; | country &lt;chr&gt; | gender &lt;chr&gt; | age &lt;dbl&gt; | item1 &lt;dbl&gt; | item2 &lt;dbl&gt; | item3 &lt;dbl&gt; | total_score &lt;dbl&gt; | mean_score &lt;dbl&gt; | agecat &lt;chr&gt; |\n|---|---|---|---|---|---|---|---|---|---|---|---|\n| 5 | 5 | 2009-05-01 | UK | F | NA | 2 | 2 | 1 | 8 | 1.6 | NA |\n\n",
            "text/latex": "A data.frame: 1 × 11\n\\begin{tabular}{r|lllllllllll}\n  & manager & testDate & country & gender & age & item1 & item2 & item3 & total\\_score & mean\\_score & agecat\\\\\n  & <dbl> & <date> & <chr> & <chr> & <dbl> & <dbl> & <dbl> & <dbl> & <dbl> & <dbl> & <chr>\\\\\n\\hline\n\t5 & 5 & 2009-05-01 & UK & F & NA & 2 & 2 & 1 & 8 & 1.6 & NA\\\\\n\\end{tabular}\n",
            "text/plain": [
              "  manager testDate   country gender age item1 item2 item3 total_score\n",
              "5 5       2009-05-01 UK      F      NA  2     2     1     8          \n",
              "  mean_score agecat\n",
              "5 1.6        NA    "
            ]
          },
          "metadata": {}
        }
      ]
    },
    {
      "cell_type": "markdown",
      "source": [
        "### Функция subset()\n",
        "\n",
        "Функция `subset()` – самый простой, пожалуй, способ выбора пе-\n",
        "ременных и наблюдений. Вот два примера:\n"
      ],
      "metadata": {
        "id": "94rh0WOl7Lwr"
      }
    },
    {
      "cell_type": "code",
      "source": [
        "leadership"
      ],
      "metadata": {
        "id": "l0MvIFTFIM1I",
        "outputId": "89c25209-4e03-4ccb-b711-8a0a87dd2f87",
        "colab": {
          "base_uri": "https://localhost:8080/",
          "height": 255
        }
      },
      "execution_count": null,
      "outputs": [
        {
          "output_type": "display_data",
          "data": {
            "text/html": [
              "<table class=\"dataframe\">\n",
              "<caption>A data.frame: 5 × 11</caption>\n",
              "<thead>\n",
              "\t<tr><th scope=col>manager</th><th scope=col>testDate</th><th scope=col>country</th><th scope=col>gender</th><th scope=col>age</th><th scope=col>item1</th><th scope=col>item2</th><th scope=col>item3</th><th scope=col>total_score</th><th scope=col>mean_score</th><th scope=col>agecat</th></tr>\n",
              "\t<tr><th scope=col>&lt;dbl&gt;</th><th scope=col>&lt;date&gt;</th><th scope=col>&lt;chr&gt;</th><th scope=col>&lt;chr&gt;</th><th scope=col>&lt;dbl&gt;</th><th scope=col>&lt;dbl&gt;</th><th scope=col>&lt;dbl&gt;</th><th scope=col>&lt;dbl&gt;</th><th scope=col>&lt;dbl&gt;</th><th scope=col>&lt;dbl&gt;</th><th scope=col>&lt;chr&gt;</th></tr>\n",
              "</thead>\n",
              "<tbody>\n",
              "\t<tr><td>1</td><td>2008-10-24</td><td>US</td><td>M</td><td>32</td><td>5</td><td>4</td><td>5</td><td>24</td><td>4.8</td><td>Young</td></tr>\n",
              "\t<tr><td>2</td><td>2008-10-28</td><td>US</td><td>F</td><td>45</td><td>3</td><td>5</td><td>2</td><td>20</td><td>4.0</td><td>Young</td></tr>\n",
              "\t<tr><td>3</td><td>2008-10-01</td><td>UK</td><td>F</td><td>25</td><td>3</td><td>5</td><td>5</td><td>20</td><td>4.0</td><td>Young</td></tr>\n",
              "\t<tr><td>4</td><td>2008-10-12</td><td>UK</td><td>M</td><td>39</td><td>3</td><td>3</td><td>4</td><td>NA</td><td> NA</td><td>Young</td></tr>\n",
              "\t<tr><td>5</td><td>2009-05-01</td><td>UK</td><td>F</td><td>NA</td><td>2</td><td>2</td><td>1</td><td> 8</td><td>1.6</td><td>NA   </td></tr>\n",
              "</tbody>\n",
              "</table>\n"
            ],
            "text/markdown": "\nA data.frame: 5 × 11\n\n| manager &lt;dbl&gt; | testDate &lt;date&gt; | country &lt;chr&gt; | gender &lt;chr&gt; | age &lt;dbl&gt; | item1 &lt;dbl&gt; | item2 &lt;dbl&gt; | item3 &lt;dbl&gt; | total_score &lt;dbl&gt; | mean_score &lt;dbl&gt; | agecat &lt;chr&gt; |\n|---|---|---|---|---|---|---|---|---|---|---|\n| 1 | 2008-10-24 | US | M | 32 | 5 | 4 | 5 | 24 | 4.8 | Young |\n| 2 | 2008-10-28 | US | F | 45 | 3 | 5 | 2 | 20 | 4.0 | Young |\n| 3 | 2008-10-01 | UK | F | 25 | 3 | 5 | 5 | 20 | 4.0 | Young |\n| 4 | 2008-10-12 | UK | M | 39 | 3 | 3 | 4 | NA |  NA | Young |\n| 5 | 2009-05-01 | UK | F | NA | 2 | 2 | 1 |  8 | 1.6 | NA    |\n\n",
            "text/latex": "A data.frame: 5 × 11\n\\begin{tabular}{lllllllllll}\n manager & testDate & country & gender & age & item1 & item2 & item3 & total\\_score & mean\\_score & agecat\\\\\n <dbl> & <date> & <chr> & <chr> & <dbl> & <dbl> & <dbl> & <dbl> & <dbl> & <dbl> & <chr>\\\\\n\\hline\n\t 1 & 2008-10-24 & US & M & 32 & 5 & 4 & 5 & 24 & 4.8 & Young\\\\\n\t 2 & 2008-10-28 & US & F & 45 & 3 & 5 & 2 & 20 & 4.0 & Young\\\\\n\t 3 & 2008-10-01 & UK & F & 25 & 3 & 5 & 5 & 20 & 4.0 & Young\\\\\n\t 4 & 2008-10-12 & UK & M & 39 & 3 & 3 & 4 & NA &  NA & Young\\\\\n\t 5 & 2009-05-01 & UK & F & NA & 2 & 2 & 1 &  8 & 1.6 & NA   \\\\\n\\end{tabular}\n",
            "text/plain": [
              "  manager testDate   country gender age item1 item2 item3 total_score\n",
              "1 1       2008-10-24 US      M      32  5     4     5     24         \n",
              "2 2       2008-10-28 US      F      45  3     5     2     20         \n",
              "3 3       2008-10-01 UK      F      25  3     5     5     20         \n",
              "4 4       2008-10-12 UK      M      39  3     3     4     NA         \n",
              "5 5       2009-05-01 UK      F      NA  2     2     1      8         \n",
              "  mean_score agecat\n",
              "1 4.8        Young \n",
              "2 4.0        Young \n",
              "3 4.0        Young \n",
              "4  NA        Young \n",
              "5 1.6        NA    "
            ]
          },
          "metadata": {}
        }
      ]
    },
    {
      "cell_type": "code",
      "source": [
        "# Выберет все строки, где значение переменной age больше или равно 35 или меньше 24,\n",
        "# оставляя в них только переменные с item1 по item3.\n",
        "newdata <- subset(leadership, age >= 35 | age < 23,\n",
        "select=c(item1, item2, item3))\n",
        "newdata"
      ],
      "metadata": {
        "id": "NMD9CGQsHQdL",
        "outputId": "9ca29c18-17a2-4fac-c6f2-359d1f67be37",
        "colab": {
          "base_uri": "https://localhost:8080/",
          "height": 161
        }
      },
      "execution_count": null,
      "outputs": [
        {
          "output_type": "display_data",
          "data": {
            "text/html": [
              "<table class=\"dataframe\">\n",
              "<caption>A data.frame: 2 × 3</caption>\n",
              "<thead>\n",
              "\t<tr><th></th><th scope=col>item1</th><th scope=col>item2</th><th scope=col>item3</th></tr>\n",
              "\t<tr><th></th><th scope=col>&lt;dbl&gt;</th><th scope=col>&lt;dbl&gt;</th><th scope=col>&lt;dbl&gt;</th></tr>\n",
              "</thead>\n",
              "<tbody>\n",
              "\t<tr><th scope=row>2</th><td>3</td><td>5</td><td>2</td></tr>\n",
              "\t<tr><th scope=row>4</th><td>3</td><td>3</td><td>4</td></tr>\n",
              "</tbody>\n",
              "</table>\n"
            ],
            "text/markdown": "\nA data.frame: 2 × 3\n\n| <!--/--> | item1 &lt;dbl&gt; | item2 &lt;dbl&gt; | item3 &lt;dbl&gt; |\n|---|---|---|---|\n| 2 | 3 | 5 | 2 |\n| 4 | 3 | 3 | 4 |\n\n",
            "text/latex": "A data.frame: 2 × 3\n\\begin{tabular}{r|lll}\n  & item1 & item2 & item3\\\\\n  & <dbl> & <dbl> & <dbl>\\\\\n\\hline\n\t2 & 3 & 5 & 2\\\\\n\t4 & 3 & 3 & 4\\\\\n\\end{tabular}\n",
            "text/plain": [
              "  item1 item2 item3\n",
              "2 3     5     2    \n",
              "4 3     3     4    "
            ]
          },
          "metadata": {}
        }
      ]
    },
    {
      "cell_type": "code",
      "source": [
        "# Выберет всех мужчин старше 25 лет, оставляя в выбранных строках\n",
        "# переменные с gender по item3 (gender, item3 и все столбцы между ними).\n",
        "newdata <- subset(leadership, gender==\"M\" & age > 25, select=gender:item3)\n",
        "newdata"
      ],
      "metadata": {
        "id": "972NyV6xIvrj",
        "outputId": "c3953eab-fe2e-43d9-b645-4d57fc48dd31",
        "colab": {
          "base_uri": "https://localhost:8080/",
          "height": 161
        }
      },
      "execution_count": null,
      "outputs": [
        {
          "output_type": "display_data",
          "data": {
            "text/html": [
              "<table class=\"dataframe\">\n",
              "<caption>A data.frame: 2 × 5</caption>\n",
              "<thead>\n",
              "\t<tr><th></th><th scope=col>gender</th><th scope=col>age</th><th scope=col>item1</th><th scope=col>item2</th><th scope=col>item3</th></tr>\n",
              "\t<tr><th></th><th scope=col>&lt;chr&gt;</th><th scope=col>&lt;dbl&gt;</th><th scope=col>&lt;dbl&gt;</th><th scope=col>&lt;dbl&gt;</th><th scope=col>&lt;dbl&gt;</th></tr>\n",
              "</thead>\n",
              "<tbody>\n",
              "\t<tr><th scope=row>1</th><td>M</td><td>32</td><td>5</td><td>4</td><td>5</td></tr>\n",
              "\t<tr><th scope=row>4</th><td>M</td><td>39</td><td>3</td><td>3</td><td>4</td></tr>\n",
              "</tbody>\n",
              "</table>\n"
            ],
            "text/markdown": "\nA data.frame: 2 × 5\n\n| <!--/--> | gender &lt;chr&gt; | age &lt;dbl&gt; | item1 &lt;dbl&gt; | item2 &lt;dbl&gt; | item3 &lt;dbl&gt; |\n|---|---|---|---|---|---|\n| 1 | M | 32 | 5 | 4 | 5 |\n| 4 | M | 39 | 3 | 3 | 4 |\n\n",
            "text/latex": "A data.frame: 2 × 5\n\\begin{tabular}{r|lllll}\n  & gender & age & item1 & item2 & item3\\\\\n  & <chr> & <dbl> & <dbl> & <dbl> & <dbl>\\\\\n\\hline\n\t1 & M & 32 & 5 & 4 & 5\\\\\n\t4 & M & 39 & 3 & 3 & 4\\\\\n\\end{tabular}\n",
            "text/plain": [
              "  gender age item1 item2 item3\n",
              "1 M      32  5     4     5    \n",
              "4 M      39  3     3     4    "
            ]
          },
          "metadata": {}
        }
      ]
    },
    {
      "cell_type": "markdown",
      "source": [
        "### Выборка случайных наблюдений\n",
        "```\n",
        "mysample <- leadership[sample(1:nrow(leadership), 3, replace=FALSE),]\n",
        "```\n",
        "Первый аргумент функции `sample()` – это вектор с номерами наблюдений, из числа которых будет получена выборка. Здесь вектор состоит из чисел от единицы до числа наблюдений в таблице данных. Второй аргумент – это число элементов в выборке, а третий аргумент указывает, что выборка должна быть создана без замещения. Функция `sample()` возвращает случайно выбранные элементы из вектора в первом аргументе, которые затем используются для выбора строк из таблицы данных.\n",
        "\n",
        "Существует более специализированная функция `sample.int()`.\n",
        "\n",
        "R обладает обширными возможностями создания выборок, включая извлечение и проверку пробных выборок (пакет `sampling`) и анализ сложных выборочных данных (пакет `survey`)."
      ],
      "metadata": {
        "id": "8hZwlTiVKCfd"
      }
    },
    {
      "cell_type": "code",
      "source": [
        "mysample <- leadership[sample(1:nrow(leadership), 3, replace=FALSE),]\n",
        "mysample"
      ],
      "metadata": {
        "id": "bondq7QgVgzC",
        "outputId": "f70e8215-d7d6-4de8-ffee-5468fd650cfa",
        "colab": {
          "base_uri": "https://localhost:8080/",
          "height": 192
        }
      },
      "execution_count": null,
      "outputs": [
        {
          "output_type": "display_data",
          "data": {
            "text/html": [
              "<table class=\"dataframe\">\n",
              "<caption>A data.frame: 3 × 11</caption>\n",
              "<thead>\n",
              "\t<tr><th></th><th scope=col>manager</th><th scope=col>testDate</th><th scope=col>country</th><th scope=col>gender</th><th scope=col>age</th><th scope=col>item1</th><th scope=col>item2</th><th scope=col>item3</th><th scope=col>total_score</th><th scope=col>mean_score</th><th scope=col>agecat</th></tr>\n",
              "\t<tr><th></th><th scope=col>&lt;dbl&gt;</th><th scope=col>&lt;date&gt;</th><th scope=col>&lt;chr&gt;</th><th scope=col>&lt;chr&gt;</th><th scope=col>&lt;dbl&gt;</th><th scope=col>&lt;dbl&gt;</th><th scope=col>&lt;dbl&gt;</th><th scope=col>&lt;dbl&gt;</th><th scope=col>&lt;dbl&gt;</th><th scope=col>&lt;dbl&gt;</th><th scope=col>&lt;chr&gt;</th></tr>\n",
              "</thead>\n",
              "<tbody>\n",
              "\t<tr><th scope=row>2</th><td>2</td><td>2008-10-28</td><td>US</td><td>F</td><td>45</td><td>3</td><td>5</td><td>2</td><td>20</td><td>4.0</td><td>Young</td></tr>\n",
              "\t<tr><th scope=row>4</th><td>4</td><td>2008-10-12</td><td>UK</td><td>M</td><td>39</td><td>3</td><td>3</td><td>4</td><td>NA</td><td> NA</td><td>Young</td></tr>\n",
              "\t<tr><th scope=row>1</th><td>1</td><td>2008-10-24</td><td>US</td><td>M</td><td>32</td><td>5</td><td>4</td><td>5</td><td>24</td><td>4.8</td><td>Young</td></tr>\n",
              "</tbody>\n",
              "</table>\n"
            ],
            "text/markdown": "\nA data.frame: 3 × 11\n\n| <!--/--> | manager &lt;dbl&gt; | testDate &lt;date&gt; | country &lt;chr&gt; | gender &lt;chr&gt; | age &lt;dbl&gt; | item1 &lt;dbl&gt; | item2 &lt;dbl&gt; | item3 &lt;dbl&gt; | total_score &lt;dbl&gt; | mean_score &lt;dbl&gt; | agecat &lt;chr&gt; |\n|---|---|---|---|---|---|---|---|---|---|---|---|\n| 2 | 2 | 2008-10-28 | US | F | 45 | 3 | 5 | 2 | 20 | 4.0 | Young |\n| 4 | 4 | 2008-10-12 | UK | M | 39 | 3 | 3 | 4 | NA |  NA | Young |\n| 1 | 1 | 2008-10-24 | US | M | 32 | 5 | 4 | 5 | 24 | 4.8 | Young |\n\n",
            "text/latex": "A data.frame: 3 × 11\n\\begin{tabular}{r|lllllllllll}\n  & manager & testDate & country & gender & age & item1 & item2 & item3 & total\\_score & mean\\_score & agecat\\\\\n  & <dbl> & <date> & <chr> & <chr> & <dbl> & <dbl> & <dbl> & <dbl> & <dbl> & <dbl> & <chr>\\\\\n\\hline\n\t2 & 2 & 2008-10-28 & US & F & 45 & 3 & 5 & 2 & 20 & 4.0 & Young\\\\\n\t4 & 4 & 2008-10-12 & UK & M & 39 & 3 & 3 & 4 & NA &  NA & Young\\\\\n\t1 & 1 & 2008-10-24 & US & M & 32 & 5 & 4 & 5 & 24 & 4.8 & Young\\\\\n\\end{tabular}\n",
            "text/plain": [
              "  manager testDate   country gender age item1 item2 item3 total_score\n",
              "2 2       2008-10-28 US      F      45  3     5     2     20         \n",
              "4 4       2008-10-12 UK      M      39  3     3     4     NA         \n",
              "1 1       2008-10-24 US      M      32  5     4     5     24         \n",
              "  mean_score agecat\n",
              "2 4.0        Young \n",
              "4  NA        Young \n",
              "1 4.8        Young "
            ]
          },
          "metadata": {}
        }
      ]
    },
    {
      "cell_type": "markdown",
      "source": [
        "## Использование `dplyr` для работы с таблицами данных\n",
        "\n",
        "До этого момента для работы с таблицами данных мы использовали базовые функции R. Однако существует также пакет `dplyr`, включающий функции, которые позволяют решать те же задачи более простым способом. Он быстро превратился в один из самых популярных пакетов R для управления данными."
      ],
      "metadata": {
        "id": "pJJlz6MkYIt0"
      }
    },
    {
      "cell_type": "markdown",
      "source": [
        "### Основные функции из пакета `dplyr`\n",
        "\n",
        "* `select()` - Выбирает переменные/столбцы\n",
        "* `filter()` - Выбирает наблюдения/строки\n",
        "* `mutate()` - Преобразует переменные\n",
        "* `rename()` - Переименовывает переменные/столбцы\n",
        "* `recode()` - Перекодирует значения переменных\n",
        "* `arrange()` - Упорядочивает строки по значениям переменных"
      ],
      "metadata": {
        "id": "82q_Bj3YaJRF"
      }
    },
    {
      "cell_type": "code",
      "source": [
        "leadership <- data.frame(\n",
        "manager = c(1, 2, 3, 4, 5),\n",
        "date = c(\"10/24/08\", \"10/28/08\", \"10/1/08\", \"10/12/08\", \"5/1/09\"),\n",
        "country = c(\"US\", \"US\", \"UK\", \"UK\", \"UK\"),\n",
        "gender = c(\"M\", \"F\", \"F\", \"M\", \"F\"),\n",
        "age = c(32, 45, 25, 39, 99),\n",
        "q1 = c(5, 3, 3, 3, 2),\n",
        "q2 = c(4, 5, 5, 3, 2),\n",
        "q3 = c(5, 2, 5, 4, 1),\n",
        "q4 = c(5, 5, 5, NA, 2),\n",
        "q5 = c(5, 5, 2, NA, 1)\n",
        ")\n",
        "leadership"
      ],
      "metadata": {
        "id": "v24vZaSDcY32",
        "outputId": "cb043933-ba38-4b7f-f2b8-9cbc65fc677e",
        "colab": {
          "base_uri": "https://localhost:8080/",
          "height": 255
        }
      },
      "execution_count": null,
      "outputs": [
        {
          "output_type": "display_data",
          "data": {
            "text/html": [
              "<table class=\"dataframe\">\n",
              "<caption>A data.frame: 5 × 10</caption>\n",
              "<thead>\n",
              "\t<tr><th scope=col>manager</th><th scope=col>date</th><th scope=col>country</th><th scope=col>gender</th><th scope=col>age</th><th scope=col>q1</th><th scope=col>q2</th><th scope=col>q3</th><th scope=col>q4</th><th scope=col>q5</th></tr>\n",
              "\t<tr><th scope=col>&lt;dbl&gt;</th><th scope=col>&lt;chr&gt;</th><th scope=col>&lt;chr&gt;</th><th scope=col>&lt;chr&gt;</th><th scope=col>&lt;dbl&gt;</th><th scope=col>&lt;dbl&gt;</th><th scope=col>&lt;dbl&gt;</th><th scope=col>&lt;dbl&gt;</th><th scope=col>&lt;dbl&gt;</th><th scope=col>&lt;dbl&gt;</th></tr>\n",
              "</thead>\n",
              "<tbody>\n",
              "\t<tr><td>1</td><td>10/24/08</td><td>US</td><td>M</td><td>32</td><td>5</td><td>4</td><td>5</td><td> 5</td><td> 5</td></tr>\n",
              "\t<tr><td>2</td><td>10/28/08</td><td>US</td><td>F</td><td>45</td><td>3</td><td>5</td><td>2</td><td> 5</td><td> 5</td></tr>\n",
              "\t<tr><td>3</td><td>10/1/08 </td><td>UK</td><td>F</td><td>25</td><td>3</td><td>5</td><td>5</td><td> 5</td><td> 2</td></tr>\n",
              "\t<tr><td>4</td><td>10/12/08</td><td>UK</td><td>M</td><td>39</td><td>3</td><td>3</td><td>4</td><td>NA</td><td>NA</td></tr>\n",
              "\t<tr><td>5</td><td>5/1/09  </td><td>UK</td><td>F</td><td>99</td><td>2</td><td>2</td><td>1</td><td> 2</td><td> 1</td></tr>\n",
              "</tbody>\n",
              "</table>\n"
            ],
            "text/markdown": "\nA data.frame: 5 × 10\n\n| manager &lt;dbl&gt; | date &lt;chr&gt; | country &lt;chr&gt; | gender &lt;chr&gt; | age &lt;dbl&gt; | q1 &lt;dbl&gt; | q2 &lt;dbl&gt; | q3 &lt;dbl&gt; | q4 &lt;dbl&gt; | q5 &lt;dbl&gt; |\n|---|---|---|---|---|---|---|---|---|---|\n| 1 | 10/24/08 | US | M | 32 | 5 | 4 | 5 |  5 |  5 |\n| 2 | 10/28/08 | US | F | 45 | 3 | 5 | 2 |  5 |  5 |\n| 3 | 10/1/08  | UK | F | 25 | 3 | 5 | 5 |  5 |  2 |\n| 4 | 10/12/08 | UK | M | 39 | 3 | 3 | 4 | NA | NA |\n| 5 | 5/1/09   | UK | F | 99 | 2 | 2 | 1 |  2 |  1 |\n\n",
            "text/latex": "A data.frame: 5 × 10\n\\begin{tabular}{llllllllll}\n manager & date & country & gender & age & q1 & q2 & q3 & q4 & q5\\\\\n <dbl> & <chr> & <chr> & <chr> & <dbl> & <dbl> & <dbl> & <dbl> & <dbl> & <dbl>\\\\\n\\hline\n\t 1 & 10/24/08 & US & M & 32 & 5 & 4 & 5 &  5 &  5\\\\\n\t 2 & 10/28/08 & US & F & 45 & 3 & 5 & 2 &  5 &  5\\\\\n\t 3 & 10/1/08  & UK & F & 25 & 3 & 5 & 5 &  5 &  2\\\\\n\t 4 & 10/12/08 & UK & M & 39 & 3 & 3 & 4 & NA & NA\\\\\n\t 5 & 5/1/09   & UK & F & 99 & 2 & 2 & 1 &  2 &  1\\\\\n\\end{tabular}\n",
            "text/plain": [
              "  manager date     country gender age q1 q2 q3 q4 q5\n",
              "1 1       10/24/08 US      M      32  5  4  5   5  5\n",
              "2 2       10/28/08 US      F      45  3  5  2   5  5\n",
              "3 3       10/1/08  UK      F      25  3  5  5   5  2\n",
              "4 4       10/12/08 UK      M      39  3  3  4  NA NA\n",
              "5 5       5/1/09   UK      F      99  2  2  1   2  1"
            ]
          },
          "metadata": {}
        }
      ]
    },
    {
      "cell_type": "code",
      "source": [
        "# Создать две сводные переменные.\n",
        "leadership <- mutate(leadership,total_score = q1 + q2 + q3 + q4 + q5, mean_score = total_score / 5)\n",
        "leadership"
      ],
      "metadata": {
        "id": "B2Hd5liYc1OF",
        "outputId": "d8fe6e72-f3ca-46c7-9da3-0fa2481d6cf5",
        "colab": {
          "base_uri": "https://localhost:8080/",
          "height": 255
        }
      },
      "execution_count": null,
      "outputs": [
        {
          "output_type": "display_data",
          "data": {
            "text/html": [
              "<table class=\"dataframe\">\n",
              "<caption>A data.frame: 5 × 12</caption>\n",
              "<thead>\n",
              "\t<tr><th scope=col>manager</th><th scope=col>date</th><th scope=col>country</th><th scope=col>gender</th><th scope=col>age</th><th scope=col>q1</th><th scope=col>q2</th><th scope=col>q3</th><th scope=col>q4</th><th scope=col>q5</th><th scope=col>total_score</th><th scope=col>mean_score</th></tr>\n",
              "\t<tr><th scope=col>&lt;dbl&gt;</th><th scope=col>&lt;chr&gt;</th><th scope=col>&lt;chr&gt;</th><th scope=col>&lt;chr&gt;</th><th scope=col>&lt;dbl&gt;</th><th scope=col>&lt;dbl&gt;</th><th scope=col>&lt;dbl&gt;</th><th scope=col>&lt;dbl&gt;</th><th scope=col>&lt;dbl&gt;</th><th scope=col>&lt;dbl&gt;</th><th scope=col>&lt;dbl&gt;</th><th scope=col>&lt;dbl&gt;</th></tr>\n",
              "</thead>\n",
              "<tbody>\n",
              "\t<tr><td>1</td><td>10/24/08</td><td>US</td><td>M</td><td>32</td><td>5</td><td>4</td><td>5</td><td> 5</td><td> 5</td><td>24</td><td>4.8</td></tr>\n",
              "\t<tr><td>2</td><td>10/28/08</td><td>US</td><td>F</td><td>45</td><td>3</td><td>5</td><td>2</td><td> 5</td><td> 5</td><td>20</td><td>4.0</td></tr>\n",
              "\t<tr><td>3</td><td>10/1/08 </td><td>UK</td><td>F</td><td>25</td><td>3</td><td>5</td><td>5</td><td> 5</td><td> 2</td><td>20</td><td>4.0</td></tr>\n",
              "\t<tr><td>4</td><td>10/12/08</td><td>UK</td><td>M</td><td>39</td><td>3</td><td>3</td><td>4</td><td>NA</td><td>NA</td><td>NA</td><td> NA</td></tr>\n",
              "\t<tr><td>5</td><td>5/1/09  </td><td>UK</td><td>F</td><td>99</td><td>2</td><td>2</td><td>1</td><td> 2</td><td> 1</td><td> 8</td><td>1.6</td></tr>\n",
              "</tbody>\n",
              "</table>\n"
            ],
            "text/markdown": "\nA data.frame: 5 × 12\n\n| manager &lt;dbl&gt; | date &lt;chr&gt; | country &lt;chr&gt; | gender &lt;chr&gt; | age &lt;dbl&gt; | q1 &lt;dbl&gt; | q2 &lt;dbl&gt; | q3 &lt;dbl&gt; | q4 &lt;dbl&gt; | q5 &lt;dbl&gt; | total_score &lt;dbl&gt; | mean_score &lt;dbl&gt; |\n|---|---|---|---|---|---|---|---|---|---|---|---|\n| 1 | 10/24/08 | US | M | 32 | 5 | 4 | 5 |  5 |  5 | 24 | 4.8 |\n| 2 | 10/28/08 | US | F | 45 | 3 | 5 | 2 |  5 |  5 | 20 | 4.0 |\n| 3 | 10/1/08  | UK | F | 25 | 3 | 5 | 5 |  5 |  2 | 20 | 4.0 |\n| 4 | 10/12/08 | UK | M | 39 | 3 | 3 | 4 | NA | NA | NA |  NA |\n| 5 | 5/1/09   | UK | F | 99 | 2 | 2 | 1 |  2 |  1 |  8 | 1.6 |\n\n",
            "text/latex": "A data.frame: 5 × 12\n\\begin{tabular}{llllllllllll}\n manager & date & country & gender & age & q1 & q2 & q3 & q4 & q5 & total\\_score & mean\\_score\\\\\n <dbl> & <chr> & <chr> & <chr> & <dbl> & <dbl> & <dbl> & <dbl> & <dbl> & <dbl> & <dbl> & <dbl>\\\\\n\\hline\n\t 1 & 10/24/08 & US & M & 32 & 5 & 4 & 5 &  5 &  5 & 24 & 4.8\\\\\n\t 2 & 10/28/08 & US & F & 45 & 3 & 5 & 2 &  5 &  5 & 20 & 4.0\\\\\n\t 3 & 10/1/08  & UK & F & 25 & 3 & 5 & 5 &  5 &  2 & 20 & 4.0\\\\\n\t 4 & 10/12/08 & UK & M & 39 & 3 & 3 & 4 & NA & NA & NA &  NA\\\\\n\t 5 & 5/1/09   & UK & F & 99 & 2 & 2 & 1 &  2 &  1 &  8 & 1.6\\\\\n\\end{tabular}\n",
            "text/plain": [
              "  manager date     country gender age q1 q2 q3 q4 q5 total_score mean_score\n",
              "1 1       10/24/08 US      M      32  5  4  5   5  5 24          4.8       \n",
              "2 2       10/28/08 US      F      45  3  5  2   5  5 20          4.0       \n",
              "3 3       10/1/08  UK      F      25  3  5  5   5  2 20          4.0       \n",
              "4 4       10/12/08 UK      M      39  3  3  4  NA NA NA           NA       \n",
              "5 5       5/1/09   UK      F      99  2  2  1   2  1  8          1.6       "
            ]
          },
          "metadata": {}
        }
      ]
    },
    {
      "cell_type": "code",
      "source": [
        "# Перекодировать значения \"M\" и \"F\" в значения \"male\" и \"female\".\n",
        "leadership$gender <- recode(leadership$gender,\"M\" = \"male\", \"F\" = \"female\")\n",
        "leadership"
      ],
      "metadata": {
        "id": "a51KDSNydMoO",
        "outputId": "38791c43-168f-46e5-f883-509dd2773c05",
        "colab": {
          "base_uri": "https://localhost:8080/",
          "height": 255
        }
      },
      "execution_count": null,
      "outputs": [
        {
          "output_type": "display_data",
          "data": {
            "text/html": [
              "<table class=\"dataframe\">\n",
              "<caption>A data.frame: 5 × 12</caption>\n",
              "<thead>\n",
              "\t<tr><th scope=col>manager</th><th scope=col>date</th><th scope=col>country</th><th scope=col>gender</th><th scope=col>age</th><th scope=col>q1</th><th scope=col>q2</th><th scope=col>q3</th><th scope=col>q4</th><th scope=col>q5</th><th scope=col>total_score</th><th scope=col>mean_score</th></tr>\n",
              "\t<tr><th scope=col>&lt;dbl&gt;</th><th scope=col>&lt;chr&gt;</th><th scope=col>&lt;chr&gt;</th><th scope=col>&lt;chr&gt;</th><th scope=col>&lt;dbl&gt;</th><th scope=col>&lt;dbl&gt;</th><th scope=col>&lt;dbl&gt;</th><th scope=col>&lt;dbl&gt;</th><th scope=col>&lt;dbl&gt;</th><th scope=col>&lt;dbl&gt;</th><th scope=col>&lt;dbl&gt;</th><th scope=col>&lt;dbl&gt;</th></tr>\n",
              "</thead>\n",
              "<tbody>\n",
              "\t<tr><td>1</td><td>10/24/08</td><td>US</td><td>male  </td><td>32</td><td>5</td><td>4</td><td>5</td><td> 5</td><td> 5</td><td>24</td><td>4.8</td></tr>\n",
              "\t<tr><td>2</td><td>10/28/08</td><td>US</td><td>female</td><td>45</td><td>3</td><td>5</td><td>2</td><td> 5</td><td> 5</td><td>20</td><td>4.0</td></tr>\n",
              "\t<tr><td>3</td><td>10/1/08 </td><td>UK</td><td>female</td><td>25</td><td>3</td><td>5</td><td>5</td><td> 5</td><td> 2</td><td>20</td><td>4.0</td></tr>\n",
              "\t<tr><td>4</td><td>10/12/08</td><td>UK</td><td>male  </td><td>39</td><td>3</td><td>3</td><td>4</td><td>NA</td><td>NA</td><td>NA</td><td> NA</td></tr>\n",
              "\t<tr><td>5</td><td>5/1/09  </td><td>UK</td><td>female</td><td>99</td><td>2</td><td>2</td><td>1</td><td> 2</td><td> 1</td><td> 8</td><td>1.6</td></tr>\n",
              "</tbody>\n",
              "</table>\n"
            ],
            "text/markdown": "\nA data.frame: 5 × 12\n\n| manager &lt;dbl&gt; | date &lt;chr&gt; | country &lt;chr&gt; | gender &lt;chr&gt; | age &lt;dbl&gt; | q1 &lt;dbl&gt; | q2 &lt;dbl&gt; | q3 &lt;dbl&gt; | q4 &lt;dbl&gt; | q5 &lt;dbl&gt; | total_score &lt;dbl&gt; | mean_score &lt;dbl&gt; |\n|---|---|---|---|---|---|---|---|---|---|---|---|\n| 1 | 10/24/08 | US | male   | 32 | 5 | 4 | 5 |  5 |  5 | 24 | 4.8 |\n| 2 | 10/28/08 | US | female | 45 | 3 | 5 | 2 |  5 |  5 | 20 | 4.0 |\n| 3 | 10/1/08  | UK | female | 25 | 3 | 5 | 5 |  5 |  2 | 20 | 4.0 |\n| 4 | 10/12/08 | UK | male   | 39 | 3 | 3 | 4 | NA | NA | NA |  NA |\n| 5 | 5/1/09   | UK | female | 99 | 2 | 2 | 1 |  2 |  1 |  8 | 1.6 |\n\n",
            "text/latex": "A data.frame: 5 × 12\n\\begin{tabular}{llllllllllll}\n manager & date & country & gender & age & q1 & q2 & q3 & q4 & q5 & total\\_score & mean\\_score\\\\\n <dbl> & <chr> & <chr> & <chr> & <dbl> & <dbl> & <dbl> & <dbl> & <dbl> & <dbl> & <dbl> & <dbl>\\\\\n\\hline\n\t 1 & 10/24/08 & US & male   & 32 & 5 & 4 & 5 &  5 &  5 & 24 & 4.8\\\\\n\t 2 & 10/28/08 & US & female & 45 & 3 & 5 & 2 &  5 &  5 & 20 & 4.0\\\\\n\t 3 & 10/1/08  & UK & female & 25 & 3 & 5 & 5 &  5 &  2 & 20 & 4.0\\\\\n\t 4 & 10/12/08 & UK & male   & 39 & 3 & 3 & 4 & NA & NA & NA &  NA\\\\\n\t 5 & 5/1/09   & UK & female & 99 & 2 & 2 & 1 &  2 &  1 &  8 & 1.6\\\\\n\\end{tabular}\n",
            "text/plain": [
              "  manager date     country gender age q1 q2 q3 q4 q5 total_score mean_score\n",
              "1 1       10/24/08 US      male   32  5  4  5   5  5 24          4.8       \n",
              "2 2       10/28/08 US      female 45  3  5  2   5  5 20          4.0       \n",
              "3 3       10/1/08  UK      female 25  3  5  5   5  2 20          4.0       \n",
              "4 4       10/12/08 UK      male   39  3  3  4  NA NA NA           NA       \n",
              "5 5       5/1/09   UK      female 99  2  2  1   2  1  8          1.6       "
            ]
          },
          "metadata": {}
        }
      ]
    },
    {
      "cell_type": "code",
      "source": [
        "# Переименовать переменные manager и gender.\n",
        "leadership <- rename(leadership, ID = \"manager\", sex = \"gender\")\n",
        "leadership"
      ],
      "metadata": {
        "id": "lZTPqGPUdjlW",
        "outputId": "676850c9-c353-42ac-ac2f-cd5fc3cbbede",
        "colab": {
          "base_uri": "https://localhost:8080/",
          "height": 255
        }
      },
      "execution_count": null,
      "outputs": [
        {
          "output_type": "display_data",
          "data": {
            "text/html": [
              "<table class=\"dataframe\">\n",
              "<caption>A data.frame: 5 × 12</caption>\n",
              "<thead>\n",
              "\t<tr><th scope=col>ID</th><th scope=col>date</th><th scope=col>country</th><th scope=col>sex</th><th scope=col>age</th><th scope=col>q1</th><th scope=col>q2</th><th scope=col>q3</th><th scope=col>q4</th><th scope=col>q5</th><th scope=col>total_score</th><th scope=col>mean_score</th></tr>\n",
              "\t<tr><th scope=col>&lt;dbl&gt;</th><th scope=col>&lt;chr&gt;</th><th scope=col>&lt;chr&gt;</th><th scope=col>&lt;chr&gt;</th><th scope=col>&lt;dbl&gt;</th><th scope=col>&lt;dbl&gt;</th><th scope=col>&lt;dbl&gt;</th><th scope=col>&lt;dbl&gt;</th><th scope=col>&lt;dbl&gt;</th><th scope=col>&lt;dbl&gt;</th><th scope=col>&lt;dbl&gt;</th><th scope=col>&lt;dbl&gt;</th></tr>\n",
              "</thead>\n",
              "<tbody>\n",
              "\t<tr><td>1</td><td>10/24/08</td><td>US</td><td>male  </td><td>32</td><td>5</td><td>4</td><td>5</td><td> 5</td><td> 5</td><td>24</td><td>4.8</td></tr>\n",
              "\t<tr><td>2</td><td>10/28/08</td><td>US</td><td>female</td><td>45</td><td>3</td><td>5</td><td>2</td><td> 5</td><td> 5</td><td>20</td><td>4.0</td></tr>\n",
              "\t<tr><td>3</td><td>10/1/08 </td><td>UK</td><td>female</td><td>25</td><td>3</td><td>5</td><td>5</td><td> 5</td><td> 2</td><td>20</td><td>4.0</td></tr>\n",
              "\t<tr><td>4</td><td>10/12/08</td><td>UK</td><td>male  </td><td>39</td><td>3</td><td>3</td><td>4</td><td>NA</td><td>NA</td><td>NA</td><td> NA</td></tr>\n",
              "\t<tr><td>5</td><td>5/1/09  </td><td>UK</td><td>female</td><td>99</td><td>2</td><td>2</td><td>1</td><td> 2</td><td> 1</td><td> 8</td><td>1.6</td></tr>\n",
              "</tbody>\n",
              "</table>\n"
            ],
            "text/markdown": "\nA data.frame: 5 × 12\n\n| ID &lt;dbl&gt; | date &lt;chr&gt; | country &lt;chr&gt; | sex &lt;chr&gt; | age &lt;dbl&gt; | q1 &lt;dbl&gt; | q2 &lt;dbl&gt; | q3 &lt;dbl&gt; | q4 &lt;dbl&gt; | q5 &lt;dbl&gt; | total_score &lt;dbl&gt; | mean_score &lt;dbl&gt; |\n|---|---|---|---|---|---|---|---|---|---|---|---|\n| 1 | 10/24/08 | US | male   | 32 | 5 | 4 | 5 |  5 |  5 | 24 | 4.8 |\n| 2 | 10/28/08 | US | female | 45 | 3 | 5 | 2 |  5 |  5 | 20 | 4.0 |\n| 3 | 10/1/08  | UK | female | 25 | 3 | 5 | 5 |  5 |  2 | 20 | 4.0 |\n| 4 | 10/12/08 | UK | male   | 39 | 3 | 3 | 4 | NA | NA | NA |  NA |\n| 5 | 5/1/09   | UK | female | 99 | 2 | 2 | 1 |  2 |  1 |  8 | 1.6 |\n\n",
            "text/latex": "A data.frame: 5 × 12\n\\begin{tabular}{llllllllllll}\n ID & date & country & sex & age & q1 & q2 & q3 & q4 & q5 & total\\_score & mean\\_score\\\\\n <dbl> & <chr> & <chr> & <chr> & <dbl> & <dbl> & <dbl> & <dbl> & <dbl> & <dbl> & <dbl> & <dbl>\\\\\n\\hline\n\t 1 & 10/24/08 & US & male   & 32 & 5 & 4 & 5 &  5 &  5 & 24 & 4.8\\\\\n\t 2 & 10/28/08 & US & female & 45 & 3 & 5 & 2 &  5 &  5 & 20 & 4.0\\\\\n\t 3 & 10/1/08  & UK & female & 25 & 3 & 5 & 5 &  5 &  2 & 20 & 4.0\\\\\n\t 4 & 10/12/08 & UK & male   & 39 & 3 & 3 & 4 & NA & NA & NA &  NA\\\\\n\t 5 & 5/1/09   & UK & female & 99 & 2 & 2 & 1 &  2 &  1 &  8 & 1.6\\\\\n\\end{tabular}\n",
            "text/plain": [
              "  ID date     country sex    age q1 q2 q3 q4 q5 total_score mean_score\n",
              "1 1  10/24/08 US      male   32  5  4  5   5  5 24          4.8       \n",
              "2 2  10/28/08 US      female 45  3  5  2   5  5 20          4.0       \n",
              "3 3  10/1/08  UK      female 25  3  5  5   5  2 20          4.0       \n",
              "4 4  10/12/08 UK      male   39  3  3  4  NA NA NA           NA       \n",
              "5 5  5/1/09   UK      female 99  2  2  1   2  1  8          1.6       "
            ]
          },
          "metadata": {}
        }
      ]
    },
    {
      "cell_type": "markdown",
      "source": [
        "Для замены старых числовых значений используйте обратные\n",
        "кавычки:\n",
        "\n",
        "\\> y <- c(1, 2, 3)\n",
        "\n",
        "\\> y <- recode(y, \\`1\\` = 10, \\`2\\` = 15)\n",
        "\n",
        "\\> y\n",
        "\n",
        "[1] 10 15 3"
      ],
      "metadata": {
        "id": "qu8xSzFkAdiz"
      }
    },
    {
      "cell_type": "code",
      "source": [
        "# Отсортировать данные по переменной sex и затем каждый пол по сумме баллов.\n",
        "leadership <- arrange(leadership, sex, total_score)\n",
        "leadership"
      ],
      "metadata": {
        "id": "rl-cv88_dw5g",
        "outputId": "0d5b0c36-b782-4f2b-eeea-e9d77233edbd",
        "colab": {
          "base_uri": "https://localhost:8080/",
          "height": 255
        }
      },
      "execution_count": null,
      "outputs": [
        {
          "output_type": "display_data",
          "data": {
            "text/html": [
              "<table class=\"dataframe\">\n",
              "<caption>A data.frame: 5 × 12</caption>\n",
              "<thead>\n",
              "\t<tr><th scope=col>ID</th><th scope=col>date</th><th scope=col>country</th><th scope=col>sex</th><th scope=col>age</th><th scope=col>q1</th><th scope=col>q2</th><th scope=col>q3</th><th scope=col>q4</th><th scope=col>q5</th><th scope=col>total_score</th><th scope=col>mean_score</th></tr>\n",
              "\t<tr><th scope=col>&lt;dbl&gt;</th><th scope=col>&lt;chr&gt;</th><th scope=col>&lt;chr&gt;</th><th scope=col>&lt;chr&gt;</th><th scope=col>&lt;dbl&gt;</th><th scope=col>&lt;dbl&gt;</th><th scope=col>&lt;dbl&gt;</th><th scope=col>&lt;dbl&gt;</th><th scope=col>&lt;dbl&gt;</th><th scope=col>&lt;dbl&gt;</th><th scope=col>&lt;dbl&gt;</th><th scope=col>&lt;dbl&gt;</th></tr>\n",
              "</thead>\n",
              "<tbody>\n",
              "\t<tr><td>5</td><td>5/1/09  </td><td>UK</td><td>female</td><td>99</td><td>2</td><td>2</td><td>1</td><td> 2</td><td> 1</td><td> 8</td><td>1.6</td></tr>\n",
              "\t<tr><td>2</td><td>10/28/08</td><td>US</td><td>female</td><td>45</td><td>3</td><td>5</td><td>2</td><td> 5</td><td> 5</td><td>20</td><td>4.0</td></tr>\n",
              "\t<tr><td>3</td><td>10/1/08 </td><td>UK</td><td>female</td><td>25</td><td>3</td><td>5</td><td>5</td><td> 5</td><td> 2</td><td>20</td><td>4.0</td></tr>\n",
              "\t<tr><td>1</td><td>10/24/08</td><td>US</td><td>male  </td><td>32</td><td>5</td><td>4</td><td>5</td><td> 5</td><td> 5</td><td>24</td><td>4.8</td></tr>\n",
              "\t<tr><td>4</td><td>10/12/08</td><td>UK</td><td>male  </td><td>39</td><td>3</td><td>3</td><td>4</td><td>NA</td><td>NA</td><td>NA</td><td> NA</td></tr>\n",
              "</tbody>\n",
              "</table>\n"
            ],
            "text/markdown": "\nA data.frame: 5 × 12\n\n| ID &lt;dbl&gt; | date &lt;chr&gt; | country &lt;chr&gt; | sex &lt;chr&gt; | age &lt;dbl&gt; | q1 &lt;dbl&gt; | q2 &lt;dbl&gt; | q3 &lt;dbl&gt; | q4 &lt;dbl&gt; | q5 &lt;dbl&gt; | total_score &lt;dbl&gt; | mean_score &lt;dbl&gt; |\n|---|---|---|---|---|---|---|---|---|---|---|---|\n| 5 | 5/1/09   | UK | female | 99 | 2 | 2 | 1 |  2 |  1 |  8 | 1.6 |\n| 2 | 10/28/08 | US | female | 45 | 3 | 5 | 2 |  5 |  5 | 20 | 4.0 |\n| 3 | 10/1/08  | UK | female | 25 | 3 | 5 | 5 |  5 |  2 | 20 | 4.0 |\n| 1 | 10/24/08 | US | male   | 32 | 5 | 4 | 5 |  5 |  5 | 24 | 4.8 |\n| 4 | 10/12/08 | UK | male   | 39 | 3 | 3 | 4 | NA | NA | NA |  NA |\n\n",
            "text/latex": "A data.frame: 5 × 12\n\\begin{tabular}{llllllllllll}\n ID & date & country & sex & age & q1 & q2 & q3 & q4 & q5 & total\\_score & mean\\_score\\\\\n <dbl> & <chr> & <chr> & <chr> & <dbl> & <dbl> & <dbl> & <dbl> & <dbl> & <dbl> & <dbl> & <dbl>\\\\\n\\hline\n\t 5 & 5/1/09   & UK & female & 99 & 2 & 2 & 1 &  2 &  1 &  8 & 1.6\\\\\n\t 2 & 10/28/08 & US & female & 45 & 3 & 5 & 2 &  5 &  5 & 20 & 4.0\\\\\n\t 3 & 10/1/08  & UK & female & 25 & 3 & 5 & 5 &  5 &  2 & 20 & 4.0\\\\\n\t 1 & 10/24/08 & US & male   & 32 & 5 & 4 & 5 &  5 &  5 & 24 & 4.8\\\\\n\t 4 & 10/12/08 & UK & male   & 39 & 3 & 3 & 4 & NA & NA & NA &  NA\\\\\n\\end{tabular}\n",
            "text/plain": [
              "  ID date     country sex    age q1 q2 q3 q4 q5 total_score mean_score\n",
              "1 5  5/1/09   UK      female 99  2  2  1   2  1  8          1.6       \n",
              "2 2  10/28/08 US      female 45  3  5  2   5  5 20          4.0       \n",
              "3 3  10/1/08  UK      female 25  3  5  5   5  2 20          4.0       \n",
              "4 1  10/24/08 US      male   32  5  4  5   5  5 24          4.8       \n",
              "5 4  10/12/08 UK      male   39  3  3  4  NA NA NA           NA       "
            ]
          },
          "metadata": {}
        }
      ]
    },
    {
      "cell_type": "code",
      "source": [
        "# Создать новую таблицу данных с переменными, отражающими рейтинг.\n",
        "leadership_ratings <- select(leadership, ID, mean_score)\n",
        "leadership_ratings"
      ],
      "metadata": {
        "id": "8YSZWpy990Om",
        "outputId": "5198f69c-1e0f-4538-c574-a5e38081c915",
        "colab": {
          "base_uri": "https://localhost:8080/",
          "height": 255
        }
      },
      "execution_count": null,
      "outputs": [
        {
          "output_type": "display_data",
          "data": {
            "text/html": [
              "<table class=\"dataframe\">\n",
              "<caption>A data.frame: 5 × 2</caption>\n",
              "<thead>\n",
              "\t<tr><th scope=col>ID</th><th scope=col>mean_score</th></tr>\n",
              "\t<tr><th scope=col>&lt;dbl&gt;</th><th scope=col>&lt;dbl&gt;</th></tr>\n",
              "</thead>\n",
              "<tbody>\n",
              "\t<tr><td>5</td><td>1.6</td></tr>\n",
              "\t<tr><td>2</td><td>4.0</td></tr>\n",
              "\t<tr><td>3</td><td>4.0</td></tr>\n",
              "\t<tr><td>1</td><td>4.8</td></tr>\n",
              "\t<tr><td>4</td><td> NA</td></tr>\n",
              "</tbody>\n",
              "</table>\n"
            ],
            "text/markdown": "\nA data.frame: 5 × 2\n\n| ID &lt;dbl&gt; | mean_score &lt;dbl&gt; |\n|---|---|\n| 5 | 1.6 |\n| 2 | 4.0 |\n| 3 | 4.0 |\n| 1 | 4.8 |\n| 4 |  NA |\n\n",
            "text/latex": "A data.frame: 5 × 2\n\\begin{tabular}{ll}\n ID & mean\\_score\\\\\n <dbl> & <dbl>\\\\\n\\hline\n\t 5 & 1.6\\\\\n\t 2 & 4.0\\\\\n\t 3 & 4.0\\\\\n\t 1 & 4.8\\\\\n\t 4 &  NA\\\\\n\\end{tabular}\n",
            "text/plain": [
              "  ID mean_score\n",
              "1 5  1.6       \n",
              "2 2  4.0       \n",
              "3 3  4.0       \n",
              "4 1  4.8       \n",
              "5 4   NA       "
            ]
          },
          "metadata": {}
        }
      ]
    },
    {
      "cell_type": "markdown",
      "source": [
        "Для исключения переменных используется знак минус (-). На-\n",
        "пример, инструкция:\n",
        "\n",
        "`leadership_subset <- select(leadership, -sex, -age)`\n",
        "\n",
        "включит в выборку все переменные, кроме sex и age.\n",
        "\n",
        "Более смотри `help(select_helpers)`"
      ],
      "metadata": {
        "id": "yZRAttezDw_S"
      }
    },
    {
      "cell_type": "code",
      "source": [
        "# Создать новую таблицу данных с мужчинами, чей рейтинг выше 10.\n",
        "leadership_men_high <- filter(leadership, sex == \"male\" & total_score > 10)\n",
        "leadership_men_high"
      ],
      "metadata": {
        "id": "Sz6ndzzX-3tv",
        "outputId": "08ae4ae3-50e0-4d69-f7de-fdc453df97fb",
        "colab": {
          "base_uri": "https://localhost:8080/",
          "height": 129
        }
      },
      "execution_count": null,
      "outputs": [
        {
          "output_type": "display_data",
          "data": {
            "text/html": [
              "<table class=\"dataframe\">\n",
              "<caption>A data.frame: 1 × 12</caption>\n",
              "<thead>\n",
              "\t<tr><th scope=col>ID</th><th scope=col>date</th><th scope=col>country</th><th scope=col>sex</th><th scope=col>age</th><th scope=col>q1</th><th scope=col>q2</th><th scope=col>q3</th><th scope=col>q4</th><th scope=col>q5</th><th scope=col>total_score</th><th scope=col>mean_score</th></tr>\n",
              "\t<tr><th scope=col>&lt;dbl&gt;</th><th scope=col>&lt;chr&gt;</th><th scope=col>&lt;chr&gt;</th><th scope=col>&lt;chr&gt;</th><th scope=col>&lt;dbl&gt;</th><th scope=col>&lt;dbl&gt;</th><th scope=col>&lt;dbl&gt;</th><th scope=col>&lt;dbl&gt;</th><th scope=col>&lt;dbl&gt;</th><th scope=col>&lt;dbl&gt;</th><th scope=col>&lt;dbl&gt;</th><th scope=col>&lt;dbl&gt;</th></tr>\n",
              "</thead>\n",
              "<tbody>\n",
              "\t<tr><td>1</td><td>10/24/08</td><td>US</td><td>male</td><td>32</td><td>5</td><td>4</td><td>5</td><td>5</td><td>5</td><td>24</td><td>4.8</td></tr>\n",
              "</tbody>\n",
              "</table>\n"
            ],
            "text/markdown": "\nA data.frame: 1 × 12\n\n| ID &lt;dbl&gt; | date &lt;chr&gt; | country &lt;chr&gt; | sex &lt;chr&gt; | age &lt;dbl&gt; | q1 &lt;dbl&gt; | q2 &lt;dbl&gt; | q3 &lt;dbl&gt; | q4 &lt;dbl&gt; | q5 &lt;dbl&gt; | total_score &lt;dbl&gt; | mean_score &lt;dbl&gt; |\n|---|---|---|---|---|---|---|---|---|---|---|---|\n| 1 | 10/24/08 | US | male | 32 | 5 | 4 | 5 | 5 | 5 | 24 | 4.8 |\n\n",
            "text/latex": "A data.frame: 1 × 12\n\\begin{tabular}{llllllllllll}\n ID & date & country & sex & age & q1 & q2 & q3 & q4 & q5 & total\\_score & mean\\_score\\\\\n <dbl> & <chr> & <chr> & <chr> & <dbl> & <dbl> & <dbl> & <dbl> & <dbl> & <dbl> & <dbl> & <dbl>\\\\\n\\hline\n\t 1 & 10/24/08 & US & male & 32 & 5 & 4 & 5 & 5 & 5 & 24 & 4.8\\\\\n\\end{tabular}\n",
            "text/plain": [
              "  ID date     country sex  age q1 q2 q3 q4 q5 total_score mean_score\n",
              "1 1  10/24/08 US      male 32  5  4  5  5  5  24          4.8       "
            ]
          },
          "metadata": {}
        }
      ]
    },
    {
      "cell_type": "code",
      "source": [
        "# Создать новую таблицу данных с женщинами, чей рейтинг выше 10.\n",
        "leadership_woman_high <- filter(leadership, sex == \"female\" & total_score > 10)\n",
        "leadership_woman_high"
      ],
      "metadata": {
        "id": "4UnOMOIT_QJf",
        "outputId": "cebb7392-95ca-43f0-a433-f2e81e7eacaa",
        "colab": {
          "base_uri": "https://localhost:8080/",
          "height": 161
        }
      },
      "execution_count": null,
      "outputs": [
        {
          "output_type": "display_data",
          "data": {
            "text/html": [
              "<table class=\"dataframe\">\n",
              "<caption>A data.frame: 2 × 12</caption>\n",
              "<thead>\n",
              "\t<tr><th scope=col>ID</th><th scope=col>date</th><th scope=col>country</th><th scope=col>sex</th><th scope=col>age</th><th scope=col>q1</th><th scope=col>q2</th><th scope=col>q3</th><th scope=col>q4</th><th scope=col>q5</th><th scope=col>total_score</th><th scope=col>mean_score</th></tr>\n",
              "\t<tr><th scope=col>&lt;dbl&gt;</th><th scope=col>&lt;chr&gt;</th><th scope=col>&lt;chr&gt;</th><th scope=col>&lt;chr&gt;</th><th scope=col>&lt;dbl&gt;</th><th scope=col>&lt;dbl&gt;</th><th scope=col>&lt;dbl&gt;</th><th scope=col>&lt;dbl&gt;</th><th scope=col>&lt;dbl&gt;</th><th scope=col>&lt;dbl&gt;</th><th scope=col>&lt;dbl&gt;</th><th scope=col>&lt;dbl&gt;</th></tr>\n",
              "</thead>\n",
              "<tbody>\n",
              "\t<tr><td>2</td><td>10/28/08</td><td>US</td><td>female</td><td>45</td><td>3</td><td>5</td><td>2</td><td>5</td><td>5</td><td>20</td><td>4</td></tr>\n",
              "\t<tr><td>3</td><td>10/1/08 </td><td>UK</td><td>female</td><td>25</td><td>3</td><td>5</td><td>5</td><td>5</td><td>2</td><td>20</td><td>4</td></tr>\n",
              "</tbody>\n",
              "</table>\n"
            ],
            "text/markdown": "\nA data.frame: 2 × 12\n\n| ID &lt;dbl&gt; | date &lt;chr&gt; | country &lt;chr&gt; | sex &lt;chr&gt; | age &lt;dbl&gt; | q1 &lt;dbl&gt; | q2 &lt;dbl&gt; | q3 &lt;dbl&gt; | q4 &lt;dbl&gt; | q5 &lt;dbl&gt; | total_score &lt;dbl&gt; | mean_score &lt;dbl&gt; |\n|---|---|---|---|---|---|---|---|---|---|---|---|\n| 2 | 10/28/08 | US | female | 45 | 3 | 5 | 2 | 5 | 5 | 20 | 4 |\n| 3 | 10/1/08  | UK | female | 25 | 3 | 5 | 5 | 5 | 2 | 20 | 4 |\n\n",
            "text/latex": "A data.frame: 2 × 12\n\\begin{tabular}{llllllllllll}\n ID & date & country & sex & age & q1 & q2 & q3 & q4 & q5 & total\\_score & mean\\_score\\\\\n <dbl> & <chr> & <chr> & <chr> & <dbl> & <dbl> & <dbl> & <dbl> & <dbl> & <dbl> & <dbl> & <dbl>\\\\\n\\hline\n\t 2 & 10/28/08 & US & female & 45 & 3 & 5 & 2 & 5 & 5 & 20 & 4\\\\\n\t 3 & 10/1/08  & UK & female & 25 & 3 & 5 & 5 & 5 & 2 & 20 & 4\\\\\n\\end{tabular}\n",
            "text/plain": [
              "  ID date     country sex    age q1 q2 q3 q4 q5 total_score mean_score\n",
              "1 2  10/28/08 US      female 45  3  5  2  5  5  20          4         \n",
              "2 3  10/1/08  UK      female 25  3  5  5  5  2  20          4         "
            ]
          },
          "metadata": {}
        }
      ]
    },
    {
      "cell_type": "markdown",
      "source": [
        "В общем случае эта функция имеет следующий синтаксис:\n",
        "\n",
        "`таблица_данных <- filter(таблица_данных, выражение)`\n",
        "\n",
        "и извлекает строки, для которых выражение вернет TRUE. Выражение может включать любые операторы из перечисленных:\n",
        "* <  - Меньше, чем\n",
        "* <= - Меньше или равно\n",
        "* \\> - Больше, чем\n",
        "* \\>= - Больше или равно\n",
        "* ==  - Точно равно\n",
        "* != - Не равно\n",
        "* !x  - Инверсия x (НЕ x)\n",
        "* x | y  - x ИЛИ y\n",
        "* x & y - x И y\n",
        "*isTRUE(x) - Проверяет истинность значения x\n",
        "\n",
        "\n",
        ", а для управления порядком выполнения операторов можно использовать круглые скобки.\n",
        "\n",
        "Следующая инструкция вернет таблицу данных со списком менеджеров мужчин, для которых средняя оценка (mean_score) меньше 2 или больше 4."
      ],
      "metadata": {
        "id": "TGQrg45zEqnJ"
      }
    },
    {
      "cell_type": "code",
      "source": [
        "extreme_men <- filter(leadership, sex == \"male\" & (mean_score < 2 | mean_score > 4))\n",
        "extreme_men"
      ],
      "metadata": {
        "id": "uRAvsMlsGQ_8",
        "outputId": "62b9eff7-4124-40f3-b30f-da24b67eb60a",
        "colab": {
          "base_uri": "https://localhost:8080/",
          "height": 129
        }
      },
      "execution_count": null,
      "outputs": [
        {
          "output_type": "display_data",
          "data": {
            "text/html": [
              "<table class=\"dataframe\">\n",
              "<caption>A data.frame: 1 × 12</caption>\n",
              "<thead>\n",
              "\t<tr><th scope=col>ID</th><th scope=col>date</th><th scope=col>country</th><th scope=col>sex</th><th scope=col>age</th><th scope=col>q1</th><th scope=col>q2</th><th scope=col>q3</th><th scope=col>q4</th><th scope=col>q5</th><th scope=col>total_score</th><th scope=col>mean_score</th></tr>\n",
              "\t<tr><th scope=col>&lt;dbl&gt;</th><th scope=col>&lt;chr&gt;</th><th scope=col>&lt;chr&gt;</th><th scope=col>&lt;chr&gt;</th><th scope=col>&lt;dbl&gt;</th><th scope=col>&lt;dbl&gt;</th><th scope=col>&lt;dbl&gt;</th><th scope=col>&lt;dbl&gt;</th><th scope=col>&lt;dbl&gt;</th><th scope=col>&lt;dbl&gt;</th><th scope=col>&lt;dbl&gt;</th><th scope=col>&lt;dbl&gt;</th></tr>\n",
              "</thead>\n",
              "<tbody>\n",
              "\t<tr><td>1</td><td>10/24/08</td><td>US</td><td>male</td><td>32</td><td>5</td><td>4</td><td>5</td><td>5</td><td>5</td><td>24</td><td>4.8</td></tr>\n",
              "</tbody>\n",
              "</table>\n"
            ],
            "text/markdown": "\nA data.frame: 1 × 12\n\n| ID &lt;dbl&gt; | date &lt;chr&gt; | country &lt;chr&gt; | sex &lt;chr&gt; | age &lt;dbl&gt; | q1 &lt;dbl&gt; | q2 &lt;dbl&gt; | q3 &lt;dbl&gt; | q4 &lt;dbl&gt; | q5 &lt;dbl&gt; | total_score &lt;dbl&gt; | mean_score &lt;dbl&gt; |\n|---|---|---|---|---|---|---|---|---|---|---|---|\n| 1 | 10/24/08 | US | male | 32 | 5 | 4 | 5 | 5 | 5 | 24 | 4.8 |\n\n",
            "text/latex": "A data.frame: 1 × 12\n\\begin{tabular}{llllllllllll}\n ID & date & country & sex & age & q1 & q2 & q3 & q4 & q5 & total\\_score & mean\\_score\\\\\n <dbl> & <chr> & <chr> & <chr> & <dbl> & <dbl> & <dbl> & <dbl> & <dbl> & <dbl> & <dbl> & <dbl>\\\\\n\\hline\n\t 1 & 10/24/08 & US & male & 32 & 5 & 4 & 5 & 5 & 5 & 24 & 4.8\\\\\n\\end{tabular}\n",
            "text/plain": [
              "  ID date     country sex  age q1 q2 q3 q4 q5 total_score mean_score\n",
              "1 1  10/24/08 US      male 32  5  4  5  5  5  24          4.8       "
            ]
          },
          "metadata": {}
        }
      ]
    },
    {
      "cell_type": "markdown",
      "source": [
        "### Объединение инструкций с помощью оператора конвейера\n",
        "\n",
        "Пакет magrittr позволяет записывать код более компактно, предлагая оператор конвейера (%>%). Взгляните на следующую последовательность инструкций:\n",
        "```\n",
        "high_potentials <- filter(leadership, total_score > 10)\n",
        "high_potentials <- select(high_potential, ID, country, mean_score)\n",
        "high_potentials <- arrange(high_potential, country, mean_score)#\n",
        "```\n",
        "Их можно уместить в одну инструкцию, применив оператор конвейера:\n",
        "\n",
        "```\n",
        "high_potentials <- filter(leadership, total_score > 10) %>%\n",
        "select(ID, country, mean_score) %>%\n",
        "arrange(country, mean_score)\n",
        "```\n",
        "Оператор %>% (читается как «ЗАТЕМ») передает результат вызова функции слева через первый параметр функции справа. Реорганизованные таким способом инструкции часто читаются намного проще.\n",
        "\n",
        "Мы рассмотрели основные функции пакета dplyr, но в нем так-\n",
        "же имеются функции для обобщения, объединения и реструктури-\n",
        "зации данных. Мы познакомимся с ними в главе 5."
      ],
      "metadata": {
        "id": "cldIgVTxdjOQ"
      }
    },
    {
      "cell_type": "markdown",
      "source": [
        "## Использование инструкций SQL для работы с таблицами данных\n",
        "До этого момента для работы с данными использовались функции и операторы R. Однако многие аналитики, пришедшие к R, имели опыт создания запросов на языке структурированных запросов (Structured Query Language, SQL). Было бы обидно не воспользоваться этими накопленными знаниями. Поэтому я хотел бы кратко упомянуть о существовании пакета `sqldf`. (Если вы незнакомы с языком SQL, то можете спокойно пропустить этот раздел.)\n",
        "\n",
        "Скачав и установив этот пакет (`install.packages(\"sqldf\")`), вы сможете использовать функцию sqldf() для выполнения запросов SELECT на языке SQL к таблицам данных. В листинге 3.8 показаны два примера."
      ],
      "metadata": {
        "id": "09qidHF2H9Jt"
      }
    },
    {
      "cell_type": "markdown",
      "source": [
        "\\> library(sqldf) ❶\n",
        "\n",
        "\\> newdf <- sqldf(\"select * from mtcars where carb=1 order by mpg\", ❶\n",
        "row.names=TRUE) ❶\n",
        "\n",
        "\\> newdf ❶\n",
        "\n",
        "mpg cyl disp hp drat wt qsec vs am gear carb\n",
        "\n",
        "Valiant 18.1 6 225.0 105 2.76 3.46 20.2 1 0 3 1\n",
        "\n",
        "Hornet 4 Drive 21.4 6 258.0 110 3.08 3.21 19.4 1 0 3 1\n",
        "\n",
        "Toyota Corona 21.5 4 120.1 97 3.70 2.46 20.0 1 0 3 1\n",
        "\n",
        "Datsun 710 22.8 4 108.0 93 3.85 2.32 18.6 1 1 4 1\n",
        "\n",
        "Fiat X1-9 27.3 4 79.0 66 4.08 1.94 18.9 1 1 4 1\n",
        "\n",
        "Fiat 128 32.4 4 78.7 66 4.08 2.20 19.5 1 1 4 1\n",
        "\n",
        "Toyota Corolla 33.9 4 71.1 65 4.22 1.83 19.9 1 1 4 1\n",
        "\n",
        "\\> sqldf(\"select avg(mpg) as avg_mpg, avg(disp) as avg_disp, gear ❷\n",
        "\n",
        "from mtcars where cyl in (4, 6) group by gear\") ❷\n",
        "\n",
        "avg_mpg avg_disp gear\n",
        "\n",
        "1 20.3 201 3\n",
        "\n",
        "2 24.5 123 4\n",
        "\n",
        "3 25.4 120 5\n",
        "\n",
        "❶ Выборка всех переменных (столбцов) из таблицы данных mtcars и наблюдений (строк), соответствующих автомобилям с одним карбюратором (carb), с сортировкой в порядке возрастания по значениям переменной mpg. Полученная выборка сохраняется в новой таблице данных\n",
        "newdf. Выражение row.names=TRUE требует перенести идентификаторы\n",
        "(имена) строк из исходной таблицы данных в новую.\n",
        "\n",
        "❷ Выводит на экран средние значения переменных mpg и disp для автомобилей с коробками передач с разным числом ступеней (gear) и с 4-\n",
        "или 6-цилиндровыми моторами (cyl)."
      ],
      "metadata": {
        "id": "JJRM2Pd-JDLV"
      }
    },
    {
      "cell_type": "code",
      "source": [],
      "metadata": {
        "id": "4zyKLeSGJqRO"
      },
      "execution_count": null,
      "outputs": []
    }
  ]
}