{
  "nbformat": 4,
  "nbformat_minor": 0,
  "metadata": {
    "colab": {
      "provenance": [],
      "include_colab_link": true
    },
    "kernelspec": {
      "name": "ir",
      "display_name": "R"
    },
    "language_info": {
      "name": "R"
    }
  },
  "cells": [
    {
      "cell_type": "markdown",
      "metadata": {
        "id": "view-in-github",
        "colab_type": "text"
      },
      "source": [
        "<a href=\"https://colab.research.google.com/github/MaximTislenko/GB_med_stat_R/blob/main/%D0%A1%D0%BE%D0%B7%D0%B4_%D0%BD%D0%B0%D0%B1%D0%BE%D1%80%D0%B0_03.ipynb\" target=\"_parent\"><img src=\"https://colab.research.google.com/assets/colab-badge.svg\" alt=\"Open In Colab\"/></a>"
      ]
    },
    {
      "cell_type": "markdown",
      "source": [
        "# Создание набора данных"
      ],
      "metadata": {
        "id": "yaZVoNFFoC1F"
      }
    },
    {
      "cell_type": "code",
      "execution_count": 3,
      "metadata": {
        "id": "AdrY4BSy4w1z",
        "outputId": "ee11a1d2-f179-447c-e434-80809f9d5eac",
        "colab": {
          "base_uri": "https://localhost:8080/"
        }
      },
      "outputs": [
        {
          "output_type": "stream",
          "name": "stderr",
          "text": [
            "── \u001b[1mAttaching core tidyverse packages\u001b[22m ──────────────────────── tidyverse 2.0.0 ──\n",
            "\u001b[32m✔\u001b[39m \u001b[34mdplyr    \u001b[39m 1.1.4     \u001b[32m✔\u001b[39m \u001b[34mreadr    \u001b[39m 2.1.5\n",
            "\u001b[32m✔\u001b[39m \u001b[34mforcats  \u001b[39m 1.0.0     \u001b[32m✔\u001b[39m \u001b[34mstringr  \u001b[39m 1.5.1\n",
            "\u001b[32m✔\u001b[39m \u001b[34mggplot2  \u001b[39m 3.4.4     \u001b[32m✔\u001b[39m \u001b[34mtibble   \u001b[39m 3.2.1\n",
            "\u001b[32m✔\u001b[39m \u001b[34mlubridate\u001b[39m 1.9.3     \u001b[32m✔\u001b[39m \u001b[34mtidyr    \u001b[39m 1.3.1\n",
            "\u001b[32m✔\u001b[39m \u001b[34mpurrr    \u001b[39m 1.0.2     \n",
            "── \u001b[1mConflicts\u001b[22m ────────────────────────────────────────── tidyverse_conflicts() ──\n",
            "\u001b[31m✖\u001b[39m \u001b[34mpurrr\u001b[39m::\u001b[32m%||%()\u001b[39m   masks \u001b[34mbase\u001b[39m::%||%()\n",
            "\u001b[31m✖\u001b[39m \u001b[34mdplyr\u001b[39m::\u001b[32mfilter()\u001b[39m masks \u001b[34mstats\u001b[39m::filter()\n",
            "\u001b[31m✖\u001b[39m \u001b[34mdplyr\u001b[39m::\u001b[32mlag()\u001b[39m    masks \u001b[34mstats\u001b[39m::lag()\n",
            "\u001b[36mℹ\u001b[39m Use the conflicted package (\u001b[3m\u001b[34m<http://conflicted.r-lib.org/>\u001b[39m\u001b[23m) to force all conflicts to become errors\n"
          ]
        }
      ],
      "source": [
        "library(tidyverse)\n",
        "library(readxl)"
      ]
    },
    {
      "cell_type": "markdown",
      "source": [
        "# Основы управления данными"
      ],
      "metadata": {
        "id": "MZJyHFv-whvR"
      }
    },
    {
      "cell_type": "code",
      "source": [
        "leadership <- data.frame(\n",
        "  manager = c(1, 2, 3, 4, 5),\n",
        "  date = c(\"10/24/08\", \"10/28/08\", \"10/1/08\", \"10/12/08\", \"5/1/09\"),\n",
        "  country = c(\"US\", \"US\", \"UK\", \"UK\", \"UK\"),\n",
        "  gender = c(\"M\", \"F\", \"F\", \"M\", \"F\"),\n",
        "  age = c(32, 45, 25, 39, 99),\n",
        "  q1 = c(5, 3, 3, 3, 2),\n",
        "  q2 = c(4, 5, 5, 3, 2),\n",
        "  q3 = c(5, 2, 5, 4, 1),\n",
        "  q4 = c(5, 5, 5, NA, 2),\n",
        "  q5 = c(5, 5, 2, NA, 1)\n",
        "  )\n",
        "\n",
        "leadership"
      ],
      "metadata": {
        "id": "yVZvv71cwtnD",
        "outputId": "ae5836c1-7723-4a98-d337-d8fa3efe5891",
        "colab": {
          "base_uri": "https://localhost:8080/",
          "height": 255
        }
      },
      "execution_count": 4,
      "outputs": [
        {
          "output_type": "display_data",
          "data": {
            "text/html": [
              "<table class=\"dataframe\">\n",
              "<caption>A data.frame: 5 × 10</caption>\n",
              "<thead>\n",
              "\t<tr><th scope=col>manager</th><th scope=col>date</th><th scope=col>country</th><th scope=col>gender</th><th scope=col>age</th><th scope=col>q1</th><th scope=col>q2</th><th scope=col>q3</th><th scope=col>q4</th><th scope=col>q5</th></tr>\n",
              "\t<tr><th scope=col>&lt;dbl&gt;</th><th scope=col>&lt;chr&gt;</th><th scope=col>&lt;chr&gt;</th><th scope=col>&lt;chr&gt;</th><th scope=col>&lt;dbl&gt;</th><th scope=col>&lt;dbl&gt;</th><th scope=col>&lt;dbl&gt;</th><th scope=col>&lt;dbl&gt;</th><th scope=col>&lt;dbl&gt;</th><th scope=col>&lt;dbl&gt;</th></tr>\n",
              "</thead>\n",
              "<tbody>\n",
              "\t<tr><td>1</td><td>10/24/08</td><td>US</td><td>M</td><td>32</td><td>5</td><td>4</td><td>5</td><td> 5</td><td> 5</td></tr>\n",
              "\t<tr><td>2</td><td>10/28/08</td><td>US</td><td>F</td><td>45</td><td>3</td><td>5</td><td>2</td><td> 5</td><td> 5</td></tr>\n",
              "\t<tr><td>3</td><td>10/1/08 </td><td>UK</td><td>F</td><td>25</td><td>3</td><td>5</td><td>5</td><td> 5</td><td> 2</td></tr>\n",
              "\t<tr><td>4</td><td>10/12/08</td><td>UK</td><td>M</td><td>39</td><td>3</td><td>3</td><td>4</td><td>NA</td><td>NA</td></tr>\n",
              "\t<tr><td>5</td><td>5/1/09  </td><td>UK</td><td>F</td><td>99</td><td>2</td><td>2</td><td>1</td><td> 2</td><td> 1</td></tr>\n",
              "</tbody>\n",
              "</table>\n"
            ],
            "text/markdown": "\nA data.frame: 5 × 10\n\n| manager &lt;dbl&gt; | date &lt;chr&gt; | country &lt;chr&gt; | gender &lt;chr&gt; | age &lt;dbl&gt; | q1 &lt;dbl&gt; | q2 &lt;dbl&gt; | q3 &lt;dbl&gt; | q4 &lt;dbl&gt; | q5 &lt;dbl&gt; |\n|---|---|---|---|---|---|---|---|---|---|\n| 1 | 10/24/08 | US | M | 32 | 5 | 4 | 5 |  5 |  5 |\n| 2 | 10/28/08 | US | F | 45 | 3 | 5 | 2 |  5 |  5 |\n| 3 | 10/1/08  | UK | F | 25 | 3 | 5 | 5 |  5 |  2 |\n| 4 | 10/12/08 | UK | M | 39 | 3 | 3 | 4 | NA | NA |\n| 5 | 5/1/09   | UK | F | 99 | 2 | 2 | 1 |  2 |  1 |\n\n",
            "text/latex": "A data.frame: 5 × 10\n\\begin{tabular}{llllllllll}\n manager & date & country & gender & age & q1 & q2 & q3 & q4 & q5\\\\\n <dbl> & <chr> & <chr> & <chr> & <dbl> & <dbl> & <dbl> & <dbl> & <dbl> & <dbl>\\\\\n\\hline\n\t 1 & 10/24/08 & US & M & 32 & 5 & 4 & 5 &  5 &  5\\\\\n\t 2 & 10/28/08 & US & F & 45 & 3 & 5 & 2 &  5 &  5\\\\\n\t 3 & 10/1/08  & UK & F & 25 & 3 & 5 & 5 &  5 &  2\\\\\n\t 4 & 10/12/08 & UK & M & 39 & 3 & 3 & 4 & NA & NA\\\\\n\t 5 & 5/1/09   & UK & F & 99 & 2 & 2 & 1 &  2 &  1\\\\\n\\end{tabular}\n",
            "text/plain": [
              "  manager date     country gender age q1 q2 q3 q4 q5\n",
              "1 1       10/24/08 US      M      32  5  4  5   5  5\n",
              "2 2       10/28/08 US      F      45  3  5  2   5  5\n",
              "3 3       10/1/08  UK      F      25  3  5  5   5  2\n",
              "4 4       10/12/08 UK      M      39  3  3  4  NA NA\n",
              "5 5       5/1/09   UK      F      99  2  2  1   2  1"
            ]
          },
          "metadata": {}
        }
      ]
    },
    {
      "cell_type": "markdown",
      "source": [
        "## Создание новых переменных\n",
        "\n",
        "Чаще всего используется операция присваивания:\n",
        "\n",
        "переменная <- выражение\n",
        "\n",
        "* $+$ -  Сложение\n",
        "* $-$ - Вычитание\n",
        "* $*$ - Умножение\n",
        "* $/$ - Деление\n",
        "* ^ или $**$ - Возведение в степень\n",
        "* x%%y -  Деление по модулю (остаток от деления) x на y: 5%%2=1\n",
        "* x%/%y -  Деление нацело x на y: 5%/%2=2"
      ],
      "metadata": {
        "id": "QH1v4n3R_ldz"
      }
    },
    {
      "cell_type": "code",
      "source": [
        "# первый способ\n",
        "leadership$total_score <- leadership$q1 + leadership$q2 + leadership$q3 + leadership$q4 + leadership$q5\n",
        "leadership$mean_score <- (leadership$q1 + leadership$q2 + leadership$q3 + leadership$q4 + leadership$q5)/5\n",
        "leadership"
      ],
      "metadata": {
        "id": "Co15kfh6_lBz",
        "outputId": "b212fa15-8770-43ed-efde-93c0ef9e1cb7",
        "colab": {
          "base_uri": "https://localhost:8080/",
          "height": 255
        }
      },
      "execution_count": 5,
      "outputs": [
        {
          "output_type": "display_data",
          "data": {
            "text/html": [
              "<table class=\"dataframe\">\n",
              "<caption>A data.frame: 5 × 12</caption>\n",
              "<thead>\n",
              "\t<tr><th scope=col>manager</th><th scope=col>date</th><th scope=col>country</th><th scope=col>gender</th><th scope=col>age</th><th scope=col>q1</th><th scope=col>q2</th><th scope=col>q3</th><th scope=col>q4</th><th scope=col>q5</th><th scope=col>total_score</th><th scope=col>mean_score</th></tr>\n",
              "\t<tr><th scope=col>&lt;dbl&gt;</th><th scope=col>&lt;chr&gt;</th><th scope=col>&lt;chr&gt;</th><th scope=col>&lt;chr&gt;</th><th scope=col>&lt;dbl&gt;</th><th scope=col>&lt;dbl&gt;</th><th scope=col>&lt;dbl&gt;</th><th scope=col>&lt;dbl&gt;</th><th scope=col>&lt;dbl&gt;</th><th scope=col>&lt;dbl&gt;</th><th scope=col>&lt;dbl&gt;</th><th scope=col>&lt;dbl&gt;</th></tr>\n",
              "</thead>\n",
              "<tbody>\n",
              "\t<tr><td>1</td><td>10/24/08</td><td>US</td><td>M</td><td>32</td><td>5</td><td>4</td><td>5</td><td> 5</td><td> 5</td><td>24</td><td>4.8</td></tr>\n",
              "\t<tr><td>2</td><td>10/28/08</td><td>US</td><td>F</td><td>45</td><td>3</td><td>5</td><td>2</td><td> 5</td><td> 5</td><td>20</td><td>4.0</td></tr>\n",
              "\t<tr><td>3</td><td>10/1/08 </td><td>UK</td><td>F</td><td>25</td><td>3</td><td>5</td><td>5</td><td> 5</td><td> 2</td><td>20</td><td>4.0</td></tr>\n",
              "\t<tr><td>4</td><td>10/12/08</td><td>UK</td><td>M</td><td>39</td><td>3</td><td>3</td><td>4</td><td>NA</td><td>NA</td><td>NA</td><td> NA</td></tr>\n",
              "\t<tr><td>5</td><td>5/1/09  </td><td>UK</td><td>F</td><td>99</td><td>2</td><td>2</td><td>1</td><td> 2</td><td> 1</td><td> 8</td><td>1.6</td></tr>\n",
              "</tbody>\n",
              "</table>\n"
            ],
            "text/markdown": "\nA data.frame: 5 × 12\n\n| manager &lt;dbl&gt; | date &lt;chr&gt; | country &lt;chr&gt; | gender &lt;chr&gt; | age &lt;dbl&gt; | q1 &lt;dbl&gt; | q2 &lt;dbl&gt; | q3 &lt;dbl&gt; | q4 &lt;dbl&gt; | q5 &lt;dbl&gt; | total_score &lt;dbl&gt; | mean_score &lt;dbl&gt; |\n|---|---|---|---|---|---|---|---|---|---|---|---|\n| 1 | 10/24/08 | US | M | 32 | 5 | 4 | 5 |  5 |  5 | 24 | 4.8 |\n| 2 | 10/28/08 | US | F | 45 | 3 | 5 | 2 |  5 |  5 | 20 | 4.0 |\n| 3 | 10/1/08  | UK | F | 25 | 3 | 5 | 5 |  5 |  2 | 20 | 4.0 |\n| 4 | 10/12/08 | UK | M | 39 | 3 | 3 | 4 | NA | NA | NA |  NA |\n| 5 | 5/1/09   | UK | F | 99 | 2 | 2 | 1 |  2 |  1 |  8 | 1.6 |\n\n",
            "text/latex": "A data.frame: 5 × 12\n\\begin{tabular}{llllllllllll}\n manager & date & country & gender & age & q1 & q2 & q3 & q4 & q5 & total\\_score & mean\\_score\\\\\n <dbl> & <chr> & <chr> & <chr> & <dbl> & <dbl> & <dbl> & <dbl> & <dbl> & <dbl> & <dbl> & <dbl>\\\\\n\\hline\n\t 1 & 10/24/08 & US & M & 32 & 5 & 4 & 5 &  5 &  5 & 24 & 4.8\\\\\n\t 2 & 10/28/08 & US & F & 45 & 3 & 5 & 2 &  5 &  5 & 20 & 4.0\\\\\n\t 3 & 10/1/08  & UK & F & 25 & 3 & 5 & 5 &  5 &  2 & 20 & 4.0\\\\\n\t 4 & 10/12/08 & UK & M & 39 & 3 & 3 & 4 & NA & NA & NA &  NA\\\\\n\t 5 & 5/1/09   & UK & F & 99 & 2 & 2 & 1 &  2 &  1 &  8 & 1.6\\\\\n\\end{tabular}\n",
            "text/plain": [
              "  manager date     country gender age q1 q2 q3 q4 q5 total_score mean_score\n",
              "1 1       10/24/08 US      M      32  5  4  5   5  5 24          4.8       \n",
              "2 2       10/28/08 US      F      45  3  5  2   5  5 20          4.0       \n",
              "3 3       10/1/08  UK      F      25  3  5  5   5  2 20          4.0       \n",
              "4 4       10/12/08 UK      M      39  3  3  4  NA NA NA           NA       \n",
              "5 5       5/1/09   UK      F      99  2  2  1   2  1  8          1.6       "
            ]
          },
          "metadata": {}
        }
      ]
    },
    {
      "cell_type": "code",
      "source": [
        "# второй способ\n",
        "leadership <- transform(leadership,\n",
        "total_score = q1 + q2 + q3 + q4 + q5,\n",
        "mean_score = (q1 + q2 + q3 + q4 + q5)/5)\n",
        "leadership"
      ],
      "metadata": {
        "id": "3BnErCgLBOtc",
        "outputId": "22e5902f-1937-493e-9bb2-40ad8db5a8f6",
        "colab": {
          "base_uri": "https://localhost:8080/",
          "height": 255
        }
      },
      "execution_count": 6,
      "outputs": [
        {
          "output_type": "display_data",
          "data": {
            "text/html": [
              "<table class=\"dataframe\">\n",
              "<caption>A data.frame: 5 × 12</caption>\n",
              "<thead>\n",
              "\t<tr><th scope=col>manager</th><th scope=col>date</th><th scope=col>country</th><th scope=col>gender</th><th scope=col>age</th><th scope=col>q1</th><th scope=col>q2</th><th scope=col>q3</th><th scope=col>q4</th><th scope=col>q5</th><th scope=col>total_score</th><th scope=col>mean_score</th></tr>\n",
              "\t<tr><th scope=col>&lt;dbl&gt;</th><th scope=col>&lt;chr&gt;</th><th scope=col>&lt;chr&gt;</th><th scope=col>&lt;chr&gt;</th><th scope=col>&lt;dbl&gt;</th><th scope=col>&lt;dbl&gt;</th><th scope=col>&lt;dbl&gt;</th><th scope=col>&lt;dbl&gt;</th><th scope=col>&lt;dbl&gt;</th><th scope=col>&lt;dbl&gt;</th><th scope=col>&lt;dbl&gt;</th><th scope=col>&lt;dbl&gt;</th></tr>\n",
              "</thead>\n",
              "<tbody>\n",
              "\t<tr><td>1</td><td>10/24/08</td><td>US</td><td>M</td><td>32</td><td>5</td><td>4</td><td>5</td><td> 5</td><td> 5</td><td>24</td><td>4.8</td></tr>\n",
              "\t<tr><td>2</td><td>10/28/08</td><td>US</td><td>F</td><td>45</td><td>3</td><td>5</td><td>2</td><td> 5</td><td> 5</td><td>20</td><td>4.0</td></tr>\n",
              "\t<tr><td>3</td><td>10/1/08 </td><td>UK</td><td>F</td><td>25</td><td>3</td><td>5</td><td>5</td><td> 5</td><td> 2</td><td>20</td><td>4.0</td></tr>\n",
              "\t<tr><td>4</td><td>10/12/08</td><td>UK</td><td>M</td><td>39</td><td>3</td><td>3</td><td>4</td><td>NA</td><td>NA</td><td>NA</td><td> NA</td></tr>\n",
              "\t<tr><td>5</td><td>5/1/09  </td><td>UK</td><td>F</td><td>99</td><td>2</td><td>2</td><td>1</td><td> 2</td><td> 1</td><td> 8</td><td>1.6</td></tr>\n",
              "</tbody>\n",
              "</table>\n"
            ],
            "text/markdown": "\nA data.frame: 5 × 12\n\n| manager &lt;dbl&gt; | date &lt;chr&gt; | country &lt;chr&gt; | gender &lt;chr&gt; | age &lt;dbl&gt; | q1 &lt;dbl&gt; | q2 &lt;dbl&gt; | q3 &lt;dbl&gt; | q4 &lt;dbl&gt; | q5 &lt;dbl&gt; | total_score &lt;dbl&gt; | mean_score &lt;dbl&gt; |\n|---|---|---|---|---|---|---|---|---|---|---|---|\n| 1 | 10/24/08 | US | M | 32 | 5 | 4 | 5 |  5 |  5 | 24 | 4.8 |\n| 2 | 10/28/08 | US | F | 45 | 3 | 5 | 2 |  5 |  5 | 20 | 4.0 |\n| 3 | 10/1/08  | UK | F | 25 | 3 | 5 | 5 |  5 |  2 | 20 | 4.0 |\n| 4 | 10/12/08 | UK | M | 39 | 3 | 3 | 4 | NA | NA | NA |  NA |\n| 5 | 5/1/09   | UK | F | 99 | 2 | 2 | 1 |  2 |  1 |  8 | 1.6 |\n\n",
            "text/latex": "A data.frame: 5 × 12\n\\begin{tabular}{llllllllllll}\n manager & date & country & gender & age & q1 & q2 & q3 & q4 & q5 & total\\_score & mean\\_score\\\\\n <dbl> & <chr> & <chr> & <chr> & <dbl> & <dbl> & <dbl> & <dbl> & <dbl> & <dbl> & <dbl> & <dbl>\\\\\n\\hline\n\t 1 & 10/24/08 & US & M & 32 & 5 & 4 & 5 &  5 &  5 & 24 & 4.8\\\\\n\t 2 & 10/28/08 & US & F & 45 & 3 & 5 & 2 &  5 &  5 & 20 & 4.0\\\\\n\t 3 & 10/1/08  & UK & F & 25 & 3 & 5 & 5 &  5 &  2 & 20 & 4.0\\\\\n\t 4 & 10/12/08 & UK & M & 39 & 3 & 3 & 4 & NA & NA & NA &  NA\\\\\n\t 5 & 5/1/09   & UK & F & 99 & 2 & 2 & 1 &  2 &  1 &  8 & 1.6\\\\\n\\end{tabular}\n",
            "text/plain": [
              "  manager date     country gender age q1 q2 q3 q4 q5 total_score mean_score\n",
              "1 1       10/24/08 US      M      32  5  4  5   5  5 24          4.8       \n",
              "2 2       10/28/08 US      F      45  3  5  2   5  5 20          4.0       \n",
              "3 3       10/1/08  UK      F      25  3  5  5   5  2 20          4.0       \n",
              "4 4       10/12/08 UK      M      39  3  3  4  NA NA NA           NA       \n",
              "5 5       5/1/09   UK      F      99  2  2  1   2  1  8          1.6       "
            ]
          },
          "metadata": {}
        }
      ]
    },
    {
      "cell_type": "markdown",
      "source": [
        "## Перекодирование переменных\n",
        "Логические переменные:\n",
        "* $<$ - Меньше, чем\n",
        "* $<=$ - Меньше или равно\n",
        "* $>$ - Больше, чем\n",
        "* $>=$ - Больше или равно\n",
        "* $==$ - Точно равно\n",
        "* $!=$ - Не равно\n",
        "* $!x$ - Инверсия x (НЕ x)\n",
        "* $x | y$ - x ИЛИ y\n",
        "* x&y - x И y\n",
        "* $isTRUE(x)$ -Проверяет истинность значения x\n",
        "\n",
        "Задачи:\n",
        "* преобразовать непрерывные данные в категориальные;\n",
        "* заменить ошибочные данные правильными значениями;\n",
        "* создать переменную типа «сдал / не сдал» на основе экзаменационных баллов."
      ],
      "metadata": {
        "id": "pL-QcPE1RjXa"
      }
    },
    {
      "cell_type": "code",
      "source": [
        "leadership$age[leadership$age == 99] <- NA\n",
        "leadership"
      ],
      "metadata": {
        "id": "cXy_KkcKSyvi",
        "outputId": "d0e9799b-ec8c-429a-cd40-54a2b657c7dd",
        "colab": {
          "base_uri": "https://localhost:8080/",
          "height": 255
        }
      },
      "execution_count": 7,
      "outputs": [
        {
          "output_type": "display_data",
          "data": {
            "text/html": [
              "<table class=\"dataframe\">\n",
              "<caption>A data.frame: 5 × 12</caption>\n",
              "<thead>\n",
              "\t<tr><th scope=col>manager</th><th scope=col>date</th><th scope=col>country</th><th scope=col>gender</th><th scope=col>age</th><th scope=col>q1</th><th scope=col>q2</th><th scope=col>q3</th><th scope=col>q4</th><th scope=col>q5</th><th scope=col>total_score</th><th scope=col>mean_score</th></tr>\n",
              "\t<tr><th scope=col>&lt;dbl&gt;</th><th scope=col>&lt;chr&gt;</th><th scope=col>&lt;chr&gt;</th><th scope=col>&lt;chr&gt;</th><th scope=col>&lt;dbl&gt;</th><th scope=col>&lt;dbl&gt;</th><th scope=col>&lt;dbl&gt;</th><th scope=col>&lt;dbl&gt;</th><th scope=col>&lt;dbl&gt;</th><th scope=col>&lt;dbl&gt;</th><th scope=col>&lt;dbl&gt;</th><th scope=col>&lt;dbl&gt;</th></tr>\n",
              "</thead>\n",
              "<tbody>\n",
              "\t<tr><td>1</td><td>10/24/08</td><td>US</td><td>M</td><td>32</td><td>5</td><td>4</td><td>5</td><td> 5</td><td> 5</td><td>24</td><td>4.8</td></tr>\n",
              "\t<tr><td>2</td><td>10/28/08</td><td>US</td><td>F</td><td>45</td><td>3</td><td>5</td><td>2</td><td> 5</td><td> 5</td><td>20</td><td>4.0</td></tr>\n",
              "\t<tr><td>3</td><td>10/1/08 </td><td>UK</td><td>F</td><td>25</td><td>3</td><td>5</td><td>5</td><td> 5</td><td> 2</td><td>20</td><td>4.0</td></tr>\n",
              "\t<tr><td>4</td><td>10/12/08</td><td>UK</td><td>M</td><td>39</td><td>3</td><td>3</td><td>4</td><td>NA</td><td>NA</td><td>NA</td><td> NA</td></tr>\n",
              "\t<tr><td>5</td><td>5/1/09  </td><td>UK</td><td>F</td><td>NA</td><td>2</td><td>2</td><td>1</td><td> 2</td><td> 1</td><td> 8</td><td>1.6</td></tr>\n",
              "</tbody>\n",
              "</table>\n"
            ],
            "text/markdown": "\nA data.frame: 5 × 12\n\n| manager &lt;dbl&gt; | date &lt;chr&gt; | country &lt;chr&gt; | gender &lt;chr&gt; | age &lt;dbl&gt; | q1 &lt;dbl&gt; | q2 &lt;dbl&gt; | q3 &lt;dbl&gt; | q4 &lt;dbl&gt; | q5 &lt;dbl&gt; | total_score &lt;dbl&gt; | mean_score &lt;dbl&gt; |\n|---|---|---|---|---|---|---|---|---|---|---|---|\n| 1 | 10/24/08 | US | M | 32 | 5 | 4 | 5 |  5 |  5 | 24 | 4.8 |\n| 2 | 10/28/08 | US | F | 45 | 3 | 5 | 2 |  5 |  5 | 20 | 4.0 |\n| 3 | 10/1/08  | UK | F | 25 | 3 | 5 | 5 |  5 |  2 | 20 | 4.0 |\n| 4 | 10/12/08 | UK | M | 39 | 3 | 3 | 4 | NA | NA | NA |  NA |\n| 5 | 5/1/09   | UK | F | NA | 2 | 2 | 1 |  2 |  1 |  8 | 1.6 |\n\n",
            "text/latex": "A data.frame: 5 × 12\n\\begin{tabular}{llllllllllll}\n manager & date & country & gender & age & q1 & q2 & q3 & q4 & q5 & total\\_score & mean\\_score\\\\\n <dbl> & <chr> & <chr> & <chr> & <dbl> & <dbl> & <dbl> & <dbl> & <dbl> & <dbl> & <dbl> & <dbl>\\\\\n\\hline\n\t 1 & 10/24/08 & US & M & 32 & 5 & 4 & 5 &  5 &  5 & 24 & 4.8\\\\\n\t 2 & 10/28/08 & US & F & 45 & 3 & 5 & 2 &  5 &  5 & 20 & 4.0\\\\\n\t 3 & 10/1/08  & UK & F & 25 & 3 & 5 & 5 &  5 &  2 & 20 & 4.0\\\\\n\t 4 & 10/12/08 & UK & M & 39 & 3 & 3 & 4 & NA & NA & NA &  NA\\\\\n\t 5 & 5/1/09   & UK & F & NA & 2 & 2 & 1 &  2 &  1 &  8 & 1.6\\\\\n\\end{tabular}\n",
            "text/plain": [
              "  manager date     country gender age q1 q2 q3 q4 q5 total_score mean_score\n",
              "1 1       10/24/08 US      M      32  5  4  5   5  5 24          4.8       \n",
              "2 2       10/28/08 US      F      45  3  5  2   5  5 20          4.0       \n",
              "3 3       10/1/08  UK      F      25  3  5  5   5  2 20          4.0       \n",
              "4 4       10/12/08 UK      M      39  3  3  4  NA NA NA           NA       \n",
              "5 5       5/1/09   UK      F      NA  2  2  1   2  1  8          1.6       "
            ]
          },
          "metadata": {}
        }
      ]
    },
    {
      "cell_type": "code",
      "source": [
        "#  используется функция within, она похожа на with, но позволяет модифицировать таблицу\n",
        "leadership <- within(leadership,{\n",
        "  agecat <- NA\n",
        "  agecat[age > 75] <- \"Elder\"\n",
        "  agecat[age >= 55 & age <= 75] <- \"Middle Aged\"\n",
        "  agecat[age < 55] <- \"Young\"\n",
        "  })\n",
        "leadership\n",
        "# дополнительные функции перекодирования recode() - в пакете car, recodeVar() - в пакете doBy, cut() - R"
      ],
      "metadata": {
        "id": "7IfBnrltUQqV",
        "outputId": "356916bd-162d-41af-9745-0b4d11a92bf2",
        "colab": {
          "base_uri": "https://localhost:8080/",
          "height": 255
        }
      },
      "execution_count": 8,
      "outputs": [
        {
          "output_type": "display_data",
          "data": {
            "text/html": [
              "<table class=\"dataframe\">\n",
              "<caption>A data.frame: 5 × 13</caption>\n",
              "<thead>\n",
              "\t<tr><th scope=col>manager</th><th scope=col>date</th><th scope=col>country</th><th scope=col>gender</th><th scope=col>age</th><th scope=col>q1</th><th scope=col>q2</th><th scope=col>q3</th><th scope=col>q4</th><th scope=col>q5</th><th scope=col>total_score</th><th scope=col>mean_score</th><th scope=col>agecat</th></tr>\n",
              "\t<tr><th scope=col>&lt;dbl&gt;</th><th scope=col>&lt;chr&gt;</th><th scope=col>&lt;chr&gt;</th><th scope=col>&lt;chr&gt;</th><th scope=col>&lt;dbl&gt;</th><th scope=col>&lt;dbl&gt;</th><th scope=col>&lt;dbl&gt;</th><th scope=col>&lt;dbl&gt;</th><th scope=col>&lt;dbl&gt;</th><th scope=col>&lt;dbl&gt;</th><th scope=col>&lt;dbl&gt;</th><th scope=col>&lt;dbl&gt;</th><th scope=col>&lt;chr&gt;</th></tr>\n",
              "</thead>\n",
              "<tbody>\n",
              "\t<tr><td>1</td><td>10/24/08</td><td>US</td><td>M</td><td>32</td><td>5</td><td>4</td><td>5</td><td> 5</td><td> 5</td><td>24</td><td>4.8</td><td>Young</td></tr>\n",
              "\t<tr><td>2</td><td>10/28/08</td><td>US</td><td>F</td><td>45</td><td>3</td><td>5</td><td>2</td><td> 5</td><td> 5</td><td>20</td><td>4.0</td><td>Young</td></tr>\n",
              "\t<tr><td>3</td><td>10/1/08 </td><td>UK</td><td>F</td><td>25</td><td>3</td><td>5</td><td>5</td><td> 5</td><td> 2</td><td>20</td><td>4.0</td><td>Young</td></tr>\n",
              "\t<tr><td>4</td><td>10/12/08</td><td>UK</td><td>M</td><td>39</td><td>3</td><td>3</td><td>4</td><td>NA</td><td>NA</td><td>NA</td><td> NA</td><td>Young</td></tr>\n",
              "\t<tr><td>5</td><td>5/1/09  </td><td>UK</td><td>F</td><td>NA</td><td>2</td><td>2</td><td>1</td><td> 2</td><td> 1</td><td> 8</td><td>1.6</td><td>NA   </td></tr>\n",
              "</tbody>\n",
              "</table>\n"
            ],
            "text/markdown": "\nA data.frame: 5 × 13\n\n| manager &lt;dbl&gt; | date &lt;chr&gt; | country &lt;chr&gt; | gender &lt;chr&gt; | age &lt;dbl&gt; | q1 &lt;dbl&gt; | q2 &lt;dbl&gt; | q3 &lt;dbl&gt; | q4 &lt;dbl&gt; | q5 &lt;dbl&gt; | total_score &lt;dbl&gt; | mean_score &lt;dbl&gt; | agecat &lt;chr&gt; |\n|---|---|---|---|---|---|---|---|---|---|---|---|---|\n| 1 | 10/24/08 | US | M | 32 | 5 | 4 | 5 |  5 |  5 | 24 | 4.8 | Young |\n| 2 | 10/28/08 | US | F | 45 | 3 | 5 | 2 |  5 |  5 | 20 | 4.0 | Young |\n| 3 | 10/1/08  | UK | F | 25 | 3 | 5 | 5 |  5 |  2 | 20 | 4.0 | Young |\n| 4 | 10/12/08 | UK | M | 39 | 3 | 3 | 4 | NA | NA | NA |  NA | Young |\n| 5 | 5/1/09   | UK | F | NA | 2 | 2 | 1 |  2 |  1 |  8 | 1.6 | NA    |\n\n",
            "text/latex": "A data.frame: 5 × 13\n\\begin{tabular}{lllllllllllll}\n manager & date & country & gender & age & q1 & q2 & q3 & q4 & q5 & total\\_score & mean\\_score & agecat\\\\\n <dbl> & <chr> & <chr> & <chr> & <dbl> & <dbl> & <dbl> & <dbl> & <dbl> & <dbl> & <dbl> & <dbl> & <chr>\\\\\n\\hline\n\t 1 & 10/24/08 & US & M & 32 & 5 & 4 & 5 &  5 &  5 & 24 & 4.8 & Young\\\\\n\t 2 & 10/28/08 & US & F & 45 & 3 & 5 & 2 &  5 &  5 & 20 & 4.0 & Young\\\\\n\t 3 & 10/1/08  & UK & F & 25 & 3 & 5 & 5 &  5 &  2 & 20 & 4.0 & Young\\\\\n\t 4 & 10/12/08 & UK & M & 39 & 3 & 3 & 4 & NA & NA & NA &  NA & Young\\\\\n\t 5 & 5/1/09   & UK & F & NA & 2 & 2 & 1 &  2 &  1 &  8 & 1.6 & NA   \\\\\n\\end{tabular}\n",
            "text/plain": [
              "  manager date     country gender age q1 q2 q3 q4 q5 total_score mean_score\n",
              "1 1       10/24/08 US      M      32  5  4  5   5  5 24          4.8       \n",
              "2 2       10/28/08 US      F      45  3  5  2   5  5 20          4.0       \n",
              "3 3       10/1/08  UK      F      25  3  5  5   5  2 20          4.0       \n",
              "4 4       10/12/08 UK      M      39  3  3  4  NA NA NA           NA       \n",
              "5 5       5/1/09   UK      F      NA  2  2  1   2  1  8          1.6       \n",
              "  agecat\n",
              "1 Young \n",
              "2 Young \n",
              "3 Young \n",
              "4 Young \n",
              "5 NA    "
            ]
          },
          "metadata": {}
        }
      ]
    },
    {
      "cell_type": "markdown",
      "source": [
        "## Переименование переменных (столбцов)\n",
        "\n",
        "$fix(leadership)$ - откроет интерактивный редактор\n",
        "\n",
        "или\n",
        "\n",
        "$names(leadership)[2] <- \"testDate\"$"
      ],
      "metadata": {
        "id": "DX6yd3vYxoxu"
      }
    },
    {
      "cell_type": "code",
      "source": [
        "names(leadership)\n",
        "names(leadership)[2] <- \"testDate\"\n",
        "leadership"
      ],
      "metadata": {
        "id": "F8hZ4eOLxX_j",
        "outputId": "f13fede4-bde9-48cf-b4c8-25fa3cc6e98b",
        "colab": {
          "base_uri": "https://localhost:8080/",
          "height": 272
        }
      },
      "execution_count": 9,
      "outputs": [
        {
          "output_type": "display_data",
          "data": {
            "text/html": [
              "<style>\n",
              ".list-inline {list-style: none; margin:0; padding: 0}\n",
              ".list-inline>li {display: inline-block}\n",
              ".list-inline>li:not(:last-child)::after {content: \"\\00b7\"; padding: 0 .5ex}\n",
              "</style>\n",
              "<ol class=list-inline><li>'manager'</li><li>'date'</li><li>'country'</li><li>'gender'</li><li>'age'</li><li>'q1'</li><li>'q2'</li><li>'q3'</li><li>'q4'</li><li>'q5'</li><li>'total_score'</li><li>'mean_score'</li><li>'agecat'</li></ol>\n"
            ],
            "text/markdown": "1. 'manager'\n2. 'date'\n3. 'country'\n4. 'gender'\n5. 'age'\n6. 'q1'\n7. 'q2'\n8. 'q3'\n9. 'q4'\n10. 'q5'\n11. 'total_score'\n12. 'mean_score'\n13. 'agecat'\n\n\n",
            "text/latex": "\\begin{enumerate*}\n\\item 'manager'\n\\item 'date'\n\\item 'country'\n\\item 'gender'\n\\item 'age'\n\\item 'q1'\n\\item 'q2'\n\\item 'q3'\n\\item 'q4'\n\\item 'q5'\n\\item 'total\\_score'\n\\item 'mean\\_score'\n\\item 'agecat'\n\\end{enumerate*}\n",
            "text/plain": [
              " [1] \"manager\"     \"date\"        \"country\"     \"gender\"      \"age\"        \n",
              " [6] \"q1\"          \"q2\"          \"q3\"          \"q4\"          \"q5\"         \n",
              "[11] \"total_score\" \"mean_score\"  \"agecat\"     "
            ]
          },
          "metadata": {}
        },
        {
          "output_type": "display_data",
          "data": {
            "text/html": [
              "<table class=\"dataframe\">\n",
              "<caption>A data.frame: 5 × 13</caption>\n",
              "<thead>\n",
              "\t<tr><th scope=col>manager</th><th scope=col>testDate</th><th scope=col>country</th><th scope=col>gender</th><th scope=col>age</th><th scope=col>q1</th><th scope=col>q2</th><th scope=col>q3</th><th scope=col>q4</th><th scope=col>q5</th><th scope=col>total_score</th><th scope=col>mean_score</th><th scope=col>agecat</th></tr>\n",
              "\t<tr><th scope=col>&lt;dbl&gt;</th><th scope=col>&lt;chr&gt;</th><th scope=col>&lt;chr&gt;</th><th scope=col>&lt;chr&gt;</th><th scope=col>&lt;dbl&gt;</th><th scope=col>&lt;dbl&gt;</th><th scope=col>&lt;dbl&gt;</th><th scope=col>&lt;dbl&gt;</th><th scope=col>&lt;dbl&gt;</th><th scope=col>&lt;dbl&gt;</th><th scope=col>&lt;dbl&gt;</th><th scope=col>&lt;dbl&gt;</th><th scope=col>&lt;chr&gt;</th></tr>\n",
              "</thead>\n",
              "<tbody>\n",
              "\t<tr><td>1</td><td>10/24/08</td><td>US</td><td>M</td><td>32</td><td>5</td><td>4</td><td>5</td><td> 5</td><td> 5</td><td>24</td><td>4.8</td><td>Young</td></tr>\n",
              "\t<tr><td>2</td><td>10/28/08</td><td>US</td><td>F</td><td>45</td><td>3</td><td>5</td><td>2</td><td> 5</td><td> 5</td><td>20</td><td>4.0</td><td>Young</td></tr>\n",
              "\t<tr><td>3</td><td>10/1/08 </td><td>UK</td><td>F</td><td>25</td><td>3</td><td>5</td><td>5</td><td> 5</td><td> 2</td><td>20</td><td>4.0</td><td>Young</td></tr>\n",
              "\t<tr><td>4</td><td>10/12/08</td><td>UK</td><td>M</td><td>39</td><td>3</td><td>3</td><td>4</td><td>NA</td><td>NA</td><td>NA</td><td> NA</td><td>Young</td></tr>\n",
              "\t<tr><td>5</td><td>5/1/09  </td><td>UK</td><td>F</td><td>NA</td><td>2</td><td>2</td><td>1</td><td> 2</td><td> 1</td><td> 8</td><td>1.6</td><td>NA   </td></tr>\n",
              "</tbody>\n",
              "</table>\n"
            ],
            "text/markdown": "\nA data.frame: 5 × 13\n\n| manager &lt;dbl&gt; | testDate &lt;chr&gt; | country &lt;chr&gt; | gender &lt;chr&gt; | age &lt;dbl&gt; | q1 &lt;dbl&gt; | q2 &lt;dbl&gt; | q3 &lt;dbl&gt; | q4 &lt;dbl&gt; | q5 &lt;dbl&gt; | total_score &lt;dbl&gt; | mean_score &lt;dbl&gt; | agecat &lt;chr&gt; |\n|---|---|---|---|---|---|---|---|---|---|---|---|---|\n| 1 | 10/24/08 | US | M | 32 | 5 | 4 | 5 |  5 |  5 | 24 | 4.8 | Young |\n| 2 | 10/28/08 | US | F | 45 | 3 | 5 | 2 |  5 |  5 | 20 | 4.0 | Young |\n| 3 | 10/1/08  | UK | F | 25 | 3 | 5 | 5 |  5 |  2 | 20 | 4.0 | Young |\n| 4 | 10/12/08 | UK | M | 39 | 3 | 3 | 4 | NA | NA | NA |  NA | Young |\n| 5 | 5/1/09   | UK | F | NA | 2 | 2 | 1 |  2 |  1 |  8 | 1.6 | NA    |\n\n",
            "text/latex": "A data.frame: 5 × 13\n\\begin{tabular}{lllllllllllll}\n manager & testDate & country & gender & age & q1 & q2 & q3 & q4 & q5 & total\\_score & mean\\_score & agecat\\\\\n <dbl> & <chr> & <chr> & <chr> & <dbl> & <dbl> & <dbl> & <dbl> & <dbl> & <dbl> & <dbl> & <dbl> & <chr>\\\\\n\\hline\n\t 1 & 10/24/08 & US & M & 32 & 5 & 4 & 5 &  5 &  5 & 24 & 4.8 & Young\\\\\n\t 2 & 10/28/08 & US & F & 45 & 3 & 5 & 2 &  5 &  5 & 20 & 4.0 & Young\\\\\n\t 3 & 10/1/08  & UK & F & 25 & 3 & 5 & 5 &  5 &  2 & 20 & 4.0 & Young\\\\\n\t 4 & 10/12/08 & UK & M & 39 & 3 & 3 & 4 & NA & NA & NA &  NA & Young\\\\\n\t 5 & 5/1/09   & UK & F & NA & 2 & 2 & 1 &  2 &  1 &  8 & 1.6 & NA   \\\\\n\\end{tabular}\n",
            "text/plain": [
              "  manager testDate country gender age q1 q2 q3 q4 q5 total_score mean_score\n",
              "1 1       10/24/08 US      M      32  5  4  5   5  5 24          4.8       \n",
              "2 2       10/28/08 US      F      45  3  5  2   5  5 20          4.0       \n",
              "3 3       10/1/08  UK      F      25  3  5  5   5  2 20          4.0       \n",
              "4 4       10/12/08 UK      M      39  3  3  4  NA NA NA           NA       \n",
              "5 5       5/1/09   UK      F      NA  2  2  1   2  1  8          1.6       \n",
              "  agecat\n",
              "1 Young \n",
              "2 Young \n",
              "3 Young \n",
              "4 Young \n",
              "5 NA    "
            ]
          },
          "metadata": {}
        }
      ]
    },
    {
      "cell_type": "code",
      "source": [
        "names(leadership)[6:10] <- c(\"item1\", \"item2\", \"item3\", \"item4\", \"item5\")\n",
        "leadership"
      ],
      "metadata": {
        "id": "DExZIlhXycSE",
        "outputId": "6c9a70b4-0136-4709-d7a6-924d8fb380b0",
        "colab": {
          "base_uri": "https://localhost:8080/",
          "height": 255
        }
      },
      "execution_count": 10,
      "outputs": [
        {
          "output_type": "display_data",
          "data": {
            "text/html": [
              "<table class=\"dataframe\">\n",
              "<caption>A data.frame: 5 × 13</caption>\n",
              "<thead>\n",
              "\t<tr><th scope=col>manager</th><th scope=col>testDate</th><th scope=col>country</th><th scope=col>gender</th><th scope=col>age</th><th scope=col>item1</th><th scope=col>item2</th><th scope=col>item3</th><th scope=col>item4</th><th scope=col>item5</th><th scope=col>total_score</th><th scope=col>mean_score</th><th scope=col>agecat</th></tr>\n",
              "\t<tr><th scope=col>&lt;dbl&gt;</th><th scope=col>&lt;chr&gt;</th><th scope=col>&lt;chr&gt;</th><th scope=col>&lt;chr&gt;</th><th scope=col>&lt;dbl&gt;</th><th scope=col>&lt;dbl&gt;</th><th scope=col>&lt;dbl&gt;</th><th scope=col>&lt;dbl&gt;</th><th scope=col>&lt;dbl&gt;</th><th scope=col>&lt;dbl&gt;</th><th scope=col>&lt;dbl&gt;</th><th scope=col>&lt;dbl&gt;</th><th scope=col>&lt;chr&gt;</th></tr>\n",
              "</thead>\n",
              "<tbody>\n",
              "\t<tr><td>1</td><td>10/24/08</td><td>US</td><td>M</td><td>32</td><td>5</td><td>4</td><td>5</td><td> 5</td><td> 5</td><td>24</td><td>4.8</td><td>Young</td></tr>\n",
              "\t<tr><td>2</td><td>10/28/08</td><td>US</td><td>F</td><td>45</td><td>3</td><td>5</td><td>2</td><td> 5</td><td> 5</td><td>20</td><td>4.0</td><td>Young</td></tr>\n",
              "\t<tr><td>3</td><td>10/1/08 </td><td>UK</td><td>F</td><td>25</td><td>3</td><td>5</td><td>5</td><td> 5</td><td> 2</td><td>20</td><td>4.0</td><td>Young</td></tr>\n",
              "\t<tr><td>4</td><td>10/12/08</td><td>UK</td><td>M</td><td>39</td><td>3</td><td>3</td><td>4</td><td>NA</td><td>NA</td><td>NA</td><td> NA</td><td>Young</td></tr>\n",
              "\t<tr><td>5</td><td>5/1/09  </td><td>UK</td><td>F</td><td>NA</td><td>2</td><td>2</td><td>1</td><td> 2</td><td> 1</td><td> 8</td><td>1.6</td><td>NA   </td></tr>\n",
              "</tbody>\n",
              "</table>\n"
            ],
            "text/markdown": "\nA data.frame: 5 × 13\n\n| manager &lt;dbl&gt; | testDate &lt;chr&gt; | country &lt;chr&gt; | gender &lt;chr&gt; | age &lt;dbl&gt; | item1 &lt;dbl&gt; | item2 &lt;dbl&gt; | item3 &lt;dbl&gt; | item4 &lt;dbl&gt; | item5 &lt;dbl&gt; | total_score &lt;dbl&gt; | mean_score &lt;dbl&gt; | agecat &lt;chr&gt; |\n|---|---|---|---|---|---|---|---|---|---|---|---|---|\n| 1 | 10/24/08 | US | M | 32 | 5 | 4 | 5 |  5 |  5 | 24 | 4.8 | Young |\n| 2 | 10/28/08 | US | F | 45 | 3 | 5 | 2 |  5 |  5 | 20 | 4.0 | Young |\n| 3 | 10/1/08  | UK | F | 25 | 3 | 5 | 5 |  5 |  2 | 20 | 4.0 | Young |\n| 4 | 10/12/08 | UK | M | 39 | 3 | 3 | 4 | NA | NA | NA |  NA | Young |\n| 5 | 5/1/09   | UK | F | NA | 2 | 2 | 1 |  2 |  1 |  8 | 1.6 | NA    |\n\n",
            "text/latex": "A data.frame: 5 × 13\n\\begin{tabular}{lllllllllllll}\n manager & testDate & country & gender & age & item1 & item2 & item3 & item4 & item5 & total\\_score & mean\\_score & agecat\\\\\n <dbl> & <chr> & <chr> & <chr> & <dbl> & <dbl> & <dbl> & <dbl> & <dbl> & <dbl> & <dbl> & <dbl> & <chr>\\\\\n\\hline\n\t 1 & 10/24/08 & US & M & 32 & 5 & 4 & 5 &  5 &  5 & 24 & 4.8 & Young\\\\\n\t 2 & 10/28/08 & US & F & 45 & 3 & 5 & 2 &  5 &  5 & 20 & 4.0 & Young\\\\\n\t 3 & 10/1/08  & UK & F & 25 & 3 & 5 & 5 &  5 &  2 & 20 & 4.0 & Young\\\\\n\t 4 & 10/12/08 & UK & M & 39 & 3 & 3 & 4 & NA & NA & NA &  NA & Young\\\\\n\t 5 & 5/1/09   & UK & F & NA & 2 & 2 & 1 &  2 &  1 &  8 & 1.6 & NA   \\\\\n\\end{tabular}\n",
            "text/plain": [
              "  manager testDate country gender age item1 item2 item3 item4 item5 total_score\n",
              "1 1       10/24/08 US      M      32  5     4     5      5     5    24         \n",
              "2 2       10/28/08 US      F      45  3     5     2      5     5    20         \n",
              "3 3       10/1/08  UK      F      25  3     5     5      5     2    20         \n",
              "4 4       10/12/08 UK      M      39  3     3     4     NA    NA    NA         \n",
              "5 5       5/1/09   UK      F      NA  2     2     1      2     1     8         \n",
              "  mean_score agecat\n",
              "1 4.8        Young \n",
              "2 4.0        Young \n",
              "3 4.0        Young \n",
              "4  NA        Young \n",
              "5 1.6        NA    "
            ]
          },
          "metadata": {}
        }
      ]
    },
    {
      "cell_type": "markdown",
      "source": [
        "## Пропущенные значения\n",
        "\n",
        "Функция $is.na()$:\n",
        "\n",
        "\\>y <- c(1, 2, 3, NA)\n",
        "\n",
        "\\>is.na(y)\n",
        "\n",
        "Результат:\n",
        "\n",
        "c(FALSE, FALSE, FALSE, TRUE)\n",
        "\n",
        "Функция $is.infinite()$ - положительная и отрицательная бесконечности\n",
        "\n"
      ],
      "metadata": {
        "id": "vIn79DrEyNVi"
      }
    },
    {
      "cell_type": "code",
      "source": [
        "is.na(leadership[,6:10])"
      ],
      "metadata": {
        "id": "Ngp4JStFHBTO",
        "outputId": "45bc8849-bdc1-4d30-f7d5-f8912911738e",
        "colab": {
          "base_uri": "https://localhost:8080/",
          "height": 223
        }
      },
      "execution_count": 11,
      "outputs": [
        {
          "output_type": "display_data",
          "data": {
            "text/html": [
              "<table class=\"dataframe\">\n",
              "<caption>A matrix: 5 × 5 of type lgl</caption>\n",
              "<thead>\n",
              "\t<tr><th scope=col>item1</th><th scope=col>item2</th><th scope=col>item3</th><th scope=col>item4</th><th scope=col>item5</th></tr>\n",
              "</thead>\n",
              "<tbody>\n",
              "\t<tr><td>FALSE</td><td>FALSE</td><td>FALSE</td><td>FALSE</td><td>FALSE</td></tr>\n",
              "\t<tr><td>FALSE</td><td>FALSE</td><td>FALSE</td><td>FALSE</td><td>FALSE</td></tr>\n",
              "\t<tr><td>FALSE</td><td>FALSE</td><td>FALSE</td><td>FALSE</td><td>FALSE</td></tr>\n",
              "\t<tr><td>FALSE</td><td>FALSE</td><td>FALSE</td><td> TRUE</td><td> TRUE</td></tr>\n",
              "\t<tr><td>FALSE</td><td>FALSE</td><td>FALSE</td><td>FALSE</td><td>FALSE</td></tr>\n",
              "</tbody>\n",
              "</table>\n"
            ],
            "text/markdown": "\nA matrix: 5 × 5 of type lgl\n\n| item1 | item2 | item3 | item4 | item5 |\n|---|---|---|---|---|\n| FALSE | FALSE | FALSE | FALSE | FALSE |\n| FALSE | FALSE | FALSE | FALSE | FALSE |\n| FALSE | FALSE | FALSE | FALSE | FALSE |\n| FALSE | FALSE | FALSE |  TRUE |  TRUE |\n| FALSE | FALSE | FALSE | FALSE | FALSE |\n\n",
            "text/latex": "A matrix: 5 × 5 of type lgl\n\\begin{tabular}{lllll}\n item1 & item2 & item3 & item4 & item5\\\\\n\\hline\n\t FALSE & FALSE & FALSE & FALSE & FALSE\\\\\n\t FALSE & FALSE & FALSE & FALSE & FALSE\\\\\n\t FALSE & FALSE & FALSE & FALSE & FALSE\\\\\n\t FALSE & FALSE & FALSE &  TRUE &  TRUE\\\\\n\t FALSE & FALSE & FALSE & FALSE & FALSE\\\\\n\\end{tabular}\n",
            "text/plain": [
              "     item1 item2 item3 item4 item5\n",
              "[1,] FALSE FALSE FALSE FALSE FALSE\n",
              "[2,] FALSE FALSE FALSE FALSE FALSE\n",
              "[3,] FALSE FALSE FALSE FALSE FALSE\n",
              "[4,] FALSE FALSE FALSE  TRUE  TRUE\n",
              "[5,] FALSE FALSE FALSE FALSE FALSE"
            ]
          },
          "metadata": {}
        }
      ]
    },
    {
      "cell_type": "code",
      "source": [
        "is.na(leadership[,])"
      ],
      "metadata": {
        "id": "nlNYPD1lHViF",
        "outputId": "a656fe34-a4a9-4d45-96f4-33f990593a98",
        "colab": {
          "base_uri": "https://localhost:8080/",
          "height": 223
        }
      },
      "execution_count": 12,
      "outputs": [
        {
          "output_type": "display_data",
          "data": {
            "text/html": [
              "<table class=\"dataframe\">\n",
              "<caption>A matrix: 5 × 13 of type lgl</caption>\n",
              "<thead>\n",
              "\t<tr><th scope=col>manager</th><th scope=col>testDate</th><th scope=col>country</th><th scope=col>gender</th><th scope=col>age</th><th scope=col>item1</th><th scope=col>item2</th><th scope=col>item3</th><th scope=col>item4</th><th scope=col>item5</th><th scope=col>total_score</th><th scope=col>mean_score</th><th scope=col>agecat</th></tr>\n",
              "</thead>\n",
              "<tbody>\n",
              "\t<tr><td>FALSE</td><td>FALSE</td><td>FALSE</td><td>FALSE</td><td>FALSE</td><td>FALSE</td><td>FALSE</td><td>FALSE</td><td>FALSE</td><td>FALSE</td><td>FALSE</td><td>FALSE</td><td>FALSE</td></tr>\n",
              "\t<tr><td>FALSE</td><td>FALSE</td><td>FALSE</td><td>FALSE</td><td>FALSE</td><td>FALSE</td><td>FALSE</td><td>FALSE</td><td>FALSE</td><td>FALSE</td><td>FALSE</td><td>FALSE</td><td>FALSE</td></tr>\n",
              "\t<tr><td>FALSE</td><td>FALSE</td><td>FALSE</td><td>FALSE</td><td>FALSE</td><td>FALSE</td><td>FALSE</td><td>FALSE</td><td>FALSE</td><td>FALSE</td><td>FALSE</td><td>FALSE</td><td>FALSE</td></tr>\n",
              "\t<tr><td>FALSE</td><td>FALSE</td><td>FALSE</td><td>FALSE</td><td>FALSE</td><td>FALSE</td><td>FALSE</td><td>FALSE</td><td> TRUE</td><td> TRUE</td><td> TRUE</td><td> TRUE</td><td>FALSE</td></tr>\n",
              "\t<tr><td>FALSE</td><td>FALSE</td><td>FALSE</td><td>FALSE</td><td> TRUE</td><td>FALSE</td><td>FALSE</td><td>FALSE</td><td>FALSE</td><td>FALSE</td><td>FALSE</td><td>FALSE</td><td> TRUE</td></tr>\n",
              "</tbody>\n",
              "</table>\n"
            ],
            "text/markdown": "\nA matrix: 5 × 13 of type lgl\n\n| manager | testDate | country | gender | age | item1 | item2 | item3 | item4 | item5 | total_score | mean_score | agecat |\n|---|---|---|---|---|---|---|---|---|---|---|---|---|\n| FALSE | FALSE | FALSE | FALSE | FALSE | FALSE | FALSE | FALSE | FALSE | FALSE | FALSE | FALSE | FALSE |\n| FALSE | FALSE | FALSE | FALSE | FALSE | FALSE | FALSE | FALSE | FALSE | FALSE | FALSE | FALSE | FALSE |\n| FALSE | FALSE | FALSE | FALSE | FALSE | FALSE | FALSE | FALSE | FALSE | FALSE | FALSE | FALSE | FALSE |\n| FALSE | FALSE | FALSE | FALSE | FALSE | FALSE | FALSE | FALSE |  TRUE |  TRUE |  TRUE |  TRUE | FALSE |\n| FALSE | FALSE | FALSE | FALSE |  TRUE | FALSE | FALSE | FALSE | FALSE | FALSE | FALSE | FALSE |  TRUE |\n\n",
            "text/latex": "A matrix: 5 × 13 of type lgl\n\\begin{tabular}{lllllllllllll}\n manager & testDate & country & gender & age & item1 & item2 & item3 & item4 & item5 & total\\_score & mean\\_score & agecat\\\\\n\\hline\n\t FALSE & FALSE & FALSE & FALSE & FALSE & FALSE & FALSE & FALSE & FALSE & FALSE & FALSE & FALSE & FALSE\\\\\n\t FALSE & FALSE & FALSE & FALSE & FALSE & FALSE & FALSE & FALSE & FALSE & FALSE & FALSE & FALSE & FALSE\\\\\n\t FALSE & FALSE & FALSE & FALSE & FALSE & FALSE & FALSE & FALSE & FALSE & FALSE & FALSE & FALSE & FALSE\\\\\n\t FALSE & FALSE & FALSE & FALSE & FALSE & FALSE & FALSE & FALSE &  TRUE &  TRUE &  TRUE &  TRUE & FALSE\\\\\n\t FALSE & FALSE & FALSE & FALSE &  TRUE & FALSE & FALSE & FALSE & FALSE & FALSE & FALSE & FALSE &  TRUE\\\\\n\\end{tabular}\n",
            "text/plain": [
              "     manager testDate country gender age   item1 item2 item3 item4 item5\n",
              "[1,] FALSE   FALSE    FALSE   FALSE  FALSE FALSE FALSE FALSE FALSE FALSE\n",
              "[2,] FALSE   FALSE    FALSE   FALSE  FALSE FALSE FALSE FALSE FALSE FALSE\n",
              "[3,] FALSE   FALSE    FALSE   FALSE  FALSE FALSE FALSE FALSE FALSE FALSE\n",
              "[4,] FALSE   FALSE    FALSE   FALSE  FALSE FALSE FALSE FALSE  TRUE  TRUE\n",
              "[5,] FALSE   FALSE    FALSE   FALSE   TRUE FALSE FALSE FALSE FALSE FALSE\n",
              "     total_score mean_score agecat\n",
              "[1,] FALSE       FALSE      FALSE \n",
              "[2,] FALSE       FALSE      FALSE \n",
              "[3,] FALSE       FALSE      FALSE \n",
              "[4,]  TRUE        TRUE      FALSE \n",
              "[5,] FALSE       FALSE       TRUE "
            ]
          },
          "metadata": {}
        }
      ]
    },
    {
      "cell_type": "markdown",
      "source": [
        "### Перекодирование значений в отсутствующие\n",
        "\n",
        "```\n",
        "leadership\\$age[leadership\\$age == 99] <- NA\n",
        "```\n"
      ],
      "metadata": {
        "id": "fSp0Ga-BIIa-"
      }
    },
    {
      "cell_type": "markdown",
      "source": [
        "### Исключение пропущенных значений из анализа\n",
        "\n",
        "```\n",
        "x <- c(1, 2, NA, 3)\n",
        "y <- x[1] + x[2] + x[3] + x[4]\n",
        "z <- sum(x)\n",
        "```\n",
        "Функция `na.omit()` - построчное удаление если есть пропущенные значения.\n"
      ],
      "metadata": {
        "id": "mZiByzUPfRB9"
      }
    },
    {
      "cell_type": "code",
      "source": [
        "x <- c(1, 2, NA, 3)\n",
        "y <- x[1] + x[2] + x[3] + x[4]\n",
        "z <- sum(x)\n",
        "z\n",
        "y\n",
        "x"
      ],
      "metadata": {
        "id": "FRnk6xkQokpk",
        "outputId": "a6d74f1c-2408-48ca-a046-646580c9bc49",
        "colab": {
          "base_uri": "https://localhost:8080/",
          "height": 69
        }
      },
      "execution_count": 13,
      "outputs": [
        {
          "output_type": "display_data",
          "data": {
            "text/html": [
              "&lt;NA&gt;"
            ],
            "text/markdown": "&lt;NA&gt;",
            "text/latex": "<NA>",
            "text/plain": [
              "[1] NA"
            ]
          },
          "metadata": {}
        },
        {
          "output_type": "display_data",
          "data": {
            "text/html": [
              "&lt;NA&gt;"
            ],
            "text/markdown": "&lt;NA&gt;",
            "text/latex": "<NA>",
            "text/plain": [
              "[1] NA"
            ]
          },
          "metadata": {}
        },
        {
          "output_type": "display_data",
          "data": {
            "text/html": [
              "<style>\n",
              ".list-inline {list-style: none; margin:0; padding: 0}\n",
              ".list-inline>li {display: inline-block}\n",
              ".list-inline>li:not(:last-child)::after {content: \"\\00b7\"; padding: 0 .5ex}\n",
              "</style>\n",
              "<ol class=list-inline><li>1</li><li>2</li><li>&lt;NA&gt;</li><li>3</li></ol>\n"
            ],
            "text/markdown": "1. 1\n2. 2\n3. &lt;NA&gt;\n4. 3\n\n\n",
            "text/latex": "\\begin{enumerate*}\n\\item 1\n\\item 2\n\\item <NA>\n\\item 3\n\\end{enumerate*}\n",
            "text/plain": [
              "[1]  1  2 NA  3"
            ]
          },
          "metadata": {}
        }
      ]
    },
    {
      "cell_type": "code",
      "source": [
        "y <- sum (x, na.rm = TRUE)\n",
        "y"
      ],
      "metadata": {
        "id": "U-ioHpPSo2d0",
        "outputId": "a8cede4d-7197-4bd8-eae8-e342624eba23",
        "colab": {
          "base_uri": "https://localhost:8080/",
          "height": 34
        }
      },
      "execution_count": 14,
      "outputs": [
        {
          "output_type": "display_data",
          "data": {
            "text/html": [
              "6"
            ],
            "text/markdown": "6",
            "text/latex": "6",
            "text/plain": [
              "[1] 6"
            ]
          },
          "metadata": {}
        }
      ]
    },
    {
      "cell_type": "code",
      "source": [
        "leadership\n",
        "newdata <- na.omit (leadership)\n",
        "newdata"
      ],
      "metadata": {
        "id": "rpLuI9j_3x-k",
        "outputId": "89933fc8-f373-4733-df4e-bbcf1d1d53bd",
        "colab": {
          "base_uri": "https://localhost:8080/",
          "height": 430
        }
      },
      "execution_count": 15,
      "outputs": [
        {
          "output_type": "display_data",
          "data": {
            "text/html": [
              "<table class=\"dataframe\">\n",
              "<caption>A data.frame: 5 × 13</caption>\n",
              "<thead>\n",
              "\t<tr><th scope=col>manager</th><th scope=col>testDate</th><th scope=col>country</th><th scope=col>gender</th><th scope=col>age</th><th scope=col>item1</th><th scope=col>item2</th><th scope=col>item3</th><th scope=col>item4</th><th scope=col>item5</th><th scope=col>total_score</th><th scope=col>mean_score</th><th scope=col>agecat</th></tr>\n",
              "\t<tr><th scope=col>&lt;dbl&gt;</th><th scope=col>&lt;chr&gt;</th><th scope=col>&lt;chr&gt;</th><th scope=col>&lt;chr&gt;</th><th scope=col>&lt;dbl&gt;</th><th scope=col>&lt;dbl&gt;</th><th scope=col>&lt;dbl&gt;</th><th scope=col>&lt;dbl&gt;</th><th scope=col>&lt;dbl&gt;</th><th scope=col>&lt;dbl&gt;</th><th scope=col>&lt;dbl&gt;</th><th scope=col>&lt;dbl&gt;</th><th scope=col>&lt;chr&gt;</th></tr>\n",
              "</thead>\n",
              "<tbody>\n",
              "\t<tr><td>1</td><td>10/24/08</td><td>US</td><td>M</td><td>32</td><td>5</td><td>4</td><td>5</td><td> 5</td><td> 5</td><td>24</td><td>4.8</td><td>Young</td></tr>\n",
              "\t<tr><td>2</td><td>10/28/08</td><td>US</td><td>F</td><td>45</td><td>3</td><td>5</td><td>2</td><td> 5</td><td> 5</td><td>20</td><td>4.0</td><td>Young</td></tr>\n",
              "\t<tr><td>3</td><td>10/1/08 </td><td>UK</td><td>F</td><td>25</td><td>3</td><td>5</td><td>5</td><td> 5</td><td> 2</td><td>20</td><td>4.0</td><td>Young</td></tr>\n",
              "\t<tr><td>4</td><td>10/12/08</td><td>UK</td><td>M</td><td>39</td><td>3</td><td>3</td><td>4</td><td>NA</td><td>NA</td><td>NA</td><td> NA</td><td>Young</td></tr>\n",
              "\t<tr><td>5</td><td>5/1/09  </td><td>UK</td><td>F</td><td>NA</td><td>2</td><td>2</td><td>1</td><td> 2</td><td> 1</td><td> 8</td><td>1.6</td><td>NA   </td></tr>\n",
              "</tbody>\n",
              "</table>\n"
            ],
            "text/markdown": "\nA data.frame: 5 × 13\n\n| manager &lt;dbl&gt; | testDate &lt;chr&gt; | country &lt;chr&gt; | gender &lt;chr&gt; | age &lt;dbl&gt; | item1 &lt;dbl&gt; | item2 &lt;dbl&gt; | item3 &lt;dbl&gt; | item4 &lt;dbl&gt; | item5 &lt;dbl&gt; | total_score &lt;dbl&gt; | mean_score &lt;dbl&gt; | agecat &lt;chr&gt; |\n|---|---|---|---|---|---|---|---|---|---|---|---|---|\n| 1 | 10/24/08 | US | M | 32 | 5 | 4 | 5 |  5 |  5 | 24 | 4.8 | Young |\n| 2 | 10/28/08 | US | F | 45 | 3 | 5 | 2 |  5 |  5 | 20 | 4.0 | Young |\n| 3 | 10/1/08  | UK | F | 25 | 3 | 5 | 5 |  5 |  2 | 20 | 4.0 | Young |\n| 4 | 10/12/08 | UK | M | 39 | 3 | 3 | 4 | NA | NA | NA |  NA | Young |\n| 5 | 5/1/09   | UK | F | NA | 2 | 2 | 1 |  2 |  1 |  8 | 1.6 | NA    |\n\n",
            "text/latex": "A data.frame: 5 × 13\n\\begin{tabular}{lllllllllllll}\n manager & testDate & country & gender & age & item1 & item2 & item3 & item4 & item5 & total\\_score & mean\\_score & agecat\\\\\n <dbl> & <chr> & <chr> & <chr> & <dbl> & <dbl> & <dbl> & <dbl> & <dbl> & <dbl> & <dbl> & <dbl> & <chr>\\\\\n\\hline\n\t 1 & 10/24/08 & US & M & 32 & 5 & 4 & 5 &  5 &  5 & 24 & 4.8 & Young\\\\\n\t 2 & 10/28/08 & US & F & 45 & 3 & 5 & 2 &  5 &  5 & 20 & 4.0 & Young\\\\\n\t 3 & 10/1/08  & UK & F & 25 & 3 & 5 & 5 &  5 &  2 & 20 & 4.0 & Young\\\\\n\t 4 & 10/12/08 & UK & M & 39 & 3 & 3 & 4 & NA & NA & NA &  NA & Young\\\\\n\t 5 & 5/1/09   & UK & F & NA & 2 & 2 & 1 &  2 &  1 &  8 & 1.6 & NA   \\\\\n\\end{tabular}\n",
            "text/plain": [
              "  manager testDate country gender age item1 item2 item3 item4 item5 total_score\n",
              "1 1       10/24/08 US      M      32  5     4     5      5     5    24         \n",
              "2 2       10/28/08 US      F      45  3     5     2      5     5    20         \n",
              "3 3       10/1/08  UK      F      25  3     5     5      5     2    20         \n",
              "4 4       10/12/08 UK      M      39  3     3     4     NA    NA    NA         \n",
              "5 5       5/1/09   UK      F      NA  2     2     1      2     1     8         \n",
              "  mean_score agecat\n",
              "1 4.8        Young \n",
              "2 4.0        Young \n",
              "3 4.0        Young \n",
              "4  NA        Young \n",
              "5 1.6        NA    "
            ]
          },
          "metadata": {}
        },
        {
          "output_type": "display_data",
          "data": {
            "text/html": [
              "<table class=\"dataframe\">\n",
              "<caption>A data.frame: 3 × 13</caption>\n",
              "<thead>\n",
              "\t<tr><th></th><th scope=col>manager</th><th scope=col>testDate</th><th scope=col>country</th><th scope=col>gender</th><th scope=col>age</th><th scope=col>item1</th><th scope=col>item2</th><th scope=col>item3</th><th scope=col>item4</th><th scope=col>item5</th><th scope=col>total_score</th><th scope=col>mean_score</th><th scope=col>agecat</th></tr>\n",
              "\t<tr><th></th><th scope=col>&lt;dbl&gt;</th><th scope=col>&lt;chr&gt;</th><th scope=col>&lt;chr&gt;</th><th scope=col>&lt;chr&gt;</th><th scope=col>&lt;dbl&gt;</th><th scope=col>&lt;dbl&gt;</th><th scope=col>&lt;dbl&gt;</th><th scope=col>&lt;dbl&gt;</th><th scope=col>&lt;dbl&gt;</th><th scope=col>&lt;dbl&gt;</th><th scope=col>&lt;dbl&gt;</th><th scope=col>&lt;dbl&gt;</th><th scope=col>&lt;chr&gt;</th></tr>\n",
              "</thead>\n",
              "<tbody>\n",
              "\t<tr><th scope=row>1</th><td>1</td><td>10/24/08</td><td>US</td><td>M</td><td>32</td><td>5</td><td>4</td><td>5</td><td>5</td><td>5</td><td>24</td><td>4.8</td><td>Young</td></tr>\n",
              "\t<tr><th scope=row>2</th><td>2</td><td>10/28/08</td><td>US</td><td>F</td><td>45</td><td>3</td><td>5</td><td>2</td><td>5</td><td>5</td><td>20</td><td>4.0</td><td>Young</td></tr>\n",
              "\t<tr><th scope=row>3</th><td>3</td><td>10/1/08 </td><td>UK</td><td>F</td><td>25</td><td>3</td><td>5</td><td>5</td><td>5</td><td>2</td><td>20</td><td>4.0</td><td>Young</td></tr>\n",
              "</tbody>\n",
              "</table>\n"
            ],
            "text/markdown": "\nA data.frame: 3 × 13\n\n| <!--/--> | manager &lt;dbl&gt; | testDate &lt;chr&gt; | country &lt;chr&gt; | gender &lt;chr&gt; | age &lt;dbl&gt; | item1 &lt;dbl&gt; | item2 &lt;dbl&gt; | item3 &lt;dbl&gt; | item4 &lt;dbl&gt; | item5 &lt;dbl&gt; | total_score &lt;dbl&gt; | mean_score &lt;dbl&gt; | agecat &lt;chr&gt; |\n|---|---|---|---|---|---|---|---|---|---|---|---|---|---|\n| 1 | 1 | 10/24/08 | US | M | 32 | 5 | 4 | 5 | 5 | 5 | 24 | 4.8 | Young |\n| 2 | 2 | 10/28/08 | US | F | 45 | 3 | 5 | 2 | 5 | 5 | 20 | 4.0 | Young |\n| 3 | 3 | 10/1/08  | UK | F | 25 | 3 | 5 | 5 | 5 | 2 | 20 | 4.0 | Young |\n\n",
            "text/latex": "A data.frame: 3 × 13\n\\begin{tabular}{r|lllllllllllll}\n  & manager & testDate & country & gender & age & item1 & item2 & item3 & item4 & item5 & total\\_score & mean\\_score & agecat\\\\\n  & <dbl> & <chr> & <chr> & <chr> & <dbl> & <dbl> & <dbl> & <dbl> & <dbl> & <dbl> & <dbl> & <dbl> & <chr>\\\\\n\\hline\n\t1 & 1 & 10/24/08 & US & M & 32 & 5 & 4 & 5 & 5 & 5 & 24 & 4.8 & Young\\\\\n\t2 & 2 & 10/28/08 & US & F & 45 & 3 & 5 & 2 & 5 & 5 & 20 & 4.0 & Young\\\\\n\t3 & 3 & 10/1/08  & UK & F & 25 & 3 & 5 & 5 & 5 & 2 & 20 & 4.0 & Young\\\\\n\\end{tabular}\n",
            "text/plain": [
              "  manager testDate country gender age item1 item2 item3 item4 item5 total_score\n",
              "1 1       10/24/08 US      M      32  5     4     5     5     5     24         \n",
              "2 2       10/28/08 US      F      45  3     5     2     5     5     20         \n",
              "3 3       10/1/08  UK      F      25  3     5     5     5     2     20         \n",
              "  mean_score agecat\n",
              "1 4.8        Young \n",
              "2 4.0        Young \n",
              "3 4.0        Young "
            ]
          },
          "metadata": {}
        }
      ]
    },
    {
      "cell_type": "markdown",
      "source": [
        "## Календарные даты\n",
        "\n",
        "В R даты обычно вводятся в виде текстовых строк, а затем преобразуются в формат даты и хранятся в числовом виде. Для этого преобразования используется функция `as.Date()`, имеющая следующий синтаксис:\n",
        "\n",
        "`as.Date(x, \"input_format\")`\n",
        "\n",
        "где x – это дата в текстовом формате, а input_format определяет\n",
        "формат представления даты:\n",
        "* %d - День месяца в виде числа (01–31)\n",
        "* %a - Сокращенное название дня недели\n",
        "* %A - Полное название дня недели\n",
        "* %m - Порядковый номер месяца (01–12)\n",
        "* %b - Сокращенное название месяца\n",
        "* %B - Полное название месяца\n",
        "* %y - Две последние цифры года\n",
        "* %Y - Все четыре цифры года\n",
        "\n",
        "Функция `Sys.Date()` возвращает текущую дату, а функция `date()` – текущие дату и время.\n",
        "\n",
        "Для вывода дат в заданном формате и извлечения отдельных компонентов можно использовать функцию `format(x, format=\"output_ format\")`\n",
        "\n",
        "\n"
      ],
      "metadata": {
        "id": "DLuo0gmk4eZ7"
      }
    },
    {
      "cell_type": "code",
      "source": [
        "# По умолчанию даты вводятся в формате yyyy-mm-dd («год-месяц-день»)\n",
        "mydates <- as.Date(c(\"2007-06-22\", \"2004-02-13\")) # преобразует текстовые данные в даты, используя этот формат по умолчанию.\n",
        "mydates"
      ],
      "metadata": {
        "id": "rR0otE_tYFYy",
        "outputId": "2390209d-74eb-4035-a56f-2da199ba1922",
        "colab": {
          "base_uri": "https://localhost:8080/",
          "height": 34
        }
      },
      "execution_count": 16,
      "outputs": [
        {
          "output_type": "display_data",
          "data": {
            "text/html": [
              "<style>\n",
              ".list-inline {list-style: none; margin:0; padding: 0}\n",
              ".list-inline>li {display: inline-block}\n",
              ".list-inline>li:not(:last-child)::after {content: \"\\00b7\"; padding: 0 .5ex}\n",
              "</style>\n",
              "<ol class=list-inline><li><time datetime=\"2007-06-22\">2007-06-22</time></li><li><time datetime=\"2004-02-13\">2004-02-13</time></li></ol>\n"
            ],
            "text/markdown": "1. 2007-06-22\n2. 2004-02-13\n\n\n",
            "text/latex": "\\begin{enumerate*}\n\\item 2007-06-22\n\\item 2004-02-13\n\\end{enumerate*}\n",
            "text/plain": [
              "[1] \"2007-06-22\" \"2004-02-13\""
            ]
          },
          "metadata": {}
        }
      ]
    },
    {
      "cell_type": "code",
      "source": [
        "# В отличие от нее, следующая инструкция:\n",
        "strDates <- c(\"01/05/1965\", \"08/16/1975\")\n",
        "dates <- as.Date(strDates, \"%m/%d/%Y\") # читает даты в формате mm/dd/yyyy («месяц/день/год»).\n",
        "dates"
      ],
      "metadata": {
        "id": "pULjk-7Ujawh",
        "outputId": "cfcc23a8-5a5e-4e98-f692-bebd98d7059b",
        "colab": {
          "base_uri": "https://localhost:8080/",
          "height": 34
        }
      },
      "execution_count": 17,
      "outputs": [
        {
          "output_type": "display_data",
          "data": {
            "text/html": [
              "<style>\n",
              ".list-inline {list-style: none; margin:0; padding: 0}\n",
              ".list-inline>li {display: inline-block}\n",
              ".list-inline>li:not(:last-child)::after {content: \"\\00b7\"; padding: 0 .5ex}\n",
              "</style>\n",
              "<ol class=list-inline><li><time datetime=\"1965-01-05\">1965-01-05</time></li><li><time datetime=\"1975-08-16\">1975-08-16</time></li></ol>\n"
            ],
            "text/markdown": "1. 1965-01-05\n2. 1975-08-16\n\n\n",
            "text/latex": "\\begin{enumerate*}\n\\item 1965-01-05\n\\item 1975-08-16\n\\end{enumerate*}\n",
            "text/plain": [
              "[1] \"1965-01-05\" \"1975-08-16\""
            ]
          },
          "metadata": {}
        }
      ]
    },
    {
      "cell_type": "code",
      "source": [
        "leadership"
      ],
      "metadata": {
        "id": "cHPsyBu0k28a",
        "outputId": "027f7ad6-1702-42ce-9ee9-fc649fabdbde",
        "colab": {
          "base_uri": "https://localhost:8080/",
          "height": 255
        }
      },
      "execution_count": 18,
      "outputs": [
        {
          "output_type": "display_data",
          "data": {
            "text/html": [
              "<table class=\"dataframe\">\n",
              "<caption>A data.frame: 5 × 13</caption>\n",
              "<thead>\n",
              "\t<tr><th scope=col>manager</th><th scope=col>testDate</th><th scope=col>country</th><th scope=col>gender</th><th scope=col>age</th><th scope=col>item1</th><th scope=col>item2</th><th scope=col>item3</th><th scope=col>item4</th><th scope=col>item5</th><th scope=col>total_score</th><th scope=col>mean_score</th><th scope=col>agecat</th></tr>\n",
              "\t<tr><th scope=col>&lt;dbl&gt;</th><th scope=col>&lt;chr&gt;</th><th scope=col>&lt;chr&gt;</th><th scope=col>&lt;chr&gt;</th><th scope=col>&lt;dbl&gt;</th><th scope=col>&lt;dbl&gt;</th><th scope=col>&lt;dbl&gt;</th><th scope=col>&lt;dbl&gt;</th><th scope=col>&lt;dbl&gt;</th><th scope=col>&lt;dbl&gt;</th><th scope=col>&lt;dbl&gt;</th><th scope=col>&lt;dbl&gt;</th><th scope=col>&lt;chr&gt;</th></tr>\n",
              "</thead>\n",
              "<tbody>\n",
              "\t<tr><td>1</td><td>10/24/08</td><td>US</td><td>M</td><td>32</td><td>5</td><td>4</td><td>5</td><td> 5</td><td> 5</td><td>24</td><td>4.8</td><td>Young</td></tr>\n",
              "\t<tr><td>2</td><td>10/28/08</td><td>US</td><td>F</td><td>45</td><td>3</td><td>5</td><td>2</td><td> 5</td><td> 5</td><td>20</td><td>4.0</td><td>Young</td></tr>\n",
              "\t<tr><td>3</td><td>10/1/08 </td><td>UK</td><td>F</td><td>25</td><td>3</td><td>5</td><td>5</td><td> 5</td><td> 2</td><td>20</td><td>4.0</td><td>Young</td></tr>\n",
              "\t<tr><td>4</td><td>10/12/08</td><td>UK</td><td>M</td><td>39</td><td>3</td><td>3</td><td>4</td><td>NA</td><td>NA</td><td>NA</td><td> NA</td><td>Young</td></tr>\n",
              "\t<tr><td>5</td><td>5/1/09  </td><td>UK</td><td>F</td><td>NA</td><td>2</td><td>2</td><td>1</td><td> 2</td><td> 1</td><td> 8</td><td>1.6</td><td>NA   </td></tr>\n",
              "</tbody>\n",
              "</table>\n"
            ],
            "text/markdown": "\nA data.frame: 5 × 13\n\n| manager &lt;dbl&gt; | testDate &lt;chr&gt; | country &lt;chr&gt; | gender &lt;chr&gt; | age &lt;dbl&gt; | item1 &lt;dbl&gt; | item2 &lt;dbl&gt; | item3 &lt;dbl&gt; | item4 &lt;dbl&gt; | item5 &lt;dbl&gt; | total_score &lt;dbl&gt; | mean_score &lt;dbl&gt; | agecat &lt;chr&gt; |\n|---|---|---|---|---|---|---|---|---|---|---|---|---|\n| 1 | 10/24/08 | US | M | 32 | 5 | 4 | 5 |  5 |  5 | 24 | 4.8 | Young |\n| 2 | 10/28/08 | US | F | 45 | 3 | 5 | 2 |  5 |  5 | 20 | 4.0 | Young |\n| 3 | 10/1/08  | UK | F | 25 | 3 | 5 | 5 |  5 |  2 | 20 | 4.0 | Young |\n| 4 | 10/12/08 | UK | M | 39 | 3 | 3 | 4 | NA | NA | NA |  NA | Young |\n| 5 | 5/1/09   | UK | F | NA | 2 | 2 | 1 |  2 |  1 |  8 | 1.6 | NA    |\n\n",
            "text/latex": "A data.frame: 5 × 13\n\\begin{tabular}{lllllllllllll}\n manager & testDate & country & gender & age & item1 & item2 & item3 & item4 & item5 & total\\_score & mean\\_score & agecat\\\\\n <dbl> & <chr> & <chr> & <chr> & <dbl> & <dbl> & <dbl> & <dbl> & <dbl> & <dbl> & <dbl> & <dbl> & <chr>\\\\\n\\hline\n\t 1 & 10/24/08 & US & M & 32 & 5 & 4 & 5 &  5 &  5 & 24 & 4.8 & Young\\\\\n\t 2 & 10/28/08 & US & F & 45 & 3 & 5 & 2 &  5 &  5 & 20 & 4.0 & Young\\\\\n\t 3 & 10/1/08  & UK & F & 25 & 3 & 5 & 5 &  5 &  2 & 20 & 4.0 & Young\\\\\n\t 4 & 10/12/08 & UK & M & 39 & 3 & 3 & 4 & NA & NA & NA &  NA & Young\\\\\n\t 5 & 5/1/09   & UK & F & NA & 2 & 2 & 1 &  2 &  1 &  8 & 1.6 & NA   \\\\\n\\end{tabular}\n",
            "text/plain": [
              "  manager testDate country gender age item1 item2 item3 item4 item5 total_score\n",
              "1 1       10/24/08 US      M      32  5     4     5      5     5    24         \n",
              "2 2       10/28/08 US      F      45  3     5     2      5     5    20         \n",
              "3 3       10/1/08  UK      F      25  3     5     5      5     2    20         \n",
              "4 4       10/12/08 UK      M      39  3     3     4     NA    NA    NA         \n",
              "5 5       5/1/09   UK      F      NA  2     2     1      2     1     8         \n",
              "  mean_score agecat\n",
              "1 4.8        Young \n",
              "2 4.0        Young \n",
              "3 4.0        Young \n",
              "4  NA        Young \n",
              "5 1.6        NA    "
            ]
          },
          "metadata": {}
        }
      ]
    },
    {
      "cell_type": "code",
      "source": [
        "# В нашем наборе данных leadership даты представлены в формате mm/dd/yy. Поэтому в инструкциях\n",
        "myformat <- \"%m/%d/%y\"\n",
        "leadership$testDate <- as.Date(leadership$testDate, myformat) # используется нестандартный формат, позволяющий прочитать текстовую\n",
        "                                                      # переменную и преобразовать ее в столбец, содержащий календарные даты.\n",
        "leadership"
      ],
      "metadata": {
        "id": "8PzzAu8fkRSn",
        "outputId": "a398fb9d-830c-4c64-fa45-b5362e887246",
        "colab": {
          "base_uri": "https://localhost:8080/",
          "height": 255
        }
      },
      "execution_count": 19,
      "outputs": [
        {
          "output_type": "display_data",
          "data": {
            "text/html": [
              "<table class=\"dataframe\">\n",
              "<caption>A data.frame: 5 × 13</caption>\n",
              "<thead>\n",
              "\t<tr><th scope=col>manager</th><th scope=col>testDate</th><th scope=col>country</th><th scope=col>gender</th><th scope=col>age</th><th scope=col>item1</th><th scope=col>item2</th><th scope=col>item3</th><th scope=col>item4</th><th scope=col>item5</th><th scope=col>total_score</th><th scope=col>mean_score</th><th scope=col>agecat</th></tr>\n",
              "\t<tr><th scope=col>&lt;dbl&gt;</th><th scope=col>&lt;date&gt;</th><th scope=col>&lt;chr&gt;</th><th scope=col>&lt;chr&gt;</th><th scope=col>&lt;dbl&gt;</th><th scope=col>&lt;dbl&gt;</th><th scope=col>&lt;dbl&gt;</th><th scope=col>&lt;dbl&gt;</th><th scope=col>&lt;dbl&gt;</th><th scope=col>&lt;dbl&gt;</th><th scope=col>&lt;dbl&gt;</th><th scope=col>&lt;dbl&gt;</th><th scope=col>&lt;chr&gt;</th></tr>\n",
              "</thead>\n",
              "<tbody>\n",
              "\t<tr><td>1</td><td>2008-10-24</td><td>US</td><td>M</td><td>32</td><td>5</td><td>4</td><td>5</td><td> 5</td><td> 5</td><td>24</td><td>4.8</td><td>Young</td></tr>\n",
              "\t<tr><td>2</td><td>2008-10-28</td><td>US</td><td>F</td><td>45</td><td>3</td><td>5</td><td>2</td><td> 5</td><td> 5</td><td>20</td><td>4.0</td><td>Young</td></tr>\n",
              "\t<tr><td>3</td><td>2008-10-01</td><td>UK</td><td>F</td><td>25</td><td>3</td><td>5</td><td>5</td><td> 5</td><td> 2</td><td>20</td><td>4.0</td><td>Young</td></tr>\n",
              "\t<tr><td>4</td><td>2008-10-12</td><td>UK</td><td>M</td><td>39</td><td>3</td><td>3</td><td>4</td><td>NA</td><td>NA</td><td>NA</td><td> NA</td><td>Young</td></tr>\n",
              "\t<tr><td>5</td><td>2009-05-01</td><td>UK</td><td>F</td><td>NA</td><td>2</td><td>2</td><td>1</td><td> 2</td><td> 1</td><td> 8</td><td>1.6</td><td>NA   </td></tr>\n",
              "</tbody>\n",
              "</table>\n"
            ],
            "text/markdown": "\nA data.frame: 5 × 13\n\n| manager &lt;dbl&gt; | testDate &lt;date&gt; | country &lt;chr&gt; | gender &lt;chr&gt; | age &lt;dbl&gt; | item1 &lt;dbl&gt; | item2 &lt;dbl&gt; | item3 &lt;dbl&gt; | item4 &lt;dbl&gt; | item5 &lt;dbl&gt; | total_score &lt;dbl&gt; | mean_score &lt;dbl&gt; | agecat &lt;chr&gt; |\n|---|---|---|---|---|---|---|---|---|---|---|---|---|\n| 1 | 2008-10-24 | US | M | 32 | 5 | 4 | 5 |  5 |  5 | 24 | 4.8 | Young |\n| 2 | 2008-10-28 | US | F | 45 | 3 | 5 | 2 |  5 |  5 | 20 | 4.0 | Young |\n| 3 | 2008-10-01 | UK | F | 25 | 3 | 5 | 5 |  5 |  2 | 20 | 4.0 | Young |\n| 4 | 2008-10-12 | UK | M | 39 | 3 | 3 | 4 | NA | NA | NA |  NA | Young |\n| 5 | 2009-05-01 | UK | F | NA | 2 | 2 | 1 |  2 |  1 |  8 | 1.6 | NA    |\n\n",
            "text/latex": "A data.frame: 5 × 13\n\\begin{tabular}{lllllllllllll}\n manager & testDate & country & gender & age & item1 & item2 & item3 & item4 & item5 & total\\_score & mean\\_score & agecat\\\\\n <dbl> & <date> & <chr> & <chr> & <dbl> & <dbl> & <dbl> & <dbl> & <dbl> & <dbl> & <dbl> & <dbl> & <chr>\\\\\n\\hline\n\t 1 & 2008-10-24 & US & M & 32 & 5 & 4 & 5 &  5 &  5 & 24 & 4.8 & Young\\\\\n\t 2 & 2008-10-28 & US & F & 45 & 3 & 5 & 2 &  5 &  5 & 20 & 4.0 & Young\\\\\n\t 3 & 2008-10-01 & UK & F & 25 & 3 & 5 & 5 &  5 &  2 & 20 & 4.0 & Young\\\\\n\t 4 & 2008-10-12 & UK & M & 39 & 3 & 3 & 4 & NA & NA & NA &  NA & Young\\\\\n\t 5 & 2009-05-01 & UK & F & NA & 2 & 2 & 1 &  2 &  1 &  8 & 1.6 & NA   \\\\\n\\end{tabular}\n",
            "text/plain": [
              "  manager testDate   country gender age item1 item2 item3 item4 item5\n",
              "1 1       2008-10-24 US      M      32  5     4     5      5     5   \n",
              "2 2       2008-10-28 US      F      45  3     5     2      5     5   \n",
              "3 3       2008-10-01 UK      F      25  3     5     5      5     2   \n",
              "4 4       2008-10-12 UK      M      39  3     3     4     NA    NA   \n",
              "5 5       2009-05-01 UK      F      NA  2     2     1      2     1   \n",
              "  total_score mean_score agecat\n",
              "1 24          4.8        Young \n",
              "2 20          4.0        Young \n",
              "3 20          4.0        Young \n",
              "4 NA           NA        Young \n",
              "5  8          1.6        NA    "
            ]
          },
          "metadata": {}
        }
      ]
    },
    {
      "cell_type": "code",
      "source": [
        "Sys.Date()\n",
        "date()"
      ],
      "metadata": {
        "id": "87_IndNslarZ",
        "outputId": "587ba20d-ddfe-4160-f4b8-6597e4dbdbcf",
        "colab": {
          "base_uri": "https://localhost:8080/",
          "height": 52
        }
      },
      "execution_count": 20,
      "outputs": [
        {
          "output_type": "display_data",
          "data": {
            "text/html": [
              "<time datetime=\"2024-06-04\">2024-06-04</time>"
            ],
            "text/markdown": "2024-06-04",
            "text/latex": "2024-06-04",
            "text/plain": [
              "[1] \"2024-06-04\""
            ]
          },
          "metadata": {}
        },
        {
          "output_type": "display_data",
          "data": {
            "text/html": [
              "<span style=white-space:pre-wrap>'Tue Jun  4 13:51:26 2024'</span>"
            ],
            "text/markdown": "<span style=white-space:pre-wrap>'Tue Jun  4 13:51:26 2024'</span>",
            "text/latex": "'Tue Jun  4 13:51:26 2024'",
            "text/plain": [
              "[1] \"Tue Jun  4 13:51:26 2024\""
            ]
          },
          "metadata": {}
        }
      ]
    },
    {
      "cell_type": "code",
      "source": [
        "today <- Sys.Date()\n",
        "format(today, format=\"%B %d %Y\")\n",
        "format(today, format=\"%A\")"
      ],
      "metadata": {
        "id": "pOxWxp8AQ7Wc",
        "outputId": "99c5e7c0-64c9-4318-c1c8-c309eee75673",
        "colab": {
          "base_uri": "https://localhost:8080/",
          "height": 52
        }
      },
      "execution_count": 21,
      "outputs": [
        {
          "output_type": "display_data",
          "data": {
            "text/html": [
              "'June 04 2024'"
            ],
            "text/markdown": "'June 04 2024'",
            "text/latex": "'June 04 2024'",
            "text/plain": [
              "[1] \"June 04 2024\""
            ]
          },
          "metadata": {}
        },
        {
          "output_type": "display_data",
          "data": {
            "text/html": [
              "'Tuesday'"
            ],
            "text/markdown": "'Tuesday'",
            "text/latex": "'Tuesday'",
            "text/plain": [
              "[1] \"Tuesday\""
            ]
          },
          "metadata": {}
        }
      ]
    },
    {
      "cell_type": "code",
      "source": [
        "# С датами можно производить арефметические действия\n",
        "startdate <- as.Date(\"2020-02-13\")\n",
        "enddate <- as.Date(\"2021-01-22\")\n",
        "days <- enddate - startdate\n",
        "days"
      ],
      "metadata": {
        "id": "TRZdnaiXheH3",
        "outputId": "d5faead2-3201-4df2-c7c3-1164d323a270",
        "colab": {
          "base_uri": "https://localhost:8080/",
          "height": 34
        }
      },
      "execution_count": 22,
      "outputs": [
        {
          "output_type": "display_data",
          "data": {
            "text/plain": [
              "Time difference of 344 days"
            ]
          },
          "metadata": {}
        }
      ]
    },
    {
      "cell_type": "code",
      "source": [
        "today <- Sys.Date()\n",
        "dob <- as.Date(\"1956-10-12\")\n",
        "difftime(today, dob, units=\"weeks\")"
      ],
      "metadata": {
        "id": "736Dut-6h3TG",
        "outputId": "9462f506-7e5d-47b9-fe6d-8a07d65069e0",
        "colab": {
          "base_uri": "https://localhost:8080/",
          "height": 34
        }
      },
      "execution_count": 23,
      "outputs": [
        {
          "output_type": "display_data",
          "data": {
            "text/plain": [
              "Time difference of 3529.571 weeks"
            ]
          },
          "metadata": {}
        }
      ]
    },
    {
      "cell_type": "markdown",
      "source": [
        "# Преобразование дат в текстовые переменные\n",
        "Также есть возможность преобразовать данные в формате даты и времени в текстовые значения, хотя это бывает нужно не так часто. Это можно сделать при помощи функции `as.character()`:\n",
        "\n",
        "`strDates <- as.character(dates)`\n",
        "\n",
        "Это позволяет применять к датам многие текстовые функции (разделение на подгруппы, замена, конкатенация и т. д.)."
      ],
      "metadata": {
        "id": "4Y6-TFH-pTWP"
      }
    },
    {
      "cell_type": "markdown",
      "source": [
        "### Дополнительно\n",
        "Чтобы узнать больше о преобразовании текстовых переменных в даты, загляните в справку `help(as.Date)` и `help(strftime)`. Также дополнительную информацию о форматах даты и времени можно найти в `help(ISOdatetime)`. Пакет lubridate содержит множество функций, упрощающих работу с датами, в том числе функции, обнаруживающие данные в формате даты и времени и извлекающие отдельные составляющие таких данных (например, годы, месяцы, дни и т. д.), а также выполняющие арифметические операции с ними. Если вам нужно произвести сложные вычисления с датами, воспользуйтесь пакетом fCalendar. В нем содержится несметное число функций для работы с датами. Эти функции позволяют одновременно работать с несколькими часовыми поясами и совершать сложные операции с календарем, распознавая рабочие, выходные и праздничные дни."
      ],
      "metadata": {
        "id": "9vwq1svsriR5"
      }
    },
    {
      "cell_type": "markdown",
      "source": [
        "## Преобразование данных из одного типа в другой\n",
        "Функции:\n",
        "* `is.тип_данных()` - возвращают TRUE или FALSE,\n",
        "* `as.тип_данных()` - преобразуют данные в соответствующий формат.\n",
        "\n",
        "\n",
        "---\n",
        "* is.numeric() ----------- as.numeric()\n",
        "* is.character() --------- as.character()\n",
        "* is.vector() -------------- as.vector()\n",
        "* is.matrix() -------------- as.matrix()\n",
        "* is.data.frame() ------- as.data.frame()\n",
        "* is.factor() --------------- as.factor()\n",
        "* is.logical() -------------- as.logical()\n",
        "\n"
      ],
      "metadata": {
        "id": "JJRU9-2GwiVQ"
      }
    },
    {
      "cell_type": "markdown",
      "source": [
        "# Ввод данных с клавиатуры\n",
        "1.Создается пустая таблица или матрица\n",
        "2.Открывается текстовый редактор (функция $edit()$)"
      ],
      "metadata": {
        "id": "O7h8Vel7oKVU"
      }
    },
    {
      "cell_type": "code",
      "source": [
        "mydata <- data.frame(age=numeric(0), gender=character(0), weight=numeric())\n",
        "mydata\n",
        "# mydata <- edit(mydata)"
      ],
      "metadata": {
        "id": "u1x81iKxo0Hu",
        "outputId": "a1b0b087-6b5b-43b6-e83e-b87c7eb949a0",
        "colab": {
          "base_uri": "https://localhost:8080/",
          "height": 98
        }
      },
      "execution_count": null,
      "outputs": [
        {
          "output_type": "display_data",
          "data": {
            "text/html": [
              "<table class=\"dataframe\">\n",
              "<caption>A data.frame: 0 × 3</caption>\n",
              "<thead>\n",
              "\t<tr><th scope=col>age</th><th scope=col>gender</th><th scope=col>weight</th></tr>\n",
              "\t<tr><th scope=col>&lt;dbl&gt;</th><th scope=col>&lt;chr&gt;</th><th scope=col>&lt;dbl&gt;</th></tr>\n",
              "</thead>\n",
              "<tbody>\n",
              "</tbody>\n",
              "</table>\n"
            ],
            "text/markdown": "\nA data.frame: 0 × 3\n\n| age &lt;dbl&gt; | gender &lt;chr&gt; | weight &lt;dbl&gt; |\n|---|---|---|\n\n",
            "text/latex": "A data.frame: 0 × 3\n\\begin{tabular}{lll}\n age & gender & weight\\\\\n <dbl> & <chr> & <dbl>\\\\\n\\hline\n\\end{tabular}\n",
            "text/plain": [
              "     age gender weight"
            ]
          },
          "metadata": {}
        }
      ]
    },
    {
      "cell_type": "code",
      "source": [
        "# fix(mydata)"
      ],
      "metadata": {
        "id": "CAacsOJeptH1"
      },
      "execution_count": null,
      "outputs": []
    },
    {
      "cell_type": "code",
      "source": [
        "mydatatxt <- \"\n",
        "age gender weight\n",
        "25 m 166\n",
        "30 f 115\n",
        "18 f 120\n",
        "\"\n",
        "mydata <- read.table(header = TRUE, text = mydatatxt)\n",
        "mydata"
      ],
      "metadata": {
        "id": "vOPtJTensVYI",
        "outputId": "3cdae700-ac08-447a-8b49-f59bf18e20d8",
        "colab": {
          "base_uri": "https://localhost:8080/",
          "height": 192
        }
      },
      "execution_count": null,
      "outputs": [
        {
          "output_type": "display_data",
          "data": {
            "text/html": [
              "<table class=\"dataframe\">\n",
              "<caption>A data.frame: 3 × 3</caption>\n",
              "<thead>\n",
              "\t<tr><th scope=col>age</th><th scope=col>gender</th><th scope=col>weight</th></tr>\n",
              "\t<tr><th scope=col>&lt;int&gt;</th><th scope=col>&lt;chr&gt;</th><th scope=col>&lt;int&gt;</th></tr>\n",
              "</thead>\n",
              "<tbody>\n",
              "\t<tr><td>25</td><td>m</td><td>166</td></tr>\n",
              "\t<tr><td>30</td><td>f</td><td>115</td></tr>\n",
              "\t<tr><td>18</td><td>f</td><td>120</td></tr>\n",
              "</tbody>\n",
              "</table>\n"
            ],
            "text/markdown": "\nA data.frame: 3 × 3\n\n| age &lt;int&gt; | gender &lt;chr&gt; | weight &lt;int&gt; |\n|---|---|---|\n| 25 | m | 166 |\n| 30 | f | 115 |\n| 18 | f | 120 |\n\n",
            "text/latex": "A data.frame: 3 × 3\n\\begin{tabular}{lll}\n age & gender & weight\\\\\n <int> & <chr> & <int>\\\\\n\\hline\n\t 25 & m & 166\\\\\n\t 30 & f & 115\\\\\n\t 18 & f & 120\\\\\n\\end{tabular}\n",
            "text/plain": [
              "  age gender weight\n",
              "1 25  m      166   \n",
              "2 30  f      115   \n",
              "3 18  f      120   "
            ]
          },
          "metadata": {}
        }
      ]
    },
    {
      "cell_type": "markdown",
      "source": [
        "# Импорт данных из текстового файла с разделителями\n",
        "\n",
        "$mydataframe <- read.table(file, options)$\n",
        "\n",
        ", где $file$ - текстовый файл ASCII, с разделителями,\n",
        "\n",
        "$options$ - список параметров:\n",
        "\n",
        "* $header$ - Логическое значение, указывающее содержит ли файл имена переменных в первой строке;\n",
        "* $sep$ - Определяет разделитель между ячейками.\n",
        "\n",
        " По умолчанию: $sep=\"пробел\"$.\n",
        "\n",
        " Для импорта из CSV -> $sep=\"пробел\"$\n",
        "\n",
        " Для импорта из TSV -> $sep=\"\\t\"$\n",
        "* $row.names$ - Необязательный параметр, определяющий одну или несколько переменных, представляющих идентефикаторы строк.\n",
        "* $col.names$ - Если первая строка в файле не содержит имен переменных ($header=FALSE$), то можно передать параметр $col.names$ определяющий текстовый вектор с именами переменных. Есл $header=FALSE$ и параметр $col.names$ не задан, то переменные получат имена V1, V2 и т.д.\n",
        "* $na.strings$ - Необязательный текстовый вектор, определяющий значения, которые должны интерпретироваться как отсутствующие значения. Например, $na.strings=c(\"9\", \"?\")$ преобразует все значения 9 и ? в $NA$.\n",
        "* $colClasses$ - Необязательный вектор классов, назначаемых столбцам. Например, передать параметр $colClasses = C(\"numeric\", \"numeric\", \"character\", \"NULL\", \"numeric\")$ то функция $read.table()$ прочитает первые два столбца как числовые, третий столбец как текстовый, пропустит четвертый столбец и прочитает пятый столбец как числовой. Если данных больше пяти столбцов, то параметр $colClasses$ будет использован повторно\n",
        "* $quote$ - Символ(ы), используемый(е) для ограничения строк, содержащих специальные символы. Обычно в этом параметре передается двойная (\") или одинарная (') кавычка\n",
        "* $skip$ - Количество строк в файле, которые нужно пропустить перед началом чтения (коментарии к файлу)\n",
        "* $stringAsFactors$ - Логическое значение, указывающее на необходимость преобразования текстовых переменных в факторы. При импорте больших текстовых файлов $stringAsFactors = FALSE$ может значительно ускорить обработку.\n",
        "* $text$ - Текстовая строка для импорта. Если передан парамер $text$, то параметр $file$ можно опустить\n"
      ],
      "metadata": {
        "id": "keDnDgR_WpHE"
      }
    },
    {
      "cell_type": "code",
      "source": [
        "grades <- read.table(\"/content/studentgrades.csv\", header=TRUE, row.names = \"StudentID\", sep = \",\")\n",
        "grades\n",
        "str(grades)"
      ],
      "metadata": {
        "id": "KiLeKkA2Q7in",
        "outputId": "a9dfb4b5-b672-46b0-d9dc-bd25d0ab4481",
        "colab": {
          "base_uri": "https://localhost:8080/",
          "height": 362
        }
      },
      "execution_count": null,
      "outputs": [
        {
          "output_type": "stream",
          "name": "stderr",
          "text": [
            "Warning message in read.table(\"/content/studentgrades.csv\", header = TRUE, row.names = \"StudentID\", :\n",
            "“incomplete final line found by readTableHeader on '/content/studentgrades.csv'”\n"
          ]
        },
        {
          "output_type": "display_data",
          "data": {
            "text/html": [
              "<table class=\"dataframe\">\n",
              "<caption>A data.frame: 4 × 5</caption>\n",
              "<thead>\n",
              "\t<tr><th></th><th scope=col>First</th><th scope=col>Last</th><th scope=col>Math</th><th scope=col>Science</th><th scope=col>Social.Studies</th></tr>\n",
              "\t<tr><th></th><th scope=col>&lt;chr&gt;</th><th scope=col>&lt;chr&gt;</th><th scope=col>&lt;int&gt;</th><th scope=col>&lt;int&gt;</th><th scope=col>&lt;int&gt;</th></tr>\n",
              "</thead>\n",
              "<tbody>\n",
              "\t<tr><th scope=row>11</th><td>Bob </td><td>Smith        </td><td>90</td><td>80</td><td>67</td></tr>\n",
              "\t<tr><th scope=row>12</th><td>Jane</td><td>Weary        </td><td>75</td><td>NA</td><td>80</td></tr>\n",
              "\t<tr><th scope=row>10</th><td>Dan </td><td>Thornton, III</td><td>65</td><td>75</td><td>70</td></tr>\n",
              "\t<tr><th scope=row>40</th><td>Mary</td><td>O'Leary      </td><td>90</td><td>95</td><td>92</td></tr>\n",
              "</tbody>\n",
              "</table>\n"
            ],
            "text/markdown": "\nA data.frame: 4 × 5\n\n| <!--/--> | First &lt;chr&gt; | Last &lt;chr&gt; | Math &lt;int&gt; | Science &lt;int&gt; | Social.Studies &lt;int&gt; |\n|---|---|---|---|---|---|\n| 11 | Bob  | Smith         | 90 | 80 | 67 |\n| 12 | Jane | Weary         | 75 | NA | 80 |\n| 10 | Dan  | Thornton, III | 65 | 75 | 70 |\n| 40 | Mary | O'Leary       | 90 | 95 | 92 |\n\n",
            "text/latex": "A data.frame: 4 × 5\n\\begin{tabular}{r|lllll}\n  & First & Last & Math & Science & Social.Studies\\\\\n  & <chr> & <chr> & <int> & <int> & <int>\\\\\n\\hline\n\t11 & Bob  & Smith         & 90 & 80 & 67\\\\\n\t12 & Jane & Weary         & 75 & NA & 80\\\\\n\t10 & Dan  & Thornton, III & 65 & 75 & 70\\\\\n\t40 & Mary & O'Leary       & 90 & 95 & 92\\\\\n\\end{tabular}\n",
            "text/plain": [
              "   First Last          Math Science Social.Studies\n",
              "11 Bob   Smith         90   80      67            \n",
              "12 Jane  Weary         75   NA      80            \n",
              "10 Dan   Thornton, III 65   75      70            \n",
              "40 Mary  O'Leary       90   95      92            "
            ]
          },
          "metadata": {}
        },
        {
          "output_type": "stream",
          "name": "stdout",
          "text": [
            "'data.frame':\t4 obs. of  5 variables:\n",
            " $ First         : chr  \"Bob\" \"Jane\" \"Dan\" \"Mary\"\n",
            " $ Last          : chr  \"Smith\" \"Weary\" \"Thornton, III\" \"O'Leary\"\n",
            " $ Math          : int  90 75 65 90\n",
            " $ Science       : int  80 NA 75 95\n",
            " $ Social.Studies: int  67 80 70 92\n"
          ]
        }
      ]
    },
    {
      "cell_type": "code",
      "source": [
        "# Импортируем те же данные, указав класс для каждой переменной\n",
        "gades <- read.table(\"/content/studentgrades.csv\",\n",
        " header = TRUE, row.names = \"StudentID\", sep = \",\",\n",
        " colClasses = c(\"character\", \"character\", \"character\", \"numeric\", \"numeric\", \"numeric\") )\n",
        "gades\n",
        "str(gades)"
      ],
      "metadata": {
        "id": "Q_EyEAIBSTTZ",
        "outputId": "cebdaa5c-b4f7-4e44-8195-aa2390a93846",
        "colab": {
          "base_uri": "https://localhost:8080/",
          "height": 362
        }
      },
      "execution_count": null,
      "outputs": [
        {
          "output_type": "stream",
          "name": "stderr",
          "text": [
            "Warning message in read.table(\"/content/studentgrades.csv\", header = TRUE, row.names = \"StudentID\", :\n",
            "“incomplete final line found by readTableHeader on '/content/studentgrades.csv'”\n"
          ]
        },
        {
          "output_type": "display_data",
          "data": {
            "text/html": [
              "<table class=\"dataframe\">\n",
              "<caption>A data.frame: 4 × 5</caption>\n",
              "<thead>\n",
              "\t<tr><th></th><th scope=col>First</th><th scope=col>Last</th><th scope=col>Math</th><th scope=col>Science</th><th scope=col>Social.Studies</th></tr>\n",
              "\t<tr><th></th><th scope=col>&lt;chr&gt;</th><th scope=col>&lt;chr&gt;</th><th scope=col>&lt;dbl&gt;</th><th scope=col>&lt;dbl&gt;</th><th scope=col>&lt;dbl&gt;</th></tr>\n",
              "</thead>\n",
              "<tbody>\n",
              "\t<tr><th scope=row>011</th><td>Bob </td><td>Smith        </td><td>90</td><td>80</td><td>67</td></tr>\n",
              "\t<tr><th scope=row>012</th><td>Jane</td><td>Weary        </td><td>75</td><td>NA</td><td>80</td></tr>\n",
              "\t<tr><th scope=row>010</th><td>Dan </td><td>Thornton, III</td><td>65</td><td>75</td><td>70</td></tr>\n",
              "\t<tr><th scope=row>040</th><td>Mary</td><td>O'Leary      </td><td>90</td><td>95</td><td>92</td></tr>\n",
              "</tbody>\n",
              "</table>\n"
            ],
            "text/markdown": "\nA data.frame: 4 × 5\n\n| <!--/--> | First &lt;chr&gt; | Last &lt;chr&gt; | Math &lt;dbl&gt; | Science &lt;dbl&gt; | Social.Studies &lt;dbl&gt; |\n|---|---|---|---|---|---|\n| 011 | Bob  | Smith         | 90 | 80 | 67 |\n| 012 | Jane | Weary         | 75 | NA | 80 |\n| 010 | Dan  | Thornton, III | 65 | 75 | 70 |\n| 040 | Mary | O'Leary       | 90 | 95 | 92 |\n\n",
            "text/latex": "A data.frame: 4 × 5\n\\begin{tabular}{r|lllll}\n  & First & Last & Math & Science & Social.Studies\\\\\n  & <chr> & <chr> & <dbl> & <dbl> & <dbl>\\\\\n\\hline\n\t011 & Bob  & Smith         & 90 & 80 & 67\\\\\n\t012 & Jane & Weary         & 75 & NA & 80\\\\\n\t010 & Dan  & Thornton, III & 65 & 75 & 70\\\\\n\t040 & Mary & O'Leary       & 90 & 95 & 92\\\\\n\\end{tabular}\n",
            "text/plain": [
              "    First Last          Math Science Social.Studies\n",
              "011 Bob   Smith         90   80      67            \n",
              "012 Jane  Weary         75   NA      80            \n",
              "010 Dan   Thornton, III 65   75      70            \n",
              "040 Mary  O'Leary       90   95      92            "
            ]
          },
          "metadata": {}
        },
        {
          "output_type": "stream",
          "name": "stdout",
          "text": [
            "'data.frame':\t4 obs. of  5 variables:\n",
            " $ First         : chr  \"Bob\" \"Jane\" \"Dan\" \"Mary\"\n",
            " $ Last          : chr  \"Smith\" \"Weary\" \"Thornton, III\" \"O'Leary\"\n",
            " $ Math          : num  90 75 65 90\n",
            " $ Science       : num  80 NA 75 95\n",
            " $ Social.Studies: num  67 80 70 92\n"
          ]
        }
      ]
    },
    {
      "cell_type": "markdown",
      "source": [
        "# Импорт данных через соединения\n",
        "\n",
        "Вместо имени файла можно использовать функции:\n",
        "* $file()$\n",
        "* $gzfile()$\n",
        "* $bzfile()$\n",
        "* $xzfile()$\n",
        "* $unz()$\n",
        "* $url()$\n",
        "\n",
        "Подробности $help(file)$"
      ],
      "metadata": {
        "id": "cbogHDFoy7z7"
      }
    },
    {
      "cell_type": "markdown",
      "source": [
        "# Дополнительные функции чтения данных\n",
        "\n",
        "Это функции \"обертки\", которые вызывают $read.table()$ со своими параметрами\n",
        "\n",
        "* $read.csv()$ - $header = TRUE$ и $sep = \",\"$\n",
        "* $read.delim()$ - $header = TRUE$ и $sep = \"\\t\"$"
      ],
      "metadata": {
        "id": "DuutKQt40WAB"
      }
    },
    {
      "cell_type": "code",
      "source": [
        "grades <- read.csv(\"/content/studentgrades.csv\")\n",
        "grades"
      ],
      "metadata": {
        "id": "PeNdgFB21vBS",
        "outputId": "218c7de9-1a23-465e-d656-3772d7675504",
        "colab": {
          "base_uri": "https://localhost:8080/",
          "height": 258
        }
      },
      "execution_count": null,
      "outputs": [
        {
          "output_type": "stream",
          "name": "stderr",
          "text": [
            "Warning message in read.table(file = file, header = header, sep = sep, quote = quote, :\n",
            "“incomplete final line found by readTableHeader on '/content/studentgrades.csv'”\n"
          ]
        },
        {
          "output_type": "display_data",
          "data": {
            "text/html": [
              "<table class=\"dataframe\">\n",
              "<caption>A data.frame: 4 × 6</caption>\n",
              "<thead>\n",
              "\t<tr><th scope=col>StudentID</th><th scope=col>First</th><th scope=col>Last</th><th scope=col>Math</th><th scope=col>Science</th><th scope=col>Social.Studies</th></tr>\n",
              "\t<tr><th scope=col>&lt;int&gt;</th><th scope=col>&lt;chr&gt;</th><th scope=col>&lt;chr&gt;</th><th scope=col>&lt;int&gt;</th><th scope=col>&lt;int&gt;</th><th scope=col>&lt;int&gt;</th></tr>\n",
              "</thead>\n",
              "<tbody>\n",
              "\t<tr><td>11</td><td>Bob </td><td>Smith        </td><td>90</td><td>80</td><td>67</td></tr>\n",
              "\t<tr><td>12</td><td>Jane</td><td>Weary        </td><td>75</td><td>NA</td><td>80</td></tr>\n",
              "\t<tr><td>10</td><td>Dan </td><td>Thornton, III</td><td>65</td><td>75</td><td>70</td></tr>\n",
              "\t<tr><td>40</td><td>Mary</td><td>O'Leary      </td><td>90</td><td>95</td><td>92</td></tr>\n",
              "</tbody>\n",
              "</table>\n"
            ],
            "text/markdown": "\nA data.frame: 4 × 6\n\n| StudentID &lt;int&gt; | First &lt;chr&gt; | Last &lt;chr&gt; | Math &lt;int&gt; | Science &lt;int&gt; | Social.Studies &lt;int&gt; |\n|---|---|---|---|---|---|\n| 11 | Bob  | Smith         | 90 | 80 | 67 |\n| 12 | Jane | Weary         | 75 | NA | 80 |\n| 10 | Dan  | Thornton, III | 65 | 75 | 70 |\n| 40 | Mary | O'Leary       | 90 | 95 | 92 |\n\n",
            "text/latex": "A data.frame: 4 × 6\n\\begin{tabular}{llllll}\n StudentID & First & Last & Math & Science & Social.Studies\\\\\n <int> & <chr> & <chr> & <int> & <int> & <int>\\\\\n\\hline\n\t 11 & Bob  & Smith         & 90 & 80 & 67\\\\\n\t 12 & Jane & Weary         & 75 & NA & 80\\\\\n\t 10 & Dan  & Thornton, III & 65 & 75 & 70\\\\\n\t 40 & Mary & O'Leary       & 90 & 95 & 92\\\\\n\\end{tabular}\n",
            "text/plain": [
              "  StudentID First Last          Math Science Social.Studies\n",
              "1 11        Bob   Smith         90   80      67            \n",
              "2 12        Jane  Weary         75   NA      80            \n",
              "3 10        Dan   Thornton, III 65   75      70            \n",
              "4 40        Mary  O'Leary       90   95      92            "
            ]
          },
          "metadata": {}
        }
      ]
    },
    {
      "cell_type": "markdown",
      "source": [
        "# Импорт данных из Excel\n",
        "\n",
        "Лучший способ импортировать файл в формате Excel – предварительно сохранить его в формате текстового файла с разделителями\n",
        "и только потом импортировать, как описано выше. Также файлы\n",
        "Excel можно импортировать с помощью пакета $readxl$.\n",
        "\n",
        "Пакет $readxl$ можно использовать для чтения файлов Excel\n",
        "в форматах $.xls$ и $.xlsx$. Функция $read\\_excel()$ импортирует рабо-\n",
        "чий лист в таблицу данных в виде усовершенствованной таблицы\n",
        "tibble. Самый простой вариант вызова – $read\\_excel(file, n)$, где $file$ определяет путь к книге Excel, а $n$ – номер импортируемой таблицы, в которой первая строка содержит имена переменных. Например:\n",
        "$$library(readxl)$$\n",
        "$$workbook <- \"c:/myworkbook.xlsx\"$$\n",
        "$$mydataframe <- read\\_xlsx(workbook, 1)$$\n",
        "импортирует первый лист из книги $myworkbook.xlsx$, хранящейся на\n",
        "диске C:, и сохранит его в виде таблицы данных mydataframe.\n",
        "Функция $read\\_excel()$ принимает параметры, позволяющие задать определенный диапазон ячеек (например, $range = \"Mysheet!B2:G14\"$) вместе с классом каждого столбца ($col\\_types$).\n",
        "Подробности ищите в $help(read\\_excel)$.\n",
        "В числе других пакетов, которые могут помочь в работе с фай-\n",
        "лами Excel, можно назвать: $xlsx$, $XLConnect$ и $openxlsx$. Пакеты $xlsx$ и $XLConnect$ требуют наличия установленной среды выполнения\n",
        "Java на компьютере, а $openxlsx$ – нет. В отличие от $readxl$, эти па-\n",
        "кеты могут не только импортировать листы, но также создавать\n",
        "файлы Excel и управлять ими. Программистам, разрабатывающим\n",
        "интерфейс между R и Excel, следует внимательно изучить один или\n",
        "несколько из этих пакетов."
      ],
      "metadata": {
        "id": "JWsWBQKX2IbE"
      }
    },
    {
      "cell_type": "code",
      "source": [
        "library(readxl)\n",
        "workbook <- \"c:/myworkbook.xlsx\"\n",
        "mydataframe <- read_xlsx(workbook,1)"
      ],
      "metadata": {
        "id": "mnBz1-jeL0M0"
      },
      "execution_count": null,
      "outputs": []
    },
    {
      "cell_type": "markdown",
      "source": [
        "# Импорт данных из JSON-файлов\n",
        "\n",
        "В последнее время все чаще данные распространяются в виде файлов в формате JSON (JavaScript Object Notation – форма записи\n",
        "объектов JavaScript). В R есть несколько пакетов для работы с такими файлами. Например, пакет jsonlite позволяет читать, писать\n",
        "и преобразовывать объекты JSON. Данные в формате JSON можно\n",
        "импортировать непосредственно в таблицы данных R. Обсуждение этого формата выходит за рамки нашей книги. Заинтересованным в работе с JSON-файлами я рекомендую обратиться к прекрасной справочной документации с описанием пакета jsonlite на сайте https://cran.r-project.org/web/packages/jsonlite/."
      ],
      "metadata": {
        "id": "lR9X1-uBMHKx"
      }
    },
    {
      "cell_type": "markdown",
      "source": [
        "# Извлечение данных из веб страниц\n",
        "\n",
        "Данные из интернета можно получить методом веб-скраппинга (web-scrapping) или с использованием прикладных программных интерфейсов (Application Programming Interfaces, API). Вебскраппинг обычно используется для извлечения информации, находящейся внутри веб-страниц, тогда как API позволяют взаимодействовать с веб-службами и удаленными хранилищами данных.\n",
        "\n",
        "При извлечении данных из интернета методом веб-скраппинга пользователи обычно сохраняют их в виде объектов R для дальнейшего анализа. Например, при помощи функции readLines() можно извлечь текст из веб-страницы и дальше работать с ним, используя функции $grep()$ и $gsub()$.\n",
        "\n",
        "Пакет rvest предлагает функции, упрощающие извлечение данных из веб-страниц. Он был создан по образу и подобию библиотеки Beautiful Soup для Python. Для извлечения информации из сложно устроенных веб-страниц можно также использовать пакеты RCurl и XML. Более полную информацию, включая примеры, можно найти в руководстве «Examples of Web Scraping with R» на сайте ProgrammingR (http://www.programmingr.com/).\n",
        "\n",
        "Прикладные интерфейсы API определяют порядок взаимодействий программных компонентов друг с другом. В R имеется несколько пакетов, использующих такой подход для извлечения данных из веб-ресурсов, служащих источниками данных по биологии, медицине, науках о Земле, физических науках, экономике, финансах, литературе, маркетингу и т. д.\n",
        "\n",
        "Например, интересующиеся социальными сетями могут получить доступ к данным в Twitter через twitteR, в Facebook через Rfacebook и в Flickr через Rflickr. Также есть пакеты для доступа к популярным веб-службам Google, Amazon, Dropbox, Salesforce и др. Полный список пакетов для доступа к веб-ресурсам вы найдете в статье «CRAN Task View: Web Technologies and Services» (http://mng.bz/370r)."
      ],
      "metadata": {
        "id": "Gz3DXH39Nuuv"
      }
    },
    {
      "cell_type": "markdown",
      "source": [
        "# Импорт данных из SPSS\n",
        "\n",
        "Наборы данных в формате IBM SPSS можно импортировать в R при помощи функции $read_spss()$ из пакета haven. Сначала нужно скачать и установить пакет:\n",
        "\n",
        "$install.packages(\"haven\")$\n",
        "\n",
        "\n",
        "и затем выполнить следующий код:\n",
        "\n",
        "$library(haven)$\n",
        "\n",
        "$mydataframe <- read\\_spss(\"mydata.sav\")$\n",
        "\n",
        "Набор данных будет импортирован в усовершенствованную таблицу данных (tibble), а переменным, содержащим метки импортированных значений SPSS, будет назначен класс labelled. Эти переменные класса labelled можно преобразовать в факторы, используя следующий код:\n",
        "\n",
        "$labelled_vars <- names(mydataframe)[sapply(mydataframe, is.labelled)]$\n",
        "\n",
        "$for (vars in labelled\\_vars)${\n",
        "\n",
        "$mydataframe[[vars]] = as\\_factor(mydataframe[[vars]])$\n",
        "\n",
        "}\n",
        "\n",
        "Пакет haven имеет ряд дополнительных функций для чтения\n",
        "файлов SPSS в сжатом ($.zsav$) или транспортном ($.por$) формате."
      ],
      "metadata": {
        "id": "JSu6mpuPRyZd"
      }
    },
    {
      "cell_type": "markdown",
      "source": [
        "# Импорт данных из SAS\n",
        "\n",
        "Наборы данных SAS можно импортировать с помощью функции $read_sas()$ из пакета haven. После установки пакета данные можно импортировать, как показано ниже:\n",
        "\n",
        "$library(haven)$\n",
        "\n",
        "$mydataframe <- read\\_sas(\"mydata.sas7bdat\")$\n",
        "\n",
        "Если у вас есть и каталог форматов переменных, их также можно импортировать и применять к данным, например:\n",
        "\n",
        "$mydataframe <- read\\_sas(\"mydata.sas7bdat\",$\n",
        "\n",
        "$catalog\\_file = \"mydata.sas7bcat\")$\n",
        "\n",
        "В любом случае результатом будет усовершенствованная таблица\n",
        "данных tibble.\n",
        "Имеется также коммерческий продукт Stat/Transfer (описанный в разделе 2.3.10), отлично справляющийся с импортом наборов данных из SAS (включая любые существующие форматы переменных) в виде таблиц данных R."
      ],
      "metadata": {
        "id": "Askz4lvFTV_Y"
      }
    },
    {
      "cell_type": "markdown",
      "source": [
        "# Импорт данных из Stata\n",
        "\n",
        "Импортировать данные из Stata в R очень просто:\n",
        "\n",
        "$library(haven)$\n",
        "\n",
        "$mydataframe <- read\\_dta(\"mydata.dta\")$\n",
        "\n",
        "Здесь $mydata.dta$ – это набор данных Stata, а mydataframe – это итоговая таблица данных R в формате усовершенствованной таблицы\n",
        "tibble."
      ],
      "metadata": {
        "id": "mgdzo1YXT8v4"
      }
    },
    {
      "cell_type": "markdown",
      "source": [
        "# Импорт из баз данных\n",
        "\n",
        "R может взаимодействовать с самыми разными базами данных,включая Microsoft SQL Server, Microsoft Access, MySQL, Oracle, PostgreSQL,\n",
        "DB2, Sybase, Teradata и SQLite. Некоторые пакеты предоставляют доступ через оригинальные драйверы баз данных, тогда как другие обеспечивают доступ к данным через ODBC (Open Database Connectivity interface – открытый интерфейс взаимодействия с базами данных) или JDBC (Java Database Connectivity interface – Java-интерфейс взаимодействия с базами данных). Поддержка в R доступа к данным, хранящимся во внешних базах данных, позволяет эффективно обрабатывать большие наборы данных (см. приложение F), используя мощные возможности обоих языков, SQL и R.\n"
      ],
      "metadata": {
        "id": "06HJiEt8rtKV"
      }
    },
    {
      "cell_type": "markdown",
      "source": [
        "## Интерфейс ODBC\n",
        "\n",
        "Самый, пожалуй, популярный способ доступа к базам данных в R – с использованием пакета RODBC, позволяющий подключиться к любой базе данных, для которой имеется драйвер ODBC. К таким базам данных относятся все перечисленные выше.\n",
        "\n",
        "Первый шаг – установка и настройка драйвера ODBC для конкретной операционной системы и базы данных, поскольку они не являются частью R. Если нужные драйверы у вас еще не установлены, их можно найти в интернете (хорошей отправной точкой может стать статья «Setting up ODBC Drivers», доступная по адресу: https://db.rstudio.com/best-practices/drivers/).\n",
        "\n",
        "После установки и настройки драйверов установите пакет RODBC, выполнив инструкцию install.packages(\"RODBC\").\n",
        "\n",
        "Основные функции, предлагаемые этим пакетом, перечислены ниже:\n",
        "* $odbcConnect(dsn, uid=\"\", pwd=\"\")$ - Открывает соединение с базой данных ODBC.\n",
        "* $sqlFetch(channel, sqltable)$ - Читает таблицу из базы данных ODBC в таблицу данных в R.\n",
        "* $sqlQuery(channel,query)$ - Посылает запрос в базу данных ODBC и возвращает результаты.\n",
        "* $sqlSave(channel, mydf, tablename = sqltable, append=FALSE)$ - Сохраняет или обновляет (append=TRUE) таблицу данных в виде таблицы в базе данных ODBC.\n",
        "* $sqlDrop(channel, sqltable)$ - Удаляет таблицу из базы данных ODBC.\n",
        "* $close(channel)$ - Закрывает соединение.\n",
        "\n",
        "Пакет RODBC устанавливает двустороннее соединение между R и базой данных SQL, что позволяет не только загружать данные в R, но и изменять содержимое базы данных из программы на R. Представьте, что вам нужно импортировать две таблицы (Crime – преступление и Punishment – наказание) из БД в таблицы данных R с именами $crimedat$ и $pundat$ соответственно. Это можно сделать так:\n",
        "\n",
        "$library(RODBC)$\n",
        "\n",
        "$myconn <-odbcConnect(\"mydsn\", uid=\"Rob\", pwd=\"aardvark\")$\n",
        "\n",
        "$crimedat <- sqlFetch(myconn, Crime)$\n",
        "\n",
        "$pundat <- sqlQuery(myconn, \"select * from Punishment\")$\n",
        "\n",
        "&close(myconn)$\n",
        "\n",
        "Этот код загружает пакет RODBC и открывает соединение с базой данных ODBC через зарегистрированное имя источника данных (mydsn) с дентификатором пользователя UID (rob) и паролем (aardvark). Объект соединения передается в функцию sqlFetch, которая импортирует содержимое таблицы Crime в таблицу данных crimedat. Затем выполняется SQL-запрос select, извлекающий данные из таблицы Punishment, и эти данные сохраняются в таблице данных pundat. В заключение соединение закрывается.\n",
        "\n",
        "Функция $sqlQuery()$ открывает массу возможностей, позволяя выполнить любой действительный SQL-запрос. Эта гибкость дает возможность извлекать отдельные переменные и подмножества данных, создавать новые переменные, а также перекодировать и переименовывать существующие переменные.\n"
      ],
      "metadata": {
        "id": "m_SAS9r4uUev"
      }
    },
    {
      "cell_type": "markdown",
      "source": [
        "## Пакеты, связанные с DBI\n",
        "\n",
        "Пакет DBI – универсальный и последовательный пользовательский интерфейс для доступа к базам данных. Созданный на его основе фреймворк RJDBC позволяет получить доступ к БД через драйвер JDBC. Не забудьте перед его использованием установить драйверы JDBC для соответствующей операционной системы и базы данных. В числе других полезных пакетов, основанных на DBI, можно назвать: RMySQL, ROracle, RPostgreSQL и RSQLite. Эти пакеты содержат также оригинальные драйверы для конкретных баз данных, однако они могут работать не во всех операционных системах. Ознакомьтесь с документацией на CRAN (http://cran.r-project.org), чтобы узнать подробности."
      ],
      "metadata": {
        "id": "lgFbVmXpzpYj"
      }
    },
    {
      "cell_type": "markdown",
      "source": [
        "# Импорт данных при помощи Stat/Transfer\n",
        "\n",
        "Прежде чем закончить обсуждение импорта данных, стоит упомянуть коммерческий продукт, способный значительно упростить импорт данных.Stat/Transfer (https://www.stattransfer.com/) – это самостоятельная программа, которая может преобразовывать данные в любой из 34 форматов, включая R."
      ],
      "metadata": {
        "id": "8HR-jesm0Gfa"
      }
    },
    {
      "cell_type": "markdown",
      "source": [
        "# Аннотирование наборов данных\n",
        "\n",
        "Исследователи обычно аннотируют свои наборы данных, чтобы упростить интерпретацию результатов. Аннотирование, как правило, заключается в добавлении поясняющих подписей (меток) к именам переменных и кодам данных, используемым в категориальных переменных. Например, переменную age можно снабдить пояснительной подписью \"Age at hospitalization (in years)\" («Возраст в момент госпитализации (в годах)»). А коды значений 1 и 2 для переменной gender – подписями \"male\" (мужской) и \"female\"\n",
        "(женский)."
      ],
      "metadata": {
        "id": "rOrsH4cq0s9B"
      }
    },
    {
      "cell_type": "markdown",
      "source": [
        "## Подписи для переменных\n",
        "\n",
        "К сожалению, R имеет довольно ограниченные возможности для работы с подписями для переменных. Один из подходов: оформить подпись в виде имени переменной, а в операциях ссылаться на нее по ее индексу. Вернемся к предыдущему примеру с данными о пациентах. Во втором столбце, age, хранится возраст пациентов, в котором они попали в больницу. Инструкция\n",
        "\n",
        "$names(patientdata)[2] <- \"Age at hospitalization (in years)\"$\n",
        "\n",
        "переименует age в \"Age at hospitalization (in years)\". Конечно, это новое название слишком длинное, чтобы писать его в программах по многу раз. Вместо этого на переменную можно ссылаться как patientdata[2], при этом в выводе будет отображаться ее полное имя \"Age at hospitalization (in years)\". Конечно, это не идеальное решение, и, возможно, разумнее остановиться на более простом имени (например, admissionAge)."
      ],
      "metadata": {
        "id": "NEafiQSP1UZ9"
      }
    },
    {
      "cell_type": "markdown",
      "source": [
        "## Подписи для значений переменных\n",
        "\n",
        "Функция $factor()$ позволяет добавлять подписи к значениям категориальных переменных. Продолжим наш пример и предположим, что у нас есть переменная gender, в которой значение «мужской пол» закодировано как 1, а «женский пол» – как 2. Подписи к значениям этой переменной можно создать так:\n",
        "\n",
        "$patientdata$gender <- factor(patientdata$gender,$\n",
        "\n",
        "$levels = c(1,2),$\n",
        "\n",
        "$labels = c(\"male\", \"female\"))$\n",
        "\n",
        "Здесь параметр $levels$ определяет фактические значения перемен-\n",
        "ной, а $labels$ – текстовый вектор с соответствующими подписями."
      ],
      "metadata": {
        "id": "oUVoA1RW19zU"
      }
    }
  ]
}